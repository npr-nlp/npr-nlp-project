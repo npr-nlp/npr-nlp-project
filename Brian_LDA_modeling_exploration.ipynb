{
 "cells": [
  {
   "cell_type": "code",
   "execution_count": 1,
   "id": "cb0e0d55",
   "metadata": {},
   "outputs": [],
   "source": [
    "# Import all the things\n",
    "\n",
    "import json\n",
    "import pandas as pd\n",
    "import numpy as np\n",
    "import wrangle\n",
    "import acquire\n",
    "from prepare import basic_clean, tokenize, lemmatize, stem, remove_stopwords, prep_string_data#, split_data\n",
    "\n",
    "import re\n",
    "from sklearn.feature_extraction.text import TfidfVectorizer\n",
    "\n",
    "from wordcloud import WordCloud\n",
    "from matplotlib import pyplot as plt\n",
    "import seaborn as sns\n",
    "\n",
    "from sklearn.model_selection import train_test_split\n",
    "from sklearn.linear_model import LogisticRegression\n",
    "from sklearn.metrics import classification_report, accuracy_score\n",
    "\n",
    "import nltk\n",
    "\n",
    "from scipy import stats\n",
    "\n",
    "import warnings\n",
    "warnings.filterwarnings(\"ignore\")"
   ]
  },
  {
   "cell_type": "code",
   "execution_count": 2,
   "id": "365b1883",
   "metadata": {},
   "outputs": [],
   "source": [
    "# use our own wrangle to get the data\n",
    "# df = wrangle.get_npr_data()\n",
    "# df.head()"
   ]
  },
  {
   "cell_type": "markdown",
   "id": "892ef9d3",
   "metadata": {},
   "source": [
    "### I'm interested in topic modeling on a story-level basis\n",
    "### So I will need to groupby story_id_num"
   ]
  },
  {
   "cell_type": "code",
   "execution_count": 3,
   "id": "e0cf495e",
   "metadata": {
    "scrolled": true
   },
   "outputs": [],
   "source": [
    "# df = df.sort_values(by=['story_id_num','utterance_order'])\n",
    "# df.head()"
   ]
  },
  {
   "cell_type": "code",
   "execution_count": 4,
   "id": "7d215116",
   "metadata": {},
   "outputs": [],
   "source": [
    "# df = df[['story_id_num','utterance_order','title','lemmatized']]"
   ]
  },
  {
   "cell_type": "code",
   "execution_count": 5,
   "id": "ddd4d712",
   "metadata": {},
   "outputs": [],
   "source": [
    "# df_sample = df[:100]\n",
    "# df_sample"
   ]
  },
  {
   "cell_type": "code",
   "execution_count": 6,
   "id": "d5517083",
   "metadata": {
    "scrolled": true
   },
   "outputs": [],
   "source": [
    "# df_sample.shape"
   ]
  },
  {
   "cell_type": "code",
   "execution_count": 7,
   "id": "f1ade311",
   "metadata": {
    "scrolled": true
   },
   "outputs": [],
   "source": [
    "# pd.DataFrame(df_sample.groupby('title').apply(list).reset_index())"
   ]
  },
  {
   "cell_type": "code",
   "execution_count": 8,
   "id": "7064a562",
   "metadata": {},
   "outputs": [],
   "source": [
    "# df_sample.groupby(['story_id_num']).title.first()"
   ]
  },
  {
   "cell_type": "code",
   "execution_count": 9,
   "id": "69a9d3cf",
   "metadata": {},
   "outputs": [],
   "source": [
    "# # group every story as an aggregation of all its utterances\n",
    "# df_sample.groupby(['story_id_num']).lemmatized.agg(' '.join)#.iloc[0]"
   ]
  },
  {
   "cell_type": "code",
   "execution_count": 10,
   "id": "2ce18eb1",
   "metadata": {},
   "outputs": [],
   "source": [
    "# # group every story as an aggregation of all its utterances and store in a DF\n",
    "# stories_test = pd.DataFrame(df_sample.groupby(['story_id_num']).lemmatized.agg(' '.join))\n",
    "# stories_test"
   ]
  },
  {
   "cell_type": "code",
   "execution_count": 11,
   "id": "fe331e27",
   "metadata": {},
   "outputs": [],
   "source": [
    "# stories.iloc[0].values"
   ]
  },
  {
   "cell_type": "markdown",
   "id": "68931099",
   "metadata": {},
   "source": [
    "### Run the above on the whole df"
   ]
  },
  {
   "cell_type": "code",
   "execution_count": 12,
   "id": "ae116654",
   "metadata": {},
   "outputs": [],
   "source": [
    "# df = df.sort_values(by=['story_id_num','utterance_order'])\n",
    "# df.head()"
   ]
  },
  {
   "cell_type": "code",
   "execution_count": 13,
   "id": "d50ef53b",
   "metadata": {
    "scrolled": true
   },
   "outputs": [],
   "source": [
    "# df.dtypes"
   ]
  },
  {
   "cell_type": "code",
   "execution_count": 14,
   "id": "bc48e435",
   "metadata": {},
   "outputs": [],
   "source": [
    "# df.isna().sum()"
   ]
  },
  {
   "cell_type": "code",
   "execution_count": 15,
   "id": "c48a30ca",
   "metadata": {},
   "outputs": [],
   "source": [
    "# df = df.dropna()"
   ]
  },
  {
   "cell_type": "markdown",
   "id": "6afe59d5",
   "metadata": {},
   "source": [
    "#### well...it worked on the sample above\n",
    "#### had to drop 2 nulls that existed in the lemmatized column"
   ]
  },
  {
   "cell_type": "code",
   "execution_count": 16,
   "id": "37b7c426",
   "metadata": {},
   "outputs": [],
   "source": [
    "# # group every story as an aggregation of all its utterances and store in a DF\n",
    "# stories = pd.DataFrame(df.groupby(['story_id_num']).lemmatized.agg(' '.join))\n",
    "# stories"
   ]
  },
  {
   "cell_type": "markdown",
   "id": "3ff7768b",
   "metadata": {},
   "source": [
    "-  61,165 stories to work with here"
   ]
  },
  {
   "cell_type": "code",
   "execution_count": 17,
   "id": "b7d9290f",
   "metadata": {},
   "outputs": [],
   "source": [
    "# this attempt to get the word count for every story isn't working currently\n",
    "# stories['word_count'] = df.lemmatized.apply(str.split).apply(len)\n",
    "# stories.head()"
   ]
  },
  {
   "cell_type": "code",
   "execution_count": 18,
   "id": "99f31e49",
   "metadata": {},
   "outputs": [],
   "source": [
    "# sia = nltk.sentiment.SentimentIntensityAnalyzer()\n",
    "# stories['vader'] = stories.lemmatized.apply(lambda doc: sia.polarity_scores(doc)['compound'])\n",
    "# stories.head()"
   ]
  },
  {
   "cell_type": "code",
   "execution_count": 19,
   "id": "be6abbae",
   "metadata": {},
   "outputs": [],
   "source": [
    "# stories.to_csv('stories.csv')"
   ]
  },
  {
   "cell_type": "code",
   "execution_count": 20,
   "id": "f7c86142",
   "metadata": {},
   "outputs": [
    {
     "data": {
      "text/html": [
       "<div>\n",
       "<style scoped>\n",
       "    .dataframe tbody tr th:only-of-type {\n",
       "        vertical-align: middle;\n",
       "    }\n",
       "\n",
       "    .dataframe tbody tr th {\n",
       "        vertical-align: top;\n",
       "    }\n",
       "\n",
       "    .dataframe thead th {\n",
       "        text-align: right;\n",
       "    }\n",
       "</style>\n",
       "<table border=\"1\" class=\"dataframe\">\n",
       "  <thead>\n",
       "    <tr style=\"text-align: right;\">\n",
       "      <th></th>\n",
       "      <th>Unnamed: 0</th>\n",
       "      <th>story_id_num</th>\n",
       "      <th>lemmatized</th>\n",
       "      <th>vader</th>\n",
       "      <th>title</th>\n",
       "    </tr>\n",
       "  </thead>\n",
       "  <tbody>\n",
       "    <tr>\n",
       "      <th>0</th>\n",
       "      <td>0</td>\n",
       "      <td>17</td>\n",
       "      <td>he is in cahoot with a foreign government to m...</td>\n",
       "      <td>0.9964</td>\n",
       "      <td>n.j. democrat on reported whistleblower compla...</td>\n",
       "    </tr>\n",
       "    <tr>\n",
       "      <th>1</th>\n",
       "      <td>1</td>\n",
       "      <td>18</td>\n",
       "      <td>come with concrete plan , not beautiful speech...</td>\n",
       "      <td>0.9993</td>\n",
       "      <td>ahead of climate summit, 2 views from cities i...</td>\n",
       "    </tr>\n",
       "    <tr>\n",
       "      <th>2</th>\n",
       "      <td>2</td>\n",
       "      <td>19</td>\n",
       "      <td>if you stand outside the old dekalb county cou...</td>\n",
       "      <td>0.9974</td>\n",
       "      <td>barred from removing confederate monument, cou...</td>\n",
       "    </tr>\n",
       "    <tr>\n",
       "      <th>3</th>\n",
       "      <td>3</td>\n",
       "      <td>20</td>\n",
       "      <td>you may have spotted pink salt in your superma...</td>\n",
       "      <td>0.4950</td>\n",
       "      <td>pakistan's pink himalayan salt has become a ma...</td>\n",
       "    </tr>\n",
       "    <tr>\n",
       "      <th>4</th>\n",
       "      <td>4</td>\n",
       "      <td>21</td>\n",
       "      <td>singing in foreign language . the other day , ...</td>\n",
       "      <td>0.9730</td>\n",
       "      <td>10 years after haiti's earthquake, 'this music...</td>\n",
       "    </tr>\n",
       "  </tbody>\n",
       "</table>\n",
       "</div>"
      ],
      "text/plain": [
       "   Unnamed: 0  story_id_num  \\\n",
       "0           0            17   \n",
       "1           1            18   \n",
       "2           2            19   \n",
       "3           3            20   \n",
       "4           4            21   \n",
       "\n",
       "                                          lemmatized   vader  \\\n",
       "0  he is in cahoot with a foreign government to m...  0.9964   \n",
       "1  come with concrete plan , not beautiful speech...  0.9993   \n",
       "2  if you stand outside the old dekalb county cou...  0.9974   \n",
       "3  you may have spotted pink salt in your superma...  0.4950   \n",
       "4  singing in foreign language . the other day , ...  0.9730   \n",
       "\n",
       "                                               title  \n",
       "0  n.j. democrat on reported whistleblower compla...  \n",
       "1  ahead of climate summit, 2 views from cities i...  \n",
       "2  barred from removing confederate monument, cou...  \n",
       "3  pakistan's pink himalayan salt has become a ma...  \n",
       "4  10 years after haiti's earthquake, 'this music...  "
      ]
     },
     "execution_count": 20,
     "metadata": {},
     "output_type": "execute_result"
    }
   ],
   "source": [
    "stories = pd.read_csv('stories.csv')\n",
    "stories.head()"
   ]
  },
  {
   "cell_type": "code",
   "execution_count": 21,
   "id": "91333286",
   "metadata": {},
   "outputs": [],
   "source": [
    "stories = stories.drop(columns = ['Unnamed: 0'])"
   ]
  },
  {
   "cell_type": "code",
   "execution_count": 22,
   "id": "bdb3dab5",
   "metadata": {
    "scrolled": true
   },
   "outputs": [
    {
     "data": {
      "text/plain": [
       "(61165, 4)"
      ]
     },
     "execution_count": 22,
     "metadata": {},
     "output_type": "execute_result"
    }
   ],
   "source": [
    "stories.shape"
   ]
  },
  {
   "cell_type": "code",
   "execution_count": 23,
   "id": "46a20966",
   "metadata": {},
   "outputs": [
    {
     "ename": "NameError",
     "evalue": "name 'df' is not defined",
     "output_type": "error",
     "traceback": [
      "\u001b[0;31m---------------------------------------------------------------------------\u001b[0m",
      "\u001b[0;31mNameError\u001b[0m                                 Traceback (most recent call last)",
      "\u001b[0;32m<ipython-input-23-cdb4bc71265c>\u001b[0m in \u001b[0;36m<module>\u001b[0;34m\u001b[0m\n\u001b[0;32m----> 1\u001b[0;31m \u001b[0mlen\u001b[0m\u001b[0;34m(\u001b[0m\u001b[0mdf\u001b[0m\u001b[0;34m.\u001b[0m\u001b[0mgroupby\u001b[0m\u001b[0;34m(\u001b[0m\u001b[0;34m[\u001b[0m\u001b[0;34m'story_id_num'\u001b[0m\u001b[0;34m]\u001b[0m\u001b[0;34m)\u001b[0m\u001b[0;34m.\u001b[0m\u001b[0mtitle\u001b[0m\u001b[0;34m.\u001b[0m\u001b[0mfirst\u001b[0m\u001b[0;34m(\u001b[0m\u001b[0;34m)\u001b[0m\u001b[0;34m)\u001b[0m\u001b[0;34m\u001b[0m\u001b[0;34m\u001b[0m\u001b[0m\n\u001b[0m",
      "\u001b[0;31mNameError\u001b[0m: name 'df' is not defined"
     ]
    }
   ],
   "source": [
    "# len(df.groupby(['story_id_num']).title.first())"
   ]
  },
  {
   "cell_type": "code",
   "execution_count": 24,
   "id": "223123a4",
   "metadata": {},
   "outputs": [],
   "source": [
    "# stories['title'] = df.groupby(['story_id_num']).title.first().tolist()"
   ]
  },
  {
   "cell_type": "code",
   "execution_count": 25,
   "id": "6f17ac3e",
   "metadata": {},
   "outputs": [
    {
     "data": {
      "text/html": [
       "<div>\n",
       "<style scoped>\n",
       "    .dataframe tbody tr th:only-of-type {\n",
       "        vertical-align: middle;\n",
       "    }\n",
       "\n",
       "    .dataframe tbody tr th {\n",
       "        vertical-align: top;\n",
       "    }\n",
       "\n",
       "    .dataframe thead th {\n",
       "        text-align: right;\n",
       "    }\n",
       "</style>\n",
       "<table border=\"1\" class=\"dataframe\">\n",
       "  <thead>\n",
       "    <tr style=\"text-align: right;\">\n",
       "      <th></th>\n",
       "      <th>story_id_num</th>\n",
       "      <th>lemmatized</th>\n",
       "      <th>vader</th>\n",
       "      <th>title</th>\n",
       "    </tr>\n",
       "  </thead>\n",
       "  <tbody>\n",
       "    <tr>\n",
       "      <th>0</th>\n",
       "      <td>17</td>\n",
       "      <td>he is in cahoot with a foreign government to m...</td>\n",
       "      <td>0.9964</td>\n",
       "      <td>n.j. democrat on reported whistleblower compla...</td>\n",
       "    </tr>\n",
       "    <tr>\n",
       "      <th>1</th>\n",
       "      <td>18</td>\n",
       "      <td>come with concrete plan , not beautiful speech...</td>\n",
       "      <td>0.9993</td>\n",
       "      <td>ahead of climate summit, 2 views from cities i...</td>\n",
       "    </tr>\n",
       "    <tr>\n",
       "      <th>2</th>\n",
       "      <td>19</td>\n",
       "      <td>if you stand outside the old dekalb county cou...</td>\n",
       "      <td>0.9974</td>\n",
       "      <td>barred from removing confederate monument, cou...</td>\n",
       "    </tr>\n",
       "    <tr>\n",
       "      <th>3</th>\n",
       "      <td>20</td>\n",
       "      <td>you may have spotted pink salt in your superma...</td>\n",
       "      <td>0.4950</td>\n",
       "      <td>pakistan's pink himalayan salt has become a ma...</td>\n",
       "    </tr>\n",
       "    <tr>\n",
       "      <th>4</th>\n",
       "      <td>21</td>\n",
       "      <td>singing in foreign language . the other day , ...</td>\n",
       "      <td>0.9730</td>\n",
       "      <td>10 years after haiti's earthquake, 'this music...</td>\n",
       "    </tr>\n",
       "  </tbody>\n",
       "</table>\n",
       "</div>"
      ],
      "text/plain": [
       "   story_id_num                                         lemmatized   vader  \\\n",
       "0            17  he is in cahoot with a foreign government to m...  0.9964   \n",
       "1            18  come with concrete plan , not beautiful speech...  0.9993   \n",
       "2            19  if you stand outside the old dekalb county cou...  0.9974   \n",
       "3            20  you may have spotted pink salt in your superma...  0.4950   \n",
       "4            21  singing in foreign language . the other day , ...  0.9730   \n",
       "\n",
       "                                               title  \n",
       "0  n.j. democrat on reported whistleblower compla...  \n",
       "1  ahead of climate summit, 2 views from cities i...  \n",
       "2  barred from removing confederate monument, cou...  \n",
       "3  pakistan's pink himalayan salt has become a ma...  \n",
       "4  10 years after haiti's earthquake, 'this music...  "
      ]
     },
     "execution_count": 25,
     "metadata": {},
     "output_type": "execute_result"
    }
   ],
   "source": [
    "stories.head()"
   ]
  },
  {
   "cell_type": "code",
   "execution_count": 26,
   "id": "291e2c16",
   "metadata": {},
   "outputs": [],
   "source": [
    "# stories.to_csv('stories.csv')"
   ]
  },
  {
   "cell_type": "code",
   "execution_count": 27,
   "id": "3c03b052",
   "metadata": {},
   "outputs": [
    {
     "data": {
      "text/plain": [
       "39"
      ]
     },
     "execution_count": 27,
     "metadata": {},
     "output_type": "execute_result"
    }
   ],
   "source": [
    "stories.vader.idxmax()"
   ]
  },
  {
   "cell_type": "code",
   "execution_count": 29,
   "id": "cc26f5b8",
   "metadata": {},
   "outputs": [
    {
     "data": {
      "text/plain": [
       "'looking ahead to our last day , many of our friend and colleague have been faced with a dilemma. well , how do you say goodbye ? for many of u , finding the right word can be difficult. and when inspiration fails and panic set in , well , we often turn to the long rack of greeting cards. so we ve asked former hallmark greeting card writer and creator of the youtube series greeting card emergency david elli dickerson. he ll join u in a moment. but what s the best goodbye card you ever got ? 800 989 8255. email u talknpr.org. david elli dickerson , with u here in studio 42. nice to have you back on the program . it s a lovely to be back , neal . and i have to say , broadly speaking , there seemed to be two categories. hey , congratulation , you re moving on , or , oh , i m so sorry . right , right. there s the you got fired and , you know , we re not going to see you , or you re going back to school. you re following your dreams. right. yeah . exactly. when you left hallmark , did anybody sent you a card ? oh , of course. their card ... people buy the card a week in advance , it seems like. everyone know everything beforehand. i wa also thinking another event that happens a lot when people have to say goodbye are temporary gig , like television or theater or putting together something like that , camp. and so it s an interesting challenge , because so often , the farewell card you get are thing like , it wa great working with you. we ll see you again , you know , i m looking forward to but they all seemed to miss what i love best about this new world is that there s no goodbye , you know ? i m on a road tour right now , a cross country , and i m staying with friend i ve suddenly been able to stay in touch with , 10 , 15 , 20 years. there in a way , every goodbye is temporary. and i wa hoping to see more card that would that reflect that . have you seen any ? i don t shop at card store that much anymore ... oh , really ? ... because i m in my own head . in fact , most greeting card writer don t buy greeting cards. they write their own . they write their own ? yeah. but , you know , i do know that most card store go straight into the strike zone. you know , they want the most popular kind of card , and that s generally going to be business , you know , we re sorry to see you go . or flower on the cover , and ... exactly. yes . the nice thing well , i m going to say you know , there is that category , people who are gone forever ... yes . ... but they re not going to read anymore card . exactly , exactly. in a way , you can sort of miss on a card like that. you can say whatever you want , and it s not going to matter . that actually reminds me one of the card i had in mind when i wa thinking about a card for this , would a card that would say something like in this , you know , facebook era , you know , how can you ever really say goodbye ? and on the inside , it would say something like , but if you find out how , please let me know , because i ve got stuff i need to do . it s even weirder that radio , which you think of a this ephemeral medium , that , you know , you put it on the air , it go out. you wait for the review from alpha centauri . yeah . the fact is , all of this stuff is archived on the web. all of this stuff is going to be around forever . oh , my gosh. oh , my gosh. that s amazing. well , that wa the other because my mind went to a scientific mode , a well , and i wa thinking about the fact that oh , i had one idea that said something like matter cannot be created or destroyed. every particle in our body is immortal and will survive . it is a scientific fact we will meet again. and on inside it say we ll probably have doing job , though . that s a good one . yeah , thanks . yeah. i like that one. i like that one. let s go to linda , and linda s on the line with u from longmont in colorado . hi , there . hi , linda . hello . hi , neal. i ve been on four time , five including now , and i wanted to give you one of the best goodbye card ever and just to tell you that we love , love , love you , and we ll miss you. and npr s crazy for canceling the show . oh , well , thanks. that s very kind of you to say , linda , and we appreciate that . but come on , we re going to have to demand a little more creativity from our audience than that. you got to tell u the best card you ever got , or you can write one. all right ? thank you. we love you , bye . thanks very much , linda. this is from pat who is writing u from st. louis. when i wa 15 , i began working for my hometown newspaper. my job wa vacation rotation , so i worked in every department a people took their time off. on my rotation in the business department , i had what wa up to then my most embarrassing moment. when i shut the bathroom door , the doorknob fell off on both side , locking me in. the business manager and i had to match our respective knob to free me. oh , my. i wanted to die. when i left the department a couple of week later , they gave me a farewell card , thanking me for my work. the greeting said , we ll keep a night light on in the potty for you . oh , my. she go on to say totn folk , will miss you. best wish for your future endeavors. but that s very nice . oh , that s wonderful. yes. so that s something you couldn t write a card for even if you planned it ahead of time , you know ? and that s maybe why that specific card if you ve got somebody who s creative in your department , that s really the best way to go a opposed to , you know , going down for the pre printed material . oh , absolutely. i mean , i m a big fan , of course , of greeting card company and all of that. but nowadays , particularly in a kind of post paper society , the reason you send a card is a a keepsake , a a token , a something you put on the refrigerator , a something you keep on the mantle. and so you want it to be personal , something that resonates , and the best way to do that is with a personal touch , a personal joke like the knob. that s really funny , the night light . and there is the other interesting aspect of this. so much of this turn out to be in french . oh , really . yeah. bon voyage , adieu , au revoir . oh , right . a bientot . i hadn t thought about that. you re right. that s funny. the language of diplomacy is also the language of saying so long . well , maybe they re connected. this email from gretchen in oshkosh. goodbye doesn t mean you ll be forgotten. it mean you ll be missed . oh , nice . that s not too bad . that s very nice , yeah . let s see if we go next to this is ethan. ethan with u from new albany in indiana . hi , neal . go ahead , please . yeah. enjoy your show so much . thank you . whenever i i went out to school in northern california , and i got a card from a really good friend. and the card just had a single pine tree on it , covered in snow , and it said , when you re alone , remember that you re never really alone , except you are alone , so very alone . and it kind of perfectly encapsulated what you re talking about. it wa like , there are no real goodbyes. i assume you re not going to die , so come back and don t worry about it . i like that . so very alone . it s so wonderful. it s interesting , saying there s no goodbyes. a friend of mine , i remember , just the other day posted on facebook , saying she wa having a rough day. and 20 people immediately chimed in to cheer her up , and she said , my god , that actually worked . and to me , it s amazing what just a little bit of positivity and humor can do to help you get through something . amen to that . ethan , thanks very much . thank you very much . let s see. we go next to this is john , and john s on the line with u from redding in pennsylvania . neal , you re beautiful , man. i m just going to miss you so much . thank you . but , yeah , it s great to even get on the air. so for me , the idea wa , what can i or what have i heard that really motivated me to look at this in a positive way. because when you got when they took the show off the air , i got very resentful. and clint black wrote a song called leaving a better man. and the chorus is i m leaving here a better man , having known you this way. thing i couldn t do before , now i know i can , and i m leaving here a better man. and so the whole idea wa instead of focusing on the bitterness of being rejected because the woman he loved turned him away , he just focused on what it had meant to know the person and to and how his life had changed. and so i think the idea of focusing on what wa good about the relationship is the sentiment i really will take with me . country songwriter seem to have graduated from the hallmark school . it is. actually , i once actually did a lecture on that ... really ? ... for hallmark writer country song because , right , they re doing the same thing , the same kind of structure . hmm. interesting. john , thanks very much. can you give u an example ? oh , well , it s just that like , for example , if you look at this would ve been in the 90 , so you had there were two country western song about saying goodbye. and both of them made reference to the rearview mirror. one with the rearview mirror is torn off. i m never looking back. that wa jo dee messina. and then the other i m blanking on her name had one about how i m not going to look in the mirror. so the metaphor go together , but one wa up tempo , one wa slow tempo. and so you have unintelligible one wa major key , one a minor key . different way of doing the same thing , and that s what greeting card writer have to learn how to do. how do we tell the same story again ? again and again and again . let s see. we go to suzie. suzie is with u from wilmington in the one in north carolina . that s right. thanks for taking my call. i wa going to tell you about the greatest goodbye card ever. i received a framed bus ticket. i wa leaving my first real job out of college and moving to a new city. and my group of co worker bought a bus ticket from the new city back to my old city , and they framed it. they used all my nickname when they addressed it to me. and then at the bottom , it said , in case of emergency , break glass and come home . oh . oh. that s beautiful. oh , my goodness. how long were you with those people ? well , it wa a long time ago , but it wa i haven t worked for that company in over 20 year , and i wa with them for two year so ... wow . ... it wa quite a nice send off . after 10 year , did you get an sst ticket ? well , you know , time were different then. i could crawl back faster than i could take the bus now. but , you know , that s ok . i still am curious. what industry wa that that ha that many nice people in it ? well , it wa , a you said before , creative industry , and they come up with great things. it wa a publication . nice . suzie , thank you very much for the phone call. and that s inspirational. that s inspirational . thank you . we re thank you. and we re talking with david elli dickerson , the former hallmark greeting card writer and creator of the youtube series greeting card emergency. you re listening to talk of the nation from npr news. sharon s on the line with u from reno . hello . hi. you re on the air , sharon . hello. hi. thank you so much for having me. i just wanted to say many , many thanks for year of wonderful programming. and i have , yeah , been in the middle of nevada , mapping underground. and i just wa telling your screener i have come up made it a point to always come up from underground to listen to the program to try to contribute more often than not. i ve been waiting on the line to contribute , but i m so grateful for the programming. it s gotten me through many rough days. and i m just super , super appreciative , and i m going to miss you. thank you so much and thank you for being so gracious . thank you so much , sharon . and it s been wonderful . it s very kind of you we got to work that into card , somehow . well , i wa just thinking . i wish you the best . thank you . i wa just thinking , what the previous caller had said about we are leaving a better man out. the way you ve improved people unintelligible unintelligible yes. one of the thing that s kind of nice is you , in addition to producing this program , apparently , have also increased this lady s exposure to sunlight . so melanoma , she can blame me for . no. it s ... it s a great way to go . it s the vitamin d. it s wonderful , and you don t you didn t even expect that to happen . here s an email from corineph in portland when preparing to leave china after teaching university student for three years. one of my student presented me with a small card and glass jar with some dried flower and soil from the university ground where she d studied i taught and we both lived . that s beautiful . that s really nice. let s see if we can go next to this is katie , katie on the line with u from buffalo . hi. hello . hi , katie . i m a huge fan of the show. it s so special to me that i m getting to call you today , of all day . well , thanks very much for the dialing. what s your greeting card ? my greeting card wa actually made for me this year for my birthday by my father. i live really far away from him , so i don t get to see him. growing up , we would always make my parent card for every occasion on the old print shop program that used to run on do on the computer. and i remember. and this year , my dad actually recreated do on his computer so that he could upload and put on a new print shop program. and he made me a homemade , old school print shop card . wow . that s brilliant. oh , my gosh . it wa awesome. it wa so thoughtful , and it wa such a throwback to our childhood. it wa just great . who remembers m do ? that s amazing . i know . but what about that ? we were just talking about how you can never say goodbye to people. we can t say goodbye to anything. there s probably everything is available online right now in some file , somewhere . a long a you can do the computer magic , you can make it happen for sure . katie , thank you very much . of course. thank you so much . let s go next to this is james , and james is on the line with u from orlando . thanks , neal , for many year of great , interesting stories. i had a lady break up with me , and i thought she wa so talented when she signed the card , applaud , friends. the comedy is over. so many year later , i found out that wa the dying word of beethoven , i believe . also , neal , what will happen to the theme music ? i travel a lot , and you were not in orlando for many years. but then , you finally came , and i heard the theme music come on and i said , i am tuned in. so what will happen to the theme song ? will science friday retain it ? i believe science friday will retain it because i know ira flatow well , and he s not going to commission another tune. but the other than that , you know , maybe it ll end up on a website somewhere. who know ? then you will live on forever in our hearts. thanks . ok. thanks very much. we appreciate it. let s see ... and probably for several year too . probably. keith is on the line with u from fort bragg in north carolina . hey. listen , neal. we love you so much , man. and i just want to let you know , man , i m taping this so i can let my little grandkids hear that i talked to neal , this famous guy. he s a reporter , and he always , he always made sure , in way or the other , that he let black folk listen. your legacy is not unintelligible. you got old kingdom over there unintelligible and all that wa going on. those black folk running their own country. and the last time you did it , you said , where is the unintelligible from ? you had this guy unintelligible. and i said , well , neal , you re the greatest ever. and we love you , black , white , everybody , man. we re going to miss you. we re going to miss you so much. man , i don t even want to start cry on this phone , brother. we love you , man , and you take care of yourself , mr. neal. ok , sir ? i will do that , keith. and i m going to hang up or i m going to start cry . you re the greatest , bro. you always made sure black people listen. you somebody. you always made sure we knew that. thank you , sir. and we love you. be good now , ok ? i ll do my best . bye bye . bye bye. so , david , before we leave , we just have about 30 second left. anything you want to leave u with ? i had one more card that i wanted to talk about , that i thought of doing for that will be good for a job. it would be on the outside , it say , you re leaving ? that s so uncalled for. if you wanted a bunch of hug , you could ve just asked . having said that , i actually wrote a card for you , neal . oh . a you could see , it ha a little dog on the outside . it doe . and it say , whatever else you re doing next , i already like it . thanks for making this a pleasure too . david elli dickerson , author of house of cards. thank you so much for not just this appearance , but for all the others in the past . thank you for , you know , all those years. it s been really , really wonderful , . david elli dickerson joined u here in studio 42. i guess it s science friday tomorrow. i m neal conan. it s the talk of the nation from npr news .'"
      ]
     },
     "execution_count": 29,
     "metadata": {},
     "output_type": "execute_result"
    }
   ],
   "source": [
    "stories.lemmatized[39]"
   ]
  },
  {
   "cell_type": "code",
   "execution_count": 30,
   "id": "b8b46417",
   "metadata": {},
   "outputs": [
    {
     "data": {
      "text/plain": [
       "'so hard to say goodbye: advice for farewell notes'"
      ]
     },
     "execution_count": 30,
     "metadata": {},
     "output_type": "execute_result"
    }
   ],
   "source": [
    "stories.title[39]"
   ]
  },
  {
   "cell_type": "markdown",
   "id": "351725d9",
   "metadata": {},
   "source": [
    "The first highest-sentiment article is about hallmark greeting cards"
   ]
  },
  {
   "cell_type": "code",
   "execution_count": 31,
   "id": "86afecb8",
   "metadata": {},
   "outputs": [
    {
     "data": {
      "text/html": [
       "<div>\n",
       "<style scoped>\n",
       "    .dataframe tbody tr th:only-of-type {\n",
       "        vertical-align: middle;\n",
       "    }\n",
       "\n",
       "    .dataframe tbody tr th {\n",
       "        vertical-align: top;\n",
       "    }\n",
       "\n",
       "    .dataframe thead th {\n",
       "        text-align: right;\n",
       "    }\n",
       "</style>\n",
       "<table border=\"1\" class=\"dataframe\">\n",
       "  <thead>\n",
       "    <tr style=\"text-align: right;\">\n",
       "      <th></th>\n",
       "      <th>story_id_num</th>\n",
       "      <th>lemmatized</th>\n",
       "      <th>vader</th>\n",
       "      <th>title</th>\n",
       "    </tr>\n",
       "  </thead>\n",
       "  <tbody>\n",
       "    <tr>\n",
       "      <th>39</th>\n",
       "      <td>620</td>\n",
       "      <td>looking ahead to our last day , many of our fr...</td>\n",
       "      <td>1.0</td>\n",
       "      <td>so hard to say goodbye: advice for farewell notes</td>\n",
       "    </tr>\n",
       "    <tr>\n",
       "      <th>42</th>\n",
       "      <td>623</td>\n",
       "      <td>this is talk of the nation. i m neal conan , i...</td>\n",
       "      <td>1.0</td>\n",
       "      <td>a look ahead and a farewell to the political j...</td>\n",
       "    </tr>\n",
       "    <tr>\n",
       "      <th>43</th>\n",
       "      <td>624</td>\n",
       "      <td>this is talk of the nation. i m neal conan , i...</td>\n",
       "      <td>1.0</td>\n",
       "      <td>what changes after supreme court rulings on pr...</td>\n",
       "    </tr>\n",
       "    <tr>\n",
       "      <th>44</th>\n",
       "      <td>625</td>\n",
       "      <td>from small country church , to the stage of th...</td>\n",
       "      <td>1.0</td>\n",
       "      <td>gospel legend mavis staples comes 'full circle'</td>\n",
       "    </tr>\n",
       "    <tr>\n",
       "      <th>141</th>\n",
       "      <td>898</td>\n",
       "      <td>this is talk of the nation. i m neal conan in ...</td>\n",
       "      <td>1.0</td>\n",
       "      <td>'blood &amp;amp; beauty' breathes new life into th...</td>\n",
       "    </tr>\n",
       "    <tr>\n",
       "      <th>...</th>\n",
       "      <td>...</td>\n",
       "      <td>...</td>\n",
       "      <td>...</td>\n",
       "      <td>...</td>\n",
       "    </tr>\n",
       "    <tr>\n",
       "      <th>23796</th>\n",
       "      <td>84430</td>\n",
       "      <td>this is talk of the nation. i m neal conan in ...</td>\n",
       "      <td>1.0</td>\n",
       "      <td>state legislatures: agendas and budgets</td>\n",
       "    </tr>\n",
       "    <tr>\n",
       "      <th>23995</th>\n",
       "      <td>84850</td>\n",
       "      <td>time now for a story that is decidedly not a n...</td>\n",
       "      <td>1.0</td>\n",
       "      <td>encore: an elf questions santa's naughty or ni...</td>\n",
       "    </tr>\n",
       "    <tr>\n",
       "      <th>27366</th>\n",
       "      <td>90916</td>\n",
       "      <td>the political campaign are taking a break. the...</td>\n",
       "      <td>1.0</td>\n",
       "      <td>santa for president in 2016</td>\n",
       "    </tr>\n",
       "    <tr>\n",
       "      <th>30850</th>\n",
       "      <td>96419</td>\n",
       "      <td>now we re going to take a break from news , fr...</td>\n",
       "      <td>1.0</td>\n",
       "      <td>listen: the not-so-true story of santa's naugh...</td>\n",
       "    </tr>\n",
       "    <tr>\n",
       "      <th>61123</th>\n",
       "      <td>140684</td>\n",
       "      <td>from npr news , this is all thing considered. ...</td>\n",
       "      <td>1.0</td>\n",
       "      <td>dear birth mother: a story of 'transracial ado...</td>\n",
       "    </tr>\n",
       "  </tbody>\n",
       "</table>\n",
       "<p>1345 rows × 4 columns</p>\n",
       "</div>"
      ],
      "text/plain": [
       "       story_id_num                                         lemmatized  vader  \\\n",
       "39              620  looking ahead to our last day , many of our fr...    1.0   \n",
       "42              623  this is talk of the nation. i m neal conan , i...    1.0   \n",
       "43              624  this is talk of the nation. i m neal conan , i...    1.0   \n",
       "44              625  from small country church , to the stage of th...    1.0   \n",
       "141             898  this is talk of the nation. i m neal conan in ...    1.0   \n",
       "...             ...                                                ...    ...   \n",
       "23796         84430  this is talk of the nation. i m neal conan in ...    1.0   \n",
       "23995         84850  time now for a story that is decidedly not a n...    1.0   \n",
       "27366         90916  the political campaign are taking a break. the...    1.0   \n",
       "30850         96419  now we re going to take a break from news , fr...    1.0   \n",
       "61123        140684  from npr news , this is all thing considered. ...    1.0   \n",
       "\n",
       "                                                   title  \n",
       "39     so hard to say goodbye: advice for farewell notes  \n",
       "42     a look ahead and a farewell to the political j...  \n",
       "43     what changes after supreme court rulings on pr...  \n",
       "44       gospel legend mavis staples comes 'full circle'  \n",
       "141    'blood &amp; beauty' breathes new life into th...  \n",
       "...                                                  ...  \n",
       "23796            state legislatures: agendas and budgets  \n",
       "23995  encore: an elf questions santa's naughty or ni...  \n",
       "27366                        santa for president in 2016  \n",
       "30850  listen: the not-so-true story of santa's naugh...  \n",
       "61123  dear birth mother: a story of 'transracial ado...  \n",
       "\n",
       "[1345 rows x 4 columns]"
      ]
     },
     "execution_count": 31,
     "metadata": {},
     "output_type": "execute_result"
    }
   ],
   "source": [
    "stories[stories.vader == 1]"
   ]
  },
  {
   "cell_type": "markdown",
   "id": "ed32a08b",
   "metadata": {},
   "source": [
    "- Actually...there are 1345 stories with a max vader score"
   ]
  },
  {
   "cell_type": "code",
   "execution_count": 32,
   "id": "84889a94",
   "metadata": {},
   "outputs": [
    {
     "data": {
      "text/html": [
       "<div>\n",
       "<style scoped>\n",
       "    .dataframe tbody tr th:only-of-type {\n",
       "        vertical-align: middle;\n",
       "    }\n",
       "\n",
       "    .dataframe tbody tr th {\n",
       "        vertical-align: top;\n",
       "    }\n",
       "\n",
       "    .dataframe thead th {\n",
       "        text-align: right;\n",
       "    }\n",
       "</style>\n",
       "<table border=\"1\" class=\"dataframe\">\n",
       "  <thead>\n",
       "    <tr style=\"text-align: right;\">\n",
       "      <th></th>\n",
       "      <th>story_id_num</th>\n",
       "      <th>lemmatized</th>\n",
       "      <th>vader</th>\n",
       "      <th>title</th>\n",
       "    </tr>\n",
       "  </thead>\n",
       "  <tbody>\n",
       "    <tr>\n",
       "      <th>749</th>\n",
       "      <td>2749</td>\n",
       "      <td>this is talk of the nation. i m neal conan in ...</td>\n",
       "      <td>-1.0</td>\n",
       "      <td>the epidemiology of gun violence: race, region...</td>\n",
       "    </tr>\n",
       "    <tr>\n",
       "      <th>5731</th>\n",
       "      <td>19881</td>\n",
       "      <td>this is talk of the nation. i m neal conan in ...</td>\n",
       "      <td>-1.0</td>\n",
       "      <td>how do you define a hate crime?</td>\n",
       "    </tr>\n",
       "    <tr>\n",
       "      <th>10730</th>\n",
       "      <td>55411</td>\n",
       "      <td>this is talk of the nation. i m neal conan , i...</td>\n",
       "      <td>-1.0</td>\n",
       "      <td>understanding suicide terrorism and how to sto...</td>\n",
       "    </tr>\n",
       "    <tr>\n",
       "      <th>11827</th>\n",
       "      <td>58454</td>\n",
       "      <td>this is talk of the nation. im neal conan in w...</td>\n",
       "      <td>-1.0</td>\n",
       "      <td>deconstructing 'myths about suicide'</td>\n",
       "    </tr>\n",
       "    <tr>\n",
       "      <th>15177</th>\n",
       "      <td>66409</td>\n",
       "      <td>this is talk of the nation. i m neal conan in ...</td>\n",
       "      <td>-1.0</td>\n",
       "      <td>the legacy of bush's 'war on terror'</td>\n",
       "    </tr>\n",
       "    <tr>\n",
       "      <th>17237</th>\n",
       "      <td>71520</td>\n",
       "      <td>this is talk of the nation. i m neal conan in ...</td>\n",
       "      <td>-1.0</td>\n",
       "      <td>who carries out suicide bombings?</td>\n",
       "    </tr>\n",
       "    <tr>\n",
       "      <th>18838</th>\n",
       "      <td>75087</td>\n",
       "      <td>this is talk of the nation. i m neal conan in ...</td>\n",
       "      <td>-1.0</td>\n",
       "      <td>how do we define terrorism?</td>\n",
       "    </tr>\n",
       "    <tr>\n",
       "      <th>21189</th>\n",
       "      <td>79688</td>\n",
       "      <td>this is talk of the nation. i m neal conan , i...</td>\n",
       "      <td>-1.0</td>\n",
       "      <td>should the guantanamo prison be closed?</td>\n",
       "    </tr>\n",
       "    <tr>\n",
       "      <th>21287</th>\n",
       "      <td>79858</td>\n",
       "      <td>from npr news in washington , dc , i m neal co...</td>\n",
       "      <td>-1.0</td>\n",
       "      <td>'war of nerves': a history of chemical weapons</td>\n",
       "    </tr>\n",
       "  </tbody>\n",
       "</table>\n",
       "</div>"
      ],
      "text/plain": [
       "       story_id_num                                         lemmatized  vader  \\\n",
       "749            2749  this is talk of the nation. i m neal conan in ...   -1.0   \n",
       "5731          19881  this is talk of the nation. i m neal conan in ...   -1.0   \n",
       "10730         55411  this is talk of the nation. i m neal conan , i...   -1.0   \n",
       "11827         58454  this is talk of the nation. im neal conan in w...   -1.0   \n",
       "15177         66409  this is talk of the nation. i m neal conan in ...   -1.0   \n",
       "17237         71520  this is talk of the nation. i m neal conan in ...   -1.0   \n",
       "18838         75087  this is talk of the nation. i m neal conan in ...   -1.0   \n",
       "21189         79688  this is talk of the nation. i m neal conan , i...   -1.0   \n",
       "21287         79858  from npr news in washington , dc , i m neal co...   -1.0   \n",
       "\n",
       "                                                   title  \n",
       "749    the epidemiology of gun violence: race, region...  \n",
       "5731                     how do you define a hate crime?  \n",
       "10730  understanding suicide terrorism and how to sto...  \n",
       "11827               deconstructing 'myths about suicide'  \n",
       "15177               the legacy of bush's 'war on terror'  \n",
       "17237                  who carries out suicide bombings?  \n",
       "18838                        how do we define terrorism?  \n",
       "21189            should the guantanamo prison be closed?  \n",
       "21287     'war of nerves': a history of chemical weapons  "
      ]
     },
     "execution_count": 32,
     "metadata": {},
     "output_type": "execute_result"
    }
   ],
   "source": [
    "stories[stories.vader == -1]"
   ]
  },
  {
   "cell_type": "markdown",
   "id": "263c537b",
   "metadata": {},
   "source": [
    "- But only 9 stories with the lowest vader score, including..."
   ]
  },
  {
   "cell_type": "code",
   "execution_count": 33,
   "id": "baf086de",
   "metadata": {},
   "outputs": [
    {
     "data": {
      "text/plain": [
       "'this is talk of the nation. i m neal conan in washington. data from the center for disease control and prevention come to some remarkable conclusion about gun death , race , sex and region. briefly put , white people who die by gunfire are much more likely to be male , rural and suicide black people much more likely to be urban , victim of homicide and again , male . we ll explore the analysis , which wa featured in the washington post. we d also like to hear about your experiences. how ha gun violence affected you , your family and your neighborhood ? 800 989 8255. email u , talknpr.org. you can also join the conversation on our website. that s at npr.org. click on talk of the nation . later in the program , the coast guard and the northwest passage. but first gun death in america. dan keating is data editor and reporter with the washington post and join u now from studio at that newspaper. good to have you on talk of the nation today . good afternoon . and i understand of course , you re a reporter , you went through ream of statistics. but this is also your story . yes , i mean , it s something that when you look at it , white people tend to have a much greater chance of having experience in their life where they ve come up with suicide of someone they know or , you know , a relative , whereas african american are much more likely to be able to cite an example of someone they know , a relative , someone they went to school with , who suffered homicide . so it s not unusual in that regard. and in fact a i wa reporting on the story , i really hadn t thought about this before. i kind of started to jot down a list of the people i knew who had committed suicide , especially specifically with gun , and there wa a colleague and a relative and some friend dad , thing like that . and this you suggest , at least in term of people who have experience of other people in their life with gun violence , is not unusual . yes and especially the disparity is just so striking that suicide is really a white thing , a you said especially white male , and that homicide is , to such a large degree , a black thing . and give u some idea of the disparity . well , i mean , it s an interesting it s an exact mirror in term of ratio. so a white person is five time a likely to die by a suicide by gun , than by a homicide. and african american are five time a likely to die by homicide from a gun , than by suicide. so quite simply , you know , for every white person shot in a homicide , five shoot themselves and for every black person who shoot himself , five are killed by homicide . and availability of gun , well , affect both statistic . well , it s kind of interesting , because then what really drove my story wa not just the disparity in the rate , but how that applies to gun and access to guns. so the people that suffer homicide among relative , family , friend , tend to have a very anti gun attitude. and so that s prevalent in the city across all race and in the african american in both city and african american community of predominately homicide for gun death , and there s a strong urge for gun control both in the urban environment and in the african american community . but then a you move out of the city , suburb and then rural , where the gun death shift to suicide , you also shift to a much lower desire for gun control , much more support for gun rights. and so what really is interesting to me about that is that when people die in a gun homicide , the gun is vilified. the gun is blamed , and people want to stop the gun . but in gun suicide , the gun is not blamed. the gun is actually considered , you know , not the problem , and it s that , you know , they tend to more put a stigma on the person , oh there wa something wrong with him. so in the reporting on this , it wa you know , and in talking to the expert , when you go to the academic expert and those kind of people , they have a very strong conviction , and they look at the data about access to gun and suicide , and how much more suicide there is in place where there are a lot of gun . and they make a very big deal about the gun , whereas when you move actually to those place that have the high suicide rate , you hear much more that the gun is not the issue , that it s about mental health , and , you know , they really do not have a push against the gun that you get . so it s kind of an interesting disparity between the academic expert on suicide and the people that are actually in the high suicide areas. i wa kind of surprised at how big a difference there wa in that point of view . just to flip that on the other side , yes a state like wyoming , which ha a very high access to gun and a very high suicide rate , compared to a state like massachusetts , where it s more difficult to get a gun , and suicide rate are lower . about one seventh a high in massachusetts , a compared to wyoming. i mean that s a pretty amazing discrepancy because a one of the expert said , there s no reason that people with that gun owner have a higher rate of mental disorder , of mental health issues. so there really should not be a reason for there to be a higher rate of suicide . but what you get with the suicide , and this is what the expert talk about , it s not a permanent feature. it is an impulse. and if you can act on that impulse , then of course it becomes permanent. but if you can be intercepted , intervened , and , you know , with my story we ran tip about suicide prevention , then , you know , i m sorry , i don t have the exact statistic off the top of my head , i think it wa 90 percent of people who have attempted suicide and failed then did not go on to kill themselves. so that once you stop it , but especially say for instance with teenager , we have a lot of place where we have special law to prevent teenager from their own impulsiveness when it come to driving , drinking , other issue with regard to teenager . but when it come to gun , teenager with access to gun and the suicide rate there is very high and especially teenager who commit suicide almost always do it with their family s gun . we re talking with dan keating of the washington post about the epidemiology of drug of gun deaths. we want to hear about the experience in your life. how ha the gun violence affected your life , your family , your friend and your neighborhood ? 800 989 8255. email talknpr.org. we ll start with janph , and jan s on with u from buffalo , wyoming . thank you , steveph , for taking my call . it s neal , but go ahead . i m sorry. i wanted to echo what mr. keating is saying. we live in a rural community in wyoming , and for the last in the last 12 month we have had six suicide in our small community of about 5,000 people , all gender both gender , all age , all income , and the discussion about gun and access to gun it totally verboten here . everyone talk about access to mental health , rather than the access to gun being a contributing factor to these death . when we hear about gun violence in the city and how it tear neighborhood and family apart , what s been the effect of so many suicide in a small place like buffalo , wyoming ? it s very sobering. everybody know someone who ha died of a suicide. and it is something that affect our school child , it is something that affect our community. we had a prominent community member commit suicide earlier this year. and it just it just it make it very quiet around town . i can understand that. jan , thanks very much . thank you . joining u now is mark rosenberg , the president and ceo of the task force for global health , a former director of the cdc s national center for injury prevention and control. he join u by phone from his office in atlanta. good to have you with u today . thanks , neal , good to be here . and the data show that huge difference in how african american and white experience gun death. how long ha this been going on ? oh , i think this ha been going on for a long time. it s not been a secret. but i think these trend have probably been here i would say for at least 40 year . and is there any reason that you ve come up with to explain that ? i think there are lot of reason for the discrepancy. and let me talk about the suicide first and for the high rate and that because i think there s a very , very fundamental problem in the way we think about this. and one of the guest , the call in people , said that people think that it s either the gun or mental health that is the issue . and what s really important to understand is it s not either or. it s both. and if you want to make the world safe for your child , for your child who might commit suicide , then you do everything you can. it s not that you have to choose either take away access to gun from young people or get them the mental health care they want , it s both . both are part of the causal chain. and the way you interrupt the causal chain is in a many place a you possibly can , if you want to save those child s lives. there s a story that i wa told. i went to work at a school when they had a suicide , because they were afraid there might be a suicide cluster that followed the one death . and they told me that in a year previously , a young student from this school wa hell bent on suicide and killing himself. and he took his car , he drove it into a big concrete bridge at 60 mile per hour , and he walked away because he had an air bag . now it wasn t necessary to treat his depression or to stop him from being impulsive , but the air bag saved his life. if you want to save the life of our young people who are committing suicide , reducing their access to the fatal mean is just a important a giving them mental health . and a a parent or a concerned citizen , you want to make sure that they get every possible treatment that could prevent their suicide. i think people do not understand the importance of having access to the mean of suicide. so many study have demonstrated if you take the mean away , you reduce the suicide . in a lot of place , though , a gun is a tool. it s like any other tool on a ranch. you ve got to have it . and you don t let your toddler play with chainsaw . all right , stay with us. we want to hear your story , a well , those of you listening , about your experience with gun violence , whether you live in the city or in rural part of the country. how doe it change your life , your family , your town ? 800 989 8255. email u , talknpr.org. you can also join the conversation on our website. that s at npr.org. click on talk of the nation . our guest are dan keating , editor and reporter for the washington post and mark rosenberg , who is an epidemiologist and president and ceo of the task force for global health at the cdc in atlanta. stay with us. i m neal conan. it s the talk of the nation from npr news . this is talk of the nation from npr news. i m neal conan. today , we re talking about gun death , specifically an analysis of cdc data by washington post that found a clear delineation black people who die from gunfire much more likely to be shot by others white people , far more likely to shoot themselves . in addition to analysis from our guest , dan keating of the washington post and mark rosenberg of the task force for global health , we want to hear your stories. how ha gun violence affected you , your family , your neighborhood ? 800 989 8255. email talknpr.org. you can also join the conversation on our website. that s at npr.org. click on talk of the nation . here s an email that we have from bill in carrboro , north carolina i wa a teacher at a school affected by gun violence. the mother of a student wa murdered outside of our school by the estranged father of the child. he used a handgun. i saw it several of my student saw it. since this time i ve noticed that i ve become a teacher stereotype . i m obsessed with safety. i do not tolerate noise in the classroom. i expect student to do what i say when i say it and not to question it. this is not who i am in general. a an educator , i want student to converse appropriately and to question thing , yet if i d been a strict disciplinarian at the time of the shooting , i would have saved several student from seeing this awful thing . and mark rosenberg , we can t forget the ripple effect. it s not just the person who pull the trigger and the person who receives the bullet . there s a huge impact on people who grow up either in family where a suicide by gun ha occurred or in a community where someone in their family ha been shot , and the effect in term of post traumatic stress disorder , just living in high anxiety and the subsequent illness it cause , these cost are tremendous , and we re just starting to realize and appreciate those . there are also something called the cycle of violence. so a child who grows up exposed to violence becomes more likely , him or herself , to employ violence in the future. so the impact is very extensive . email question from amyph i m curious to hear whether the data for woman is significant. please , dan keating , can you help u out ? well , the rate for woman are just much lower for both homicide death and suicide death , and the discrepancy are not a great but it is still white woman are much more likely to commit suicide than black women. that pattern of suicide by white is one of the longstanding and interesting pattern , and i have never heard really a good explanation for it . so but in any event , the death rate by gun for woman are considerably lower , and unfortunately the data that we used for this , the cdc data , doe not have full event data. so for instance you cannot see when you see that a woman died of a homicide , whether , say , it wa a homicide suicide event , where someone killed her and killed themself . so that make it a little bit incomplete because in fact i would be very curious if even a few or a low a the rate of white dying from homicide is , if you were able to factor out the kind of suicide homicide , murder suicide case , that the white homicide rate would be even lower . let s see if we can go next to christineph , christine on the line with u from boulder . hi , thanks for taking my call. i wanted to just follow up on the most recent comment about the gender difference and an earlier comment about impulse control. i m a psychotherapist , and i do crisis counseling here , and boulder , larimer and routt county have some of the highest teen suicide rate in the world . and what we ve seen is that boy attempt le however , they use gun and are more successful. girl will attempt quite a bit more , but they don t use gun a often , and are more likely to survive. and the second part is that there is still such a stigma associated with the cause of death when it s suicide , that even though the kid in the community will know how someone died , there s not always a discussion in the community at large about it although i have to say in boulder we re working pretty hard and have a state suicide task force , a well . so blame the victim ? it s not so much blame the victim , it s more about protect the family because it can seem a if there wa a failure somewhere within the family system that a child would want to kill themselves , or the implication that a parent isn t good enough . and so then those kind of recrimination can echo back and forth . they can , and there s also we had a couple of year ago , it wa probably in the late 90 where we had a lot of copycat suicide , but not with guns. that wa with hanging . could i speak to the question of impulsivity ? go ahead please , mark rosenberg . i think it s really an important issue. there wa a study done of young people who had very serious suicide attempts. these are people who shot themselves , who jumped from very high height , who but for the grace of god would have died. and they asked these people how long they had considered committing suicide . there wa a very small group who had been seriously , chronically depressed and had thought about this for a very long time. but the largest percentage of young people had thought about suicide for a very short period , for many of them le than five minute . that s exactly what i see in my practice. i hospitalize a lot of kid that are suicidal , and the correlation also between poor impulse control and drug and alcohol use play a huge factor . very big , and so the suggestion is that if you can prevent them from having access to the fatal mean when they have the impulse separate the impulse from the action you can save their lives. and this is very , very important because if you have a waiting period , if people can t buy a gun right away but have to wait a week , that reduces the number of suicide . there are thing that work based on understanding the impulsive nature of suicide , especially in young people . here s a tweet to that point from riggs mack gun in the rural midwest never seemed like an issue until my 16 year old cousin made a snap decision while angry and drunk and took his own life . many of these come from anger , from intoxication and a sudden event that trigger a feeling in them that quickly will pas if only we can keep them separated from the fatal mean while they have that impulse . christine , thanks very much for the phone call . thanks for taking it . and i wanted to turn back to you , dan keating. you drew a correlation earlier that in african american community , largely in urban area , where there s a lot of homicide , there is also an attitude that it favor gun control. vice versa in rural area , where there are lot of suicide among white people. can you draw that line that because these are homicide , therefore people are in favor of gun control or because they are suicide they are opposed to it ? well , i think i think you can draw that line , and i think that the key connector in between is not blaming the gun is that and i think it s exactly what people have just been talking about in term of how the reaction in the community is suicide , the reaction is so muted. it doe ripple , it doe tear hole in a community , but it doe so quietly because people don t want to talk about it . and i think there s an amazing irony here that the medium is often accused of making a big deal about white crime victim and ignoring black crime victims. but the truth of the matter is when it come to gun crime , black crime is very much in the news , and politician campaign on crime and safety and all these kind of issue . but the white people that are you know , a lot more white people die from suicide than black people die from homicide with gun , but there s nobody campaign on suicide. nobody s making a huge outcry about it , and the vast majority of these suicide death receive no publicity and no public discussion . so the fact of the matter is these death don t generate i think people are vastly unaware of how many white people kill themselves. and there s all this discussion about what s going on in the black community with all these homicide , but you don t hear anybody saying what s going on in the white community with all these people shooting themselves . what you know , there s no good reason that we can t intervene and lower this suicide rate , but nobody s talking about it. and so nobody s making the connection between a ridiculously high rate that shouldn t be there and access to gun and issue about mental health. people aren t even making we re talking about , you know , is it one or the other or is it both ? but people aren t discussing any of it. so i think it s because people keep it a a family thing . mark rosenberg ... i would compliment dan for this story because it show that by understanding the problem , we can really figure out a way forward. and i think what dan showed beautifully in this article is that the victim are not just child in classroom who are massacred occasionally , but the victim of largest part of the victim are young black men in their community and young white men in their homes. these are big part of the gun violence problem. and i think that there s a stigma not only to people who commit suicide , but i think there s also a stigma to people who are homicide victim . and i think we stigmatize young black men who get shot. and we don t give them fair justice and fair treatment. we say , oh , these are just young black gang member and we don t think about the people who didn t belong to a gang , who were shot unintentionally , the wrong victim wa picked or they were an innocent bystander or , yes , they were involved in something , but didn t deserve to die. the stigma applies to both . here is an email that question some of our assumption here. this is from william. japan and south korea have near total gun control. i believe they are also two of the highest in suicide rates. according to data from the world health organization , south korea is number three in suicide , japan , number 11 , u.s. , 34th . that is a very it s interesting , because when you go between country , another example of it get cited a lot of time that you could find prominently on the nra website , for instance , is that russia ha very tight gun control , very few gun , but a very high suicide rate and a very high homicide rate. whereas israel , which ha very high gun possession , ha a very low suicide rate . unintelligible the same way , yeah . yeah. so when you get into the international and india ha a very high suicide rate and interestingly there it s woman , which is different than in the u.s. , and there are certainly very important cultural reason having to do with suicide with woman in india. but the thing is , when you get into the international , you start to see very big cultural difference which i do not have good explanation for . but within the united state , when you look at thing like gun possession by state , the pattern becomes very clear. so i think it s interesting that some people focus on the international where it s definitely i definitely , having looked at the data , could say you can t make a very good correlation between access to gun and homicide rate or , actually , even suicide rate. in the u.s. the pattern is much clearer . in most place around the world , firearm are not the leading cause of suicide. the most common cause of suicide worldwide is pesticides. and what happens in a country like china , frequently , young woman are upset or living in an abusive situation , and they run out against often , impulsively , and swallow pesticide that are frequently fatal. that is the most common cause of suicide in china and around the world . and it s been shown that if you can decrease access to the pesticide or if you can substitute non lethal pesticide for what are ordinarily used , the suicide rate come way down. the principle is the same if you decrease access to the lethal mean , you decrease the suicide . and we have this horribly fatalistic sense about suicide. there is nothing you can do about it. that s our biggest threat. that s what s going to get u is the sense that we can t do anything. suicide is eminently preventable. you can treat people who are depressed. you can help young people who are impulsive. it s preventable and unintelligible ... mark rosenberg is an epidemiologist and president and ceo of the task force on global health. dan keating is an editor and reporter for the washington post. you re listening to talk of the nation from npr news. and let s go to jennyph. jenny with u from reno . hi. thank you so much for this program. in 1983 , my brother who had been sick for 10 year with severe pancreatitis shot himself in my parent backyard , and they found him. he had purchased the gun two night before , and i firmly believe if his medical and psychological record could ve somehow been kept , he maybe would ve been given a second chance. i just feel the mental health care is failing u greatly here in this country. and he wa working with the va hospital and only got minimal , minimal mental health care . i m so sorry to hear this story , jenny. and it is a question that i guess we also have to turn to dan keating for , is there any correlation in the statistic with people who had or believed they had terminal illness ? well , the data that cdc ha doe not make that available. it is , you know , there are kind of age burst up in suicide and older there is kind of an age burst up for the rate among young people , but then again , among older people where , you know , a lot of people have said depression is insufficiently diagnosed and treated . and certainly there are case of people who have more longstanding issue a well a , you know , and people that have a more sudden thing. but , you know , in many of the example , a jenny said , if he could ve gotten more therapy and treatment , that would ve been a very different situation . jenny ... or if the doctor had asked about whether he ha a firearm or if he ha a gun , the doctor might have been able to intervene and , with the family s help , prevent his suicide. there are multiple thing that doctor can do , and they really need to try all of them at the same time. but asking about access to firearm by young people who are depressed or older people who are depressed is a very , very important part of practicing good medicine . here s an ... another thing that people said that i found really interesting is that that it is a good idea to ask people if they are feeling like they might hurt themself , that they could even possibly kill themself , and a lot of people would not want to ask that for fear of kind of putting an idea in their head or suggesting it. but what the expert said is if someone s not considering suicide and you ask them that question , they ll just very quickly say no , i m not thinking that. and if they are internally struggling with it , it ll be a huge relief to be able to let that out. so they said that it is a good thing to gently ask someone that you re close to if you see that kind of turmoil that make you fearful for them to ask them if they re considering hurting themself because that is actually a good way to begin to intervene . we ve put a link to dan keating s piece in the washington post at our website. go to npr.org , click on talk of the nation. dan keating , thanks very much for your time today . thank you . and mark rosenberg , thank you for joining u from the center for disease control there in atlanta . neal. i worked at the center for the disease control for 20 year but i don t work there now . i apologize . i have tremendous respect for them but i do want to not say that i m speaking for them . ok. president and ceo of the task force on global health. is that right ? that is exactly right , neal . all right. i apologize , but thanks very much for your time . thank you . when we come back , we re going to be talking about the change in global pattern of climate which is opening the arctic ocean , which mean it need to be patrolled by some u.s. force , maybe the coast guard. it s the talk of the nation from npr news. stay with u .'"
      ]
     },
     "execution_count": 33,
     "metadata": {},
     "output_type": "execute_result"
    }
   ],
   "source": [
    "stories.lemmatized[749]"
   ]
  },
  {
   "cell_type": "code",
   "execution_count": 34,
   "id": "42880982",
   "metadata": {},
   "outputs": [
    {
     "data": {
      "text/plain": [
       "'the epidemiology of gun violence: race, region and policy'"
      ]
     },
     "execution_count": 34,
     "metadata": {},
     "output_type": "execute_result"
    }
   ],
   "source": [
    "stories.title[749]"
   ]
  },
  {
   "cell_type": "markdown",
   "id": "7d06c5b7",
   "metadata": {},
   "source": [
    "- A story aboout \"gun death , race , sex and region\""
   ]
  },
  {
   "cell_type": "code",
   "execution_count": 35,
   "id": "0a7516de",
   "metadata": {},
   "outputs": [
    {
     "data": {
      "text/html": [
       "<div>\n",
       "<style scoped>\n",
       "    .dataframe tbody tr th:only-of-type {\n",
       "        vertical-align: middle;\n",
       "    }\n",
       "\n",
       "    .dataframe tbody tr th {\n",
       "        vertical-align: top;\n",
       "    }\n",
       "\n",
       "    .dataframe thead th {\n",
       "        text-align: right;\n",
       "    }\n",
       "</style>\n",
       "<table border=\"1\" class=\"dataframe\">\n",
       "  <thead>\n",
       "    <tr style=\"text-align: right;\">\n",
       "      <th></th>\n",
       "      <th>story_id_num</th>\n",
       "      <th>lemmatized</th>\n",
       "      <th>vader</th>\n",
       "      <th>title</th>\n",
       "    </tr>\n",
       "  </thead>\n",
       "  <tbody>\n",
       "    <tr>\n",
       "      <th>749</th>\n",
       "      <td>2749</td>\n",
       "      <td>this is talk of the nation. i m neal conan in ...</td>\n",
       "      <td>-1.0</td>\n",
       "      <td>the epidemiology of gun violence: race, region...</td>\n",
       "    </tr>\n",
       "    <tr>\n",
       "      <th>5731</th>\n",
       "      <td>19881</td>\n",
       "      <td>this is talk of the nation. i m neal conan in ...</td>\n",
       "      <td>-1.0</td>\n",
       "      <td>how do you define a hate crime?</td>\n",
       "    </tr>\n",
       "    <tr>\n",
       "      <th>10730</th>\n",
       "      <td>55411</td>\n",
       "      <td>this is talk of the nation. i m neal conan , i...</td>\n",
       "      <td>-1.0</td>\n",
       "      <td>understanding suicide terrorism and how to sto...</td>\n",
       "    </tr>\n",
       "    <tr>\n",
       "      <th>11827</th>\n",
       "      <td>58454</td>\n",
       "      <td>this is talk of the nation. im neal conan in w...</td>\n",
       "      <td>-1.0</td>\n",
       "      <td>deconstructing 'myths about suicide'</td>\n",
       "    </tr>\n",
       "    <tr>\n",
       "      <th>15177</th>\n",
       "      <td>66409</td>\n",
       "      <td>this is talk of the nation. i m neal conan in ...</td>\n",
       "      <td>-1.0</td>\n",
       "      <td>the legacy of bush's 'war on terror'</td>\n",
       "    </tr>\n",
       "    <tr>\n",
       "      <th>17237</th>\n",
       "      <td>71520</td>\n",
       "      <td>this is talk of the nation. i m neal conan in ...</td>\n",
       "      <td>-1.0</td>\n",
       "      <td>who carries out suicide bombings?</td>\n",
       "    </tr>\n",
       "    <tr>\n",
       "      <th>18838</th>\n",
       "      <td>75087</td>\n",
       "      <td>this is talk of the nation. i m neal conan in ...</td>\n",
       "      <td>-1.0</td>\n",
       "      <td>how do we define terrorism?</td>\n",
       "    </tr>\n",
       "    <tr>\n",
       "      <th>21189</th>\n",
       "      <td>79688</td>\n",
       "      <td>this is talk of the nation. i m neal conan , i...</td>\n",
       "      <td>-1.0</td>\n",
       "      <td>should the guantanamo prison be closed?</td>\n",
       "    </tr>\n",
       "    <tr>\n",
       "      <th>21287</th>\n",
       "      <td>79858</td>\n",
       "      <td>from npr news in washington , dc , i m neal co...</td>\n",
       "      <td>-1.0</td>\n",
       "      <td>'war of nerves': a history of chemical weapons</td>\n",
       "    </tr>\n",
       "  </tbody>\n",
       "</table>\n",
       "</div>"
      ],
      "text/plain": [
       "       story_id_num                                         lemmatized  vader  \\\n",
       "749            2749  this is talk of the nation. i m neal conan in ...   -1.0   \n",
       "5731          19881  this is talk of the nation. i m neal conan in ...   -1.0   \n",
       "10730         55411  this is talk of the nation. i m neal conan , i...   -1.0   \n",
       "11827         58454  this is talk of the nation. im neal conan in w...   -1.0   \n",
       "15177         66409  this is talk of the nation. i m neal conan in ...   -1.0   \n",
       "17237         71520  this is talk of the nation. i m neal conan in ...   -1.0   \n",
       "18838         75087  this is talk of the nation. i m neal conan in ...   -1.0   \n",
       "21189         79688  this is talk of the nation. i m neal conan , i...   -1.0   \n",
       "21287         79858  from npr news in washington , dc , i m neal co...   -1.0   \n",
       "\n",
       "                                                   title  \n",
       "749    the epidemiology of gun violence: race, region...  \n",
       "5731                     how do you define a hate crime?  \n",
       "10730  understanding suicide terrorism and how to sto...  \n",
       "11827               deconstructing 'myths about suicide'  \n",
       "15177               the legacy of bush's 'war on terror'  \n",
       "17237                  who carries out suicide bombings?  \n",
       "18838                        how do we define terrorism?  \n",
       "21189            should the guantanamo prison be closed?  \n",
       "21287     'war of nerves': a history of chemical weapons  "
      ]
     },
     "execution_count": 35,
     "metadata": {},
     "output_type": "execute_result"
    }
   ],
   "source": [
    "darkest_stories = stories[stories.vader == -1]\n",
    "darkest_stories"
   ]
  },
  {
   "cell_type": "code",
   "execution_count": 37,
   "id": "c7c2ecdf",
   "metadata": {},
   "outputs": [
    {
     "name": "stdout",
     "output_type": "stream",
     "text": [
      "the epidemiology of gun violence: race, region and policy\n",
      "how do you define a hate crime?\n",
      "understanding suicide terrorism and how to stop it\n",
      "deconstructing 'myths about suicide'\n",
      "the legacy of bush's 'war on terror'\n",
      "who carries out suicide bombings?\n",
      "how do we define terrorism?\n",
      "should the guantanamo prison be closed?\n",
      "'war of nerves': a history of chemical weapons\n"
     ]
    }
   ],
   "source": [
    "for story in darkest_stories.title:\n",
    "    print(story)"
   ]
  },
  {
   "cell_type": "markdown",
   "id": "ad592a6e",
   "metadata": {},
   "source": [
    "- Here's a list of the stories with the lowest possible sentiment score"
   ]
  },
  {
   "cell_type": "code",
   "execution_count": null,
   "id": "0d156a11",
   "metadata": {},
   "outputs": [],
   "source": []
  }
 ],
 "metadata": {
  "kernelspec": {
   "display_name": "Python 3",
   "language": "python",
   "name": "python3"
  },
  "language_info": {
   "codemirror_mode": {
    "name": "ipython",
    "version": 3
   },
   "file_extension": ".py",
   "mimetype": "text/x-python",
   "name": "python",
   "nbconvert_exporter": "python",
   "pygments_lexer": "ipython3",
   "version": "3.8.8"
  }
 },
 "nbformat": 4,
 "nbformat_minor": 5
}
