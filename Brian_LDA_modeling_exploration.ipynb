{
 "cells": [
  {
   "cell_type": "code",
   "execution_count": 1,
   "id": "cb0e0d55",
   "metadata": {},
   "outputs": [],
   "source": [
    "# Import all the things\n",
    "\n",
    "import json\n",
    "import pandas as pd\n",
    "import numpy as np\n",
    "import wrangle\n",
    "import acquire\n",
    "from prepare import basic_clean, tokenize, lemmatize, stem, remove_stopwords, prep_string_data#, split_data\n",
    "\n",
    "import re\n",
    "from sklearn.feature_extraction.text import TfidfVectorizer\n",
    "\n",
    "from wordcloud import WordCloud\n",
    "from matplotlib import pyplot as plt\n",
    "import seaborn as sns\n",
    "\n",
    "from sklearn.model_selection import train_test_split\n",
    "from sklearn.linear_model import LogisticRegression\n",
    "from sklearn.metrics import classification_report, accuracy_score\n",
    "\n",
    "import nltk\n",
    "\n",
    "from scipy import stats\n",
    "\n",
    "import warnings\n",
    "warnings.filterwarnings(\"ignore\")"
   ]
  },
  {
   "cell_type": "code",
   "execution_count": 2,
   "id": "365b1883",
   "metadata": {},
   "outputs": [],
   "source": [
    "# use our own wrangle to get the data\n",
    "# df = wrangle.get_npr_data()\n",
    "# df.head()"
   ]
  },
  {
   "cell_type": "markdown",
   "id": "892ef9d3",
   "metadata": {},
   "source": [
    "### I'm interested in topic modeling on a story-level basis\n",
    "### So I will need to groupby story_id_num"
   ]
  },
  {
   "cell_type": "code",
   "execution_count": 3,
   "id": "e0cf495e",
   "metadata": {
    "scrolled": true
   },
   "outputs": [],
   "source": [
    "# df = df.sort_values(by=['story_id_num','utterance_order'])\n",
    "# df.head()"
   ]
  },
  {
   "cell_type": "code",
   "execution_count": 4,
   "id": "7d215116",
   "metadata": {},
   "outputs": [],
   "source": [
    "# df = df[['story_id_num','utterance_order','title','lemmatized']]"
   ]
  },
  {
   "cell_type": "code",
   "execution_count": 5,
   "id": "ddd4d712",
   "metadata": {},
   "outputs": [],
   "source": [
    "# df_sample = df[:100]\n",
    "# df_sample"
   ]
  },
  {
   "cell_type": "code",
   "execution_count": 6,
   "id": "d5517083",
   "metadata": {
    "scrolled": true
   },
   "outputs": [],
   "source": [
    "# df_sample.shape"
   ]
  },
  {
   "cell_type": "code",
   "execution_count": 7,
   "id": "e3e1b83d",
   "metadata": {
    "scrolled": true
   },
   "outputs": [],
   "source": [
    "# pd.DataFrame(df_sample.groupby('title').apply(list).reset_index())"
   ]
  },
  {
   "cell_type": "code",
   "execution_count": 8,
   "id": "d6510834",
   "metadata": {},
   "outputs": [],
   "source": [
    "# df_sample.groupby(['story_id_num']).title.first()"
   ]
  },
  {
   "cell_type": "code",
   "execution_count": 9,
   "id": "69a9d3cf",
   "metadata": {},
   "outputs": [],
   "source": [
    "# # group every story as an aggregation of all its utterances\n",
    "# df_sample.groupby(['story_id_num']).lemmatized.agg(' '.join)#.iloc[0]"
   ]
  },
  {
   "cell_type": "code",
   "execution_count": 10,
   "id": "2ce18eb1",
   "metadata": {},
   "outputs": [],
   "source": [
    "# # group every story as an aggregation of all its utterances and store in a DF\n",
    "# stories_test = pd.DataFrame(df_sample.groupby(['story_id_num']).lemmatized.agg(' '.join))\n",
    "# stories_test"
   ]
  },
  {
   "cell_type": "code",
   "execution_count": 11,
   "id": "fe331e27",
   "metadata": {},
   "outputs": [],
   "source": [
    "# stories.iloc[0].values"
   ]
  },
  {
   "cell_type": "markdown",
   "id": "68931099",
   "metadata": {},
   "source": [
    "### Run the above on the whole df"
   ]
  },
  {
   "cell_type": "code",
   "execution_count": 12,
   "id": "ae116654",
   "metadata": {},
   "outputs": [],
   "source": [
    "# df = df.sort_values(by=['story_id_num','utterance_order'])\n",
    "# df.head()"
   ]
  },
  {
   "cell_type": "code",
   "execution_count": 13,
   "id": "d50ef53b",
   "metadata": {
    "scrolled": true
   },
   "outputs": [],
   "source": [
    "# df.dtypes"
   ]
  },
  {
   "cell_type": "code",
   "execution_count": 14,
   "id": "bc48e435",
   "metadata": {},
   "outputs": [],
   "source": [
    "# df.isna().sum()"
   ]
  },
  {
   "cell_type": "code",
   "execution_count": 15,
   "id": "c48a30ca",
   "metadata": {},
   "outputs": [],
   "source": [
    "# df = df.dropna()"
   ]
  },
  {
   "cell_type": "markdown",
   "id": "6afe59d5",
   "metadata": {},
   "source": [
    "#### well...it worked on the sample above\n",
    "#### had to drop 2 nulls that existed in the lemmatized column"
   ]
  },
  {
   "cell_type": "code",
   "execution_count": 16,
   "id": "37b7c426",
   "metadata": {},
   "outputs": [],
   "source": [
    "# # group every story as an aggregation of all its utterances and store in a DF\n",
    "# stories = pd.DataFrame(df.groupby(['story_id_num']).lemmatized.agg(' '.join))\n",
    "# stories"
   ]
  },
  {
   "cell_type": "markdown",
   "id": "3ff7768b",
   "metadata": {},
   "source": [
    "-  61,165 stories to work with here"
   ]
  },
  {
   "cell_type": "code",
   "execution_count": 17,
   "id": "b7d9290f",
   "metadata": {},
   "outputs": [],
   "source": [
    "# this attempt to get the word count for every story isn't working currently\n",
    "# stories['word_count'] = df.lemmatized.apply(str.split).apply(len)\n",
    "# stories.head()"
   ]
  },
  {
   "cell_type": "code",
   "execution_count": 18,
   "id": "99f31e49",
   "metadata": {},
   "outputs": [],
   "source": [
    "# sia = nltk.sentiment.SentimentIntensityAnalyzer()\n",
    "# stories['vader'] = stories.lemmatized.apply(lambda doc: sia.polarity_scores(doc)['compound'])\n",
    "# stories.head()"
   ]
  },
  {
   "cell_type": "code",
   "execution_count": 19,
   "id": "be6abbae",
   "metadata": {},
   "outputs": [],
   "source": [
    "# stories.to_csv('stories.csv')"
   ]
  },
  {
   "cell_type": "code",
   "execution_count": 20,
   "id": "f7c86142",
   "metadata": {},
   "outputs": [
    {
     "data": {
      "text/html": [
       "<div>\n",
       "<style scoped>\n",
       "    .dataframe tbody tr th:only-of-type {\n",
       "        vertical-align: middle;\n",
       "    }\n",
       "\n",
       "    .dataframe tbody tr th {\n",
       "        vertical-align: top;\n",
       "    }\n",
       "\n",
       "    .dataframe thead th {\n",
       "        text-align: right;\n",
       "    }\n",
       "</style>\n",
       "<table border=\"1\" class=\"dataframe\">\n",
       "  <thead>\n",
       "    <tr style=\"text-align: right;\">\n",
       "      <th></th>\n",
       "      <th>Unnamed: 0</th>\n",
       "      <th>story_id_num</th>\n",
       "      <th>lemmatized</th>\n",
       "      <th>vader</th>\n",
       "      <th>title</th>\n",
       "      <th>date</th>\n",
       "    </tr>\n",
       "  </thead>\n",
       "  <tbody>\n",
       "    <tr>\n",
       "      <th>0</th>\n",
       "      <td>0</td>\n",
       "      <td>17</td>\n",
       "      <td>he is in cahoot with a foreign government to m...</td>\n",
       "      <td>0.9964</td>\n",
       "      <td>n.j. democrat on reported whistleblower compla...</td>\n",
       "      <td>2019-09-22</td>\n",
       "    </tr>\n",
       "    <tr>\n",
       "      <th>1</th>\n",
       "      <td>1</td>\n",
       "      <td>18</td>\n",
       "      <td>come with concrete plan , not beautiful speech...</td>\n",
       "      <td>0.9993</td>\n",
       "      <td>ahead of climate summit, 2 views from cities i...</td>\n",
       "      <td>2019-09-22</td>\n",
       "    </tr>\n",
       "    <tr>\n",
       "      <th>2</th>\n",
       "      <td>2</td>\n",
       "      <td>19</td>\n",
       "      <td>if you stand outside the old dekalb county cou...</td>\n",
       "      <td>0.9974</td>\n",
       "      <td>barred from removing confederate monument, cou...</td>\n",
       "      <td>2019-09-22</td>\n",
       "    </tr>\n",
       "    <tr>\n",
       "      <th>3</th>\n",
       "      <td>3</td>\n",
       "      <td>20</td>\n",
       "      <td>you may have spotted pink salt in your superma...</td>\n",
       "      <td>0.4950</td>\n",
       "      <td>pakistan's pink himalayan salt has become a ma...</td>\n",
       "      <td>2019-09-22</td>\n",
       "    </tr>\n",
       "    <tr>\n",
       "      <th>4</th>\n",
       "      <td>4</td>\n",
       "      <td>21</td>\n",
       "      <td>singing in foreign language . the other day , ...</td>\n",
       "      <td>0.9730</td>\n",
       "      <td>10 years after haiti's earthquake, 'this music...</td>\n",
       "      <td>2019-09-22</td>\n",
       "    </tr>\n",
       "  </tbody>\n",
       "</table>\n",
       "</div>"
      ],
      "text/plain": [
       "   Unnamed: 0  story_id_num  \\\n",
       "0           0            17   \n",
       "1           1            18   \n",
       "2           2            19   \n",
       "3           3            20   \n",
       "4           4            21   \n",
       "\n",
       "                                          lemmatized   vader  \\\n",
       "0  he is in cahoot with a foreign government to m...  0.9964   \n",
       "1  come with concrete plan , not beautiful speech...  0.9993   \n",
       "2  if you stand outside the old dekalb county cou...  0.9974   \n",
       "3  you may have spotted pink salt in your superma...  0.4950   \n",
       "4  singing in foreign language . the other day , ...  0.9730   \n",
       "\n",
       "                                               title        date  \n",
       "0  n.j. democrat on reported whistleblower compla...  2019-09-22  \n",
       "1  ahead of climate summit, 2 views from cities i...  2019-09-22  \n",
       "2  barred from removing confederate monument, cou...  2019-09-22  \n",
       "3  pakistan's pink himalayan salt has become a ma...  2019-09-22  \n",
       "4  10 years after haiti's earthquake, 'this music...  2019-09-22  "
      ]
     },
     "execution_count": 20,
     "metadata": {},
     "output_type": "execute_result"
    }
   ],
   "source": [
    "stories = pd.read_csv('stories.csv')\n",
    "stories.head()"
   ]
  },
  {
   "cell_type": "code",
   "execution_count": 21,
   "id": "91333286",
   "metadata": {},
   "outputs": [],
   "source": [
    "stories = stories.drop(columns = ['Unnamed: 0'])"
   ]
  },
  {
   "cell_type": "code",
   "execution_count": 22,
   "id": "ec034411",
   "metadata": {
    "scrolled": true
   },
   "outputs": [
    {
     "data": {
      "text/plain": [
       "(61165, 5)"
      ]
     },
     "execution_count": 22,
     "metadata": {},
     "output_type": "execute_result"
    }
   ],
   "source": [
    "stories.shape"
   ]
  },
  {
   "cell_type": "code",
   "execution_count": 23,
   "id": "cd509f79",
   "metadata": {},
   "outputs": [],
   "source": [
    "# len(df.groupby(['story_id_num']).title.first())"
   ]
  },
  {
   "cell_type": "code",
   "execution_count": 24,
   "id": "9e30a1b0",
   "metadata": {},
   "outputs": [],
   "source": [
    "# stories['title'] = df.groupby(['story_id_num']).title.first().tolist()"
   ]
  },
  {
   "cell_type": "code",
   "execution_count": 25,
   "id": "6f17ac3e",
   "metadata": {},
   "outputs": [
    {
     "data": {
      "text/html": [
       "<div>\n",
       "<style scoped>\n",
       "    .dataframe tbody tr th:only-of-type {\n",
       "        vertical-align: middle;\n",
       "    }\n",
       "\n",
       "    .dataframe tbody tr th {\n",
       "        vertical-align: top;\n",
       "    }\n",
       "\n",
       "    .dataframe thead th {\n",
       "        text-align: right;\n",
       "    }\n",
       "</style>\n",
       "<table border=\"1\" class=\"dataframe\">\n",
       "  <thead>\n",
       "    <tr style=\"text-align: right;\">\n",
       "      <th></th>\n",
       "      <th>story_id_num</th>\n",
       "      <th>lemmatized</th>\n",
       "      <th>vader</th>\n",
       "      <th>title</th>\n",
       "      <th>date</th>\n",
       "    </tr>\n",
       "  </thead>\n",
       "  <tbody>\n",
       "    <tr>\n",
       "      <th>0</th>\n",
       "      <td>17</td>\n",
       "      <td>he is in cahoot with a foreign government to m...</td>\n",
       "      <td>0.9964</td>\n",
       "      <td>n.j. democrat on reported whistleblower compla...</td>\n",
       "      <td>2019-09-22</td>\n",
       "    </tr>\n",
       "    <tr>\n",
       "      <th>1</th>\n",
       "      <td>18</td>\n",
       "      <td>come with concrete plan , not beautiful speech...</td>\n",
       "      <td>0.9993</td>\n",
       "      <td>ahead of climate summit, 2 views from cities i...</td>\n",
       "      <td>2019-09-22</td>\n",
       "    </tr>\n",
       "    <tr>\n",
       "      <th>2</th>\n",
       "      <td>19</td>\n",
       "      <td>if you stand outside the old dekalb county cou...</td>\n",
       "      <td>0.9974</td>\n",
       "      <td>barred from removing confederate monument, cou...</td>\n",
       "      <td>2019-09-22</td>\n",
       "    </tr>\n",
       "    <tr>\n",
       "      <th>3</th>\n",
       "      <td>20</td>\n",
       "      <td>you may have spotted pink salt in your superma...</td>\n",
       "      <td>0.4950</td>\n",
       "      <td>pakistan's pink himalayan salt has become a ma...</td>\n",
       "      <td>2019-09-22</td>\n",
       "    </tr>\n",
       "    <tr>\n",
       "      <th>4</th>\n",
       "      <td>21</td>\n",
       "      <td>singing in foreign language . the other day , ...</td>\n",
       "      <td>0.9730</td>\n",
       "      <td>10 years after haiti's earthquake, 'this music...</td>\n",
       "      <td>2019-09-22</td>\n",
       "    </tr>\n",
       "  </tbody>\n",
       "</table>\n",
       "</div>"
      ],
      "text/plain": [
       "   story_id_num                                         lemmatized   vader  \\\n",
       "0            17  he is in cahoot with a foreign government to m...  0.9964   \n",
       "1            18  come with concrete plan , not beautiful speech...  0.9993   \n",
       "2            19  if you stand outside the old dekalb county cou...  0.9974   \n",
       "3            20  you may have spotted pink salt in your superma...  0.4950   \n",
       "4            21  singing in foreign language . the other day , ...  0.9730   \n",
       "\n",
       "                                               title        date  \n",
       "0  n.j. democrat on reported whistleblower compla...  2019-09-22  \n",
       "1  ahead of climate summit, 2 views from cities i...  2019-09-22  \n",
       "2  barred from removing confederate monument, cou...  2019-09-22  \n",
       "3  pakistan's pink himalayan salt has become a ma...  2019-09-22  \n",
       "4  10 years after haiti's earthquake, 'this music...  2019-09-22  "
      ]
     },
     "execution_count": 25,
     "metadata": {},
     "output_type": "execute_result"
    }
   ],
   "source": [
    "stories.head()"
   ]
  },
  {
   "cell_type": "code",
   "execution_count": 26,
   "id": "4226f1d0",
   "metadata": {},
   "outputs": [],
   "source": [
    "# stories.to_csv('stories.csv')"
   ]
  },
  {
   "cell_type": "code",
   "execution_count": 27,
   "id": "3c03b052",
   "metadata": {},
   "outputs": [
    {
     "data": {
      "text/plain": [
       "39"
      ]
     },
     "execution_count": 27,
     "metadata": {},
     "output_type": "execute_result"
    }
   ],
   "source": [
    "stories.vader.idxmax()"
   ]
  },
  {
   "cell_type": "code",
   "execution_count": 28,
   "id": "e5419d0a",
   "metadata": {},
   "outputs": [],
   "source": [
    "# stories.lemmatized[39]"
   ]
  },
  {
   "cell_type": "code",
   "execution_count": 29,
   "id": "b8b46417",
   "metadata": {},
   "outputs": [
    {
     "data": {
      "text/plain": [
       "'so hard to say goodbye: advice for farewell notes'"
      ]
     },
     "execution_count": 29,
     "metadata": {},
     "output_type": "execute_result"
    }
   ],
   "source": [
    "stories.title[39]"
   ]
  },
  {
   "cell_type": "markdown",
   "id": "351725d9",
   "metadata": {},
   "source": [
    "The first highest-sentiment article is about hallmark greeting cards"
   ]
  },
  {
   "cell_type": "code",
   "execution_count": 30,
   "id": "86afecb8",
   "metadata": {},
   "outputs": [
    {
     "data": {
      "text/html": [
       "<div>\n",
       "<style scoped>\n",
       "    .dataframe tbody tr th:only-of-type {\n",
       "        vertical-align: middle;\n",
       "    }\n",
       "\n",
       "    .dataframe tbody tr th {\n",
       "        vertical-align: top;\n",
       "    }\n",
       "\n",
       "    .dataframe thead th {\n",
       "        text-align: right;\n",
       "    }\n",
       "</style>\n",
       "<table border=\"1\" class=\"dataframe\">\n",
       "  <thead>\n",
       "    <tr style=\"text-align: right;\">\n",
       "      <th></th>\n",
       "      <th>story_id_num</th>\n",
       "      <th>lemmatized</th>\n",
       "      <th>vader</th>\n",
       "      <th>title</th>\n",
       "      <th>date</th>\n",
       "    </tr>\n",
       "  </thead>\n",
       "  <tbody>\n",
       "    <tr>\n",
       "      <th>39</th>\n",
       "      <td>620</td>\n",
       "      <td>looking ahead to our last day , many of our fr...</td>\n",
       "      <td>1.0</td>\n",
       "      <td>so hard to say goodbye: advice for farewell notes</td>\n",
       "      <td>2013-06-27</td>\n",
       "    </tr>\n",
       "    <tr>\n",
       "      <th>42</th>\n",
       "      <td>623</td>\n",
       "      <td>this is talk of the nation. i m neal conan , i...</td>\n",
       "      <td>1.0</td>\n",
       "      <td>a look ahead and a farewell to the political j...</td>\n",
       "      <td>2013-06-26</td>\n",
       "    </tr>\n",
       "    <tr>\n",
       "      <th>43</th>\n",
       "      <td>624</td>\n",
       "      <td>this is talk of the nation. i m neal conan , i...</td>\n",
       "      <td>1.0</td>\n",
       "      <td>what changes after supreme court rulings on pr...</td>\n",
       "      <td>2013-06-26</td>\n",
       "    </tr>\n",
       "    <tr>\n",
       "      <th>44</th>\n",
       "      <td>625</td>\n",
       "      <td>from small country church , to the stage of th...</td>\n",
       "      <td>1.0</td>\n",
       "      <td>gospel legend mavis staples comes 'full circle'</td>\n",
       "      <td>2013-06-26</td>\n",
       "    </tr>\n",
       "    <tr>\n",
       "      <th>141</th>\n",
       "      <td>898</td>\n",
       "      <td>this is talk of the nation. i m neal conan in ...</td>\n",
       "      <td>1.0</td>\n",
       "      <td>'blood &amp;amp; beauty' breathes new life into th...</td>\n",
       "      <td>2013-06-20</td>\n",
       "    </tr>\n",
       "    <tr>\n",
       "      <th>...</th>\n",
       "      <td>...</td>\n",
       "      <td>...</td>\n",
       "      <td>...</td>\n",
       "      <td>...</td>\n",
       "      <td>...</td>\n",
       "    </tr>\n",
       "    <tr>\n",
       "      <th>23796</th>\n",
       "      <td>84430</td>\n",
       "      <td>this is talk of the nation. i m neal conan in ...</td>\n",
       "      <td>1.0</td>\n",
       "      <td>state legislatures: agendas and budgets</td>\n",
       "      <td>2005-01-11</td>\n",
       "    </tr>\n",
       "    <tr>\n",
       "      <th>23995</th>\n",
       "      <td>84850</td>\n",
       "      <td>time now for a story that is decidedly not a n...</td>\n",
       "      <td>1.0</td>\n",
       "      <td>encore: an elf questions santa's naughty or ni...</td>\n",
       "      <td>2016-12-23</td>\n",
       "    </tr>\n",
       "    <tr>\n",
       "      <th>27366</th>\n",
       "      <td>90916</td>\n",
       "      <td>the political campaign are taking a break. the...</td>\n",
       "      <td>1.0</td>\n",
       "      <td>santa for president in 2016</td>\n",
       "      <td>2015-12-25</td>\n",
       "    </tr>\n",
       "    <tr>\n",
       "      <th>30850</th>\n",
       "      <td>96419</td>\n",
       "      <td>now we re going to take a break from news , fr...</td>\n",
       "      <td>1.0</td>\n",
       "      <td>listen: the not-so-true story of santa's naugh...</td>\n",
       "      <td>2014-12-25</td>\n",
       "    </tr>\n",
       "    <tr>\n",
       "      <th>61123</th>\n",
       "      <td>140684</td>\n",
       "      <td>from npr news , this is all thing considered. ...</td>\n",
       "      <td>1.0</td>\n",
       "      <td>dear birth mother: a story of 'transracial ado...</td>\n",
       "      <td>2005-05-09</td>\n",
       "    </tr>\n",
       "  </tbody>\n",
       "</table>\n",
       "<p>1345 rows × 5 columns</p>\n",
       "</div>"
      ],
      "text/plain": [
       "       story_id_num                                         lemmatized  vader  \\\n",
       "39              620  looking ahead to our last day , many of our fr...    1.0   \n",
       "42              623  this is talk of the nation. i m neal conan , i...    1.0   \n",
       "43              624  this is talk of the nation. i m neal conan , i...    1.0   \n",
       "44              625  from small country church , to the stage of th...    1.0   \n",
       "141             898  this is talk of the nation. i m neal conan in ...    1.0   \n",
       "...             ...                                                ...    ...   \n",
       "23796         84430  this is talk of the nation. i m neal conan in ...    1.0   \n",
       "23995         84850  time now for a story that is decidedly not a n...    1.0   \n",
       "27366         90916  the political campaign are taking a break. the...    1.0   \n",
       "30850         96419  now we re going to take a break from news , fr...    1.0   \n",
       "61123        140684  from npr news , this is all thing considered. ...    1.0   \n",
       "\n",
       "                                                   title        date  \n",
       "39     so hard to say goodbye: advice for farewell notes  2013-06-27  \n",
       "42     a look ahead and a farewell to the political j...  2013-06-26  \n",
       "43     what changes after supreme court rulings on pr...  2013-06-26  \n",
       "44       gospel legend mavis staples comes 'full circle'  2013-06-26  \n",
       "141    'blood &amp; beauty' breathes new life into th...  2013-06-20  \n",
       "...                                                  ...         ...  \n",
       "23796            state legislatures: agendas and budgets  2005-01-11  \n",
       "23995  encore: an elf questions santa's naughty or ni...  2016-12-23  \n",
       "27366                        santa for president in 2016  2015-12-25  \n",
       "30850  listen: the not-so-true story of santa's naugh...  2014-12-25  \n",
       "61123  dear birth mother: a story of 'transracial ado...  2005-05-09  \n",
       "\n",
       "[1345 rows x 5 columns]"
      ]
     },
     "execution_count": 30,
     "metadata": {},
     "output_type": "execute_result"
    }
   ],
   "source": [
    "stories[stories.vader == 1]"
   ]
  },
  {
   "cell_type": "markdown",
   "id": "ed32a08b",
   "metadata": {},
   "source": [
    "- Actually...there are 1345 stories with a max vader score"
   ]
  },
  {
   "cell_type": "code",
   "execution_count": 31,
   "id": "c2ddf210",
   "metadata": {},
   "outputs": [
    {
     "data": {
      "text/html": [
       "<div>\n",
       "<style scoped>\n",
       "    .dataframe tbody tr th:only-of-type {\n",
       "        vertical-align: middle;\n",
       "    }\n",
       "\n",
       "    .dataframe tbody tr th {\n",
       "        vertical-align: top;\n",
       "    }\n",
       "\n",
       "    .dataframe thead th {\n",
       "        text-align: right;\n",
       "    }\n",
       "</style>\n",
       "<table border=\"1\" class=\"dataframe\">\n",
       "  <thead>\n",
       "    <tr style=\"text-align: right;\">\n",
       "      <th></th>\n",
       "      <th>story_id_num</th>\n",
       "      <th>lemmatized</th>\n",
       "      <th>vader</th>\n",
       "      <th>title</th>\n",
       "      <th>date</th>\n",
       "    </tr>\n",
       "  </thead>\n",
       "  <tbody>\n",
       "    <tr>\n",
       "      <th>39</th>\n",
       "      <td>620</td>\n",
       "      <td>looking ahead to our last day , many of our fr...</td>\n",
       "      <td>1.0</td>\n",
       "      <td>so hard to say goodbye: advice for farewell notes</td>\n",
       "      <td>2013-06-27</td>\n",
       "    </tr>\n",
       "    <tr>\n",
       "      <th>42</th>\n",
       "      <td>623</td>\n",
       "      <td>this is talk of the nation. i m neal conan , i...</td>\n",
       "      <td>1.0</td>\n",
       "      <td>a look ahead and a farewell to the political j...</td>\n",
       "      <td>2013-06-26</td>\n",
       "    </tr>\n",
       "    <tr>\n",
       "      <th>43</th>\n",
       "      <td>624</td>\n",
       "      <td>this is talk of the nation. i m neal conan , i...</td>\n",
       "      <td>1.0</td>\n",
       "      <td>what changes after supreme court rulings on pr...</td>\n",
       "      <td>2013-06-26</td>\n",
       "    </tr>\n",
       "    <tr>\n",
       "      <th>44</th>\n",
       "      <td>625</td>\n",
       "      <td>from small country church , to the stage of th...</td>\n",
       "      <td>1.0</td>\n",
       "      <td>gospel legend mavis staples comes 'full circle'</td>\n",
       "      <td>2013-06-26</td>\n",
       "    </tr>\n",
       "    <tr>\n",
       "      <th>141</th>\n",
       "      <td>898</td>\n",
       "      <td>this is talk of the nation. i m neal conan in ...</td>\n",
       "      <td>1.0</td>\n",
       "      <td>'blood &amp;amp; beauty' breathes new life into th...</td>\n",
       "      <td>2013-06-20</td>\n",
       "    </tr>\n",
       "    <tr>\n",
       "      <th>...</th>\n",
       "      <td>...</td>\n",
       "      <td>...</td>\n",
       "      <td>...</td>\n",
       "      <td>...</td>\n",
       "      <td>...</td>\n",
       "    </tr>\n",
       "    <tr>\n",
       "      <th>23796</th>\n",
       "      <td>84430</td>\n",
       "      <td>this is talk of the nation. i m neal conan in ...</td>\n",
       "      <td>1.0</td>\n",
       "      <td>state legislatures: agendas and budgets</td>\n",
       "      <td>2005-01-11</td>\n",
       "    </tr>\n",
       "    <tr>\n",
       "      <th>23995</th>\n",
       "      <td>84850</td>\n",
       "      <td>time now for a story that is decidedly not a n...</td>\n",
       "      <td>1.0</td>\n",
       "      <td>encore: an elf questions santa's naughty or ni...</td>\n",
       "      <td>2016-12-23</td>\n",
       "    </tr>\n",
       "    <tr>\n",
       "      <th>27366</th>\n",
       "      <td>90916</td>\n",
       "      <td>the political campaign are taking a break. the...</td>\n",
       "      <td>1.0</td>\n",
       "      <td>santa for president in 2016</td>\n",
       "      <td>2015-12-25</td>\n",
       "    </tr>\n",
       "    <tr>\n",
       "      <th>30850</th>\n",
       "      <td>96419</td>\n",
       "      <td>now we re going to take a break from news , fr...</td>\n",
       "      <td>1.0</td>\n",
       "      <td>listen: the not-so-true story of santa's naugh...</td>\n",
       "      <td>2014-12-25</td>\n",
       "    </tr>\n",
       "    <tr>\n",
       "      <th>61123</th>\n",
       "      <td>140684</td>\n",
       "      <td>from npr news , this is all thing considered. ...</td>\n",
       "      <td>1.0</td>\n",
       "      <td>dear birth mother: a story of 'transracial ado...</td>\n",
       "      <td>2005-05-09</td>\n",
       "    </tr>\n",
       "  </tbody>\n",
       "</table>\n",
       "<p>1345 rows × 5 columns</p>\n",
       "</div>"
      ],
      "text/plain": [
       "       story_id_num                                         lemmatized  vader  \\\n",
       "39              620  looking ahead to our last day , many of our fr...    1.0   \n",
       "42              623  this is talk of the nation. i m neal conan , i...    1.0   \n",
       "43              624  this is talk of the nation. i m neal conan , i...    1.0   \n",
       "44              625  from small country church , to the stage of th...    1.0   \n",
       "141             898  this is talk of the nation. i m neal conan in ...    1.0   \n",
       "...             ...                                                ...    ...   \n",
       "23796         84430  this is talk of the nation. i m neal conan in ...    1.0   \n",
       "23995         84850  time now for a story that is decidedly not a n...    1.0   \n",
       "27366         90916  the political campaign are taking a break. the...    1.0   \n",
       "30850         96419  now we re going to take a break from news , fr...    1.0   \n",
       "61123        140684  from npr news , this is all thing considered. ...    1.0   \n",
       "\n",
       "                                                   title        date  \n",
       "39     so hard to say goodbye: advice for farewell notes  2013-06-27  \n",
       "42     a look ahead and a farewell to the political j...  2013-06-26  \n",
       "43     what changes after supreme court rulings on pr...  2013-06-26  \n",
       "44       gospel legend mavis staples comes 'full circle'  2013-06-26  \n",
       "141    'blood &amp; beauty' breathes new life into th...  2013-06-20  \n",
       "...                                                  ...         ...  \n",
       "23796            state legislatures: agendas and budgets  2005-01-11  \n",
       "23995  encore: an elf questions santa's naughty or ni...  2016-12-23  \n",
       "27366                        santa for president in 2016  2015-12-25  \n",
       "30850  listen: the not-so-true story of santa's naugh...  2014-12-25  \n",
       "61123  dear birth mother: a story of 'transracial ado...  2005-05-09  \n",
       "\n",
       "[1345 rows x 5 columns]"
      ]
     },
     "execution_count": 31,
     "metadata": {},
     "output_type": "execute_result"
    }
   ],
   "source": [
    "brightest_stories = stories[stories.vader == 1]\n",
    "brightest_stories"
   ]
  },
  {
   "cell_type": "code",
   "execution_count": 32,
   "id": "4dce7f9e",
   "metadata": {},
   "outputs": [
    {
     "data": {
      "text/plain": [
       "[\"'the smart patient': how to get the best care\",\n",
       " 'exploring the relationship between music and memory',\n",
       " 'whose consumer reviews do you most trust?',\n",
       " 'michelle obama, hillary clinton speak in denver',\n",
       " 'evaluating self-improvement gurus',\n",
       " 'modern girls and the modesty movement',\n",
       " 'white sox faithful smell world series victory',\n",
       " \"'parenting inc.' explores high price of parenting\",\n",
       " 'as arguments wrap, future of health law is unclear',\n",
       " 'political junkie: update on the presidential campaign']"
      ]
     },
     "execution_count": 32,
     "metadata": {},
     "output_type": "execute_result"
    }
   ],
   "source": [
    "brightest_stories.title.sample(10).to_list()"
   ]
  },
  {
   "cell_type": "code",
   "execution_count": 33,
   "id": "84889a94",
   "metadata": {},
   "outputs": [
    {
     "data": {
      "text/html": [
       "<div>\n",
       "<style scoped>\n",
       "    .dataframe tbody tr th:only-of-type {\n",
       "        vertical-align: middle;\n",
       "    }\n",
       "\n",
       "    .dataframe tbody tr th {\n",
       "        vertical-align: top;\n",
       "    }\n",
       "\n",
       "    .dataframe thead th {\n",
       "        text-align: right;\n",
       "    }\n",
       "</style>\n",
       "<table border=\"1\" class=\"dataframe\">\n",
       "  <thead>\n",
       "    <tr style=\"text-align: right;\">\n",
       "      <th></th>\n",
       "      <th>story_id_num</th>\n",
       "      <th>lemmatized</th>\n",
       "      <th>vader</th>\n",
       "      <th>title</th>\n",
       "      <th>date</th>\n",
       "    </tr>\n",
       "  </thead>\n",
       "  <tbody>\n",
       "    <tr>\n",
       "      <th>749</th>\n",
       "      <td>2749</td>\n",
       "      <td>this is talk of the nation. i m neal conan in ...</td>\n",
       "      <td>-1.0</td>\n",
       "      <td>the epidemiology of gun violence: race, region...</td>\n",
       "      <td>2013-03-26</td>\n",
       "    </tr>\n",
       "    <tr>\n",
       "      <th>5731</th>\n",
       "      <td>19881</td>\n",
       "      <td>this is talk of the nation. i m neal conan in ...</td>\n",
       "      <td>-1.0</td>\n",
       "      <td>how do you define a hate crime?</td>\n",
       "      <td>2012-03-19</td>\n",
       "    </tr>\n",
       "    <tr>\n",
       "      <th>10730</th>\n",
       "      <td>55411</td>\n",
       "      <td>this is talk of the nation. i m neal conan , i...</td>\n",
       "      <td>-1.0</td>\n",
       "      <td>understanding suicide terrorism and how to sto...</td>\n",
       "      <td>2010-10-11</td>\n",
       "    </tr>\n",
       "    <tr>\n",
       "      <th>11827</th>\n",
       "      <td>58454</td>\n",
       "      <td>this is talk of the nation. im neal conan in w...</td>\n",
       "      <td>-1.0</td>\n",
       "      <td>deconstructing 'myths about suicide'</td>\n",
       "      <td>2010-04-28</td>\n",
       "    </tr>\n",
       "    <tr>\n",
       "      <th>15177</th>\n",
       "      <td>66409</td>\n",
       "      <td>this is talk of the nation. i m neal conan in ...</td>\n",
       "      <td>-1.0</td>\n",
       "      <td>the legacy of bush's 'war on terror'</td>\n",
       "      <td>2009-01-12</td>\n",
       "    </tr>\n",
       "    <tr>\n",
       "      <th>17237</th>\n",
       "      <td>71520</td>\n",
       "      <td>this is talk of the nation. i m neal conan in ...</td>\n",
       "      <td>-1.0</td>\n",
       "      <td>who carries out suicide bombings?</td>\n",
       "      <td>2008-01-22</td>\n",
       "    </tr>\n",
       "    <tr>\n",
       "      <th>18838</th>\n",
       "      <td>75087</td>\n",
       "      <td>this is talk of the nation. i m neal conan in ...</td>\n",
       "      <td>-1.0</td>\n",
       "      <td>how do we define terrorism?</td>\n",
       "      <td>2007-06-04</td>\n",
       "    </tr>\n",
       "    <tr>\n",
       "      <th>21189</th>\n",
       "      <td>79688</td>\n",
       "      <td>this is talk of the nation. i m neal conan , i...</td>\n",
       "      <td>-1.0</td>\n",
       "      <td>should the guantanamo prison be closed?</td>\n",
       "      <td>2006-05-23</td>\n",
       "    </tr>\n",
       "    <tr>\n",
       "      <th>21287</th>\n",
       "      <td>79858</td>\n",
       "      <td>from npr news in washington , dc , i m neal co...</td>\n",
       "      <td>-1.0</td>\n",
       "      <td>'war of nerves': a history of chemical weapons</td>\n",
       "      <td>2006-05-08</td>\n",
       "    </tr>\n",
       "  </tbody>\n",
       "</table>\n",
       "</div>"
      ],
      "text/plain": [
       "       story_id_num                                         lemmatized  vader  \\\n",
       "749            2749  this is talk of the nation. i m neal conan in ...   -1.0   \n",
       "5731          19881  this is talk of the nation. i m neal conan in ...   -1.0   \n",
       "10730         55411  this is talk of the nation. i m neal conan , i...   -1.0   \n",
       "11827         58454  this is talk of the nation. im neal conan in w...   -1.0   \n",
       "15177         66409  this is talk of the nation. i m neal conan in ...   -1.0   \n",
       "17237         71520  this is talk of the nation. i m neal conan in ...   -1.0   \n",
       "18838         75087  this is talk of the nation. i m neal conan in ...   -1.0   \n",
       "21189         79688  this is talk of the nation. i m neal conan , i...   -1.0   \n",
       "21287         79858  from npr news in washington , dc , i m neal co...   -1.0   \n",
       "\n",
       "                                                   title        date  \n",
       "749    the epidemiology of gun violence: race, region...  2013-03-26  \n",
       "5731                     how do you define a hate crime?  2012-03-19  \n",
       "10730  understanding suicide terrorism and how to sto...  2010-10-11  \n",
       "11827               deconstructing 'myths about suicide'  2010-04-28  \n",
       "15177               the legacy of bush's 'war on terror'  2009-01-12  \n",
       "17237                  who carries out suicide bombings?  2008-01-22  \n",
       "18838                        how do we define terrorism?  2007-06-04  \n",
       "21189            should the guantanamo prison be closed?  2006-05-23  \n",
       "21287     'war of nerves': a history of chemical weapons  2006-05-08  "
      ]
     },
     "execution_count": 33,
     "metadata": {},
     "output_type": "execute_result"
    }
   ],
   "source": [
    "stories[stories.vader == -1]"
   ]
  },
  {
   "cell_type": "markdown",
   "id": "263c537b",
   "metadata": {},
   "source": [
    "- But only 9 stories with the lowest vader score, including..."
   ]
  },
  {
   "cell_type": "code",
   "execution_count": 34,
   "id": "baf086de",
   "metadata": {},
   "outputs": [],
   "source": [
    "# stories.lemmatized[749]"
   ]
  },
  {
   "cell_type": "code",
   "execution_count": 35,
   "id": "b26f0b9b",
   "metadata": {},
   "outputs": [
    {
     "data": {
      "text/plain": [
       "'the epidemiology of gun violence: race, region and policy'"
      ]
     },
     "execution_count": 35,
     "metadata": {},
     "output_type": "execute_result"
    }
   ],
   "source": [
    "stories.title[749]"
   ]
  },
  {
   "cell_type": "markdown",
   "id": "e350d14a",
   "metadata": {},
   "source": [
    "- A story aboout \"gun death , race , sex and region\""
   ]
  },
  {
   "cell_type": "code",
   "execution_count": 36,
   "id": "2e218730",
   "metadata": {},
   "outputs": [
    {
     "data": {
      "text/html": [
       "<div>\n",
       "<style scoped>\n",
       "    .dataframe tbody tr th:only-of-type {\n",
       "        vertical-align: middle;\n",
       "    }\n",
       "\n",
       "    .dataframe tbody tr th {\n",
       "        vertical-align: top;\n",
       "    }\n",
       "\n",
       "    .dataframe thead th {\n",
       "        text-align: right;\n",
       "    }\n",
       "</style>\n",
       "<table border=\"1\" class=\"dataframe\">\n",
       "  <thead>\n",
       "    <tr style=\"text-align: right;\">\n",
       "      <th></th>\n",
       "      <th>story_id_num</th>\n",
       "      <th>lemmatized</th>\n",
       "      <th>vader</th>\n",
       "      <th>title</th>\n",
       "      <th>date</th>\n",
       "    </tr>\n",
       "  </thead>\n",
       "  <tbody>\n",
       "    <tr>\n",
       "      <th>749</th>\n",
       "      <td>2749</td>\n",
       "      <td>this is talk of the nation. i m neal conan in ...</td>\n",
       "      <td>-1.0</td>\n",
       "      <td>the epidemiology of gun violence: race, region...</td>\n",
       "      <td>2013-03-26</td>\n",
       "    </tr>\n",
       "    <tr>\n",
       "      <th>5731</th>\n",
       "      <td>19881</td>\n",
       "      <td>this is talk of the nation. i m neal conan in ...</td>\n",
       "      <td>-1.0</td>\n",
       "      <td>how do you define a hate crime?</td>\n",
       "      <td>2012-03-19</td>\n",
       "    </tr>\n",
       "    <tr>\n",
       "      <th>10730</th>\n",
       "      <td>55411</td>\n",
       "      <td>this is talk of the nation. i m neal conan , i...</td>\n",
       "      <td>-1.0</td>\n",
       "      <td>understanding suicide terrorism and how to sto...</td>\n",
       "      <td>2010-10-11</td>\n",
       "    </tr>\n",
       "    <tr>\n",
       "      <th>11827</th>\n",
       "      <td>58454</td>\n",
       "      <td>this is talk of the nation. im neal conan in w...</td>\n",
       "      <td>-1.0</td>\n",
       "      <td>deconstructing 'myths about suicide'</td>\n",
       "      <td>2010-04-28</td>\n",
       "    </tr>\n",
       "    <tr>\n",
       "      <th>15177</th>\n",
       "      <td>66409</td>\n",
       "      <td>this is talk of the nation. i m neal conan in ...</td>\n",
       "      <td>-1.0</td>\n",
       "      <td>the legacy of bush's 'war on terror'</td>\n",
       "      <td>2009-01-12</td>\n",
       "    </tr>\n",
       "    <tr>\n",
       "      <th>17237</th>\n",
       "      <td>71520</td>\n",
       "      <td>this is talk of the nation. i m neal conan in ...</td>\n",
       "      <td>-1.0</td>\n",
       "      <td>who carries out suicide bombings?</td>\n",
       "      <td>2008-01-22</td>\n",
       "    </tr>\n",
       "    <tr>\n",
       "      <th>18838</th>\n",
       "      <td>75087</td>\n",
       "      <td>this is talk of the nation. i m neal conan in ...</td>\n",
       "      <td>-1.0</td>\n",
       "      <td>how do we define terrorism?</td>\n",
       "      <td>2007-06-04</td>\n",
       "    </tr>\n",
       "    <tr>\n",
       "      <th>21189</th>\n",
       "      <td>79688</td>\n",
       "      <td>this is talk of the nation. i m neal conan , i...</td>\n",
       "      <td>-1.0</td>\n",
       "      <td>should the guantanamo prison be closed?</td>\n",
       "      <td>2006-05-23</td>\n",
       "    </tr>\n",
       "    <tr>\n",
       "      <th>21287</th>\n",
       "      <td>79858</td>\n",
       "      <td>from npr news in washington , dc , i m neal co...</td>\n",
       "      <td>-1.0</td>\n",
       "      <td>'war of nerves': a history of chemical weapons</td>\n",
       "      <td>2006-05-08</td>\n",
       "    </tr>\n",
       "  </tbody>\n",
       "</table>\n",
       "</div>"
      ],
      "text/plain": [
       "       story_id_num                                         lemmatized  vader  \\\n",
       "749            2749  this is talk of the nation. i m neal conan in ...   -1.0   \n",
       "5731          19881  this is talk of the nation. i m neal conan in ...   -1.0   \n",
       "10730         55411  this is talk of the nation. i m neal conan , i...   -1.0   \n",
       "11827         58454  this is talk of the nation. im neal conan in w...   -1.0   \n",
       "15177         66409  this is talk of the nation. i m neal conan in ...   -1.0   \n",
       "17237         71520  this is talk of the nation. i m neal conan in ...   -1.0   \n",
       "18838         75087  this is talk of the nation. i m neal conan in ...   -1.0   \n",
       "21189         79688  this is talk of the nation. i m neal conan , i...   -1.0   \n",
       "21287         79858  from npr news in washington , dc , i m neal co...   -1.0   \n",
       "\n",
       "                                                   title        date  \n",
       "749    the epidemiology of gun violence: race, region...  2013-03-26  \n",
       "5731                     how do you define a hate crime?  2012-03-19  \n",
       "10730  understanding suicide terrorism and how to sto...  2010-10-11  \n",
       "11827               deconstructing 'myths about suicide'  2010-04-28  \n",
       "15177               the legacy of bush's 'war on terror'  2009-01-12  \n",
       "17237                  who carries out suicide bombings?  2008-01-22  \n",
       "18838                        how do we define terrorism?  2007-06-04  \n",
       "21189            should the guantanamo prison be closed?  2006-05-23  \n",
       "21287     'war of nerves': a history of chemical weapons  2006-05-08  "
      ]
     },
     "execution_count": 36,
     "metadata": {},
     "output_type": "execute_result"
    }
   ],
   "source": [
    "darkest_stories = stories[stories.vader == -1]\n",
    "darkest_stories"
   ]
  },
  {
   "cell_type": "code",
   "execution_count": 37,
   "id": "4473b8a6",
   "metadata": {},
   "outputs": [
    {
     "name": "stdout",
     "output_type": "stream",
     "text": [
      "the epidemiology of gun violence: race, region and policy\n",
      "how do you define a hate crime?\n",
      "understanding suicide terrorism and how to stop it\n",
      "deconstructing 'myths about suicide'\n",
      "the legacy of bush's 'war on terror'\n",
      "who carries out suicide bombings?\n",
      "how do we define terrorism?\n",
      "should the guantanamo prison be closed?\n",
      "'war of nerves': a history of chemical weapons\n"
     ]
    }
   ],
   "source": [
    "for story in darkest_stories.title:\n",
    "    print(story)"
   ]
  },
  {
   "cell_type": "markdown",
   "id": "593f83f5",
   "metadata": {},
   "source": [
    "- Here's a list of the stories with the lowest possible sentiment score"
   ]
  },
  {
   "cell_type": "code",
   "execution_count": 38,
   "id": "803dc5a4",
   "metadata": {},
   "outputs": [
    {
     "data": {
      "text/html": [
       "<div>\n",
       "<style scoped>\n",
       "    .dataframe tbody tr th:only-of-type {\n",
       "        vertical-align: middle;\n",
       "    }\n",
       "\n",
       "    .dataframe tbody tr th {\n",
       "        vertical-align: top;\n",
       "    }\n",
       "\n",
       "    .dataframe thead th {\n",
       "        text-align: right;\n",
       "    }\n",
       "</style>\n",
       "<table border=\"1\" class=\"dataframe\">\n",
       "  <thead>\n",
       "    <tr style=\"text-align: right;\">\n",
       "      <th></th>\n",
       "      <th>story_id_num</th>\n",
       "      <th>lemmatized</th>\n",
       "      <th>vader</th>\n",
       "      <th>title</th>\n",
       "      <th>date</th>\n",
       "    </tr>\n",
       "  </thead>\n",
       "  <tbody>\n",
       "    <tr>\n",
       "      <th>39</th>\n",
       "      <td>620</td>\n",
       "      <td>looking ahead to our last day , many of our fr...</td>\n",
       "      <td>1.0</td>\n",
       "      <td>so hard to say goodbye: advice for farewell notes</td>\n",
       "      <td>2013-06-27</td>\n",
       "    </tr>\n",
       "  </tbody>\n",
       "</table>\n",
       "</div>"
      ],
      "text/plain": [
       "    story_id_num                                         lemmatized  vader  \\\n",
       "39           620  looking ahead to our last day , many of our fr...    1.0   \n",
       "\n",
       "                                                title        date  \n",
       "39  so hard to say goodbye: advice for farewell notes  2013-06-27  "
      ]
     },
     "execution_count": 38,
     "metadata": {},
     "output_type": "execute_result"
    }
   ],
   "source": [
    "brightest_stories = stories[stories.vader == 1]\n",
    "brightest_stories.head(1)"
   ]
  },
  {
   "cell_type": "code",
   "execution_count": 39,
   "id": "5e6c7568",
   "metadata": {},
   "outputs": [],
   "source": [
    "brightest_stories_title_list = []\n",
    "for story in brightest_stories.title:\n",
    "    brightest_stories_title_list.append(story)"
   ]
  },
  {
   "cell_type": "code",
   "execution_count": 40,
   "id": "20438f54",
   "metadata": {},
   "outputs": [
    {
     "data": {
      "text/plain": [
       "['so hard to say goodbye: advice for farewell notes',\n",
       " 'a look ahead and a farewell to the political junkie',\n",
       " 'what changes after supreme court rulings on prop 8 and doma',\n",
       " \"gospel legend mavis staples comes 'full circle'\",\n",
       " \"'blood &amp; beauty' breathes new life into the borgias\",\n",
       " 'the penultimate edition of the political junkie',\n",
       " 'will work for free? the future of the unpaid internship',\n",
       " \"india.arie returns, with an eye toward a new 'songversation'\",\n",
       " \"from 'casablanca' to 'e.t. the extra-terrestrial': famous farewells in film\",\n",
       " 'inside the cel: behind the scenes with animators',\n",
       " 'a look ahead to the future of the gop',\n",
       " 'the scifri book club takes a hike',\n",
       " 'the role of the attorney general throughout history',\n",
       " 'cartoonist lynda barry helps college students tap innate creativity',\n",
       " 'looking ahead with the wonders of krulwich',\n",
       " 'the promise and limitations of telemedicine',\n",
       " \"iowa's open senate seat and rumbles about 2016\",\n",
       " 'hospital costs go public: what changes in health care?',\n",
       " 'a look ahead to the future of new orleans',\n",
       " 'michael pollan: you are what you cook',\n",
       " 'to avoid or to embrace? how actors navigate stereotypes',\n",
       " \"utah's fossil finds describe an ancient world\",\n",
       " 'when conscience conflicts with constituents',\n",
       " 'robert ballard: 50 years exploring deep waters',\n",
       " 'tackling terrible traffic: how cities try to ease commutes',\n",
       " 'second chances in american politics',\n",
       " 'coaching through crisis: how teams get through rough spots',\n",
       " 'gripping science tales need not be science fiction',\n",
       " 'personal stories and shifting opinions on same-sex marriage',\n",
       " \"amid syria's crisis, mental health care for refugees\"]"
      ]
     },
     "execution_count": 40,
     "metadata": {},
     "output_type": "execute_result"
    }
   ],
   "source": [
    "# brightest_stories_title_list = pd.DataFrame(brightest_stories_title_list)\n",
    "brightest_stories_title_list[:30]"
   ]
  },
  {
   "cell_type": "markdown",
   "id": "4198b668",
   "metadata": {},
   "source": [
    "-  At first glance, these brightest stories seem to mostly belong to a 'human interest' typee news category"
   ]
  },
  {
   "cell_type": "code",
   "execution_count": 41,
   "id": "5215407a",
   "metadata": {},
   "outputs": [],
   "source": [
    "# stories.lemmatized[stories.title == \"iowa's open senate seat and rumbles about 2016\"].values"
   ]
  },
  {
   "cell_type": "markdown",
   "id": "3a1546f5",
   "metadata": {},
   "source": [
    "- One oddball example in the bright stories, unusually about politics"
   ]
  },
  {
   "cell_type": "code",
   "execution_count": 42,
   "id": "a585dbea",
   "metadata": {},
   "outputs": [
    {
     "data": {
      "text/html": [
       "<div>\n",
       "<style scoped>\n",
       "    .dataframe tbody tr th:only-of-type {\n",
       "        vertical-align: middle;\n",
       "    }\n",
       "\n",
       "    .dataframe tbody tr th {\n",
       "        vertical-align: top;\n",
       "    }\n",
       "\n",
       "    .dataframe thead th {\n",
       "        text-align: right;\n",
       "    }\n",
       "</style>\n",
       "<table border=\"1\" class=\"dataframe\">\n",
       "  <thead>\n",
       "    <tr style=\"text-align: right;\">\n",
       "      <th></th>\n",
       "      <th>story_id_num</th>\n",
       "      <th>lemmatized</th>\n",
       "      <th>vader</th>\n",
       "      <th>title</th>\n",
       "      <th>date</th>\n",
       "    </tr>\n",
       "  </thead>\n",
       "  <tbody>\n",
       "    <tr>\n",
       "      <th>0</th>\n",
       "      <td>17</td>\n",
       "      <td>he is in cahoot with a foreign government to m...</td>\n",
       "      <td>0.9964</td>\n",
       "      <td>n.j. democrat on reported whistleblower compla...</td>\n",
       "      <td>2019-09-22</td>\n",
       "    </tr>\n",
       "    <tr>\n",
       "      <th>1</th>\n",
       "      <td>18</td>\n",
       "      <td>come with concrete plan , not beautiful speech...</td>\n",
       "      <td>0.9993</td>\n",
       "      <td>ahead of climate summit, 2 views from cities i...</td>\n",
       "      <td>2019-09-22</td>\n",
       "    </tr>\n",
       "    <tr>\n",
       "      <th>2</th>\n",
       "      <td>19</td>\n",
       "      <td>if you stand outside the old dekalb county cou...</td>\n",
       "      <td>0.9974</td>\n",
       "      <td>barred from removing confederate monument, cou...</td>\n",
       "      <td>2019-09-22</td>\n",
       "    </tr>\n",
       "    <tr>\n",
       "      <th>3</th>\n",
       "      <td>20</td>\n",
       "      <td>you may have spotted pink salt in your superma...</td>\n",
       "      <td>0.4950</td>\n",
       "      <td>pakistan's pink himalayan salt has become a ma...</td>\n",
       "      <td>2019-09-22</td>\n",
       "    </tr>\n",
       "    <tr>\n",
       "      <th>4</th>\n",
       "      <td>21</td>\n",
       "      <td>singing in foreign language . the other day , ...</td>\n",
       "      <td>0.9730</td>\n",
       "      <td>10 years after haiti's earthquake, 'this music...</td>\n",
       "      <td>2019-09-22</td>\n",
       "    </tr>\n",
       "  </tbody>\n",
       "</table>\n",
       "</div>"
      ],
      "text/plain": [
       "   story_id_num                                         lemmatized   vader  \\\n",
       "0            17  he is in cahoot with a foreign government to m...  0.9964   \n",
       "1            18  come with concrete plan , not beautiful speech...  0.9993   \n",
       "2            19  if you stand outside the old dekalb county cou...  0.9974   \n",
       "3            20  you may have spotted pink salt in your superma...  0.4950   \n",
       "4            21  singing in foreign language . the other day , ...  0.9730   \n",
       "\n",
       "                                               title        date  \n",
       "0  n.j. democrat on reported whistleblower compla...  2019-09-22  \n",
       "1  ahead of climate summit, 2 views from cities i...  2019-09-22  \n",
       "2  barred from removing confederate monument, cou...  2019-09-22  \n",
       "3  pakistan's pink himalayan salt has become a ma...  2019-09-22  \n",
       "4  10 years after haiti's earthquake, 'this music...  2019-09-22  "
      ]
     },
     "execution_count": 42,
     "metadata": {},
     "output_type": "execute_result"
    }
   ],
   "source": [
    "stories.head()"
   ]
  },
  {
   "cell_type": "code",
   "execution_count": 43,
   "id": "17b5bc9f",
   "metadata": {},
   "outputs": [],
   "source": [
    "# get dates for the stories from original df\n",
    "# stories['date'] = df.groupby(['story_id_num']).date.first().tolist()"
   ]
  },
  {
   "cell_type": "code",
   "execution_count": 44,
   "id": "3aa5b727",
   "metadata": {},
   "outputs": [],
   "source": [
    "# get new csv\n",
    "# stories.to_csv(\"stories.csv\")"
   ]
  },
  {
   "cell_type": "code",
   "execution_count": 45,
   "id": "3841d902",
   "metadata": {},
   "outputs": [],
   "source": [
    "stories.date = pd.to_datetime(stories.date)"
   ]
  },
  {
   "cell_type": "code",
   "execution_count": 46,
   "id": "81dbdd78",
   "metadata": {
    "scrolled": true
   },
   "outputs": [
    {
     "data": {
      "text/plain": [
       "story_id_num             int64\n",
       "lemmatized              object\n",
       "vader                  float64\n",
       "title                   object\n",
       "date            datetime64[ns]\n",
       "dtype: object"
      ]
     },
     "execution_count": 46,
     "metadata": {},
     "output_type": "execute_result"
    }
   ],
   "source": [
    "stories.dtypes"
   ]
  },
  {
   "cell_type": "code",
   "execution_count": 47,
   "id": "f6938346",
   "metadata": {},
   "outputs": [
    {
     "data": {
      "text/html": [
       "<div>\n",
       "<style scoped>\n",
       "    .dataframe tbody tr th:only-of-type {\n",
       "        vertical-align: middle;\n",
       "    }\n",
       "\n",
       "    .dataframe tbody tr th {\n",
       "        vertical-align: top;\n",
       "    }\n",
       "\n",
       "    .dataframe thead th {\n",
       "        text-align: right;\n",
       "    }\n",
       "</style>\n",
       "<table border=\"1\" class=\"dataframe\">\n",
       "  <thead>\n",
       "    <tr style=\"text-align: right;\">\n",
       "      <th></th>\n",
       "      <th>story_id_num</th>\n",
       "      <th>lemmatized</th>\n",
       "      <th>vader</th>\n",
       "      <th>title</th>\n",
       "      <th>date</th>\n",
       "    </tr>\n",
       "    <tr>\n",
       "      <th>date</th>\n",
       "      <th></th>\n",
       "      <th></th>\n",
       "      <th></th>\n",
       "      <th></th>\n",
       "      <th></th>\n",
       "    </tr>\n",
       "  </thead>\n",
       "  <tbody>\n",
       "    <tr>\n",
       "      <th>2005-01-11</th>\n",
       "      <td>84430</td>\n",
       "      <td>this is talk of the nation. i m neal conan in ...</td>\n",
       "      <td>1.0000</td>\n",
       "      <td>state legislatures: agendas and budgets</td>\n",
       "      <td>2005-01-11</td>\n",
       "    </tr>\n",
       "    <tr>\n",
       "      <th>2005-01-11</th>\n",
       "      <td>84432</td>\n",
       "      <td>this is talk of the nation. i m neal conan in ...</td>\n",
       "      <td>0.9999</td>\n",
       "      <td>difference between a think and a 'blink'</td>\n",
       "      <td>2005-01-11</td>\n",
       "    </tr>\n",
       "    <tr>\n",
       "      <th>2005-01-11</th>\n",
       "      <td>84433</td>\n",
       "      <td>this is talk of the nation. i m neal conan in ...</td>\n",
       "      <td>0.9999</td>\n",
       "      <td>bush picks judge to head homeland security</td>\n",
       "      <td>2005-01-11</td>\n",
       "    </tr>\n",
       "    <tr>\n",
       "      <th>2005-01-11</th>\n",
       "      <td>84434</td>\n",
       "      <td>scientist at the national oceanic and atmosphe...</td>\n",
       "      <td>0.9914</td>\n",
       "      <td>noaa aims for predicting tsunamis</td>\n",
       "      <td>2005-01-11</td>\n",
       "    </tr>\n",
       "    <tr>\n",
       "      <th>2005-01-11</th>\n",
       "      <td>84431</td>\n",
       "      <td>this is talk of the nation. i m neal conan in ...</td>\n",
       "      <td>0.9999</td>\n",
       "      <td>california rains bring rash of mudslides</td>\n",
       "      <td>2005-01-11</td>\n",
       "    </tr>\n",
       "  </tbody>\n",
       "</table>\n",
       "</div>"
      ],
      "text/plain": [
       "            story_id_num                                         lemmatized  \\\n",
       "date                                                                          \n",
       "2005-01-11         84430  this is talk of the nation. i m neal conan in ...   \n",
       "2005-01-11         84432  this is talk of the nation. i m neal conan in ...   \n",
       "2005-01-11         84433  this is talk of the nation. i m neal conan in ...   \n",
       "2005-01-11         84434  scientist at the national oceanic and atmosphe...   \n",
       "2005-01-11         84431  this is talk of the nation. i m neal conan in ...   \n",
       "\n",
       "             vader                                       title       date  \n",
       "date                                                                       \n",
       "2005-01-11  1.0000     state legislatures: agendas and budgets 2005-01-11  \n",
       "2005-01-11  0.9999    difference between a think and a 'blink' 2005-01-11  \n",
       "2005-01-11  0.9999  bush picks judge to head homeland security 2005-01-11  \n",
       "2005-01-11  0.9914           noaa aims for predicting tsunamis 2005-01-11  \n",
       "2005-01-11  0.9999    california rains bring rash of mudslides 2005-01-11  "
      ]
     },
     "execution_count": 47,
     "metadata": {},
     "output_type": "execute_result"
    }
   ],
   "source": [
    "# assign new df for tsa looksy\n",
    "tsa = stories.set_index(stories.date).sort_index()\n",
    "tsa.head()"
   ]
  },
  {
   "cell_type": "code",
   "execution_count": 48,
   "id": "663a91d6",
   "metadata": {},
   "outputs": [
    {
     "data": {
      "text/plain": [
       "<AxesSubplot:xlabel='date'>"
      ]
     },
     "execution_count": 48,
     "metadata": {},
     "output_type": "execute_result"
    },
    {
     "data": {
      "image/png": "[encoded data removed]",
      "text/plain": [
       "<Figure size 432x288 with 1 Axes>"
      ]
     },
     "metadata": {
      "needs_background": "light"
     },
     "output_type": "display_data"
    }
   ],
   "source": [
    "# plot stories by sentiment, resampled weekly, averaged out\n",
    "tsa.vader.resample('w').mean().plot()"
   ]
  },
  {
   "cell_type": "code",
   "execution_count": 49,
   "id": "16d230c9",
   "metadata": {},
   "outputs": [
    {
     "data": {
      "text/html": [
       "<div>\n",
       "<style scoped>\n",
       "    .dataframe tbody tr th:only-of-type {\n",
       "        vertical-align: middle;\n",
       "    }\n",
       "\n",
       "    .dataframe tbody tr th {\n",
       "        vertical-align: top;\n",
       "    }\n",
       "\n",
       "    .dataframe thead th {\n",
       "        text-align: right;\n",
       "    }\n",
       "</style>\n",
       "<table border=\"1\" class=\"dataframe\">\n",
       "  <thead>\n",
       "    <tr style=\"text-align: right;\">\n",
       "      <th></th>\n",
       "      <th>vader</th>\n",
       "    </tr>\n",
       "    <tr>\n",
       "      <th>date</th>\n",
       "      <th></th>\n",
       "    </tr>\n",
       "  </thead>\n",
       "  <tbody>\n",
       "    <tr>\n",
       "      <th>2005-01-16</th>\n",
       "      <td>0.998220</td>\n",
       "    </tr>\n",
       "    <tr>\n",
       "      <th>2005-01-23</th>\n",
       "      <td>NaN</td>\n",
       "    </tr>\n",
       "    <tr>\n",
       "      <th>2005-01-30</th>\n",
       "      <td>0.999800</td>\n",
       "    </tr>\n",
       "    <tr>\n",
       "      <th>2005-02-06</th>\n",
       "      <td>NaN</td>\n",
       "    </tr>\n",
       "    <tr>\n",
       "      <th>2005-02-13</th>\n",
       "      <td>NaN</td>\n",
       "    </tr>\n",
       "    <tr>\n",
       "      <th>...</th>\n",
       "      <td>...</td>\n",
       "    </tr>\n",
       "    <tr>\n",
       "      <th>2019-09-15</th>\n",
       "      <td>0.712144</td>\n",
       "    </tr>\n",
       "    <tr>\n",
       "      <th>2019-09-22</th>\n",
       "      <td>0.589789</td>\n",
       "    </tr>\n",
       "    <tr>\n",
       "      <th>2019-09-29</th>\n",
       "      <td>0.839537</td>\n",
       "    </tr>\n",
       "    <tr>\n",
       "      <th>2019-10-06</th>\n",
       "      <td>0.721716</td>\n",
       "    </tr>\n",
       "    <tr>\n",
       "      <th>2019-10-13</th>\n",
       "      <td>0.465194</td>\n",
       "    </tr>\n",
       "  </tbody>\n",
       "</table>\n",
       "<p>770 rows × 1 columns</p>\n",
       "</div>"
      ],
      "text/plain": [
       "               vader\n",
       "date                \n",
       "2005-01-16  0.998220\n",
       "2005-01-23       NaN\n",
       "2005-01-30  0.999800\n",
       "2005-02-06       NaN\n",
       "2005-02-13       NaN\n",
       "...              ...\n",
       "2019-09-15  0.712144\n",
       "2019-09-22  0.589789\n",
       "2019-09-29  0.839537\n",
       "2019-10-06  0.721716\n",
       "2019-10-13  0.465194\n",
       "\n",
       "[770 rows x 1 columns]"
      ]
     },
     "execution_count": 49,
     "metadata": {},
     "output_type": "execute_result"
    }
   ],
   "source": [
    "# assign new df for the weekly sample of vader\n",
    "weekly_tsa=pd.DataFrame(tsa.vader.resample('w').mean())\n",
    "weekly_tsa"
   ]
  },
  {
   "cell_type": "code",
   "execution_count": 50,
   "id": "cf2396c3",
   "metadata": {},
   "outputs": [
    {
     "data": {
      "text/plain": [
       "vader    0\n",
       "dtype: int64"
      ]
     },
     "execution_count": 50,
     "metadata": {},
     "output_type": "execute_result"
    }
   ],
   "source": [
    "# drop 14 nulls\n",
    "weekly_tsa = weekly_tsa.dropna()\n",
    "weekly_tsa.isna().sum()"
   ]
  },
  {
   "cell_type": "code",
   "execution_count": 51,
   "id": "a6e14472",
   "metadata": {},
   "outputs": [
    {
     "data": {
      "text/html": [
       "<div>\n",
       "<style scoped>\n",
       "    .dataframe tbody tr th:only-of-type {\n",
       "        vertical-align: middle;\n",
       "    }\n",
       "\n",
       "    .dataframe tbody tr th {\n",
       "        vertical-align: top;\n",
       "    }\n",
       "\n",
       "    .dataframe thead th {\n",
       "        text-align: right;\n",
       "    }\n",
       "</style>\n",
       "<table border=\"1\" class=\"dataframe\">\n",
       "  <thead>\n",
       "    <tr style=\"text-align: right;\">\n",
       "      <th></th>\n",
       "      <th>vader</th>\n",
       "      <th>weekly_diff</th>\n",
       "    </tr>\n",
       "    <tr>\n",
       "      <th>date</th>\n",
       "      <th></th>\n",
       "      <th></th>\n",
       "    </tr>\n",
       "  </thead>\n",
       "  <tbody>\n",
       "    <tr>\n",
       "      <th>2005-01-16</th>\n",
       "      <td>0.998220</td>\n",
       "      <td>NaN</td>\n",
       "    </tr>\n",
       "    <tr>\n",
       "      <th>2005-01-30</th>\n",
       "      <td>0.999800</td>\n",
       "      <td>0.001580</td>\n",
       "    </tr>\n",
       "    <tr>\n",
       "      <th>2005-05-08</th>\n",
       "      <td>0.596417</td>\n",
       "      <td>-0.403383</td>\n",
       "    </tr>\n",
       "    <tr>\n",
       "      <th>2005-05-15</th>\n",
       "      <td>0.503421</td>\n",
       "      <td>-0.092997</td>\n",
       "    </tr>\n",
       "    <tr>\n",
       "      <th>2005-05-22</th>\n",
       "      <td>0.433512</td>\n",
       "      <td>-0.069909</td>\n",
       "    </tr>\n",
       "  </tbody>\n",
       "</table>\n",
       "</div>"
      ],
      "text/plain": [
       "               vader  weekly_diff\n",
       "date                             \n",
       "2005-01-16  0.998220          NaN\n",
       "2005-01-30  0.999800     0.001580\n",
       "2005-05-08  0.596417    -0.403383\n",
       "2005-05-15  0.503421    -0.092997\n",
       "2005-05-22  0.433512    -0.069909"
      ]
     },
     "execution_count": 51,
     "metadata": {},
     "output_type": "execute_result"
    }
   ],
   "source": [
    "# add vader difference from week to week\n",
    "weekly_tsa['weekly_diff']= weekly_tsa.vader.diff(1)\n",
    "weekly_tsa.head()"
   ]
  },
  {
   "cell_type": "markdown",
   "id": "9f114ea2",
   "metadata": {},
   "source": [
    "### What week saw the biggest drop in sentiment?  "
   ]
  },
  {
   "cell_type": "code",
   "execution_count": 52,
   "id": "927b1392",
   "metadata": {},
   "outputs": [
    {
     "data": {
      "text/plain": [
       "Timestamp('2010-08-01 00:00:00')"
      ]
     },
     "execution_count": 52,
     "metadata": {},
     "output_type": "execute_result"
    }
   ],
   "source": [
    "weekly_tsa.weekly_diff.idxmin()"
   ]
  },
  {
   "cell_type": "markdown",
   "id": "f2758830",
   "metadata": {},
   "source": [
    "- At Least 400 Killed in Pakistan Floods (July 30)\n",
    "- Plane Crash in Pakistan Kills All 152 on Board (July 28)\n",
    "- U.S. Economy Lost 131,000 Jobs in July; Unemployment Remains at 9.5% (Aug. 6)\n",
    "- CA Gay Marriage Ban Overturned (Aug. 4)\n",
    "\n",
    "### Not a lot of concrete evidence of what would cause such a drop"
   ]
  },
  {
   "cell_type": "markdown",
   "id": "4cf06978",
   "metadata": {},
   "source": [
    "### And the biggest increasee?"
   ]
  },
  {
   "cell_type": "code",
   "execution_count": 53,
   "id": "42ab1dcc",
   "metadata": {},
   "outputs": [
    {
     "data": {
      "text/plain": [
       "Timestamp('2015-11-29 00:00:00')"
      ]
     },
     "execution_count": 53,
     "metadata": {},
     "output_type": "execute_result"
    }
   ],
   "source": [
    "weekly_tsa.weekly_diff.idxmax()"
   ]
  },
  {
   "cell_type": "markdown",
   "id": "ab30c832",
   "metadata": {},
   "source": [
    "- 13November2015: Paris terrorist attacks\n",
    "- Three Killed at Planned Parenthood Shooting in Colorado Springs (Nov. 27)\n",
    "- Russian Airliner Brought Down by Bomb (Nov. 17)\n",
    "\n",
    "### Again, nothing concrete: an index of the noise in the data"
   ]
  },
  {
   "cell_type": "markdown",
   "id": "84871056",
   "metadata": {},
   "source": [
    "## Below begins my attempt to use gensim for LDA topic modeling"
   ]
  },
  {
   "cell_type": "code",
   "execution_count": 54,
   "id": "9d8d3845",
   "metadata": {},
   "outputs": [
    {
     "name": "stderr",
     "output_type": "stream",
     "text": [
      "[nltk_data] Downloading package stopwords to\n",
      "[nltk_data]     /Users/brianclements/nltk_data...\n",
      "[nltk_data]   Package stopwords is already up-to-date!\n"
     ]
    },
    {
     "name": "stdout",
     "output_type": "stream",
     "text": [
      "['cahoot', 'foreign', 'government', 'manipulate', 'outcome', 'election', 'comment', 'democratic', 'presidential', 'candidate', 'california', 'senator', 'kamala', 'harris', 'impeachable', 'close', 'call', 'hawaii', 'senator', 'brian', 'schatz', 'new', 'york', 'congresswoman', 'alexandria', 'ocasio', 'cortez', 'point', 'beyond', 'constitutional']\n"
     ]
    }
   ],
   "source": [
    "import gensim\n",
    "from gensim.utils import simple_preprocess\n",
    "import nltk\n",
    "nltk.download('stopwords')\n",
    "from nltk.corpus import stopwords\n",
    "stop_words = stopwords.words('english')\n",
    "# stop_words.extend(['from', 'subject', 're', 'edu', 'use'])\n",
    "def sent_to_words(sentences):\n",
    "    for sentence in sentences:\n",
    "        # deacc=True removes punctuations\n",
    "        yield(gensim.utils.simple_preprocess(str(sentence), deacc=False))\n",
    "def remove_stopwords(texts):\n",
    "    return [[word for word in simple_preprocess(str(doc)) \n",
    "             if word not in stop_words] for doc in texts]\n",
    "data = stories.lemmatized.values.tolist()\n",
    "data_words = list(sent_to_words(data))\n",
    "# remove stop words\n",
    "data_words = remove_stopwords(data_words)\n",
    "print(data_words[:1][0][:30])"
   ]
  },
  {
   "cell_type": "code",
   "execution_count": 55,
   "id": "ce9b4e56",
   "metadata": {},
   "outputs": [
    {
     "name": "stdout",
     "output_type": "stream",
     "text": [
      "[(0, 2), (1, 1), (2, 1), (3, 1), (4, 2), (5, 1), (6, 1), (7, 1), (8, 1), (9, 2), (10, 1), (11, 2), (12, 1), (13, 1), (14, 1), (15, 1), (16, 1), (17, 1), (18, 1), (19, 1), (20, 2), (21, 3), (22, 1), (23, 1), (24, 1), (25, 1), (26, 1), (27, 1), (28, 1), (29, 4)]\n"
     ]
    }
   ],
   "source": [
    "import gensim.corpora as corpora\n",
    "# Create Dictionary\n",
    "id2word = corpora.Dictionary(data_words)\n",
    "# Create Corpus\n",
    "texts = data_words\n",
    "# Term Document Frequency\n",
    "corpus = [id2word.doc2bow(text) for text in texts]\n",
    "# View\n",
    "print(corpus[:1][0][:30])"
   ]
  },
  {
   "cell_type": "code",
   "execution_count": 56,
   "id": "7a65c06f",
   "metadata": {},
   "outputs": [
    {
     "name": "stdout",
     "output_type": "stream",
     "text": [
      "[(0,\n",
      "  '0.013*\"wa\" + 0.012*\"know\" + 0.008*\"people\" + 0.007*\"like\" + 0.007*\"going\" + '\n",
      "  '0.007*\"one\" + 0.007*\"think\" + 0.007*\"ha\" + 0.006*\"say\" + 0.006*\"much\"'),\n",
      " (1,\n",
      "  '0.014*\"know\" + 0.012*\"wa\" + 0.008*\"like\" + 0.008*\"think\" + 0.007*\"people\" + '\n",
      "  '0.006*\"thing\" + 0.006*\"get\" + 0.006*\"well\" + 0.006*\"going\" + 0.006*\"ha\"'),\n",
      " (2,\n",
      "  '0.017*\"wa\" + 0.009*\"know\" + 0.009*\"like\" + 0.008*\"people\" + 0.008*\"well\" + '\n",
      "  '0.008*\"one\" + 0.007*\"think\" + 0.006*\"say\" + 0.006*\"time\" + 0.005*\"would\"'),\n",
      " (3,\n",
      "  '0.015*\"wa\" + 0.010*\"think\" + 0.009*\"know\" + 0.008*\"people\" + 0.007*\"say\" + '\n",
      "  '0.007*\"well\" + 0.007*\"ha\" + 0.006*\"right\" + 0.006*\"year\" + 0.006*\"one\"'),\n",
      " (4,\n",
      "  '0.020*\"wa\" + 0.010*\"know\" + 0.009*\"people\" + 0.008*\"one\" + 0.007*\"say\" + '\n",
      "  '0.007*\"think\" + 0.005*\"time\" + 0.005*\"go\" + 0.005*\"ha\" + 0.005*\"like\"'),\n",
      " (5,\n",
      "  '0.010*\"wa\" + 0.009*\"people\" + 0.008*\"say\" + 0.008*\"know\" + 0.007*\"year\" + '\n",
      "  '0.006*\"going\" + 0.006*\"well\" + 0.006*\"one\" + 0.006*\"would\" + 0.006*\"ha\"'),\n",
      " (6,\n",
      "  '0.011*\"wa\" + 0.008*\"ha\" + 0.008*\"say\" + 0.007*\"people\" + 0.007*\"know\" + '\n",
      "  '0.007*\"one\" + 0.006*\"think\" + 0.005*\"would\" + 0.005*\"well\" + '\n",
      "  '0.005*\"president\"'),\n",
      " (7,\n",
      "  '0.018*\"wa\" + 0.014*\"know\" + 0.008*\"say\" + 0.008*\"think\" + 0.007*\"ha\" + '\n",
      "  '0.006*\"people\" + 0.006*\"like\" + 0.006*\"one\" + 0.005*\"going\" + 0.005*\"well\"'),\n",
      " (8,\n",
      "  '0.011*\"wa\" + 0.010*\"know\" + 0.009*\"people\" + 0.008*\"think\" + 0.008*\"say\" + '\n",
      "  '0.008*\"like\" + 0.007*\"one\" + 0.006*\"well\" + 0.006*\"get\" + 0.006*\"going\"'),\n",
      " (9,\n",
      "  '0.018*\"wa\" + 0.012*\"know\" + 0.010*\"think\" + 0.008*\"one\" + 0.007*\"people\" + '\n",
      "  '0.007*\"well\" + 0.007*\"going\" + 0.006*\"say\" + 0.005*\"would\" + 0.005*\"ha\"')]\n"
     ]
    }
   ],
   "source": [
    "from pprint import pprint\n",
    "# number of topics\n",
    "num_topics = 10\n",
    "# Build LDA model\n",
    "lda_model = gensim.models.LdaMulticore(corpus=corpus,\n",
    "                                       id2word=id2word,\n",
    "                                       num_topics=num_topics)\n",
    "# Print the Keyword in the 10 topics\n",
    "pprint(lda_model.print_topics())\n",
    "doc_lda = lda_model[corpus]"
   ]
  },
  {
   "cell_type": "code",
   "execution_count": 57,
   "id": "cc08c102",
   "metadata": {},
   "outputs": [
    {
     "data": {
      "text/html": [
       "\n",
       "<link rel=\"stylesheet\" type=\"text/css\" href=\"https://cdn.jsdelivr.net/gh/bmabey/pyLDAvis@3.3.1/pyLDAvis/js/ldavis.v1.0.0.css\">\n",
       "\n",
       "\n",
       "<div id=\"ldavis_el145241405966573442883559216540\"></div>\n",
       "<script type=\"text/javascript\">\n",
       "\n",
       "var ldavis_el145241405966573442883559216540_data = {\"mdsDat\": {\"x\": [0.027976306522235837, 0.007569812985267692, -0.009808286005157563, -0.0037475849149857265, -0.008201261757666015, -0.00640827468621487, 0.0018006272600319658, -0.003030217923157144, -0.005476101918732068, -0.0006750195616221047], \"y\": [-0.003206178890348457, 0.015073365288486256, 0.004673344889594532, -0.004798287672197616, 0.0017280334288087816, -0.0006094295691366768, -0.005629021626689314, -0.003523317837934374, -0.002222977021634383, -0.0014855309889487496], \"topics\": [1, 2, 3, 4, 5, 6, 7, 8, 9, 10], \"cluster\": [1, 1, 1, 1, 1, 1, 1, 1, 1, 1], \"Freq\": [24.64668789862062, 13.883102330652191, 9.589315474393805, 9.506742867530386, 8.558132924614167, 7.962434295317456, 7.839608781209205, 6.702306700734033, 6.600791701335422, 4.710877025592701]}, \"tinfo\": {\"Term\": [\"wa\", \"know\", \"think\", \"like\", \"well\", \"people\", \"one\", \"going\", \"really\", \"get\", \"thing\", \"much\", \"right\", \"say\", \"year\", \"go\", \"time\", \"new\", \"lot\", \"ha\", \"would\", \"mean\", \"kind\", \"yeah\", \"also\", \"way\", \"talk\", \"see\", \"actually\", \"good\", \"kempthorne\", \"ryzhkov\", \"halabja\", \"haniyeh\", \"nadim\", \"malaki\", \"jalal\", \"kuperwasser\", \"moqtada\", \"barstow\", \"hasna\", \"burd\", \"hendren\", \"yukos\", \"efraim\", \"nemtsov\", \"wolfowitz\", \"thaksin\", \"militiaman\", \"sadr\", \"baathification\", \"delphi\", \"tarabay\", \"tuttle\", \"hadian\", \"behravesh\", \"fathi\", \"subramanian\", \"shiite\", \"khadr\", \"maliki\", \"hezbollah\", \"lebanese\", \"nouri\", \"welna\", \"khalilzad\", \"lebanon\", \"kelemen\", \"detainee\", \"kurdistan\", \"ceasefire\", \"fatah\", \"sunni\", \"iraqi\", \"baghdad\", \"annan\", \"mahdi\", \"hamas\", \"iraq\", \"insurgent\", \"translator\", \"tax\", \"troop\", \"militia\", \"iran\", \"government\", \"sectarian\", \"minister\", \"gaza\", \"republican\", \"president\", \"democrat\", \"bush\", \"congress\", \"israel\", \"syria\", \"military\", \"al\", \"leader\", \"security\", \"ha\", \"foreign\", \"force\", \"npr\", \"house\", \"say\", \"state\", \"news\", \"would\", \"wa\", \"one\", \"today\", \"people\", \"country\", \"said\", \"well\", \"think\", \"know\", \"time\", \"going\", \"like\", \"year\", \"thing\", \"want\", \"right\", \"still\", \"way\", \"also\", \"get\", \"new\", \"go\", \"much\", \"skilling\", \"fastow\", \"wethington\", \"lusk\", \"blackstone\", \"oktoberfest\", \"anwyl\", \"unleaded\", \"gaffney\", \"kerkorian\", \"camaro\", \"dinardo\", \"lindland\", \"metlife\", \"decal\", \"daimler\", \"camry\", \"softbank\", \"asr\", \"priuses\", \"wego\", \"mercantile\", \"consistory\", \"honda\", \"yopo\", \"crossbreed\", \"magister\", \"kranch\", \"enron\", \"tributaries\", \"cpi\", \"zandi\", \"bernanke\", \"lipton\", \"toyota\", \"hybrid\", \"subprime\", \"carpool\", \"mileage\", \"carmaker\", \"gallon\", \"stearns\", \"gasoline\", \"investor\", \"prius\", \"price\", \"dow\", \"hp\", \"automaker\", \"chrysler\", \"stock\", \"car\", \"gas\", \"gm\", \"inflation\", \"shareholder\", \"company\", \"fuel\", \"bank\", \"consumer\", \"insurance\", \"market\", \"year\", \"voting\", \"mortgage\", \"say\", \"new\", \"climate\", \"people\", \"going\", \"would\", \"obama\", \"time\", \"well\", \"economy\", \"million\", \"come\", \"get\", \"wa\", \"ha\", \"know\", \"one\", \"make\", \"like\", \"npr\", \"really\", \"good\", \"american\", \"back\", \"also\", \"lot\", \"think\", \"go\", \"right\", \"thing\", \"got\", \"two\", \"state\", \"much\", \"want\", \"said\", \"seidel\", \"jenkinson\", \"taub\", \"cassiday\", \"niemeyer\", \"mga\", \"rosanna\", \"couper\", \"kicker\", \"mickelson\", \"rybak\", \"enterovirus\", \"lampkins\", \"barbaro\", \"sirat\", \"hempels\", \"valeriano\", \"tourre\", \"voa\", \"tram\", \"bratz\", \"eilidh\", \"scrunchie\", \"manspreading\", \"morsel\", \"wightman\", \"mclaren\", \"routh\", \"delgadillo\", \"bellflower\", \"valk\", \"bitcoins\", \"morten\", \"fatsis\", \"stefan\", \"punter\", \"hgh\", \"hulu\", \"soderbergh\", \"colt\", \"stephane\", \"embryonic\", \"stem\", \"brownie\", \"much\", \"cell\", \"film\", \"embryo\", \"gras\", \"city\", \"going\", \"know\", \"like\", \"cable\", \"yes\", \"want\", \"wa\", \"college\", \"got\", \"yeah\", \"ha\", \"one\", \"many\", \"people\", \"right\", \"something\", \"think\", \"year\", \"really\", \"see\", \"get\", \"black\", \"work\", \"even\", \"two\", \"say\", \"around\", \"well\", \"lot\", \"let\", \"thing\", \"time\", \"new\", \"would\", \"go\", \"npr\", \"way\", \"also\", \"leblanc\", \"burbage\", \"witmer\", \"camus\", \"bartholomew\", \"freund\", \"upham\", \"miceli\", \"finnerty\", \"nof\", \"tamler\", \"autistics\", \"densmore\", \"seligmann\", \"mancuso\", \"danziger\", \"gaither\", \"steger\", \"cheuse\", \"accosting\", \"randal\", \"tartly\", \"nopd\", \"izola\", \"bevilacqua\", \"thump\", \"radovan\", \"geant\", \"fairview\", \"gid\", \"lambert\", \"delirium\", \"karadzic\", \"blacksburg\", \"bulger\", \"maldonado\", \"autism\", \"ebola\", \"belgrade\", \"serb\", \"taser\", \"bosnian\", \"amish\", \"wa\", \"child\", \"mental\", \"go\", \"police\", \"lopez\", \"one\", \"people\", \"little\", \"student\", \"teacher\", \"school\", \"officer\", \"know\", \"time\", \"day\", \"said\", \"say\", \"really\", \"first\", \"think\", \"many\", \"family\", \"right\", \"news\", \"today\", \"get\", \"actually\", \"year\", \"new\", \"would\", \"lot\", \"npr\", \"like\", \"well\", \"ha\", \"going\", \"want\", \"much\", \"thing\", \"also\", \"back\", \"golombek\", \"overson\", \"balsam\", \"mendenhall\", \"rothemund\", \"leashed\", \"carawan\", \"macaroon\", \"leadbelly\", \"shipwright\", \"grippers\", \"beech\", \"roustabout\", \"woitalla\", \"alemseged\", \"philae\", \"falkirk\", \"petkov\", \"gannett\", \"frolic\", \"sterkel\", \"sizemore\", \"matney\", \"hilde\", \"trill\", \"jianli\", \"lysiak\", \"yohan\", \"boice\", \"scaramouche\", \"megaupload\", \"irvington\", \"gutman\", \"elm\", \"atlantis\", \"dum\", \"spruce\", \"swan\", \"nostril\", \"bamboo\", \"nasa\", \"palca\", \"rover\", \"neanderthal\", \"tree\", \"greensburg\", \"penguin\", \"mushroom\", \"song\", \"chestnut\", \"singing\", \"mute\", \"space\", \"science\", \"spacecraft\", \"like\", \"know\", \"right\", \"get\", \"people\", \"think\", \"say\", \"one\", \"well\", \"african\", \"see\", \"ice\", \"going\", \"black\", \"yeah\", \"news\", \"wa\", \"way\", \"something\", \"really\", \"got\", \"thing\", \"thank\", \"american\", \"go\", \"little\", \"year\", \"lot\", \"ha\", \"npr\", \"want\", \"much\", \"would\", \"make\", \"said\", \"time\", \"new\", \"nissin\", \"shetty\", \"saltpeter\", \"meowing\", \"megantic\", \"malin\", \"fleischman\", \"cabernet\", \"cheetos\", \"crestor\", \"angiogram\", \"hydrogenated\", \"selman\", \"fats\", \"zammarelli\", \"swordfish\", \"frito\", \"tasmanian\", \"mcfly\", \"shevchuk\", \"liebman\", \"willet\", \"triglyceride\", \"partridge\", \"dha\", \"gaily\", \"statin\", \"sittenfeld\", \"sauvignon\", \"chambray\", \"titlemax\", \"cholesterol\", \"ngubane\", \"reeve\", \"gluten\", \"kaur\", \"cancer\", \"vegetative\", \"hiv\", \"thembi\", \"palliative\", \"breast\", \"disease\", \"like\", \"food\", \"wa\", \"well\", \"fish\", \"mean\", \"fat\", \"one\", \"time\", \"people\", \"talk\", \"make\", \"really\", \"brain\", \"back\", \"know\", \"day\", \"think\", \"could\", \"would\", \"thing\", \"life\", \"get\", \"go\", \"many\", \"sort\", \"even\", \"say\", \"yeah\", \"lot\", \"ha\", \"take\", \"year\", \"also\", \"see\", \"way\", \"much\", \"good\", \"new\", \"npr\", \"howley\", \"fogel\", \"moussaoui\", \"groaner\", \"locos\", \"gunslinger\", \"letts\", \"icann\", \"bunga\", \"tweedilly\", \"nauruan\", \"novak\", \"gurbanguly\", \"hoke\", \"deet\", \"schake\", \"juwone\", \"korbel\", \"lamotta\", \"dunks\", \"phalarope\", \"brechtefeld\", \"badawi\", \"uera\", \"massaquoi\", \"nats\", \"wazir\", \"honker\", \"ifying\", \"jeni\", \"gallaudet\", \"plame\", \"sadjadpour\", \"vole\", \"libby\", \"zacarias\", \"hersh\", \"duelfer\", \"armitage\", \"pollard\", \"farrakhan\", \"talking\", \"fitzgerald\", \"think\", \"right\", \"wa\", \"really\", \"person\", \"year\", \"well\", \"woman\", \"question\", \"thanks\", \"nation\", \"know\", \"ha\", \"people\", \"life\", \"week\", \"lot\", \"iran\", \"going\", \"state\", \"go\", \"much\", \"said\", \"say\", \"get\", \"thing\", \"would\", \"president\", \"good\", \"even\", \"one\", \"back\", \"kind\", \"like\", \"want\", \"time\", \"new\", \"also\", \"way\", \"haya\", \"callery\", \"taliesin\", \"gadahn\", \"sockeye\", \"tatge\", \"georgie\", \"rideout\", \"turpentine\", \"bleh\", \"nebraskan\", \"beilin\", \"bagelgate\", \"nuggets\", \"petrou\", \"samaha\", \"nablus\", \"codrescu\", \"lakota\", \"kaljulaid\", \"namche\", \"spasmed\", \"carsten\", \"azzam\", \"hackworth\", \"reema\", \"hematogen\", \"traviata\", \"batik\", \"merv\", \"jameelah\", \"makris\", \"vonnegut\", \"arafat\", \"hirsi\", \"provenzano\", \"pringle\", \"deslauriers\", \"berlin\", \"palestinian\", \"hummus\", \"algiers\", \"berlusconi\", \"abbas\", \"haggard\", \"school\", \"know\", \"ramallah\", \"wa\", \"say\", \"think\", \"ha\", \"book\", \"muslim\", \"mean\", \"npr\", \"museum\", \"thing\", \"make\", \"back\", \"kid\", \"like\", \"man\", \"go\", \"much\", \"young\", \"going\", \"sort\", \"get\", \"way\", \"lot\", \"good\", \"show\", \"well\", \"one\", \"right\", \"people\", \"would\", \"day\", \"let\", \"want\", \"time\", \"new\", \"talk\", \"year\", \"see\", \"said\", \"state\", \"also\", \"makepeace\", \"moochie\", \"mela\", \"verrazzano\", \"kumbh\", \"issac\", \"christoffersen\", \"weinman\", \"koval\", \"steinfelt\", \"penfaulkner\", \"sheathing\", \"kreifels\", \"borat\", \"ufc\", \"stillbirth\", \"granta\", \"stackhouse\", \"starnes\", \"anja\", \"wwmt\", \"eggo\", \"matascastillo\", \"loughlin\", \"mcgwire\", \"dinerral\", \"sookie\", \"standardly\", \"ringling\", \"hochstedler\", \"sinkhole\", \"enthralling\", \"ganges\", \"mammography\", \"mandiant\", \"doh\", \"agata\", \"taiba\", \"mammogram\", \"orwell\", \"mehsud\", \"baseball\", \"derby\", \"pakistani\", \"lashkar\", \"know\", \"novel\", \"thing\", \"book\", \"pakistan\", \"like\", \"kind\", \"talk\", \"sport\", \"also\", \"get\", \"woman\", \"think\", \"yeah\", \"mean\", \"org\", \"really\", \"way\", \"new\", \"time\", \"play\", \"doe\", \"wa\", \"sort\", \"actually\", \"going\", \"look\", \"lot\", \"year\", \"well\", \"see\", \"people\", \"much\", \"right\", \"ha\", \"one\", \"let\", \"first\", \"would\", \"go\", \"said\", \"say\", \"npr\", \"pacifier\", \"newby\", \"safronov\", \"lieberthal\", \"decanter\", \"qian\", \"lilith\", \"meera\", \"gnocchi\", \"galentine\", \"kurri\", \"peron\", \"grubby\", \"backes\", \"fatberg\", \"falun\", \"toucan\", \"brusselkale\", \"lievable\", \"klontz\", \"kovr\", \"unbee\", \"bhalla\", \"qi\", \"sideburns\", \"iavarone\", \"grohl\", \"bastet\", \"sids\", \"mingzhu\", \"masai\", \"silicosis\", \"seismometer\", \"orhan\", \"gong\", \"lim\", \"hallyday\", \"ufw\", \"dujiangyan\", \"music\", \"carbon\", \"mongolia\", \"gorilla\", \"china\", \"wa\", \"think\", \"know\", \"actually\", \"going\", \"really\", \"new\", \"well\", \"one\", \"much\", \"lot\", \"kind\", \"would\", \"something\", \"get\", \"people\", \"day\", \"also\", \"two\", \"thing\", \"could\", \"good\", \"go\", \"time\", \"mean\", \"right\", \"year\", \"way\", \"ha\", \"say\", \"like\", \"see\", \"want\"], \"Freq\": [457930.0, 322481.0, 233269.0, 199117.0, 194724.0, 263310.0, 226762.0, 178275.0, 131403.0, 156920.0, 136668.0, 120353.0, 138502.0, 237964.0, 164703.0, 124849.0, 154729.0, 119572.0, 111753.0, 211075.0, 166666.0, 92630.0, 81313.0, 74233.0, 103020.0, 102757.0, 76745.0, 95483.0, 68516.0, 83473.0, 63.80525487627173, 25.57629885999278, 39.151087188782604, 37.302989100315195, 52.397546793634554, 40.438907000672195, 90.71500910834901, 11.317263209243919, 255.37923733542576, 77.06701981273193, 8.90059143727993, 17.499555668025582, 77.39200778856299, 17.481890168459064, 11.632475497375376, 70.87622020947543, 209.20459520488208, 198.03920146351822, 183.4322537175349, 1120.9444789436996, 52.283727976163235, 95.29977276145574, 427.347022248405, 29.88758228568491, 8.104106271601532, 70.0190764687353, 20.053588650527995, 8.747491068407282, 3534.3003692594575, 35.91501836546229, 1364.207856174977, 4343.926603821023, 1828.1827578536022, 365.3899558019579, 1140.3076431819661, 251.39482211506254, 4110.231099053881, 1014.0930579679372, 1903.8084716526919, 519.2936851939936, 550.353585866318, 589.6718309155843, 3328.260642595709, 9077.193139072808, 4706.315419734979, 426.3592298481816, 330.76316754871607, 2568.882030028946, 18863.148194159407, 1460.463199585902, 5140.459846158373, 10659.024531649022, 7747.857408163592, 1716.6804433512227, 10284.699092883713, 31298.414864632276, 1117.9002161145006, 6840.72369897955, 2296.231332013558, 22983.608343957385, 40844.723930887216, 13688.905016772907, 10190.616880707765, 11674.584733258776, 6678.945214613475, 5657.582929675393, 12496.31719151305, 7592.94775787231, 10361.034889750825, 11660.273698628482, 64293.35465444681, 9556.331897794213, 10758.782590163428, 40255.22224286113, 19163.189428053287, 62868.58809558055, 30769.208202989434, 29391.681260286816, 44933.8734526327, 90598.50296675101, 54552.392004375935, 24149.494636756743, 58867.30337334959, 22122.891783220544, 28831.697827785287, 42461.247368290395, 46887.58649003292, 57325.60859806423, 35730.95405349562, 38043.473089036204, 37276.00615452685, 33165.35972613988, 29682.300011074174, 24964.501843466685, 29005.81814610379, 18834.364233186614, 24187.595080310217, 23988.77471218741, 28713.798261092987, 24742.951108038014, 24145.827018562486, 23244.057417806802, 266.3812868515268, 64.38888152991036, 13.863540328131876, 29.662561829131334, 59.83692452014515, 4.9099412281499974, 10.956020661204143, 25.86079855260876, 42.16303782221418, 17.046977395387465, 27.715431566722938, 16.023819880624824, 23.81693038317269, 5.894022132848491, 19.218211629553622, 101.08146110464442, 35.017014736628305, 10.09561750830231, 2.2910680938621084, 18.531738034439943, 3.0062734771008284, 36.48891345774221, 10.736621700311153, 308.6428097321668, 2.5800838288529353, 1.9073870737995837, 10.560172131070638, 1.8637504303911154, 425.1859500558934, 16.127761606675964, 57.00654349574373, 139.08738117044834, 453.9940679178081, 71.93671975246772, 608.0164893805477, 659.3356522126187, 477.23912002682135, 67.50593532535238, 222.40492639225045, 156.8524335498312, 1113.6968594009347, 136.84403029386095, 1075.6802698377574, 1677.1774079583736, 169.46396603415525, 7065.712031705016, 433.3689286995959, 152.46509891209888, 413.36611463183635, 578.9518964784334, 2270.4638844150754, 7030.024276217176, 3841.8058492769774, 824.2746148639186, 868.6133141680166, 388.062612848332, 9885.725934663385, 2144.0339026938123, 4094.205786060098, 2296.790708038868, 3248.171163850354, 5136.247318859482, 32389.194442150638, 2299.4357934799114, 1507.2131629321148, 39161.02570250209, 22714.834337653545, 2528.862351715119, 40862.07455875231, 29780.64190291851, 28186.31054678132, 8253.26420360788, 25590.65286692481, 28996.602318864956, 4761.634718502889, 6521.844360163478, 14229.857284023536, 22784.187359740798, 48768.46237703878, 27989.852294401357, 37486.009741337526, 28960.644789631126, 15044.255913576275, 25507.649401851446, 18591.881634918376, 18289.420212907717, 13397.03153348731, 11575.836198299636, 14134.710200750495, 15005.249995293218, 15789.52841324664, 24811.937107621052, 16763.99243688257, 17794.720299284323, 17453.916265867058, 12043.078898307247, 12308.409248148813, 13306.65027212528, 14208.047406531005, 13274.41095246895, 13295.319774793796, 63.995130317127504, 4.613245360751373, 47.05889908798307, 4.129218311715546, 17.897209350519255, 9.52134212303019, 4.643455746409711, 8.220206724288799, 195.7462458377032, 24.236913939562115, 6.474478402465212, 8.906478338985606, 2.306716045482677, 109.31346655359843, 3.315344422226267, 2.0568521630864147, 6.019328997952645, 4.639955104104087, 19.9467528564167, 78.29672564291656, 6.347158419819757, 2.303695409668285, 3.0131726471042737, 1.4793239869142267, 11.174876978421791, 2.7924406918461924, 7.2486640664547775, 4.80199702083272, 3.264862824220801, 2.1948159509976, 4.818866814184005, 18.856913312786904, 5.530155883902117, 120.4999742613875, 262.5699449324989, 12.290991293847027, 28.517637458010345, 55.64526399045338, 7.815432737856101, 113.35357610878943, 25.31935750216758, 308.4639960483092, 927.2888273432085, 60.05012282605451, 18933.489466695337, 2545.8348987271734, 2670.4502135840007, 285.6847962839763, 136.91448273722088, 6841.737489264528, 23550.636589684775, 37250.728243268, 23993.97037994997, 552.7093420519793, 7291.723948351051, 12768.103141632526, 42795.52974545484, 2693.3869990034264, 9456.624008473746, 9477.565068231768, 21650.353330549948, 22892.89670142369, 10342.467503901045, 25616.33225030424, 15244.193183592115, 8596.632340174945, 22431.6834887762, 17152.100917092954, 14221.855250284154, 11138.357498748548, 16121.522132754068, 4552.635281611489, 7837.955899009226, 9006.54081874273, 9082.799809552025, 19969.00076405346, 6096.5654709051305, 16407.17897369432, 11119.830206003131, 7886.972091019198, 12344.605882138223, 13288.436024614892, 11054.314315532332, 12998.404559023642, 10743.27730308673, 10644.796508792311, 9464.895603352921, 9052.706831064934, 24.461970617232478, 5.248138056159973, 4.917990584495672, 34.56019313161861, 41.22176753024795, 6.2933414622281925, 7.5809418291695625, 3.799916507670972, 6.6673444066109795, 11.208260105509183, 3.2454164175325553, 7.256976353349199, 6.655045752205234, 9.213780765022115, 37.614400355990774, 14.724247282953042, 6.283360829398361, 42.86839771441796, 90.71403277180984, 3.445688617693787, 6.634206063085859, 3.546729820624315, 9.91147912445914, 10.728223463871547, 3.1797368406439763, 43.32235243900021, 24.81390044980329, 1.386770564201205, 6.889555777155827, 3.9206293143104007, 158.52564648481726, 98.27896914476764, 48.42781347217899, 88.32381495108567, 91.37680835394987, 28.830342895519337, 526.2931665501632, 495.5624118511749, 76.93219302298448, 114.89691736634533, 101.37147272810397, 74.32580462643301, 128.2687932566749, 62804.74337459838, 6810.737659782731, 1056.429303610055, 17179.544893027505, 3903.964796578002, 240.73167907284116, 26499.34941242207, 28875.25152682098, 7851.830671297415, 3876.766645779242, 2018.6480309200476, 6395.794229225073, 2139.0379378073244, 31129.92109828023, 17230.305259087145, 9265.61042071389, 11978.083750564907, 22176.215367342207, 14021.728559535492, 9565.030567160546, 21305.90576429111, 9682.97954288065, 5512.7436122333165, 13752.168282798533, 10244.004173357982, 8488.671731482784, 14852.578858078145, 7946.962683315983, 14907.417478556268, 11652.713981991721, 14365.47054460494, 10783.102425039599, 11483.482034879096, 15102.272698234776, 14803.385564624079, 15454.438813648792, 13617.297450474704, 9415.0361460854, 10155.231145717056, 10133.565697891245, 9181.230846155951, 8864.662851610274, 24.741651631819202, 3.6760866295544132, 12.379818395068776, 19.78708427213679, 5.689804160801064, 5.6717699876980525, 2.736862221606771, 4.783232258716406, 35.114494969419326, 7.00086795918044, 4.900358968438506, 17.524339611818593, 10.829155951595279, 3.985387892854305, 23.43487303268014, 7.531884986773429, 1.6007076822908932, 2.1493711760402237, 11.549041322158045, 8.694943087859379, 1.6767467684750483, 3.1220512787888306, 12.564764901735195, 3.1504040443587185, 9.923235292616152, 2.8142577102651174, 1.6376167954364713, 7.809120451182731, 1.347777424225464, 1.914275845978158, 12.766419568196925, 10.12349663213258, 26.83580373175581, 87.69445037720035, 57.64907227980805, 37.1661126927574, 45.09521741560798, 138.32178224192785, 39.15648154118284, 120.73295616528712, 864.5453055846102, 220.21904098631722, 270.5689936099337, 187.27259411325065, 1621.5974188434993, 77.93205415956285, 170.233120514849, 173.61286637046362, 2482.6603795181813, 66.53868117936693, 2293.3827330340814, 63.599963820829174, 2124.1415567394138, 4061.344541398904, 219.50638954443997, 21769.115169796383, 29655.966126344152, 15017.722970050907, 16479.124325151584, 24772.028292350224, 22206.549019288712, 21871.460926159496, 20938.683359642928, 17975.256610351076, 2633.4665175808423, 10337.560493183651, 1071.0022079905998, 16311.28381625637, 4165.875619975542, 8327.956789805408, 9794.964160579864, 32277.959284044475, 10380.736249805977, 7545.6094297167, 12201.209032131239, 7820.348365934642, 12319.693582094547, 6817.750239876863, 7193.467056602931, 11042.448871515493, 6075.304166469953, 12786.392211987302, 9364.56844727485, 13800.164893341818, 10019.989107737516, 8674.26427564931, 9579.792068712297, 11003.595575826312, 8024.499821999917, 8398.585761300057, 9562.393812118418, 8263.901519153964, 11.805265156159587, 35.80941549739835, 20.258657161726234, 6.847179460430008, 16.64661432880269, 11.854709811994045, 9.689063923656693, 13.379071562712477, 65.65470056955203, 21.1545176150285, 6.524253286629744, 13.41806035020623, 6.9506752886463286, 31.538496084502924, 1.870456100337829, 27.803793195730922, 11.290788520187682, 40.78460902702151, 6.443244020577642, 10.165206631997773, 5.744202702346072, 14.32138875971695, 8.223095972192032, 24.42439525751022, 5.951187062289991, 4.576451365619712, 103.17298291193724, 1.9967884181567306, 5.005726598747528, 1.3393667276342647, 5.307218424861568, 346.6359047411039, 17.961974240445173, 35.578936443764924, 67.60656481065885, 39.15937210361993, 2334.7106152801625, 32.125469416349574, 649.720138443615, 68.42977899006755, 60.29954968614395, 495.1682880944978, 1850.4018372825499, 23761.829076678525, 3279.355061413261, 44810.140772463084, 20821.308164031798, 843.4593088803258, 11082.502622313927, 566.5296211379182, 20631.77223807507, 15022.458968788917, 22506.943222410828, 8573.869710823878, 9571.348829552911, 12498.610757464417, 1554.3715764756244, 9462.746568296461, 24130.82422471995, 7719.143066770285, 18396.03158498585, 8771.021069619133, 14158.954434770676, 11992.698457825201, 5680.061269216135, 12926.122266312863, 10879.384564729397, 8077.583950888406, 5273.733626892528, 7453.373737947807, 16580.665813225223, 7238.784899627097, 9542.932449917751, 13726.214048072672, 6862.336203510287, 11600.75676724178, 8605.32952400615, 8157.217556413893, 8205.69021293522, 8849.337182226107, 7370.315647048115, 7718.551564751104, 7638.854450587769, 6.4846688820433, 9.95500139131519, 310.83610659818845, 1.9136517391190482, 3.7483116137718393, 12.486544948260072, 11.410180631385286, 12.633058924970612, 3.1906963102393204, 4.188985313128137, 4.098720955344709, 80.25118686633355, 0.9051782350287458, 7.975562460456023, 13.667130214261826, 13.287528650092575, 1.4055904766500453, 31.350712746669345, 1.7110276315688613, 4.67817033519456, 3.1933411959492575, 2.0210437972558712, 3.693154252422315, 1.480104204780459, 3.9859607011551463, 3.9774483358519332, 3.156176600559932, 1.5764779013302759, 2.0138426499078843, 5.595553254047739, 79.51056139606449, 143.05336945440408, 22.621538654599767, 11.307796375186813, 456.69034895596127, 26.483021503557065, 18.576458352151406, 11.801824866659357, 29.980669132857766, 23.107438522674954, 75.25692425238883, 7740.397144653681, 151.86325027628988, 25903.04088841473, 16265.1872085722, 39973.24520017156, 13974.19290588046, 3302.26901912638, 15915.26646802728, 17692.74338201998, 4961.349153294756, 6351.017364091462, 5939.377457599929, 4544.058956747403, 24879.367963101504, 17511.077085424353, 20857.58750174, 5491.823235938575, 5659.52227544059, 10201.093253215275, 2533.3590716305357, 14746.707771535494, 9012.703675415501, 11116.194417552462, 10781.972128537262, 9688.338472830157, 17938.352301438907, 12941.396880142938, 11494.166147830942, 13236.9223144892, 8740.906148946051, 7756.223719284375, 7190.870421260174, 14834.997461718778, 8058.719295535234, 7370.166747002399, 12268.181708946175, 8238.648880432027, 10517.362982364499, 8756.030192123564, 8127.484005976969, 7697.480197032126, 6.809878045700484, 1.9105396939138652, 5.978996611819528, 52.04115375326081, 6.8742021610212225, 1.5832679367683646, 14.144611883343712, 9.459862801068086, 4.6962218770068835, 1.9314354732898928, 5.312761758750596, 3.334049373499678, 1.0158608000377625, 3.126489084468777, 5.573303112904542, 3.9057649500075695, 13.310137012105146, 5.558648890083996, 6.694223717300137, 1.55299254887861, 1.8436814656865808, 0.969371695860914, 2.9905270495486747, 10.639029232497997, 3.5126699779799524, 3.451855362724892, 0.8746931175796688, 1.9328960589414064, 1.731417768839405, 9.73319230873538, 6.162984596668588, 3.175427596541107, 38.88121535968767, 38.04149440770342, 29.71564796401044, 8.741937930552302, 18.53768399428653, 8.518668316705028, 396.77077643562245, 1651.4511673536817, 28.281395078776587, 27.14168429268182, 118.63590384479932, 262.87574441609564, 44.43401934810184, 5846.005023487318, 31766.784669159817, 61.55692800338456, 40958.152210101565, 18978.018290746397, 18139.357356207678, 16013.114544918895, 3714.899647081432, 1135.141141653992, 7942.021106972279, 10130.124572331673, 585.9402758276183, 10617.676650001273, 7671.015646854968, 7727.674645527082, 2722.162535061653, 13634.110588482785, 3453.1932269374747, 9055.497681451694, 8793.944297416185, 2344.184311041887, 11711.368066500972, 4193.760374393251, 10563.127662879218, 7671.332725093364, 8106.279164579715, 6339.416497363991, 3485.356752476827, 11607.018404388893, 12906.682796358798, 8850.612729821012, 13800.316187799119, 9891.479435900024, 5617.84286048446, 5216.04760594285, 6686.8021743891895, 8661.42131665407, 7227.559456365555, 5579.475345445892, 8139.1960784954235, 6222.92142848065, 6485.6262520033615, 6013.88039349379, 6020.316295588857, 1.895564106162043, 5.437206468145979, 4.021960036402168, 1.8930623269052649, 7.142346524013241, 4.157494901105335, 1.1521653083015215, 7.2207566939314605, 3.1729602703888022, 1.1979173856298775, 2.9605070034016143, 1.2077126711488724, 18.92000497842984, 54.609286735030196, 4.831508483805704, 4.087154994984152, 2.333917467363149, 1.611033813874974, 2.7124703275667246, 3.309579117621904, 0.9867567192937949, 1.0738224304864155, 6.848914141763116, 1.626640163144891, 44.83701360311815, 2.033836020452537, 1.1179869686480517, 0.9997322497683786, 11.6863518915533, 0.9271063653765271, 22.390261256314968, 4.178452484754896, 37.27551036550671, 33.10619650119717, 12.059190467659871, 8.066877517271157, 11.665533176625896, 26.12315332001616, 71.28407027860793, 45.22039813713744, 21.681695068893248, 839.9711981482184, 115.062016063946, 497.9921615431268, 29.949593000441656, 30186.55991864943, 673.2515981764711, 13840.104738271513, 4373.246483217768, 1189.8180980178797, 18100.883972791464, 8567.991540435527, 7768.295840462378, 1118.4380707124135, 9751.306303789292, 13478.08895827769, 4510.803147475993, 17913.989299045654, 7084.596362487459, 8352.615259739767, 2830.750422374091, 10930.495415016361, 8901.132917124036, 9899.784358432691, 11980.998039865506, 2393.045984882438, 4536.749385572407, 27090.08792345403, 4510.739660023023, 6090.261035664405, 12521.12038487136, 5570.67146203349, 8670.164530905548, 11549.479499773122, 12881.083920043995, 7600.036540716587, 15357.626228744099, 8623.650938837864, 9373.509504388296, 12433.44576079527, 12122.879593297954, 5611.900110760099, 6195.7735693922405, 9230.375751273708, 7702.3344414599305, 7002.893688255715, 9624.660706753159, 7265.469019047964, 14.469540576216739, 9.641581120036642, 2.1287274144124884, 5.36160477654848, 0.9138556497801247, 2.220510545909629, 5.758944299817659, 0.8377790308831067, 4.765755396017648, 1.7762019460413896, 1.3131930783613506, 6.20755251063158, 2.4807037398695493, 0.7464886530751266, 1.5560393459065307, 53.94133031324755, 1.71088919377828, 0.7252878334156504, 0.68368198366022, 0.6833078092262443, 0.6806619674379144, 0.6766845934822424, 1.1750621410234492, 5.259222809083539, 0.6667306811693013, 0.6348739168374047, 1.4285867470480584, 0.6574848268586894, 9.284423461208544, 0.6175722277115216, 3.330156599391844, 47.95775112721097, 5.743582687819459, 3.2357907154863597, 56.939776532850416, 78.93168215702718, 6.735446309932397, 2.9295738413100145, 3.5278685536182275, 1552.3005003506596, 420.18772778250553, 34.44260906417661, 65.90110394523596, 1658.7205104616623, 27853.87348608145, 15273.16406253895, 18669.632277994177, 5114.664858487361, 10677.433396935565, 8152.290376288277, 7542.108930492651, 11078.56354527878, 12421.996382430854, 7183.606241697486, 6591.053684269542, 5010.206622135179, 8660.617250538282, 4189.313250569655, 8060.594812670688, 11795.204232976846, 4403.093728665338, 5522.354636034087, 4446.44209540445, 6789.711688166168, 4839.568221546622, 4667.019803694057, 6221.2758154518515, 7144.232994784011, 4806.690875198921, 6337.838072490788, 7097.868016400738, 5093.95820845318, 8203.603349250176, 8796.265682019426, 7703.5663551369635, 4828.396922887347, 4791.4818331971555], \"Total\": [457930.0, 322481.0, 233269.0, 199117.0, 194724.0, 263310.0, 226762.0, 178275.0, 131403.0, 156920.0, 136668.0, 120353.0, 138502.0, 237964.0, 164703.0, 124849.0, 154729.0, 119572.0, 111753.0, 211075.0, 166666.0, 92630.0, 81313.0, 74233.0, 103020.0, 102757.0, 76745.0, 95483.0, 68516.0, 83473.0, 69.44594947870294, 28.21026728328861, 44.11461660970245, 42.27239001657593, 60.35121290570072, 46.61962407076396, 104.86211624276413, 13.14858556702811, 296.98578964737214, 90.07265845580103, 10.507837323871108, 20.72504295773647, 91.69573609267769, 21.01127959408899, 14.048655469677898, 85.6860337151899, 253.07766019472496, 239.951464571446, 222.62683218056455, 1361.7848593959443, 63.54745064670435, 115.94481199546347, 521.2888015440542, 36.46383071863592, 9.890438989556678, 85.62692941493022, 24.58196306277724, 10.72866026857064, 4337.899656727439, 44.10746255377296, 1677.820813104242, 5450.1292788374585, 2281.545133080908, 451.1582146116956, 1433.73975551206, 312.51154639395696, 5384.44817395976, 1307.7630127365267, 2543.0603525622346, 676.4405353640168, 719.2467688483497, 775.815612655143, 4715.28806173663, 13417.692722215084, 6894.106114129858, 558.2354803220412, 426.99630557229153, 3840.5059839372448, 32902.75048778446, 2109.46536120669, 8168.281211475997, 18032.565396623853, 12812.386789551756, 2552.531152484945, 19171.41680006707, 66210.61560295596, 1637.2895586757652, 12426.490207682531, 3671.751545018333, 49654.6247563776, 96733.19998404024, 28323.485951196304, 20658.506002436694, 24400.71327358708, 12837.636533643392, 10608.596105139446, 27660.532165022585, 15285.094859622277, 22254.021103168125, 25763.001897315015, 211075.6187748501, 20213.879870145658, 23428.230153977645, 126985.16917879533, 50539.8593370034, 237964.25364982095, 95635.94087996171, 93223.67563272124, 166666.0038658408, 457930.69734015904, 226762.2947393772, 73498.8852416931, 263310.6673752483, 65994.63218189412, 105247.84721303685, 194724.38825158824, 233269.24506120282, 322481.4028609191, 154729.21631869787, 178275.31512500602, 199117.58550639532, 164703.0316058654, 136668.43912116037, 100693.04896045182, 138502.3731883792, 60630.8406408176, 102757.43241428811, 103020.8636322649, 156920.54151710097, 119572.74976453515, 124849.77744372012, 120353.1282941774, 293.1040525675661, 72.1423161994265, 15.549274542929327, 34.10732599926492, 71.10817307293216, 5.867338124906987, 13.115551759545752, 31.643282817504023, 52.65582757001432, 21.46470932778746, 35.425548028312576, 20.88636652190315, 31.715969823148537, 7.9010769312776326, 26.0020914021191, 138.85626844285824, 48.294397247592876, 13.928654700961129, 3.175068287052159, 25.826300847159636, 4.2097629349960854, 51.48162805942083, 15.215322498710087, 440.0679847894822, 3.7026149208195784, 2.7422139302787136, 15.207457813037534, 2.6985437581684795, 619.0198078491595, 23.525584058941, 83.35231104140405, 205.54990761935298, 686.7641819519907, 106.8636831153833, 945.8631218155884, 1037.9965741159629, 749.8987568009949, 100.8819258572954, 354.15049522485134, 246.7627961453112, 1989.0019375424183, 215.22127431143264, 2002.9982574916912, 3258.9265153353626, 273.00498842041526, 16081.805512694811, 758.380885564991, 247.53657481440828, 756.8763237248468, 1122.9404444580052, 5315.566797660286, 19268.52571685157, 10051.684550190352, 1716.6499586672533, 1878.9657365855464, 736.8219184947467, 36011.97428263834, 5726.283635358118, 12594.147952231664, 6284.472859740486, 9548.009172861659, 16932.116899812718, 164703.0316058654, 6518.347193268911, 3892.3312343050407, 237964.25364982095, 119572.74976453515, 7485.747178748188, 263310.6673752483, 178275.31512500602, 166666.0038658408, 34399.39347270092, 154729.21631869787, 194724.38825158824, 17563.746318338108, 27177.44671054088, 80245.35919414327, 156920.54151710097, 457930.69734015904, 211075.6187748501, 322481.4028609191, 226762.2947393772, 91621.44711711911, 199117.58550639532, 126985.16917879533, 131403.02384986897, 83473.47177971494, 67355.43669194335, 92791.54489251647, 103020.8636322649, 111753.62467148423, 233269.24506120282, 124849.77744372012, 138502.3731883792, 136668.43912116037, 72785.15661181526, 77785.26432315688, 95635.94087996171, 120353.1282941774, 100693.04896045182, 105247.84721303685, 65.79295174573387, 5.477150814727955, 57.09281187781304, 5.040741659970095, 23.499278354184902, 12.752265805262786, 6.373389626769687, 11.655610930655689, 280.23301412516236, 36.13292178854768, 9.682435352445664, 13.378835547777623, 3.4656892856342805, 164.75950476007958, 5.03933239132827, 3.1302534480939674, 9.197671439889152, 7.144321362580095, 31.292157040212125, 123.0700561236722, 9.993497700917382, 3.631233344670076, 4.764889747023978, 2.3414230075499067, 17.787343733993144, 4.4696303191456535, 11.698709207645443, 7.828769262963455, 5.4048326010136485, 3.6456683625161315, 8.036104894401012, 32.9145708801288, 9.313867570777505, 238.9452806767929, 582.3438090768623, 21.939466180887916, 54.28303679437281, 114.29295485831562, 13.550334834791629, 268.51419418433846, 50.68736306633271, 844.9848990124113, 3142.087728596838, 138.07377458058593, 120353.1282941774, 11403.11439976207, 12364.973275714194, 884.2106362167573, 376.6060061340425, 40018.99929034869, 178275.31512500602, 322481.4028609191, 199117.58550639532, 2033.3226340771448, 49159.88996803145, 100693.04896045182, 457930.69734015904, 14908.056179113479, 72785.15661181526, 74233.77577752988, 211075.6187748501, 226762.2947393772, 83482.3797084878, 263310.6673752483, 138502.3731883792, 67142.51457085618, 233269.24506120282, 164703.0316058654, 131403.02384986897, 95483.68934336976, 156920.54151710097, 29817.977043975305, 62993.31676518232, 76313.80532262605, 77785.26432315688, 237964.25364982095, 45506.98736998731, 194724.38825158824, 111753.62467148423, 67081.86748292064, 136668.43912116037, 154729.21631869787, 119572.74976453515, 166666.0038658408, 124849.77744372012, 126985.16917879533, 102757.43241428811, 103020.8636322649, 30.06009724012851, 6.549029601396369, 6.296744833378646, 45.12731459214891, 56.05064420927287, 8.71018400543507, 10.578584403503077, 5.364777876035756, 9.475564099428402, 16.22187074817474, 4.735660086874442, 10.788125675885345, 9.898001060458803, 13.722222791173348, 56.57036918098027, 22.168148015823576, 9.469464159024824, 65.42275675565072, 138.72330483669734, 5.278833644662666, 10.220362767493539, 5.497076313114359, 15.762175093686837, 17.09501578382003, 5.13655766334827, 70.17238214387709, 40.26465316580399, 2.2998213265613607, 11.52463531873267, 6.645178192366793, 269.06933596873165, 167.71033607946154, 86.61071402765556, 163.03646307101866, 179.0948523753103, 52.05027958222817, 1297.3970654922398, 1239.319974297315, 155.71012799580205, 248.8360058547982, 218.35743456684358, 159.71426198243256, 306.63510463358045, 457930.69734015904, 33770.14100753768, 4011.4516559292156, 124849.77744372012, 21112.744985894795, 709.333097691329, 226762.2947393772, 263310.6673752483, 53738.28075912531, 22330.67705944498, 9963.932375128275, 42890.165382959836, 10782.2939972614, 322481.4028609191, 154729.21631869787, 73233.45064843702, 105247.84721303685, 237964.25364982095, 131403.02384986897, 80116.94004173599, 233269.24506120282, 83482.3797084878, 40000.28713874089, 138502.3731883792, 93223.67563272124, 73498.8852416931, 156920.54151710097, 68516.48601773233, 164703.0316058654, 119572.74976453515, 166666.0038658408, 111753.62467148423, 126985.16917879533, 199117.58550639532, 194724.38825158824, 211075.6187748501, 178275.31512500602, 100693.04896045182, 120353.1282941774, 136668.43912116037, 103020.8636322649, 92791.54489251647, 30.02516007912885, 4.68426373259141, 16.312900799398328, 26.731166340766258, 7.704291570708594, 7.712767683327744, 3.7294183457062133, 6.5435477670895486, 48.23127396052415, 9.720384474438664, 6.9096927880736265, 24.72994512944272, 15.42323703022733, 6.0348403378218105, 36.10899939927182, 11.632475629241457, 2.4751117997163856, 3.400270230581798, 18.43111294824542, 13.894240101721984, 2.6980150050561758, 5.048995130692618, 20.325793246407596, 5.126458829671931, 16.252054253158573, 4.6229995013933145, 2.7028850394741766, 12.931230158258527, 2.2573001340195695, 3.2830644782078378, 21.952942092072433, 17.589333698773217, 48.54042795912098, 167.23844590043166, 108.65864773181704, 68.68567645773076, 84.97135821741279, 285.85140760287663, 76.82311009379885, 264.7149992154432, 2308.0047530697743, 520.190185972363, 663.4646657327554, 441.1027746195973, 5503.085488794487, 172.04004200792085, 422.3886278868331, 432.3237467952219, 10140.572471841551, 148.15959536763134, 10272.063444581554, 141.6839732511036, 9745.52400541242, 22975.23230190832, 669.4820484561353, 199117.58550639532, 322481.4028609191, 138502.3731883792, 156920.54151710097, 263310.6673752483, 233269.24506120282, 237964.25364982095, 226762.2947393772, 194724.38825158824, 16112.336794305475, 95483.68934336976, 5044.038261347603, 178275.31512500602, 29817.977043975305, 74233.77577752988, 93223.67563272124, 457930.69734015904, 102757.43241428811, 67142.51457085618, 131403.02384986897, 72785.15661181526, 136668.43912116037, 62316.57164832955, 67355.43669194335, 124849.77744372012, 53738.28075912531, 164703.0316058654, 111753.62467148423, 211075.6187748501, 126985.16917879533, 100693.04896045182, 120353.1282941774, 166666.0038658408, 91621.44711711911, 105247.84721303685, 154729.21631869787, 119572.74976453515, 13.283187868865221, 41.48682471823446, 23.86666415901095, 9.052978548847706, 22.803365233469727, 16.309456037833833, 13.668417679112231, 18.972779304055983, 93.55913087509768, 30.505810505715722, 9.502913410922744, 19.63125461652214, 10.27197121583645, 47.63371489001947, 2.843209122976759, 42.53911720604149, 17.49705136783719, 63.27618696268968, 10.032882435299134, 16.096791760039444, 9.295087042592879, 23.3159167990979, 13.60682211014115, 40.45508138852663, 9.913538172405891, 7.653329927384478, 175.19606540345373, 3.403532468636817, 8.557998006548262, 2.2919527700950364, 9.103317496919729, 626.800337299535, 32.68643398317398, 68.75315317508853, 136.6313918037084, 76.7802191845431, 8011.121898867921, 65.24411590412434, 2138.2916355277084, 158.2598832219406, 137.80988459227729, 1697.7768667012238, 8406.751358574656, 199117.58550639532, 18176.853749239886, 457930.69734015904, 194724.38825158824, 3647.838032732742, 92630.89126597228, 2255.7043888087073, 226762.2947393772, 154729.21631869787, 263310.6673752483, 76745.89217651082, 91621.44711711911, 131403.02384986897, 8771.471168577284, 92791.54489251647, 322481.4028609191, 73233.45064843702, 233269.24506120282, 87611.61901374858, 166666.0038658408, 136668.43912116037, 50552.538051842464, 156920.54151710097, 124849.77744372012, 83482.3797084878, 46309.309405939304, 76313.80532262605, 237964.25364982095, 74233.77577752988, 111753.62467148423, 211075.6187748501, 70350.41853709386, 164703.0316058654, 103020.8636322649, 95483.68934336976, 102757.43241428811, 120353.1282941774, 83473.47177971494, 119572.74976453515, 126985.16917879533, 8.676907425345942, 15.385967568958412, 498.3041713629789, 3.1350907269863626, 6.7294477973946405, 23.239754329731948, 21.29991932971829, 23.854706327834105, 6.05053999149936, 8.001252596250762, 7.892926893183564, 157.59005404051214, 1.7855916555647382, 15.857679062457864, 27.24624040066421, 26.59402677454342, 2.820107438078081, 62.983381792830095, 3.47466501514971, 9.611001141290954, 6.567266735379325, 4.167103873210088, 7.707710183731347, 3.116371908325224, 8.487291298653837, 8.469853442576346, 6.779925386131909, 3.394909039421313, 4.423214945174689, 12.351729541579862, 178.62273238860323, 357.9536908816136, 53.259393978750126, 26.222465385299074, 1360.3642112262773, 67.78640582979575, 46.55215906845067, 28.393437621330936, 79.62428811921181, 60.76855847125145, 230.40689264800093, 50505.454704648335, 565.103618166439, 233269.24506120282, 138502.3731883792, 457930.69734015904, 131403.02384986897, 23585.71653479945, 164703.0316058654, 194724.38825158824, 41755.557515471344, 57437.30209818076, 53299.263869798924, 39194.76483779774, 322481.4028609191, 211075.6187748501, 263310.6673752483, 50552.538051842464, 52954.15249125946, 111753.62467148423, 19171.41680006707, 178275.31512500602, 95635.94087996171, 124849.77744372012, 120353.1282941774, 105247.84721303685, 237964.25364982095, 156920.54151710097, 136668.43912116037, 166666.0038658408, 96733.19998404024, 83473.47177971494, 76313.80532262605, 226762.2947393772, 92791.54489251647, 81313.08726864927, 199117.58550639532, 100693.04896045182, 154729.21631869787, 119572.74976453515, 103020.8636322649, 102757.43241428811, 9.343709425790525, 2.8831353556284243, 9.100301186798394, 79.96737555181949, 10.68241204950061, 2.5066899167311156, 22.577027010812426, 16.234446507092827, 8.102958848321524, 3.3919493772601426, 9.445979787213032, 5.996313750536522, 1.911076894221829, 5.957902504860426, 10.656789317800948, 7.512758396508824, 25.612991214523337, 10.823201574616677, 13.16342271578161, 3.079460781748265, 3.6569173630878766, 1.926041355696374, 6.027221636282618, 21.698329424302255, 7.2326817711505615, 7.15021830592668, 1.8209675927364681, 4.031139759999494, 3.6674174529878343, 20.704499858535275, 13.16340959042613, 6.842466431390092, 91.10190548933257, 90.56966671003649, 70.4796343424093, 19.46120271738935, 44.54999987769968, 19.157222141044077, 1334.3943317276498, 6582.779585413984, 73.0648691934119, 70.72105168998665, 390.06826542872346, 1021.8423825294824, 132.4379021937883, 42890.165382959836, 322481.4028609191, 195.47081964761037, 457930.69734015904, 237964.25364982095, 233269.24506120282, 211075.6187748501, 34163.190391406555, 7931.14133966163, 92630.89126597228, 126985.16917879533, 3488.8278382410017, 136668.43912116037, 91621.44711711911, 92791.54489251647, 24881.912289525313, 199117.58550639532, 34337.62561577886, 124849.77744372012, 120353.1282941774, 21416.952285476156, 178275.31512500602, 46309.309405939304, 156920.54151710097, 102757.43241428811, 111753.62467148423, 83473.47177971494, 37376.32003498166, 194724.38825158824, 226762.2947393772, 138502.3731883792, 263310.6673752483, 166666.0038658408, 73233.45064843702, 67081.86748292064, 100693.04896045182, 154729.21631869787, 119572.74976453515, 76745.89217651082, 164703.0316058654, 95483.68934336976, 105247.84721303685, 95635.94087996171, 103020.8636322649, 2.7747371579979223, 8.788455300605909, 6.55649620789163, 3.2566096767072015, 12.365317490966797, 7.306485611094898, 2.0313137219822552, 13.224679243432993, 5.811915895982674, 2.196102264896536, 5.430282746893105, 2.267127532570864, 37.163245568902106, 107.7491000444476, 9.800180826895488, 8.45029042186867, 4.839054493295009, 3.342001546859838, 5.678875245633117, 6.9391192555139325, 2.0807309780890235, 2.273112791845795, 14.560503008535852, 3.503623284934307, 97.12487434799003, 4.443721014832132, 2.4747934133334395, 2.2168551557523157, 25.916419655919903, 2.0618306890761247, 49.828847202818736, 9.452914843275922, 90.70187806955617, 81.28367817759506, 28.64997023564756, 18.779297257205794, 28.944811209490236, 69.78061886238612, 229.93643159520298, 142.2946753804746, 61.17276613596849, 4165.351261366366, 431.2455085713362, 2477.2367872036566, 91.90892859548686, 322481.4028609191, 3602.290122155043, 136668.43912116037, 34163.190391406555, 7415.062443387893, 199117.58550639532, 81313.08726864927, 76745.89217651082, 7322.864576844123, 103020.8636322649, 156920.54151710097, 41755.557515471344, 233269.24506120282, 74233.77577752988, 92630.89126597228, 24082.865199993255, 131403.02384986897, 102757.43241428811, 119572.74976453515, 154729.21631869787, 20043.668521175976, 46092.6864852243, 457930.69734015904, 46309.309405939304, 68516.48601773233, 178275.31512500602, 61461.24702984868, 111753.62467148423, 164703.0316058654, 194724.38825158824, 95483.68934336976, 263310.6673752483, 120353.1282941774, 138502.3731883792, 211075.6187748501, 226762.2947393772, 67081.86748292064, 80116.94004173599, 166666.0038658408, 124849.77744372012, 105247.84721303685, 237964.25364982095, 126985.16917879533, 18.3861851141622, 13.068769580326704, 3.893486552758569, 9.852356511364496, 1.8326856587011402, 4.5672892821795, 11.91053094633673, 1.7564762155036098, 10.201857629536708, 3.8297993760672897, 2.8371250662884275, 13.649163936962832, 5.47946552883389, 1.6652006193482654, 3.5529358627400196, 123.22424951522305, 3.9558344149282543, 1.6885789572710606, 1.6023582389182236, 1.6019869523052392, 1.5993424584188327, 1.5953630349711876, 2.7818020381924704, 12.497043401936894, 1.6243189069557449, 1.5535485397230349, 3.498798866470665, 1.6288594158249343, 23.91328796503917, 1.6379289868003115, 8.87025868168465, 147.61030950036508, 15.93900311126249, 8.771379579391994, 193.66936626007066, 310.7805848457813, 20.82452963273866, 8.319715817910161, 10.487551701020756, 13021.135975728961, 2833.258312915398, 151.37536350719603, 330.8338669626037, 15422.086611790099, 457930.69734015904, 233269.24506120282, 322481.4028609191, 68516.48601773233, 178275.31512500602, 131403.02384986897, 119572.74976453515, 194724.38825158824, 226762.2947393772, 120353.1282941774, 111753.62467148423, 81313.08726864927, 166666.0038658408, 67142.51457085618, 156920.54151710097, 263310.6673752483, 73233.45064843702, 103020.8636322649, 77785.26432315688, 136668.43912116037, 87611.61901374858, 83473.47177971494, 124849.77744372012, 154729.21631869787, 92630.89126597228, 138502.3731883792, 164703.0316058654, 102757.43241428811, 211075.6187748501, 237964.25364982095, 199117.58550639532, 95483.68934336976, 100693.04896045182], \"Category\": [\"Default\", \"Default\", \"Default\", \"Default\", \"Default\", \"Default\", \"Default\", \"Default\", \"Default\", \"Default\", \"Default\", \"Default\", \"Default\", \"Default\", \"Default\", \"Default\", \"Default\", \"Default\", \"Default\", \"Default\", \"Default\", \"Default\", \"Default\", \"Default\", \"Default\", \"Default\", \"Default\", \"Default\", \"Default\", \"Default\", \"Topic1\", \"Topic1\", \"Topic1\", \"Topic1\", \"Topic1\", \"Topic1\", \"Topic1\", \"Topic1\", \"Topic1\", \"Topic1\", \"Topic1\", \"Topic1\", \"Topic1\", \"Topic1\", \"Topic1\", \"Topic1\", \"Topic1\", \"Topic1\", \"Topic1\", \"Topic1\", \"Topic1\", \"Topic1\", \"Topic1\", \"Topic1\", \"Topic1\", \"Topic1\", \"Topic1\", \"Topic1\", \"Topic1\", \"Topic1\", \"Topic1\", \"Topic1\", \"Topic1\", \"Topic1\", \"Topic1\", \"Topic1\", \"Topic1\", \"Topic1\", \"Topic1\", \"Topic1\", \"Topic1\", \"Topic1\", \"Topic1\", \"Topic1\", \"Topic1\", \"Topic1\", \"Topic1\", \"Topic1\", \"Topic1\", \"Topic1\", \"Topic1\", \"Topic1\", \"Topic1\", \"Topic1\", \"Topic1\", \"Topic1\", \"Topic1\", \"Topic1\", \"Topic1\", \"Topic1\", \"Topic1\", \"Topic1\", \"Topic1\", \"Topic1\", \"Topic1\", \"Topic1\", \"Topic1\", \"Topic1\", \"Topic1\", \"Topic1\", \"Topic1\", \"Topic1\", \"Topic1\", \"Topic1\", \"Topic1\", \"Topic1\", \"Topic1\", \"Topic1\", \"Topic1\", \"Topic1\", \"Topic1\", \"Topic1\", \"Topic1\", \"Topic1\", \"Topic1\", \"Topic1\", \"Topic1\", \"Topic1\", \"Topic1\", \"Topic1\", \"Topic1\", \"Topic1\", \"Topic1\", \"Topic1\", \"Topic1\", \"Topic1\", \"Topic1\", \"Topic1\", \"Topic1\", \"Topic1\", \"Topic1\", \"Topic1\", \"Topic2\", \"Topic2\", \"Topic2\", \"Topic2\", \"Topic2\", \"Topic2\", \"Topic2\", \"Topic2\", \"Topic2\", \"Topic2\", \"Topic2\", \"Topic2\", \"Topic2\", \"Topic2\", \"Topic2\", \"Topic2\", \"Topic2\", \"Topic2\", \"Topic2\", \"Topic2\", \"Topic2\", \"Topic2\", \"Topic2\", \"Topic2\", \"Topic2\", \"Topic2\", \"Topic2\", \"Topic2\", \"Topic2\", \"Topic2\", \"Topic2\", \"Topic2\", \"Topic2\", \"Topic2\", \"Topic2\", \"Topic2\", \"Topic2\", \"Topic2\", \"Topic2\", \"Topic2\", \"Topic2\", \"Topic2\", \"Topic2\", \"Topic2\", \"Topic2\", \"Topic2\", \"Topic2\", \"Topic2\", \"Topic2\", \"Topic2\", \"Topic2\", \"Topic2\", \"Topic2\", \"Topic2\", \"Topic2\", \"Topic2\", \"Topic2\", \"Topic2\", \"Topic2\", \"Topic2\", \"Topic2\", \"Topic2\", \"Topic2\", \"Topic2\", \"Topic2\", \"Topic2\", \"Topic2\", \"Topic2\", \"Topic2\", \"Topic2\", \"Topic2\", \"Topic2\", \"Topic2\", \"Topic2\", \"Topic2\", \"Topic2\", \"Topic2\", \"Topic2\", \"Topic2\", \"Topic2\", \"Topic2\", \"Topic2\", \"Topic2\", \"Topic2\", \"Topic2\", \"Topic2\", \"Topic2\", \"Topic2\", \"Topic2\", \"Topic2\", \"Topic2\", \"Topic2\", \"Topic2\", \"Topic2\", \"Topic2\", \"Topic2\", \"Topic2\", \"Topic2\", \"Topic2\", \"Topic2\", \"Topic2\", \"Topic3\", \"Topic3\", \"Topic3\", \"Topic3\", \"Topic3\", \"Topic3\", \"Topic3\", \"Topic3\", \"Topic3\", \"Topic3\", \"Topic3\", \"Topic3\", \"Topic3\", \"Topic3\", \"Topic3\", \"Topic3\", \"Topic3\", \"Topic3\", \"Topic3\", \"Topic3\", \"Topic3\", \"Topic3\", \"Topic3\", \"Topic3\", \"Topic3\", \"Topic3\", \"Topic3\", \"Topic3\", \"Topic3\", \"Topic3\", \"Topic3\", \"Topic3\", \"Topic3\", \"Topic3\", \"Topic3\", \"Topic3\", \"Topic3\", \"Topic3\", \"Topic3\", \"Topic3\", \"Topic3\", \"Topic3\", \"Topic3\", \"Topic3\", \"Topic3\", \"Topic3\", \"Topic3\", \"Topic3\", \"Topic3\", \"Topic3\", \"Topic3\", \"Topic3\", \"Topic3\", \"Topic3\", \"Topic3\", \"Topic3\", \"Topic3\", \"Topic3\", \"Topic3\", \"Topic3\", \"Topic3\", \"Topic3\", \"Topic3\", \"Topic3\", \"Topic3\", \"Topic3\", \"Topic3\", \"Topic3\", \"Topic3\", \"Topic3\", \"Topic3\", \"Topic3\", \"Topic3\", \"Topic3\", \"Topic3\", \"Topic3\", \"Topic3\", \"Topic3\", \"Topic3\", \"Topic3\", \"Topic3\", \"Topic3\", \"Topic3\", \"Topic3\", \"Topic3\", \"Topic3\", \"Topic3\", \"Topic3\", \"Topic4\", \"Topic4\", \"Topic4\", \"Topic4\", \"Topic4\", \"Topic4\", \"Topic4\", \"Topic4\", \"Topic4\", \"Topic4\", \"Topic4\", \"Topic4\", \"Topic4\", \"Topic4\", \"Topic4\", \"Topic4\", \"Topic4\", \"Topic4\", \"Topic4\", \"Topic4\", \"Topic4\", \"Topic4\", \"Topic4\", \"Topic4\", \"Topic4\", \"Topic4\", \"Topic4\", \"Topic4\", \"Topic4\", \"Topic4\", \"Topic4\", \"Topic4\", \"Topic4\", \"Topic4\", \"Topic4\", \"Topic4\", \"Topic4\", \"Topic4\", \"Topic4\", \"Topic4\", \"Topic4\", \"Topic4\", \"Topic4\", \"Topic4\", \"Topic4\", \"Topic4\", \"Topic4\", \"Topic4\", \"Topic4\", \"Topic4\", \"Topic4\", \"Topic4\", \"Topic4\", \"Topic4\", \"Topic4\", \"Topic4\", \"Topic4\", \"Topic4\", \"Topic4\", \"Topic4\", \"Topic4\", \"Topic4\", \"Topic4\", \"Topic4\", \"Topic4\", \"Topic4\", \"Topic4\", \"Topic4\", \"Topic4\", \"Topic4\", \"Topic4\", \"Topic4\", \"Topic4\", \"Topic4\", \"Topic4\", \"Topic4\", \"Topic4\", \"Topic4\", \"Topic4\", \"Topic4\", \"Topic4\", \"Topic4\", \"Topic4\", \"Topic4\", \"Topic4\", \"Topic5\", \"Topic5\", \"Topic5\", \"Topic5\", \"Topic5\", \"Topic5\", \"Topic5\", \"Topic5\", \"Topic5\", \"Topic5\", \"Topic5\", \"Topic5\", \"Topic5\", \"Topic5\", \"Topic5\", \"Topic5\", \"Topic5\", \"Topic5\", \"Topic5\", \"Topic5\", \"Topic5\", \"Topic5\", \"Topic5\", \"Topic5\", \"Topic5\", \"Topic5\", \"Topic5\", \"Topic5\", \"Topic5\", \"Topic5\", \"Topic5\", \"Topic5\", \"Topic5\", \"Topic5\", \"Topic5\", \"Topic5\", \"Topic5\", \"Topic5\", \"Topic5\", \"Topic5\", \"Topic5\", \"Topic5\", \"Topic5\", \"Topic5\", \"Topic5\", \"Topic5\", \"Topic5\", \"Topic5\", \"Topic5\", \"Topic5\", \"Topic5\", \"Topic5\", \"Topic5\", \"Topic5\", \"Topic5\", \"Topic5\", \"Topic5\", \"Topic5\", \"Topic5\", \"Topic5\", \"Topic5\", \"Topic5\", \"Topic5\", \"Topic5\", \"Topic5\", \"Topic5\", \"Topic5\", \"Topic5\", \"Topic5\", \"Topic5\", \"Topic5\", \"Topic5\", \"Topic5\", \"Topic5\", \"Topic5\", \"Topic5\", \"Topic5\", \"Topic5\", \"Topic5\", \"Topic5\", \"Topic5\", \"Topic5\", \"Topic5\", \"Topic5\", \"Topic5\", \"Topic5\", \"Topic5\", \"Topic5\", \"Topic5\", \"Topic5\", \"Topic5\", \"Topic5\", \"Topic6\", \"Topic6\", \"Topic6\", \"Topic6\", \"Topic6\", \"Topic6\", \"Topic6\", \"Topic6\", \"Topic6\", \"Topic6\", \"Topic6\", \"Topic6\", \"Topic6\", \"Topic6\", \"Topic6\", \"Topic6\", \"Topic6\", \"Topic6\", \"Topic6\", \"Topic6\", \"Topic6\", \"Topic6\", \"Topic6\", \"Topic6\", \"Topic6\", \"Topic6\", \"Topic6\", \"Topic6\", \"Topic6\", \"Topic6\", \"Topic6\", \"Topic6\", \"Topic6\", \"Topic6\", \"Topic6\", \"Topic6\", \"Topic6\", \"Topic6\", \"Topic6\", \"Topic6\", \"Topic6\", \"Topic6\", \"Topic6\", \"Topic6\", \"Topic6\", \"Topic6\", \"Topic6\", \"Topic6\", \"Topic6\", \"Topic6\", \"Topic6\", \"Topic6\", \"Topic6\", \"Topic6\", \"Topic6\", \"Topic6\", \"Topic6\", \"Topic6\", \"Topic6\", \"Topic6\", \"Topic6\", \"Topic6\", \"Topic6\", \"Topic6\", \"Topic6\", \"Topic6\", \"Topic6\", \"Topic6\", \"Topic6\", \"Topic6\", \"Topic6\", \"Topic6\", \"Topic6\", \"Topic6\", \"Topic6\", \"Topic6\", \"Topic6\", \"Topic6\", \"Topic6\", \"Topic6\", \"Topic6\", \"Topic6\", \"Topic6\", \"Topic7\", \"Topic7\", \"Topic7\", \"Topic7\", \"Topic7\", \"Topic7\", \"Topic7\", \"Topic7\", \"Topic7\", \"Topic7\", \"Topic7\", \"Topic7\", \"Topic7\", \"Topic7\", \"Topic7\", \"Topic7\", \"Topic7\", \"Topic7\", \"Topic7\", \"Topic7\", \"Topic7\", \"Topic7\", \"Topic7\", \"Topic7\", \"Topic7\", \"Topic7\", \"Topic7\", \"Topic7\", \"Topic7\", \"Topic7\", \"Topic7\", \"Topic7\", \"Topic7\", \"Topic7\", \"Topic7\", \"Topic7\", \"Topic7\", \"Topic7\", \"Topic7\", \"Topic7\", \"Topic7\", \"Topic7\", \"Topic7\", \"Topic7\", \"Topic7\", \"Topic7\", \"Topic7\", \"Topic7\", \"Topic7\", \"Topic7\", \"Topic7\", \"Topic7\", \"Topic7\", \"Topic7\", \"Topic7\", \"Topic7\", \"Topic7\", \"Topic7\", \"Topic7\", \"Topic7\", \"Topic7\", \"Topic7\", \"Topic7\", \"Topic7\", \"Topic7\", \"Topic7\", \"Topic7\", \"Topic7\", \"Topic7\", \"Topic7\", \"Topic7\", \"Topic7\", \"Topic7\", \"Topic7\", \"Topic7\", \"Topic7\", \"Topic7\", \"Topic7\", \"Topic7\", \"Topic7\", \"Topic7\", \"Topic7\", \"Topic8\", \"Topic8\", \"Topic8\", \"Topic8\", \"Topic8\", \"Topic8\", \"Topic8\", \"Topic8\", \"Topic8\", \"Topic8\", \"Topic8\", \"Topic8\", \"Topic8\", \"Topic8\", \"Topic8\", \"Topic8\", \"Topic8\", \"Topic8\", \"Topic8\", \"Topic8\", \"Topic8\", \"Topic8\", \"Topic8\", \"Topic8\", \"Topic8\", \"Topic8\", \"Topic8\", \"Topic8\", \"Topic8\", \"Topic8\", \"Topic8\", \"Topic8\", \"Topic8\", \"Topic8\", \"Topic8\", \"Topic8\", \"Topic8\", \"Topic8\", \"Topic8\", \"Topic8\", \"Topic8\", \"Topic8\", \"Topic8\", \"Topic8\", \"Topic8\", \"Topic8\", \"Topic8\", \"Topic8\", \"Topic8\", \"Topic8\", \"Topic8\", \"Topic8\", \"Topic8\", \"Topic8\", \"Topic8\", \"Topic8\", \"Topic8\", \"Topic8\", \"Topic8\", \"Topic8\", \"Topic8\", \"Topic8\", \"Topic8\", \"Topic8\", \"Topic8\", \"Topic8\", \"Topic8\", \"Topic8\", \"Topic8\", \"Topic8\", \"Topic8\", \"Topic8\", \"Topic8\", \"Topic8\", \"Topic8\", \"Topic8\", \"Topic8\", \"Topic8\", \"Topic8\", \"Topic8\", \"Topic8\", \"Topic8\", \"Topic8\", \"Topic8\", \"Topic8\", \"Topic8\", \"Topic8\", \"Topic8\", \"Topic8\", \"Topic9\", \"Topic9\", \"Topic9\", \"Topic9\", \"Topic9\", \"Topic9\", \"Topic9\", \"Topic9\", \"Topic9\", \"Topic9\", \"Topic9\", \"Topic9\", \"Topic9\", \"Topic9\", \"Topic9\", \"Topic9\", \"Topic9\", \"Topic9\", \"Topic9\", \"Topic9\", \"Topic9\", \"Topic9\", \"Topic9\", \"Topic9\", \"Topic9\", \"Topic9\", \"Topic9\", \"Topic9\", \"Topic9\", \"Topic9\", \"Topic9\", \"Topic9\", \"Topic9\", \"Topic9\", \"Topic9\", \"Topic9\", \"Topic9\", \"Topic9\", \"Topic9\", \"Topic9\", \"Topic9\", \"Topic9\", \"Topic9\", \"Topic9\", \"Topic9\", \"Topic9\", \"Topic9\", \"Topic9\", \"Topic9\", \"Topic9\", \"Topic9\", \"Topic9\", \"Topic9\", \"Topic9\", \"Topic9\", \"Topic9\", \"Topic9\", \"Topic9\", \"Topic9\", \"Topic9\", \"Topic9\", \"Topic9\", \"Topic9\", \"Topic9\", \"Topic9\", \"Topic9\", \"Topic9\", \"Topic9\", \"Topic9\", \"Topic9\", \"Topic9\", \"Topic9\", \"Topic9\", \"Topic9\", \"Topic9\", \"Topic9\", \"Topic9\", \"Topic9\", \"Topic9\", \"Topic9\", \"Topic9\", \"Topic9\", \"Topic9\", \"Topic9\", \"Topic9\", \"Topic9\", \"Topic9\", \"Topic9\", \"Topic10\", \"Topic10\", \"Topic10\", \"Topic10\", \"Topic10\", \"Topic10\", \"Topic10\", \"Topic10\", \"Topic10\", \"Topic10\", \"Topic10\", \"Topic10\", \"Topic10\", \"Topic10\", \"Topic10\", \"Topic10\", \"Topic10\", \"Topic10\", \"Topic10\", \"Topic10\", \"Topic10\", \"Topic10\", \"Topic10\", \"Topic10\", \"Topic10\", \"Topic10\", \"Topic10\", \"Topic10\", \"Topic10\", \"Topic10\", \"Topic10\", \"Topic10\", \"Topic10\", \"Topic10\", \"Topic10\", \"Topic10\", \"Topic10\", \"Topic10\", \"Topic10\", \"Topic10\", \"Topic10\", \"Topic10\", \"Topic10\", \"Topic10\", \"Topic10\", \"Topic10\", \"Topic10\", \"Topic10\", \"Topic10\", \"Topic10\", \"Topic10\", \"Topic10\", \"Topic10\", \"Topic10\", \"Topic10\", \"Topic10\", \"Topic10\", \"Topic10\", \"Topic10\", \"Topic10\", \"Topic10\", \"Topic10\", \"Topic10\", \"Topic10\", \"Topic10\", \"Topic10\", \"Topic10\", \"Topic10\", \"Topic10\", \"Topic10\", \"Topic10\", \"Topic10\", \"Topic10\", \"Topic10\", \"Topic10\", \"Topic10\", \"Topic10\"], \"logprob\": [30.0, 29.0, 28.0, 27.0, 26.0, 25.0, 24.0, 23.0, 22.0, 21.0, 20.0, 19.0, 18.0, 17.0, 16.0, 15.0, 14.0, 13.0, 12.0, 11.0, 10.0, 9.0, 8.0, 7.0, 6.0, 5.0, 4.0, 3.0, 2.0, 1.0, -11.7732, -12.6874, -12.2616, -12.31, -11.9702, -12.2293, -11.4213, -13.5027, -10.3863, -11.5844, -13.7429, -13.0669, -11.5802, -13.0679, -13.4753, -11.6681, -10.5858, -10.6406, -10.7172, -8.9071, -11.9724, -11.372, -9.8715, -12.5316, -13.8367, -11.6803, -12.9307, -13.7603, -7.7588, -12.3479, -8.7107, -7.5525, -8.418, -10.0281, -8.89, -10.402, -7.6078, -9.0073, -8.3775, -9.6766, -9.6185, -9.5495, -7.8189, -6.8155, -7.4724, -9.8738, -10.1277, -8.0778, -6.0841, -8.6426, -7.3842, -6.6549, -6.9739, -8.4809, -6.6907, -5.5777, -8.9099, -7.0984, -8.19, -5.8865, -5.3115, -6.4047, -6.6998, -6.5639, -7.1224, -7.2883, -6.4959, -6.9941, -6.6833, -6.5651, -4.8579, -6.7641, -6.6456, -5.3261, -6.0683, -4.8803, -5.5948, -5.6406, -5.2161, -4.5149, -5.0221, -5.837, -4.946, -5.9247, -5.6598, -5.2727, -5.1736, -4.9726, -5.4453, -5.3826, -5.403, -5.5198, -5.6308, -5.8039, -5.6538, -6.0856, -5.8355, -5.8437, -5.6639, -5.8128, -5.8372, -5.8753, -9.7702, -11.1902, -12.7258, -11.9652, -11.2635, -13.7638, -12.9612, -12.1024, -11.6136, -12.5191, -12.0331, -12.581, -12.1847, -13.5812, -12.3992, -10.7392, -11.7993, -13.043, -14.5261, -12.4356, -14.2544, -11.7581, -12.9814, -9.6229, -14.4073, -14.7094, -12.998, -14.7325, -9.3026, -12.5746, -11.3119, -10.42, -9.237, -11.0793, -8.9449, -8.8639, -9.1871, -11.1429, -9.9506, -10.2998, -8.3397, -10.4363, -8.3744, -7.9302, -10.2225, -6.4921, -9.2835, -10.3282, -9.3308, -8.9939, -7.6274, -6.4971, -7.1014, -8.6406, -8.5882, -9.3939, -6.1562, -7.6847, -7.0378, -7.6158, -7.2692, -6.811, -4.9695, -7.6147, -8.0371, -4.7797, -5.3243, -7.5196, -4.7371, -5.0535, -5.1085, -6.3367, -5.2051, -5.0802, -6.8867, -6.5722, -5.792, -5.3213, -4.5603, -5.1155, -4.8234, -5.0814, -5.7363, -5.2084, -5.5246, -5.541, -5.8523, -5.9984, -5.7987, -5.7389, -5.688, -5.236, -5.6281, -5.5684, -5.5878, -5.9588, -5.9371, -5.8591, -5.7935, -5.8615, -5.8599, -10.8263, -13.4561, -11.1337, -13.567, -12.1004, -12.7315, -13.4496, -12.8785, -9.7083, -11.7972, -13.1172, -12.7983, -14.1492, -10.2909, -13.7865, -14.2639, -13.1901, -13.4504, -11.992, -10.6246, -13.1371, -14.1506, -13.8821, -14.5935, -12.5714, -13.9582, -13.0043, -13.416, -13.8019, -14.199, -13.4125, -12.0482, -13.2749, -10.1934, -9.4146, -12.4762, -11.6345, -10.9661, -12.929, -10.2546, -11.7535, -9.2535, -8.1528, -10.8899, -5.1364, -7.1429, -7.0951, -9.3302, -10.0657, -6.1543, -4.9182, -4.4596, -4.8995, -8.6702, -6.0906, -5.5304, -4.3209, -7.0865, -5.8306, -5.8284, -5.0023, -4.9465, -5.7411, -4.8341, -5.3531, -5.9259, -4.9668, -5.2352, -5.4225, -5.6669, -5.2972, -6.5616, -6.0183, -5.8794, -5.8709, -5.0831, -6.2696, -5.2796, -5.6686, -6.0121, -5.5641, -5.4904, -5.6745, -5.5125, -5.703, -5.7122, -5.8297, -5.8743, -11.7793, -13.3186, -13.3835, -11.4337, -11.2575, -13.1369, -12.9508, -13.6414, -13.0792, -12.5598, -13.7992, -12.9945, -13.081, -12.7557, -11.349, -12.2869, -13.1385, -11.2183, -10.4687, -13.7393, -13.0842, -13.7104, -12.6827, -12.6035, -13.8196, -11.2078, -11.765, -14.6494, -13.0464, -13.6102, -9.9105, -10.3886, -11.0963, -10.4954, -10.4614, -11.615, -8.7106, -8.7707, -10.6335, -10.2324, -10.3576, -10.668, -10.1223, -3.9286, -6.1502, -8.0138, -5.2249, -6.7067, -9.4927, -4.7915, -4.7057, -6.0079, -6.7137, -7.3662, -6.213, -7.3083, -4.6305, -5.222, -5.8424, -5.5856, -4.9696, -5.4281, -5.8106, -5.0097, -5.7983, -6.3616, -5.4475, -5.742, -5.9299, -5.3705, -5.9959, -5.3668, -5.6131, -5.4038, -5.6907, -5.6278, -5.3538, -5.3738, -5.3308, -5.4573, -5.8264, -5.7507, -5.7528, -5.8515, -5.8866, -11.6628, -13.5695, -12.3552, -11.8863, -13.1326, -13.1358, -13.8645, -13.3062, -11.3127, -12.9253, -13.282, -12.0077, -12.4891, -13.4887, -11.7171, -12.8522, -14.4009, -14.1061, -12.4247, -12.7086, -14.3544, -13.7328, -12.3404, -13.7238, -12.5764, -13.8366, -14.3781, -12.816, -14.5728, -14.222, -12.3245, -12.5564, -11.5816, -10.3974, -10.8169, -11.2559, -11.0625, -9.9417, -11.2037, -10.0777, -8.1091, -9.4767, -9.2708, -9.6387, -7.4801, -10.5155, -9.7341, -9.7145, -7.0542, -10.6735, -7.1335, -10.7187, -7.2102, -6.562, -9.4799, -4.8831, -4.5739, -5.2543, -5.1615, -4.7538, -4.8632, -4.8784, -4.922, -5.0746, -6.9952, -5.6278, -7.895, -5.1717, -6.5366, -5.8439, -5.6817, -4.4892, -5.6236, -5.9426, -5.462, -5.9068, -5.4524, -6.044, -5.9904, -5.5618, -6.1593, -5.4152, -5.7266, -5.3389, -5.659, -5.8032, -5.7039, -5.5653, -5.8811, -5.8355, -5.7057, -5.8517, -12.3306, -11.2209, -11.7906, -12.8753, -11.987, -12.3264, -12.5282, -12.2055, -10.6147, -11.7473, -12.9236, -12.2026, -12.8603, -11.3479, -14.173, -11.474, -12.3752, -11.0909, -12.9361, -12.4802, -13.051, -12.1374, -12.6922, -11.6036, -13.0156, -13.2782, -10.1628, -14.1076, -13.1886, -14.507, -13.1301, -8.9509, -11.9109, -11.2274, -10.5855, -11.1315, -7.0435, -11.3295, -8.3226, -10.5733, -10.6998, -8.5943, -7.276, -4.7233, -6.7038, -4.089, -4.8554, -8.0616, -5.486, -8.4596, -4.8646, -5.1819, -4.7776, -5.7427, -5.6326, -5.3658, -7.4503, -5.644, -4.7079, -5.8477, -4.9793, -5.7199, -5.2411, -5.4071, -6.1544, -5.3322, -5.5045, -5.8023, -6.2287, -5.8827, -5.0832, -5.9119, -5.6356, -5.2721, -5.9654, -5.4403, -5.739, -5.7925, -5.7866, -5.7111, -5.8939, -5.8478, -5.8582, -12.9142, -12.4855, -9.0443, -14.1346, -13.4623, -12.259, -12.3491, -12.2473, -13.6234, -13.3512, -13.3729, -10.3985, -14.8832, -12.7072, -12.1686, -12.1968, -14.4432, -11.3384, -14.2465, -13.2407, -13.6225, -14.08, -13.4771, -14.3915, -13.4008, -13.403, -13.6343, -14.3284, -14.0836, -13.0616, -10.4077, -9.8204, -11.6647, -12.3581, -8.6596, -11.5071, -11.8617, -12.3154, -11.3831, -11.6435, -10.4627, -5.8294, -9.7606, -4.6215, -5.0868, -4.1876, -5.2386, -6.6812, -5.1086, -5.0027, -6.2742, -6.0272, -6.0943, -6.362, -4.6618, -5.013, -4.8381, -6.1726, -6.1425, -5.5534, -6.9463, -5.1848, -5.6772, -5.4675, -5.498, -5.6049, -4.9889, -5.3154, -5.434, -5.2928, -5.7078, -5.8274, -5.903, -5.1789, -5.7891, -5.8784, -5.3688, -5.767, -5.5228, -5.7061, -5.7806, -5.835, -12.7085, -13.9795, -12.8386, -10.6748, -12.6991, -14.1674, -11.9775, -12.3798, -13.0801, -13.9686, -12.9568, -13.4227, -14.6111, -13.487, -12.9089, -13.2644, -12.0383, -12.9115, -12.7256, -14.1867, -14.0151, -14.658, -13.5314, -12.2623, -13.3705, -13.388, -14.7608, -13.9679, -14.0779, -12.3513, -12.8083, -13.4714, -10.9664, -10.9882, -11.2352, -12.4587, -11.7071, -12.4846, -8.6435, -7.2175, -11.2847, -11.3258, -9.8508, -9.0552, -10.8329, -5.9534, -4.2607, -10.5069, -4.0066, -4.7758, -4.821, -4.9457, -6.4068, -7.5924, -5.647, -5.4036, -8.2537, -5.3566, -5.6817, -5.6743, -6.7177, -5.1065, -6.4798, -5.5157, -5.5451, -6.8672, -5.2586, -6.2855, -5.3617, -5.6816, -5.6265, -5.8723, -6.4705, -5.2675, -5.1614, -5.5386, -5.0944, -5.4274, -5.9932, -6.0674, -5.819, -5.5602, -5.7412, -6.0, -5.6224, -5.8909, -5.8495, -5.925, -5.924, -13.9721, -12.9183, -13.2198, -13.9734, -12.6456, -13.1867, -14.47, -12.6347, -13.4569, -14.431, -13.5263, -14.4229, -11.6714, -10.6114, -13.0365, -13.2038, -13.7641, -14.1347, -13.6138, -13.4148, -14.6249, -14.5404, -12.6875, -14.1251, -10.8086, -13.9017, -14.5001, -14.6119, -12.1532, -14.6873, -11.503, -13.1817, -10.9933, -11.1119, -12.1218, -12.5238, -12.155, -11.3488, -10.3449, -10.8001, -11.5351, -7.8782, -9.8661, -8.401, -11.2121, -4.2965, -8.0995, -5.0763, -6.2284, -7.5301, -4.8079, -5.5558, -5.6538, -7.5919, -5.4265, -5.1028, -6.1974, -4.8183, -5.7459, -5.5813, -6.6633, -5.3123, -5.5177, -5.4113, -5.2205, -6.8313, -6.1916, -4.4047, -6.1974, -5.8972, -5.1764, -5.9863, -5.544, -5.2572, -5.1481, -5.6757, -4.9722, -5.5493, -5.466, -5.1835, -5.2088, -5.979, -5.88, -5.4814, -5.6623, -5.7575, -5.4395, -5.7207, -11.6023, -12.0082, -13.5188, -12.595, -14.3644, -13.4766, -12.5235, -14.4513, -12.7128, -13.6998, -14.0018, -12.4485, -13.3658, -14.5667, -13.8322, -10.2864, -13.7373, -14.5955, -14.6546, -14.6551, -14.659, -14.6648, -14.113, -12.6143, -14.6797, -14.7286, -13.9176, -14.6936, -12.046, -14.7563, -13.0713, -10.404, -12.5262, -13.1, -10.2323, -9.9057, -12.3669, -13.1994, -13.0136, -6.9268, -8.2336, -10.735, -10.0861, -6.8605, -4.0396, -4.6404, -4.4396, -5.7344, -4.9984, -5.2682, -5.346, -4.9615, -4.8471, -5.3947, -5.4808, -5.7551, -5.2078, -5.934, -5.2796, -4.8988, -5.8842, -5.6577, -5.8744, -5.4511, -5.7897, -5.826, -5.5386, -5.4002, -5.7965, -5.52, -5.4067, -5.7385, -5.262, -5.1922, -5.3249, -5.792, -5.7997], \"loglift\": [30.0, 29.0, 28.0, 27.0, 26.0, 25.0, 24.0, 23.0, 22.0, 21.0, 20.0, 19.0, 18.0, 17.0, 16.0, 15.0, 14.0, 13.0, 12.0, 11.0, 10.0, 9.0, 8.0, 7.0, 6.0, 5.0, 4.0, 3.0, 2.0, 1.0, 1.3158, 1.3025, 1.2812, 1.2755, 1.2592, 1.2583, 1.2556, 1.2505, 1.2496, 1.2446, 1.2345, 1.2314, 1.2309, 1.2166, 1.2118, 1.2108, 1.2101, 1.2086, 1.2069, 1.2059, 1.2054, 1.2044, 1.2018, 1.2016, 1.2013, 1.1993, 1.1969, 1.1964, 1.1957, 1.1951, 1.1936, 1.1737, 1.179, 1.1897, 1.1715, 1.1829, 1.1305, 1.1462, 1.111, 1.1362, 1.1329, 1.1262, 1.0522, 1.0097, 1.0188, 1.131, 1.1452, 0.9984, 0.8442, 1.0328, 0.9374, 0.8748, 0.8975, 1.0038, 0.7778, 0.6513, 1.0189, 0.8036, 0.9311, 0.6302, 0.5383, 0.6734, 0.6939, 0.6633, 0.7471, 0.7719, 0.606, 0.7009, 0.6361, 0.6078, 0.2118, 0.6514, 0.6223, 0.2517, 0.4308, 0.0695, 0.2665, 0.2462, 0.0897, -0.2198, -0.0242, 0.2875, -0.0975, 0.3076, 0.1057, -0.1225, -0.2039, -0.3268, -0.0651, -0.1441, -0.275, -0.2021, -0.1265, 0.0059, -0.1629, 0.2314, -0.046, -0.0568, -0.2978, -0.1749, -0.2425, -0.2439, 1.8789, 1.8608, 1.8597, 1.8349, 1.8019, 1.7964, 1.7946, 1.7727, 1.7523, 1.7441, 1.7291, 1.7095, 1.6881, 1.6814, 1.6722, 1.657, 1.653, 1.6527, 1.6482, 1.6426, 1.6378, 1.6303, 1.6259, 1.6198, 1.6133, 1.6115, 1.6098, 1.6044, 1.5989, 1.597, 1.5946, 1.5839, 1.5606, 1.5787, 1.5326, 1.5207, 1.5226, 1.5728, 1.5093, 1.5214, 1.3945, 1.5217, 1.3528, 1.3102, 1.4976, 1.1521, 1.4149, 1.4899, 1.3696, 1.312, 1.1238, 0.9662, 1.0127, 1.2409, 1.2029, 1.3333, 0.6817, 0.9921, 0.8508, 0.9679, 0.8963, 0.7816, 0.3482, 0.9325, 1.0258, 0.1701, 0.3136, 0.8893, 0.1114, 0.185, 0.1973, 0.5471, 0.175, 0.0701, 0.6693, 0.5473, 0.2448, 0.0448, -0.2651, -0.0459, -0.1776, -0.0835, 0.1678, -0.0804, 0.0532, 0.0026, 0.145, 0.2134, 0.0928, 0.048, 0.0175, -0.2664, -0.0334, -0.0775, -0.0835, 0.1755, 0.1308, 0.0022, -0.1621, -0.0517, -0.0944, 2.3168, 2.1729, 2.1512, 2.1451, 2.0722, 2.0523, 2.0278, 1.9953, 1.9857, 1.9452, 1.9421, 1.9376, 1.9374, 1.9343, 1.9258, 1.9246, 1.9205, 1.9129, 1.8942, 1.8923, 1.8906, 1.8895, 1.8862, 1.8853, 1.8797, 1.8741, 1.8659, 1.8557, 1.8404, 1.8371, 1.8331, 1.7875, 1.8232, 1.6599, 1.548, 1.7651, 1.7008, 1.6248, 1.7942, 1.4821, 1.6504, 1.3368, 1.1241, 1.5119, 0.495, 0.8451, 0.8119, 1.2147, 1.3327, 0.5782, 0.3203, 0.1861, 0.2284, 1.0419, 0.4362, 0.2794, -0.0258, 0.6334, 0.3037, 0.2862, 0.0673, 0.0514, 0.2561, 0.0144, 0.1378, 0.2891, 0.0028, 0.0825, 0.121, 0.196, 0.0689, 0.4651, 0.2605, 0.2076, 0.197, -0.1334, 0.3344, -0.1293, 0.037, 0.2038, -0.0598, -0.1103, -0.0366, -0.2066, -0.1083, -0.1345, -0.0403, -0.0873, 2.1471, 2.1317, 2.106, 2.0864, 2.0459, 2.0282, 2.02, 2.0083, 2.0017, 1.9835, 1.9753, 1.9567, 1.9562, 1.9549, 1.9451, 1.944, 1.943, 1.9304, 1.9284, 1.9266, 1.921, 1.915, 1.8892, 1.8873, 1.8736, 1.8709, 1.8691, 1.8473, 1.8387, 1.8255, 1.8241, 1.8187, 1.7718, 1.7402, 1.6802, 1.7624, 1.4509, 1.4365, 1.6481, 1.5804, 1.5858, 1.5882, 1.4816, 0.3665, 0.7521, 1.0189, 0.3698, 0.6653, 1.2725, 0.2064, 0.1428, 0.4298, 0.6022, 0.7566, 0.4502, 0.7356, 0.0153, 0.1582, 0.2858, 0.1799, -0.0199, 0.1155, 0.2278, -0.04, 0.1989, 0.3713, 0.0435, 0.1449, 0.1946, -0.0044, 0.1989, -0.0491, 0.0248, -0.098, 0.0149, -0.05, -0.2259, -0.2236, -0.2612, -0.2188, -0.0166, -0.1193, -0.2485, -0.0646, 0.0049, 2.2647, 2.2159, 2.1824, 2.1575, 2.1552, 2.1509, 2.1488, 2.1449, 2.1409, 2.1301, 2.1147, 2.1139, 2.1047, 2.0434, 2.026, 2.0236, 2.0224, 1.9996, 1.9909, 1.9896, 1.9826, 1.9776, 1.9773, 1.9714, 1.9649, 1.9619, 1.9572, 1.9539, 1.9426, 1.9189, 1.9162, 1.9059, 1.8656, 1.8127, 1.8245, 1.8441, 1.8248, 1.7324, 1.7843, 1.6732, 1.4764, 1.5987, 1.5613, 1.6016, 1.2364, 1.6664, 1.5495, 1.5459, 1.0511, 1.6578, 0.9589, 1.6573, 0.9348, 0.7254, 1.3432, 0.2449, 0.0719, 0.2366, 0.2046, 0.0947, 0.1065, 0.0714, 0.076, 0.0757, 0.647, 0.2351, 0.9087, 0.0668, 0.4901, 0.2707, 0.2052, -0.194, 0.1659, 0.2724, 0.0816, 0.2275, 0.0519, 0.2456, 0.2215, 0.0329, 0.2784, -0.0975, -0.0211, -0.2692, -0.0812, 0.0066, -0.0725, -0.2595, 0.0231, -0.07, -0.3256, -0.2137, 2.4125, 2.3833, 2.3665, 2.2512, 2.2157, 2.2114, 2.1863, 2.1811, 2.1763, 2.1644, 2.1544, 2.1499, 2.1399, 2.1181, 2.1117, 2.1052, 2.0924, 2.0912, 2.0876, 2.0708, 2.0491, 2.0431, 2.0268, 2.0258, 2.0201, 2.0162, 2.0009, 1.9972, 1.9942, 1.9932, 1.9909, 1.9381, 1.9317, 1.8717, 1.8269, 1.8571, 1.2975, 1.8219, 1.3392, 1.692, 1.7039, 1.2983, 1.0168, 0.4046, 0.8179, 0.2062, 0.2948, 1.0661, 0.4072, 1.1487, 0.1334, 0.1983, 0.0709, 0.3387, 0.2715, 0.1778, 0.8, 0.2474, -0.0621, 0.2805, -0.0096, 0.229, 0.0648, 0.0972, 0.3444, 0.0339, 0.0902, 0.1949, 0.3578, 0.2042, -0.1334, 0.2027, 0.0699, -0.2025, 0.203, -0.1226, 0.0479, 0.0704, 0.0029, -0.0797, 0.1034, -0.2099, -0.2804, 2.2548, 2.1106, 2.074, 2.0523, 1.9608, 1.9248, 1.9218, 1.9103, 1.9061, 1.8988, 1.8907, 1.8711, 1.8666, 1.8587, 1.8561, 1.8521, 1.8497, 1.8483, 1.8376, 1.826, 1.825, 1.8224, 1.8102, 1.8014, 1.7902, 1.7901, 1.7814, 1.7789, 1.7592, 1.7542, 1.7366, 1.6288, 1.6897, 1.7049, 1.4545, 1.6061, 1.6273, 1.6681, 1.5692, 1.5791, 1.427, 0.6704, 1.232, 0.3481, 0.4041, 0.1075, 0.3049, 0.5799, 0.2091, 0.1476, 0.4158, 0.3439, 0.3517, 0.3913, -0.016, 0.0566, 0.0104, 0.3262, 0.3099, 0.1522, 0.5221, 0.0537, 0.1841, 0.1273, 0.1334, 0.1606, -0.0392, 0.0507, 0.0703, 0.013, 0.142, 0.1699, 0.1839, -0.1809, 0.1024, 0.1451, -0.2409, 0.0427, -0.1427, -0.0682, 0.0063, -0.0455, 2.3864, 2.2912, 2.2827, 2.2731, 2.2619, 2.2432, 2.2351, 2.1626, 2.1572, 2.1396, 2.1272, 2.1158, 2.0708, 2.0579, 2.0545, 2.0486, 2.0481, 2.0364, 2.0265, 2.0181, 2.0179, 2.0161, 2.0019, 1.99, 1.9805, 1.9745, 1.9695, 1.9677, 1.9522, 1.9479, 1.9438, 1.935, 1.8513, 1.8353, 1.8391, 1.9024, 1.8259, 1.8923, 1.4898, 1.3199, 1.7536, 1.745, 1.5125, 1.345, 1.6106, 0.7098, 0.3851, 1.5473, 0.2886, 0.1739, 0.1486, 0.1239, 0.4839, 0.7587, 0.2463, 0.1742, 0.9186, 0.1477, 0.2225, 0.2172, 0.49, 0.0214, 0.4058, 0.079, 0.0864, 0.4905, -0.0201, 0.301, 0.0043, 0.1078, 0.0791, 0.125, 0.3303, -0.1173, -0.1634, -0.0477, -0.2459, -0.1216, 0.135, 0.1485, -0.0092, -0.1801, -0.1033, 0.0813, -0.3047, -0.028, -0.084, -0.0638, -0.1371, 2.3369, 2.2378, 2.2293, 2.1755, 2.1691, 2.1541, 2.1509, 2.1129, 2.1127, 2.1119, 2.1113, 2.0882, 2.0429, 2.0384, 2.0107, 1.9916, 1.9888, 1.9883, 1.9791, 1.9776, 1.9719, 1.9681, 1.9638, 1.9507, 1.945, 1.9364, 1.9234, 1.9216, 1.9215, 1.9187, 1.918, 1.9016, 1.8287, 1.8198, 1.8527, 1.873, 1.8092, 1.7354, 1.5469, 1.5716, 1.6807, 1.1168, 1.3968, 1.1137, 1.5967, 0.3493, 1.0408, 0.428, 0.6623, 0.8883, 0.32, 0.4677, 0.4275, 0.8389, 0.3605, 0.2633, 0.4926, 0.1514, 0.3687, 0.3119, 0.577, 0.2313, 0.2718, 0.2266, 0.1596, 0.5926, 0.3995, -0.1096, 0.3891, 0.2976, 0.0621, 0.3171, 0.1616, 0.0605, 0.0022, 0.1872, -0.1237, 0.0821, 0.025, -0.1138, -0.2108, 0.237, 0.1584, -0.1755, -0.0676, 0.008, -0.4898, -0.143, 2.8157, 2.7512, 2.4515, 2.4468, 2.3594, 2.3341, 2.3286, 2.315, 2.2942, 2.287, 2.285, 2.2674, 2.2628, 2.253, 2.2297, 2.2292, 2.2171, 2.2102, 2.2036, 2.2032, 2.201, 2.1976, 2.1935, 2.1898, 2.1648, 2.1604, 2.1596, 2.1481, 2.1092, 2.0799, 2.0756, 1.931, 2.0346, 2.0581, 1.8311, 1.6848, 1.9265, 2.0115, 1.9658, 0.9285, 1.1468, 1.5748, 1.4418, 0.8255, 0.2556, 0.3292, 0.2061, 0.4603, 0.2401, 0.2753, 0.2919, 0.1887, 0.1509, 0.2367, 0.2247, 0.2685, 0.0981, 0.281, 0.0865, -0.0503, 0.244, 0.1292, 0.1934, 0.0531, 0.1592, 0.1713, 0.0562, -0.0201, 0.0967, -0.0291, -0.0891, 0.051, -0.1923, -0.2425, -0.1969, 0.0709, 0.0101]}, \"token.table\": {\"Topic\": [1, 2, 3, 4, 5, 6, 7, 8, 9, 10, 2, 4, 1, 2, 3, 4, 5, 6, 7, 8, 9, 10, 1, 2, 3, 4, 5, 6, 7, 8, 9, 10, 1, 2, 3, 4, 5, 6, 7, 8, 9, 10, 1, 2, 3, 4, 5, 6, 7, 8, 9, 10, 1, 2, 3, 4, 5, 6, 7, 8, 9, 10, 1, 2, 3, 4, 5, 6, 7, 8, 9, 10, 1, 2, 3, 4, 5, 6, 7, 8, 9, 10, 1, 2, 3, 4, 5, 6, 7, 8, 9, 10, 1, 2, 3, 4, 5, 6, 7, 8, 9, 10, 4, 6, 5, 9, 10, 1, 2, 3, 4, 5, 6, 7, 8, 9, 10, 1, 2, 1, 2, 3, 4, 5, 6, 7, 8, 9, 10, 1, 2, 3, 4, 5, 6, 7, 8, 9, 10, 1, 2, 3, 4, 5, 6, 7, 8, 9, 10, 2, 1, 2, 3, 4, 5, 6, 7, 8, 9, 10, 1, 2, 3, 4, 5, 6, 7, 8, 9, 10, 4, 5, 1, 2, 3, 4, 5, 6, 7, 8, 9, 10, 1, 2, 3, 4, 5, 6, 7, 8, 9, 10, 1, 2, 3, 4, 5, 6, 7, 8, 9, 10, 1, 2, 3, 4, 5, 6, 7, 8, 9, 10, 10, 1, 7, 8, 1, 2, 3, 4, 5, 6, 7, 8, 9, 10, 3, 5, 7, 1, 2, 3, 4, 5, 6, 7, 8, 9, 10, 1, 2, 3, 4, 5, 6, 7, 8, 9, 10, 1, 2, 3, 4, 5, 6, 7, 8, 9, 10, 1, 2, 3, 5, 6, 8, 9, 1, 2, 3, 4, 5, 6, 7, 8, 9, 10, 1, 2, 3, 4, 5, 6, 7, 8, 9, 10, 10, 8, 1, 2, 3, 4, 5, 6, 7, 8, 9, 1, 2, 3, 4, 5, 6, 7, 8, 9, 10, 1, 2, 8, 1, 2, 3, 4, 5, 6, 7, 8, 9, 10, 3, 1, 2, 3, 4, 5, 6, 7, 8, 9, 10, 1, 2, 3, 4, 5, 6, 7, 8, 9, 10, 1, 2, 3, 4, 5, 6, 7, 8, 9, 10, 4, 7, 5, 10, 1, 2, 3, 4, 5, 6, 8, 9, 10, 1, 2, 3, 4, 5, 6, 7, 8, 9, 10, 1, 2, 3, 4, 5, 6, 7, 8, 9, 10, 1, 2, 3, 4, 5, 6, 7, 8, 9, 10, 8, 5, 1, 2, 3, 4, 5, 6, 7, 8, 9, 10, 1, 2, 3, 4, 5, 6, 7, 8, 9, 10, 1, 2, 3, 4, 5, 6, 7, 8, 9, 10, 1, 2, 3, 4, 5, 6, 7, 8, 9, 10, 1, 3, 9, 1, 2, 3, 4, 5, 6, 7, 8, 9, 10, 7, 1, 2, 3, 4, 5, 6, 7, 8, 9, 10, 10, 1, 2, 3, 4, 5, 6, 7, 8, 9, 10, 1, 7, 9, 4, 1, 2, 1, 2, 3, 4, 5, 6, 7, 8, 9, 10, 1, 2, 5, 6, 8, 9, 1, 2, 3, 4, 5, 6, 7, 8, 9, 10, 8, 1, 2, 3, 4, 5, 6, 7, 9, 10, 1, 2, 3, 4, 5, 6, 7, 8, 9, 10, 1, 2, 3, 4, 5, 6, 7, 8, 9, 10, 1, 2, 3, 4, 5, 6, 7, 8, 9, 10, 1, 2, 3, 4, 5, 6, 7, 8, 9, 10, 5, 1, 2, 3, 4, 5, 6, 7, 8, 9, 10, 1, 2, 3, 4, 5, 6, 7, 8, 9, 10, 1, 2, 3, 4, 5, 6, 7, 8, 9, 10, 4, 8, 10, 3, 1, 2, 3, 4, 5, 6, 7, 8, 9, 10, 1, 2, 3, 4, 5, 6, 7, 8, 9, 10, 6, 1, 2, 3, 4, 5, 6, 7, 8, 9, 10, 1, 2, 3, 4, 5, 6, 7, 8, 9, 10, 4, 5, 8, 10, 1, 2, 3, 4, 5, 6, 7, 8, 9, 10, 1, 2, 3, 4, 5, 6, 7, 8, 9, 10, 1, 2, 3, 4, 5, 6, 7, 8, 9, 10, 9, 1, 2, 3, 4, 5, 6, 7, 8, 9, 10, 1, 2, 3, 4, 5, 6, 7, 8, 9, 10, 1, 2, 3, 4, 5, 6, 7, 8, 9, 10, 1, 5, 8, 1, 2, 3, 4, 5, 6, 7, 8, 9, 10, 1, 2, 3, 4, 5, 6, 7, 8, 9, 10, 1, 2, 3, 4, 5, 6, 7, 8, 9, 10, 1, 2, 3, 4, 5, 6, 7, 8, 9, 10, 1, 2, 3, 4, 5, 6, 7, 8, 9, 10, 2, 4, 6, 8, 1, 2, 3, 4, 5, 6, 7, 8, 9, 10, 1, 2, 3, 4, 5, 6, 7, 8, 9, 10, 1, 2, 3, 4, 5, 6, 7, 8, 9, 10, 2, 3, 6, 1, 2, 3, 4, 5, 6, 7, 8, 9, 10, 1, 2, 3, 4, 5, 6, 7, 9, 10, 2, 1, 2, 3, 4, 5, 6, 7, 8, 9, 10, 1, 2, 3, 4, 5, 7, 10, 1, 2, 3, 4, 5, 6, 7, 8, 9, 10, 1, 2, 3, 4, 5, 7, 8, 10, 1, 2, 3, 4, 5, 6, 7, 8, 9, 10, 3, 1, 2, 3, 4, 5, 6, 7, 8, 9, 10, 1, 2, 3, 4, 5, 6, 7, 8, 9, 10, 1, 2, 3, 4, 5, 6, 7, 8, 9, 10, 1, 4, 5, 9, 1, 2, 3, 4, 5, 6, 7, 8, 9, 10, 3, 4, 8, 1, 2, 3, 4, 5, 6, 7, 8, 9, 10, 1, 2, 6, 1, 2, 3, 4, 5, 6, 8, 9, 1, 2, 3, 4, 5, 6, 7, 8, 9, 10, 1, 2, 3, 4, 5, 6, 7, 8, 9, 10, 1, 2, 3, 5, 6, 9, 1, 2, 3, 4, 5, 6, 7, 8, 9, 10, 1, 2, 3, 4, 5, 6, 7, 8, 9, 10, 1, 2, 4, 5, 8, 10, 1, 2, 3, 4, 5, 6, 7, 8, 9, 10, 2, 3, 4, 5, 7, 9, 1, 2, 3, 4, 5, 6, 7, 8, 9, 10, 1, 2, 3, 4, 5, 6, 7, 8, 9, 10, 1, 9, 3, 1, 2, 3, 4, 5, 6, 7, 8, 9, 10, 1, 2, 3, 4, 5, 6, 7, 8, 9, 10, 1, 2, 3, 4, 5, 6, 7, 8, 9, 10, 1, 2, 3, 4, 5, 6, 7, 8, 9, 10, 1, 3, 5, 9, 1, 2, 6, 7, 9, 1, 2, 3, 4, 5, 6, 7, 8, 9, 10, 1, 2, 4, 6, 5, 1, 2, 3, 4, 5, 6, 7, 8, 9, 10, 1, 2, 3, 4, 5, 6, 7, 8, 9, 10, 1, 2, 3, 4, 5, 6, 7, 8, 9, 10, 1, 2, 3, 4, 5, 6, 7, 8, 9, 1, 2, 3, 4, 5, 6, 7, 8, 9, 10, 1, 2, 3, 4, 5, 6, 7, 8, 9, 10, 1, 10, 1, 2, 4, 8, 1, 2, 3, 4, 5, 6, 7, 8, 9, 10, 1, 2, 3, 4, 5, 6, 7, 8, 9, 10, 1, 2, 3, 4, 5, 6, 7, 8, 9, 10, 4, 7, 1, 2, 3, 4, 5, 6, 7, 8, 9, 10, 1, 2, 3, 4, 5, 6, 7, 8, 9, 10, 1, 2, 3, 4, 5, 6, 7, 8, 9, 10, 1, 2, 3, 6, 1, 2, 7, 1, 2, 3, 4, 5, 6, 7, 8, 9, 10, 1, 2, 3, 4, 5, 6, 7, 8, 9, 10, 1, 2, 3, 4, 5, 6, 7, 8, 9, 10, 1, 4, 5, 1, 2, 3, 4, 6, 8, 4, 5, 6, 9, 1, 2, 3, 4, 5, 6, 7, 8, 9, 10, 1, 2, 3, 4, 5, 6, 7, 8, 9, 10, 1, 2, 3, 4, 5, 6, 7, 8, 6, 9, 4, 5, 4, 10, 1, 2, 3, 4, 5, 6, 7, 8, 9, 10, 1, 2, 3, 4, 5, 6, 7, 8, 9, 10, 1, 2, 3, 4, 5, 6, 7, 8, 9, 10, 1, 2, 3, 4, 5, 6, 1, 2, 3, 4, 5, 6, 7, 8, 9, 10, 1, 2, 3, 4, 5, 6, 7, 8, 9, 10, 1, 2, 3, 4, 5, 6, 7, 8, 9, 10, 4, 1, 2, 3, 4, 5, 6, 7, 8, 9, 10, 1, 2, 3, 4, 5, 6, 7, 8, 9, 10, 1, 4, 1, 2, 3, 4, 5, 6, 7, 8, 9, 10, 1, 2, 3, 4, 5, 6, 7, 8, 9, 10, 2, 3, 10, 1, 2, 3, 4, 5, 6, 7, 8, 9, 10, 1, 2, 3, 4, 5, 6, 7, 8, 9, 10, 1, 2, 3, 5, 7, 8, 9, 1, 2, 3, 4, 5, 6, 7, 8, 9, 10, 1, 2, 3, 4, 5, 6, 7, 8, 9, 10, 1, 2, 3, 4, 5, 6, 7, 8, 9, 10, 1, 2, 3, 4, 5, 6, 7, 8, 9, 10, 1, 2, 3, 4, 5, 6, 7, 8, 9, 10, 9, 1, 2, 3, 4, 5, 6, 7, 8, 9, 10, 1, 2, 3, 4, 5, 6, 7, 8, 9, 10, 5, 8, 7, 10, 1, 10, 1, 2, 3, 4, 5, 6, 7, 8, 9, 10, 7, 1, 2, 3, 4, 5, 6, 7, 8, 9, 10, 1, 2, 3, 4, 5, 6, 7, 8, 9, 10, 1, 3, 8, 1, 1, 2, 3, 4, 5, 6, 7, 8, 9, 10, 1, 2, 6, 7, 8, 1, 3, 4, 5, 6, 8, 9, 10, 1, 2, 3, 4, 5, 6, 7, 8, 9, 10, 1, 2, 5, 6, 7, 8, 1, 8, 2, 4, 8, 8, 3, 1, 2, 4, 5, 8, 10, 1, 2, 3, 4, 5, 6, 7, 8, 9, 10, 1, 2, 3, 4, 5, 6, 7, 8, 9, 10, 1, 2, 3, 4, 5, 6, 7, 8, 9, 10, 5, 1, 2, 3, 4, 5, 6, 7, 8, 9, 10, 1, 2, 3, 4, 5, 6, 7, 8, 9, 10, 9, 2, 3, 4, 7, 1, 2, 3, 4, 5, 6, 7, 8, 9, 10, 2, 7, 1, 2, 3, 4, 5, 6, 7, 8, 9, 10, 7, 8, 1, 2, 3, 4, 5, 6, 7, 8, 9, 10, 1, 2, 3, 4, 5, 6, 7, 8, 9, 10, 1, 2, 3, 4, 5, 6, 7, 8, 9, 10, 1, 2, 3, 4, 5, 6, 7, 8, 9, 10, 2, 3, 6, 7, 9, 10, 1, 2, 3, 7, 8, 9, 1, 2, 3, 4, 5, 6, 7, 8, 9, 10, 1, 7, 1, 2, 3, 4, 5, 6, 7, 8, 9, 10, 1, 2, 3, 4, 5, 6, 7, 8, 9, 10, 1, 2, 3, 4, 5, 6, 7, 8, 9, 10, 1, 2, 3, 4, 5, 6, 7, 8, 9, 10, 1, 2, 3, 4, 5, 6, 7, 8, 9, 10, 1, 2, 3, 4, 5, 6, 7, 8, 9, 10, 1, 2, 3, 4, 5, 6, 7, 8, 9, 10, 1, 2, 3, 4, 5, 8, 9, 1, 2, 3, 4, 5, 6, 7, 8, 9, 10, 4, 9, 10, 2, 3, 4, 5, 1, 2, 3, 4, 5, 6, 7, 8, 9, 10, 1, 2, 3, 4, 5, 6, 7, 8, 1, 2, 3, 5, 6, 7, 10, 3, 5, 7, 10, 1, 8, 1, 2, 3, 4, 5, 6, 7, 8, 9, 10, 1, 2, 3, 4, 6, 7, 8, 9, 10, 1, 2, 3, 4, 5, 6, 7, 8, 9, 10, 1, 2, 6, 7, 10, 1, 2, 10, 1, 2, 3, 4, 6, 9, 1, 2, 3, 4, 5, 6, 7, 8, 9, 10, 1, 2, 3, 4, 5, 6, 7, 8, 9, 10, 1, 2, 3, 4, 5, 6, 7, 8, 9, 10, 1, 2, 3, 4, 5, 6, 7, 8, 9, 10, 10, 1, 2, 3, 4, 5, 6, 7, 8, 9, 10, 1, 2, 3, 4, 5, 6, 7, 8, 9, 10, 2, 4, 9, 10, 2, 3, 4, 6, 8, 9, 1, 2, 6, 9, 1, 1, 2, 3, 4, 5, 6, 7, 8, 9, 10, 10, 4, 5, 6, 8, 1, 2, 3, 4, 5, 6, 7, 8, 9, 10, 7, 3, 1, 2, 3, 4, 5, 6, 7, 8, 9, 10, 1, 2, 3, 4, 5, 6, 7, 8, 9, 10, 1, 2, 3, 4, 5, 6, 7, 8, 9, 10, 5, 9, 1, 2, 3, 4, 5, 6, 7, 8, 9, 10, 1, 2, 3, 4, 5, 6, 7, 8, 9, 10, 1, 3, 4, 8, 10, 1, 2, 3, 4, 5, 6, 7, 8, 9, 10, 2, 3, 5, 6, 7, 9, 1, 2, 3, 4, 5, 6, 7, 8, 9, 10, 5, 9, 10, 2, 3, 6, 10, 1, 2, 3, 4, 5, 6, 7, 8, 9, 10, 1, 2, 3, 4, 5, 6, 7, 8, 9, 10, 1, 3, 4, 5, 7, 9, 10, 1, 2, 3, 4, 5, 6, 7, 8, 9, 10, 1, 2, 3, 4, 5, 6, 9, 1, 2, 3, 4, 5, 6, 7, 8, 9, 10, 1, 2, 3, 4, 5, 6, 7, 8, 9, 10, 1, 7, 8, 1, 2, 3, 4, 5, 6, 7, 8, 9, 10, 1, 2, 3, 4, 5, 6, 7, 8, 9, 10, 1, 2, 3, 4, 5, 6, 7, 8, 9, 10, 9, 1, 2, 5, 5, 2, 4, 1, 2, 3, 4, 5, 6, 7, 8, 9, 10, 1, 2, 3, 4, 5, 6, 7, 8, 9, 10, 9, 2, 4, 7, 8, 1, 2, 4, 5, 6, 7, 8, 10, 1, 2, 3, 4, 5, 6, 7, 8, 9, 10, 1, 2, 3, 4, 5, 6, 7, 8, 9, 10, 1, 4, 6, 8, 1, 2, 3, 4, 5, 6, 7, 8, 9, 10, 1, 2, 3, 4, 5, 6, 7, 8, 9, 10, 1, 2, 3, 4, 5, 6, 7, 8, 9, 10, 1, 2, 3, 4, 5, 6, 7, 8, 9, 1, 2, 3, 4, 5, 6, 7, 8, 9, 10, 3, 1, 2, 3, 4, 5, 6, 7, 8, 9, 10, 1, 2, 3, 4, 5, 6, 7, 8, 9, 10, 1, 2, 3, 4, 5, 6, 7, 8, 10, 3, 4, 5, 7, 2, 4, 8, 9, 10, 1, 2, 3, 4, 5, 6, 7, 8, 9, 10, 4, 6, 1, 2, 3, 4, 5, 6, 7, 8, 9, 10, 1, 3, 4, 5, 6, 1, 2, 3, 4, 5, 6, 7, 8, 9, 10, 10, 1, 2, 3, 5, 6, 7, 1, 2, 4, 5, 6, 8, 10, 1, 2, 3, 4, 5, 6, 7, 8, 9, 10, 1, 9, 2, 3, 4, 5, 8, 1, 2, 3, 4, 5, 6, 7, 8, 9, 10, 3, 5, 6, 1, 2, 3, 4, 5, 6, 7, 8, 9, 10, 1, 2, 3, 4, 5, 6, 7, 8, 9, 10, 2, 3, 8, 4, 1, 2, 3, 4, 5, 6, 7, 8, 9, 10, 1, 2, 3, 4, 5, 6, 7, 8, 9, 10, 1, 2, 3, 4, 5, 6, 7, 8, 9, 10, 1, 2, 3, 4, 5, 6, 7, 8, 9, 10, 1, 2, 3, 4, 5, 6, 7, 8, 9, 10, 1, 2, 3, 4, 5, 6, 7, 8, 9, 10, 10, 1, 2, 3, 4, 5, 6, 7, 8, 9, 10, 1, 2, 3, 4, 5, 6, 7, 8, 9, 10, 4, 9, 10, 1, 2, 3, 4, 5, 6, 7, 8, 9, 10, 1, 2, 3, 4, 5, 6, 7, 9, 10, 1, 3, 5, 8, 1, 2, 3, 4, 5, 6, 7, 8, 9, 10, 1, 2, 3, 4, 5, 6, 7, 8, 9, 10, 1, 2, 3, 4, 5, 6, 7, 8, 9, 10, 1, 2, 3, 4, 5, 6, 7, 8, 9, 10, 1, 2, 3, 4, 5, 6, 7, 8, 9, 10, 1, 2, 3, 4, 5, 6, 7, 8, 9, 10, 1, 2, 3, 4, 5, 6, 7, 8, 9, 10, 1, 2, 3, 4, 5, 6, 7, 8, 9, 10, 1, 2, 5, 6, 7, 8, 1, 2, 3, 4, 5, 6, 7, 8, 9, 10, 8, 1, 2, 3, 4, 5, 6, 7, 8, 9, 10, 1, 2, 3, 4, 5, 6, 7, 8, 9, 10, 5, 7, 7, 10, 1, 2, 3, 4, 5, 6, 7, 8, 9, 10, 1, 2, 3, 4, 8, 1, 2, 3, 4, 5, 6, 7, 8, 9, 10, 1, 2, 3, 4, 5, 6, 7, 8, 9, 10, 9, 10, 1, 2, 3, 4, 5, 6, 7, 8, 9, 10, 1, 2, 3, 4, 5, 6, 7, 8, 9, 10, 1, 2, 3, 4, 5, 2, 6, 2, 4, 6, 1, 2, 3, 4, 5, 7, 1, 2, 3, 4, 5, 6, 7, 8, 9, 10, 1, 2, 3, 4, 5, 6, 7, 8, 9, 10, 1, 2, 3, 4, 5, 6, 7, 8, 9, 10, 1, 2, 3, 4, 5, 6, 7, 8, 9, 10, 1, 2, 3, 4, 5, 6, 7, 8, 9, 10, 1, 4, 8, 1, 2, 3, 4, 5, 6, 7, 8, 9, 10, 1, 2, 3, 4, 5, 6, 7, 8, 9, 10, 2, 1, 2, 3, 4, 5, 6, 7, 8, 9, 10, 1, 2, 3, 4, 5, 6, 7, 8, 9, 10, 2, 4, 5, 6, 8, 10, 1, 2, 3, 4, 5, 6, 7, 8, 9, 10, 5, 2, 5, 8, 10, 1, 2, 3, 4, 5, 6, 7, 8, 9, 10, 1, 2, 3, 4, 5, 6, 7, 8, 9, 10, 1, 2, 3, 4, 5, 6, 7, 8, 9, 10, 1, 2, 3, 4, 5, 6, 7, 8, 9, 10, 1, 2, 3, 4, 5, 6, 7, 8, 9, 10, 1, 2, 3, 4, 5, 6, 7, 8, 9, 10, 4, 5, 9, 1, 2, 3, 4, 5, 6, 7, 8, 9, 10, 1, 2, 3, 4, 5, 6, 7, 8, 9, 10, 1, 2, 3, 4, 5, 6, 7, 8, 9, 10, 1, 2, 3, 4, 5, 6, 7, 8, 9, 10, 5, 1, 2, 8, 5, 7, 9, 2, 3, 5, 1, 2, 3, 4, 5, 6, 7, 8, 9, 10, 1, 2, 3, 4, 5, 6, 7, 8, 9, 10, 1, 2, 3, 4, 5, 6, 7, 8, 9, 10, 1, 2, 3, 4, 5, 6, 7, 8, 10, 1, 2, 3, 4, 5, 6, 7, 8, 9, 10, 1, 2, 3, 4, 5, 6, 7, 8, 9, 10, 1, 2, 3, 4, 5, 6, 7, 8, 10, 1, 2, 3, 4, 5, 6, 7, 8, 9, 10, 1, 2, 3, 4, 5, 6, 7, 8, 1, 2, 4, 8, 1, 2, 3, 4, 5, 6, 7, 8, 9, 2, 3, 4, 5, 6, 9, 10, 9, 10, 1, 2, 3, 4, 5, 6, 7, 8, 9, 10, 1, 2, 3, 4, 5, 6, 7, 8, 9, 10, 1, 2, 3, 4, 5, 6, 7, 8, 9, 10, 1, 4, 7, 1, 2, 3, 4, 5, 6, 7, 8, 9, 10, 1, 2, 3, 7, 8, 1, 2, 3, 4, 5, 6, 7, 8, 9, 10, 1, 2, 3, 4, 5, 6, 7, 8, 9, 10, 1, 2, 3, 4, 6, 8, 1, 2, 3, 4, 5, 6, 7, 8, 9, 10, 1, 2, 3, 4, 5, 6, 7, 9, 10, 3, 10, 5, 2, 5, 6, 8, 3, 5, 1, 2, 3, 4, 5, 6, 7, 8, 9, 10, 1, 3, 7, 1, 7, 1, 2, 3, 4, 5, 6, 7, 8, 9, 10, 1, 2, 3, 4, 5, 6, 7, 8, 9, 10, 10, 1, 2, 3, 4, 5, 6, 7, 8, 9, 10, 3, 5, 6, 1, 6, 8, 10, 2, 6, 9, 1, 2, 3, 4, 5, 6, 7, 8, 9, 10, 5, 1, 3, 5, 6, 7, 8, 9, 10, 1, 2, 3, 4, 5, 6, 7, 8, 9, 10, 1, 2, 3, 4, 5, 6, 7, 8, 9, 10, 1, 3, 1, 2, 3, 4, 5, 6, 7, 8, 9, 10, 1, 2, 3, 4, 5, 6, 7, 8, 9, 10, 1, 2, 3, 4, 5, 6, 7, 8, 9, 10, 3, 1, 2, 3, 5, 8, 10, 1, 2, 4, 5, 7, 1, 6, 1, 2, 3, 4, 5, 6, 7, 8, 9, 10, 1, 2, 3, 4, 5, 6, 7, 8, 9, 10, 9, 1, 3, 6, 7, 9, 1, 5, 6, 9, 10, 1, 2, 3, 4, 5, 6, 7, 8, 9, 10, 5, 6, 1, 2, 3, 4, 5, 6, 7, 8, 9, 10, 10, 1, 2, 3, 4, 6, 7, 9, 10, 1, 2, 3, 4, 5, 6, 7, 8, 10, 1, 2, 3, 4, 5, 6, 7, 8, 9, 10, 1, 2, 3, 4, 5, 6, 7, 8, 9, 10, 3, 2, 6, 5, 6, 1, 2, 3, 4, 5, 6, 7, 8, 9, 10, 1, 5, 8, 2, 3, 4, 5, 6, 7, 8, 1, 2, 3, 5, 1, 2, 3, 4, 5, 6, 7, 8, 9, 10, 1, 2, 3, 4, 5, 6, 7, 8, 9, 10, 9, 1, 2, 3, 4, 5, 6, 7, 8, 9, 10, 1, 2, 3, 4, 5, 6, 7, 8, 9, 10, 1, 2, 3, 4, 5, 6, 7, 8, 9, 10, 8, 1, 2, 3, 4, 5, 6, 7, 8, 9, 10, 1, 2, 3, 4, 5, 6, 7, 8, 9, 10, 9, 9, 4, 5, 9, 1, 2, 3, 4, 5, 6, 7, 8, 9, 10, 1, 2, 3, 4, 5, 6, 7, 8, 9, 10, 1, 2, 3, 4, 5, 6, 7, 8, 9, 10, 1, 2, 3, 4, 5, 6, 7, 8, 9, 10, 1, 2, 3, 4, 5, 6, 7, 8, 9, 10, 9, 1, 2, 3, 4, 5, 6, 7, 8, 9, 10, 1, 2, 3, 4, 5, 6, 7, 8, 9, 10, 5, 1, 2, 3, 4, 5, 6, 7, 8, 9, 10, 3, 4, 9, 1, 2, 3, 4, 5, 6, 7, 8, 9, 10, 1, 2, 3, 4, 5, 6, 7, 8, 9, 10, 1, 2, 3, 4, 5, 6, 7, 8, 9, 10, 1, 10, 1, 2, 3, 4, 5, 6, 7, 8, 9, 10, 1, 2, 3, 4, 5, 6, 7, 8, 9, 10, 1, 2, 3, 4, 5, 6, 7, 8, 9, 10, 1, 2, 3, 4, 5, 6, 7, 8, 9, 10, 1, 2, 3, 4, 5, 6, 7, 8, 9, 10, 1, 2, 3, 4, 5, 6, 7, 8, 9, 10, 1, 8, 1, 2, 3, 4, 5, 6, 7, 8, 9, 10, 1, 2, 3, 4, 5, 6, 7, 8, 9, 10, 1, 4, 1, 2, 3, 4, 5, 6, 7, 8, 9, 10, 4, 1, 2, 3, 4, 5, 6, 7, 8, 9, 10, 1, 2, 3, 4, 5, 6, 7, 8, 9, 10, 8, 1, 2, 3, 4, 5, 6, 7, 9, 10, 1, 2, 3, 4, 5, 6, 7, 8, 9, 10, 1, 2, 3, 4, 5, 6, 7, 8, 9, 10, 1, 2, 3, 4, 5, 6, 7, 8, 9, 1, 2, 3, 4, 5, 6, 7, 8, 9, 10, 1, 2, 3, 4, 5, 6, 7, 8, 9, 10, 1, 2, 3, 4, 5, 6, 7, 8, 9, 10, 1, 2, 3, 4, 5, 6, 7, 8, 9, 10, 1, 2, 3, 4, 5, 6, 7, 8, 9, 10, 1, 2, 3, 4, 5, 6, 7, 8, 9, 10, 1, 2, 3, 4, 5, 6, 7, 8, 9, 10, 1, 3, 6, 1, 2, 3, 4, 5, 6, 7, 8, 9, 10, 10, 3, 4, 1, 2, 3, 4, 5, 6, 7, 8, 9, 10, 1, 2, 3, 4, 5, 6, 7, 8, 10, 1, 2, 3, 4, 5, 6, 7, 8, 9, 10, 8, 1, 2, 3, 4, 5, 6, 7, 8, 9, 10, 1, 2, 4, 5, 6, 8, 9, 10, 1, 2, 3, 4, 5, 6, 2, 5, 6, 8, 9, 10, 1, 2, 3, 4, 5, 6, 7, 8, 9, 10, 4, 8, 1, 2, 3, 6, 7, 9, 3, 4, 5, 7, 1, 2, 3, 4, 5, 6, 7, 8, 9, 10, 7, 1, 2, 3, 4, 6, 7, 9, 2, 3, 4, 7, 8, 10, 10, 1, 2, 3, 4, 6, 8, 4, 7, 10, 3, 4, 8, 2, 3, 5, 1, 2, 3, 4, 5, 6, 7, 8, 9, 10, 9, 1, 2, 3, 4, 5, 6, 7, 8, 9, 10, 1, 2, 3, 4, 5, 6, 7, 8, 9, 10, 1, 2, 3, 4, 5, 6, 7, 8, 9, 10, 1, 2, 3, 4, 5, 6, 7, 8, 9, 10, 1, 2, 3, 4, 5, 6, 7, 8, 9, 10, 1, 2, 3, 4, 5, 6, 7, 8, 9, 10, 1, 2, 3, 4, 5, 6, 7, 8, 9, 10, 6, 7, 9, 10, 1, 2, 3, 4, 5, 6, 7, 8, 9, 10, 2, 2, 3, 5, 8, 9, 1, 2, 3, 4, 5, 6, 7, 8, 9, 10, 1, 2, 3, 4, 5, 6, 7, 8, 9, 10, 1, 2, 3, 1, 2, 3, 4, 5, 6, 7, 8, 9, 4, 5, 1, 2, 3, 4, 5, 6, 7, 8, 9, 10, 1, 2, 3, 4, 5, 6, 7, 8, 9, 10, 1, 2, 3, 4, 5, 6, 7, 8, 9, 10, 1, 2, 3, 4, 5, 6, 7, 8, 9, 10, 9, 1, 2, 3, 4, 5, 6, 7, 8, 9, 10, 1, 2, 3, 4, 5, 6, 7, 8, 9, 10, 1, 2, 3, 4, 5, 6, 7, 8, 9, 10, 1, 2, 3, 5, 2, 1, 2, 3, 4, 5, 6, 7, 8, 9, 10, 1, 9, 10, 1, 2, 3, 4, 5, 6, 7, 8, 9, 10, 6, 1, 2, 3, 4, 5, 6, 7, 8, 9, 10], \"Freq\": [0.49518400161426146, 0.07241821367481294, 0.016636616655024593, 0.02348698821885825, 0.01761524116414369, 0.025444237237096438, 0.049909849965073784, 0.2573782458983217, 0.027401486255334628, 0.014679367636786407, 0.18943578587877685, 0.5683073576363306, 0.18054049060248942, 0.14649029136436428, 0.10595989990089516, 0.11598668381713689, 0.08895669282313443, 0.08374626799329703, 0.06052557918581435, 0.05426431237348873, 0.08888371768546163, 0.07465356583926704, 0.1622979977010045, 0.14336840332287587, 0.07906984668110123, 0.08794503355346973, 0.1634151540905334, 0.066408740933107, 0.12307339557976746, 0.06398823542246104, 0.06100915171705064, 0.04946520235858531, 0.03454850656176076, 0.06909701312352153, 0.03454850656176076, 0.03454850656176076, 0.06909701312352153, 0.06909701312352153, 0.06909701312352153, 0.17274253280880383, 0.4145820787411292, 0.03454850656176076, 0.4967584480000824, 0.07098418491769912, 0.06542321190571347, 0.05744158005321643, 0.03598276654814241, 0.041151200288693776, 0.06830183322956487, 0.07242349557962481, 0.04553455548637658, 0.045992517969716575, 0.027693927182600525, 0.027693927182600525, 0.027693927182600525, 0.027693927182600525, 0.636960325199812, 0.027693927182600525, 0.027693927182600525, 0.1107757087304021, 0.027693927182600525, 0.027693927182600525, 0.2828012242757949, 0.042420183641369236, 0.05656024485515898, 0.07070030606894873, 0.02828012242757949, 0.07070030606894873, 0.02828012242757949, 0.3817816527723231, 0.02828012242757949, 0.02828012242757949, 0.23285574546947335, 0.14565010883194163, 0.08787540388241037, 0.08911787065551857, 0.07538278874967402, 0.08352677017653168, 0.07888693332070575, 0.05843476542274499, 0.09465073050451601, 0.05360079313362091, 0.26431422427596685, 0.17186437455589462, 0.06407797517132353, 0.07154582074851902, 0.10679167641504406, 0.07640066270427036, 0.08210176151469396, 0.06758177548189637, 0.060900800313431216, 0.03444413864630922, 0.10761977184391196, 0.0913137458069556, 0.048918078110869075, 0.41743426654608273, 0.03261205207391272, 0.042395667696086534, 0.14023182391782468, 0.05217928331826034, 0.048918078110869075, 0.01630602603695636, 0.10523088623017336, 0.7366162036112135, 0.14411050785809515, 0.4323315235742855, 0.14411050785809515, 0.7631188181629808, 0.059114838026709776, 0.01970494600890326, 0.021496304736985373, 0.023287663465067488, 0.021496304736985373, 0.030453098377395946, 0.01612222855273903, 0.021496304736985373, 0.021496304736985373, 0.07624536263006859, 0.8386989889307545, 0.1987420364218402, 0.07728856971960453, 0.03312367273697337, 0.04416489698263116, 0.04416489698263116, 0.04416489698263116, 0.06624734547394674, 0.419566521334996, 0.05520612122828895, 0.02208244849131558, 0.16326676579559082, 0.025117963968552436, 0.025117963968552436, 0.0753538919056573, 0.03767694595282865, 0.05023592793710487, 0.3767694595282865, 0.012558981984276218, 0.012558981984276218, 0.2135026937326957, 0.18691635046818902, 0.14969129783556356, 0.1339794249711437, 0.08233900366850509, 0.09431518648124468, 0.08928299223515777, 0.0783835671431966, 0.06497903225187338, 0.06757204064068673, 0.05256335649187728, 0.6299077119556593, 0.06442193185835392, 0.04601566561310994, 0.04601566561310994, 0.10123446434884187, 0.5337817211120753, 0.06442193185835392, 0.03681253249048795, 0.04601566561310994, 0.027609399367865967, 0.03681253249048795, 0.07707740572240267, 0.03776792880397731, 0.04701721749066563, 0.40542715409983804, 0.10790836801136375, 0.12871926755641247, 0.06936966515016241, 0.032372510403409126, 0.048558765605113685, 0.04624644343344161, 0.6488615548525795, 0.09269450783608278, 0.21668005043796326, 0.5456637855541392, 0.05549123242923449, 0.029066836034360923, 0.030388055854104604, 0.019818297296155175, 0.026424396394873567, 0.03170927567384828, 0.02510317657512989, 0.018497077476411498, 0.046086497280292654, 0.046086497280292654, 0.046086497280292654, 0.09217299456058531, 0.046086497280292654, 0.09217299456058531, 0.046086497280292654, 0.5069514700832193, 0.046086497280292654, 0.046086497280292654, 0.8182861699534879, 0.015736272499105537, 0.015736272499105537, 0.015736272499105537, 0.015736272499105537, 0.031472544998211074, 0.031472544998211074, 0.015736272499105537, 0.015736272499105537, 0.015736272499105537, 0.2272836390904931, 0.1523306893572366, 0.0751792634563907, 0.09553672169451025, 0.07683889742604152, 0.10198127438185567, 0.08685058546374035, 0.08328345011338695, 0.05427218617637379, 0.046458974306264375, 0.6005282416910133, 0.25948043612503713, 0.5189608722500743, 0.5232651825907768, 0.6826120634196199, 0.04090450528778853, 0.03191131618196268, 0.06193696368044575, 0.01958194402074983, 0.04946254008204216, 0.03916388804149966, 0.022337921327373878, 0.023353281387709052, 0.028720184563766415, 0.06130117581766225, 0.735614109811947, 0.06130117581766225, 0.06422001038998261, 0.15110590679995908, 0.1322176684499642, 0.041554124369988746, 0.4570953680698762, 0.03777647669998977, 0.022665886019993864, 0.018888238349994885, 0.018888238349994885, 0.05666471504998466, 0.2883879095097033, 0.3250716138581292, 0.03874815524249317, 0.049943831244934844, 0.04970562537254247, 0.061060105289912396, 0.03247540060282727, 0.09234447653077779, 0.03676310630589004, 0.025488028345984237, 0.030347262862199836, 0.018208357717319903, 0.6615703303959564, 0.036416715434639806, 0.018208357717319903, 0.018208357717319903, 0.07283343086927961, 0.02427781028975987, 0.06069452572439967, 0.06069452572439967, 0.8548654088830315, 0.07771503717118469, 0.011102148167312097, 0.011102148167312097, 0.011102148167312097, 0.011102148167312097, 0.011102148167312097, 0.017841008147316935, 0.017841008147316935, 0.053523024441950805, 0.7314813340399943, 0.017841008147316935, 0.017841008147316935, 0.017841008147316935, 0.053523024441950805, 0.017841008147316935, 0.03568201629463387, 0.10083183233440601, 0.11763713772347367, 0.14836683900634026, 0.08906811856205864, 0.06602084259990869, 0.0556975835751957, 0.0859471332755175, 0.0957902407176857, 0.20166366466881203, 0.03889227818612803, 0.6139265244653118, 0.545342881097598, 0.04043680625920316, 0.04043680625920316, 0.04043680625920316, 0.04043680625920316, 0.7278625126656568, 0.04043680625920316, 0.04043680625920316, 0.04043680625920316, 0.04043680625920316, 0.817499827195655, 0.07007141375962757, 0.023357137919875856, 0.011678568959937928, 0.011678568959937928, 0.023357137919875856, 0.011678568959937928, 0.011678568959937928, 0.011678568959937928, 0.011678568959937928, 0.16676912543319214, 0.16676912543319214, 0.5003073762995764, 0.34679825066649383, 0.025688759308629173, 0.01926656948147188, 0.49450861669111157, 0.01926656948147188, 0.01926656948147188, 0.01926656948147188, 0.01926656948147188, 0.012844379654314586, 0.025688759308629173, 0.5485962520791825, 0.17910747544210937, 0.12664921903647064, 0.07344155896789423, 0.06519811867557956, 0.05395706373151412, 0.036720779483947114, 0.08393321024902196, 0.2975132541862654, 0.046463027102137164, 0.036720779483947114, 0.428130188484958, 0.030763845879158657, 0.023072884409368992, 0.05127307646526443, 0.012818269116316108, 0.015381922939579329, 0.11280076822358175, 0.30507480496832334, 0.010254615293052886, 0.012818269116316108, 0.16162753229864807, 0.6610711681404164, 0.04222701294289004, 0.018929350629571396, 0.02038545452415381, 0.01164883115665932, 0.016017142840406565, 0.027665973997065885, 0.030578181786230715, 0.01164883115665932, 0.5840487339227974, 0.19468291130759913, 0.3594792103358186, 0.3594792103358186, 0.0303816812208152, 0.18229008732489121, 0.5772519431954888, 0.0303816812208152, 0.0303816812208152, 0.0303816812208152, 0.0607633624416304, 0.0303816812208152, 0.0303816812208152, 0.10711658927396434, 0.15084859691743632, 0.15269312177969932, 0.1036958340748584, 0.13971437411250326, 0.07730236013665867, 0.09282990579534542, 0.06985718705625163, 0.061774814477971916, 0.04426859669431212, 0.024534388962164866, 0.0368015834432473, 0.042935180683788515, 0.539756557167627, 0.10427115308920068, 0.042935180683788515, 0.08587036136757703, 0.061335972405412165, 0.01840079172162365, 0.030667986202706082, 0.0421892430975979, 0.843784861951958, 0.014063081032532633, 0.014063081032532633, 0.014063081032532633, 0.014063081032532633, 0.014063081032532633, 0.014063081032532633, 0.028126162065065265, 0.014063081032532633, 0.5896314412615161, 0.44300710611278005, 0.0849744993585325, 0.10124932596664275, 0.1289399482171325, 0.12200265701907112, 0.09267284359941919, 0.08646733417330521, 0.09800021489919629, 0.10874277131138417, 0.12800326754903982, 0.04894156490784235, 0.10208901972696188, 0.13921229962767528, 0.02784245992553506, 0.009280819975178352, 0.08352737977660517, 0.06496573982624847, 0.02784245992553506, 0.018561639950356704, 0.5104450986348094, 0.02784245992553506, 0.1690519034735283, 0.06261181610130678, 0.0563506344911761, 0.4633274391496702, 0.025044726440522712, 0.050089452881045424, 0.050089452881045424, 0.03130590805065339, 0.037567089660784064, 0.043828271270914744, 0.21319114707907208, 0.11149782986274466, 0.08037420250842023, 0.11263788947279317, 0.07581396406822617, 0.17716526340153904, 0.06555342757778955, 0.0490225632320861, 0.045716390362945405, 0.06885960044693024, 0.10006506529822908, 0.6003903917893745, 0.10006506529822908, 0.10425398264726658, 0.06420160513306247, 0.09777492157879238, 0.09895293268215133, 0.06243458847802405, 0.2915577480813387, 0.049476466341075664, 0.04064138306588358, 0.16609956557361116, 0.02414922761885836, 0.47994963909054644, 0.07242504979947195, 0.10139506971926072, 0.43455029879683166, 0.05794003983957756, 0.05069753485963036, 0.11588007967915512, 0.036212524899735976, 0.043455029879683166, 0.05069753485963036, 0.02897001991978878, 0.5922139416069213, 0.039085433819900275, 0.09492176784832923, 0.08375450104264344, 0.5081106396587035, 0.03350180041705738, 0.02791816701421448, 0.07817086763980055, 0.05583633402842896, 0.02791816701421448, 0.050252700625586066, 0.1652745046565991, 0.4958235139697973, 0.1652745046565991, 0.763471888863338, 0.8202636797746204, 0.04825080469262473, 0.493307696054979, 0.13006748889213313, 0.03669190791970112, 0.05716773516248947, 0.05208508301002428, 0.028995320374539536, 0.10155623062735217, 0.03698234518555627, 0.03315825451846341, 0.030011850805032575, 0.05270709072055779, 0.05270709072055779, 0.05270709072055779, 0.6851921793672513, 0.05270709072055779, 0.10541418144111558, 0.14508273062818206, 0.11508257276947323, 0.2719686441945243, 0.07967255037886609, 0.08360699731115576, 0.057049480518200406, 0.06934462718160567, 0.0663937919823884, 0.07229546238082292, 0.04032808105596925, 0.693689249134843, 0.02822821538853221, 0.7903900308789019, 0.02822821538853221, 0.02822821538853221, 0.02822821538853221, 0.02822821538853221, 0.02822821538853221, 0.02822821538853221, 0.02822821538853221, 0.06211900698583681, 0.7247217481680962, 0.04141267132389121, 0.020706335661945605, 0.020706335661945605, 0.020706335661945605, 0.020706335661945605, 0.020706335661945605, 0.06211900698583681, 0.020706335661945605, 0.044319056386926084, 0.022159528193463042, 0.022159528193463042, 0.7755834867712065, 0.022159528193463042, 0.022159528193463042, 0.022159528193463042, 0.044319056386926084, 0.022159528193463042, 0.022159528193463042, 0.13680980190238767, 0.04618579078821482, 0.12857125543746287, 0.07839101787837541, 0.07689310033929818, 0.2914697878121124, 0.0833840763419662, 0.036324500322623, 0.10248252496520098, 0.019597754469593852, 0.18169527090171456, 0.36484368878579077, 0.09959246639828342, 0.07125610024223196, 0.042245058701512614, 0.0717231832008482, 0.04146658710381889, 0.03689955373068239, 0.046500703435571625, 0.04375010379038714, 0.8044149842974807, 0.10164975028473507, 0.23365324544616187, 0.11365006802668295, 0.08576697680274521, 0.11647367220125894, 0.056472083491519484, 0.05753093505698548, 0.040942260531351624, 0.04482471627139359, 0.14823921916523863, 0.16615146464727337, 0.6362385353566322, 0.0445772222224392, 0.028367323232461307, 0.024314848484966834, 0.01620989898997789, 0.01620989898997789, 0.028367323232461307, 0.024314848484966834, 0.02026237373747236, 0.03965031363158433, 0.6740553317369337, 0.03965031363158433, 0.0594754704473765, 0.03965031363158433, 0.02973773522368825, 0.02973773522368825, 0.03965031363158433, 0.02973773522368825, 0.009912578407896083, 0.16591392524545778, 0.49774177573637335, 0.16591392524545778, 0.7935340213455276, 0.7646888714990742, 0.04866201909539563, 0.019464807638158253, 0.01807446423543266, 0.029197211457237377, 0.029197211457237377, 0.03058755485996297, 0.016684120832707074, 0.02502618124906061, 0.01807446423543266, 0.25203640858500614, 0.12277347669415749, 0.22327233690237497, 0.04130450537353441, 0.08445061289748118, 0.07243635124955292, 0.07910119712723575, 0.044636928312375826, 0.044636928312375826, 0.035253526879322365, 0.43630916528813757, 0.05344213817756652, 0.042753710542053215, 0.021376855271026608, 0.03206528290653991, 0.03206528290653991, 0.7054362239438781, 0.021376855271026608, 0.07481899344859312, 0.010688427635513304, 0.021376855271026608, 0.10799165562175628, 0.1012421771453965, 0.040496870858158604, 0.05399582781087814, 0.4522150579161044, 0.05399582781087814, 0.06749478476359767, 0.05399582781087814, 0.02699791390543907, 0.03374739238179884, 0.6559820652133657, 0.23788360606638537, 0.05046015886256659, 0.043251564739342795, 0.21960228114963182, 0.09096793523350445, 0.09493593761673674, 0.2016870465089189, 0.09173784614368384, 0.1077283035089483, 0.04557280349100369, 0.06307347071854312, 0.051021403778427135, 0.03369840829939064, 0.3108528774786554, 0.09512331482294274, 0.0702888025003885, 0.050576813607290626, 0.08072837556548311, 0.0838407948643933, 0.057320388754929376, 0.05077133981347251, 0.0929186844862147, 0.10757299201858352, 0.05424374872943327, 0.11008290183326164, 0.06860238809898914, 0.03350349186229702, 0.05424374872943327, 0.5536053179150984, 0.05105293998064308, 0.019144852492741154, 0.035098896236692115, 0.02074025686713625, 0.4922922486951701, 0.23687810098280562, 0.5156106032670844, 0.0480880355378628, 0.020481941062423042, 0.024934536945558486, 0.03473024788845647, 0.020481941062423042, 0.04719751636123571, 0.03116817118194811, 0.021372460239050133, 0.26749794322272585, 0.11542017746340688, 0.1709687928565988, 0.06282016153777979, 0.07344011724722944, 0.05135060937157418, 0.056348235587785775, 0.07928733992019701, 0.06661835746210061, 0.056248283063461545, 0.11248042177946015, 0.3378420269361695, 0.10633541061336137, 0.07467524438802639, 0.0883011387128541, 0.09204158029221857, 0.04622117094500381, 0.03833952618848582, 0.03593495660175152, 0.06799588442487554, 0.092394102900686, 0.277182308702058, 0.554364617404116, 0.14830907352614223, 0.13066760525957716, 0.18064058571049346, 0.11993515308219915, 0.08619500654956706, 0.057821086105623976, 0.0622482226287924, 0.08706701828897902, 0.07915183480816275, 0.04796064566765794, 0.05586296860605554, 0.08938074976968886, 0.4208343634989517, 0.029793583256562953, 0.07448395814140739, 0.029793583256562953, 0.14151952046867403, 0.033517781163633326, 0.09310494767675923, 0.033517781163633326, 0.24995838016591418, 0.1773311272191125, 0.0984231372295538, 0.08735707672564855, 0.07884568109032501, 0.0876561594419703, 0.05800958518657546, 0.05793481450749502, 0.056202627108798135, 0.04828939690611813, 0.22550832498831366, 0.27451980061993214, 0.09818956251184302, 0.06786631526553856, 0.06575590611652836, 0.04268024818458787, 0.04312454484753739, 0.06750532422689207, 0.07136515148626599, 0.04348553588618387, 0.4784696196827074, 0.1433564650663906, 0.03827756957461659, 0.05299025423980648, 0.05155586994097181, 0.059957263691289155, 0.05614589969724275, 0.030040105458451778, 0.04876906616037874, 0.040490619635675795, 0.7229554287089577, 0.06572322079172342, 0.06572322079172342, 0.06572322079172342, 0.2320003654308418, 0.365504005071772, 0.09165446535539429, 0.04280390829965462, 0.0604664875608504, 0.05807965252555367, 0.03755287122200183, 0.048850557055739666, 0.03739374888631538, 0.025618696045518197, 0.2544982075551076, 0.1442388594373187, 0.09680222892204636, 0.07480742935445017, 0.07916758162991552, 0.10011229216781849, 0.06686327756459705, 0.06111061592366893, 0.0671600418555973, 0.05524381417081764, 0.33522423367744036, 0.10634198218814249, 0.06911168149901936, 0.07868821794001482, 0.06729335179503289, 0.07394540796211675, 0.08676463237522142, 0.07485457281411, 0.05865628570109712, 0.049110054755168116, 0.08579558857527383, 0.6863647086021907, 0.08579558857527383, 0.09597814265792962, 0.6838442664377485, 0.03599180349672361, 0.011997267832241202, 0.04798907132896481, 0.023994535664482404, 0.023994535664482404, 0.023994535664482404, 0.023994535664482404, 0.023994535664482404, 0.06556128051819078, 0.03278064025909539, 0.03278064025909539, 0.03278064025909539, 0.03278064025909539, 0.6883934454410032, 0.03278064025909539, 0.03278064025909539, 0.03278064025909539, 0.7293376997019061, 0.15123552026491238, 0.7273708355598166, 0.028806765764745213, 0.014403382882372607, 0.007201691441186303, 0.014403382882372607, 0.014403382882372607, 0.014403382882372607, 0.014403382882372607, 0.014403382882372607, 0.04510976736920929, 0.04510976736920929, 0.04510976736920929, 0.6766465105381394, 0.09021953473841858, 0.04510976736920929, 0.04510976736920929, 0.23848391473238253, 0.12539351783495384, 0.08964482680893739, 0.1265268796971232, 0.05412827014023272, 0.10540265318174984, 0.06540726891314701, 0.07671357761045092, 0.058183793912091726, 0.060122798543754956, 0.0384584449202614, 0.7307104534849667, 0.0384584449202614, 0.0384584449202614, 0.0384584449202614, 0.0384584449202614, 0.0384584449202614, 0.5456473101386734, 0.07340462282463175, 0.03670231141231588, 0.03670231141231588, 0.11010693423694763, 0.11010693423694763, 0.03670231141231588, 0.5138323597724224, 0.03670231141231588, 0.03670231141231588, 0.03670231141231588, 0.5550588189238952, 0.12521589599611888, 0.023850646856403597, 0.08347726399741259, 0.5843408479818881, 0.011925323428201798, 0.08347726399741259, 0.05962661714100899, 0.011925323428201798, 0.005962661714100899, 0.005962661714100899, 0.8193553326363324, 0.0776231367760736, 0.008624792975119288, 0.017249585950238577, 0.017249585950238577, 0.008624792975119288, 0.017249585950238577, 0.008624792975119288, 0.017249585950238577, 0.008624792975119288, 0.4833091528206405, 0.13642388534582184, 0.04374461540980157, 0.049111186468953974, 0.0724134029100105, 0.06295129077939968, 0.06492844853803477, 0.032340651909102694, 0.0307518644244852, 0.024008344211997632, 0.10103050039011077, 0.7072135027307754, 0.10103050039011077, 0.10103050039011077, 0.09739231867977219, 0.08116026556647682, 0.23652420250801814, 0.03710183568753226, 0.06492821245318145, 0.03014524149611996, 0.07420367137506452, 0.05101502407035686, 0.2666694440041381, 0.06029048299223992, 0.052199634823752145, 0.4697967134137693, 0.4697967134137693, 0.7487042130485201, 0.025166528169698155, 0.02673943618030429, 0.04364819729432024, 0.01612230710871288, 0.027525890185607357, 0.04797369432348711, 0.020054577135228218, 0.028312344190910426, 0.01612230710871288, 0.10087215912311483, 0.10087215912311483, 0.605232954738689, 0.04787812178587014, 0.7660499485739223, 0.04787812178587014, 0.04787812178587014, 0.04787812178587014, 0.04787812178587014, 0.225036629586382, 0.450073259172764, 0.13976861570926943, 0.08707287378654062, 0.11847620531611265, 0.09159305029458509, 0.100633403310674, 0.22006122473374337, 0.09064143418762835, 0.04555862112055336, 0.05983286272490428, 0.046391285214140494, 0.28247431410130014, 0.10446342721949002, 0.08597893293267683, 0.07760450242245395, 0.07309185592989863, 0.08302835637985219, 0.09678325001581412, 0.05402158541568643, 0.09843210161886318, 0.04415017121322164, 0.15975038676427955, 0.05325012892142652, 0.05325012892142652, 0.15975038676427955, 0.05325012892142652, 0.42600103137141215, 0.14240865250650456, 0.5709532086603377, 0.048788149469821004, 0.032964965857987166, 0.030327768589348193, 0.03692076176094563, 0.022416176783431274, 0.040876557663904085, 0.04351375493254306, 0.030327768589348193, 0.28175524593717727, 0.03521940574214716, 0.03521940574214716, 0.03521940574214716, 0.03521940574214716, 0.07043881148429432, 0.42263286890576596, 0.03521940574214716, 0.03521940574214716, 0.03521940574214716, 0.09535113899869212, 0.09535113899869212, 0.19070227799738423, 0.09535113899869212, 0.09535113899869212, 0.38140455599476847, 0.029118152475804793, 0.014559076237902396, 0.058236304951609585, 0.058236304951609585, 0.5386858208023887, 0.058236304951609585, 0.029118152475804793, 0.10191353366531677, 0.04367722871370719, 0.04367722871370719, 0.10404743327974254, 0.10404743327974254, 0.10404743327974254, 0.10404743327974254, 0.5202371663987128, 0.10404743327974254, 0.12910305919237589, 0.03469644715795102, 0.0492205413170933, 0.4002194834963652, 0.101668659113996, 0.08472388259499666, 0.0540619060368074, 0.050834329556998, 0.02985508243823692, 0.06535842371614028, 0.294868754429268, 0.27112666703845806, 0.0789694849185933, 0.05101417338648854, 0.05243755992070976, 0.05619530037105378, 0.0409365967242023, 0.05329159184124249, 0.05909900890086507, 0.042075305951579274, 0.8541742678436637, 0.4399253761569781, 0.5507770529083733, 0.01793845897005108, 0.06577434955685395, 0.029897431616751794, 0.011958972646700717, 0.5261947964548316, 0.03587691794010216, 0.2571179119040654, 0.023917945293401435, 0.01793845897005108, 0.011958972646700717, 0.26577377649005296, 0.08482141802874031, 0.3234523407495964, 0.054285707538393804, 0.05089285081724419, 0.059940468740309824, 0.057678564259543416, 0.041845232894178554, 0.03845237617302894, 0.022619044807664083, 0.2840287445142553, 0.09704315437570389, 0.364503555459961, 0.02011870273642642, 0.0544388426985656, 0.030769780655710992, 0.06627337371999291, 0.02840287445142553, 0.0272194213492828, 0.02603596824714007, 0.10177380303693223, 0.686569306201527, 0.035540058203373165, 0.06138737326037182, 0.02261640067487383, 0.016154571910624166, 0.024231857865936245, 0.024231857865936245, 0.016154571910624166, 0.011308200337436914, 0.07474492054475633, 0.672704284902807, 0.07474492054475633, 0.07474492054475633, 0.10578747577646098, 0.10578747577646098, 0.10578747577646098, 0.10578747577646098, 0.42314990310584394, 0.24109661315165654, 0.13323932618762127, 0.11802582720022665, 0.09857980437740703, 0.07213635824772374, 0.09766253914991554, 0.09422934644130453, 0.05075097465820782, 0.05372553475307309, 0.04053001926615977, 0.17354128305900562, 0.08677064152950281, 0.6073944907065197, 0.08677064152950281, 0.8080443074244861, 0.33272671703255036, 0.016230571562563433, 0.016230571562563433, 0.016230571562563433, 0.08115285781281716, 0.032461143125126865, 0.016230571562563433, 0.016230571562563433, 0.032461143125126865, 0.43822543218921267, 0.20212354906246546, 0.12867407631719352, 0.10322425900790598, 0.13782401063467806, 0.06544953017260786, 0.08957435699329792, 0.08609938193829697, 0.06464953591534145, 0.07684944833865415, 0.04549967338202686, 0.05208177525458293, 0.06944236700611058, 0.047741627316701014, 0.09548325463340203, 0.19530665720468599, 0.09982340257128394, 0.3255110953411433, 0.056421923192464835, 0.03472118350305529, 0.026040887627291464, 0.013861490075195972, 0.8871353648125422, 0.013861490075195972, 0.013861490075195972, 0.013861490075195972, 0.013861490075195972, 0.013861490075195972, 0.013861490075195972, 0.013861490075195972, 0.10196371525502446, 0.10107707425280685, 0.11482000978717971, 0.07048795967629952, 0.09575722823950122, 0.2513627241286907, 0.08556085671399878, 0.03812556309535697, 0.08423089521067237, 0.05630170364081785, 0.7604899803199247, 0.045113812391859937, 0.010311728546710842, 0.016756558888405118, 0.011600694615049699, 0.01933449102508283, 0.016756558888405118, 0.09925038726209186, 0.010311728546710842, 0.011600694615049699, 0.2814573745862109, 0.5629147491724218, 0.8136046722112528, 0.04068023361056264, 0.04068023361056264, 0.04068023361056264, 0.020993533725196113, 0.041987067450392226, 0.08397413490078445, 0.041987067450392226, 0.020993533725196113, 0.6717930792062756, 0.041987067450392226, 0.020993533725196113, 0.06298060117558835, 0.020993533725196113, 0.008370117184717623, 0.15066210932491722, 0.5022070310830574, 0.012555175777076434, 0.02511035155415287, 0.008370117184717623, 0.18832763665614652, 0.012555175777076434, 0.09207128903189385, 0.0041850585923588115, 0.13950697357252193, 0.13594853482632427, 0.21593253300790352, 0.07925613571076609, 0.06429451825516229, 0.07699167469045848, 0.09389425873489737, 0.08677738124250205, 0.06987479719806317, 0.037444480442943566, 0.7387422982471581, 0.1055346140353083, 0.22644399537162974, 0.13143287792212882, 0.10626966026866141, 0.11938798455129745, 0.08752206457644514, 0.06522965052431579, 0.06537943158177689, 0.06766359270805891, 0.07733695266908928, 0.05333453821094553, 0.11870044561041608, 0.0918352177355413, 0.07072682440528257, 0.1452915385069758, 0.073194039210118, 0.23109578671958603, 0.041120246747257304, 0.1282951698514428, 0.05756834544616022, 0.042216786660517494, 0.19819374075749208, 0.08670976158140278, 0.05308760913147109, 0.12033191403133447, 0.04423967427622591, 0.08140100066825567, 0.26897721959945353, 0.03539173942098073, 0.0778618267261576, 0.03362215244993169, 0.07316135806474348, 0.07316135806474348, 0.07316135806474348, 0.7316135806474348, 0.19498286256969485, 0.06499428752323162, 0.6499428752323162, 0.18132951089722174, 0.14661503232436163, 0.11052517821374955, 0.1058489013853928, 0.06029646357504704, 0.1803942555315504, 0.048138143821319486, 0.06018643353202688, 0.06618307087662553, 0.040491055831418446, 0.4592322992086253, 0.08259266650884747, 0.08780005943602029, 0.06560461417266077, 0.047165321184638995, 0.053098334437729336, 0.06876319676783116, 0.03986643437688038, 0.05279954959764565, 0.04306770052063416, 0.47274447366799066, 0.09923874154227598, 0.032799245086006464, 0.06846780573006478, 0.06658790932996185, 0.04996566747642011, 0.04754159053944527, 0.04813524203421462, 0.06495536771934614, 0.049569899813240545, 0.11480813716174192, 0.6888488229704515, 0.11480813716174192, 0.057152486952069224, 0.11430497390413845, 0.057152486952069224, 0.057152486952069224, 0.6286773564727615, 0.057152486952069224, 0.14394453999338402, 0.647750429970228, 0.07197226999669201, 0.07197226999669201, 0.2113063335753412, 0.37441386709548063, 0.0911586001044034, 0.040340300046201504, 0.07264746674986937, 0.0429598000492016, 0.04365833338333496, 0.040864200046801524, 0.03160863336953451, 0.05099293339173523, 0.0625254982484696, 0.02501019929938784, 0.01250509964969392, 0.1250509964969392, 0.01250509964969392, 0.01250509964969392, 0.01250509964969392, 0.6502651817840839, 0.0625254982484696, 0.03751529894908176, 0.03798250055686014, 0.7976325116940628, 0.01899125027843007, 0.03798250055686014, 0.01899125027843007, 0.01899125027843007, 0.01899125027843007, 0.01899125027843007, 0.6533103952711402, 0.13066207905422805, 0.633615577316667, 0.211205192438889, 0.26111028328248126, 0.5222205665649625, 0.20714048825266282, 0.03359034944637775, 0.03918874102077405, 0.12876300621111472, 0.03359034944637775, 0.03359034944637775, 0.44787132595170337, 0.03359034944637775, 0.02799195787198146, 0.016795174723188876, 0.10356953209132143, 0.5600798968433596, 0.08345894333572504, 0.04374053054342216, 0.03821011863563315, 0.046254354137871705, 0.0306686478522845, 0.04223223638675243, 0.024635471225605582, 0.027149294820055132, 0.1764020805360849, 0.03307539010051592, 0.02205026006701061, 0.03307539010051592, 0.08820104026804244, 0.02205026006701061, 0.02205026006701061, 0.12127643036855837, 0.4079298112396963, 0.06615078020103184, 0.05425608333083307, 0.05425608333083307, 0.05425608333083307, 0.10851216666166615, 0.6510729999699969, 0.05425608333083307, 0.1922065888909549, 0.3822244899166919, 0.10008272692769185, 0.05670691287155502, 0.06297451903104268, 0.05203107970495312, 0.03879946670159028, 0.04884753371918161, 0.03840152345336884, 0.027856027375500712, 0.1572642406561388, 0.5371946760190646, 0.06440345093537113, 0.04193713084163701, 0.036445363707613115, 0.042935633956914084, 0.03045434501595069, 0.031952099688866295, 0.029455841900673616, 0.02795808722775801, 0.6253146412139757, 0.06781504602015677, 0.014162178285333945, 0.021243267428000916, 0.023422064087283062, 0.04303123402082237, 0.030503153229950033, 0.11738267001882557, 0.035405445713334864, 0.021787966592821454, 0.4348163870169761, 0.04429281142823133, 0.04429281142823133, 0.04429281142823133, 0.04429281142823133, 0.13287843428469398, 0.04429281142823133, 0.04429281142823133, 0.6200993599952386, 0.04429281142823133, 0.04429281142823133, 0.18298432902661627, 0.14519450277016177, 0.10273989526248893, 0.09465299989664733, 0.10501493202025525, 0.08237289952629524, 0.08246848930603333, 0.0673143228915563, 0.08589060342065662, 0.051369947631244466, 0.15048505413273697, 0.6019402165309479, 0.05123273581269344, 0.10978443388434309, 0.12442235840225549, 0.029275849035824822, 0.05123273581269344, 0.49768943360902196, 0.021956886776868616, 0.029275849035824822, 0.04391377355373723, 0.04391377355373723, 0.28485714139395224, 0.48000467179676204, 0.05475781450108693, 0.023301197660036993, 0.02563131742604069, 0.028543967133545314, 0.01805842818652867, 0.040194565963563814, 0.02912649707504624, 0.01456324853752312, 0.29406409194677596, 0.09802136398225865, 0.49010681991129323, 0.19340042484965225, 0.13427336710757767, 0.08604741009524618, 0.13760537144525078, 0.08844228821294874, 0.08713671920563931, 0.08903500052301559, 0.07252716172507252, 0.061690138001823144, 0.04982788217467434, 0.21339465855564121, 0.16705060921708464, 0.13210466061151607, 0.07638185909502843, 0.09149331744870447, 0.04103204077844848, 0.08272036983729046, 0.06569053035631034, 0.07023406460518844, 0.059890512562063486, 0.033305401115750324, 0.033305401115750324, 0.033305401115750324, 0.8326350278937581, 0.033305401115750324, 0.033305401115750324, 0.033305401115750324, 0.3046429135352842, 0.05679783133708689, 0.051634392124624444, 0.04130751369969956, 0.08777846661186156, 0.051634392124624444, 0.03614407448723711, 0.030980635274774668, 0.046470952912162, 0.29431603511035936, 0.2136606950656882, 0.1604941032685744, 0.08792014808450158, 0.08869883859076845, 0.0664642296733635, 0.08829152355672115, 0.09291574717855214, 0.07594029414193425, 0.06969879023785668, 0.05590997834996169, 0.17229191353146164, 0.08463462419089345, 0.07556662874186915, 0.06952129844251961, 0.09370261963991774, 0.06347596814317008, 0.07254396359219438, 0.10277061508894203, 0.06649863329284485, 0.19949589987853455, 0.18038018479538123, 0.16545956017143545, 0.12993033800060327, 0.08254430270779575, 0.10743948854443455, 0.08048344295310711, 0.06925862682256964, 0.06494456040275474, 0.07160800694291469, 0.04794933695908908, 0.4727036550707241, 0.1360506909347908, 0.06515571499696798, 0.05739260940854852, 0.05326940352209227, 0.05786081227477615, 0.051879898241674785, 0.042485634280591315, 0.03215496458705258, 0.031037319035412424, 0.41330388049384414, 0.0796588464107562, 0.0929353208125489, 0.36377539860912, 0.06107178224824642, 0.06903766688932204, 0.03717412832501956, 0.0398294232053781, 0.1380753337786441, 0.08762473105183183, 0.031863538564302483, 0.2034410105432814, 0.11043940572349562, 0.07556380391607595, 0.052313402711129504, 0.4533828234964557, 0.04650080240989289, 0.017437800903709836, 0.023250401204946446, 0.011625200602473223, 0.005812600301236611, 0.7236211729456592, 0.14472423458913183, 0.6379400706921551, 0.28581237109200497, 0.1824995512313798, 0.3649991024627596, 0.0430297147642668, 0.0430297147642668, 0.0430297147642668, 0.0430297147642668, 0.0430297147642668, 0.0430297147642668, 0.5163565771712015, 0.0430297147642668, 0.0430297147642668, 0.0430297147642668, 0.5600384594560198, 0.04120276816851159, 0.04120276816851159, 0.020601384084255794, 0.18541245675830215, 0.5562373702749065, 0.08240553633702317, 0.020601384084255794, 0.020601384084255794, 0.020601384084255794, 0.020601384084255794, 0.3045969988062903, 0.13260650454307724, 0.10256987578984003, 0.07321546699566688, 0.06537941274363937, 0.06502882748689812, 0.08296078960535283, 0.07586380697564472, 0.058903060771135385, 0.03886758711223314, 0.13826130218928764, 0.13826130218928764, 0.5530452087571506, 0.8088619735127234, 0.05285495982681248, 0.04530425128012498, 0.02265212564006249, 0.2340719649473124, 0.15856487948043743, 0.05285495982681248, 0.07550708546687497, 0.33223117605424984, 0.007550708546687496, 0.015101417093374992, 0.8840607262904886, 0.022668223751038167, 0.022668223751038167, 0.022668223751038167, 0.022668223751038167, 0.09604058460248532, 0.04802029230124266, 0.14406087690372799, 0.04802029230124266, 0.04802029230124266, 0.14406087690372799, 0.09604058460248532, 0.33614204610869863, 0.6689222750191601, 0.05468029496069429, 0.011977588419961606, 0.01796638262994241, 0.02499670626774596, 0.02265326505514478, 0.026559000409480085, 0.12862888433610942, 0.025517470981657336, 0.018226764986898097, 0.8752758002443554, 0.023656102709306903, 0.023656102709306903, 0.023656102709306903, 0.023656102709306903, 0.023656102709306903, 0.856503552786672, 0.09516706142074134, 0.1070238761106802, 0.1070238761106802, 0.7491671327747614, 0.5491585923817816, 0.63892589950434, 0.8397337027991729, 0.03271689751165609, 0.07633942752719754, 0.010905632503885362, 0.021811265007770725, 0.010905632503885362, 0.17185024626326645, 0.06444384234872491, 0.04296256156581661, 0.06444384234872491, 0.04296256156581661, 0.04296256156581661, 0.4081443348752578, 0.04296256156581661, 0.06444384234872491, 0.021481280782908306, 0.7970453135611855, 0.045320025886190794, 0.015962924097565178, 0.011559358829271336, 0.02110041691057466, 0.024953536520331776, 0.03302673951220382, 0.022568272000005943, 0.012476768260165888, 0.01577944221138627, 0.03684392248680029, 0.03684392248680029, 0.5342368760586043, 0.09210980621700073, 0.05526588373020044, 0.018421961243400144, 0.09210980621700073, 0.018421961243400144, 0.11053176746040087, 0.018421961243400144, 0.5851992768645693, 0.15607345444726625, 0.028376991717684773, 0.07094247929421194, 0.07094247929421194, 0.028376991717684773, 0.05675398343536955, 0.07094247929421194, 0.4256548757652716, 0.04256548757652716, 0.028376991717684773, 0.11972174222943253, 0.08838831750532324, 0.12533369889643717, 0.09025896972765812, 0.04021902278019999, 0.30398098612941854, 0.092129621949993, 0.04770163166953952, 0.06126386028146743, 0.030865761668525574, 0.48500587623326386, 0.0630609306734831, 0.0630609306734831, 0.31530465336741553, 0.5044874453878648, 0.09771217513259946, 0.7021642352551914, 0.05226465181511134, 0.020451385492869654, 0.02954089015636728, 0.034085642488116095, 0.01817900932699525, 0.015906633161120842, 0.01817900932699525, 0.013634256995246436, 0.29455870198232387, 0.5891174039646477, 0.37916607310320644, 0.11681868682363569, 0.07720638820898144, 0.07091432479266774, 0.0881482469172251, 0.045567993860913446, 0.07398121104904706, 0.04693325290407586, 0.06296020688902587, 0.0382866122973806, 0.6914906090243074, 0.11524843483738456, 0.06867671984532318, 0.6140506715581837, 0.16159228198899572, 0.028278649348074253, 0.028278649348074253, 0.01211942114917468, 0.020199035248624465, 0.020199035248624465, 0.02423884229834936, 0.01615922819889957, 0.07874501110901314, 0.09624390246657161, 0.48996895801163726, 0.06124611975145466, 0.043747228393896186, 0.05249667407267542, 0.06124611975145466, 0.03499778271511695, 0.05249667407267542, 0.02624833703633771, 0.054745872320820795, 0.054745872320820795, 0.06843234040102598, 0.04105940424061559, 0.04105940424061559, 0.09580527656143639, 0.04105940424061559, 0.38322110624574557, 0.13686468080205197, 0.08211880848123118, 0.09730282596165533, 0.6348768545418897, 0.052986687404861815, 0.03564558970872522, 0.04238934992388945, 0.027938435177108957, 0.02986522381001302, 0.031792012442917086, 0.02312146359484879, 0.024084857911300824, 0.050939179361383036, 0.10187835872276607, 0.6622093316979795, 0.050939179361383036, 0.10187835872276607, 0.6436876444029738, 0.12576134699673688, 0.04192044899891229, 0.04192044899891229, 0.5449658369858599, 0.12576134699673688, 0.08384089799782458, 0.11359945549796703, 0.1254946864401625, 0.11518548629025975, 0.05749361622061158, 0.21232987231818967, 0.17624767179353, 0.047779177617818594, 0.057691870069648175, 0.06205345474845319, 0.03211712354392785, 0.22607990169930714, 0.4521598033986143, 0.18946593493871933, 0.46248847601614357, 0.03778674545126144, 0.032996876309552246, 0.06013946811257102, 0.04310882227538277, 0.04257661459297064, 0.056414014335686095, 0.043641029957794904, 0.03193246094472798, 0.24675300969509617, 0.3401756262689611, 0.07310424480780013, 0.06147878467360842, 0.04608290503643562, 0.08766225344431047, 0.04723497766234651, 0.03602845302848603, 0.0318390980251737, 0.029639686648434724, 0.6921184992413564, 0.036028086261878825, 0.03318376366225681, 0.0530940218596109, 0.029391333529427462, 0.03460592496206782, 0.03413187119546415, 0.03460592496206782, 0.024176742096787107, 0.028917279762823794, 0.1951562875097697, 0.5145866260281192, 0.05492606205070563, 0.03344659644428443, 0.04878907187744243, 0.030684950866315994, 0.025468509219042274, 0.030991800374979155, 0.03528769349626339, 0.030684950866315994, 0.5364757392350897, 0.04120717880366757, 0.03854696852646877, 0.04553654062734403, 0.027749644460191323, 0.042772008378490385, 0.13212377710087334, 0.04668408231554743, 0.0590462359566477, 0.029836083893288415, 0.5732955367060609, 0.04300552321683063, 0.035225018663114276, 0.05045170921550449, 0.029237677268262235, 0.077501119578034, 0.09901907748440579, 0.02513467682001338, 0.030574951488432235, 0.03653190028737132, 0.676494848102432, 0.04255575170942918, 0.03428309244542455, 0.04956142712218985, 0.02787364472736692, 0.05313879329040806, 0.053809549446948976, 0.020495327005416855, 0.013191537745304667, 0.028544400883907837, 0.056852636781218484, 0.11370527356243697, 0.056852636781218484, 0.056852636781218484, 0.5685263678121849, 0.056852636781218484, 0.056852636781218484, 0.5202671054361486, 0.10734063052717664, 0.034430013565320806, 0.03458580548190597, 0.044945967934819246, 0.033495262065809835, 0.05304714759724767, 0.10188791344669597, 0.046348095184085704, 0.02360247536265205, 0.13686470530804853, 0.5474588212321941, 0.13686470530804853, 0.23398632973395037, 0.05849658243348759, 0.6434624067683635, 0.05849658243348759, 0.8678062512998286, 0.009536332431866247, 0.009536332431866247, 0.019072664863732495, 0.019072664863732495, 0.009536332431866247, 0.019072664863732495, 0.019072664863732495, 0.009536332431866247, 0.009536332431866247, 0.15193631910190036, 0.07596815955095018, 0.07596815955095018, 0.07596815955095018, 0.07596815955095018, 0.07596815955095018, 0.07596815955095018, 0.45580895730570103, 0.08096032192363677, 0.08096032192363677, 0.08096032192363677, 0.08096032192363677, 0.16192064384727353, 0.48576193154182057, 0.08096032192363677, 0.9128833893993012, 0.6489293366992225, 0.3545964194475887, 0.3545964194475887, 0.3247321758169241, 0.6494643516338482, 0.13855098800095672, 0.05772957833373197, 0.03463774700023918, 0.5542039520038269, 0.02309183133349279, 0.02309183133349279, 0.08082140966722476, 0.03463774700023918, 0.03463774700023918, 0.02309183133349279, 0.03907256363503506, 0.01302418787834502, 0.16931444241848526, 0.16931444241848526, 0.5079433272554558, 0.01302418787834502, 0.01302418787834502, 0.05209675151338008, 0.01302418787834502, 0.7753698415725795, 0.055055846738881385, 0.012999297146680328, 0.017587284374920444, 0.02141060706512054, 0.016822619836880423, 0.040527220516121024, 0.020645942527080522, 0.023704600679240597, 0.014528626222760367, 0.9215800270630174, 0.028799375845719295, 0.014399687922859648, 0.014399687922859648, 0.014399687922859648, 0.09317619770470734, 0.7919976804900123, 0.04658809885235367, 0.8161884161010425, 0.045343800894502365, 0.022671900447251182, 0.022671900447251182, 0.045343800894502365, 0.022671900447251182, 0.8031703240928751, 0.03199881769294323, 0.012799527077177294, 0.02879893592364891, 0.015999408846471615, 0.022399172385060263, 0.035198699462237554, 0.01919929061576594, 0.01919929061576594, 0.00959964530788297, 0.02854767139044833, 0.0606638017047027, 0.6994179490659841, 0.021410753542836246, 0.03211613031425437, 0.014273835695224165, 0.049958424933284576, 0.02854767139044833, 0.05352688385709062, 0.010705376771418123, 0.166144786296844, 0.11261192336810763, 0.10750781406484222, 0.11884134810831344, 0.09601352067323667, 0.10565908156129727, 0.09340118126605358, 0.10939673640542076, 0.05867716206903538, 0.031749971256532845, 0.19579873959770847, 0.12488764528702527, 0.09559346792870974, 0.09681098411614603, 0.08382414478349229, 0.08692327689696648, 0.09063731617581253, 0.05853916214340131, 0.10537049185812236, 0.061613697970260624, 0.6242248094224566, 0.17776528969245325, 0.11624236209418592, 0.11551363790136371, 0.09653269839385392, 0.091961892180152, 0.07482912126379983, 0.07714863486478289, 0.09850800609950393, 0.09360849876052901, 0.057894811404216276, 0.063508815915238, 0.0158772039788095, 0.0158772039788095, 0.09526322387285702, 0.0158772039788095, 0.031754407957619, 0.4921933233430946, 0.11114042785166653, 0.04763161193642851, 0.11114042785166653, 0.17206030126678576, 0.17206030126678576, 0.5161809038003573, 0.6252569577804092, 0.7411404739856484, 0.10763322575214385, 0.02690830643803596, 0.02690830643803596, 0.32289967725643154, 0.5112578223226832, 0.16174271315403382, 0.08087135657701691, 0.08087135657701691, 0.5660994960391185, 0.8365918861709365, 0.7672514772059122, 0.022174898185141973, 0.01773991854811358, 0.023653224730818104, 0.0280882043678465, 0.04730644946163621, 0.03991481673325555, 0.016261592002437448, 0.013304938911085184, 0.023653224730818104, 0.3524694811245019, 0.15193616760496512, 0.07596808380248256, 0.07596808380248256, 0.5317765866173779, 0.06318074090009111, 0.04459817004712314, 0.04459817004712314, 0.5909257531243816, 0.08547982592365268, 0.04459817004712314, 0.03716514170593595, 0.05203119838831033, 0.026015599194155165, 0.011149542511780785, 0.5755950548556197, 0.5770857786617665, 0.3046494005303303, 0.032641007199678246, 0.032641007199678246, 0.07616235013258257, 0.032641007199678246, 0.032641007199678246, 0.032641007199678246, 0.11968369306548689, 0.3264100719967824, 0.01088033573322608, 0.02073343533945361, 0.02073343533945361, 0.02073343533945361, 0.02073343533945361, 0.7256702368808763, 0.04146687067890722, 0.02073343533945361, 0.04146687067890722, 0.02073343533945361, 0.04146687067890722, 0.4655787802108711, 0.10330717263823885, 0.051046954378877483, 0.07603120317699005, 0.07320025412252766, 0.0408914863422346, 0.050507725987551315, 0.06520169965118947, 0.043542692599588276, 0.03069108260631454, 0.7779308604056443, 0.12965514340094073, 0.8012114130442564, 0.045583143849345, 0.0188468767838638, 0.014902181643055096, 0.02585966814530149, 0.01753197840359423, 0.02585966814530149, 0.019285176243953654, 0.017093678943504373, 0.01446388218296524, 0.7633094176440884, 0.05051585440369636, 0.019872045666159965, 0.020243485772069497, 0.016529084712974176, 0.02061492587797903, 0.031943849108219756, 0.022286406354571926, 0.026557967572531545, 0.028043727996169672, 0.03326669212051175, 0.03326669212051175, 0.7984006108922819, 0.03326669212051175, 0.03326669212051175, 0.20791013314515985, 0.11511307436344191, 0.11757275543958383, 0.08087133235193893, 0.09169392908696337, 0.08353971364060198, 0.08534347976310605, 0.07775573632215915, 0.08365897090489977, 0.056542850435189744, 0.046948534617441945, 0.18779413846976778, 0.046948534617441945, 0.046948534617441945, 0.5164338807918615, 0.14084560385232583, 0.18009882793016796, 0.13599299251869826, 0.02278801496259268, 0.1448141596009922, 0.04190054364089622, 0.06101307231919976, 0.3359394463840276, 0.02719859850373965, 0.02425820947630834, 0.026463501246881824, 0.10149856015122068, 0.10149856015122068, 0.5074928007561034, 0.10758371550666496, 0.10758371550666496, 0.6455022930399897, 0.6240801686613571, 0.17320594251905963, 0.08943171152680088, 0.11991484965172904, 0.09928284896107357, 0.1042677618796212, 0.11235835467202589, 0.10863945138358559, 0.06820626882203261, 0.07291424213399426, 0.0517679250311077, 0.18720596628971659, 0.12810520946770282, 0.12050166206555048, 0.07584463201275082, 0.10932736023609937, 0.1193365213804122, 0.061611835884811755, 0.0684721038843759, 0.09090608423141323, 0.0386907061995916, 0.08395931335937343, 0.08395931335937343, 0.08395931335937343, 0.08395931335937343, 0.08395931335937343, 0.08395931335937343, 0.5037558801562405, 0.41508384464883386, 0.06113638021959568, 0.022523929554587884, 0.048265563331259746, 0.025741633776671866, 0.048265563331259746, 0.012870816888335933, 0.06113638021959568, 0.05148326755334373, 0.2541986335446347, 0.09458957164886661, 0.7567165731909329, 0.03152985721628887, 0.03152985721628887, 0.03152985721628887, 0.03152985721628887, 0.03152985721628887, 0.05614629615115975, 0.6737555538139169, 0.028073148075579875, 0.01871543205038658, 0.07486172820154632, 0.06550401217635304, 0.028073148075579875, 0.028073148075579875, 0.00935771602519329, 0.028073148075579875, 0.14153783657673907, 0.1407376621127896, 0.07990579414416482, 0.1461155788588687, 0.11304790391844464, 0.09054997538553936, 0.07903118484635957, 0.0752350083197155, 0.07530944315357127, 0.05852438811909603, 0.14860060291828966, 0.5944024116731587, 0.14860060291828966, 0.21288211079813837, 0.11932722413585653, 0.11050865916699448, 0.07746344615636937, 0.10095792551990589, 0.08089650373649832, 0.08232830026280802, 0.07855356396617334, 0.09064248236444733, 0.0464520350297069, 0.22274443489841883, 0.07471806993427973, 0.05216167146355377, 0.3397557519653097, 0.11419176725805015, 0.04511279694145191, 0.04370302203703154, 0.04511279694145191, 0.03383459770608894, 0.02960527299282782, 0.19314809755345472, 0.14129295623669447, 0.09950460249221295, 0.09648904034833923, 0.08380041387945812, 0.08539320337978311, 0.0912811555776137, 0.07253456005412573, 0.0775813762236948, 0.0589779527901237, 0.5708376264651694, 0.08795764288483524, 0.8795764288483523, 0.7399500795598333, 0.7641114847739409, 0.7233293121858652, 0.13151442039743003, 0.7751823509488441, 0.025761347010384548, 0.023419406373076865, 0.028103287647692234, 0.014051643823846117, 0.028103287647692234, 0.05386463465807678, 0.025761347010384548, 0.011709703186538432, 0.016393584461153805, 0.24582672189415425, 0.16419736288130607, 0.08417243170304656, 0.053775618646383604, 0.08757774792339802, 0.10446244084930739, 0.06583611359346173, 0.08372493822537216, 0.06915411401329136, 0.041267630221631095, 0.720788992296148, 0.14614613166568996, 0.14614613166568996, 0.14614613166568996, 0.4384383949970699, 0.8580077767097386, 0.021450194417743464, 0.021450194417743464, 0.021450194417743464, 0.021450194417743464, 0.021450194417743464, 0.021450194417743464, 0.021450194417743464, 0.09606096336333954, 0.019212192672667907, 0.019212192672667907, 0.5571535875073693, 0.019212192672667907, 0.038424385345335814, 0.07684877069067163, 0.09606096336333954, 0.038424385345335814, 0.019212192672667907, 0.8129592798866153, 0.018476347270150347, 0.019668369674676178, 0.014900280056572861, 0.01728432486562452, 0.02801252650635698, 0.0536410082036623, 0.010132190438469546, 0.01072820164073246, 0.014304268854309948, 0.061314123394443795, 0.061314123394443795, 0.7357694807333255, 0.061314123394443795, 0.1217727865295103, 0.06958444944543446, 0.10437667416815169, 0.04783930899373619, 0.04783930899373619, 0.1696120955232465, 0.06958444944543446, 0.03479222472271723, 0.3087809944141154, 0.02174514045169827, 0.08611815012487306, 0.06151296437490933, 0.09842074299985493, 0.06151296437490933, 0.04921037149992746, 0.11072333587483679, 0.06151296437490933, 0.0369077786249456, 0.40598556487440157, 0.02460518574996373, 0.19847033327978172, 0.10792825460526353, 0.09249329104865542, 0.11011244756138733, 0.10842333834198493, 0.0760390374458562, 0.10207461748285178, 0.1005602436999393, 0.04988696711786736, 0.05399324987538009, 0.12373969096092616, 0.035354197417407474, 0.017677098708703737, 0.6717297509307419, 0.035354197417407474, 0.017677098708703737, 0.07070839483481495, 0.017677098708703737, 0.017677098708703737, 0.10471215066978559, 0.10471215066978559, 0.06980810044652373, 0.06980810044652373, 0.034904050223261866, 0.034904050223261866, 0.034904050223261866, 0.06980810044652373, 0.41884860267914237, 0.06980810044652373, 0.4270907037197059, 0.24118862052458764, 0.1276916163293819, 0.12388242927565361, 0.11598854792846199, 0.08062779263724855, 0.09676293402521077, 0.06069544277119869, 0.0635104080467526, 0.045889923279349154, 0.04376971539095323, 0.17700090412399344, 0.3033288767370138, 0.08404147032647404, 0.07595033790572425, 0.06047678539304948, 0.05947277626054768, 0.04175496803992772, 0.06602836530217707, 0.08374617352279703, 0.048074319638615505, 0.11273628378671803, 0.11273628378671803, 0.11273628378671803, 0.11273628378671803, 0.11273628378671803, 0.11273628378671803, 0.11273628378671803, 0.11273628378671803, 0.3382088513601541, 0.11782322119173749, 0.11782322119173749, 0.11782322119173749, 0.47129288476694997, 0.2060368380296546, 0.13735789201976975, 0.06867894600988488, 0.4807526220691941, 0.06867894600988488, 0.049198571877471065, 0.09839714375494213, 0.049198571877471065, 0.049198571877471065, 0.6395814344071238, 0.049198571877471065, 0.049198571877471065, 0.049198571877471065, 0.049198571877471065, 0.049198571877471065, 0.19934450671556875, 0.5980335201467062, 0.07207216531286934, 0.07207216531286934, 0.05148011808062095, 0.08236818892899353, 0.05148011808062095, 0.030888070848372574, 0.09266421254511772, 0.06177614169674515, 0.4633210627255886, 0.020592047232248382, 0.08547951592355772, 0.598356611464904, 0.08547951592355772, 0.08547951592355772, 0.08547951592355772, 0.24204668327785264, 0.11986282165978314, 0.0740357769019898, 0.0797466147528432, 0.0631214913306991, 0.11964691096598906, 0.0737442974653678, 0.0857381365056289, 0.09017510126309723, 0.05189413525340697, 0.569321685755525, 0.04385317648345369, 0.04385317648345369, 0.04385317648345369, 0.04385317648345369, 0.7455040002187127, 0.04385317648345369, 0.13665594285347973, 0.04555198095115991, 0.04555198095115991, 0.5921757523650788, 0.04555198095115991, 0.09110396190231981, 0.04555198095115991, 0.42502573681578976, 0.01634714372368422, 0.01634714372368422, 0.01634714372368422, 0.01634714372368422, 0.01634714372368422, 0.03269428744736844, 0.09808286234210534, 0.3596371619210529, 0.01634714372368422, 0.15252048781731387, 0.6100819512692555, 0.11222854856972185, 0.03740951618990729, 0.03740951618990729, 0.7481903237981457, 0.03740951618990729, 0.12713602050922965, 0.08999235961535668, 0.12588958893560975, 0.26324634834852256, 0.04337581876197247, 0.1019581027221077, 0.06980016812271432, 0.050355835574243904, 0.09373165433621637, 0.0344015114319092, 0.11046088252658937, 0.11046088252658937, 0.7732261776861256, 0.09712202563269617, 0.6992785845554124, 0.038848810253078465, 0.019424405126539233, 0.038848810253078465, 0.019424405126539233, 0.019424405126539233, 0.019424405126539233, 0.038848810253078465, 0.019424405126539233, 0.048298679361132094, 0.048298679361132094, 0.14489603808339627, 0.048298679361132094, 0.09659735872226419, 0.048298679361132094, 0.048298679361132094, 0.4829867936113209, 0.048298679361132094, 0.048298679361132094, 0.7593901505056955, 0.7841743696930359, 0.07841743696930359, 0.7456040291747841, 0.027675591967128155, 0.027675591967128155, 0.6642142072110757, 0.027675591967128155, 0.08302677590138446, 0.027675591967128155, 0.027675591967128155, 0.027675591967128155, 0.05535118393425631, 0.027675591967128155, 0.09318072527061748, 0.6268521518205176, 0.05647316683067726, 0.03670755843994022, 0.03670755843994022, 0.03670755843994022, 0.02823658341533863, 0.02823658341533863, 0.03670755843994022, 0.01976560839073704, 0.451762819509362, 0.07928263949936226, 0.07534200671074827, 0.058567202913345585, 0.05838643994139082, 0.07653504232564975, 0.051987430734191944, 0.04511843779991067, 0.0622547675412229, 0.040780126472996184, 0.6726656394882636, 0.04740392683638899, 0.04035210300948815, 0.03800149506718787, 0.03760972707680449, 0.045053318894088715, 0.04113563899025491, 0.020371935499935764, 0.017629559567252106, 0.03917679903833801, 0.8220033416797456, 0.031442750774635084, 0.017967286156934333, 0.0269509292354015, 0.017967286156934333, 0.017967286156934333, 0.017967286156934333, 0.022459107696167914, 0.008983643078467166, 0.017967286156934333, 0.2559107216390006, 0.23997839346219438, 0.1146538905287025, 0.05743733090991804, 0.0801767738966761, 0.05368421896064729, 0.04901122663165332, 0.05276433858092407, 0.05408896632772551, 0.04235129268245718, 0.6105270790484614, 0.5505174740145559, 0.07331112685678415, 0.041926561023473696, 0.06622948123285768, 0.041926561023473696, 0.03943189040595415, 0.054641333848250755, 0.06816083913029218, 0.0382247917200576, 0.025670965386733417, 0.19157674887182952, 0.07927313746420532, 0.09248532704157288, 0.05945485309815399, 0.0858792322528891, 0.06606094788683776, 0.03963656873210266, 0.1123036114076242, 0.05284875830947021, 0.2246072228152484, 0.11378563874940073, 0.5689281937470037, 0.11378563874940073, 0.858626940712469, 0.010101493420146695, 0.02020298684029339, 0.02020298684029339, 0.013468657893528926, 0.016835822366911158, 0.02020298684029339, 0.010101493420146695, 0.006734328946764463, 0.016835822366911158, 0.056219748994275856, 0.056219748994275856, 0.6184172389370344, 0.056219748994275856, 0.056219748994275856, 0.056219748994275856, 0.056219748994275856, 0.056219748994275856, 0.056219748994275856, 0.10736678317582325, 0.6442006990549395, 0.10736678317582325, 0.10736678317582325, 0.22608558907939919, 0.3871715712984711, 0.1197225960352273, 0.0416203016259803, 0.038794231762487814, 0.03956497808889486, 0.03237134570909579, 0.0403357244153019, 0.045730948700151194, 0.028517614077060577, 0.13846964156705494, 0.04816335358854084, 0.018061257595702818, 0.09833351357660422, 0.00802722559809014, 0.02006806399522535, 0.6241167902515085, 0.01605445119618028, 0.014047644796657746, 0.01605445119618028, 0.19313166453957914, 0.11805260238247894, 0.1573120721359427, 0.08437670166061892, 0.07959909423030323, 0.07352530113193667, 0.08958637098028491, 0.07306831259512386, 0.07165580257224792, 0.05969101179023992, 0.13098955327942188, 0.09057483333981908, 0.11293191245534404, 0.059332248421970095, 0.14646753112863148, 0.06965090032144315, 0.06793112500486431, 0.16796472258586703, 0.10490629431130943, 0.04901359652249703, 0.0693924407863028, 0.07401860350538965, 0.07401860350538965, 0.050887789909955385, 0.40247615656055624, 0.11796714933671476, 0.043948545831325105, 0.1040886611794542, 0.037009301752694825, 0.02775697631452112, 0.08624439542703809, 0.056216293368291974, 0.13485766551191353, 0.09830171517952695, 0.16204423361625145, 0.08762676329675019, 0.06412650951164453, 0.1105126313619838, 0.08079172216317371, 0.11919082965517643, 0.2771353965170635, 0.08750316887299457, 0.07174251165523618, 0.10906374794688804, 0.09443785804880826, 0.06228611732458115, 0.0655643340258749, 0.14310676753724616, 0.060016582685223946, 0.029125694538417502, 0.07763757429716434, 0.07057961299742213, 0.07057961299742213, 0.1764490324935553, 0.4517095231835016, 0.02823184519896885, 0.035289806498711065, 0.035289806498711065, 0.035289806498711065, 0.02117388389922664, 0.2342561222055868, 0.1171280611027934, 0.039042687034264466, 0.039042687034264466, 0.039042687034264466, 0.5075549314454381, 0.8616231140416422, 0.03313935054006316, 0.01656967527003158, 0.01656967527003158, 0.01656967527003158, 0.01656967527003158, 0.01656967527003158, 0.01656967527003158, 0.01656967527003158, 0.01656967527003158, 0.5469087215881776, 0.09142095557617821, 0.11178486511210416, 0.06369137663364074, 0.09618697695692684, 0.37478259039523293, 0.0632581019626636, 0.0623915526207093, 0.04419401643966909, 0.04332746709771479, 0.04896003782041772, 0.22763244114162942, 0.1244553965354033, 0.0821028015684559, 0.09269095031019274, 0.057380112096785986, 0.08883839498488608, 0.11593385031916208, 0.06613128081586006, 0.09585463812700086, 0.04898613393767412, 0.23613159466802336, 0.4722631893360467, 0.5067828518029799, 0.12669571295074497, 0.11335226817178719, 0.14735794862332335, 0.06574431553963657, 0.05214204335902211, 0.4239374829624841, 0.056676134085893594, 0.04080681654184339, 0.02947158972466467, 0.02947158972466467, 0.03853977117840764, 0.10586514289959567, 0.10586514289959567, 0.10586514289959567, 0.10586514289959567, 0.5293257144979784, 0.8286064475337427, 0.01167051334554567, 0.02334102669109134, 0.01167051334554567, 0.01167051334554567, 0.02334102669109134, 0.04668205338218268, 0.01167051334554567, 0.02334102669109134, 0.01167051334554567, 0.2069284184626043, 0.18996803238807164, 0.09244581245950886, 0.09745531505252912, 0.06911273694277015, 0.06455484226297711, 0.07322738681884021, 0.06044855549641126, 0.0827947840916535, 0.0630745718807324, 0.07651829759898492, 0.7651829759898492, 0.31528471496658617, 0.13126493797788905, 0.06834100840542054, 0.10988624864309025, 0.1050698755817131, 0.060671282929062716, 0.06791193285429563, 0.051692877021773914, 0.05614453586469489, 0.033725338318418174, 0.030593731959710588, 0.030593731959710588, 0.15296865979855295, 0.061187463919421176, 0.030593731959710588, 0.5506871752747906, 0.030593731959710588, 0.061187463919421176, 0.030593731959710588, 0.030593731959710588, 0.0425544982670463, 0.0425544982670463, 0.7659809688068334, 0.0425544982670463, 0.0425544982670463, 0.0752831330756018, 0.9033975969072217, 0.06164517123356555, 0.678096883569221, 0.1232903424671311, 0.0634430206526843, 0.0634430206526843, 0.0634430206526843, 0.6344302065268429, 0.0634430206526843, 0.0634430206526843, 0.03905074913443474, 0.026033832756289826, 0.15620299653773895, 0.06508458189072457, 0.5076597387476516, 0.11715224740330422, 0.026033832756289826, 0.013016916378144913, 0.03905074913443474, 0.013016916378144913, 0.8090288244316896, 0.019948655944890977, 0.022165173272101085, 0.022165173272101085, 0.01329910396326065, 0.02881472525373141, 0.04211382921699206, 0.011082586636050542, 0.01329910396326065, 0.017732138617680866, 0.0951836719095477, 0.038073468763819084, 0.038073468763819084, 0.04441904689112226, 0.019036734381909542, 0.019036734381909542, 0.5076462501842544, 0.019036734381909542, 0.14594829692797315, 0.0634557812730318, 0.10326764013595158, 0.08411315849783152, 0.10493324723491854, 0.09827081883905069, 0.11298368154659218, 0.09160839044318285, 0.07467471827035208, 0.09049798571053821, 0.1868255962674608, 0.05246662361745927, 0.31700552324595394, 0.14641079836514162, 0.08382868699424122, 0.09042788283277331, 0.07890685238913075, 0.06015663127750198, 0.05302193983393387, 0.0797730952796302, 0.05721140544980389, 0.03324797712444212, 0.16784430412954982, 0.16784430412954982, 0.5035329123886494, 0.2609929738187061, 0.23991702082042562, 0.046367096596216996, 0.08035025391344439, 0.06343135095482476, 0.04154143011661072, 0.08628059103296054, 0.062239469474922, 0.05648355403539162, 0.06241389115490777, 0.23538590216929975, 0.08430487985496198, 0.11648727073468892, 0.198380789889729, 0.06807456745164146, 0.07391747991683684, 0.08226449772425883, 0.04822721399843809, 0.050545830056055306, 0.042384301533242706, 0.852175193172332, 0.24056909488721567, 0.1277152360505326, 0.10095593725716799, 0.11685805186640871, 0.09233898441566596, 0.0909851438208138, 0.06542092907046203, 0.05691863373862173, 0.05346126883189829, 0.05477983019300838, 0.14641115044737232, 0.1183829239720529, 0.11119939333467473, 0.11070111375289127, 0.09662471556750862, 0.08354487654569288, 0.07279034223886661, 0.09421636425555525, 0.1175524580024138, 0.04862378252236897, 0.11400715143481649, 0.11400715143481649, 0.11400715143481649, 0.11400715143481649, 0.11400715143481649, 0.34202145430444947, 0.09135970805119695, 0.06324902865082865, 0.02811067940036829, 0.16866407640220973, 0.0773043683510128, 0.05622135880073658, 0.05622135880073658, 0.05622135880073658, 0.31624514325414327, 0.08433203820110487, 0.8539228848643703, 0.05438866158427487, 0.05438866158427487, 0.05438866158427487, 0.7614412621798481, 0.3839482164494389, 0.06244047215177036, 0.03614264910728824, 0.08550164005231621, 0.06230561152077301, 0.03398487901133074, 0.06486796350972256, 0.08631080383830028, 0.1604841508868396, 0.024005192317527266, 0.359674942905145, 0.03754182905743938, 0.044000638357644, 0.05974398602689277, 0.05974398602689277, 0.04077123370754169, 0.08315716974013453, 0.09526743717801821, 0.20103043946886892, 0.01937642790061387, 0.11534242978430147, 0.05959358872188909, 0.15763465403854535, 0.048059345743458944, 0.4229222425424387, 0.09227394382744117, 0.02499085978659865, 0.030757981275813723, 0.021146112127121936, 0.02499085978659865, 0.3775001073264283, 0.10223644757774093, 0.02916701030449667, 0.03524347078460015, 0.03159759449653806, 0.054232409784923497, 0.0439024269687476, 0.25080590631627087, 0.0484597723288252, 0.026584514600452695, 0.10158922954924632, 0.036281867696159396, 0.16689659140233323, 0.1088456030884782, 0.021769120617695637, 0.4353824123539128, 0.05079461477462316, 0.01451274707846376, 0.021769120617695637, 0.02902549415692752, 0.049437547308141504, 0.024718773654070752, 0.049437547308141504, 0.07415632096221225, 0.049437547308141504, 0.593250567697698, 0.024718773654070752, 0.049437547308141504, 0.024718773654070752, 0.024718773654070752, 0.18415247356542205, 0.18415247356542205, 0.5524574206962662, 0.07575961540463982, 0.14204927888369967, 0.054452223572084874, 0.040247295683714907, 0.40247295683714907, 0.06392217549766485, 0.05918719953487486, 0.04734975962789989, 0.0875970553116148, 0.02604236779534494, 0.22356481257216856, 0.15518550922119273, 0.09728432294577047, 0.10966133764284518, 0.0940789837606428, 0.08547697753515208, 0.0792144131793754, 0.05240957435398315, 0.05832653934264299, 0.044794994891683426, 0.07326456071730036, 0.07326456071730036, 0.07326456071730036, 0.07326456071730036, 0.07326456071730036, 0.07326456071730036, 0.07326456071730036, 0.07326456071730036, 0.07326456071730036, 0.43958736430380224, 0.15878254088547428, 0.09285280762061113, 0.1059115586467062, 0.10264687089018243, 0.09425195951626417, 0.09662627788464509, 0.13999998664988947, 0.07135674667830526, 0.07826770907198545, 0.05927316212493806, 0.5881885451374237, 0.18767378619930383, 0.09383689309965192, 0.5630213585979115, 0.1522703493392126, 0.4568110480176378, 0.1522703493392126, 0.08596622351704931, 0.08596622351704931, 0.6877297881363945, 0.23466722690612346, 0.061460464189699, 0.019555602242176954, 0.0921906962845485, 0.058666806726530865, 0.04469851941069018, 0.3994930172330435, 0.019555602242176954, 0.036317547021185774, 0.027936574631681366, 0.14074269872402032, 0.12836971422080973, 0.11669520464923201, 0.10966056426635826, 0.06615555423894041, 0.10751524840491448, 0.08471503099375628, 0.06825097903383899, 0.11938932224267303, 0.05847232999097901, 0.22829812055325785, 0.09146134248720765, 0.14744648325358747, 0.18491200469707855, 0.06507917378426893, 0.06346877210401775, 0.07549941995060021, 0.05508521041565122, 0.04565962411065157, 0.043007197813767245, 0.3784851998896913, 0.03291175651214707, 0.09873526953644121, 0.03291175651214707, 0.016455878256073534, 0.016455878256073534, 0.3784851998896913, 0.016455878256073534, 0.016455878256073534, 0.42224386256982, 0.12283269861805854, 0.05275334632620373, 0.057715448273406904, 0.0553584498484854, 0.04524816713105893, 0.09036194400104777, 0.04719165706038017, 0.06125094591078916, 0.045031075170868795, 0.17796509214968226, 0.43937852590134685, 0.07318829960173864, 0.05509331643767242, 0.04284344811010869, 0.05217075901942118, 0.0356303276735737, 0.058762058728668666, 0.036438694619047446, 0.028603753455224958, 0.0673400675249318, 0.044893378349954535, 0.044893378349954535, 0.022446689174977268, 0.022446689174977268, 0.3591470267996363, 0.022446689174977268, 0.42648709432456805, 0.022446689174977268, 0.08424754482720677, 0.6190363076433889, 0.0769216713639714, 0.03662936731617686, 0.0256405571213238, 0.03662936731617686, 0.029303493852941485, 0.0256405571213238, 0.03296643058455917, 0.03296643058455917, 0.038720218041213575, 0.7356841427830579, 0.038720218041213575, 0.038720218041213575, 0.038720218041213575, 0.038720218041213575, 0.038720218041213575, 0.038720218041213575, 0.051384285674515924, 0.2569214283725796, 0.15415285702354778, 0.4624585710706433, 0.045579960412670754, 0.09115992082534151, 0.546959524952049, 0.045579960412670754, 0.045579960412670754, 0.045579960412670754, 0.045579960412670754, 0.09115992082534151, 0.045579960412670754, 0.08001892670429646, 0.08001892670429646, 0.08001892670429646, 0.08001892670429646, 0.16003785340859292, 0.16003785340859292, 0.4000946335214823, 0.21894825096841738, 0.43789650193683477, 0.23577012682197207, 0.12080999187842743, 0.10073592924176122, 0.08229843372378245, 0.09591327932818226, 0.07267054418512121, 0.11057274224238256, 0.05822000473288101, 0.08320376872560956, 0.03978250921490224, 0.0993427158934806, 0.0496713579467403, 0.0496713579467403, 0.6208919743342537, 0.02483567897337015, 0.02483567897337015, 0.0496713579467403, 0.02483567897337015, 0.02483567897337015, 0.02483567897337015, 0.3376463050545501, 0.13812803388595232, 0.020463412427548493, 0.03581097174820986, 0.03581097174820986, 0.04092682485509699, 0.025579265534435614, 0.3171828926270016, 0.025579265534435614, 0.020463412427548493, 0.09784388507035763, 0.6849071954925033, 0.09784388507035763, 0.1608486576697685, 0.13918248959700966, 0.10823190808948939, 0.10670987310018423, 0.09285174452256081, 0.0951195766566255, 0.10634458470275099, 0.04548601565538448, 0.08317921216552658, 0.06203814616407801, 0.13985586973912656, 0.13985586973912656, 0.13985586973912656, 0.13985586973912656, 0.4195676092173797, 0.043634362374044486, 0.05817914983205932, 0.1454478745801483, 0.02908957491602966, 0.05817914983205932, 0.5236123484885338, 0.07272393729007415, 0.02908957491602966, 0.02908957491602966, 0.01454478745801483, 0.462877327394322, 0.13513343485972418, 0.051918628177104166, 0.04674287664819968, 0.05810133525637918, 0.06575419743919515, 0.05534227704836394, 0.05636937170974188, 0.028355868298433926, 0.03939210113049486, 0.06159741877021186, 0.06159741877021186, 0.06159741877021186, 0.06159741877021186, 0.12319483754042372, 0.5543767689319067, 0.20942601438712172, 0.12848155298968594, 0.11006309602555621, 0.09929071743265869, 0.10843135503226208, 0.04953705732296911, 0.11743481086694252, 0.06390504217542627, 0.06768115075725294, 0.04576094874114243, 0.03858557676085389, 0.07717115352170778, 0.11575673028256167, 0.03858557676085389, 0.07717115352170778, 0.03858557676085389, 0.11575673028256167, 0.4630269211302467, 0.07717115352170778, 0.7845118991311721, 0.15690237982623445, 0.7787867248965185, 0.06483723216080668, 0.7132095537688735, 0.06483723216080668, 0.06483723216080668, 0.6386699916746978, 0.12773399833493956, 0.10249227051888021, 0.09344883488486137, 0.06330404943813189, 0.03466650326373889, 0.40846184280318437, 0.06179681016579542, 0.06330404943813189, 0.057275092348786, 0.06179681016579542, 0.05426061380411305, 0.10327980137222526, 0.6196788082333515, 0.10327980137222526, 0.9216502537500614, 0.03544808668269467, 0.3755206078383048, 0.018776030391915242, 0.018776030391915242, 0.037552060783830485, 0.018776030391915242, 0.018776030391915242, 0.43184869901405054, 0.018776030391915242, 0.037552060783830485, 0.018776030391915242, 0.8231843615130581, 0.027904554627561293, 0.020561250778203057, 0.018358259623395587, 0.012483616543908999, 0.017623929238459762, 0.036716519246791174, 0.011014955774037351, 0.010280625389101529, 0.022764241933010528, 0.5136784146802774, 0.2739438455367155, 0.1263208735575275, 0.08456229971131965, 0.1138075534766502, 0.07980210733431166, 0.06937909129124226, 0.09204938871946795, 0.06162596358737295, 0.06653817807622152, 0.031972150396470854, 0.04189944574313064, 0.04189944574313064, 0.8379889148626128, 0.13310690258117439, 0.13310690258117439, 0.5324276103246975, 0.13310690258117439, 0.1168497584639348, 0.5842487923196741, 0.1168497584639348, 0.2641951429079579, 0.16456673386595208, 0.08391596508182113, 0.09319046730704919, 0.09190876219663027, 0.0696785325765775, 0.07538106973998233, 0.079751474050919, 0.04044725143535121, 0.03696353492211421, 0.609186938994193, 0.2632170020487685, 0.03760242886410979, 0.03760242886410979, 0.03760242886410979, 0.48883157523342724, 0.03760242886410979, 0.03760242886410979, 0.03760242886410979, 0.20181782753020133, 0.07852616024973638, 0.06484003908982093, 0.14912509529611456, 0.10170163628543649, 0.08761915386535313, 0.06043343449148358, 0.13630164276127044, 0.08743263091939175, 0.032245154283071675, 0.1551235675516532, 0.12722395846057305, 0.09549413782500761, 0.09553766295619495, 0.17675555775175747, 0.10398153840653745, 0.07003193608041808, 0.07799703508769992, 0.05610389410047165, 0.041784125939839246, 0.2098684446213206, 0.6296053338639618, 0.6828358454226233, 0.05191506874858943, 0.025041386102260785, 0.023819855072882208, 0.029927510219775084, 0.04153205499887155, 0.06718420661582161, 0.026873682646328646, 0.020155261984746486, 0.03114904124915366, 0.45258701010363195, 0.0990179642173555, 0.0728952319875318, 0.05034351218734225, 0.05651515323420996, 0.04611263876527571, 0.09276869246549575, 0.04048441265335233, 0.04242518027815349, 0.04681131511020413, 0.21724129160328012, 0.13070295131894788, 0.11664819485500333, 0.07637953717701017, 0.10826980053968616, 0.08542820303755272, 0.06999101151158083, 0.06517343478027346, 0.07959474599551314, 0.05056360969293913, 0.9727485741533076, 0.06273918092740698, 0.06273918092740698, 0.06273918092740698, 0.2509567237096279, 0.12547836185481395, 0.37643508556444183, 0.07287449090560152, 0.07287449090560152, 0.6558704181504137, 0.07287449090560152, 0.07287449090560152, 0.09735229772239677, 0.6814660840567774, 0.2411226614648824, 0.04018711024414707, 0.028130977170902946, 0.46215176780769124, 0.04018711024414707, 0.04822453229297648, 0.052243243317391184, 0.02411226614648824, 0.02411226614648824, 0.03616839921973236, 0.23479214672850893, 0.5265858550905287, 0.05293002151683149, 0.02442924070007607, 0.028500780816755417, 0.02578642073896919, 0.01628616046671738, 0.039358221127900335, 0.028500780816755417, 0.02442924070007607, 0.44108678741421564, 0.048208076023734635, 0.024104038011867317, 0.8677453684272234, 0.024104038011867317, 0.024104038011867317, 0.06212418070056151, 0.06212418070056151, 0.6212418070056152, 0.06212418070056151, 0.06212418070056151, 0.8146799787125758, 0.021899999427757416, 0.02420526252541609, 0.021208420498459814, 0.019364210020332874, 0.025818946693777163, 0.026741051932840633, 0.01590631537384486, 0.012448420727356847, 0.017981052161737666, 0.720136124081063, 0.10287658915443758, 0.1986819460302613, 0.10581566072578553, 0.13765400112115464, 0.09465886413345871, 0.09479263867293505, 0.10017037515988396, 0.07718790927784862, 0.0932408540150095, 0.05538265934320507, 0.042406529014000015, 0.6156426522635098, 0.08363550854754757, 0.08363550854754757, 0.04181775427377379, 0.08363550854754757, 0.16727101709509515, 0.04181775427377379, 0.08363550854754757, 0.37635978846396406, 0.08806972930280217, 0.23033621509963645, 0.006774594561754013, 0.033872972808770066, 0.15581567492034232, 0.013549189123508026, 0.06774594561754013, 0.07452054017929415, 0.32518053896419263, 0.0791467074153297, 0.09180239248789164, 0.12753036496197037, 0.08518249568070539, 0.22322681439526568, 0.10260840051138684, 0.08128843873530171, 0.07612881328264184, 0.05062274029024778, 0.08245665581892282, 0.080274785080192, 0.020068696270048, 0.040137392540096, 0.020068696270048, 0.20068696270047998, 0.080274785080192, 0.040137392540096, 0.020068696270048, 0.44151131794105597, 0.060206088810144, 0.5953169521348558, 0.2938123873401801, 0.5876247746803602, 0.5941776377963077, 0.19805921259876924, 0.013647030687431125, 0.9075275407141697, 0.0034117576718577813, 0.04094109206229337, 0.006823515343715563, 0.006823515343715563, 0.006823515343715563, 0.0034117576718577813, 0.0034117576718577813, 0.0034117576718577813, 0.09361181682247025, 0.09361181682247025, 0.6552827177572917, 0.07379891435836815, 0.5903913148669452, 0.07379891435836815, 0.07379891435836815, 0.07379891435836815, 0.07379891435836815, 0.07379891435836815, 0.0717944425696041, 0.717944425696041, 0.0717944425696041, 0.0717944425696041, 0.18581371400432062, 0.13410281187038336, 0.12804107881493623, 0.09520048572584301, 0.11238780746045235, 0.08237701604343518, 0.08276425206171928, 0.04630449157097089, 0.07061099856480314, 0.06238968002277165, 0.11449057764972116, 0.0563084580861247, 0.10492504273841802, 0.10591118035813998, 0.2448579709769661, 0.0717908187157597, 0.04112193874240631, 0.0906260472524494, 0.09210525368203236, 0.07790487195803593, 0.4040741318496736, 0.20207599983773045, 0.11408073382589548, 0.09056494371868364, 0.06914376485150811, 0.08499370969879323, 0.11388638845310861, 0.08479936432600635, 0.09056494371868364, 0.09741021962684356, 0.052473250652456185, 0.1275457327189045, 0.1148219428096976, 0.12200472743586277, 0.11943944721223235, 0.21794620779964047, 0.05920666756139009, 0.07459834890317261, 0.07552184978367957, 0.04186537324964845, 0.04699593369690929, 0.11501428630919454, 0.12248274645914224, 0.07319090946948743, 0.10007736600929915, 0.32861224659769867, 0.05526660510961296, 0.04331706886969665, 0.053772913079623424, 0.05825398916959204, 0.05227922104963388, 0.5191996511614065, 0.10433075635672277, 0.1664649109932527, 0.1653724423403027, 0.10269205337729781, 0.09272327691912927, 0.041923484556955354, 0.08958242954189809, 0.05489654981073633, 0.15267249424975923, 0.029360095048030624, 0.04707468591669867, 0.08238070035422268, 0.09414937183339735, 0.023537342958349337, 0.5295902165628601, 0.04707468591669867, 0.04707468591669867, 0.05884335739587335, 0.023537342958349337, 0.03530601443752401, 0.5984437684893384, 0.45108946220739365, 0.17609120763287936, 0.17609120763287936, 0.5282736228986381, 0.3217305096482501, 0.1391422500532765, 0.060928976558235676, 0.07559919349854881, 0.06870847862779589, 0.07597562101804366, 0.0942428120335298, 0.0628843083956117, 0.06267518199589234, 0.038134198988825384, 0.06278679817762135, 0.10844992412498233, 0.04566312594736099, 0.022831562973680494, 0.05707890743420123, 0.5879127465722727, 0.04566312594736099, 0.011415781486840247, 0.03424734446052074, 0.022831562973680494, 0.1300986628277418, 0.6365541716928794, 0.04181742733748843, 0.04181742733748843, 0.027878284891658955, 0.01858552326110597, 0.023231904076382464, 0.027878284891658955, 0.04181742733748843, 0.009292761630552985, 0.024040781033103024, 0.16313387129605625, 0.45162324369329254, 0.01888918509743809, 0.0343439729044329, 0.013737589161773157, 0.20949823471704065, 0.01717198645221645, 0.05838475393753592, 0.012020390516551512, 0.03057040239789735, 0.015285201198948675, 0.015285201198948675, 0.657263651554793, 0.10699640839264073, 0.03057040239789735, 0.0611408047957947, 0.045855603596846026, 0.015285201198948675, 0.015285201198948675, 0.4553522010265367, 0.2670199155688986, 0.09547791975050009, 0.29502677202904526, 0.032780752447671695, 0.09993355600552342, 0.05505893372278838, 0.0693806216853634, 0.02800685646014669, 0.030552934320160027, 0.026733817530140022, 0.05918634978256827, 0.03945756652171218, 0.4932195815214023, 0.05918634978256827, 0.03945756652171218, 0.13810148282599263, 0.05918634978256827, 0.03945756652171218, 0.03945756652171218, 0.03945756652171218, 0.7412857216331002, 0.3106339909019943, 0.14824138845848597, 0.08373626270624535, 0.07202605066735739, 0.09234574254328692, 0.0660060120839854, 0.05668732222205343, 0.0672265130570526, 0.06053025096157582, 0.042569094749816676, 0.11833912801530236, 0.11833912801530236, 0.47335651206120943, 0.13206493808129627, 0.42704759180134266, 0.06377494873156615, 0.06603246904064813, 0.06377494873156615, 0.050794206954344716, 0.04119974564074627, 0.0549329941876617, 0.06339869534671914, 0.03687283171500579, 0.17451329351215195, 0.15561552346798255, 0.08544299820918294, 0.173617664600106, 0.08396521050430714, 0.06193273926797694, 0.08996592421501495, 0.09565316780650668, 0.04285584344139836, 0.03645209672026987, 0.14935349470078146, 0.636085865823864, 0.06934269396821997, 0.020002700183140376, 0.021336213528683066, 0.018669186837597683, 0.020002700183140376, 0.020002700183140376, 0.030670806947481907, 0.014668646800969609, 0.8388745448828584, 0.09320828276476203, 0.7057893296076391, 0.0436876808591267, 0.040718615169671485, 0.029902733015227497, 0.024388753877667816, 0.036689168876839415, 0.041354843531697605, 0.022267992670914095, 0.020783459826186488, 0.03456840767008569, 0.052474815939472216, 0.0559731370021037, 0.05947145806473518, 0.11894291612947036, 0.4827683066431444, 0.052474815939472216, 0.05947145806473518, 0.05947145806473518, 0.03148488956368333, 0.02798656850105185, 0.047015550189084696, 0.07052332528362705, 0.047015550189084696, 0.047015550189084696, 0.047015550189084696, 0.6582177026471857, 0.023507775094542348, 0.023507775094542348, 0.023507775094542348, 0.023507775094542348, 0.5333410701967363, 0.060611224485065646, 0.05627511822330356, 0.04741437934057235, 0.044020904874845494, 0.07135722695986732, 0.05712348683973527, 0.029881427934316966, 0.03713969276378828, 0.0628735407955502, 0.2436206539458411, 0.057322506810786135, 0.028661253405393067, 0.07165313351348267, 0.028661253405393067, 0.028661253405393067, 0.028661253405393067, 0.11464501362157227, 0.3725962942701099, 0.014330626702696534, 0.23058853575187446, 0.16207437335981215, 0.10190415564080804, 0.08308408281776021, 0.07472592358818912, 0.09754028679135511, 0.0857564194421809, 0.06821565670529192, 0.04668060358828478, 0.049438227551782725, 0.1098864729280255, 0.659318837568153, 0.1790323834974626, 0.11074208350399815, 0.11121116398477753, 0.10038322288678689, 0.08025185225333858, 0.11171933450562185, 0.08801774021290829, 0.07269444450744861, 0.10121714374150578, 0.0447190058343007, 0.2115019073180796, 0.1092753254529565, 0.10472136189901919, 0.06724026186596127, 0.08589171259556537, 0.09353445142956451, 0.1532507735107598, 0.05472676201340311, 0.06139930861199821, 0.05844913222270839, 0.21116380433883816, 0.6334914130165145, 0.819123677192429, 0.00959161214511041, 0.011509934574132491, 0.08056954201892744, 0.007673289716088327, 0.00959161214511041, 0.013428257003154573, 0.017264901861198736, 0.00959161214511041, 0.0211015467192429, 0.7276595361169012, 0.1602876497859101, 0.07327435418784461, 0.13280976696546834, 0.4625443608107691, 0.02289823568370144, 0.032057529957182015, 0.04121682423066259, 0.027477882820441727, 0.02289823568370144, 0.02289823568370144, 0.09482240141204865, 0.015803733568674774, 0.03160746713734955, 0.03160746713734955, 0.11062613498072342, 0.6479530763156658, 0.03160746713734955, 0.015803733568674774, 0.015803733568674774, 0.015803733568674774, 0.7978649399955015, 0.01751533979689328, 0.01751533979689328, 0.823220970453984, 0.01751533979689328, 0.03503067959378656, 0.01751533979689328, 0.01751533979689328, 0.01751533979689328, 0.052546019390679835, 0.5910972601821608, 0.0917784000001385, 0.05756252519646148, 0.038153195891296246, 0.046804211238741324, 0.04613874851970708, 0.029169449184334045, 0.042922345377708275, 0.025786680362576676, 0.03050037462240252, 0.14652849347356234, 0.08681311428399413, 0.08671275230216292, 0.2026308413172071, 0.08169465321060257, 0.10307175534064968, 0.07617474420988618, 0.11541627910588814, 0.07045411124550736, 0.03051004247668695, 0.8251668742827996, 0.04167509466074745, 0.008335018932149491, 0.07918267985542016, 0.012502528398224235, 0.0041675094660747454, 0.0041675094660747454, 0.012502528398224235, 0.012502528398224235, 0.24025711947844836, 0.10756368366711458, 0.0828672031115888, 0.09405202893823042, 0.10940909969303106, 0.08492123138391322, 0.09867359255096039, 0.05367753571035331, 0.0718428482437225, 0.056758578118839956, 0.2073574604519523, 0.1034348244183508, 0.10328472853673519, 0.09600507827837856, 0.09953233149634517, 0.0833219762818603, 0.11142743011438153, 0.07418488948851062, 0.0805076785015678, 0.04095741369585702, 0.025274882797622675, 0.025274882797622675, 0.18324290028276438, 0.07582464839286802, 0.03159360349702834, 0.42967300755958543, 0.03791232419643401, 0.12637441398811336, 0.03791232419643401, 0.018956162098217006, 0.21718254917425436, 0.12771053882108468, 0.09032809681140658, 0.07415025784421177, 0.09014517235451835, 0.08775252045842034, 0.08410134829893133, 0.07769167532956785, 0.10126697933332257, 0.0496822824908425, 0.20100377993549043, 0.10636635786895131, 0.09616355552620973, 0.09133651542624038, 0.09519900488456398, 0.07886166046095551, 0.11104335675799797, 0.07775992928360904, 0.07679537864196331, 0.06547369755491267, 0.08550372406765347, 0.042751862033826735, 0.07125310338971122, 0.6127766891515165, 0.07125310338971122, 0.042751862033826735, 0.014250620677942246, 0.028501241355884492, 0.014250620677942246, 0.014250620677942246, 0.23092600641371033, 0.1653921645107403, 0.08587906224917811, 0.11135582800672326, 0.06179828365642994, 0.09708573698879844, 0.06797035653782406, 0.05597520756623507, 0.07743204732144815, 0.04617098289495247, 0.10985006294006201, 0.10985006294006201, 0.54925031470031, 0.3285628063689488, 0.13820617777530259, 0.055089270900984456, 0.11549835037749001, 0.0628989131576318, 0.04561973952358629, 0.08091279181233751, 0.06111657320010427, 0.06281727926644733, 0.04926605332982582, 0.5055823349057631, 0.6998565358759706, 0.13997130717519413, 0.14484125328517714, 0.6427991386670635, 0.04757559414476621, 0.02325917935966348, 0.02643088563598123, 0.02643088563598123, 0.02431641478510273, 0.01585853138158874, 0.030659827337738227, 0.019030237657906485, 0.008125453351504995, 0.08125453351504994, 0.6337853614173895, 0.13813270697558488, 0.01625090670300999, 0.06500362681203996, 0.008125453351504995, 0.03250181340601998, 0.01625090670300999, 0.6292633501376734, 0.03636015855853872, 0.031095893178009544, 0.09610344938873029, 0.031218317954300922, 0.02521950391602349, 0.02007766331178569, 0.07382214010369982, 0.02521950391602349, 0.031463167506883674, 0.4961375985635018, 0.12883681371908226, 0.12156816414395773, 0.09576445815226566, 0.07940999660823546, 0.29474374027129957, 0.05833091284037433, 0.08031857780512602, 0.07450365814502641, 0.034707801721219615, 0.03180034189116981, 0.1275207447553183, 0.6801106386950309, 0.04250691491843943, 0.04250691491843943, 0.04250691491843943, 0.04250691491843943, 0.04250691491843943, 0.04250691491843943, 0.07349254601151146, 0.07349254601151146, 0.07349254601151146, 0.07349254601151146, 0.07349254601151146, 0.5879403680920917, 0.06153068310153167, 0.6153068310153167, 0.06153068310153167, 0.06153068310153167, 0.06153068310153167, 0.06153068310153167, 0.6047272945520454, 0.050654106113097244, 0.04081987287696434, 0.04417600009247002, 0.05283949127668233, 0.04651748419631119, 0.057210261603852515, 0.02630267143314911, 0.034575915266721234, 0.04222476333926904, 0.12341170907058766, 0.6170585453529384, 0.8227330866986395, 0.027424436223287985, 0.027424436223287985, 0.027424436223287985, 0.027424436223287985, 0.05484887244657597, 0.1249804312475501, 0.1249804312475501, 0.1249804312475501, 0.4999217249902004, 0.22380845718637346, 0.1582304837181851, 0.11677018878877765, 0.08733016541254725, 0.08400048591279018, 0.0725458741974097, 0.07665976392683928, 0.05574320583377077, 0.06773776557613888, 0.05715735542826219, 0.32088596272112213, 0.10203893353228882, 0.10203893353228882, 0.10203893353228882, 0.10203893353228882, 0.10203893353228882, 0.10203893353228882, 0.5101946676614441, 0.12019641318123665, 0.12019641318123665, 0.12019641318123665, 0.12019641318123665, 0.12019641318123665, 0.36058923954370997, 0.6268165790979732, 0.0316022836747783, 0.8216593755442357, 0.0316022836747783, 0.0316022836747783, 0.0316022836747783, 0.0316022836747783, 0.7562448523217167, 0.09453060654021458, 0.09453060654021458, 0.6523390228942892, 0.10872317048238155, 0.10872317048238155, 0.12443839560839097, 0.6221919780419548, 0.12443839560839097, 0.19925168453663142, 0.03065410531332791, 0.045981157969991866, 0.06130821062665582, 0.03065410531332791, 0.49046568501324656, 0.06130821062665582, 0.015327052656663955, 0.015327052656663955, 0.03065410531332791, 0.6141356191087122, 0.031956889348182214, 0.031956889348182214, 0.6391377869636443, 0.031956889348182214, 0.031956889348182214, 0.031956889348182214, 0.12782755739272886, 0.031956889348182214, 0.06391377869636443, 0.031956889348182214, 0.19067619792924265, 0.07627047917169705, 0.07627047917169705, 0.038135239585848524, 0.038135239585848524, 0.038135239585848524, 0.4194876354443338, 0.038135239585848524, 0.038135239585848524, 0.038135239585848524, 0.021953437628526737, 0.032930156442790105, 0.032930156442790105, 0.18660421984247727, 0.043906875257053474, 0.06586031288558021, 0.043906875257053474, 0.42809203375627136, 0.09879046932837031, 0.032930156442790105, 0.23057992393410004, 0.3526967698765775, 0.053080940572986436, 0.07348488593774712, 0.050779743727336735, 0.048325133758643724, 0.07087686284601079, 0.032830408331269066, 0.051546809342553304, 0.03559184454604871, 0.19784434746618756, 0.10649646394806825, 0.09345518928644868, 0.13714957386520724, 0.07048664827993248, 0.09785323469309666, 0.08729050101288001, 0.0894414815121592, 0.059157423071546276, 0.06082579779382983, 0.24793171184840423, 0.13182637865314312, 0.12680120556300523, 0.09350198546175549, 0.08614298692461679, 0.061801684071004184, 0.08182292705463659, 0.06640974793231641, 0.05618064065397247, 0.04758024560247165, 0.2353892991650571, 0.12663804159231387, 0.09211012554147782, 0.07923514444360406, 0.10102432258278725, 0.07985797043775668, 0.0749045574530116, 0.07465153439288709, 0.08662147146800783, 0.04957305647208537, 0.1474942485422426, 0.44248274562672785, 0.1474942485422426, 0.1474942485422426, 0.262283491408771, 0.14310492460909113, 0.091701968052487, 0.08479032877999725, 0.08822726415593478, 0.060278558901058175, 0.10688491333959564, 0.0637154942769957, 0.04605871088962434, 0.05297035016211409, 0.7126292017682914, 0.07561620071024196, 0.07561620071024196, 0.15123240142048391, 0.07561620071024196, 0.5293134049716938, 0.21805691819732126, 0.1489130368330403, 0.08425755061970866, 0.0760202670703692, 0.09230995748090835, 0.10692548677107053, 0.09086175675714667, 0.05960732553440352, 0.06614990610912826, 0.05689580077501995, 0.7951233796909323, 0.08439467451105509, 0.018831869518995764, 0.01255457967933051, 0.018831869518995764, 0.01673943957244068, 0.017436916221292374, 0.01255457967933051, 0.01255457967933051, 0.010462149732775424, 0.06431168201700618, 0.9003635482380865, 0.6711964493236735, 0.04288915630539093, 0.04288915630539093, 0.04288915630539093, 0.04288915630539093, 0.04288915630539093, 0.6004481882754731, 0.04288915630539093, 0.04288915630539093, 0.04288915630539093, 0.7940610795430865, 0.6628178669336168, 0.8258334609194253, 0.05531898781278447, 0.011854068817025245, 0.02370813763405049, 0.011854068817025245, 0.011854068817025245, 0.02370813763405049, 0.02370813763405049, 0.007902712544683495, 0.011854068817025245, 0.1981053659009353, 0.08353379065068452, 0.11792442235205579, 0.11212878664750715, 0.10166311390830154, 0.059058006807508036, 0.1188105319432471, 0.05874667100519757, 0.10803352340173104, 0.04203033331191265, 0.26042445202801856, 0.1102180414770212, 0.124425897896715, 0.08307230463045542, 0.09139064738343815, 0.07237275689093182, 0.08251669013359589, 0.07035667000232723, 0.06613399982619478, 0.039083511179090626, 0.269605072166787, 0.1691166725440214, 0.07798831014429823, 0.0861903427621822, 0.06602426256561454, 0.08495433784683172, 0.07942231584705922, 0.05934623600840543, 0.05538022023633426, 0.05196620665946815, 0.4806003325419877, 0.1394244047482882, 0.11958168511599561, 0.12767773026128268, 0.10526205784571248, 0.1121861297336951, 0.09751625758191869, 0.08380282337575855, 0.07045310500807221, 0.09544173020692, 0.04867056757058602, 0.20136241377368144, 0.19665090365493043, 0.10413894530517666, 0.09050835224255296, 0.07763062935354412, 0.07043586196859576, 0.09662845817000272, 0.049416212443961806, 0.07012014221837018, 0.043095745905791974, 0.17500039169319762, 0.10541113910893293, 0.1483323092208296, 0.08706284743076668, 0.09949167915511212, 0.08264867969887968, 0.09882040019127677, 0.057567256595577036, 0.08488627624499752, 0.060781258907273567, 0.07733216312458488, 0.07733216312458488, 0.15466432624916976, 0.618657304996679, 0.810238186836871, 0.1795773716416296, 0.09688586743535658, 0.10388966508128597, 0.11238760622501363, 0.09282366480071753, 0.06994459249068152, 0.0896486098678962, 0.10944601121372328, 0.07143873598847979, 0.07391341115670817, 0.8090892286628052, 0.04759348403898854, 0.04759348403898854, 0.22128330623788137, 0.044256661247576275, 0.044256661247576275, 0.1770266449903051, 0.029504440831717514, 0.029504440831717514, 0.3835577308123277, 0.029504440831717514, 0.029504440831717514, 0.029504440831717514, 0.7034304947312694, 0.17513994735850963, 0.6762347967453567, 0.06324498099057292, 0.014594995613209136, 0.009729997075472757, 0.014594995613209136, 0.009729997075472757, 0.014594995613209136, 0.014594995613209136, 0.009729997075472757], \"Term\": [\"abbas\", \"abbas\", \"abbas\", \"abbas\", \"abbas\", \"abbas\", \"abbas\", \"abbas\", \"abbas\", \"abbas\", \"accosting\", \"accosting\", \"actually\", \"actually\", \"actually\", \"actually\", \"actually\", \"actually\", \"actually\", \"actually\", \"actually\", \"actually\", \"african\", \"african\", \"african\", \"african\", \"african\", \"african\", \"african\", \"african\", \"african\", \"african\", \"agata\", \"agata\", \"agata\", \"agata\", \"agata\", \"agata\", \"agata\", \"agata\", \"agata\", \"agata\", \"al\", \"al\", \"al\", \"al\", \"al\", \"al\", \"al\", \"al\", \"al\", \"al\", \"alemseged\", \"alemseged\", \"alemseged\", \"alemseged\", \"alemseged\", \"alemseged\", \"alemseged\", \"alemseged\", \"alemseged\", \"alemseged\", \"algiers\", \"algiers\", \"algiers\", \"algiers\", \"algiers\", \"algiers\", \"algiers\", \"algiers\", \"algiers\", \"algiers\", \"also\", \"also\", \"also\", \"also\", \"also\", \"also\", \"also\", \"also\", \"also\", \"also\", \"american\", \"american\", \"american\", \"american\", \"american\", \"american\", \"american\", \"american\", \"american\", \"american\", \"amish\", \"amish\", \"amish\", \"amish\", \"amish\", \"amish\", \"amish\", \"amish\", \"amish\", \"amish\", \"angiogram\", \"angiogram\", \"anja\", \"anja\", \"anja\", \"annan\", \"annan\", \"annan\", \"annan\", \"annan\", \"annan\", \"annan\", \"annan\", \"annan\", \"annan\", \"anwyl\", \"anwyl\", \"arafat\", \"arafat\", \"arafat\", \"arafat\", \"arafat\", \"arafat\", \"arafat\", \"arafat\", \"arafat\", \"arafat\", \"armitage\", \"armitage\", \"armitage\", \"armitage\", \"armitage\", \"armitage\", \"armitage\", \"armitage\", \"armitage\", \"armitage\", \"around\", \"around\", \"around\", \"around\", \"around\", \"around\", \"around\", \"around\", \"around\", \"around\", \"asr\", \"atlantis\", \"atlantis\", \"atlantis\", \"atlantis\", \"atlantis\", \"atlantis\", \"atlantis\", \"atlantis\", \"atlantis\", \"atlantis\", \"autism\", \"autism\", \"autism\", \"autism\", \"autism\", \"autism\", \"autism\", \"autism\", \"autism\", \"autism\", \"autistics\", \"autistics\", \"automaker\", \"automaker\", \"automaker\", \"automaker\", \"automaker\", \"automaker\", \"automaker\", \"automaker\", \"automaker\", \"automaker\", \"azzam\", \"azzam\", \"azzam\", \"azzam\", \"azzam\", \"azzam\", \"azzam\", \"azzam\", \"azzam\", \"azzam\", \"baathification\", \"baathification\", \"baathification\", \"baathification\", \"baathification\", \"baathification\", \"baathification\", \"baathification\", \"baathification\", \"baathification\", \"back\", \"back\", \"back\", \"back\", \"back\", \"back\", \"back\", \"back\", \"back\", \"back\", \"backes\", \"badawi\", \"badawi\", \"bagelgate\", \"baghdad\", \"baghdad\", \"baghdad\", \"baghdad\", \"baghdad\", \"baghdad\", \"baghdad\", \"baghdad\", \"baghdad\", \"baghdad\", \"balsam\", \"balsam\", \"balsam\", \"bamboo\", \"bamboo\", \"bamboo\", \"bamboo\", \"bamboo\", \"bamboo\", \"bamboo\", \"bamboo\", \"bamboo\", \"bamboo\", \"bank\", \"bank\", \"bank\", \"bank\", \"bank\", \"bank\", \"bank\", \"bank\", \"bank\", \"bank\", \"barbaro\", \"barbaro\", \"barbaro\", \"barbaro\", \"barbaro\", \"barbaro\", \"barbaro\", \"barbaro\", \"barbaro\", \"barbaro\", \"barstow\", \"barstow\", \"barstow\", \"barstow\", \"barstow\", \"barstow\", \"barstow\", \"bartholomew\", \"bartholomew\", \"bartholomew\", \"bartholomew\", \"bartholomew\", \"bartholomew\", \"bartholomew\", \"bartholomew\", \"bartholomew\", \"bartholomew\", \"baseball\", \"baseball\", \"baseball\", \"baseball\", \"baseball\", \"baseball\", \"baseball\", \"baseball\", \"baseball\", \"baseball\", \"bastet\", \"batik\", \"beech\", \"beech\", \"beech\", \"beech\", \"beech\", \"beech\", \"beech\", \"beech\", \"beech\", \"behravesh\", \"behravesh\", \"behravesh\", \"behravesh\", \"behravesh\", \"behravesh\", \"behravesh\", \"behravesh\", \"behravesh\", \"behravesh\", \"beilin\", \"beilin\", \"beilin\", \"belgrade\", \"belgrade\", \"belgrade\", \"belgrade\", \"belgrade\", \"belgrade\", \"belgrade\", \"belgrade\", \"belgrade\", \"belgrade\", \"bellflower\", \"berlin\", \"berlin\", \"berlin\", \"berlin\", \"berlin\", \"berlin\", \"berlin\", \"berlin\", \"berlin\", \"berlin\", \"berlusconi\", \"berlusconi\", \"berlusconi\", \"berlusconi\", \"berlusconi\", \"berlusconi\", \"berlusconi\", \"berlusconi\", \"berlusconi\", \"berlusconi\", \"bernanke\", \"bernanke\", \"bernanke\", \"bernanke\", \"bernanke\", \"bernanke\", \"bernanke\", \"bernanke\", \"bernanke\", \"bernanke\", \"bevilacqua\", \"bevilacqua\", \"bhalla\", \"bhalla\", \"bitcoins\", \"bitcoins\", \"bitcoins\", \"bitcoins\", \"bitcoins\", \"bitcoins\", \"bitcoins\", \"bitcoins\", \"bitcoins\", \"black\", \"black\", \"black\", \"black\", \"black\", \"black\", \"black\", \"black\", \"black\", \"black\", \"blacksburg\", \"blacksburg\", \"blacksburg\", \"blacksburg\", \"blacksburg\", \"blacksburg\", \"blacksburg\", \"blacksburg\", \"blacksburg\", \"blacksburg\", \"blackstone\", \"blackstone\", \"blackstone\", \"blackstone\", \"blackstone\", \"blackstone\", \"blackstone\", \"blackstone\", \"blackstone\", \"blackstone\", \"bleh\", \"boice\", \"book\", \"book\", \"book\", \"book\", \"book\", \"book\", \"book\", \"book\", \"book\", \"book\", \"borat\", \"borat\", \"borat\", \"borat\", \"borat\", \"borat\", \"borat\", \"borat\", \"borat\", \"borat\", \"bosnian\", \"bosnian\", \"bosnian\", \"bosnian\", \"bosnian\", \"bosnian\", \"bosnian\", \"bosnian\", \"bosnian\", \"bosnian\", \"brain\", \"brain\", \"brain\", \"brain\", \"brain\", \"brain\", \"brain\", \"brain\", \"brain\", \"brain\", \"bratz\", \"bratz\", \"bratz\", \"breast\", \"breast\", \"breast\", \"breast\", \"breast\", \"breast\", \"breast\", \"breast\", \"breast\", \"breast\", \"brechtefeld\", \"brownie\", \"brownie\", \"brownie\", \"brownie\", \"brownie\", \"brownie\", \"brownie\", \"brownie\", \"brownie\", \"brownie\", \"brusselkale\", \"bulger\", \"bulger\", \"bulger\", \"bulger\", \"bulger\", \"bulger\", \"bulger\", \"bulger\", \"bulger\", \"bulger\", \"bunga\", \"bunga\", \"bunga\", \"burbage\", \"burd\", \"burd\", \"bush\", \"bush\", \"bush\", \"bush\", \"bush\", \"bush\", \"bush\", \"bush\", \"bush\", \"bush\", \"cabernet\", \"cabernet\", \"cabernet\", \"cabernet\", \"cabernet\", \"cabernet\", \"cable\", \"cable\", \"cable\", \"cable\", \"cable\", \"cable\", \"cable\", \"cable\", \"cable\", \"cable\", \"callery\", \"camaro\", \"camaro\", \"camaro\", \"camaro\", \"camaro\", \"camaro\", \"camaro\", \"camaro\", \"camaro\", \"camry\", \"camry\", \"camry\", \"camry\", \"camry\", \"camry\", \"camry\", \"camry\", \"camry\", \"camry\", \"camus\", \"camus\", \"camus\", \"camus\", \"camus\", \"camus\", \"camus\", \"camus\", \"camus\", \"camus\", \"cancer\", \"cancer\", \"cancer\", \"cancer\", \"cancer\", \"cancer\", \"cancer\", \"cancer\", \"cancer\", \"cancer\", \"car\", \"car\", \"car\", \"car\", \"car\", \"car\", \"car\", \"car\", \"car\", \"car\", \"carawan\", \"carbon\", \"carbon\", \"carbon\", \"carbon\", \"carbon\", \"carbon\", \"carbon\", \"carbon\", \"carbon\", \"carbon\", \"carmaker\", \"carmaker\", \"carmaker\", \"carmaker\", \"carmaker\", \"carmaker\", \"carmaker\", \"carmaker\", \"carmaker\", \"carmaker\", \"carpool\", \"carpool\", \"carpool\", \"carpool\", \"carpool\", \"carpool\", \"carpool\", \"carpool\", \"carpool\", \"carpool\", \"carsten\", \"carsten\", \"carsten\", \"cassiday\", \"ceasefire\", \"ceasefire\", \"ceasefire\", \"ceasefire\", \"ceasefire\", \"ceasefire\", \"ceasefire\", \"ceasefire\", \"ceasefire\", \"ceasefire\", \"cell\", \"cell\", \"cell\", \"cell\", \"cell\", \"cell\", \"cell\", \"cell\", \"cell\", \"cell\", \"chambray\", \"cheetos\", \"cheetos\", \"cheetos\", \"cheetos\", \"cheetos\", \"cheetos\", \"cheetos\", \"cheetos\", \"cheetos\", \"cheetos\", \"chestnut\", \"chestnut\", \"chestnut\", \"chestnut\", \"chestnut\", \"chestnut\", \"chestnut\", \"chestnut\", \"chestnut\", \"chestnut\", \"cheuse\", \"cheuse\", \"cheuse\", \"cheuse\", \"child\", \"child\", \"child\", \"child\", \"child\", \"child\", \"child\", \"child\", \"child\", \"child\", \"china\", \"china\", \"china\", \"china\", \"china\", \"china\", \"china\", \"china\", \"china\", \"china\", \"cholesterol\", \"cholesterol\", \"cholesterol\", \"cholesterol\", \"cholesterol\", \"cholesterol\", \"cholesterol\", \"cholesterol\", \"cholesterol\", \"cholesterol\", \"christoffersen\", \"chrysler\", \"chrysler\", \"chrysler\", \"chrysler\", \"chrysler\", \"chrysler\", \"chrysler\", \"chrysler\", \"chrysler\", \"chrysler\", \"city\", \"city\", \"city\", \"city\", \"city\", \"city\", \"city\", \"city\", \"city\", \"city\", \"climate\", \"climate\", \"climate\", \"climate\", \"climate\", \"climate\", \"climate\", \"climate\", \"climate\", \"climate\", \"codrescu\", \"codrescu\", \"codrescu\", \"college\", \"college\", \"college\", \"college\", \"college\", \"college\", \"college\", \"college\", \"college\", \"college\", \"colt\", \"colt\", \"colt\", \"colt\", \"colt\", \"colt\", \"colt\", \"colt\", \"colt\", \"colt\", \"come\", \"come\", \"come\", \"come\", \"come\", \"come\", \"come\", \"come\", \"come\", \"come\", \"company\", \"company\", \"company\", \"company\", \"company\", \"company\", \"company\", \"company\", \"company\", \"company\", \"congress\", \"congress\", \"congress\", \"congress\", \"congress\", \"congress\", \"congress\", \"congress\", \"congress\", \"congress\", \"consistory\", \"consistory\", \"consistory\", \"consistory\", \"consumer\", \"consumer\", \"consumer\", \"consumer\", \"consumer\", \"consumer\", \"consumer\", \"consumer\", \"consumer\", \"consumer\", \"could\", \"could\", \"could\", \"could\", \"could\", \"could\", \"could\", \"could\", \"could\", \"could\", \"country\", \"country\", \"country\", \"country\", \"country\", \"country\", \"country\", \"country\", \"country\", \"country\", \"couper\", \"couper\", \"couper\", \"cpi\", \"cpi\", \"cpi\", \"cpi\", \"cpi\", \"cpi\", \"cpi\", \"cpi\", \"cpi\", \"cpi\", \"crestor\", \"crestor\", \"crestor\", \"crestor\", \"crestor\", \"crestor\", \"crestor\", \"crestor\", \"crestor\", \"crossbreed\", \"daimler\", \"daimler\", \"daimler\", \"daimler\", \"daimler\", \"daimler\", \"daimler\", \"daimler\", \"daimler\", \"daimler\", \"danziger\", \"danziger\", \"danziger\", \"danziger\", \"danziger\", \"danziger\", \"danziger\", \"day\", \"day\", \"day\", \"day\", \"day\", \"day\", \"day\", \"day\", \"day\", \"day\", \"decal\", \"decal\", \"decal\", \"decal\", \"decal\", \"decal\", \"decal\", \"decanter\", \"deet\", \"deet\", \"deet\", \"deet\", \"deet\", \"deet\", \"deet\", \"deet\", \"deet\", \"deet\", \"delgadillo\", \"delirium\", \"delirium\", \"delirium\", \"delirium\", \"delirium\", \"delirium\", \"delirium\", \"delirium\", \"delirium\", \"delirium\", \"delphi\", \"delphi\", \"delphi\", \"delphi\", \"delphi\", \"delphi\", \"delphi\", \"delphi\", \"delphi\", \"delphi\", \"democrat\", \"democrat\", \"democrat\", \"democrat\", \"democrat\", \"democrat\", \"democrat\", \"democrat\", \"democrat\", \"democrat\", \"densmore\", \"densmore\", \"densmore\", \"densmore\", \"derby\", \"derby\", \"derby\", \"derby\", \"derby\", \"derby\", \"derby\", \"derby\", \"derby\", \"derby\", \"deslauriers\", \"deslauriers\", \"deslauriers\", \"detainee\", \"detainee\", \"detainee\", \"detainee\", \"detainee\", \"detainee\", \"detainee\", \"detainee\", \"detainee\", \"detainee\", \"dha\", \"dha\", \"dha\", \"dinardo\", \"dinardo\", \"dinardo\", \"dinardo\", \"dinardo\", \"dinardo\", \"dinerral\", \"dinerral\", \"disease\", \"disease\", \"disease\", \"disease\", \"disease\", \"disease\", \"disease\", \"disease\", \"disease\", \"disease\", \"doe\", \"doe\", \"doe\", \"doe\", \"doe\", \"doe\", \"doe\", \"doe\", \"doe\", \"doe\", \"doh\", \"doh\", \"doh\", \"doh\", \"doh\", \"doh\", \"dow\", \"dow\", \"dow\", \"dow\", \"dow\", \"dow\", \"dow\", \"dow\", \"dow\", \"dow\", \"duelfer\", \"duelfer\", \"duelfer\", \"duelfer\", \"duelfer\", \"duelfer\", \"duelfer\", \"duelfer\", \"duelfer\", \"duelfer\", \"dujiangyan\", \"dujiangyan\", \"dujiangyan\", \"dujiangyan\", \"dujiangyan\", \"dujiangyan\", \"dum\", \"dum\", \"dum\", \"dum\", \"dum\", \"dum\", \"dum\", \"dum\", \"dum\", \"dum\", \"dunks\", \"dunks\", \"dunks\", \"dunks\", \"dunks\", \"dunks\", \"ebola\", \"ebola\", \"ebola\", \"ebola\", \"ebola\", \"ebola\", \"ebola\", \"ebola\", \"ebola\", \"ebola\", \"economy\", \"economy\", \"economy\", \"economy\", \"economy\", \"economy\", \"economy\", \"economy\", \"economy\", \"economy\", \"efraim\", \"eggo\", \"eilidh\", \"elm\", \"elm\", \"elm\", \"elm\", \"elm\", \"elm\", \"elm\", \"elm\", \"elm\", \"elm\", \"embryo\", \"embryo\", \"embryo\", \"embryo\", \"embryo\", \"embryo\", \"embryo\", \"embryo\", \"embryo\", \"embryo\", \"embryonic\", \"embryonic\", \"embryonic\", \"embryonic\", \"embryonic\", \"embryonic\", \"embryonic\", \"embryonic\", \"embryonic\", \"embryonic\", \"enron\", \"enron\", \"enron\", \"enron\", \"enron\", \"enron\", \"enron\", \"enron\", \"enron\", \"enron\", \"enterovirus\", \"enterovirus\", \"enterovirus\", \"enterovirus\", \"enthralling\", \"enthralling\", \"enthralling\", \"enthralling\", \"enthralling\", \"even\", \"even\", \"even\", \"even\", \"even\", \"even\", \"even\", \"even\", \"even\", \"even\", \"fairview\", \"fairview\", \"fairview\", \"fairview\", \"falkirk\", \"falun\", \"falun\", \"falun\", \"falun\", \"falun\", \"falun\", \"falun\", \"falun\", \"falun\", \"falun\", \"family\", \"family\", \"family\", \"family\", \"family\", \"family\", \"family\", \"family\", \"family\", \"family\", \"farrakhan\", \"farrakhan\", \"farrakhan\", \"farrakhan\", \"farrakhan\", \"farrakhan\", \"farrakhan\", \"farrakhan\", \"farrakhan\", \"farrakhan\", \"fastow\", \"fastow\", \"fastow\", \"fastow\", \"fastow\", \"fastow\", \"fastow\", \"fastow\", \"fastow\", \"fat\", \"fat\", \"fat\", \"fat\", \"fat\", \"fat\", \"fat\", \"fat\", \"fat\", \"fat\", \"fatah\", \"fatah\", \"fatah\", \"fatah\", \"fatah\", \"fatah\", \"fatah\", \"fatah\", \"fatah\", \"fatah\", \"fatberg\", \"fatberg\", \"fathi\", \"fathi\", \"fathi\", \"fathi\", \"fats\", \"fats\", \"fats\", \"fats\", \"fats\", \"fats\", \"fats\", \"fats\", \"fats\", \"fats\", \"fatsis\", \"fatsis\", \"fatsis\", \"fatsis\", \"fatsis\", \"fatsis\", \"fatsis\", \"fatsis\", \"fatsis\", \"fatsis\", \"film\", \"film\", \"film\", \"film\", \"film\", \"film\", \"film\", \"film\", \"film\", \"film\", \"finnerty\", \"finnerty\", \"first\", \"first\", \"first\", \"first\", \"first\", \"first\", \"first\", \"first\", \"first\", \"first\", \"fish\", \"fish\", \"fish\", \"fish\", \"fish\", \"fish\", \"fish\", \"fish\", \"fish\", \"fish\", \"fitzgerald\", \"fitzgerald\", \"fitzgerald\", \"fitzgerald\", \"fitzgerald\", \"fitzgerald\", \"fitzgerald\", \"fitzgerald\", \"fitzgerald\", \"fitzgerald\", \"fleischman\", \"fleischman\", \"fleischman\", \"fleischman\", \"fogel\", \"fogel\", \"fogel\", \"food\", \"food\", \"food\", \"food\", \"food\", \"food\", \"food\", \"food\", \"food\", \"food\", \"force\", \"force\", \"force\", \"force\", \"force\", \"force\", \"force\", \"force\", \"force\", \"force\", \"foreign\", \"foreign\", \"foreign\", \"foreign\", \"foreign\", \"foreign\", \"foreign\", \"foreign\", \"foreign\", \"foreign\", \"freund\", \"freund\", \"freund\", \"frito\", \"frito\", \"frito\", \"frito\", \"frito\", \"frito\", \"frolic\", \"frolic\", \"frolic\", \"frolic\", \"fuel\", \"fuel\", \"fuel\", \"fuel\", \"fuel\", \"fuel\", \"fuel\", \"fuel\", \"fuel\", \"fuel\", \"gadahn\", \"gadahn\", \"gadahn\", \"gadahn\", \"gadahn\", \"gadahn\", \"gadahn\", \"gadahn\", \"gadahn\", \"gadahn\", \"gaffney\", \"gaffney\", \"gaffney\", \"gaffney\", \"gaffney\", \"gaffney\", \"gaffney\", \"gaffney\", \"gaily\", \"gaily\", \"gaither\", \"gaither\", \"galentine\", \"galentine\", \"gallaudet\", \"gallaudet\", \"gallaudet\", \"gallaudet\", \"gallaudet\", \"gallaudet\", \"gallaudet\", \"gallaudet\", \"gallaudet\", \"gallaudet\", \"gallon\", \"gallon\", \"gallon\", \"gallon\", \"gallon\", \"gallon\", \"gallon\", \"gallon\", \"gallon\", \"gallon\", \"ganges\", \"ganges\", \"ganges\", \"ganges\", \"ganges\", \"ganges\", \"ganges\", \"ganges\", \"ganges\", \"ganges\", \"gannett\", \"gannett\", \"gannett\", \"gannett\", \"gannett\", \"gannett\", \"gas\", \"gas\", \"gas\", \"gas\", \"gas\", \"gas\", \"gas\", \"gas\", \"gas\", \"gas\", \"gasoline\", \"gasoline\", \"gasoline\", \"gasoline\", \"gasoline\", \"gasoline\", \"gasoline\", \"gasoline\", \"gasoline\", \"gasoline\", \"gaza\", \"gaza\", \"gaza\", \"gaza\", \"gaza\", \"gaza\", \"gaza\", \"gaza\", \"gaza\", \"gaza\", \"geant\", \"georgie\", \"georgie\", \"georgie\", \"georgie\", \"georgie\", \"georgie\", \"georgie\", \"georgie\", \"georgie\", \"georgie\", \"get\", \"get\", \"get\", \"get\", \"get\", \"get\", \"get\", \"get\", \"get\", \"get\", \"gid\", \"gid\", \"gluten\", \"gluten\", \"gluten\", \"gluten\", \"gluten\", \"gluten\", \"gluten\", \"gluten\", \"gluten\", \"gluten\", \"gm\", \"gm\", \"gm\", \"gm\", \"gm\", \"gm\", \"gm\", \"gm\", \"gm\", \"gm\", \"gnocchi\", \"gnocchi\", \"gnocchi\", \"go\", \"go\", \"go\", \"go\", \"go\", \"go\", \"go\", \"go\", \"go\", \"go\", \"going\", \"going\", \"going\", \"going\", \"going\", \"going\", \"going\", \"going\", \"going\", \"going\", \"golombek\", \"golombek\", \"golombek\", \"golombek\", \"golombek\", \"golombek\", \"golombek\", \"gong\", \"gong\", \"gong\", \"gong\", \"gong\", \"gong\", \"gong\", \"gong\", \"gong\", \"gong\", \"good\", \"good\", \"good\", \"good\", \"good\", \"good\", \"good\", \"good\", \"good\", \"good\", \"gorilla\", \"gorilla\", \"gorilla\", \"gorilla\", \"gorilla\", \"gorilla\", \"gorilla\", \"gorilla\", \"gorilla\", \"gorilla\", \"got\", \"got\", \"got\", \"got\", \"got\", \"got\", \"got\", \"got\", \"got\", \"got\", \"government\", \"government\", \"government\", \"government\", \"government\", \"government\", \"government\", \"government\", \"government\", \"government\", \"granta\", \"gras\", \"gras\", \"gras\", \"gras\", \"gras\", \"gras\", \"gras\", \"gras\", \"gras\", \"gras\", \"greensburg\", \"greensburg\", \"greensburg\", \"greensburg\", \"greensburg\", \"greensburg\", \"greensburg\", \"greensburg\", \"greensburg\", \"greensburg\", \"grippers\", \"grippers\", \"groaner\", \"grohl\", \"grubby\", \"grubby\", \"gunslinger\", \"gunslinger\", \"gunslinger\", \"gunslinger\", \"gunslinger\", \"gunslinger\", \"gunslinger\", \"gunslinger\", \"gunslinger\", \"gunslinger\", \"gurbanguly\", \"gutman\", \"gutman\", \"gutman\", \"gutman\", \"gutman\", \"gutman\", \"gutman\", \"gutman\", \"gutman\", \"gutman\", \"ha\", \"ha\", \"ha\", \"ha\", \"ha\", \"ha\", \"ha\", \"ha\", \"ha\", \"ha\", \"hackworth\", \"hackworth\", \"hackworth\", \"hadian\", \"haggard\", \"haggard\", \"haggard\", \"haggard\", \"haggard\", \"haggard\", \"haggard\", \"haggard\", \"haggard\", \"haggard\", \"halabja\", \"halabja\", \"halabja\", \"halabja\", \"halabja\", \"hallyday\", \"hallyday\", \"hallyday\", \"hallyday\", \"hallyday\", \"hallyday\", \"hallyday\", \"hallyday\", \"hamas\", \"hamas\", \"hamas\", \"hamas\", \"hamas\", \"hamas\", \"hamas\", \"hamas\", \"hamas\", \"hamas\", \"haniyeh\", \"haniyeh\", \"haniyeh\", \"haniyeh\", \"haniyeh\", \"haniyeh\", \"hasna\", \"hasna\", \"haya\", \"haya\", \"haya\", \"hematogen\", \"hempels\", \"hendren\", \"hendren\", \"hendren\", \"hendren\", \"hendren\", \"hendren\", \"hersh\", \"hersh\", \"hersh\", \"hersh\", \"hersh\", \"hersh\", \"hersh\", \"hersh\", \"hersh\", \"hersh\", \"hezbollah\", \"hezbollah\", \"hezbollah\", \"hezbollah\", \"hezbollah\", \"hezbollah\", \"hezbollah\", \"hezbollah\", \"hezbollah\", \"hezbollah\", \"hgh\", \"hgh\", \"hgh\", \"hgh\", \"hgh\", \"hgh\", \"hgh\", \"hgh\", \"hgh\", \"hgh\", \"hilde\", \"hirsi\", \"hirsi\", \"hirsi\", \"hirsi\", \"hirsi\", \"hirsi\", \"hirsi\", \"hirsi\", \"hirsi\", \"hirsi\", \"hiv\", \"hiv\", \"hiv\", \"hiv\", \"hiv\", \"hiv\", \"hiv\", \"hiv\", \"hiv\", \"hiv\", \"hochstedler\", \"hoke\", \"hoke\", \"hoke\", \"hoke\", \"honda\", \"honda\", \"honda\", \"honda\", \"honda\", \"honda\", \"honda\", \"honda\", \"honda\", \"honda\", \"honker\", \"honker\", \"house\", \"house\", \"house\", \"house\", \"house\", \"house\", \"house\", \"house\", \"house\", \"house\", \"howley\", \"howley\", \"hp\", \"hp\", \"hp\", \"hp\", \"hp\", \"hp\", \"hp\", \"hp\", \"hp\", \"hp\", \"hulu\", \"hulu\", \"hulu\", \"hulu\", \"hulu\", \"hulu\", \"hulu\", \"hulu\", \"hulu\", \"hulu\", \"hummus\", \"hummus\", \"hummus\", \"hummus\", \"hummus\", \"hummus\", \"hummus\", \"hummus\", \"hummus\", \"hummus\", \"hybrid\", \"hybrid\", \"hybrid\", \"hybrid\", \"hybrid\", \"hybrid\", \"hybrid\", \"hybrid\", \"hybrid\", \"hybrid\", \"hydrogenated\", \"hydrogenated\", \"hydrogenated\", \"hydrogenated\", \"hydrogenated\", \"iavarone\", \"icann\", \"icann\", \"icann\", \"icann\", \"icann\", \"icann\", \"ice\", \"ice\", \"ice\", \"ice\", \"ice\", \"ice\", \"ice\", \"ice\", \"ice\", \"ice\", \"ifying\", \"ifying\", \"inflation\", \"inflation\", \"inflation\", \"inflation\", \"inflation\", \"inflation\", \"inflation\", \"inflation\", \"inflation\", \"inflation\", \"insurance\", \"insurance\", \"insurance\", \"insurance\", \"insurance\", \"insurance\", \"insurance\", \"insurance\", \"insurance\", \"insurance\", \"insurgent\", \"insurgent\", \"insurgent\", \"insurgent\", \"insurgent\", \"insurgent\", \"insurgent\", \"insurgent\", \"insurgent\", \"insurgent\", \"investor\", \"investor\", \"investor\", \"investor\", \"investor\", \"investor\", \"investor\", \"investor\", \"investor\", \"investor\", \"iran\", \"iran\", \"iran\", \"iran\", \"iran\", \"iran\", \"iran\", \"iran\", \"iran\", \"iran\", \"iraq\", \"iraq\", \"iraq\", \"iraq\", \"iraq\", \"iraq\", \"iraq\", \"iraq\", \"iraq\", \"iraq\", \"iraqi\", \"iraqi\", \"iraqi\", \"iraqi\", \"iraqi\", \"iraqi\", \"iraqi\", \"iraqi\", \"iraqi\", \"iraqi\", \"irvington\", \"irvington\", \"irvington\", \"irvington\", \"irvington\", \"irvington\", \"irvington\", \"israel\", \"israel\", \"israel\", \"israel\", \"israel\", \"israel\", \"israel\", \"israel\", \"israel\", \"israel\", \"issac\", \"issac\", \"issac\", \"izola\", \"izola\", \"izola\", \"izola\", \"jalal\", \"jalal\", \"jalal\", \"jalal\", \"jalal\", \"jalal\", \"jalal\", \"jalal\", \"jalal\", \"jalal\", \"jameelah\", \"jameelah\", \"jameelah\", \"jameelah\", \"jameelah\", \"jameelah\", \"jameelah\", \"jameelah\", \"jeni\", \"jeni\", \"jeni\", \"jeni\", \"jeni\", \"jeni\", \"jeni\", \"jenkinson\", \"jianli\", \"juwone\", \"juwone\", \"kaljulaid\", \"kaljulaid\", \"karadzic\", \"karadzic\", \"karadzic\", \"karadzic\", \"karadzic\", \"karadzic\", \"karadzic\", \"karadzic\", \"karadzic\", \"karadzic\", \"kaur\", \"kaur\", \"kaur\", \"kaur\", \"kaur\", \"kaur\", \"kaur\", \"kaur\", \"kaur\", \"kelemen\", \"kelemen\", \"kelemen\", \"kelemen\", \"kelemen\", \"kelemen\", \"kelemen\", \"kelemen\", \"kelemen\", \"kelemen\", \"kempthorne\", \"kempthorne\", \"kempthorne\", \"kempthorne\", \"kempthorne\", \"kerkorian\", \"kerkorian\", \"kerkorian\", \"khadr\", \"khadr\", \"khadr\", \"khadr\", \"khadr\", \"khadr\", \"khalilzad\", \"khalilzad\", \"khalilzad\", \"khalilzad\", \"khalilzad\", \"khalilzad\", \"khalilzad\", \"khalilzad\", \"khalilzad\", \"khalilzad\", \"kicker\", \"kicker\", \"kicker\", \"kicker\", \"kicker\", \"kicker\", \"kicker\", \"kicker\", \"kicker\", \"kicker\", \"kid\", \"kid\", \"kid\", \"kid\", \"kid\", \"kid\", \"kid\", \"kid\", \"kid\", \"kid\", \"kind\", \"kind\", \"kind\", \"kind\", \"kind\", \"kind\", \"kind\", \"kind\", \"kind\", \"kind\", \"klontz\", \"know\", \"know\", \"know\", \"know\", \"know\", \"know\", \"know\", \"know\", \"know\", \"know\", \"korbel\", \"korbel\", \"korbel\", \"korbel\", \"korbel\", \"korbel\", \"korbel\", \"korbel\", \"korbel\", \"korbel\", \"koval\", \"koval\", \"koval\", \"kovr\", \"kranch\", \"kreifels\", \"kreifels\", \"kreifels\", \"kreifels\", \"kreifels\", \"kumbh\", \"kumbh\", \"kumbh\", \"kumbh\", \"kuperwasser\", \"kurdistan\", \"kurdistan\", \"kurdistan\", \"kurdistan\", \"kurdistan\", \"kurdistan\", \"kurdistan\", \"kurdistan\", \"kurdistan\", \"kurdistan\", \"kurri\", \"lakota\", \"lakota\", \"lakota\", \"lakota\", \"lambert\", \"lambert\", \"lambert\", \"lambert\", \"lambert\", \"lambert\", \"lambert\", \"lambert\", \"lambert\", \"lambert\", \"lamotta\", \"lampkins\", \"lashkar\", \"lashkar\", \"lashkar\", \"lashkar\", \"lashkar\", \"lashkar\", \"lashkar\", \"lashkar\", \"lashkar\", \"lashkar\", \"leadbelly\", \"leadbelly\", \"leadbelly\", \"leadbelly\", \"leadbelly\", \"leadbelly\", \"leadbelly\", \"leadbelly\", \"leadbelly\", \"leadbelly\", \"leader\", \"leader\", \"leader\", \"leader\", \"leader\", \"leader\", \"leader\", \"leader\", \"leader\", \"leader\", \"leashed\", \"leashed\", \"lebanese\", \"lebanese\", \"lebanese\", \"lebanese\", \"lebanese\", \"lebanese\", \"lebanese\", \"lebanese\", \"lebanese\", \"lebanese\", \"lebanon\", \"lebanon\", \"lebanon\", \"lebanon\", \"lebanon\", \"lebanon\", \"lebanon\", \"lebanon\", \"lebanon\", \"lebanon\", \"leblanc\", \"leblanc\", \"leblanc\", \"leblanc\", \"leblanc\", \"let\", \"let\", \"let\", \"let\", \"let\", \"let\", \"let\", \"let\", \"let\", \"let\", \"letts\", \"letts\", \"letts\", \"letts\", \"letts\", \"letts\", \"libby\", \"libby\", \"libby\", \"libby\", \"libby\", \"libby\", \"libby\", \"libby\", \"libby\", \"libby\", \"lieberthal\", \"lieberthal\", \"lieberthal\", \"liebman\", \"liebman\", \"liebman\", \"lievable\", \"life\", \"life\", \"life\", \"life\", \"life\", \"life\", \"life\", \"life\", \"life\", \"life\", \"like\", \"like\", \"like\", \"like\", \"like\", \"like\", \"like\", \"like\", \"like\", \"like\", \"lilith\", \"lilith\", \"lilith\", \"lilith\", \"lilith\", \"lilith\", \"lilith\", \"lim\", \"lim\", \"lim\", \"lim\", \"lim\", \"lim\", \"lim\", \"lim\", \"lim\", \"lim\", \"lindland\", \"lindland\", \"lindland\", \"lindland\", \"lindland\", \"lindland\", \"lindland\", \"lipton\", \"lipton\", \"lipton\", \"lipton\", \"lipton\", \"lipton\", \"lipton\", \"lipton\", \"lipton\", \"lipton\", \"little\", \"little\", \"little\", \"little\", \"little\", \"little\", \"little\", \"little\", \"little\", \"little\", \"locos\", \"locos\", \"locos\", \"look\", \"look\", \"look\", \"look\", \"look\", \"look\", \"look\", \"look\", \"look\", \"look\", \"lopez\", \"lopez\", \"lopez\", \"lopez\", \"lopez\", \"lopez\", \"lopez\", \"lopez\", \"lopez\", \"lopez\", \"lot\", \"lot\", \"lot\", \"lot\", \"lot\", \"lot\", \"lot\", \"lot\", \"lot\", \"lot\", \"loughlin\", \"lusk\", \"lusk\", \"lysiak\", \"macaroon\", \"magister\", \"magister\", \"mahdi\", \"mahdi\", \"mahdi\", \"mahdi\", \"mahdi\", \"mahdi\", \"mahdi\", \"mahdi\", \"mahdi\", \"mahdi\", \"make\", \"make\", \"make\", \"make\", \"make\", \"make\", \"make\", \"make\", \"make\", \"make\", \"makepeace\", \"makris\", \"makris\", \"makris\", \"makris\", \"malaki\", \"malaki\", \"malaki\", \"malaki\", \"malaki\", \"malaki\", \"malaki\", \"malaki\", \"maldonado\", \"maldonado\", \"maldonado\", \"maldonado\", \"maldonado\", \"maldonado\", \"maldonado\", \"maldonado\", \"maldonado\", \"maldonado\", \"maliki\", \"maliki\", \"maliki\", \"maliki\", \"maliki\", \"maliki\", \"maliki\", \"maliki\", \"maliki\", \"maliki\", \"malin\", \"malin\", \"malin\", \"malin\", \"mammogram\", \"mammogram\", \"mammogram\", \"mammogram\", \"mammogram\", \"mammogram\", \"mammogram\", \"mammogram\", \"mammogram\", \"mammogram\", \"mammography\", \"mammography\", \"mammography\", \"mammography\", \"mammography\", \"mammography\", \"mammography\", \"mammography\", \"mammography\", \"mammography\", \"man\", \"man\", \"man\", \"man\", \"man\", \"man\", \"man\", \"man\", \"man\", \"man\", \"mancuso\", \"mancuso\", \"mancuso\", \"mancuso\", \"mancuso\", \"mancuso\", \"mancuso\", \"mancuso\", \"mancuso\", \"mandiant\", \"mandiant\", \"mandiant\", \"mandiant\", \"mandiant\", \"mandiant\", \"mandiant\", \"mandiant\", \"mandiant\", \"mandiant\", \"manspreading\", \"many\", \"many\", \"many\", \"many\", \"many\", \"many\", \"many\", \"many\", \"many\", \"many\", \"market\", \"market\", \"market\", \"market\", \"market\", \"market\", \"market\", \"market\", \"market\", \"market\", \"masai\", \"masai\", \"masai\", \"masai\", \"masai\", \"masai\", \"masai\", \"masai\", \"masai\", \"massaquoi\", \"massaquoi\", \"massaquoi\", \"massaquoi\", \"matascastillo\", \"matascastillo\", \"matascastillo\", \"matascastillo\", \"matascastillo\", \"matney\", \"matney\", \"matney\", \"matney\", \"matney\", \"matney\", \"matney\", \"matney\", \"matney\", \"matney\", \"mcfly\", \"mcfly\", \"mcgwire\", \"mcgwire\", \"mcgwire\", \"mcgwire\", \"mcgwire\", \"mcgwire\", \"mcgwire\", \"mcgwire\", \"mcgwire\", \"mcgwire\", \"mclaren\", \"mclaren\", \"mclaren\", \"mclaren\", \"mclaren\", \"mean\", \"mean\", \"mean\", \"mean\", \"mean\", \"mean\", \"mean\", \"mean\", \"mean\", \"mean\", \"meera\", \"megantic\", \"megantic\", \"megantic\", \"megantic\", \"megantic\", \"megantic\", \"megaupload\", \"megaupload\", \"megaupload\", \"megaupload\", \"megaupload\", \"megaupload\", \"megaupload\", \"mehsud\", \"mehsud\", \"mehsud\", \"mehsud\", \"mehsud\", \"mehsud\", \"mehsud\", \"mehsud\", \"mehsud\", \"mehsud\", \"mela\", \"mela\", \"mendenhall\", \"mendenhall\", \"mendenhall\", \"mendenhall\", \"mendenhall\", \"mental\", \"mental\", \"mental\", \"mental\", \"mental\", \"mental\", \"mental\", \"mental\", \"mental\", \"mental\", \"meowing\", \"meowing\", \"meowing\", \"mercantile\", \"mercantile\", \"mercantile\", \"mercantile\", \"mercantile\", \"mercantile\", \"mercantile\", \"mercantile\", \"mercantile\", \"mercantile\", \"merv\", \"merv\", \"merv\", \"merv\", \"merv\", \"merv\", \"merv\", \"merv\", \"merv\", \"merv\", \"metlife\", \"mga\", \"mga\", \"miceli\", \"mickelson\", \"mickelson\", \"mickelson\", \"mickelson\", \"mickelson\", \"mickelson\", \"mickelson\", \"mickelson\", \"mickelson\", \"mickelson\", \"mileage\", \"mileage\", \"mileage\", \"mileage\", \"mileage\", \"mileage\", \"mileage\", \"mileage\", \"mileage\", \"mileage\", \"military\", \"military\", \"military\", \"military\", \"military\", \"military\", \"military\", \"military\", \"military\", \"military\", \"militia\", \"militia\", \"militia\", \"militia\", \"militia\", \"militia\", \"militia\", \"militia\", \"militia\", \"militia\", \"militiaman\", \"militiaman\", \"militiaman\", \"militiaman\", \"militiaman\", \"militiaman\", \"militiaman\", \"militiaman\", \"militiaman\", \"militiaman\", \"million\", \"million\", \"million\", \"million\", \"million\", \"million\", \"million\", \"million\", \"million\", \"million\", \"mingzhu\", \"minister\", \"minister\", \"minister\", \"minister\", \"minister\", \"minister\", \"minister\", \"minister\", \"minister\", \"minister\", \"mongolia\", \"mongolia\", \"mongolia\", \"mongolia\", \"mongolia\", \"mongolia\", \"mongolia\", \"mongolia\", \"mongolia\", \"mongolia\", \"moochie\", \"moochie\", \"moochie\", \"moqtada\", \"moqtada\", \"moqtada\", \"moqtada\", \"moqtada\", \"moqtada\", \"moqtada\", \"moqtada\", \"moqtada\", \"moqtada\", \"morsel\", \"morsel\", \"morsel\", \"morsel\", \"morsel\", \"morsel\", \"morsel\", \"morsel\", \"morsel\", \"morten\", \"morten\", \"morten\", \"morten\", \"mortgage\", \"mortgage\", \"mortgage\", \"mortgage\", \"mortgage\", \"mortgage\", \"mortgage\", \"mortgage\", \"mortgage\", \"mortgage\", \"moussaoui\", \"moussaoui\", \"moussaoui\", \"moussaoui\", \"moussaoui\", \"moussaoui\", \"moussaoui\", \"moussaoui\", \"moussaoui\", \"moussaoui\", \"much\", \"much\", \"much\", \"much\", \"much\", \"much\", \"much\", \"much\", \"much\", \"much\", \"museum\", \"museum\", \"museum\", \"museum\", \"museum\", \"museum\", \"museum\", \"museum\", \"museum\", \"museum\", \"mushroom\", \"mushroom\", \"mushroom\", \"mushroom\", \"mushroom\", \"mushroom\", \"mushroom\", \"mushroom\", \"mushroom\", \"mushroom\", \"music\", \"music\", \"music\", \"music\", \"music\", \"music\", \"music\", \"music\", \"music\", \"music\", \"muslim\", \"muslim\", \"muslim\", \"muslim\", \"muslim\", \"muslim\", \"muslim\", \"muslim\", \"muslim\", \"muslim\", \"mute\", \"mute\", \"mute\", \"mute\", \"mute\", \"mute\", \"mute\", \"mute\", \"mute\", \"mute\", \"nablus\", \"nablus\", \"nablus\", \"nablus\", \"nablus\", \"nablus\", \"nadim\", \"nadim\", \"nadim\", \"nadim\", \"nadim\", \"nadim\", \"nadim\", \"nadim\", \"nadim\", \"nadim\", \"namche\", \"nasa\", \"nasa\", \"nasa\", \"nasa\", \"nasa\", \"nasa\", \"nasa\", \"nasa\", \"nasa\", \"nasa\", \"nation\", \"nation\", \"nation\", \"nation\", \"nation\", \"nation\", \"nation\", \"nation\", \"nation\", \"nation\", \"nats\", \"nats\", \"nauruan\", \"nauruan\", \"neanderthal\", \"neanderthal\", \"neanderthal\", \"neanderthal\", \"neanderthal\", \"neanderthal\", \"neanderthal\", \"neanderthal\", \"neanderthal\", \"neanderthal\", \"nebraskan\", \"nebraskan\", \"nebraskan\", \"nebraskan\", \"nebraskan\", \"nemtsov\", \"nemtsov\", \"nemtsov\", \"nemtsov\", \"nemtsov\", \"nemtsov\", \"nemtsov\", \"nemtsov\", \"nemtsov\", \"nemtsov\", \"new\", \"new\", \"new\", \"new\", \"new\", \"new\", \"new\", \"new\", \"new\", \"new\", \"newby\", \"newby\", \"news\", \"news\", \"news\", \"news\", \"news\", \"news\", \"news\", \"news\", \"news\", \"news\", \"ngubane\", \"ngubane\", \"ngubane\", \"ngubane\", \"ngubane\", \"ngubane\", \"ngubane\", \"ngubane\", \"ngubane\", \"ngubane\", \"niemeyer\", \"niemeyer\", \"niemeyer\", \"niemeyer\", \"niemeyer\", \"nissin\", \"nissin\", \"nof\", \"nof\", \"nof\", \"nopd\", \"nopd\", \"nopd\", \"nopd\", \"nopd\", \"nopd\", \"nostril\", \"nostril\", \"nostril\", \"nostril\", \"nostril\", \"nostril\", \"nostril\", \"nostril\", \"nostril\", \"nostril\", \"nouri\", \"nouri\", \"nouri\", \"nouri\", \"nouri\", \"nouri\", \"nouri\", \"nouri\", \"nouri\", \"nouri\", \"novak\", \"novak\", \"novak\", \"novak\", \"novak\", \"novak\", \"novak\", \"novak\", \"novak\", \"novak\", \"novel\", \"novel\", \"novel\", \"novel\", \"novel\", \"novel\", \"novel\", \"novel\", \"novel\", \"novel\", \"npr\", \"npr\", \"npr\", \"npr\", \"npr\", \"npr\", \"npr\", \"npr\", \"npr\", \"npr\", \"nuggets\", \"nuggets\", \"nuggets\", \"obama\", \"obama\", \"obama\", \"obama\", \"obama\", \"obama\", \"obama\", \"obama\", \"obama\", \"obama\", \"officer\", \"officer\", \"officer\", \"officer\", \"officer\", \"officer\", \"officer\", \"officer\", \"officer\", \"officer\", \"oktoberfest\", \"one\", \"one\", \"one\", \"one\", \"one\", \"one\", \"one\", \"one\", \"one\", \"one\", \"org\", \"org\", \"org\", \"org\", \"org\", \"org\", \"org\", \"org\", \"org\", \"org\", \"orhan\", \"orhan\", \"orhan\", \"orhan\", \"orhan\", \"orhan\", \"orwell\", \"orwell\", \"orwell\", \"orwell\", \"orwell\", \"orwell\", \"orwell\", \"orwell\", \"orwell\", \"orwell\", \"overson\", \"pacifier\", \"pacifier\", \"pacifier\", \"pacifier\", \"pakistan\", \"pakistan\", \"pakistan\", \"pakistan\", \"pakistan\", \"pakistan\", \"pakistan\", \"pakistan\", \"pakistan\", \"pakistan\", \"pakistani\", \"pakistani\", \"pakistani\", \"pakistani\", \"pakistani\", \"pakistani\", \"pakistani\", \"pakistani\", \"pakistani\", \"pakistani\", \"palca\", \"palca\", \"palca\", \"palca\", \"palca\", \"palca\", \"palca\", \"palca\", \"palca\", \"palca\", \"palestinian\", \"palestinian\", \"palestinian\", \"palestinian\", \"palestinian\", \"palestinian\", \"palestinian\", \"palestinian\", \"palestinian\", \"palestinian\", \"palliative\", \"palliative\", \"palliative\", \"palliative\", \"palliative\", \"palliative\", \"palliative\", \"palliative\", \"palliative\", \"palliative\", \"partridge\", \"partridge\", \"partridge\", \"partridge\", \"partridge\", \"partridge\", \"partridge\", \"partridge\", \"partridge\", \"partridge\", \"penfaulkner\", \"penfaulkner\", \"penfaulkner\", \"penguin\", \"penguin\", \"penguin\", \"penguin\", \"penguin\", \"penguin\", \"penguin\", \"penguin\", \"penguin\", \"penguin\", \"people\", \"people\", \"people\", \"people\", \"people\", \"people\", \"people\", \"people\", \"people\", \"people\", \"peron\", \"peron\", \"peron\", \"peron\", \"peron\", \"peron\", \"peron\", \"peron\", \"peron\", \"peron\", \"person\", \"person\", \"person\", \"person\", \"person\", \"person\", \"person\", \"person\", \"person\", \"person\", \"petkov\", \"petrou\", \"petrou\", \"petrou\", \"phalarope\", \"phalarope\", \"phalarope\", \"philae\", \"philae\", \"philae\", \"plame\", \"plame\", \"plame\", \"plame\", \"plame\", \"plame\", \"plame\", \"plame\", \"plame\", \"plame\", \"play\", \"play\", \"play\", \"play\", \"play\", \"play\", \"play\", \"play\", \"play\", \"play\", \"police\", \"police\", \"police\", \"police\", \"police\", \"police\", \"police\", \"police\", \"police\", \"police\", \"pollard\", \"pollard\", \"pollard\", \"pollard\", \"pollard\", \"pollard\", \"pollard\", \"pollard\", \"pollard\", \"president\", \"president\", \"president\", \"president\", \"president\", \"president\", \"president\", \"president\", \"president\", \"president\", \"price\", \"price\", \"price\", \"price\", \"price\", \"price\", \"price\", \"price\", \"price\", \"price\", \"pringle\", \"pringle\", \"pringle\", \"pringle\", \"pringle\", \"pringle\", \"pringle\", \"pringle\", \"pringle\", \"prius\", \"prius\", \"prius\", \"prius\", \"prius\", \"prius\", \"prius\", \"prius\", \"prius\", \"prius\", \"priuses\", \"priuses\", \"priuses\", \"priuses\", \"priuses\", \"priuses\", \"priuses\", \"priuses\", \"provenzano\", \"provenzano\", \"provenzano\", \"provenzano\", \"punter\", \"punter\", \"punter\", \"punter\", \"punter\", \"punter\", \"punter\", \"punter\", \"punter\", \"qi\", \"qi\", \"qi\", \"qi\", \"qi\", \"qi\", \"qi\", \"qian\", \"qian\", \"question\", \"question\", \"question\", \"question\", \"question\", \"question\", \"question\", \"question\", \"question\", \"question\", \"radovan\", \"radovan\", \"radovan\", \"radovan\", \"radovan\", \"radovan\", \"radovan\", \"radovan\", \"radovan\", \"radovan\", \"ramallah\", \"ramallah\", \"ramallah\", \"ramallah\", \"ramallah\", \"ramallah\", \"ramallah\", \"ramallah\", \"ramallah\", \"ramallah\", \"randal\", \"randal\", \"randal\", \"really\", \"really\", \"really\", \"really\", \"really\", \"really\", \"really\", \"really\", \"really\", \"really\", \"reema\", \"reema\", \"reema\", \"reema\", \"reema\", \"reeve\", \"reeve\", \"reeve\", \"reeve\", \"reeve\", \"reeve\", \"reeve\", \"reeve\", \"reeve\", \"reeve\", \"republican\", \"republican\", \"republican\", \"republican\", \"republican\", \"republican\", \"republican\", \"republican\", \"republican\", \"republican\", \"rideout\", \"rideout\", \"rideout\", \"rideout\", \"rideout\", \"rideout\", \"right\", \"right\", \"right\", \"right\", \"right\", \"right\", \"right\", \"right\", \"right\", \"right\", \"ringling\", \"ringling\", \"ringling\", \"ringling\", \"ringling\", \"ringling\", \"ringling\", \"ringling\", \"ringling\", \"rosanna\", \"rosanna\", \"rothemund\", \"roustabout\", \"roustabout\", \"roustabout\", \"roustabout\", \"routh\", \"routh\", \"rover\", \"rover\", \"rover\", \"rover\", \"rover\", \"rover\", \"rover\", \"rover\", \"rover\", \"rover\", \"rybak\", \"rybak\", \"rybak\", \"ryzhkov\", \"ryzhkov\", \"sadjadpour\", \"sadjadpour\", \"sadjadpour\", \"sadjadpour\", \"sadjadpour\", \"sadjadpour\", \"sadjadpour\", \"sadjadpour\", \"sadjadpour\", \"sadjadpour\", \"sadr\", \"sadr\", \"sadr\", \"sadr\", \"sadr\", \"sadr\", \"sadr\", \"sadr\", \"sadr\", \"sadr\", \"safronov\", \"said\", \"said\", \"said\", \"said\", \"said\", \"said\", \"said\", \"said\", \"said\", \"said\", \"saltpeter\", \"saltpeter\", \"saltpeter\", \"samaha\", \"samaha\", \"samaha\", \"samaha\", \"sauvignon\", \"sauvignon\", \"sauvignon\", \"say\", \"say\", \"say\", \"say\", \"say\", \"say\", \"say\", \"say\", \"say\", \"say\", \"scaramouche\", \"schake\", \"schake\", \"schake\", \"schake\", \"schake\", \"schake\", \"schake\", \"schake\", \"school\", \"school\", \"school\", \"school\", \"school\", \"school\", \"school\", \"school\", \"school\", \"school\", \"science\", \"science\", \"science\", \"science\", \"science\", \"science\", \"science\", \"science\", \"science\", \"science\", \"scrunchie\", \"scrunchie\", \"sectarian\", \"sectarian\", \"sectarian\", \"sectarian\", \"sectarian\", \"sectarian\", \"sectarian\", \"sectarian\", \"sectarian\", \"sectarian\", \"security\", \"security\", \"security\", \"security\", \"security\", \"security\", \"security\", \"security\", \"security\", \"security\", \"see\", \"see\", \"see\", \"see\", \"see\", \"see\", \"see\", \"see\", \"see\", \"see\", \"seidel\", \"seismometer\", \"seismometer\", \"seismometer\", \"seismometer\", \"seismometer\", \"seismometer\", \"seligmann\", \"seligmann\", \"seligmann\", \"seligmann\", \"seligmann\", \"selman\", \"selman\", \"serb\", \"serb\", \"serb\", \"serb\", \"serb\", \"serb\", \"serb\", \"serb\", \"serb\", \"serb\", \"shareholder\", \"shareholder\", \"shareholder\", \"shareholder\", \"shareholder\", \"shareholder\", \"shareholder\", \"shareholder\", \"shareholder\", \"shareholder\", \"sheathing\", \"shetty\", \"shetty\", \"shetty\", \"shetty\", \"shetty\", \"shevchuk\", \"shevchuk\", \"shevchuk\", \"shevchuk\", \"shevchuk\", \"shiite\", \"shiite\", \"shiite\", \"shiite\", \"shiite\", \"shiite\", \"shiite\", \"shiite\", \"shiite\", \"shiite\", \"shipwright\", \"shipwright\", \"show\", \"show\", \"show\", \"show\", \"show\", \"show\", \"show\", \"show\", \"show\", \"show\", \"sideburns\", \"sids\", \"sids\", \"sids\", \"sids\", \"sids\", \"sids\", \"sids\", \"sids\", \"silicosis\", \"silicosis\", \"silicosis\", \"silicosis\", \"silicosis\", \"silicosis\", \"silicosis\", \"silicosis\", \"silicosis\", \"singing\", \"singing\", \"singing\", \"singing\", \"singing\", \"singing\", \"singing\", \"singing\", \"singing\", \"singing\", \"sinkhole\", \"sinkhole\", \"sinkhole\", \"sinkhole\", \"sinkhole\", \"sinkhole\", \"sinkhole\", \"sinkhole\", \"sinkhole\", \"sinkhole\", \"sirat\", \"sittenfeld\", \"sittenfeld\", \"sizemore\", \"sizemore\", \"skilling\", \"skilling\", \"skilling\", \"skilling\", \"skilling\", \"skilling\", \"skilling\", \"skilling\", \"skilling\", \"skilling\", \"sockeye\", \"sockeye\", \"sockeye\", \"soderbergh\", \"soderbergh\", \"soderbergh\", \"soderbergh\", \"soderbergh\", \"soderbergh\", \"soderbergh\", \"softbank\", \"softbank\", \"softbank\", \"softbank\", \"something\", \"something\", \"something\", \"something\", \"something\", \"something\", \"something\", \"something\", \"something\", \"something\", \"song\", \"song\", \"song\", \"song\", \"song\", \"song\", \"song\", \"song\", \"song\", \"song\", \"sookie\", \"sort\", \"sort\", \"sort\", \"sort\", \"sort\", \"sort\", \"sort\", \"sort\", \"sort\", \"sort\", \"space\", \"space\", \"space\", \"space\", \"space\", \"space\", \"space\", \"space\", \"space\", \"space\", \"spacecraft\", \"spacecraft\", \"spacecraft\", \"spacecraft\", \"spacecraft\", \"spacecraft\", \"spacecraft\", \"spacecraft\", \"spacecraft\", \"spacecraft\", \"spasmed\", \"sport\", \"sport\", \"sport\", \"sport\", \"sport\", \"sport\", \"sport\", \"sport\", \"sport\", \"sport\", \"spruce\", \"spruce\", \"spruce\", \"spruce\", \"spruce\", \"spruce\", \"spruce\", \"spruce\", \"spruce\", \"spruce\", \"stackhouse\", \"standardly\", \"starnes\", \"starnes\", \"starnes\", \"state\", \"state\", \"state\", \"state\", \"state\", \"state\", \"state\", \"state\", \"state\", \"state\", \"statin\", \"statin\", \"statin\", \"statin\", \"statin\", \"statin\", \"statin\", \"statin\", \"statin\", \"statin\", \"stearns\", \"stearns\", \"stearns\", \"stearns\", \"stearns\", \"stearns\", \"stearns\", \"stearns\", \"stearns\", \"stearns\", \"stefan\", \"stefan\", \"stefan\", \"stefan\", \"stefan\", \"stefan\", \"stefan\", \"stefan\", \"stefan\", \"stefan\", \"steger\", \"steger\", \"steger\", \"steger\", \"steger\", \"steger\", \"steger\", \"steger\", \"steger\", \"steger\", \"steinfelt\", \"stem\", \"stem\", \"stem\", \"stem\", \"stem\", \"stem\", \"stem\", \"stem\", \"stem\", \"stem\", \"stephane\", \"stephane\", \"stephane\", \"stephane\", \"stephane\", \"stephane\", \"stephane\", \"stephane\", \"stephane\", \"stephane\", \"sterkel\", \"still\", \"still\", \"still\", \"still\", \"still\", \"still\", \"still\", \"still\", \"still\", \"still\", \"stillbirth\", \"stillbirth\", \"stillbirth\", \"stock\", \"stock\", \"stock\", \"stock\", \"stock\", \"stock\", \"stock\", \"stock\", \"stock\", \"stock\", \"student\", \"student\", \"student\", \"student\", \"student\", \"student\", \"student\", \"student\", \"student\", \"student\", \"subprime\", \"subprime\", \"subprime\", \"subprime\", \"subprime\", \"subprime\", \"subprime\", \"subprime\", \"subprime\", \"subprime\", \"subramanian\", \"subramanian\", \"sunni\", \"sunni\", \"sunni\", \"sunni\", \"sunni\", \"sunni\", \"sunni\", \"sunni\", \"sunni\", \"sunni\", \"swan\", \"swan\", \"swan\", \"swan\", \"swan\", \"swan\", \"swan\", \"swan\", \"swan\", \"swan\", \"swordfish\", \"swordfish\", \"swordfish\", \"swordfish\", \"swordfish\", \"swordfish\", \"swordfish\", \"swordfish\", \"swordfish\", \"swordfish\", \"syria\", \"syria\", \"syria\", \"syria\", \"syria\", \"syria\", \"syria\", \"syria\", \"syria\", \"syria\", \"taiba\", \"taiba\", \"taiba\", \"taiba\", \"taiba\", \"taiba\", \"taiba\", \"taiba\", \"taiba\", \"taiba\", \"take\", \"take\", \"take\", \"take\", \"take\", \"take\", \"take\", \"take\", \"take\", \"take\", \"taliesin\", \"taliesin\", \"talk\", \"talk\", \"talk\", \"talk\", \"talk\", \"talk\", \"talk\", \"talk\", \"talk\", \"talk\", \"talking\", \"talking\", \"talking\", \"talking\", \"talking\", \"talking\", \"talking\", \"talking\", \"talking\", \"talking\", \"tamler\", \"tamler\", \"tarabay\", \"tarabay\", \"tarabay\", \"tarabay\", \"tarabay\", \"tarabay\", \"tarabay\", \"tarabay\", \"tarabay\", \"tarabay\", \"tartly\", \"taser\", \"taser\", \"taser\", \"taser\", \"taser\", \"taser\", \"taser\", \"taser\", \"taser\", \"taser\", \"tasmanian\", \"tasmanian\", \"tasmanian\", \"tasmanian\", \"tasmanian\", \"tasmanian\", \"tasmanian\", \"tasmanian\", \"tasmanian\", \"tasmanian\", \"tatge\", \"taub\", \"taub\", \"taub\", \"taub\", \"taub\", \"taub\", \"taub\", \"taub\", \"taub\", \"tax\", \"tax\", \"tax\", \"tax\", \"tax\", \"tax\", \"tax\", \"tax\", \"tax\", \"tax\", \"teacher\", \"teacher\", \"teacher\", \"teacher\", \"teacher\", \"teacher\", \"teacher\", \"teacher\", \"teacher\", \"teacher\", \"thaksin\", \"thaksin\", \"thaksin\", \"thaksin\", \"thaksin\", \"thaksin\", \"thaksin\", \"thaksin\", \"thaksin\", \"thank\", \"thank\", \"thank\", \"thank\", \"thank\", \"thank\", \"thank\", \"thank\", \"thank\", \"thank\", \"thanks\", \"thanks\", \"thanks\", \"thanks\", \"thanks\", \"thanks\", \"thanks\", \"thanks\", \"thanks\", \"thanks\", \"thembi\", \"thembi\", \"thembi\", \"thembi\", \"thembi\", \"thembi\", \"thembi\", \"thembi\", \"thembi\", \"thembi\", \"thing\", \"thing\", \"thing\", \"thing\", \"thing\", \"thing\", \"thing\", \"thing\", \"thing\", \"thing\", \"think\", \"think\", \"think\", \"think\", \"think\", \"think\", \"think\", \"think\", \"think\", \"think\", \"thump\", \"thump\", \"thump\", \"thump\", \"thump\", \"thump\", \"thump\", \"thump\", \"thump\", \"thump\", \"time\", \"time\", \"time\", \"time\", \"time\", \"time\", \"time\", \"time\", \"time\", \"time\", \"titlemax\", \"titlemax\", \"titlemax\", \"today\", \"today\", \"today\", \"today\", \"today\", \"today\", \"today\", \"today\", \"today\", \"today\", \"toucan\", \"tourre\", \"tourre\", \"toyota\", \"toyota\", \"toyota\", \"toyota\", \"toyota\", \"toyota\", \"toyota\", \"toyota\", \"toyota\", \"toyota\", \"tram\", \"tram\", \"tram\", \"tram\", \"tram\", \"tram\", \"tram\", \"tram\", \"tram\", \"translator\", \"translator\", \"translator\", \"translator\", \"translator\", \"translator\", \"translator\", \"translator\", \"translator\", \"translator\", \"traviata\", \"tree\", \"tree\", \"tree\", \"tree\", \"tree\", \"tree\", \"tree\", \"tree\", \"tree\", \"tree\", \"tributaries\", \"tributaries\", \"tributaries\", \"tributaries\", \"tributaries\", \"tributaries\", \"tributaries\", \"tributaries\", \"triglyceride\", \"triglyceride\", \"triglyceride\", \"triglyceride\", \"triglyceride\", \"triglyceride\", \"trill\", \"trill\", \"trill\", \"trill\", \"trill\", \"trill\", \"troop\", \"troop\", \"troop\", \"troop\", \"troop\", \"troop\", \"troop\", \"troop\", \"troop\", \"troop\", \"turpentine\", \"turpentine\", \"tuttle\", \"tuttle\", \"tuttle\", \"tuttle\", \"tuttle\", \"tuttle\", \"tweedilly\", \"tweedilly\", \"tweedilly\", \"tweedilly\", \"two\", \"two\", \"two\", \"two\", \"two\", \"two\", \"two\", \"two\", \"two\", \"two\", \"uera\", \"ufc\", \"ufc\", \"ufc\", \"ufc\", \"ufc\", \"ufc\", \"ufc\", \"ufw\", \"ufw\", \"ufw\", \"ufw\", \"ufw\", \"ufw\", \"unbee\", \"unleaded\", \"unleaded\", \"unleaded\", \"unleaded\", \"unleaded\", \"unleaded\", \"upham\", \"upham\", \"upham\", \"valeriano\", \"valeriano\", \"valeriano\", \"valk\", \"valk\", \"valk\", \"vegetative\", \"vegetative\", \"vegetative\", \"vegetative\", \"vegetative\", \"vegetative\", \"vegetative\", \"vegetative\", \"vegetative\", \"vegetative\", \"verrazzano\", \"voa\", \"voa\", \"voa\", \"voa\", \"voa\", \"voa\", \"voa\", \"voa\", \"voa\", \"voa\", \"vole\", \"vole\", \"vole\", \"vole\", \"vole\", \"vole\", \"vole\", \"vole\", \"vole\", \"vole\", \"vonnegut\", \"vonnegut\", \"vonnegut\", \"vonnegut\", \"vonnegut\", \"vonnegut\", \"vonnegut\", \"vonnegut\", \"vonnegut\", \"vonnegut\", \"voting\", \"voting\", \"voting\", \"voting\", \"voting\", \"voting\", \"voting\", \"voting\", \"voting\", \"voting\", \"wa\", \"wa\", \"wa\", \"wa\", \"wa\", \"wa\", \"wa\", \"wa\", \"wa\", \"wa\", \"want\", \"want\", \"want\", \"want\", \"want\", \"want\", \"want\", \"want\", \"want\", \"want\", \"way\", \"way\", \"way\", \"way\", \"way\", \"way\", \"way\", \"way\", \"way\", \"way\", \"wazir\", \"wazir\", \"wazir\", \"wazir\", \"week\", \"week\", \"week\", \"week\", \"week\", \"week\", \"week\", \"week\", \"week\", \"week\", \"wego\", \"weinman\", \"weinman\", \"weinman\", \"weinman\", \"weinman\", \"well\", \"well\", \"well\", \"well\", \"well\", \"well\", \"well\", \"well\", \"well\", \"well\", \"welna\", \"welna\", \"welna\", \"welna\", \"welna\", \"welna\", \"welna\", \"welna\", \"welna\", \"welna\", \"wethington\", \"wethington\", \"wightman\", \"willet\", \"willet\", \"willet\", \"willet\", \"willet\", \"willet\", \"willet\", \"willet\", \"willet\", \"witmer\", \"woitalla\", \"wolfowitz\", \"wolfowitz\", \"wolfowitz\", \"wolfowitz\", \"wolfowitz\", \"wolfowitz\", \"wolfowitz\", \"wolfowitz\", \"wolfowitz\", \"wolfowitz\", \"woman\", \"woman\", \"woman\", \"woman\", \"woman\", \"woman\", \"woman\", \"woman\", \"woman\", \"woman\", \"work\", \"work\", \"work\", \"work\", \"work\", \"work\", \"work\", \"work\", \"work\", \"work\", \"would\", \"would\", \"would\", \"would\", \"would\", \"would\", \"would\", \"would\", \"would\", \"would\", \"wwmt\", \"yeah\", \"yeah\", \"yeah\", \"yeah\", \"yeah\", \"yeah\", \"yeah\", \"yeah\", \"yeah\", \"yeah\", \"year\", \"year\", \"year\", \"year\", \"year\", \"year\", \"year\", \"year\", \"year\", \"year\", \"yes\", \"yes\", \"yes\", \"yes\", \"yes\", \"yes\", \"yes\", \"yes\", \"yes\", \"yes\", \"yohan\", \"yohan\", \"yohan\", \"yohan\", \"yopo\", \"young\", \"young\", \"young\", \"young\", \"young\", \"young\", \"young\", \"young\", \"young\", \"young\", \"yukos\", \"yukos\", \"yukos\", \"zacarias\", \"zacarias\", \"zacarias\", \"zacarias\", \"zacarias\", \"zacarias\", \"zacarias\", \"zacarias\", \"zacarias\", \"zacarias\", \"zammarelli\", \"zandi\", \"zandi\", \"zandi\", \"zandi\", \"zandi\", \"zandi\", \"zandi\", \"zandi\", \"zandi\", \"zandi\"]}, \"R\": 30, \"lambda.step\": 0.01, \"plot.opts\": {\"xlab\": \"PC1\", \"ylab\": \"PC2\"}, \"topic.order\": [7, 6, 1, 5, 9, 3, 4, 8, 2, 10]};\n",
       "\n",
       "function LDAvis_load_lib(url, callback){\n",
       "  var s = document.createElement('script');\n",
       "  s.src = url;\n",
       "  s.async = true;\n",
       "  s.onreadystatechange = s.onload = callback;\n",
       "  s.onerror = function(){console.warn(\"failed to load library \" + url);};\n",
       "  document.getElementsByTagName(\"head\")[0].appendChild(s);\n",
       "}\n",
       "\n",
       "if(typeof(LDAvis) !== \"undefined\"){\n",
       "   // already loaded: just create the visualization\n",
       "   !function(LDAvis){\n",
       "       new LDAvis(\"#\" + \"ldavis_el145241405966573442883559216540\", ldavis_el145241405966573442883559216540_data);\n",
       "   }(LDAvis);\n",
       "}else if(typeof define === \"function\" && define.amd){\n",
       "   // require.js is available: use it to load d3/LDAvis\n",
       "   require.config({paths: {d3: \"https://d3js.org/d3.v5\"}});\n",
       "   require([\"d3\"], function(d3){\n",
       "      window.d3 = d3;\n",
       "      LDAvis_load_lib(\"https://cdn.jsdelivr.net/gh/bmabey/pyLDAvis@3.3.1/pyLDAvis/js/ldavis.v3.0.0.js\", function(){\n",
       "        new LDAvis(\"#\" + \"ldavis_el145241405966573442883559216540\", ldavis_el145241405966573442883559216540_data);\n",
       "      });\n",
       "    });\n",
       "}else{\n",
       "    // require.js not available: dynamically load d3 & LDAvis\n",
       "    LDAvis_load_lib(\"https://d3js.org/d3.v5.js\", function(){\n",
       "         LDAvis_load_lib(\"https://cdn.jsdelivr.net/gh/bmabey/pyLDAvis@3.3.1/pyLDAvis/js/ldavis.v3.0.0.js\", function(){\n",
       "                 new LDAvis(\"#\" + \"ldavis_el145241405966573442883559216540\", ldavis_el145241405966573442883559216540_data);\n",
       "            })\n",
       "         });\n",
       "}\n",
       "</script>"
      ],
      "text/plain": [
       "PreparedData(topic_coordinates=              x         y  topics  cluster       Freq\n",
       "topic                                                \n",
       "6      0.027976 -0.003206       1        1  24.646688\n",
       "5      0.007570  0.015073       2        1  13.883102\n",
       "0     -0.009808  0.004673       3        1   9.589315\n",
       "4     -0.003748 -0.004798       4        1   9.506743\n",
       "8     -0.008201  0.001728       5        1   8.558133\n",
       "2     -0.006408 -0.000609       6        1   7.962434\n",
       "3      0.001801 -0.005629       7        1   7.839609\n",
       "7     -0.003030 -0.003523       8        1   6.702307\n",
       "1     -0.005476 -0.002223       9        1   6.600792\n",
       "9     -0.000675 -0.001486      10        1   4.710877, topic_info=      Term           Freq          Total Category  logprob  loglift\n",
       "224     wa  457930.000000  457930.000000  Default  30.0000  30.0000\n",
       "114   know  322481.000000  322481.000000  Default  29.0000  29.0000\n",
       "202  think  233269.000000  233269.000000  Default  28.0000  28.0000\n",
       "122   like  199117.000000  199117.000000  Default  27.0000  27.0000\n",
       "227   well  194724.000000  194724.000000  Default  26.0000  26.0000\n",
       "..     ...            ...            ...      ...      ...      ...\n",
       "86      ha    8203.603349  211075.618775  Topic10  -5.2620  -0.1923\n",
       "178    say    8796.265682  237964.253650  Topic10  -5.1922  -0.2425\n",
       "122   like    7703.566355  199117.585506  Topic10  -5.3249  -0.1969\n",
       "448    see    4828.396923   95483.689343  Topic10  -5.7920   0.0709\n",
       "225   want    4791.481833  100693.048960  Topic10  -5.7997   0.0101\n",
       "\n",
       "[917 rows x 6 columns], token_table=       Topic      Freq   Term\n",
       "term                         \n",
       "21922      1  0.495184  abbas\n",
       "21922      2  0.072418  abbas\n",
       "21922      3  0.016637  abbas\n",
       "21922      4  0.023487  abbas\n",
       "21922      5  0.017615  abbas\n",
       "...      ...       ...    ...\n",
       "65615      6  0.014595  zandi\n",
       "65615      7  0.009730  zandi\n",
       "65615      8  0.014595  zandi\n",
       "65615      9  0.014595  zandi\n",
       "65615     10  0.009730  zandi\n",
       "\n",
       "[4247 rows x 3 columns], R=30, lambda_step=0.01, plot_opts={'xlab': 'PC1', 'ylab': 'PC2'}, topic_order=[7, 6, 1, 5, 9, 3, 4, 8, 2, 10])"
      ]
     },
     "execution_count": 57,
     "metadata": {},
     "output_type": "execute_result"
    }
   ],
   "source": [
    "# import pyLDAvis.gensim\n",
    "import os\n",
    "import pyLDAvis.gensim_models as gensimvis\n",
    "import pickle \n",
    "import pyLDAvis\n",
    "# Visualize the topics\n",
    "pyLDAvis.enable_notebook()\n",
    "# LDAvis_data_filepath = os.path.join('./results/ldavis_prepared_'+ str(num_topics)+str(num_topics))\n",
    "# # this is a bit time consuming - make the if statement True\n",
    "# # if you want to execute visualization prep yourself\n",
    "if 1 == 1:\n",
    "#     LDAvis_prepared = pyLDAvis.gensim.prepare(lda_model, corpus, id2word)\n",
    "    LDAvis_prepared = gensimvis.prepare(lda_model, corpus, id2word)\n",
    "#     with open(LDAvis_data_filepath, 'wb') as f:\n",
    "#         pickle.dump(LDAvis_prepared, f)\n",
    "# load the pre-prepared pyLDAvis data from disk\n",
    "# with open(LDAvis_data_filepath, 'rb') as f:\n",
    "#     LDAvis_prepared = pickle.load(f)\n",
    "# pyLDAvis.save_html(LDAvis_prepared, './results/ldavis_prepared_'+ str(num_topics) +'.html')\n",
    "LDAvis_prepared"
   ]
  },
  {
   "cell_type": "markdown",
   "id": "d6e33411",
   "metadata": {},
   "source": [
    "## The same...but running it on the titles instead of the corpi"
   ]
  },
  {
   "cell_type": "code",
   "execution_count": 58,
   "id": "27ca4263",
   "metadata": {
    "scrolled": true
   },
   "outputs": [
    {
     "name": "stderr",
     "output_type": "stream",
     "text": [
      "/usr/local/anaconda3/lib/python3.8/site-packages/ipykernel/ipkernel.py:287: DeprecationWarning: `should_run_async` will not call `transform_cell` automatically in the future. Please pass the result to `transformed_cell` argument and any exception that happen during thetransform in `preprocessing_exc_tuple` in IPython 7.17 and above.\n",
      "  and should_run_async(code)\n",
      "[nltk_data] Downloading package stopwords to\n",
      "[nltk_data]     /Users/brianclements/nltk_data...\n",
      "[nltk_data]   Package stopwords is already up-to-date!\n"
     ]
    },
    {
     "name": "stdout",
     "output_type": "stream",
     "text": [
      "['democrat', 'reported', 'whistleblower', 'complaint', 'trump']\n"
     ]
    }
   ],
   "source": [
    "import gensim\n",
    "from gensim.utils import simple_preprocess\n",
    "import nltk\n",
    "nltk.download('stopwords')\n",
    "from nltk.corpus import stopwords\n",
    "stop_words = stopwords.words('english')\n",
    "# stop_words.extend(['from', 'subject', 're', 'edu', 'use'])\n",
    "def sent_to_words(sentences):\n",
    "    for sentence in sentences:\n",
    "        # deacc=True removes punctuations\n",
    "        yield(gensim.utils.simple_preprocess(str(sentence), deacc=False))\n",
    "def remove_stopwords(texts):\n",
    "    return [[word for word in simple_preprocess(str(doc)) \n",
    "             if word not in stop_words] for doc in texts]\n",
    "data = stories.title.values.tolist()\n",
    "data_words = list(sent_to_words(data))\n",
    "# remove stop words\n",
    "data_words = remove_stopwords(data_words)\n",
    "print(data_words[:1][0][:30])"
   ]
  },
  {
   "cell_type": "code",
   "execution_count": 59,
   "id": "466efd3c",
   "metadata": {},
   "outputs": [
    {
     "name": "stderr",
     "output_type": "stream",
     "text": [
      "/usr/local/anaconda3/lib/python3.8/site-packages/ipykernel/ipkernel.py:287: DeprecationWarning: `should_run_async` will not call `transform_cell` automatically in the future. Please pass the result to `transformed_cell` argument and any exception that happen during thetransform in `preprocessing_exc_tuple` in IPython 7.17 and above.\n",
      "  and should_run_async(code)\n"
     ]
    },
    {
     "name": "stdout",
     "output_type": "stream",
     "text": [
      "[(0, 1), (1, 1), (2, 1), (3, 1), (4, 1)]\n"
     ]
    }
   ],
   "source": [
    "import gensim.corpora as corpora\n",
    "# Create Dictionary\n",
    "id2word = corpora.Dictionary(data_words)\n",
    "# Create Corpus\n",
    "texts = data_words\n",
    "# Term Document Frequency\n",
    "corpus = [id2word.doc2bow(text) for text in texts]\n",
    "# View\n",
    "print(corpus[:1][0][:30])"
   ]
  },
  {
   "cell_type": "code",
   "execution_count": 60,
   "id": "6da1324e",
   "metadata": {},
   "outputs": [
    {
     "name": "stderr",
     "output_type": "stream",
     "text": [
      "/usr/local/anaconda3/lib/python3.8/site-packages/ipykernel/ipkernel.py:287: DeprecationWarning: `should_run_async` will not call `transform_cell` automatically in the future. Please pass the result to `transformed_cell` argument and any exception that happen during thetransform in `preprocessing_exc_tuple` in IPython 7.17 and above.\n",
      "  and should_run_async(code)\n"
     ]
    },
    {
     "name": "stdout",
     "output_type": "stream",
     "text": [
      "[(0,\n",
      "  '0.004*\"help\" + 0.004*\"oil\" + 0.004*\"president\" + 0.003*\"week\" + '\n",
      "  '0.003*\"china\" + 0.003*\"election\" + 0.003*\"may\" + 0.003*\"economy\" + '\n",
      "  '0.003*\"health\" + 0.003*\"dies\"'),\n",
      " (1,\n",
      "  '0.005*\"new\" + 0.004*\"years\" + 0.004*\"china\" + 0.004*\"program\" + '\n",
      "  '0.004*\"news\" + 0.003*\"class\" + 0.003*\"show\" + 0.003*\"house\" + 0.003*\"top\" + '\n",
      "  '0.003*\"political\"'),\n",
      " (2,\n",
      "  '0.010*\"obama\" + 0.008*\"iraq\" + 0.005*\"politics\" + 0.005*\"trump\" + '\n",
      "  '0.005*\"week\" + 0.004*\"new\" + 0.004*\"iran\" + 0.004*\"election\" + '\n",
      "  '0.004*\"court\" + 0.004*\"policy\"'),\n",
      " (3,\n",
      "  '0.025*\"new\" + 0.007*\"orleans\" + 0.007*\"program\" + 0.006*\"class\" + '\n",
      "  '0.006*\"obama\" + 0.005*\"court\" + 0.005*\"iran\" + 0.004*\"public\" + '\n",
      "  '0.004*\"news\" + 0.004*\"life\"'),\n",
      " (4,\n",
      "  '0.009*\"new\" + 0.005*\"change\" + 0.004*\"president\" + 0.004*\"black\" + '\n",
      "  '0.004*\"obama\" + 0.004*\"climate\" + 0.003*\"government\" + 0.003*\"letters\" + '\n",
      "  '0.003*\"years\" + 0.003*\"may\"'),\n",
      " (5,\n",
      "  '0.011*\"new\" + 0.006*\"letters\" + 0.005*\"obama\" + 0.005*\"trump\" + '\n",
      "  '0.004*\"news\" + 0.004*\"bush\" + 0.004*\"world\" + 0.004*\"north\" + 0.004*\"iraq\" '\n",
      "  '+ 0.004*\"program\"'),\n",
      " (6,\n",
      "  '0.007*\"health\" + 0.006*\"care\" + 0.006*\"congress\" + 0.006*\"iraq\" + '\n",
      "  '0.006*\"obama\" + 0.005*\"new\" + 0.004*\"gop\" + 0.004*\"bill\" + 0.003*\"war\" + '\n",
      "  '0.003*\"court\"'),\n",
      " (7,\n",
      "  '0.006*\"new\" + 0.006*\"plan\" + 0.004*\"obama\" + 0.004*\"health\" + 0.003*\"may\" + '\n",
      "  '0.003*\"high\" + 0.003*\"home\" + 0.003*\"school\" + 0.003*\"news\" + '\n",
      "  '0.003*\"senate\"'),\n",
      " (8,\n",
      "  '0.007*\"new\" + 0.006*\"iraq\" + 0.005*\"house\" + 0.005*\"war\" + 0.004*\"white\" + '\n",
      "  '0.004*\"life\" + 0.004*\"years\" + 0.004*\"letters\" + 0.003*\"news\" + '\n",
      "  '0.003*\"china\"'),\n",
      " (9,\n",
      "  '0.027*\"program\" + 0.026*\"class\" + 0.008*\"radio\" + 0.007*\"public\" + '\n",
      "  '0.006*\"may\" + 0.005*\"news\" + 0.005*\"trump\" + 0.004*\"bill\" + 0.003*\"brief\" + '\n",
      "  '0.003*\"new\"')]\n"
     ]
    }
   ],
   "source": [
    "from pprint import pprint\n",
    "# number of topics\n",
    "num_topics = 10\n",
    "# Build LDA model\n",
    "lda_model = gensim.models.LdaMulticore(corpus=corpus,\n",
    "                                       id2word=id2word,\n",
    "                                       num_topics=num_topics)\n",
    "# Print the Keyword in the 10 topics\n",
    "pprint(lda_model.print_topics())\n",
    "doc_lda = lda_model[corpus]"
   ]
  },
  {
   "cell_type": "code",
   "execution_count": 61,
   "id": "497d64a6",
   "metadata": {},
   "outputs": [
    {
     "name": "stderr",
     "output_type": "stream",
     "text": [
      "/usr/local/anaconda3/lib/python3.8/site-packages/ipykernel/ipkernel.py:287: DeprecationWarning: `should_run_async` will not call `transform_cell` automatically in the future. Please pass the result to `transformed_cell` argument and any exception that happen during thetransform in `preprocessing_exc_tuple` in IPython 7.17 and above.\n",
      "  and should_run_async(code)\n"
     ]
    },
    {
     "data": {
      "text/html": [
       "\n",
       "<link rel=\"stylesheet\" type=\"text/css\" href=\"https://cdn.jsdelivr.net/gh/bmabey/pyLDAvis@3.3.1/pyLDAvis/js/ldavis.v1.0.0.css\">\n",
       "\n",
       "\n",
       "<div id=\"ldavis_el145241405966755998245807326583\"></div>\n",
       "<script type=\"text/javascript\">\n",
       "\n",
       "var ldavis_el145241405966755998245807326583_data = {\"mdsDat\": {\"x\": [0.08688677718935209, 0.025912249001898244, -0.02710204311513002, -0.048399426551123455, -0.12355625118492196, -0.023342040706792515, 0.03684433578171661, -0.008026634306052702, 0.029186831909251417, 0.051596201981802446], \"y\": [0.0739218528983138, -0.004519728969551986, 0.023677043126148756, -0.009861406544659565, -0.01461082144648703, 0.11410442498500366, -0.01407461203076645, -0.043758627240176165, -0.059235872684273196, -0.06564225209355176], \"topics\": [1, 2, 3, 4, 5, 6, 7, 8, 9, 10], \"cluster\": [1, 1, 1, 1, 1, 1, 1, 1, 1, 1], \"Freq\": [11.652804423712098, 10.728493953930139, 10.498811830307789, 10.338503743409964, 10.189431001687867, 9.636026529237755, 9.598939585436636, 9.518566119603774, 9.04962839291965, 8.788794419754325]}, \"tinfo\": {\"Term\": [\"program\", \"class\", \"new\", \"orleans\", \"radio\", \"iraq\", \"public\", \"care\", \"health\", \"years\", \"congress\", \"obama\", \"week\", \"iran\", \"politics\", \"bush\", \"plan\", \"court\", \"change\", \"may\", \"help\", \"president\", \"top\", \"north\", \"black\", \"life\", \"york\", \"bill\", \"gas\", \"climate\", \"payroll\", \"asset\", \"faithful\", \"alters\", \"pilgrims\", \"vintage\", \"earmarks\", \"remedy\", \"precedent\", \"fading\", \"cio\", \"afl\", \"automatic\", \"rogers\", \"flotilla\", \"ignite\", \"foe\", \"brownback\", \"fundamental\", \"blackouts\", \"authorized\", \"halo\", \"cyprus\", \"plight\", \"nuns\", \"cruise\", \"filing\", \"replaces\", \"broadband\", \"adieu\", \"bets\", \"carriers\", \"friend\", \"earnings\", \"passport\", \"whyy\", \"class\", \"program\", \"conn\", \"louis\", \"fm\", \"wlrn\", \"northwest\", \"refinery\", \"radio\", \"kcur\", \"milwaukee\", \"kera\", \"connecticut\", \"subprime\", \"michigan\", \"public\", \"wpln\", \"hearings\", \"governor\", \"kqed\", \"wisconsin\", \"programs\", \"ncpr\", \"capital\", \"oregon\", \"may\", \"moves\", \"bill\", \"st\", \"alaska\", \"news\", \"primary\", \"hold\", \"trump\", \"florida\", \"brief\", \"police\", \"oil\", \"take\", \"review\", \"begins\", \"morning\", \"money\", \"pay\", \"report\", \"senate\", \"new\", \"state\", \"election\", \"court\", \"death\", \"fight\", \"house\", \"life\", \"say\", \"could\", \"pioneers\", \"units\", \"sachs\", \"pumps\", \"deadlock\", \"drawn\", \"dumping\", \"destroys\", \"foil\", \"nicole\", \"barbaro\", \"bonus\", \"gaps\", \"foes\", \"ability\", \"bounty\", \"hog\", \"qaeda\", \"lott\", \"faulted\", \"karadzic\", \"gum\", \"instinct\", \"elevators\", \"gis\", \"mechanics\", \"explosives\", \"overdue\", \"maintenance\", \"fiasco\", \"delaware\", \"contracts\", \"enjoy\", \"ethiopian\", \"ethiopia\", \"pill\", \"displaced\", \"poised\", \"losses\", \"ideas\", \"group\", \"persist\", \"north\", \"korea\", \"break\", \"county\", \"airways\", \"link\", \"poses\", \"flu\", \"carolina\", \"economic\", \"raise\", \"letters\", \"nfl\", \"unemployment\", \"jordan\", \"immigration\", \"bush\", \"history\", \"world\", \"new\", \"voters\", \"questions\", \"pay\", \"help\", \"rules\", \"says\", \"trump\", \"french\", \"brief\", \"focus\", \"news\", \"may\", \"study\", \"obama\", \"iraq\", \"candidates\", \"gop\", \"make\", \"back\", \"program\", \"iran\", \"day\", \"class\", \"rights\", \"report\", \"insurgent\", \"sadr\", \"dow\", \"january\", \"ieds\", \"pitches\", \"buyout\", \"geithner\", \"laptop\", \"digs\", \"practices\", \"decries\", \"chertoff\", \"gate\", \"rehnquist\", \"cited\", \"accuracy\", \"havens\", \"gridiron\", \"juggling\", \"tel\", \"aviv\", \"barrel\", \"waves\", \"shocking\", \"flare\", \"pin\", \"parallels\", \"rejecting\", \"peru\", \"boon\", \"fell\", \"crises\", \"rein\", \"premier\", \"rove\", \"assets\", \"perspectives\", \"dominate\", \"curb\", \"wall\", \"plan\", \"bank\", \"stakes\", \"witnesses\", \"afghan\", \"early\", \"katrina\", \"saddam\", \"street\", \"ever\", \"faces\", \"red\", \"town\", \"home\", \"road\", \"school\", \"haiti\", \"high\", \"bad\", \"fed\", \"aims\", \"gaza\", \"end\", \"big\", \"health\", \"family\", \"senate\", \"cut\", \"makes\", \"new\", \"may\", \"workers\", \"roundtable\", \"obama\", \"help\", \"week\", \"politics\", \"letters\", \"life\", \"news\", \"year\", \"trump\", \"south\", \"american\", \"iraq\", \"state\", \"iran\", \"padilla\", \"dip\", \"stearns\", \"lacrosse\", \"allege\", \"mandate\", \"bonuses\", \"resists\", \"unveiled\", \"deny\", \"samples\", \"districts\", \"criticize\", \"ge\", \"sharply\", \"uneven\", \"dogfighting\", \"winding\", \"glitch\", \"cripples\", \"galapagos\", \"milosevic\", \"hamdan\", \"gadget\", \"warring\", \"guthrie\", \"greenland\", \"bullets\", \"giffords\", \"defending\", \"huckabee\", \"dubai\", \"blizzard\", \"stokes\", \"batters\", \"hydrogen\", \"dealers\", \"dept\", \"pension\", \"trek\", \"lay\", \"advantage\", \"parties\", \"congress\", \"layoffs\", \"bowl\", \"care\", \"plant\", \"laden\", \"bin\", \"health\", \"test\", \"official\", \"withdrawal\", \"states\", \"gop\", \"marriage\", \"super\", \"bill\", \"tax\", \"wins\", \"iraq\", \"tech\", \"takes\", \"defends\", \"turns\", \"battle\", \"obama\", \"democrats\", \"high\", \"case\", \"power\", \"game\", \"war\", \"time\", \"court\", \"back\", \"race\", \"debate\", \"new\", \"senate\", \"world\", \"news\", \"letters\", \"may\", \"death\", \"says\", \"brief\", \"shrine\", \"czar\", \"greenspan\", \"chronic\", \"olympian\", \"packard\", \"hewlett\", \"berlusconi\", \"islamists\", \"pioneering\", \"outpace\", \"biologist\", \"donates\", \"crackdowns\", \"shiite\", \"destructive\", \"accuse\", \"honest\", \"streams\", \"chechen\", \"naval\", \"deluge\", \"hijack\", \"scheduled\", \"kicking\", \"bain\", \"praises\", \"cleric\", \"supplements\", \"xbox\", \"hazards\", \"arabic\", \"rhetoric\", \"reviewed\", \"aide\", \"mood\", \"sunni\", \"islamist\", \"firewall\", \"mortgages\", \"militants\", \"monitor\", \"insurgency\", \"hears\", \"iraqis\", \"soviet\", \"prime\", \"policy\", \"minister\", \"global\", \"week\", \"obama\", \"nobel\", \"politics\", \"iraq\", \"foreign\", \"budget\", \"baghdad\", \"qaida\", \"warming\", \"stocks\", \"opposition\", \"egypt\", \"kerry\", \"syria\", \"leader\", \"election\", \"king\", \"would\", \"first\", \"iran\", \"security\", \"trump\", \"court\", \"still\", \"look\", \"back\", \"deal\", \"day\", \"nuclear\", \"war\", \"new\", \"house\", \"says\", \"talks\", \"government\", \"president\", \"lobbying\", \"zarqawi\", \"lobbyist\", \"hybrids\", \"dreamliner\", \"negotiate\", \"merrill\", \"closings\", \"rendition\", \"envoys\", \"crist\", \"irrational\", \"dismissal\", \"fare\", \"immunity\", \"devastated\", \"aside\", \"autos\", \"gunfire\", \"adoption\", \"borat\", \"preval\", \"recipients\", \"delirium\", \"debts\", \"blight\", \"spreading\", \"hormone\", \"tortured\", \"sifting\", \"morsi\", \"hail\", \"abdullah\", \"ignored\", \"scrambles\", \"governments\", \"upholds\", \"pins\", \"portugal\", \"francisco\", \"filibuster\", \"haitian\", \"moved\", \"recordings\", \"irs\", \"gas\", \"stops\", \"recruiting\", \"investigators\", \"gone\", \"attack\", \"dispute\", \"turmoil\", \"spill\", \"oil\", \"san\", \"prices\", \"real\", \"help\", \"hits\", \"economy\", \"recession\", \"jobs\", \"scientists\", \"dies\", \"fire\", \"president\", \"pakistan\", \"week\", \"women\", \"election\", \"leaders\", \"say\", \"china\", \"texas\", \"care\", \"crisis\", \"get\", \"talks\", \"debate\", \"may\", \"health\", \"workers\", \"face\", \"law\", \"trump\", \"public\", \"program\", \"obama\", \"political\", \"class\", \"toyota\", \"parish\", \"aiding\", \"coretta\", \"asserts\", \"bangkok\", \"mayo\", \"taxing\", \"reopening\", \"marjah\", \"committed\", \"prosecution\", \"philharmonic\", \"deniers\", \"scholarship\", \"astrodome\", \"fertile\", \"cheetos\", \"mullen\", \"bishops\", \"confession\", \"preserved\", \"faltering\", \"shells\", \"alley\", \"marshals\", \"restricts\", \"catastrophe\", \"autopsy\", \"herbert\", \"networking\", \"multitasking\", \"antitrust\", \"downward\", \"preps\", \"orleans\", \"afloat\", \"fill\", \"countdown\", \"grill\", \"area\", \"exchange\", \"resumes\", \"drink\", \"hampshire\", \"new\", \"lobbyists\", \"scrutiny\", \"oks\", \"york\", \"equity\", \"response\", \"windows\", \"iran\", \"preview\", \"court\", \"chicago\", \"east\", \"moussaoui\", \"clinton\", \"vote\", \"public\", \"life\", \"future\", \"seeks\", \"debate\", \"obama\", \"middle\", \"program\", \"class\", \"bush\", \"shooting\", \"radio\", \"news\", \"roundtable\", \"war\", \"questions\", \"says\", \"state\", \"case\", \"africa\", \"crisis\", \"brief\", \"take\", \"behind\", \"high\", \"health\", \"campaign\", \"citigroup\", \"hybrid\", \"revenue\", \"scrutinizes\", \"petraeus\", \"fatah\", \"disarray\", \"auctions\", \"bosnian\", \"karbala\", \"shutter\", \"depot\", \"blockbuster\", \"freedoms\", \"flux\", \"prosperity\", \"jeffs\", \"hinges\", \"relieved\", \"studied\", \"clients\", \"judging\", \"flowing\", \"haggard\", \"solves\", \"slowdown\", \"pad\", \"nepalese\", \"introduce\", \"concept\", \"currency\", \"jpmorgan\", \"exiles\", \"blogs\", \"nine\", \"classroom\", \"apple\", \"booms\", \"chernobyl\", \"sales\", \"origins\", \"plots\", \"profits\", \"sees\", \"fema\", \"reserve\", \"mix\", \"cell\", \"post\", \"white\", \"sheriff\", \"spy\", \"house\", \"details\", \"lose\", \"iraq\", \"civil\", \"years\", \"music\", \"war\", \"life\", \"rural\", \"summer\", \"pelosi\", \"update\", \"china\", \"black\", \"changes\", \"panel\", \"new\", \"politics\", \"american\", \"letters\", \"bush\", \"news\", \"tv\", \"russia\", \"could\", \"trump\", \"brief\", \"obama\", \"syria\", \"race\", \"program\", \"class\", \"roundtable\", \"future\", \"vioxx\", \"arise\", \"reduction\", \"evacuee\", \"wetlands\", \"sarkozy\", \"cartels\", \"riles\", \"sprawl\", \"noir\", \"skype\", \"replaced\", \"discord\", \"owen\", \"desperation\", \"lively\", \"virtually\", \"whitman\", \"swan\", \"wal\", \"lama\", \"dalai\", \"smokers\", \"clunkers\", \"stumbling\", \"lackluster\", \"letts\", \"hummingbird\", \"branch\", \"mogadishu\", \"mart\", \"adventure\", \"sponsors\", \"october\", \"patrols\", \"murdoch\", \"intel\", \"hire\", \"brothers\", \"pictures\", \"eager\", \"insurers\", \"georgia\", \"financing\", \"change\", \"pact\", \"climate\", \"fallen\", \"landscape\", \"die\", \"share\", \"market\", \"black\", \"president\", \"computer\", \"government\", \"mexican\", \"welcome\", \"love\", \"new\", \"mars\", \"illegal\", \"years\", \"make\", \"violence\", \"race\", \"american\", \"african\", \"next\", \"letters\", \"obama\", \"police\", \"school\", \"south\", \"may\", \"political\", \"free\", \"immigration\", \"war\", \"still\", \"americans\", \"gop\", \"trump\", \"year\", \"program\", \"takes\", \"class\", \"corp\", \"sago\", \"scare\", \"wolfowitz\", \"defensive\", \"saints\", \"violin\", \"footing\", \"genre\", \"holbrooke\", \"marching\", \"briefing\", \"mammogram\", \"avert\", \"paperwork\", \"cisco\", \"charting\", \"recovers\", \"tack\", \"patty\", \"thembi\", \"frustrate\", \"chirac\", \"shadows\", \"misery\", \"rigging\", \"tajikistan\", \"differs\", \"till\", \"tightening\", \"lucrative\", \"exxon\", \"landmark\", \"skepticism\", \"manning\", \"havoc\", \"leno\", \"intimate\", \"passing\", \"iowans\", \"profiling\", \"top\", \"later\", \"show\", \"record\", \"killer\", \"revive\", \"probes\", \"networks\", \"spar\", \"pleads\", \"focuses\", \"disclosure\", \"trade\", \"years\", \"libby\", \"gays\", \"two\", \"enough\", \"dream\", \"armstrong\", \"reality\", \"next\", \"china\", \"baltimore\", \"sparks\", \"tv\", \"city\", \"recalls\", \"know\", \"campaign\", \"house\", \"political\", \"debt\", \"cia\", \"senate\", \"general\", \"new\", \"news\", \"year\", \"free\", \"one\", \"low\", \"program\", \"black\", \"class\", \"war\", \"work\", \"russia\", \"attacks\", \"world\", \"life\", \"power\", \"court\", \"brief\", \"trump\"], \"Freq\": [1995.0, 1889.0, 2710.0, 354.0, 639.0, 1179.0, 755.0, 522.0, 792.0, 531.0, 429.0, 1536.0, 522.0, 652.0, 638.0, 629.0, 511.0, 738.0, 433.0, 910.0, 459.0, 584.0, 201.0, 356.0, 537.0, 664.0, 249.0, 512.0, 214.0, 328.0, 12.071710529011835, 10.735305638130505, 9.900466186778313, 9.886825858536719, 9.76971829482706, 8.407609456967299, 8.397281007951142, 8.377726653030354, 8.305020127523065, 7.642376539312116, 7.658640871588972, 7.6581296704326345, 7.5122983087331185, 7.510435642286988, 6.9019399133756, 6.859094335223748, 6.854855372666093, 6.840190820730032, 6.832703727309666, 6.80222229589036, 6.783253818779389, 6.759115653014963, 6.756396329999247, 12.768572416952367, 11.04223154094796, 11.376218320179017, 6.241602194513545, 6.229379508433525, 6.131751622991174, 6.128642524271932, 14.42543486311248, 6.184060493807901, 34.612976164385145, 20.76485740241108, 12.147531010256479, 38.399908188857616, 1084.1287181879757, 1115.3389063189124, 18.74895203483223, 46.078997106700065, 64.81334165955906, 18.749001819267882, 25.784160632559452, 11.523823100616848, 343.85644403034814, 31.315918129717843, 26.29998809864858, 23.391275375672524, 33.3641445243261, 15.957933360502912, 92.89212278706309, 303.3768699686403, 31.55139122482829, 40.86829093528471, 75.32900929588028, 76.25361069184169, 49.53726685804727, 27.379870792174568, 32.68829288248556, 57.85072362603169, 45.804109309606964, 245.00145724697327, 71.17378173048482, 152.89017783377884, 55.90135940659361, 46.700117439940286, 226.71593030981478, 76.04860081433263, 59.49557223789062, 204.64853478956607, 83.3220291509129, 142.3301656220908, 105.42144213455899, 98.82793319248844, 100.69976968881534, 65.00190081672119, 59.588069290824414, 67.75171619214794, 65.4551674610127, 61.918903712815535, 83.42024777118317, 86.25722233663811, 121.18926573486735, 77.99814474344086, 79.09029383620988, 83.28065707063091, 70.18417400410618, 68.79318230091339, 73.86170898112253, 72.34826213727825, 65.95309438684835, 66.1840067419512, 9.44684010873085, 9.336520229604515, 8.918381487590603, 8.083742901864884, 8.077277861700441, 13.387799135661252, 7.359301780965309, 7.356509728776013, 7.338320305294155, 7.208392338330319, 6.846351766029671, 6.833550807633862, 6.921173175008733, 6.747728880719795, 6.730313070897593, 6.71129860857061, 6.708546802178637, 14.587093711544219, 6.047409525621397, 6.02680479533074, 5.572724879399001, 5.451529132515483, 5.420885870639728, 5.407469486926518, 5.401438207022112, 5.385955872379645, 5.383516529886334, 5.363283514251509, 5.355724011987637, 5.344964968836572, 9.437449422688772, 9.44297315837138, 8.70991999581405, 10.38608981902649, 22.385517387102816, 16.145239939259376, 22.32605645743544, 20.86574217331887, 32.088913274380836, 21.338713019338588, 106.99055448628414, 14.072436045069383, 157.43454741606098, 131.24008727869716, 54.15935525775094, 40.23126411859761, 12.106206376007627, 29.241236921428865, 13.651365508514358, 62.36714576841521, 61.19899361408869, 100.57199374599305, 41.27443965696986, 232.0455155926752, 54.17175096332648, 28.519240732716675, 24.649804077323648, 120.88494200605693, 163.6570842928566, 97.92029653898398, 163.24028092875665, 419.83721751132134, 105.77291341651588, 83.47472940960438, 64.27076751004668, 108.58382299773548, 81.20946340498202, 129.24736581354742, 177.89493839049598, 57.63034510437865, 139.79129070616492, 53.64305981091281, 168.33425410052598, 146.09195809083062, 77.8238438379873, 179.2047155056028, 151.375676781713, 67.3406900993278, 100.10428392003453, 81.24682044840844, 95.05069069824613, 149.8210889532445, 98.17960468289253, 86.65319044251088, 124.87574209915566, 72.05047688984999, 72.47258375568609, 21.29744097423326, 21.268710207032516, 32.433366875863136, 12.337553973525319, 11.767917447632827, 11.023778324274172, 10.397393555436093, 9.965757046154534, 9.77611450933527, 9.621099428286245, 17.143449242117622, 8.45539958446329, 7.658202845040156, 7.53971495996562, 7.478824812952481, 6.917832022938943, 6.864943430693387, 6.85993671543582, 6.855784965320566, 6.848279541956742, 6.827631285915815, 6.8268676702160915, 12.358797368449698, 18.35022242094114, 6.211284562712128, 6.167061586451534, 6.151341824289189, 6.186796348066577, 5.579446177451243, 5.618802471132729, 10.266925765318842, 13.749167610802123, 15.669629369451224, 11.597756957204199, 12.283914893643646, 27.539095671088877, 12.561164280918641, 10.766489063706112, 16.29988801105824, 23.09772078060006, 80.76410111056947, 211.01720362765687, 81.926897464325, 18.455679061879216, 14.332866480826759, 101.80348592651904, 61.99303563664113, 103.61446729273497, 35.97106056801096, 63.655779284644396, 28.88396732700037, 94.46800534607026, 52.99742389284659, 94.17287772417511, 122.88599205539165, 61.66329368703935, 116.47978583328288, 49.65017464340327, 126.80623314498398, 59.52290294883298, 49.62034768289146, 45.04512999593347, 63.26160479886657, 75.89660021549753, 97.08736910890389, 135.76666167831564, 84.46042994730554, 108.95688901680127, 56.280765728658096, 74.25608237917845, 233.42988892125575, 131.3140601054335, 70.83841857257617, 84.57256111458175, 145.63041476426037, 85.51200534619485, 89.13535090132649, 95.58157146130497, 106.47715533847625, 95.5388002300781, 110.73750079587636, 82.27486116621128, 100.19296133951747, 74.64995054347214, 76.74446307539833, 81.00164029344828, 75.90745274807811, 76.39008412643012, 16.031990132875688, 15.994863117012754, 15.101746318855898, 13.077460497772195, 12.299232438457071, 21.64824875402709, 9.740539728362462, 9.447454671907991, 8.140904318236922, 8.049526052386073, 8.026494978230435, 15.115683358702075, 18.929949628119665, 7.438910369432335, 7.339647878018044, 7.188655559029069, 6.619427616417791, 6.496608328080225, 6.560970045638394, 6.483684489592581, 6.47983798725272, 5.888141860129434, 5.808871377445562, 5.785742268921369, 5.772060549353738, 5.7446707163500195, 5.739173789256016, 5.737106449110325, 5.9071610662795715, 11.735837540774844, 28.28732579753573, 17.53525883601196, 9.283827769683647, 14.485867483071639, 9.28452801517333, 8.655600374014034, 11.50582197962489, 13.014017179106261, 22.523122541226602, 12.897929404526046, 17.74077980993284, 13.773374161124837, 29.49962741749863, 212.81941935428617, 19.378356675290853, 45.44878066354646, 216.58626607644325, 54.409828658810106, 34.049678251150596, 32.595694980179644, 265.85110886976315, 96.8910939039721, 62.0228329845864, 35.865817716377485, 91.4182423272053, 153.26104542829674, 66.51206588150836, 47.23503149667222, 136.51418975721538, 91.88139546708844, 66.14115554133065, 211.7858311562976, 69.28181042759158, 106.81313726326012, 41.149829244088394, 63.31390468103324, 78.5594512590487, 207.47259472885005, 93.65886414447283, 108.01343990743213, 104.4344830550665, 83.01588250263246, 65.98962241736349, 124.99108787350663, 91.0067737682652, 113.78361787371938, 99.30581614138812, 87.83226147392777, 100.50522247133334, 184.82764670923083, 85.76282705557165, 88.99296254240639, 101.069314382603, 82.34267295265681, 79.6727424759736, 69.597101884475, 70.7570919344564, 70.49981527774275, 15.205073041329412, 12.869960818400584, 12.161870556064995, 10.302491513864792, 9.047179301358991, 9.00849700745886, 9.007648655657526, 9.275424159528448, 15.869401516626468, 8.362020020066474, 8.265205454202706, 7.728135057940573, 7.5868977551054435, 7.539898109721268, 42.354886357095495, 7.499159173218903, 6.929523322515319, 6.788615167437904, 6.726693449192714, 6.114809891136082, 6.102992955750666, 6.080029590815303, 6.053828367534299, 6.048413886919902, 6.047097826772525, 5.9812438545896125, 15.79877596372366, 20.306558558780676, 5.450042375200915, 5.420071879210603, 10.923431944093364, 9.041358694882254, 35.36932403617891, 16.531923926323937, 16.803003648975526, 12.539965770652088, 28.937337278923373, 19.19434705012545, 8.317718855412073, 14.858898788638827, 39.40488152854435, 16.387559719790524, 17.8763056456011, 42.614390696345154, 54.6917860112763, 17.176824189780177, 58.11526670399832, 128.92055127078885, 65.39303366300999, 80.47400207317676, 171.68294378727362, 362.56378942045603, 47.20127068288175, 189.33846348760184, 291.21121495040984, 78.26914529741198, 91.37559665619624, 53.15796170739633, 47.08398790443949, 37.075046287408554, 32.70436541287604, 57.78346452888328, 77.82425644688205, 31.642883006053278, 123.24406479418326, 77.2665230038042, 135.44099808058047, 61.421927548672805, 71.01063454399356, 120.56884525497539, 138.86930768943827, 96.64204572097903, 182.74667443220915, 131.1022615268176, 102.13022570362939, 88.12664072228384, 110.44493975854363, 92.59922786613858, 88.28786791168183, 78.56411265313793, 104.19222810547842, 143.0653682461347, 96.09086125651271, 89.56801910045849, 78.4003711995778, 79.32783738066288, 75.02360400604412, 17.693179763062684, 15.245587961809463, 13.795678629045526, 11.638516924888657, 9.444462553545904, 15.278073631110669, 8.272222704386085, 7.940622973257231, 7.379715263677517, 7.313993861867115, 7.267825312599057, 7.2362101985874405, 7.205155372755285, 7.2437053081135705, 6.628198117905875, 7.285019532643995, 11.61852528034914, 6.514229678419739, 6.469361941582668, 24.986131691078963, 5.834053885964661, 5.803870619522776, 5.764949166912878, 5.735888485031274, 5.09707210163722, 5.091330653948774, 5.087397591585073, 5.063643581797459, 5.059968071258187, 5.033720879482044, 13.974139451109698, 12.574656054497174, 8.01352218877887, 10.144686220178583, 11.25926006523359, 12.95859202332121, 15.114391162855268, 7.9695420769429495, 10.02989140583278, 33.883827284922106, 21.584347029990177, 13.071367591199461, 11.358759413920406, 9.469620296084209, 23.93785459752402, 93.36118483608924, 17.742222048477007, 20.373678741654356, 25.589825134735698, 29.609451018062924, 94.57686157861707, 33.41636419692859, 28.29146846544757, 51.298865135010715, 123.4154042585755, 44.799172826236536, 86.8934992405919, 64.50254407691921, 127.63604105703915, 61.112017392654984, 104.10874113736692, 38.69812455304756, 80.94072450662249, 66.79386166473434, 94.64444157078623, 79.52994698556091, 121.4291244245499, 80.55965624934063, 111.03405565879751, 89.78416050791783, 104.33851953698638, 63.143686593820945, 74.0123414535137, 107.00603750198654, 73.89555249521734, 92.65729419377307, 74.59352295992403, 82.03667228406282, 74.57696734791159, 89.40539766579734, 104.30060469530821, 97.0829522854892, 64.71483907549788, 71.48727726019162, 71.91244561934066, 92.51749928069572, 82.10883900813837, 93.37347502841288, 84.39573855296135, 74.4957235536885, 81.45075142244272, 43.345148139360745, 19.796407178101436, 11.693863475990696, 8.888629266986962, 6.98775554306548, 6.872310790954395, 6.304596275169653, 6.269609016009703, 6.160387733022756, 6.157548062684693, 10.286983365155322, 16.296556996710095, 5.574856011273973, 5.488514129242592, 5.4840960863108466, 5.4558914282648105, 5.45490919639726, 5.341155843561154, 4.904719317512142, 13.022432100465394, 4.850893611312009, 4.8492052127453835, 4.823289595054633, 4.805707944696303, 4.8019790644496325, 4.803180348026953, 4.801365419591442, 4.801409930098679, 4.7949634083203, 4.793244002434028, 8.254520077947458, 8.180646139122823, 6.515152979591844, 10.83834552077035, 13.846989747135526, 246.94106138374494, 7.6021005665379, 28.054092503243258, 9.531897118037906, 6.85922420170887, 26.085363761335216, 19.74202233991153, 13.482368673980986, 16.223814825052603, 46.8714525655922, 844.5404198421496, 18.76459160572519, 37.31325223836795, 16.531450446111293, 106.06997508311841, 13.081228980170343, 53.101627272662796, 10.84170131294513, 176.66021475139038, 29.721124025923213, 178.19678547724274, 75.15058819294985, 52.121695948182285, 18.698756064460202, 104.99509734540426, 98.42125751208042, 146.31492338331924, 130.4478897807309, 86.57657343308698, 59.85508950799768, 117.75094051437176, 208.71687010734883, 49.437806384029706, 226.74768649667965, 213.90281431135065, 111.46162384613562, 65.77970808489822, 102.3018055617456, 136.02358198939925, 81.66021286751933, 111.42131032964909, 65.04708714098365, 88.3201050145185, 80.40017942159122, 81.38374760459557, 65.52553608456506, 68.83296884352815, 82.70398726291845, 72.1296830722543, 65.1524680173968, 70.74269965827159, 74.14821557093332, 66.27457290364282, 17.851571440498173, 12.163738701267896, 11.529633050199683, 10.13039889636743, 47.42501545069769, 8.77849932406919, 8.036121136596426, 7.435719913479249, 7.371791001824439, 6.744840635863751, 6.738861697878146, 6.688723125354533, 11.478956889025076, 6.10770088205865, 6.058022037099127, 6.02477436112924, 6.0182474199523535, 5.393603130769457, 5.361439558850378, 5.359398308954165, 5.356487692909248, 5.353848846772768, 5.34908593034827, 5.338548895230473, 5.23614817582572, 10.654808690525227, 4.845765084340759, 4.733892588510403, 4.721029143464731, 4.715440998705126, 27.085370661242912, 17.731879608634387, 7.993667502943495, 13.33181965378209, 12.0502658377468, 15.050750438589828, 78.70523201381584, 11.321816354011903, 13.817553812758618, 83.0296506666346, 14.085647884404459, 10.373514932961598, 38.92377896117065, 58.89582023433065, 34.95327614312688, 16.474871376263625, 28.981961601011765, 48.44588638032742, 82.12444659701303, 136.53920159027965, 16.02910127988099, 33.480307044064055, 175.2981134194053, 46.449742354026526, 29.744682857178084, 218.82640067172898, 58.62424869808999, 124.098717805901, 73.64563806795887, 156.5985980436434, 127.01079783762377, 32.191711015072926, 53.26662433249802, 23.287247330304357, 57.29130259725276, 113.58316639692504, 100.59868257217863, 61.39921386797963, 55.794477257906294, 235.4716688049994, 104.78184435171306, 90.29684943221964, 121.10130599037308, 93.88864782588388, 115.16681924643406, 57.93441732159955, 66.12595910627036, 72.29969858828763, 95.43137252392673, 82.94048633200387, 103.17578337895075, 71.07140969058395, 66.49997401193788, 90.82985171804454, 80.28714712288843, 63.58082399515185, 61.68382242493741, 22.905342183917366, 16.476903878285096, 14.372333070135198, 12.771005475960312, 12.142918029769211, 15.80436546927778, 8.588959917311689, 8.54405820223135, 7.876326245714046, 7.704426023213885, 7.162858493828504, 7.1925982417986445, 7.102881567303863, 7.073257807887043, 6.420890091200971, 6.3993628986037026, 6.396347667715569, 6.391182405107358, 6.290709914033983, 49.152369282771254, 11.566852864236653, 11.567145193110873, 10.71014726447013, 5.921755040905131, 5.688930180530033, 5.683885621456984, 5.676628792903541, 5.676741952467755, 10.605297384254387, 5.659138096261443, 49.072968988547366, 13.60665396681924, 9.227045953997514, 12.934725676462312, 9.214439035547644, 16.86736472659293, 25.041208212547172, 11.176132691927497, 26.379233303718504, 8.539695901030878, 14.281092513508995, 14.267582204538144, 58.51447494864433, 12.727274962369593, 156.06297191852636, 14.720920164701797, 122.04919852395834, 22.729160286406234, 24.663540052973797, 30.580531076225494, 44.62790288280936, 71.24245527229752, 132.61695899477002, 136.91659997255042, 33.24191200706048, 108.40767726641549, 38.20733859685369, 29.321304647594975, 65.56979649410518, 296.7356094103123, 33.7723550082872, 32.79579928507192, 100.21282759335755, 82.61284898811216, 77.5065840046975, 87.98168188035935, 91.99040470648599, 50.371640955270344, 66.63262129709216, 104.9122914873918, 130.22536932494992, 73.13679164107502, 71.4833040887718, 65.32872890247342, 96.82527533505939, 73.84882179499685, 48.34653362210102, 62.96037089118657, 80.91031808067835, 65.5429248695897, 54.39267931396901, 66.88249270281982, 73.07091768676025, 59.95982434250222, 64.69434884151562, 56.18048726899492, 60.08439793476057, 15.613252328039529, 9.279409684398653, 9.183234273074863, 8.640682453560846, 7.810887459335618, 7.868539955085362, 7.778156168858812, 7.7442874339843515, 6.955492181720816, 6.449005225636473, 6.475590469935611, 6.437873473097425, 6.419071297408167, 6.38552309839456, 6.378333936944002, 5.713747246577703, 5.686590532629501, 5.682734486223441, 5.627712674074554, 5.6140235032742725, 5.036144510718913, 5.030920692003757, 5.018925324273896, 9.291048799414593, 5.100097367767907, 5.002609591048112, 4.953155486802239, 4.948551218115274, 4.968440010372823, 4.935304844711342, 8.476890460298515, 15.377444169194264, 15.11914355108458, 14.604843762346134, 7.768505291996904, 7.815341076167982, 8.419868046469531, 7.784892916837194, 9.240393143598894, 14.165912944295144, 14.707754090014815, 99.85604951698915, 76.24244739298108, 104.18633880316533, 84.45048794208087, 24.57457229811198, 20.25287703627364, 28.717230881145827, 18.387336346507993, 16.29966064190432, 20.732514077019456, 27.626690953917727, 11.400688537020653, 74.66782138725853, 129.92661394042517, 27.835178467617382, 14.93016568150992, 71.5220348263776, 24.81297404997992, 36.897567973700475, 19.79630392444131, 32.020107488347016, 77.84036445016996, 121.63514614909609, 30.02913653714591, 31.748450598823965, 64.93381767101413, 74.96099264376203, 25.282989519999678, 40.49420379175564, 69.1313867944623, 102.49663492849612, 88.4348402741567, 50.12596938982241, 42.55990538937273, 83.80318866650711, 41.199734359262166, 169.89558217568683, 110.50410428384257, 67.48770087961063, 45.409143161593505, 64.86910239652467, 40.38978969299119, 112.76518988916766, 67.51330711580904, 108.27374616195559, 78.70600176435575, 55.02141651605344, 56.10477277673146, 50.48159934835495, 64.9797110797543, 65.01947950610193, 52.8660308162032, 63.00161284872504, 62.03312565077575, 61.4046628940192], \"Total\": [1995.0, 1889.0, 2710.0, 354.0, 639.0, 1179.0, 755.0, 522.0, 792.0, 531.0, 429.0, 1536.0, 522.0, 652.0, 638.0, 629.0, 511.0, 738.0, 433.0, 910.0, 459.0, 584.0, 201.0, 356.0, 537.0, 664.0, 249.0, 512.0, 214.0, 328.0, 12.941027232233223, 11.60469462942111, 10.76980269464758, 10.756144024063026, 10.69844602257759, 9.2769866872532, 9.266536326373732, 9.24708047382981, 9.174370694199608, 8.511648865133541, 8.53516191395924, 8.534650608682854, 8.381511067543043, 8.379759431168688, 7.7711970264017936, 7.728334569448299, 7.724126047832393, 7.709422584547794, 7.7019948242018135, 7.671516604536292, 7.652726611021886, 7.628619156827907, 7.625640112779405, 14.542661308514619, 12.58391881269309, 12.969273480246475, 7.122076759901066, 7.110071754465602, 7.001038313094165, 6.997855229016949, 16.662636693878877, 7.062612227373107, 42.04726248501876, 24.983450921334054, 14.409448018811457, 49.10280659160302, 1889.3760552383815, 1995.355102069671, 23.1977605104697, 64.88710815668274, 95.23021020590218, 23.664651010957872, 33.93460610965988, 13.770125396651173, 639.7786787355643, 42.779598606173145, 36.06829456679588, 31.427101818731796, 47.920216225089725, 20.272168685874377, 169.29623714489048, 755.680580706182, 46.77940212805561, 64.76357624798348, 140.6281930214201, 143.67393511028544, 84.5675728165333, 40.08491690988007, 51.03643049097902, 117.43503166162952, 87.46219622528365, 910.6976910161299, 168.86808392702278, 512.0402008663864, 124.19484451122098, 96.2538999089731, 1124.6360312950842, 209.30432007615917, 142.30400183179918, 1121.049099183239, 271.28693961393844, 747.3877068299716, 446.0767831642636, 409.9661996595693, 438.16958846530696, 184.60775857040028, 156.15916456392182, 225.1650160454462, 216.37908164213815, 191.92854219139, 430.97512557537493, 549.7989965548594, 2710.1785504110394, 507.7441629844219, 564.8172488176525, 738.2643636486603, 416.9155392108059, 392.11776650948116, 722.1750244247671, 664.8908582466593, 309.1408561687133, 486.3619767948539, 10.328894804620745, 10.217932810681784, 9.82929654101941, 8.965244650486678, 8.958746793181076, 14.955473010253028, 8.240787623560818, 8.237931215400932, 8.219877212162169, 8.089857459220593, 7.727798830096333, 7.718938826798931, 7.820316662309811, 7.629223395568478, 7.61177286158437, 7.592741960750006, 7.590003396546397, 16.534855223749336, 6.928849940859346, 6.908162589478552, 6.4587203780726545, 6.333865101854177, 6.302284756144284, 6.289119769544549, 6.283194894260165, 6.267569007373169, 6.2652641688376205, 6.244672848480308, 6.237158984093551, 6.2263919180387495, 11.020648194385027, 11.086082293947976, 10.267360178815533, 12.384197451781379, 28.86247900779911, 20.472625383583484, 29.380403084933324, 28.632162513543825, 47.113008114340495, 29.97848952487148, 195.68136501709665, 18.630150121441012, 356.0075387779608, 292.82308972131574, 103.4412849226654, 71.28684767769231, 15.874266381092182, 49.47001434162827, 18.69754539540856, 136.34640072065133, 137.23255242714004, 274.50395389940024, 82.66221347192612, 885.5971003102, 124.10756368464392, 51.38138917396357, 42.23860648568837, 398.367629832381, 629.5906797646714, 311.13761905379874, 649.4185036243052, 2710.1785504110394, 370.22492903319653, 271.28922456557825, 191.92854219139, 459.6155926434247, 292.66789794503507, 636.4160348260973, 1121.049099183239, 166.37846089734253, 747.3877068299716, 148.57555766726637, 1124.6360312950842, 910.6976910161299, 296.8454097391785, 1536.0825282887579, 1179.556199282141, 239.08230470476593, 585.7384153335217, 380.4423651817966, 576.450755356508, 1995.355102069671, 652.715074785321, 460.4364322956777, 1889.3760552383815, 295.55329605164366, 430.97512557537493, 22.17741842322888, 22.149566231783876, 34.17916019265243, 13.217195655144707, 12.64748913291158, 11.903393230857215, 11.277091405665907, 10.861990939017828, 10.65580069058441, 10.500767073771557, 18.73650120406747, 9.341412316315596, 8.53801221498659, 8.419269844677585, 8.358608517707186, 7.797454401839199, 7.744614462486067, 7.73951972980329, 7.735363383324801, 7.72789475862297, 7.707187377566561, 7.706426960617657, 13.961734084803595, 20.87080634631886, 7.090893759767259, 7.046755399100296, 7.030979919738295, 7.143385493460605, 6.459020954111738, 6.504826064582734, 11.892133194042826, 15.988239705496479, 18.67463684641892, 13.94638331508582, 14.85509952141966, 36.465318295398546, 15.38027123067135, 13.041349111633446, 21.394883518945285, 33.35120027368773, 155.2384770091877, 511.059265519117, 161.33067169137013, 27.00536520427867, 19.460072132197862, 266.4286788180875, 138.1349690109077, 297.048165307845, 68.84163093294173, 153.09931845751146, 51.51162080073847, 292.5426357558991, 125.38812391506868, 297.5157893729971, 443.76221793698954, 163.12455041545476, 424.37829284641987, 119.52003130665814, 515.7978857885951, 161.23815431883787, 127.36185220492638, 110.12347782768366, 194.34249977576923, 263.5556443571271, 409.6315260407717, 792.5920066932407, 342.0583816820335, 549.7989965548594, 166.82307167464901, 285.48693518265185, 2710.1785504110394, 910.6976910161299, 284.5392412860852, 420.88687087781017, 1536.0825282887579, 459.6155926434247, 522.7672407937645, 638.230641032949, 885.5971003102, 664.8908582466593, 1124.6360312950842, 447.3637970310689, 1121.049099183239, 355.31895148894256, 494.25167327808884, 1179.556199282141, 507.7441629844219, 652.715074785321, 16.90691070103639, 16.869417159869514, 15.987536455761331, 13.952154718384072, 13.173857348772327, 23.225085764375446, 10.638078433811009, 10.332301634337497, 9.018854205249463, 8.92396220558053, 8.905332909049182, 16.84075956023251, 21.153789337766963, 8.331939380888981, 8.230101810332863, 8.063256744889292, 7.4984099845272265, 7.371081062701865, 7.445730342059371, 7.358142356665947, 7.354303373920843, 6.7625752067153355, 6.68367815308496, 6.660178395471285, 6.646680469139873, 6.6190780421767625, 6.61360703579848, 6.611542477137358, 6.808320535209388, 13.564559718923153, 34.139900636726395, 21.068225961901724, 10.916028523484382, 17.524420758763977, 11.023133662424955, 10.233332650988917, 13.926133045498144, 15.989662554752783, 29.734765599975333, 15.95324157110901, 23.014101117002976, 17.541026634611587, 42.57218200693287, 429.1256722739889, 26.299934651722992, 75.36076281238952, 522.1191572944491, 95.25821065926444, 53.7914106516982, 52.97407822477915, 792.5920066932407, 234.3956562866884, 137.8472245907599, 67.19530823885478, 255.39183475324973, 585.7384153335217, 172.669746582195, 105.49299495953262, 512.0402008663864, 296.24389780546176, 180.40158686484457, 1179.556199282141, 203.74874419881812, 423.27999917225895, 89.27778607760025, 183.97882817299964, 269.76095941146974, 1536.0825282887579, 387.6508565112364, 515.7978857885951, 523.8520677976057, 342.76047292393304, 220.9446350064295, 820.3976151202261, 447.0421416300198, 738.2643636486603, 576.450755356508, 440.18298245138516, 601.2054819459975, 2710.1785504110394, 549.7989965548594, 649.4185036243052, 1124.6360312950842, 885.5971003102, 910.6976910161299, 416.9155392108059, 636.4160348260973, 747.3877068299716, 16.07859505319789, 13.739893074067522, 13.032084414674237, 11.172399379565277, 9.917037898434943, 9.878310345813961, 9.877475368185706, 10.17364102027203, 17.437219457659143, 9.23191771701717, 9.13516333524601, 8.597923462047271, 8.456816353291993, 8.409831806946666, 47.24882513998327, 8.368978261343267, 7.801154082500834, 7.65842009410325, 7.643254615237118, 6.984572415323423, 6.973118013354069, 6.949867052668909, 6.923605395097811, 6.918169109109512, 6.916873673513605, 6.850998002528718, 18.165595188869265, 23.506178847194963, 6.319801885815952, 6.293998242180797, 12.949357516140786, 10.673804766886605, 44.25002584784435, 20.220167950870934, 20.63579711959821, 15.070154704480013, 37.59170142797196, 24.7590094491456, 9.866942301635609, 18.97103114976424, 57.6944006101078, 21.46152468758464, 24.059100654796453, 67.97107576519628, 92.32994157564981, 23.383552933379747, 109.73285114477162, 309.86257118405433, 133.6075420682452, 178.78215227487408, 522.7672407937645, 1536.0825282887579, 94.961037327225, 638.230641032949, 1179.556199282141, 193.59518930571545, 242.531313632315, 113.0954383950119, 95.34237037583667, 68.77209401373845, 57.853239124930326, 136.6430727649808, 218.16404418628943, 55.38566102282138, 463.9631933310198, 225.32013785516068, 564.8172488176525, 159.8180134291349, 209.61130164396198, 509.20070746940223, 652.715074785321, 362.75583417652496, 1121.049099183239, 738.2643636486603, 464.9386975137124, 349.2703569007572, 576.450755356508, 453.01314986464155, 460.4364322956777, 356.44193060649127, 820.3976151202261, 2710.1785504110394, 722.1750244247671, 636.4160348260973, 379.9180307370604, 445.9733356683683, 584.5907939243589, 18.582340545641536, 16.120685795329432, 14.677996053231684, 12.513077934879531, 10.319006004757568, 16.838232937431815, 9.150405679544788, 8.815117120453394, 8.258100872848832, 8.18878848760098, 8.142327326958604, 8.110785327510333, 8.079962000558199, 8.135280979817198, 7.5026899679283465, 8.255116320332737, 13.177696823810694, 7.388734463937279, 7.343900955248775, 28.411203096649302, 6.708585352550081, 6.678349909932695, 6.639458429877357, 6.610470536232998, 5.971543702777785, 5.965909548778367, 5.961928340812863, 5.941969314435312, 5.938617879792652, 5.908323646366345, 16.958375041329298, 15.193739976656772, 9.560491702070996, 12.251343496600143, 13.678956480035458, 15.871703081224906, 19.308263827391553, 9.552567628917988, 12.415883126113801, 49.90671861619418, 30.2412103966371, 17.32362350612195, 14.692440184195213, 11.737964679003184, 37.437243925565554, 214.8944425267188, 26.21589816609798, 31.71438114828223, 43.37128409245648, 53.48870602162543, 257.2514515340929, 64.47355893146258, 51.60939009331092, 116.86134025920377, 409.9661996595693, 100.03938006914063, 261.90296504344633, 171.53899800619988, 459.6155926434247, 167.8593541869173, 380.16294710928184, 85.83679849783364, 277.7187745054761, 209.1157658916779, 364.435545296184, 286.651002341354, 584.5907939243589, 302.3265120437408, 522.7672407937645, 396.2298227691887, 564.8172488176525, 226.255355873124, 309.1408561687133, 656.8568574743252, 330.5918741833549, 522.1191572944491, 360.9784268102942, 455.0935138361919, 379.9180307370604, 601.2054819459975, 910.6976910161299, 792.5920066932407, 284.5392412860852, 385.64887090063905, 405.6080371242508, 1121.049099183239, 755.680580706182, 1995.355102069671, 1536.0825282887579, 546.6825825372284, 1889.3760552383815, 44.9259106306829, 20.683097893499557, 12.573685014703862, 9.768537914137704, 7.870837862812362, 7.7520750032814245, 7.184408673073723, 7.149375082508939, 7.040160262057585, 7.037318561682446, 11.839137172835418, 18.831817084766005, 6.457315048642234, 6.368331677025751, 6.363877629800697, 6.335607795518018, 6.334664256783419, 6.220830839406832, 5.788319796684074, 15.370391789701022, 5.730646736022635, 5.72899258969619, 5.703021467542049, 5.685797127383583, 5.681723604050221, 5.683197907743429, 5.681065714431292, 5.681136550319773, 5.674770977496132, 5.673226428609988, 9.806328068793407, 9.732185829254542, 7.734285574022228, 13.011940792441386, 16.764288229012305, 354.22016049731747, 9.17907806527922, 36.32251901742465, 11.757267981092793, 8.401861754687, 37.10635097751394, 28.38258522498938, 18.338427698668138, 23.04414399162518, 81.97938719850718, 2710.1785504110394, 27.69331308909225, 64.86693225371607, 24.284386595923305, 249.0551881878335, 18.608399120999767, 120.39219096866512, 14.736522320559962, 652.715074785321, 59.389693866898604, 738.2643636486603, 234.06625930250414, 146.51662003522182, 32.45026755108154, 415.1440821920039, 387.0723012376836, 755.680580706182, 664.8908582466593, 359.02428544109716, 198.14256334689296, 601.2054819459975, 1536.0825282887579, 150.77447326422546, 1995.355102069671, 1889.3760552383815, 629.5906797646714, 259.83780862972594, 639.7786787355643, 1124.6360312950842, 420.88687087781017, 820.3976151202261, 271.28922456557825, 636.4160348260973, 507.7441629844219, 523.8520677976057, 303.44715789223307, 360.9784268102942, 747.3877068299716, 438.16958846530696, 302.51290663705777, 515.7978857885951, 792.5920066932407, 342.995515408221, 18.754439224410234, 13.045221814376621, 12.411148369251418, 11.011902269288607, 51.74415996495181, 9.664782808908425, 8.917570370889964, 8.317184832943637, 8.253313249735427, 7.626463418457485, 7.624359501482934, 7.570203942140574, 13.122444754374465, 6.989171099153104, 6.939514584779375, 6.906248304369388, 6.899763113959476, 6.275087274764443, 6.242905275076337, 6.240852890378201, 6.237983550467411, 6.235355621090567, 6.230599663702684, 6.22007558294771, 6.1177244433396565, 12.458349002701718, 5.729192873315197, 5.615300385746858, 5.602497613499496, 5.596934631916112, 32.87795644763696, 21.745787530772915, 9.637218249100297, 16.71918056316214, 15.102362470568897, 19.58835458189671, 126.72700653400726, 14.386326663976606, 18.08230192530933, 137.52369010491358, 18.589617190254287, 13.605820743818196, 65.85112795944602, 113.53578632882065, 61.765721667483646, 24.183730251445304, 49.6860337189724, 102.04049892762467, 210.33422981627066, 462.7387358146209, 24.792802246867026, 69.84503550227753, 722.1750244247671, 111.15737241191795, 60.184754431223304, 1179.556199282141, 167.96621528379646, 531.441405109942, 245.51470858203518, 820.3976151202261, 664.8908582466593, 72.34549319383851, 172.5016284281926, 43.41443453755387, 200.7292947772474, 656.8568574743252, 537.8992287003048, 231.12104815344256, 197.50331040325, 2710.1785504110394, 638.230641032949, 494.25167327808884, 885.5971003102, 629.5906797646714, 1124.6360312950842, 259.5607883764336, 375.1417796142482, 486.3619767948539, 1121.049099183239, 747.3877068299716, 1536.0825282887579, 463.9631933310198, 440.18298245138516, 1995.355102069671, 1889.3760552383815, 420.88687087781017, 359.02428544109716, 23.7818177027192, 17.352893985976976, 15.248312785077715, 13.64771884916896, 13.018992646345971, 17.403856896963582, 9.464893225681674, 9.420037872590365, 8.75223507375127, 8.580406646030658, 8.038780621040866, 8.072946050133549, 7.978754838135515, 7.949680161299051, 7.29677735101356, 7.27529186232463, 7.272331998674692, 7.267071740418151, 7.1667577766321715, 56.06679061080294, 13.199458105057303, 13.201371923405178, 12.258520717058653, 6.820022314646516, 6.564834781470193, 6.559838421091788, 6.552517648156609, 6.55267390535228, 12.24294745433027, 6.535016274588703, 56.83936913728478, 16.048745312796143, 10.765020396013083, 15.25836231812019, 10.878670241234142, 20.65269379954932, 32.121396294816115, 13.445719467267516, 35.50060478579649, 10.09007239580255, 18.245756463918585, 18.82918727457169, 107.04734009482436, 16.557320255376926, 433.3584168947692, 20.25376542387479, 328.15373149256493, 36.02559608218757, 41.464837164702146, 56.29007897987349, 99.41178539219318, 210.68641677206614, 537.8992287003048, 584.5907939243589, 69.34531102042264, 445.9733356683683, 90.29299184201778, 60.18705741924123, 226.01196865730537, 2710.1785504110394, 78.12180028246348, 75.14135012270859, 531.441405109942, 380.4423651817966, 348.63905522653135, 440.18298245138516, 494.25167327808884, 179.5453144791039, 322.1769882983089, 885.5971003102, 1536.0825282887579, 446.0767831642636, 424.37829284641987, 355.31895148894256, 910.6976910161299, 546.6825825372284, 189.62853416146353, 398.367629832381, 820.3976151202261, 464.9386975137124, 270.68668712289787, 585.7384153335217, 1121.049099183239, 447.3637970310689, 1995.355102069671, 423.27999917225895, 1889.3760552383815, 16.489944762599, 10.156323577755064, 10.059862129204635, 9.517486203780086, 8.687474524799779, 8.752645414031319, 8.654763580274071, 8.620900767670197, 7.832121100159473, 7.3256307210436145, 7.355875385651353, 7.3147273810713225, 7.2956719597502175, 7.262093056451011, 7.254951884659681, 6.590333654176137, 6.563231648142714, 6.5593138179632735, 6.504346531655916, 6.490576214956232, 5.912716126768544, 5.90747800598191, 5.8955344982150875, 10.91737599808212, 5.99636336861242, 5.88764018183223, 5.829709901477262, 5.825134770847336, 5.848678134530316, 5.811904621955212, 10.076340657419367, 18.559733361622996, 18.470447917730198, 17.944875550938285, 9.317176467530665, 9.37653804008743, 10.141727455564167, 9.385347671769143, 11.474104850759362, 18.394060042496697, 19.602755693879416, 201.88847328557537, 150.170955857607, 243.60566144365464, 195.78993633423738, 40.6164452562204, 33.0746879276948, 52.392369294916854, 29.727226347510527, 25.408637059264674, 35.64751726807774, 53.32400738626731, 15.793097994023842, 237.80400324885372, 531.441405109942, 57.33535003827251, 23.396549053952704, 249.4008811978316, 50.9290514913982, 94.84907664577986, 37.010549852869794, 78.59215765709976, 322.1769882983089, 656.8568574743252, 71.11757964064714, 79.68711188313155, 259.5607883764336, 341.96838759278444, 54.91064100944794, 127.54708918024873, 342.995515408221, 722.1750244247671, 546.6825825372284, 193.08580423487047, 142.4762246820452, 549.7989965548594, 141.42662383624594, 2710.1785504110394, 1124.6360312950842, 447.3637970310689, 189.62853416146353, 464.71843745238107, 143.50480562307206, 1995.355102069671, 537.8992287003048, 1889.3760552383815, 820.3976151202261, 331.27644717692397, 375.1417796142482, 268.64869960955366, 649.4185036243052, 664.8908582466593, 342.76047292393304, 738.2643636486603, 747.3877068299716, 1121.049099183239], \"Category\": [\"Default\", \"Default\", \"Default\", \"Default\", \"Default\", \"Default\", \"Default\", \"Default\", \"Default\", \"Default\", \"Default\", \"Default\", \"Default\", \"Default\", \"Default\", \"Default\", \"Default\", \"Default\", \"Default\", \"Default\", \"Default\", \"Default\", \"Default\", \"Default\", \"Default\", \"Default\", \"Default\", \"Default\", \"Default\", \"Default\", \"Topic1\", \"Topic1\", \"Topic1\", \"Topic1\", \"Topic1\", \"Topic1\", \"Topic1\", \"Topic1\", \"Topic1\", \"Topic1\", \"Topic1\", \"Topic1\", \"Topic1\", \"Topic1\", \"Topic1\", \"Topic1\", \"Topic1\", \"Topic1\", \"Topic1\", \"Topic1\", \"Topic1\", \"Topic1\", \"Topic1\", \"Topic1\", \"Topic1\", \"Topic1\", \"Topic1\", \"Topic1\", \"Topic1\", \"Topic1\", \"Topic1\", \"Topic1\", \"Topic1\", \"Topic1\", \"Topic1\", \"Topic1\", \"Topic1\", \"Topic1\", \"Topic1\", \"Topic1\", \"Topic1\", \"Topic1\", \"Topic1\", \"Topic1\", \"Topic1\", \"Topic1\", \"Topic1\", \"Topic1\", \"Topic1\", \"Topic1\", \"Topic1\", \"Topic1\", \"Topic1\", \"Topic1\", \"Topic1\", \"Topic1\", \"Topic1\", \"Topic1\", \"Topic1\", \"Topic1\", \"Topic1\", \"Topic1\", \"Topic1\", \"Topic1\", \"Topic1\", \"Topic1\", \"Topic1\", \"Topic1\", \"Topic1\", \"Topic1\", \"Topic1\", \"Topic1\", \"Topic1\", \"Topic1\", \"Topic1\", \"Topic1\", \"Topic1\", \"Topic1\", \"Topic1\", \"Topic1\", \"Topic1\", \"Topic1\", \"Topic1\", \"Topic1\", \"Topic1\", \"Topic1\", \"Topic1\", \"Topic1\", \"Topic1\", \"Topic1\", \"Topic1\", \"Topic1\", \"Topic2\", \"Topic2\", \"Topic2\", \"Topic2\", \"Topic2\", \"Topic2\", \"Topic2\", \"Topic2\", \"Topic2\", \"Topic2\", \"Topic2\", \"Topic2\", \"Topic2\", \"Topic2\", \"Topic2\", \"Topic2\", \"Topic2\", \"Topic2\", \"Topic2\", \"Topic2\", \"Topic2\", \"Topic2\", \"Topic2\", \"Topic2\", \"Topic2\", \"Topic2\", \"Topic2\", \"Topic2\", \"Topic2\", \"Topic2\", \"Topic2\", \"Topic2\", \"Topic2\", \"Topic2\", \"Topic2\", \"Topic2\", \"Topic2\", \"Topic2\", \"Topic2\", \"Topic2\", \"Topic2\", \"Topic2\", \"Topic2\", \"Topic2\", \"Topic2\", \"Topic2\", \"Topic2\", \"Topic2\", \"Topic2\", \"Topic2\", \"Topic2\", \"Topic2\", \"Topic2\", \"Topic2\", \"Topic2\", \"Topic2\", \"Topic2\", \"Topic2\", \"Topic2\", \"Topic2\", \"Topic2\", \"Topic2\", \"Topic2\", \"Topic2\", \"Topic2\", \"Topic2\", \"Topic2\", \"Topic2\", \"Topic2\", \"Topic2\", \"Topic2\", \"Topic2\", \"Topic2\", \"Topic2\", \"Topic2\", \"Topic2\", \"Topic2\", \"Topic2\", \"Topic2\", \"Topic2\", \"Topic2\", \"Topic2\", \"Topic2\", \"Topic2\", \"Topic2\", \"Topic2\", \"Topic2\", \"Topic3\", \"Topic3\", \"Topic3\", \"Topic3\", \"Topic3\", \"Topic3\", \"Topic3\", \"Topic3\", \"Topic3\", \"Topic3\", \"Topic3\", \"Topic3\", \"Topic3\", \"Topic3\", \"Topic3\", \"Topic3\", \"Topic3\", \"Topic3\", \"Topic3\", \"Topic3\", \"Topic3\", \"Topic3\", \"Topic3\", \"Topic3\", \"Topic3\", \"Topic3\", \"Topic3\", \"Topic3\", \"Topic3\", \"Topic3\", \"Topic3\", \"Topic3\", \"Topic3\", \"Topic3\", \"Topic3\", \"Topic3\", \"Topic3\", \"Topic3\", \"Topic3\", \"Topic3\", \"Topic3\", \"Topic3\", \"Topic3\", \"Topic3\", \"Topic3\", \"Topic3\", \"Topic3\", \"Topic3\", \"Topic3\", \"Topic3\", \"Topic3\", \"Topic3\", \"Topic3\", \"Topic3\", \"Topic3\", \"Topic3\", \"Topic3\", \"Topic3\", \"Topic3\", \"Topic3\", \"Topic3\", \"Topic3\", \"Topic3\", \"Topic3\", \"Topic3\", \"Topic3\", \"Topic3\", \"Topic3\", \"Topic3\", \"Topic3\", \"Topic3\", \"Topic3\", \"Topic3\", \"Topic3\", \"Topic3\", \"Topic3\", \"Topic3\", \"Topic3\", \"Topic3\", \"Topic3\", \"Topic3\", \"Topic3\", \"Topic3\", \"Topic3\", \"Topic3\", \"Topic3\", \"Topic3\", \"Topic3\", \"Topic4\", \"Topic4\", \"Topic4\", \"Topic4\", \"Topic4\", \"Topic4\", \"Topic4\", \"Topic4\", \"Topic4\", \"Topic4\", \"Topic4\", \"Topic4\", \"Topic4\", \"Topic4\", \"Topic4\", \"Topic4\", \"Topic4\", \"Topic4\", \"Topic4\", \"Topic4\", \"Topic4\", \"Topic4\", \"Topic4\", \"Topic4\", \"Topic4\", \"Topic4\", \"Topic4\", \"Topic4\", \"Topic4\", \"Topic4\", \"Topic4\", \"Topic4\", \"Topic4\", \"Topic4\", \"Topic4\", \"Topic4\", \"Topic4\", \"Topic4\", \"Topic4\", \"Topic4\", \"Topic4\", \"Topic4\", \"Topic4\", \"Topic4\", \"Topic4\", \"Topic4\", \"Topic4\", \"Topic4\", \"Topic4\", \"Topic4\", \"Topic4\", \"Topic4\", \"Topic4\", \"Topic4\", \"Topic4\", \"Topic4\", \"Topic4\", \"Topic4\", \"Topic4\", \"Topic4\", \"Topic4\", \"Topic4\", \"Topic4\", \"Topic4\", \"Topic4\", \"Topic4\", \"Topic4\", \"Topic4\", \"Topic4\", \"Topic4\", \"Topic4\", \"Topic4\", \"Topic4\", \"Topic4\", \"Topic4\", \"Topic4\", \"Topic4\", \"Topic4\", \"Topic4\", \"Topic4\", \"Topic4\", \"Topic4\", \"Topic4\", \"Topic4\", \"Topic4\", \"Topic4\", \"Topic4\", \"Topic4\", \"Topic5\", \"Topic5\", \"Topic5\", \"Topic5\", \"Topic5\", \"Topic5\", \"Topic5\", \"Topic5\", \"Topic5\", \"Topic5\", \"Topic5\", \"Topic5\", \"Topic5\", \"Topic5\", \"Topic5\", \"Topic5\", \"Topic5\", \"Topic5\", \"Topic5\", \"Topic5\", \"Topic5\", \"Topic5\", \"Topic5\", \"Topic5\", \"Topic5\", \"Topic5\", \"Topic5\", \"Topic5\", \"Topic5\", \"Topic5\", \"Topic5\", \"Topic5\", \"Topic5\", \"Topic5\", \"Topic5\", \"Topic5\", \"Topic5\", \"Topic5\", \"Topic5\", \"Topic5\", \"Topic5\", \"Topic5\", \"Topic5\", \"Topic5\", \"Topic5\", \"Topic5\", \"Topic5\", \"Topic5\", \"Topic5\", \"Topic5\", \"Topic5\", \"Topic5\", \"Topic5\", \"Topic5\", \"Topic5\", \"Topic5\", \"Topic5\", \"Topic5\", \"Topic5\", \"Topic5\", \"Topic5\", \"Topic5\", \"Topic5\", \"Topic5\", \"Topic5\", \"Topic5\", \"Topic5\", \"Topic5\", \"Topic5\", \"Topic5\", \"Topic5\", \"Topic5\", \"Topic5\", \"Topic5\", \"Topic5\", \"Topic5\", \"Topic5\", \"Topic5\", \"Topic5\", \"Topic5\", \"Topic5\", \"Topic5\", \"Topic5\", \"Topic5\", \"Topic5\", \"Topic5\", \"Topic5\", \"Topic6\", \"Topic6\", \"Topic6\", \"Topic6\", \"Topic6\", \"Topic6\", \"Topic6\", \"Topic6\", \"Topic6\", \"Topic6\", \"Topic6\", \"Topic6\", \"Topic6\", \"Topic6\", \"Topic6\", \"Topic6\", \"Topic6\", \"Topic6\", \"Topic6\", \"Topic6\", \"Topic6\", \"Topic6\", \"Topic6\", \"Topic6\", \"Topic6\", \"Topic6\", \"Topic6\", \"Topic6\", \"Topic6\", \"Topic6\", \"Topic6\", \"Topic6\", \"Topic6\", \"Topic6\", \"Topic6\", \"Topic6\", \"Topic6\", \"Topic6\", \"Topic6\", \"Topic6\", \"Topic6\", \"Topic6\", \"Topic6\", \"Topic6\", \"Topic6\", \"Topic6\", \"Topic6\", \"Topic6\", \"Topic6\", \"Topic6\", \"Topic6\", \"Topic6\", \"Topic6\", \"Topic6\", \"Topic6\", \"Topic6\", \"Topic6\", \"Topic6\", \"Topic6\", \"Topic6\", \"Topic6\", \"Topic6\", \"Topic6\", \"Topic6\", \"Topic6\", \"Topic6\", \"Topic6\", \"Topic6\", \"Topic6\", \"Topic6\", \"Topic6\", \"Topic6\", \"Topic6\", \"Topic6\", \"Topic6\", \"Topic6\", \"Topic6\", \"Topic6\", \"Topic6\", \"Topic6\", \"Topic6\", \"Topic6\", \"Topic6\", \"Topic6\", \"Topic6\", \"Topic6\", \"Topic6\", \"Topic6\", \"Topic6\", \"Topic6\", \"Topic6\", \"Topic7\", \"Topic7\", \"Topic7\", \"Topic7\", \"Topic7\", \"Topic7\", \"Topic7\", \"Topic7\", \"Topic7\", \"Topic7\", \"Topic7\", \"Topic7\", \"Topic7\", \"Topic7\", \"Topic7\", \"Topic7\", \"Topic7\", \"Topic7\", \"Topic7\", \"Topic7\", \"Topic7\", \"Topic7\", \"Topic7\", \"Topic7\", \"Topic7\", \"Topic7\", \"Topic7\", \"Topic7\", \"Topic7\", \"Topic7\", \"Topic7\", \"Topic7\", \"Topic7\", \"Topic7\", \"Topic7\", \"Topic7\", \"Topic7\", \"Topic7\", \"Topic7\", \"Topic7\", \"Topic7\", \"Topic7\", \"Topic7\", \"Topic7\", \"Topic7\", \"Topic7\", \"Topic7\", \"Topic7\", \"Topic7\", \"Topic7\", \"Topic7\", \"Topic7\", \"Topic7\", \"Topic7\", \"Topic7\", \"Topic7\", \"Topic7\", \"Topic7\", \"Topic7\", \"Topic7\", \"Topic7\", \"Topic7\", \"Topic7\", \"Topic7\", \"Topic7\", \"Topic7\", \"Topic7\", \"Topic7\", \"Topic7\", \"Topic7\", \"Topic7\", \"Topic7\", \"Topic7\", \"Topic7\", \"Topic7\", \"Topic7\", \"Topic7\", \"Topic7\", \"Topic7\", \"Topic7\", \"Topic7\", \"Topic7\", \"Topic7\", \"Topic7\", \"Topic7\", \"Topic7\", \"Topic7\", \"Topic7\", \"Topic8\", \"Topic8\", \"Topic8\", \"Topic8\", \"Topic8\", \"Topic8\", \"Topic8\", \"Topic8\", \"Topic8\", \"Topic8\", \"Topic8\", \"Topic8\", \"Topic8\", \"Topic8\", \"Topic8\", \"Topic8\", \"Topic8\", \"Topic8\", \"Topic8\", \"Topic8\", \"Topic8\", \"Topic8\", \"Topic8\", \"Topic8\", \"Topic8\", \"Topic8\", \"Topic8\", \"Topic8\", \"Topic8\", \"Topic8\", \"Topic8\", \"Topic8\", \"Topic8\", \"Topic8\", \"Topic8\", \"Topic8\", \"Topic8\", \"Topic8\", \"Topic8\", \"Topic8\", \"Topic8\", \"Topic8\", \"Topic8\", \"Topic8\", \"Topic8\", \"Topic8\", \"Topic8\", \"Topic8\", \"Topic8\", \"Topic8\", \"Topic8\", \"Topic8\", \"Topic8\", \"Topic8\", \"Topic8\", \"Topic8\", \"Topic8\", \"Topic8\", \"Topic8\", \"Topic8\", \"Topic8\", \"Topic8\", \"Topic8\", \"Topic8\", \"Topic8\", \"Topic8\", \"Topic8\", \"Topic8\", \"Topic8\", \"Topic8\", \"Topic8\", \"Topic8\", \"Topic8\", \"Topic8\", \"Topic8\", \"Topic8\", \"Topic8\", \"Topic8\", \"Topic8\", \"Topic8\", \"Topic8\", \"Topic8\", \"Topic8\", \"Topic8\", \"Topic8\", \"Topic8\", \"Topic8\", \"Topic9\", \"Topic9\", \"Topic9\", \"Topic9\", \"Topic9\", \"Topic9\", \"Topic9\", \"Topic9\", \"Topic9\", \"Topic9\", \"Topic9\", \"Topic9\", \"Topic9\", \"Topic9\", \"Topic9\", \"Topic9\", \"Topic9\", \"Topic9\", \"Topic9\", \"Topic9\", \"Topic9\", \"Topic9\", \"Topic9\", \"Topic9\", \"Topic9\", \"Topic9\", \"Topic9\", \"Topic9\", \"Topic9\", \"Topic9\", \"Topic9\", \"Topic9\", \"Topic9\", \"Topic9\", \"Topic9\", \"Topic9\", \"Topic9\", \"Topic9\", \"Topic9\", \"Topic9\", \"Topic9\", \"Topic9\", \"Topic9\", \"Topic9\", \"Topic9\", \"Topic9\", \"Topic9\", \"Topic9\", \"Topic9\", \"Topic9\", \"Topic9\", \"Topic9\", \"Topic9\", \"Topic9\", \"Topic9\", \"Topic9\", \"Topic9\", \"Topic9\", \"Topic9\", \"Topic9\", \"Topic9\", \"Topic9\", \"Topic9\", \"Topic9\", \"Topic9\", \"Topic9\", \"Topic9\", \"Topic9\", \"Topic9\", \"Topic9\", \"Topic9\", \"Topic9\", \"Topic9\", \"Topic9\", \"Topic9\", \"Topic9\", \"Topic9\", \"Topic9\", \"Topic9\", \"Topic9\", \"Topic9\", \"Topic9\", \"Topic9\", \"Topic9\", \"Topic9\", \"Topic9\", \"Topic9\", \"Topic10\", \"Topic10\", \"Topic10\", \"Topic10\", \"Topic10\", \"Topic10\", \"Topic10\", \"Topic10\", \"Topic10\", \"Topic10\", \"Topic10\", \"Topic10\", \"Topic10\", \"Topic10\", \"Topic10\", \"Topic10\", \"Topic10\", \"Topic10\", \"Topic10\", \"Topic10\", \"Topic10\", \"Topic10\", \"Topic10\", \"Topic10\", \"Topic10\", \"Topic10\", \"Topic10\", \"Topic10\", \"Topic10\", \"Topic10\", \"Topic10\", \"Topic10\", \"Topic10\", \"Topic10\", \"Topic10\", \"Topic10\", \"Topic10\", \"Topic10\", \"Topic10\", \"Topic10\", \"Topic10\", \"Topic10\", \"Topic10\", \"Topic10\", \"Topic10\", \"Topic10\", \"Topic10\", \"Topic10\", \"Topic10\", \"Topic10\", \"Topic10\", \"Topic10\", \"Topic10\", \"Topic10\", \"Topic10\", \"Topic10\", \"Topic10\", \"Topic10\", \"Topic10\", \"Topic10\", \"Topic10\", \"Topic10\", \"Topic10\", \"Topic10\", \"Topic10\", \"Topic10\", \"Topic10\", \"Topic10\", \"Topic10\", \"Topic10\", \"Topic10\", \"Topic10\", \"Topic10\", \"Topic10\", \"Topic10\", \"Topic10\", \"Topic10\", \"Topic10\", \"Topic10\", \"Topic10\", \"Topic10\", \"Topic10\", \"Topic10\", \"Topic10\", \"Topic10\", \"Topic10\", \"Topic10\", \"Topic10\", \"Topic10\", \"Topic10\", \"Topic10\", \"Topic10\", \"Topic10\", \"Topic10\", \"Topic10\", \"Topic10\"], \"logprob\": [30.0, 29.0, 28.0, 27.0, 26.0, 25.0, 24.0, 23.0, 22.0, 21.0, 20.0, 19.0, 18.0, 17.0, 16.0, 15.0, 14.0, 13.0, 12.0, 11.0, 10.0, 9.0, 8.0, 7.0, 6.0, 5.0, 4.0, 3.0, 2.0, 1.0, -8.1479, -8.2652, -8.3462, -8.3476, -8.3595, -8.5096, -8.5109, -8.5132, -8.5219, -8.6051, -8.6029, -8.603, -8.6222, -8.6225, -8.707, -8.7132, -8.7138, -8.716, -8.7171, -8.7215, -8.7243, -8.7279, -8.7283, -8.0918, -8.237, -8.2072, -8.8075, -8.8095, -8.8253, -8.8258, -7.9698, -8.8168, -7.0945, -7.6055, -8.1416, -6.9907, -3.6502, -3.6219, -7.7076, -6.8084, -6.4673, -7.7076, -7.389, -8.1944, -4.7985, -7.1946, -7.3692, -7.4864, -7.1313, -7.8688, -6.1073, -4.9238, -7.1872, -6.9284, -6.3169, -6.3047, -6.736, -7.329, -7.1518, -6.5809, -6.8144, -5.1375, -6.3736, -5.6091, -6.6152, -6.795, -5.2151, -6.3074, -6.5529, -5.3175, -6.2161, -5.6806, -5.9808, -6.0454, -6.0266, -6.4644, -6.5513, -6.4229, -6.4574, -6.5129, -6.2149, -6.1814, -5.8414, -6.2821, -6.2682, -6.2166, -6.3876, -6.4077, -6.3366, -6.3573, -6.4498, -6.4463, -8.3104, -8.3222, -8.368, -8.4663, -8.4671, -7.9618, -8.5602, -8.5605, -8.563, -8.5809, -8.6324, -8.6343, -8.6215, -8.6469, -8.6495, -8.6523, -8.6527, -7.876, -8.7565, -8.7599, -8.8382, -8.8602, -8.8659, -8.8683, -8.8695, -8.8723, -8.8728, -8.8766, -8.878, -8.88, -8.3114, -8.3109, -8.3917, -8.2157, -7.4477, -7.7745, -7.4504, -7.518, -7.0876, -7.4956, -5.8834, -7.9119, -5.4971, -5.6791, -6.5642, -6.8615, -8.0624, -7.1805, -7.9423, -6.4231, -6.442, -5.9453, -6.8359, -5.1092, -6.564, -7.2055, -7.3514, -5.7613, -5.4584, -5.972, -5.4609, -4.5163, -5.8948, -6.1316, -6.393, -5.8686, -6.1591, -5.6944, -5.3749, -6.5021, -5.616, -6.5738, -5.4302, -5.5719, -6.2017, -5.3676, -5.5364, -6.3464, -5.9499, -6.1586, -6.0017, -5.5467, -5.9693, -6.0942, -5.7288, -6.2788, -6.2729, -7.4759, -7.4772, -7.0553, -8.0218, -8.0691, -8.1344, -8.1929, -8.2353, -8.2545, -8.2705, -7.6929, -8.3997, -8.4987, -8.5143, -8.5224, -8.6004, -8.6081, -8.6088, -8.6094, -8.6105, -8.6135, -8.6136, -8.0201, -7.6248, -8.7081, -8.7153, -8.7178, -8.7121, -8.8154, -8.8084, -8.2056, -7.9135, -7.7828, -8.0837, -8.0262, -7.2189, -8.0039, -8.158, -7.7433, -7.3948, -6.143, -5.1825, -6.1287, -7.6191, -7.8719, -5.9114, -6.4075, -5.8938, -6.9518, -6.381, -7.1712, -5.9862, -6.5642, -5.9894, -5.7232, -6.4128, -5.7768, -6.6295, -5.6918, -6.4481, -6.6301, -6.7268, -6.3872, -6.2051, -5.9589, -5.6235, -6.0982, -5.8435, -6.5041, -6.227, -5.0816, -5.6569, -6.2741, -6.0969, -5.5534, -6.0858, -6.0443, -5.9745, -5.8666, -5.975, -5.8273, -6.1244, -5.9274, -6.2217, -6.194, -6.14, -6.205, -6.1986, -7.7445, -7.7468, -7.8043, -7.9482, -8.0096, -7.4442, -8.2428, -8.2734, -8.4222, -8.4335, -8.4364, -7.8034, -7.5784, -8.5124, -8.5258, -8.5466, -8.6291, -8.6478, -8.638, -8.6498, -8.6504, -8.7462, -8.7597, -8.7637, -8.7661, -8.7708, -8.7718, -8.7721, -8.7429, -8.0565, -7.1767, -7.6549, -8.2908, -7.8459, -8.2908, -8.3609, -8.0762, -7.9531, -7.4046, -7.962, -7.6432, -7.8964, -7.1347, -5.1587, -7.5549, -6.7025, -5.1411, -6.5226, -6.9913, -7.0349, -4.9362, -5.9455, -6.3916, -6.9393, -6.0037, -5.487, -6.3217, -6.664, -5.6027, -5.9986, -6.3273, -5.1635, -6.2809, -5.848, -6.8019, -6.371, -6.1552, -5.1841, -5.9794, -5.8368, -5.8705, -6.1001, -6.3296, -5.6909, -6.0082, -5.7848, -5.9209, -6.0437, -5.9089, -5.2997, -6.0675, -6.0305, -5.9033, -6.1082, -6.1412, -6.2764, -6.2598, -6.2635, -7.7829, -7.9497, -8.0063, -8.1722, -8.3021, -8.3064, -8.3065, -8.2772, -7.7402, -8.3809, -8.3925, -8.4597, -8.4782, -8.4844, -6.7585, -8.4898, -8.5688, -8.5893, -8.5985, -8.6939, -8.6958, -8.6996, -8.7039, -8.7048, -8.705, -8.7159, -7.7446, -7.4936, -8.809, -8.8145, -8.1137, -8.3028, -6.9387, -7.6993, -7.683, -7.9757, -7.1394, -7.55, -8.3862, -7.806, -6.8307, -7.7081, -7.6211, -6.7524, -6.5029, -7.661, -6.4421, -5.6454, -6.3242, -6.1166, -5.3589, -4.6114, -6.6502, -5.261, -4.8305, -6.1444, -5.9896, -6.5313, -6.6526, -6.8916, -7.0171, -6.4479, -6.1501, -7.0501, -5.6904, -6.1573, -5.596, -6.3868, -6.2417, -5.7124, -5.571, -5.9336, -5.2965, -5.6286, -5.8783, -6.0258, -5.8001, -5.9763, -6.024, -6.1407, -5.8583, -5.5413, -5.9393, -6.0096, -6.1427, -6.131, -6.1868, -7.5756, -7.7244, -7.8244, -7.9944, -8.2033, -7.7223, -8.3358, -8.3767, -8.45, -8.4589, -8.4653, -8.4696, -8.4739, -8.4686, -8.5574, -8.4629, -7.9961, -8.5747, -8.5817, -7.2304, -8.685, -8.6902, -8.6969, -8.702, -8.8201, -8.8212, -8.822, -8.8266, -8.8274, -8.8326, -7.8115, -7.917, -8.3676, -8.1318, -8.0275, -7.887, -7.7331, -8.3731, -8.1432, -6.9258, -7.3768, -7.8783, -8.0187, -8.2006, -7.2733, -5.9123, -7.5728, -7.4345, -7.2065, -7.0606, -5.8993, -6.9397, -7.1062, -6.5111, -5.6332, -6.6465, -5.984, -6.282, -5.5996, -6.336, -5.8033, -6.7929, -6.055, -6.2471, -5.8986, -6.0726, -5.6494, -6.0597, -5.7389, -5.9513, -5.8011, -6.3033, -6.1445, -5.7758, -6.1461, -5.9198, -6.1367, -6.0416, -6.1369, -5.9556, -5.8015, -5.8732, -6.2787, -6.1792, -6.1733, -5.9213, -6.0407, -5.9121, -6.0132, -6.138, -6.0487, -6.6757, -7.4594, -7.9858, -8.2601, -8.5007, -8.5174, -8.6036, -8.6092, -8.6267, -8.6272, -8.114, -7.6539, -8.7266, -8.7422, -8.743, -8.7482, -8.7484, -8.7694, -8.8547, -7.8782, -8.8657, -8.8661, -8.8714, -8.8751, -8.8758, -8.8756, -8.876, -8.876, -8.8773, -8.8777, -8.3341, -8.3431, -8.5707, -8.0618, -7.8168, -4.9357, -8.4165, -7.1107, -8.1902, -8.5193, -7.1835, -7.4621, -7.8435, -7.6584, -6.5975, -3.7061, -7.5129, -6.8255, -7.6396, -5.7808, -7.8737, -6.4727, -8.0615, -5.2706, -7.053, -5.262, -6.1254, -6.4913, -7.5164, -5.791, -5.8556, -5.4591, -5.5739, -5.9838, -6.353, -5.6763, -5.1039, -6.5442, -5.021, -5.0794, -5.7312, -6.2586, -5.8169, -5.532, -6.0423, -5.7316, -6.2698, -5.9639, -6.0579, -6.0457, -6.2624, -6.2132, -6.0296, -6.1664, -6.2681, -6.1858, -6.1388, -6.2511, -7.5544, -7.938, -7.9915, -8.1209, -6.5773, -8.2642, -8.3525, -8.4302, -8.4388, -8.5277, -8.5286, -8.536, -7.996, -8.6269, -8.6351, -8.6406, -8.6417, -8.7513, -8.7572, -8.7576, -8.7582, -8.7587, -8.7595, -8.7615, -8.7809, -8.0705, -8.8584, -8.8817, -8.8844, -8.8856, -7.1375, -7.5611, -8.3578, -7.8463, -7.9474, -7.725, -6.0708, -8.0097, -7.8105, -6.0173, -7.7913, -8.0972, -6.7749, -6.3607, -6.8825, -7.6346, -7.0698, -6.556, -6.0282, -5.5199, -7.6621, -6.9255, -5.27, -6.5981, -7.0438, -5.0482, -6.3653, -5.6154, -6.1372, -5.3828, -5.5922, -6.9648, -6.4612, -7.2886, -6.3883, -5.7039, -5.8253, -6.3191, -6.4148, -4.9749, -5.7846, -5.9334, -5.6398, -5.8944, -5.6901, -6.3772, -6.2449, -6.1556, -5.8781, -6.0183, -5.8, -6.1728, -6.2393, -5.9275, -6.0509, -6.2842, -6.3144, -7.2546, -7.584, -7.7206, -7.8388, -7.8892, -7.6257, -8.2355, -8.2407, -8.3221, -8.3442, -8.417, -8.4129, -8.4254, -8.4296, -8.5264, -8.5297, -8.5302, -8.531, -8.5469, -6.491, -7.9378, -7.9378, -8.0148, -8.6073, -8.6474, -8.6483, -8.6496, -8.6496, -8.0246, -8.6527, -6.4926, -7.7754, -8.1638, -7.826, -8.1652, -7.5606, -7.1654, -7.9722, -7.1134, -8.2412, -7.727, -7.728, -6.3167, -7.8422, -5.3357, -7.6967, -5.5815, -7.2623, -7.1806, -6.9656, -6.5876, -6.1199, -5.4985, -5.4666, -6.8821, -5.7, -6.7429, -7.0076, -6.2028, -4.6931, -6.8663, -6.8956, -5.7787, -5.9718, -6.0356, -5.9088, -5.8643, -6.4665, -6.1868, -5.7328, -5.5167, -6.0936, -6.1165, -6.2065, -5.813, -6.0839, -6.5076, -6.2434, -5.9926, -6.2032, -6.3897, -6.183, -6.0945, -6.2923, -6.2163, -6.3574, -6.2902, -7.6086, -8.1289, -8.1393, -8.2002, -8.3012, -8.2938, -8.3054, -8.3097, -8.4172, -8.4928, -8.4887, -8.4945, -8.4974, -8.5027, -8.5038, -8.6138, -8.6186, -8.6193, -8.629, -8.6314, -8.7401, -8.7411, -8.7435, -8.1277, -8.7274, -8.7467, -8.7567, -8.7576, -8.7536, -8.7603, -8.2194, -7.6238, -7.6407, -7.6753, -8.3066, -8.3006, -8.2261, -8.3045, -8.1331, -7.7059, -7.6683, -5.753, -6.0228, -5.7105, -5.9205, -7.155, -7.3484, -6.9992, -7.445, -7.5656, -7.325, -7.0379, -7.923, -6.0437, -5.4897, -7.0304, -7.6533, -6.0867, -7.1453, -6.7486, -7.3712, -6.8903, -6.002, -5.5557, -6.9545, -6.8989, -6.1833, -6.0397, -7.1266, -6.6555, -6.1207, -5.7269, -5.8744, -6.4422, -6.6058, -5.9282, -6.6383, -5.2215, -5.6516, -6.1448, -6.541, -6.1843, -6.6581, -5.6314, -6.1444, -5.672, -5.991, -6.349, -6.3295, -6.4351, -6.1826, -6.182, -6.3889, -6.2135, -6.229, -6.2392], \"loglift\": [30.0, 29.0, 28.0, 27.0, 26.0, 25.0, 24.0, 23.0, 22.0, 21.0, 20.0, 19.0, 18.0, 17.0, 16.0, 15.0, 14.0, 13.0, 12.0, 11.0, 10.0, 9.0, 8.0, 7.0, 6.0, 5.0, 4.0, 3.0, 2.0, 1.0, 2.0801, 2.0718, 2.0655, 2.0653, 2.0588, 2.0512, 2.0511, 2.0509, 2.0501, 2.0419, 2.0413, 2.0413, 2.0401, 2.0401, 2.031, 2.0303, 2.0302, 2.03, 2.0299, 2.0294, 2.029, 2.0286, 2.0286, 2.0195, 2.0189, 2.0186, 2.0177, 2.0174, 2.017, 2.017, 2.0054, 2.0168, 1.9551, 1.9647, 1.9789, 1.9038, 1.5942, 1.568, 1.9367, 1.8073, 1.7648, 1.9168, 1.8749, 1.9715, 1.5287, 1.8377, 1.8338, 1.8543, 1.7876, 1.9103, 1.5494, 1.237, 1.7558, 1.6892, 1.5254, 1.5161, 1.6148, 1.7684, 1.7041, 1.4416, 1.5028, 0.8367, 1.2856, 0.9409, 1.3514, 1.4264, 0.5481, 1.1372, 1.2776, 0.4489, 0.9692, 0.4912, 0.7071, 0.7269, 0.6792, 1.1058, 1.1862, 0.9486, 0.954, 1.0183, 0.5075, 0.2974, -0.9578, 0.2763, 0.1837, -0.0325, 0.3679, 0.4092, -0.1304, -0.0685, 0.6048, 0.1551, 2.143, 2.1421, 2.135, 2.1288, 2.1287, 2.1215, 2.1191, 2.1191, 2.1188, 2.1169, 2.1112, 2.1104, 2.1101, 2.1095, 2.1092, 2.1089, 2.1088, 2.1069, 2.0962, 2.0958, 2.0847, 2.0823, 2.0816, 2.0812, 2.0811, 2.0807, 2.0806, 2.0801, 2.0799, 2.0796, 2.0772, 2.0718, 2.0678, 2.0563, 1.9781, 1.9948, 1.9577, 1.9158, 1.8482, 1.8923, 1.6285, 1.9517, 1.4163, 1.4297, 1.5852, 1.6602, 1.9613, 1.7065, 1.9177, 1.4501, 1.4247, 1.2282, 1.5377, 0.8929, 1.4033, 1.6436, 1.6937, 1.0397, 0.885, 1.0762, 0.8514, 0.3674, 0.9795, 1.0536, 1.1382, 0.7894, 0.9503, 0.6381, 0.3914, 1.1721, 0.5558, 1.2135, 0.333, 0.4023, 0.8935, 0.0838, 0.1791, 0.9652, 0.4656, 0.6884, 0.4298, -0.3569, 0.3379, 0.562, -0.4844, 0.8208, 0.4494, 2.2134, 2.2133, 2.2015, 2.185, 2.1818, 2.1771, 2.1727, 2.1678, 2.1677, 2.1664, 2.1651, 2.1543, 2.1452, 2.1436, 2.1427, 2.1342, 2.1333, 2.1333, 2.1332, 2.1331, 2.1327, 2.1327, 2.132, 2.1252, 2.1215, 2.1206, 2.1203, 2.1101, 2.1075, 2.1075, 2.107, 2.103, 2.0785, 2.0695, 2.0639, 1.9732, 2.0514, 2.0622, 1.9819, 1.8865, 1.6005, 1.3694, 1.5763, 1.8732, 1.9481, 1.2918, 1.4527, 1.2007, 1.6048, 1.3763, 1.6754, 1.1236, 1.3927, 1.1036, 0.9699, 1.2811, 0.961, 1.3754, 0.8509, 1.2574, 1.3113, 1.36, 1.1316, 1.009, 0.8143, 0.4895, 0.8552, 0.6353, 1.1673, 0.9072, -0.198, 0.3173, 0.8634, 0.6492, -0.102, 0.5722, 0.4849, 0.3552, 0.1356, 0.3138, -0.0641, 0.5606, -0.161, 0.6937, 0.3913, -0.4245, 0.3534, 0.1086, 2.2162, 2.2161, 2.2123, 2.2046, 2.2006, 2.199, 2.1812, 2.1798, 2.1669, 2.1662, 2.1654, 2.1612, 2.1582, 2.1559, 2.1548, 2.1545, 2.1446, 2.143, 2.1428, 2.1428, 2.1427, 2.1308, 2.129, 2.1285, 2.1282, 2.1276, 2.1275, 2.1274, 2.1273, 2.1245, 2.0812, 2.0857, 2.1073, 2.0789, 2.0976, 2.1019, 2.0784, 2.0634, 1.9915, 2.0567, 2.0091, 2.0275, 1.9025, 1.568, 1.9639, 1.7636, 1.3894, 1.7092, 1.812, 1.7837, 1.1769, 1.3859, 1.4707, 1.6415, 1.2419, 0.9286, 1.3153, 1.4658, 0.9473, 1.0986, 1.2659, 0.552, 1.1906, 0.8923, 1.4948, 1.2026, 1.0356, 0.2673, 0.8488, 0.7058, 0.6566, 0.8513, 1.0609, 0.3877, 0.6776, 0.3993, 0.5106, 0.6575, 0.4806, -0.4161, 0.4113, 0.2818, -0.1401, -0.1061, -0.167, 0.4791, 0.0727, -0.0917, 2.228, 2.2184, 2.2147, 2.2028, 2.192, 2.1916, 2.1916, 2.1914, 2.1896, 2.1849, 2.1837, 2.1772, 2.1753, 2.1746, 2.1745, 2.1741, 2.1653, 2.1633, 2.1561, 2.1508, 2.1505, 2.1501, 2.1496, 2.1495, 2.1494, 2.1481, 2.1442, 2.1375, 2.1358, 2.1343, 2.1137, 2.1178, 2.0598, 2.0824, 2.0783, 2.1, 2.0222, 2.0292, 2.113, 2.0395, 1.9025, 2.0141, 1.9868, 1.8169, 1.7602, 1.9753, 1.6482, 1.4069, 1.5693, 1.4856, 1.1703, 0.84, 1.5848, 1.0687, 0.885, 1.3782, 1.3077, 1.5289, 1.5783, 1.666, 1.7134, 1.4231, 1.253, 1.724, 0.9582, 1.2136, 0.8559, 1.3276, 1.2014, 0.8432, 0.7362, 0.9611, 0.4699, 0.5555, 0.7682, 0.9067, 0.6314, 0.6962, 0.6322, 0.7716, 0.2203, -0.6576, 0.2668, 0.323, 0.7057, 0.5571, 0.2307, 2.2906, 2.2838, 2.2777, 2.2672, 2.2511, 2.2424, 2.2388, 2.2352, 2.2272, 2.2267, 2.226, 2.2256, 2.2251, 2.2236, 2.2157, 2.2146, 2.2137, 2.2137, 2.2129, 2.2112, 2.2, 2.1993, 2.1984, 2.1977, 2.1813, 2.1811, 2.181, 2.1797, 2.1795, 2.1795, 2.1461, 2.1505, 2.1632, 2.151, 2.145, 2.1369, 2.0948, 2.1585, 2.1263, 1.9524, 2.0024, 2.058, 2.0823, 2.1249, 1.8925, 1.506, 1.9492, 1.8971, 1.8121, 1.7483, 1.339, 1.6825, 1.7385, 1.5163, 1.1391, 1.5363, 1.2364, 1.3616, 1.0585, 1.3292, 1.0445, 1.543, 1.1068, 1.1984, 0.9914, 1.0575, 0.7681, 1.0172, 0.7904, 0.8551, 0.6508, 1.0634, 0.9101, 0.5251, 0.8414, 0.6107, 0.7629, 0.6263, 0.7115, 0.4339, 0.1727, 0.2399, 0.8588, 0.6543, 0.6097, -0.155, 0.1201, -0.7223, -0.5618, 0.3465, -0.8043, 2.3077, 2.2997, 2.271, 2.2491, 2.2245, 2.2231, 2.2129, 2.2122, 2.21, 2.21, 2.203, 2.1989, 2.1966, 2.1948, 2.1947, 2.194, 2.194, 2.1911, 2.1779, 2.1777, 2.1769, 2.1768, 2.176, 2.1754, 2.1753, 2.1753, 2.1753, 2.1753, 2.1751, 2.175, 2.1713, 2.1699, 2.172, 2.1607, 2.1523, 1.9827, 2.155, 2.0852, 2.1337, 2.1407, 1.9911, 1.9805, 2.0359, 1.9926, 1.7845, 1.1775, 1.9543, 1.7905, 1.9589, 1.4899, 1.9911, 1.525, 2.0366, 1.0366, 1.6513, 0.9221, 1.2074, 1.31, 1.7923, 0.9688, 0.9742, 0.7017, 0.7149, 0.9212, 1.1465, 0.7132, 0.3475, 1.2284, 0.1688, 0.165, 0.6121, 0.9698, 0.5103, 0.2311, 0.7037, 0.347, 0.9154, 0.3686, 0.5006, 0.4815, 0.8107, 0.6864, 0.1422, 0.5394, 0.8081, 0.3569, -0.0257, 0.6996, 2.3026, 2.282, 2.2783, 2.2685, 2.2648, 2.2557, 2.2478, 2.2399, 2.239, 2.2291, 2.2285, 2.2281, 2.2181, 2.2171, 2.2161, 2.2154, 2.2152, 2.2006, 2.1997, 2.1997, 2.1996, 2.1995, 2.1994, 2.1991, 2.1963, 2.1955, 2.1845, 2.1812, 2.1807, 2.1805, 2.1581, 2.1479, 2.1649, 2.1255, 2.1262, 2.0884, 1.8756, 2.1124, 2.0829, 1.8473, 2.0745, 2.0807, 1.8261, 1.6956, 1.7826, 1.9681, 1.8129, 1.607, 1.4115, 1.1314, 1.9158, 1.6166, 0.9361, 1.4793, 1.6472, 0.6673, 1.2993, 0.8974, 1.1478, 0.6958, 0.6966, 1.5422, 1.1768, 1.729, 1.0981, 0.597, 0.6754, 1.0264, 1.0878, -0.0913, 0.5451, 0.652, 0.3623, 0.449, 0.0731, 0.8522, 0.6162, 0.4458, -0.1117, 0.1535, -0.3486, 0.4758, 0.4619, -0.7377, -0.8065, 0.4619, 0.5906, 2.3649, 2.3506, 2.3433, 2.3361, 2.3328, 2.306, 2.3053, 2.3048, 2.297, 2.2948, 2.2871, 2.287, 2.2862, 2.2856, 2.2746, 2.2742, 2.2741, 2.274, 2.2721, 2.2708, 2.2704, 2.2703, 2.2674, 2.2612, 2.2592, 2.2591, 2.259, 2.259, 2.2589, 2.2585, 2.2555, 2.2374, 2.2483, 2.2372, 2.2364, 2.2, 2.1534, 2.2176, 2.1055, 2.2356, 2.1575, 2.125, 1.7984, 2.1394, 1.3811, 2.0834, 1.4134, 1.9419, 1.8829, 1.7923, 1.6015, 1.3182, 1.0022, 0.9509, 1.6672, 0.9881, 1.5424, 1.6833, 1.165, 0.1905, 1.5638, 1.5734, 0.7341, 0.8753, 0.8988, 0.7924, 0.7211, 1.1314, 0.8265, 0.2693, -0.0653, 0.5943, 0.6213, 0.7089, 0.1611, 0.4006, 1.0358, 0.5576, 0.086, 0.4432, 0.7977, 0.2325, -0.3281, 0.3927, -1.0265, 0.383, -1.0458, 2.3771, 2.3414, 2.3405, 2.335, 2.3253, 2.3252, 2.3249, 2.3245, 2.313, 2.3042, 2.3042, 2.304, 2.3037, 2.3031, 2.3029, 2.289, 2.2883, 2.2882, 2.2869, 2.2866, 2.2712, 2.2711, 2.2707, 2.2704, 2.2698, 2.2688, 2.2688, 2.2686, 2.2686, 2.2682, 2.2588, 2.2436, 2.2315, 2.2257, 2.2499, 2.2496, 2.2456, 2.2447, 2.2152, 2.1705, 2.1444, 1.7277, 1.7538, 1.5823, 1.5908, 1.9292, 1.9412, 1.8304, 1.9513, 1.9877, 1.8897, 1.7741, 2.1058, 1.2733, 1.0231, 1.7091, 1.9825, 1.1826, 1.7126, 1.4876, 1.806, 1.5338, 1.0113, 0.7453, 1.5695, 1.5114, 1.0461, 0.9139, 1.6561, 1.2844, 0.83, 0.4793, 0.6101, 1.0831, 1.2234, 0.5506, 1.1983, -0.3379, 0.1115, 0.5403, 1.0023, 0.4626, 1.1639, -0.4416, 0.3563, -0.4276, 0.0876, 0.6365, 0.5316, 0.7599, 0.1297, 0.1068, 0.5624, -0.0294, -0.0572, -0.4728]}, \"token.table\": {\"Topic\": [2, 6, 2, 3, 5, 1, 2, 6, 7, 4, 5, 6, 7, 3, 9, 1, 2, 3, 4, 5, 6, 7, 8, 9, 10, 1, 7, 10, 1, 2, 3, 4, 5, 6, 7, 8, 9, 10, 1, 2, 3, 4, 5, 6, 7, 8, 9, 10, 1, 5, 9, 7, 1, 2, 3, 4, 5, 6, 7, 9, 10, 2, 9, 1, 2, 3, 4, 5, 7, 8, 9, 10, 4, 7, 1, 1, 2, 3, 4, 5, 6, 7, 8, 9, 10, 1, 2, 3, 4, 5, 6, 7, 8, 9, 10, 7, 1, 2, 3, 4, 5, 6, 7, 8, 9, 10, 1, 5, 1, 2, 3, 7, 8, 9, 10, 9, 1, 2, 5, 6, 8, 10, 6, 7, 7, 1, 3, 7, 8, 7, 1, 2, 3, 4, 5, 6, 7, 8, 9, 10, 1, 2, 3, 4, 5, 6, 7, 8, 9, 10, 8, 1, 1, 7, 6, 10, 3, 1, 2, 3, 4, 5, 6, 7, 8, 9, 10, 1, 2, 3, 5, 6, 7, 8, 9, 10, 1, 2, 3, 4, 5, 6, 7, 8, 9, 5, 1, 2, 3, 4, 5, 7, 8, 9, 10, 7, 1, 2, 3, 4, 5, 7, 8, 9, 10, 2, 3, 4, 4, 5, 1, 2, 3, 4, 5, 6, 7, 8, 9, 10, 1, 2, 3, 4, 5, 6, 7, 8, 9, 10, 1, 2, 3, 4, 5, 6, 7, 8, 9, 10, 5, 1, 8, 1, 2, 3, 4, 5, 6, 7, 8, 9, 10, 1, 2, 3, 4, 5, 6, 7, 8, 9, 10, 1, 3, 4, 7, 8, 9, 10, 5, 6, 7, 1, 2, 3, 4, 5, 6, 7, 8, 9, 10, 1, 6, 4, 5, 1, 8, 3, 7, 8, 2, 4, 1, 2, 8, 3, 5, 6, 8, 2, 1, 2, 3, 4, 5, 6, 7, 8, 9, 10, 1, 9, 1, 2, 3, 4, 5, 6, 7, 10, 1, 2, 3, 4, 5, 6, 7, 8, 9, 10, 10, 1, 1, 4, 5, 8, 9, 10, 1, 1, 2, 3, 4, 5, 6, 7, 8, 9, 10, 4, 1, 2, 3, 4, 5, 6, 7, 8, 9, 10, 3, 1, 2, 3, 4, 5, 6, 7, 8, 9, 10, 1, 2, 3, 4, 5, 6, 7, 8, 9, 10, 1, 2, 4, 5, 6, 7, 8, 9, 10, 1, 2, 3, 4, 5, 6, 7, 8, 9, 10, 1, 2, 3, 4, 5, 6, 7, 8, 9, 10, 1, 9, 1, 2, 3, 4, 5, 6, 7, 8, 9, 10, 7, 1, 2, 3, 5, 6, 7, 8, 9, 10, 1, 2, 3, 4, 5, 6, 7, 8, 9, 10, 1, 2, 3, 4, 5, 6, 7, 8, 9, 10, 10, 5, 7, 2, 4, 8, 3, 1, 2, 3, 4, 5, 6, 7, 8, 9, 10, 1, 2, 3, 4, 5, 6, 7, 8, 9, 10, 10, 5, 1, 2, 3, 4, 5, 7, 8, 9, 10, 1, 10, 3, 8, 1, 2, 3, 4, 5, 6, 7, 8, 9, 10, 1, 2, 3, 4, 5, 6, 7, 8, 9, 10, 1, 2, 3, 4, 5, 6, 7, 8, 9, 10, 4, 6, 7, 8, 5, 7, 9, 8, 1, 2, 3, 4, 5, 6, 7, 8, 9, 10, 1, 2, 3, 4, 5, 6, 7, 8, 9, 10, 6, 9, 2, 7, 1, 2, 3, 4, 5, 6, 7, 8, 9, 10, 8, 7, 1, 2, 3, 4, 5, 6, 7, 8, 9, 10, 1, 5, 8, 1, 2, 7, 8, 9, 10, 1, 2, 7, 10, 1, 2, 3, 4, 5, 6, 7, 8, 9, 10, 2, 7, 8, 1, 2, 3, 5, 6, 7, 8, 9, 10, 1, 2, 3, 4, 5, 6, 7, 8, 9, 10, 5, 4, 2, 3, 7, 1, 2, 3, 4, 5, 6, 7, 8, 9, 10, 6, 3, 4, 7, 1, 6, 1, 3, 7, 8, 9, 1, 2, 3, 4, 5, 8, 10, 1, 2, 3, 4, 5, 6, 7, 8, 9, 10, 1, 5, 5, 9, 1, 2, 3, 4, 5, 6, 7, 8, 9, 10, 2, 1, 2, 3, 4, 5, 6, 7, 8, 9, 10, 4, 10, 1, 2, 3, 4, 5, 6, 7, 8, 9, 10, 1, 2, 3, 4, 5, 6, 7, 8, 9, 10, 1, 2, 3, 4, 5, 6, 9, 10, 6, 3, 2, 4, 1, 2, 3, 4, 5, 6, 8, 9, 10, 10, 2, 9, 6, 5, 1, 2, 3, 4, 5, 6, 7, 8, 9, 10, 7, 4, 8, 4, 7, 9, 2, 5, 1, 2, 3, 5, 6, 7, 8, 9, 10, 6, 2, 3, 5, 6, 8, 9, 10, 1, 2, 3, 4, 5, 6, 7, 8, 9, 10, 10, 3, 4, 8, 2, 9, 10, 9, 6, 2, 4, 6, 7, 1, 2, 3, 4, 5, 6, 8, 9, 10, 1, 4, 4, 1, 2, 3, 5, 3, 9, 7, 10, 2, 3, 1, 2, 3, 4, 5, 6, 7, 8, 9, 10, 6, 1, 4, 5, 7, 9, 3, 4, 8, 2, 1, 9, 1, 2, 3, 4, 5, 6, 7, 8, 9, 10, 1, 1, 6, 7, 1, 2, 3, 4, 5, 6, 7, 8, 9, 10, 1, 2, 3, 4, 5, 6, 7, 8, 9, 10, 1, 2, 3, 4, 5, 6, 7, 8, 9, 10, 1, 2, 3, 4, 5, 6, 7, 8, 9, 10, 1, 2, 3, 4, 5, 6, 7, 8, 9, 10, 2, 1, 2, 3, 4, 5, 6, 7, 8, 9, 10, 2, 3, 1, 2, 4, 5, 6, 7, 9, 10, 6, 7, 8, 2, 3, 7, 9, 2, 5, 9, 1, 2, 3, 5, 7, 8, 9, 10, 1, 7, 9, 10, 1, 8, 2, 8, 10, 1, 2, 3, 4, 5, 6, 7, 8, 9, 10, 1, 2, 3, 4, 5, 6, 7, 8, 9, 10, 1, 1, 2, 3, 4, 5, 6, 7, 9, 7, 1, 2, 3, 4, 5, 6, 7, 8, 9, 10, 6, 8, 2, 1, 2, 3, 4, 6, 7, 8, 9, 10, 3, 7, 1, 2, 3, 4, 5, 8, 7, 2, 1, 2, 3, 4, 5, 6, 7, 8, 9, 10, 2, 5, 6, 7, 1, 2, 4, 5, 6, 7, 8, 5, 9, 1, 2, 3, 4, 5, 6, 7, 8, 9, 10, 2, 5, 1, 2, 3, 4, 5, 6, 7, 8, 9, 10, 3, 1, 2, 3, 4, 5, 6, 7, 8, 9, 10, 1, 8, 1, 2, 3, 4, 5, 6, 7, 8, 10, 8, 1, 2, 3, 4, 6, 7, 8, 9, 10, 1, 2, 3, 4, 5, 6, 7, 8, 9, 1, 2, 4, 5, 6, 7, 8, 9, 10, 1, 2, 2, 10, 1, 2, 3, 5, 6, 7, 8, 9, 10, 2, 3, 5, 6, 9, 1, 2, 3, 4, 5, 6, 7, 8, 9, 10, 8, 1, 2, 3, 4, 6, 7, 8, 9, 10, 1, 3, 4, 6, 8, 10, 10, 1, 1, 2, 3, 4, 5, 6, 7, 8, 9, 10, 4, 4, 1, 2, 3, 4, 5, 6, 7, 8, 9, 10, 2, 1, 2, 3, 4, 5, 6, 7, 8, 9, 10, 3, 5, 6, 8, 10, 1, 2, 3, 4, 5, 6, 7, 8, 9, 4, 3, 1, 2, 3, 4, 5, 6, 7, 8, 9, 10, 10, 1, 2, 3, 4, 5, 6, 7, 8, 9, 10, 1, 2, 3, 4, 5, 6, 7, 8, 9, 10, 4, 2, 4, 1, 2, 3, 4, 5, 6, 7, 8, 9, 10, 2, 4, 6, 7, 8, 9, 10, 1, 2, 3, 4, 5, 6, 7, 8, 9, 10, 1, 2, 3, 4, 5, 6, 7, 8, 9, 10, 4, 6, 1, 2, 3, 4, 5, 6, 7, 8, 9, 10, 4, 5, 3, 2, 7, 1, 2, 3, 4, 5, 6, 7, 8, 9, 10, 2, 6, 4, 8, 3, 6, 2, 3, 4, 5, 6, 7, 8, 9, 3, 6, 9, 1, 4, 1, 2, 3, 4, 5, 6, 7, 8, 9, 10, 3, 7, 10, 1, 5, 6, 1, 2, 3, 4, 5, 6, 7, 8, 9, 10, 1, 2, 3, 4, 5, 6, 7, 10, 1, 2, 5, 7, 8, 10, 1, 2, 3, 4, 5, 6, 7, 8, 9, 10, 7, 5, 1, 2, 3, 4, 5, 6, 7, 8, 9, 10, 5, 8, 7, 9, 10, 1, 2, 3, 4, 5, 6, 7, 8, 9, 10, 1, 2, 3, 4, 5, 6, 7, 8, 9, 10, 2, 10, 1, 2, 3, 4, 6, 7, 8, 9, 10, 1, 2, 3, 4, 5, 6, 7, 8, 9, 10, 5, 6, 1, 2, 3, 4, 5, 6, 7, 8, 9, 10, 2, 4, 9, 9, 8, 6, 4, 8, 1, 2, 7, 3, 1, 2, 6, 1, 2, 3, 6, 8, 9, 10, 1, 2, 3, 4, 5, 6, 7, 8, 9, 10, 6, 2, 1, 5, 7, 9, 2, 3, 4, 5, 7, 9, 3, 3, 8, 9, 4, 10, 8, 2, 3, 4, 6, 8, 9, 10, 2, 3, 10, 1, 2, 3, 4, 5, 6, 7, 8, 9, 10, 1, 2, 3, 4, 5, 6, 7, 8, 9, 10, 1, 2, 3, 4, 5, 6, 7, 8, 10, 6, 1, 4, 6, 8, 10, 1, 2, 5, 8, 10, 2, 5, 3, 8, 1, 2, 3, 4, 5, 6, 7, 8, 9, 10, 2, 3, 4, 5, 6, 7, 8, 10, 4, 8, 10, 8, 3, 2, 8, 1, 2, 3, 4, 6, 7, 8, 9, 10, 1, 2, 4, 6, 7, 10, 1, 3, 5, 7, 8, 9, 10, 1, 2, 3, 4, 5, 7, 8, 10, 5, 3, 5, 6, 8, 9, 10, 1, 2, 3, 4, 5, 6, 7, 8, 9, 10, 1, 2, 3, 4, 6, 7, 8, 9, 10, 1, 2, 3, 4, 5, 6, 7, 8, 9, 10, 1, 2, 3, 4, 5, 6, 7, 8, 9, 10, 9, 4, 1, 3, 4, 6, 7, 8, 9, 10, 5, 9, 4, 9, 10, 1, 2, 4, 5, 7, 8, 9, 3, 1, 2, 3, 4, 5, 6, 7, 8, 9, 10, 1, 2, 3, 4, 5, 6, 7, 8, 9, 10, 3, 4, 6, 7, 10, 4, 6, 7, 8, 9, 1, 2, 3, 4, 5, 6, 7, 8, 9, 1, 2, 3, 4, 5, 6, 7, 8, 9, 10, 7, 10, 1, 2, 3, 4, 5, 6, 7, 8, 9, 10, 9, 1, 2, 4, 5, 6, 7, 9, 10, 1, 2, 3, 4, 5, 6, 7, 8, 9, 10, 1, 2, 3, 4, 6, 8, 10, 9, 6, 6, 1, 2, 4, 7, 1, 2, 3, 4, 5, 6, 7, 8, 9, 10, 1, 2, 3, 4, 5, 6, 8, 10, 2, 6, 9, 10, 2, 1, 3, 4, 5, 6, 7, 9, 10, 1, 2, 3, 4, 5, 6, 7, 8, 9, 10, 1, 2, 3, 4, 5, 6, 7, 8, 9, 10, 6, 10, 2, 1, 2, 3, 4, 5, 6, 7, 8, 9, 10, 1, 2, 3, 4, 5, 6, 7, 8, 9, 10, 10, 2, 4, 8, 10, 10, 7, 1, 2, 3, 4, 5, 6, 7, 8, 9, 10, 1, 2, 3, 4, 5, 6, 7, 8, 9, 10, 1, 2, 3, 5, 6, 8, 9, 10, 7, 1, 2, 3, 5, 6, 9, 10, 1, 2, 3, 4, 5, 6, 7, 8, 9, 10, 7, 2, 6, 1, 2, 3, 4, 5, 6, 7, 8, 9, 1, 2, 3, 4, 5, 6, 7, 8, 9, 10, 1, 2, 3, 4, 5, 6, 7, 8, 9, 10, 1, 2, 5, 7, 8, 9, 4, 1, 2, 6, 7, 9, 10, 1, 2, 3, 4, 5, 6, 7, 8, 9, 10, 10, 1, 2, 3, 4, 8, 9, 10, 9, 1, 2, 3, 4, 5, 6, 7, 8, 9, 10, 3, 5, 6, 9, 4, 5, 8, 1, 2, 3, 4, 5, 6, 7, 8, 9, 10, 6, 10, 3, 4, 5, 5, 7, 8, 2, 6, 8, 1, 2, 3, 4, 5, 6, 7, 8, 9, 7, 7, 8, 7, 8, 9, 1, 2, 3, 4, 5, 6, 7, 8, 9, 10, 5, 1, 2, 6, 7, 8, 9, 10, 3, 6, 8, 7, 8, 2, 3, 7, 10, 1, 2, 3, 4, 5, 6, 7, 8, 9, 10, 1, 2, 3, 4, 5, 6, 7, 8, 9, 10, 1, 2, 3, 4, 5, 6, 7, 8, 9, 10, 1, 2, 3, 4, 5, 6, 7, 8, 9, 10, 2, 5, 8, 1, 2, 3, 4, 5, 6, 7, 8, 9, 10, 9, 1, 2, 3, 4, 5, 6, 7, 8, 9, 10, 1, 2, 3, 5, 6, 10, 1, 2, 3, 4, 5, 6, 7, 8, 9, 10, 1, 2, 1, 2, 3, 4, 5, 6, 7, 8, 9, 10, 1, 9, 1, 2, 3, 4, 5, 6, 7, 8, 10, 1, 2, 3, 4, 5, 6, 7, 8, 9, 10, 3, 4, 7, 8, 5, 1, 2, 3, 4, 5, 6, 7, 8, 9, 10, 1, 2, 3, 4, 5, 6, 7, 8, 9, 10, 1, 2, 3, 4, 5, 6, 7, 8, 9, 10, 3, 7, 8, 10, 1, 2, 3, 4, 5, 7, 8, 9, 10, 5, 2, 9, 5, 6, 9, 10, 8, 4, 1, 2, 3, 4, 5, 6, 7, 8, 9, 10, 1, 2, 3, 4, 5, 6, 8, 9, 10, 10, 3, 7, 1, 2, 3, 4, 5, 6, 8, 10, 2, 7, 10, 1, 3, 10, 8, 9, 10, 1, 2, 3, 4, 5, 6, 7, 8, 9, 10, 1, 1, 4, 6, 7, 8, 10, 3, 4, 6, 2, 4, 5, 6, 2, 3, 4, 3, 6, 7, 8, 9, 10, 7, 7, 9, 1, 2, 4, 7, 9, 10, 3, 6, 10, 5, 2, 3, 1, 2, 3, 4, 5, 6, 7, 8, 9, 10, 1, 2, 3, 4, 5, 6, 7, 8, 9, 10, 5, 6, 7, 10, 1, 4, 6, 8, 10, 1, 2, 6, 8, 9, 10, 1, 2, 3, 4, 5, 6, 7, 8, 9, 10, 2, 3, 4, 5, 6, 7, 8, 9, 10, 1, 2, 3, 4, 5, 6, 7, 8, 9, 10, 1, 2, 3, 4, 5, 6, 7, 8, 9, 10, 1, 6, 2, 8, 1, 2, 3, 4, 5, 6, 7, 8, 9, 10, 1, 2, 3, 4, 5, 6, 7, 8, 9, 10, 3, 9, 2, 3, 5, 1, 3, 5, 1, 7, 9, 7, 1, 2, 3, 4, 5, 6, 7, 8, 9, 10, 6, 1, 3, 5, 6, 7, 8, 9, 10, 1, 2, 3, 4, 5, 6, 7, 8, 9, 10, 1, 2, 3, 4, 5, 6, 7, 8, 9, 10, 1, 2, 3, 4, 5, 6, 7, 8, 10, 2, 3, 4, 5, 6, 7, 8, 9, 10, 1, 6, 9, 10, 3, 4, 6, 7, 8, 9, 10, 1, 2, 3, 4, 5, 6, 7, 8, 9, 10, 1, 5, 7, 8, 9, 7, 8, 8, 1, 2, 3, 4, 5, 6, 7, 8, 9, 10, 2, 1, 2, 1, 2, 3, 4, 5, 8, 9, 1, 2, 3, 4, 5, 6, 7, 8, 9, 10, 1, 2, 3, 4, 5, 6, 7, 8, 9, 10, 1, 2, 3, 4, 5, 6, 7, 8, 9, 10, 1, 2, 3, 4, 5, 6, 7, 8, 9, 10, 1, 2, 3, 4, 5, 6, 7, 8, 9, 10, 1, 2, 3, 4, 5, 6, 7, 8, 9, 10, 1, 2, 3, 5, 6, 8, 9, 10, 1, 2, 4, 5, 6, 7, 8, 10, 6, 1, 2, 3, 4, 5, 6, 7, 8, 9, 10, 3, 6, 10, 3, 4, 5, 6, 7, 8, 10, 1, 2, 3, 4, 5, 6, 7, 8, 9, 10, 9, 1, 8, 3, 1, 3, 10, 3, 8, 1, 6, 7, 9, 1, 1, 2, 3, 4, 5, 6, 7, 8, 9, 10, 1, 2, 3, 6, 8, 4, 1, 2, 3, 4, 5, 6, 7, 8, 9, 10, 7, 2, 5, 7, 8, 1, 2, 3, 4, 5, 6, 7, 8, 9, 10, 3, 5, 1, 2, 5, 6, 10, 1, 3, 4, 5, 6, 8, 10, 1, 2, 3, 4, 5, 6, 7, 8, 9, 10, 9, 1, 2, 3, 4, 5, 6, 7, 8, 9, 1, 1, 2, 3, 4, 5, 6, 7, 8, 9, 10, 1, 3, 4, 8, 10, 1, 2, 3, 4, 5, 6, 7, 8, 9, 10, 1, 2, 3, 5, 6, 8, 9, 10, 1, 2, 3, 4, 5, 6, 7, 8, 9, 10, 2, 3, 4, 6, 7, 10, 3, 10, 10, 2, 3, 4, 5, 7, 8, 9, 10, 4, 1, 2, 3, 4, 5, 6, 7, 8, 9, 10, 4, 9, 1, 2, 3, 4, 5, 6, 7, 8, 9, 10, 1, 2, 3, 4, 5, 6, 7, 8, 9, 10, 10, 5, 7, 1, 2, 3, 4, 5, 6, 7, 8, 9, 10, 1, 2, 3, 4, 5, 6, 7, 8, 9, 10, 2, 3, 6, 8, 1, 2, 4, 5, 7, 10, 1, 2, 3, 4, 5, 6, 7, 8, 9, 10, 1, 2, 3, 4, 5, 6, 7, 8, 9, 10, 1, 2, 3, 4, 5, 6, 8, 10, 1, 2, 3, 4, 5, 6, 7, 8, 9, 10, 1, 10, 1, 2, 3, 4, 5, 6, 8, 9, 10, 4, 7, 2, 6, 8, 9, 5, 6, 3, 1, 2, 3, 4, 5, 6, 7, 8, 9, 10, 1, 2, 3, 4, 5, 6, 7, 8, 9, 10, 5, 8, 6, 3, 4, 10, 9, 3, 8, 8, 9, 8, 1, 2, 3, 4, 5, 6, 7, 8, 9, 10, 1, 2, 3, 4, 5, 3, 5, 6, 8, 10, 1, 2, 3, 4, 5, 6, 7, 8, 9, 10, 1, 2, 3, 4, 6, 7, 8, 9, 10, 2, 9, 9, 6, 1, 2, 4, 5, 6, 8, 9, 10, 1, 2, 3, 4, 5, 6, 7, 8, 9, 10, 1, 3, 6, 7, 8, 9, 10, 1, 2, 3, 4, 5, 6, 7, 8, 9, 10, 1, 2, 3, 4, 5, 6, 7, 8, 9, 10, 4, 1, 2, 3, 4, 5, 6, 7, 8, 9, 10, 1, 3, 4, 5, 6, 10, 4, 6, 10, 3, 4, 6, 7, 5, 1, 2, 3, 4, 5, 6, 7, 8, 10, 8, 1, 2, 3, 4, 5, 6, 7, 8, 9, 10, 9, 1, 2, 1, 2, 3, 4, 5, 6, 7, 8, 9, 10, 1, 4, 5, 6, 8, 1, 2, 3, 4, 5, 6, 7, 8, 9, 10, 5, 9, 1, 2, 3, 4, 5, 6, 7, 8, 9, 10, 10, 10, 1, 2, 3, 4, 5, 6, 7, 8, 9, 10, 1, 2, 3, 4, 5, 6, 7, 8, 9, 10, 1, 2, 3, 4, 5, 6, 7, 8, 9, 10, 1, 2, 3, 4, 5, 6, 7, 8, 9, 10, 7, 1, 2, 3, 4, 5, 6, 7, 8, 9, 10, 3, 1, 2, 3, 4, 5, 6, 7, 8, 9, 1, 2, 3, 4, 5, 6, 7, 8, 9, 10, 10, 10, 10, 1, 2, 3, 4, 5, 6, 7, 8, 9, 10, 1, 2, 4, 5, 6, 7, 8, 9, 10, 6, 1, 2, 3, 4, 5, 6, 7, 8, 9, 10, 7, 9, 1, 2, 3, 4, 5, 6, 7, 8, 9, 10, 4, 6, 1, 2, 3, 4, 5, 6, 7, 8, 9, 10, 1, 2, 3, 4, 6, 7, 8, 10, 1, 2, 3, 4, 5, 6, 7, 8, 9, 10, 1, 2, 3, 4, 6, 7, 8, 9, 10, 1, 2, 3, 4, 5, 6, 7, 8, 9, 10, 2, 3, 4, 5, 6, 8, 10, 4, 2, 4, 1, 2, 3, 4, 5, 6, 7, 8, 9, 10, 1, 4, 6, 8, 1, 1, 2, 3, 4, 5, 6, 7, 8, 9, 10, 10, 9, 9, 1, 2, 3, 4, 5, 6, 7, 8, 9, 10, 1, 2, 3, 4, 5, 6, 7, 8, 9, 10, 2, 3, 5, 6, 9, 10, 1, 2, 3, 4, 5, 6, 7, 8, 9, 10, 1, 2, 3, 4, 5, 6, 7, 8, 9, 10, 1, 2, 4, 5, 7, 8, 9, 4, 1, 3, 8, 1, 2, 3, 4, 5, 6, 7, 8, 9, 10, 2, 3, 4, 5, 8, 9, 10, 9, 1, 2, 3, 4, 5, 6, 7, 8, 9, 10, 9, 1, 7, 8, 9, 4, 3, 4, 7, 1, 2, 3, 4, 5, 6, 7, 8, 9, 10, 1, 2, 3, 4, 5, 7, 9, 4, 5, 7, 8, 9, 1, 3, 6, 8, 1, 3, 8, 9, 10, 1, 2, 3, 4, 5, 6, 7, 8, 9, 10, 1, 2, 3, 4, 5, 6, 7, 8, 9, 10, 1, 2, 3, 4, 5, 6, 7, 8, 9, 10, 1, 2, 3, 4, 5, 6, 7, 8, 9, 10, 1, 2, 3, 4, 5, 6, 7, 8, 9, 10, 1, 2, 4, 5, 6, 7, 9, 10, 5, 1, 2, 3, 4, 5, 6, 7, 8, 9, 10, 1, 2, 3, 4, 5, 6, 7, 8, 9, 10, 1, 2, 3, 4, 5, 6, 7, 8, 9, 10, 6], \"Freq\": [0.10459713068767998, 0.8367770455014398, 0.9196280718422499, 0.9038539018187561, 0.8973031330969422, 0.8574055626530692, 0.07039476621938166, 0.8799345777422708, 0.03519738310969083, 0.7981288833103698, 0.0570092059507407, 0.0570092059507407, 0.0570092059507407, 0.12462033392762115, 0.872342337493348, 0.015013398774278068, 0.06380694479068179, 0.3828416687440907, 0.04879354601640372, 0.056300245403542754, 0.17265408590419778, 0.052546895709973236, 0.041286846629264684, 0.10509379141994647, 0.056300245403542754, 0.9373553021445401, 0.8715472232729776, 0.1089434029091222, 0.0461365336134471, 0.1779552010804388, 0.0461365336134471, 0.05931840036014627, 0.06261386704682106, 0.10215946728691858, 0.2175008013205363, 0.06590933373349586, 0.15159146758704048, 0.07579573379352024, 0.03341774758871973, 0.08354436897179933, 0.1392406149529989, 0.1503798641492388, 0.07240511977555941, 0.03898737218683969, 0.02227849839247982, 0.11696211656051905, 0.2784812299059978, 0.07240511977555941, 0.0969189602131028, 0.8238111618113737, 0.0969189602131028, 0.9543741541136918, 0.19069503083493122, 0.009080715754044344, 0.4086322089319955, 0.018161431508088688, 0.11804930480257647, 0.10896858904853213, 0.027242147262133032, 0.018161431508088688, 0.09988787329448778, 0.7559404454931652, 0.1889851113732913, 0.48829190343921336, 0.08311351547901505, 0.09350270491389193, 0.07272432604413816, 0.041556757739507524, 0.07272432604413816, 0.08311351547901505, 0.020778378869753762, 0.03116756830463064, 0.9108949400547655, 0.8800146484485353, 0.9297011993915827, 0.0606978218222857, 0.1052095578252952, 0.15579107601053327, 0.09306999346083807, 0.01820934654668571, 0.05058151818523808, 0.0526047789126476, 0.1820934654668571, 0.18613998692167613, 0.0971165149156571, 0.1293007808105066, 0.19210401720418124, 0.05910892837051731, 0.13299508883366395, 0.04802600430104531, 0.06649754441683198, 0.09605200860209062, 0.07019185243998931, 0.19949263325049593, 0.007388616046314664, 0.9050609694981354, 0.06312782270173166, 0.023672933513149374, 0.03156391135086583, 0.015781955675432915, 0.10258271189031395, 0.007890977837716457, 0.10258271189031395, 0.6233872491796002, 0.03156391135086583, 0.007890977837716457, 0.09368730474650472, 0.8431857427185424, 0.13474782263095467, 0.05389912905238187, 0.026949564526190933, 0.7006886776809643, 0.026949564526190933, 0.026949564526190933, 0.026949564526190933, 0.922036405738993, 0.18913526083312757, 0.10807729190464434, 0.1350966148808054, 0.027019322976161084, 0.027019322976161084, 0.5403864595232216, 0.9106295402332583, 0.07588579501943819, 0.8893589376390484, 0.9478922411376478, 0.8452386700486393, 0.06501835923451071, 0.06501835923451071, 0.7891902657764164, 0.038872472595843546, 0.07385769793210274, 0.08163219245127144, 0.011661741778753064, 0.12439191230669934, 0.3692884896605137, 0.10884292326836192, 0.05830870889376532, 0.11273017052794629, 0.023323483557506127, 0.0670019993625902, 0.059557332766746844, 0.08561366585219858, 0.12283699883141537, 0.13772633202310208, 0.014889333191686711, 0.07816899925635523, 0.12655933212933704, 0.11911466553349369, 0.1861166648960839, 0.8416309292867481, 0.914706660227246, 0.954481827385467, 0.8810928264467407, 0.9473882211040872, 0.8262080853770005, 0.908332750802969, 0.0659206352787217, 0.16480158819680427, 0.11102422783784709, 0.17174060243666972, 0.1908228915962997, 0.08153341731841895, 0.09888095291808256, 0.06418588171875535, 0.015612782039697248, 0.034695071199327215, 0.043414041977669626, 0.0806260779585293, 0.37212035980859676, 0.13024212593300888, 0.1612521559170586, 0.11163610794257903, 0.037212035980859676, 0.037212035980859676, 0.031010029984049732, 0.09726298563501706, 0.02652626880955011, 0.02652626880955011, 0.05305253761910022, 0.4686307489687186, 0.07073671682546696, 0.03536835841273348, 0.07957880642865033, 0.1503155232541173, 0.8757848123419956, 0.04218366281809392, 0.014061220939364641, 0.15467343033301106, 0.056244883757458564, 0.08436732563618785, 0.0703061046968232, 0.028122441878729282, 0.12655098845428178, 0.42183662818093925, 0.9029840393748675, 0.04338914557667736, 0.08677829115335473, 0.5082728481839348, 0.024793797472387063, 0.006198449368096766, 0.049587594944774126, 0.03099224684048383, 0.06198449368096766, 0.19215193041099976, 0.9058206811411963, 0.8594920893860305, 0.07162434078216921, 0.8164647436580307, 0.0907183048508923, 0.09267464074320401, 0.18164229585667988, 0.014827942518912644, 0.2928518647485247, 0.018534928148640804, 0.10750258326211666, 0.06672574133510689, 0.07784669822429138, 0.018534928148640804, 0.13345148267021378, 0.3842233670214068, 0.012807445567380227, 0.08965211897166159, 0.08324839618797147, 0.03842233670214068, 0.16649679237594295, 0.05763350505321102, 0.1408819012411825, 0.01921116835107034, 0.012807445567380227, 0.0066112881669525446, 0.07933545800343055, 0.10578061067124071, 0.06941852575300173, 0.08264110208690681, 0.07272416983647799, 0.2148668654259577, 0.17519913642424245, 0.042973373085191544, 0.14875398375643226, 0.8846390374956784, 0.840203159752201, 0.060014511410871496, 0.10008995253924662, 0.06347167722001004, 0.2367981803977298, 0.10985482595770969, 0.043941930383083874, 0.10253117089386238, 0.10008995253924662, 0.06347167722001004, 0.07323655063847313, 0.10741360760309392, 0.2988046636594543, 0.05468320642133804, 0.01171782994742958, 0.2675571171329754, 0.04687131978971832, 0.03710646150019367, 0.07616589465829227, 0.0781188663161972, 0.06835400802667255, 0.06444806471086269, 0.018877157158956284, 0.07550862863582514, 0.6229461862455574, 0.018877157158956284, 0.03775431431791257, 0.22652588590747544, 0.018877157158956284, 0.9304572243883527, 0.13012030059898058, 0.8457819538933737, 0.11898139388420309, 0.12269956244308443, 0.03718168558881346, 0.03346351702993212, 0.05019527554489818, 0.03346351702993212, 0.04275893842713548, 0.187767512223508, 0.24725820916560953, 0.12641773100196577, 0.9124662515702289, 0.8380951737734349, 0.8244756763540603, 0.09160840848378447, 0.07620531225072542, 0.8382584347579797, 0.05981154376688348, 0.05981154376688348, 0.7775500689694853, 0.9068604062124589, 0.9400193899884208, 0.06951044720150852, 0.06951044720150852, 0.7646149192165936, 0.8408920281021861, 0.08408920281021862, 0.8943763378845986, 0.8481442286495543, 0.9219330824339702, 0.013269504748638201, 0.09288653324046742, 0.013269504748638201, 0.5971277136887191, 0.026539009497276403, 0.053078018994552806, 0.07961702849182921, 0.026539009497276403, 0.053078018994552806, 0.053078018994552806, 0.08167967752294035, 0.8984764527523439, 0.04833659987632686, 0.5220352786643301, 0.0676712398268576, 0.07733855980212298, 0.09667319975265372, 0.08700587977738834, 0.03866927990106149, 0.058003919851592235, 0.18999509719298147, 0.18731910990857328, 0.09499754859649073, 0.09365955495428664, 0.05887172025698017, 0.042815796550531034, 0.11105347230293987, 0.11105347230293987, 0.0254218792018778, 0.08295560581665389, 0.8202629691335447, 0.8570157356199715, 0.028168534199172066, 0.0845056025975162, 0.05633706839834413, 0.05633706839834413, 0.7323818891784738, 0.028168534199172066, 0.9079798030568841, 0.15255762006918888, 0.0700940416534111, 0.04947814704946666, 0.0742172205742, 0.37520928179178886, 0.016492715683155555, 0.03298543136631111, 0.041231789207888885, 0.0700940416534111, 0.11544900978208887, 0.9075038118181853, 0.012706668407147072, 0.260486702346515, 0.10324168080806996, 0.09371167950270966, 0.004765000652680152, 0.08735834529913612, 0.17630502414916563, 0.1493033537839781, 0.08577001174824274, 0.028590003916080912, 0.8867534757212074, 0.09912666047407183, 0.06705627032069565, 0.07580274036252552, 0.06122529029280908, 0.07288725034858223, 0.11370411054378828, 0.1924223409202571, 0.029154900139432893, 0.08746470041829868, 0.20116881096208697, 0.06692256049546544, 0.2802382220747615, 0.17567172130059677, 0.13802778102189747, 0.00836532006193318, 0.054374580402565674, 0.054374580402565674, 0.02091330015483295, 0.05019192037159908, 0.15057576111479723, 0.49389010399484395, 0.08515346620600758, 0.008515346620600758, 0.1021841594472091, 0.017030693241201517, 0.08515346620600758, 0.017030693241201517, 0.17030693241201517, 0.025546039861802275, 0.0861872225359129, 0.01340690128336423, 0.08044140770018537, 0.4156139397842911, 0.09576358059545878, 0.17812025990755334, 0.07661086447636703, 0.02681380256672846, 0.01723744450718258, 0.01340690128336423, 0.036434504143283475, 0.4445009505480584, 0.23318082651701422, 0.007286900828656694, 0.014573801657313389, 0.014573801657313389, 0.08744280994388033, 0.05100830580059686, 0.09472971077253703, 0.014573801657313389, 0.8495440223583762, 0.9508823591987017, 0.10499147255680906, 0.0515412683460699, 0.06108594766941618, 0.19852932992560257, 0.13935231812085566, 0.045814460752062136, 0.1546238050382097, 0.09544679323346278, 0.10117360082747054, 0.04772339661673139, 0.8801055837530548, 0.01960006096617149, 0.20580064014480065, 0.14700045724628616, 0.01960006096617149, 0.029400091449257235, 0.049000152415428724, 0.47040146318811576, 0.01960006096617149, 0.029400091449257235, 0.13153084785668556, 0.08076455570147359, 0.09922502557609612, 0.11999305418504647, 0.023075587343278168, 0.08537967317012922, 0.03230582228058943, 0.0415360572179007, 0.3599791625551394, 0.025383146077605983, 0.09086147786097777, 0.15576253347596192, 0.12114863714797038, 0.11682190010697142, 0.04759410745098836, 0.008653474081997884, 0.11249516306597249, 0.2639309595009354, 0.04759410745098836, 0.030287159286992594, 0.9141837926287275, 0.8590361217870154, 0.803751159463574, 0.05530269343641065, 0.1106053868728213, 0.7742377081097491, 0.9369862444044963, 0.14953030865831227, 0.11962424692664982, 0.08971818519498737, 0.03417835626475709, 0.038450650797851725, 0.06835671252951418, 0.3204220899820977, 0.021361472665473183, 0.05981212346332491, 0.10253506879427127, 0.08220969208974227, 0.10047851255412944, 0.10352331596486064, 0.022836025580483962, 0.05480646139316151, 0.16289698247411893, 0.05785126480389271, 0.17355379441167812, 0.05632886309852711, 0.1857330080546029, 0.8480995237181266, 0.8950628831162589, 0.028074859569914463, 0.2245988765593157, 0.02105614467743585, 0.23161759145179434, 0.09826200849470063, 0.028074859569914463, 0.028074859569914463, 0.0421122893548717, 0.3018047403765805, 0.9372991491720873, 0.9104243145865526, 0.8977288791004533, 0.9597727655099237, 0.08772740723544296, 0.2017730366415188, 0.03801520980202528, 0.032166715986329086, 0.12574261703746825, 0.029242469078480986, 0.17545481447088593, 0.023393975262784788, 0.06725767888050627, 0.2193185180886074, 0.04167504749793147, 0.1250251424937944, 0.02976789106995105, 0.04167504749793147, 0.01786073464197063, 0.01786073464197063, 0.16670018999172587, 0.35126111462542237, 0.01786073464197063, 0.1905145028476867, 0.5737343801910479, 0.06615940730985331, 0.02752231344089898, 0.03069796499177194, 0.01376115672044949, 0.04287129593678495, 0.11326490531446888, 0.04234202067830612, 0.03175651550872959, 0.057161727915713265, 0.05105074016396387, 0.05105074016396387, 0.05105074016396387, 0.765761102459458, 0.850840118677419, 0.08508401186774191, 0.042542005933870954, 0.8015410684475677, 0.09446791861546262, 0.02437881770721616, 0.07923115754845253, 0.13103614517628687, 0.04875763541443232, 0.05789969205463839, 0.02437881770721616, 0.1340834973896889, 0.3717769700350465, 0.03352087434742222, 0.14934573961077213, 0.07708167205717271, 0.05540245179109289, 0.15898094861791873, 0.13007532159647894, 0.08430807881253266, 0.252924236437598, 0.045767242783946296, 0.040949638280373006, 0.004817604503573295, 0.9075319012424569, 0.8797625173622298, 0.08446561479957113, 0.8446561479957113, 0.08652351415992585, 0.05768234277328389, 0.04326175707996292, 0.08652351415992585, 0.04326175707996292, 0.028841171386641946, 0.014420585693320973, 0.11536468554656779, 0.47587932787959214, 0.04326175707996292, 0.8933461490666451, 0.8725018711361465, 0.037285114906349136, 0.034954795224702316, 0.11651598408234105, 0.4963580921907729, 0.013981918089880927, 0.030294155861408677, 0.10020374631081332, 0.06291863140446417, 0.03961543458799596, 0.06990959044940463, 0.8190445793862235, 0.08621521888276037, 0.04310760944138019, 0.688644638934707, 0.1460761355316045, 0.02086801936165779, 0.04173603872331558, 0.04173603872331558, 0.04173603872331558, 0.09020319112604025, 0.8118287201343622, 0.9213251849055708, 0.970288271449505, 0.1357013976194085, 0.06373853524547975, 0.1439257247478575, 0.1439257247478575, 0.0699067805918165, 0.0699067805918165, 0.098691925541388, 0.148037888312082, 0.090467598412939, 0.03495339029590825, 0.08505377283295143, 0.8505377283295144, 0.08505377283295143, 0.0701391653984532, 0.5611133231876256, 0.02805566615938128, 0.01402783307969064, 0.01402783307969064, 0.11222266463752512, 0.05611133231876256, 0.09819483155783448, 0.01402783307969064, 0.11242585188562572, 0.0460539634230274, 0.029799623391370673, 0.15441623030073892, 0.17744321201225263, 0.08533528516619783, 0.24110604380290815, 0.01896339670359952, 0.04876302009497019, 0.08533528516619783, 0.9512675382392145, 0.8154232018308849, 0.053548564731086684, 0.856777035697387, 0.053548564731086684, 0.05540497302491333, 0.174525665028477, 0.024932237861210998, 0.08864795683986132, 0.027702486512456666, 0.20776864884342497, 0.191147156935951, 0.07202646493238733, 0.07756696223487866, 0.08310745953736999, 0.8597050596115869, 0.04727285424057088, 0.8981842305708467, 0.04727285424057088, 0.848158535383969, 0.07710532139854263, 0.1499196418410382, 0.6896303524687758, 0.02998392836820764, 0.05996785673641528, 0.05996785673641528, 0.030415515684274624, 0.030415515684274624, 0.030415515684274624, 0.030415515684274624, 0.030415515684274624, 0.8212189234754148, 0.030415515684274624, 0.19781436505592642, 0.07792687108263768, 0.3356849831252085, 0.07792687108263768, 0.03596624819198662, 0.08392124578130213, 0.10789874457595987, 0.005994374698664437, 0.0479549975893155, 0.029971873493322185, 0.9179557252208994, 0.9461500122250598, 0.07574970281892178, 0.9089964338270613, 0.045608901744148826, 0.1889511643686166, 0.15637337740851026, 0.08035854116826223, 0.19112301683262367, 0.11728003305638271, 0.06949927884822679, 0.026062229568085047, 0.09121780348829765, 0.034749639424113396, 0.8929820414267291, 0.059600918887382164, 0.04635627024574168, 0.10374974769285043, 0.13906881073722505, 0.20529205394542743, 0.08388277473038971, 0.08388277473038971, 0.07726045040956947, 0.09271254049148336, 0.10816463057339726, 0.8616893117992436, 0.14361488529987393, 0.167899714490147, 0.0839498572450735, 0.08634842459493275, 0.167899714490147, 0.028782808198310916, 0.1511097430411323, 0.14391404099155458, 0.05516704904676259, 0.03837707759774789, 0.07435558784563653, 0.07817626653680732, 0.03659314603850555, 0.12308603667497323, 0.16799580681313914, 0.0848295658165356, 0.1480359089739543, 0.19627232875198433, 0.06154301833748661, 0.018296573019252776, 0.0848295658165356, 0.05696949106947059, 0.10358089285358289, 0.1398342053523369, 0.2796684107046738, 0.09840184821090375, 0.051790446426791446, 0.005179044642679145, 0.25895223213395724, 0.8373044306238852, 0.8564015514043094, 0.07372152290390645, 0.8846582748468773, 0.0336029838082275, 0.0112009946027425, 0.17921591364388, 0.4592407787124425, 0.1456129298356525, 0.0112009946027425, 0.0112009946027425, 0.022401989205485, 0.1232109406301675, 0.9208660096973783, 0.8166488795627703, 0.09073876439586337, 0.9076509708519362, 0.8633258671755256, 0.005159281777420833, 0.030955690664525, 0.15993773510004583, 0.24248624353877915, 0.16767665776617707, 0.00773892266613125, 0.11608383999196875, 0.11866348088067916, 0.092867071993575, 0.05933174044033958, 0.7851349856726034, 0.896462783649763, 0.9246778625122032, 0.8130252877748109, 0.12508081350381706, 0.8222808112908323, 0.849727900970258, 0.8364222945031836, 0.09895879833536453, 0.017992508788248096, 0.04498127197062024, 0.14394007030598477, 0.03598501757649619, 0.05397752636474428, 0.4138277021297062, 0.16193257909423286, 0.017992508788248096, 0.8479589782107216, 0.10659071915932644, 0.01776511985988774, 0.12435583901921418, 0.01776511985988774, 0.12435583901921418, 0.55071871565652, 0.05329535957966322, 0.11250274713647508, 0.05487938884706102, 0.09329496104000373, 0.14817434988706474, 0.1454303804447117, 0.26067709702353986, 0.06585526661647322, 0.052135419404707964, 0.04390351107764882, 0.024695724981177457, 0.8583492394069862, 0.9523113816111248, 0.9484619325238004, 0.8971053400503313, 0.06331879916013965, 0.18995639748041893, 0.6965067907615361, 0.8773298769054255, 0.8663407079781328, 0.7487984401167697, 0.06807258546516087, 0.10210887819774132, 0.06807258546516087, 0.015510234219628414, 0.015510234219628414, 0.04653070265888524, 0.062040936878513656, 0.2326535132944262, 0.5118377292477376, 0.015510234219628414, 0.04653070265888524, 0.031020468439256828, 0.05937974450756862, 0.8906961676135292, 0.9335312438829455, 0.09348029393237824, 0.14022044089856736, 0.7478423514590259, 0.9459824673721137, 0.9362430153236798, 0.029257594228864994, 0.8453773480424904, 0.07685248618568094, 0.8692469968076293, 0.06686515360058687, 0.03162919562415666, 0.1476029129127311, 0.03162919562415666, 0.03162919562415666, 0.07380145645636554, 0.11597371728857442, 0.0527153260402611, 0.1054306520805222, 0.03162919562415666, 0.39009341269793213, 0.8721770290520772, 0.13018491817662114, 0.04339497272554038, 0.04339497272554038, 0.6943195636086461, 0.04339497272554038, 0.09492968243347386, 0.8543671419012647, 0.04746484121673693, 0.8494333696923162, 0.16442179341440685, 0.7673017026005653, 0.0361964825836764, 0.014478593033470561, 0.4488363840375874, 0.08687155820082336, 0.08687155820082336, 0.13754663381797033, 0.057914372133882244, 0.0361964825836764, 0.028957186066941122, 0.06515366865061753, 0.8633214955658233, 0.8405564173709695, 0.08005299213056853, 0.040026496065284266, 0.054601314158604274, 0.006825164269825534, 0.0204754928094766, 0.11602779258703408, 0.11602779258703408, 0.1638039424758128, 0.3549085420309278, 0.054601314158604274, 0.07507680696808088, 0.03412582134912767, 0.07650163031056392, 0.3679364124460455, 0.06921576075717688, 0.014571739106774081, 0.047358152097015764, 0.12021684763088616, 0.1092880433008056, 0.14571739106774081, 0.04007228254362872, 0.014571739106774081, 0.09732668657307089, 0.05260901976922751, 0.1394139023884529, 0.10784849052691639, 0.06839172569999576, 0.273566902799983, 0.06050037273461163, 0.05260901976922751, 0.03682631383845925, 0.10784849052691639, 0.013751120223267917, 0.03666965392871444, 0.09167413482178612, 0.06875560111633959, 0.3575291258049658, 0.14209490897376847, 0.15584602919703638, 0.05042077415198236, 0.04583706741089306, 0.03666965392871444, 0.13986824971328846, 0.09206517702646835, 0.04603258851323418, 0.033639199298132666, 0.23901536343410051, 0.1841303540529367, 0.04249162016606232, 0.08144227198495277, 0.0655079144226794, 0.07436033529060905, 0.795023816244176, 0.10244515941162716, 0.09485662908483997, 0.28836415241791347, 0.07967956843126557, 0.04932544712411678, 0.17833046267949912, 0.05691397745090398, 0.06450250777769118, 0.015177060653574393, 0.06450250777769118, 0.8765641648151727, 0.09739601831279697, 0.07854063413444075, 0.09817579266805095, 0.019635158533610187, 0.039270317067220374, 0.09817579266805095, 0.13744610973527133, 0.058905475600830565, 0.4908789633402547, 0.8548273057240421, 0.6986092632401337, 0.2686958704769745, 0.7622352880379832, 0.10394117564154318, 0.03464705854718106, 0.03464705854718106, 0.8074806654961376, 0.08074806654961376, 0.9525401382950968, 0.03882619045781079, 0.03882619045781079, 0.5629797616382565, 0.09706547614452699, 0.13589166660233779, 0.05823928568671619, 0.03882619045781079, 0.03882619045781079, 0.0704657445453244, 0.7046574454532438, 0.21139723363597315, 0.0352328722726622, 0.10376438243404493, 0.8301150594723594, 0.7980509464978615, 0.10776016880369156, 0.8082012660276867, 0.14261677953718302, 0.04408155003876566, 0.17891923251028416, 0.03630245297310113, 0.018151226486550567, 0.1841052972207272, 0.14780284424762605, 0.10372129420886038, 0.05186064710443019, 0.09334916478797435, 0.023928136088309807, 0.08203932373134791, 0.32132068461444596, 0.0683661031094566, 0.04785627217661961, 0.09913084950871207, 0.07520271342040226, 0.08545762888682074, 0.14698712168533168, 0.04785627217661961, 0.9398883960980322, 0.9285221172129587, 0.02775804174672458, 0.05551608349344916, 0.08327412524017373, 0.08327412524017373, 0.08327412524017373, 0.02775804174672458, 0.6384349601746653, 0.8767282445729517, 0.04385216326592903, 0.09355128163398194, 0.24557211428920256, 0.055546073470176774, 0.18125560816584, 0.06139302857230064, 0.020464342857433548, 0.15202083265522062, 0.11109214694035355, 0.038005208163805156, 0.8604496903507434, 0.9312159598355725, 0.8685377511435928, 0.039258223034908085, 0.14918124753265072, 0.39258223034908085, 0.10207137989076102, 0.039258223034908085, 0.07851644606981617, 0.03140657842792647, 0.007851644606981617, 0.15703289213963234, 0.8756436141739258, 0.0625459724409947, 0.09714125955333376, 0.09714125955333376, 0.016190209925555626, 0.1780923091811119, 0.03238041985111125, 0.566657347394447, 0.7893078144821637, 0.803033292124494, 0.17596754315474666, 0.08160813595582454, 0.09945991569616115, 0.17596754315474666, 0.13261322092821487, 0.06885686471272695, 0.025502542486195167, 0.03315330523205372, 0.1071106784420197, 0.09690966144754164, 0.06613491899855983, 0.06613491899855983, 0.7274841089841582, 0.16533729749639958, 0.8424509033350192, 0.027531130192822793, 0.08259339057846839, 0.027531130192822793, 0.05506226038564559, 0.7708716453990382, 0.027531130192822793, 0.18118874031114798, 0.7851512080149745, 0.18489382408258861, 0.06977125437078815, 0.12558825786741867, 0.05930556621516993, 0.11512256971180045, 0.2790850174831526, 0.01744281359269704, 0.06279412893370934, 0.010465688155618222, 0.07325981708932756, 0.10134852008146773, 0.8107881606517419, 0.11586786729581537, 0.03731338099356766, 0.08640993493247248, 0.12765104024115254, 0.23762732106429932, 0.053024278254017204, 0.06480745119935435, 0.1080124186655906, 0.06677131335691056, 0.10212083219292202, 0.8514556927527325, 0.30594911836933686, 0.06635041121262727, 0.0884672149501697, 0.06635041121262727, 0.1658760280315682, 0.10321175077519798, 0.0073722679125141416, 0.04054747351882778, 0.13638695638151163, 0.018430669781285356, 0.900762131782049, 0.8024909751670082, 0.0293370413803241, 0.4547241413950236, 0.007334260345081025, 0.16135372759178257, 0.07334260345081026, 0.007334260345081025, 0.22002781035243077, 0.0293370413803241, 0.01466852069016205, 0.8646137891488782, 0.6825565107906423, 0.052504346983895556, 0.04200347758711644, 0.01050086939677911, 0.02100173879355822, 0.02100173879355822, 0.04200347758711644, 0.04200347758711644, 0.10500869396779111, 0.10768931479181695, 0.36345143742238223, 0.040383493046931354, 0.0336529108724428, 0.1480728078387483, 0.020191746523465677, 0.10095873261732839, 0.047114075221419915, 0.1480728078387483, 0.13127295458673144, 0.056259837680027756, 0.056259837680027756, 0.01875327922667592, 0.11251967536005551, 0.056259837680027756, 0.01875327922667592, 0.03750655845335184, 0.5250918183469258, 0.9062513942227026, 0.9175245810820051, 0.851594229369116, 0.9279772747183592, 0.04648875848762785, 0.03099250565841857, 0.06198501131683714, 0.40290257355944137, 0.16012794590182927, 0.09814293458499214, 0.10847376980446499, 0.005165417609736428, 0.08264668175578285, 0.040074764589932824, 0.040074764589932824, 0.08014952917986565, 0.681270998028858, 0.1602990583597313, 0.06328161557048333, 0.05273467964206944, 0.17402444281882914, 0.06328161557048333, 0.03164080778524166, 0.036914275749448604, 0.036914275749448604, 0.04218774371365555, 0.2531264622819333, 0.23730605838931246, 0.8584708994643206, 0.09616629408461824, 0.34860281605674115, 0.030051966901443204, 0.06010393380288641, 0.054093540422597765, 0.17430140802837057, 0.04808314704230912, 0.14424944112692736, 0.04808314704230912, 0.8323966396735182, 0.02378276113352909, 0.02378276113352909, 0.04756552226705818, 0.04756552226705818, 0.04756552226705818, 0.8463848693024336, 0.9088554536552076, 0.08913046080068039, 0.038994576600297676, 0.08355980700063786, 0.07520382630057408, 0.07798915320059535, 0.12255438360093554, 0.24232344030184982, 0.17269026780131827, 0.05013588420038272, 0.04735055730036146, 0.9008767699195286, 0.8158488567763807, 0.08599439402295103, 0.06789031107075082, 0.1900928709981023, 0.2987173687113036, 0.06336429033270076, 0.05883826959465071, 0.022630103690250272, 0.08146837328490099, 0.05431224885660065, 0.08146837328490099, 0.8951044186914648, 0.1954447937609087, 0.09306894940995653, 0.013960342411493479, 0.060494817116471734, 0.03722757976398261, 0.4327706147562978, 0.009306894940995653, 0.1442568715854326, 0.004653447470497826, 0.009306894940995653, 0.9502011632347626, 0.08548269214352841, 0.042741346071764205, 0.21370673035882104, 0.6411201910764631, 0.06689221356625182, 0.07203776845596349, 0.3241699580518357, 0.07203776845596349, 0.04116443911769342, 0.24698663470616053, 0.005145554889711678, 0.11834776246336859, 0.05145554889711678, 0.8401405339141019, 0.9206415339639593, 0.021212413325185638, 0.06363723997555691, 0.028283217766914184, 0.04949563109209982, 0.3393986132029702, 0.028283217766914184, 0.028283217766914184, 0.14848689327629946, 0.007070804441728546, 0.2899029821108704, 0.893755332748554, 0.1588082430160442, 0.046708306769424765, 0.05604996812330972, 0.046708306769424765, 0.009341661353884954, 0.05604996812330972, 0.018683322707769907, 0.037366645415539815, 0.5511580198792122, 0.018683322707769907, 0.09448607526293505, 0.08130197173787435, 0.09228872467542493, 0.07690727056285411, 0.12085428231305645, 0.18018274817582963, 0.09448607526293505, 0.12085428231305645, 0.06811786821281364, 0.07031521880032375, 0.8812746064129707, 0.7957735012433894, 0.9401361153866218, 0.20136238176980162, 0.07271419341687281, 0.033560396961633605, 0.039153796455239205, 0.44747195948844803, 0.011186798987211201, 0.033560396961633605, 0.016780198480816803, 0.09508779139129521, 0.033560396961633605, 0.16825981911697974, 0.03739107091488438, 0.5608660637232658, 0.01869553545744219, 0.056086606372326576, 0.13086874820209535, 0.01869553545744219, 0.07682610329455142, 0.17072467398789204, 0.06828986959515682, 0.2612087512014748, 0.054631895676125454, 0.027315947838062727, 0.04609566197673085, 0.08706958373382494, 0.11438553157188766, 0.0921913239534617, 0.07399545524519707, 0.04484573045163459, 0.08744917438068746, 0.14799091049039415, 0.17714063528395665, 0.08744917438068746, 0.051572590019379784, 0.022422865225817296, 0.2421669444388268, 0.06502630915487016, 0.12601042180318112, 0.8190677417206773, 0.5333212237789062, 0.03555474825192708, 0.007110949650385416, 0.09955329510539583, 0.03555474825192708, 0.10666424475578125, 0.06399854685346874, 0.0426656979023125, 0.06399854685346874, 0.007110949650385416, 0.9072205178691272, 0.9208043485728115, 0.9049348625418128, 0.1190212394820883, 0.8331486763746181, 0.03577244056626655, 0.5468073057986458, 0.16864150552668516, 0.05110348652323793, 0.015331045956971377, 0.04088278921859034, 0.0766552297848569, 0.005110348652323793, 0.025551743261618964, 0.025551743261618964, 0.7894074028410076, 0.8170044825715858, 0.9064706537327408, 0.8038487528523708, 0.13163315964816713, 0.8556155377130863, 0.16733596687809646, 0.41833991719524116, 0.03346719337561929, 0.09203478178295306, 0.09203478178295306, 0.03346719337561929, 0.09203478178295306, 0.06693438675123858, 0.11544928803683739, 0.750420372239443, 0.11544928803683739, 0.9175972552955054, 0.8977092945791536, 0.024396376556915997, 0.12198188278457998, 0.048792753113831994, 0.024396376556915997, 0.024396376556915997, 0.012198188278457998, 0.573314849087526, 0.036594564835373995, 0.09758550622766399, 0.036594564835373995, 0.904448886284823, 0.10664917005879022, 0.8531933604703218, 0.07722390850307016, 0.8494629935337719, 0.07722390850307016, 0.06686920830948116, 0.022710297161710583, 0.17158891188847997, 0.3356077247230564, 0.08453277276858939, 0.12238326803810703, 0.09336455499814351, 0.03785049526951764, 0.0529906933773247, 0.012616831756505879, 0.6330718958911199, 0.0926446676913834, 0.030881555897127797, 0.0463223338456917, 0.061763111794255594, 0.030881555897127797, 0.030881555897127797, 0.061763111794255594, 0.014712140255870972, 0.014712140255870972, 0.6326220310024518, 0.11769712204696778, 0.13240926230283875, 0.08827284153522584, 0.07397486191548251, 0.2371547043761057, 0.18711288602151457, 0.08050205561390744, 0.03481169972493295, 0.2784935977994636, 0.008702924931233237, 0.036987430957741256, 0.032635968492124634, 0.032635968492124634, 0.8813327059863294, 0.9111640034039507, 0.05040734116280647, 0.07367226785333254, 0.24622047414140086, 0.2093843402147346, 0.017448695017894547, 0.11050840177999881, 0.1376508162522792, 0.015509951127017377, 0.04071362170842061, 0.09887593843473577, 0.8666005148485556, 0.7968016668242581, 0.07437311201043698, 0.8181042321148068, 0.07437311201043698, 0.08677832041689383, 0.3149731629946517, 0.09320634415147856, 0.054638201743970195, 0.06428023734584729, 0.048210178009385464, 0.038568142407508374, 0.1349884984262793, 0.13820251029357167, 0.028926106805631277, 0.06553105159543932, 0.04765894661486496, 0.035744209961148715, 0.08340315657601367, 0.11318999821030427, 0.36339946793834527, 0.029786841634290597, 0.029786841634290597, 0.09531789322972992, 0.13701947151773675, 0.9222657269409312, 0.819042104151441, 0.41460534658566356, 0.04919046484914652, 0.04919046484914652, 0.09135372043412926, 0.08432651116996547, 0.14054418528327578, 0.11946255749078441, 0.028108837056655154, 0.021081627792491366, 0.14422138121070832, 0.13520754488503905, 0.2771754670143301, 0.04281572254692904, 0.05858993611685026, 0.056336477035432944, 0.07661760876818881, 0.09689874050094466, 0.045069181628346354, 0.06760377244251953, 0.9140266417860502, 0.8414718648669375, 0.10246823484229893, 0.04292588216366577, 0.07338941144110599, 0.06231176443112772, 0.13293176411973914, 0.07615882319360055, 0.051234117421149465, 0.24232352834327447, 0.07338941144110599, 0.14123999937722284, 0.02929123932259599, 0.8201547010326876, 0.11716495729038395, 0.9156567359622686, 0.9198770377959596, 0.9589966643259407, 0.8794788860039909, 0.09771987622266566, 0.13342900404242924, 0.7005022712227535, 0.13342900404242924, 0.9488049267244144, 0.9057578883388983, 0.08162370112939116, 0.8162370112939115, 0.026616503386403444, 0.1197742652388155, 0.15969902031842068, 0.013308251693201722, 0.07984951015921034, 0.4391723058756568, 0.15969902031842068, 0.13053269418973565, 0.3037395384030387, 0.01255122059516689, 0.08785854416616823, 0.08534830004713484, 0.010040976476133511, 0.13304293830876904, 0.06526634709486782, 0.1581453794991028, 0.015061464714200267, 0.9329987017886666, 0.7933630728324917, 0.053109036806409216, 0.10621807361281843, 0.053109036806409216, 0.743526515289729, 0.041564313410885484, 0.041564313410885484, 0.041564313410885484, 0.7481576413959388, 0.041564313410885484, 0.08312862682177097, 0.9469091306860298, 0.15565948485268433, 0.06226379394107374, 0.7782974242634217, 0.10654906296204363, 0.852392503696349, 0.8924591039453996, 0.16139711208637014, 0.023056730298052875, 0.04611346059610575, 0.5994749877493748, 0.023056730298052875, 0.0922269211922115, 0.04611346059610575, 0.05436537652316297, 0.1630961295694889, 0.7611152713242816, 0.05515423404590503, 0.15014208156940814, 0.11643671631913284, 0.016852682625137647, 0.21295662589946665, 0.04136567553442877, 0.27117498405903306, 0.0321733031934446, 0.05668629610273573, 0.04749392376175155, 0.038149941501207214, 0.12801424814849532, 0.06866989470217298, 0.1797286132945762, 0.24670295504113998, 0.04493215332364405, 0.05171436514608089, 0.18566304863920843, 0.015259976600482885, 0.03984549445681643, 0.02166144552751954, 0.09747650487383792, 0.01083072276375977, 0.01083072276375977, 0.5956897520067873, 0.04332289105503908, 0.1516301186926368, 0.02166144552751954, 0.04332289105503908, 0.8630483630552089, 0.08013410404795657, 0.02671136801598552, 0.6410728323836525, 0.02671136801598552, 0.21369094412788417, 0.04038933795206854, 0.08077867590413708, 0.7673974210893022, 0.04038933795206854, 0.08077867590413708, 0.05734859290084572, 0.9175774864135315, 0.907908176068278, 0.8695950717294785, 0.1872397719332967, 0.04680994298332417, 0.03240688360383981, 0.0036007648448710904, 0.028806118758968723, 0.2916619524345583, 0.061213002362808536, 0.1476313586397147, 0.14403059379484362, 0.05761223751793745, 0.5918755868158364, 0.023675023472633457, 0.04735004694526691, 0.07102507041790038, 0.09470009389053383, 0.023675023472633457, 0.11837511736316729, 0.04735004694526691, 0.045985917897196374, 0.8277465221495348, 0.09197183579439275, 0.8018788829121342, 0.9058094369348434, 0.928976584954814, 0.9178566284155609, 0.06732914838667008, 0.04713040387066906, 0.3501115716106844, 0.09426080774133812, 0.13465829677334015, 0.05386331870933606, 0.1649564135473417, 0.05386331870933606, 0.03366457419333504, 0.7246444803137229, 0.1402537703833012, 0.04675125679443373, 0.023375628397216866, 0.023375628397216866, 0.04675125679443373, 0.7318524034656957, 0.03181966971589981, 0.06363933943179963, 0.03181966971589981, 0.03181966971589981, 0.06363933943179963, 0.03181966971589981, 0.10833128808425217, 0.03611042936141739, 0.14444171744566955, 0.07222085872283478, 0.5777668697826782, 0.018055214680708694, 0.018055214680708694, 0.018055214680708694, 0.8674439180486211, 0.12310284586596733, 0.09848227669277386, 0.07386170751958039, 0.024620569173193465, 0.07386170751958039, 0.6155142293298367, 0.10011387112563866, 0.0813425202895814, 0.012514233890704832, 0.018771350836057247, 0.3816841336664974, 0.20022774225127732, 0.018771350836057247, 0.06257116945352416, 0.06882828639887657, 0.05005693556281933, 0.11760362464095199, 0.05488169149911092, 0.03136096657092053, 0.03920120821365066, 0.14112434956914238, 0.21168652435371357, 0.023520724928190396, 0.05488169149911092, 0.3136096657092053, 0.051225468641409845, 0.44736909280164594, 0.06830062485521313, 0.037565343670367214, 0.06147056236969181, 0.027320249942085248, 0.08196074982625574, 0.04439540615588853, 0.16050646840975083, 0.023905218699324594, 0.5289755580346686, 0.0765622518208073, 0.013920409421964961, 0.027840818843929922, 0.013920409421964961, 0.06960204710982482, 0.048721432976877366, 0.06264184239884232, 0.04176122826589489, 0.11136327537571969, 0.9146566751870374, 0.9317557224957186, 0.018590328602368228, 0.055770985807104684, 0.6320711724805197, 0.018590328602368228, 0.018590328602368228, 0.018590328602368228, 0.2044936146260505, 0.037180657204736456, 0.07576068593428507, 0.909128231211421, 0.054140538683963235, 0.10828107736792647, 0.8121080802594486, 0.048233639313614476, 0.024116819656807238, 0.07235045897042171, 0.024116819656807238, 0.16881773759765067, 0.048233639313614476, 0.6029204914201809, 0.9384559912833313, 0.05327261822576163, 0.04661354094754143, 0.04661354094754143, 0.06659077278220205, 0.006659077278220204, 0.013318154556440408, 0.03329538639110102, 0.07990892733864245, 0.1531587773990647, 0.5060898731447355, 0.06163585952894147, 0.13313345658251358, 0.11587541591440996, 0.09122107210283338, 0.04930868762315318, 0.17751127544335144, 0.09861737524630636, 0.11340998153325231, 0.06656672829125679, 0.09122107210283338, 0.043451621026432054, 0.782129178475777, 0.043451621026432054, 0.08690324205286411, 0.043451621026432054, 0.7224352551292461, 0.07604581632939432, 0.07604581632939432, 0.07604581632939432, 0.07604581632939432, 0.0221906485926885, 0.0754482052151409, 0.0488194269039147, 0.1153913726819802, 0.3417359883274029, 0.0488194269039147, 0.2307827453639604, 0.0221906485926885, 0.088762594370754, 0.05745720338788329, 0.07513634289184738, 0.05745720338788329, 0.11933419165175761, 0.01767913950396409, 0.27844644718743444, 0.18563096479162294, 0.08397591264382943, 0.06187698826387432, 0.06629677313986534, 0.098602531411092, 0.788820251288736, 0.06097580940710545, 0.261970144119416, 0.11969325550283663, 0.09259289576634532, 0.06436335437416686, 0.06888008099691542, 0.02822954139217845, 0.1366309803381437, 0.1185640738471495, 0.04629644788317266, 0.9156785715316544, 0.03488249393550331, 0.08720623483875826, 0.10464748180650991, 0.08720623483875826, 0.06976498787100661, 0.10464748180650991, 0.017441246967751654, 0.48835491509704626, 0.10828844931011167, 0.022560093606273264, 0.1443845990801489, 0.010528043682927523, 0.06166425585714692, 0.09625639938676592, 0.19552081125436827, 0.19100879253311362, 0.07068829329965623, 0.09776040562718413, 0.08085706166116997, 0.5862136970434823, 0.020214265415292493, 0.08085706166116997, 0.10107132707646246, 0.020214265415292493, 0.10107132707646246, 0.8247091819190407, 0.9686616148158945, 0.9538086772354454, 0.25276860076222285, 0.036109800108888986, 0.036109800108888986, 0.6860862020688907, 0.11166135124110056, 0.17464980578736242, 0.04294667355426945, 0.05439911983540797, 0.2519538181850474, 0.03435733884341556, 0.0858933471085389, 0.04294667355426945, 0.05439911983540797, 0.14601869008451612, 0.14953953181423768, 0.049846510604745896, 0.0166155035349153, 0.11630852474440709, 0.0332310070698306, 0.0830775176745765, 0.498465106047459, 0.049846510604745896, 0.6792179332369923, 0.25470672496387214, 0.04245112082731202, 0.02122556041365601, 0.865944572506625, 0.708923564430147, 0.04623414550631394, 0.01541138183543798, 0.06164552734175192, 0.01541138183543798, 0.04623414550631394, 0.01541138183543798, 0.0770569091771899, 0.12388724440719992, 0.048669988874257115, 0.09291543330539995, 0.03982089998802855, 0.09733997774851423, 0.0796417999760571, 0.07521725553294281, 0.06194362220359996, 0.2920199332455427, 0.08849088886228566, 0.15330497055119482, 0.20905223256981112, 0.048778854266289265, 0.09058930078025149, 0.04181044651396223, 0.09058930078025149, 0.013936815504654075, 0.006968407752327038, 0.06271566977094334, 0.27873631009308153, 0.09924237716831104, 0.7939390173464883, 0.8016470339703313, 0.028913709425456825, 0.21291004213290934, 0.14194002808860623, 0.0394277855801684, 0.08148409019901469, 0.073598533082981, 0.002628519038677893, 0.08674112827637047, 0.21816708021026512, 0.1156548377018273, 0.028022298095293486, 0.122597554166909, 0.25920625738146474, 0.12960312869073237, 0.12960312869073237, 0.04553623440485192, 0.0070055745238233715, 0.04553623440485192, 0.10508361785735057, 0.12610034142882068, 0.8224053977620757, 0.043056891593222124, 0.9472516150508867, 0.10732865299749232, 0.8586292239799386, 0.8156745030922935, 0.8525974698188952, 0.04271751419901345, 0.0379711237324564, 0.1423917139967115, 0.047463904665570496, 0.0854350283980269, 0.0094927809331141, 0.0664494665317987, 0.0759422474649128, 0.33699372312555054, 0.15663088539638265, 0.017374207464721837, 0.06370542737064673, 0.005791402488240612, 0.388023966712121, 0.08687103732360918, 0.05791402488240612, 0.08687103732360918, 0.11582804976481224, 0.0463312199059249, 0.12741085474129346, 0.07680314557915864, 0.1792073396847035, 0.025601048526386217, 0.051202097052772434, 0.08960366984235175, 0.051202097052772434, 0.43521782494856565, 0.11520471836873797, 0.8797863599272933, 0.017593439462438236, 0.017593439462438236, 0.017593439462438236, 0.017593439462438236, 0.03518687892487647, 0.8620785336594736, 0.03518687892487647, 0.2690245099080422, 0.1603166467207109, 0.143845758358994, 0.08784473792915665, 0.02305924370640362, 0.11419815930790364, 0.0340398359475482, 0.0340398359475482, 0.10651174473910244, 0.026353421378746994, 0.8351418012295513, 0.7977574708978872, 0.8742781774018551, 0.09967550987508486, 0.05537528326393603, 0.03322516995836162, 0.011075056652787206, 0.09967550987508486, 0.06645033991672324, 0.12182562318065927, 0.08860045322229765, 0.4208521528059138, 0.5493329418799007, 0.10632250487998077, 0.17129736897330236, 0.011813611653331196, 0.017720417479996795, 0.023627223306662393, 0.05906805826665598, 0.017720417479996795, 0.04134764078665919, 0.011813611653331196, 0.16581056102373926, 0.039794534645697426, 0.039794534645697426, 0.12601602637804185, 0.07295664685044527, 0.09948633661424355, 0.32498869960652893, 0.02652968976379828, 0.059691801968546135, 0.04642695708664699, 0.03466540910123623, 0.19065975005679928, 0.6759754774741065, 0.017332704550618114, 0.017332704550618114, 0.05199811365185435, 0.8872359739588423, 0.7208547094415534, 0.055450362264734876, 0.027725181132367438, 0.055450362264734876, 0.08317554339710231, 0.027725181132367438, 0.01496921482904328, 0.08981528897425968, 0.06736146673069476, 0.04490764448712984, 0.4864994819439066, 0.07484607414521639, 0.04490764448712984, 0.16466136311947607, 0.01496921482904328, 0.00748460741452164, 0.8338387273480089, 0.1207582805650459, 0.04025276018834863, 0.1207582805650459, 0.020126380094174313, 0.5836650227310551, 0.10063190047087157, 0.04025276018834863, 0.9181308428153264, 0.3003987238817348, 0.11091645189479438, 0.07856582009214601, 0.07394430126319625, 0.11091645189479438, 0.06007974477634695, 0.05083670711844742, 0.00924303765789953, 0.11091645189479438, 0.09705189540794508, 0.046595011983398084, 0.7455201917343693, 0.09319002396679617, 0.046595011983398084, 0.06635631946782357, 0.8626321530817064, 0.06635631946782357, 0.30200073348106266, 0.2620300481673926, 0.04885305982781896, 0.04441187257074451, 0.008882374514148902, 0.022205936285372256, 0.10214730691271237, 0.06217662159904232, 0.017764749028297805, 0.13323561771223352, 0.8255507951605366, 0.11793582788007666, 0.05271194760609665, 0.1054238952121933, 0.7906792140914497, 0.18489832142539686, 0.5855113511804234, 0.21571470832962966, 0.06806221345557757, 0.7486843480113532, 0.06806221345557757, 0.42044653050414793, 0.02960891059888366, 0.03553069271866039, 0.02960891059888366, 0.02960891059888366, 0.06513960331754405, 0.11843564239553464, 0.08290494967687424, 0.1894970278328554, 0.863808527452876, 0.8220147190318065, 0.1027518398789758, 0.09683966747445041, 0.04841983373722521, 0.8231371735328286, 0.04887690871681675, 0.06924228734882373, 0.1058999688864363, 0.08553459025442932, 0.14663072615045025, 0.07738843880162652, 0.07738843880162652, 0.3014076037537033, 0.06516921162242234, 0.02036537863200698, 0.8604472186630899, 0.646596944232472, 0.03918769358984679, 0.019593846794923396, 0.07837538717969358, 0.03918769358984679, 0.03918769358984679, 0.11756308076954038, 0.05938865460026835, 0.8908298190040252, 0.8904243150894197, 0.8157997513318294, 0.10197496891647867, 0.03363919621393618, 0.03363919621393618, 0.3027527659254256, 0.6055055318508512, 0.04464650492553287, 0.15497133941094055, 0.08597219543511701, 0.06826118521672381, 0.052764051275629754, 0.022507742152541362, 0.31178757571963034, 0.08671015419421672, 0.10958687572630794, 0.06272649452347594, 0.20184307961269587, 0.14938166244463835, 0.09869859840092177, 0.08980683277921711, 0.04890471091937565, 0.06135318278976218, 0.12092801245518343, 0.10225530464960364, 0.028453649989454925, 0.09869859840092177, 0.08070098406881306, 0.07449321606351975, 0.1334670121138062, 0.021727188018526595, 0.04345437603705319, 0.06828544805822644, 0.05897379605028647, 0.0713893320608731, 0.20796022817732596, 0.24210295220643918, 0.17726558597106765, 0.4351064382926206, 0.024172579905145587, 0.17726558597106765, 0.07251773971543676, 0.06446021308038824, 0.00805752663504853, 0.00805752663504853, 0.024172579905145587, 0.00805752663504853, 0.8652810059121124, 0.13242961185030153, 0.7945776711018092, 0.05265317377242379, 0.010530634754484758, 0.031591904263454276, 0.0737144432813933, 0.49493983346078363, 0.021061269508969516, 0.010530634754484758, 0.13689825180830187, 0.10530634754484758, 0.05265317377242379, 0.9323567436865994, 0.06460537346751223, 0.44100189714780086, 0.09831252484186644, 0.025280363530765654, 0.05056072706153131, 0.01404464640598092, 0.09269466627947406, 0.05056072706153131, 0.137637534778613, 0.02247143424956947, 0.7661795135025539, 0.058936885654042606, 0.029468442827021303, 0.058936885654042606, 0.029468442827021303, 0.058936885654042606, 0.01963854249159013, 0.12344226708999512, 0.12063676101976796, 0.05611012140454323, 0.22163497954794578, 0.10380372459840498, 0.1767468824243112, 0.05611012140454323, 0.06733214568545189, 0.05611012140454323, 0.8741315136986239, 0.07946650124532943, 0.04231543475233193, 0.11653019724103716, 0.0950469765206225, 0.13475838451896477, 0.2363154279245614, 0.0546845618337828, 0.13606039789595958, 0.06705368891523367, 0.08463086950466386, 0.0318993277363733, 0.13107566580883218, 0.8519918277574092, 0.021763223807417114, 0.05803526348644564, 0.10156171110127987, 0.4497732920199537, 0.1450881587161141, 0.12332493490869699, 0.021763223807417114, 0.02901763174322282, 0.04352644761483423, 0.24148332248416657, 0.053662960552037016, 0.13171817590045448, 0.04634528411312288, 0.036588382194570696, 0.3000247339954797, 0.04634528411312288, 0.041466833153846784, 0.026831480276018508, 0.07317676438914139, 0.08235744362329277, 0.12353616543493914, 0.7000382707979885, 0.08235744362329277, 0.907529051736339, 0.14202147941841217, 0.14847700121015817, 0.09683282687619012, 0.08822546448719544, 0.06885889911195742, 0.10328834866793613, 0.06240337732021141, 0.06885889911195742, 0.0839217832926981, 0.1398696388211635, 0.10977504893935784, 0.014636673191914378, 0.15368506851510097, 0.029273346383828756, 0.42446352256551695, 0.014636673191914378, 0.0658650293636147, 0.09513837574744347, 0.08050170255552908, 0.014636673191914378, 0.5259415151377399, 0.01143351119864652, 0.04573404479458608, 0.03430053359593956, 0.03430053359593956, 0.1715026679796978, 0.03430053359593956, 0.01143351119864652, 0.06860106719187913, 0.06860106719187913, 0.10758693842541908, 0.05379346921270954, 0.7531085689779335, 0.05379346921270954, 0.016938618037934738, 0.06775447215173895, 0.031054133069547022, 0.014115515031612283, 0.02258482405057965, 0.6973064425616468, 0.06775447215173895, 0.053638957120126673, 0.031054133069547022, 0.8757369415753922, 0.8006824570828864, 0.8805385698506059, 0.911086986026294, 0.14812060558693207, 0.7406030279346605, 0.09874707039128806, 0.8727232806716019, 0.9463585798095687, 0.10915351014675662, 0.039692185507911495, 0.1951532454138982, 0.04961523188488937, 0.17530715265994246, 0.2679222521784026, 0.016538410628296456, 0.056230596136207955, 0.04299986763357079, 0.04961523188488937, 0.07088488780980769, 0.15189618816387362, 0.2480971073343269, 0.015189618816387362, 0.005063206272129121, 0.025316031360645603, 0.28353955123923075, 0.09113771289832417, 0.10632733171471154, 0.827021335963202, 0.8399378705646903, 0.9669731344396796, 0.02348951716492122, 0.02348951716492122, 0.04697903432984244, 0.6811959977827154, 0.09395806865968488, 0.07046855149476366, 0.04697903432984244, 0.02348951716492122, 0.08715276816856171, 0.08715276816856171, 0.7843749135170553, 0.8327869314864847, 0.06939891095720706, 0.06939891095720706, 0.09192299957853617, 0.8273069962068256, 0.9244171551632353, 0.3230368932734037, 0.333457438217707, 0.07815408708227507, 0.005210272472151672, 0.08336435955442675, 0.06773354213797174, 0.010420544944303344, 0.046892452249365044, 0.010420544944303344, 0.04168217977721338, 0.9272834207558629, 0.023033813768436648, 0.18427051014749318, 0.06910144130530994, 0.11516906884218324, 0.5297777166740429, 0.06910144130530994, 0.20178400195644985, 0.7735053408330578, 0.03363066699274164, 0.75147005841288, 0.10735286548755428, 0.05367643274377714, 0.10735286548755428, 0.07667918337589451, 0.8434710171348396, 0.07667918337589451, 0.922392073274427, 0.019325852437788848, 0.019325852437788848, 0.9083150645760758, 0.019325852437788848, 0.019325852437788848, 0.9291787615754643, 0.0991073166547346, 0.8919658498926114, 0.9347151893738944, 0.7815314206271767, 0.048845713789198546, 0.048845713789198546, 0.048845713789198546, 0.048845713789198546, 0.8533661123332195, 0.8374711711835485, 0.10468389639794357, 0.8665588499834244, 0.871342013859387, 0.9241062432084202, 0.045004565129324804, 0.12131665382687556, 0.4128679670559797, 0.11153305271180496, 0.041091124683296565, 0.035220964014254195, 0.05478816624439542, 0.0978360111507061, 0.0528314460213813, 0.02739408312219771, 0.010497782743127182, 0.06298669645876309, 0.010497782743127182, 0.5668802681288678, 0.07348447920189027, 0.020995565486254364, 0.031493348229381546, 0.08398226194501746, 0.04199113097250873, 0.08398226194501746, 0.08415733352309761, 0.08415733352309761, 0.22441955606159364, 0.5891013346616832, 0.8939216642822175, 0.06876320494478597, 0.14699590988722233, 0.7349795494361118, 0.07349795494361117, 0.10477727620402108, 0.7334409334281476, 0.0349257587346737, 0.0698515174693474, 0.0349257587346737, 0.0349257587346737, 0.23538548510679771, 0.10312126014202566, 0.07622006184410593, 0.0650112292199727, 0.03586826439722632, 0.08294536141858586, 0.14347305758890527, 0.02690119829791974, 0.16364895631234508, 0.0650112292199727, 0.09358987724520745, 0.09036264009882099, 0.05163579434218342, 0.4163135918838538, 0.08713540295243452, 0.09036264009882099, 0.03872684575663757, 0.04840855719579696, 0.08713540295243452, 0.11524054727993785, 0.031096655615221326, 0.10243604202661143, 0.089631536773285, 0.08597310670090602, 0.13536191267802225, 0.08414389166471653, 0.05853488115806367, 0.13536191267802225, 0.1609709231846751, 0.07050742648013486, 0.021935643793819733, 0.15041584315762105, 0.10497772387042302, 0.29613119121656645, 0.10497772387042302, 0.026636138892495394, 0.16451732845364803, 0.032903465690729605, 0.026636138892495394, 0.1610839905373694, 0.8054199526868471, 0.7487613857291606, 0.21393182449404588, 0.14738447482884195, 0.09508675795409158, 0.13787579903343278, 0.03803470318163663, 0.009508675795409158, 0.06180639267015953, 0.03328036528393205, 0.38985570761177546, 0.0665607305678641, 0.019017351590818316, 0.11378208130975201, 0.10794710278104677, 0.03209238190787877, 0.24215160894126708, 0.06710225308011016, 0.07293723160881539, 0.06418476381575754, 0.06710225308011016, 0.07585472087316801, 0.1546269310106886, 0.9073198787140421, 0.05337175757141424, 0.05504911838026299, 0.05504911838026299, 0.8807858940842078, 0.8719944142934959, 0.8078034066818014, 0.13463390111363358, 0.05965060886208091, 0.8351085240691327, 0.05965060886208091, 0.8727537907786247, 0.08039811863010864, 0.11461008400462296, 0.05131794806177147, 0.0752663238239315, 0.1282948701544287, 0.2069823905158116, 0.005131794806177147, 0.03763316191196575, 0.23435196281542306, 0.0650027342115772, 0.8984255214115411, 0.2020552594006266, 0.0336758765667711, 0.0336758765667711, 0.0336758765667711, 0.5051381485015665, 0.05051381485015665, 0.05051381485015665, 0.08418969141692775, 0.10309161637601563, 0.00763641602785301, 0.06872774425067708, 0.0801823682924566, 0.06490953623675058, 0.3321840972116059, 0.0840005763063831, 0.03054566411141204, 0.07254595226460359, 0.1565465285709867, 0.3631076509665258, 0.02388866124779775, 0.09077691274163145, 0.13377650298766738, 0.0573327869947146, 0.062110519244274146, 0.08122144824251235, 0.042999590246035946, 0.052555054745155046, 0.09077691274163145, 0.018226082518911137, 0.08201737133510012, 0.045565206297277845, 0.054678247556733416, 0.5285563930484231, 0.06379128881618898, 0.045565206297277845, 0.13669561889183354, 0.018226082518911137, 0.05726024687131418, 0.019086748957104726, 0.17178074061394255, 0.019086748957104726, 0.03817349791420945, 0.03817349791420945, 0.019086748957104726, 0.0763469958284189, 0.5535157197560371, 0.05101323587439448, 0.05101323587439448, 0.05101323587439448, 0.7651985381159171, 0.015185768733010061, 0.1518576873301006, 0.1518576873301006, 0.04555730619903019, 0.5922449805873924, 0.030371537466020122, 0.015185768733010061, 0.5587977793243281, 0.07517458914677058, 0.030069835658708233, 0.02706285209283741, 0.013531426046418705, 0.046608245270997765, 0.11376421157544615, 0.04560591741570749, 0.032575655296933924, 0.056631523823900506, 0.6735700627919995, 0.12473519681333323, 0.09978815745066659, 0.049894078725333295, 0.024947039362666647, 0.8496259244649947, 0.10620324055812434, 0.8687784938465026, 0.40096306261680975, 0.048962486194131884, 0.025142898315905562, 0.04366924444341492, 0.0396993131303772, 0.10851145588969768, 0.19320332390116904, 0.01852634612750936, 0.07542869494771669, 0.04499255488109416, 0.8923348231847438, 0.06047830395053477, 0.9071745592580216, 0.0314655487185193, 0.17830477607160938, 0.010488516239506434, 0.14683922735309007, 0.49296026325680237, 0.0629310974370386, 0.07341961367654504, 0.04054713200501994, 0.3059465414924232, 0.011058308728641802, 0.036861029095472675, 0.07372205819094535, 0.08109426401003988, 0.2395966891205724, 0.051605440733661745, 0.04791933782411448, 0.11426919019596529, 0.020446042575019314, 0.04997921518338054, 0.04997921518338054, 0.19991686073352216, 0.07269704026673533, 0.11358912541677396, 0.07496882277507082, 0.14993764555014163, 0.19991686073352216, 0.07042525775839986, 0.5376859395812772, 0.07189986401377545, 0.015630405220385966, 0.03126081044077193, 0.014067364698347368, 0.06564770192562105, 0.15943013324793684, 0.05939553983746667, 0.026571688874656142, 0.020319526786501754, 0.18146138809958584, 0.49599446080553466, 0.08468198111314006, 0.012097425873305723, 0.03629227761991717, 0.012097425873305723, 0.03629227761991717, 0.07258455523983434, 0.04838970349322289, 0.024194851746611446, 0.029147890905945988, 0.09327325089902716, 0.08161409453664877, 0.02331831272475679, 0.04663662544951358, 0.3789225817772978, 0.13408029816735154, 0.034977469087135185, 0.12242114180497314, 0.058295781811891975, 0.03817174753095724, 0.06361957921826207, 0.0890674109055669, 0.0890674109055669, 0.025447831687304828, 0.11451524259287173, 0.0890674109055669, 0.050895663374609657, 0.050895663374609657, 0.40716530699687725, 0.01821140641625254, 0.054634219248757616, 0.03642281283250508, 0.10926843849751523, 0.01821140641625254, 0.25495968982753553, 0.03642281283250508, 0.45528516040631345, 0.0932001209271791, 0.12815016627487125, 0.04660006046358955, 0.011650015115897387, 0.45435058951999807, 0.011650015115897387, 0.04660006046358955, 0.19805025697025558, 0.9036881642334239, 0.015322544438027871, 0.19408556288168638, 0.05618266293943553, 0.09704278144084319, 0.045967633314083614, 0.045967633314083614, 0.07661272219013936, 0.015322544438027871, 0.02043005925070383, 0.4290312442647804, 0.08519364535052616, 0.7667428081547355, 0.9147298279232284, 0.06306287329552157, 0.031531436647760785, 0.06306287329552157, 0.6306287329552157, 0.031531436647760785, 0.031531436647760785, 0.12612574659104314, 0.047851421750787854, 0.07177713262618178, 0.4226875587986261, 0.111653317418505, 0.06380189566771714, 0.06380189566771714, 0.07177713262618178, 0.03987618479232321, 0.023925710875393927, 0.08772760654311107, 0.918134366557634, 0.8714517591044117, 0.07262097992536765, 0.8374599653962667, 0.07170317762012886, 0.8604381314415462, 0.07170317762012886, 0.9289333542385351, 0.8009091568250426, 0.8651379235468778, 0.8476525181491492, 0.8522533261545976, 0.8670936181822001, 0.8438733401293169, 0.19258652083270594, 0.16706300602355215, 0.08585182253988095, 0.025523514809153797, 0.07889086395556628, 0.09281278112419564, 0.07192990537125162, 0.14153949121439835, 0.027843834337258688, 0.11137533734903475, 0.16540045552984722, 0.041350113882461806, 0.041350113882461806, 0.08270022776492361, 0.6616018221193889, 0.8710547096389599, 0.09967423886424062, 0.033224746288080205, 0.016612373144040102, 0.016612373144040102, 0.04153093286010026, 0.13289898515232082, 0.4402278883170628, 0.10798042543626067, 0.07475567914818047, 0.033224746288080205, 0.880116557585099, 0.10906060393308711, 0.16359090589963068, 0.7088939255650663, 0.966872656983939, 0.3520978777022105, 0.09208713724519352, 0.04875201383569069, 0.05416890426187854, 0.0812533563928178, 0.005416890426187854, 0.010833780852375708, 0.17334049363801132, 0.04333512340950283, 0.13542226065469634, 0.1483667201622221, 0.8407447475859253, 0.12093840488365229, 0.15117300610456538, 0.060469202441826145, 0.030234601220913072, 0.6046920244182615, 0.04519771371156003, 0.022598856855780013, 0.022598856855780013, 0.7909599899523004, 0.022598856855780013, 0.09039542742312005, 0.8492366798210149, 0.03045136061831427, 0.24361088494651417, 0.04060181415775236, 0.04060181415775236, 0.10488801990752693, 0.10827150442067296, 0.09135408185494281, 0.1488733185784253, 0.02706787610516824, 0.1691742256573015, 0.955410171564962, 0.04291199566326471, 0.018390855284256304, 0.38007767587463026, 0.12260570189504202, 0.12873598698979413, 0.17164798265305883, 0.018390855284256304, 0.018390855284256304, 0.09808456151603362, 0.954681344460061, 0.04276683651941634, 0.0712780608656939, 0.2019545057861327, 0.030887159708467355, 0.10929302666073064, 0.07602993159007349, 0.19482669969956332, 0.15205986318014697, 0.045142771881606134, 0.08078180231445307, 0.02742331746288876, 0.7678528889608853, 0.05484663492577752, 0.02742331746288876, 0.10969326985155504, 0.030751579053232066, 0.2767642114790886, 0.02733473693620628, 0.17425894796831504, 0.07517052657456727, 0.037585263287283635, 0.18450947431939238, 0.051252631755386774, 0.1366736846810314, 0.00683368423405157, 0.1658707332030741, 0.13822561100256175, 0.02764512220051235, 0.02764512220051235, 0.09675792770179323, 0.4423219552081976, 0.02764512220051235, 0.06911280550128088, 0.08796674162481537, 0.11462332999597154, 0.14394557720424334, 0.04531620023096549, 0.047981859068081105, 0.0613101532536592, 0.039984882556734255, 0.17593348324963073, 0.13328294185578085, 0.14927689487847456, 0.9156301229128039, 0.5229393829304744, 0.058104375881163815, 0.058104375881163815, 0.2469435974949462, 0.10168265779203668, 0.948099830951349, 0.8861474263888454, 0.9140093790587293, 0.09452916795704512, 0.10180064241527936, 0.04362884674940544, 0.05817179566587392, 0.00727147445823424, 0.6035323800334419, 0.0363573722911712, 0.05090032120763968, 0.898338117362325, 0.039984254173061284, 0.039984254173061284, 0.039984254173061284, 0.019992127086530642, 0.06997244480285725, 0.4498228594469394, 0.009996063543265321, 0.06997244480285725, 0.16993308023551046, 0.07996850834612257, 0.05745852806767609, 0.9193364490828174, 0.21349491237735516, 0.09704314198970689, 0.04205202819553965, 0.022643399797598274, 0.07763451359176551, 0.23937308357461032, 0.0808692849914224, 0.04205202819553965, 0.10027791338936379, 0.0808692849914224, 0.08799275463777743, 0.20269759550488017, 0.08013625868797589, 0.1115622424871821, 0.14141692709642803, 0.0691371643582537, 0.1382743287165074, 0.0408537789389681, 0.0549954716486109, 0.07385106192813463, 0.894644467728065, 0.8672814881179312, 0.785684497858044, 0.10839385702662964, 0.10839385702662964, 0.2733410307628052, 0.1013246924379364, 0.02827665835477295, 0.05184054031708374, 0.08718636326054993, 0.035345822943466186, 0.1673035619324066, 0.032989434747235105, 0.02391020102515849, 0.1912816082012679, 0.05260244225534868, 0.18649956799623624, 0.03347428143522189, 0.32039669373712376, 0.028692241230190187, 0.062166522665412074, 0.07173060307547548, 0.03347428143522189, 0.07310499170455785, 0.07310499170455785, 0.8041549087501364, 0.9081083136643222, 0.13874557786697878, 0.04624852595565959, 0.030832350637106393, 0.030832350637106393, 0.5703984867864683, 0.16957792850408515, 0.07718690469461777, 0.013783375838324601, 0.1461037838862408, 0.14334710871857587, 0.26739749126349727, 0.022053401341319362, 0.1516171342215706, 0.03308010201197904, 0.05237682818563349, 0.0937269557006073, 0.0403749697433469, 0.22206233358840796, 0.005046871217918363, 0.09589055314044889, 0.04542184096126527, 0.005046871217918363, 0.3028122730751018, 0.14131239410171414, 0.13121865166587743, 0.005046871217918363, 0.12330913849007404, 0.07927016045790473, 0.14092472970294176, 0.052846773638603156, 0.01761559121286772, 0.03523118242573544, 0.5196599407795978, 0.026423386819301578, 0.15642080203654726, 0.09094232676543447, 0.19825427234864712, 0.15642080203654726, 0.06184078220049544, 0.08002924755358233, 0.02364500495901296, 0.045471163382717235, 0.034558084170865096, 0.1527831089659299, 0.09159710173723724, 0.8243739156351353, 0.09053252554004297, 0.020118339008898437, 0.04023667801779687, 0.07041418653114453, 0.17100588157563673, 0.060355017026695316, 0.030177508513347658, 0.45266262770021487, 0.08047335603559375, 0.8505362583985929, 0.8793841721716222, 0.201671434725852, 0.0806685738903408, 0.6453485911227264, 0.0403342869451704, 0.8889109914493606, 0.08465818966184387, 0.8461556756135823, 0.12700230260572148, 0.1616392942254637, 0.08851675636156345, 0.011545663873247406, 0.10775952948364247, 0.08081964711273185, 0.25400460521144297, 0.01924277312207901, 0.09621386561039505, 0.05387976474182123, 0.03283995927102203, 0.049259938906533046, 0.020524974544388768, 0.1765147810817434, 0.07799490326867732, 0.06157492363316631, 0.06157492363316631, 0.0533649338154108, 0.041049949088777536, 0.4269194705232864, 0.9329173320411868, 0.9181099079389559, 0.8462637288116454, 0.05572621538452034, 0.11145243076904068, 0.8358932307678051, 0.8707788320131612, 0.08026745757267997, 0.8829420332994797, 0.08157591140735479, 0.8973350254809027, 0.8172973539930327, 0.0394012194996463, 0.1182036584989389, 0.21107796160524803, 0.09568867592771244, 0.04502996514245291, 0.16041925081998848, 0.025329355392629763, 0.07035932053508268, 0.18293423339121495, 0.04784433796385622, 0.04276510087449165, 0.04276510087449165, 0.04276510087449165, 0.12829530262347494, 0.727006714866358, 0.03935669582227249, 0.15742678328908996, 0.03935669582227249, 0.11807008746681748, 0.6297071331563598, 0.06274540363983774, 0.03764724218390265, 0.06274540363983774, 0.06274540363983774, 0.06274540363983774, 0.03764724218390265, 0.2007852916474808, 0.0752944843678053, 0.01254908072796755, 0.4015705832949616, 0.2738287951261088, 0.0256714495430727, 0.0684571987815272, 0.0599000489338363, 0.4364146422322359, 0.0085571498476909, 0.0513428990861454, 0.0171142996953818, 0.0599000489338363, 0.09289346078437143, 0.8360411470593428, 0.9140522315257174, 0.83865483014482, 0.04295222958118727, 0.014317409860395758, 0.2004437380455406, 0.12885668874356182, 0.04295222958118727, 0.47247452539306, 0.028634819720791516, 0.07158704930197879, 0.450904385124782, 0.06441491216068314, 0.15298541638162247, 0.04831118412051236, 0.02415559206025618, 0.02415559206025618, 0.09662236824102471, 0.02415559206025618, 0.03220745608034157, 0.08051864020085392, 0.037029678822546055, 0.666534218805829, 0.037029678822546055, 0.037029678822546055, 0.037029678822546055, 0.07405935764509211, 0.07405935764509211, 0.15362067294192236, 0.11423075680296792, 0.14968168132802692, 0.08271882389180435, 0.06302386582232712, 0.0610543700153794, 0.1575596645558178, 0.1043832777682293, 0.06696285743622257, 0.047267899366745345, 0.07047993534088881, 0.015662207853530848, 0.14095987068177762, 0.3563152286678268, 0.05090217552397525, 0.023493311780296268, 0.0665643833775061, 0.0665643833775061, 0.023493311780296268, 0.18403094227898745, 0.9382308551105472, 0.10323941684502254, 0.10323941684502254, 0.04301642368542606, 0.04301642368542606, 0.2193837607956729, 0.10969188039783645, 0.06882627789668169, 0.06237381434386779, 0.141954198161906, 0.10754105921356515, 0.06914046750886772, 0.13828093501773545, 0.05185535063165079, 0.5704088569481587, 0.1209958181405185, 0.03457023375443386, 0.7988851781590891, 0.05706322701136351, 0.11412645402272702, 0.1144343779866965, 0.1144343779866965, 0.6866062679201791, 0.07628958532446434, 0.9158402215262115, 0.04572195402648157, 0.10450732348910073, 0.4180292939564029, 0.07838049261682555, 0.03919024630841277, 0.12410244664330712, 0.05878536946261916, 0.052253661744550366, 0.08491220033489434, 0.8011725460968198, 0.023581297774321355, 0.262763032342438, 0.06400637967315796, 0.07074389332296406, 0.08758767744747932, 0.17517535489495864, 0.09769394792218847, 0.04716259554864271, 0.04042508189883661, 0.131381516171219, 0.9139605488527316, 0.789259415108793, 0.19731485377719826, 0.05217342051786159, 0.11594093448413688, 0.02898523362103422, 0.06376751396627528, 0.005797046724206844, 0.2782582427619285, 0.12753502793255056, 0.30724347638296273, 0.011594093448413688, 0.011594093448413688, 0.02660161583577328, 0.05320323167154656, 0.7714468592374252, 0.02660161583577328, 0.10640646334309312, 0.018958604794253923, 0.08531372157414265, 0.018958604794253923, 0.44552721266496714, 0.028437907191380882, 0.14218953595690442, 0.14218953595690442, 0.028437907191380882, 0.047396511985634805, 0.047396511985634805, 0.7911640412687475, 0.8371986590035894, 0.08190304866034592, 0.08190304866034592, 0.034485494172777235, 0.019398090472187195, 0.265107236453225, 0.10130113913253312, 0.10130113913253312, 0.15302938039169897, 0.09914579574673454, 0.06250495818815874, 0.9224600766270188, 0.8576756107080026, 0.23050435872045213, 0.06390219845715504, 0.16888438163676692, 0.06390219845715504, 0.05249109158980593, 0.027386656481637878, 0.16431993888982727, 0.03879776334898699, 0.09585329768573257, 0.09357107631226275, 0.09450009468489323, 0.03543753550683496, 0.047250047342446616, 0.2527877532820894, 0.1228501230903612, 0.0850500852164039, 0.15592515623007383, 0.049612549709568944, 0.13230013255885054, 0.02598752603834564, 0.12371089602885547, 0.07370010827250965, 0.06843581482447324, 0.11055016240876447, 0.20530744447341973, 0.19741100430136513, 0.08422869516858246, 0.08949298861661886, 0.005264293448036404, 0.03685005413625483, 0.18228223568493845, 0.12152149045662564, 0.10801910262811168, 0.3105549200558211, 0.01350238782851396, 0.03713156652841339, 0.0675119391425698, 0.06076074522831282, 0.040507163485541876, 0.06076074522831282, 0.8392341891082336, 0.09325210849623589, 0.11288413133754871, 0.09816011420656409, 0.33865239401264613, 0.06380407423426666, 0.049080057103282046, 0.00981601142065641, 0.049080057103282046, 0.12270014275820512, 0.05889606852393846, 0.908243131648131, 0.03839661597223515, 0.03839661597223515, 0.17065162654326735, 0.4138301943674233, 0.1535864638889406, 0.0511954879629802, 0.04692919729939852, 0.02133145331790842, 0.05972806929014357, 0.09377120982352576, 0.0453731660436415, 0.08469657661479746, 0.0544477992523698, 0.0998209652960113, 0.22384095248196473, 0.1270448649221962, 0.03327365509867043, 0.13914437586716727, 0.10284584303225405, 0.8456350504235407, 0.8603031751608348, 0.8548940264775794, 0.08724009744986662, 0.08724009744986662, 0.09842472532805464, 0.2035602273830221, 0.0805293207229538, 0.1185570555087931, 0.05144928823966493, 0.05368621381530253, 0.10737242763060506, 0.11184627878188028, 0.029719378735966157, 0.11887751494386463, 0.14859689367983078, 0.009906459578655385, 0.059438757471932314, 0.06439198726126, 0.06439198726126, 0.009906459578655385, 0.4953229789327693, 0.841946746062499, 0.10755731676439341, 0.04705632608442212, 0.3159496179954056, 0.04033399378664752, 0.026889329191098352, 0.07394565527552047, 0.08739031987106964, 0.04369515993553482, 0.14116897825326635, 0.11764081521105528, 0.9571314058269179, 0.02225886990295158, 0.10092344818470034, 0.037846293069262626, 0.10092344818470034, 0.09251316083597531, 0.09671830451033783, 0.07148744246416275, 0.05046172409235017, 0.06307715511543771, 0.07148744246416275, 0.31538577557718855, 0.8148814109066543, 0.12536637090871605, 0.18286442596435476, 0.15877984303246415, 0.08920215900700233, 0.0615494897148316, 0.16323995098281427, 0.08295800787651217, 0.05708938176448149, 0.08474205105665221, 0.0651175760751117, 0.05441331699427142, 0.019376318886775795, 0.21313950775453375, 0.07750527554710318, 0.058128956660327386, 0.5425369288297223, 0.03875263777355159, 0.03875263777355159, 0.019376318886775795, 0.016306224089975337, 0.06522489635990135, 0.0760957124198849, 0.3424307058894821, 0.17936846498972872, 0.09240193650986024, 0.04891867226992601, 0.08153112044987669, 0.05978948832990957, 0.03804785620994245, 0.06934791696616022, 0.13869583393232043, 0.019263310268377836, 0.07705324107351134, 0.015410648214702269, 0.10402187544924031, 0.2234543991131829, 0.10402187544924031, 0.2504230334889119, 0.12830748570858788, 0.10024022320983428, 0.11627865892340776, 0.06014413392590056, 0.012028826785180113, 0.10825944106662101, 0.05212491606911382, 0.04009608928393371, 0.10024022320983428, 0.2886918428443227, 0.5644066940621982, 0.11677379877148929, 0.03892459959049643, 0.09731149897624107, 0.058386899385744644, 0.058386899385744644, 0.07784919918099285, 0.8681355712053678, 0.8808043825255376, 0.8870306380319981, 0.04981833872876983, 0.15443685005918648, 0.03487283711013888, 0.0896730097117857, 0.0896730097117857, 0.004981833872876983, 0.13949134844055552, 0.28396453075398803, 0.07970934196603173, 0.06974567422027776, 0.05179129563070067, 0.05179129563070067, 0.7768694344605102, 0.10358259126140135, 0.8623489792210428, 0.020078071848409776, 0.09752206326370462, 0.13194161500383567, 0.11473183913377014, 0.10325865522039313, 0.1290733190254914, 0.043024439675163804, 0.06597080750191783, 0.22372708631085178, 0.06883910348026208, 0.9243464510380841, 0.9671254017463179, 0.8250448413374746, 0.09300587999939068, 0.05425342999964457, 0.06458741666624353, 0.02325146999984767, 0.06975440999954301, 0.16017679333228396, 0.25318267333167466, 0.05166993333299482, 0.11367385333258861, 0.11367385333258861, 0.09723818461930755, 0.28631243249018334, 0.05132015299352343, 0.14855833761283097, 0.11884667009026478, 0.013505303419348271, 0.08643394188382893, 0.02430954615482689, 0.09723818461930755, 0.07833075983221997, 0.01783587020241034, 0.01783587020241034, 0.01783587020241034, 0.03567174040482068, 0.8739576399181067, 0.03567174040482068, 0.05153361559664441, 0.10306723119328882, 0.5217778579160246, 0.10306723119328882, 0.025766807798322206, 0.09018382729412772, 0.019325105848741652, 0.019325105848741652, 0.05153361559664441, 0.019325105848741652, 0.05241360921520782, 0.05485145150428725, 0.04875684578158867, 0.1523651430674646, 0.12676779903213053, 0.0438811612034298, 0.13530024704390856, 0.19137061969273553, 0.09873261270771706, 0.09629477041863763, 0.07270390805609556, 0.07270390805609556, 0.15994859772341022, 0.5380089196151071, 0.08724468966731466, 0.014540781611219111, 0.058163126444876444, 0.9027062498126139, 0.04791381719549027, 0.8624487095188248, 0.04791381719549027, 0.04017084155486448, 0.032519252687271245, 0.17024785230394945, 0.032519252687271245, 0.3290183213065091, 0.21233159107571226, 0.022954766602779703, 0.07077719702523742, 0.045909533205559405, 0.0439966359886611, 0.08307433880961836, 0.08307433880961836, 0.19937841314308405, 0.04984460328577101, 0.033229735523847344, 0.4818311650957865, 0.06645947104769469, 0.9217303001832503, 0.14262907963348123, 0.08211977312230738, 0.07563663313896732, 0.047543026544493744, 0.14046803297236787, 0.08428081978342074, 0.008644186644453409, 0.2960633925725292, 0.047543026544493744, 0.07779767980008068, 0.8256420487263219, 0.7738865176496512, 0.040730869349981644, 0.040730869349981644, 0.12219260804994493, 0.8139918621110244, 0.0678586153671297, 0.0678586153671297, 0.7464447690384267, 0.13303652377504088, 0.04434550792501363, 0.09977739283128068, 0.36585044038136244, 0.1552092777375477, 0.011086376981253407, 0.08869101585002725, 0.04434550792501363, 0.03325913094376022, 0.022172753962506814, 0.5912431719954105, 0.01182486343990821, 0.09459890751926568, 0.20102267847843958, 0.02364972687981642, 0.03547459031972463, 0.04729945375963284, 0.5357516907584254, 0.17858389691947513, 0.05952796563982504, 0.08929194845973756, 0.11905593127965008, 0.1027745419653856, 0.7194217937576992, 0.0513872709826928, 0.0513872709826928, 0.8028852819845974, 0.084514240208905, 0.0422571201044525, 0.0422571201044525, 0.9456278482889153, 0.10347530055526202, 0.13628454219473535, 0.13880833001315637, 0.07823742237105177, 0.1312369665578933, 0.22714090365789225, 0.07571363455263075, 0.052999544186841524, 0.0403806050947364, 0.01514272691052615, 0.16602448036586884, 0.03320489607317377, 0.02113038841020149, 0.13281958429269508, 0.02716764224168763, 0.10867056896675052, 0.13583821120843814, 0.1418754650399243, 0.0694284190620906, 0.16602448036586884, 0.12652033454958295, 0.10191915838716403, 0.24952621536167746, 0.00702890747497683, 0.06326016727479147, 0.22843949293674695, 0.01405781494995366, 0.03163008363739574, 0.13354924202455976, 0.045687898587349396, 0.053894368276651124, 0.2509937722598324, 0.09854970199159063, 0.13704567933205572, 0.09085050652349762, 0.089310667429879, 0.03387646005960928, 0.08007163286816739, 0.06467324193198135, 0.10008954108520923, 0.10495617281824043, 0.08110249717773126, 0.05247808640912022, 0.10972690794634228, 0.3387221940952305, 0.038165881024814705, 0.10495617281824043, 0.0620195566653239, 0.033395145896712865, 0.07156102692152758, 0.6840617567621334, 0.02137692989881667, 0.02137692989881667, 0.04275385979763334, 0.06413078969645, 0.06413078969645, 0.08550771959526668, 0.04275385979763334, 0.7944075939664639, 0.07823610276977619, 0.09611864054572503, 0.18329601220347563, 0.055882930549840136, 0.07153015110379538, 0.05811824777183374, 0.13635435054160994, 0.03352975832990408, 0.13411903331961633, 0.14976625387357156, 0.0771486745401746, 0.03575182478691018, 0.07150364957382035, 0.011290049932708478, 0.043278524742049164, 0.011290049932708478, 0.08467537449531358, 0.23332769860930855, 0.18816749887847464, 0.24461774854201704, 0.056212440711901256, 0.17265249647226813, 0.02409104601938625, 0.032121394692515, 0.004015174336564375, 0.0160606973462575, 0.42560847967582377, 0.13250075310662437, 0.040151743365643755, 0.10037935841410939, 0.9304815062114713], \"Term\": [\"abdullah\", \"abdullah\", \"ability\", \"accuracy\", \"accuse\", \"adieu\", \"adoption\", \"adoption\", \"adoption\", \"advantage\", \"advantage\", \"advantage\", \"advantage\", \"adventure\", \"adventure\", \"afghan\", \"afghan\", \"afghan\", \"afghan\", \"afghan\", \"afghan\", \"afghan\", \"afghan\", \"afghan\", \"afghan\", \"afl\", \"afloat\", \"afloat\", \"africa\", \"africa\", \"africa\", \"africa\", \"africa\", \"africa\", \"africa\", \"africa\", \"africa\", \"africa\", \"african\", \"african\", \"african\", \"african\", \"african\", \"african\", \"african\", \"african\", \"african\", \"african\", \"aide\", \"aide\", \"aide\", \"aiding\", \"aims\", \"aims\", \"aims\", \"aims\", \"aims\", \"aims\", \"aims\", \"aims\", \"aims\", \"airways\", \"airways\", \"alaska\", \"alaska\", \"alaska\", \"alaska\", \"alaska\", \"alaska\", \"alaska\", \"alaska\", \"alaska\", \"allege\", \"alley\", \"alters\", \"american\", \"american\", \"american\", \"american\", \"american\", \"american\", \"american\", \"american\", \"american\", \"american\", \"americans\", \"americans\", \"americans\", \"americans\", \"americans\", \"americans\", \"americans\", \"americans\", \"americans\", \"americans\", \"antitrust\", \"apple\", \"apple\", \"apple\", \"apple\", \"apple\", \"apple\", \"apple\", \"apple\", \"apple\", \"apple\", \"arabic\", \"arabic\", \"area\", \"area\", \"area\", \"area\", \"area\", \"area\", \"area\", \"arise\", \"armstrong\", \"armstrong\", \"armstrong\", \"armstrong\", \"armstrong\", \"armstrong\", \"aside\", \"aside\", \"asserts\", \"asset\", \"assets\", \"assets\", \"assets\", \"astrodome\", \"attack\", \"attack\", \"attack\", \"attack\", \"attack\", \"attack\", \"attack\", \"attack\", \"attack\", \"attack\", \"attacks\", \"attacks\", \"attacks\", \"attacks\", \"attacks\", \"attacks\", \"attacks\", \"attacks\", \"attacks\", \"attacks\", \"auctions\", \"authorized\", \"automatic\", \"autopsy\", \"autos\", \"avert\", \"aviv\", \"back\", \"back\", \"back\", \"back\", \"back\", \"back\", \"back\", \"back\", \"back\", \"back\", \"bad\", \"bad\", \"bad\", \"bad\", \"bad\", \"bad\", \"bad\", \"bad\", \"bad\", \"baghdad\", \"baghdad\", \"baghdad\", \"baghdad\", \"baghdad\", \"baghdad\", \"baghdad\", \"baghdad\", \"baghdad\", \"bain\", \"baltimore\", \"baltimore\", \"baltimore\", \"baltimore\", \"baltimore\", \"baltimore\", \"baltimore\", \"baltimore\", \"baltimore\", \"bangkok\", \"bank\", \"bank\", \"bank\", \"bank\", \"bank\", \"bank\", \"bank\", \"bank\", \"bank\", \"barbaro\", \"barrel\", \"barrel\", \"batters\", \"batters\", \"battle\", \"battle\", \"battle\", \"battle\", \"battle\", \"battle\", \"battle\", \"battle\", \"battle\", \"battle\", \"begins\", \"begins\", \"begins\", \"begins\", \"begins\", \"begins\", \"begins\", \"begins\", \"begins\", \"begins\", \"behind\", \"behind\", \"behind\", \"behind\", \"behind\", \"behind\", \"behind\", \"behind\", \"behind\", \"behind\", \"berlusconi\", \"bets\", \"bets\", \"big\", \"big\", \"big\", \"big\", \"big\", \"big\", \"big\", \"big\", \"big\", \"big\", \"bill\", \"bill\", \"bill\", \"bill\", \"bill\", \"bill\", \"bill\", \"bill\", \"bill\", \"bill\", \"bin\", \"bin\", \"bin\", \"bin\", \"bin\", \"bin\", \"bin\", \"biologist\", \"bishops\", \"bishops\", \"black\", \"black\", \"black\", \"black\", \"black\", \"black\", \"black\", \"black\", \"black\", \"black\", \"blackouts\", \"blight\", \"blizzard\", \"blizzard\", \"blockbuster\", \"blockbuster\", \"blogs\", \"blogs\", \"blogs\", \"bonus\", \"bonuses\", \"booms\", \"booms\", \"booms\", \"boon\", \"boon\", \"borat\", \"bosnian\", \"bounty\", \"bowl\", \"bowl\", \"bowl\", \"bowl\", \"bowl\", \"bowl\", \"bowl\", \"bowl\", \"bowl\", \"bowl\", \"branch\", \"branch\", \"break\", \"break\", \"break\", \"break\", \"break\", \"break\", \"break\", \"break\", \"brief\", \"brief\", \"brief\", \"brief\", \"brief\", \"brief\", \"brief\", \"brief\", \"brief\", \"brief\", \"briefing\", \"broadband\", \"brothers\", \"brothers\", \"brothers\", \"brothers\", \"brothers\", \"brothers\", \"brownback\", \"budget\", \"budget\", \"budget\", \"budget\", \"budget\", \"budget\", \"budget\", \"budget\", \"budget\", \"budget\", \"bullets\", \"bush\", \"bush\", \"bush\", \"bush\", \"bush\", \"bush\", \"bush\", \"bush\", \"bush\", \"bush\", \"buyout\", \"campaign\", \"campaign\", \"campaign\", \"campaign\", \"campaign\", \"campaign\", \"campaign\", \"campaign\", \"campaign\", \"campaign\", \"candidates\", \"candidates\", \"candidates\", \"candidates\", \"candidates\", \"candidates\", \"candidates\", \"candidates\", \"candidates\", \"candidates\", \"capital\", \"capital\", \"capital\", \"capital\", \"capital\", \"capital\", \"capital\", \"capital\", \"capital\", \"care\", \"care\", \"care\", \"care\", \"care\", \"care\", \"care\", \"care\", \"care\", \"care\", \"carolina\", \"carolina\", \"carolina\", \"carolina\", \"carolina\", \"carolina\", \"carolina\", \"carolina\", \"carolina\", \"carolina\", \"carriers\", \"cartels\", \"case\", \"case\", \"case\", \"case\", \"case\", \"case\", \"case\", \"case\", \"case\", \"case\", \"catastrophe\", \"cell\", \"cell\", \"cell\", \"cell\", \"cell\", \"cell\", \"cell\", \"cell\", \"cell\", \"change\", \"change\", \"change\", \"change\", \"change\", \"change\", \"change\", \"change\", \"change\", \"change\", \"changes\", \"changes\", \"changes\", \"changes\", \"changes\", \"changes\", \"changes\", \"changes\", \"changes\", \"changes\", \"charting\", \"chechen\", \"cheetos\", \"chernobyl\", \"chernobyl\", \"chernobyl\", \"chertoff\", \"chicago\", \"chicago\", \"chicago\", \"chicago\", \"chicago\", \"chicago\", \"chicago\", \"chicago\", \"chicago\", \"chicago\", \"china\", \"china\", \"china\", \"china\", \"china\", \"china\", \"china\", \"china\", \"china\", \"china\", \"chirac\", \"chronic\", \"cia\", \"cia\", \"cia\", \"cia\", \"cia\", \"cia\", \"cia\", \"cia\", \"cia\", \"cio\", \"cisco\", \"cited\", \"citigroup\", \"city\", \"city\", \"city\", \"city\", \"city\", \"city\", \"city\", \"city\", \"city\", \"city\", \"civil\", \"civil\", \"civil\", \"civil\", \"civil\", \"civil\", \"civil\", \"civil\", \"civil\", \"civil\", \"class\", \"class\", \"class\", \"class\", \"class\", \"class\", \"class\", \"class\", \"class\", \"class\", \"classroom\", \"classroom\", \"classroom\", \"classroom\", \"cleric\", \"cleric\", \"cleric\", \"clients\", \"climate\", \"climate\", \"climate\", \"climate\", \"climate\", \"climate\", \"climate\", \"climate\", \"climate\", \"climate\", \"clinton\", \"clinton\", \"clinton\", \"clinton\", \"clinton\", \"clinton\", \"clinton\", \"clinton\", \"clinton\", \"clinton\", \"closings\", \"clunkers\", \"committed\", \"committed\", \"computer\", \"computer\", \"computer\", \"computer\", \"computer\", \"computer\", \"computer\", \"computer\", \"computer\", \"computer\", \"concept\", \"confession\", \"congress\", \"congress\", \"congress\", \"congress\", \"congress\", \"congress\", \"congress\", \"congress\", \"congress\", \"congress\", \"conn\", \"conn\", \"conn\", \"connecticut\", \"connecticut\", \"connecticut\", \"connecticut\", \"connecticut\", \"connecticut\", \"contracts\", \"contracts\", \"coretta\", \"corp\", \"could\", \"could\", \"could\", \"could\", \"could\", \"could\", \"could\", \"could\", \"could\", \"could\", \"countdown\", \"countdown\", \"countdown\", \"county\", \"county\", \"county\", \"county\", \"county\", \"county\", \"county\", \"county\", \"county\", \"court\", \"court\", \"court\", \"court\", \"court\", \"court\", \"court\", \"court\", \"court\", \"court\", \"crackdowns\", \"cripples\", \"crises\", \"crises\", \"crises\", \"crisis\", \"crisis\", \"crisis\", \"crisis\", \"crisis\", \"crisis\", \"crisis\", \"crisis\", \"crisis\", \"crisis\", \"crist\", \"criticize\", \"criticize\", \"criticize\", \"cruise\", \"cruise\", \"curb\", \"curb\", \"curb\", \"curb\", \"curb\", \"currency\", \"currency\", \"currency\", \"currency\", \"currency\", \"currency\", \"currency\", \"cut\", \"cut\", \"cut\", \"cut\", \"cut\", \"cut\", \"cut\", \"cut\", \"cut\", \"cut\", \"cyprus\", \"czar\", \"dalai\", \"dalai\", \"day\", \"day\", \"day\", \"day\", \"day\", \"day\", \"day\", \"day\", \"day\", \"day\", \"deadlock\", \"deal\", \"deal\", \"deal\", \"deal\", \"deal\", \"deal\", \"deal\", \"deal\", \"deal\", \"deal\", \"dealers\", \"dealers\", \"death\", \"death\", \"death\", \"death\", \"death\", \"death\", \"death\", \"death\", \"death\", \"death\", \"debate\", \"debate\", \"debate\", \"debate\", \"debate\", \"debate\", \"debate\", \"debate\", \"debate\", \"debate\", \"debt\", \"debt\", \"debt\", \"debt\", \"debt\", \"debt\", \"debt\", \"debt\", \"debts\", \"decries\", \"defending\", \"defending\", \"defends\", \"defends\", \"defends\", \"defends\", \"defends\", \"defends\", \"defends\", \"defends\", \"defends\", \"defensive\", \"delaware\", \"delaware\", \"delirium\", \"deluge\", \"democrats\", \"democrats\", \"democrats\", \"democrats\", \"democrats\", \"democrats\", \"democrats\", \"democrats\", \"democrats\", \"democrats\", \"deniers\", \"deny\", \"depot\", \"dept\", \"dept\", \"desperation\", \"destroys\", \"destructive\", \"details\", \"details\", \"details\", \"details\", \"details\", \"details\", \"details\", \"details\", \"details\", \"devastated\", \"die\", \"die\", \"die\", \"die\", \"die\", \"die\", \"die\", \"dies\", \"dies\", \"dies\", \"dies\", \"dies\", \"dies\", \"dies\", \"dies\", \"dies\", \"dies\", \"differs\", \"digs\", \"dip\", \"disarray\", \"disclosure\", \"disclosure\", \"disclosure\", \"discord\", \"dismissal\", \"displaced\", \"displaced\", \"displaced\", \"displaced\", \"dispute\", \"dispute\", \"dispute\", \"dispute\", \"dispute\", \"dispute\", \"dispute\", \"dispute\", \"dispute\", \"districts\", \"districts\", \"dogfighting\", \"dominate\", \"dominate\", \"dominate\", \"donates\", \"dow\", \"dow\", \"downward\", \"downward\", \"drawn\", \"drawn\", \"dream\", \"dream\", \"dream\", \"dream\", \"dream\", \"dream\", \"dream\", \"dream\", \"dream\", \"dream\", \"dreamliner\", \"drink\", \"drink\", \"drink\", \"drink\", \"drink\", \"dubai\", \"dubai\", \"dubai\", \"dumping\", \"eager\", \"eager\", \"early\", \"early\", \"early\", \"early\", \"early\", \"early\", \"early\", \"early\", \"early\", \"early\", \"earmarks\", \"earnings\", \"earnings\", \"earnings\", \"east\", \"east\", \"east\", \"east\", \"east\", \"east\", \"east\", \"east\", \"east\", \"east\", \"economic\", \"economic\", \"economic\", \"economic\", \"economic\", \"economic\", \"economic\", \"economic\", \"economic\", \"economic\", \"economy\", \"economy\", \"economy\", \"economy\", \"economy\", \"economy\", \"economy\", \"economy\", \"economy\", \"economy\", \"egypt\", \"egypt\", \"egypt\", \"egypt\", \"egypt\", \"egypt\", \"egypt\", \"egypt\", \"egypt\", \"egypt\", \"election\", \"election\", \"election\", \"election\", \"election\", \"election\", \"election\", \"election\", \"election\", \"election\", \"elevators\", \"end\", \"end\", \"end\", \"end\", \"end\", \"end\", \"end\", \"end\", \"end\", \"end\", \"enjoy\", \"enjoy\", \"enough\", \"enough\", \"enough\", \"enough\", \"enough\", \"enough\", \"enough\", \"enough\", \"envoys\", \"equity\", \"equity\", \"ethiopia\", \"ethiopia\", \"ethiopia\", \"ethiopia\", \"ethiopian\", \"ethiopian\", \"evacuee\", \"ever\", \"ever\", \"ever\", \"ever\", \"ever\", \"ever\", \"ever\", \"ever\", \"exchange\", \"exchange\", \"exchange\", \"exchange\", \"exiles\", \"exiles\", \"explosives\", \"exxon\", \"exxon\", \"face\", \"face\", \"face\", \"face\", \"face\", \"face\", \"face\", \"face\", \"face\", \"face\", \"faces\", \"faces\", \"faces\", \"faces\", \"faces\", \"faces\", \"faces\", \"faces\", \"faces\", \"faces\", \"fading\", \"faithful\", \"fallen\", \"fallen\", \"fallen\", \"fallen\", \"fallen\", \"fallen\", \"fallen\", \"faltering\", \"family\", \"family\", \"family\", \"family\", \"family\", \"family\", \"family\", \"family\", \"family\", \"family\", \"fare\", \"fatah\", \"faulted\", \"fed\", \"fed\", \"fed\", \"fed\", \"fed\", \"fed\", \"fed\", \"fed\", \"fed\", \"fell\", \"fell\", \"fema\", \"fema\", \"fema\", \"fema\", \"fema\", \"fema\", \"fertile\", \"fiasco\", \"fight\", \"fight\", \"fight\", \"fight\", \"fight\", \"fight\", \"fight\", \"fight\", \"fight\", \"fight\", \"filibuster\", \"filibuster\", \"filibuster\", \"filibuster\", \"filing\", \"fill\", \"fill\", \"fill\", \"fill\", \"fill\", \"fill\", \"financing\", \"financing\", \"fire\", \"fire\", \"fire\", \"fire\", \"fire\", \"fire\", \"fire\", \"fire\", \"fire\", \"fire\", \"firewall\", \"firewall\", \"first\", \"first\", \"first\", \"first\", \"first\", \"first\", \"first\", \"first\", \"first\", \"first\", \"flare\", \"florida\", \"florida\", \"florida\", \"florida\", \"florida\", \"florida\", \"florida\", \"florida\", \"florida\", \"florida\", \"flotilla\", \"flowing\", \"flu\", \"flu\", \"flu\", \"flu\", \"flu\", \"flu\", \"flu\", \"flu\", \"flu\", \"flux\", \"fm\", \"fm\", \"fm\", \"fm\", \"fm\", \"fm\", \"fm\", \"fm\", \"fm\", \"focus\", \"focus\", \"focus\", \"focus\", \"focus\", \"focus\", \"focus\", \"focus\", \"focus\", \"focuses\", \"focuses\", \"focuses\", \"focuses\", \"focuses\", \"focuses\", \"focuses\", \"focuses\", \"focuses\", \"foe\", \"foes\", \"foil\", \"footing\", \"foreign\", \"foreign\", \"foreign\", \"foreign\", \"foreign\", \"foreign\", \"foreign\", \"foreign\", \"foreign\", \"francisco\", \"francisco\", \"francisco\", \"francisco\", \"francisco\", \"free\", \"free\", \"free\", \"free\", \"free\", \"free\", \"free\", \"free\", \"free\", \"free\", \"freedoms\", \"french\", \"french\", \"french\", \"french\", \"french\", \"french\", \"french\", \"french\", \"french\", \"friend\", \"friend\", \"friend\", \"friend\", \"friend\", \"friend\", \"frustrate\", \"fundamental\", \"future\", \"future\", \"future\", \"future\", \"future\", \"future\", \"future\", \"future\", \"future\", \"future\", \"gadget\", \"galapagos\", \"game\", \"game\", \"game\", \"game\", \"game\", \"game\", \"game\", \"game\", \"game\", \"game\", \"gaps\", \"gas\", \"gas\", \"gas\", \"gas\", \"gas\", \"gas\", \"gas\", \"gas\", \"gas\", \"gas\", \"gate\", \"gays\", \"gays\", \"gays\", \"gays\", \"gaza\", \"gaza\", \"gaza\", \"gaza\", \"gaza\", \"gaza\", \"gaza\", \"gaza\", \"gaza\", \"ge\", \"geithner\", \"general\", \"general\", \"general\", \"general\", \"general\", \"general\", \"general\", \"general\", \"general\", \"general\", \"genre\", \"georgia\", \"georgia\", \"georgia\", \"georgia\", \"georgia\", \"georgia\", \"georgia\", \"georgia\", \"georgia\", \"georgia\", \"get\", \"get\", \"get\", \"get\", \"get\", \"get\", \"get\", \"get\", \"get\", \"get\", \"giffords\", \"gis\", \"glitch\", \"global\", \"global\", \"global\", \"global\", \"global\", \"global\", \"global\", \"global\", \"global\", \"global\", \"gone\", \"gone\", \"gone\", \"gone\", \"gone\", \"gone\", \"gone\", \"gop\", \"gop\", \"gop\", \"gop\", \"gop\", \"gop\", \"gop\", \"gop\", \"gop\", \"gop\", \"government\", \"government\", \"government\", \"government\", \"government\", \"government\", \"government\", \"government\", \"government\", \"government\", \"governments\", \"governments\", \"governor\", \"governor\", \"governor\", \"governor\", \"governor\", \"governor\", \"governor\", \"governor\", \"governor\", \"governor\", \"greenland\", \"greenspan\", \"gridiron\", \"grill\", \"grill\", \"group\", \"group\", \"group\", \"group\", \"group\", \"group\", \"group\", \"group\", \"group\", \"group\", \"gum\", \"gunfire\", \"guthrie\", \"haggard\", \"hail\", \"hail\", \"haiti\", \"haiti\", \"haiti\", \"haiti\", \"haiti\", \"haiti\", \"haiti\", \"haiti\", \"haitian\", \"haitian\", \"haitian\", \"halo\", \"hamdan\", \"hampshire\", \"hampshire\", \"hampshire\", \"hampshire\", \"hampshire\", \"hampshire\", \"hampshire\", \"hampshire\", \"hampshire\", \"hampshire\", \"havens\", \"havoc\", \"havoc\", \"hazards\", \"hazards\", \"hazards\", \"health\", \"health\", \"health\", \"health\", \"health\", \"health\", \"health\", \"health\", \"health\", \"health\", \"hearings\", \"hearings\", \"hearings\", \"hearings\", \"hearings\", \"hearings\", \"hearings\", \"hearings\", \"hears\", \"hears\", \"hears\", \"hears\", \"hears\", \"hears\", \"help\", \"help\", \"help\", \"help\", \"help\", \"help\", \"help\", \"help\", \"help\", \"help\", \"herbert\", \"hewlett\", \"high\", \"high\", \"high\", \"high\", \"high\", \"high\", \"high\", \"high\", \"high\", \"high\", \"hijack\", \"hinges\", \"hire\", \"hire\", \"hire\", \"history\", \"history\", \"history\", \"history\", \"history\", \"history\", \"history\", \"history\", \"history\", \"history\", \"hits\", \"hits\", \"hits\", \"hits\", \"hits\", \"hits\", \"hits\", \"hits\", \"hits\", \"hits\", \"hog\", \"holbrooke\", \"hold\", \"hold\", \"hold\", \"hold\", \"hold\", \"hold\", \"hold\", \"hold\", \"hold\", \"home\", \"home\", \"home\", \"home\", \"home\", \"home\", \"home\", \"home\", \"home\", \"home\", \"honest\", \"hormone\", \"house\", \"house\", \"house\", \"house\", \"house\", \"house\", \"house\", \"house\", \"house\", \"house\", \"huckabee\", \"huckabee\", \"huckabee\", \"hummingbird\", \"hybrid\", \"hybrids\", \"hydrogen\", \"hydrogen\", \"ideas\", \"ideas\", \"ideas\", \"ieds\", \"ignite\", \"ignored\", \"ignored\", \"illegal\", \"illegal\", \"illegal\", \"illegal\", \"illegal\", \"illegal\", \"illegal\", \"immigration\", \"immigration\", \"immigration\", \"immigration\", \"immigration\", \"immigration\", \"immigration\", \"immigration\", \"immigration\", \"immigration\", \"immunity\", \"instinct\", \"insurers\", \"insurers\", \"insurers\", \"insurers\", \"insurgency\", \"insurgency\", \"insurgency\", \"insurgency\", \"insurgency\", \"insurgency\", \"insurgent\", \"intel\", \"intel\", \"intel\", \"intimate\", \"intimate\", \"introduce\", \"investigators\", \"investigators\", \"investigators\", \"investigators\", \"investigators\", \"investigators\", \"investigators\", \"iowans\", \"iowans\", \"iowans\", \"iran\", \"iran\", \"iran\", \"iran\", \"iran\", \"iran\", \"iran\", \"iran\", \"iran\", \"iran\", \"iraq\", \"iraq\", \"iraq\", \"iraq\", \"iraq\", \"iraq\", \"iraq\", \"iraq\", \"iraq\", \"iraq\", \"iraqis\", \"iraqis\", \"iraqis\", \"iraqis\", \"iraqis\", \"iraqis\", \"iraqis\", \"iraqis\", \"iraqis\", \"irrational\", \"irs\", \"irs\", \"irs\", \"irs\", \"irs\", \"islamist\", \"islamist\", \"islamist\", \"islamist\", \"islamist\", \"islamists\", \"islamists\", \"january\", \"jeffs\", \"jobs\", \"jobs\", \"jobs\", \"jobs\", \"jobs\", \"jobs\", \"jobs\", \"jobs\", \"jobs\", \"jobs\", \"jordan\", \"jordan\", \"jordan\", \"jordan\", \"jordan\", \"jordan\", \"jordan\", \"jordan\", \"jpmorgan\", \"jpmorgan\", \"jpmorgan\", \"judging\", \"juggling\", \"karadzic\", \"karbala\", \"katrina\", \"katrina\", \"katrina\", \"katrina\", \"katrina\", \"katrina\", \"katrina\", \"katrina\", \"katrina\", \"kcur\", \"kcur\", \"kcur\", \"kcur\", \"kcur\", \"kcur\", \"kera\", \"kera\", \"kera\", \"kera\", \"kera\", \"kera\", \"kera\", \"kerry\", \"kerry\", \"kerry\", \"kerry\", \"kerry\", \"kerry\", \"kerry\", \"kerry\", \"kicking\", \"killer\", \"killer\", \"killer\", \"killer\", \"killer\", \"killer\", \"king\", \"king\", \"king\", \"king\", \"king\", \"king\", \"king\", \"king\", \"king\", \"king\", \"know\", \"know\", \"know\", \"know\", \"know\", \"know\", \"know\", \"know\", \"know\", \"korea\", \"korea\", \"korea\", \"korea\", \"korea\", \"korea\", \"korea\", \"korea\", \"korea\", \"korea\", \"kqed\", \"kqed\", \"kqed\", \"kqed\", \"kqed\", \"kqed\", \"kqed\", \"kqed\", \"kqed\", \"kqed\", \"lackluster\", \"lacrosse\", \"laden\", \"laden\", \"laden\", \"laden\", \"laden\", \"laden\", \"laden\", \"laden\", \"lama\", \"lama\", \"landmark\", \"landmark\", \"landmark\", \"landscape\", \"landscape\", \"landscape\", \"landscape\", \"landscape\", \"landscape\", \"landscape\", \"laptop\", \"later\", \"later\", \"later\", \"later\", \"later\", \"later\", \"later\", \"later\", \"later\", \"later\", \"law\", \"law\", \"law\", \"law\", \"law\", \"law\", \"law\", \"law\", \"law\", \"law\", \"lay\", \"lay\", \"lay\", \"lay\", \"lay\", \"layoffs\", \"layoffs\", \"layoffs\", \"layoffs\", \"layoffs\", \"leader\", \"leader\", \"leader\", \"leader\", \"leader\", \"leader\", \"leader\", \"leader\", \"leader\", \"leaders\", \"leaders\", \"leaders\", \"leaders\", \"leaders\", \"leaders\", \"leaders\", \"leaders\", \"leaders\", \"leaders\", \"leno\", \"leno\", \"letters\", \"letters\", \"letters\", \"letters\", \"letters\", \"letters\", \"letters\", \"letters\", \"letters\", \"letters\", \"letts\", \"libby\", \"libby\", \"libby\", \"libby\", \"libby\", \"libby\", \"libby\", \"libby\", \"life\", \"life\", \"life\", \"life\", \"life\", \"life\", \"life\", \"life\", \"life\", \"life\", \"link\", \"link\", \"link\", \"link\", \"link\", \"link\", \"link\", \"lively\", \"lobbying\", \"lobbyist\", \"lobbyists\", \"lobbyists\", \"lobbyists\", \"lobbyists\", \"look\", \"look\", \"look\", \"look\", \"look\", \"look\", \"look\", \"look\", \"look\", \"look\", \"lose\", \"lose\", \"lose\", \"lose\", \"lose\", \"lose\", \"lose\", \"lose\", \"losses\", \"losses\", \"losses\", \"losses\", \"lott\", \"louis\", \"louis\", \"louis\", \"louis\", \"louis\", \"louis\", \"louis\", \"louis\", \"love\", \"love\", \"love\", \"love\", \"love\", \"love\", \"love\", \"love\", \"love\", \"love\", \"low\", \"low\", \"low\", \"low\", \"low\", \"low\", \"low\", \"low\", \"low\", \"low\", \"lucrative\", \"lucrative\", \"maintenance\", \"make\", \"make\", \"make\", \"make\", \"make\", \"make\", \"make\", \"make\", \"make\", \"make\", \"makes\", \"makes\", \"makes\", \"makes\", \"makes\", \"makes\", \"makes\", \"makes\", \"makes\", \"makes\", \"mammogram\", \"mandate\", \"mandate\", \"manning\", \"manning\", \"marching\", \"marjah\", \"market\", \"market\", \"market\", \"market\", \"market\", \"market\", \"market\", \"market\", \"market\", \"market\", \"marriage\", \"marriage\", \"marriage\", \"marriage\", \"marriage\", \"marriage\", \"marriage\", \"marriage\", \"marriage\", \"marriage\", \"mars\", \"mars\", \"mars\", \"mars\", \"mars\", \"mars\", \"mars\", \"mars\", \"marshals\", \"mart\", \"mart\", \"mart\", \"mart\", \"mart\", \"mart\", \"mart\", \"may\", \"may\", \"may\", \"may\", \"may\", \"may\", \"may\", \"may\", \"may\", \"may\", \"mayo\", \"mechanics\", \"merrill\", \"mexican\", \"mexican\", \"mexican\", \"mexican\", \"mexican\", \"mexican\", \"mexican\", \"mexican\", \"mexican\", \"michigan\", \"michigan\", \"michigan\", \"michigan\", \"michigan\", \"michigan\", \"michigan\", \"michigan\", \"michigan\", \"michigan\", \"middle\", \"middle\", \"middle\", \"middle\", \"middle\", \"middle\", \"middle\", \"middle\", \"middle\", \"middle\", \"militants\", \"militants\", \"militants\", \"militants\", \"militants\", \"militants\", \"milosevic\", \"milwaukee\", \"milwaukee\", \"milwaukee\", \"milwaukee\", \"milwaukee\", \"milwaukee\", \"minister\", \"minister\", \"minister\", \"minister\", \"minister\", \"minister\", \"minister\", \"minister\", \"minister\", \"minister\", \"misery\", \"mix\", \"mix\", \"mix\", \"mix\", \"mix\", \"mix\", \"mix\", \"mogadishu\", \"money\", \"money\", \"money\", \"money\", \"money\", \"money\", \"money\", \"money\", \"money\", \"money\", \"monitor\", \"monitor\", \"monitor\", \"monitor\", \"mood\", \"mood\", \"mood\", \"morning\", \"morning\", \"morning\", \"morning\", \"morning\", \"morning\", \"morning\", \"morning\", \"morning\", \"morning\", \"morsi\", \"morsi\", \"mortgages\", \"mortgages\", \"mortgages\", \"moussaoui\", \"moussaoui\", \"moussaoui\", \"moved\", \"moved\", \"moved\", \"moves\", \"moves\", \"moves\", \"moves\", \"moves\", \"moves\", \"moves\", \"moves\", \"moves\", \"mullen\", \"multitasking\", \"multitasking\", \"murdoch\", \"murdoch\", \"murdoch\", \"music\", \"music\", \"music\", \"music\", \"music\", \"music\", \"music\", \"music\", \"music\", \"music\", \"naval\", \"ncpr\", \"ncpr\", \"ncpr\", \"ncpr\", \"ncpr\", \"ncpr\", \"ncpr\", \"negotiate\", \"negotiate\", \"nepalese\", \"networking\", \"networking\", \"networks\", \"networks\", \"networks\", \"networks\", \"new\", \"new\", \"new\", \"new\", \"new\", \"new\", \"new\", \"new\", \"new\", \"new\", \"news\", \"news\", \"news\", \"news\", \"news\", \"news\", \"news\", \"news\", \"news\", \"news\", \"next\", \"next\", \"next\", \"next\", \"next\", \"next\", \"next\", \"next\", \"next\", \"next\", \"nfl\", \"nfl\", \"nfl\", \"nfl\", \"nfl\", \"nfl\", \"nfl\", \"nfl\", \"nfl\", \"nfl\", \"nicole\", \"nine\", \"nine\", \"nobel\", \"nobel\", \"nobel\", \"nobel\", \"nobel\", \"nobel\", \"nobel\", \"nobel\", \"nobel\", \"nobel\", \"noir\", \"north\", \"north\", \"north\", \"north\", \"north\", \"north\", \"north\", \"north\", \"north\", \"north\", \"northwest\", \"northwest\", \"northwest\", \"northwest\", \"northwest\", \"northwest\", \"nuclear\", \"nuclear\", \"nuclear\", \"nuclear\", \"nuclear\", \"nuclear\", \"nuclear\", \"nuclear\", \"nuclear\", \"nuclear\", \"nuns\", \"nuns\", \"obama\", \"obama\", \"obama\", \"obama\", \"obama\", \"obama\", \"obama\", \"obama\", \"obama\", \"obama\", \"october\", \"october\", \"official\", \"official\", \"official\", \"official\", \"official\", \"official\", \"official\", \"official\", \"official\", \"oil\", \"oil\", \"oil\", \"oil\", \"oil\", \"oil\", \"oil\", \"oil\", \"oil\", \"oil\", \"oks\", \"oks\", \"oks\", \"oks\", \"olympian\", \"one\", \"one\", \"one\", \"one\", \"one\", \"one\", \"one\", \"one\", \"one\", \"one\", \"opposition\", \"opposition\", \"opposition\", \"opposition\", \"opposition\", \"opposition\", \"opposition\", \"opposition\", \"opposition\", \"opposition\", \"oregon\", \"oregon\", \"oregon\", \"oregon\", \"oregon\", \"oregon\", \"oregon\", \"oregon\", \"oregon\", \"oregon\", \"origins\", \"origins\", \"origins\", \"origins\", \"orleans\", \"orleans\", \"orleans\", \"orleans\", \"orleans\", \"orleans\", \"orleans\", \"orleans\", \"orleans\", \"outpace\", \"overdue\", \"owen\", \"packard\", \"pact\", \"pact\", \"pact\", \"pad\", \"padilla\", \"pakistan\", \"pakistan\", \"pakistan\", \"pakistan\", \"pakistan\", \"pakistan\", \"pakistan\", \"pakistan\", \"pakistan\", \"pakistan\", \"panel\", \"panel\", \"panel\", \"panel\", \"panel\", \"panel\", \"panel\", \"panel\", \"panel\", \"paperwork\", \"parallels\", \"parish\", \"parties\", \"parties\", \"parties\", \"parties\", \"parties\", \"parties\", \"parties\", \"parties\", \"passing\", \"passing\", \"passing\", \"passport\", \"passport\", \"passport\", \"patrols\", \"patrols\", \"patty\", \"pay\", \"pay\", \"pay\", \"pay\", \"pay\", \"pay\", \"pay\", \"pay\", \"pay\", \"pay\", \"payroll\", \"pelosi\", \"pelosi\", \"pelosi\", \"pelosi\", \"pelosi\", \"pelosi\", \"pension\", \"pension\", \"pension\", \"persist\", \"persist\", \"persist\", \"persist\", \"perspectives\", \"perspectives\", \"perspectives\", \"peru\", \"petraeus\", \"petraeus\", \"petraeus\", \"petraeus\", \"petraeus\", \"philharmonic\", \"pictures\", \"pictures\", \"pilgrims\", \"pill\", \"pill\", \"pill\", \"pill\", \"pill\", \"pin\", \"pins\", \"pins\", \"pioneering\", \"pioneers\", \"pitches\", \"plan\", \"plan\", \"plan\", \"plan\", \"plan\", \"plan\", \"plan\", \"plan\", \"plan\", \"plan\", \"plant\", \"plant\", \"plant\", \"plant\", \"plant\", \"plant\", \"plant\", \"plant\", \"plant\", \"plant\", \"pleads\", \"pleads\", \"pleads\", \"pleads\", \"plight\", \"plight\", \"plots\", \"plots\", \"plots\", \"poised\", \"poised\", \"poised\", \"poised\", \"poised\", \"poised\", \"police\", \"police\", \"police\", \"police\", \"police\", \"police\", \"police\", \"police\", \"police\", \"police\", \"policy\", \"policy\", \"policy\", \"policy\", \"policy\", \"policy\", \"policy\", \"policy\", \"policy\", \"political\", \"political\", \"political\", \"political\", \"political\", \"political\", \"political\", \"political\", \"political\", \"political\", \"politics\", \"politics\", \"politics\", \"politics\", \"politics\", \"politics\", \"politics\", \"politics\", \"politics\", \"politics\", \"portugal\", \"portugal\", \"poses\", \"poses\", \"post\", \"post\", \"post\", \"post\", \"post\", \"post\", \"post\", \"post\", \"post\", \"post\", \"power\", \"power\", \"power\", \"power\", \"power\", \"power\", \"power\", \"power\", \"power\", \"power\", \"practices\", \"practices\", \"praises\", \"praises\", \"praises\", \"precedent\", \"premier\", \"premier\", \"preps\", \"preps\", \"preps\", \"preserved\", \"president\", \"president\", \"president\", \"president\", \"president\", \"president\", \"president\", \"president\", \"president\", \"president\", \"preval\", \"preview\", \"preview\", \"preview\", \"preview\", \"preview\", \"preview\", \"preview\", \"preview\", \"prices\", \"prices\", \"prices\", \"prices\", \"prices\", \"prices\", \"prices\", \"prices\", \"prices\", \"prices\", \"primary\", \"primary\", \"primary\", \"primary\", \"primary\", \"primary\", \"primary\", \"primary\", \"primary\", \"primary\", \"prime\", \"prime\", \"prime\", \"prime\", \"prime\", \"prime\", \"prime\", \"prime\", \"prime\", \"probes\", \"probes\", \"probes\", \"probes\", \"probes\", \"probes\", \"probes\", \"probes\", \"probes\", \"profiling\", \"profiling\", \"profiling\", \"profiling\", \"profits\", \"profits\", \"profits\", \"profits\", \"profits\", \"profits\", \"profits\", \"program\", \"program\", \"program\", \"program\", \"program\", \"program\", \"program\", \"program\", \"program\", \"program\", \"programs\", \"programs\", \"programs\", \"programs\", \"programs\", \"prosecution\", \"prosecution\", \"prosperity\", \"public\", \"public\", \"public\", \"public\", \"public\", \"public\", \"public\", \"public\", \"public\", \"public\", \"pumps\", \"qaeda\", \"qaeda\", \"qaida\", \"qaida\", \"qaida\", \"qaida\", \"qaida\", \"qaida\", \"qaida\", \"questions\", \"questions\", \"questions\", \"questions\", \"questions\", \"questions\", \"questions\", \"questions\", \"questions\", \"questions\", \"race\", \"race\", \"race\", \"race\", \"race\", \"race\", \"race\", \"race\", \"race\", \"race\", \"radio\", \"radio\", \"radio\", \"radio\", \"radio\", \"radio\", \"radio\", \"radio\", \"radio\", \"radio\", \"raise\", \"raise\", \"raise\", \"raise\", \"raise\", \"raise\", \"raise\", \"raise\", \"raise\", \"raise\", \"real\", \"real\", \"real\", \"real\", \"real\", \"real\", \"real\", \"real\", \"real\", \"real\", \"reality\", \"reality\", \"reality\", \"reality\", \"reality\", \"reality\", \"reality\", \"reality\", \"reality\", \"reality\", \"recalls\", \"recalls\", \"recalls\", \"recalls\", \"recalls\", \"recalls\", \"recalls\", \"recalls\", \"recession\", \"recession\", \"recession\", \"recession\", \"recession\", \"recession\", \"recession\", \"recession\", \"recipients\", \"record\", \"record\", \"record\", \"record\", \"record\", \"record\", \"record\", \"record\", \"record\", \"record\", \"recordings\", \"recordings\", \"recovers\", \"recruiting\", \"recruiting\", \"recruiting\", \"recruiting\", \"recruiting\", \"recruiting\", \"recruiting\", \"red\", \"red\", \"red\", \"red\", \"red\", \"red\", \"red\", \"red\", \"red\", \"red\", \"reduction\", \"refinery\", \"refinery\", \"rehnquist\", \"rein\", \"rein\", \"rein\", \"rejecting\", \"relieved\", \"remedy\", \"rendition\", \"reopening\", \"replaced\", \"replaces\", \"report\", \"report\", \"report\", \"report\", \"report\", \"report\", \"report\", \"report\", \"report\", \"report\", \"reserve\", \"reserve\", \"reserve\", \"reserve\", \"reserve\", \"resists\", \"response\", \"response\", \"response\", \"response\", \"response\", \"response\", \"response\", \"response\", \"response\", \"response\", \"restricts\", \"resumes\", \"resumes\", \"resumes\", \"revenue\", \"review\", \"review\", \"review\", \"review\", \"review\", \"review\", \"review\", \"review\", \"review\", \"review\", \"reviewed\", \"reviewed\", \"revive\", \"revive\", \"revive\", \"revive\", \"revive\", \"rhetoric\", \"rhetoric\", \"rhetoric\", \"rhetoric\", \"rhetoric\", \"rhetoric\", \"rigging\", \"rights\", \"rights\", \"rights\", \"rights\", \"rights\", \"rights\", \"rights\", \"rights\", \"rights\", \"rights\", \"riles\", \"road\", \"road\", \"road\", \"road\", \"road\", \"road\", \"road\", \"road\", \"road\", \"rogers\", \"roundtable\", \"roundtable\", \"roundtable\", \"roundtable\", \"roundtable\", \"roundtable\", \"roundtable\", \"roundtable\", \"roundtable\", \"roundtable\", \"rove\", \"rove\", \"rove\", \"rove\", \"rove\", \"rules\", \"rules\", \"rules\", \"rules\", \"rules\", \"rules\", \"rules\", \"rules\", \"rules\", \"rules\", \"rural\", \"rural\", \"rural\", \"rural\", \"rural\", \"rural\", \"rural\", \"rural\", \"russia\", \"russia\", \"russia\", \"russia\", \"russia\", \"russia\", \"russia\", \"russia\", \"russia\", \"russia\", \"sachs\", \"saddam\", \"saddam\", \"saddam\", \"saddam\", \"saddam\", \"sadr\", \"sago\", \"saints\", \"sales\", \"sales\", \"sales\", \"sales\", \"sales\", \"sales\", \"sales\", \"sales\", \"samples\", \"san\", \"san\", \"san\", \"san\", \"san\", \"san\", \"san\", \"san\", \"san\", \"san\", \"sarkozy\", \"sarkozy\", \"say\", \"say\", \"say\", \"say\", \"say\", \"say\", \"say\", \"say\", \"say\", \"say\", \"says\", \"says\", \"says\", \"says\", \"says\", \"says\", \"says\", \"says\", \"says\", \"says\", \"scare\", \"scheduled\", \"scholarship\", \"school\", \"school\", \"school\", \"school\", \"school\", \"school\", \"school\", \"school\", \"school\", \"school\", \"scientists\", \"scientists\", \"scientists\", \"scientists\", \"scientists\", \"scientists\", \"scientists\", \"scientists\", \"scientists\", \"scientists\", \"scrambles\", \"scrambles\", \"scrambles\", \"scrutinizes\", \"scrutiny\", \"scrutiny\", \"scrutiny\", \"scrutiny\", \"scrutiny\", \"scrutiny\", \"security\", \"security\", \"security\", \"security\", \"security\", \"security\", \"security\", \"security\", \"security\", \"security\", \"seeks\", \"seeks\", \"seeks\", \"seeks\", \"seeks\", \"seeks\", \"seeks\", \"seeks\", \"seeks\", \"seeks\", \"sees\", \"sees\", \"sees\", \"sees\", \"sees\", \"sees\", \"sees\", \"sees\", \"senate\", \"senate\", \"senate\", \"senate\", \"senate\", \"senate\", \"senate\", \"senate\", \"senate\", \"senate\", \"shadows\", \"shadows\", \"share\", \"share\", \"share\", \"share\", \"share\", \"share\", \"share\", \"share\", \"share\", \"sharply\", \"shells\", \"sheriff\", \"sheriff\", \"sheriff\", \"sheriff\", \"shiite\", \"shiite\", \"shocking\", \"shooting\", \"shooting\", \"shooting\", \"shooting\", \"shooting\", \"shooting\", \"shooting\", \"shooting\", \"shooting\", \"shooting\", \"show\", \"show\", \"show\", \"show\", \"show\", \"show\", \"show\", \"show\", \"show\", \"show\", \"shrine\", \"shutter\", \"sifting\", \"skepticism\", \"skepticism\", \"skepticism\", \"skype\", \"slowdown\", \"slowdown\", \"smokers\", \"smokers\", \"solves\", \"south\", \"south\", \"south\", \"south\", \"south\", \"south\", \"south\", \"south\", \"south\", \"south\", \"soviet\", \"soviet\", \"soviet\", \"soviet\", \"soviet\", \"spar\", \"spar\", \"spar\", \"spar\", \"spar\", \"sparks\", \"sparks\", \"sparks\", \"sparks\", \"sparks\", \"sparks\", \"sparks\", \"sparks\", \"sparks\", \"sparks\", \"spill\", \"spill\", \"spill\", \"spill\", \"spill\", \"spill\", \"spill\", \"spill\", \"spill\", \"sponsors\", \"sponsors\", \"sprawl\", \"spreading\", \"spy\", \"spy\", \"spy\", \"spy\", \"spy\", \"spy\", \"spy\", \"spy\", \"st\", \"st\", \"st\", \"st\", \"st\", \"st\", \"st\", \"st\", \"st\", \"st\", \"stakes\", \"stakes\", \"stakes\", \"stakes\", \"stakes\", \"stakes\", \"stakes\", \"state\", \"state\", \"state\", \"state\", \"state\", \"state\", \"state\", \"state\", \"state\", \"state\", \"states\", \"states\", \"states\", \"states\", \"states\", \"states\", \"states\", \"states\", \"states\", \"states\", \"stearns\", \"still\", \"still\", \"still\", \"still\", \"still\", \"still\", \"still\", \"still\", \"still\", \"still\", \"stocks\", \"stocks\", \"stocks\", \"stocks\", \"stocks\", \"stocks\", \"stokes\", \"stokes\", \"stokes\", \"stops\", \"stops\", \"stops\", \"stops\", \"streams\", \"street\", \"street\", \"street\", \"street\", \"street\", \"street\", \"street\", \"street\", \"street\", \"studied\", \"study\", \"study\", \"study\", \"study\", \"study\", \"study\", \"study\", \"study\", \"study\", \"study\", \"stumbling\", \"subprime\", \"subprime\", \"summer\", \"summer\", \"summer\", \"summer\", \"summer\", \"summer\", \"summer\", \"summer\", \"summer\", \"summer\", \"sunni\", \"sunni\", \"sunni\", \"sunni\", \"sunni\", \"super\", \"super\", \"super\", \"super\", \"super\", \"super\", \"super\", \"super\", \"super\", \"super\", \"supplements\", \"swan\", \"syria\", \"syria\", \"syria\", \"syria\", \"syria\", \"syria\", \"syria\", \"syria\", \"syria\", \"syria\", \"tack\", \"tajikistan\", \"take\", \"take\", \"take\", \"take\", \"take\", \"take\", \"take\", \"take\", \"take\", \"take\", \"takes\", \"takes\", \"takes\", \"takes\", \"takes\", \"takes\", \"takes\", \"takes\", \"takes\", \"takes\", \"talks\", \"talks\", \"talks\", \"talks\", \"talks\", \"talks\", \"talks\", \"talks\", \"talks\", \"talks\", \"tax\", \"tax\", \"tax\", \"tax\", \"tax\", \"tax\", \"tax\", \"tax\", \"tax\", \"tax\", \"taxing\", \"tech\", \"tech\", \"tech\", \"tech\", \"tech\", \"tech\", \"tech\", \"tech\", \"tech\", \"tech\", \"tel\", \"test\", \"test\", \"test\", \"test\", \"test\", \"test\", \"test\", \"test\", \"test\", \"texas\", \"texas\", \"texas\", \"texas\", \"texas\", \"texas\", \"texas\", \"texas\", \"texas\", \"texas\", \"thembi\", \"tightening\", \"till\", \"time\", \"time\", \"time\", \"time\", \"time\", \"time\", \"time\", \"time\", \"time\", \"time\", \"top\", \"top\", \"top\", \"top\", \"top\", \"top\", \"top\", \"top\", \"top\", \"tortured\", \"town\", \"town\", \"town\", \"town\", \"town\", \"town\", \"town\", \"town\", \"town\", \"town\", \"toyota\", \"toyota\", \"trade\", \"trade\", \"trade\", \"trade\", \"trade\", \"trade\", \"trade\", \"trade\", \"trade\", \"trade\", \"trek\", \"trek\", \"trump\", \"trump\", \"trump\", \"trump\", \"trump\", \"trump\", \"trump\", \"trump\", \"trump\", \"trump\", \"turmoil\", \"turmoil\", \"turmoil\", \"turmoil\", \"turmoil\", \"turmoil\", \"turmoil\", \"turmoil\", \"turns\", \"turns\", \"turns\", \"turns\", \"turns\", \"turns\", \"turns\", \"turns\", \"turns\", \"turns\", \"tv\", \"tv\", \"tv\", \"tv\", \"tv\", \"tv\", \"tv\", \"tv\", \"tv\", \"two\", \"two\", \"two\", \"two\", \"two\", \"two\", \"two\", \"two\", \"two\", \"two\", \"unemployment\", \"unemployment\", \"unemployment\", \"unemployment\", \"unemployment\", \"unemployment\", \"unemployment\", \"uneven\", \"units\", \"unveiled\", \"update\", \"update\", \"update\", \"update\", \"update\", \"update\", \"update\", \"update\", \"update\", \"update\", \"upholds\", \"upholds\", \"upholds\", \"upholds\", \"vintage\", \"violence\", \"violence\", \"violence\", \"violence\", \"violence\", \"violence\", \"violence\", \"violence\", \"violence\", \"violence\", \"violin\", \"vioxx\", \"virtually\", \"vote\", \"vote\", \"vote\", \"vote\", \"vote\", \"vote\", \"vote\", \"vote\", \"vote\", \"vote\", \"voters\", \"voters\", \"voters\", \"voters\", \"voters\", \"voters\", \"voters\", \"voters\", \"voters\", \"voters\", \"wal\", \"wal\", \"wal\", \"wal\", \"wal\", \"wal\", \"wall\", \"wall\", \"wall\", \"wall\", \"wall\", \"wall\", \"wall\", \"wall\", \"wall\", \"wall\", \"war\", \"war\", \"war\", \"war\", \"war\", \"war\", \"war\", \"war\", \"war\", \"war\", \"warming\", \"warming\", \"warming\", \"warming\", \"warming\", \"warming\", \"warming\", \"warring\", \"waves\", \"waves\", \"waves\", \"week\", \"week\", \"week\", \"week\", \"week\", \"week\", \"week\", \"week\", \"week\", \"week\", \"welcome\", \"welcome\", \"welcome\", \"welcome\", \"welcome\", \"welcome\", \"welcome\", \"wetlands\", \"white\", \"white\", \"white\", \"white\", \"white\", \"white\", \"white\", \"white\", \"white\", \"white\", \"whitman\", \"whyy\", \"whyy\", \"whyy\", \"whyy\", \"winding\", \"windows\", \"windows\", \"windows\", \"wins\", \"wins\", \"wins\", \"wins\", \"wins\", \"wins\", \"wins\", \"wins\", \"wins\", \"wins\", \"wisconsin\", \"wisconsin\", \"wisconsin\", \"wisconsin\", \"wisconsin\", \"wisconsin\", \"wisconsin\", \"withdrawal\", \"withdrawal\", \"withdrawal\", \"withdrawal\", \"withdrawal\", \"witnesses\", \"witnesses\", \"witnesses\", \"witnesses\", \"wlrn\", \"wlrn\", \"wlrn\", \"wlrn\", \"wolfowitz\", \"women\", \"women\", \"women\", \"women\", \"women\", \"women\", \"women\", \"women\", \"women\", \"women\", \"work\", \"work\", \"work\", \"work\", \"work\", \"work\", \"work\", \"work\", \"work\", \"work\", \"workers\", \"workers\", \"workers\", \"workers\", \"workers\", \"workers\", \"workers\", \"workers\", \"workers\", \"workers\", \"world\", \"world\", \"world\", \"world\", \"world\", \"world\", \"world\", \"world\", \"world\", \"world\", \"would\", \"would\", \"would\", \"would\", \"would\", \"would\", \"would\", \"would\", \"would\", \"would\", \"wpln\", \"wpln\", \"wpln\", \"wpln\", \"wpln\", \"wpln\", \"wpln\", \"wpln\", \"xbox\", \"year\", \"year\", \"year\", \"year\", \"year\", \"year\", \"year\", \"year\", \"year\", \"year\", \"years\", \"years\", \"years\", \"years\", \"years\", \"years\", \"years\", \"years\", \"years\", \"years\", \"york\", \"york\", \"york\", \"york\", \"york\", \"york\", \"york\", \"york\", \"york\", \"york\", \"zarqawi\"]}, \"R\": 30, \"lambda.step\": 0.01, \"plot.opts\": {\"xlab\": \"PC1\", \"ylab\": \"PC2\"}, \"topic.order\": [10, 6, 8, 7, 3, 1, 4, 9, 5, 2]};\n",
       "\n",
       "function LDAvis_load_lib(url, callback){\n",
       "  var s = document.createElement('script');\n",
       "  s.src = url;\n",
       "  s.async = true;\n",
       "  s.onreadystatechange = s.onload = callback;\n",
       "  s.onerror = function(){console.warn(\"failed to load library \" + url);};\n",
       "  document.getElementsByTagName(\"head\")[0].appendChild(s);\n",
       "}\n",
       "\n",
       "if(typeof(LDAvis) !== \"undefined\"){\n",
       "   // already loaded: just create the visualization\n",
       "   !function(LDAvis){\n",
       "       new LDAvis(\"#\" + \"ldavis_el145241405966755998245807326583\", ldavis_el145241405966755998245807326583_data);\n",
       "   }(LDAvis);\n",
       "}else if(typeof define === \"function\" && define.amd){\n",
       "   // require.js is available: use it to load d3/LDAvis\n",
       "   require.config({paths: {d3: \"https://d3js.org/d3.v5\"}});\n",
       "   require([\"d3\"], function(d3){\n",
       "      window.d3 = d3;\n",
       "      LDAvis_load_lib(\"https://cdn.jsdelivr.net/gh/bmabey/pyLDAvis@3.3.1/pyLDAvis/js/ldavis.v3.0.0.js\", function(){\n",
       "        new LDAvis(\"#\" + \"ldavis_el145241405966755998245807326583\", ldavis_el145241405966755998245807326583_data);\n",
       "      });\n",
       "    });\n",
       "}else{\n",
       "    // require.js not available: dynamically load d3 & LDAvis\n",
       "    LDAvis_load_lib(\"https://d3js.org/d3.v5.js\", function(){\n",
       "         LDAvis_load_lib(\"https://cdn.jsdelivr.net/gh/bmabey/pyLDAvis@3.3.1/pyLDAvis/js/ldavis.v3.0.0.js\", function(){\n",
       "                 new LDAvis(\"#\" + \"ldavis_el145241405966755998245807326583\", ldavis_el145241405966755998245807326583_data);\n",
       "            })\n",
       "         });\n",
       "}\n",
       "</script>"
      ],
      "text/plain": [
       "PreparedData(topic_coordinates=              x         y  topics  cluster       Freq\n",
       "topic                                                \n",
       "9      0.086887  0.073922       1        1  11.652804\n",
       "5      0.025912 -0.004520       2        1  10.728494\n",
       "7     -0.027102  0.023677       3        1  10.498812\n",
       "6     -0.048399 -0.009861       4        1  10.338504\n",
       "2     -0.123556 -0.014611       5        1  10.189431\n",
       "0     -0.023342  0.114104       6        1   9.636027\n",
       "3      0.036844 -0.014075       7        1   9.598940\n",
       "8     -0.008027 -0.043759       8        1   9.518566\n",
       "4      0.029187 -0.059236       9        1   9.049628\n",
       "1      0.051596 -0.065642      10        1   8.788794, topic_info=         Term         Freq        Total Category  logprob  loglift\n",
       "106   program  1995.000000  1995.000000  Default  30.0000  30.0000\n",
       "103     class  1889.000000  1889.000000  Default  29.0000  29.0000\n",
       "266       new  2710.000000  2710.000000  Default  28.0000  28.0000\n",
       "1046  orleans   354.000000   354.000000  Default  27.0000  27.0000\n",
       "319     radio   639.000000   639.000000  Default  26.0000  26.0000\n",
       "...       ...          ...          ...      ...      ...      ...\n",
       "313      life    65.019480   664.890858  Topic10  -6.1820   0.1068\n",
       "513     power    52.866031   342.760473  Topic10  -6.3889   0.5624\n",
       "212     court    63.001613   738.264364  Topic10  -6.2135  -0.0294\n",
       "377     brief    62.033126   747.387707  Topic10  -6.2290  -0.0572\n",
       "3       trump    61.404663  1121.049099  Topic10  -6.2392  -0.4728\n",
       "\n",
       "[921 rows x 6 columns], token_table=       Topic      Freq      Term\n",
       "term                            \n",
       "8762       2  0.104597  abdullah\n",
       "8762       6  0.836777  abdullah\n",
       "8893       2  0.919628   ability\n",
       "12466      3  0.903854  accuracy\n",
       "15759      5  0.897303    accuse\n",
       "...      ...       ...       ...\n",
       "442        7  0.425608      york\n",
       "442        8  0.132501      york\n",
       "442        9  0.040152      york\n",
       "442       10  0.100379      york\n",
       "18140      6  0.930482   zarqawi\n",
       "\n",
       "[3517 rows x 3 columns], R=30, lambda_step=0.01, plot_opts={'xlab': 'PC1', 'ylab': 'PC2'}, topic_order=[10, 6, 8, 7, 3, 1, 4, 9, 5, 2])"
      ]
     },
     "execution_count": 61,
     "metadata": {},
     "output_type": "execute_result"
    }
   ],
   "source": [
    "# import pyLDAvis.gensim\n",
    "import os\n",
    "import pyLDAvis.gensim_models as gensimvis\n",
    "import pickle \n",
    "import pyLDAvis\n",
    "# Visualize the topics\n",
    "pyLDAvis.enable_notebook()\n",
    "# LDAvis_data_filepath = os.path.join('./results/ldavis_prepared_'+ str(num_topics)+str(num_topics))\n",
    "# # this is a bit time consuming - make the if statement True\n",
    "# # if you want to execute visualization prep yourself\n",
    "if 1 == 1:\n",
    "#     LDAvis_prepared = pyLDAvis.gensim.prepare(lda_model, corpus, id2word)\n",
    "    LDAvis_prepared = gensimvis.prepare(lda_model, corpus, id2word)\n",
    "#     with open(LDAvis_data_filepath, 'wb') as f:\n",
    "#         pickle.dump(LDAvis_prepared, f)\n",
    "# load the pre-prepared pyLDAvis data from disk\n",
    "# with open(LDAvis_data_filepath, 'rb') as f:\n",
    "#     LDAvis_prepared = pickle.load(f)\n",
    "# pyLDAvis.save_html(LDAvis_prepared, './results/ldavis_prepared_'+ str(num_topics) +'.html')\n",
    "LDAvis_prepared"
   ]
  },
  {
   "cell_type": "markdown",
   "id": "0bd150f3",
   "metadata": {},
   "source": [
    "## Evaluate? (this is running on the 'title' topic modeling)"
   ]
  },
  {
   "cell_type": "code",
   "execution_count": 62,
   "id": "0fa85897",
   "metadata": {},
   "outputs": [
    {
     "name": "stderr",
     "output_type": "stream",
     "text": [
      "/usr/local/anaconda3/lib/python3.8/site-packages/ipykernel/ipkernel.py:287: DeprecationWarning: `should_run_async` will not call `transform_cell` automatically in the future. Please pass the result to `transformed_cell` argument and any exception that happen during thetransform in `preprocessing_exc_tuple` in IPython 7.17 and above.\n",
      "  and should_run_async(code)\n"
     ]
    }
   ],
   "source": [
    "# Build the bigram and trigram models\n",
    "bigram = gensim.models.Phrases(data_words, min_count=5, threshold=100) # higher threshold fewer phrases.\n",
    "trigram = gensim.models.Phrases(bigram[data_words], threshold=100)\n",
    "# Faster way to get a sentence clubbed as a trigram/bigram\n",
    "bigram_mod = gensim.models.phrases.Phraser(bigram)\n",
    "trigram_mod = gensim.models.phrases.Phraser(trigram)"
   ]
  },
  {
   "cell_type": "code",
   "execution_count": 63,
   "id": "a2efe8ed",
   "metadata": {},
   "outputs": [
    {
     "name": "stderr",
     "output_type": "stream",
     "text": [
      "/usr/local/anaconda3/lib/python3.8/site-packages/ipykernel/ipkernel.py:287: DeprecationWarning: `should_run_async` will not call `transform_cell` automatically in the future. Please pass the result to `transformed_cell` argument and any exception that happen during thetransform in `preprocessing_exc_tuple` in IPython 7.17 and above.\n",
      "  and should_run_async(code)\n"
     ]
    }
   ],
   "source": [
    "# NLTK Stop words\n",
    "# import nltk\n",
    "# nltk.download('stopwords')\n",
    "from nltk.corpus import stopwords\n",
    "stop_words = stopwords.words('english')\n",
    "stop_words.extend(['from', 'subject', 're', 'edu', 'use'])\n",
    "# Define functions for stopwords, bigrams, trigrams and lemmatization\n",
    "def remove_stopwords(texts):\n",
    "    return [[word for word in simple_preprocess(str(doc)) if word not in stop_words] for doc in texts]\n",
    "def make_bigrams(texts):\n",
    "    return [bigram_mod[doc] for doc in texts]\n",
    "def make_trigrams(texts):\n",
    "    return [trigram_mod[bigram_mod[doc]] for doc in texts]\n",
    "def lemmatization(texts, allowed_postags=['NOUN', 'ADJ', 'VERB', 'ADV']):\n",
    "    \"\"\"https://spacy.io/api/annotation\"\"\"\n",
    "    texts_out = []\n",
    "    for sent in texts:\n",
    "        doc = nlp(\" \".join(sent)) \n",
    "        texts_out.append([token.lemma_ for token in doc if token.pos_ in allowed_postags])\n",
    "    return texts_out"
   ]
  },
  {
   "cell_type": "code",
   "execution_count": 64,
   "id": "0a07e97c",
   "metadata": {},
   "outputs": [
    {
     "name": "stderr",
     "output_type": "stream",
     "text": [
      "/usr/local/anaconda3/lib/python3.8/site-packages/ipykernel/ipkernel.py:287: DeprecationWarning: `should_run_async` will not call `transform_cell` automatically in the future. Please pass the result to `transformed_cell` argument and any exception that happen during thetransform in `preprocessing_exc_tuple` in IPython 7.17 and above.\n",
      "  and should_run_async(code)\n",
      "/usr/local/anaconda3/lib/python3.8/site-packages/fsspec/registry.py:188: DeprecationWarning: distutils Version classes are deprecated. Use packaging.version instead.\n",
      "  minversions = {\"s3fs\": LooseVersion(\"0.3.0\"), \"gcsfs\": LooseVersion(\"0.3.0\")}\n",
      "/usr/local/anaconda3/lib/python3.8/site-packages/fsspec/registry.py:188: DeprecationWarning: distutils Version classes are deprecated. Use packaging.version instead.\n",
      "  minversions = {\"s3fs\": LooseVersion(\"0.3.0\"), \"gcsfs\": LooseVersion(\"0.3.0\")}\n"
     ]
    },
    {
     "name": "stdout",
     "output_type": "stream",
     "text": [
      "[['report', 'complaint']]\n"
     ]
    }
   ],
   "source": [
    "import spacy\n",
    "# Remove Stop Words\n",
    "data_words_nostops = remove_stopwords(data_words)\n",
    "# Form Bigrams\n",
    "data_words_bigrams = make_bigrams(data_words_nostops)\n",
    "# Initialize spacy 'en' model, keeping only tagger component (for efficiency)\n",
    "nlp = spacy.load(\"en_core_web_sm\", disable=['parser', 'ner'])\n",
    "# Do lemmatization keeping only noun, adj, vb, adv\n",
    "data_lemmatized = lemmatization(data_words_bigrams, allowed_postags=['NOUN', 'ADJ', 'VERB', 'ADV'])\n",
    "print(data_lemmatized[:1])"
   ]
  },
  {
   "cell_type": "code",
   "execution_count": 65,
   "id": "01af1b4b",
   "metadata": {},
   "outputs": [
    {
     "name": "stderr",
     "output_type": "stream",
     "text": [
      "/usr/local/anaconda3/lib/python3.8/site-packages/ipykernel/ipkernel.py:287: DeprecationWarning: `should_run_async` will not call `transform_cell` automatically in the future. Please pass the result to `transformed_cell` argument and any exception that happen during thetransform in `preprocessing_exc_tuple` in IPython 7.17 and above.\n",
      "  and should_run_async(code)\n"
     ]
    },
    {
     "name": "stdout",
     "output_type": "stream",
     "text": [
      "[[(0, 1), (1, 1)]]\n"
     ]
    }
   ],
   "source": [
    "import gensim.corpora as corpora\n",
    "# Create Dictionary\n",
    "id2word = corpora.Dictionary(data_lemmatized)\n",
    "# Create Corpus\n",
    "texts = data_lemmatized\n",
    "# Term Document Frequency\n",
    "corpus = [id2word.doc2bow(text) for text in texts]\n",
    "# View\n",
    "print(corpus[:1])"
   ]
  },
  {
   "cell_type": "code",
   "execution_count": 66,
   "id": "b51eed03",
   "metadata": {},
   "outputs": [
    {
     "name": "stderr",
     "output_type": "stream",
     "text": [
      "/usr/local/anaconda3/lib/python3.8/site-packages/ipykernel/ipkernel.py:287: DeprecationWarning: `should_run_async` will not call `transform_cell` automatically in the future. Please pass the result to `transformed_cell` argument and any exception that happen during thetransform in `preprocessing_exc_tuple` in IPython 7.17 and above.\n",
      "  and should_run_async(code)\n"
     ]
    }
   ],
   "source": [
    "# Build LDA model\n",
    "lda_model = gensim.models.LdaMulticore(corpus=corpus,\n",
    "                                       id2word=id2word,\n",
    "                                       num_topics=10, \n",
    "                                       random_state=100,\n",
    "                                       chunksize=100,\n",
    "                                       passes=10,\n",
    "                                       per_word_topics=True)"
   ]
  },
  {
   "cell_type": "code",
   "execution_count": 67,
   "id": "a27b7dc6",
   "metadata": {},
   "outputs": [
    {
     "name": "stderr",
     "output_type": "stream",
     "text": [
      "/usr/local/anaconda3/lib/python3.8/site-packages/ipykernel/ipkernel.py:287: DeprecationWarning: `should_run_async` will not call `transform_cell` automatically in the future. Please pass the result to `transformed_cell` argument and any exception that happen during thetransform in `preprocessing_exc_tuple` in IPython 7.17 and above.\n",
      "  and should_run_async(code)\n"
     ]
    }
   ],
   "source": [
    "# from pprint import pprint\n",
    "# # Print the Keyword in the 10 topics\n",
    "# pprint(lda_model.print_topics())\n",
    "# doc_lda = lda_model[corpus]"
   ]
  },
  {
   "cell_type": "code",
   "execution_count": 68,
   "id": "98131d0a",
   "metadata": {},
   "outputs": [
    {
     "name": "stderr",
     "output_type": "stream",
     "text": [
      "/usr/local/anaconda3/lib/python3.8/site-packages/ipykernel/ipkernel.py:287: DeprecationWarning: `should_run_async` will not call `transform_cell` automatically in the future. Please pass the result to `transformed_cell` argument and any exception that happen during thetransform in `preprocessing_exc_tuple` in IPython 7.17 and above.\n",
      "  and should_run_async(code)\n"
     ]
    },
    {
     "name": "stdout",
     "output_type": "stream",
     "text": [
      "\n",
      "Coherence Score:  0.3839241701975075\n"
     ]
    }
   ],
   "source": [
    "from gensim.models import CoherenceModel\n",
    "# Compute Coherence Score\n",
    "coherence_model_lda = CoherenceModel(model=lda_model, texts=data_lemmatized, dictionary=id2word, coherence='c_v')\n",
    "coherence_lda = coherence_model_lda.get_coherence()\n",
    "print('\\nCoherence Score: ', coherence_lda)"
   ]
  },
  {
   "cell_type": "code",
   "execution_count": 69,
   "id": "d34636a4",
   "metadata": {},
   "outputs": [
    {
     "name": "stderr",
     "output_type": "stream",
     "text": [
      "/usr/local/anaconda3/lib/python3.8/site-packages/ipykernel/ipkernel.py:287: DeprecationWarning: `should_run_async` will not call `transform_cell` automatically in the future. Please pass the result to `transformed_cell` argument and any exception that happen during thetransform in `preprocessing_exc_tuple` in IPython 7.17 and above.\n",
      "  and should_run_async(code)\n"
     ]
    }
   ],
   "source": [
    "# supporting function\n",
    "def compute_coherence_values(corpus, dictionary, k, a, b):\n",
    "    \n",
    "    lda_model = gensim.models.LdaMulticore(corpus=corpus,\n",
    "                                           id2word=dictionary,\n",
    "                                           num_topics=k, \n",
    "                                           random_state=100,\n",
    "                                           chunksize=100,\n",
    "                                           passes=10,\n",
    "                                           alpha=a,\n",
    "                                           eta=b)\n",
    "    \n",
    "    coherence_model_lda = CoherenceModel(model=lda_model, texts=data_lemmatized, dictionary=id2word, coherence='c_v')\n",
    "    \n",
    "    return coherence_model_lda.get_coherence()"
   ]
  },
  {
   "cell_type": "markdown",
   "id": "aa81c98b",
   "metadata": {},
   "source": [
    "## The following code is commented out bc it takes ages to run, and I have the results csv from when I ran it"
   ]
  },
  {
   "cell_type": "code",
   "execution_count": 70,
   "id": "5527d58a",
   "metadata": {},
   "outputs": [
    {
     "name": "stderr",
     "output_type": "stream",
     "text": [
      "/usr/local/anaconda3/lib/python3.8/site-packages/ipykernel/ipkernel.py:287: DeprecationWarning: `should_run_async` will not call `transform_cell` automatically in the future. Please pass the result to `transformed_cell` argument and any exception that happen during thetransform in `preprocessing_exc_tuple` in IPython 7.17 and above.\n",
      "  and should_run_async(code)\n"
     ]
    }
   ],
   "source": [
    "# import numpy as np\n",
    "# import tqdm\n",
    "# grid = {}\n",
    "# grid['Validation_Set'] = {}\n",
    "# # Topics range\n",
    "# min_topics = 2\n",
    "# max_topics = 11\n",
    "# step_size = 1\n",
    "# topics_range = range(min_topics, max_topics, step_size)\n",
    "# # Alpha parameter\n",
    "# alpha = list(np.arange(0.01, 1, 0.3))\n",
    "# alpha.append('symmetric')\n",
    "# alpha.append('asymmetric')\n",
    "# # Beta parameter\n",
    "# beta = list(np.arange(0.01, 1, 0.3))\n",
    "# beta.append('symmetric')\n",
    "# # Validation sets\n",
    "# num_of_docs = len(corpus)\n",
    "# corpus_sets = [# gensim.utils.ClippedCorpus(corpus, num_of_docs*0.25), \n",
    "#                # gensim.utils.ClippedCorpus(corpus, num_of_docs*0.5), \n",
    "#                gensim.utils.ClippedCorpus(corpus, int(num_of_docs*0.75)), \n",
    "#                corpus]\n",
    "# corpus_title = ['75% Corpus', '100% Corpus']\n",
    "# model_results = {'Validation_Set': [],\n",
    "#                  'Topics': [],\n",
    "#                  'Alpha': [],\n",
    "#                  'Beta': [],\n",
    "#                  'Coherence': []\n",
    "#                 }\n",
    "# # Can take a long time to run\n",
    "# if 1 == 1:\n",
    "#     pbar = tqdm.tqdm(total=540)\n",
    "    \n",
    "#     # iterate through validation corpuses\n",
    "#     for i in range(len(corpus_sets)):\n",
    "#         # iterate through number of topics\n",
    "#         for k in topics_range:\n",
    "#             # iterate through alpha values\n",
    "#             for a in alpha:\n",
    "#                 # iterare through beta values\n",
    "#                 for b in beta:\n",
    "#                     # get the coherence score for the given parameters\n",
    "#                     cv = compute_coherence_values(corpus=corpus_sets[i], dictionary=id2word, \n",
    "#                                                   k=k, a=a, b=b)\n",
    "#                     # Save the model results\n",
    "#                     model_results['Validation_Set'].append(corpus_title[i])\n",
    "#                     model_results['Topics'].append(k)\n",
    "#                     model_results['Alpha'].append(a)\n",
    "#                     model_results['Beta'].append(b)\n",
    "#                     model_results['Coherence'].append(cv)\n",
    "                    \n",
    "#                     pbar.update(1)\n",
    "#     pd.DataFrame(model_results).to_csv('lda_tuning_results.csv', index=False)\n",
    "#     pbar.close()"
   ]
  },
  {
   "cell_type": "code",
   "execution_count": 74,
   "id": "57bdcfeb",
   "metadata": {},
   "outputs": [
    {
     "name": "stderr",
     "output_type": "stream",
     "text": [
      "/usr/local/anaconda3/lib/python3.8/site-packages/ipykernel/ipkernel.py:287: DeprecationWarning: `should_run_async` will not call `transform_cell` automatically in the future. Please pass the result to `transformed_cell` argument and any exception that happen during thetransform in `preprocessing_exc_tuple` in IPython 7.17 and above.\n",
      "  and should_run_async(code)\n"
     ]
    }
   ],
   "source": [
    "# use the above-selected parameters to train the model\n",
    "\n",
    "lda_model = gensim.models.LdaMulticore(corpus=corpus,\n",
    "                                           id2word=id2word,\n",
    "                                           num_topics=4, \n",
    "                                           random_state=100,\n",
    "                                           chunksize=100,\n",
    "                                           passes=10,\n",
    "                                           alpha=0.01,\n",
    "                                           eta=0.9)"
   ]
  },
  {
   "cell_type": "code",
   "execution_count": 75,
   "id": "4418faee",
   "metadata": {},
   "outputs": [
    {
     "name": "stderr",
     "output_type": "stream",
     "text": [
      "/usr/local/anaconda3/lib/python3.8/site-packages/ipykernel/ipkernel.py:287: DeprecationWarning: `should_run_async` will not call `transform_cell` automatically in the future. Please pass the result to `transformed_cell` argument and any exception that happen during thetransform in `preprocessing_exc_tuple` in IPython 7.17 and above.\n",
      "  and should_run_async(code)\n"
     ]
    },
    {
     "data": {
      "text/html": [
       "\n",
       "<link rel=\"stylesheet\" type=\"text/css\" href=\"https://cdn.jsdelivr.net/gh/bmabey/pyLDAvis@3.3.1/pyLDAvis/js/ldavis.v1.0.0.css\">\n",
       "\n",
       "\n",
       "<div id=\"ldavis_el145241406039633832486508736403\"></div>\n",
       "<script type=\"text/javascript\">\n",
       "\n",
       "var ldavis_el145241406039633832486508736403_data = {\"mdsDat\": {\"x\": [0.14489594341015366, -0.10962030810430372, -0.12682322421570735, 0.09154758890985748], \"y\": [-0.047444643207439595, 0.14671781725035382, -0.14675041933056124, 0.04747724528764695], \"topics\": [1, 2, 3, 4], \"cluster\": [1, 1, 1, 1], \"Freq\": [29.590492433720613, 25.16112005982429, 22.99320081701666, 22.255186689438435]}, \"tinfo\": {\"Term\": [\"letter\", \"debate\", \"court\", \"law\", \"plan\", \"attack\", \"deal\", \"bill\", \"race\", \"leader\", \"immigration\", \"election\", \"home\", \"voter\", \"rule\", \"life\", \"call\", \"market\", \"study\", \"trial\", \"case\", \"official\", \"iraqi\", \"find\", \"tax\", \"crisis\", \"government\", \"report\", \"candidate\", \"put\", \"college\", \"kid\", \"tv\", \"well\", \"student\", \"game\", \"music\", \"risk\", \"price\", \"art\", \"baseball\", \"star\", \"love\", \"young\", \"olympic\", \"insurance\", \"parent\", \"road\", \"patient\", \"brain\", \"watch\", \"age\", \"tell\", \"cancer\", \"human\", \"pick\", \"heart\", \"service\", \"study\", \"real\", \"energy\", \"doctor\", \"different\", \"research\", \"life\", \"way\", \"economy\", \"get\", \"find\", \"school\", \"world\", \"good\", \"make\", \"pay\", \"many\", \"story\", \"new\", \"help\", \"go\", \"high\", \"time\", \"offer\", \"test\", \"big\", \"health\", \"show\", \"year\", \"attack\", \"deal\", \"crisis\", \"kill\", \"nuclear\", \"afghan\", \"border\", \"president\", \"effort\", \"official\", \"troop\", \"israeli\", \"threat\", \"budget\", \"chief\", \"tension\", \"reach\", \"bailout\", \"syrian\", \"post\", \"bombing\", \"review\", \"summit\", \"financial\", \"low\", \"flood\", \"bomb\", \"abuse\", \"opposition\", \"shiite\", \"buy\", \"accuse\", \"leader\", \"concern\", \"iraqi\", \"force\", \"consider\", \"challenge\", \"government\", \"violence\", \"report\", \"aid\", \"economic\", \"plan\", \"war\", \"talk\", \"military\", \"vote\", \"security\", \"say\", \"group\", \"new\", \"job\", \"face\", \"debate\", \"court\", \"law\", \"race\", \"voter\", \"immigration\", \"candidate\", \"tax\", \"presidential\", \"weigh\", \"primary\", \"white_house\", \"mccain\", \"supreme_court\", \"politic\", \"put\", \"judge\", \"view\", \"medium\", \"word\", \"poll\", \"abortion\", \"republican\", \"romney\", \"justice\", \"nomination\", \"lawmaker\", \"expert\", \"hearing\", \"legal\", \"result\", \"begin\", \"free\", \"trial\", \"bill\", \"campaign\", \"urge\", \"rule\", \"case\", \"week_politic\", \"election\", \"state\", \"right\", \"political\", \"change\", \"end\", \"policy\", \"take\", \"new\", \"plan\", \"face\", \"letter\", \"market\", \"chinese\", \"soldier\", \"town\", \"sale\", \"search\", \"resident\", \"miss\", \"prison\", \"summer\", \"community\", \"share\", \"sell\", \"stock\", \"protester\", \"firm\", \"act\", \"sound\", \"friend\", \"dream\", \"murder\", \"housing\", \"celebrate\", \"teacher\", \"link\", \"answer\", \"investor\", \"suffer\", \"foreclosure\", \"critic\", \"press\", \"fraud\", \"panel\", \"home\", \"call\", \"gas\", \"worker\", \"death\", \"charge\", \"bring\", \"seek\", \"company\", \"police\", \"oil\", \"open\", \"family\", \"struggle\", \"remember\", \"new\", \"take\", \"hit\", \"protest\", \"look\"], \"Freq\": [753.0, 568.0, 417.0, 398.0, 749.0, 412.0, 391.0, 479.0, 346.0, 424.0, 323.0, 552.0, 432.0, 310.0, 417.0, 566.0, 410.0, 270.0, 358.0, 325.0, 524.0, 293.0, 369.0, 556.0, 262.0, 280.0, 394.0, 516.0, 253.0, 254.0, 301.14902972824274, 258.0983658435501, 237.83384548862134, 230.94420514930914, 301.08733712037986, 198.51598043548984, 194.08332327071705, 222.5582657777854, 240.2966866056213, 180.94650045767196, 139.56522122581774, 140.417211061578, 133.32455064724147, 168.7363378255565, 127.74918943620145, 150.03017753475632, 123.26346999703362, 128.60957934039573, 124.0122458340314, 107.00956784227871, 140.85529489373405, 116.53950074425909, 124.73214643578731, 105.72453237330252, 106.78155019518212, 162.72371252588087, 115.57932318500566, 145.42946373769541, 350.4461760809654, 111.29889883939639, 181.6700484575637, 190.48461237365387, 119.00843927935477, 126.83809517155852, 462.4523201558586, 239.2266910464352, 334.4435667629263, 567.6341454762356, 425.4715715112577, 425.2112062322091, 334.8258804038895, 235.71175977927956, 520.3752130969336, 248.60848063625284, 191.68245107962056, 209.96153420688162, 691.3172320497124, 340.3392726890261, 331.76460809577793, 317.7751414942765, 274.7591647342795, 225.6105669601791, 220.78408290275175, 227.41240006047465, 201.97516914325672, 200.06050617638607, 203.0289724652641, 409.87978348885133, 388.59258981705943, 277.62234159604185, 245.0579680412607, 231.18987850281357, 203.45902510111554, 232.0180209958251, 204.50321770583713, 210.25666993031368, 289.04159169676547, 240.13995761756462, 161.50669228420037, 145.4769425111104, 166.68652229879274, 167.32687208613538, 139.42056901422322, 143.87355401078617, 142.75961072474476, 122.33493364660588, 192.63834956494543, 132.342871988457, 153.04294129736726, 107.60466428514314, 140.33354638036036, 172.1765728935647, 118.12355417081947, 101.0114627284774, 105.2943472256483, 103.98995622821514, 91.90971151688824, 141.2563919093611, 109.14129388050776, 395.24150733452797, 135.54296056760904, 332.9523475845856, 272.35083164932166, 155.78906305729365, 259.29746076964153, 337.47278069113355, 248.74978874227978, 407.563835311024, 286.5266512316066, 229.81491447715527, 500.4888789721955, 359.87557800652803, 275.32594177893475, 244.2775216687564, 258.4645564964545, 216.7348682302423, 310.70693963498985, 216.80806493668914, 428.3231919158686, 233.4768174145721, 250.26580484188491, 565.864183857748, 414.3836086002249, 395.34374288355843, 344.20098572250964, 308.53344431585145, 320.6857186541775, 251.39916085953845, 260.08352018497243, 219.08513586922362, 240.19299383320933, 195.92401490664844, 248.21080097559977, 221.42044465690148, 176.5007879271234, 161.3627846523991, 250.47661461985376, 169.60664067325504, 156.83217366773937, 149.64646172254226, 141.36724977907932, 134.90344279130682, 121.46475680735688, 114.6860029826773, 122.24709605840368, 139.6878577693855, 110.01967249186441, 152.84173533547653, 149.8481049945118, 100.64116332395919, 103.87440518981457, 119.82507937550642, 248.61225530978436, 159.27936176355337, 301.0490964948042, 427.61556979296415, 256.4280613267376, 155.0098549830533, 341.1291429276483, 382.3081144173283, 198.85502089076877, 376.4966313587243, 307.5634610204908, 186.89405501626567, 241.46952872312522, 292.6250540959009, 223.03566638277053, 196.05302823881723, 270.3956261076444, 324.9161764642841, 246.92693724666572, 227.03882998434412, 750.3130283641439, 267.00821838860656, 237.22463780832064, 230.36357020355214, 212.56225198982796, 192.71868217219577, 168.00536648771504, 145.6592089053157, 124.41462442271026, 144.70183549137693, 158.82161435807456, 114.82207560486441, 118.11162401108592, 127.29974037026567, 126.54508888209861, 109.69755571580316, 148.81699914354314, 113.68436252807655, 116.23061337028149, 118.68773001965891, 111.94277863002799, 96.17198401924365, 122.06871942575012, 86.1252505259844, 99.90717568020892, 109.35670246144039, 76.03768724081364, 100.17404485285893, 87.8458099214114, 91.60914047188203, 118.1185790689548, 100.54531609437532, 117.1380128923218, 131.8207496601869, 359.1579968448697, 325.2745066337594, 111.8778001013327, 241.95033639098048, 254.33701736151139, 165.61908890384274, 178.9622427330107, 260.4914954218322, 161.18381247864784, 175.63372106426897, 190.91838899582177, 167.41843996082414, 190.1528892799429, 156.70124997276272, 139.30638700345932, 235.06419178473257, 194.0573645555912, 155.82381816022516, 147.87814945942645, 148.07509397657006], \"Total\": [753.0, 568.0, 417.0, 398.0, 749.0, 412.0, 391.0, 479.0, 346.0, 424.0, 323.0, 552.0, 432.0, 310.0, 417.0, 566.0, 410.0, 270.0, 358.0, 325.0, 524.0, 293.0, 369.0, 556.0, 262.0, 280.0, 394.0, 516.0, 253.0, 254.0, 303.6920331580167, 260.5755656873288, 240.32615311571456, 233.50998990892208, 304.74803150224744, 201.00326948572967, 196.6564985254431, 225.59520106189632, 243.65882413503004, 183.72741619119256, 141.9936566073181, 142.8742708014347, 135.67267181566652, 171.81957334154788, 130.29603007041624, 153.03031161331592, 125.73841378374208, 131.25619680796117, 126.56569063607661, 109.25804435468788, 143.85694925486277, 119.07241704971004, 127.46742709950934, 108.0540993641518, 109.14102715898414, 166.3456122916671, 118.16056709563053, 148.6803527318221, 358.34495708776655, 113.91321219328971, 186.73218608019357, 200.77196244287904, 122.49314651626206, 131.5329426372491, 566.4434756545039, 272.5811361080443, 409.9208373535176, 775.4710881149052, 556.6459688873375, 575.0322702655992, 438.6529800320651, 284.14493444773785, 839.7857990615261, 321.30444537625044, 225.27695227309871, 259.5786361368824, 1679.6207922145977, 559.9068831108218, 542.4283151865455, 556.0506024642749, 437.4046761496434, 306.60621658609034, 360.20041289302446, 402.94356792997394, 351.70190184456703, 357.1471241496759, 572.1751805152807, 412.7112390645773, 391.4411664750726, 280.20250694401886, 247.93672740813344, 233.96129677565193, 206.09583100890455, 235.1306953864921, 207.35942553847778, 213.19418800959383, 293.3216565067182, 243.97730501722978, 164.18904818127237, 148.07486645434082, 169.70389249725443, 170.54871626834338, 142.13399694918957, 146.692793058045, 145.59363205021492, 124.78702629470625, 196.64404725946355, 135.13750824196856, 156.40295342822967, 110.13417663641157, 143.74679074181205, 176.6866852891467, 121.25037344417818, 103.79475674297416, 108.20002186100866, 106.87996097417175, 94.55171463261459, 145.40739336414, 112.2829060103751, 424.21677592953745, 140.52980921037513, 369.0390234102033, 299.6583246464795, 164.41431873593527, 290.0888135364068, 394.6560721625485, 285.7029826823504, 516.7594898019867, 339.7193789054865, 266.37150644437276, 749.5459911101558, 582.0627322426097, 393.0652363615657, 336.6933816156636, 386.6237446618551, 295.856799840475, 660.8735261433294, 305.2843200656768, 1679.6207922145977, 431.55266424285685, 671.2922298012361, 568.474100018009, 417.00922835789237, 398.12071236993495, 346.7798949478443, 310.94799272449694, 323.28457446951893, 253.8948923949167, 262.9155975367248, 221.4853532065335, 242.96449197640865, 198.3624783260674, 251.4802805763379, 224.3981683655253, 178.918448576129, 163.88928712806825, 254.47624695194924, 172.63555500509054, 159.7172707980668, 152.48080542893157, 144.09911305126334, 137.6036794049888, 123.90605553305626, 117.06699896956181, 124.85512866698423, 142.66891781947598, 112.40102284108303, 156.32973889267825, 153.71547366970083, 103.25193668121226, 106.62356046462368, 123.1082257962644, 257.66533673518956, 164.967602560399, 325.7416140054768, 479.9099790444908, 288.0509134114951, 163.27545516663824, 417.6532866109141, 524.2133235926409, 228.40565442057198, 552.1392218924294, 432.8990789531273, 220.23985773976173, 342.4112729884079, 514.8615661145518, 310.47758583906364, 253.29547046187423, 809.4767395314426, 1679.6207922145977, 749.5459911101558, 671.2922298012361, 753.1460226653534, 270.01679637858024, 240.1667345492683, 233.54863970683942, 215.53745360389576, 195.5614249404794, 171.02879532395337, 148.72629099439396, 127.09482254920437, 147.86219812747427, 162.29570810985706, 117.48830115343458, 120.890440965601, 130.39917132733328, 129.66840047887953, 112.4190567552733, 152.5554158097237, 116.55938570423473, 119.21943992456288, 121.80426960330387, 114.88640189456456, 98.88910082667337, 125.57119579376513, 88.75454258738694, 103.0702683829255, 113.06809641548432, 78.62348683837212, 103.63197276635381, 90.9563597075667, 94.8619632424972, 122.4448841309548, 104.83908065622832, 123.87546112915952, 141.90328531061925, 432.50789626572845, 410.3789940112038, 118.7723965550368, 317.90116332899476, 365.9297614868688, 207.32241911521055, 239.17077192967452, 464.8959918754776, 219.4962582599004, 261.01819019060196, 311.27329859342916, 256.1485838710821, 394.49450222792865, 269.3444948525559, 199.94268390858127, 1679.6207922145977, 809.4767395314426, 366.5143559695108, 351.697390305099, 557.8273984347056], \"Category\": [\"Default\", \"Default\", \"Default\", \"Default\", \"Default\", \"Default\", \"Default\", \"Default\", \"Default\", \"Default\", \"Default\", \"Default\", \"Default\", \"Default\", \"Default\", \"Default\", \"Default\", \"Default\", \"Default\", \"Default\", \"Default\", \"Default\", \"Default\", \"Default\", \"Default\", \"Default\", \"Default\", \"Default\", \"Default\", \"Default\", \"Topic1\", \"Topic1\", \"Topic1\", \"Topic1\", \"Topic1\", \"Topic1\", \"Topic1\", \"Topic1\", \"Topic1\", \"Topic1\", \"Topic1\", \"Topic1\", \"Topic1\", \"Topic1\", \"Topic1\", \"Topic1\", \"Topic1\", \"Topic1\", \"Topic1\", \"Topic1\", \"Topic1\", \"Topic1\", \"Topic1\", \"Topic1\", \"Topic1\", \"Topic1\", \"Topic1\", \"Topic1\", \"Topic1\", \"Topic1\", \"Topic1\", \"Topic1\", \"Topic1\", \"Topic1\", \"Topic1\", \"Topic1\", \"Topic1\", \"Topic1\", \"Topic1\", \"Topic1\", \"Topic1\", \"Topic1\", \"Topic1\", \"Topic1\", \"Topic1\", \"Topic1\", \"Topic1\", \"Topic1\", \"Topic1\", \"Topic1\", \"Topic1\", \"Topic1\", \"Topic1\", \"Topic1\", \"Topic1\", \"Topic1\", \"Topic1\", \"Topic2\", \"Topic2\", \"Topic2\", \"Topic2\", \"Topic2\", \"Topic2\", \"Topic2\", \"Topic2\", \"Topic2\", \"Topic2\", \"Topic2\", \"Topic2\", \"Topic2\", \"Topic2\", \"Topic2\", \"Topic2\", \"Topic2\", \"Topic2\", \"Topic2\", \"Topic2\", \"Topic2\", \"Topic2\", \"Topic2\", \"Topic2\", \"Topic2\", \"Topic2\", \"Topic2\", \"Topic2\", \"Topic2\", \"Topic2\", \"Topic2\", \"Topic2\", \"Topic2\", \"Topic2\", \"Topic2\", \"Topic2\", \"Topic2\", \"Topic2\", \"Topic2\", \"Topic2\", \"Topic2\", \"Topic2\", \"Topic2\", \"Topic2\", \"Topic2\", \"Topic2\", \"Topic2\", \"Topic2\", \"Topic2\", \"Topic2\", \"Topic2\", \"Topic2\", \"Topic2\", \"Topic2\", \"Topic3\", \"Topic3\", \"Topic3\", \"Topic3\", \"Topic3\", \"Topic3\", \"Topic3\", \"Topic3\", \"Topic3\", \"Topic3\", \"Topic3\", \"Topic3\", \"Topic3\", \"Topic3\", \"Topic3\", \"Topic3\", \"Topic3\", \"Topic3\", \"Topic3\", \"Topic3\", \"Topic3\", \"Topic3\", \"Topic3\", \"Topic3\", \"Topic3\", \"Topic3\", \"Topic3\", \"Topic3\", \"Topic3\", \"Topic3\", \"Topic3\", \"Topic3\", \"Topic3\", \"Topic3\", \"Topic3\", \"Topic3\", \"Topic3\", \"Topic3\", \"Topic3\", \"Topic3\", \"Topic3\", \"Topic3\", \"Topic3\", \"Topic3\", \"Topic3\", \"Topic3\", \"Topic3\", \"Topic3\", \"Topic3\", \"Topic3\", \"Topic3\", \"Topic4\", \"Topic4\", \"Topic4\", \"Topic4\", \"Topic4\", \"Topic4\", \"Topic4\", \"Topic4\", \"Topic4\", \"Topic4\", \"Topic4\", \"Topic4\", \"Topic4\", \"Topic4\", \"Topic4\", \"Topic4\", \"Topic4\", \"Topic4\", \"Topic4\", \"Topic4\", \"Topic4\", \"Topic4\", \"Topic4\", \"Topic4\", \"Topic4\", \"Topic4\", \"Topic4\", \"Topic4\", \"Topic4\", \"Topic4\", \"Topic4\", \"Topic4\", \"Topic4\", \"Topic4\", \"Topic4\", \"Topic4\", \"Topic4\", \"Topic4\", \"Topic4\", \"Topic4\", \"Topic4\", \"Topic4\", \"Topic4\", \"Topic4\", \"Topic4\", \"Topic4\", \"Topic4\", \"Topic4\", \"Topic4\", \"Topic4\", \"Topic4\", \"Topic4\", \"Topic4\", \"Topic4\"], \"logprob\": [30.0, 29.0, 28.0, 27.0, 26.0, 25.0, 24.0, 23.0, 22.0, 21.0, 20.0, 19.0, 18.0, 17.0, 16.0, 15.0, 14.0, 13.0, 12.0, 11.0, 10.0, 9.0, 8.0, 7.0, 6.0, 5.0, 4.0, 3.0, 2.0, 1.0, -5.5711, -5.7254, -5.8071, -5.8365, -5.5713, -5.9878, -6.0104, -5.8735, -5.7968, -6.0805, -6.3402, -6.3341, -6.3859, -6.1504, -6.4286, -6.2679, -6.4644, -6.4219, -6.4583, -6.6058, -6.331, -6.5205, -6.4525, -6.6179, -6.6079, -6.1866, -6.5287, -6.299, -5.4195, -6.5665, -6.0765, -6.0291, -6.4995, -6.4358, -5.1422, -5.8013, -5.4662, -4.9372, -5.2255, -5.2261, -5.4651, -5.8161, -5.0242, -5.7628, -6.0229, -5.9318, -4.7401, -5.4488, -5.4743, -5.5174, -5.6628, -5.8599, -5.8815, -5.8519, -5.9706, -5.9801, -5.9654, -5.1007, -5.154, -5.4903, -5.6151, -5.6733, -5.8011, -5.6697, -5.796, -5.7682, -5.45, -5.6353, -6.032, -6.1365, -6.0004, -5.9966, -6.1791, -6.1476, -6.1554, -6.3098, -5.8557, -6.2312, -6.0858, -6.4381, -6.1725, -5.968, -6.3448, -6.5013, -6.4598, -6.4723, -6.5957, -6.166, -6.4239, -5.1371, -6.2073, -5.3085, -5.5095, -6.068, -5.5586, -5.2951, -5.6001, -5.1064, -5.4587, -5.6793, -4.901, -5.2308, -5.4986, -5.6182, -5.5618, -5.7379, -5.3777, -5.7375, -5.0567, -5.6635, -5.594, -4.6881, -4.9997, -5.0467, -5.1852, -5.2946, -5.256, -5.4994, -5.4654, -5.637, -5.545, -5.7487, -5.5122, -5.6264, -5.8531, -5.9428, -5.5031, -5.893, -5.9713, -6.0182, -6.0751, -6.1219, -6.2268, -6.2842, -6.2204, -6.087, -6.3258, -5.997, -6.0168, -6.4149, -6.3833, -6.2404, -5.5106, -5.9558, -5.3192, -4.9682, -5.4796, -5.983, -5.1942, -5.0802, -5.7339, -5.0955, -5.2978, -5.7959, -5.5397, -5.3476, -5.6191, -5.7481, -5.4266, -5.2429, -5.5174, -5.6013, -4.3733, -5.4065, -5.5248, -5.5542, -5.6346, -5.7326, -5.8698, -6.0126, -6.1702, -6.0191, -5.926, -6.2504, -6.2222, -6.1473, -6.1532, -6.2961, -5.9911, -6.2604, -6.2382, -6.2173, -6.2758, -6.4277, -6.1892, -6.538, -6.3896, -6.2992, -6.6626, -6.3869, -6.5182, -6.4763, -6.2221, -6.3832, -6.2305, -6.1124, -5.1101, -5.2092, -6.2764, -5.5051, -5.4552, -5.8841, -5.8066, -5.4313, -5.9113, -5.8254, -5.742, -5.8733, -5.746, -5.9395, -6.0571, -5.534, -5.7257, -5.9451, -5.9974, -5.9961], \"loglift\": [30.0, 29.0, 28.0, 27.0, 26.0, 25.0, 24.0, 23.0, 22.0, 21.0, 20.0, 19.0, 18.0, 17.0, 16.0, 15.0, 14.0, 13.0, 12.0, 11.0, 10.0, 9.0, 8.0, 7.0, 6.0, 5.0, 4.0, 3.0, 2.0, 1.0, 1.2093, 1.2082, 1.2073, 1.2067, 1.2056, 1.2053, 1.2045, 1.2042, 1.2038, 1.2025, 1.2005, 1.2004, 1.2003, 1.1996, 1.198, 1.1979, 1.1978, 1.1973, 1.1973, 1.1969, 1.1966, 1.1962, 1.196, 1.1959, 1.1959, 1.1957, 1.1956, 1.1956, 1.1954, 1.1945, 1.1902, 1.1651, 1.1889, 1.1814, 1.0149, 1.0872, 1.0142, 0.9057, 0.949, 0.9159, 0.9476, 1.0308, 0.7391, 0.9612, 1.0562, 1.0056, 0.33, 0.7199, 0.7261, 0.6582, 0.7528, 0.911, 0.7282, 0.6457, 0.6631, 0.6382, 0.1816, 1.373, 1.3726, 1.3706, 1.3682, 1.368, 1.367, 1.3665, 1.366, 1.366, 1.3652, 1.364, 1.3634, 1.3622, 1.3619, 1.3608, 1.3606, 1.3605, 1.3602, 1.36, 1.3593, 1.359, 1.3582, 1.3566, 1.3558, 1.354, 1.3537, 1.3527, 1.3526, 1.3525, 1.3515, 1.3509, 1.3515, 1.3091, 1.3437, 1.277, 1.2843, 1.326, 1.2677, 1.2233, 1.2414, 1.1425, 1.2096, 1.2323, 0.976, 0.8991, 1.0239, 1.059, 0.9772, 1.0687, 0.6252, 1.0376, 0.0134, 0.7656, 0.3932, 1.4654, 1.4637, 1.463, 1.4625, 1.4622, 1.4619, 1.4601, 1.4591, 1.4591, 1.4585, 1.4576, 1.4569, 1.4566, 1.4564, 1.4544, 1.4541, 1.4523, 1.4517, 1.4512, 1.4508, 1.4502, 1.4501, 1.4494, 1.4489, 1.4489, 1.4486, 1.4474, 1.4445, 1.4444, 1.4438, 1.4429, 1.4342, 1.4349, 1.3911, 1.3546, 1.3537, 1.418, 1.2676, 1.1543, 1.3314, 1.0871, 1.1281, 1.3058, 1.1207, 0.905, 1.1392, 1.2138, 0.3735, -0.1728, 0.3596, 0.3859, 1.4988, 1.4914, 1.4903, 1.4889, 1.4887, 1.488, 1.4848, 1.4818, 1.4813, 1.481, 1.481, 1.4796, 1.4793, 1.4785, 1.4782, 1.4781, 1.4778, 1.4776, 1.4772, 1.4767, 1.4766, 1.4747, 1.4743, 1.4725, 1.4714, 1.4692, 1.4692, 1.4687, 1.4678, 1.4677, 1.4666, 1.4608, 1.4467, 1.4289, 1.3168, 1.2702, 1.4428, 1.2296, 1.1388, 1.278, 1.2126, 0.9234, 1.1938, 1.1064, 1.0138, 1.0773, 0.7728, 0.9609, 1.1412, -0.4639, 0.0744, 0.6473, 0.6362, 0.1763]}, \"token.table\": {\"Topic\": [1, 2, 3, 4, 1, 2, 3, 4, 1, 2, 3, 4, 1, 2, 3, 4, 1, 2, 3, 4, 1, 2, 3, 4, 1, 2, 3, 4, 1, 2, 3, 4, 1, 2, 3, 4, 1, 2, 3, 4, 1, 2, 3, 4, 1, 2, 3, 4, 1, 2, 3, 4, 1, 2, 3, 4, 1, 2, 3, 4, 1, 2, 3, 4, 1, 2, 3, 4, 1, 2, 3, 4, 1, 2, 3, 4, 1, 2, 3, 4, 1, 2, 3, 4, 1, 2, 3, 4, 1, 2, 3, 4, 1, 2, 3, 4, 1, 2, 3, 4, 1, 2, 3, 4, 1, 2, 3, 4, 1, 2, 3, 4, 1, 2, 3, 4, 1, 2, 3, 4, 1, 2, 3, 4, 1, 2, 3, 4, 1, 2, 3, 4, 1, 2, 3, 4, 1, 2, 3, 4, 1, 2, 3, 4, 1, 2, 3, 4, 1, 2, 3, 4, 1, 2, 3, 4, 1, 2, 3, 4, 1, 2, 3, 4, 1, 2, 3, 4, 1, 2, 3, 4, 1, 2, 3, 4, 1, 2, 3, 4, 1, 2, 3, 4, 1, 2, 3, 4, 1, 2, 3, 4, 1, 2, 3, 4, 1, 2, 3, 4, 1, 2, 3, 4, 1, 2, 3, 4, 1, 2, 3, 4, 1, 2, 3, 4, 1, 2, 3, 4, 1, 2, 3, 4, 1, 2, 3, 4, 1, 2, 3, 4, 1, 2, 3, 4, 1, 2, 3, 4, 1, 2, 3, 4, 1, 2, 3, 4, 1, 2, 3, 4, 1, 2, 3, 4, 1, 2, 3, 4, 1, 2, 3, 4, 1, 2, 3, 4, 1, 2, 3, 4, 1, 2, 3, 4, 1, 2, 3, 4, 1, 2, 3, 4, 1, 2, 3, 4, 1, 2, 3, 4, 1, 2, 3, 4, 1, 2, 3, 4, 1, 2, 3, 4, 1, 2, 3, 4, 1, 2, 3, 4, 1, 2, 3, 4, 1, 2, 3, 4, 1, 2, 3, 4, 1, 2, 3, 4, 1, 2, 3, 4, 1, 2, 3, 4, 1, 2, 3, 4, 1, 2, 3, 4, 1, 2, 3, 4, 1, 2, 3, 4, 1, 2, 3, 4, 1, 2, 3, 4, 1, 2, 3, 4, 1, 2, 3, 4, 1, 2, 3, 4, 1, 2, 3, 4, 1, 2, 3, 4, 1, 2, 3, 4, 1, 2, 3, 4, 1, 2, 3, 4, 1, 2, 3, 4, 1, 2, 3, 4, 1, 2, 3, 4, 1, 2, 3, 4, 1, 2, 3, 4, 1, 2, 3, 4, 1, 2, 3, 4, 1, 2, 3, 4, 1, 2, 3, 4, 1, 2, 3, 4, 1, 2, 3, 4, 1, 2, 3, 4, 1, 2, 3, 4, 1, 2, 3, 4, 1, 2, 3, 4, 1, 2, 3, 4, 1, 2, 3, 4, 1, 2, 3, 4, 1, 2, 3, 4, 1, 2, 3, 4, 1, 2, 3, 4, 1, 2, 3, 4, 1, 2, 3, 4, 1, 2, 3, 4, 1, 2, 3, 4, 1, 2, 3, 4, 1, 2, 3, 4, 1, 2, 3, 4, 1, 2, 3, 4, 1, 2, 3, 4, 1, 2, 3, 4, 1, 2, 3, 4, 1, 2, 3, 4, 1, 2, 3, 4, 1, 2, 3, 4, 1, 2, 3, 4, 1, 2, 3, 4, 1, 2, 3, 4, 1, 2, 3, 4, 1, 2, 3, 4, 1, 2, 3, 4, 1, 2, 3, 4, 1, 2, 3, 4, 1, 2, 3, 4, 1, 2, 3, 4, 1, 2, 3, 4, 1, 2, 3, 4, 1, 2, 3, 4, 1, 2, 3, 4, 1, 2, 3, 4, 1, 2, 3, 4, 1, 2, 3, 4, 1, 2, 3, 4, 1, 2, 3, 4, 1, 2, 3, 4, 1, 2, 3, 4, 1, 2, 3, 4, 1, 2, 3, 4, 1, 2, 3, 4, 1, 2, 3, 4, 1, 2, 3, 4, 1, 2, 3, 4, 1, 2, 3, 4, 1, 2, 3, 4, 1, 2, 3, 4, 1, 2, 3, 4, 1, 2, 3, 4, 1, 2, 3, 4, 1, 2, 3, 4, 1, 2, 3, 4, 1, 2, 3, 4, 1, 2, 3, 4, 1, 2, 3, 4, 1, 2, 3, 4, 1, 2, 3, 4, 1, 2, 3, 4, 1, 2, 3, 4, 1, 2, 3, 4, 1, 2, 3, 4, 1, 2, 3, 4, 1, 2, 3, 4, 1, 2, 3, 4, 1, 2, 3, 4, 1, 2, 3, 4, 1, 2, 3, 4, 1, 2, 3, 4, 1, 2, 3, 4, 1, 2, 3, 4, 1, 2, 3, 4, 1, 2, 3, 4, 1, 2, 3, 4, 1, 2, 3, 4, 1, 2, 3, 4, 1, 2, 3, 4, 1, 2, 3, 4, 1, 2, 3, 4, 1, 2, 3, 4, 1, 2, 3, 4, 1, 2, 3, 4, 1, 2, 3, 4, 1, 2, 3, 4, 1, 2, 3, 4, 1, 2, 3, 4, 1, 2, 3, 4, 1, 2, 3, 4, 1, 2, 3, 4, 1, 2, 3, 4, 1, 2, 3, 4, 1, 2, 3, 4, 1, 2, 3, 4, 1, 2, 3, 4, 1, 2, 3, 4], \"Freq\": [0.008070630573283121, 0.008070630573283121, 0.9765462993672576, 0.008070630573283121, 0.009242142310142762, 0.97042494256499, 0.009242142310142762, 0.009242142310142762, 0.008906075159005936, 0.9707621923316471, 0.008906075159005936, 0.008906075159005936, 0.008579317692506241, 0.008579317692506241, 0.008579317692506241, 0.9780422169457115, 0.004852111734161154, 0.9849786820347143, 0.004852111734161154, 0.004852111734161154, 0.9825953222328152, 0.00839825061737449, 0.00839825061737449, 0.00839825061737449, 0.15012390569037493, 0.8448149202576001, 0.00294360599392892, 0.00294360599392892, 0.012718845731883147, 0.012718845731883147, 0.012718845731883147, 0.9666322756231192, 0.9851550941730203, 0.005442845824160333, 0.005442845824160333, 0.005442845824160333, 0.0024230016179509206, 0.9934306633598775, 0.0024230016179509206, 0.0024230016179509206, 0.006868432265328075, 0.9821858139419148, 0.006868432265328075, 0.006868432265328075, 0.9859595375247535, 0.007042568125176811, 0.007042568125176811, 0.007042568125176811, 0.003881003213978022, 0.003881003213978022, 0.9663698002805275, 0.027167022497846156, 0.5633543207207851, 0.002481737095686278, 0.23080154989882384, 0.2035024418462748, 0.058344275432131026, 0.002083724122576108, 0.8918339244625743, 0.047925654819250485, 0.009634398031070966, 0.9730742011381674, 0.009634398031070966, 0.009634398031070966, 0.007399870050951836, 0.9767828467256423, 0.007399870050951836, 0.007399870050951836, 0.004252953866173308, 0.9866852969522074, 0.004252953866173308, 0.004252953866173308, 0.9793329235570287, 0.009152644145392791, 0.009152644145392791, 0.009152644145392791, 0.008362225801520922, 0.008362225801520922, 0.23832343534334627, 0.7484192092361225, 0.00589261675312591, 0.9840669977720271, 0.00589261675312591, 0.00589261675312591, 0.006877229395727669, 0.9696893447976013, 0.006877229395727669, 0.013754458791455338, 0.19981529560882277, 0.004873543795337141, 0.004873543795337141, 0.7919508667422853, 0.00347160850197149, 0.10414825505914471, 0.8887317765047015, 0.00347160850197149, 0.9809900838909471, 0.009254623432933463, 0.009254623432933463, 0.009254623432933463, 0.0039386377195984165, 0.0039386377195984165, 0.9885980676192025, 0.0039386377195984165, 0.001907620342700573, 0.06867433233722063, 0.7287109709116188, 0.20030013598356017, 0.011267028941255698, 0.011267028941255698, 0.011267028941255698, 0.96896448894799, 0.0034472201385817923, 0.8928300158926842, 0.010341660415745376, 0.0896277236031266, 0.19616923586315715, 0.1262475280307447, 0.5690850109693569, 0.10876710107264159, 0.004823405033896951, 0.19293620135587802, 0.004823405033896951, 0.8006852356268939, 0.005863427306169741, 0.9791923601303466, 0.005863427306169741, 0.005863427306169741, 0.004163773979259638, 0.004163773979259638, 0.004163773979259638, 0.9868144330845341, 0.9911356477480724, 0.0032928094609570514, 0.0032928094609570514, 0.0032928094609570514, 0.008511485740984915, 0.008511485740984915, 0.008511485740984915, 0.9788208602132653, 0.2551296338441073, 0.004555886318644773, 0.004555886318644773, 0.7334976973018085, 0.021347783910451036, 0.9677662039404469, 0.007115927970150345, 0.007115927970150345, 0.006082195320263397, 0.9488224699610899, 0.03649317192158038, 0.006082195320263397, 0.00239802846555176, 0.00239802846555176, 0.9927837847384285, 0.00239802846555176, 0.00356884744146771, 0.9921395887280234, 0.00356884744146771, 0.00356884744146771, 0.0081669398202909, 0.0163338796405818, 0.0081669398202909, 0.9636988987943261, 0.002554662323855713, 0.9937636439798724, 0.002554662323855713, 0.002554662323855713, 0.22135395511662048, 0.005465529755965938, 0.0792501814615061, 0.6941222790076741, 0.0017590950932827377, 0.0017590950932827377, 0.9956478227980295, 0.0017590950932827377, 0.9714829227952086, 0.00816372204029587, 0.01632744408059174, 0.00816372204029587, 0.9463472772203253, 0.00498077514326487, 0.00498077514326487, 0.044826976289383834, 0.008704250316044684, 0.008704250316044684, 0.008704250316044684, 0.9748760353970045, 0.1313954351469239, 0.8634557166797856, 0.003754155289912111, 0.003754155289912111, 0.8147914659726285, 0.06586637599179931, 0.0024394954071036783, 0.11465628413387287, 0.0046905593878337785, 0.9850174714450936, 0.0046905593878337785, 0.0046905593878337785, 0.0018111374094608788, 0.31513790924619295, 0.6809876659572904, 0.0018111374094608788, 0.2705509313111623, 0.00644168884074196, 0.7182483057427285, 0.00322084442037098, 0.9746578981399527, 0.010710526353186294, 0.010710526353186294, 0.005355263176593147, 0.006505525931298041, 0.013011051862596082, 0.9758288896947062, 0.006505525931298041, 0.1117248147236962, 0.37241604907898734, 0.33815377256372053, 0.177270039361598, 0.43093122727925476, 0.08365135588362005, 0.0025348895722309105, 0.481629018723873, 0.006956677048854122, 0.973934786839577, 0.006956677048854122, 0.006956677048854122, 0.7635014421276047, 0.001796473981476717, 0.001796473981476717, 0.2317451436104965, 0.00655499507960609, 0.00655499507960609, 0.00655499507960609, 0.9766942668613073, 0.008247397278824752, 0.9731928789013207, 0.008247397278824752, 0.008247397278824752, 0.0033371340548597984, 0.9077004629218651, 0.0033371340548597984, 0.08342835137149496, 0.010541632977210091, 0.010541632977210091, 0.010541632977210091, 0.9698302339033285, 0.008072623834331029, 0.008072623834331029, 0.032290495337324115, 0.9444969886167304, 0.018185388848708163, 0.006061796282902721, 0.9638256089815326, 0.012123592565805441, 0.0164197856652617, 0.00820989283263085, 0.00820989283263085, 0.976977247083071, 0.9900336472592954, 0.004975043453564299, 0.004975043453564299, 0.004975043453564299, 0.008419464698909394, 0.008419464698909394, 0.033677858795637575, 0.942980046277852, 0.732457997087619, 0.0012895387272669348, 0.10703171436315559, 0.15990280218109992, 0.6120624434692766, 0.0645246551850141, 0.17513834978789541, 0.1493284877138898, 0.8305620526323582, 0.003519330731493043, 0.003519330731493043, 0.16540854438017302, 0.0025338518029645977, 0.8539080575990695, 0.0025338518029645977, 0.1393618491630529, 0.003275634987689072, 0.7108127923285287, 0.26532643400281486, 0.019653809926134434, 0.5743500360406721, 0.002843317010102337, 0.4208109174951459, 0.002843317010102337, 0.00968504835979469, 0.00968504835979469, 0.9781898843392637, 0.00968504835979469, 0.9817149904681659, 0.008463060262656603, 0.008463060262656603, 0.008463060262656603, 0.6072438297435685, 0.18395916018702224, 0.001786011263951672, 0.20717730661839395, 0.5718903973679821, 0.08991987379999718, 0.33450193053598953, 0.0035967949519998873, 0.2782974209296322, 0.1800748017779973, 0.1173214617644528, 0.42563134965708455, 0.0046241930315446085, 0.1618467561040613, 0.0023120965157723042, 0.8300426491622572, 0.007963609756829696, 0.015927219513659392, 0.007963609756829696, 0.9715603903332228, 0.9803829300977226, 0.009162457290632921, 0.009162457290632921, 0.009162457290632921, 0.0030932499691360485, 0.0030932499691360485, 0.9929332400926716, 0.0030932499691360485, 0.9801979648256023, 0.0065346530988373485, 0.0065346530988373485, 0.0065346530988373485, 0.009649531638798156, 0.009649531638798156, 0.009649531638798156, 0.9649531638798157, 0.0027097405330179826, 0.9023435974949882, 0.0027097405330179826, 0.0921311781226114, 0.006090540210062935, 0.9866675140301955, 0.006090540210062935, 0.006090540210062935, 0.2108665002906566, 0.5399109293156372, 0.002317214288908314, 0.24562471462428132, 0.005792549512587444, 0.005792549512587444, 0.9847334171398654, 0.005792549512587444, 0.0070092351949100455, 0.0070092351949100455, 0.9812929272874064, 0.0070092351949100455, 0.990115858789234, 0.003837658367400132, 0.003837658367400132, 0.003837658367400132, 0.004033287082772052, 0.9881553352791528, 0.004033287082772052, 0.004033287082772052, 0.0025118009913304815, 0.0025118009913304815, 0.9921613915755401, 0.0025118009913304815, 0.00639673556089356, 0.01279347112178712, 0.9787005408167146, 0.00639673556089356, 0.002357285370925784, 0.9311277215156848, 0.002357285370925784, 0.06364670501499617, 0.009378790162721935, 0.009378790162721935, 0.9753941769230813, 0.009378790162721935, 0.0013277637667939086, 0.0013277637667939086, 0.0013277637667939086, 0.9958228250954314, 0.8156153612082415, 0.0017654012147364537, 0.0017654012147364537, 0.18007092390311827, 0.017688455571505547, 0.008844227785752773, 0.008844227785752773, 0.9640208286470523, 0.2904124115355053, 0.1756815822869106, 0.2671077118443845, 0.2653150426373752, 0.9803005883211485, 0.007370681115196606, 0.007370681115196606, 0.007370681115196606, 0.01697920811118573, 0.9734745983746484, 0.005659736037061909, 0.005659736037061909, 0.6192055171462869, 0.06787445091795836, 0.18099853578122233, 0.13217656231391892, 0.8522842575002625, 0.008877961015627734, 0.133169415234416, 0.004438980507813867, 0.0037034733150375513, 0.0037034733150375513, 0.0037034733150375513, 0.9888273751150262, 0.004456364360207638, 0.004456364360207638, 0.984856523605888, 0.004456364360207638, 0.006558202504157686, 0.006558202504157686, 0.983730375623653, 0.006558202504157686, 0.0029700613513737035, 0.7246949697351837, 0.1395928835145641, 0.13068269946044297, 0.007868141124417976, 0.007868141124417976, 0.007868141124417976, 0.9756494994278291, 0.01011233787788947, 0.01011233787788947, 0.01011233787788947, 0.9707844362773891, 0.9864916819664649, 0.005085008669930231, 0.005085008669930231, 0.005085008669930231, 0.4114023851115282, 0.25481942232667737, 0.19349605667329473, 0.1399125332868439, 0.008896716192821832, 0.008896716192821832, 0.9786387812104015, 0.008896716192821832, 0.004274211221178651, 0.9873427920922684, 0.004274211221178651, 0.004274211221178651, 0.7371018191229096, 0.003261512473995175, 0.003261512473995175, 0.25439797297162364, 0.003409226621414147, 0.9852664935886886, 0.003409226621414147, 0.006818453242828294, 0.15420532444286328, 0.17348098999822117, 0.05782699666607373, 0.6136086868455601, 0.9823783574282702, 0.007674830917408361, 0.007674830917408361, 0.007674830917408361, 0.1951992052595718, 0.14444741189208313, 0.007807968210382872, 0.6519653455669698, 0.009356290841476416, 0.9730542475135473, 0.009356290841476416, 0.009356290841476416, 0.007047053194089549, 0.04228231916453729, 0.021141159582268646, 0.9302110216198205, 0.9782213430141414, 0.00795301904889546, 0.00795301904889546, 0.00795301904889546, 0.9797283875023135, 0.007901035383083174, 0.007901035383083174, 0.007901035383083174, 0.7749659352158005, 0.00311231299283454, 0.2178619094984178, 0.00311231299283454, 0.9798875831735137, 0.006011580264868182, 0.012023160529736364, 0.006011580264868182, 0.00133414094913495, 0.6670704745674749, 0.32953281443633264, 0.00133414094913495, 0.0038311506154792324, 0.3179855010847763, 0.0038311506154792324, 0.6742825083243449, 0.003947958477806728, 0.21713771627937004, 0.7737998616501187, 0.003947958477806728, 0.006101680088574481, 0.006101680088574481, 0.9823704942604914, 0.006101680088574481, 0.00292046459590089, 0.2891259949941881, 0.7038319676121144, 0.00292046459590089, 0.007267247535270086, 0.007267247535270086, 0.9810784172614616, 0.007267247535270086, 0.005085330646599956, 0.9814688147937914, 0.005085330646599956, 0.005085330646599956, 0.004822544224373534, 0.9886215659965746, 0.004822544224373534, 0.004822544224373534, 0.004514971240863531, 0.004514971240863531, 0.9887787017491133, 0.004514971240863531, 0.00953842778609478, 0.01907685557218956, 0.01907685557218956, 0.9633812063955728, 0.984983822572326, 0.004104099260718024, 0.004104099260718024, 0.008208198521436049, 0.005041275993518312, 0.005041275993518312, 0.9880900947295892, 0.005041275993518312, 0.006763053793761977, 0.006763053793761977, 0.006763053793761977, 0.9806428000954867, 0.002843353483892774, 0.3383590645832401, 0.238841692646993, 0.42081631561613053, 0.008895289009379564, 0.008895289009379564, 0.008895289009379564, 0.978481791031752, 0.007859279692920197, 0.003929639846460099, 0.9824099616150247, 0.003929639846460099, 0.002883673519049886, 0.002883673519049886, 0.9919836905531608, 0.002883673519049886, 0.006816967481178909, 0.981643317289763, 0.006816967481178909, 0.006816967481178909, 0.9744260377071403, 0.00877861295231658, 0.00877861295231658, 0.00877861295231658, 0.29508456546965356, 0.005001433313044976, 0.005001433313044976, 0.6951992305132516, 0.09869194665305966, 0.7895355732244773, 0.001935136208883523, 0.1103027639063608, 0.008542116982600764, 0.008542116982600764, 0.9823434529990878, 0.008542116982600764, 0.9655375866580407, 0.007602658162661737, 0.015205316325323475, 0.015205316325323475, 0.006723760764246408, 0.006723760764246408, 0.006723760764246408, 0.9816690715799755, 0.016245868113718587, 0.008122934056859293, 0.9747520868231152, 0.008122934056859293, 0.006393741154375841, 0.9782423966195036, 0.006393741154375841, 0.006393741154375841, 0.004540504204200917, 0.06356705885881284, 0.8490742861855715, 0.0817290756756165, 0.9884962044862635, 0.004432718405767998, 0.004432718405767998, 0.004432718405767998, 0.9828107406520229, 0.007618687912031185, 0.007618687912031185, 0.007618687912031185, 0.008009282523485418, 0.008009282523485418, 0.977132467865221, 0.008009282523485418, 0.0023943304938758934, 0.0023943304938758934, 0.8164666984116796, 0.179574787040692, 0.005113482888071395, 0.005113482888071395, 0.005113482888071395, 0.9869021973977792, 0.2935508721799298, 0.47058928478328954, 0.2299986215018007, 0.006052595302678965, 0.739088955483661, 0.1234713313866822, 0.0017390328364321435, 0.1356445612417072, 0.005846968623651092, 0.005846968623651092, 0.005846968623651092, 0.9822907287733835, 0.023660095031699042, 0.7334629459826703, 0.23998096389294743, 0.003380013575957006, 0.15272233196412963, 0.023661206360639803, 0.262424288727096, 0.5592648776151226, 0.0076687603902770175, 0.0076687603902770175, 0.0076687603902770175, 0.9739325695651813, 0.9752465429076536, 0.006725838226949335, 0.006725838226949335, 0.006725838226949335, 0.008271952621006213, 0.008271952621006213, 0.008271952621006213, 0.976090409278733, 0.010576222799190368, 0.9730124975255139, 0.010576222799190368, 0.010576222799190368, 0.5599933094132448, 0.2099974910299668, 0.21559742412409924, 0.01399983273533112, 0.004281763324570181, 0.004281763324570181, 0.004281763324570181, 0.9848055646511414, 0.008387893791757105, 0.008387893791757105, 0.008387893791757105, 0.9729956798438241, 0.9798825163879272, 0.006999160831342338, 0.006999160831342338, 0.006999160831342338, 0.04851015172123709, 0.1663205201870986, 0.7114822252448108, 0.07392023119426605, 0.0077119791430054745, 0.0077119791430054745, 0.0077119791430054745, 0.9794213511616953, 0.8090034030738249, 0.0038523971574944047, 0.0038523971574944047, 0.18491506355973142, 0.3935480472991525, 0.02227630456410297, 0.003712717427350495, 0.5828966360940278, 0.9877012117723235, 0.003281399374658882, 0.003281399374658882, 0.003281399374658882, 0.9767125030708255, 0.01674364290978558, 0.00279060715163093, 0.00279060715163093, 0.01099428344774455, 0.01099428344774455, 0.01099428344774455, 0.9674969434015205, 0.012323184779761466, 0.006161592389880733, 0.006161592389880733, 0.9796931899910365, 0.009079833622412437, 0.9806220312205431, 0.009079833622412437, 0.009079833622412437, 0.005589138559819919, 0.005589138559819919, 0.9892775250881257, 0.005589138559819919, 0.008013653579966928, 0.9776657367559652, 0.008013653579966928, 0.008013653579966928, 0.23224879829014222, 0.19395245389123578, 0.3335488060549915, 0.23966099398025315, 0.1272053475469576, 0.6996294115082667, 0.17045516571292318, 0.0025441069509391516, 0.0038035019959601945, 0.0038035019959601945, 0.9889105189496505, 0.0038035019959601945, 0.009702118910613594, 0.009702118910613594, 0.009702118910613594, 0.9702118910613594, 0.980642685306709, 0.007845141482453672, 0.007845141482453672, 0.007845141482453672, 0.00703561443049746, 0.9779504058391468, 0.00703561443049746, 0.00703561443049746, 0.6135473255707637, 0.3803438172090255, 0.0027762322424016456, 0.0027762322424016456, 0.006753340549581734, 0.9792343796893516, 0.006753340549581734, 0.006753340549581734, 0.6287084135010892, 0.07315879720739947, 0.18289699301849865, 0.1165968330492929, 0.004639564879697203, 0.004639564879697203, 0.004639564879697203, 0.9882273193755041, 0.0030699178643573207, 0.0030699178643573207, 0.9240452771715536, 0.07060811088021837, 0.004098741888838306, 0.9836980533211935, 0.004098741888838306, 0.008197483777676613, 0.9903208490397025, 0.004161011970755053, 0.004161011970755053, 0.004161011970755053, 0.006124619275930998, 0.03674771565558599, 0.9493159877693047, 0.006124619275930998, 0.006261063659573275, 0.006261063659573275, 0.9829869945530042, 0.006261063659573275, 0.0035001384676190714, 0.8715344784371487, 0.0035001384676190714, 0.12250484636666749, 0.0025864940107975256, 0.6673154547857616, 0.3258982453604882, 0.0025864940107975256, 0.0032159718776059447, 0.0032159718776059447, 0.9937353101802369, 0.0032159718776059447, 0.17695687130346724, 0.6184900356237689, 0.2044453173311903, 0.0017180278767326917, 0.9801403458806757, 0.006951349970784934, 0.006951349970784934, 0.006951349970784934, 0.8768031545120071, 0.11739623826102187, 0.0036686324456569335, 0.0036686324456569335, 0.004378175323797642, 0.12258890906633398, 0.8712568894357308, 0.004378175323797642, 0.00411582775682752, 0.00411582775682752, 0.9877986616386047, 0.00411582775682752, 0.9892510384249468, 0.004282472027813622, 0.004282472027813622, 0.004282472027813622, 0.003976454924052965, 0.00795290984810593, 0.9861608211651353, 0.003976454924052965, 0.00693966797452979, 0.00693966797452979, 0.9784931844087005, 0.00693966797452979, 0.2264854876466352, 0.0094368953186098, 0.0031456317728699333, 0.7612428890345239, 0.763701639449735, 0.1618591534356155, 0.0022797063864171195, 0.07295060436534782, 0.3547864481244807, 0.17477164932240427, 0.2551666080107103, 0.21671684515978132, 0.9835899176868339, 0.005820058684537479, 0.005820058684537479, 0.005820058684537479], \"Term\": [\"abortion\", \"abortion\", \"abortion\", \"abortion\", \"abuse\", \"abuse\", \"abuse\", \"abuse\", \"accuse\", \"accuse\", \"accuse\", \"accuse\", \"act\", \"act\", \"act\", \"act\", \"afghan\", \"afghan\", \"afghan\", \"afghan\", \"age\", \"age\", \"age\", \"age\", \"aid\", \"aid\", \"aid\", \"aid\", \"answer\", \"answer\", \"answer\", \"answer\", \"art\", \"art\", \"art\", \"art\", \"attack\", \"attack\", \"attack\", \"attack\", \"bailout\", \"bailout\", \"bailout\", \"bailout\", \"baseball\", \"baseball\", \"baseball\", \"baseball\", \"begin\", \"begin\", \"begin\", \"begin\", \"big\", \"big\", \"big\", \"big\", \"bill\", \"bill\", \"bill\", \"bill\", \"bomb\", \"bomb\", \"bomb\", \"bomb\", \"bombing\", \"bombing\", \"bombing\", \"bombing\", \"border\", \"border\", \"border\", \"border\", \"brain\", \"brain\", \"brain\", \"brain\", \"bring\", \"bring\", \"bring\", \"bring\", \"budget\", \"budget\", \"budget\", \"budget\", \"buy\", \"buy\", \"buy\", \"buy\", \"call\", \"call\", \"call\", \"call\", \"campaign\", \"campaign\", \"campaign\", \"campaign\", \"cancer\", \"cancer\", \"cancer\", \"cancer\", \"candidate\", \"candidate\", \"candidate\", \"candidate\", \"case\", \"case\", \"case\", \"case\", \"celebrate\", \"celebrate\", \"celebrate\", \"celebrate\", \"challenge\", \"challenge\", \"challenge\", \"challenge\", \"change\", \"change\", \"change\", \"change\", \"charge\", \"charge\", \"charge\", \"charge\", \"chief\", \"chief\", \"chief\", \"chief\", \"chinese\", \"chinese\", \"chinese\", \"chinese\", \"college\", \"college\", \"college\", \"college\", \"community\", \"community\", \"community\", \"community\", \"company\", \"company\", \"company\", \"company\", \"concern\", \"concern\", \"concern\", \"concern\", \"consider\", \"consider\", \"consider\", \"consider\", \"court\", \"court\", \"court\", \"court\", \"crisis\", \"crisis\", \"crisis\", \"crisis\", \"critic\", \"critic\", \"critic\", \"critic\", \"deal\", \"deal\", \"deal\", \"deal\", \"death\", \"death\", \"death\", \"death\", \"debate\", \"debate\", \"debate\", \"debate\", \"different\", \"different\", \"different\", \"different\", \"doctor\", \"doctor\", \"doctor\", \"doctor\", \"dream\", \"dream\", \"dream\", \"dream\", \"economic\", \"economic\", \"economic\", \"economic\", \"economy\", \"economy\", \"economy\", \"economy\", \"effort\", \"effort\", \"effort\", \"effort\", \"election\", \"election\", \"election\", \"election\", \"end\", \"end\", \"end\", \"end\", \"energy\", \"energy\", \"energy\", \"energy\", \"expert\", \"expert\", \"expert\", \"expert\", \"face\", \"face\", \"face\", \"face\", \"family\", \"family\", \"family\", \"family\", \"financial\", \"financial\", \"financial\", \"financial\", \"find\", \"find\", \"find\", \"find\", \"firm\", \"firm\", \"firm\", \"firm\", \"flood\", \"flood\", \"flood\", \"flood\", \"force\", \"force\", \"force\", \"force\", \"foreclosure\", \"foreclosure\", \"foreclosure\", \"foreclosure\", \"fraud\", \"fraud\", \"fraud\", \"fraud\", \"free\", \"free\", \"free\", \"free\", \"friend\", \"friend\", \"friend\", \"friend\", \"game\", \"game\", \"game\", \"game\", \"gas\", \"gas\", \"gas\", \"gas\", \"get\", \"get\", \"get\", \"get\", \"go\", \"go\", \"go\", \"go\", \"good\", \"good\", \"good\", \"good\", \"government\", \"government\", \"government\", \"government\", \"group\", \"group\", \"group\", \"group\", \"health\", \"health\", \"health\", \"health\", \"hearing\", \"hearing\", \"hearing\", \"hearing\", \"heart\", \"heart\", \"heart\", \"heart\", \"help\", \"help\", \"help\", \"help\", \"high\", \"high\", \"high\", \"high\", \"hit\", \"hit\", \"hit\", \"hit\", \"home\", \"home\", \"home\", \"home\", \"housing\", \"housing\", \"housing\", \"housing\", \"human\", \"human\", \"human\", \"human\", \"immigration\", \"immigration\", \"immigration\", \"immigration\", \"insurance\", \"insurance\", \"insurance\", \"insurance\", \"investor\", \"investor\", \"investor\", \"investor\", \"iraqi\", \"iraqi\", \"iraqi\", \"iraqi\", \"israeli\", \"israeli\", \"israeli\", \"israeli\", \"job\", \"job\", \"job\", \"job\", \"judge\", \"judge\", \"judge\", \"judge\", \"justice\", \"justice\", \"justice\", \"justice\", \"kid\", \"kid\", \"kid\", \"kid\", \"kill\", \"kill\", \"kill\", \"kill\", \"law\", \"law\", \"law\", \"law\", \"lawmaker\", \"lawmaker\", \"lawmaker\", \"lawmaker\", \"leader\", \"leader\", \"leader\", \"leader\", \"legal\", \"legal\", \"legal\", \"legal\", \"letter\", \"letter\", \"letter\", \"letter\", \"life\", \"life\", \"life\", \"life\", \"link\", \"link\", \"link\", \"link\", \"look\", \"look\", \"look\", \"look\", \"love\", \"love\", \"love\", \"love\", \"low\", \"low\", \"low\", \"low\", \"make\", \"make\", \"make\", \"make\", \"many\", \"many\", \"many\", \"many\", \"market\", \"market\", \"market\", \"market\", \"mccain\", \"mccain\", \"mccain\", \"mccain\", \"medium\", \"medium\", \"medium\", \"medium\", \"military\", \"military\", \"military\", \"military\", \"miss\", \"miss\", \"miss\", \"miss\", \"murder\", \"murder\", \"murder\", \"murder\", \"music\", \"music\", \"music\", \"music\", \"new\", \"new\", \"new\", \"new\", \"nomination\", \"nomination\", \"nomination\", \"nomination\", \"nuclear\", \"nuclear\", \"nuclear\", \"nuclear\", \"offer\", \"offer\", \"offer\", \"offer\", \"official\", \"official\", \"official\", \"official\", \"oil\", \"oil\", \"oil\", \"oil\", \"olympic\", \"olympic\", \"olympic\", \"olympic\", \"open\", \"open\", \"open\", \"open\", \"opposition\", \"opposition\", \"opposition\", \"opposition\", \"panel\", \"panel\", \"panel\", \"panel\", \"parent\", \"parent\", \"parent\", \"parent\", \"patient\", \"patient\", \"patient\", \"patient\", \"pay\", \"pay\", \"pay\", \"pay\", \"pick\", \"pick\", \"pick\", \"pick\", \"plan\", \"plan\", \"plan\", \"plan\", \"police\", \"police\", \"police\", \"police\", \"policy\", \"policy\", \"policy\", \"policy\", \"politic\", \"politic\", \"politic\", \"politic\", \"political\", \"political\", \"political\", \"political\", \"poll\", \"poll\", \"poll\", \"poll\", \"post\", \"post\", \"post\", \"post\", \"president\", \"president\", \"president\", \"president\", \"presidential\", \"presidential\", \"presidential\", \"presidential\", \"press\", \"press\", \"press\", \"press\", \"price\", \"price\", \"price\", \"price\", \"primary\", \"primary\", \"primary\", \"primary\", \"prison\", \"prison\", \"prison\", \"prison\", \"protest\", \"protest\", \"protest\", \"protest\", \"protester\", \"protester\", \"protester\", \"protester\", \"put\", \"put\", \"put\", \"put\", \"race\", \"race\", \"race\", \"race\", \"reach\", \"reach\", \"reach\", \"reach\", \"real\", \"real\", \"real\", \"real\", \"remember\", \"remember\", \"remember\", \"remember\", \"report\", \"report\", \"report\", \"report\", \"republican\", \"republican\", \"republican\", \"republican\", \"research\", \"research\", \"research\", \"research\", \"resident\", \"resident\", \"resident\", \"resident\", \"result\", \"result\", \"result\", \"result\", \"review\", \"review\", \"review\", \"review\", \"right\", \"right\", \"right\", \"right\", \"risk\", \"risk\", \"risk\", \"risk\", \"road\", \"road\", \"road\", \"road\", \"romney\", \"romney\", \"romney\", \"romney\", \"rule\", \"rule\", \"rule\", \"rule\", \"sale\", \"sale\", \"sale\", \"sale\", \"say\", \"say\", \"say\", \"say\", \"school\", \"school\", \"school\", \"school\", \"search\", \"search\", \"search\", \"search\", \"security\", \"security\", \"security\", \"security\", \"seek\", \"seek\", \"seek\", \"seek\", \"sell\", \"sell\", \"sell\", \"sell\", \"service\", \"service\", \"service\", \"service\", \"share\", \"share\", \"share\", \"share\", \"shiite\", \"shiite\", \"shiite\", \"shiite\", \"show\", \"show\", \"show\", \"show\", \"soldier\", \"soldier\", \"soldier\", \"soldier\", \"sound\", \"sound\", \"sound\", \"sound\", \"star\", \"star\", \"star\", \"star\", \"state\", \"state\", \"state\", \"state\", \"stock\", \"stock\", \"stock\", \"stock\", \"story\", \"story\", \"story\", \"story\", \"struggle\", \"struggle\", \"struggle\", \"struggle\", \"student\", \"student\", \"student\", \"student\", \"study\", \"study\", \"study\", \"study\", \"suffer\", \"suffer\", \"suffer\", \"suffer\", \"summer\", \"summer\", \"summer\", \"summer\", \"summit\", \"summit\", \"summit\", \"summit\", \"supreme_court\", \"supreme_court\", \"supreme_court\", \"supreme_court\", \"syrian\", \"syrian\", \"syrian\", \"syrian\", \"take\", \"take\", \"take\", \"take\", \"talk\", \"talk\", \"talk\", \"talk\", \"tax\", \"tax\", \"tax\", \"tax\", \"teacher\", \"teacher\", \"teacher\", \"teacher\", \"tell\", \"tell\", \"tell\", \"tell\", \"tension\", \"tension\", \"tension\", \"tension\", \"test\", \"test\", \"test\", \"test\", \"threat\", \"threat\", \"threat\", \"threat\", \"time\", \"time\", \"time\", \"time\", \"town\", \"town\", \"town\", \"town\", \"trial\", \"trial\", \"trial\", \"trial\", \"troop\", \"troop\", \"troop\", \"troop\", \"tv\", \"tv\", \"tv\", \"tv\", \"urge\", \"urge\", \"urge\", \"urge\", \"view\", \"view\", \"view\", \"view\", \"violence\", \"violence\", \"violence\", \"violence\", \"vote\", \"vote\", \"vote\", \"vote\", \"voter\", \"voter\", \"voter\", \"voter\", \"war\", \"war\", \"war\", \"war\", \"watch\", \"watch\", \"watch\", \"watch\", \"way\", \"way\", \"way\", \"way\", \"week_politic\", \"week_politic\", \"week_politic\", \"week_politic\", \"weigh\", \"weigh\", \"weigh\", \"weigh\", \"well\", \"well\", \"well\", \"well\", \"white_house\", \"white_house\", \"white_house\", \"white_house\", \"word\", \"word\", \"word\", \"word\", \"worker\", \"worker\", \"worker\", \"worker\", \"world\", \"world\", \"world\", \"world\", \"year\", \"year\", \"year\", \"year\", \"young\", \"young\", \"young\", \"young\"]}, \"R\": 30, \"lambda.step\": 0.01, \"plot.opts\": {\"xlab\": \"PC1\", \"ylab\": \"PC2\"}, \"topic.order\": [2, 4, 3, 1]};\n",
       "\n",
       "function LDAvis_load_lib(url, callback){\n",
       "  var s = document.createElement('script');\n",
       "  s.src = url;\n",
       "  s.async = true;\n",
       "  s.onreadystatechange = s.onload = callback;\n",
       "  s.onerror = function(){console.warn(\"failed to load library \" + url);};\n",
       "  document.getElementsByTagName(\"head\")[0].appendChild(s);\n",
       "}\n",
       "\n",
       "if(typeof(LDAvis) !== \"undefined\"){\n",
       "   // already loaded: just create the visualization\n",
       "   !function(LDAvis){\n",
       "       new LDAvis(\"#\" + \"ldavis_el145241406039633832486508736403\", ldavis_el145241406039633832486508736403_data);\n",
       "   }(LDAvis);\n",
       "}else if(typeof define === \"function\" && define.amd){\n",
       "   // require.js is available: use it to load d3/LDAvis\n",
       "   require.config({paths: {d3: \"https://d3js.org/d3.v5\"}});\n",
       "   require([\"d3\"], function(d3){\n",
       "      window.d3 = d3;\n",
       "      LDAvis_load_lib(\"https://cdn.jsdelivr.net/gh/bmabey/pyLDAvis@3.3.1/pyLDAvis/js/ldavis.v3.0.0.js\", function(){\n",
       "        new LDAvis(\"#\" + \"ldavis_el145241406039633832486508736403\", ldavis_el145241406039633832486508736403_data);\n",
       "      });\n",
       "    });\n",
       "}else{\n",
       "    // require.js not available: dynamically load d3 & LDAvis\n",
       "    LDAvis_load_lib(\"https://d3js.org/d3.v5.js\", function(){\n",
       "         LDAvis_load_lib(\"https://cdn.jsdelivr.net/gh/bmabey/pyLDAvis@3.3.1/pyLDAvis/js/ldavis.v3.0.0.js\", function(){\n",
       "                 new LDAvis(\"#\" + \"ldavis_el145241406039633832486508736403\", ldavis_el145241406039633832486508736403_data);\n",
       "            })\n",
       "         });\n",
       "}\n",
       "</script>"
      ],
      "text/plain": [
       "PreparedData(topic_coordinates=              x         y  topics  cluster       Freq\n",
       "topic                                                \n",
       "1      0.144896 -0.047445       1        1  29.590492\n",
       "3     -0.109620  0.146718       2        1  25.161120\n",
       "2     -0.126823 -0.146750       3        1  22.993201\n",
       "0      0.091548  0.047477       4        1  22.255187, topic_info=         Term        Freq        Total Category  logprob  loglift\n",
       "113    letter  753.000000   753.000000  Default  30.0000  30.0000\n",
       "1098   debate  568.000000   568.000000  Default  29.0000  29.0000\n",
       "510     court  417.000000   417.000000  Default  28.0000  28.0000\n",
       "648       law  398.000000   398.000000  Default  27.0000  27.0000\n",
       "418      plan  749.000000   749.000000  Default  26.0000  26.0000\n",
       "...       ...         ...          ...      ...      ...      ...\n",
       "200       new  235.064192  1679.620792   Topic4  -5.5340  -0.4639\n",
       "731      take  194.057365   809.476740   Topic4  -5.7257   0.0744\n",
       "732       hit  155.823818   366.514356   Topic4  -5.9451   0.6473\n",
       "256   protest  147.878149   351.697390   Topic4  -5.9974   0.6362\n",
       "126      look  148.075094   557.827398   Topic4  -5.9961   0.1763\n",
       "\n",
       "[246 rows x 6 columns], token_table=      Topic      Freq      Term\n",
       "term                           \n",
       "499       1  0.008071  abortion\n",
       "499       2  0.008071  abortion\n",
       "499       3  0.976546  abortion\n",
       "499       4  0.008071  abortion\n",
       "105       1  0.009242     abuse\n",
       "...     ...       ...       ...\n",
       "26        4  0.216717      year\n",
       "1304      1  0.983590     young\n",
       "1304      2  0.005820     young\n",
       "1304      3  0.005820     young\n",
       "1304      4  0.005820     young\n",
       "\n",
       "[840 rows x 3 columns], R=30, lambda_step=0.01, plot_opts={'xlab': 'PC1', 'ylab': 'PC2'}, topic_order=[2, 4, 3, 1])"
      ]
     },
     "execution_count": 75,
     "metadata": {},
     "output_type": "execute_result"
    }
   ],
   "source": [
    "import pyLDAvis.gensim_models as gensimvis\n",
    "import pickle \n",
    "import pyLDAvis\n",
    "# Visualize the topics\n",
    "pyLDAvis.enable_notebook()\n",
    "LDAvis_prepared = gensimvis.prepare(lda_model, corpus, id2word)\n",
    "LDAvis_prepared"
   ]
  },
  {
   "cell_type": "code",
   "execution_count": 78,
   "id": "391d04ff",
   "metadata": {
    "scrolled": true
   },
   "outputs": [
    {
     "name": "stderr",
     "output_type": "stream",
     "text": [
      "/usr/local/anaconda3/lib/python3.8/site-packages/ipykernel/ipkernel.py:287: DeprecationWarning: `should_run_async` will not call `transform_cell` automatically in the future. Please pass the result to `transformed_cell` argument and any exception that happen during thetransform in `preprocessing_exc_tuple` in IPython 7.17 and above.\n",
      "  and should_run_async(code)\n"
     ]
    }
   ],
   "source": [
    "pyLDAvis.save_html(LDAvis_prepared, \"LDAvis_prepared.html\")"
   ]
  },
  {
   "cell_type": "code",
   "execution_count": null,
   "id": "bf36b4a1",
   "metadata": {
    "scrolled": true
   },
   "outputs": [],
   "source": [
    "eval_df = pd.read_csv(\"lda_tuning_results.csv\")\n",
    "eval_df"
   ]
  },
  {
   "cell_type": "code",
   "execution_count": null,
   "id": "459b3069",
   "metadata": {},
   "outputs": [],
   "source": [
    "import seaborn as sns\n",
    "sns.lineplot(data= eval_df,x=\"Topics\",y='Coherence')"
   ]
  },
  {
   "cell_type": "code",
   "execution_count": null,
   "id": "3b34a553",
   "metadata": {},
   "outputs": [],
   "source": [
    "eval_df[eval_df.Topics == 8].groupby(by='Alpha').Coherence.max()"
   ]
  },
  {
   "cell_type": "markdown",
   "id": "7f6107cf",
   "metadata": {},
   "source": [
    "## These were the results as run on the TITLES, not on the stories themselves"
   ]
  },
  {
   "cell_type": "code",
   "execution_count": null,
   "id": "8fedcb66",
   "metadata": {},
   "outputs": [],
   "source": []
  }
 ],
 "metadata": {
  "kernelspec": {
   "display_name": "Python 3",
   "language": "python",
   "name": "python3"
  },
  "language_info": {
   "codemirror_mode": {
    "name": "ipython",
    "version": 3
   },
   "file_extension": ".py",
   "mimetype": "text/x-python",
   "name": "python",
   "nbconvert_exporter": "python",
   "pygments_lexer": "ipython3",
   "version": "3.8.8"
  }
 },
 "nbformat": 4,
 "nbformat_minor": 5
}
