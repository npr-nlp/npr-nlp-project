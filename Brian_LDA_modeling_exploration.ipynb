{
 "cells": [
  {
   "cell_type": "code",
   "execution_count": 1,
   "id": "cb0e0d55",
   "metadata": {},
   "outputs": [],
   "source": [
    "# Import all the things\n",
    "\n",
    "import json\n",
    "import pandas as pd\n",
    "import numpy as np\n",
    "import wrangle\n",
    "import acquire\n",
    "from prepare import basic_clean, tokenize, lemmatize, stem, remove_stopwords, prep_string_data#, split_data\n",
    "\n",
    "import re\n",
    "from sklearn.feature_extraction.text import TfidfVectorizer\n",
    "\n",
    "from wordcloud import WordCloud\n",
    "from matplotlib import pyplot as plt\n",
    "import seaborn as sns\n",
    "\n",
    "from sklearn.model_selection import train_test_split\n",
    "from sklearn.linear_model import LogisticRegression\n",
    "from sklearn.metrics import classification_report, accuracy_score\n",
    "\n",
    "import nltk\n",
    "\n",
    "from scipy import stats\n",
    "\n",
    "import warnings\n",
    "warnings.filterwarnings(\"ignore\")"
   ]
  },
  {
   "cell_type": "code",
   "execution_count": 2,
   "id": "365b1883",
   "metadata": {},
   "outputs": [],
   "source": [
    "# use our own wrangle to get the data\n",
    "# df = wrangle.get_npr_data()\n",
    "# df.head()"
   ]
  },
  {
   "cell_type": "markdown",
   "id": "892ef9d3",
   "metadata": {},
   "source": [
    "### I'm interested in topic modeling on a story-level basis\n",
    "### So I will need to groupby story_id_num"
   ]
  },
  {
   "cell_type": "code",
   "execution_count": 3,
   "id": "e0cf495e",
   "metadata": {
    "scrolled": true
   },
   "outputs": [],
   "source": [
    "# df = df.sort_values(by=['story_id_num','utterance_order'])\n",
    "# df.head()"
   ]
  },
  {
   "cell_type": "code",
   "execution_count": 4,
   "id": "7d215116",
   "metadata": {},
   "outputs": [],
   "source": [
    "# df = df[['story_id_num','utterance_order','title','lemmatized']]"
   ]
  },
  {
   "cell_type": "code",
   "execution_count": 5,
   "id": "ddd4d712",
   "metadata": {},
   "outputs": [],
   "source": [
    "# df_sample = df[:100]\n",
    "# df_sample"
   ]
  },
  {
   "cell_type": "code",
   "execution_count": 6,
   "id": "d5517083",
   "metadata": {
    "scrolled": true
   },
   "outputs": [],
   "source": [
    "# df_sample.shape"
   ]
  },
  {
   "cell_type": "code",
   "execution_count": 7,
   "id": "e3e1b83d",
   "metadata": {
    "scrolled": true
   },
   "outputs": [],
   "source": [
    "# pd.DataFrame(df_sample.groupby('title').apply(list).reset_index())"
   ]
  },
  {
   "cell_type": "code",
   "execution_count": 8,
   "id": "d6510834",
   "metadata": {},
   "outputs": [],
   "source": [
    "# df_sample.groupby(['story_id_num']).title.first()"
   ]
  },
  {
   "cell_type": "code",
   "execution_count": 9,
   "id": "69a9d3cf",
   "metadata": {},
   "outputs": [],
   "source": [
    "# # group every story as an aggregation of all its utterances\n",
    "# df_sample.groupby(['story_id_num']).lemmatized.agg(' '.join)#.iloc[0]"
   ]
  },
  {
   "cell_type": "code",
   "execution_count": 10,
   "id": "2ce18eb1",
   "metadata": {},
   "outputs": [],
   "source": [
    "# # group every story as an aggregation of all its utterances and store in a DF\n",
    "# stories_test = pd.DataFrame(df_sample.groupby(['story_id_num']).lemmatized.agg(' '.join))\n",
    "# stories_test"
   ]
  },
  {
   "cell_type": "code",
   "execution_count": 11,
   "id": "fe331e27",
   "metadata": {},
   "outputs": [],
   "source": [
    "# stories.iloc[0].values"
   ]
  },
  {
   "cell_type": "markdown",
   "id": "68931099",
   "metadata": {},
   "source": [
    "### Run the above on the whole df"
   ]
  },
  {
   "cell_type": "code",
   "execution_count": 12,
   "id": "ae116654",
   "metadata": {},
   "outputs": [],
   "source": [
    "# df = df.sort_values(by=['story_id_num','utterance_order'])\n",
    "# df.head()"
   ]
  },
  {
   "cell_type": "code",
   "execution_count": 13,
   "id": "d50ef53b",
   "metadata": {
    "scrolled": true
   },
   "outputs": [],
   "source": [
    "# df.dtypes"
   ]
  },
  {
   "cell_type": "code",
   "execution_count": 14,
   "id": "bc48e435",
   "metadata": {},
   "outputs": [],
   "source": [
    "# df.isna().sum()"
   ]
  },
  {
   "cell_type": "code",
   "execution_count": 15,
   "id": "c48a30ca",
   "metadata": {},
   "outputs": [],
   "source": [
    "# df = df.dropna()"
   ]
  },
  {
   "cell_type": "markdown",
   "id": "6afe59d5",
   "metadata": {},
   "source": [
    "#### well...it worked on the sample above\n",
    "#### had to drop 2 nulls that existed in the lemmatized column"
   ]
  },
  {
   "cell_type": "code",
   "execution_count": 16,
   "id": "37b7c426",
   "metadata": {},
   "outputs": [],
   "source": [
    "# # group every story as an aggregation of all its utterances and store in a DF\n",
    "# stories = pd.DataFrame(df.groupby(['story_id_num']).lemmatized.agg(' '.join))\n",
    "# stories"
   ]
  },
  {
   "cell_type": "markdown",
   "id": "3ff7768b",
   "metadata": {},
   "source": [
    "-  61,165 stories to work with here"
   ]
  },
  {
   "cell_type": "code",
   "execution_count": 17,
   "id": "b7d9290f",
   "metadata": {},
   "outputs": [],
   "source": [
    "# this attempt to get the word count for every story isn't working currently\n",
    "# stories['word_count'] = df.lemmatized.apply(str.split).apply(len)\n",
    "# stories.head()"
   ]
  },
  {
   "cell_type": "code",
   "execution_count": 18,
   "id": "99f31e49",
   "metadata": {},
   "outputs": [],
   "source": [
    "# sia = nltk.sentiment.SentimentIntensityAnalyzer()\n",
    "# stories['vader'] = stories.lemmatized.apply(lambda doc: sia.polarity_scores(doc)['compound'])\n",
    "# stories.head()"
   ]
  },
  {
   "cell_type": "code",
   "execution_count": 19,
   "id": "be6abbae",
   "metadata": {},
   "outputs": [],
   "source": [
    "# stories.to_csv('stories.csv')"
   ]
  },
  {
   "cell_type": "code",
   "execution_count": 20,
   "id": "f7c86142",
   "metadata": {},
   "outputs": [
    {
     "data": {
      "text/html": [
       "<div>\n",
       "<style scoped>\n",
       "    .dataframe tbody tr th:only-of-type {\n",
       "        vertical-align: middle;\n",
       "    }\n",
       "\n",
       "    .dataframe tbody tr th {\n",
       "        vertical-align: top;\n",
       "    }\n",
       "\n",
       "    .dataframe thead th {\n",
       "        text-align: right;\n",
       "    }\n",
       "</style>\n",
       "<table border=\"1\" class=\"dataframe\">\n",
       "  <thead>\n",
       "    <tr style=\"text-align: right;\">\n",
       "      <th></th>\n",
       "      <th>Unnamed: 0</th>\n",
       "      <th>story_id_num</th>\n",
       "      <th>lemmatized</th>\n",
       "      <th>vader</th>\n",
       "      <th>title</th>\n",
       "      <th>date</th>\n",
       "      <th>host</th>\n",
       "      <th>program</th>\n",
       "    </tr>\n",
       "  </thead>\n",
       "  <tbody>\n",
       "    <tr>\n",
       "      <th>0</th>\n",
       "      <td>0</td>\n",
       "      <td>17</td>\n",
       "      <td>he is in cahoot with a foreign government to m...</td>\n",
       "      <td>0.9964</td>\n",
       "      <td>n.j. democrat on reported whistleblower compla...</td>\n",
       "      <td>2019-09-22</td>\n",
       "      <td>melissa block</td>\n",
       "      <td>weekend edition sunday</td>\n",
       "    </tr>\n",
       "    <tr>\n",
       "      <th>1</th>\n",
       "      <td>1</td>\n",
       "      <td>18</td>\n",
       "      <td>come with concrete plan , not beautiful speech...</td>\n",
       "      <td>0.9993</td>\n",
       "      <td>ahead of climate summit, 2 views from cities i...</td>\n",
       "      <td>2019-09-22</td>\n",
       "      <td>melissa block</td>\n",
       "      <td>weekend edition sunday</td>\n",
       "    </tr>\n",
       "    <tr>\n",
       "      <th>2</th>\n",
       "      <td>2</td>\n",
       "      <td>19</td>\n",
       "      <td>if you stand outside the old dekalb county cou...</td>\n",
       "      <td>0.9974</td>\n",
       "      <td>barred from removing confederate monument, cou...</td>\n",
       "      <td>2019-09-22</td>\n",
       "      <td>melissa block</td>\n",
       "      <td>weekend edition sunday</td>\n",
       "    </tr>\n",
       "    <tr>\n",
       "      <th>3</th>\n",
       "      <td>3</td>\n",
       "      <td>20</td>\n",
       "      <td>you may have spotted pink salt in your superma...</td>\n",
       "      <td>0.4950</td>\n",
       "      <td>pakistan's pink himalayan salt has become a ma...</td>\n",
       "      <td>2019-09-22</td>\n",
       "      <td>melissa block</td>\n",
       "      <td>weekend edition sunday</td>\n",
       "    </tr>\n",
       "    <tr>\n",
       "      <th>4</th>\n",
       "      <td>4</td>\n",
       "      <td>21</td>\n",
       "      <td>singing in foreign language . the other day , ...</td>\n",
       "      <td>0.9730</td>\n",
       "      <td>10 years after haiti's earthquake, 'this music...</td>\n",
       "      <td>2019-09-22</td>\n",
       "      <td>melissa block</td>\n",
       "      <td>weekend edition sunday</td>\n",
       "    </tr>\n",
       "  </tbody>\n",
       "</table>\n",
       "</div>"
      ],
      "text/plain": [
       "   Unnamed: 0  story_id_num  \\\n",
       "0           0            17   \n",
       "1           1            18   \n",
       "2           2            19   \n",
       "3           3            20   \n",
       "4           4            21   \n",
       "\n",
       "                                          lemmatized   vader  \\\n",
       "0  he is in cahoot with a foreign government to m...  0.9964   \n",
       "1  come with concrete plan , not beautiful speech...  0.9993   \n",
       "2  if you stand outside the old dekalb county cou...  0.9974   \n",
       "3  you may have spotted pink salt in your superma...  0.4950   \n",
       "4  singing in foreign language . the other day , ...  0.9730   \n",
       "\n",
       "                                               title        date  \\\n",
       "0  n.j. democrat on reported whistleblower compla...  2019-09-22   \n",
       "1  ahead of climate summit, 2 views from cities i...  2019-09-22   \n",
       "2  barred from removing confederate monument, cou...  2019-09-22   \n",
       "3  pakistan's pink himalayan salt has become a ma...  2019-09-22   \n",
       "4  10 years after haiti's earthquake, 'this music...  2019-09-22   \n",
       "\n",
       "            host                 program  \n",
       "0  melissa block  weekend edition sunday  \n",
       "1  melissa block  weekend edition sunday  \n",
       "2  melissa block  weekend edition sunday  \n",
       "3  melissa block  weekend edition sunday  \n",
       "4  melissa block  weekend edition sunday  "
      ]
     },
     "execution_count": 20,
     "metadata": {},
     "output_type": "execute_result"
    }
   ],
   "source": [
    "stories = pd.read_csv('stories.csv')\n",
    "stories.head()"
   ]
  },
  {
   "cell_type": "code",
   "execution_count": 21,
   "id": "91333286",
   "metadata": {},
   "outputs": [],
   "source": [
    "stories = stories.drop(columns = ['Unnamed: 0'])"
   ]
  },
  {
   "cell_type": "code",
   "execution_count": 22,
   "id": "ec034411",
   "metadata": {
    "scrolled": true
   },
   "outputs": [
    {
     "data": {
      "text/plain": [
       "(61165, 7)"
      ]
     },
     "execution_count": 22,
     "metadata": {},
     "output_type": "execute_result"
    }
   ],
   "source": [
    "stories.shape"
   ]
  },
  {
   "cell_type": "code",
   "execution_count": 23,
   "id": "cd509f79",
   "metadata": {},
   "outputs": [],
   "source": [
    "# len(df.groupby(['story_id_num']).title.first())"
   ]
  },
  {
   "cell_type": "code",
   "execution_count": 24,
   "id": "9e30a1b0",
   "metadata": {},
   "outputs": [],
   "source": [
    "# stories['title'] = df.groupby(['story_id_num']).title.first().tolist()"
   ]
  },
  {
   "cell_type": "code",
   "execution_count": 199,
   "id": "6f17ac3e",
   "metadata": {
    "scrolled": false
   },
   "outputs": [
    {
     "data": {
      "text/html": [
       "<div>\n",
       "<style scoped>\n",
       "    .dataframe tbody tr th:only-of-type {\n",
       "        vertical-align: middle;\n",
       "    }\n",
       "\n",
       "    .dataframe tbody tr th {\n",
       "        vertical-align: top;\n",
       "    }\n",
       "\n",
       "    .dataframe thead th {\n",
       "        text-align: right;\n",
       "    }\n",
       "</style>\n",
       "<table border=\"1\" class=\"dataframe\">\n",
       "  <thead>\n",
       "    <tr style=\"text-align: right;\">\n",
       "      <th></th>\n",
       "      <th>story_id_num</th>\n",
       "      <th>lemmatized</th>\n",
       "      <th>vader</th>\n",
       "      <th>title</th>\n",
       "      <th>date</th>\n",
       "      <th>host</th>\n",
       "      <th>program</th>\n",
       "    </tr>\n",
       "  </thead>\n",
       "  <tbody>\n",
       "    <tr>\n",
       "      <th>0</th>\n",
       "      <td>17</td>\n",
       "      <td>he is in cahoot with a foreign government to m...</td>\n",
       "      <td>0.9964</td>\n",
       "      <td>n.j. democrat on reported whistleblower compla...</td>\n",
       "      <td>2019-09-22</td>\n",
       "      <td>melissa block</td>\n",
       "      <td>weekend edition sunday</td>\n",
       "    </tr>\n",
       "    <tr>\n",
       "      <th>1</th>\n",
       "      <td>18</td>\n",
       "      <td>come with concrete plan , not beautiful speech...</td>\n",
       "      <td>0.9993</td>\n",
       "      <td>ahead of climate summit, 2 views from cities i...</td>\n",
       "      <td>2019-09-22</td>\n",
       "      <td>melissa block</td>\n",
       "      <td>weekend edition sunday</td>\n",
       "    </tr>\n",
       "    <tr>\n",
       "      <th>2</th>\n",
       "      <td>19</td>\n",
       "      <td>if you stand outside the old dekalb county cou...</td>\n",
       "      <td>0.9974</td>\n",
       "      <td>barred from removing confederate monument, cou...</td>\n",
       "      <td>2019-09-22</td>\n",
       "      <td>melissa block</td>\n",
       "      <td>weekend edition sunday</td>\n",
       "    </tr>\n",
       "    <tr>\n",
       "      <th>3</th>\n",
       "      <td>20</td>\n",
       "      <td>you may have spotted pink salt in your superma...</td>\n",
       "      <td>0.4950</td>\n",
       "      <td>pakistan's pink himalayan salt has become a ma...</td>\n",
       "      <td>2019-09-22</td>\n",
       "      <td>melissa block</td>\n",
       "      <td>weekend edition sunday</td>\n",
       "    </tr>\n",
       "    <tr>\n",
       "      <th>4</th>\n",
       "      <td>21</td>\n",
       "      <td>singing in foreign language . the other day , ...</td>\n",
       "      <td>0.9730</td>\n",
       "      <td>10 years after haiti's earthquake, 'this music...</td>\n",
       "      <td>2019-09-22</td>\n",
       "      <td>unidentified singers</td>\n",
       "      <td>weekend edition sunday</td>\n",
       "    </tr>\n",
       "  </tbody>\n",
       "</table>\n",
       "</div>"
      ],
      "text/plain": [
       "   story_id_num                                         lemmatized   vader  \\\n",
       "0            17  he is in cahoot with a foreign government to m...  0.9964   \n",
       "1            18  come with concrete plan , not beautiful speech...  0.9993   \n",
       "2            19  if you stand outside the old dekalb county cou...  0.9974   \n",
       "3            20  you may have spotted pink salt in your superma...  0.4950   \n",
       "4            21  singing in foreign language . the other day , ...  0.9730   \n",
       "\n",
       "                                               title        date  \\\n",
       "0  n.j. democrat on reported whistleblower compla...  2019-09-22   \n",
       "1  ahead of climate summit, 2 views from cities i...  2019-09-22   \n",
       "2  barred from removing confederate monument, cou...  2019-09-22   \n",
       "3  pakistan's pink himalayan salt has become a ma...  2019-09-22   \n",
       "4  10 years after haiti's earthquake, 'this music...  2019-09-22   \n",
       "\n",
       "                   host                 program  \n",
       "0         melissa block  weekend edition sunday  \n",
       "1         melissa block  weekend edition sunday  \n",
       "2         melissa block  weekend edition sunday  \n",
       "3         melissa block  weekend edition sunday  \n",
       "4  unidentified singers  weekend edition sunday  "
      ]
     },
     "execution_count": 199,
     "metadata": {},
     "output_type": "execute_result"
    }
   ],
   "source": [
    "stories.head()"
   ]
  },
  {
   "cell_type": "code",
   "execution_count": 25,
   "id": "3fff5378",
   "metadata": {},
   "outputs": [],
   "source": [
    "# stories['host'] = test[test.is_host==True].groupby('story_id_num').speaker.first().tolist()"
   ]
  },
  {
   "cell_type": "code",
   "execution_count": 272,
   "id": "2238e753",
   "metadata": {},
   "outputs": [],
   "source": [
    "# test = df.sort_values(by=['story_id_num'])"
   ]
  },
  {
   "cell_type": "code",
   "execution_count": 286,
   "id": "4f38e3ec",
   "metadata": {
    "scrolled": true
   },
   "outputs": [
    {
     "data": {
      "text/plain": [
       "story_id_num\n",
       "17        melissa block\n",
       "18        melissa block\n",
       "19        melissa block\n",
       "20        melissa block\n",
       "21        melissa block\n",
       "              ...      \n",
       "140737    melissa block\n",
       "140738    melissa block\n",
       "140739    robert siegel\n",
       "140740    robert siegel\n",
       "140741    melissa block\n",
       "Name: speaker, Length: 61165, dtype: object"
      ]
     },
     "execution_count": 286,
     "metadata": {},
     "output_type": "execute_result"
    }
   ],
   "source": [
    "# test[test.is_host==True].groupby('story_id_num').speaker.first()"
   ]
  },
  {
   "cell_type": "code",
   "execution_count": 238,
   "id": "186d7d0d",
   "metadata": {},
   "outputs": [
    {
     "data": {
      "text/html": [
       "<div>\n",
       "<style scoped>\n",
       "    .dataframe tbody tr th:only-of-type {\n",
       "        vertical-align: middle;\n",
       "    }\n",
       "\n",
       "    .dataframe tbody tr th {\n",
       "        vertical-align: top;\n",
       "    }\n",
       "\n",
       "    .dataframe thead th {\n",
       "        text-align: right;\n",
       "    }\n",
       "</style>\n",
       "<table border=\"1\" class=\"dataframe\">\n",
       "  <thead>\n",
       "    <tr style=\"text-align: right;\">\n",
       "      <th></th>\n",
       "      <th>story_id_num</th>\n",
       "      <th>utterance_order</th>\n",
       "      <th>speaker</th>\n",
       "      <th>utterance</th>\n",
       "      <th>program</th>\n",
       "      <th>title</th>\n",
       "      <th>is_host</th>\n",
       "      <th>clean</th>\n",
       "      <th>lemmatized</th>\n",
       "      <th>vader</th>\n",
       "      <th>date</th>\n",
       "    </tr>\n",
       "  </thead>\n",
       "  <tbody>\n",
       "    <tr>\n",
       "      <th>0</th>\n",
       "      <td>57264</td>\n",
       "      <td>9</td>\n",
       "      <td>ms. loren mooney</td>\n",
       "      <td>It's a 2,200-mile race. To give some sense of ...</td>\n",
       "      <td>talk of the nation</td>\n",
       "      <td>how to watch the tour de france</td>\n",
       "      <td>False</td>\n",
       "      <td>it s a 2,200 mile race. to give some sense of ...</td>\n",
       "      <td>it s a 2,200 mile race. to give some sense of ...</td>\n",
       "      <td>0.0000</td>\n",
       "      <td>2010-07-12</td>\n",
       "    </tr>\n",
       "    <tr>\n",
       "      <th>1</th>\n",
       "      <td>57264</td>\n",
       "      <td>10</td>\n",
       "      <td>ms. loren mooney</td>\n",
       "      <td>So for a top competitor like Lance to try to m...</td>\n",
       "      <td>talk of the nation</td>\n",
       "      <td>how to watch the tour de france</td>\n",
       "      <td>False</td>\n",
       "      <td>so for a top competitor like lance to try to m...</td>\n",
       "      <td>so for a top competitor like lance to try to m...</td>\n",
       "      <td>0.9346</td>\n",
       "      <td>2010-07-12</td>\n",
       "    </tr>\n",
       "    <tr>\n",
       "      <th>2</th>\n",
       "      <td>57264</td>\n",
       "      <td>11</td>\n",
       "      <td>neal conan</td>\n",
       "      <td>So in every team, presumably there's one star,...</td>\n",
       "      <td>talk of the nation</td>\n",
       "      <td>how to watch the tour de france</td>\n",
       "      <td>True</td>\n",
       "      <td>so in every team , presumably there s one star...</td>\n",
       "      <td>so in every team , presumably there s one star...</td>\n",
       "      <td>0.7096</td>\n",
       "      <td>2010-07-12</td>\n",
       "    </tr>\n",
       "    <tr>\n",
       "      <th>3</th>\n",
       "      <td>57264</td>\n",
       "      <td>12</td>\n",
       "      <td>ms. loren mooney</td>\n",
       "      <td>That's right. Each team has nine riders. And w...</td>\n",
       "      <td>talk of the nation</td>\n",
       "      <td>how to watch the tour de france</td>\n",
       "      <td>False</td>\n",
       "      <td>that s right. each team has nine riders. and w...</td>\n",
       "      <td>that s right. each team ha nine riders. and wh...</td>\n",
       "      <td>0.9274</td>\n",
       "      <td>2010-07-12</td>\n",
       "    </tr>\n",
       "    <tr>\n",
       "      <th>4</th>\n",
       "      <td>57264</td>\n",
       "      <td>13</td>\n",
       "      <td>neal conan</td>\n",
       "      <td>So slipstream, this is like drafting in car ra...</td>\n",
       "      <td>talk of the nation</td>\n",
       "      <td>how to watch the tour de france</td>\n",
       "      <td>True</td>\n",
       "      <td>so slipstream , this is like drafting in car r...</td>\n",
       "      <td>so slipstream , this is like drafting in car r...</td>\n",
       "      <td>0.3612</td>\n",
       "      <td>2010-07-12</td>\n",
       "    </tr>\n",
       "  </tbody>\n",
       "</table>\n",
       "</div>"
      ],
      "text/plain": [
       "   story_id_num  utterance_order           speaker  \\\n",
       "0         57264                9  ms. loren mooney   \n",
       "1         57264               10  ms. loren mooney   \n",
       "2         57264               11        neal conan   \n",
       "3         57264               12  ms. loren mooney   \n",
       "4         57264               13        neal conan   \n",
       "\n",
       "                                           utterance             program  \\\n",
       "0  It's a 2,200-mile race. To give some sense of ...  talk of the nation   \n",
       "1  So for a top competitor like Lance to try to m...  talk of the nation   \n",
       "2  So in every team, presumably there's one star,...  talk of the nation   \n",
       "3  That's right. Each team has nine riders. And w...  talk of the nation   \n",
       "4  So slipstream, this is like drafting in car ra...  talk of the nation   \n",
       "\n",
       "                             title  is_host  \\\n",
       "0  how to watch the tour de france    False   \n",
       "1  how to watch the tour de france    False   \n",
       "2  how to watch the tour de france     True   \n",
       "3  how to watch the tour de france    False   \n",
       "4  how to watch the tour de france     True   \n",
       "\n",
       "                                               clean  \\\n",
       "0  it s a 2,200 mile race. to give some sense of ...   \n",
       "1  so for a top competitor like lance to try to m...   \n",
       "2  so in every team , presumably there s one star...   \n",
       "3  that s right. each team has nine riders. and w...   \n",
       "4  so slipstream , this is like drafting in car r...   \n",
       "\n",
       "                                          lemmatized   vader        date  \n",
       "0  it s a 2,200 mile race. to give some sense of ...  0.0000  2010-07-12  \n",
       "1  so for a top competitor like lance to try to m...  0.9346  2010-07-12  \n",
       "2  so in every team , presumably there s one star...  0.7096  2010-07-12  \n",
       "3  that s right. each team ha nine riders. and wh...  0.9274  2010-07-12  \n",
       "4  so slipstream , this is like drafting in car r...  0.3612  2010-07-12  "
      ]
     },
     "execution_count": 238,
     "metadata": {},
     "output_type": "execute_result"
    }
   ],
   "source": [
    "df.head()"
   ]
  },
  {
   "cell_type": "code",
   "execution_count": 26,
   "id": "42141993",
   "metadata": {},
   "outputs": [],
   "source": [
    "# stories['program'] = df.groupby(['story_id_num']).program.first().tolist()"
   ]
  },
  {
   "cell_type": "code",
   "execution_count": 27,
   "id": "8402214b",
   "metadata": {},
   "outputs": [
    {
     "data": {
      "text/html": [
       "<div>\n",
       "<style scoped>\n",
       "    .dataframe tbody tr th:only-of-type {\n",
       "        vertical-align: middle;\n",
       "    }\n",
       "\n",
       "    .dataframe tbody tr th {\n",
       "        vertical-align: top;\n",
       "    }\n",
       "\n",
       "    .dataframe thead th {\n",
       "        text-align: right;\n",
       "    }\n",
       "</style>\n",
       "<table border=\"1\" class=\"dataframe\">\n",
       "  <thead>\n",
       "    <tr style=\"text-align: right;\">\n",
       "      <th></th>\n",
       "      <th>story_id_num</th>\n",
       "      <th>lemmatized</th>\n",
       "      <th>vader</th>\n",
       "      <th>title</th>\n",
       "      <th>date</th>\n",
       "      <th>host</th>\n",
       "      <th>program</th>\n",
       "    </tr>\n",
       "  </thead>\n",
       "  <tbody>\n",
       "    <tr>\n",
       "      <th>0</th>\n",
       "      <td>17</td>\n",
       "      <td>he is in cahoot with a foreign government to m...</td>\n",
       "      <td>0.9964</td>\n",
       "      <td>n.j. democrat on reported whistleblower compla...</td>\n",
       "      <td>2019-09-22</td>\n",
       "      <td>melissa block</td>\n",
       "      <td>weekend edition sunday</td>\n",
       "    </tr>\n",
       "    <tr>\n",
       "      <th>1</th>\n",
       "      <td>18</td>\n",
       "      <td>come with concrete plan , not beautiful speech...</td>\n",
       "      <td>0.9993</td>\n",
       "      <td>ahead of climate summit, 2 views from cities i...</td>\n",
       "      <td>2019-09-22</td>\n",
       "      <td>melissa block</td>\n",
       "      <td>weekend edition sunday</td>\n",
       "    </tr>\n",
       "    <tr>\n",
       "      <th>2</th>\n",
       "      <td>19</td>\n",
       "      <td>if you stand outside the old dekalb county cou...</td>\n",
       "      <td>0.9974</td>\n",
       "      <td>barred from removing confederate monument, cou...</td>\n",
       "      <td>2019-09-22</td>\n",
       "      <td>melissa block</td>\n",
       "      <td>weekend edition sunday</td>\n",
       "    </tr>\n",
       "    <tr>\n",
       "      <th>3</th>\n",
       "      <td>20</td>\n",
       "      <td>you may have spotted pink salt in your superma...</td>\n",
       "      <td>0.4950</td>\n",
       "      <td>pakistan's pink himalayan salt has become a ma...</td>\n",
       "      <td>2019-09-22</td>\n",
       "      <td>melissa block</td>\n",
       "      <td>weekend edition sunday</td>\n",
       "    </tr>\n",
       "    <tr>\n",
       "      <th>4</th>\n",
       "      <td>21</td>\n",
       "      <td>singing in foreign language . the other day , ...</td>\n",
       "      <td>0.9730</td>\n",
       "      <td>10 years after haiti's earthquake, 'this music...</td>\n",
       "      <td>2019-09-22</td>\n",
       "      <td>melissa block</td>\n",
       "      <td>weekend edition sunday</td>\n",
       "    </tr>\n",
       "  </tbody>\n",
       "</table>\n",
       "</div>"
      ],
      "text/plain": [
       "   story_id_num                                         lemmatized   vader  \\\n",
       "0            17  he is in cahoot with a foreign government to m...  0.9964   \n",
       "1            18  come with concrete plan , not beautiful speech...  0.9993   \n",
       "2            19  if you stand outside the old dekalb county cou...  0.9974   \n",
       "3            20  you may have spotted pink salt in your superma...  0.4950   \n",
       "4            21  singing in foreign language . the other day , ...  0.9730   \n",
       "\n",
       "                                               title        date  \\\n",
       "0  n.j. democrat on reported whistleblower compla...  2019-09-22   \n",
       "1  ahead of climate summit, 2 views from cities i...  2019-09-22   \n",
       "2  barred from removing confederate monument, cou...  2019-09-22   \n",
       "3  pakistan's pink himalayan salt has become a ma...  2019-09-22   \n",
       "4  10 years after haiti's earthquake, 'this music...  2019-09-22   \n",
       "\n",
       "            host                 program  \n",
       "0  melissa block  weekend edition sunday  \n",
       "1  melissa block  weekend edition sunday  \n",
       "2  melissa block  weekend edition sunday  \n",
       "3  melissa block  weekend edition sunday  \n",
       "4  melissa block  weekend edition sunday  "
      ]
     },
     "execution_count": 27,
     "metadata": {},
     "output_type": "execute_result"
    }
   ],
   "source": [
    "stories.head()"
   ]
  },
  {
   "cell_type": "code",
   "execution_count": 28,
   "id": "4226f1d0",
   "metadata": {},
   "outputs": [],
   "source": [
    "# stories.to_csv('stories.csv')"
   ]
  },
  {
   "cell_type": "code",
   "execution_count": 29,
   "id": "3c03b052",
   "metadata": {},
   "outputs": [
    {
     "data": {
      "text/plain": [
       "39"
      ]
     },
     "execution_count": 29,
     "metadata": {},
     "output_type": "execute_result"
    }
   ],
   "source": [
    "stories.vader.idxmax()"
   ]
  },
  {
   "cell_type": "code",
   "execution_count": 30,
   "id": "e5419d0a",
   "metadata": {},
   "outputs": [],
   "source": [
    "# stories.lemmatized[39]"
   ]
  },
  {
   "cell_type": "code",
   "execution_count": 31,
   "id": "b8b46417",
   "metadata": {},
   "outputs": [
    {
     "data": {
      "text/plain": [
       "'so hard to say goodbye: advice for farewell notes'"
      ]
     },
     "execution_count": 31,
     "metadata": {},
     "output_type": "execute_result"
    }
   ],
   "source": [
    "stories.title[39]"
   ]
  },
  {
   "cell_type": "markdown",
   "id": "351725d9",
   "metadata": {},
   "source": [
    "The first highest-sentiment article is about hallmark greeting cards"
   ]
  },
  {
   "cell_type": "code",
   "execution_count": 32,
   "id": "86afecb8",
   "metadata": {},
   "outputs": [
    {
     "data": {
      "text/html": [
       "<div>\n",
       "<style scoped>\n",
       "    .dataframe tbody tr th:only-of-type {\n",
       "        vertical-align: middle;\n",
       "    }\n",
       "\n",
       "    .dataframe tbody tr th {\n",
       "        vertical-align: top;\n",
       "    }\n",
       "\n",
       "    .dataframe thead th {\n",
       "        text-align: right;\n",
       "    }\n",
       "</style>\n",
       "<table border=\"1\" class=\"dataframe\">\n",
       "  <thead>\n",
       "    <tr style=\"text-align: right;\">\n",
       "      <th></th>\n",
       "      <th>story_id_num</th>\n",
       "      <th>lemmatized</th>\n",
       "      <th>vader</th>\n",
       "      <th>title</th>\n",
       "      <th>date</th>\n",
       "      <th>host</th>\n",
       "      <th>program</th>\n",
       "    </tr>\n",
       "  </thead>\n",
       "  <tbody>\n",
       "    <tr>\n",
       "      <th>39</th>\n",
       "      <td>620</td>\n",
       "      <td>looking ahead to our last day , many of our fr...</td>\n",
       "      <td>1.0</td>\n",
       "      <td>so hard to say goodbye: advice for farewell notes</td>\n",
       "      <td>2013-06-27</td>\n",
       "      <td>neal conan</td>\n",
       "      <td>talk of the nation</td>\n",
       "    </tr>\n",
       "    <tr>\n",
       "      <th>42</th>\n",
       "      <td>623</td>\n",
       "      <td>this is talk of the nation. i m neal conan , i...</td>\n",
       "      <td>1.0</td>\n",
       "      <td>a look ahead and a farewell to the political j...</td>\n",
       "      <td>2013-06-26</td>\n",
       "      <td>neal conan</td>\n",
       "      <td>talk of the nation</td>\n",
       "    </tr>\n",
       "    <tr>\n",
       "      <th>43</th>\n",
       "      <td>624</td>\n",
       "      <td>this is talk of the nation. i m neal conan , i...</td>\n",
       "      <td>1.0</td>\n",
       "      <td>what changes after supreme court rulings on pr...</td>\n",
       "      <td>2013-06-26</td>\n",
       "      <td>neal conan</td>\n",
       "      <td>talk of the nation</td>\n",
       "    </tr>\n",
       "    <tr>\n",
       "      <th>44</th>\n",
       "      <td>625</td>\n",
       "      <td>from small country church , to the stage of th...</td>\n",
       "      <td>1.0</td>\n",
       "      <td>gospel legend mavis staples comes 'full circle'</td>\n",
       "      <td>2013-06-26</td>\n",
       "      <td>neal conan</td>\n",
       "      <td>talk of the nation</td>\n",
       "    </tr>\n",
       "    <tr>\n",
       "      <th>141</th>\n",
       "      <td>898</td>\n",
       "      <td>this is talk of the nation. i m neal conan in ...</td>\n",
       "      <td>1.0</td>\n",
       "      <td>'blood &amp;amp; beauty' breathes new life into th...</td>\n",
       "      <td>2013-06-20</td>\n",
       "      <td>neal conan</td>\n",
       "      <td>talk of the nation</td>\n",
       "    </tr>\n",
       "    <tr>\n",
       "      <th>...</th>\n",
       "      <td>...</td>\n",
       "      <td>...</td>\n",
       "      <td>...</td>\n",
       "      <td>...</td>\n",
       "      <td>...</td>\n",
       "      <td>...</td>\n",
       "      <td>...</td>\n",
       "    </tr>\n",
       "    <tr>\n",
       "      <th>23796</th>\n",
       "      <td>84430</td>\n",
       "      <td>this is talk of the nation. i m neal conan in ...</td>\n",
       "      <td>1.0</td>\n",
       "      <td>state legislatures: agendas and budgets</td>\n",
       "      <td>2005-01-11</td>\n",
       "      <td>neal conan</td>\n",
       "      <td>talk of the nation</td>\n",
       "    </tr>\n",
       "    <tr>\n",
       "      <th>23995</th>\n",
       "      <td>84850</td>\n",
       "      <td>time now for a story that is decidedly not a n...</td>\n",
       "      <td>1.0</td>\n",
       "      <td>encore: an elf questions santa's naughty or ni...</td>\n",
       "      <td>2016-12-23</td>\n",
       "      <td>ari shapiro</td>\n",
       "      <td>all things considered</td>\n",
       "    </tr>\n",
       "    <tr>\n",
       "      <th>27366</th>\n",
       "      <td>90916</td>\n",
       "      <td>the political campaign are taking a break. the...</td>\n",
       "      <td>1.0</td>\n",
       "      <td>santa for president in 2016</td>\n",
       "      <td>2015-12-25</td>\n",
       "      <td>robert siegel</td>\n",
       "      <td>all things considered</td>\n",
       "    </tr>\n",
       "    <tr>\n",
       "      <th>30850</th>\n",
       "      <td>96419</td>\n",
       "      <td>now we re going to take a break from news , fr...</td>\n",
       "      <td>1.0</td>\n",
       "      <td>listen: the not-so-true story of santa's naugh...</td>\n",
       "      <td>2014-12-25</td>\n",
       "      <td>robert siegel</td>\n",
       "      <td>all things considered</td>\n",
       "    </tr>\n",
       "    <tr>\n",
       "      <th>61123</th>\n",
       "      <td>140684</td>\n",
       "      <td>from npr news , this is all thing considered. ...</td>\n",
       "      <td>1.0</td>\n",
       "      <td>dear birth mother: a story of 'transracial ado...</td>\n",
       "      <td>2005-05-09</td>\n",
       "      <td>robert siegel</td>\n",
       "      <td>all things considered</td>\n",
       "    </tr>\n",
       "  </tbody>\n",
       "</table>\n",
       "<p>1345 rows × 7 columns</p>\n",
       "</div>"
      ],
      "text/plain": [
       "       story_id_num                                         lemmatized  vader  \\\n",
       "39              620  looking ahead to our last day , many of our fr...    1.0   \n",
       "42              623  this is talk of the nation. i m neal conan , i...    1.0   \n",
       "43              624  this is talk of the nation. i m neal conan , i...    1.0   \n",
       "44              625  from small country church , to the stage of th...    1.0   \n",
       "141             898  this is talk of the nation. i m neal conan in ...    1.0   \n",
       "...             ...                                                ...    ...   \n",
       "23796         84430  this is talk of the nation. i m neal conan in ...    1.0   \n",
       "23995         84850  time now for a story that is decidedly not a n...    1.0   \n",
       "27366         90916  the political campaign are taking a break. the...    1.0   \n",
       "30850         96419  now we re going to take a break from news , fr...    1.0   \n",
       "61123        140684  from npr news , this is all thing considered. ...    1.0   \n",
       "\n",
       "                                                   title        date  \\\n",
       "39     so hard to say goodbye: advice for farewell notes  2013-06-27   \n",
       "42     a look ahead and a farewell to the political j...  2013-06-26   \n",
       "43     what changes after supreme court rulings on pr...  2013-06-26   \n",
       "44       gospel legend mavis staples comes 'full circle'  2013-06-26   \n",
       "141    'blood &amp; beauty' breathes new life into th...  2013-06-20   \n",
       "...                                                  ...         ...   \n",
       "23796            state legislatures: agendas and budgets  2005-01-11   \n",
       "23995  encore: an elf questions santa's naughty or ni...  2016-12-23   \n",
       "27366                        santa for president in 2016  2015-12-25   \n",
       "30850  listen: the not-so-true story of santa's naugh...  2014-12-25   \n",
       "61123  dear birth mother: a story of 'transracial ado...  2005-05-09   \n",
       "\n",
       "                host                program  \n",
       "39        neal conan     talk of the nation  \n",
       "42        neal conan     talk of the nation  \n",
       "43        neal conan     talk of the nation  \n",
       "44        neal conan     talk of the nation  \n",
       "141       neal conan     talk of the nation  \n",
       "...              ...                    ...  \n",
       "23796     neal conan     talk of the nation  \n",
       "23995    ari shapiro  all things considered  \n",
       "27366  robert siegel  all things considered  \n",
       "30850  robert siegel  all things considered  \n",
       "61123  robert siegel  all things considered  \n",
       "\n",
       "[1345 rows x 7 columns]"
      ]
     },
     "execution_count": 32,
     "metadata": {},
     "output_type": "execute_result"
    }
   ],
   "source": [
    "stories[stories.vader == 1]"
   ]
  },
  {
   "cell_type": "markdown",
   "id": "ed32a08b",
   "metadata": {},
   "source": [
    "- Actually...there are 1345 stories with a max vader score"
   ]
  },
  {
   "cell_type": "code",
   "execution_count": 33,
   "id": "c2ddf210",
   "metadata": {},
   "outputs": [
    {
     "data": {
      "text/html": [
       "<div>\n",
       "<style scoped>\n",
       "    .dataframe tbody tr th:only-of-type {\n",
       "        vertical-align: middle;\n",
       "    }\n",
       "\n",
       "    .dataframe tbody tr th {\n",
       "        vertical-align: top;\n",
       "    }\n",
       "\n",
       "    .dataframe thead th {\n",
       "        text-align: right;\n",
       "    }\n",
       "</style>\n",
       "<table border=\"1\" class=\"dataframe\">\n",
       "  <thead>\n",
       "    <tr style=\"text-align: right;\">\n",
       "      <th></th>\n",
       "      <th>story_id_num</th>\n",
       "      <th>lemmatized</th>\n",
       "      <th>vader</th>\n",
       "      <th>title</th>\n",
       "      <th>date</th>\n",
       "      <th>host</th>\n",
       "      <th>program</th>\n",
       "    </tr>\n",
       "  </thead>\n",
       "  <tbody>\n",
       "    <tr>\n",
       "      <th>39</th>\n",
       "      <td>620</td>\n",
       "      <td>looking ahead to our last day , many of our fr...</td>\n",
       "      <td>1.0</td>\n",
       "      <td>so hard to say goodbye: advice for farewell notes</td>\n",
       "      <td>2013-06-27</td>\n",
       "      <td>neal conan</td>\n",
       "      <td>talk of the nation</td>\n",
       "    </tr>\n",
       "    <tr>\n",
       "      <th>42</th>\n",
       "      <td>623</td>\n",
       "      <td>this is talk of the nation. i m neal conan , i...</td>\n",
       "      <td>1.0</td>\n",
       "      <td>a look ahead and a farewell to the political j...</td>\n",
       "      <td>2013-06-26</td>\n",
       "      <td>neal conan</td>\n",
       "      <td>talk of the nation</td>\n",
       "    </tr>\n",
       "    <tr>\n",
       "      <th>43</th>\n",
       "      <td>624</td>\n",
       "      <td>this is talk of the nation. i m neal conan , i...</td>\n",
       "      <td>1.0</td>\n",
       "      <td>what changes after supreme court rulings on pr...</td>\n",
       "      <td>2013-06-26</td>\n",
       "      <td>neal conan</td>\n",
       "      <td>talk of the nation</td>\n",
       "    </tr>\n",
       "    <tr>\n",
       "      <th>44</th>\n",
       "      <td>625</td>\n",
       "      <td>from small country church , to the stage of th...</td>\n",
       "      <td>1.0</td>\n",
       "      <td>gospel legend mavis staples comes 'full circle'</td>\n",
       "      <td>2013-06-26</td>\n",
       "      <td>neal conan</td>\n",
       "      <td>talk of the nation</td>\n",
       "    </tr>\n",
       "    <tr>\n",
       "      <th>141</th>\n",
       "      <td>898</td>\n",
       "      <td>this is talk of the nation. i m neal conan in ...</td>\n",
       "      <td>1.0</td>\n",
       "      <td>'blood &amp;amp; beauty' breathes new life into th...</td>\n",
       "      <td>2013-06-20</td>\n",
       "      <td>neal conan</td>\n",
       "      <td>talk of the nation</td>\n",
       "    </tr>\n",
       "    <tr>\n",
       "      <th>...</th>\n",
       "      <td>...</td>\n",
       "      <td>...</td>\n",
       "      <td>...</td>\n",
       "      <td>...</td>\n",
       "      <td>...</td>\n",
       "      <td>...</td>\n",
       "      <td>...</td>\n",
       "    </tr>\n",
       "    <tr>\n",
       "      <th>23796</th>\n",
       "      <td>84430</td>\n",
       "      <td>this is talk of the nation. i m neal conan in ...</td>\n",
       "      <td>1.0</td>\n",
       "      <td>state legislatures: agendas and budgets</td>\n",
       "      <td>2005-01-11</td>\n",
       "      <td>neal conan</td>\n",
       "      <td>talk of the nation</td>\n",
       "    </tr>\n",
       "    <tr>\n",
       "      <th>23995</th>\n",
       "      <td>84850</td>\n",
       "      <td>time now for a story that is decidedly not a n...</td>\n",
       "      <td>1.0</td>\n",
       "      <td>encore: an elf questions santa's naughty or ni...</td>\n",
       "      <td>2016-12-23</td>\n",
       "      <td>ari shapiro</td>\n",
       "      <td>all things considered</td>\n",
       "    </tr>\n",
       "    <tr>\n",
       "      <th>27366</th>\n",
       "      <td>90916</td>\n",
       "      <td>the political campaign are taking a break. the...</td>\n",
       "      <td>1.0</td>\n",
       "      <td>santa for president in 2016</td>\n",
       "      <td>2015-12-25</td>\n",
       "      <td>robert siegel</td>\n",
       "      <td>all things considered</td>\n",
       "    </tr>\n",
       "    <tr>\n",
       "      <th>30850</th>\n",
       "      <td>96419</td>\n",
       "      <td>now we re going to take a break from news , fr...</td>\n",
       "      <td>1.0</td>\n",
       "      <td>listen: the not-so-true story of santa's naugh...</td>\n",
       "      <td>2014-12-25</td>\n",
       "      <td>robert siegel</td>\n",
       "      <td>all things considered</td>\n",
       "    </tr>\n",
       "    <tr>\n",
       "      <th>61123</th>\n",
       "      <td>140684</td>\n",
       "      <td>from npr news , this is all thing considered. ...</td>\n",
       "      <td>1.0</td>\n",
       "      <td>dear birth mother: a story of 'transracial ado...</td>\n",
       "      <td>2005-05-09</td>\n",
       "      <td>robert siegel</td>\n",
       "      <td>all things considered</td>\n",
       "    </tr>\n",
       "  </tbody>\n",
       "</table>\n",
       "<p>1345 rows × 7 columns</p>\n",
       "</div>"
      ],
      "text/plain": [
       "       story_id_num                                         lemmatized  vader  \\\n",
       "39              620  looking ahead to our last day , many of our fr...    1.0   \n",
       "42              623  this is talk of the nation. i m neal conan , i...    1.0   \n",
       "43              624  this is talk of the nation. i m neal conan , i...    1.0   \n",
       "44              625  from small country church , to the stage of th...    1.0   \n",
       "141             898  this is talk of the nation. i m neal conan in ...    1.0   \n",
       "...             ...                                                ...    ...   \n",
       "23796         84430  this is talk of the nation. i m neal conan in ...    1.0   \n",
       "23995         84850  time now for a story that is decidedly not a n...    1.0   \n",
       "27366         90916  the political campaign are taking a break. the...    1.0   \n",
       "30850         96419  now we re going to take a break from news , fr...    1.0   \n",
       "61123        140684  from npr news , this is all thing considered. ...    1.0   \n",
       "\n",
       "                                                   title        date  \\\n",
       "39     so hard to say goodbye: advice for farewell notes  2013-06-27   \n",
       "42     a look ahead and a farewell to the political j...  2013-06-26   \n",
       "43     what changes after supreme court rulings on pr...  2013-06-26   \n",
       "44       gospel legend mavis staples comes 'full circle'  2013-06-26   \n",
       "141    'blood &amp; beauty' breathes new life into th...  2013-06-20   \n",
       "...                                                  ...         ...   \n",
       "23796            state legislatures: agendas and budgets  2005-01-11   \n",
       "23995  encore: an elf questions santa's naughty or ni...  2016-12-23   \n",
       "27366                        santa for president in 2016  2015-12-25   \n",
       "30850  listen: the not-so-true story of santa's naugh...  2014-12-25   \n",
       "61123  dear birth mother: a story of 'transracial ado...  2005-05-09   \n",
       "\n",
       "                host                program  \n",
       "39        neal conan     talk of the nation  \n",
       "42        neal conan     talk of the nation  \n",
       "43        neal conan     talk of the nation  \n",
       "44        neal conan     talk of the nation  \n",
       "141       neal conan     talk of the nation  \n",
       "...              ...                    ...  \n",
       "23796     neal conan     talk of the nation  \n",
       "23995    ari shapiro  all things considered  \n",
       "27366  robert siegel  all things considered  \n",
       "30850  robert siegel  all things considered  \n",
       "61123  robert siegel  all things considered  \n",
       "\n",
       "[1345 rows x 7 columns]"
      ]
     },
     "execution_count": 33,
     "metadata": {},
     "output_type": "execute_result"
    }
   ],
   "source": [
    "brightest_stories = stories[stories.vader == 1]\n",
    "brightest_stories"
   ]
  },
  {
   "cell_type": "code",
   "execution_count": 34,
   "id": "4dce7f9e",
   "metadata": {},
   "outputs": [
    {
     "data": {
      "text/plain": [
       "[\"'bellwether' new york race too close to call\",\n",
       " 'wedding stories worth remembering',\n",
       " \"president obama's science spending\",\n",
       " 'drones moving from war zones to the home front',\n",
       " 'book distills the wisdom of the over-70 set',\n",
       " \"obama's 'renegade' campaign for the presidency\",\n",
       " 'what to look for at winter games in vancouver',\n",
       " \"obama's cabinet reshuffle, what's next for hillary?\",\n",
       " \"bob garfield's 'chaos scenario'\",\n",
       " 'and the award for best picture goes to....']"
      ]
     },
     "execution_count": 34,
     "metadata": {},
     "output_type": "execute_result"
    }
   ],
   "source": [
    "brightest_stories.title.sample(10).to_list()"
   ]
  },
  {
   "cell_type": "code",
   "execution_count": 35,
   "id": "84889a94",
   "metadata": {},
   "outputs": [
    {
     "data": {
      "text/html": [
       "<div>\n",
       "<style scoped>\n",
       "    .dataframe tbody tr th:only-of-type {\n",
       "        vertical-align: middle;\n",
       "    }\n",
       "\n",
       "    .dataframe tbody tr th {\n",
       "        vertical-align: top;\n",
       "    }\n",
       "\n",
       "    .dataframe thead th {\n",
       "        text-align: right;\n",
       "    }\n",
       "</style>\n",
       "<table border=\"1\" class=\"dataframe\">\n",
       "  <thead>\n",
       "    <tr style=\"text-align: right;\">\n",
       "      <th></th>\n",
       "      <th>story_id_num</th>\n",
       "      <th>lemmatized</th>\n",
       "      <th>vader</th>\n",
       "      <th>title</th>\n",
       "      <th>date</th>\n",
       "      <th>host</th>\n",
       "      <th>program</th>\n",
       "    </tr>\n",
       "  </thead>\n",
       "  <tbody>\n",
       "    <tr>\n",
       "      <th>749</th>\n",
       "      <td>2749</td>\n",
       "      <td>this is talk of the nation. i m neal conan in ...</td>\n",
       "      <td>-1.0</td>\n",
       "      <td>the epidemiology of gun violence: race, region...</td>\n",
       "      <td>2013-03-26</td>\n",
       "      <td>neal conan</td>\n",
       "      <td>talk of the nation</td>\n",
       "    </tr>\n",
       "    <tr>\n",
       "      <th>5731</th>\n",
       "      <td>19881</td>\n",
       "      <td>this is talk of the nation. i m neal conan in ...</td>\n",
       "      <td>-1.0</td>\n",
       "      <td>how do you define a hate crime?</td>\n",
       "      <td>2012-03-19</td>\n",
       "      <td>neal conan</td>\n",
       "      <td>talk of the nation</td>\n",
       "    </tr>\n",
       "    <tr>\n",
       "      <th>10730</th>\n",
       "      <td>55411</td>\n",
       "      <td>this is talk of the nation. i m neal conan , i...</td>\n",
       "      <td>-1.0</td>\n",
       "      <td>understanding suicide terrorism and how to sto...</td>\n",
       "      <td>2010-10-11</td>\n",
       "      <td>neal conan</td>\n",
       "      <td>talk of the nation</td>\n",
       "    </tr>\n",
       "    <tr>\n",
       "      <th>11827</th>\n",
       "      <td>58454</td>\n",
       "      <td>this is talk of the nation. im neal conan in w...</td>\n",
       "      <td>-1.0</td>\n",
       "      <td>deconstructing 'myths about suicide'</td>\n",
       "      <td>2010-04-28</td>\n",
       "      <td>neal conan</td>\n",
       "      <td>talk of the nation</td>\n",
       "    </tr>\n",
       "    <tr>\n",
       "      <th>15177</th>\n",
       "      <td>66409</td>\n",
       "      <td>this is talk of the nation. i m neal conan in ...</td>\n",
       "      <td>-1.0</td>\n",
       "      <td>the legacy of bush's 'war on terror'</td>\n",
       "      <td>2009-01-12</td>\n",
       "      <td>neal conan</td>\n",
       "      <td>talk of the nation</td>\n",
       "    </tr>\n",
       "    <tr>\n",
       "      <th>17237</th>\n",
       "      <td>71520</td>\n",
       "      <td>this is talk of the nation. i m neal conan in ...</td>\n",
       "      <td>-1.0</td>\n",
       "      <td>who carries out suicide bombings?</td>\n",
       "      <td>2008-01-22</td>\n",
       "      <td>neal conan</td>\n",
       "      <td>talk of the nation</td>\n",
       "    </tr>\n",
       "    <tr>\n",
       "      <th>18838</th>\n",
       "      <td>75087</td>\n",
       "      <td>this is talk of the nation. i m neal conan in ...</td>\n",
       "      <td>-1.0</td>\n",
       "      <td>how do we define terrorism?</td>\n",
       "      <td>2007-06-04</td>\n",
       "      <td>neal conan</td>\n",
       "      <td>talk of the nation</td>\n",
       "    </tr>\n",
       "    <tr>\n",
       "      <th>21189</th>\n",
       "      <td>79688</td>\n",
       "      <td>this is talk of the nation. i m neal conan , i...</td>\n",
       "      <td>-1.0</td>\n",
       "      <td>should the guantanamo prison be closed?</td>\n",
       "      <td>2006-05-23</td>\n",
       "      <td>neal conan</td>\n",
       "      <td>talk of the nation</td>\n",
       "    </tr>\n",
       "    <tr>\n",
       "      <th>21287</th>\n",
       "      <td>79858</td>\n",
       "      <td>from npr news in washington , dc , i m neal co...</td>\n",
       "      <td>-1.0</td>\n",
       "      <td>'war of nerves': a history of chemical weapons</td>\n",
       "      <td>2006-05-08</td>\n",
       "      <td>neal conan</td>\n",
       "      <td>talk of the nation</td>\n",
       "    </tr>\n",
       "  </tbody>\n",
       "</table>\n",
       "</div>"
      ],
      "text/plain": [
       "       story_id_num                                         lemmatized  vader  \\\n",
       "749            2749  this is talk of the nation. i m neal conan in ...   -1.0   \n",
       "5731          19881  this is talk of the nation. i m neal conan in ...   -1.0   \n",
       "10730         55411  this is talk of the nation. i m neal conan , i...   -1.0   \n",
       "11827         58454  this is talk of the nation. im neal conan in w...   -1.0   \n",
       "15177         66409  this is talk of the nation. i m neal conan in ...   -1.0   \n",
       "17237         71520  this is talk of the nation. i m neal conan in ...   -1.0   \n",
       "18838         75087  this is talk of the nation. i m neal conan in ...   -1.0   \n",
       "21189         79688  this is talk of the nation. i m neal conan , i...   -1.0   \n",
       "21287         79858  from npr news in washington , dc , i m neal co...   -1.0   \n",
       "\n",
       "                                                   title        date  \\\n",
       "749    the epidemiology of gun violence: race, region...  2013-03-26   \n",
       "5731                     how do you define a hate crime?  2012-03-19   \n",
       "10730  understanding suicide terrorism and how to sto...  2010-10-11   \n",
       "11827               deconstructing 'myths about suicide'  2010-04-28   \n",
       "15177               the legacy of bush's 'war on terror'  2009-01-12   \n",
       "17237                  who carries out suicide bombings?  2008-01-22   \n",
       "18838                        how do we define terrorism?  2007-06-04   \n",
       "21189            should the guantanamo prison be closed?  2006-05-23   \n",
       "21287     'war of nerves': a history of chemical weapons  2006-05-08   \n",
       "\n",
       "             host             program  \n",
       "749    neal conan  talk of the nation  \n",
       "5731   neal conan  talk of the nation  \n",
       "10730  neal conan  talk of the nation  \n",
       "11827  neal conan  talk of the nation  \n",
       "15177  neal conan  talk of the nation  \n",
       "17237  neal conan  talk of the nation  \n",
       "18838  neal conan  talk of the nation  \n",
       "21189  neal conan  talk of the nation  \n",
       "21287  neal conan  talk of the nation  "
      ]
     },
     "execution_count": 35,
     "metadata": {},
     "output_type": "execute_result"
    }
   ],
   "source": [
    "stories[stories.vader == -1]"
   ]
  },
  {
   "cell_type": "markdown",
   "id": "263c537b",
   "metadata": {},
   "source": [
    "- But only 9 stories with the lowest vader score, including..."
   ]
  },
  {
   "cell_type": "code",
   "execution_count": 36,
   "id": "baf086de",
   "metadata": {},
   "outputs": [],
   "source": [
    "# stories.lemmatized[749]"
   ]
  },
  {
   "cell_type": "code",
   "execution_count": 37,
   "id": "b26f0b9b",
   "metadata": {},
   "outputs": [
    {
     "data": {
      "text/plain": [
       "'the epidemiology of gun violence: race, region and policy'"
      ]
     },
     "execution_count": 37,
     "metadata": {},
     "output_type": "execute_result"
    }
   ],
   "source": [
    "stories.title[749]"
   ]
  },
  {
   "cell_type": "markdown",
   "id": "e350d14a",
   "metadata": {},
   "source": [
    "- A story aboout \"gun death , race , sex and region\""
   ]
  },
  {
   "cell_type": "code",
   "execution_count": 38,
   "id": "2e218730",
   "metadata": {},
   "outputs": [
    {
     "data": {
      "text/html": [
       "<div>\n",
       "<style scoped>\n",
       "    .dataframe tbody tr th:only-of-type {\n",
       "        vertical-align: middle;\n",
       "    }\n",
       "\n",
       "    .dataframe tbody tr th {\n",
       "        vertical-align: top;\n",
       "    }\n",
       "\n",
       "    .dataframe thead th {\n",
       "        text-align: right;\n",
       "    }\n",
       "</style>\n",
       "<table border=\"1\" class=\"dataframe\">\n",
       "  <thead>\n",
       "    <tr style=\"text-align: right;\">\n",
       "      <th></th>\n",
       "      <th>story_id_num</th>\n",
       "      <th>lemmatized</th>\n",
       "      <th>vader</th>\n",
       "      <th>title</th>\n",
       "      <th>date</th>\n",
       "      <th>host</th>\n",
       "      <th>program</th>\n",
       "    </tr>\n",
       "  </thead>\n",
       "  <tbody>\n",
       "    <tr>\n",
       "      <th>749</th>\n",
       "      <td>2749</td>\n",
       "      <td>this is talk of the nation. i m neal conan in ...</td>\n",
       "      <td>-1.0</td>\n",
       "      <td>the epidemiology of gun violence: race, region...</td>\n",
       "      <td>2013-03-26</td>\n",
       "      <td>neal conan</td>\n",
       "      <td>talk of the nation</td>\n",
       "    </tr>\n",
       "    <tr>\n",
       "      <th>5731</th>\n",
       "      <td>19881</td>\n",
       "      <td>this is talk of the nation. i m neal conan in ...</td>\n",
       "      <td>-1.0</td>\n",
       "      <td>how do you define a hate crime?</td>\n",
       "      <td>2012-03-19</td>\n",
       "      <td>neal conan</td>\n",
       "      <td>talk of the nation</td>\n",
       "    </tr>\n",
       "    <tr>\n",
       "      <th>10730</th>\n",
       "      <td>55411</td>\n",
       "      <td>this is talk of the nation. i m neal conan , i...</td>\n",
       "      <td>-1.0</td>\n",
       "      <td>understanding suicide terrorism and how to sto...</td>\n",
       "      <td>2010-10-11</td>\n",
       "      <td>neal conan</td>\n",
       "      <td>talk of the nation</td>\n",
       "    </tr>\n",
       "    <tr>\n",
       "      <th>11827</th>\n",
       "      <td>58454</td>\n",
       "      <td>this is talk of the nation. im neal conan in w...</td>\n",
       "      <td>-1.0</td>\n",
       "      <td>deconstructing 'myths about suicide'</td>\n",
       "      <td>2010-04-28</td>\n",
       "      <td>neal conan</td>\n",
       "      <td>talk of the nation</td>\n",
       "    </tr>\n",
       "    <tr>\n",
       "      <th>15177</th>\n",
       "      <td>66409</td>\n",
       "      <td>this is talk of the nation. i m neal conan in ...</td>\n",
       "      <td>-1.0</td>\n",
       "      <td>the legacy of bush's 'war on terror'</td>\n",
       "      <td>2009-01-12</td>\n",
       "      <td>neal conan</td>\n",
       "      <td>talk of the nation</td>\n",
       "    </tr>\n",
       "    <tr>\n",
       "      <th>17237</th>\n",
       "      <td>71520</td>\n",
       "      <td>this is talk of the nation. i m neal conan in ...</td>\n",
       "      <td>-1.0</td>\n",
       "      <td>who carries out suicide bombings?</td>\n",
       "      <td>2008-01-22</td>\n",
       "      <td>neal conan</td>\n",
       "      <td>talk of the nation</td>\n",
       "    </tr>\n",
       "    <tr>\n",
       "      <th>18838</th>\n",
       "      <td>75087</td>\n",
       "      <td>this is talk of the nation. i m neal conan in ...</td>\n",
       "      <td>-1.0</td>\n",
       "      <td>how do we define terrorism?</td>\n",
       "      <td>2007-06-04</td>\n",
       "      <td>neal conan</td>\n",
       "      <td>talk of the nation</td>\n",
       "    </tr>\n",
       "    <tr>\n",
       "      <th>21189</th>\n",
       "      <td>79688</td>\n",
       "      <td>this is talk of the nation. i m neal conan , i...</td>\n",
       "      <td>-1.0</td>\n",
       "      <td>should the guantanamo prison be closed?</td>\n",
       "      <td>2006-05-23</td>\n",
       "      <td>neal conan</td>\n",
       "      <td>talk of the nation</td>\n",
       "    </tr>\n",
       "    <tr>\n",
       "      <th>21287</th>\n",
       "      <td>79858</td>\n",
       "      <td>from npr news in washington , dc , i m neal co...</td>\n",
       "      <td>-1.0</td>\n",
       "      <td>'war of nerves': a history of chemical weapons</td>\n",
       "      <td>2006-05-08</td>\n",
       "      <td>neal conan</td>\n",
       "      <td>talk of the nation</td>\n",
       "    </tr>\n",
       "  </tbody>\n",
       "</table>\n",
       "</div>"
      ],
      "text/plain": [
       "       story_id_num                                         lemmatized  vader  \\\n",
       "749            2749  this is talk of the nation. i m neal conan in ...   -1.0   \n",
       "5731          19881  this is talk of the nation. i m neal conan in ...   -1.0   \n",
       "10730         55411  this is talk of the nation. i m neal conan , i...   -1.0   \n",
       "11827         58454  this is talk of the nation. im neal conan in w...   -1.0   \n",
       "15177         66409  this is talk of the nation. i m neal conan in ...   -1.0   \n",
       "17237         71520  this is talk of the nation. i m neal conan in ...   -1.0   \n",
       "18838         75087  this is talk of the nation. i m neal conan in ...   -1.0   \n",
       "21189         79688  this is talk of the nation. i m neal conan , i...   -1.0   \n",
       "21287         79858  from npr news in washington , dc , i m neal co...   -1.0   \n",
       "\n",
       "                                                   title        date  \\\n",
       "749    the epidemiology of gun violence: race, region...  2013-03-26   \n",
       "5731                     how do you define a hate crime?  2012-03-19   \n",
       "10730  understanding suicide terrorism and how to sto...  2010-10-11   \n",
       "11827               deconstructing 'myths about suicide'  2010-04-28   \n",
       "15177               the legacy of bush's 'war on terror'  2009-01-12   \n",
       "17237                  who carries out suicide bombings?  2008-01-22   \n",
       "18838                        how do we define terrorism?  2007-06-04   \n",
       "21189            should the guantanamo prison be closed?  2006-05-23   \n",
       "21287     'war of nerves': a history of chemical weapons  2006-05-08   \n",
       "\n",
       "             host             program  \n",
       "749    neal conan  talk of the nation  \n",
       "5731   neal conan  talk of the nation  \n",
       "10730  neal conan  talk of the nation  \n",
       "11827  neal conan  talk of the nation  \n",
       "15177  neal conan  talk of the nation  \n",
       "17237  neal conan  talk of the nation  \n",
       "18838  neal conan  talk of the nation  \n",
       "21189  neal conan  talk of the nation  \n",
       "21287  neal conan  talk of the nation  "
      ]
     },
     "execution_count": 38,
     "metadata": {},
     "output_type": "execute_result"
    }
   ],
   "source": [
    "darkest_stories = stories[stories.vader == -1]\n",
    "darkest_stories"
   ]
  },
  {
   "cell_type": "code",
   "execution_count": 39,
   "id": "4473b8a6",
   "metadata": {},
   "outputs": [
    {
     "name": "stdout",
     "output_type": "stream",
     "text": [
      "the epidemiology of gun violence: race, region and policy\n",
      "how do you define a hate crime?\n",
      "understanding suicide terrorism and how to stop it\n",
      "deconstructing 'myths about suicide'\n",
      "the legacy of bush's 'war on terror'\n",
      "who carries out suicide bombings?\n",
      "how do we define terrorism?\n",
      "should the guantanamo prison be closed?\n",
      "'war of nerves': a history of chemical weapons\n"
     ]
    }
   ],
   "source": [
    "for story in darkest_stories.title:\n",
    "    print(story)"
   ]
  },
  {
   "cell_type": "markdown",
   "id": "593f83f5",
   "metadata": {},
   "source": [
    "- Here's a list of the stories with the lowest possible sentiment score"
   ]
  },
  {
   "cell_type": "code",
   "execution_count": 40,
   "id": "803dc5a4",
   "metadata": {},
   "outputs": [
    {
     "data": {
      "text/html": [
       "<div>\n",
       "<style scoped>\n",
       "    .dataframe tbody tr th:only-of-type {\n",
       "        vertical-align: middle;\n",
       "    }\n",
       "\n",
       "    .dataframe tbody tr th {\n",
       "        vertical-align: top;\n",
       "    }\n",
       "\n",
       "    .dataframe thead th {\n",
       "        text-align: right;\n",
       "    }\n",
       "</style>\n",
       "<table border=\"1\" class=\"dataframe\">\n",
       "  <thead>\n",
       "    <tr style=\"text-align: right;\">\n",
       "      <th></th>\n",
       "      <th>story_id_num</th>\n",
       "      <th>lemmatized</th>\n",
       "      <th>vader</th>\n",
       "      <th>title</th>\n",
       "      <th>date</th>\n",
       "      <th>host</th>\n",
       "      <th>program</th>\n",
       "    </tr>\n",
       "  </thead>\n",
       "  <tbody>\n",
       "    <tr>\n",
       "      <th>39</th>\n",
       "      <td>620</td>\n",
       "      <td>looking ahead to our last day , many of our fr...</td>\n",
       "      <td>1.0</td>\n",
       "      <td>so hard to say goodbye: advice for farewell notes</td>\n",
       "      <td>2013-06-27</td>\n",
       "      <td>neal conan</td>\n",
       "      <td>talk of the nation</td>\n",
       "    </tr>\n",
       "  </tbody>\n",
       "</table>\n",
       "</div>"
      ],
      "text/plain": [
       "    story_id_num                                         lemmatized  vader  \\\n",
       "39           620  looking ahead to our last day , many of our fr...    1.0   \n",
       "\n",
       "                                                title        date        host  \\\n",
       "39  so hard to say goodbye: advice for farewell notes  2013-06-27  neal conan   \n",
       "\n",
       "               program  \n",
       "39  talk of the nation  "
      ]
     },
     "execution_count": 40,
     "metadata": {},
     "output_type": "execute_result"
    }
   ],
   "source": [
    "brightest_stories = stories[stories.vader == 1]\n",
    "brightest_stories.head(1)"
   ]
  },
  {
   "cell_type": "code",
   "execution_count": 41,
   "id": "5e6c7568",
   "metadata": {},
   "outputs": [],
   "source": [
    "brightest_stories_title_list = []\n",
    "for story in brightest_stories.title:\n",
    "    brightest_stories_title_list.append(story)"
   ]
  },
  {
   "cell_type": "code",
   "execution_count": 42,
   "id": "20438f54",
   "metadata": {},
   "outputs": [
    {
     "data": {
      "text/plain": [
       "['so hard to say goodbye: advice for farewell notes',\n",
       " 'a look ahead and a farewell to the political junkie',\n",
       " 'what changes after supreme court rulings on prop 8 and doma',\n",
       " \"gospel legend mavis staples comes 'full circle'\",\n",
       " \"'blood &amp; beauty' breathes new life into the borgias\",\n",
       " 'the penultimate edition of the political junkie',\n",
       " 'will work for free? the future of the unpaid internship',\n",
       " \"india.arie returns, with an eye toward a new 'songversation'\",\n",
       " \"from 'casablanca' to 'e.t. the extra-terrestrial': famous farewells in film\",\n",
       " 'inside the cel: behind the scenes with animators',\n",
       " 'a look ahead to the future of the gop',\n",
       " 'the scifri book club takes a hike',\n",
       " 'the role of the attorney general throughout history',\n",
       " 'cartoonist lynda barry helps college students tap innate creativity',\n",
       " 'looking ahead with the wonders of krulwich',\n",
       " 'the promise and limitations of telemedicine',\n",
       " \"iowa's open senate seat and rumbles about 2016\",\n",
       " 'hospital costs go public: what changes in health care?',\n",
       " 'a look ahead to the future of new orleans',\n",
       " 'michael pollan: you are what you cook',\n",
       " 'to avoid or to embrace? how actors navigate stereotypes',\n",
       " \"utah's fossil finds describe an ancient world\",\n",
       " 'when conscience conflicts with constituents',\n",
       " 'robert ballard: 50 years exploring deep waters',\n",
       " 'tackling terrible traffic: how cities try to ease commutes',\n",
       " 'second chances in american politics',\n",
       " 'coaching through crisis: how teams get through rough spots',\n",
       " 'gripping science tales need not be science fiction',\n",
       " 'personal stories and shifting opinions on same-sex marriage',\n",
       " \"amid syria's crisis, mental health care for refugees\"]"
      ]
     },
     "execution_count": 42,
     "metadata": {},
     "output_type": "execute_result"
    }
   ],
   "source": [
    "# brightest_stories_title_list = pd.DataFrame(brightest_stories_title_list)\n",
    "brightest_stories_title_list[:30]"
   ]
  },
  {
   "cell_type": "markdown",
   "id": "4198b668",
   "metadata": {},
   "source": [
    "-  At first glance, these brightest stories seem to mostly belong to a 'human interest' typee news category"
   ]
  },
  {
   "cell_type": "code",
   "execution_count": 43,
   "id": "5215407a",
   "metadata": {},
   "outputs": [],
   "source": [
    "# stories.lemmatized[stories.title == \"iowa's open senate seat and rumbles about 2016\"].values"
   ]
  },
  {
   "cell_type": "markdown",
   "id": "3a1546f5",
   "metadata": {},
   "source": [
    "- One oddball example in the bright stories, unusually about politics"
   ]
  },
  {
   "cell_type": "code",
   "execution_count": 44,
   "id": "a585dbea",
   "metadata": {},
   "outputs": [
    {
     "data": {
      "text/html": [
       "<div>\n",
       "<style scoped>\n",
       "    .dataframe tbody tr th:only-of-type {\n",
       "        vertical-align: middle;\n",
       "    }\n",
       "\n",
       "    .dataframe tbody tr th {\n",
       "        vertical-align: top;\n",
       "    }\n",
       "\n",
       "    .dataframe thead th {\n",
       "        text-align: right;\n",
       "    }\n",
       "</style>\n",
       "<table border=\"1\" class=\"dataframe\">\n",
       "  <thead>\n",
       "    <tr style=\"text-align: right;\">\n",
       "      <th></th>\n",
       "      <th>story_id_num</th>\n",
       "      <th>lemmatized</th>\n",
       "      <th>vader</th>\n",
       "      <th>title</th>\n",
       "      <th>date</th>\n",
       "      <th>host</th>\n",
       "      <th>program</th>\n",
       "    </tr>\n",
       "  </thead>\n",
       "  <tbody>\n",
       "    <tr>\n",
       "      <th>0</th>\n",
       "      <td>17</td>\n",
       "      <td>he is in cahoot with a foreign government to m...</td>\n",
       "      <td>0.9964</td>\n",
       "      <td>n.j. democrat on reported whistleblower compla...</td>\n",
       "      <td>2019-09-22</td>\n",
       "      <td>melissa block</td>\n",
       "      <td>weekend edition sunday</td>\n",
       "    </tr>\n",
       "    <tr>\n",
       "      <th>1</th>\n",
       "      <td>18</td>\n",
       "      <td>come with concrete plan , not beautiful speech...</td>\n",
       "      <td>0.9993</td>\n",
       "      <td>ahead of climate summit, 2 views from cities i...</td>\n",
       "      <td>2019-09-22</td>\n",
       "      <td>melissa block</td>\n",
       "      <td>weekend edition sunday</td>\n",
       "    </tr>\n",
       "    <tr>\n",
       "      <th>2</th>\n",
       "      <td>19</td>\n",
       "      <td>if you stand outside the old dekalb county cou...</td>\n",
       "      <td>0.9974</td>\n",
       "      <td>barred from removing confederate monument, cou...</td>\n",
       "      <td>2019-09-22</td>\n",
       "      <td>melissa block</td>\n",
       "      <td>weekend edition sunday</td>\n",
       "    </tr>\n",
       "    <tr>\n",
       "      <th>3</th>\n",
       "      <td>20</td>\n",
       "      <td>you may have spotted pink salt in your superma...</td>\n",
       "      <td>0.4950</td>\n",
       "      <td>pakistan's pink himalayan salt has become a ma...</td>\n",
       "      <td>2019-09-22</td>\n",
       "      <td>melissa block</td>\n",
       "      <td>weekend edition sunday</td>\n",
       "    </tr>\n",
       "    <tr>\n",
       "      <th>4</th>\n",
       "      <td>21</td>\n",
       "      <td>singing in foreign language . the other day , ...</td>\n",
       "      <td>0.9730</td>\n",
       "      <td>10 years after haiti's earthquake, 'this music...</td>\n",
       "      <td>2019-09-22</td>\n",
       "      <td>melissa block</td>\n",
       "      <td>weekend edition sunday</td>\n",
       "    </tr>\n",
       "  </tbody>\n",
       "</table>\n",
       "</div>"
      ],
      "text/plain": [
       "   story_id_num                                         lemmatized   vader  \\\n",
       "0            17  he is in cahoot with a foreign government to m...  0.9964   \n",
       "1            18  come with concrete plan , not beautiful speech...  0.9993   \n",
       "2            19  if you stand outside the old dekalb county cou...  0.9974   \n",
       "3            20  you may have spotted pink salt in your superma...  0.4950   \n",
       "4            21  singing in foreign language . the other day , ...  0.9730   \n",
       "\n",
       "                                               title        date  \\\n",
       "0  n.j. democrat on reported whistleblower compla...  2019-09-22   \n",
       "1  ahead of climate summit, 2 views from cities i...  2019-09-22   \n",
       "2  barred from removing confederate monument, cou...  2019-09-22   \n",
       "3  pakistan's pink himalayan salt has become a ma...  2019-09-22   \n",
       "4  10 years after haiti's earthquake, 'this music...  2019-09-22   \n",
       "\n",
       "            host                 program  \n",
       "0  melissa block  weekend edition sunday  \n",
       "1  melissa block  weekend edition sunday  \n",
       "2  melissa block  weekend edition sunday  \n",
       "3  melissa block  weekend edition sunday  \n",
       "4  melissa block  weekend edition sunday  "
      ]
     },
     "execution_count": 44,
     "metadata": {},
     "output_type": "execute_result"
    }
   ],
   "source": [
    "stories.head()"
   ]
  },
  {
   "cell_type": "code",
   "execution_count": 45,
   "id": "17b5bc9f",
   "metadata": {},
   "outputs": [],
   "source": [
    "# get dates for the stories from original df\n",
    "# stories['date'] = df.groupby(['story_id_num']).date.first().tolist()"
   ]
  },
  {
   "cell_type": "code",
   "execution_count": 46,
   "id": "3aa5b727",
   "metadata": {},
   "outputs": [],
   "source": [
    "# get new csv\n",
    "# stories.to_csv(\"stories.csv\")"
   ]
  },
  {
   "cell_type": "code",
   "execution_count": 47,
   "id": "3841d902",
   "metadata": {},
   "outputs": [],
   "source": [
    "stories.date = pd.to_datetime(stories.date)"
   ]
  },
  {
   "cell_type": "code",
   "execution_count": 48,
   "id": "81dbdd78",
   "metadata": {
    "scrolled": true
   },
   "outputs": [
    {
     "data": {
      "text/plain": [
       "story_id_num             int64\n",
       "lemmatized              object\n",
       "vader                  float64\n",
       "title                   object\n",
       "date            datetime64[ns]\n",
       "host                    object\n",
       "program                 object\n",
       "dtype: object"
      ]
     },
     "execution_count": 48,
     "metadata": {},
     "output_type": "execute_result"
    }
   ],
   "source": [
    "stories.dtypes"
   ]
  },
  {
   "cell_type": "code",
   "execution_count": 49,
   "id": "f6938346",
   "metadata": {},
   "outputs": [
    {
     "data": {
      "text/html": [
       "<div>\n",
       "<style scoped>\n",
       "    .dataframe tbody tr th:only-of-type {\n",
       "        vertical-align: middle;\n",
       "    }\n",
       "\n",
       "    .dataframe tbody tr th {\n",
       "        vertical-align: top;\n",
       "    }\n",
       "\n",
       "    .dataframe thead th {\n",
       "        text-align: right;\n",
       "    }\n",
       "</style>\n",
       "<table border=\"1\" class=\"dataframe\">\n",
       "  <thead>\n",
       "    <tr style=\"text-align: right;\">\n",
       "      <th></th>\n",
       "      <th>story_id_num</th>\n",
       "      <th>lemmatized</th>\n",
       "      <th>vader</th>\n",
       "      <th>title</th>\n",
       "      <th>date</th>\n",
       "      <th>host</th>\n",
       "      <th>program</th>\n",
       "    </tr>\n",
       "    <tr>\n",
       "      <th>date</th>\n",
       "      <th></th>\n",
       "      <th></th>\n",
       "      <th></th>\n",
       "      <th></th>\n",
       "      <th></th>\n",
       "      <th></th>\n",
       "      <th></th>\n",
       "    </tr>\n",
       "  </thead>\n",
       "  <tbody>\n",
       "    <tr>\n",
       "      <th>2005-01-11</th>\n",
       "      <td>84430</td>\n",
       "      <td>this is talk of the nation. i m neal conan in ...</td>\n",
       "      <td>1.0000</td>\n",
       "      <td>state legislatures: agendas and budgets</td>\n",
       "      <td>2005-01-11</td>\n",
       "      <td>neal conan</td>\n",
       "      <td>talk of the nation</td>\n",
       "    </tr>\n",
       "    <tr>\n",
       "      <th>2005-01-11</th>\n",
       "      <td>84432</td>\n",
       "      <td>this is talk of the nation. i m neal conan in ...</td>\n",
       "      <td>0.9999</td>\n",
       "      <td>difference between a think and a 'blink'</td>\n",
       "      <td>2005-01-11</td>\n",
       "      <td>neal conan</td>\n",
       "      <td>talk of the nation</td>\n",
       "    </tr>\n",
       "    <tr>\n",
       "      <th>2005-01-11</th>\n",
       "      <td>84433</td>\n",
       "      <td>this is talk of the nation. i m neal conan in ...</td>\n",
       "      <td>0.9999</td>\n",
       "      <td>bush picks judge to head homeland security</td>\n",
       "      <td>2005-01-11</td>\n",
       "      <td>neal conan</td>\n",
       "      <td>talk of the nation</td>\n",
       "    </tr>\n",
       "    <tr>\n",
       "      <th>2005-01-11</th>\n",
       "      <td>84434</td>\n",
       "      <td>scientist at the national oceanic and atmosphe...</td>\n",
       "      <td>0.9914</td>\n",
       "      <td>noaa aims for predicting tsunamis</td>\n",
       "      <td>2005-01-11</td>\n",
       "      <td>neal conan</td>\n",
       "      <td>talk of the nation</td>\n",
       "    </tr>\n",
       "    <tr>\n",
       "      <th>2005-01-11</th>\n",
       "      <td>84431</td>\n",
       "      <td>this is talk of the nation. i m neal conan in ...</td>\n",
       "      <td>0.9999</td>\n",
       "      <td>california rains bring rash of mudslides</td>\n",
       "      <td>2005-01-11</td>\n",
       "      <td>neal conan</td>\n",
       "      <td>talk of the nation</td>\n",
       "    </tr>\n",
       "  </tbody>\n",
       "</table>\n",
       "</div>"
      ],
      "text/plain": [
       "            story_id_num                                         lemmatized  \\\n",
       "date                                                                          \n",
       "2005-01-11         84430  this is talk of the nation. i m neal conan in ...   \n",
       "2005-01-11         84432  this is talk of the nation. i m neal conan in ...   \n",
       "2005-01-11         84433  this is talk of the nation. i m neal conan in ...   \n",
       "2005-01-11         84434  scientist at the national oceanic and atmosphe...   \n",
       "2005-01-11         84431  this is talk of the nation. i m neal conan in ...   \n",
       "\n",
       "             vader                                       title       date  \\\n",
       "date                                                                        \n",
       "2005-01-11  1.0000     state legislatures: agendas and budgets 2005-01-11   \n",
       "2005-01-11  0.9999    difference between a think and a 'blink' 2005-01-11   \n",
       "2005-01-11  0.9999  bush picks judge to head homeland security 2005-01-11   \n",
       "2005-01-11  0.9914           noaa aims for predicting tsunamis 2005-01-11   \n",
       "2005-01-11  0.9999    california rains bring rash of mudslides 2005-01-11   \n",
       "\n",
       "                  host             program  \n",
       "date                                        \n",
       "2005-01-11  neal conan  talk of the nation  \n",
       "2005-01-11  neal conan  talk of the nation  \n",
       "2005-01-11  neal conan  talk of the nation  \n",
       "2005-01-11  neal conan  talk of the nation  \n",
       "2005-01-11  neal conan  talk of the nation  "
      ]
     },
     "execution_count": 49,
     "metadata": {},
     "output_type": "execute_result"
    }
   ],
   "source": [
    "# assign new df for tsa looksy\n",
    "tsa = stories.set_index(stories.date).sort_index()\n",
    "tsa.head()"
   ]
  },
  {
   "cell_type": "code",
   "execution_count": 50,
   "id": "663a91d6",
   "metadata": {},
   "outputs": [
    {
     "data": {
      "text/plain": [
       "<AxesSubplot:xlabel='date'>"
      ]
     },
     "execution_count": 50,
     "metadata": {},
     "output_type": "execute_result"
    },
    {
     "data": {
      "image/png": "[encoded data removed]",
      "text/plain": [
       "<Figure size 432x288 with 1 Axes>"
      ]
     },
     "metadata": {
      "needs_background": "light"
     },
     "output_type": "display_data"
    }
   ],
   "source": [
    "# plot stories by sentiment, resampled weekly, averaged out\n",
    "tsa.vader.resample('w').mean().plot()"
   ]
  },
  {
   "cell_type": "code",
   "execution_count": 51,
   "id": "16d230c9",
   "metadata": {},
   "outputs": [
    {
     "data": {
      "text/html": [
       "<div>\n",
       "<style scoped>\n",
       "    .dataframe tbody tr th:only-of-type {\n",
       "        vertical-align: middle;\n",
       "    }\n",
       "\n",
       "    .dataframe tbody tr th {\n",
       "        vertical-align: top;\n",
       "    }\n",
       "\n",
       "    .dataframe thead th {\n",
       "        text-align: right;\n",
       "    }\n",
       "</style>\n",
       "<table border=\"1\" class=\"dataframe\">\n",
       "  <thead>\n",
       "    <tr style=\"text-align: right;\">\n",
       "      <th></th>\n",
       "      <th>vader</th>\n",
       "    </tr>\n",
       "    <tr>\n",
       "      <th>date</th>\n",
       "      <th></th>\n",
       "    </tr>\n",
       "  </thead>\n",
       "  <tbody>\n",
       "    <tr>\n",
       "      <th>2005-01-16</th>\n",
       "      <td>0.998220</td>\n",
       "    </tr>\n",
       "    <tr>\n",
       "      <th>2005-01-23</th>\n",
       "      <td>NaN</td>\n",
       "    </tr>\n",
       "    <tr>\n",
       "      <th>2005-01-30</th>\n",
       "      <td>0.999800</td>\n",
       "    </tr>\n",
       "    <tr>\n",
       "      <th>2005-02-06</th>\n",
       "      <td>NaN</td>\n",
       "    </tr>\n",
       "    <tr>\n",
       "      <th>2005-02-13</th>\n",
       "      <td>NaN</td>\n",
       "    </tr>\n",
       "    <tr>\n",
       "      <th>...</th>\n",
       "      <td>...</td>\n",
       "    </tr>\n",
       "    <tr>\n",
       "      <th>2019-09-15</th>\n",
       "      <td>0.712144</td>\n",
       "    </tr>\n",
       "    <tr>\n",
       "      <th>2019-09-22</th>\n",
       "      <td>0.589789</td>\n",
       "    </tr>\n",
       "    <tr>\n",
       "      <th>2019-09-29</th>\n",
       "      <td>0.839537</td>\n",
       "    </tr>\n",
       "    <tr>\n",
       "      <th>2019-10-06</th>\n",
       "      <td>0.721716</td>\n",
       "    </tr>\n",
       "    <tr>\n",
       "      <th>2019-10-13</th>\n",
       "      <td>0.465194</td>\n",
       "    </tr>\n",
       "  </tbody>\n",
       "</table>\n",
       "<p>770 rows × 1 columns</p>\n",
       "</div>"
      ],
      "text/plain": [
       "               vader\n",
       "date                \n",
       "2005-01-16  0.998220\n",
       "2005-01-23       NaN\n",
       "2005-01-30  0.999800\n",
       "2005-02-06       NaN\n",
       "2005-02-13       NaN\n",
       "...              ...\n",
       "2019-09-15  0.712144\n",
       "2019-09-22  0.589789\n",
       "2019-09-29  0.839537\n",
       "2019-10-06  0.721716\n",
       "2019-10-13  0.465194\n",
       "\n",
       "[770 rows x 1 columns]"
      ]
     },
     "execution_count": 51,
     "metadata": {},
     "output_type": "execute_result"
    }
   ],
   "source": [
    "# assign new df for the weekly sample of vader\n",
    "weekly_tsa=pd.DataFrame(tsa.vader.resample('w').mean())\n",
    "weekly_tsa"
   ]
  },
  {
   "cell_type": "code",
   "execution_count": 52,
   "id": "cf2396c3",
   "metadata": {},
   "outputs": [
    {
     "data": {
      "text/plain": [
       "vader    0\n",
       "dtype: int64"
      ]
     },
     "execution_count": 52,
     "metadata": {},
     "output_type": "execute_result"
    }
   ],
   "source": [
    "# drop 14 nulls\n",
    "weekly_tsa = weekly_tsa.dropna()\n",
    "weekly_tsa.isna().sum()"
   ]
  },
  {
   "cell_type": "code",
   "execution_count": 53,
   "id": "a6e14472",
   "metadata": {},
   "outputs": [
    {
     "data": {
      "text/html": [
       "<div>\n",
       "<style scoped>\n",
       "    .dataframe tbody tr th:only-of-type {\n",
       "        vertical-align: middle;\n",
       "    }\n",
       "\n",
       "    .dataframe tbody tr th {\n",
       "        vertical-align: top;\n",
       "    }\n",
       "\n",
       "    .dataframe thead th {\n",
       "        text-align: right;\n",
       "    }\n",
       "</style>\n",
       "<table border=\"1\" class=\"dataframe\">\n",
       "  <thead>\n",
       "    <tr style=\"text-align: right;\">\n",
       "      <th></th>\n",
       "      <th>vader</th>\n",
       "      <th>weekly_diff</th>\n",
       "    </tr>\n",
       "    <tr>\n",
       "      <th>date</th>\n",
       "      <th></th>\n",
       "      <th></th>\n",
       "    </tr>\n",
       "  </thead>\n",
       "  <tbody>\n",
       "    <tr>\n",
       "      <th>2005-01-16</th>\n",
       "      <td>0.998220</td>\n",
       "      <td>NaN</td>\n",
       "    </tr>\n",
       "    <tr>\n",
       "      <th>2005-01-30</th>\n",
       "      <td>0.999800</td>\n",
       "      <td>0.001580</td>\n",
       "    </tr>\n",
       "    <tr>\n",
       "      <th>2005-05-08</th>\n",
       "      <td>0.596417</td>\n",
       "      <td>-0.403383</td>\n",
       "    </tr>\n",
       "    <tr>\n",
       "      <th>2005-05-15</th>\n",
       "      <td>0.503421</td>\n",
       "      <td>-0.092997</td>\n",
       "    </tr>\n",
       "    <tr>\n",
       "      <th>2005-05-22</th>\n",
       "      <td>0.433512</td>\n",
       "      <td>-0.069909</td>\n",
       "    </tr>\n",
       "  </tbody>\n",
       "</table>\n",
       "</div>"
      ],
      "text/plain": [
       "               vader  weekly_diff\n",
       "date                             \n",
       "2005-01-16  0.998220          NaN\n",
       "2005-01-30  0.999800     0.001580\n",
       "2005-05-08  0.596417    -0.403383\n",
       "2005-05-15  0.503421    -0.092997\n",
       "2005-05-22  0.433512    -0.069909"
      ]
     },
     "execution_count": 53,
     "metadata": {},
     "output_type": "execute_result"
    }
   ],
   "source": [
    "# add vader difference from week to week\n",
    "weekly_tsa['weekly_diff']= weekly_tsa.vader.diff(1)\n",
    "weekly_tsa.head()"
   ]
  },
  {
   "cell_type": "markdown",
   "id": "9f114ea2",
   "metadata": {},
   "source": [
    "### What week saw the biggest drop in sentiment?  "
   ]
  },
  {
   "cell_type": "code",
   "execution_count": 54,
   "id": "927b1392",
   "metadata": {},
   "outputs": [
    {
     "data": {
      "text/plain": [
       "Timestamp('2010-08-01 00:00:00')"
      ]
     },
     "execution_count": 54,
     "metadata": {},
     "output_type": "execute_result"
    }
   ],
   "source": [
    "weekly_tsa.weekly_diff.idxmin()"
   ]
  },
  {
   "cell_type": "markdown",
   "id": "f2758830",
   "metadata": {},
   "source": [
    "- At Least 400 Killed in Pakistan Floods (July 30)\n",
    "- Plane Crash in Pakistan Kills All 152 on Board (July 28)\n",
    "- U.S. Economy Lost 131,000 Jobs in July; Unemployment Remains at 9.5% (Aug. 6)\n",
    "- CA Gay Marriage Ban Overturned (Aug. 4)\n",
    "\n",
    "### Not a lot of concrete evidence of what would cause such a drop"
   ]
  },
  {
   "cell_type": "markdown",
   "id": "4cf06978",
   "metadata": {},
   "source": [
    "### And the biggest increasee?"
   ]
  },
  {
   "cell_type": "code",
   "execution_count": 55,
   "id": "42ab1dcc",
   "metadata": {},
   "outputs": [
    {
     "data": {
      "text/plain": [
       "Timestamp('2015-11-29 00:00:00')"
      ]
     },
     "execution_count": 55,
     "metadata": {},
     "output_type": "execute_result"
    }
   ],
   "source": [
    "weekly_tsa.weekly_diff.idxmax()"
   ]
  },
  {
   "cell_type": "markdown",
   "id": "ab30c832",
   "metadata": {},
   "source": [
    "- 13November2015: Paris terrorist attacks\n",
    "- Three Killed at Planned Parenthood Shooting in Colorado Springs (Nov. 27)\n",
    "- Russian Airliner Brought Down by Bomb (Nov. 17)\n",
    "\n",
    "### Again, nothing concrete: an index of the noise in the data"
   ]
  },
  {
   "cell_type": "code",
   "execution_count": 56,
   "id": "107c1817",
   "metadata": {},
   "outputs": [
    {
     "data": {
      "text/plain": [
       "Timestamp('2005-01-30 00:00:00')"
      ]
     },
     "execution_count": 56,
     "metadata": {},
     "output_type": "execute_result"
    }
   ],
   "source": [
    "weekly_tsa.vader.idxmax()"
   ]
  },
  {
   "cell_type": "code",
   "execution_count": null,
   "id": "9686bf96",
   "metadata": {},
   "outputs": [],
   "source": []
  },
  {
   "cell_type": "code",
   "execution_count": 57,
   "id": "1cdef9c6",
   "metadata": {},
   "outputs": [
    {
     "data": {
      "text/plain": [
       "Timestamp('2015-11-22 00:00:00')"
      ]
     },
     "execution_count": 57,
     "metadata": {},
     "output_type": "execute_result"
    }
   ],
   "source": [
    "weekly_tsa.vader.idxmin()"
   ]
  },
  {
   "cell_type": "code",
   "execution_count": null,
   "id": "21a0c85e",
   "metadata": {},
   "outputs": [],
   "source": []
  },
  {
   "cell_type": "code",
   "execution_count": 58,
   "id": "0f60b60a",
   "metadata": {},
   "outputs": [
    {
     "ename": "SyntaxError",
     "evalue": "invalid syntax (<ipython-input-58-07d8789a56ee>, line 1)",
     "output_type": "error",
     "traceback": [
      "\u001b[0;36m  File \u001b[0;32m\"<ipython-input-58-07d8789a56ee>\"\u001b[0;36m, line \u001b[0;32m1\u001b[0m\n\u001b[0;31m    BREAK THE NOTEBOOK\u001b[0m\n\u001b[0m          ^\u001b[0m\n\u001b[0;31mSyntaxError\u001b[0m\u001b[0;31m:\u001b[0m invalid syntax\n"
     ]
    }
   ],
   "source": [
    "BREAK THE NOTEBOOK"
   ]
  },
  {
   "cell_type": "markdown",
   "id": "84871056",
   "metadata": {},
   "source": [
    "## Below begins my attempt to use gensim for LDA topic modeling"
   ]
  },
  {
   "cell_type": "code",
   "execution_count": null,
   "id": "9d8d3845",
   "metadata": {},
   "outputs": [],
   "source": [
    "# import gensim\n",
    "# from gensim.utils import simple_preprocess\n",
    "# import nltk\n",
    "# nltk.download('stopwords')\n",
    "# from nltk.corpus import stopwords\n",
    "# stop_words = stopwords.words('english')\n",
    "# # stop_words.extend(['from', 'subject', 're', 'edu', 'use'])\n",
    "# def sent_to_words(sentences):\n",
    "#     for sentence in sentences:\n",
    "#         # deacc=True removes punctuations\n",
    "#         yield(gensim.utils.simple_preprocess(str(sentence), deacc=False))\n",
    "# def remove_stopwords(texts):\n",
    "#     return [[word for word in simple_preprocess(str(doc)) \n",
    "#              if word not in stop_words] for doc in texts]\n",
    "# data = stories.lemmatized.values.tolist()\n",
    "# data_words = list(sent_to_words(data))\n",
    "# # remove stop words\n",
    "# data_words = remove_stopwords(data_words)\n",
    "# print(data_words[:1][0][:30])"
   ]
  },
  {
   "cell_type": "code",
   "execution_count": null,
   "id": "ce9b4e56",
   "metadata": {},
   "outputs": [],
   "source": [
    "# import gensim.corpora as corpora\n",
    "# # Create Dictionary\n",
    "# id2word = corpora.Dictionary(data_words)\n",
    "# # Create Corpus\n",
    "# texts = data_words\n",
    "# # Term Document Frequency\n",
    "# corpus = [id2word.doc2bow(text) for text in texts]\n",
    "# # View\n",
    "# print(corpus[:1][0][:30])"
   ]
  },
  {
   "cell_type": "code",
   "execution_count": null,
   "id": "7a65c06f",
   "metadata": {},
   "outputs": [],
   "source": [
    "# from pprint import pprint\n",
    "# # number of topics\n",
    "# num_topics = 10\n",
    "# # Build LDA model\n",
    "# lda_model = gensim.models.LdaMulticore(corpus=corpus,\n",
    "#                                        id2word=id2word,\n",
    "#                                        num_topics=num_topics)\n",
    "# # Print the Keyword in the 10 topics\n",
    "# pprint(lda_model.print_topics())\n",
    "# doc_lda = lda_model[corpus]"
   ]
  },
  {
   "cell_type": "code",
   "execution_count": null,
   "id": "cc08c102",
   "metadata": {},
   "outputs": [],
   "source": [
    "# # import pyLDAvis.gensim\n",
    "# import os\n",
    "# import pyLDAvis.gensim_models as gensimvis\n",
    "# import pickle \n",
    "# import pyLDAvis\n",
    "# # Visualize the topics\n",
    "# pyLDAvis.enable_notebook()\n",
    "# # LDAvis_data_filepath = os.path.join('./results/ldavis_prepared_'+ str(num_topics)+str(num_topics))\n",
    "# # # this is a bit time consuming - make the if statement True\n",
    "# # # if you want to execute visualization prep yourself\n",
    "# if 1 == 1:\n",
    "# #     LDAvis_prepared = pyLDAvis.gensim.prepare(lda_model, corpus, id2word)\n",
    "#     LDAvis_prepared = gensimvis.prepare(lda_model, corpus, id2word)\n",
    "# #     with open(LDAvis_data_filepath, 'wb') as f:\n",
    "# #         pickle.dump(LDAvis_prepared, f)\n",
    "# # load the pre-prepared pyLDAvis data from disk\n",
    "# # with open(LDAvis_data_filepath, 'rb') as f:\n",
    "# #     LDAvis_prepared = pickle.load(f)\n",
    "# # pyLDAvis.save_html(LDAvis_prepared, './results/ldavis_prepared_'+ str(num_topics) +'.html')\n",
    "# LDAvis_prepared"
   ]
  },
  {
   "cell_type": "code",
   "execution_count": null,
   "id": "094678be",
   "metadata": {},
   "outputs": [],
   "source": [
    "# type(LDAvis_prepared)"
   ]
  },
  {
   "cell_type": "code",
   "execution_count": null,
   "id": "287b5263",
   "metadata": {},
   "outputs": [],
   "source": [
    "# BREAK. THIS. NOTEBOOK. "
   ]
  },
  {
   "cell_type": "markdown",
   "id": "d6e33411",
   "metadata": {},
   "source": [
    "## The same...but running it on the titles instead of the corpi"
   ]
  },
  {
   "cell_type": "code",
   "execution_count": null,
   "id": "27ca4263",
   "metadata": {
    "scrolled": true
   },
   "outputs": [],
   "source": [
    "import gensim\n",
    "from gensim.utils import simple_preprocess\n",
    "import nltk\n",
    "nltk.download('stopwords')\n",
    "from nltk.corpus import stopwords\n",
    "stop_words = stopwords.words('english')\n",
    "# stop_words.extend(['from', 'subject', 're', 'edu', 'use'])\n",
    "def sent_to_words(sentences):\n",
    "    for sentence in sentences:\n",
    "        # deacc=True removes punctuations\n",
    "        yield(gensim.utils.simple_preprocess(str(sentence), deacc=False))\n",
    "def remove_stopwords(texts):\n",
    "    return [[word for word in simple_preprocess(str(doc)) \n",
    "             if word not in stop_words] for doc in texts]\n",
    "data = stories.title.values.tolist()\n",
    "data_words = list(sent_to_words(data))\n",
    "# remove stop words\n",
    "data_words = remove_stopwords(data_words)\n",
    "print(data_words[:1][0][:30])"
   ]
  },
  {
   "cell_type": "code",
   "execution_count": null,
   "id": "466efd3c",
   "metadata": {},
   "outputs": [],
   "source": [
    "import gensim.corpora as corpora\n",
    "# Create Dictionary\n",
    "id2word = corpora.Dictionary(data_words)\n",
    "# Create Corpus\n",
    "texts = data_words\n",
    "# Term Document Frequency\n",
    "corpus = [id2word.doc2bow(text) for text in texts]\n",
    "# View\n",
    "print(corpus[:1][0][:30])"
   ]
  },
  {
   "cell_type": "code",
   "execution_count": null,
   "id": "6da1324e",
   "metadata": {},
   "outputs": [],
   "source": [
    "from pprint import pprint\n",
    "# number of topics\n",
    "num_topics = 10\n",
    "# Build LDA model\n",
    "lda_model = gensim.models.LdaMulticore(corpus=corpus,\n",
    "                                       id2word=id2word,\n",
    "                                       num_topics=num_topics)\n",
    "# Print the Keyword in the 10 topics\n",
    "pprint(lda_model.print_topics())\n",
    "doc_lda = lda_model[corpus]"
   ]
  },
  {
   "cell_type": "code",
   "execution_count": null,
   "id": "497d64a6",
   "metadata": {},
   "outputs": [],
   "source": [
    "# import pyLDAvis.gensim\n",
    "import os\n",
    "import pyLDAvis.gensim_models as gensimvis\n",
    "import pickle \n",
    "import pyLDAvis\n",
    "# Visualize the topics\n",
    "pyLDAvis.enable_notebook()\n",
    "# LDAvis_data_filepath = os.path.join('./results/ldavis_prepared_'+ str(num_topics)+str(num_topics))\n",
    "# # this is a bit time consuming - make the if statement True\n",
    "# # if you want to execute visualization prep yourself\n",
    "if 1 == 1:\n",
    "#     LDAvis_prepared = pyLDAvis.gensim.prepare(lda_model, corpus, id2word)\n",
    "    LDAvis_prepared = gensimvis.prepare(lda_model, corpus, id2word)\n",
    "#     with open(LDAvis_data_filepath, 'wb') as f:\n",
    "#         pickle.dump(LDAvis_prepared, f)\n",
    "# load the pre-prepared pyLDAvis data from disk\n",
    "# with open(LDAvis_data_filepath, 'rb') as f:\n",
    "#     LDAvis_prepared = pickle.load(f)\n",
    "# pyLDAvis.save_html(LDAvis_prepared, './results/ldavis_prepared_'+ str(num_topics) +'.html')\n",
    "LDAvis_prepared"
   ]
  },
  {
   "cell_type": "markdown",
   "id": "0bd150f3",
   "metadata": {},
   "source": [
    "## Evaluate? (be aware of which  data_words are being sent in)"
   ]
  },
  {
   "cell_type": "code",
   "execution_count": null,
   "id": "0fa85897",
   "metadata": {},
   "outputs": [],
   "source": [
    "# # Build the bigram and trigram models\n",
    "bigram = gensim.models.Phrases(data_words, min_count=5, threshold=100) # higher threshold fewer phrases.\n",
    "trigram = gensim.models.Phrases(bigram[data_words], threshold=100)\n",
    "# Faster way to get a sentence clubbed as a trigram/bigram\n",
    "bigram_mod = gensim.models.phrases.Phraser(bigram)\n",
    "trigram_mod = gensim.models.phrases.Phraser(trigram)"
   ]
  },
  {
   "cell_type": "code",
   "execution_count": null,
   "id": "a2efe8ed",
   "metadata": {},
   "outputs": [],
   "source": [
    "# NLTK Stop words\n",
    "# import nltk\n",
    "# nltk.download('stopwords')\n",
    "from nltk.corpus import stopwords\n",
    "stop_words = stopwords.words('english')\n",
    "stop_words.extend(['from', 'subject', 're', 'edu', 'use'])\n",
    "# Define functions for stopwords, bigrams, trigrams and lemmatization\n",
    "def remove_stopwords(texts):\n",
    "    return [[word for word in simple_preprocess(str(doc)) if word not in stop_words] for doc in texts]\n",
    "def make_bigrams(texts):\n",
    "    return [bigram_mod[doc] for doc in texts]\n",
    "def make_trigrams(texts):\n",
    "    return [trigram_mod[bigram_mod[doc]] for doc in texts]\n",
    "def lemmatization(texts, allowed_postags=['NOUN', 'ADJ', 'VERB', 'ADV']):\n",
    "    \"\"\"https://spacy.io/api/annotation\"\"\"\n",
    "    texts_out = []\n",
    "    for sent in texts:\n",
    "        doc = nlp(\" \".join(sent)) \n",
    "        texts_out.append([token.lemma_ for token in doc if token.pos_ in allowed_postags])\n",
    "    return texts_out"
   ]
  },
  {
   "cell_type": "code",
   "execution_count": null,
   "id": "0a07e97c",
   "metadata": {},
   "outputs": [],
   "source": [
    "import spacy\n",
    "# Remove Stop Words\n",
    "data_words_nostops = remove_stopwords(data_words)\n",
    "# Form Bigrams\n",
    "data_words_bigrams = make_bigrams(data_words_nostops)\n",
    "# Initialize spacy 'en' model, keeping only tagger component (for efficiency)\n",
    "nlp = spacy.load(\"en_core_web_sm\", disable=['parser', 'ner']) # see https://spacy.io/models/en for info on this pipeline\n",
    "# Do lemmatization keeping only noun, adj, vb, adv\n",
    "data_lemmatized = lemmatization(data_words_bigrams, allowed_postags=['NOUN', 'ADJ', 'VERB', 'ADV'])\n",
    "print(data_lemmatized[:1])"
   ]
  },
  {
   "cell_type": "code",
   "execution_count": null,
   "id": "01af1b4b",
   "metadata": {},
   "outputs": [],
   "source": [
    "import gensim.corpora as corpora\n",
    "# Create Dictionary\n",
    "id2word = corpora.Dictionary(data_lemmatized)\n",
    "# Create Corpus\n",
    "texts = data_lemmatized\n",
    "# Term Document Frequency\n",
    "corpus = [id2word.doc2bow(text) for text in texts]\n",
    "# View\n",
    "print(corpus[:1])"
   ]
  },
  {
   "cell_type": "code",
   "execution_count": null,
   "id": "b51eed03",
   "metadata": {},
   "outputs": [],
   "source": [
    "# Build LDA model\n",
    "lda_model = gensim.models.LdaMulticore(corpus=corpus,\n",
    "                                       id2word=id2word,\n",
    "                                       num_topics=10, \n",
    "                                       random_state=100,\n",
    "                                       chunksize=100,\n",
    "                                       passes=10,\n",
    "                                       per_word_topics=True)"
   ]
  },
  {
   "cell_type": "code",
   "execution_count": null,
   "id": "a27b7dc6",
   "metadata": {},
   "outputs": [],
   "source": [
    "# from pprint import pprint\n",
    "# # Print the Keyword in the 10 topics\n",
    "# pprint(lda_model.print_topics())\n",
    "# doc_lda = lda_model[corpus]"
   ]
  },
  {
   "cell_type": "code",
   "execution_count": null,
   "id": "98131d0a",
   "metadata": {},
   "outputs": [],
   "source": [
    "from gensim.models import CoherenceModel\n",
    "# Compute Coherence Score\n",
    "coherence_model_lda = CoherenceModel(model=lda_model, texts=data_lemmatized, dictionary=id2word, coherence='c_v')\n",
    "coherence_lda = coherence_model_lda.get_coherence()\n",
    "print('\\nCoherence Score: ', coherence_lda)"
   ]
  },
  {
   "cell_type": "code",
   "execution_count": null,
   "id": "d34636a4",
   "metadata": {},
   "outputs": [],
   "source": [
    "# supporting function\n",
    "def compute_coherence_values(corpus, dictionary, k, a, b):\n",
    "    \n",
    "    lda_model = gensim.models.LdaMulticore(corpus=corpus,\n",
    "                                           id2word=dictionary,\n",
    "                                           num_topics=k, \n",
    "                                           random_state=100,\n",
    "                                           chunksize=100,\n",
    "                                           passes=10,\n",
    "                                           alpha=a,\n",
    "                                           eta=b)\n",
    "    \n",
    "    coherence_model_lda = CoherenceModel(model=lda_model, texts=data_lemmatized, dictionary=id2word, coherence='c_v')\n",
    "    \n",
    "    return coherence_model_lda.get_coherence()"
   ]
  },
  {
   "cell_type": "markdown",
   "id": "aa81c98b",
   "metadata": {},
   "source": [
    "## The following code is commented out bc it takes ages to run, and I have the results csv from when I ran it"
   ]
  },
  {
   "cell_type": "code",
   "execution_count": null,
   "id": "5527d58a",
   "metadata": {
    "scrolled": true
   },
   "outputs": [],
   "source": [
    "# import numpy as np\n",
    "# import tqdm\n",
    "# grid = {}\n",
    "# grid['Validation_Set'] = {}\n",
    "# # Topics range\n",
    "# min_topics = 2\n",
    "# max_topics = 11\n",
    "# step_size = 1\n",
    "# topics_range = range(min_topics, max_topics, step_size)\n",
    "# # Alpha parameter\n",
    "# alpha = list(np.arange(0.01, 1, 0.3))\n",
    "# alpha.append('symmetric')\n",
    "# alpha.append('asymmetric')\n",
    "# # Beta parameter\n",
    "# beta = list(np.arange(0.01, 1, 0.3))\n",
    "# beta.append('symmetric')\n",
    "# # Validation sets\n",
    "# num_of_docs = len(corpus)\n",
    "# corpus_sets = [# gensim.utils.ClippedCorpus(corpus, num_of_docs*0.25), \n",
    "#                # gensim.utils.ClippedCorpus(corpus, num_of_docs*0.5), \n",
    "#                gensim.utils.ClippedCorpus(corpus, int(num_of_docs*0.75)), \n",
    "#                corpus]\n",
    "# corpus_title = ['75% Corpus', '100% Corpus']\n",
    "# model_results = {'Validation_Set': [],\n",
    "#                  'Topics': [],\n",
    "#                  'Alpha': [],\n",
    "#                  'Beta': [],\n",
    "#                  'Coherence': []\n",
    "#                 }\n",
    "# # Can take a long time to run\n",
    "# if 1 == 1:\n",
    "#     pbar = tqdm.tqdm(total=540)\n",
    "    \n",
    "#     # iterate through validation corpuses\n",
    "#     for i in range(len(corpus_sets)):\n",
    "#         # iterate through number of topics\n",
    "#         for k in topics_range:\n",
    "#             # iterate through alpha values\n",
    "#             for a in alpha:\n",
    "#                 # iterare through beta values\n",
    "#                 for b in beta:\n",
    "#                     # get the coherence score for the given parameters\n",
    "#                     cv = compute_coherence_values(corpus=corpus_sets[i], dictionary=id2word, \n",
    "#                                                   k=k, a=a, b=b)\n",
    "#                     # Save the model results\n",
    "#                     model_results['Validation_Set'].append(corpus_title[i])\n",
    "#                     model_results['Topics'].append(k)\n",
    "#                     model_results['Alpha'].append(a)\n",
    "#                     model_results['Beta'].append(b)\n",
    "#                     model_results['Coherence'].append(cv)\n",
    "                    \n",
    "#                     pbar.update(1)\n",
    "#     pd.DataFrame(model_results).to_csv('lda_tuning_results_corpora.csv', index=False)\n",
    "#     pbar.close()"
   ]
  },
  {
   "cell_type": "code",
   "execution_count": null,
   "id": "57bdcfeb",
   "metadata": {},
   "outputs": [],
   "source": [
    "# use the above-selected parameters to train the model\n",
    "\n",
    "lda_model = gensim.models.LdaMulticore(corpus=corpus,\n",
    "                                           id2word=id2word,\n",
    "                                           num_topics=4, \n",
    "                                           random_state=100,\n",
    "                                           chunksize=100,\n",
    "                                           passes=10,\n",
    "                                           alpha=0.01,\n",
    "                                           eta=0.9)"
   ]
  },
  {
   "cell_type": "code",
   "execution_count": null,
   "id": "4418faee",
   "metadata": {},
   "outputs": [],
   "source": [
    "import pyLDAvis.gensim_models as gensimvis\n",
    "import pickle \n",
    "import pyLDAvis\n",
    "# Visualize the topics\n",
    "pyLDAvis.enable_notebook()\n",
    "LDAvis_prepared = gensimvis.prepare(lda_model, corpus, id2word)\n",
    "LDAvis_prepared"
   ]
  },
  {
   "cell_type": "code",
   "execution_count": null,
   "id": "1032c728",
   "metadata": {
    "scrolled": true
   },
   "outputs": [],
   "source": [
    "pyLDAvis.save_html(LDAvis_prepared, \"LDAvis_prepared_titles_4topics2.html\")"
   ]
  },
  {
   "cell_type": "code",
   "execution_count": null,
   "id": "bf36b4a1",
   "metadata": {
    "scrolled": true
   },
   "outputs": [],
   "source": [
    "eval_df = pd.read_csv(\"lda_tuning_results.csv\")\n",
    "eval_df"
   ]
  },
  {
   "cell_type": "code",
   "execution_count": null,
   "id": "459b3069",
   "metadata": {},
   "outputs": [],
   "source": [
    "import seaborn as sns\n",
    "sns.lineplot(data= eval_df,x=\"Topics\",y='Coherence')"
   ]
  },
  {
   "cell_type": "code",
   "execution_count": null,
   "id": "3b34a553",
   "metadata": {},
   "outputs": [],
   "source": [
    "eval_df[eval_df.Topics == 8].groupby(by='Alpha').Coherence.max()"
   ]
  },
  {
   "cell_type": "markdown",
   "id": "7f6107cf",
   "metadata": {},
   "source": [
    "## These were the results as run on the TITLES, not on the stories themselves"
   ]
  },
  {
   "cell_type": "markdown",
   "id": "d2c7aee8",
   "metadata": {},
   "source": [
    "# Topic modeling on aggregations?\n",
    "- melissa block vs the rest maybe??"
   ]
  },
  {
   "cell_type": "code",
   "execution_count": 59,
   "id": "4b447e11",
   "metadata": {},
   "outputs": [
    {
     "data": {
      "text/html": [
       "<div>\n",
       "<style scoped>\n",
       "    .dataframe tbody tr th:only-of-type {\n",
       "        vertical-align: middle;\n",
       "    }\n",
       "\n",
       "    .dataframe tbody tr th {\n",
       "        vertical-align: top;\n",
       "    }\n",
       "\n",
       "    .dataframe thead th {\n",
       "        text-align: right;\n",
       "    }\n",
       "</style>\n",
       "<table border=\"1\" class=\"dataframe\">\n",
       "  <thead>\n",
       "    <tr style=\"text-align: right;\">\n",
       "      <th></th>\n",
       "      <th>story_id_num</th>\n",
       "      <th>lemmatized</th>\n",
       "      <th>vader</th>\n",
       "      <th>title</th>\n",
       "      <th>date</th>\n",
       "      <th>host</th>\n",
       "      <th>program</th>\n",
       "    </tr>\n",
       "  </thead>\n",
       "  <tbody>\n",
       "    <tr>\n",
       "      <th>0</th>\n",
       "      <td>17</td>\n",
       "      <td>he is in cahoot with a foreign government to m...</td>\n",
       "      <td>0.9964</td>\n",
       "      <td>n.j. democrat on reported whistleblower compla...</td>\n",
       "      <td>2019-09-22</td>\n",
       "      <td>melissa block</td>\n",
       "      <td>weekend edition sunday</td>\n",
       "    </tr>\n",
       "    <tr>\n",
       "      <th>1</th>\n",
       "      <td>18</td>\n",
       "      <td>come with concrete plan , not beautiful speech...</td>\n",
       "      <td>0.9993</td>\n",
       "      <td>ahead of climate summit, 2 views from cities i...</td>\n",
       "      <td>2019-09-22</td>\n",
       "      <td>melissa block</td>\n",
       "      <td>weekend edition sunday</td>\n",
       "    </tr>\n",
       "    <tr>\n",
       "      <th>2</th>\n",
       "      <td>19</td>\n",
       "      <td>if you stand outside the old dekalb county cou...</td>\n",
       "      <td>0.9974</td>\n",
       "      <td>barred from removing confederate monument, cou...</td>\n",
       "      <td>2019-09-22</td>\n",
       "      <td>melissa block</td>\n",
       "      <td>weekend edition sunday</td>\n",
       "    </tr>\n",
       "    <tr>\n",
       "      <th>3</th>\n",
       "      <td>20</td>\n",
       "      <td>you may have spotted pink salt in your superma...</td>\n",
       "      <td>0.4950</td>\n",
       "      <td>pakistan's pink himalayan salt has become a ma...</td>\n",
       "      <td>2019-09-22</td>\n",
       "      <td>melissa block</td>\n",
       "      <td>weekend edition sunday</td>\n",
       "    </tr>\n",
       "    <tr>\n",
       "      <th>4</th>\n",
       "      <td>21</td>\n",
       "      <td>singing in foreign language . the other day , ...</td>\n",
       "      <td>0.9730</td>\n",
       "      <td>10 years after haiti's earthquake, 'this music...</td>\n",
       "      <td>2019-09-22</td>\n",
       "      <td>melissa block</td>\n",
       "      <td>weekend edition sunday</td>\n",
       "    </tr>\n",
       "  </tbody>\n",
       "</table>\n",
       "</div>"
      ],
      "text/plain": [
       "   story_id_num                                         lemmatized   vader  \\\n",
       "0            17  he is in cahoot with a foreign government to m...  0.9964   \n",
       "1            18  come with concrete plan , not beautiful speech...  0.9993   \n",
       "2            19  if you stand outside the old dekalb county cou...  0.9974   \n",
       "3            20  you may have spotted pink salt in your superma...  0.4950   \n",
       "4            21  singing in foreign language . the other day , ...  0.9730   \n",
       "\n",
       "                                               title       date  \\\n",
       "0  n.j. democrat on reported whistleblower compla... 2019-09-22   \n",
       "1  ahead of climate summit, 2 views from cities i... 2019-09-22   \n",
       "2  barred from removing confederate monument, cou... 2019-09-22   \n",
       "3  pakistan's pink himalayan salt has become a ma... 2019-09-22   \n",
       "4  10 years after haiti's earthquake, 'this music... 2019-09-22   \n",
       "\n",
       "            host                 program  \n",
       "0  melissa block  weekend edition sunday  \n",
       "1  melissa block  weekend edition sunday  \n",
       "2  melissa block  weekend edition sunday  \n",
       "3  melissa block  weekend edition sunday  \n",
       "4  melissa block  weekend edition sunday  "
      ]
     },
     "execution_count": 59,
     "metadata": {},
     "output_type": "execute_result"
    }
   ],
   "source": [
    "stories.head()"
   ]
  },
  {
   "cell_type": "code",
   "execution_count": 60,
   "id": "16aa3bae",
   "metadata": {},
   "outputs": [
    {
     "data": {
      "text/html": [
       "<div>\n",
       "<style scoped>\n",
       "    .dataframe tbody tr th:only-of-type {\n",
       "        vertical-align: middle;\n",
       "    }\n",
       "\n",
       "    .dataframe tbody tr th {\n",
       "        vertical-align: top;\n",
       "    }\n",
       "\n",
       "    .dataframe thead th {\n",
       "        text-align: right;\n",
       "    }\n",
       "</style>\n",
       "<table border=\"1\" class=\"dataframe\">\n",
       "  <thead>\n",
       "    <tr style=\"text-align: right;\">\n",
       "      <th></th>\n",
       "      <th>story_id_num</th>\n",
       "      <th>lemmatized</th>\n",
       "      <th>vader</th>\n",
       "      <th>title</th>\n",
       "      <th>date</th>\n",
       "      <th>host</th>\n",
       "      <th>program</th>\n",
       "    </tr>\n",
       "  </thead>\n",
       "  <tbody>\n",
       "    <tr>\n",
       "      <th>32831</th>\n",
       "      <td>99207</td>\n",
       "      <td>along iraq s long border to the west with syri...</td>\n",
       "      <td>0.9862</td>\n",
       "      <td>along iraq-syria border, two key crossings fal...</td>\n",
       "      <td>2014-06-23</td>\n",
       "      <td>melissa block</td>\n",
       "      <td>all things considered</td>\n",
       "    </tr>\n",
       "    <tr>\n",
       "      <th>56431</th>\n",
       "      <td>132277</td>\n",
       "      <td>from npr news , this is all thing considered. ...</td>\n",
       "      <td>0.9984</td>\n",
       "      <td>earth's shadow to swallow moon in total eclipse</td>\n",
       "      <td>2008-02-20</td>\n",
       "      <td>melissa block</td>\n",
       "      <td>all things considered</td>\n",
       "    </tr>\n",
       "    <tr>\n",
       "      <th>34588</th>\n",
       "      <td>101524</td>\n",
       "      <td>the syrian peace conference got off to a bitte...</td>\n",
       "      <td>0.4323</td>\n",
       "      <td>syrian peace talks open with bitterness and a ...</td>\n",
       "      <td>2014-01-22</td>\n",
       "      <td>melissa block</td>\n",
       "      <td>all things considered</td>\n",
       "    </tr>\n",
       "    <tr>\n",
       "      <th>29764</th>\n",
       "      <td>94829</td>\n",
       "      <td>to the upper peninsula of michigan now for new...</td>\n",
       "      <td>0.9904</td>\n",
       "      <td>icy traffic jam on lake superior has 18 ships ...</td>\n",
       "      <td>2015-04-08</td>\n",
       "      <td>melissa block</td>\n",
       "      <td>all things considered</td>\n",
       "    </tr>\n",
       "    <tr>\n",
       "      <th>60448</th>\n",
       "      <td>139526</td>\n",
       "      <td>now to damascus. for reaction there , we re jo...</td>\n",
       "      <td>-0.9953</td>\n",
       "      <td>damascus rejects u.n. report on hariri death</td>\n",
       "      <td>2005-10-25</td>\n",
       "      <td>melissa block</td>\n",
       "      <td>all things considered</td>\n",
       "    </tr>\n",
       "  </tbody>\n",
       "</table>\n",
       "</div>"
      ],
      "text/plain": [
       "       story_id_num                                         lemmatized  \\\n",
       "32831         99207  along iraq s long border to the west with syri...   \n",
       "56431        132277  from npr news , this is all thing considered. ...   \n",
       "34588        101524  the syrian peace conference got off to a bitte...   \n",
       "29764         94829  to the upper peninsula of michigan now for new...   \n",
       "60448        139526  now to damascus. for reaction there , we re jo...   \n",
       "\n",
       "        vader                                              title       date  \\\n",
       "32831  0.9862  along iraq-syria border, two key crossings fal... 2014-06-23   \n",
       "56431  0.9984    earth's shadow to swallow moon in total eclipse 2008-02-20   \n",
       "34588  0.4323  syrian peace talks open with bitterness and a ... 2014-01-22   \n",
       "29764  0.9904  icy traffic jam on lake superior has 18 ships ... 2015-04-08   \n",
       "60448 -0.9953       damascus rejects u.n. report on hariri death 2005-10-25   \n",
       "\n",
       "                host                program  \n",
       "32831  melissa block  all things considered  \n",
       "56431  melissa block  all things considered  \n",
       "34588  melissa block  all things considered  \n",
       "29764  melissa block  all things considered  \n",
       "60448  melissa block  all things considered  "
      ]
     },
     "execution_count": 60,
     "metadata": {},
     "output_type": "execute_result"
    }
   ],
   "source": [
    "block = stories[stories.host=='melissa block']\n",
    "block.sample(5)"
   ]
  },
  {
   "cell_type": "code",
   "execution_count": 62,
   "id": "a357214f",
   "metadata": {
    "scrolled": false
   },
   "outputs": [
    {
     "data": {
      "text/html": [
       "<div>\n",
       "<style scoped>\n",
       "    .dataframe tbody tr th:only-of-type {\n",
       "        vertical-align: middle;\n",
       "    }\n",
       "\n",
       "    .dataframe tbody tr th {\n",
       "        vertical-align: top;\n",
       "    }\n",
       "\n",
       "    .dataframe thead th {\n",
       "        text-align: right;\n",
       "    }\n",
       "</style>\n",
       "<table border=\"1\" class=\"dataframe\">\n",
       "  <thead>\n",
       "    <tr style=\"text-align: right;\">\n",
       "      <th></th>\n",
       "      <th>story_id_num</th>\n",
       "      <th>lemmatized</th>\n",
       "      <th>vader</th>\n",
       "      <th>title</th>\n",
       "      <th>date</th>\n",
       "      <th>host</th>\n",
       "      <th>program</th>\n",
       "    </tr>\n",
       "  </thead>\n",
       "  <tbody>\n",
       "    <tr>\n",
       "      <th>31377</th>\n",
       "      <td>97269</td>\n",
       "      <td>now politics with our regular commentator , co...</td>\n",
       "      <td>0.9980</td>\n",
       "      <td>week in politics: ebola, midterms</td>\n",
       "      <td>2014-10-24</td>\n",
       "      <td>robert siegel</td>\n",
       "      <td>all things considered</td>\n",
       "    </tr>\n",
       "    <tr>\n",
       "      <th>22017</th>\n",
       "      <td>81240</td>\n",
       "      <td>this is talk of the nation. i m neal conan in ...</td>\n",
       "      <td>0.9998</td>\n",
       "      <td>research examines why kids start smoking</td>\n",
       "      <td>2005-12-08</td>\n",
       "      <td>neal conan</td>\n",
       "      <td>talk of the nation</td>\n",
       "    </tr>\n",
       "    <tr>\n",
       "      <th>61115</th>\n",
       "      <td>140676</td>\n",
       "      <td>from npr news , this is all thing considered. ...</td>\n",
       "      <td>0.9993</td>\n",
       "      <td>artificial disc offers new hope for treating b...</td>\n",
       "      <td>2005-05-10</td>\n",
       "      <td>robert siegel</td>\n",
       "      <td>all things considered</td>\n",
       "    </tr>\n",
       "    <tr>\n",
       "      <th>35433</th>\n",
       "      <td>102648</td>\n",
       "      <td>france is trying lot of thing to turn it econo...</td>\n",
       "      <td>0.9942</td>\n",
       "      <td>will the french really pay more for 'made in f...</td>\n",
       "      <td>2013-11-11</td>\n",
       "      <td>robert siegel</td>\n",
       "      <td>all things considered</td>\n",
       "    </tr>\n",
       "    <tr>\n",
       "      <th>6601</th>\n",
       "      <td>31524</td>\n",
       "      <td>the television star who burnished his fame wit...</td>\n",
       "      <td>0.9932</td>\n",
       "      <td>before a divided congress, trump to give state...</td>\n",
       "      <td>2019-02-05</td>\n",
       "      <td>steve inskeep</td>\n",
       "      <td>morning edition</td>\n",
       "    </tr>\n",
       "  </tbody>\n",
       "</table>\n",
       "</div>"
      ],
      "text/plain": [
       "       story_id_num                                         lemmatized  \\\n",
       "31377         97269  now politics with our regular commentator , co...   \n",
       "22017         81240  this is talk of the nation. i m neal conan in ...   \n",
       "61115        140676  from npr news , this is all thing considered. ...   \n",
       "35433        102648  france is trying lot of thing to turn it econo...   \n",
       "6601          31524  the television star who burnished his fame wit...   \n",
       "\n",
       "        vader                                              title       date  \\\n",
       "31377  0.9980                  week in politics: ebola, midterms 2014-10-24   \n",
       "22017  0.9998           research examines why kids start smoking 2005-12-08   \n",
       "61115  0.9993  artificial disc offers new hope for treating b... 2005-05-10   \n",
       "35433  0.9942  will the french really pay more for 'made in f... 2013-11-11   \n",
       "6601   0.9932  before a divided congress, trump to give state... 2019-02-05   \n",
       "\n",
       "                host                program  \n",
       "31377  robert siegel  all things considered  \n",
       "22017     neal conan     talk of the nation  \n",
       "61115  robert siegel  all things considered  \n",
       "35433  robert siegel  all things considered  \n",
       "6601   steve inskeep        morning edition  "
      ]
     },
     "execution_count": 62,
     "metadata": {},
     "output_type": "execute_result"
    }
   ],
   "source": [
    "other_hosts=stories[stories.host!='melissa block']\n",
    "other_hosts.sample(5)"
   ]
  },
  {
   "cell_type": "code",
   "execution_count": 81,
   "id": "522e9477",
   "metadata": {},
   "outputs": [
    {
     "name": "stderr",
     "output_type": "stream",
     "text": [
      "/usr/local/anaconda3/lib/python3.8/site-packages/ipykernel/ipkernel.py:287: DeprecationWarning: `should_run_async` will not call `transform_cell` automatically in the future. Please pass the result to `transformed_cell` argument and any exception that happen during thetransform in `preprocessing_exc_tuple` in IPython 7.17 and above.\n",
      "  and should_run_async(code)\n"
     ]
    },
    {
     "data": {
      "text/plain": [
       "morning edition             26688\n",
       "all things considered       17761\n",
       "talk of the nation           7248\n",
       "weekend edition saturday     4944\n",
       "news & notes                 2801\n",
       "weekend edition sunday       1682\n",
       "day to day                     41\n",
       "Name: program, dtype: int64"
      ]
     },
     "execution_count": 81,
     "metadata": {},
     "output_type": "execute_result"
    }
   ],
   "source": [
    "stories.program.value_counts()"
   ]
  },
  {
   "cell_type": "code",
   "execution_count": 82,
   "id": "6f9bd629",
   "metadata": {
    "scrolled": true
   },
   "outputs": [
    {
     "name": "stderr",
     "output_type": "stream",
     "text": [
      "/usr/local/anaconda3/lib/python3.8/site-packages/ipykernel/ipkernel.py:287: DeprecationWarning: `should_run_async` will not call `transform_cell` automatically in the future. Please pass the result to `transformed_cell` argument and any exception that happen during thetransform in `preprocessing_exc_tuple` in IPython 7.17 and above.\n",
      "  and should_run_async(code)\n"
     ]
    },
    {
     "data": {
      "text/html": [
       "<div>\n",
       "<style scoped>\n",
       "    .dataframe tbody tr th:only-of-type {\n",
       "        vertical-align: middle;\n",
       "    }\n",
       "\n",
       "    .dataframe tbody tr th {\n",
       "        vertical-align: top;\n",
       "    }\n",
       "\n",
       "    .dataframe thead th {\n",
       "        text-align: right;\n",
       "    }\n",
       "</style>\n",
       "<table border=\"1\" class=\"dataframe\">\n",
       "  <thead>\n",
       "    <tr style=\"text-align: right;\">\n",
       "      <th></th>\n",
       "      <th>story_id_num</th>\n",
       "      <th>lemmatized</th>\n",
       "      <th>vader</th>\n",
       "      <th>title</th>\n",
       "      <th>date</th>\n",
       "      <th>host</th>\n",
       "      <th>program</th>\n",
       "    </tr>\n",
       "  </thead>\n",
       "  <tbody>\n",
       "    <tr>\n",
       "      <th>25082</th>\n",
       "      <td>86997</td>\n",
       "      <td>let s turn now to health care. next week , a m...</td>\n",
       "      <td>0.9974</td>\n",
       "      <td>telemedicine expands, though financial prospec...</td>\n",
       "      <td>2015-09-30</td>\n",
       "      <td>renee montagne</td>\n",
       "      <td>morning edition</td>\n",
       "    </tr>\n",
       "    <tr>\n",
       "      <th>1488</th>\n",
       "      <td>4514</td>\n",
       "      <td>it s morning edition from npr news. in washing...</td>\n",
       "      <td>-0.9900</td>\n",
       "      <td>migrants sent back to mexico are in dangerous ...</td>\n",
       "      <td>2019-07-09</td>\n",
       "      <td>noel king</td>\n",
       "      <td>morning edition</td>\n",
       "    </tr>\n",
       "    <tr>\n",
       "      <th>53269</th>\n",
       "      <td>127800</td>\n",
       "      <td>a high level american delegation left cuba yes...</td>\n",
       "      <td>0.8658</td>\n",
       "      <td>navajos sign cuba trade deal</td>\n",
       "      <td>2006-08-24</td>\n",
       "      <td>renee montagne</td>\n",
       "      <td>morning edition</td>\n",
       "    </tr>\n",
       "    <tr>\n",
       "      <th>25506</th>\n",
       "      <td>87702</td>\n",
       "      <td>in ethiopia today , a military band struck up ...</td>\n",
       "      <td>0.9937</td>\n",
       "      <td>obama talks candidly about flaws in kenya's so...</td>\n",
       "      <td>2015-07-27</td>\n",
       "      <td>steve inskeep</td>\n",
       "      <td>morning edition</td>\n",
       "    </tr>\n",
       "    <tr>\n",
       "      <th>34885</th>\n",
       "      <td>101950</td>\n",
       "      <td>moving on to another billion dollar tech deal ...</td>\n",
       "      <td>0.5859</td>\n",
       "      <td>microsoft to buy patents from aol for $1.1 bil...</td>\n",
       "      <td>2012-04-10</td>\n",
       "      <td>renee montagne</td>\n",
       "      <td>morning edition</td>\n",
       "    </tr>\n",
       "  </tbody>\n",
       "</table>\n",
       "</div>"
      ],
      "text/plain": [
       "       story_id_num                                         lemmatized  \\\n",
       "25082         86997  let s turn now to health care. next week , a m...   \n",
       "1488           4514  it s morning edition from npr news. in washing...   \n",
       "53269        127800  a high level american delegation left cuba yes...   \n",
       "25506         87702  in ethiopia today , a military band struck up ...   \n",
       "34885        101950  moving on to another billion dollar tech deal ...   \n",
       "\n",
       "        vader                                              title       date  \\\n",
       "25082  0.9974  telemedicine expands, though financial prospec... 2015-09-30   \n",
       "1488  -0.9900  migrants sent back to mexico are in dangerous ... 2019-07-09   \n",
       "53269  0.8658                       navajos sign cuba trade deal 2006-08-24   \n",
       "25506  0.9937  obama talks candidly about flaws in kenya's so... 2015-07-27   \n",
       "34885  0.5859  microsoft to buy patents from aol for $1.1 bil... 2012-04-10   \n",
       "\n",
       "                 host          program  \n",
       "25082  renee montagne  morning edition  \n",
       "1488        noel king  morning edition  \n",
       "53269  renee montagne  morning edition  \n",
       "25506   steve inskeep  morning edition  \n",
       "34885  renee montagne  morning edition  "
      ]
     },
     "execution_count": 82,
     "metadata": {},
     "output_type": "execute_result"
    }
   ],
   "source": [
    "morning_edition = stories[stories.program == 'morning edition']\n",
    "morning_edition.sample(5)"
   ]
  },
  {
   "cell_type": "code",
   "execution_count": 83,
   "id": "43003896",
   "metadata": {},
   "outputs": [
    {
     "name": "stderr",
     "output_type": "stream",
     "text": [
      "/usr/local/anaconda3/lib/python3.8/site-packages/ipykernel/ipkernel.py:287: DeprecationWarning: `should_run_async` will not call `transform_cell` automatically in the future. Please pass the result to `transformed_cell` argument and any exception that happen during thetransform in `preprocessing_exc_tuple` in IPython 7.17 and above.\n",
      "  and should_run_async(code)\n"
     ]
    },
    {
     "data": {
      "text/html": [
       "<div>\n",
       "<style scoped>\n",
       "    .dataframe tbody tr th:only-of-type {\n",
       "        vertical-align: middle;\n",
       "    }\n",
       "\n",
       "    .dataframe tbody tr th {\n",
       "        vertical-align: top;\n",
       "    }\n",
       "\n",
       "    .dataframe thead th {\n",
       "        text-align: right;\n",
       "    }\n",
       "</style>\n",
       "<table border=\"1\" class=\"dataframe\">\n",
       "  <thead>\n",
       "    <tr style=\"text-align: right;\">\n",
       "      <th></th>\n",
       "      <th>story_id_num</th>\n",
       "      <th>lemmatized</th>\n",
       "      <th>vader</th>\n",
       "      <th>title</th>\n",
       "      <th>date</th>\n",
       "      <th>host</th>\n",
       "      <th>program</th>\n",
       "    </tr>\n",
       "  </thead>\n",
       "  <tbody>\n",
       "    <tr>\n",
       "      <th>11770</th>\n",
       "      <td>58348</td>\n",
       "      <td>i m farai chideya , and this is news and note ...</td>\n",
       "      <td>0.9995</td>\n",
       "      <td>black ceo one of four on fortune 500</td>\n",
       "      <td>2006-04-11</td>\n",
       "      <td>farai chideya</td>\n",
       "      <td>news &amp; notes</td>\n",
       "    </tr>\n",
       "    <tr>\n",
       "      <th>7623</th>\n",
       "      <td>33648</td>\n",
       "      <td>before he died , johnnie cochran helped create...</td>\n",
       "      <td>0.3203</td>\n",
       "      <td>controversy at cochran law firm</td>\n",
       "      <td>2007-07-23</td>\n",
       "      <td>tony cox</td>\n",
       "      <td>news &amp; notes</td>\n",
       "    </tr>\n",
       "    <tr>\n",
       "      <th>787</th>\n",
       "      <td>2889</td>\n",
       "      <td>singing i remember you , baby , back in the 19...</td>\n",
       "      <td>0.9997</td>\n",
       "      <td>bluesman taj mahal returns with 'maestro'</td>\n",
       "      <td>2008-12-16</td>\n",
       "      <td>tony cox</td>\n",
       "      <td>news &amp; notes</td>\n",
       "    </tr>\n",
       "    <tr>\n",
       "      <th>7321</th>\n",
       "      <td>32981</td>\n",
       "      <td>i m farai chideya. and this is news note . twe...</td>\n",
       "      <td>0.9995</td>\n",
       "      <td>riding his way to the top</td>\n",
       "      <td>2007-08-20</td>\n",
       "      <td>farai chideya</td>\n",
       "      <td>news &amp; notes</td>\n",
       "    </tr>\n",
       "    <tr>\n",
       "      <th>637</th>\n",
       "      <td>2532</td>\n",
       "      <td>from npr news , this is news notes. i m farai ...</td>\n",
       "      <td>0.9987</td>\n",
       "      <td>burris seems likely to be seated in u.s. senate</td>\n",
       "      <td>2009-01-07</td>\n",
       "      <td>farai chideya</td>\n",
       "      <td>news &amp; notes</td>\n",
       "    </tr>\n",
       "  </tbody>\n",
       "</table>\n",
       "</div>"
      ],
      "text/plain": [
       "       story_id_num                                         lemmatized  \\\n",
       "11770         58348  i m farai chideya , and this is news and note ...   \n",
       "7623          33648  before he died , johnnie cochran helped create...   \n",
       "787            2889  singing i remember you , baby , back in the 19...   \n",
       "7321          32981  i m farai chideya. and this is news note . twe...   \n",
       "637            2532  from npr news , this is news notes. i m farai ...   \n",
       "\n",
       "        vader                                            title       date  \\\n",
       "11770  0.9995             black ceo one of four on fortune 500 2006-04-11   \n",
       "7623   0.3203                  controversy at cochran law firm 2007-07-23   \n",
       "787    0.9997        bluesman taj mahal returns with 'maestro' 2008-12-16   \n",
       "7321   0.9995                        riding his way to the top 2007-08-20   \n",
       "637    0.9987  burris seems likely to be seated in u.s. senate 2009-01-07   \n",
       "\n",
       "                host       program  \n",
       "11770  farai chideya  news & notes  \n",
       "7623        tony cox  news & notes  \n",
       "787         tony cox  news & notes  \n",
       "7321   farai chideya  news & notes  \n",
       "637    farai chideya  news & notes  "
      ]
     },
     "execution_count": 83,
     "metadata": {},
     "output_type": "execute_result"
    }
   ],
   "source": [
    "news_notes = stories[stories.program == 'news & notes']\n",
    "news_notes.sample(5)"
   ]
  },
  {
   "cell_type": "code",
   "execution_count": 102,
   "id": "a4580d0e",
   "metadata": {},
   "outputs": [
    {
     "name": "stderr",
     "output_type": "stream",
     "text": [
      "/usr/local/anaconda3/lib/python3.8/site-packages/ipykernel/ipkernel.py:287: DeprecationWarning: `should_run_async` will not call `transform_cell` automatically in the future. Please pass the result to `transformed_cell` argument and any exception that happen during thetransform in `preprocessing_exc_tuple` in IPython 7.17 and above.\n",
      "  and should_run_async(code)\n"
     ]
    },
    {
     "data": {
      "text/html": [
       "<div>\n",
       "<style scoped>\n",
       "    .dataframe tbody tr th:only-of-type {\n",
       "        vertical-align: middle;\n",
       "    }\n",
       "\n",
       "    .dataframe tbody tr th {\n",
       "        vertical-align: top;\n",
       "    }\n",
       "\n",
       "    .dataframe thead th {\n",
       "        text-align: right;\n",
       "    }\n",
       "</style>\n",
       "<table border=\"1\" class=\"dataframe\">\n",
       "  <thead>\n",
       "    <tr style=\"text-align: right;\">\n",
       "      <th></th>\n",
       "      <th>story_id_num</th>\n",
       "      <th>lemmatized</th>\n",
       "      <th>vader</th>\n",
       "      <th>title</th>\n",
       "      <th>date</th>\n",
       "      <th>host</th>\n",
       "      <th>program</th>\n",
       "    </tr>\n",
       "    <tr>\n",
       "      <th>date</th>\n",
       "      <th></th>\n",
       "      <th></th>\n",
       "      <th></th>\n",
       "      <th></th>\n",
       "      <th></th>\n",
       "      <th></th>\n",
       "      <th></th>\n",
       "    </tr>\n",
       "  </thead>\n",
       "  <tbody>\n",
       "    <tr>\n",
       "      <th>2005-01-11</th>\n",
       "      <td>84430</td>\n",
       "      <td>this is talk of the nation. i m neal conan in ...</td>\n",
       "      <td>1.0000</td>\n",
       "      <td>state legislatures: agendas and budgets</td>\n",
       "      <td>2005-01-11</td>\n",
       "      <td>neal conan</td>\n",
       "      <td>talk of the nation</td>\n",
       "    </tr>\n",
       "    <tr>\n",
       "      <th>2005-01-11</th>\n",
       "      <td>84432</td>\n",
       "      <td>this is talk of the nation. i m neal conan in ...</td>\n",
       "      <td>0.9999</td>\n",
       "      <td>difference between a think and a 'blink'</td>\n",
       "      <td>2005-01-11</td>\n",
       "      <td>neal conan</td>\n",
       "      <td>talk of the nation</td>\n",
       "    </tr>\n",
       "    <tr>\n",
       "      <th>2005-01-11</th>\n",
       "      <td>84433</td>\n",
       "      <td>this is talk of the nation. i m neal conan in ...</td>\n",
       "      <td>0.9999</td>\n",
       "      <td>bush picks judge to head homeland security</td>\n",
       "      <td>2005-01-11</td>\n",
       "      <td>neal conan</td>\n",
       "      <td>talk of the nation</td>\n",
       "    </tr>\n",
       "    <tr>\n",
       "      <th>2005-01-11</th>\n",
       "      <td>84434</td>\n",
       "      <td>scientist at the national oceanic and atmosphe...</td>\n",
       "      <td>0.9914</td>\n",
       "      <td>noaa aims for predicting tsunamis</td>\n",
       "      <td>2005-01-11</td>\n",
       "      <td>neal conan</td>\n",
       "      <td>talk of the nation</td>\n",
       "    </tr>\n",
       "    <tr>\n",
       "      <th>2005-01-11</th>\n",
       "      <td>84431</td>\n",
       "      <td>this is talk of the nation. i m neal conan in ...</td>\n",
       "      <td>0.9999</td>\n",
       "      <td>california rains bring rash of mudslides</td>\n",
       "      <td>2005-01-11</td>\n",
       "      <td>neal conan</td>\n",
       "      <td>talk of the nation</td>\n",
       "    </tr>\n",
       "  </tbody>\n",
       "</table>\n",
       "</div>"
      ],
      "text/plain": [
       "            story_id_num                                         lemmatized  \\\n",
       "date                                                                          \n",
       "2005-01-11         84430  this is talk of the nation. i m neal conan in ...   \n",
       "2005-01-11         84432  this is talk of the nation. i m neal conan in ...   \n",
       "2005-01-11         84433  this is talk of the nation. i m neal conan in ...   \n",
       "2005-01-11         84434  scientist at the national oceanic and atmosphe...   \n",
       "2005-01-11         84431  this is talk of the nation. i m neal conan in ...   \n",
       "\n",
       "             vader                                       title       date  \\\n",
       "date                                                                        \n",
       "2005-01-11  1.0000     state legislatures: agendas and budgets 2005-01-11   \n",
       "2005-01-11  0.9999    difference between a think and a 'blink' 2005-01-11   \n",
       "2005-01-11  0.9999  bush picks judge to head homeland security 2005-01-11   \n",
       "2005-01-11  0.9914           noaa aims for predicting tsunamis 2005-01-11   \n",
       "2005-01-11  0.9999    california rains bring rash of mudslides 2005-01-11   \n",
       "\n",
       "                  host             program  \n",
       "date                                        \n",
       "2005-01-11  neal conan  talk of the nation  \n",
       "2005-01-11  neal conan  talk of the nation  \n",
       "2005-01-11  neal conan  talk of the nation  \n",
       "2005-01-11  neal conan  talk of the nation  \n",
       "2005-01-11  neal conan  talk of the nation  "
      ]
     },
     "execution_count": 102,
     "metadata": {},
     "output_type": "execute_result"
    }
   ],
   "source": [
    "tsa.head()"
   ]
  },
  {
   "cell_type": "code",
   "execution_count": 108,
   "id": "71bc2e3d",
   "metadata": {},
   "outputs": [
    {
     "name": "stderr",
     "output_type": "stream",
     "text": [
      "/usr/local/anaconda3/lib/python3.8/site-packages/ipykernel/ipkernel.py:287: DeprecationWarning: `should_run_async` will not call `transform_cell` automatically in the future. Please pass the result to `transformed_cell` argument and any exception that happen during thetransform in `preprocessing_exc_tuple` in IPython 7.17 and above.\n",
      "  and should_run_async(code)\n"
     ]
    }
   ],
   "source": [
    "tsa.index = pd.to_datetime(tsa.index)\n"
   ]
  },
  {
   "cell_type": "code",
   "execution_count": 110,
   "id": "14dc3521",
   "metadata": {},
   "outputs": [
    {
     "name": "stderr",
     "output_type": "stream",
     "text": [
      "/usr/local/anaconda3/lib/python3.8/site-packages/ipykernel/ipkernel.py:287: DeprecationWarning: `should_run_async` will not call `transform_cell` automatically in the future. Please pass the result to `transformed_cell` argument and any exception that happen during thetransform in `preprocessing_exc_tuple` in IPython 7.17 and above.\n",
      "  and should_run_async(code)\n"
     ]
    }
   ],
   "source": [
    "from datetime import datetime"
   ]
  },
  {
   "cell_type": "code",
   "execution_count": 120,
   "id": "a990da98",
   "metadata": {},
   "outputs": [
    {
     "name": "stderr",
     "output_type": "stream",
     "text": [
      "/usr/local/anaconda3/lib/python3.8/site-packages/ipykernel/ipkernel.py:287: DeprecationWarning: `should_run_async` will not call `transform_cell` automatically in the future. Please pass the result to `transformed_cell` argument and any exception that happen during thetransform in `preprocessing_exc_tuple` in IPython 7.17 and above.\n",
      "  and should_run_async(code)\n"
     ]
    }
   ],
   "source": [
    "tsa = tsa.set_index('date').sort_index()"
   ]
  },
  {
   "cell_type": "code",
   "execution_count": null,
   "id": "7b19a01b",
   "metadata": {},
   "outputs": [],
   "source": [
    "Obama_election = tsa[datetime(2008,11,7):datetime(2008,11,30)]"
   ]
  },
  {
   "cell_type": "code",
   "execution_count": 128,
   "id": "ff655e4f",
   "metadata": {
    "scrolled": true
   },
   "outputs": [
    {
     "name": "stderr",
     "output_type": "stream",
     "text": [
      "/usr/local/anaconda3/lib/python3.8/site-packages/ipykernel/ipkernel.py:287: DeprecationWarning: `should_run_async` will not call `transform_cell` automatically in the future. Please pass the result to `transformed_cell` argument and any exception that happen during thetransform in `preprocessing_exc_tuple` in IPython 7.17 and above.\n",
      "  and should_run_async(code)\n"
     ]
    },
    {
     "data": {
      "text/html": [
       "<div>\n",
       "<style scoped>\n",
       "    .dataframe tbody tr th:only-of-type {\n",
       "        vertical-align: middle;\n",
       "    }\n",
       "\n",
       "    .dataframe tbody tr th {\n",
       "        vertical-align: top;\n",
       "    }\n",
       "\n",
       "    .dataframe thead th {\n",
       "        text-align: right;\n",
       "    }\n",
       "</style>\n",
       "<table border=\"1\" class=\"dataframe\">\n",
       "  <thead>\n",
       "    <tr style=\"text-align: right;\">\n",
       "      <th></th>\n",
       "      <th>story_id_num</th>\n",
       "      <th>lemmatized</th>\n",
       "      <th>vader</th>\n",
       "      <th>title</th>\n",
       "      <th>host</th>\n",
       "      <th>program</th>\n",
       "    </tr>\n",
       "    <tr>\n",
       "      <th>date</th>\n",
       "      <th></th>\n",
       "      <th></th>\n",
       "      <th></th>\n",
       "      <th></th>\n",
       "      <th></th>\n",
       "      <th></th>\n",
       "    </tr>\n",
       "  </thead>\n",
       "  <tbody>\n",
       "    <tr>\n",
       "      <th>2008-11-29</th>\n",
       "      <td>75286</td>\n",
       "      <td>coming up , a lot of conversation with npr s p...</td>\n",
       "      <td>0.8885</td>\n",
       "      <td>announcing our new vlog</td>\n",
       "      <td>scott simon</td>\n",
       "      <td>weekend edition saturday</td>\n",
       "    </tr>\n",
       "    <tr>\n",
       "      <th>2008-11-29</th>\n",
       "      <td>75285</td>\n",
       "      <td>a ha been noted all week , mumbai is the finan...</td>\n",
       "      <td>0.9461</td>\n",
       "      <td>economic ripples from mumbai, citigroup</td>\n",
       "      <td>scott simon</td>\n",
       "      <td>weekend edition saturday</td>\n",
       "    </tr>\n",
       "    <tr>\n",
       "      <th>2008-11-29</th>\n",
       "      <td>75289</td>\n",
       "      <td>journalist are supposed to make certain they d...</td>\n",
       "      <td>0.9328</td>\n",
       "      <td>reporter stars in his own story</td>\n",
       "      <td>scott simon</td>\n",
       "      <td>weekend edition saturday</td>\n",
       "    </tr>\n",
       "    <tr>\n",
       "      <th>2008-11-29</th>\n",
       "      <td>75290</td>\n",
       "      <td>this is weekend edition from npr news. i m sco...</td>\n",
       "      <td>0.9995</td>\n",
       "      <td>jon scieszka, a seriously funny 'knucklehead'</td>\n",
       "      <td>scott simon</td>\n",
       "      <td>weekend edition saturday</td>\n",
       "    </tr>\n",
       "    <tr>\n",
       "      <th>2008-11-29</th>\n",
       "      <td>75291</td>\n",
       "      <td>we re at the cutler ridge middle school in cut...</td>\n",
       "      <td>0.9992</td>\n",
       "      <td>dave barry's science fair tricks</td>\n",
       "      <td>scott simon</td>\n",
       "      <td>weekend edition saturday</td>\n",
       "    </tr>\n",
       "  </tbody>\n",
       "</table>\n",
       "</div>"
      ],
      "text/plain": [
       "            story_id_num                                         lemmatized  \\\n",
       "date                                                                          \n",
       "2008-11-29         75286  coming up , a lot of conversation with npr s p...   \n",
       "2008-11-29         75285  a ha been noted all week , mumbai is the finan...   \n",
       "2008-11-29         75289  journalist are supposed to make certain they d...   \n",
       "2008-11-29         75290  this is weekend edition from npr news. i m sco...   \n",
       "2008-11-29         75291  we re at the cutler ridge middle school in cut...   \n",
       "\n",
       "             vader                                          title  \\\n",
       "date                                                                \n",
       "2008-11-29  0.8885                        announcing our new vlog   \n",
       "2008-11-29  0.9461        economic ripples from mumbai, citigroup   \n",
       "2008-11-29  0.9328                reporter stars in his own story   \n",
       "2008-11-29  0.9995  jon scieszka, a seriously funny 'knucklehead'   \n",
       "2008-11-29  0.9992               dave barry's science fair tricks   \n",
       "\n",
       "                   host                   program  \n",
       "date                                               \n",
       "2008-11-29  scott simon  weekend edition saturday  \n",
       "2008-11-29  scott simon  weekend edition saturday  \n",
       "2008-11-29  scott simon  weekend edition saturday  \n",
       "2008-11-29  scott simon  weekend edition saturday  \n",
       "2008-11-29  scott simon  weekend edition saturday  "
      ]
     },
     "execution_count": 128,
     "metadata": {},
     "output_type": "execute_result"
    }
   ],
   "source": [
    "Obama_election.tail()"
   ]
  },
  {
   "cell_type": "code",
   "execution_count": null,
   "id": "f85513be",
   "metadata": {},
   "outputs": [],
   "source": [
    "Trump_election = tsa[datetime(2016,11,7):datetime(2016,11,30)]"
   ]
  },
  {
   "cell_type": "code",
   "execution_count": 131,
   "id": "4c412724",
   "metadata": {},
   "outputs": [
    {
     "name": "stderr",
     "output_type": "stream",
     "text": [
      "/usr/local/anaconda3/lib/python3.8/site-packages/ipykernel/ipkernel.py:287: DeprecationWarning: `should_run_async` will not call `transform_cell` automatically in the future. Please pass the result to `transformed_cell` argument and any exception that happen during thetransform in `preprocessing_exc_tuple` in IPython 7.17 and above.\n",
      "  and should_run_async(code)\n"
     ]
    },
    {
     "data": {
      "text/html": [
       "<div>\n",
       "<style scoped>\n",
       "    .dataframe tbody tr th:only-of-type {\n",
       "        vertical-align: middle;\n",
       "    }\n",
       "\n",
       "    .dataframe tbody tr th {\n",
       "        vertical-align: top;\n",
       "    }\n",
       "\n",
       "    .dataframe thead th {\n",
       "        text-align: right;\n",
       "    }\n",
       "</style>\n",
       "<table border=\"1\" class=\"dataframe\">\n",
       "  <thead>\n",
       "    <tr style=\"text-align: right;\">\n",
       "      <th></th>\n",
       "      <th>story_id_num</th>\n",
       "      <th>lemmatized</th>\n",
       "      <th>vader</th>\n",
       "      <th>title</th>\n",
       "      <th>host</th>\n",
       "      <th>program</th>\n",
       "    </tr>\n",
       "    <tr>\n",
       "      <th>date</th>\n",
       "      <th></th>\n",
       "      <th></th>\n",
       "      <th></th>\n",
       "      <th></th>\n",
       "      <th></th>\n",
       "      <th></th>\n",
       "    </tr>\n",
       "  </thead>\n",
       "  <tbody>\n",
       "    <tr>\n",
       "      <th>2016-11-30</th>\n",
       "      <td>78544</td>\n",
       "      <td>senator jeff flake of arizona ha a message for...</td>\n",
       "      <td>0.9965</td>\n",
       "      <td>sen. flake aims to work with trump on a fix to...</td>\n",
       "      <td>steve inskeep</td>\n",
       "      <td>morning edition</td>\n",
       "    </tr>\n",
       "    <tr>\n",
       "      <th>2016-11-30</th>\n",
       "      <td>78543</td>\n",
       "      <td>good morning. i m steve inskeep. you are not s...</td>\n",
       "      <td>0.9468</td>\n",
       "      <td>free elton john concert tickets get border gua...</td>\n",
       "      <td>steve inskeep</td>\n",
       "      <td>morning edition</td>\n",
       "    </tr>\n",
       "    <tr>\n",
       "      <th>2016-11-30</th>\n",
       "      <td>78542</td>\n",
       "      <td>in cuba today , a three day long procession be...</td>\n",
       "      <td>0.9959</td>\n",
       "      <td>complicated feelings: 'the little fidel in all...</td>\n",
       "      <td>steve inskeep</td>\n",
       "      <td>morning edition</td>\n",
       "    </tr>\n",
       "    <tr>\n",
       "      <th>2016-11-30</th>\n",
       "      <td>78541</td>\n",
       "      <td>in zimbabwe , young people are emerging a outs...</td>\n",
       "      <td>-0.9970</td>\n",
       "      <td>young widow with 5 kids turns to activism to c...</td>\n",
       "      <td>david greene</td>\n",
       "      <td>morning edition</td>\n",
       "    </tr>\n",
       "    <tr>\n",
       "      <th>2016-11-30</th>\n",
       "      <td>78540</td>\n",
       "      <td>we know a little more this morning about presi...</td>\n",
       "      <td>0.9972</td>\n",
       "      <td>steve mnuchin expected to lead treasury in tru...</td>\n",
       "      <td>steve inskeep</td>\n",
       "      <td>morning edition</td>\n",
       "    </tr>\n",
       "  </tbody>\n",
       "</table>\n",
       "</div>"
      ],
      "text/plain": [
       "            story_id_num                                         lemmatized  \\\n",
       "date                                                                          \n",
       "2016-11-30         78544  senator jeff flake of arizona ha a message for...   \n",
       "2016-11-30         78543  good morning. i m steve inskeep. you are not s...   \n",
       "2016-11-30         78542  in cuba today , a three day long procession be...   \n",
       "2016-11-30         78541  in zimbabwe , young people are emerging a outs...   \n",
       "2016-11-30         78540  we know a little more this morning about presi...   \n",
       "\n",
       "             vader                                              title  \\\n",
       "date                                                                    \n",
       "2016-11-30  0.9965  sen. flake aims to work with trump on a fix to...   \n",
       "2016-11-30  0.9468  free elton john concert tickets get border gua...   \n",
       "2016-11-30  0.9959  complicated feelings: 'the little fidel in all...   \n",
       "2016-11-30 -0.9970  young widow with 5 kids turns to activism to c...   \n",
       "2016-11-30  0.9972  steve mnuchin expected to lead treasury in tru...   \n",
       "\n",
       "                     host          program  \n",
       "date                                        \n",
       "2016-11-30  steve inskeep  morning edition  \n",
       "2016-11-30  steve inskeep  morning edition  \n",
       "2016-11-30  steve inskeep  morning edition  \n",
       "2016-11-30   david greene  morning edition  \n",
       "2016-11-30  steve inskeep  morning edition  "
      ]
     },
     "execution_count": 131,
     "metadata": {},
     "output_type": "execute_result"
    }
   ],
   "source": [
    "Trump_election.tail()"
   ]
  },
  {
   "cell_type": "markdown",
   "id": "0283a434",
   "metadata": {},
   "source": [
    "## Topic Model for Melissa Block vs. Other Hosts\n",
    "## Also morning ed vs news and notes (bottom sentiment and top sentiment)"
   ]
  },
  {
   "cell_type": "code",
   "execution_count": 141,
   "id": "1d53e1b6",
   "metadata": {
    "scrolled": true
   },
   "outputs": [
    {
     "name": "stdout",
     "output_type": "stream",
     "text": [
      "['final', 'npr', 'battleground', 'map', 'race', 'snaps', 'back', 'clinton', 'maintains', 'advantage']\n"
     ]
    },
    {
     "name": "stderr",
     "output_type": "stream",
     "text": [
      "/usr/local/anaconda3/lib/python3.8/site-packages/ipykernel/ipkernel.py:287: DeprecationWarning: `should_run_async` will not call `transform_cell` automatically in the future. Please pass the result to `transformed_cell` argument and any exception that happen during thetransform in `preprocessing_exc_tuple` in IPython 7.17 and above.\n",
      "  and should_run_async(code)\n",
      "[nltk_data] Downloading package stopwords to\n",
      "[nltk_data]     /Users/brianclements/nltk_data...\n",
      "[nltk_data]   Package stopwords is already up-to-date!\n"
     ]
    }
   ],
   "source": [
    "import gensim\n",
    "from gensim.utils import simple_preprocess\n",
    "import nltk\n",
    "nltk.download('stopwords')\n",
    "from nltk.corpus import stopwords\n",
    "stop_words = stopwords.words('english')\n",
    "# stop_words.extend(['from', 'subject', 're', 'edu', 'use'])\n",
    "def sent_to_words(sentences):\n",
    "    for sentence in sentences:\n",
    "        # deacc=True removes punctuations\n",
    "        yield(gensim.utils.simple_preprocess(str(sentence), deacc=False))\n",
    "def remove_stopwords(texts):\n",
    "    return [[word for word in simple_preprocess(str(doc)) \n",
    "             if word not in stop_words] for doc in texts]\n",
    "data = Trump_election.title.values.tolist()\n",
    "data_words = list(sent_to_words(data))\n",
    "# remove stop words\n",
    "data_words = remove_stopwords(data_words)\n",
    "print(data_words[:1][0][:30])"
   ]
  },
  {
   "cell_type": "code",
   "execution_count": 142,
   "id": "6824e3a9",
   "metadata": {},
   "outputs": [
    {
     "name": "stderr",
     "output_type": "stream",
     "text": [
      "/usr/local/anaconda3/lib/python3.8/site-packages/ipykernel/ipkernel.py:287: DeprecationWarning: `should_run_async` will not call `transform_cell` automatically in the future. Please pass the result to `transformed_cell` argument and any exception that happen during thetransform in `preprocessing_exc_tuple` in IPython 7.17 and above.\n",
      "  and should_run_async(code)\n"
     ]
    }
   ],
   "source": [
    "# # Build the bigram and trigram models\n",
    "bigram = gensim.models.Phrases(data_words, min_count=5, threshold=100) # higher threshold fewer phrases.\n",
    "trigram = gensim.models.Phrases(bigram[data_words], threshold=100)\n",
    "# Faster way to get a sentence clubbed as a trigram/bigram\n",
    "bigram_mod = gensim.models.phrases.Phraser(bigram)\n",
    "trigram_mod = gensim.models.phrases.Phraser(trigram)"
   ]
  },
  {
   "cell_type": "code",
   "execution_count": 143,
   "id": "200cf223",
   "metadata": {},
   "outputs": [
    {
     "name": "stderr",
     "output_type": "stream",
     "text": [
      "/usr/local/anaconda3/lib/python3.8/site-packages/ipykernel/ipkernel.py:287: DeprecationWarning: `should_run_async` will not call `transform_cell` automatically in the future. Please pass the result to `transformed_cell` argument and any exception that happen during thetransform in `preprocessing_exc_tuple` in IPython 7.17 and above.\n",
      "  and should_run_async(code)\n"
     ]
    }
   ],
   "source": [
    "# NLTK Stop words\n",
    "# import nltk\n",
    "# nltk.download('stopwords')\n",
    "from nltk.corpus import stopwords\n",
    "stop_words = stopwords.words('english')\n",
    "stop_words.extend(['from', 'subject', 're', 'edu', 'use'])\n",
    "# Define functions for stopwords, bigrams, trigrams and lemmatization\n",
    "def remove_stopwords(texts):\n",
    "    return [[word for word in simple_preprocess(str(doc)) if word not in stop_words] for doc in texts]\n",
    "def make_bigrams(texts):\n",
    "    return [bigram_mod[doc] for doc in texts]\n",
    "def make_trigrams(texts):\n",
    "    return [trigram_mod[bigram_mod[doc]] for doc in texts]\n",
    "def lemmatization(texts, allowed_postags=['NOUN', 'ADJ', 'VERB', 'ADV']):\n",
    "    \"\"\"https://spacy.io/api/annotation\"\"\"\n",
    "    texts_out = []\n",
    "    for sent in texts:\n",
    "        doc = nlp(\" \".join(sent)) \n",
    "        texts_out.append([token.lemma_ for token in doc if token.pos_ in allowed_postags])\n",
    "    return texts_out"
   ]
  },
  {
   "cell_type": "code",
   "execution_count": 144,
   "id": "d165eac6",
   "metadata": {},
   "outputs": [
    {
     "name": "stderr",
     "output_type": "stream",
     "text": [
      "/usr/local/anaconda3/lib/python3.8/site-packages/ipykernel/ipkernel.py:287: DeprecationWarning: `should_run_async` will not call `transform_cell` automatically in the future. Please pass the result to `transformed_cell` argument and any exception that happen during thetransform in `preprocessing_exc_tuple` in IPython 7.17 and above.\n",
      "  and should_run_async(code)\n"
     ]
    },
    {
     "name": "stdout",
     "output_type": "stream",
     "text": [
      "[['final', 'map', 'race', 'snap', 'back', 'maintain', 'advantage']]\n"
     ]
    }
   ],
   "source": [
    "import spacy\n",
    "# Remove Stop Words\n",
    "data_words_nostops = remove_stopwords(data_words)\n",
    "# Form Bigrams\n",
    "data_words_bigrams = make_bigrams(data_words_nostops)\n",
    "# Initialize spacy 'en' model, keeping only tagger component (for efficiency)\n",
    "nlp = spacy.load(\"en_core_web_sm\", disable=['parser', 'ner']) # see https://spacy.io/models/en for info on this pipeline\n",
    "# Do lemmatization keeping only noun, adj, vb, adv\n",
    "data_lemmatized = lemmatization(data_words_bigrams, allowed_postags=['NOUN', 'ADJ', 'VERB', 'ADV'])\n",
    "print(data_lemmatized[:1])"
   ]
  },
  {
   "cell_type": "code",
   "execution_count": 145,
   "id": "d64b6aa9",
   "metadata": {},
   "outputs": [
    {
     "name": "stdout",
     "output_type": "stream",
     "text": [
      "[[(0, 1), (1, 1), (2, 1), (3, 1), (4, 1), (5, 1), (6, 1)]]\n"
     ]
    },
    {
     "name": "stderr",
     "output_type": "stream",
     "text": [
      "/usr/local/anaconda3/lib/python3.8/site-packages/ipykernel/ipkernel.py:287: DeprecationWarning: `should_run_async` will not call `transform_cell` automatically in the future. Please pass the result to `transformed_cell` argument and any exception that happen during thetransform in `preprocessing_exc_tuple` in IPython 7.17 and above.\n",
      "  and should_run_async(code)\n"
     ]
    }
   ],
   "source": [
    "import gensim.corpora as corpora\n",
    "# Create Dictionary\n",
    "id2word = corpora.Dictionary(data_lemmatized)\n",
    "# Create Corpus\n",
    "texts = data_lemmatized\n",
    "# Term Document Frequency\n",
    "corpus = [id2word.doc2bow(text) for text in texts]\n",
    "# View\n",
    "print(corpus[:1])"
   ]
  },
  {
   "cell_type": "code",
   "execution_count": 146,
   "id": "fb84a869",
   "metadata": {},
   "outputs": [
    {
     "name": "stderr",
     "output_type": "stream",
     "text": [
      "/usr/local/anaconda3/lib/python3.8/site-packages/ipykernel/ipkernel.py:287: DeprecationWarning: `should_run_async` will not call `transform_cell` automatically in the future. Please pass the result to `transformed_cell` argument and any exception that happen during thetransform in `preprocessing_exc_tuple` in IPython 7.17 and above.\n",
      "  and should_run_async(code)\n"
     ]
    }
   ],
   "source": [
    "# Build LDA model\n",
    "lda_model = gensim.models.LdaMulticore(corpus=corpus,\n",
    "                                       id2word=id2word,\n",
    "                                       num_topics=5, \n",
    "                                       random_state=100,\n",
    "                                       chunksize=100,\n",
    "                                       passes=10,\n",
    "                                       per_word_topics=True)"
   ]
  },
  {
   "cell_type": "code",
   "execution_count": 147,
   "id": "523250fc",
   "metadata": {},
   "outputs": [
    {
     "name": "stderr",
     "output_type": "stream",
     "text": [
      "/usr/local/anaconda3/lib/python3.8/site-packages/ipykernel/ipkernel.py:287: DeprecationWarning: `should_run_async` will not call `transform_cell` automatically in the future. Please pass the result to `transformed_cell` argument and any exception that happen during thetransform in `preprocessing_exc_tuple` in IPython 7.17 and above.\n",
      "  and should_run_async(code)\n"
     ]
    },
    {
     "name": "stdout",
     "output_type": "stream",
     "text": [
      "\n",
      "Coherence Score:  0.6780502241663344\n"
     ]
    }
   ],
   "source": [
    "from gensim.models import CoherenceModel\n",
    "# Compute Coherence Score\n",
    "coherence_model_lda = CoherenceModel(model=lda_model, texts=data_lemmatized, dictionary=id2word, coherence='c_v')\n",
    "coherence_lda = coherence_model_lda.get_coherence()\n",
    "print('\\nCoherence Score: ', coherence_lda)"
   ]
  },
  {
   "cell_type": "code",
   "execution_count": 148,
   "id": "7acc9cbe",
   "metadata": {
    "scrolled": true
   },
   "outputs": [
    {
     "name": "stderr",
     "output_type": "stream",
     "text": [
      "/usr/local/anaconda3/lib/python3.8/site-packages/ipykernel/ipkernel.py:287: DeprecationWarning: `should_run_async` will not call `transform_cell` automatically in the future. Please pass the result to `transformed_cell` argument and any exception that happen during thetransform in `preprocessing_exc_tuple` in IPython 7.17 and above.\n",
      "  and should_run_async(code)\n"
     ]
    },
    {
     "data": {
      "text/html": [
       "\n",
       "<link rel=\"stylesheet\" type=\"text/css\" href=\"https://cdn.jsdelivr.net/gh/bmabey/pyLDAvis@3.3.1/pyLDAvis/js/ldavis.v1.0.0.css\">\n",
       "\n",
       "\n",
       "<div id=\"ldavis_el195791403024894647205595838880\"></div>\n",
       "<script type=\"text/javascript\">\n",
       "\n",
       "var ldavis_el195791403024894647205595838880_data = {\"mdsDat\": {\"x\": [0.12490299323136253, 0.006607274078006256, -0.060633676834984496, -0.0880921893198473, 0.017215598845463104], \"y\": [0.031186474496836526, -0.125938837690194, 0.06875983724396634, -0.006253224639133626, 0.032245750588524795], \"topics\": [1, 2, 3, 4, 5], \"cluster\": [1, 1, 1, 1, 1], \"Freq\": [24.827914007235766, 20.690934645635988, 20.433615949038515, 19.546093018628323, 14.50144237946141]}, \"tinfo\": {\"Term\": [\"election\", \"class\", \"voter\", \"program\", \"remember\", \"say\", \"work\", \"day\", \"new\", \"get\", \"train\", \"trump\", \"head\", \"road\", \"plan\", \"move\", \"security\", \"republican\", \"back\", \"make\", \"die\", \"take\", \"fear\", \"team\", \"border\", \"air\", \"hand\", \"offer\", \"case\", \"report\", \"back\", \"election\", \"drive\", \"interview\", \"leader\", \"ground\", \"day\", \"border\", \"expunge\", \"manufacture\", \"pour\", \"wypr\", \"ncpr\", \"secure\", \"patel\", \"play\", \"arrest\", \"charge\", \"union\", \"post\", \"mel\", \"part\", \"person\", \"surprisingly\", \"surrogate\", \"agent\", \"philly\", \"stable\", \"advantage\", \"stock\", \"trump\", \"chief\", \"renee\", \"montagne\", \"newly\", \"immigration\", \"state\", \"news\", \"see\", \"head\", \"refugee\", \"deliver\", \"promise\", \"class\", \"program\", \"turn\", \"hate\", \"remain\", \"presidential\", \"hold\", \"check\", \"help\", \"carry\", \"put\", \"know\", \"populist\", \"anti\", \"voter\", \"work\", \"class\", \"area\", \"cite\", \"evacuation\", \"seller\", \"kcur\", \"airbnb\", \"travelocity\", \"gun\", \"mpr\", \"kpcc\", \"eye\", \"compete\", \"soccer\", \"tripadvisor\", \"appointment\", \"other\", \"money\", \"crash\", \"plane\", \"olympic\", \"unprecedented\", \"private\", \"program\", \"fear\", \"strategy\", \"test\", \"feeling\", \"win\", \"ban\", \"job\", \"lead\", \"check\", \"administration\", \"name\", \"white\", \"want\", \"transition\", \"protester\", \"first\", \"trump\", \"public\", \"week\", \"good\", \"result\", \"train\", \"rule\", \"ride\", \"pull\", \"emit\", \"hybrid\", \"require\", \"sound\", \"alert\", \"corps\", \"electric\", \"search\", \"quiet\", \"consider\", \"deadline\", \"choice\", \"national\", \"army\", \"relax\", \"court\", \"score\", \"marijuana\", \"wedding\", \"priority\", \"engineer\", \"reverse\", \"gay\", \"scandal\", \"painkill\", \"suspect\", \"new\", \"issue\", \"pipeline\", \"need\", \"community\", \"live\", \"get\", \"year\", \"look\", \"say\", \"security\", \"take\", \"protester\", \"syrian\", \"see\", \"election\", \"presidential\", \"team\", \"trump\", \"leave\", \"film\", \"injure\", \"car\", \"game\", \"lose\", \"reveal\", \"air\", \"hand\", \"offer\", \"case\", \"report\", \"begin\", \"rise\", \"veteran\", \"decision\", \"sedan\", \"partner\", \"buying\", \"brand\", \"judge\", \"sport\", \"affect\", \"labor\", \"federal\", \"suv\", \"bandwagon\", \"block\", \"climb\", \"department\", \"clarity\", \"languish\", \"maker\", \"awake\", \"later\", \"australian\", \"anxious\", \"agree\", \"conservative\", \"go\", \"say\", \"presidential\", \"attack\", \"pay\", \"take\", \"syrian\", \"new\", \"trump\", \"team\", \"country\", \"study\", \"political\", \"mom\", \"question\", \"end\", \"zika\", \"conflict\", \"overtime\", \"business\", \"remember\", \"road\", \"plan\", \"alone\", \"company\", \"regulate\", \"social\", \"voice\", \"try\", \"district\", \"letter\", \"evacuate\", \"strike\", \"reflect\", \"japanese\", \"production\", \"tween\", \"puzzle\", \"aquarium\", \"hawaiian\", \"blow\", \"legendary\", \"driver\", \"side\", \"tour\", \"thing\", \"mogul\", \"use\", \"sure\", \"tasty\", \"move\", \"republican\", \"get\", \"make\", \"die\", \"head\", \"team\", \"security\", \"trump\", \"ifill\", \"middle\", \"twitter\", \"staff\", \"way\", \"chinese\", \"fake\", \"attack\", \"news\", \"right\", \"old\", \"behind\", \"want\", \"animal\", \"obamacare\", \"transition\", \"encore\", \"secretary\"], \"Freq\": [11.0, 9.0, 4.0, 6.0, 2.0, 5.0, 3.0, 4.0, 4.0, 2.0, 2.0, 14.0, 2.0, 1.0, 1.0, 2.0, 3.0, 2.0, 2.0, 2.0, 2.0, 3.0, 2.0, 5.0, 3.0, 1.0, 1.0, 1.0, 1.0, 1.0, 2.0619869439099836, 8.633791776984692, 1.417578077983372, 1.4175697988659737, 1.4175677918072105, 1.4175475957784056, 3.3351694371154723, 2.063866930765246, 0.773213241908378, 0.7732108585260967, 0.7732101685996469, 0.7732095413937833, 0.7732087887467471, 0.7732080988202973, 0.7732080988202973, 0.7732079733791246, 0.7732079733791246, 0.7732074088938474, 0.7732070952909157, 0.7732069071291566, 0.7732067189673976, 0.7732067189673976, 0.7732054645556705, 0.7732053391144978, 0.7732050255115661, 0.7732050882321525, 0.773204649188048, 0.7732044610262889, 0.7732040219821845, 0.7732042101439436, 7.437117611185651, 1.4182056601703925, 1.4177927078298624, 1.4177804145949378, 1.4183040060497898, 1.4178225628289651, 1.4188980954436992, 2.0643295578101655, 2.063831305472199, 1.4166500641877338, 1.418145573848669, 1.4191320432307857, 1.4186832147148634, 2.705833582500552, 2.064241874430448, 1.0213141174664901, 0.8793352823218546, 0.8798775645114388, 0.9048216044235182, 0.7736105141023204, 0.7735802827796996, 0.7735125445464414, 1.3557678577384944, 1.3557595991262996, 1.355746218083756, 1.3555729963064553, 1.354266149331177, 3.130474622396994, 2.5719237717847676, 5.883986459253989, 0.7395136655637315, 0.7395116270455316, 0.7395100066849112, 0.7395085954030803, 0.7395071318515521, 0.7395057728394189, 0.7395054592212342, 0.7395040479394035, 0.7395031593545471, 0.7395027411969676, 0.739502427578783, 0.7395021662302959, 0.739500023172701, 0.7394996050151215, 0.739498350542383, 0.739497984654501, 0.7394978801151061, 0.7394975142272241, 0.7394976187666189, 0.7394963642938805, 0.739493541730219, 0.7394926531453626, 3.366610298318796, 1.356702649007428, 1.3567807399353964, 1.3563239027798115, 1.355971082322123, 1.3567039034801665, 1.3530472199869847, 1.3563328931677703, 1.356022829322584, 1.238279272564572, 1.3593796938312765, 1.3578346015750877, 1.3045364455730073, 1.3590047110218755, 1.3563256799495242, 1.3530739820720716, 1.3602703694755747, 1.968910434824931, 0.7738235994996855, 0.7409968182284594, 0.7409911731011364, 0.7405127485605107, 1.944686079919368, 1.3369771645329869, 1.3369276096634848, 1.3368369655480208, 0.729251111420903, 0.7292510081815916, 0.7292497693098541, 0.7292491498739853, 0.7292491498739853, 0.7292461043142971, 0.72924631079292, 0.72924594945533, 0.7292457945963627, 0.7292448138229038, 0.7292437814297892, 0.7292431103742647, 0.7292429038956418, 0.729242490938396, 0.7292423876990844, 0.7292405810111339, 0.7292396518573308, 0.729239806716298, 0.7292392389000849, 0.7292394969983635, 0.7292394453787078, 0.7292390840411177, 0.7292387743231833, 0.7292383613659374, 0.7292372773531671, 0.7292363998190197, 2.5566579529546614, 1.3382104613477188, 1.3372354692902662, 1.3389244644257938, 1.3379303730957208, 1.3350392594175229, 1.3360678326776245, 1.3377149126526984, 1.3383550996230777, 1.946000935790155, 1.3378180487248494, 1.3367365136979676, 1.339345887295184, 1.3359264980602323, 1.3360287049785802, 1.9382773964210174, 1.338220372321619, 1.339446958581106, 1.327075275691989, 0.7299504545167506, 0.7298864461436437, 0.7298694632769082, 0.7298289418471591, 0.7298006542758183, 0.7297147075490258, 0.7296811031531447, 1.312948680684316, 1.3129444342120729, 1.3129415703121878, 1.3129366325537655, 1.31293189230568, 1.3129034508171673, 1.3126369106175293, 1.3126276276316953, 0.7161506566846759, 0.7161505085519232, 0.7161488790916438, 0.7161485828261385, 0.7161477434072067, 0.7161474471417013, 0.7161465583451854, 0.71614626207968, 0.7161451263952429, 0.7161446326194006, 0.7161446326194006, 0.7161436944453003, 0.7161435463125477, 0.716143398179795, 0.7161428550263685, 0.716142262495358, 0.7161412255660892, 0.7161396948609783, 0.7161385097989569, 0.7161386579317096, 0.7161381641558674, 0.7161380654006989, 1.3142536314801734, 1.3137816805301656, 1.3143699650686038, 2.508753980556922, 1.8607729303442868, 1.314378359257922, 1.3143635459826548, 1.3134945992554905, 1.3142533352146681, 1.312322177895689, 1.904810822609812, 1.3143864571817345, 0.7183798571020277, 0.7170338735336808, 0.7168751246004024, 0.7168665822783317, 0.7165330366969023, 0.7164270230235745, 0.7163810524926625, 0.7162764707692773, 0.7162703479488335, 0.7162700516833281, 1.7327816303183639, 1.1912593460444072, 1.1912542905903856, 0.6498008777190428, 0.6498008044515933, 0.6497952361254246, 0.6497943569160294, 0.6497929648344872, 0.6497924519623401, 0.6497917925552938, 0.6497914994854954, 0.6497913529505963, 0.64979069354355, 0.649790327206302, 0.6497904737412012, 0.649789081659659, 0.6497887885898607, 0.6497883489851631, 0.6497876895781168, 0.6497876895781168, 0.6497865172989234, 0.6497863707640242, 0.6497859311593267, 0.6497851252173812, 0.6497849054150324, 0.6497851252173812, 0.649783733135839, 0.6497836598683894, 0.6497829271938935, 0.6497824143217464, 1.1926178710946889, 1.1930877352489038, 1.1917724379938799, 1.19352177162027, 1.1929762954580787, 1.19211481678581, 1.7457156797292313, 1.1935537894957402, 2.1061327712131543, 0.6510618837939213, 0.6507653704254341, 0.6506789881023686, 0.650636639516506, 0.6505605146363829, 0.6505133303988475, 0.6503092072842922, 0.6502642210702445, 0.6502223853565291, 0.6502189417863984, 0.6502055338431236, 0.6501864110387808, 0.6501270644046137, 0.650100248518064, 0.6500673514331985, 0.6500632484560215, 0.6500339414761859, 0.650031596917799], \"Total\": [11.0, 9.0, 4.0, 6.0, 2.0, 5.0, 3.0, 4.0, 4.0, 2.0, 2.0, 14.0, 2.0, 1.0, 1.0, 2.0, 3.0, 2.0, 2.0, 2.0, 2.0, 3.0, 2.0, 5.0, 3.0, 1.0, 1.0, 1.0, 1.0, 1.0, 2.5345627347443944, 11.40498459285971, 1.8901493448578628, 1.8901490922064426, 1.8901471733323494, 1.8901443495056551, 4.972331801186948, 3.1423885861492975, 1.2457389140899444, 1.2457387912896287, 1.2457387257286237, 1.2457386325278814, 1.2457384957919972, 1.2457380252294619, 1.24573813252584, 1.2457381348119485, 1.2457383166662483, 1.2457382474569803, 1.2457378910453585, 1.2457380224457095, 1.2457377850786262, 1.2457378809464814, 1.2457377589078695, 1.2457377615310579, 1.245737318141695, 1.2457377110462993, 1.2457373056335639, 1.2457376777364946, 1.2457370955662932, 1.2457375298027618, 14.744046915525539, 2.431770287379681, 2.4317030965123605, 2.431701166628726, 2.4870107893246756, 2.497887558885308, 2.5064749670097575, 4.289293607318694, 4.366416226490353, 2.9730698322912037, 3.028539523175729, 3.1033339603119714, 3.103296692696278, 9.294359613557162, 6.177617171335296, 2.4771443762470846, 1.8041965792673729, 2.4010640827657275, 4.875317104489799, 1.8534741840834656, 2.476669680721587, 2.4588346250912307, 1.833967625062506, 1.8339662269395076, 1.8339651217490993, 1.8339740771876494, 1.8340149058865594, 4.32570249554841, 3.710116343220995, 9.294359613557162, 1.2176528386543748, 1.2176526840913797, 1.2176524646922984, 1.217652136433513, 1.2176520448224561, 1.2176517288398965, 1.217651962256488, 1.217651667268986, 1.2176517200208854, 1.2176517968964053, 1.2176516577572187, 1.2176515673078232, 1.2176510747430622, 1.2176514200334378, 1.2176506945507604, 1.2176507720403216, 1.2176506846979955, 1.217650612788581, 1.2176509809900495, 1.217650544374282, 1.2176505331947067, 1.217650055008732, 6.177617171335296, 2.3756011715005703, 2.4308074212720316, 2.430793798626633, 2.430783608238337, 2.441707396171766, 2.4418464643018165, 2.478300127940594, 2.478308451475964, 2.476669680721587, 2.9727268636276816, 3.08593171103187, 3.018153103993261, 3.5800679071361534, 3.5800184787798908, 3.6463210528667362, 4.224491667065317, 14.744046915525539, 1.7638734938141796, 1.8253825716255552, 1.8253814893794762, 1.8619503591737825, 2.424636431501292, 1.8168718144785363, 1.8168698920561888, 1.8168620620769182, 1.209104076752312, 1.209104107859209, 1.20910382867603, 1.209103992272966, 1.2091041950486106, 1.2091033709281331, 1.2091038693623497, 1.2091034369888964, 1.2091038503515947, 1.2091031743427716, 1.2091032719681287, 1.2091034519935424, 1.20910319298642, 1.209103294736081, 1.20910338749203, 1.209102382324217, 1.209102765602007, 1.209103264230989, 1.2091024359727605, 1.2091028968326163, 1.2091031023367238, 1.209102877742106, 1.2091026282092927, 1.2091027852056027, 1.2091028616374062, 1.2091024599885085, 4.87022002653857, 2.4331245074073653, 2.433142518573062, 2.461106321987263, 2.4611675156312294, 2.460914105712815, 2.8999141698125834, 2.9552378987466077, 3.0027661357350204, 5.4560581336533085, 3.5438246080447042, 3.552076840711634, 3.6463210528667362, 3.6544025642697164, 4.366416226490353, 11.40498459285971, 4.875317104489799, 5.893644444380708, 14.744046915525539, 2.4222055176511534, 1.7506934592016434, 1.8059190570269246, 1.8253653433761956, 1.8534210745737973, 2.4697182142444487, 1.8534248432494413, 1.7950415482787219, 1.7950424888838672, 1.7950412966756564, 1.795041397529481, 1.7950409926861202, 1.7950398456565475, 1.7950304471591871, 1.7950464796670582, 1.1981896936136194, 1.198189646722364, 1.198189632705437, 1.198189301063975, 1.198189410672368, 1.1981893954254663, 1.1981894389036696, 1.1981894784375517, 1.1981896573736142, 1.1981891119815855, 1.1981894638332649, 1.1981895707799808, 1.198189399017862, 1.1981894238917108, 1.198189354299828, 1.1981890804788962, 1.1981890413687608, 1.1981891509772227, 1.1981883417718526, 1.198188881716871, 1.1981883920226812, 1.198188719354259, 2.4112641962658263, 2.4112874188800806, 2.4392842271151975, 5.4560581336533085, 4.875317104489799, 2.944202692372822, 3.019005028868628, 3.552076840711634, 3.6544025642697164, 4.87022002653857, 14.744046915525539, 5.893644444380708, 1.7399176333723125, 1.8058922224878295, 1.8058923137271612, 1.7397788225227222, 1.8059019538145393, 1.8059075219508207, 1.8144517626958667, 2.458794494592235, 1.8059128279001897, 2.4587933509656867, 2.226000862610804, 1.6844524836128798, 1.6844534480435498, 1.1428972152920962, 1.1428972247285092, 1.1428978112964467, 1.14289773937457, 1.142897567996879, 1.1428976742961288, 1.142897601577459, 1.142897615181658, 1.1428973990293643, 1.142897775215453, 1.1428972797372376, 1.1428975399509065, 1.142897425422754, 1.142897835572307, 1.1428977498611246, 1.142897980738598, 1.142898104803928, 1.1428979986114811, 1.1428983203709064, 1.14289805598889, 1.1428977725026994, 1.1428979164940236, 1.1428984259692538, 1.142898046201461, 1.1428985177737672, 1.1428980285123442, 1.1428981726853675, 2.2920115582156364, 2.3284670792392426, 2.8999141698125834, 2.9446965362898623, 2.9447713517189875, 2.9730698322912037, 5.893644444380708, 3.5438246080447042, 14.744046915525539, 1.7395693530437157, 1.7396064916035436, 1.7870847125670997, 1.7870906700812017, 2.9636667571948228, 2.355892350256462, 1.7396566557625894, 2.944202692372822, 4.289293607318694, 1.7871760947408013, 1.7505718446351008, 1.7396749498720565, 3.5800679071361534, 1.7505860155295816, 1.787198219683243, 3.5800184787798908, 1.787212988388434, 1.739683597035604], \"Category\": [\"Default\", \"Default\", \"Default\", \"Default\", \"Default\", \"Default\", \"Default\", \"Default\", \"Default\", \"Default\", \"Default\", \"Default\", \"Default\", \"Default\", \"Default\", \"Default\", \"Default\", \"Default\", \"Default\", \"Default\", \"Default\", \"Default\", \"Default\", \"Default\", \"Default\", \"Default\", \"Default\", \"Default\", \"Default\", \"Default\", \"Topic1\", \"Topic1\", \"Topic1\", \"Topic1\", \"Topic1\", \"Topic1\", \"Topic1\", \"Topic1\", \"Topic1\", \"Topic1\", \"Topic1\", \"Topic1\", \"Topic1\", \"Topic1\", \"Topic1\", \"Topic1\", \"Topic1\", \"Topic1\", \"Topic1\", \"Topic1\", \"Topic1\", \"Topic1\", \"Topic1\", \"Topic1\", \"Topic1\", \"Topic1\", \"Topic1\", \"Topic1\", \"Topic1\", \"Topic1\", \"Topic1\", \"Topic1\", \"Topic1\", \"Topic1\", \"Topic1\", \"Topic1\", \"Topic1\", \"Topic1\", \"Topic1\", \"Topic1\", \"Topic1\", \"Topic1\", \"Topic1\", \"Topic1\", \"Topic1\", \"Topic1\", \"Topic1\", \"Topic1\", \"Topic1\", \"Topic1\", \"Topic1\", \"Topic1\", \"Topic2\", \"Topic2\", \"Topic2\", \"Topic2\", \"Topic2\", \"Topic2\", \"Topic2\", \"Topic2\", \"Topic2\", \"Topic2\", \"Topic2\", \"Topic2\", \"Topic2\", \"Topic2\", \"Topic2\", \"Topic2\", \"Topic2\", \"Topic2\", \"Topic2\", \"Topic2\", \"Topic2\", \"Topic2\", \"Topic2\", \"Topic2\", \"Topic2\", \"Topic2\", \"Topic2\", \"Topic2\", \"Topic2\", \"Topic2\", \"Topic2\", \"Topic2\", \"Topic2\", \"Topic2\", \"Topic2\", \"Topic2\", \"Topic2\", \"Topic2\", \"Topic2\", \"Topic2\", \"Topic2\", \"Topic2\", \"Topic2\", \"Topic2\", \"Topic2\", \"Topic2\", \"Topic2\", \"Topic2\", \"Topic2\", \"Topic2\", \"Topic2\", \"Topic2\", \"Topic3\", \"Topic3\", \"Topic3\", \"Topic3\", \"Topic3\", \"Topic3\", \"Topic3\", \"Topic3\", \"Topic3\", \"Topic3\", \"Topic3\", \"Topic3\", \"Topic3\", \"Topic3\", \"Topic3\", \"Topic3\", \"Topic3\", \"Topic3\", \"Topic3\", \"Topic3\", \"Topic3\", \"Topic3\", \"Topic3\", \"Topic3\", \"Topic3\", \"Topic3\", \"Topic3\", \"Topic3\", \"Topic3\", \"Topic3\", \"Topic3\", \"Topic3\", \"Topic3\", \"Topic3\", \"Topic3\", \"Topic3\", \"Topic3\", \"Topic3\", \"Topic3\", \"Topic3\", \"Topic3\", \"Topic3\", \"Topic3\", \"Topic3\", \"Topic3\", \"Topic3\", \"Topic3\", \"Topic3\", \"Topic3\", \"Topic3\", \"Topic3\", \"Topic3\", \"Topic3\", \"Topic3\", \"Topic3\", \"Topic3\", \"Topic4\", \"Topic4\", \"Topic4\", \"Topic4\", \"Topic4\", \"Topic4\", \"Topic4\", \"Topic4\", \"Topic4\", \"Topic4\", \"Topic4\", \"Topic4\", \"Topic4\", \"Topic4\", \"Topic4\", \"Topic4\", \"Topic4\", \"Topic4\", \"Topic4\", \"Topic4\", \"Topic4\", \"Topic4\", \"Topic4\", \"Topic4\", \"Topic4\", \"Topic4\", \"Topic4\", \"Topic4\", \"Topic4\", \"Topic4\", \"Topic4\", \"Topic4\", \"Topic4\", \"Topic4\", \"Topic4\", \"Topic4\", \"Topic4\", \"Topic4\", \"Topic4\", \"Topic4\", \"Topic4\", \"Topic4\", \"Topic4\", \"Topic4\", \"Topic4\", \"Topic4\", \"Topic4\", \"Topic4\", \"Topic4\", \"Topic4\", \"Topic4\", \"Topic4\", \"Topic5\", \"Topic5\", \"Topic5\", \"Topic5\", \"Topic5\", \"Topic5\", \"Topic5\", \"Topic5\", \"Topic5\", \"Topic5\", \"Topic5\", \"Topic5\", \"Topic5\", \"Topic5\", \"Topic5\", \"Topic5\", \"Topic5\", \"Topic5\", \"Topic5\", \"Topic5\", \"Topic5\", \"Topic5\", \"Topic5\", \"Topic5\", \"Topic5\", \"Topic5\", \"Topic5\", \"Topic5\", \"Topic5\", \"Topic5\", \"Topic5\", \"Topic5\", \"Topic5\", \"Topic5\", \"Topic5\", \"Topic5\", \"Topic5\", \"Topic5\", \"Topic5\", \"Topic5\", \"Topic5\", \"Topic5\", \"Topic5\", \"Topic5\", \"Topic5\", \"Topic5\", \"Topic5\", \"Topic5\", \"Topic5\", \"Topic5\", \"Topic5\", \"Topic5\", \"Topic5\", \"Topic5\", \"Topic5\", \"Topic5\", \"Topic5\"], \"logprob\": [30.0, 29.0, 28.0, 27.0, 26.0, 25.0, 24.0, 23.0, 22.0, 21.0, 20.0, 19.0, 18.0, 17.0, 16.0, 15.0, 14.0, 13.0, 12.0, 11.0, 10.0, 9.0, 8.0, 7.0, 6.0, 5.0, 4.0, 3.0, 2.0, 1.0, -4.8725, -3.4404, -5.2472, -5.2472, -5.2472, -5.2472, -4.3916, -4.8716, -5.8533, -5.8533, -5.8533, -5.8533, -5.8533, -5.8533, -5.8533, -5.8533, -5.8533, -5.8533, -5.8533, -5.8533, -5.8533, -5.8533, -5.8533, -5.8533, -5.8533, -5.8533, -5.8533, -5.8533, -5.8533, -5.8533, -3.5897, -5.2467, -5.247, -5.247, -5.2467, -5.247, -5.2463, -4.8713, -4.8716, -5.2478, -5.2468, -5.2461, -5.2464, -4.6007, -4.8714, -5.575, -5.7247, -5.7241, -5.6962, -5.8528, -5.8529, -5.8529, -5.1095, -5.1095, -5.1095, -5.1096, -5.1106, -4.2727, -4.4692, -3.6416, -5.7156, -5.7156, -5.7156, -5.7156, -5.7156, -5.7156, -5.7156, -5.7156, -5.7156, -5.7156, -5.7156, -5.7156, -5.7156, -5.7156, -5.7156, -5.7156, -5.7156, -5.7156, -5.7156, -5.7156, -5.7157, -5.7157, -4.2, -5.1088, -5.1087, -5.1091, -5.1093, -5.1088, -5.1115, -5.1091, -5.1093, -5.2001, -5.1068, -5.108, -5.148, -5.1071, -5.1091, -5.1115, -5.1062, -4.7364, -5.6703, -5.7136, -5.7136, -5.7143, -4.7362, -5.1109, -5.111, -5.111, -5.7171, -5.7171, -5.7171, -5.7171, -5.7171, -5.7171, -5.7171, -5.7171, -5.7171, -5.7171, -5.7171, -5.7171, -5.7171, -5.7171, -5.7171, -5.7171, -5.7171, -5.7171, -5.7171, -5.7171, -5.7171, -5.7171, -5.7171, -5.7171, -5.7171, -5.7171, -4.4626, -5.11, -5.1107, -5.1095, -5.1102, -5.1124, -5.1116, -5.1104, -5.1099, -4.7356, -5.1103, -5.1111, -5.1092, -5.1117, -5.1116, -4.7395, -5.11, -5.1091, -5.1184, -5.7161, -5.7162, -5.7162, -5.7163, -5.7163, -5.7164, -5.7165, -5.0847, -5.0847, -5.0847, -5.0847, -5.0847, -5.0847, -5.0849, -5.0849, -5.6908, -5.6908, -5.6908, -5.6908, -5.6908, -5.6908, -5.6908, -5.6908, -5.6908, -5.6908, -5.6908, -5.6908, -5.6908, -5.6908, -5.6908, -5.6908, -5.6908, -5.6908, -5.6908, -5.6908, -5.6908, -5.6908, -5.0837, -5.084, -5.0836, -4.4372, -4.7359, -5.0836, -5.0836, -5.0842, -5.0837, -5.0851, -4.7126, -5.0836, -5.6877, -5.6896, -5.6898, -5.6898, -5.6903, -5.6904, -5.6905, -5.6906, -5.6906, -5.6906, -4.5087, -4.8834, -4.8834, -5.4895, -5.4895, -5.4895, -5.4895, -5.4895, -5.4895, -5.4895, -5.4895, -5.4895, -5.4895, -5.4895, -5.4895, -5.4895, -5.4895, -5.4895, -5.4895, -5.4895, -5.4895, -5.4895, -5.4895, -5.4895, -5.4895, -5.4895, -5.4895, -5.4895, -5.4895, -5.4895, -4.8823, -4.8819, -4.883, -4.8815, -4.882, -4.8827, -4.5012, -4.8815, -4.3136, -5.4876, -5.488, -5.4882, -5.4882, -5.4883, -5.4884, -5.4887, -5.4888, -5.4889, -5.4889, -5.4889, -5.4889, -5.489, -5.489, -5.4891, -5.4891, -5.4891, -5.4891], \"loglift\": [30.0, 29.0, 28.0, 27.0, 26.0, 25.0, 24.0, 23.0, 22.0, 21.0, 20.0, 19.0, 18.0, 17.0, 16.0, 15.0, 14.0, 13.0, 12.0, 11.0, 10.0, 9.0, 8.0, 7.0, 6.0, 5.0, 4.0, 3.0, 2.0, 1.0, 1.1869, 1.1148, 1.1055, 1.1055, 1.1055, 1.1055, 0.9938, 0.9728, 0.9163, 0.9163, 0.9163, 0.9163, 0.9163, 0.9163, 0.9163, 0.9163, 0.9163, 0.9163, 0.9163, 0.9163, 0.9163, 0.9163, 0.9163, 0.9163, 0.9163, 0.9163, 0.9163, 0.9163, 0.9163, 0.9163, 0.7088, 0.854, 0.8537, 0.8537, 0.8316, 0.8269, 0.8242, 0.6619, 0.6438, 0.6519, 0.6345, 0.6108, 0.6105, 0.1592, 0.297, 0.5072, 0.6745, 0.3893, -0.291, 0.5195, 0.2296, 0.2367, 1.2734, 1.2734, 1.2733, 1.2732, 1.2722, 1.2521, 1.2091, 1.1183, 1.0768, 1.0768, 1.0768, 1.0768, 1.0768, 1.0768, 1.0768, 1.0768, 1.0768, 1.0768, 1.0768, 1.0768, 1.0768, 1.0768, 1.0768, 1.0768, 1.0768, 1.0768, 1.0768, 1.0768, 1.0768, 1.0768, 0.9684, 1.0153, 0.9924, 0.992, 0.9918, 0.9878, 0.9851, 0.9727, 0.9725, 0.8823, 0.793, 0.7545, 0.7367, 0.6068, 0.6049, 0.5841, 0.4423, -0.4379, 0.7516, 0.6739, 0.6739, 0.6534, 1.3674, 1.2813, 1.2812, 1.2812, 1.0824, 1.0824, 1.0824, 1.0824, 1.0824, 1.0824, 1.0824, 1.0824, 1.0824, 1.0824, 1.0824, 1.0824, 1.0824, 1.0824, 1.0824, 1.0824, 1.0824, 1.0824, 1.0824, 1.0824, 1.0824, 1.0824, 1.0824, 1.0824, 1.0824, 1.0824, 0.9436, 0.9901, 0.9894, 0.9792, 0.9785, 0.9764, 0.813, 0.7954, 0.7799, 0.557, 0.6138, 0.6107, 0.5865, 0.5817, 0.4037, -0.1843, 0.2951, 0.1064, -0.8199, 0.3885, 0.7131, 0.682, 0.6713, 0.656, 0.3688, 0.6558, 1.3196, 1.3196, 1.3196, 1.3196, 1.3196, 1.3196, 1.3194, 1.3194, 1.1177, 1.1177, 1.1177, 1.1177, 1.1177, 1.1177, 1.1177, 1.1177, 1.1177, 1.1177, 1.1177, 1.1177, 1.1177, 1.1177, 1.1177, 1.1177, 1.1177, 1.1177, 1.1177, 1.1177, 1.1177, 1.1177, 1.0255, 1.0251, 1.014, 0.8555, 0.6692, 0.8259, 0.8008, 0.6376, 0.6097, 0.3211, -0.4141, 0.1319, 0.7478, 0.7087, 0.7085, 0.7458, 0.708, 0.7079, 0.7031, 0.399, 0.7076, 0.399, 1.6804, 1.5845, 1.5845, 1.3663, 1.3663, 1.3663, 1.3663, 1.3663, 1.3663, 1.3663, 1.3663, 1.3663, 1.3663, 1.3663, 1.3663, 1.3662, 1.3662, 1.3662, 1.3662, 1.3662, 1.3662, 1.3662, 1.3662, 1.3662, 1.3662, 1.3662, 1.3662, 1.3662, 1.3662, 1.3662, 1.2776, 1.2623, 1.0417, 1.0278, 1.0273, 1.0171, 0.7142, 0.8427, -0.0151, 0.9481, 0.9477, 0.9206, 0.9205, 0.4146, 0.644, 0.9469, 0.4207, 0.0444, 0.9198, 0.9405, 0.9467, 0.225, 0.9403, 0.9196, 0.2249, 0.9195, 0.9465]}, \"token.table\": {\"Topic\": [2, 4, 5, 1, 4, 1, 2, 4, 4, 2, 3, 5, 3, 5, 2, 4, 2, 5, 2, 3, 1, 3, 4, 5, 4, 4, 1, 2, 3, 4, 4, 4, 5, 4, 5, 1, 3, 4, 1, 2, 4, 4, 2, 3, 2, 4, 1, 1, 2, 1, 5, 2, 4, 5, 3, 2, 4, 1, 2, 4, 1, 3, 5, 2, 1, 2, 4, 2, 4, 3, 3, 4, 5, 3, 2, 1, 3, 5, 3, 4, 1, 2, 4, 4, 1, 2, 5, 5, 1, 5, 1, 3, 3, 3, 1, 5, 3, 4, 3, 5, 2, 1, 2, 4, 5, 2, 5, 4, 2, 4, 3, 5, 1, 2, 3, 4, 5, 1, 3, 3, 3, 5, 1, 4, 2, 3, 1, 2, 4, 1, 5, 5, 1, 5, 1, 2, 4, 1, 3, 3, 4, 5, 1, 3, 3, 4, 1, 2, 3, 5, 1, 2, 4, 2, 2, 2, 4, 4, 4, 1, 2, 1, 2, 3, 4, 5, 5, 1, 3, 1, 3, 5, 1, 2, 3, 1, 2, 5, 4, 1, 3, 1, 4, 5, 5, 4, 5, 2, 1, 5, 3, 5, 2, 1, 2, 3, 3, 1, 1, 3, 1, 3, 4, 1, 4, 1, 2, 4, 5, 1, 5, 4, 3, 5, 2, 2, 3, 4, 3, 1, 4, 1, 2, 3, 4, 1, 1, 2, 3, 5, 2, 1, 3, 4, 2, 1, 1, 1, 2, 3, 4, 3, 2, 5, 1, 2, 5, 1, 2, 4, 2, 3, 4, 2, 5, 3, 2, 5, 3, 4, 3, 5, 1, 4, 5, 5, 3, 1, 4, 5, 5, 1, 5, 4, 1, 5, 3, 1, 2, 1, 3, 3, 3, 1, 5, 4, 5, 3, 1, 3, 4, 3, 3, 3, 4, 5, 1, 1, 3, 5, 4, 1, 2, 3, 2, 5, 2, 5, 3, 4, 1, 1, 5, 1, 2, 1, 2, 4, 5, 3, 4, 5, 1, 1, 3, 4, 1, 3, 4, 3, 4, 5, 5, 1, 2, 3, 4, 5, 2, 4, 5, 5, 3, 2, 3, 4, 5, 2, 2, 1, 2, 3, 4, 5, 5, 1, 2, 5, 1, 5, 1, 2, 5, 4, 5, 1, 2, 2, 3, 4, 5, 2, 3, 4, 5, 3, 2, 3, 1, 2, 5, 2, 3, 1, 2, 1, 3, 4, 5, 2, 4], \"Freq\": [0.33639148360225696, 0.33639148360225696, 0.33639148360225696, 0.8027375949219969, 0.834592539824342, 0.8027371983144804, 0.4147202125543262, 0.4147202125543262, 0.5570901692826593, 0.8212528889132679, 0.8270585811339413, 0.8749693206177117, 0.5712372834747473, 0.5712372834747473, 0.5452518388974608, 0.834593068560127, 0.821253586496692, 0.8749687346142215, 0.8212521403925749, 0.8270591969714851, 0.8027368080610422, 0.33965052833847853, 0.33965052833847853, 0.33965052833847853, 0.8345932965615565, 0.8345933315635701, 0.789090746338025, 0.4095261576103739, 0.4095261576103739, 0.8345924755037167, 0.5570906976910273, 0.5748200260477077, 0.5748200260477077, 0.8345925951437102, 0.8749687209312734, 0.6364585235624256, 0.3182292617812128, 0.8345925870258247, 0.40670355628188587, 0.40670355628188587, 0.40670355628188587, 0.8345926633729864, 0.5478355352964027, 0.5478355352964027, 0.5452658958284051, 0.5570902160676082, 0.8027368526585547, 0.40376801467874646, 0.40376801467874646, 0.4112230522717405, 0.4112230522717405, 0.4244676119819907, 0.4244676119819907, 0.4244676119819907, 0.8270590894031629, 0.8212522446383851, 0.8345928170204294, 0.32277640684615516, 0.6455528136923103, 0.8345925778179606, 0.4063112297919, 0.4063112297919, 0.8749693133934647, 0.8212529978596079, 0.4067033671172423, 0.4067033671172423, 0.4067033671172423, 0.4147162184690736, 0.4147162184690736, 0.8270592793237573, 0.827059144854074, 0.5747398502202645, 0.5747398502202645, 0.8270598210862288, 0.8212536416418069, 0.6033386587926148, 0.20111288626420493, 0.20111288626420493, 0.8270592125453775, 0.8345923899446178, 0.32223409171840217, 0.32223409171840217, 0.32223409171840217, 0.8345926262918254, 0.339584939053505, 0.339584939053505, 0.339584939053505, 0.8749690248888197, 0.5290587237037605, 0.8749686770048377, 0.7891286416673116, 0.17536192037051368, 0.8270588039118378, 0.8270586620516809, 0.559530400963413, 0.559530400963413, 0.5537382107582984, 0.5537382107582984, 0.8270593285778448, 0.8749691799537529, 0.8212523926132739, 0.8027364230895322, 0.821252936855431, 0.5748260708154758, 0.5748260708154758, 0.4209460796688953, 0.4209460796688953, 0.8345927950773839, 0.411389971781458, 0.411389971781458, 0.5712022254632876, 0.5712022254632876, 0.2367148709976467, 0.2367148709976467, 0.2367148709976467, 0.2367148709976467, 0.2367148709976467, 0.5395428020747819, 0.5395428020747819, 0.8270596528939994, 0.3448377922387366, 0.3448377922387366, 0.4099563260746547, 0.4099563260746547, 0.5478306895398298, 0.5478306895398298, 0.5290601219221898, 0.8212529304401588, 0.5570898773665164, 0.5542633277833108, 0.5542633277833108, 0.8749686396335016, 0.33635267800936497, 0.33635267800936497, 0.40669672933489653, 0.40669672933489653, 0.40669672933489653, 0.5395273419977497, 0.5395273419977497, 0.8270586407737541, 0.5748549192651072, 0.5748549192651072, 0.40033827641395275, 0.40033827641395275, 0.553734673826575, 0.553734673826575, 0.5290587944216941, 0.41099417516679315, 0.41099417516679315, 0.874969072068311, 0.4035023800087422, 0.4035023800087422, 0.8345925976459748, 0.8212526757968927, 0.5452666401017892, 0.8212528430121288, 0.8345924151873934, 0.8345928442624062, 0.834592955467181, 0.40350102482378536, 0.40350102482378536, 0.5290593315212537, 0.41284688384729384, 0.41284688384729384, 0.41284688384729384, 0.8749684746018951, 0.8749690144738422, 0.4063530692430833, 0.4063530692430833, 0.33302626804641877, 0.33302626804641877, 0.33302626804641877, 0.4049044924365698, 0.4049044924365698, 0.4049044924365698, 0.3395935668331851, 0.3395935668331851, 0.3395935668331851, 0.8345927679151635, 0.8027365022203153, 0.8270592178377897, 0.8027371506090134, 0.574842646786294, 0.574842646786294, 0.8749686844978015, 0.5747857066968866, 0.5747857066968866, 0.8212535931419628, 0.41123474122701725, 0.41123474122701725, 0.4362979743341758, 0.4362979743341758, 0.8212528948613055, 0.3240512408052028, 0.3240512408052028, 0.3240512408052028, 0.8270592665709977, 0.8027366926348654, 0.4063213324292843, 0.4063213324292843, 0.2053295322492306, 0.6159885967476918, 0.2053295322492306, 0.4020891281583626, 0.4020891281583626, 0.4662772435506536, 0.2331386217753268, 0.2331386217753268, 0.2331386217753268, 0.559535024703212, 0.559535024703212, 0.5570902473675449, 0.5712419076455818, 0.5712419076455818, 0.8212536877843497, 0.8212535342332833, 0.5537365838210152, 0.5537365838210152, 0.8270594932227417, 0.802737088833025, 0.8345924323698768, 0.8027369267186314, 0.3312349566952361, 0.3312349566952361, 0.3312349566952361, 0.8027371674731074, 0.8027374595572656, 0.41099113281143057, 0.41099113281143057, 0.5936643729522325, 0.821253393305624, 0.8027369252454938, 0.5537428740344496, 0.5537428740344496, 0.5452639775222305, 0.8027369976527958, 0.8027365444669043, 0.2051148630063623, 0.2051148630063623, 0.2051148630063623, 0.4102297260127246, 0.8270594691482542, 0.8212540178408064, 0.8749691597477379, 0.32374942385231986, 0.4856241357784798, 0.16187471192615993, 0.3222379614406629, 0.3222379614406629, 0.3222379614406629, 0.27424902675912216, 0.27424902675912216, 0.27424902675912216, 0.5669340820115232, 0.5669340820115232, 0.5503995162169136, 0.5452663115115175, 0.8749689113671907, 0.5537399180989517, 0.5537399180989517, 0.8270588169156938, 0.874969271280363, 0.3301921577537807, 0.3301921577537807, 0.3301921577537807, 0.874968864334117, 0.8270591335239242, 0.4164820119453556, 0.4164820119453556, 0.4164820119453556, 0.8984722484133564, 0.41123441485691137, 0.41123441485691137, 0.5570903417105747, 0.42946709829658414, 0.42946709829658414, 0.8270588317423501, 0.5370712463267483, 0.5370712463267483, 0.5395417049912803, 0.5395417049912803, 0.8270594822066859, 0.550397144216133, 0.5595419516536408, 0.5595419516536408, 0.5570936145303823, 0.5936647128538531, 0.550396561843859, 0.18328250460381595, 0.3665650092076319, 0.5498475138114479, 0.8270595455041934, 0.8270595589135918, 0.827059099666742, 0.5748171688828853, 0.5748171688828853, 0.8027369958589828, 0.28218100797932755, 0.28218100797932755, 0.28218100797932755, 0.8345924226064632, 0.45804153709999473, 0.22902076854999737, 0.22902076854999737, 0.8212526140092742, 0.8749688940334671, 0.8212533300732404, 0.8749689193953886, 0.8270587198377566, 0.8345925673614594, 0.8027372197788863, 0.5595686982992094, 0.5595686982992094, 0.3989666815595638, 0.3989666815595638, 0.8027373151054785, 0.41138594166242265, 0.41138594166242265, 0.8749688919566628, 0.553742902011274, 0.553742902011274, 0.8749686980400625, 0.8027371657827591, 0.8027374514971831, 0.8270597679616863, 0.8345925499968809, 0.273642540035771, 0.273642540035771, 0.273642540035771, 0.28152544126822915, 0.28152544126822915, 0.28152544126822915, 0.8749685876655028, 0.16967430075518883, 0.16967430075518883, 0.16967430075518883, 0.16967430075518883, 0.33934860151037766, 0.41138824714995864, 0.41138824714995864, 0.8749683937589935, 0.8749687837979615, 0.8248659361938381, 0.2793281671386263, 0.2793281671386263, 0.2793281671386263, 0.2793281671386263, 0.8212527314840055, 0.8212530971897845, 0.4747678870059056, 0.13564796771597304, 0.06782398385798652, 0.13564796771597304, 0.13564796771597304, 0.8749689692175334, 0.40369064055726006, 0.40369064055726006, 0.8749688457492346, 0.5595705637051344, 0.5595705637051344, 0.8027370823254416, 0.8212536953244994, 0.8749683234762463, 0.5570886388331727, 0.8749690505971318, 0.2311763236212158, 0.6935289708636474, 0.2793243105826844, 0.2793243105826844, 0.2793243105826844, 0.2793243105826844, 0.337419852475763, 0.337419852475763, 0.337419852475763, 0.337419852475763, 0.8270597843891274, 0.5478303647379911, 0.5478303647379911, 0.3313284533766425, 0.3313284533766425, 0.3313284533766425, 0.4095494822876202, 0.4095494822876202, 0.26953332658345547, 0.8085999797503665, 0.8027366045241585, 0.33838223326254907, 0.33838223326254907, 0.33838223326254907, 0.5511306613708072, 0.5511306613708072], \"Term\": [\"administration\", \"administration\", \"administration\", \"advantage\", \"affect\", \"agent\", \"agree\", \"agree\", \"air\", \"airbnb\", \"alert\", \"alone\", \"animal\", \"animal\", \"anti\", \"anxious\", \"appointment\", \"aquarium\", \"area\", \"army\", \"arrest\", \"attack\", \"attack\", \"attack\", \"australian\", \"awake\", \"back\", \"ban\", \"ban\", \"bandwagon\", \"begin\", \"behind\", \"behind\", \"block\", \"blow\", \"border\", \"border\", \"brand\", \"business\", \"business\", \"business\", \"buying\", \"car\", \"car\", \"carry\", \"case\", \"charge\", \"check\", \"check\", \"chief\", \"chief\", \"chinese\", \"chinese\", \"chinese\", \"choice\", \"cite\", \"clarity\", \"class\", \"class\", \"climb\", \"community\", \"community\", \"company\", \"compete\", \"conflict\", \"conflict\", \"conflict\", \"conservative\", \"conservative\", \"consider\", \"corps\", \"country\", \"country\", \"court\", \"crash\", \"day\", \"day\", \"day\", \"deadline\", \"decision\", \"deliver\", \"deliver\", \"deliver\", \"department\", \"die\", \"die\", \"die\", \"district\", \"drive\", \"driver\", \"election\", \"election\", \"electric\", \"emit\", \"encore\", \"encore\", \"end\", \"end\", \"engineer\", \"evacuate\", \"evacuation\", \"expunge\", \"eye\", \"fake\", \"fake\", \"fear\", \"fear\", \"federal\", \"feeling\", \"feeling\", \"film\", \"film\", \"first\", \"first\", \"first\", \"first\", \"first\", \"game\", \"game\", \"gay\", \"get\", \"get\", \"go\", \"go\", \"good\", \"good\", \"ground\", \"gun\", \"hand\", \"hate\", \"hate\", \"hawaiian\", \"head\", \"head\", \"help\", \"help\", \"help\", \"hold\", \"hold\", \"hybrid\", \"ifill\", \"ifill\", \"immigration\", \"immigration\", \"injure\", \"injure\", \"interview\", \"issue\", \"issue\", \"japanese\", \"job\", \"job\", \"judge\", \"kcur\", \"know\", \"kpcc\", \"labor\", \"languish\", \"later\", \"lead\", \"lead\", \"leader\", \"leave\", \"leave\", \"leave\", \"legendary\", \"letter\", \"live\", \"live\", \"look\", \"look\", \"look\", \"lose\", \"lose\", \"lose\", \"make\", \"make\", \"make\", \"maker\", \"manufacture\", \"marijuana\", \"mel\", \"middle\", \"middle\", \"mogul\", \"mom\", \"mom\", \"money\", \"montagne\", \"montagne\", \"move\", \"move\", \"mpr\", \"name\", \"name\", \"name\", \"national\", \"ncpr\", \"need\", \"need\", \"new\", \"new\", \"new\", \"newly\", \"newly\", \"news\", \"news\", \"news\", \"news\", \"obamacare\", \"obamacare\", \"offer\", \"old\", \"old\", \"olympic\", \"other\", \"overtime\", \"overtime\", \"painkill\", \"part\", \"partner\", \"patel\", \"pay\", \"pay\", \"pay\", \"person\", \"philly\", \"pipeline\", \"pipeline\", \"plan\", \"plane\", \"play\", \"political\", \"political\", \"populist\", \"post\", \"pour\", \"presidential\", \"presidential\", \"presidential\", \"presidential\", \"priority\", \"private\", \"production\", \"program\", \"program\", \"program\", \"promise\", \"promise\", \"promise\", \"protester\", \"protester\", \"protester\", \"public\", \"public\", \"pull\", \"put\", \"puzzle\", \"question\", \"question\", \"quiet\", \"reflect\", \"refugee\", \"refugee\", \"refugee\", \"regulate\", \"relax\", \"remain\", \"remain\", \"remain\", \"remember\", \"renee\", \"renee\", \"report\", \"republican\", \"republican\", \"require\", \"result\", \"result\", \"reveal\", \"reveal\", \"reverse\", \"ride\", \"right\", \"right\", \"rise\", \"road\", \"rule\", \"say\", \"say\", \"say\", \"scandal\", \"score\", \"search\", \"secretary\", \"secretary\", \"secure\", \"security\", \"security\", \"security\", \"sedan\", \"see\", \"see\", \"see\", \"seller\", \"side\", \"soccer\", \"social\", \"sound\", \"sport\", \"stable\", \"staff\", \"staff\", \"state\", \"state\", \"stock\", \"strategy\", \"strategy\", \"strike\", \"study\", \"study\", \"sure\", \"surprisingly\", \"surrogate\", \"suspect\", \"suv\", \"syrian\", \"syrian\", \"syrian\", \"take\", \"take\", \"take\", \"tasty\", \"team\", \"team\", \"team\", \"team\", \"team\", \"test\", \"test\", \"thing\", \"tour\", \"train\", \"transition\", \"transition\", \"transition\", \"transition\", \"travelocity\", \"tripadvisor\", \"trump\", \"trump\", \"trump\", \"trump\", \"trump\", \"try\", \"turn\", \"turn\", \"tween\", \"twitter\", \"twitter\", \"union\", \"unprecedented\", \"use\", \"veteran\", \"voice\", \"voter\", \"voter\", \"want\", \"want\", \"want\", \"want\", \"way\", \"way\", \"way\", \"way\", \"wedding\", \"week\", \"week\", \"white\", \"white\", \"white\", \"win\", \"win\", \"work\", \"work\", \"wypr\", \"year\", \"year\", \"year\", \"zika\", \"zika\"]}, \"R\": 30, \"lambda.step\": 0.01, \"plot.opts\": {\"xlab\": \"PC1\", \"ylab\": \"PC2\"}, \"topic.order\": [2, 1, 3, 5, 4]};\n",
       "\n",
       "function LDAvis_load_lib(url, callback){\n",
       "  var s = document.createElement('script');\n",
       "  s.src = url;\n",
       "  s.async = true;\n",
       "  s.onreadystatechange = s.onload = callback;\n",
       "  s.onerror = function(){console.warn(\"failed to load library \" + url);};\n",
       "  document.getElementsByTagName(\"head\")[0].appendChild(s);\n",
       "}\n",
       "\n",
       "if(typeof(LDAvis) !== \"undefined\"){\n",
       "   // already loaded: just create the visualization\n",
       "   !function(LDAvis){\n",
       "       new LDAvis(\"#\" + \"ldavis_el195791403024894647205595838880\", ldavis_el195791403024894647205595838880_data);\n",
       "   }(LDAvis);\n",
       "}else if(typeof define === \"function\" && define.amd){\n",
       "   // require.js is available: use it to load d3/LDAvis\n",
       "   require.config({paths: {d3: \"https://d3js.org/d3.v5\"}});\n",
       "   require([\"d3\"], function(d3){\n",
       "      window.d3 = d3;\n",
       "      LDAvis_load_lib(\"https://cdn.jsdelivr.net/gh/bmabey/pyLDAvis@3.3.1/pyLDAvis/js/ldavis.v3.0.0.js\", function(){\n",
       "        new LDAvis(\"#\" + \"ldavis_el195791403024894647205595838880\", ldavis_el195791403024894647205595838880_data);\n",
       "      });\n",
       "    });\n",
       "}else{\n",
       "    // require.js not available: dynamically load d3 & LDAvis\n",
       "    LDAvis_load_lib(\"https://d3js.org/d3.v5.js\", function(){\n",
       "         LDAvis_load_lib(\"https://cdn.jsdelivr.net/gh/bmabey/pyLDAvis@3.3.1/pyLDAvis/js/ldavis.v3.0.0.js\", function(){\n",
       "                 new LDAvis(\"#\" + \"ldavis_el195791403024894647205595838880\", ldavis_el195791403024894647205595838880_data);\n",
       "            })\n",
       "         });\n",
       "}\n",
       "</script>"
      ],
      "text/plain": [
       "PreparedData(topic_coordinates=              x         y  topics  cluster       Freq\n",
       "topic                                                \n",
       "1      0.124903  0.031186       1        1  24.827914\n",
       "0      0.006607 -0.125939       2        1  20.690935\n",
       "2     -0.060634  0.068760       3        1  20.433616\n",
       "4     -0.088092 -0.006253       4        1  19.546093\n",
       "3      0.017216  0.032246       5        1  14.501442, topic_info=           Term       Freq      Total Category  logprob  loglift\n",
       "39     election  11.000000  11.000000  Default  30.0000  30.0000\n",
       "128       class   9.000000   9.000000  Default  29.0000  29.0000\n",
       "92        voter   4.000000   4.000000  Default  28.0000  28.0000\n",
       "209     program   6.000000   6.000000  Default  27.0000  27.0000\n",
       "48     remember   2.000000   2.000000  Default  26.0000  26.0000\n",
       "..          ...        ...        ...      ...      ...      ...\n",
       "62       animal   0.650100   1.750586   Topic5  -5.4890   0.9403\n",
       "512   obamacare   0.650067   1.787198   Topic5  -5.4891   0.9196\n",
       "153  transition   0.650063   3.580018   Topic5  -5.4891   0.2249\n",
       "8        encore   0.650034   1.787213   Topic5  -5.4891   0.9195\n",
       "468   secretary   0.650032   1.739684   Topic5  -5.4891   0.9465\n",
       "\n",
       "[299 rows x 6 columns], token_table=      Topic      Freq            Term\n",
       "term                                 \n",
       "104       2  0.336391  administration\n",
       "104       4  0.336391  administration\n",
       "104       5  0.336391  administration\n",
       "0         1  0.802738       advantage\n",
       "324       4  0.834593          affect\n",
       "...     ...       ...             ...\n",
       "24        3  0.338382            year\n",
       "24        4  0.338382            year\n",
       "24        5  0.338382            year\n",
       "279       2  0.551131            zika\n",
       "279       4  0.551131            zika\n",
       "\n",
       "[391 rows x 3 columns], R=30, lambda_step=0.01, plot_opts={'xlab': 'PC1', 'ylab': 'PC2'}, topic_order=[2, 1, 3, 5, 4])"
      ]
     },
     "execution_count": 148,
     "metadata": {},
     "output_type": "execute_result"
    }
   ],
   "source": [
    "import pyLDAvis.gensim_models as gensimvis\n",
    "import pickle \n",
    "import pyLDAvis\n",
    "# Visualize the topics\n",
    "pyLDAvis.enable_notebook()\n",
    "LDAvis_prepared = gensimvis.prepare(lda_model, corpus, id2word)\n",
    "LDAvis_prepared"
   ]
  },
  {
   "cell_type": "code",
   "execution_count": 149,
   "id": "8d6afb07",
   "metadata": {
    "scrolled": true
   },
   "outputs": [
    {
     "name": "stderr",
     "output_type": "stream",
     "text": [
      "/usr/local/anaconda3/lib/python3.8/site-packages/ipykernel/ipkernel.py:287: DeprecationWarning: `should_run_async` will not call `transform_cell` automatically in the future. Please pass the result to `transformed_cell` argument and any exception that happen during thetransform in `preprocessing_exc_tuple` in IPython 7.17 and above.\n",
      "  and should_run_async(code)\n"
     ]
    }
   ],
   "source": [
    "pyLDAvis.save_html(LDAvis_prepared, \"Trump_election.html\")"
   ]
  },
  {
   "cell_type": "code",
   "execution_count": null,
   "id": "9e878a36",
   "metadata": {},
   "outputs": [],
   "source": []
  }
 ],
 "metadata": {
  "kernelspec": {
   "display_name": "Python 3",
   "language": "python",
   "name": "python3"
  },
  "language_info": {
   "codemirror_mode": {
    "name": "ipython",
    "version": 3
   },
   "file_extension": ".py",
   "mimetype": "text/x-python",
   "name": "python",
   "nbconvert_exporter": "python",
   "pygments_lexer": "ipython3",
   "version": "3.8.8"
  }
 },
 "nbformat": 4,
 "nbformat_minor": 5
}
