{
 "cells": [
  {
   "cell_type": "code",
   "execution_count": 1,
   "id": "cb0e0d55",
   "metadata": {},
   "outputs": [],
   "source": [
    "# Import all the things\n",
    "\n",
    "import json\n",
    "import pandas as pd\n",
    "import numpy as np\n",
    "import wrangle\n",
    "import acquire\n",
    "from prepare import basic_clean, tokenize, lemmatize, stem, remove_stopwords, prep_string_data#, split_data\n",
    "\n",
    "import re\n",
    "from sklearn.feature_extraction.text import TfidfVectorizer\n",
    "\n",
    "from wordcloud import WordCloud\n",
    "from matplotlib import pyplot as plt\n",
    "import seaborn as sns\n",
    "\n",
    "from sklearn.model_selection import train_test_split\n",
    "from sklearn.linear_model import LogisticRegression\n",
    "from sklearn.metrics import classification_report, accuracy_score\n",
    "\n",
    "import nltk\n",
    "\n",
    "from scipy import stats\n",
    "\n",
    "import warnings\n",
    "warnings.filterwarnings(\"ignore\")"
   ]
  },
  {
   "cell_type": "code",
   "execution_count": 2,
   "id": "365b1883",
   "metadata": {},
   "outputs": [],
   "source": [
    "# # use our own wrangle to get the data\n",
    "# df = wrangle.get_npr_data()\n",
    "# df.head()"
   ]
  },
  {
   "cell_type": "markdown",
   "id": "892ef9d3",
   "metadata": {},
   "source": [
    "### I'm interested in topic modeling on a story-level basis\n",
    "### So I will need to groupby story_id_num"
   ]
  },
  {
   "cell_type": "code",
   "execution_count": 3,
   "id": "e0cf495e",
   "metadata": {
    "scrolled": true
   },
   "outputs": [],
   "source": [
    "# df = df.sort_values(by=['story_id_num','utterance_order'])\n",
    "# df.head()"
   ]
  },
  {
   "cell_type": "code",
   "execution_count": 4,
   "id": "e0f48025",
   "metadata": {},
   "outputs": [],
   "source": [
    "# df = df[['story_id_num','utterance_order','title','lemmatized']]"
   ]
  },
  {
   "cell_type": "code",
   "execution_count": 5,
   "id": "ddd4d712",
   "metadata": {},
   "outputs": [],
   "source": [
    "# df_sample = df[:100]\n",
    "# df_sample.head()"
   ]
  },
  {
   "cell_type": "code",
   "execution_count": 6,
   "id": "d5517083",
   "metadata": {},
   "outputs": [],
   "source": [
    "# df_sample.shape"
   ]
  },
  {
   "cell_type": "code",
   "execution_count": 7,
   "id": "70343133",
   "metadata": {},
   "outputs": [],
   "source": [
    "# df_sample = df_sample.sort_values(by=['story_id_num','utterance_order'])\n",
    "# df_sample.head()"
   ]
  },
  {
   "cell_type": "code",
   "execution_count": 8,
   "id": "69a9d3cf",
   "metadata": {},
   "outputs": [],
   "source": [
    "# # group every story as an aggregation of all its utterances\n",
    "# df_sample.groupby(['story_id_num']).lemmatized.agg(' '.join)#.iloc[0]"
   ]
  },
  {
   "cell_type": "code",
   "execution_count": 9,
   "id": "ed9f8702",
   "metadata": {},
   "outputs": [],
   "source": [
    "# # group every story as an aggregation of all its utterances and store in a DF\n",
    "# stories_test = pd.DataFrame(df_sample.groupby(['story_id_num']).lemmatized.agg(' '.join))\n",
    "# stories_test"
   ]
  },
  {
   "cell_type": "code",
   "execution_count": 10,
   "id": "a104a08d",
   "metadata": {},
   "outputs": [],
   "source": [
    "# stories.iloc[0].values"
   ]
  },
  {
   "cell_type": "markdown",
   "id": "3228bf47",
   "metadata": {},
   "source": [
    "### Run the above on the whole df"
   ]
  },
  {
   "cell_type": "code",
   "execution_count": 11,
   "id": "aec7d454",
   "metadata": {},
   "outputs": [],
   "source": [
    "# df = df.sort_values(by=['story_id_num','utterance_order'])\n",
    "# df.head()"
   ]
  },
  {
   "cell_type": "code",
   "execution_count": 12,
   "id": "90665d0d",
   "metadata": {
    "scrolled": true
   },
   "outputs": [],
   "source": [
    "# df.dtypes"
   ]
  },
  {
   "cell_type": "code",
   "execution_count": 13,
   "id": "1b123c82",
   "metadata": {},
   "outputs": [],
   "source": [
    "# df.isna().sum()"
   ]
  },
  {
   "cell_type": "code",
   "execution_count": 14,
   "id": "cfcb6ade",
   "metadata": {},
   "outputs": [],
   "source": [
    "# df = df.dropna()"
   ]
  },
  {
   "cell_type": "markdown",
   "id": "de4d658a",
   "metadata": {},
   "source": [
    "#### well...it worked on the sample above\n",
    "#### had to drop 2 nulls that existed in the lemmatized column"
   ]
  },
  {
   "cell_type": "code",
   "execution_count": 15,
   "id": "05c999d7",
   "metadata": {},
   "outputs": [],
   "source": [
    "# # group every story as an aggregation of all its utterances and store in a DF\n",
    "# stories = pd.DataFrame(df.groupby(['story_id_num']).lemmatized.agg(' '.join))\n",
    "# stories"
   ]
  },
  {
   "cell_type": "markdown",
   "id": "e4f501c9",
   "metadata": {},
   "source": [
    "-  61,165 stories to work with here"
   ]
  },
  {
   "cell_type": "code",
   "execution_count": 16,
   "id": "34d0f8cc",
   "metadata": {},
   "outputs": [],
   "source": [
    "# this attempt to get the word count for every story isn't working currently\n",
    "# stories['word_count'] = df.lemmatized.apply(str.split).apply(len)\n",
    "# stories.head()"
   ]
  },
  {
   "cell_type": "code",
   "execution_count": 17,
   "id": "ed2a96d5",
   "metadata": {},
   "outputs": [],
   "source": [
    "# stories.to_csv(\"stories.csv\")"
   ]
  },
  {
   "cell_type": "code",
   "execution_count": 18,
   "id": "8ff24751",
   "metadata": {},
   "outputs": [
    {
     "data": {
      "text/html": [
       "<div>\n",
       "<style scoped>\n",
       "    .dataframe tbody tr th:only-of-type {\n",
       "        vertical-align: middle;\n",
       "    }\n",
       "\n",
       "    .dataframe tbody tr th {\n",
       "        vertical-align: top;\n",
       "    }\n",
       "\n",
       "    .dataframe thead th {\n",
       "        text-align: right;\n",
       "    }\n",
       "</style>\n",
       "<table border=\"1\" class=\"dataframe\">\n",
       "  <thead>\n",
       "    <tr style=\"text-align: right;\">\n",
       "      <th></th>\n",
       "      <th>story_id_num</th>\n",
       "      <th>lemmatized</th>\n",
       "    </tr>\n",
       "  </thead>\n",
       "  <tbody>\n",
       "    <tr>\n",
       "      <th>0</th>\n",
       "      <td>17</td>\n",
       "      <td>he is in cahoot with a foreign government to m...</td>\n",
       "    </tr>\n",
       "    <tr>\n",
       "      <th>1</th>\n",
       "      <td>18</td>\n",
       "      <td>come with concrete plan , not beautiful speech...</td>\n",
       "    </tr>\n",
       "    <tr>\n",
       "      <th>2</th>\n",
       "      <td>19</td>\n",
       "      <td>if you stand outside the old dekalb county cou...</td>\n",
       "    </tr>\n",
       "    <tr>\n",
       "      <th>3</th>\n",
       "      <td>20</td>\n",
       "      <td>you may have spotted pink salt in your superma...</td>\n",
       "    </tr>\n",
       "    <tr>\n",
       "      <th>4</th>\n",
       "      <td>21</td>\n",
       "      <td>singing in foreign language . the other day , ...</td>\n",
       "    </tr>\n",
       "  </tbody>\n",
       "</table>\n",
       "</div>"
      ],
      "text/plain": [
       "   story_id_num                                         lemmatized\n",
       "0            17  he is in cahoot with a foreign government to m...\n",
       "1            18  come with concrete plan , not beautiful speech...\n",
       "2            19  if you stand outside the old dekalb county cou...\n",
       "3            20  you may have spotted pink salt in your superma...\n",
       "4            21  singing in foreign language . the other day , ..."
      ]
     },
     "execution_count": 18,
     "metadata": {},
     "output_type": "execute_result"
    }
   ],
   "source": [
    "stories = pd.read_csv('stories.csv')\n",
    "stories.head()"
   ]
  },
  {
   "cell_type": "code",
   "execution_count": null,
   "id": "fc7b5e36",
   "metadata": {},
   "outputs": [],
   "source": []
  }
 ],
 "metadata": {
  "kernelspec": {
   "display_name": "Python 3",
   "language": "python",
   "name": "python3"
  },
  "language_info": {
   "codemirror_mode": {
    "name": "ipython",
    "version": 3
   },
   "file_extension": ".py",
   "mimetype": "text/x-python",
   "name": "python",
   "nbconvert_exporter": "python",
   "pygments_lexer": "ipython3",
   "version": "3.8.8"
  }
 },
 "nbformat": 4,
 "nbformat_minor": 5
}
