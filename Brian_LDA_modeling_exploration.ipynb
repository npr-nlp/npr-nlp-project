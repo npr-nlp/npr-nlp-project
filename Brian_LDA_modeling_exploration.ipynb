{
 "cells": [
  {
   "cell_type": "code",
   "execution_count": 1,
   "id": "cb0e0d55",
   "metadata": {},
   "outputs": [],
   "source": [
    "# Import all the things\n",
    "\n",
    "import json\n",
    "import pandas as pd\n",
    "import numpy as np\n",
    "import wrangle\n",
    "import acquire\n",
    "from prepare import basic_clean, tokenize, lemmatize, stem, remove_stopwords, prep_string_data#, split_data\n",
    "\n",
    "import re\n",
    "from sklearn.feature_extraction.text import TfidfVectorizer\n",
    "\n",
    "from wordcloud import WordCloud\n",
    "from matplotlib import pyplot as plt\n",
    "import seaborn as sns\n",
    "\n",
    "from sklearn.model_selection import train_test_split\n",
    "from sklearn.linear_model import LogisticRegression\n",
    "from sklearn.metrics import classification_report, accuracy_score\n",
    "\n",
    "import nltk\n",
    "\n",
    "from scipy import stats\n",
    "\n",
    "import warnings\n",
    "warnings.filterwarnings(\"ignore\")"
   ]
  },
  {
   "cell_type": "code",
   "execution_count": 2,
   "id": "365b1883",
   "metadata": {},
   "outputs": [],
   "source": [
    "# use our own wrangle to get the data\n",
    "# df = wrangle.get_npr_data()\n",
    "# df.head()"
   ]
  },
  {
   "cell_type": "markdown",
   "id": "892ef9d3",
   "metadata": {},
   "source": [
    "### I'm interested in topic modeling on a story-level basis\n",
    "### So I will need to groupby story_id_num"
   ]
  },
  {
   "cell_type": "code",
   "execution_count": 3,
   "id": "e0cf495e",
   "metadata": {
    "scrolled": true
   },
   "outputs": [],
   "source": [
    "# df = df.sort_values(by=['story_id_num','utterance_order'])\n",
    "# df.head()"
   ]
  },
  {
   "cell_type": "code",
   "execution_count": 4,
   "id": "7d215116",
   "metadata": {},
   "outputs": [],
   "source": [
    "# df = df[['story_id_num','utterance_order','title','lemmatized']]"
   ]
  },
  {
   "cell_type": "code",
   "execution_count": 5,
   "id": "ddd4d712",
   "metadata": {},
   "outputs": [],
   "source": [
    "# df_sample = df[:100]\n",
    "# df_sample"
   ]
  },
  {
   "cell_type": "code",
   "execution_count": 6,
   "id": "d5517083",
   "metadata": {
    "scrolled": true
   },
   "outputs": [],
   "source": [
    "# df_sample.shape"
   ]
  },
  {
   "cell_type": "code",
   "execution_count": 7,
   "id": "e3e1b83d",
   "metadata": {
    "scrolled": true
   },
   "outputs": [],
   "source": [
    "# pd.DataFrame(df_sample.groupby('title').apply(list).reset_index())"
   ]
  },
  {
   "cell_type": "code",
   "execution_count": 8,
   "id": "d6510834",
   "metadata": {},
   "outputs": [],
   "source": [
    "# df_sample.groupby(['story_id_num']).title.first()"
   ]
  },
  {
   "cell_type": "code",
   "execution_count": 9,
   "id": "69a9d3cf",
   "metadata": {},
   "outputs": [],
   "source": [
    "# # group every story as an aggregation of all its utterances\n",
    "# df_sample.groupby(['story_id_num']).lemmatized.agg(' '.join)#.iloc[0]"
   ]
  },
  {
   "cell_type": "code",
   "execution_count": 10,
   "id": "2ce18eb1",
   "metadata": {},
   "outputs": [],
   "source": [
    "# # group every story as an aggregation of all its utterances and store in a DF\n",
    "# stories_test = pd.DataFrame(df_sample.groupby(['story_id_num']).lemmatized.agg(' '.join))\n",
    "# stories_test"
   ]
  },
  {
   "cell_type": "code",
   "execution_count": 11,
   "id": "fe331e27",
   "metadata": {},
   "outputs": [],
   "source": [
    "# stories.iloc[0].values"
   ]
  },
  {
   "cell_type": "markdown",
   "id": "68931099",
   "metadata": {},
   "source": [
    "### Run the above on the whole df"
   ]
  },
  {
   "cell_type": "code",
   "execution_count": 12,
   "id": "ae116654",
   "metadata": {},
   "outputs": [],
   "source": [
    "# df = df.sort_values(by=['story_id_num','utterance_order'])\n",
    "# df.head()"
   ]
  },
  {
   "cell_type": "code",
   "execution_count": 13,
   "id": "d50ef53b",
   "metadata": {
    "scrolled": true
   },
   "outputs": [],
   "source": [
    "# df.dtypes"
   ]
  },
  {
   "cell_type": "code",
   "execution_count": 14,
   "id": "bc48e435",
   "metadata": {},
   "outputs": [],
   "source": [
    "# df.isna().sum()"
   ]
  },
  {
   "cell_type": "code",
   "execution_count": 15,
   "id": "c48a30ca",
   "metadata": {},
   "outputs": [],
   "source": [
    "# df = df.dropna()"
   ]
  },
  {
   "cell_type": "markdown",
   "id": "6afe59d5",
   "metadata": {},
   "source": [
    "#### well...it worked on the sample above\n",
    "#### had to drop 2 nulls that existed in the lemmatized column"
   ]
  },
  {
   "cell_type": "code",
   "execution_count": 16,
   "id": "37b7c426",
   "metadata": {},
   "outputs": [],
   "source": [
    "# # group every story as an aggregation of all its utterances and store in a DF\n",
    "# stories = pd.DataFrame(df.groupby(['story_id_num']).lemmatized.agg(' '.join))\n",
    "# stories"
   ]
  },
  {
   "cell_type": "markdown",
   "id": "3ff7768b",
   "metadata": {},
   "source": [
    "-  61,165 stories to work with here"
   ]
  },
  {
   "cell_type": "code",
   "execution_count": 17,
   "id": "b7d9290f",
   "metadata": {},
   "outputs": [],
   "source": [
    "# this attempt to get the word count for every story isn't working currently\n",
    "# stories['word_count'] = df.lemmatized.apply(str.split).apply(len)\n",
    "# stories.head()"
   ]
  },
  {
   "cell_type": "code",
   "execution_count": 18,
   "id": "99f31e49",
   "metadata": {},
   "outputs": [],
   "source": [
    "# sia = nltk.sentiment.SentimentIntensityAnalyzer()\n",
    "# stories['vader'] = stories.lemmatized.apply(lambda doc: sia.polarity_scores(doc)['compound'])\n",
    "# stories.head()"
   ]
  },
  {
   "cell_type": "code",
   "execution_count": 19,
   "id": "be6abbae",
   "metadata": {},
   "outputs": [],
   "source": [
    "# stories.to_csv('stories.csv')"
   ]
  },
  {
   "cell_type": "code",
   "execution_count": 20,
   "id": "f7c86142",
   "metadata": {},
   "outputs": [
    {
     "data": {
      "text/html": [
       "<div>\n",
       "<style scoped>\n",
       "    .dataframe tbody tr th:only-of-type {\n",
       "        vertical-align: middle;\n",
       "    }\n",
       "\n",
       "    .dataframe tbody tr th {\n",
       "        vertical-align: top;\n",
       "    }\n",
       "\n",
       "    .dataframe thead th {\n",
       "        text-align: right;\n",
       "    }\n",
       "</style>\n",
       "<table border=\"1\" class=\"dataframe\">\n",
       "  <thead>\n",
       "    <tr style=\"text-align: right;\">\n",
       "      <th></th>\n",
       "      <th>Unnamed: 0</th>\n",
       "      <th>story_id_num</th>\n",
       "      <th>lemmatized</th>\n",
       "      <th>vader</th>\n",
       "      <th>title</th>\n",
       "      <th>date</th>\n",
       "    </tr>\n",
       "  </thead>\n",
       "  <tbody>\n",
       "    <tr>\n",
       "      <th>0</th>\n",
       "      <td>0</td>\n",
       "      <td>17</td>\n",
       "      <td>he is in cahoot with a foreign government to m...</td>\n",
       "      <td>0.9964</td>\n",
       "      <td>n.j. democrat on reported whistleblower compla...</td>\n",
       "      <td>2019-09-22</td>\n",
       "    </tr>\n",
       "    <tr>\n",
       "      <th>1</th>\n",
       "      <td>1</td>\n",
       "      <td>18</td>\n",
       "      <td>come with concrete plan , not beautiful speech...</td>\n",
       "      <td>0.9993</td>\n",
       "      <td>ahead of climate summit, 2 views from cities i...</td>\n",
       "      <td>2019-09-22</td>\n",
       "    </tr>\n",
       "    <tr>\n",
       "      <th>2</th>\n",
       "      <td>2</td>\n",
       "      <td>19</td>\n",
       "      <td>if you stand outside the old dekalb county cou...</td>\n",
       "      <td>0.9974</td>\n",
       "      <td>barred from removing confederate monument, cou...</td>\n",
       "      <td>2019-09-22</td>\n",
       "    </tr>\n",
       "    <tr>\n",
       "      <th>3</th>\n",
       "      <td>3</td>\n",
       "      <td>20</td>\n",
       "      <td>you may have spotted pink salt in your superma...</td>\n",
       "      <td>0.4950</td>\n",
       "      <td>pakistan's pink himalayan salt has become a ma...</td>\n",
       "      <td>2019-09-22</td>\n",
       "    </tr>\n",
       "    <tr>\n",
       "      <th>4</th>\n",
       "      <td>4</td>\n",
       "      <td>21</td>\n",
       "      <td>singing in foreign language . the other day , ...</td>\n",
       "      <td>0.9730</td>\n",
       "      <td>10 years after haiti's earthquake, 'this music...</td>\n",
       "      <td>2019-09-22</td>\n",
       "    </tr>\n",
       "  </tbody>\n",
       "</table>\n",
       "</div>"
      ],
      "text/plain": [
       "   Unnamed: 0  story_id_num  \\\n",
       "0           0            17   \n",
       "1           1            18   \n",
       "2           2            19   \n",
       "3           3            20   \n",
       "4           4            21   \n",
       "\n",
       "                                          lemmatized   vader  \\\n",
       "0  he is in cahoot with a foreign government to m...  0.9964   \n",
       "1  come with concrete plan , not beautiful speech...  0.9993   \n",
       "2  if you stand outside the old dekalb county cou...  0.9974   \n",
       "3  you may have spotted pink salt in your superma...  0.4950   \n",
       "4  singing in foreign language . the other day , ...  0.9730   \n",
       "\n",
       "                                               title        date  \n",
       "0  n.j. democrat on reported whistleblower compla...  2019-09-22  \n",
       "1  ahead of climate summit, 2 views from cities i...  2019-09-22  \n",
       "2  barred from removing confederate monument, cou...  2019-09-22  \n",
       "3  pakistan's pink himalayan salt has become a ma...  2019-09-22  \n",
       "4  10 years after haiti's earthquake, 'this music...  2019-09-22  "
      ]
     },
     "execution_count": 20,
     "metadata": {},
     "output_type": "execute_result"
    }
   ],
   "source": [
    "stories = pd.read_csv('stories.csv')\n",
    "stories.head()"
   ]
  },
  {
   "cell_type": "code",
   "execution_count": 21,
   "id": "91333286",
   "metadata": {},
   "outputs": [],
   "source": [
    "stories = stories.drop(columns = ['Unnamed: 0'])"
   ]
  },
  {
   "cell_type": "code",
   "execution_count": 22,
   "id": "ec034411",
   "metadata": {
    "scrolled": true
   },
   "outputs": [
    {
     "data": {
      "text/plain": [
       "(61165, 5)"
      ]
     },
     "execution_count": 22,
     "metadata": {},
     "output_type": "execute_result"
    }
   ],
   "source": [
    "stories.shape"
   ]
  },
  {
   "cell_type": "code",
   "execution_count": 23,
   "id": "cd509f79",
   "metadata": {},
   "outputs": [],
   "source": [
    "# len(df.groupby(['story_id_num']).title.first())"
   ]
  },
  {
   "cell_type": "code",
   "execution_count": 24,
   "id": "9e30a1b0",
   "metadata": {},
   "outputs": [],
   "source": [
    "# stories['title'] = df.groupby(['story_id_num']).title.first().tolist()"
   ]
  },
  {
   "cell_type": "code",
   "execution_count": 25,
   "id": "6f17ac3e",
   "metadata": {},
   "outputs": [
    {
     "data": {
      "text/html": [
       "<div>\n",
       "<style scoped>\n",
       "    .dataframe tbody tr th:only-of-type {\n",
       "        vertical-align: middle;\n",
       "    }\n",
       "\n",
       "    .dataframe tbody tr th {\n",
       "        vertical-align: top;\n",
       "    }\n",
       "\n",
       "    .dataframe thead th {\n",
       "        text-align: right;\n",
       "    }\n",
       "</style>\n",
       "<table border=\"1\" class=\"dataframe\">\n",
       "  <thead>\n",
       "    <tr style=\"text-align: right;\">\n",
       "      <th></th>\n",
       "      <th>story_id_num</th>\n",
       "      <th>lemmatized</th>\n",
       "      <th>vader</th>\n",
       "      <th>title</th>\n",
       "      <th>date</th>\n",
       "    </tr>\n",
       "  </thead>\n",
       "  <tbody>\n",
       "    <tr>\n",
       "      <th>0</th>\n",
       "      <td>17</td>\n",
       "      <td>he is in cahoot with a foreign government to m...</td>\n",
       "      <td>0.9964</td>\n",
       "      <td>n.j. democrat on reported whistleblower compla...</td>\n",
       "      <td>2019-09-22</td>\n",
       "    </tr>\n",
       "    <tr>\n",
       "      <th>1</th>\n",
       "      <td>18</td>\n",
       "      <td>come with concrete plan , not beautiful speech...</td>\n",
       "      <td>0.9993</td>\n",
       "      <td>ahead of climate summit, 2 views from cities i...</td>\n",
       "      <td>2019-09-22</td>\n",
       "    </tr>\n",
       "    <tr>\n",
       "      <th>2</th>\n",
       "      <td>19</td>\n",
       "      <td>if you stand outside the old dekalb county cou...</td>\n",
       "      <td>0.9974</td>\n",
       "      <td>barred from removing confederate monument, cou...</td>\n",
       "      <td>2019-09-22</td>\n",
       "    </tr>\n",
       "    <tr>\n",
       "      <th>3</th>\n",
       "      <td>20</td>\n",
       "      <td>you may have spotted pink salt in your superma...</td>\n",
       "      <td>0.4950</td>\n",
       "      <td>pakistan's pink himalayan salt has become a ma...</td>\n",
       "      <td>2019-09-22</td>\n",
       "    </tr>\n",
       "    <tr>\n",
       "      <th>4</th>\n",
       "      <td>21</td>\n",
       "      <td>singing in foreign language . the other day , ...</td>\n",
       "      <td>0.9730</td>\n",
       "      <td>10 years after haiti's earthquake, 'this music...</td>\n",
       "      <td>2019-09-22</td>\n",
       "    </tr>\n",
       "  </tbody>\n",
       "</table>\n",
       "</div>"
      ],
      "text/plain": [
       "   story_id_num                                         lemmatized   vader  \\\n",
       "0            17  he is in cahoot with a foreign government to m...  0.9964   \n",
       "1            18  come with concrete plan , not beautiful speech...  0.9993   \n",
       "2            19  if you stand outside the old dekalb county cou...  0.9974   \n",
       "3            20  you may have spotted pink salt in your superma...  0.4950   \n",
       "4            21  singing in foreign language . the other day , ...  0.9730   \n",
       "\n",
       "                                               title        date  \n",
       "0  n.j. democrat on reported whistleblower compla...  2019-09-22  \n",
       "1  ahead of climate summit, 2 views from cities i...  2019-09-22  \n",
       "2  barred from removing confederate monument, cou...  2019-09-22  \n",
       "3  pakistan's pink himalayan salt has become a ma...  2019-09-22  \n",
       "4  10 years after haiti's earthquake, 'this music...  2019-09-22  "
      ]
     },
     "execution_count": 25,
     "metadata": {},
     "output_type": "execute_result"
    }
   ],
   "source": [
    "stories.head()"
   ]
  },
  {
   "cell_type": "code",
   "execution_count": 26,
   "id": "4226f1d0",
   "metadata": {},
   "outputs": [],
   "source": [
    "# stories.to_csv('stories.csv')"
   ]
  },
  {
   "cell_type": "code",
   "execution_count": 27,
   "id": "3c03b052",
   "metadata": {},
   "outputs": [
    {
     "data": {
      "text/plain": [
       "39"
      ]
     },
     "execution_count": 27,
     "metadata": {},
     "output_type": "execute_result"
    }
   ],
   "source": [
    "stories.vader.idxmax()"
   ]
  },
  {
   "cell_type": "code",
   "execution_count": 28,
   "id": "e5419d0a",
   "metadata": {},
   "outputs": [],
   "source": [
    "# stories.lemmatized[39]"
   ]
  },
  {
   "cell_type": "code",
   "execution_count": 29,
   "id": "b8b46417",
   "metadata": {},
   "outputs": [
    {
     "data": {
      "text/plain": [
       "'so hard to say goodbye: advice for farewell notes'"
      ]
     },
     "execution_count": 29,
     "metadata": {},
     "output_type": "execute_result"
    }
   ],
   "source": [
    "stories.title[39]"
   ]
  },
  {
   "cell_type": "markdown",
   "id": "351725d9",
   "metadata": {},
   "source": [
    "The first highest-sentiment article is about hallmark greeting cards"
   ]
  },
  {
   "cell_type": "code",
   "execution_count": 30,
   "id": "86afecb8",
   "metadata": {},
   "outputs": [
    {
     "data": {
      "text/html": [
       "<div>\n",
       "<style scoped>\n",
       "    .dataframe tbody tr th:only-of-type {\n",
       "        vertical-align: middle;\n",
       "    }\n",
       "\n",
       "    .dataframe tbody tr th {\n",
       "        vertical-align: top;\n",
       "    }\n",
       "\n",
       "    .dataframe thead th {\n",
       "        text-align: right;\n",
       "    }\n",
       "</style>\n",
       "<table border=\"1\" class=\"dataframe\">\n",
       "  <thead>\n",
       "    <tr style=\"text-align: right;\">\n",
       "      <th></th>\n",
       "      <th>story_id_num</th>\n",
       "      <th>lemmatized</th>\n",
       "      <th>vader</th>\n",
       "      <th>title</th>\n",
       "      <th>date</th>\n",
       "    </tr>\n",
       "  </thead>\n",
       "  <tbody>\n",
       "    <tr>\n",
       "      <th>39</th>\n",
       "      <td>620</td>\n",
       "      <td>looking ahead to our last day , many of our fr...</td>\n",
       "      <td>1.0</td>\n",
       "      <td>so hard to say goodbye: advice for farewell notes</td>\n",
       "      <td>2013-06-27</td>\n",
       "    </tr>\n",
       "    <tr>\n",
       "      <th>42</th>\n",
       "      <td>623</td>\n",
       "      <td>this is talk of the nation. i m neal conan , i...</td>\n",
       "      <td>1.0</td>\n",
       "      <td>a look ahead and a farewell to the political j...</td>\n",
       "      <td>2013-06-26</td>\n",
       "    </tr>\n",
       "    <tr>\n",
       "      <th>43</th>\n",
       "      <td>624</td>\n",
       "      <td>this is talk of the nation. i m neal conan , i...</td>\n",
       "      <td>1.0</td>\n",
       "      <td>what changes after supreme court rulings on pr...</td>\n",
       "      <td>2013-06-26</td>\n",
       "    </tr>\n",
       "    <tr>\n",
       "      <th>44</th>\n",
       "      <td>625</td>\n",
       "      <td>from small country church , to the stage of th...</td>\n",
       "      <td>1.0</td>\n",
       "      <td>gospel legend mavis staples comes 'full circle'</td>\n",
       "      <td>2013-06-26</td>\n",
       "    </tr>\n",
       "    <tr>\n",
       "      <th>141</th>\n",
       "      <td>898</td>\n",
       "      <td>this is talk of the nation. i m neal conan in ...</td>\n",
       "      <td>1.0</td>\n",
       "      <td>'blood &amp;amp; beauty' breathes new life into th...</td>\n",
       "      <td>2013-06-20</td>\n",
       "    </tr>\n",
       "    <tr>\n",
       "      <th>...</th>\n",
       "      <td>...</td>\n",
       "      <td>...</td>\n",
       "      <td>...</td>\n",
       "      <td>...</td>\n",
       "      <td>...</td>\n",
       "    </tr>\n",
       "    <tr>\n",
       "      <th>23796</th>\n",
       "      <td>84430</td>\n",
       "      <td>this is talk of the nation. i m neal conan in ...</td>\n",
       "      <td>1.0</td>\n",
       "      <td>state legislatures: agendas and budgets</td>\n",
       "      <td>2005-01-11</td>\n",
       "    </tr>\n",
       "    <tr>\n",
       "      <th>23995</th>\n",
       "      <td>84850</td>\n",
       "      <td>time now for a story that is decidedly not a n...</td>\n",
       "      <td>1.0</td>\n",
       "      <td>encore: an elf questions santa's naughty or ni...</td>\n",
       "      <td>2016-12-23</td>\n",
       "    </tr>\n",
       "    <tr>\n",
       "      <th>27366</th>\n",
       "      <td>90916</td>\n",
       "      <td>the political campaign are taking a break. the...</td>\n",
       "      <td>1.0</td>\n",
       "      <td>santa for president in 2016</td>\n",
       "      <td>2015-12-25</td>\n",
       "    </tr>\n",
       "    <tr>\n",
       "      <th>30850</th>\n",
       "      <td>96419</td>\n",
       "      <td>now we re going to take a break from news , fr...</td>\n",
       "      <td>1.0</td>\n",
       "      <td>listen: the not-so-true story of santa's naugh...</td>\n",
       "      <td>2014-12-25</td>\n",
       "    </tr>\n",
       "    <tr>\n",
       "      <th>61123</th>\n",
       "      <td>140684</td>\n",
       "      <td>from npr news , this is all thing considered. ...</td>\n",
       "      <td>1.0</td>\n",
       "      <td>dear birth mother: a story of 'transracial ado...</td>\n",
       "      <td>2005-05-09</td>\n",
       "    </tr>\n",
       "  </tbody>\n",
       "</table>\n",
       "<p>1345 rows × 5 columns</p>\n",
       "</div>"
      ],
      "text/plain": [
       "       story_id_num                                         lemmatized  vader  \\\n",
       "39              620  looking ahead to our last day , many of our fr...    1.0   \n",
       "42              623  this is talk of the nation. i m neal conan , i...    1.0   \n",
       "43              624  this is talk of the nation. i m neal conan , i...    1.0   \n",
       "44              625  from small country church , to the stage of th...    1.0   \n",
       "141             898  this is talk of the nation. i m neal conan in ...    1.0   \n",
       "...             ...                                                ...    ...   \n",
       "23796         84430  this is talk of the nation. i m neal conan in ...    1.0   \n",
       "23995         84850  time now for a story that is decidedly not a n...    1.0   \n",
       "27366         90916  the political campaign are taking a break. the...    1.0   \n",
       "30850         96419  now we re going to take a break from news , fr...    1.0   \n",
       "61123        140684  from npr news , this is all thing considered. ...    1.0   \n",
       "\n",
       "                                                   title        date  \n",
       "39     so hard to say goodbye: advice for farewell notes  2013-06-27  \n",
       "42     a look ahead and a farewell to the political j...  2013-06-26  \n",
       "43     what changes after supreme court rulings on pr...  2013-06-26  \n",
       "44       gospel legend mavis staples comes 'full circle'  2013-06-26  \n",
       "141    'blood &amp; beauty' breathes new life into th...  2013-06-20  \n",
       "...                                                  ...         ...  \n",
       "23796            state legislatures: agendas and budgets  2005-01-11  \n",
       "23995  encore: an elf questions santa's naughty or ni...  2016-12-23  \n",
       "27366                        santa for president in 2016  2015-12-25  \n",
       "30850  listen: the not-so-true story of santa's naugh...  2014-12-25  \n",
       "61123  dear birth mother: a story of 'transracial ado...  2005-05-09  \n",
       "\n",
       "[1345 rows x 5 columns]"
      ]
     },
     "execution_count": 30,
     "metadata": {},
     "output_type": "execute_result"
    }
   ],
   "source": [
    "stories[stories.vader == 1]"
   ]
  },
  {
   "cell_type": "markdown",
   "id": "ed32a08b",
   "metadata": {},
   "source": [
    "- Actually...there are 1345 stories with a max vader score"
   ]
  },
  {
   "cell_type": "code",
   "execution_count": 31,
   "id": "c2ddf210",
   "metadata": {},
   "outputs": [
    {
     "data": {
      "text/html": [
       "<div>\n",
       "<style scoped>\n",
       "    .dataframe tbody tr th:only-of-type {\n",
       "        vertical-align: middle;\n",
       "    }\n",
       "\n",
       "    .dataframe tbody tr th {\n",
       "        vertical-align: top;\n",
       "    }\n",
       "\n",
       "    .dataframe thead th {\n",
       "        text-align: right;\n",
       "    }\n",
       "</style>\n",
       "<table border=\"1\" class=\"dataframe\">\n",
       "  <thead>\n",
       "    <tr style=\"text-align: right;\">\n",
       "      <th></th>\n",
       "      <th>story_id_num</th>\n",
       "      <th>lemmatized</th>\n",
       "      <th>vader</th>\n",
       "      <th>title</th>\n",
       "      <th>date</th>\n",
       "    </tr>\n",
       "  </thead>\n",
       "  <tbody>\n",
       "    <tr>\n",
       "      <th>39</th>\n",
       "      <td>620</td>\n",
       "      <td>looking ahead to our last day , many of our fr...</td>\n",
       "      <td>1.0</td>\n",
       "      <td>so hard to say goodbye: advice for farewell notes</td>\n",
       "      <td>2013-06-27</td>\n",
       "    </tr>\n",
       "    <tr>\n",
       "      <th>42</th>\n",
       "      <td>623</td>\n",
       "      <td>this is talk of the nation. i m neal conan , i...</td>\n",
       "      <td>1.0</td>\n",
       "      <td>a look ahead and a farewell to the political j...</td>\n",
       "      <td>2013-06-26</td>\n",
       "    </tr>\n",
       "    <tr>\n",
       "      <th>43</th>\n",
       "      <td>624</td>\n",
       "      <td>this is talk of the nation. i m neal conan , i...</td>\n",
       "      <td>1.0</td>\n",
       "      <td>what changes after supreme court rulings on pr...</td>\n",
       "      <td>2013-06-26</td>\n",
       "    </tr>\n",
       "    <tr>\n",
       "      <th>44</th>\n",
       "      <td>625</td>\n",
       "      <td>from small country church , to the stage of th...</td>\n",
       "      <td>1.0</td>\n",
       "      <td>gospel legend mavis staples comes 'full circle'</td>\n",
       "      <td>2013-06-26</td>\n",
       "    </tr>\n",
       "    <tr>\n",
       "      <th>141</th>\n",
       "      <td>898</td>\n",
       "      <td>this is talk of the nation. i m neal conan in ...</td>\n",
       "      <td>1.0</td>\n",
       "      <td>'blood &amp;amp; beauty' breathes new life into th...</td>\n",
       "      <td>2013-06-20</td>\n",
       "    </tr>\n",
       "    <tr>\n",
       "      <th>...</th>\n",
       "      <td>...</td>\n",
       "      <td>...</td>\n",
       "      <td>...</td>\n",
       "      <td>...</td>\n",
       "      <td>...</td>\n",
       "    </tr>\n",
       "    <tr>\n",
       "      <th>23796</th>\n",
       "      <td>84430</td>\n",
       "      <td>this is talk of the nation. i m neal conan in ...</td>\n",
       "      <td>1.0</td>\n",
       "      <td>state legislatures: agendas and budgets</td>\n",
       "      <td>2005-01-11</td>\n",
       "    </tr>\n",
       "    <tr>\n",
       "      <th>23995</th>\n",
       "      <td>84850</td>\n",
       "      <td>time now for a story that is decidedly not a n...</td>\n",
       "      <td>1.0</td>\n",
       "      <td>encore: an elf questions santa's naughty or ni...</td>\n",
       "      <td>2016-12-23</td>\n",
       "    </tr>\n",
       "    <tr>\n",
       "      <th>27366</th>\n",
       "      <td>90916</td>\n",
       "      <td>the political campaign are taking a break. the...</td>\n",
       "      <td>1.0</td>\n",
       "      <td>santa for president in 2016</td>\n",
       "      <td>2015-12-25</td>\n",
       "    </tr>\n",
       "    <tr>\n",
       "      <th>30850</th>\n",
       "      <td>96419</td>\n",
       "      <td>now we re going to take a break from news , fr...</td>\n",
       "      <td>1.0</td>\n",
       "      <td>listen: the not-so-true story of santa's naugh...</td>\n",
       "      <td>2014-12-25</td>\n",
       "    </tr>\n",
       "    <tr>\n",
       "      <th>61123</th>\n",
       "      <td>140684</td>\n",
       "      <td>from npr news , this is all thing considered. ...</td>\n",
       "      <td>1.0</td>\n",
       "      <td>dear birth mother: a story of 'transracial ado...</td>\n",
       "      <td>2005-05-09</td>\n",
       "    </tr>\n",
       "  </tbody>\n",
       "</table>\n",
       "<p>1345 rows × 5 columns</p>\n",
       "</div>"
      ],
      "text/plain": [
       "       story_id_num                                         lemmatized  vader  \\\n",
       "39              620  looking ahead to our last day , many of our fr...    1.0   \n",
       "42              623  this is talk of the nation. i m neal conan , i...    1.0   \n",
       "43              624  this is talk of the nation. i m neal conan , i...    1.0   \n",
       "44              625  from small country church , to the stage of th...    1.0   \n",
       "141             898  this is talk of the nation. i m neal conan in ...    1.0   \n",
       "...             ...                                                ...    ...   \n",
       "23796         84430  this is talk of the nation. i m neal conan in ...    1.0   \n",
       "23995         84850  time now for a story that is decidedly not a n...    1.0   \n",
       "27366         90916  the political campaign are taking a break. the...    1.0   \n",
       "30850         96419  now we re going to take a break from news , fr...    1.0   \n",
       "61123        140684  from npr news , this is all thing considered. ...    1.0   \n",
       "\n",
       "                                                   title        date  \n",
       "39     so hard to say goodbye: advice for farewell notes  2013-06-27  \n",
       "42     a look ahead and a farewell to the political j...  2013-06-26  \n",
       "43     what changes after supreme court rulings on pr...  2013-06-26  \n",
       "44       gospel legend mavis staples comes 'full circle'  2013-06-26  \n",
       "141    'blood &amp; beauty' breathes new life into th...  2013-06-20  \n",
       "...                                                  ...         ...  \n",
       "23796            state legislatures: agendas and budgets  2005-01-11  \n",
       "23995  encore: an elf questions santa's naughty or ni...  2016-12-23  \n",
       "27366                        santa for president in 2016  2015-12-25  \n",
       "30850  listen: the not-so-true story of santa's naugh...  2014-12-25  \n",
       "61123  dear birth mother: a story of 'transracial ado...  2005-05-09  \n",
       "\n",
       "[1345 rows x 5 columns]"
      ]
     },
     "execution_count": 31,
     "metadata": {},
     "output_type": "execute_result"
    }
   ],
   "source": [
    "brightest_stories = stories[stories.vader == 1]\n",
    "brightest_stories"
   ]
  },
  {
   "cell_type": "code",
   "execution_count": 32,
   "id": "4dce7f9e",
   "metadata": {},
   "outputs": [
    {
     "data": {
      "text/plain": [
       "['cuban exiles look to post-castro future',\n",
       " 'un- and under-employment awaits many college grads',\n",
       " \"retail guru knows 'what women want'\",\n",
       " 'storycorps founder david isay',\n",
       " \"iowa's open senate seat and rumbles about 2016\",\n",
       " \"dear birth mother: a story of 'transracial adoption'\",\n",
       " \"super pacs alter nation's campaign landscape\",\n",
       " 'after midterms, what agenda will the house set?',\n",
       " 'can the state fair survive?',\n",
       " \"broadway's 'best man': john larroquette\"]"
      ]
     },
     "execution_count": 32,
     "metadata": {},
     "output_type": "execute_result"
    }
   ],
   "source": [
    "brightest_stories.title.sample(10).to_list()"
   ]
  },
  {
   "cell_type": "code",
   "execution_count": 33,
   "id": "84889a94",
   "metadata": {},
   "outputs": [
    {
     "data": {
      "text/html": [
       "<div>\n",
       "<style scoped>\n",
       "    .dataframe tbody tr th:only-of-type {\n",
       "        vertical-align: middle;\n",
       "    }\n",
       "\n",
       "    .dataframe tbody tr th {\n",
       "        vertical-align: top;\n",
       "    }\n",
       "\n",
       "    .dataframe thead th {\n",
       "        text-align: right;\n",
       "    }\n",
       "</style>\n",
       "<table border=\"1\" class=\"dataframe\">\n",
       "  <thead>\n",
       "    <tr style=\"text-align: right;\">\n",
       "      <th></th>\n",
       "      <th>story_id_num</th>\n",
       "      <th>lemmatized</th>\n",
       "      <th>vader</th>\n",
       "      <th>title</th>\n",
       "      <th>date</th>\n",
       "    </tr>\n",
       "  </thead>\n",
       "  <tbody>\n",
       "    <tr>\n",
       "      <th>749</th>\n",
       "      <td>2749</td>\n",
       "      <td>this is talk of the nation. i m neal conan in ...</td>\n",
       "      <td>-1.0</td>\n",
       "      <td>the epidemiology of gun violence: race, region...</td>\n",
       "      <td>2013-03-26</td>\n",
       "    </tr>\n",
       "    <tr>\n",
       "      <th>5731</th>\n",
       "      <td>19881</td>\n",
       "      <td>this is talk of the nation. i m neal conan in ...</td>\n",
       "      <td>-1.0</td>\n",
       "      <td>how do you define a hate crime?</td>\n",
       "      <td>2012-03-19</td>\n",
       "    </tr>\n",
       "    <tr>\n",
       "      <th>10730</th>\n",
       "      <td>55411</td>\n",
       "      <td>this is talk of the nation. i m neal conan , i...</td>\n",
       "      <td>-1.0</td>\n",
       "      <td>understanding suicide terrorism and how to sto...</td>\n",
       "      <td>2010-10-11</td>\n",
       "    </tr>\n",
       "    <tr>\n",
       "      <th>11827</th>\n",
       "      <td>58454</td>\n",
       "      <td>this is talk of the nation. im neal conan in w...</td>\n",
       "      <td>-1.0</td>\n",
       "      <td>deconstructing 'myths about suicide'</td>\n",
       "      <td>2010-04-28</td>\n",
       "    </tr>\n",
       "    <tr>\n",
       "      <th>15177</th>\n",
       "      <td>66409</td>\n",
       "      <td>this is talk of the nation. i m neal conan in ...</td>\n",
       "      <td>-1.0</td>\n",
       "      <td>the legacy of bush's 'war on terror'</td>\n",
       "      <td>2009-01-12</td>\n",
       "    </tr>\n",
       "    <tr>\n",
       "      <th>17237</th>\n",
       "      <td>71520</td>\n",
       "      <td>this is talk of the nation. i m neal conan in ...</td>\n",
       "      <td>-1.0</td>\n",
       "      <td>who carries out suicide bombings?</td>\n",
       "      <td>2008-01-22</td>\n",
       "    </tr>\n",
       "    <tr>\n",
       "      <th>18838</th>\n",
       "      <td>75087</td>\n",
       "      <td>this is talk of the nation. i m neal conan in ...</td>\n",
       "      <td>-1.0</td>\n",
       "      <td>how do we define terrorism?</td>\n",
       "      <td>2007-06-04</td>\n",
       "    </tr>\n",
       "    <tr>\n",
       "      <th>21189</th>\n",
       "      <td>79688</td>\n",
       "      <td>this is talk of the nation. i m neal conan , i...</td>\n",
       "      <td>-1.0</td>\n",
       "      <td>should the guantanamo prison be closed?</td>\n",
       "      <td>2006-05-23</td>\n",
       "    </tr>\n",
       "    <tr>\n",
       "      <th>21287</th>\n",
       "      <td>79858</td>\n",
       "      <td>from npr news in washington , dc , i m neal co...</td>\n",
       "      <td>-1.0</td>\n",
       "      <td>'war of nerves': a history of chemical weapons</td>\n",
       "      <td>2006-05-08</td>\n",
       "    </tr>\n",
       "  </tbody>\n",
       "</table>\n",
       "</div>"
      ],
      "text/plain": [
       "       story_id_num                                         lemmatized  vader  \\\n",
       "749            2749  this is talk of the nation. i m neal conan in ...   -1.0   \n",
       "5731          19881  this is talk of the nation. i m neal conan in ...   -1.0   \n",
       "10730         55411  this is talk of the nation. i m neal conan , i...   -1.0   \n",
       "11827         58454  this is talk of the nation. im neal conan in w...   -1.0   \n",
       "15177         66409  this is talk of the nation. i m neal conan in ...   -1.0   \n",
       "17237         71520  this is talk of the nation. i m neal conan in ...   -1.0   \n",
       "18838         75087  this is talk of the nation. i m neal conan in ...   -1.0   \n",
       "21189         79688  this is talk of the nation. i m neal conan , i...   -1.0   \n",
       "21287         79858  from npr news in washington , dc , i m neal co...   -1.0   \n",
       "\n",
       "                                                   title        date  \n",
       "749    the epidemiology of gun violence: race, region...  2013-03-26  \n",
       "5731                     how do you define a hate crime?  2012-03-19  \n",
       "10730  understanding suicide terrorism and how to sto...  2010-10-11  \n",
       "11827               deconstructing 'myths about suicide'  2010-04-28  \n",
       "15177               the legacy of bush's 'war on terror'  2009-01-12  \n",
       "17237                  who carries out suicide bombings?  2008-01-22  \n",
       "18838                        how do we define terrorism?  2007-06-04  \n",
       "21189            should the guantanamo prison be closed?  2006-05-23  \n",
       "21287     'war of nerves': a history of chemical weapons  2006-05-08  "
      ]
     },
     "execution_count": 33,
     "metadata": {},
     "output_type": "execute_result"
    }
   ],
   "source": [
    "stories[stories.vader == -1]"
   ]
  },
  {
   "cell_type": "markdown",
   "id": "263c537b",
   "metadata": {},
   "source": [
    "- But only 9 stories with the lowest vader score, including..."
   ]
  },
  {
   "cell_type": "code",
   "execution_count": 34,
   "id": "baf086de",
   "metadata": {},
   "outputs": [],
   "source": [
    "# stories.lemmatized[749]"
   ]
  },
  {
   "cell_type": "code",
   "execution_count": 35,
   "id": "b26f0b9b",
   "metadata": {},
   "outputs": [
    {
     "data": {
      "text/plain": [
       "'the epidemiology of gun violence: race, region and policy'"
      ]
     },
     "execution_count": 35,
     "metadata": {},
     "output_type": "execute_result"
    }
   ],
   "source": [
    "stories.title[749]"
   ]
  },
  {
   "cell_type": "markdown",
   "id": "e350d14a",
   "metadata": {},
   "source": [
    "- A story aboout \"gun death , race , sex and region\""
   ]
  },
  {
   "cell_type": "code",
   "execution_count": 36,
   "id": "2e218730",
   "metadata": {},
   "outputs": [
    {
     "data": {
      "text/html": [
       "<div>\n",
       "<style scoped>\n",
       "    .dataframe tbody tr th:only-of-type {\n",
       "        vertical-align: middle;\n",
       "    }\n",
       "\n",
       "    .dataframe tbody tr th {\n",
       "        vertical-align: top;\n",
       "    }\n",
       "\n",
       "    .dataframe thead th {\n",
       "        text-align: right;\n",
       "    }\n",
       "</style>\n",
       "<table border=\"1\" class=\"dataframe\">\n",
       "  <thead>\n",
       "    <tr style=\"text-align: right;\">\n",
       "      <th></th>\n",
       "      <th>story_id_num</th>\n",
       "      <th>lemmatized</th>\n",
       "      <th>vader</th>\n",
       "      <th>title</th>\n",
       "      <th>date</th>\n",
       "    </tr>\n",
       "  </thead>\n",
       "  <tbody>\n",
       "    <tr>\n",
       "      <th>749</th>\n",
       "      <td>2749</td>\n",
       "      <td>this is talk of the nation. i m neal conan in ...</td>\n",
       "      <td>-1.0</td>\n",
       "      <td>the epidemiology of gun violence: race, region...</td>\n",
       "      <td>2013-03-26</td>\n",
       "    </tr>\n",
       "    <tr>\n",
       "      <th>5731</th>\n",
       "      <td>19881</td>\n",
       "      <td>this is talk of the nation. i m neal conan in ...</td>\n",
       "      <td>-1.0</td>\n",
       "      <td>how do you define a hate crime?</td>\n",
       "      <td>2012-03-19</td>\n",
       "    </tr>\n",
       "    <tr>\n",
       "      <th>10730</th>\n",
       "      <td>55411</td>\n",
       "      <td>this is talk of the nation. i m neal conan , i...</td>\n",
       "      <td>-1.0</td>\n",
       "      <td>understanding suicide terrorism and how to sto...</td>\n",
       "      <td>2010-10-11</td>\n",
       "    </tr>\n",
       "    <tr>\n",
       "      <th>11827</th>\n",
       "      <td>58454</td>\n",
       "      <td>this is talk of the nation. im neal conan in w...</td>\n",
       "      <td>-1.0</td>\n",
       "      <td>deconstructing 'myths about suicide'</td>\n",
       "      <td>2010-04-28</td>\n",
       "    </tr>\n",
       "    <tr>\n",
       "      <th>15177</th>\n",
       "      <td>66409</td>\n",
       "      <td>this is talk of the nation. i m neal conan in ...</td>\n",
       "      <td>-1.0</td>\n",
       "      <td>the legacy of bush's 'war on terror'</td>\n",
       "      <td>2009-01-12</td>\n",
       "    </tr>\n",
       "    <tr>\n",
       "      <th>17237</th>\n",
       "      <td>71520</td>\n",
       "      <td>this is talk of the nation. i m neal conan in ...</td>\n",
       "      <td>-1.0</td>\n",
       "      <td>who carries out suicide bombings?</td>\n",
       "      <td>2008-01-22</td>\n",
       "    </tr>\n",
       "    <tr>\n",
       "      <th>18838</th>\n",
       "      <td>75087</td>\n",
       "      <td>this is talk of the nation. i m neal conan in ...</td>\n",
       "      <td>-1.0</td>\n",
       "      <td>how do we define terrorism?</td>\n",
       "      <td>2007-06-04</td>\n",
       "    </tr>\n",
       "    <tr>\n",
       "      <th>21189</th>\n",
       "      <td>79688</td>\n",
       "      <td>this is talk of the nation. i m neal conan , i...</td>\n",
       "      <td>-1.0</td>\n",
       "      <td>should the guantanamo prison be closed?</td>\n",
       "      <td>2006-05-23</td>\n",
       "    </tr>\n",
       "    <tr>\n",
       "      <th>21287</th>\n",
       "      <td>79858</td>\n",
       "      <td>from npr news in washington , dc , i m neal co...</td>\n",
       "      <td>-1.0</td>\n",
       "      <td>'war of nerves': a history of chemical weapons</td>\n",
       "      <td>2006-05-08</td>\n",
       "    </tr>\n",
       "  </tbody>\n",
       "</table>\n",
       "</div>"
      ],
      "text/plain": [
       "       story_id_num                                         lemmatized  vader  \\\n",
       "749            2749  this is talk of the nation. i m neal conan in ...   -1.0   \n",
       "5731          19881  this is talk of the nation. i m neal conan in ...   -1.0   \n",
       "10730         55411  this is talk of the nation. i m neal conan , i...   -1.0   \n",
       "11827         58454  this is talk of the nation. im neal conan in w...   -1.0   \n",
       "15177         66409  this is talk of the nation. i m neal conan in ...   -1.0   \n",
       "17237         71520  this is talk of the nation. i m neal conan in ...   -1.0   \n",
       "18838         75087  this is talk of the nation. i m neal conan in ...   -1.0   \n",
       "21189         79688  this is talk of the nation. i m neal conan , i...   -1.0   \n",
       "21287         79858  from npr news in washington , dc , i m neal co...   -1.0   \n",
       "\n",
       "                                                   title        date  \n",
       "749    the epidemiology of gun violence: race, region...  2013-03-26  \n",
       "5731                     how do you define a hate crime?  2012-03-19  \n",
       "10730  understanding suicide terrorism and how to sto...  2010-10-11  \n",
       "11827               deconstructing 'myths about suicide'  2010-04-28  \n",
       "15177               the legacy of bush's 'war on terror'  2009-01-12  \n",
       "17237                  who carries out suicide bombings?  2008-01-22  \n",
       "18838                        how do we define terrorism?  2007-06-04  \n",
       "21189            should the guantanamo prison be closed?  2006-05-23  \n",
       "21287     'war of nerves': a history of chemical weapons  2006-05-08  "
      ]
     },
     "execution_count": 36,
     "metadata": {},
     "output_type": "execute_result"
    }
   ],
   "source": [
    "darkest_stories = stories[stories.vader == -1]\n",
    "darkest_stories"
   ]
  },
  {
   "cell_type": "code",
   "execution_count": 37,
   "id": "4473b8a6",
   "metadata": {},
   "outputs": [
    {
     "name": "stdout",
     "output_type": "stream",
     "text": [
      "the epidemiology of gun violence: race, region and policy\n",
      "how do you define a hate crime?\n",
      "understanding suicide terrorism and how to stop it\n",
      "deconstructing 'myths about suicide'\n",
      "the legacy of bush's 'war on terror'\n",
      "who carries out suicide bombings?\n",
      "how do we define terrorism?\n",
      "should the guantanamo prison be closed?\n",
      "'war of nerves': a history of chemical weapons\n"
     ]
    }
   ],
   "source": [
    "for story in darkest_stories.title:\n",
    "    print(story)"
   ]
  },
  {
   "cell_type": "markdown",
   "id": "593f83f5",
   "metadata": {},
   "source": [
    "- Here's a list of the stories with the lowest possible sentiment score"
   ]
  },
  {
   "cell_type": "code",
   "execution_count": 38,
   "id": "803dc5a4",
   "metadata": {},
   "outputs": [
    {
     "data": {
      "text/html": [
       "<div>\n",
       "<style scoped>\n",
       "    .dataframe tbody tr th:only-of-type {\n",
       "        vertical-align: middle;\n",
       "    }\n",
       "\n",
       "    .dataframe tbody tr th {\n",
       "        vertical-align: top;\n",
       "    }\n",
       "\n",
       "    .dataframe thead th {\n",
       "        text-align: right;\n",
       "    }\n",
       "</style>\n",
       "<table border=\"1\" class=\"dataframe\">\n",
       "  <thead>\n",
       "    <tr style=\"text-align: right;\">\n",
       "      <th></th>\n",
       "      <th>story_id_num</th>\n",
       "      <th>lemmatized</th>\n",
       "      <th>vader</th>\n",
       "      <th>title</th>\n",
       "      <th>date</th>\n",
       "    </tr>\n",
       "  </thead>\n",
       "  <tbody>\n",
       "    <tr>\n",
       "      <th>39</th>\n",
       "      <td>620</td>\n",
       "      <td>looking ahead to our last day , many of our fr...</td>\n",
       "      <td>1.0</td>\n",
       "      <td>so hard to say goodbye: advice for farewell notes</td>\n",
       "      <td>2013-06-27</td>\n",
       "    </tr>\n",
       "  </tbody>\n",
       "</table>\n",
       "</div>"
      ],
      "text/plain": [
       "    story_id_num                                         lemmatized  vader  \\\n",
       "39           620  looking ahead to our last day , many of our fr...    1.0   \n",
       "\n",
       "                                                title        date  \n",
       "39  so hard to say goodbye: advice for farewell notes  2013-06-27  "
      ]
     },
     "execution_count": 38,
     "metadata": {},
     "output_type": "execute_result"
    }
   ],
   "source": [
    "brightest_stories = stories[stories.vader == 1]\n",
    "brightest_stories.head(1)"
   ]
  },
  {
   "cell_type": "code",
   "execution_count": 39,
   "id": "5e6c7568",
   "metadata": {},
   "outputs": [],
   "source": [
    "brightest_stories_title_list = []\n",
    "for story in brightest_stories.title:\n",
    "    brightest_stories_title_list.append(story)"
   ]
  },
  {
   "cell_type": "code",
   "execution_count": 40,
   "id": "20438f54",
   "metadata": {},
   "outputs": [
    {
     "data": {
      "text/plain": [
       "['so hard to say goodbye: advice for farewell notes',\n",
       " 'a look ahead and a farewell to the political junkie',\n",
       " 'what changes after supreme court rulings on prop 8 and doma',\n",
       " \"gospel legend mavis staples comes 'full circle'\",\n",
       " \"'blood &amp; beauty' breathes new life into the borgias\",\n",
       " 'the penultimate edition of the political junkie',\n",
       " 'will work for free? the future of the unpaid internship',\n",
       " \"india.arie returns, with an eye toward a new 'songversation'\",\n",
       " \"from 'casablanca' to 'e.t. the extra-terrestrial': famous farewells in film\",\n",
       " 'inside the cel: behind the scenes with animators',\n",
       " 'a look ahead to the future of the gop',\n",
       " 'the scifri book club takes a hike',\n",
       " 'the role of the attorney general throughout history',\n",
       " 'cartoonist lynda barry helps college students tap innate creativity',\n",
       " 'looking ahead with the wonders of krulwich',\n",
       " 'the promise and limitations of telemedicine',\n",
       " \"iowa's open senate seat and rumbles about 2016\",\n",
       " 'hospital costs go public: what changes in health care?',\n",
       " 'a look ahead to the future of new orleans',\n",
       " 'michael pollan: you are what you cook',\n",
       " 'to avoid or to embrace? how actors navigate stereotypes',\n",
       " \"utah's fossil finds describe an ancient world\",\n",
       " 'when conscience conflicts with constituents',\n",
       " 'robert ballard: 50 years exploring deep waters',\n",
       " 'tackling terrible traffic: how cities try to ease commutes',\n",
       " 'second chances in american politics',\n",
       " 'coaching through crisis: how teams get through rough spots',\n",
       " 'gripping science tales need not be science fiction',\n",
       " 'personal stories and shifting opinions on same-sex marriage',\n",
       " \"amid syria's crisis, mental health care for refugees\"]"
      ]
     },
     "execution_count": 40,
     "metadata": {},
     "output_type": "execute_result"
    }
   ],
   "source": [
    "# brightest_stories_title_list = pd.DataFrame(brightest_stories_title_list)\n",
    "brightest_stories_title_list[:30]"
   ]
  },
  {
   "cell_type": "markdown",
   "id": "4198b668",
   "metadata": {},
   "source": [
    "-  At first glance, these brightest stories seem to mostly belong to a 'human interest' typee news category"
   ]
  },
  {
   "cell_type": "code",
   "execution_count": 41,
   "id": "5215407a",
   "metadata": {},
   "outputs": [],
   "source": [
    "# stories.lemmatized[stories.title == \"iowa's open senate seat and rumbles about 2016\"].values"
   ]
  },
  {
   "cell_type": "markdown",
   "id": "3a1546f5",
   "metadata": {},
   "source": [
    "- One oddball example in the bright stories, unusually about politics"
   ]
  },
  {
   "cell_type": "code",
   "execution_count": 42,
   "id": "a585dbea",
   "metadata": {},
   "outputs": [
    {
     "data": {
      "text/html": [
       "<div>\n",
       "<style scoped>\n",
       "    .dataframe tbody tr th:only-of-type {\n",
       "        vertical-align: middle;\n",
       "    }\n",
       "\n",
       "    .dataframe tbody tr th {\n",
       "        vertical-align: top;\n",
       "    }\n",
       "\n",
       "    .dataframe thead th {\n",
       "        text-align: right;\n",
       "    }\n",
       "</style>\n",
       "<table border=\"1\" class=\"dataframe\">\n",
       "  <thead>\n",
       "    <tr style=\"text-align: right;\">\n",
       "      <th></th>\n",
       "      <th>story_id_num</th>\n",
       "      <th>lemmatized</th>\n",
       "      <th>vader</th>\n",
       "      <th>title</th>\n",
       "      <th>date</th>\n",
       "    </tr>\n",
       "  </thead>\n",
       "  <tbody>\n",
       "    <tr>\n",
       "      <th>0</th>\n",
       "      <td>17</td>\n",
       "      <td>he is in cahoot with a foreign government to m...</td>\n",
       "      <td>0.9964</td>\n",
       "      <td>n.j. democrat on reported whistleblower compla...</td>\n",
       "      <td>2019-09-22</td>\n",
       "    </tr>\n",
       "    <tr>\n",
       "      <th>1</th>\n",
       "      <td>18</td>\n",
       "      <td>come with concrete plan , not beautiful speech...</td>\n",
       "      <td>0.9993</td>\n",
       "      <td>ahead of climate summit, 2 views from cities i...</td>\n",
       "      <td>2019-09-22</td>\n",
       "    </tr>\n",
       "    <tr>\n",
       "      <th>2</th>\n",
       "      <td>19</td>\n",
       "      <td>if you stand outside the old dekalb county cou...</td>\n",
       "      <td>0.9974</td>\n",
       "      <td>barred from removing confederate monument, cou...</td>\n",
       "      <td>2019-09-22</td>\n",
       "    </tr>\n",
       "    <tr>\n",
       "      <th>3</th>\n",
       "      <td>20</td>\n",
       "      <td>you may have spotted pink salt in your superma...</td>\n",
       "      <td>0.4950</td>\n",
       "      <td>pakistan's pink himalayan salt has become a ma...</td>\n",
       "      <td>2019-09-22</td>\n",
       "    </tr>\n",
       "    <tr>\n",
       "      <th>4</th>\n",
       "      <td>21</td>\n",
       "      <td>singing in foreign language . the other day , ...</td>\n",
       "      <td>0.9730</td>\n",
       "      <td>10 years after haiti's earthquake, 'this music...</td>\n",
       "      <td>2019-09-22</td>\n",
       "    </tr>\n",
       "  </tbody>\n",
       "</table>\n",
       "</div>"
      ],
      "text/plain": [
       "   story_id_num                                         lemmatized   vader  \\\n",
       "0            17  he is in cahoot with a foreign government to m...  0.9964   \n",
       "1            18  come with concrete plan , not beautiful speech...  0.9993   \n",
       "2            19  if you stand outside the old dekalb county cou...  0.9974   \n",
       "3            20  you may have spotted pink salt in your superma...  0.4950   \n",
       "4            21  singing in foreign language . the other day , ...  0.9730   \n",
       "\n",
       "                                               title        date  \n",
       "0  n.j. democrat on reported whistleblower compla...  2019-09-22  \n",
       "1  ahead of climate summit, 2 views from cities i...  2019-09-22  \n",
       "2  barred from removing confederate monument, cou...  2019-09-22  \n",
       "3  pakistan's pink himalayan salt has become a ma...  2019-09-22  \n",
       "4  10 years after haiti's earthquake, 'this music...  2019-09-22  "
      ]
     },
     "execution_count": 42,
     "metadata": {},
     "output_type": "execute_result"
    }
   ],
   "source": [
    "stories.head()"
   ]
  },
  {
   "cell_type": "code",
   "execution_count": 43,
   "id": "17b5bc9f",
   "metadata": {},
   "outputs": [],
   "source": [
    "# get dates for the stories from original df\n",
    "# stories['date'] = df.groupby(['story_id_num']).date.first().tolist()"
   ]
  },
  {
   "cell_type": "code",
   "execution_count": 44,
   "id": "3aa5b727",
   "metadata": {},
   "outputs": [],
   "source": [
    "# get new csv\n",
    "# stories.to_csv(\"stories.csv\")"
   ]
  },
  {
   "cell_type": "code",
   "execution_count": 45,
   "id": "3841d902",
   "metadata": {},
   "outputs": [],
   "source": [
    "stories.date = pd.to_datetime(stories.date)"
   ]
  },
  {
   "cell_type": "code",
   "execution_count": 46,
   "id": "81dbdd78",
   "metadata": {
    "scrolled": true
   },
   "outputs": [
    {
     "data": {
      "text/plain": [
       "story_id_num             int64\n",
       "lemmatized              object\n",
       "vader                  float64\n",
       "title                   object\n",
       "date            datetime64[ns]\n",
       "dtype: object"
      ]
     },
     "execution_count": 46,
     "metadata": {},
     "output_type": "execute_result"
    }
   ],
   "source": [
    "stories.dtypes"
   ]
  },
  {
   "cell_type": "code",
   "execution_count": 47,
   "id": "f6938346",
   "metadata": {},
   "outputs": [
    {
     "data": {
      "text/html": [
       "<div>\n",
       "<style scoped>\n",
       "    .dataframe tbody tr th:only-of-type {\n",
       "        vertical-align: middle;\n",
       "    }\n",
       "\n",
       "    .dataframe tbody tr th {\n",
       "        vertical-align: top;\n",
       "    }\n",
       "\n",
       "    .dataframe thead th {\n",
       "        text-align: right;\n",
       "    }\n",
       "</style>\n",
       "<table border=\"1\" class=\"dataframe\">\n",
       "  <thead>\n",
       "    <tr style=\"text-align: right;\">\n",
       "      <th></th>\n",
       "      <th>story_id_num</th>\n",
       "      <th>lemmatized</th>\n",
       "      <th>vader</th>\n",
       "      <th>title</th>\n",
       "      <th>date</th>\n",
       "    </tr>\n",
       "    <tr>\n",
       "      <th>date</th>\n",
       "      <th></th>\n",
       "      <th></th>\n",
       "      <th></th>\n",
       "      <th></th>\n",
       "      <th></th>\n",
       "    </tr>\n",
       "  </thead>\n",
       "  <tbody>\n",
       "    <tr>\n",
       "      <th>2005-01-11</th>\n",
       "      <td>84430</td>\n",
       "      <td>this is talk of the nation. i m neal conan in ...</td>\n",
       "      <td>1.0000</td>\n",
       "      <td>state legislatures: agendas and budgets</td>\n",
       "      <td>2005-01-11</td>\n",
       "    </tr>\n",
       "    <tr>\n",
       "      <th>2005-01-11</th>\n",
       "      <td>84432</td>\n",
       "      <td>this is talk of the nation. i m neal conan in ...</td>\n",
       "      <td>0.9999</td>\n",
       "      <td>difference between a think and a 'blink'</td>\n",
       "      <td>2005-01-11</td>\n",
       "    </tr>\n",
       "    <tr>\n",
       "      <th>2005-01-11</th>\n",
       "      <td>84433</td>\n",
       "      <td>this is talk of the nation. i m neal conan in ...</td>\n",
       "      <td>0.9999</td>\n",
       "      <td>bush picks judge to head homeland security</td>\n",
       "      <td>2005-01-11</td>\n",
       "    </tr>\n",
       "    <tr>\n",
       "      <th>2005-01-11</th>\n",
       "      <td>84434</td>\n",
       "      <td>scientist at the national oceanic and atmosphe...</td>\n",
       "      <td>0.9914</td>\n",
       "      <td>noaa aims for predicting tsunamis</td>\n",
       "      <td>2005-01-11</td>\n",
       "    </tr>\n",
       "    <tr>\n",
       "      <th>2005-01-11</th>\n",
       "      <td>84431</td>\n",
       "      <td>this is talk of the nation. i m neal conan in ...</td>\n",
       "      <td>0.9999</td>\n",
       "      <td>california rains bring rash of mudslides</td>\n",
       "      <td>2005-01-11</td>\n",
       "    </tr>\n",
       "  </tbody>\n",
       "</table>\n",
       "</div>"
      ],
      "text/plain": [
       "            story_id_num                                         lemmatized  \\\n",
       "date                                                                          \n",
       "2005-01-11         84430  this is talk of the nation. i m neal conan in ...   \n",
       "2005-01-11         84432  this is talk of the nation. i m neal conan in ...   \n",
       "2005-01-11         84433  this is talk of the nation. i m neal conan in ...   \n",
       "2005-01-11         84434  scientist at the national oceanic and atmosphe...   \n",
       "2005-01-11         84431  this is talk of the nation. i m neal conan in ...   \n",
       "\n",
       "             vader                                       title       date  \n",
       "date                                                                       \n",
       "2005-01-11  1.0000     state legislatures: agendas and budgets 2005-01-11  \n",
       "2005-01-11  0.9999    difference between a think and a 'blink' 2005-01-11  \n",
       "2005-01-11  0.9999  bush picks judge to head homeland security 2005-01-11  \n",
       "2005-01-11  0.9914           noaa aims for predicting tsunamis 2005-01-11  \n",
       "2005-01-11  0.9999    california rains bring rash of mudslides 2005-01-11  "
      ]
     },
     "execution_count": 47,
     "metadata": {},
     "output_type": "execute_result"
    }
   ],
   "source": [
    "# assign new df for tsa looksy\n",
    "tsa = stories.set_index(stories.date).sort_index()\n",
    "tsa.head()"
   ]
  },
  {
   "cell_type": "code",
   "execution_count": 48,
   "id": "663a91d6",
   "metadata": {},
   "outputs": [
    {
     "data": {
      "text/plain": [
       "<AxesSubplot:xlabel='date'>"
      ]
     },
     "execution_count": 48,
     "metadata": {},
     "output_type": "execute_result"
    },
    {
     "data": {
      "image/png": "[encoded data removed]",
      "text/plain": [
       "<Figure size 432x288 with 1 Axes>"
      ]
     },
     "metadata": {
      "needs_background": "light"
     },
     "output_type": "display_data"
    }
   ],
   "source": [
    "# plot stories by sentiment, resampled weekly, averaged out\n",
    "tsa.vader.resample('w').mean().plot()"
   ]
  },
  {
   "cell_type": "code",
   "execution_count": 49,
   "id": "16d230c9",
   "metadata": {},
   "outputs": [
    {
     "data": {
      "text/html": [
       "<div>\n",
       "<style scoped>\n",
       "    .dataframe tbody tr th:only-of-type {\n",
       "        vertical-align: middle;\n",
       "    }\n",
       "\n",
       "    .dataframe tbody tr th {\n",
       "        vertical-align: top;\n",
       "    }\n",
       "\n",
       "    .dataframe thead th {\n",
       "        text-align: right;\n",
       "    }\n",
       "</style>\n",
       "<table border=\"1\" class=\"dataframe\">\n",
       "  <thead>\n",
       "    <tr style=\"text-align: right;\">\n",
       "      <th></th>\n",
       "      <th>vader</th>\n",
       "    </tr>\n",
       "    <tr>\n",
       "      <th>date</th>\n",
       "      <th></th>\n",
       "    </tr>\n",
       "  </thead>\n",
       "  <tbody>\n",
       "    <tr>\n",
       "      <th>2005-01-16</th>\n",
       "      <td>0.998220</td>\n",
       "    </tr>\n",
       "    <tr>\n",
       "      <th>2005-01-23</th>\n",
       "      <td>NaN</td>\n",
       "    </tr>\n",
       "    <tr>\n",
       "      <th>2005-01-30</th>\n",
       "      <td>0.999800</td>\n",
       "    </tr>\n",
       "    <tr>\n",
       "      <th>2005-02-06</th>\n",
       "      <td>NaN</td>\n",
       "    </tr>\n",
       "    <tr>\n",
       "      <th>2005-02-13</th>\n",
       "      <td>NaN</td>\n",
       "    </tr>\n",
       "    <tr>\n",
       "      <th>...</th>\n",
       "      <td>...</td>\n",
       "    </tr>\n",
       "    <tr>\n",
       "      <th>2019-09-15</th>\n",
       "      <td>0.712144</td>\n",
       "    </tr>\n",
       "    <tr>\n",
       "      <th>2019-09-22</th>\n",
       "      <td>0.589789</td>\n",
       "    </tr>\n",
       "    <tr>\n",
       "      <th>2019-09-29</th>\n",
       "      <td>0.839537</td>\n",
       "    </tr>\n",
       "    <tr>\n",
       "      <th>2019-10-06</th>\n",
       "      <td>0.721716</td>\n",
       "    </tr>\n",
       "    <tr>\n",
       "      <th>2019-10-13</th>\n",
       "      <td>0.465194</td>\n",
       "    </tr>\n",
       "  </tbody>\n",
       "</table>\n",
       "<p>770 rows × 1 columns</p>\n",
       "</div>"
      ],
      "text/plain": [
       "               vader\n",
       "date                \n",
       "2005-01-16  0.998220\n",
       "2005-01-23       NaN\n",
       "2005-01-30  0.999800\n",
       "2005-02-06       NaN\n",
       "2005-02-13       NaN\n",
       "...              ...\n",
       "2019-09-15  0.712144\n",
       "2019-09-22  0.589789\n",
       "2019-09-29  0.839537\n",
       "2019-10-06  0.721716\n",
       "2019-10-13  0.465194\n",
       "\n",
       "[770 rows x 1 columns]"
      ]
     },
     "execution_count": 49,
     "metadata": {},
     "output_type": "execute_result"
    }
   ],
   "source": [
    "# assign new df for the weekly sample of vader\n",
    "weekly_tsa=pd.DataFrame(tsa.vader.resample('w').mean())\n",
    "weekly_tsa"
   ]
  },
  {
   "cell_type": "code",
   "execution_count": 50,
   "id": "cf2396c3",
   "metadata": {},
   "outputs": [
    {
     "data": {
      "text/plain": [
       "vader    0\n",
       "dtype: int64"
      ]
     },
     "execution_count": 50,
     "metadata": {},
     "output_type": "execute_result"
    }
   ],
   "source": [
    "# drop 14 nulls\n",
    "weekly_tsa = weekly_tsa.dropna()\n",
    "weekly_tsa.isna().sum()"
   ]
  },
  {
   "cell_type": "code",
   "execution_count": 51,
   "id": "a6e14472",
   "metadata": {},
   "outputs": [
    {
     "data": {
      "text/html": [
       "<div>\n",
       "<style scoped>\n",
       "    .dataframe tbody tr th:only-of-type {\n",
       "        vertical-align: middle;\n",
       "    }\n",
       "\n",
       "    .dataframe tbody tr th {\n",
       "        vertical-align: top;\n",
       "    }\n",
       "\n",
       "    .dataframe thead th {\n",
       "        text-align: right;\n",
       "    }\n",
       "</style>\n",
       "<table border=\"1\" class=\"dataframe\">\n",
       "  <thead>\n",
       "    <tr style=\"text-align: right;\">\n",
       "      <th></th>\n",
       "      <th>vader</th>\n",
       "      <th>weekly_diff</th>\n",
       "    </tr>\n",
       "    <tr>\n",
       "      <th>date</th>\n",
       "      <th></th>\n",
       "      <th></th>\n",
       "    </tr>\n",
       "  </thead>\n",
       "  <tbody>\n",
       "    <tr>\n",
       "      <th>2005-01-16</th>\n",
       "      <td>0.998220</td>\n",
       "      <td>NaN</td>\n",
       "    </tr>\n",
       "    <tr>\n",
       "      <th>2005-01-30</th>\n",
       "      <td>0.999800</td>\n",
       "      <td>0.001580</td>\n",
       "    </tr>\n",
       "    <tr>\n",
       "      <th>2005-05-08</th>\n",
       "      <td>0.596417</td>\n",
       "      <td>-0.403383</td>\n",
       "    </tr>\n",
       "    <tr>\n",
       "      <th>2005-05-15</th>\n",
       "      <td>0.503421</td>\n",
       "      <td>-0.092997</td>\n",
       "    </tr>\n",
       "    <tr>\n",
       "      <th>2005-05-22</th>\n",
       "      <td>0.433512</td>\n",
       "      <td>-0.069909</td>\n",
       "    </tr>\n",
       "  </tbody>\n",
       "</table>\n",
       "</div>"
      ],
      "text/plain": [
       "               vader  weekly_diff\n",
       "date                             \n",
       "2005-01-16  0.998220          NaN\n",
       "2005-01-30  0.999800     0.001580\n",
       "2005-05-08  0.596417    -0.403383\n",
       "2005-05-15  0.503421    -0.092997\n",
       "2005-05-22  0.433512    -0.069909"
      ]
     },
     "execution_count": 51,
     "metadata": {},
     "output_type": "execute_result"
    }
   ],
   "source": [
    "# add vader difference from week to week\n",
    "weekly_tsa['weekly_diff']= weekly_tsa.vader.diff(1)\n",
    "weekly_tsa.head()"
   ]
  },
  {
   "cell_type": "markdown",
   "id": "9f114ea2",
   "metadata": {},
   "source": [
    "### What week saw the biggest drop in sentiment?  "
   ]
  },
  {
   "cell_type": "code",
   "execution_count": 52,
   "id": "927b1392",
   "metadata": {},
   "outputs": [
    {
     "data": {
      "text/plain": [
       "Timestamp('2010-08-01 00:00:00')"
      ]
     },
     "execution_count": 52,
     "metadata": {},
     "output_type": "execute_result"
    }
   ],
   "source": [
    "weekly_tsa.weekly_diff.idxmin()"
   ]
  },
  {
   "cell_type": "markdown",
   "id": "f2758830",
   "metadata": {},
   "source": [
    "- At Least 400 Killed in Pakistan Floods (July 30)\n",
    "- Plane Crash in Pakistan Kills All 152 on Board (July 28)\n",
    "- U.S. Economy Lost 131,000 Jobs in July; Unemployment Remains at 9.5% (Aug. 6)\n",
    "- CA Gay Marriage Ban Overturned (Aug. 4)\n",
    "\n",
    "### Not a lot of concrete evidence of what would cause such a drop"
   ]
  },
  {
   "cell_type": "markdown",
   "id": "4cf06978",
   "metadata": {},
   "source": [
    "### And the biggest increasee?"
   ]
  },
  {
   "cell_type": "code",
   "execution_count": 53,
   "id": "42ab1dcc",
   "metadata": {},
   "outputs": [
    {
     "data": {
      "text/plain": [
       "Timestamp('2015-11-29 00:00:00')"
      ]
     },
     "execution_count": 53,
     "metadata": {},
     "output_type": "execute_result"
    }
   ],
   "source": [
    "weekly_tsa.weekly_diff.idxmax()"
   ]
  },
  {
   "cell_type": "markdown",
   "id": "ab30c832",
   "metadata": {},
   "source": [
    "- 13November2015: Paris terrorist attacks\n",
    "- Three Killed at Planned Parenthood Shooting in Colorado Springs (Nov. 27)\n",
    "- Russian Airliner Brought Down by Bomb (Nov. 17)\n",
    "\n",
    "### Again, nothing concrete: an index of the noise in the data"
   ]
  },
  {
   "cell_type": "code",
   "execution_count": 54,
   "id": "107c1817",
   "metadata": {},
   "outputs": [
    {
     "data": {
      "text/plain": [
       "Timestamp('2005-01-30 00:00:00')"
      ]
     },
     "execution_count": 54,
     "metadata": {},
     "output_type": "execute_result"
    }
   ],
   "source": [
    "weekly_tsa.vader.idxmax()"
   ]
  },
  {
   "cell_type": "code",
   "execution_count": null,
   "id": "9686bf96",
   "metadata": {},
   "outputs": [],
   "source": []
  },
  {
   "cell_type": "code",
   "execution_count": 55,
   "id": "1cdef9c6",
   "metadata": {},
   "outputs": [
    {
     "data": {
      "text/plain": [
       "Timestamp('2015-11-22 00:00:00')"
      ]
     },
     "execution_count": 55,
     "metadata": {},
     "output_type": "execute_result"
    }
   ],
   "source": [
    "weekly_tsa.vader.idxmin()"
   ]
  },
  {
   "cell_type": "code",
   "execution_count": null,
   "id": "21a0c85e",
   "metadata": {},
   "outputs": [],
   "source": []
  },
  {
   "cell_type": "code",
   "execution_count": null,
   "id": "0f60b60a",
   "metadata": {},
   "outputs": [],
   "source": []
  },
  {
   "cell_type": "markdown",
   "id": "84871056",
   "metadata": {},
   "source": [
    "## Below begins my attempt to use gensim for LDA topic modeling"
   ]
  },
  {
   "cell_type": "code",
   "execution_count": 56,
   "id": "9d8d3845",
   "metadata": {},
   "outputs": [],
   "source": [
    "# import gensim\n",
    "# from gensim.utils import simple_preprocess\n",
    "# import nltk\n",
    "# nltk.download('stopwords')\n",
    "# from nltk.corpus import stopwords\n",
    "# stop_words = stopwords.words('english')\n",
    "# # stop_words.extend(['from', 'subject', 're', 'edu', 'use'])\n",
    "# def sent_to_words(sentences):\n",
    "#     for sentence in sentences:\n",
    "#         # deacc=True removes punctuations\n",
    "#         yield(gensim.utils.simple_preprocess(str(sentence), deacc=False))\n",
    "# def remove_stopwords(texts):\n",
    "#     return [[word for word in simple_preprocess(str(doc)) \n",
    "#              if word not in stop_words] for doc in texts]\n",
    "# data = stories.lemmatized.values.tolist()\n",
    "# data_words = list(sent_to_words(data))\n",
    "# # remove stop words\n",
    "# data_words = remove_stopwords(data_words)\n",
    "# print(data_words[:1][0][:30])"
   ]
  },
  {
   "cell_type": "code",
   "execution_count": 57,
   "id": "ce9b4e56",
   "metadata": {},
   "outputs": [],
   "source": [
    "# import gensim.corpora as corpora\n",
    "# # Create Dictionary\n",
    "# id2word = corpora.Dictionary(data_words)\n",
    "# # Create Corpus\n",
    "# texts = data_words\n",
    "# # Term Document Frequency\n",
    "# corpus = [id2word.doc2bow(text) for text in texts]\n",
    "# # View\n",
    "# print(corpus[:1][0][:30])"
   ]
  },
  {
   "cell_type": "code",
   "execution_count": 58,
   "id": "7a65c06f",
   "metadata": {},
   "outputs": [],
   "source": [
    "# from pprint import pprint\n",
    "# # number of topics\n",
    "# num_topics = 10\n",
    "# # Build LDA model\n",
    "# lda_model = gensim.models.LdaMulticore(corpus=corpus,\n",
    "#                                        id2word=id2word,\n",
    "#                                        num_topics=num_topics)\n",
    "# # Print the Keyword in the 10 topics\n",
    "# pprint(lda_model.print_topics())\n",
    "# doc_lda = lda_model[corpus]"
   ]
  },
  {
   "cell_type": "code",
   "execution_count": 59,
   "id": "cc08c102",
   "metadata": {},
   "outputs": [],
   "source": [
    "# # import pyLDAvis.gensim\n",
    "# import os\n",
    "# import pyLDAvis.gensim_models as gensimvis\n",
    "# import pickle \n",
    "# import pyLDAvis\n",
    "# # Visualize the topics\n",
    "# pyLDAvis.enable_notebook()\n",
    "# # LDAvis_data_filepath = os.path.join('./results/ldavis_prepared_'+ str(num_topics)+str(num_topics))\n",
    "# # # this is a bit time consuming - make the if statement True\n",
    "# # # if you want to execute visualization prep yourself\n",
    "# if 1 == 1:\n",
    "# #     LDAvis_prepared = pyLDAvis.gensim.prepare(lda_model, corpus, id2word)\n",
    "#     LDAvis_prepared = gensimvis.prepare(lda_model, corpus, id2word)\n",
    "# #     with open(LDAvis_data_filepath, 'wb') as f:\n",
    "# #         pickle.dump(LDAvis_prepared, f)\n",
    "# # load the pre-prepared pyLDAvis data from disk\n",
    "# # with open(LDAvis_data_filepath, 'rb') as f:\n",
    "# #     LDAvis_prepared = pickle.load(f)\n",
    "# # pyLDAvis.save_html(LDAvis_prepared, './results/ldavis_prepared_'+ str(num_topics) +'.html')\n",
    "# LDAvis_prepared"
   ]
  },
  {
   "cell_type": "code",
   "execution_count": 60,
   "id": "094678be",
   "metadata": {},
   "outputs": [],
   "source": [
    "# type(LDAvis_prepared)"
   ]
  },
  {
   "cell_type": "code",
   "execution_count": 61,
   "id": "287b5263",
   "metadata": {},
   "outputs": [],
   "source": [
    "# BREAK. THIS. NOTEBOOK. "
   ]
  },
  {
   "cell_type": "markdown",
   "id": "d6e33411",
   "metadata": {},
   "source": [
    "## The same...but running it on the titles instead of the corpi"
   ]
  },
  {
   "cell_type": "code",
   "execution_count": 62,
   "id": "27ca4263",
   "metadata": {
    "scrolled": true
   },
   "outputs": [
    {
     "name": "stderr",
     "output_type": "stream",
     "text": [
      "[nltk_data] Downloading package stopwords to\n",
      "[nltk_data]     /Users/brianclements/nltk_data...\n",
      "[nltk_data]   Package stopwords is already up-to-date!\n"
     ]
    },
    {
     "name": "stdout",
     "output_type": "stream",
     "text": [
      "['democrat', 'reported', 'whistleblower', 'complaint', 'trump']\n"
     ]
    }
   ],
   "source": [
    "import gensim\n",
    "from gensim.utils import simple_preprocess\n",
    "import nltk\n",
    "nltk.download('stopwords')\n",
    "from nltk.corpus import stopwords\n",
    "stop_words = stopwords.words('english')\n",
    "# stop_words.extend(['from', 'subject', 're', 'edu', 'use'])\n",
    "def sent_to_words(sentences):\n",
    "    for sentence in sentences:\n",
    "        # deacc=True removes punctuations\n",
    "        yield(gensim.utils.simple_preprocess(str(sentence), deacc=False))\n",
    "def remove_stopwords(texts):\n",
    "    return [[word for word in simple_preprocess(str(doc)) \n",
    "             if word not in stop_words] for doc in texts]\n",
    "data = stories.title.values.tolist()\n",
    "data_words = list(sent_to_words(data))\n",
    "# remove stop words\n",
    "data_words = remove_stopwords(data_words)\n",
    "print(data_words[:1][0][:30])"
   ]
  },
  {
   "cell_type": "code",
   "execution_count": 63,
   "id": "466efd3c",
   "metadata": {},
   "outputs": [
    {
     "name": "stdout",
     "output_type": "stream",
     "text": [
      "[(0, 1), (1, 1), (2, 1), (3, 1), (4, 1)]\n"
     ]
    }
   ],
   "source": [
    "import gensim.corpora as corpora\n",
    "# Create Dictionary\n",
    "id2word = corpora.Dictionary(data_words)\n",
    "# Create Corpus\n",
    "texts = data_words\n",
    "# Term Document Frequency\n",
    "corpus = [id2word.doc2bow(text) for text in texts]\n",
    "# View\n",
    "print(corpus[:1][0][:30])"
   ]
  },
  {
   "cell_type": "code",
   "execution_count": 64,
   "id": "6da1324e",
   "metadata": {},
   "outputs": [
    {
     "name": "stdout",
     "output_type": "stream",
     "text": [
      "[(0,\n",
      "  '0.006*\"new\" + 0.006*\"health\" + 0.006*\"program\" + 0.005*\"class\" + '\n",
      "  '0.005*\"day\" + 0.004*\"news\" + 0.004*\"care\" + 0.004*\"iraq\" + 0.004*\"election\" '\n",
      "  '+ 0.004*\"power\"'),\n",
      " (1,\n",
      "  '0.013*\"new\" + 0.006*\"class\" + 0.006*\"program\" + 0.004*\"orleans\" + '\n",
      "  '0.004*\"says\" + 0.004*\"china\" + 0.004*\"obama\" + 0.003*\"bill\" + '\n",
      "  '0.003*\"health\" + 0.003*\"news\"'),\n",
      " (2,\n",
      "  '0.015*\"obama\" + 0.005*\"program\" + 0.004*\"class\" + 0.004*\"debate\" + '\n",
      "  '0.004*\"iraq\" + 0.004*\"new\" + 0.003*\"gop\" + 0.003*\"change\" + 0.003*\"iran\" + '\n",
      "  '0.003*\"congress\"'),\n",
      " (3,\n",
      "  '0.006*\"program\" + 0.006*\"new\" + 0.005*\"class\" + 0.005*\"oil\" + 0.004*\"trump\" '\n",
      "  '+ 0.004*\"news\" + 0.004*\"election\" + 0.003*\"public\" + 0.003*\"china\" + '\n",
      "  '0.003*\"brief\"'),\n",
      " (4,\n",
      "  '0.008*\"new\" + 0.007*\"iraq\" + 0.006*\"back\" + 0.006*\"bush\" + 0.005*\"war\" + '\n",
      "  '0.005*\"court\" + 0.005*\"obama\" + 0.004*\"program\" + 0.004*\"race\" + '\n",
      "  '0.004*\"roundtable\"'),\n",
      " (5,\n",
      "  '0.015*\"new\" + 0.009*\"letters\" + 0.006*\"program\" + 0.005*\"class\" + '\n",
      "  '0.004*\"north\" + 0.004*\"trump\" + 0.004*\"court\" + 0.004*\"korea\" + 0.003*\"gop\" '\n",
      "  '+ 0.003*\"college\"'),\n",
      " (6,\n",
      "  '0.007*\"iraq\" + 0.006*\"trump\" + 0.005*\"president\" + 0.005*\"obama\" + '\n",
      "  '0.005*\"class\" + 0.005*\"program\" + 0.004*\"police\" + 0.004*\"letters\" + '\n",
      "  '0.004*\"new\" + 0.003*\"house\"'),\n",
      " (7,\n",
      "  '0.005*\"war\" + 0.005*\"economy\" + 0.005*\"politics\" + 0.004*\"week\" + '\n",
      "  '0.004*\"new\" + 0.004*\"takes\" + 0.004*\"case\" + 0.003*\"letters\" + 0.003*\"news\" '\n",
      "  '+ 0.003*\"program\"'),\n",
      " (8,\n",
      "  '0.005*\"obama\" + 0.005*\"news\" + 0.004*\"world\" + 0.004*\"health\" + '\n",
      "  '0.004*\"says\" + 0.004*\"brief\" + 0.004*\"house\" + 0.004*\"new\" + '\n",
      "  '0.003*\"nuclear\" + 0.003*\"gop\"'),\n",
      " (9,\n",
      "  '0.014*\"new\" + 0.013*\"program\" + 0.012*\"class\" + 0.010*\"may\" + '\n",
      "  '0.005*\"public\" + 0.004*\"radio\" + 0.003*\"kids\" + 0.003*\"news\" + 0.003*\"life\" '\n",
      "  '+ 0.003*\"ed\"')]\n"
     ]
    }
   ],
   "source": [
    "from pprint import pprint\n",
    "# number of topics\n",
    "num_topics = 10\n",
    "# Build LDA model\n",
    "lda_model = gensim.models.LdaMulticore(corpus=corpus,\n",
    "                                       id2word=id2word,\n",
    "                                       num_topics=num_topics)\n",
    "# Print the Keyword in the 10 topics\n",
    "pprint(lda_model.print_topics())\n",
    "doc_lda = lda_model[corpus]"
   ]
  },
  {
   "cell_type": "code",
   "execution_count": 65,
   "id": "497d64a6",
   "metadata": {},
   "outputs": [
    {
     "data": {
      "text/html": [
       "\n",
       "<link rel=\"stylesheet\" type=\"text/css\" href=\"https://cdn.jsdelivr.net/gh/bmabey/pyLDAvis@3.3.1/pyLDAvis/js/ldavis.v1.0.0.css\">\n",
       "\n",
       "\n",
       "<div id=\"ldavis_el189561404276740705922892750128\"></div>\n",
       "<script type=\"text/javascript\">\n",
       "\n",
       "var ldavis_el189561404276740705922892750128_data = {\"mdsDat\": {\"x\": [-0.05844339081683439, 0.11127908192507543, 0.003115354171168945, 0.027091803398163215, -0.0685974335060234, -0.026272574125775664, 0.02138420365718152, -0.06448545787273274, -0.003992672063930783, 0.05892108523370783], \"y\": [-0.012026309480434936, 0.0553565172025943, 0.05468419229556571, -0.0013679659454612519, -0.055053252407561766, 0.04058381109734916, -0.0472454039858207, 0.08526015504354544, -0.061730888597322814, -0.05846085522245316], \"topics\": [1, 2, 3, 4, 5, 6, 7, 8, 9, 10], \"cluster\": [1, 1, 1, 1, 1, 1, 1, 1, 1, 1], \"Freq\": [10.853306818843327, 10.618236590919942, 10.26633796241439, 9.96983014325484, 9.948559935604893, 9.87781496412983, 9.782248835415249, 9.72683344386337, 9.629629330137707, 9.327201975416454]}, \"tinfo\": {\"Term\": [\"obama\", \"new\", \"letters\", \"may\", \"economy\", \"iraq\", \"orleans\", \"back\", \"class\", \"health\", \"war\", \"program\", \"oil\", \"korea\", \"politics\", \"china\", \"north\", \"day\", \"week\", \"power\", \"bush\", \"says\", \"court\", \"security\", \"trump\", \"care\", \"police\", \"election\", \"hamas\", \"change\", \"goldman\", \"toyota\", \"reduction\", \"bang\", \"ieds\", \"europeans\", \"hariri\", \"disarray\", \"samples\", \"earmarks\", \"rehnquist\", \"reflection\", \"auctions\", \"surveys\", \"execs\", \"foes\", \"psychiatric\", \"marching\", \"glitch\", \"reopening\", \"deepens\", \"desperation\", \"paperwork\", \"brownback\", \"pin\", \"prosperity\", \"winding\", \"streams\", \"subprime\", \"borat\", \"increases\", \"disclosure\", \"hire\", \"investigated\", \"nbc\", \"total\", \"unity\", \"decry\", \"raises\", \"blackwater\", \"questions\", \"soldiers\", \"police\", \"britain\", \"president\", \"crackdown\", \"bank\", \"restore\", \"business\", \"alert\", \"iraq\", \"mass\", \"names\", \"trump\", \"christmas\", \"step\", \"hope\", \"hearing\", \"history\", \"former\", \"letters\", \"protests\", \"senate\", \"family\", \"russia\", \"death\", \"obama\", \"anti\", \"leaders\", \"vote\", \"class\", \"house\", \"program\", \"china\", \"politics\", \"world\", \"white\", \"home\", \"new\", \"news\", \"may\", \"military\", \"report\", \"plan\", \"years\", \"sarkozy\", \"padilla\", \"zarqawi\", \"revenue\", \"fatah\", \"underdog\", \"cartels\", \"brotherhood\", \"corp\", \"vintage\", \"unveiled\", \"outpace\", \"islamists\", \"fading\", \"gridiron\", \"crist\", \"chapel\", \"destructive\", \"parallels\", \"blackouts\", \"pg\", \"broadband\", \"explosives\", \"satellites\", \"hamdan\", \"dire\", \"scholarship\", \"deniers\", \"lackluster\", \"relieved\", \"ponder\", \"minneapolis\", \"crews\", \"measuring\", \"samsung\", \"arabic\", \"insurgents\", \"blair\", \"dropped\", \"nebraska\", \"settles\", \"sox\", \"may\", \"francisco\", \"approaches\", \"intelligent\", \"ed\", \"op\", \"kids\", \"class\", \"program\", \"endangered\", \"new\", \"inside\", \"profits\", \"radio\", \"san\", \"public\", \"michigan\", \"west\", \"private\", \"thousands\", \"gaza\", \"violence\", \"investors\", \"official\", \"victims\", \"chicago\", \"city\", \"california\", \"take\", \"legacy\", \"town\", \"york\", \"life\", \"one\", \"debate\", \"fire\", \"news\", \"use\", \"takes\", \"katrina\", \"iraq\", \"court\", \"back\", \"house\", \"obama\", \"sadr\", \"insurgent\", \"arise\", \"ministers\", \"lacrosse\", \"hybrid\", \"bonuses\", \"tunes\", \"olympian\", \"roller\", \"violin\", \"gate\", \"owen\", \"hog\", \"print\", \"mammogram\", \"halo\", \"cyprus\", \"chechen\", \"gum\", \"retirees\", \"scheduled\", \"fiasco\", \"milosevic\", \"bits\", \"greenland\", \"temperature\", \"properties\", \"supplements\", \"xbox\", \"aol\", \"peacekeepers\", \"criticize\", \"cooperation\", \"armor\", \"pictures\", \"gauging\", \"undecided\", \"layoffs\", \"costly\", \"portugal\", \"petraeus\", \"myanmar\", \"core\", \"back\", \"boost\", \"islamist\", \"cease\", \"bush\", \"eases\", \"policy\", \"repeal\", \"roundtable\", \"race\", \"go\", \"court\", \"consumers\", \"iraq\", \"war\", \"palestinians\", \"climate\", \"service\", \"georgia\", \"gets\", \"seek\", \"supreme\", \"old\", \"bloggers\", \"new\", \"change\", \"high\", \"obama\", \"sex\", \"americans\", \"fire\", \"america\", \"year\", \"life\", \"attacks\", \"case\", \"black\", \"program\", \"voters\", \"class\", \"trump\", \"iran\", \"still\", \"school\", \"first\", \"public\", \"shrine\", \"laptop\", \"pioneers\", \"anbar\", \"dissident\", \"bosnian\", \"barbaro\", \"tut\", \"blockbuster\", \"briefing\", \"dogfighting\", \"autos\", \"nukes\", \"peru\", \"hussein\", \"philharmonic\", \"rejecting\", \"mechanics\", \"nutrition\", \"recovers\", \"hijack\", \"stumbling\", \"moussaoui\", \"sequel\", \"recordings\", \"gi\", \"shareholders\", \"withers\", \"nepalese\", \"differs\", \"dept\", \"uninsured\", \"backlog\", \"gloomy\", \"exchanges\", \"korean\", \"postal\", \"appeals\", \"mandate\", \"draws\", \"korea\", \"offenders\", \"marines\", \"london\", \"north\", \"halt\", \"letters\", \"cites\", \"huge\", \"college\", \"movies\", \"human\", \"mexico\", \"new\", \"businesses\", \"insider\", \"york\", \"trial\", \"rights\", \"legal\", \"court\", \"tea\", \"teen\", \"ceo\", \"orleans\", \"trump\", \"program\", \"class\", \"border\", \"gop\", \"school\", \"bill\", \"senate\", \"life\", \"talks\", \"house\", \"china\", \"public\", \"tax\", \"news\", \"radio\", \"years\", \"help\", \"citigroup\", \"reid\", \"lakers\", \"buyout\", \"dreamliner\", \"sampling\", \"awaited\", \"remedy\", \"promoting\", \"donates\", \"turbulent\", \"shutter\", \"juggling\", \"havens\", \"automatic\", \"taxing\", \"avert\", \"aside\", \"musharraf\", \"gis\", \"provokes\", \"letts\", \"overdue\", \"astrodome\", \"fluorescent\", \"tighter\", \"slim\", \"mullen\", \"thembi\", \"airplanes\", \"pact\", \"thai\", \"bets\", \"ghraib\", \"vital\", \"serbia\", \"committed\", \"pins\", \"imf\", \"lance\", \"nobel\", \"mumbai\", \"efficiency\", \"comeback\", \"lebanese\", \"prize\", \"movie\", \"libya\", \"role\", \"visits\", \"soul\", \"nuclear\", \"energy\", \"armstrong\", \"world\", \"says\", \"detainees\", \"border\", \"nation\", \"survivors\", \"leader\", \"health\", \"brief\", \"overhaul\", \"take\", \"news\", \"justice\", \"pakistan\", \"house\", \"search\", \"gas\", \"obama\", \"gop\", \"black\", \"america\", \"week\", \"care\", \"crisis\", \"future\", \"report\", \"american\", \"politics\", \"trump\", \"senate\", \"new\", \"plan\", \"white\", \"iran\", \"government\", \"vioxx\", \"tucson\", \"stearns\", \"earnings\", \"complicity\", \"footing\", \"rendition\", \"gaps\", \"envoys\", \"developing\", \"holbrooke\", \"ignite\", \"cisco\", \"hinges\", \"flowing\", \"guthrie\", \"sidelined\", \"airways\", \"guitar\", \"tillman\", \"britons\", \"debts\", \"puberty\", \"ucla\", \"cinematic\", \"scattered\", \"slipping\", \"impoverished\", \"mormonism\", \"boil\", \"maliki\", \"jpmorgan\", \"losses\", \"signing\", \"belt\", \"promotes\", \"september\", \"solace\", \"hewlett\", \"packard\", \"gadhafi\", \"pleads\", \"intel\", \"web\", \"worker\", \"boon\", \"evacuation\", \"leak\", \"economy\", \"poor\", \"cleanup\", \"recruiting\", \"plans\", \"mortgage\", \"turns\", \"prime\", \"rebels\", \"people\", \"week\", \"politics\", \"takes\", \"tough\", \"guilty\", \"war\", \"minister\", \"case\", \"time\", \"death\", \"probe\", \"road\", \"looks\", \"help\", \"first\", \"letters\", \"love\", \"news\", \"crisis\", \"africa\", \"new\", \"change\", \"life\", \"world\", \"program\", \"government\", \"iraq\", \"bush\", \"class\", \"american\", \"china\", \"brief\", \"obama\", \"evacuee\", \"wetlands\", \"hybrids\", \"copes\", \"estimates\", \"enjoy\", \"alters\", \"decries\", \"weaken\", \"dominated\", \"pour\", \"closings\", \"bonus\", \"sharply\", \"motorcycle\", \"bounty\", \"depot\", \"reviewed\", \"mayo\", \"immunity\", \"rwandan\", \"example\", \"flare\", \"lott\", \"classified\", \"insurers\", \"alternate\", \"suffers\", \"karadzic\", \"translator\", \"gasoline\", \"regional\", \"hints\", \"plight\", \"exports\", \"financing\", \"survives\", \"barrel\", \"pet\", \"part\", \"oil\", \"wis\", \"massachusetts\", \"area\", \"fuel\", \"checks\", \"short\", \"baghdad\", \"cool\", \"natural\", \"gas\", \"economic\", \"prices\", \"debates\", \"iraqi\", \"small\", \"election\", \"rally\", \"israeli\", \"state\", \"market\", \"trump\", \"russia\", \"program\", \"news\", \"china\", \"american\", \"class\", \"public\", \"ohio\", \"gulf\", \"new\", \"study\", \"attack\", \"brief\", \"years\", \"violence\", \"big\", \"week\", \"radio\", \"life\", \"letters\", \"political\", \"health\", \"war\", \"high\", \"bill\", \"iraq\", \"pitches\", \"dubai\", \"scrutinizes\", \"asset\", \"sago\", \"previews\", \"bishops\", \"foil\", \"premier\", \"replaced\", \"dismissal\", \"aviv\", \"tel\", \"discord\", \"contempt\", \"shocking\", \"whitman\", \"swan\", \"competing\", \"naval\", \"angel\", \"maintenance\", \"haggard\", \"stretch\", \"lama\", \"dalai\", \"yucatan\", \"frustrate\", \"misery\", \"dual\", \"stricken\", \"santorum\", \"hamas\", \"october\", \"extends\", \"lucrative\", \"phone\", \"lure\", \"cell\", \"detainee\", \"rises\", \"visit\", \"obama\", \"picks\", \"lays\", \"blogs\", \"bills\", \"qaida\", \"gay\", \"constitution\", \"al\", \"strikes\", \"consider\", \"change\", \"children\", \"congress\", \"debate\", \"killings\", \"gop\", \"town\", \"stem\", \"better\", \"marriage\", \"security\", \"summer\", \"california\", \"iran\", \"plan\", \"study\", \"house\", \"iraq\", \"program\", \"climate\", \"states\", \"class\", \"behind\", \"presidential\", \"news\", \"book\", \"new\", \"trump\", \"syria\", \"white\", \"deal\", \"may\", \"state\", \"brief\", \"exxon\", \"lobbyist\", \"allege\", \"sued\", \"digs\", \"commuters\", \"wolfowitz\", \"berlusconi\", \"merrill\", \"sensitive\", \"defensive\", \"dumping\", \"karbala\", \"asserts\", \"uneven\", \"hammers\", \"hail\", \"foe\", \"virtually\", \"honest\", \"gunfire\", \"clunkers\", \"elevators\", \"flexes\", \"kicking\", \"elliott\", \"mogadishu\", \"jindal\", \"delirium\", \"waste\", \"pm\", \"bolster\", \"murdoch\", \"dealer\", \"shiite\", \"readiness\", \"volatile\", \"units\", \"chooses\", \"caution\", \"flaws\", \"midwest\", \"sunni\", \"tech\", \"day\", \"power\", \"aig\", \"lower\", \"bhutto\", \"presidents\", \"examining\", \"somalia\", \"health\", \"care\", \"bowl\", \"swine\", \"afghanistan\", \"election\", \"plant\", \"super\", \"debt\", \"nuclear\", \"strategy\", \"troops\", \"political\", \"news\", \"clinton\", \"class\", \"program\", \"battle\", \"year\", \"new\", \"iraq\", \"war\", \"brief\", \"bush\", \"high\", \"trump\", \"go\", \"iran\", \"presidential\", \"state\", \"debate\", \"plan\", \"says\", \"obama\", \"court\", \"parish\", \"january\", \"greenspan\", \"geithner\", \"resists\", \"dodge\", \"chertoff\", \"saints\", \"cited\", \"skype\", \"bangkok\", \"irrational\", \"ge\", \"touches\", \"unraveling\", \"blackberry\", \"accuse\", \"flotilla\", \"credentials\", \"galapagos\", \"cripples\", \"detecting\", \"punished\", \"instinct\", \"misleading\", \"muscles\", \"attracts\", \"pad\", \"salary\", \"transformation\", \"afloat\", \"roger\", \"pumps\", \"imports\", \"disagree\", \"includes\", \"disputed\", \"teams\", \"vow\", \"keystone\", \"automakers\", \"waits\", \"clashes\", \"airport\", \"pay\", \"orleans\", \"capitol\", \"jackson\", \"crown\", \"harvard\", \"devastation\", \"elderly\", \"foreclosure\", \"new\", \"tiger\", \"says\", \"ivory\", \"china\", \"hill\", \"post\", \"bill\", \"dollar\", \"game\", \"iraqis\", \"class\", \"food\", \"program\", \"men\", \"move\", \"strike\", \"health\", \"radio\", \"general\", \"man\", \"law\", \"get\", \"public\", \"fight\", \"home\", \"obama\", \"security\", \"work\", \"care\", \"politics\", \"news\", \"democrats\", \"women\", \"could\", \"trump\", \"brief\", \"may\"], \"Freq\": [1540.0, 2784.0, 891.0, 929.0, 376.0, 1175.0, 365.0, 574.0, 1856.0, 786.0, 814.0, 1963.0, 401.0, 298.0, 621.0, 653.0, 364.0, 461.0, 506.0, 341.0, 642.0, 635.0, 731.0, 357.0, 1104.0, 511.0, 442.0, 551.0, 87.0, 431.0, 28.125397182635876, 44.12679164755384, 14.037667393133338, 12.35464078623903, 11.932660452392117, 9.285017781159926, 9.203504944709607, 8.290422070272712, 7.775869392134376, 7.681325245826286, 7.609051096312666, 7.524162955521231, 7.643131548203227, 13.22359419999897, 7.19116987138999, 6.994098240410954, 6.93860165494507, 6.371680584273511, 6.352743481395365, 6.274005983143438, 16.034387513516855, 6.267919804449613, 6.266525349682451, 6.265398363327643, 6.246363999208641, 6.238395363126379, 6.238691670627594, 6.231058925109686, 16.59914961083033, 5.604196090981705, 21.109597810594995, 12.896328219631648, 10.919237905731215, 8.44254374022315, 24.595890798864712, 11.939650821342509, 23.858632498058363, 9.000095499849648, 64.27124580812654, 23.079707934046986, 116.61461732166681, 66.85497936203109, 170.77749332002688, 62.97067301917295, 203.25022594678788, 37.23135645390678, 71.71712307778796, 20.45905808451411, 90.02216360372648, 17.14738973758949, 283.10508847634617, 49.25754376788431, 33.744798824586354, 241.83152544788484, 46.02052229237234, 51.755651239606046, 62.394221477842116, 46.77664475012619, 88.57040160869556, 85.58297961989307, 166.1323145518382, 80.25806692014129, 119.1160135804631, 89.12857256052402, 91.73862998236083, 96.09176264881886, 199.53106466712532, 64.5870146050689, 67.1077047797839, 87.84122277654826, 193.68865883311628, 120.35669606394235, 192.07200510649386, 109.94485761136788, 105.55744375034195, 99.91706082303834, 87.79445595292157, 85.88044520843984, 164.05508587386342, 114.30825020779159, 105.7305597115091, 80.91625861779931, 81.87206971247804, 84.25129680520135, 81.00507848770515, 17.917980186891263, 16.975425568721644, 16.209574285656604, 13.270469924655078, 10.25356223423655, 9.881612573645135, 9.323737319769291, 9.488279666313014, 16.275192284619536, 8.57892075179209, 8.600418516075882, 8.464986860919305, 16.118981504253888, 7.772225431584866, 7.732013177216612, 7.728182095159296, 7.721779624018599, 7.645348292219234, 7.013362484772247, 6.932396922136525, 6.535912292857756, 6.2427800228257375, 6.241941333959471, 6.3111276331779536, 6.225945390767378, 6.270495481151721, 6.202900256589822, 6.195136299103558, 6.176149069170106, 6.1749756792721175, 14.660860055517498, 12.047006539421874, 15.075036262140804, 9.359800941018728, 14.335089179256526, 9.266550467456685, 31.51600237181086, 43.983039343174525, 16.607026505190714, 15.913876712014508, 19.80676172975707, 18.85843255064676, 376.2949363752306, 34.14136628404866, 18.219175709051136, 17.577625197244735, 98.72709858136231, 92.09295015263197, 122.04957986442413, 467.5166326342721, 483.9256179220549, 23.641552606439877, 549.3086866348591, 63.119038076366415, 37.57408440728505, 170.3880123673949, 47.21941796862874, 174.348712793188, 65.06876618759703, 67.4840130904923, 47.573592514923895, 48.05743853928094, 67.66317827616079, 93.70519783051495, 35.73341240346161, 51.88210318838582, 59.873073170783805, 69.65764236132394, 85.49977576888259, 89.51302812923, 94.16073644596098, 55.9012241578977, 74.490610188625, 68.53220599297161, 111.17017870400251, 89.24247905062926, 98.65184229913548, 68.81625818360915, 111.19221033026253, 58.04834731991633, 74.73016097266462, 67.08470424837562, 89.91682915709475, 77.28449302759827, 71.68815015164209, 74.1375243888264, 80.28080305055717, 21.727315977296698, 21.676869390170307, 16.097706428968078, 13.472227730522102, 12.635207635675103, 12.611533384824584, 9.355251972437664, 8.369462264773098, 8.3264180264384, 8.283739118273854, 7.651228499159711, 7.634381054988026, 7.0241978325978405, 6.943723031090581, 11.675174507341875, 6.313587325527643, 6.227967947773654, 6.18699106098747, 5.600007641628001, 5.618528223094318, 5.740147866985752, 5.55362568695107, 5.539780582816076, 5.541543046814098, 5.529854620931009, 5.504830841501732, 5.430743701622509, 5.037931930472446, 4.999681915146631, 5.003951945524844, 12.474355382720566, 8.402932499131895, 16.89459476392324, 11.235355494591152, 8.364312339621973, 8.340631135195743, 14.452854140774555, 12.510222996029023, 19.344612281732136, 15.607347758154498, 9.658146521152673, 35.72109611928084, 45.487750514982444, 15.852281578849576, 238.7218941115839, 61.24644873232491, 16.80165113138172, 35.79604068853451, 203.9847396534993, 13.829829803604245, 110.17477288148685, 23.612079464958764, 140.7660129389313, 143.40549613886324, 98.87537923370262, 194.25570731174756, 28.030509846695185, 260.25078071277306, 196.33423165176154, 33.15299083915226, 93.29679716351764, 57.60093503560879, 44.23490445293716, 87.91467821218473, 58.429998100278375, 80.08849507363409, 68.36124470288723, 39.95938395925402, 276.53970940406737, 93.54812720408779, 103.29760519799744, 186.27240331594808, 63.9110247125528, 69.89116401257301, 70.52054177838325, 82.7285431178701, 86.91397950330108, 104.51877290865613, 67.36676356047188, 88.8938614880315, 89.50747068368644, 146.71050286094237, 75.38128804144179, 125.63321783910435, 104.43350709348262, 88.34028839530161, 78.04803781641564, 75.7000570686191, 76.62587111597828, 76.2031279456169, 14.267738056670769, 10.13795206565243, 10.059476850433942, 17.255960972285717, 9.471314784380882, 7.823551872094577, 7.252820200822101, 7.135392551636477, 12.144804693084255, 6.503626448765519, 6.469161993428262, 6.404716386405889, 11.325626004826013, 5.879333038090099, 10.725290296739402, 5.813161844839895, 5.745160138083707, 5.717138321513395, 5.7148808267072075, 5.712851366926311, 5.6864460537699095, 5.677284136284514, 28.88635916478643, 5.668250520965967, 10.058181362158141, 5.108048457888664, 13.407727073952158, 5.007852776650683, 4.99887058608727, 4.977677873110364, 13.531804099809204, 14.726287923223266, 7.807753563987035, 7.813524044843439, 12.550754826764193, 50.90818463820511, 11.45067230940104, 31.353270118254684, 17.108468541257636, 56.53817098581558, 143.3473672098086, 10.690001486994088, 37.95199704196414, 69.1179252189396, 154.6287824695945, 12.874316269415747, 313.2375043881665, 21.38192698704895, 24.807675874880076, 96.31933514017418, 39.04700149461831, 73.57971981794273, 85.6550584973544, 548.3278980399762, 42.12282933753493, 19.460141293448245, 80.32495223293527, 90.47708402551345, 85.14284715854052, 49.5866577752793, 145.28835147865934, 36.355701998495476, 45.09569962625349, 46.26036332499346, 81.9619756824701, 151.71786290811136, 201.99944677440564, 194.10821732734482, 72.43334047658375, 102.28350967427995, 85.6629124599567, 89.64429803538155, 88.15718138315626, 89.9918587359796, 69.72238529627636, 88.87800892861573, 84.95849096971091, 82.65732979366923, 61.609399838470246, 84.79133038789095, 72.91608075572809, 69.53229446808633, 67.11452480284738, 18.7913840773007, 15.780696317289346, 12.003740204318312, 10.725062642531546, 9.21037527810057, 8.964780447497157, 7.935029565747167, 7.817777803383787, 7.793126886247521, 7.109669608719072, 7.103683890415325, 7.114186887470124, 7.067295305199014, 7.063901255714001, 6.988477473083689, 6.476176596013223, 6.390649451659961, 11.382126364810011, 42.63205638742341, 5.725285650822618, 5.655341692742637, 5.65272877223959, 5.638295768588063, 5.627907323295052, 5.5441212620542135, 9.89732301519409, 5.511365159854241, 5.051836361604591, 5.0224629055468295, 5.018042555209597, 16.955638706269955, 20.05661813459093, 12.718570151231296, 12.850044473738121, 9.935456830192935, 10.599131381294226, 9.892211207616018, 7.802281697182815, 17.428956219302794, 11.114122928932302, 56.809745413609456, 17.91165972012956, 10.355824475923992, 29.13859902940886, 19.843696991119057, 38.84452522900442, 50.68287860598901, 55.33862296535386, 85.83914810567732, 38.621426083747615, 32.51256204440963, 109.55199723632504, 74.67006728444248, 21.616721903401395, 159.1834005558579, 151.17375891815445, 30.383079002798674, 90.7682699853824, 52.19679468977953, 31.973940697149864, 69.87825823875906, 152.3559911531884, 147.08826048564308, 41.30216952311353, 102.77486206206885, 177.63734313295433, 61.83156195695289, 75.6033749127747, 125.7994303011827, 50.071248911438005, 60.84113809452589, 178.46961299738695, 106.05654508044226, 99.88703806408097, 83.38543070816236, 92.76489164333475, 90.57424729093674, 76.5977464051464, 74.16419011770613, 79.5909289972885, 83.3533520681916, 90.49424973117512, 105.3728006460087, 83.11866712664752, 125.74869993905727, 79.36075563282408, 76.94418410615427, 82.77183963864933, 74.81508463152848, 22.10369708487456, 17.036876782172666, 14.53606802834438, 20.62832932395639, 7.8443027128262575, 7.518502831106356, 7.016608981527774, 7.065605001044878, 6.904606169352665, 11.974931223931197, 6.260253676974066, 6.174367184730206, 5.5488569795333165, 5.514920070832994, 5.482055688257622, 5.4466515185293565, 5.347885963772599, 13.764233145678263, 13.649544901007957, 4.9225964177672425, 14.723409110375162, 4.836453116244904, 4.833419267153454, 4.823658970627695, 4.805665852402881, 4.804571711068119, 4.798149420514734, 4.796216917827984, 4.794343599644289, 4.775184804033193, 19.767523149817553, 18.271489189727834, 38.08903816941567, 10.34996665449657, 10.888774135955277, 15.73798279922844, 13.106965050789228, 7.543614043781355, 7.4939268521981255, 7.4927112539701355, 35.36996417338577, 26.213608961318393, 23.769428969310056, 80.79409703076706, 34.49859742531028, 9.623704868479493, 15.162472691509198, 37.935751335795615, 177.7514962563434, 57.56985511769733, 24.39921178097976, 20.737362618021635, 104.75251910171495, 42.295024506994686, 78.9613742696908, 51.61670519525161, 44.780930088305546, 89.78413040840213, 151.25724364519348, 172.03254816150485, 130.41965438716136, 66.61310308329779, 38.958463665790916, 188.7018850625152, 54.5977678857497, 130.39124582569434, 107.74443468613, 97.59377570553434, 61.91417056370659, 55.52355761494862, 54.414787929622385, 95.77194701020325, 94.65033583165736, 120.98648862246911, 62.450264821686055, 120.86176268608045, 74.61870157962724, 69.20818811866404, 143.31888697870158, 75.94919391142928, 86.28103363925935, 82.75043408887024, 107.96516509154587, 70.44079854607236, 87.966427130258, 76.14990657396797, 94.00319703580443, 71.65006454688385, 73.84342782000962, 72.95757476417737, 75.73837768224712, 12.341863639909601, 11.73326923486836, 11.097833636100061, 10.446637041683587, 9.654347834821253, 9.60671011844421, 8.954677667318935, 8.515468095310343, 7.694065081876713, 7.618830842722341, 7.587295090370418, 7.570889363785269, 7.05363320059842, 7.000832540038347, 6.905698795189777, 6.886453704138325, 6.852723827925795, 16.61940112070433, 6.363165611592526, 6.314411720707996, 6.243906697651782, 6.232379520101181, 6.217850393761038, 6.180631325457983, 6.158698241551516, 15.906483643704941, 6.0720107268116505, 31.641082529281697, 5.734651823776817, 5.518025286966355, 20.286332024331994, 11.658258230615484, 14.350719861010063, 11.032888589163559, 11.002335987781928, 12.897155870365486, 8.352255350535984, 11.159145764365624, 15.64363728891005, 74.2407765664379, 162.02621559608963, 22.377429410216475, 22.516489463787515, 23.534106271931453, 45.0919088642205, 21.982760297743834, 55.94802395284683, 51.52719820673946, 23.028300835986474, 27.071753587468717, 74.38823799926986, 85.66014491100273, 79.91094306446806, 35.52912505449876, 93.79704279985322, 53.81668720179566, 123.89378831925183, 34.05610904730043, 54.067248501646056, 101.3845748861807, 60.437875153702095, 157.5956042104646, 83.74700345709721, 210.63520562346108, 153.4151626991092, 111.81477001479968, 95.91612303740848, 190.46504544960322, 114.63664672781567, 49.01288822111419, 46.255323546478394, 202.100431786521, 66.30789702948182, 60.56250750500924, 102.35687602865815, 85.75221962416458, 68.90671416704193, 72.01033575117135, 78.04990198629461, 81.60804206192184, 79.69301687240916, 85.10682407917469, 73.45913230056341, 77.84689889450019, 76.12226963120331, 70.51354063994503, 66.79327290425873, 67.04633361953593, 11.799519489751379, 19.94358343304567, 11.051268758661363, 10.370080424281582, 9.655228621573576, 8.711737274546142, 14.740579336856005, 8.038203368035411, 14.049890876361737, 7.460859125301498, 7.354257635480611, 7.311373277647792, 7.309476901251739, 7.301445934723612, 7.196203632902247, 6.647622788113493, 6.584516834621853, 6.470809254521581, 11.60750099063013, 5.93771767968712, 5.864013404557143, 5.853115575048665, 5.8431015724869315, 10.26545031451966, 11.64566366517005, 11.643989259073695, 5.209189871253863, 5.211067496734189, 5.2672609504817975, 5.1494063773166125, 13.143137134278899, 28.95662562495359, 72.30735015237923, 13.091297440450715, 14.73566558337227, 8.780948424842498, 62.268478808574955, 15.038261780011743, 65.19009851710325, 31.530281042847907, 38.32518112481126, 87.75330447777804, 521.0924969503396, 34.83179024977229, 15.287349958104752, 13.802533863893771, 28.839565178408556, 48.11997027824038, 84.00642149335752, 39.38722893738991, 71.64285824150141, 41.52883487714807, 32.76741173017493, 110.59205767898248, 63.6776030305888, 106.37934113409912, 131.74553938834012, 24.927128838681515, 117.67035200631688, 77.28160929369619, 39.09013740147035, 50.76916857456903, 53.93617594263236, 81.28489128621759, 54.092645746222466, 84.48620978937402, 110.33939669127103, 97.11222910189264, 70.17041876523389, 104.00283588485743, 128.34441112718673, 158.85740127295406, 70.89291080592878, 63.017120774987724, 131.90160376672532, 65.71640530113324, 67.79216613335896, 99.59167181066567, 61.69435212162365, 124.5732999325197, 88.45807943701755, 70.96450078861506, 71.00812454066536, 69.31909070291684, 75.60736536742345, 68.16470729991572, 69.49293703079017, 17.93231013352592, 13.602287402912332, 12.138821953394187, 11.464203190986007, 10.01900826909043, 15.678582151419146, 8.703920616120449, 8.736776058011142, 8.093355566120156, 7.928388997457739, 7.881352523513778, 7.794400445533234, 7.167618395743171, 7.196844416587574, 7.0821830083657415, 7.016078778427281, 13.36416246277001, 6.436842445373823, 6.415707615186525, 6.3765240163070525, 6.375239620692109, 5.936999321420153, 5.76595695943861, 5.7463021945107196, 5.702502798890045, 5.694184832132176, 5.667576269070257, 5.667320393381343, 5.659693290983544, 29.56712019610528, 19.05985696146678, 18.73930593273548, 17.060962100271407, 11.498890903496141, 35.01668636448411, 8.62492727549922, 8.419483179718682, 9.064227702870541, 9.58101130258146, 14.466999726634327, 12.213901901126135, 31.722829727544475, 24.495324881103464, 93.89688133153149, 176.01237095092824, 130.17551047011509, 25.04470102297764, 30.150534828643597, 22.544386141181036, 19.757115203456483, 42.189847228335985, 34.1602272860222, 195.19703504254082, 139.48004959597557, 35.74670070839116, 18.441314108859764, 94.71211933822632, 132.43225778535106, 41.26953361912991, 43.050789650241306, 61.47903302685088, 88.4589188747864, 52.420865062354274, 62.7745948561715, 105.43235944824018, 152.3584757127237, 85.0533519292371, 188.03229098370312, 191.5595624412409, 66.94607098932923, 86.38546284127544, 212.86216279200448, 134.54165281366267, 112.24503461407676, 107.40482184905365, 99.24589136446916, 86.8507592352064, 118.7315455409711, 64.46086180408524, 88.13615025675118, 65.73300348211464, 71.07565174302205, 74.23788993932038, 70.81547332879752, 74.10424054811294, 76.1916804388816, 64.97141708849776, 20.030791532864093, 12.443674502578958, 11.117634062070714, 10.04917874432529, 9.137773112958524, 8.062720400180467, 7.79282785059115, 7.741578492890676, 6.9643372264329235, 6.948262636502938, 6.9426488248193055, 6.942214862402972, 7.081316582463103, 6.964002399887734, 6.815728667906129, 6.4183031656511185, 6.331442162002906, 6.282301385404863, 6.246518681483385, 6.186164374362504, 6.183868212641143, 6.162791148899583, 5.6206044346464585, 5.58037713916867, 5.560772534689697, 5.549693129168996, 18.574652756044216, 4.999496819679581, 4.992475181433666, 4.9279430748802895, 7.703501571088448, 14.73684854092144, 7.637196195937983, 13.825280598863682, 15.903354094830279, 10.10616048798665, 14.474470879132996, 35.15142224475436, 19.2549542052874, 15.025645912369887, 21.24195779672352, 15.307167488412574, 22.880098369920994, 42.76376255080363, 87.35070763789743, 144.65788131893228, 42.470992941067266, 37.30099894566437, 14.20363362300689, 20.489425174228224, 12.068006894239398, 15.199124939589977, 19.28006085061489, 437.71076305980847, 17.554667103926, 139.5539623535675, 17.144384553911827, 135.44709366495556, 42.594170232884586, 63.658183028584986, 109.63196508704684, 26.217814598816364, 61.674913554961975, 35.813750943711234, 209.4260128869382, 66.65461332994212, 203.47317985007894, 42.36677587056648, 46.75742584993102, 48.96329228724499, 109.46315419305328, 95.40217320094209, 43.019051025884934, 69.87470970732609, 71.4883851025976, 75.25503503216659, 93.82228175548413, 68.91231422098038, 73.36139993678307, 127.62344622148213, 64.6588332981488, 61.546635625382244, 73.36916752386333, 78.11836667922951, 95.71873930743433, 64.91468159932599, 62.13545993548701, 64.04914380292904, 77.44220561048706, 68.98404193951433, 65.90521612235185], \"Total\": [1540.0, 2784.0, 891.0, 929.0, 376.0, 1175.0, 365.0, 574.0, 1856.0, 786.0, 814.0, 1963.0, 401.0, 298.0, 621.0, 653.0, 364.0, 461.0, 506.0, 341.0, 642.0, 635.0, 731.0, 357.0, 1104.0, 511.0, 442.0, 551.0, 87.0, 431.0, 29.003997352237974, 45.7028596312108, 14.916112311073592, 13.233189294232279, 12.811074023752278, 10.163431261893537, 10.081861883928077, 9.168936137333205, 8.65677404619676, 8.559723401322962, 8.48753756543801, 8.40269692561717, 8.547600058598823, 14.7949777991162, 8.083232349338665, 7.872514874519661, 7.816982815832846, 7.25463323805622, 7.240766375514032, 7.152368112026891, 18.280314677948596, 7.146301935813593, 7.14496878566923, 7.143748915565969, 7.1247758233648595, 7.116794712261267, 7.117144785203198, 7.109407828108781, 19.119500372991318, 6.482667363759687, 24.82698740540429, 15.594406638836785, 13.26136057650537, 10.018381691553131, 36.28426355483959, 15.382934102381249, 35.97292612603052, 11.139379261225699, 129.38827662159414, 36.002217826050504, 273.3802679803499, 136.39484572269345, 442.208913719041, 126.82529082699146, 573.7605465658451, 67.47957079323112, 163.72584239798059, 31.609464565497838, 237.1425273333623, 25.25462684557025, 1175.1339207199076, 108.25770545577716, 65.24990055925815, 1104.5327579976056, 105.92817477360356, 125.96276987898345, 170.4419564160907, 112.12447310303548, 314.19718660762123, 304.7502090841297, 891.4181714922565, 276.6925885822125, 545.4263456548916, 345.28978285826963, 375.84691164030386, 412.71056463481, 1540.8154212092868, 208.38216463505626, 227.3744221878738, 387.4198777345708, 1856.4409077894447, 726.9381670610015, 1963.1893727276106, 653.6315371559099, 621.6961817338008, 650.1951584028158, 466.9167235970452, 447.21742945706734, 2784.545624441379, 1127.1831054892564, 929.0050864803382, 383.6739959718291, 429.29795846172067, 521.5467422105278, 535.7196515936361, 18.78598757110081, 17.844459438206687, 17.078327298736685, 14.138298517131178, 11.125156934636248, 10.74947156078289, 10.19156206636807, 10.391850529082664, 17.83178513204926, 9.446723443567985, 9.472315302856636, 9.332924274198234, 17.781723082223007, 8.640052990963103, 8.59983244785363, 8.59618978398553, 8.589720379506579, 8.513240932435282, 7.881468233104584, 7.80016302426572, 7.403754166204001, 7.110600285142237, 7.109945563195525, 7.189818505876379, 7.094078738500907, 7.145594214520519, 7.070738689646874, 7.06305278937653, 7.043988744434588, 7.042768155174212, 16.7848165641001, 13.951445845314234, 17.92074139977277, 10.919902387679608, 17.340043345273358, 10.84778978653049, 40.91483938240128, 58.87954614148177, 20.56992385616328, 19.838137779330257, 26.220262094295844, 25.24370396549575, 929.0050864803382, 51.61362890729641, 24.29022448553537, 23.757654757194974, 217.56459274726942, 200.90856302619667, 290.1389209902361, 1856.4409077894447, 1963.1893727276106, 36.96501852184206, 2784.545624441379, 143.3314612336759, 70.36986412909765, 631.7577111940224, 102.0382903000056, 747.2511972901556, 168.92505819267163, 184.31295253769568, 108.5955520022721, 112.25243154139133, 202.16542573679595, 354.5752419660211, 72.61097901819879, 138.91992805085485, 183.16678597616618, 238.87188050893977, 346.7877282937053, 396.2639391639817, 439.5832843769459, 168.70642692398363, 306.1381441128109, 260.0031668243238, 674.3288231815183, 467.41143115417754, 608.8414387860436, 285.9323187992679, 1127.1831054892564, 193.21189684903834, 419.78975310926, 304.5492238150094, 1175.1339207199076, 731.5886805094437, 574.0291785173949, 726.9381670610015, 1540.8154212092868, 22.6063557938089, 22.55533666266797, 16.976125408233276, 14.350607245030279, 13.513612219139986, 13.489853923448404, 10.25569389752588, 9.24782044836676, 9.204775631474124, 9.162119710757812, 8.529589845742636, 8.512780244103809, 7.902519063122547, 7.822133786129948, 13.24587981937678, 7.191960353810559, 7.106332630881325, 7.065277084104561, 6.478431603401619, 6.505063431090771, 6.647168066156168, 6.4319434509117, 6.418126110051249, 6.420384984717479, 6.408245642576558, 6.383203881241672, 6.309127150606735, 5.916199623525469, 5.878001383428485, 5.886894122443377, 14.747004163315342, 9.978428373199316, 20.4803702900283, 13.492415373738796, 9.940695719940136, 9.919146074997661, 18.254329216745212, 15.671006015178431, 25.653979920499253, 20.22918240184321, 11.923645272122158, 53.51740436332242, 72.06499139298748, 21.176702561206852, 574.0291785173949, 115.67780034040376, 23.49097479564729, 63.25117165543377, 642.1842806034421, 19.19520996515874, 303.79914459835936, 39.07874546320095, 424.098853171201, 440.0349855891211, 274.7451218548464, 731.5886805094437, 50.24663507981064, 1175.1339207199076, 814.4041425925736, 63.714853947622025, 326.1410787467529, 155.3772061487689, 105.2400087081162, 319.088765878607, 167.12003859130215, 277.7708800911428, 230.85812450842593, 96.62321882458886, 2784.545624441379, 431.2865244517451, 520.1750960908366, 1540.8154212092868, 227.47203670010003, 269.49366807437804, 285.9323187992679, 396.19247914600476, 449.37428030487797, 674.3288231815183, 265.51779232825874, 517.1136023436094, 538.07886317888, 1963.1893727276106, 370.4901583220254, 1856.4409077894447, 1104.5327579976056, 654.6885376729768, 459.0191960698278, 428.00942282275554, 500.6484460357726, 747.2511972901556, 15.148256331011035, 11.014362901165644, 10.936155248227294, 18.824413451791084, 10.360368521496113, 8.699798080864824, 8.129152836083948, 8.011645516606666, 13.70928785567081, 7.380103485956159, 7.349494005718075, 7.2810367932371, 12.89052579067908, 6.758987400526758, 12.335267924123247, 6.6931865198296645, 6.621637277339157, 6.593592940900908, 6.591170301302869, 6.589176863899273, 6.562722014740997, 6.5535793015700525, 33.34849128296467, 6.544569340279068, 11.62366362654436, 5.992983040756477, 15.744366131639078, 5.8841499477897665, 5.875163631639421, 5.853950405124942, 15.977358713289572, 17.457764804814666, 9.371021249049457, 9.386551434156887, 15.633092266552772, 73.30549593398452, 14.487681786394809, 45.88660920313328, 23.113435391921467, 96.64716895554452, 298.82421643225814, 13.769826754694042, 63.249646581932936, 130.60838226395984, 364.45086431999596, 17.280546810869186, 891.4181714922565, 32.60130017000205, 40.47321257125949, 238.13475808387412, 74.19416521281103, 171.79576439212136, 210.42126286841787, 2784.545624441379, 86.69243024054263, 30.135996371166293, 260.0031668243238, 312.6156014251186, 301.07625515492623, 132.53302487916855, 731.5886805094437, 83.55223818180052, 119.80844185457846, 125.69049087183926, 365.73437478864355, 1104.5327579976056, 1963.1893727276106, 1856.4409077894447, 306.26462413162477, 589.9779499025972, 428.00942282275554, 500.65636943454047, 545.4263456548916, 674.3288231815183, 373.60772811907555, 726.9381670610015, 653.6315371559099, 747.2511972901556, 299.84756080656325, 1127.1831054892564, 631.7577111940224, 535.7196515936361, 462.83107885096854, 19.691067018018234, 16.657633563573423, 12.880552668409111, 11.60198029999535, 10.087382234957444, 9.841839111458855, 8.815650059005149, 8.69454615908877, 8.669964227477948, 7.9864606266202305, 7.980496956070051, 7.9947272668439044, 7.944113432499973, 7.940746887627648, 7.865216314338407, 7.3530172999122385, 7.267387285273485, 12.950905055802922, 48.66435133061148, 6.602242914956597, 6.532163112552021, 6.529427342151561, 6.515101025909884, 6.5047516847425655, 6.42097055267821, 11.46470244079653, 6.435338273191747, 5.928904798769236, 5.899279180158057, 5.894870309347031, 20.10390841955672, 24.273025126608974, 15.65153643441215, 15.837904751575502, 12.191400399397185, 13.104709492349198, 12.187034980972388, 9.36638110952042, 23.373694854637407, 14.083111341234535, 92.47950538206644, 24.64312180887734, 12.984900339625476, 46.14532239955857, 29.93347522004375, 77.63742688999669, 111.43446519628819, 127.66124695930881, 238.8327300263931, 80.22109806796043, 63.51538825443555, 356.40970866105994, 211.64049832312108, 36.92786699823652, 650.1951584028158, 635.097362043479, 60.56932964887544, 306.26462413162477, 140.52501180089294, 67.16598993860553, 223.6718654703599, 786.4804193487068, 748.827898900629, 100.59360359161198, 439.5832843769459, 1127.1831054892564, 205.6217378764558, 297.53261793448473, 726.9381670610015, 147.83248851264315, 210.29397351568943, 1540.8154212092868, 589.9779499025972, 538.07886317888, 396.19247914600476, 506.6400453444597, 511.43390156628334, 363.58459806446683, 362.4987765494709, 429.29795846172067, 500.4649284800264, 621.6961817338008, 1104.5327579976056, 545.4263456548916, 2784.545624441379, 521.5467422105278, 466.9167235970452, 654.6885376729768, 437.7945989993949, 22.98374791074798, 17.91662942320508, 15.427168635802104, 22.912858971916823, 8.724099430551245, 8.398146154039344, 7.898463006793065, 7.964227169920066, 7.784775141815841, 13.640363765153909, 7.139928445734621, 7.054082032104284, 6.428472203977479, 6.394559405981425, 6.361651553972329, 6.3262625853666945, 6.227556628846279, 16.079024185543123, 15.945350315224143, 5.802379511551655, 17.39184780560202, 5.716084168247172, 5.713061986310571, 5.703239665305311, 5.685280311848915, 5.684181744953596, 5.677767507959352, 5.675835484207124, 5.673971659335735, 5.654767072769201, 23.676027516074488, 22.174181317588506, 47.26654922512921, 12.490287023258274, 13.218313738219662, 19.43856763578847, 16.108120911876124, 9.11980233371799, 9.059024070006709, 9.057515229231226, 47.547338679706144, 34.86459681161419, 31.595722752807315, 120.41845751735914, 47.746515553100416, 11.966584398768642, 20.140505037324093, 59.018456583384086, 376.97905367381424, 103.42004967698098, 37.237562954501115, 30.602353804874248, 232.77169154998126, 78.43311380084123, 179.96009830823672, 106.75875554980558, 90.1476418394907, 240.66187734424477, 506.6400453444597, 621.6961817338008, 419.78975310926, 166.1978445778717, 75.91702542934698, 814.4041425925736, 130.93870873941393, 517.1136023436094, 441.3058409497148, 412.71056463481, 188.8563849585944, 159.81670569885338, 154.13435219201884, 462.83107885096854, 500.6484460357726, 891.4181714922565, 222.74453733149394, 1127.1831054892564, 363.58459806446683, 306.3162538091042, 2784.545624441379, 431.2865244517451, 674.3288231815183, 650.1951584028158, 1963.1893727276106, 437.7945989993949, 1175.1339207199076, 642.1842806034421, 1856.4409077894447, 500.4649284800264, 653.6315371559099, 748.827898900629, 1540.8154212092868, 13.222086015858189, 12.612786095673192, 11.977182592464187, 11.325966509727996, 10.533731055304026, 10.486117122148487, 9.834035773672452, 9.402172448050075, 8.581713414393699, 8.498155787010367, 8.466602501759406, 8.450193290897964, 7.938043072601375, 7.889880866799112, 7.785034055283086, 7.7657553841307685, 7.732095055343, 18.90818255932417, 7.242473706499148, 7.193724718772113, 7.123234534129295, 7.111654736950371, 7.097146617322017, 7.060070650364997, 7.038512185474386, 18.204154587821577, 6.951327201666077, 36.458075609420995, 6.618082613042609, 6.397338358394664, 23.591418241992354, 13.917384297328462, 17.419115043164275, 13.354416424714438, 13.333872260332884, 15.909809617364646, 9.92826619320803, 14.154670158550575, 21.590709799828666, 144.31456003180156, 401.0603306886305, 33.797103311717, 35.16673987959879, 37.63763330689561, 87.58601101602149, 34.65384200070915, 117.55238196132223, 107.228444788166, 37.31900147206756, 49.46263606781773, 210.29397351568943, 277.8402965620435, 256.3307160797207, 77.17860203122534, 347.46371250032934, 148.19021887354734, 551.702646355503, 80.08290629169944, 172.9293345421175, 507.8016568644797, 213.2761282195686, 1104.5327579976056, 375.84691164030386, 1963.1893727276106, 1127.1831054892564, 653.6315371559099, 500.4649284800264, 1856.4409077894447, 747.2511972901556, 161.57067215665933, 144.81055910674422, 2784.545624441379, 299.7873661255904, 253.00931114211613, 748.827898900629, 535.7196515936361, 354.5752419660211, 411.45667566255577, 506.6400453444597, 631.7577111940224, 674.3288231815183, 891.4181714922565, 539.925189088137, 786.4804193487068, 814.4041425925736, 520.1750960908366, 500.65636943454047, 1175.1339207199076, 12.672768859170242, 21.508843358338765, 11.924582205368312, 11.243390074482523, 10.5286433148213, 9.58497747306046, 16.323229654560233, 8.911489539347935, 15.624873841223005, 8.334218243367998, 8.227596248064721, 8.184544259711629, 8.182659086095875, 8.174696022865929, 8.069465563585064, 7.520882905453711, 7.457718167428964, 7.344201381262211, 13.275701717926122, 6.8128993864852925, 6.737296123848439, 6.726343691012406, 6.716345365848869, 11.825293104121608, 13.467571763719475, 13.466488119258067, 6.082457708259095, 6.0876245410030085, 6.156138478503833, 6.022693195096329, 15.440020465506857, 34.54057473360933, 87.94827974967194, 15.541776535320723, 17.777805579703482, 10.346961732821917, 89.45775183761154, 19.657445264166967, 107.98669003323455, 46.645955794260644, 59.46750983896968, 166.12572428572454, 1540.8154212092868, 56.791283845282415, 20.444529701478835, 18.134950915208563, 47.1911953937663, 94.27965105228934, 199.33040284590675, 72.8731921988071, 175.45825072234373, 90.8475428299199, 65.97651041525475, 431.2865244517451, 185.98995891217325, 429.7726190184143, 608.8414387860436, 45.0230115595516, 589.9779499025972, 306.1381441128109, 98.3252074677358, 154.87015054044664, 173.85165658831804, 357.9040887223597, 175.7835372821339, 396.2639391639817, 654.6885376729768, 521.5467422105278, 299.7873661255904, 726.9381670610015, 1175.1339207199076, 1963.1893727276106, 326.1410787467529, 257.6217585789047, 1856.4409077894447, 307.7272635994296, 340.8862628645977, 1127.1831054892564, 262.3930702719609, 2784.545624441379, 1104.5327579976056, 459.28958214475483, 466.9167235970452, 450.8799090780956, 929.0050864803382, 507.8016568644797, 748.827898900629, 18.8085340772233, 14.48715666549364, 13.014961034533503, 12.34022347436449, 10.895037401915166, 17.233527770466157, 9.580176701470494, 9.638695951440459, 8.973408999906606, 8.804467594163455, 8.757324964335155, 8.670556795797511, 8.043772285005256, 8.07848274065542, 7.958351157338806, 7.892101125433313, 15.085230151503106, 7.31282441684008, 7.291735765544915, 7.252620882092425, 7.251301704567334, 6.833722533896524, 6.642087622495278, 6.622338073310228, 6.5784520909078195, 6.570091801286108, 6.5435300404856385, 6.54332835494184, 6.535743924700718, 34.34285656587452, 22.473023349670296, 22.376480504089272, 20.716491802196064, 13.784699717994311, 45.07050994517495, 10.193732990176912, 9.985159598915434, 10.836725764541871, 11.524604210413422, 18.43567363409603, 15.362304214234431, 48.653168756865995, 35.86555604879478, 205.27522711694124, 461.93882436993783, 341.2643005519815, 40.640825490466526, 51.98967530124089, 36.57735199474333, 30.838170584753676, 87.50569738766534, 65.78005237220253, 786.4804193487068, 511.43390156628334, 75.31814378012217, 28.816696715711487, 326.15052355929583, 551.702646355503, 94.59954686052154, 105.39702619948214, 192.2109543695077, 356.40970866105994, 156.75794936627688, 220.18342308545556, 539.925189088137, 1127.1831054892564, 413.9895987168243, 1856.4409077894447, 1963.1893727276106, 270.3784010831991, 449.37428030487797, 2784.545624441379, 1175.1339207199076, 814.4041425925736, 748.827898900629, 642.1842806034421, 520.1750960908366, 1104.5327579976056, 274.7451218548464, 654.6885376729768, 340.8862628645977, 507.8016568644797, 608.8414387860436, 521.5467422105278, 635.097362043479, 1540.8154212092868, 731.5886805094437, 20.916547271075167, 13.32270862970172, 11.99700573237144, 10.943860859329776, 10.028912970676, 8.941803999282099, 8.671754705330557, 8.625268345698135, 7.843413529859178, 7.827272269994888, 7.821668023175758, 7.82118672722367, 7.978112924398257, 7.849080364593057, 7.6947794724544645, 7.305031354137089, 7.21319118662643, 7.161240710542105, 7.125513786679378, 7.0652071196860255, 7.062918672642009, 7.0418359400773625, 6.499531863948486, 6.459341778422618, 6.439788587465447, 6.42868882165357, 21.605065273483127, 5.881336389201809, 5.874797624408147, 5.811179836014094, 9.268807514355558, 18.3612818564678, 9.212800044638753, 17.38122203002299, 20.29727068686028, 12.53805683495822, 18.884372821306656, 53.164599473106925, 26.732469838234493, 20.316839321792983, 30.99688641629357, 20.988053844134086, 34.16543073661033, 75.19055482040858, 190.21790524560737, 365.73437478864355, 79.5832813402487, 71.74861557377375, 20.15898689702448, 33.44535582910453, 16.53368864292593, 23.273972977874642, 32.581918294236154, 2784.545624441379, 28.68161388371502, 635.097362043479, 28.041727219126177, 653.6315371559099, 112.91377950707619, 212.60798607365035, 500.65636943454047, 54.17744051913364, 218.6507292742872, 90.18647206851315, 1856.4409077894447, 272.7129388172044, 1963.1893727276106, 128.10196431786807, 158.00523723103987, 173.05734874559954, 786.4804193487068, 631.7577111940224, 138.556929176254, 374.7491901846846, 408.4593260959516, 454.8727891491794, 747.2511972901556, 385.40734775757454, 447.21742945706734, 1540.8154212092868, 357.9040887223597, 327.74060297386967, 511.43390156628334, 621.6961817338008, 1127.1831054892564, 388.04866018586756, 391.48911510466746, 483.0262829632362, 1104.5327579976056, 748.827898900629, 929.0050864803382], \"Category\": [\"Default\", \"Default\", \"Default\", \"Default\", \"Default\", \"Default\", \"Default\", \"Default\", \"Default\", \"Default\", \"Default\", \"Default\", \"Default\", \"Default\", \"Default\", \"Default\", \"Default\", \"Default\", \"Default\", \"Default\", \"Default\", \"Default\", \"Default\", \"Default\", \"Default\", \"Default\", \"Default\", \"Default\", \"Default\", \"Default\", \"Topic1\", \"Topic1\", \"Topic1\", \"Topic1\", \"Topic1\", \"Topic1\", \"Topic1\", \"Topic1\", \"Topic1\", \"Topic1\", \"Topic1\", \"Topic1\", \"Topic1\", \"Topic1\", \"Topic1\", \"Topic1\", \"Topic1\", \"Topic1\", \"Topic1\", \"Topic1\", \"Topic1\", \"Topic1\", \"Topic1\", \"Topic1\", \"Topic1\", \"Topic1\", \"Topic1\", \"Topic1\", \"Topic1\", \"Topic1\", \"Topic1\", \"Topic1\", \"Topic1\", \"Topic1\", \"Topic1\", \"Topic1\", \"Topic1\", \"Topic1\", \"Topic1\", \"Topic1\", \"Topic1\", \"Topic1\", \"Topic1\", \"Topic1\", \"Topic1\", \"Topic1\", \"Topic1\", \"Topic1\", \"Topic1\", \"Topic1\", \"Topic1\", \"Topic1\", \"Topic1\", \"Topic1\", \"Topic1\", \"Topic1\", \"Topic1\", \"Topic1\", \"Topic1\", \"Topic1\", \"Topic1\", \"Topic1\", \"Topic1\", \"Topic1\", \"Topic1\", \"Topic1\", \"Topic1\", \"Topic1\", \"Topic1\", \"Topic1\", \"Topic1\", \"Topic1\", \"Topic1\", \"Topic1\", \"Topic1\", \"Topic1\", \"Topic1\", \"Topic1\", \"Topic1\", \"Topic1\", \"Topic1\", \"Topic1\", \"Topic1\", \"Topic1\", \"Topic1\", \"Topic2\", \"Topic2\", \"Topic2\", \"Topic2\", \"Topic2\", \"Topic2\", \"Topic2\", \"Topic2\", \"Topic2\", \"Topic2\", \"Topic2\", \"Topic2\", \"Topic2\", \"Topic2\", \"Topic2\", \"Topic2\", \"Topic2\", \"Topic2\", \"Topic2\", \"Topic2\", \"Topic2\", \"Topic2\", \"Topic2\", \"Topic2\", \"Topic2\", \"Topic2\", \"Topic2\", \"Topic2\", \"Topic2\", \"Topic2\", \"Topic2\", \"Topic2\", \"Topic2\", \"Topic2\", \"Topic2\", \"Topic2\", \"Topic2\", \"Topic2\", \"Topic2\", \"Topic2\", \"Topic2\", \"Topic2\", \"Topic2\", \"Topic2\", \"Topic2\", \"Topic2\", \"Topic2\", \"Topic2\", \"Topic2\", \"Topic2\", \"Topic2\", \"Topic2\", \"Topic2\", \"Topic2\", \"Topic2\", \"Topic2\", \"Topic2\", \"Topic2\", \"Topic2\", \"Topic2\", \"Topic2\", \"Topic2\", \"Topic2\", \"Topic2\", \"Topic2\", \"Topic2\", \"Topic2\", \"Topic2\", \"Topic2\", \"Topic2\", \"Topic2\", \"Topic2\", \"Topic2\", \"Topic2\", \"Topic2\", \"Topic2\", \"Topic2\", \"Topic2\", \"Topic2\", \"Topic2\", \"Topic2\", \"Topic2\", \"Topic2\", \"Topic2\", \"Topic2\", \"Topic2\", \"Topic2\", \"Topic3\", \"Topic3\", \"Topic3\", \"Topic3\", \"Topic3\", \"Topic3\", \"Topic3\", \"Topic3\", \"Topic3\", \"Topic3\", \"Topic3\", \"Topic3\", \"Topic3\", \"Topic3\", \"Topic3\", \"Topic3\", \"Topic3\", \"Topic3\", \"Topic3\", \"Topic3\", \"Topic3\", \"Topic3\", \"Topic3\", \"Topic3\", \"Topic3\", \"Topic3\", \"Topic3\", \"Topic3\", \"Topic3\", \"Topic3\", \"Topic3\", \"Topic3\", \"Topic3\", \"Topic3\", \"Topic3\", \"Topic3\", \"Topic3\", \"Topic3\", \"Topic3\", \"Topic3\", \"Topic3\", \"Topic3\", \"Topic3\", \"Topic3\", \"Topic3\", \"Topic3\", \"Topic3\", \"Topic3\", \"Topic3\", \"Topic3\", \"Topic3\", \"Topic3\", \"Topic3\", \"Topic3\", \"Topic3\", \"Topic3\", \"Topic3\", \"Topic3\", \"Topic3\", \"Topic3\", \"Topic3\", \"Topic3\", \"Topic3\", \"Topic3\", \"Topic3\", \"Topic3\", \"Topic3\", \"Topic3\", \"Topic3\", \"Topic3\", \"Topic3\", \"Topic3\", \"Topic3\", \"Topic3\", \"Topic3\", \"Topic3\", \"Topic3\", \"Topic3\", \"Topic3\", \"Topic3\", \"Topic3\", \"Topic3\", \"Topic3\", \"Topic3\", \"Topic3\", \"Topic3\", \"Topic3\", \"Topic3\", \"Topic3\", \"Topic3\", \"Topic4\", \"Topic4\", \"Topic4\", \"Topic4\", \"Topic4\", \"Topic4\", \"Topic4\", \"Topic4\", \"Topic4\", \"Topic4\", \"Topic4\", \"Topic4\", \"Topic4\", \"Topic4\", \"Topic4\", \"Topic4\", \"Topic4\", \"Topic4\", \"Topic4\", \"Topic4\", \"Topic4\", \"Topic4\", \"Topic4\", \"Topic4\", \"Topic4\", \"Topic4\", \"Topic4\", \"Topic4\", \"Topic4\", \"Topic4\", \"Topic4\", \"Topic4\", \"Topic4\", \"Topic4\", \"Topic4\", \"Topic4\", \"Topic4\", \"Topic4\", \"Topic4\", \"Topic4\", \"Topic4\", \"Topic4\", \"Topic4\", \"Topic4\", \"Topic4\", \"Topic4\", \"Topic4\", \"Topic4\", \"Topic4\", \"Topic4\", \"Topic4\", \"Topic4\", \"Topic4\", \"Topic4\", \"Topic4\", \"Topic4\", \"Topic4\", \"Topic4\", \"Topic4\", \"Topic4\", \"Topic4\", \"Topic4\", \"Topic4\", \"Topic4\", \"Topic4\", \"Topic4\", \"Topic4\", \"Topic4\", \"Topic4\", \"Topic4\", \"Topic4\", \"Topic4\", \"Topic4\", \"Topic4\", \"Topic4\", \"Topic4\", \"Topic4\", \"Topic4\", \"Topic4\", \"Topic4\", \"Topic4\", \"Topic4\", \"Topic4\", \"Topic5\", \"Topic5\", \"Topic5\", \"Topic5\", \"Topic5\", \"Topic5\", \"Topic5\", \"Topic5\", \"Topic5\", \"Topic5\", \"Topic5\", \"Topic5\", \"Topic5\", \"Topic5\", \"Topic5\", \"Topic5\", \"Topic5\", \"Topic5\", \"Topic5\", \"Topic5\", \"Topic5\", \"Topic5\", \"Topic5\", \"Topic5\", \"Topic5\", \"Topic5\", \"Topic5\", \"Topic5\", \"Topic5\", \"Topic5\", \"Topic5\", \"Topic5\", \"Topic5\", \"Topic5\", \"Topic5\", \"Topic5\", \"Topic5\", \"Topic5\", \"Topic5\", \"Topic5\", \"Topic5\", \"Topic5\", \"Topic5\", \"Topic5\", \"Topic5\", \"Topic5\", \"Topic5\", \"Topic5\", \"Topic5\", \"Topic5\", \"Topic5\", \"Topic5\", \"Topic5\", \"Topic5\", \"Topic5\", \"Topic5\", \"Topic5\", \"Topic5\", \"Topic5\", \"Topic5\", \"Topic5\", \"Topic5\", \"Topic5\", \"Topic5\", \"Topic5\", \"Topic5\", \"Topic5\", \"Topic5\", \"Topic5\", \"Topic5\", \"Topic5\", \"Topic5\", \"Topic5\", \"Topic5\", \"Topic5\", \"Topic5\", \"Topic5\", \"Topic5\", \"Topic5\", \"Topic5\", \"Topic5\", \"Topic5\", \"Topic5\", \"Topic5\", \"Topic5\", \"Topic5\", \"Topic5\", \"Topic5\", \"Topic5\", \"Topic6\", \"Topic6\", \"Topic6\", \"Topic6\", \"Topic6\", \"Topic6\", \"Topic6\", \"Topic6\", \"Topic6\", \"Topic6\", \"Topic6\", \"Topic6\", \"Topic6\", \"Topic6\", \"Topic6\", \"Topic6\", \"Topic6\", \"Topic6\", \"Topic6\", \"Topic6\", \"Topic6\", \"Topic6\", \"Topic6\", \"Topic6\", \"Topic6\", \"Topic6\", \"Topic6\", \"Topic6\", \"Topic6\", \"Topic6\", \"Topic6\", \"Topic6\", \"Topic6\", \"Topic6\", \"Topic6\", \"Topic6\", \"Topic6\", \"Topic6\", \"Topic6\", \"Topic6\", \"Topic6\", \"Topic6\", \"Topic6\", \"Topic6\", \"Topic6\", \"Topic6\", \"Topic6\", \"Topic6\", \"Topic6\", \"Topic6\", \"Topic6\", \"Topic6\", \"Topic6\", \"Topic6\", \"Topic6\", \"Topic6\", \"Topic6\", \"Topic6\", \"Topic6\", \"Topic6\", \"Topic6\", \"Topic6\", \"Topic6\", \"Topic6\", \"Topic6\", \"Topic6\", \"Topic6\", \"Topic6\", \"Topic6\", \"Topic6\", \"Topic6\", \"Topic6\", \"Topic6\", \"Topic6\", \"Topic6\", \"Topic6\", \"Topic6\", \"Topic6\", \"Topic6\", \"Topic6\", \"Topic6\", \"Topic6\", \"Topic6\", \"Topic6\", \"Topic6\", \"Topic6\", \"Topic6\", \"Topic6\", \"Topic6\", \"Topic6\", \"Topic6\", \"Topic7\", \"Topic7\", \"Topic7\", \"Topic7\", \"Topic7\", \"Topic7\", \"Topic7\", \"Topic7\", \"Topic7\", \"Topic7\", \"Topic7\", \"Topic7\", \"Topic7\", \"Topic7\", \"Topic7\", \"Topic7\", \"Topic7\", \"Topic7\", \"Topic7\", \"Topic7\", \"Topic7\", \"Topic7\", \"Topic7\", \"Topic7\", \"Topic7\", \"Topic7\", \"Topic7\", \"Topic7\", \"Topic7\", \"Topic7\", \"Topic7\", \"Topic7\", \"Topic7\", \"Topic7\", \"Topic7\", \"Topic7\", \"Topic7\", \"Topic7\", \"Topic7\", \"Topic7\", \"Topic7\", \"Topic7\", \"Topic7\", \"Topic7\", \"Topic7\", \"Topic7\", \"Topic7\", \"Topic7\", \"Topic7\", \"Topic7\", \"Topic7\", \"Topic7\", \"Topic7\", \"Topic7\", \"Topic7\", \"Topic7\", \"Topic7\", \"Topic7\", \"Topic7\", \"Topic7\", \"Topic7\", \"Topic7\", \"Topic7\", \"Topic7\", \"Topic7\", \"Topic7\", \"Topic7\", \"Topic7\", \"Topic7\", \"Topic7\", \"Topic7\", \"Topic7\", \"Topic7\", \"Topic7\", \"Topic7\", \"Topic7\", \"Topic7\", \"Topic7\", \"Topic7\", \"Topic7\", \"Topic7\", \"Topic7\", \"Topic7\", \"Topic7\", \"Topic7\", \"Topic7\", \"Topic7\", \"Topic7\", \"Topic8\", \"Topic8\", \"Topic8\", \"Topic8\", \"Topic8\", \"Topic8\", \"Topic8\", \"Topic8\", \"Topic8\", \"Topic8\", \"Topic8\", \"Topic8\", \"Topic8\", \"Topic8\", \"Topic8\", \"Topic8\", \"Topic8\", \"Topic8\", \"Topic8\", \"Topic8\", \"Topic8\", \"Topic8\", \"Topic8\", \"Topic8\", \"Topic8\", \"Topic8\", \"Topic8\", \"Topic8\", \"Topic8\", \"Topic8\", \"Topic8\", \"Topic8\", \"Topic8\", \"Topic8\", \"Topic8\", \"Topic8\", \"Topic8\", \"Topic8\", \"Topic8\", \"Topic8\", \"Topic8\", \"Topic8\", \"Topic8\", \"Topic8\", \"Topic8\", \"Topic8\", \"Topic8\", \"Topic8\", \"Topic8\", \"Topic8\", \"Topic8\", \"Topic8\", \"Topic8\", \"Topic8\", \"Topic8\", \"Topic8\", \"Topic8\", \"Topic8\", \"Topic8\", \"Topic8\", \"Topic8\", \"Topic8\", \"Topic8\", \"Topic8\", \"Topic8\", \"Topic8\", \"Topic8\", \"Topic8\", \"Topic8\", \"Topic8\", \"Topic8\", \"Topic8\", \"Topic8\", \"Topic8\", \"Topic8\", \"Topic8\", \"Topic8\", \"Topic8\", \"Topic8\", \"Topic8\", \"Topic8\", \"Topic8\", \"Topic8\", \"Topic8\", \"Topic8\", \"Topic8\", \"Topic8\", \"Topic9\", \"Topic9\", \"Topic9\", \"Topic9\", \"Topic9\", \"Topic9\", \"Topic9\", \"Topic9\", \"Topic9\", \"Topic9\", \"Topic9\", \"Topic9\", \"Topic9\", \"Topic9\", \"Topic9\", \"Topic9\", \"Topic9\", \"Topic9\", \"Topic9\", \"Topic9\", \"Topic9\", \"Topic9\", \"Topic9\", \"Topic9\", \"Topic9\", \"Topic9\", \"Topic9\", \"Topic9\", \"Topic9\", \"Topic9\", \"Topic9\", \"Topic9\", \"Topic9\", \"Topic9\", \"Topic9\", \"Topic9\", \"Topic9\", \"Topic9\", \"Topic9\", \"Topic9\", \"Topic9\", \"Topic9\", \"Topic9\", \"Topic9\", \"Topic9\", \"Topic9\", \"Topic9\", \"Topic9\", \"Topic9\", \"Topic9\", \"Topic9\", \"Topic9\", \"Topic9\", \"Topic9\", \"Topic9\", \"Topic9\", \"Topic9\", \"Topic9\", \"Topic9\", \"Topic9\", \"Topic9\", \"Topic9\", \"Topic9\", \"Topic9\", \"Topic9\", \"Topic9\", \"Topic9\", \"Topic9\", \"Topic9\", \"Topic9\", \"Topic9\", \"Topic9\", \"Topic9\", \"Topic9\", \"Topic9\", \"Topic9\", \"Topic9\", \"Topic9\", \"Topic9\", \"Topic9\", \"Topic9\", \"Topic9\", \"Topic9\", \"Topic9\", \"Topic9\", \"Topic9\", \"Topic9\", \"Topic10\", \"Topic10\", \"Topic10\", \"Topic10\", \"Topic10\", \"Topic10\", \"Topic10\", \"Topic10\", \"Topic10\", \"Topic10\", \"Topic10\", \"Topic10\", \"Topic10\", \"Topic10\", \"Topic10\", \"Topic10\", \"Topic10\", \"Topic10\", \"Topic10\", \"Topic10\", \"Topic10\", \"Topic10\", \"Topic10\", \"Topic10\", \"Topic10\", \"Topic10\", \"Topic10\", \"Topic10\", \"Topic10\", \"Topic10\", \"Topic10\", \"Topic10\", \"Topic10\", \"Topic10\", \"Topic10\", \"Topic10\", \"Topic10\", \"Topic10\", \"Topic10\", \"Topic10\", \"Topic10\", \"Topic10\", \"Topic10\", \"Topic10\", \"Topic10\", \"Topic10\", \"Topic10\", \"Topic10\", \"Topic10\", \"Topic10\", \"Topic10\", \"Topic10\", \"Topic10\", \"Topic10\", \"Topic10\", \"Topic10\", \"Topic10\", \"Topic10\", \"Topic10\", \"Topic10\", \"Topic10\", \"Topic10\", \"Topic10\", \"Topic10\", \"Topic10\", \"Topic10\", \"Topic10\", \"Topic10\", \"Topic10\", \"Topic10\", \"Topic10\", \"Topic10\", \"Topic10\", \"Topic10\", \"Topic10\", \"Topic10\", \"Topic10\", \"Topic10\", \"Topic10\", \"Topic10\", \"Topic10\", \"Topic10\", \"Topic10\", \"Topic10\", \"Topic10\", \"Topic10\", \"Topic10\", \"Topic10\", \"Topic10\", \"Topic10\", \"Topic10\"], \"logprob\": [30.0, 29.0, 28.0, 27.0, 26.0, 25.0, 24.0, 23.0, 22.0, 21.0, 20.0, 19.0, 18.0, 17.0, 16.0, 15.0, 14.0, 13.0, 12.0, 11.0, 10.0, 9.0, 8.0, 7.0, 6.0, 5.0, 4.0, 3.0, 2.0, 1.0, -7.231, -6.7806, -7.9259, -8.0537, -8.0884, -8.3393, -8.3481, -8.4526, -8.5167, -8.5289, -8.5384, -8.5496, -8.5339, -7.9857, -8.5948, -8.6226, -8.6306, -8.7158, -8.7188, -8.7313, -7.793, -8.7322, -8.7325, -8.7327, -8.7357, -8.737, -8.7369, -8.7381, -7.7583, -8.8442, -7.518, -8.0108, -8.1772, -8.4344, -7.3651, -8.0878, -7.3955, -8.3705, -6.4046, -7.4287, -5.8088, -6.3652, -5.4273, -6.425, -5.2533, -6.9505, -6.295, -7.5493, -6.0676, -7.7258, -4.9219, -6.6706, -7.0489, -5.0795, -6.7386, -6.6212, -6.4342, -6.7223, -6.0839, -6.1182, -5.4549, -6.1824, -5.7876, -6.0776, -6.0488, -6.0024, -5.2717, -6.3997, -6.3614, -6.0922, -5.3014, -5.7772, -5.3098, -5.8677, -5.9084, -5.9634, -6.0927, -6.1147, -5.4675, -5.8288, -5.9068, -6.1743, -6.1625, -6.1339, -6.1732, -7.66, -7.714, -7.7602, -7.9603, -8.2182, -8.2551, -8.3132, -8.2957, -7.7562, -8.3965, -8.394, -8.4099, -7.7658, -8.4952, -8.5004, -8.5009, -8.5018, -8.5117, -8.598, -8.6096, -8.6685, -8.7144, -8.7145, -8.7035, -8.7171, -8.7099, -8.7208, -8.722, -8.7251, -8.7253, -7.8606, -8.057, -7.8328, -8.3094, -7.8831, -8.3194, -7.0953, -6.762, -7.736, -7.7786, -7.5598, -7.6088, -4.6154, -7.0153, -7.6433, -7.6792, -5.9534, -6.023, -5.7414, -4.3984, -4.3639, -7.3828, -4.2371, -6.4008, -6.9195, -5.4077, -6.691, -5.3847, -6.3704, -6.3339, -6.6835, -6.6734, -6.3313, -6.0056, -6.9697, -6.5968, -6.4536, -6.3022, -6.0973, -6.0514, -6.0008, -6.5222, -6.2351, -6.3185, -5.8347, -6.0544, -5.9542, -6.3144, -5.8345, -6.4845, -6.2319, -6.3398, -6.0469, -6.1983, -6.2735, -6.2399, -6.1603, -7.4335, -7.4358, -7.7334, -7.9115, -7.9756, -7.9775, -8.2762, -8.3875, -8.3927, -8.3978, -8.4772, -8.4794, -8.5627, -8.5743, -8.0546, -8.6694, -8.683, -8.6896, -8.7893, -8.786, -8.7646, -8.7976, -8.8001, -8.7998, -8.8019, -8.8065, -8.82, -8.8951, -8.9027, -8.9019, -7.9884, -8.3835, -7.6851, -8.093, -8.3881, -8.391, -7.8412, -7.9855, -7.5497, -7.7644, -8.2443, -6.9364, -6.6947, -7.7488, -5.0368, -6.3972, -7.6906, -6.9343, -5.194, -7.8853, -5.81, -7.3503, -5.565, -5.5464, -5.9182, -5.2429, -7.1788, -4.9504, -5.2323, -7.011, -5.9763, -6.4586, -6.7226, -6.0357, -6.4443, -6.129, -6.2873, -6.8242, -4.8897, -5.9736, -5.8745, -5.2849, -6.3546, -6.2652, -6.2562, -6.0965, -6.0472, -5.8627, -6.3019, -6.0247, -6.0178, -5.5236, -6.1895, -5.6787, -5.8635, -6.0309, -6.1548, -6.1853, -6.1732, -6.1787, -7.8248, -8.1665, -8.1743, -7.6346, -8.2345, -8.4256, -8.5014, -8.5177, -7.9859, -8.6104, -8.6157, -8.6258, -8.0557, -8.7113, -8.1102, -8.7227, -8.7344, -8.7393, -8.7397, -8.7401, -8.7447, -8.7463, -7.1194, -8.7479, -8.1744, -8.852, -7.887, -8.8718, -8.8736, -8.8778, -7.8777, -7.7932, -8.4277, -8.4269, -7.953, -6.5528, -8.0447, -7.0375, -7.6432, -6.4479, -5.5175, -8.1135, -6.8465, -6.247, -5.4418, -7.9276, -4.7358, -7.4202, -7.2716, -5.9151, -6.818, -6.1844, -6.0325, -4.1759, -6.7422, -7.5144, -6.0967, -5.9777, -6.0385, -6.5791, -5.5041, -6.8894, -6.674, -6.6485, -6.0765, -5.4608, -5.1745, -5.2144, -6.2001, -5.855, -6.0324, -5.9869, -6.0037, -5.9831, -6.2383, -5.9955, -6.0406, -6.0681, -6.362, -6.0426, -6.1935, -6.241, -6.2764, -7.5473, -7.7219, -7.9954, -8.1081, -8.2603, -8.2873, -8.4094, -8.4243, -8.4274, -8.5192, -8.52, -8.5186, -8.5252, -8.5257, -8.5364, -8.6125, -8.6258, -8.0486, -6.728, -8.7358, -8.7481, -8.7485, -8.7511, -8.7529, -8.7679, -8.1884, -8.7738, -8.8609, -8.8667, -8.8676, -7.6501, -7.4821, -7.9376, -7.9273, -8.1845, -8.1199, -8.1889, -8.4262, -7.6225, -8.0724, -6.4409, -7.5952, -8.1431, -7.1086, -7.4928, -6.8211, -6.5551, -6.4672, -6.0282, -6.8268, -6.999, -5.7843, -6.1676, -7.4072, -5.4106, -5.4622, -7.0668, -5.9723, -6.5256, -7.0157, -6.2339, -5.4544, -5.4896, -6.7597, -5.8481, -5.3009, -6.3562, -6.1552, -5.646, -6.5672, -6.3724, -5.2962, -5.8167, -5.8766, -6.0572, -5.9506, -5.9745, -6.1421, -6.1744, -6.1038, -6.0576, -5.9754, -5.8231, -6.0604, -5.6464, -6.1066, -6.1376, -6.0646, -6.1656, -7.3778, -7.6381, -7.7969, -7.4469, -8.4137, -8.4561, -8.5252, -8.5183, -8.5413, -7.9907, -8.6393, -8.6531, -8.7599, -8.7661, -8.772, -8.7785, -8.7968, -7.8514, -7.8598, -8.8797, -7.7841, -8.8973, -8.898, -8.9, -8.9037, -8.9039, -8.9053, -8.9057, -8.9061, -8.9101, -7.4895, -7.5682, -6.8336, -8.1365, -8.0858, -7.7174, -7.9004, -8.4528, -8.4594, -8.4596, -6.9077, -7.2072, -7.3051, -6.0816, -6.9326, -8.2093, -7.7547, -6.8376, -5.2931, -6.4205, -7.279, -7.4416, -5.8219, -6.7288, -6.1046, -6.5297, -6.6717, -5.9761, -5.4545, -5.3258, -5.6028, -6.2746, -6.811, -5.2333, -6.4735, -5.603, -5.7938, -5.8927, -6.3478, -6.4567, -6.4769, -5.9115, -5.9233, -5.6778, -6.3391, -5.6789, -6.1611, -6.2364, -5.5084, -6.1435, -6.0159, -6.0577, -5.7917, -6.2187, -5.9966, -6.1408, -5.9302, -6.2017, -6.1716, -6.1836, -6.1462, -7.9508, -8.0014, -8.057, -8.1175, -8.1964, -8.2013, -8.2716, -8.3219, -8.4233, -8.4332, -8.4373, -8.4395, -8.5103, -8.5178, -8.5314, -8.5342, -8.5391, -7.6532, -8.6133, -8.621, -8.6322, -8.634, -8.6364, -8.6424, -8.6459, -7.6971, -8.6601, -7.0093, -8.7173, -8.7558, -7.4538, -8.0078, -7.8, -8.0629, -8.0657, -7.9068, -8.3413, -8.0515, -7.7137, -6.1565, -5.376, -7.3557, -7.3495, -7.3053, -6.6551, -7.3735, -6.4394, -6.5217, -7.3271, -7.1653, -6.1545, -6.0134, -6.0829, -6.8934, -5.9227, -6.4782, -5.6444, -6.9358, -6.4736, -5.8449, -6.3622, -5.4038, -6.036, -5.1137, -5.4306, -5.7469, -5.9003, -5.2143, -5.722, -6.5717, -6.6296, -5.155, -6.2695, -6.3601, -5.8353, -6.0123, -6.231, -6.187, -6.1064, -6.0619, -6.0856, -6.0199, -6.1671, -6.109, -6.1315, -6.208, -6.2622, -6.2584, -7.9901, -7.4652, -8.0556, -8.1192, -8.1906, -8.2934, -7.7675, -8.3739, -7.8155, -8.4484, -8.4628, -8.4687, -8.4689, -8.47, -8.4846, -8.5639, -8.5734, -8.5908, -8.0065, -8.6768, -8.6893, -8.6911, -8.6929, -8.1293, -8.0032, -8.0033, -8.8077, -8.8073, -8.7966, -8.8192, -7.8822, -7.0923, -6.1772, -7.8862, -7.7678, -8.2855, -6.3267, -7.7475, -6.2808, -7.0072, -6.812, -5.9836, -4.2022, -6.9076, -7.7311, -7.8333, -7.0964, -6.5844, -6.0272, -6.7847, -6.1864, -6.7317, -6.9687, -5.7523, -6.3043, -5.7911, -5.5772, -7.2422, -5.6902, -6.1107, -6.7922, -6.5308, -6.4703, -6.0602, -6.4674, -6.0215, -5.7546, -5.8822, -6.2072, -5.8137, -5.6034, -5.3901, -6.1969, -6.3147, -5.5761, -6.2728, -6.2417, -5.857, -6.3359, -5.6332, -5.9756, -6.1959, -6.1953, -6.2194, -6.1326, -6.2362, -6.2169, -7.5615, -7.8378, -7.9517, -8.0088, -8.1436, -7.6958, -8.2843, -8.2805, -8.357, -8.3776, -8.3836, -8.3947, -8.4785, -8.4744, -8.4905, -8.4999, -7.8555, -8.586, -8.5893, -8.5954, -8.5956, -8.6669, -8.6961, -8.6995, -8.7072, -8.7086, -8.7133, -8.7134, -8.7147, -7.0614, -7.5005, -7.5174, -7.6113, -8.0058, -6.8922, -8.2934, -8.3175, -8.2437, -8.1883, -7.7762, -7.9455, -6.991, -7.2496, -5.9059, -5.2775, -5.5792, -7.2274, -7.0419, -7.3326, -7.4646, -6.7059, -6.917, -5.1741, -5.5101, -6.8716, -7.5335, -5.8972, -5.562, -6.7279, -6.6857, -6.3294, -5.9655, -6.4888, -6.3085, -5.79, -5.4218, -6.0048, -5.2115, -5.1929, -6.2442, -5.9892, -5.0874, -5.5462, -5.7274, -5.7715, -5.8505, -5.9839, -5.6712, -6.282, -5.9692, -6.2625, -6.1843, -6.1408, -6.188, -6.1426, -6.1148, -6.2741, -7.4189, -7.8949, -8.0076, -8.1087, -8.2037, -8.3289, -8.363, -8.3696, -8.4754, -8.4777, -8.4785, -8.4785, -8.4587, -8.4754, -8.4969, -8.557, -8.5706, -8.5784, -8.5841, -8.5938, -8.5942, -8.5976, -8.6897, -8.6969, -8.7004, -8.7024, -7.4944, -8.8068, -8.8082, -8.8212, -8.3745, -7.7258, -8.3831, -7.7897, -7.6496, -8.103, -7.7438, -6.8565, -7.4584, -7.7064, -7.3602, -7.6878, -7.2859, -6.6605, -5.9462, -5.4418, -6.6673, -6.7971, -7.7627, -7.3963, -7.9256, -7.6949, -7.4571, -4.3346, -7.5508, -5.4777, -7.5745, -5.5076, -6.6644, -6.2626, -5.719, -7.1497, -6.2943, -6.8378, -5.0718, -6.2166, -5.1006, -6.6698, -6.5712, -6.5251, -5.7206, -5.8581, -6.6545, -6.1695, -6.1466, -6.0953, -5.8748, -6.1833, -6.1208, -5.5671, -6.247, -6.2964, -6.1207, -6.0579, -5.8547, -6.2431, -6.2868, -6.2565, -6.0666, -6.1823, -6.2279], \"loglift\": [30.0, 29.0, 28.0, 27.0, 26.0, 25.0, 24.0, 23.0, 22.0, 21.0, 20.0, 19.0, 18.0, 17.0, 16.0, 15.0, 14.0, 13.0, 12.0, 11.0, 10.0, 9.0, 8.0, 7.0, 6.0, 5.0, 4.0, 3.0, 2.0, 1.0, 2.1899, 2.1856, 2.16, 2.152, 2.1497, 2.1303, 2.1295, 2.12, 2.1134, 2.1124, 2.1114, 2.1103, 2.1089, 2.1084, 2.1038, 2.1024, 2.1015, 2.0909, 2.0899, 2.0897, 2.0896, 2.0895, 2.0895, 2.0895, 2.0891, 2.089, 2.089, 2.0888, 2.0793, 2.0751, 2.0585, 2.0307, 2.0264, 2.0496, 1.8319, 1.9673, 1.8101, 2.0074, 1.521, 1.7761, 1.3687, 1.5077, 1.2693, 1.5206, 1.1829, 1.626, 1.3952, 1.7857, 1.2521, 1.8335, 0.7974, 1.4332, 1.5613, 0.7018, 1.387, 1.3312, 1.2158, 1.3465, 0.9545, 0.9507, 0.5407, 0.983, 0.6992, 0.8664, 0.8105, 0.7633, 0.1766, 1.0493, 1.0004, 0.7367, -0.0395, 0.4223, -0.1038, 0.4381, 0.4475, 0.3478, 0.5495, 0.5706, -0.6109, -0.0679, 0.0475, 0.6643, 0.5637, 0.3977, 0.3316, 2.1953, 2.1927, 2.1904, 2.1793, 2.161, 2.1584, 2.1536, 2.1516, 2.1513, 2.1462, 2.146, 2.145, 2.1444, 2.1367, 2.1362, 2.1362, 2.1361, 2.1351, 2.1259, 2.1247, 2.1179, 2.1124, 2.1124, 2.1122, 2.1121, 2.112, 2.1116, 2.1115, 2.1111, 2.1111, 2.1073, 2.0958, 2.0697, 2.0884, 2.0523, 2.085, 1.9816, 1.9509, 2.0286, 2.0222, 1.9621, 1.951, 1.3389, 1.8293, 1.955, 1.9413, 1.4525, 1.4625, 1.3767, 0.8636, 0.8422, 1.7956, 0.6194, 1.4225, 1.6151, 0.9322, 1.4721, 0.7873, 1.2886, 1.2379, 1.4172, 1.3942, 1.1481, 0.9118, 1.5336, 1.2577, 1.1244, 1.0103, 0.8424, 0.7549, 0.7018, 1.138, 0.8292, 0.9092, 0.4399, 0.5867, 0.4226, 0.8183, -0.0736, 1.0401, 0.5167, 0.7297, -0.3277, -0.0051, 0.1622, -0.0403, -0.7119, 2.2366, 2.2366, 2.2232, 2.2131, 2.2091, 2.209, 2.1844, 2.1765, 2.176, 2.1755, 2.1676, 2.1674, 2.1585, 2.1572, 2.1501, 2.146, 2.1444, 2.1436, 2.1306, 2.1298, 2.1296, 2.1295, 2.1291, 2.1291, 2.1289, 2.1283, 2.1264, 2.1156, 2.1145, 2.1138, 2.1089, 2.1045, 2.0838, 2.0932, 2.1036, 2.103, 2.0428, 2.051, 1.994, 2.0169, 2.0656, 1.872, 1.8162, 1.9867, 1.3989, 1.6404, 1.9412, 1.707, 1.1295, 1.9485, 1.262, 1.7725, 1.1734, 1.1551, 1.2543, 0.9503, 1.6926, 0.7688, 0.8537, 1.623, 1.0248, 1.284, 1.4096, 0.9872, 1.2254, 1.0326, 1.0593, 1.3933, -0.0332, 0.748, 0.6597, 0.1634, 1.0068, 0.9267, 0.8764, 0.71, 0.6334, 0.4119, 0.9048, 0.5155, 0.4826, -0.3176, 0.684, -0.4167, -0.0823, 0.2733, 0.5045, 0.5439, 0.3993, -0.0067, 2.2457, 2.2227, 2.222, 2.2186, 2.2159, 2.1994, 2.1915, 2.1898, 2.1844, 2.1792, 2.178, 2.1774, 2.1762, 2.1662, 2.1657, 2.1646, 2.1636, 2.163, 2.1629, 2.1629, 2.1623, 2.1621, 2.162, 2.1619, 2.161, 2.1458, 2.145, 2.1444, 2.1441, 2.1435, 2.1395, 2.1355, 2.1231, 2.1222, 2.086, 1.941, 2.0704, 1.9248, 2.0048, 1.7695, 1.571, 2.0524, 1.7948, 1.6692, 1.4482, 2.0113, 1.2598, 1.8838, 1.8161, 1.4004, 1.6637, 1.4577, 1.4068, 0.6806, 1.5838, 1.8683, 1.131, 1.0657, 1.0426, 1.3225, 0.6891, 1.4735, 1.3285, 1.3061, 0.81, 0.3205, 0.0315, 0.0476, 0.8638, 0.5533, 0.6969, 0.5855, 0.4832, 0.2916, 0.6269, 0.204, 0.2652, 0.1039, 0.7231, -0.2817, 0.1464, 0.2638, 0.3746, 2.261, 2.2537, 2.2372, 2.2291, 2.2168, 2.2144, 2.2025, 2.2014, 2.2011, 2.1915, 2.1914, 2.1911, 2.1908, 2.1907, 2.1896, 2.1808, 2.1792, 2.1786, 2.1754, 2.1652, 2.1636, 2.1636, 2.1632, 2.1629, 2.1609, 2.1607, 2.1528, 2.1477, 2.1468, 2.1467, 2.1374, 2.1169, 2.1002, 2.0987, 2.1031, 2.0955, 2.0991, 2.125, 2.0143, 2.071, 1.8205, 1.9887, 2.0815, 1.848, 1.8967, 1.6153, 1.5199, 1.4718, 1.2845, 1.5768, 1.6381, 1.1281, 1.2659, 1.7722, 0.9005, 0.8724, 1.6178, 1.0916, 1.3174, 1.5655, 1.1443, 0.6664, 0.6803, 1.4176, 0.8545, 0.46, 1.1061, 0.9377, 0.5536, 1.2251, 1.0675, 0.1521, 0.5916, 0.6238, 0.7493, 0.61, 0.5767, 0.7503, 0.721, 0.6225, 0.5153, 0.3806, -0.0419, 0.4264, -0.7898, 0.4249, 0.5047, 0.2397, 0.541, 2.2758, 2.2645, 2.2554, 2.2098, 2.2086, 2.2042, 2.1965, 2.1952, 2.1949, 2.1847, 2.1834, 2.1817, 2.1677, 2.1669, 2.1661, 2.1652, 2.1626, 2.1594, 2.1594, 2.1504, 2.1483, 2.1478, 2.1477, 2.1474, 2.1468, 2.1468, 2.1466, 2.1465, 2.1464, 2.1458, 2.1345, 2.1213, 2.099, 2.1269, 2.121, 2.1037, 2.1087, 2.1251, 2.1252, 2.1252, 2.019, 2.0297, 2.0303, 1.9158, 1.9899, 2.097, 2.031, 1.8729, 1.5631, 1.7291, 1.8921, 1.9257, 1.5164, 1.6973, 1.4911, 1.5882, 1.6152, 1.3289, 1.1061, 1.0301, 1.1459, 1.4006, 1.6477, 0.8526, 1.4401, 0.9372, 0.9049, 0.8729, 1.1996, 1.2577, 1.2737, 0.7395, 0.6492, 0.3177, 1.0432, 0.082, 0.7313, 0.8274, -0.6519, 0.5782, 0.2588, 0.2534, -0.5856, 0.4879, -0.2773, 0.1827, -0.6682, 0.3711, 0.1343, -0.0138, -0.6979, 2.2557, 2.2523, 2.2483, 2.2438, 2.2374, 2.237, 2.2309, 2.2255, 2.2154, 2.2154, 2.2149, 2.2147, 2.2065, 2.205, 2.2047, 2.2044, 2.2039, 2.1956, 2.1952, 2.1942, 2.1928, 2.1926, 2.1923, 2.1916, 2.1911, 2.1897, 2.1894, 2.1829, 2.1813, 2.1767, 2.1737, 2.1475, 2.1308, 2.1336, 2.1324, 2.1147, 2.1517, 2.0868, 2.0024, 1.6599, 1.4182, 1.9123, 1.8787, 1.855, 1.6607, 1.8695, 1.5821, 1.5917, 1.8418, 1.7219, 1.2854, 1.1479, 1.159, 1.5488, 1.0151, 1.3117, 0.831, 1.4695, 1.1619, 0.7134, 1.0636, 0.3775, 0.8232, 0.0924, 0.3303, 0.5589, 0.6725, 0.0477, 0.45, 1.1317, 1.1834, -0.2985, 0.8158, 0.8949, 0.3346, 0.4925, 0.6864, 0.5817, 0.4541, 0.278, 0.1891, -0.0243, 0.3299, 0.0118, -0.0455, 0.3262, 0.3103, -0.5392, 2.2589, 2.2547, 2.2542, 2.2494, 2.2437, 2.2348, 2.2283, 2.2271, 2.224, 2.2196, 2.2181, 2.2175, 2.2174, 2.2173, 2.2157, 2.2069, 2.2058, 2.2037, 2.196, 2.1928, 2.1915, 2.1912, 2.191, 2.1888, 2.1849, 2.1849, 2.1753, 2.1748, 2.1743, 2.1736, 2.1692, 2.1539, 2.1345, 2.1587, 2.1426, 2.1662, 1.968, 2.0624, 1.8256, 1.9386, 1.891, 1.6921, 1.2461, 1.8414, 2.0396, 2.0573, 1.8378, 1.6577, 1.4662, 1.715, 1.4346, 1.5475, 1.6304, 0.9694, 1.2584, 0.934, 0.7996, 1.7391, 0.7181, 0.9537, 1.4079, 1.215, 1.1599, 0.848, 1.1517, 0.7848, 0.5497, 0.6494, 0.8781, 0.3859, 0.1159, -0.184, 0.8041, 0.9222, -0.3141, 0.7864, 0.7152, -0.0961, 0.8826, -0.7767, -0.1944, 0.4628, 0.4469, 0.4578, -0.1783, 0.3221, -0.047, 2.2926, 2.2773, 2.2706, 2.2667, 2.2565, 2.2458, 2.2444, 2.2421, 2.2371, 2.2355, 2.2349, 2.2338, 2.225, 2.2248, 2.2237, 2.2227, 2.2192, 2.2127, 2.2123, 2.2116, 2.2116, 2.1997, 2.1989, 2.1984, 2.1974, 2.1972, 2.1966, 2.1966, 2.1964, 2.1906, 2.1756, 2.1629, 2.1462, 2.159, 2.0879, 2.1732, 2.1698, 2.1617, 2.1556, 2.0979, 2.111, 1.9126, 1.959, 1.5582, 1.3754, 1.3766, 1.8562, 1.7955, 1.8564, 1.8951, 1.6108, 1.6851, 0.9468, 1.041, 1.5951, 1.894, 1.1038, 0.9134, 1.5108, 1.445, 1.2004, 0.9468, 1.2449, 1.0854, 0.707, 0.3391, 0.7578, 0.0505, 0.0132, 0.9444, 0.6913, -0.2309, 0.1731, 0.3586, 0.3984, 0.4731, 0.5504, 0.11, 0.8905, 0.335, 0.6944, 0.374, 0.236, 0.3436, 0.192, -0.6665, -0.0809, 2.329, 2.304, 2.2961, 2.2869, 2.2792, 2.2687, 2.2654, 2.2641, 2.2534, 2.2531, 2.253, 2.253, 2.253, 2.2526, 2.2509, 2.2428, 2.2419, 2.2413, 2.2406, 2.2394, 2.2393, 2.2389, 2.2269, 2.226, 2.2255, 2.2252, 2.2211, 2.2098, 2.2095, 2.2074, 2.1873, 2.1523, 2.1847, 2.1433, 2.1283, 2.1566, 2.1063, 1.9585, 2.0441, 2.0705, 1.9943, 2.0566, 1.9713, 1.8079, 1.594, 1.4447, 1.7443, 1.7181, 2.0221, 1.8822, 2.0574, 1.9461, 1.8475, 0.522, 1.8813, 0.8569, 1.8802, 0.7983, 1.3973, 1.1663, 0.8534, 1.6464, 1.1066, 1.4487, 0.1902, 0.9633, 0.1054, 1.2658, 1.1546, 1.1097, 0.4003, 0.4818, 1.2026, 0.6927, 0.6294, 0.5731, 0.2972, 0.6508, 0.5646, -0.1187, 0.6611, 0.6998, 0.4305, 0.298, -0.0938, 0.5842, 0.5316, 0.3518, -0.2854, -0.0124, -0.2737]}, \"token.table\": {\"Topic\": [10, 1, 2, 3, 4, 5, 6, 7, 8, 9, 10, 1, 10, 1, 2, 3, 4, 5, 6, 7, 8, 9, 10, 8, 9, 5, 1, 2, 4, 5, 6, 7, 8, 10, 4, 6, 8, 1, 2, 3, 4, 5, 6, 7, 8, 9, 10, 1, 6, 7, 9, 9, 7, 7, 1, 2, 3, 4, 5, 6, 7, 8, 9, 10, 1, 2, 3, 4, 5, 6, 7, 8, 9, 10, 1, 2, 3, 4, 5, 6, 7, 8, 9, 10, 1, 4, 8, 1, 2, 3, 5, 6, 7, 8, 9, 10, 3, 7, 9, 1, 2, 3, 4, 5, 6, 7, 8, 1, 2, 3, 5, 6, 8, 2, 9, 1, 2, 3, 4, 7, 8, 10, 3, 3, 5, 2, 4, 5, 8, 9, 10, 5, 10, 9, 8, 5, 1, 2, 3, 4, 5, 6, 7, 8, 9, 10, 1, 2, 3, 4, 5, 6, 7, 8, 9, 10, 3, 9, 10, 1, 1, 6, 7, 8, 10, 5, 4, 5, 8, 5, 1, 2, 3, 4, 5, 6, 7, 8, 9, 10, 3, 4, 1, 3, 4, 5, 6, 7, 10, 1, 10, 1, 2, 3, 4, 6, 7, 8, 9, 10, 4, 2, 7, 8, 1, 2, 3, 4, 5, 6, 7, 8, 9, 10, 1, 2, 3, 4, 5, 6, 7, 8, 9, 10, 2, 6, 7, 9, 3, 5, 7, 1, 2, 3, 4, 5, 6, 7, 8, 9, 10, 2, 6, 8, 9, 10, 1, 2, 3, 4, 5, 6, 7, 8, 9, 10, 1, 2, 3, 4, 5, 6, 7, 8, 9, 10, 2, 3, 5, 6, 8, 9, 10, 5, 8, 3, 1, 2, 3, 4, 5, 6, 7, 8, 9, 10, 10, 2, 1, 4, 2, 3, 7, 10, 4, 6, 1, 2, 3, 4, 5, 6, 8, 9, 10, 2, 8, 9, 6, 1, 2, 9, 7, 3, 1, 2, 3, 4, 5, 6, 7, 8, 9, 10, 2, 6, 9, 1, 2, 3, 4, 5, 6, 7, 8, 9, 1, 1, 2, 3, 4, 5, 6, 7, 8, 9, 10, 4, 7, 1, 2, 3, 4, 5, 6, 8, 9, 10, 1, 2, 3, 4, 5, 6, 7, 8, 9, 10, 4, 1, 2, 3, 4, 5, 6, 7, 8, 9, 10, 3, 6, 2, 2, 1, 1, 2, 3, 4, 5, 6, 7, 8, 9, 10, 1, 2, 3, 4, 5, 6, 7, 8, 9, 10, 1, 2, 3, 4, 5, 6, 7, 8, 9, 10, 5, 1, 2, 3, 4, 5, 6, 7, 8, 9, 10, 1, 2, 3, 4, 5, 6, 8, 9, 10, 1, 2, 3, 4, 5, 6, 7, 8, 9, 10, 2, 1, 2, 3, 4, 5, 6, 7, 8, 9, 10, 7, 9, 1, 2, 3, 5, 6, 7, 8, 9, 10, 1, 2, 3, 4, 6, 7, 8, 9, 10, 1, 3, 4, 5, 6, 7, 8, 9, 10, 1, 2, 3, 4, 5, 6, 7, 8, 9, 10, 2, 3, 3, 4, 6, 7, 9, 10, 10, 1, 2, 3, 4, 5, 6, 7, 8, 9, 10, 1, 2, 3, 4, 5, 6, 7, 8, 9, 10, 1, 2, 3, 4, 5, 6, 7, 8, 9, 10, 9, 10, 1, 2, 3, 4, 5, 6, 7, 8, 9, 10, 6, 6, 10, 1, 2, 4, 6, 7, 8, 10, 5, 1, 2, 3, 4, 5, 6, 7, 8, 9, 10, 1, 2, 3, 5, 8, 9, 10, 1, 2, 3, 4, 5, 6, 7, 8, 9, 10, 7, 2, 6, 10, 1, 2, 3, 4, 5, 6, 7, 8, 9, 10, 1, 2, 3, 4, 5, 6, 7, 8, 9, 10, 7, 9, 1, 2, 3, 4, 5, 6, 7, 8, 9, 10, 1, 4, 5, 6, 7, 9, 10, 1, 5, 7, 9, 8, 10, 6, 1, 2, 3, 4, 5, 6, 7, 8, 9, 10, 1, 2, 3, 4, 5, 6, 7, 8, 9, 10, 1, 2, 3, 4, 6, 8, 9, 10, 1, 2, 3, 4, 5, 6, 9, 10, 8, 2, 5, 6, 7, 10, 1, 3, 10, 7, 3, 6, 8, 9, 10, 2, 7, 2, 3, 4, 5, 1, 2, 3, 4, 5, 6, 7, 8, 9, 10, 1, 2, 3, 4, 5, 6, 7, 8, 9, 10, 1, 2, 3, 4, 5, 6, 8, 9, 10, 2, 7, 10, 1, 2, 3, 4, 5, 6, 7, 8, 9, 10, 2, 3, 5, 6, 9, 3, 6, 7, 10, 3, 3, 8, 1, 2, 3, 4, 5, 6, 7, 8, 9, 10, 1, 2, 3, 4, 5, 6, 7, 8, 9, 10, 3, 4, 9, 1, 2, 3, 4, 5, 6, 7, 8, 9, 10, 1, 2, 3, 4, 5, 6, 7, 8, 9, 10, 1, 2, 3, 4, 5, 6, 7, 8, 9, 10, 1, 2, 3, 4, 5, 6, 7, 8, 9, 10, 6, 7, 1, 7, 1, 6, 10, 9, 9, 1, 2, 3, 4, 5, 6, 7, 8, 9, 10, 2, 7, 2, 4, 1, 2, 2, 6, 8, 9, 1, 2, 4, 5, 6, 9, 10, 2, 3, 5, 10, 3, 6, 4, 9, 2, 2, 6, 8, 10, 1, 1, 3, 10, 8, 8, 1, 7, 10, 4, 10, 4, 1, 2, 3, 5, 6, 7, 10, 7, 5, 1, 3, 4, 5, 6, 7, 8, 9, 10, 5, 2, 6, 7, 8, 10, 8, 8, 10, 9, 1, 6, 7, 9, 1, 3, 9, 10, 1, 2, 3, 4, 5, 6, 7, 8, 9, 10, 1, 2, 3, 4, 5, 6, 7, 8, 9, 10, 1, 2, 3, 4, 5, 6, 7, 8, 9, 10, 5, 7, 4, 7, 10, 1, 2, 3, 4, 5, 6, 7, 8, 9, 10, 9, 9, 1, 2, 3, 5, 8, 9, 10, 1, 2, 3, 4, 5, 6, 7, 8, 9, 10, 7, 6, 7, 1, 2, 6, 7, 7, 1, 2, 3, 4, 5, 6, 7, 8, 9, 10, 7, 1, 4, 9, 1, 2, 2, 7, 10, 8, 9, 9, 2, 1, 2, 3, 4, 5, 6, 7, 8, 9, 10, 2, 3, 1, 2, 3, 4, 5, 6, 7, 8, 9, 10, 3, 7, 1, 2, 3, 4, 5, 6, 7, 8, 9, 10, 1, 2, 3, 4, 5, 6, 7, 8, 9, 10, 7, 2, 3, 9, 9, 10, 6, 5, 9, 1, 8, 1, 3, 4, 5, 6, 7, 8, 9, 10, 6, 1, 6, 7, 9, 10, 1, 2, 3, 4, 5, 6, 7, 8, 9, 10, 1, 2, 3, 4, 6, 7, 10, 8, 1, 2, 3, 4, 5, 6, 7, 8, 9, 10, 1, 2, 3, 4, 5, 6, 7, 8, 9, 10, 1, 2, 4, 6, 10, 1, 2, 3, 4, 5, 6, 7, 8, 9, 10, 6, 1, 2, 3, 4, 5, 6, 7, 8, 9, 10, 1, 6, 7, 3, 3, 8, 1, 2, 3, 4, 5, 6, 7, 8, 9, 10, 1, 2, 3, 4, 5, 6, 7, 8, 9, 10, 10, 1, 2, 3, 4, 5, 6, 7, 8, 9, 10, 1, 2, 3, 4, 5, 6, 7, 8, 9, 10, 1, 2, 3, 4, 5, 6, 7, 8, 9, 10, 1, 2, 3, 4, 5, 6, 7, 8, 9, 10, 5, 6, 4, 5, 1, 1, 4, 1, 2, 3, 4, 5, 6, 7, 8, 9, 10, 1, 1, 2, 3, 4, 5, 6, 7, 8, 9, 10, 1, 2, 3, 4, 5, 6, 7, 8, 9, 10, 3, 10, 2, 1, 2, 4, 6, 7, 8, 9, 10, 1, 6, 1, 2, 3, 4, 5, 6, 7, 8, 9, 10, 3, 9, 6, 8, 9, 10, 3, 1, 4, 6, 1, 2, 7, 8, 9, 10, 2, 9, 1, 1, 2, 5, 6, 7, 9, 10, 5, 1, 2, 3, 4, 5, 6, 7, 8, 9, 10, 1, 2, 3, 4, 5, 6, 7, 8, 9, 10, 1, 2, 3, 4, 5, 6, 7, 8, 9, 10, 3, 6, 1, 2, 3, 4, 5, 6, 7, 8, 9, 10, 4, 1, 2, 3, 4, 5, 6, 7, 8, 9, 10, 6, 5, 6, 7, 10, 1, 2, 7, 1, 2, 3, 4, 5, 6, 7, 8, 9, 10, 3, 6, 1, 2, 3, 4, 5, 6, 7, 8, 9, 10, 9, 1, 2, 3, 4, 5, 6, 7, 8, 9, 10, 1, 2, 3, 4, 5, 6, 7, 8, 9, 10, 1, 2, 4, 5, 6, 8, 10, 1, 2, 3, 4, 5, 6, 7, 8, 9, 10, 4, 8, 3, 7, 1, 6, 4, 5, 7, 1, 4, 7, 10, 6, 7, 9, 10, 1, 8, 1, 2, 3, 4, 5, 6, 7, 8, 9, 10, 1, 3, 4, 6, 8, 10, 10, 7, 9, 3, 2, 5, 1, 6, 8, 2, 4, 6, 7, 9, 1, 5, 2, 5, 7, 8, 9, 10, 1, 2, 3, 4, 5, 6, 7, 8, 9, 10, 1, 2, 3, 4, 5, 6, 7, 8, 9, 10, 1, 2, 3, 4, 5, 6, 7, 8, 9, 10, 1, 2, 3, 4, 6, 8, 9, 10, 10, 2, 3, 9, 2, 9, 1, 2, 3, 4, 5, 6, 7, 9, 10, 1, 5, 7, 8, 9, 10, 1, 3, 4, 5, 6, 7, 8, 9, 10, 10, 9, 6, 7, 8, 5, 1, 2, 3, 4, 5, 6, 7, 9, 10, 7, 9, 2, 3, 4, 5, 6, 7, 8, 9, 10, 2, 4, 6, 10, 9, 1, 2, 3, 4, 5, 6, 7, 8, 9, 10, 1, 2, 4, 7, 8, 10, 1, 2, 3, 4, 5, 6, 7, 8, 9, 10, 1, 3, 4, 5, 7, 8, 9, 10, 2, 3, 5, 3, 8, 4, 5, 10, 4, 1, 2, 3, 4, 5, 6, 7, 8, 9, 10, 3, 4, 5, 7, 3, 8, 10, 1, 2, 3, 4, 5, 6, 7, 8, 9, 10, 1, 2, 3, 4, 5, 6, 7, 8, 9, 10, 1, 2, 3, 4, 6, 7, 8, 9, 10, 4, 5, 7, 8, 1, 2, 3, 4, 5, 6, 7, 8, 9, 10, 1, 2, 3, 4, 5, 6, 7, 8, 9, 10, 1, 2, 3, 4, 5, 6, 7, 8, 9, 10, 5, 1, 3, 4, 5, 6, 7, 8, 9, 10, 1, 2, 3, 4, 5, 6, 7, 8, 9, 10, 9, 1, 2, 3, 4, 5, 6, 7, 8, 9, 1, 2, 3, 4, 5, 6, 7, 8, 9, 10, 6, 9, 10, 7, 1, 2, 3, 4, 5, 6, 7, 8, 9, 10, 1, 3, 4, 6, 7, 8, 9, 8, 10, 1, 3, 8, 10, 8, 6, 7, 3, 1, 2, 3, 4, 5, 6, 7, 8, 9, 10, 1, 2, 4, 9, 1, 1, 3, 4, 7, 8, 9, 10, 1, 2, 3, 4, 5, 7, 8, 9, 10, 1, 2, 3, 4, 5, 6, 7, 8, 9, 10, 1, 2, 3, 4, 5, 6, 7, 8, 9, 10, 1, 4, 5, 6, 7, 8, 1, 2, 3, 4, 5, 6, 7, 8, 9, 10, 7, 2, 10, 4, 1, 2, 3, 4, 5, 6, 7, 8, 9, 10, 9, 1, 2, 3, 4, 5, 6, 7, 8, 9, 10, 1, 2, 3, 4, 5, 6, 7, 8, 9, 10, 3, 4, 5, 6, 7, 9, 10, 1, 2, 3, 4, 5, 6, 7, 8, 9, 10, 3, 1, 2, 3, 4, 5, 6, 7, 8, 9, 10, 3, 2, 8, 8, 10, 9, 6, 1, 3, 5, 6, 7, 8, 10, 7, 4, 9, 1, 3, 4, 5, 6, 7, 8, 9, 10, 1, 2, 3, 4, 5, 6, 7, 8, 9, 10, 1, 2, 3, 4, 5, 6, 7, 8, 9, 5, 3, 5, 6, 7, 5, 6, 9, 10, 2, 5, 6, 1, 2, 3, 4, 5, 6, 8, 9, 10, 1, 2, 3, 5, 6, 7, 8, 9, 10, 2, 3, 4, 5, 6, 7, 8, 9, 10, 2, 3, 5, 7, 9, 10, 8, 1, 5, 6, 8, 9, 10, 2, 7, 9, 10, 4, 1, 2, 3, 4, 5, 6, 7, 8, 9, 10, 1, 2, 3, 4, 5, 6, 7, 8, 9, 10, 1, 2, 3, 5, 6, 7, 8, 9, 10, 1, 2, 3, 4, 5, 6, 7, 8, 9, 10, 1, 2, 3, 4, 5, 6, 7, 8, 9, 10, 4, 7, 4, 1, 2, 3, 4, 5, 6, 7, 8, 9, 10, 5, 8, 1, 2, 4, 8, 1, 2, 3, 4, 5, 6, 7, 9, 10, 1, 2, 3, 4, 5, 6, 7, 8, 9, 10, 1, 2, 3, 4, 5, 6, 7, 8, 9, 10, 1, 2, 3, 4, 5, 6, 7, 8, 9, 10, 3, 1, 2, 3, 4, 5, 6, 7, 8, 9, 10, 1, 2, 3, 4, 5, 6, 7, 8, 9, 10, 1, 2, 3, 4, 5, 6, 7, 8, 9, 10, 2, 5, 1, 2, 3, 4, 5, 6, 7, 8, 9, 10, 3, 3, 6, 4, 5, 10, 2, 1, 2, 3, 4, 5, 6, 7, 8, 9, 10, 1, 2, 3, 7, 8, 1, 2, 10, 1, 2, 3, 4, 7, 8, 9, 10, 1, 2, 3, 4, 5, 6, 7, 8, 9, 10, 3, 5, 1, 2, 3, 4, 5, 6, 7, 8, 9, 10, 4, 5, 6, 7, 8, 9, 1, 2, 3, 6, 10, 2, 4, 1, 3, 4, 5, 6, 8, 9, 10, 1, 3, 4, 5, 7, 8, 9, 10, 3, 4, 1, 5, 6, 4, 8, 1, 2, 3, 4, 5, 6, 7, 8, 9, 10, 1, 2, 3, 4, 5, 6, 7, 8, 9, 10, 1, 2, 3, 4, 6, 7, 8, 9, 10, 1, 3, 4, 6, 7, 9, 4, 7, 7, 9, 1, 2, 3, 4, 5, 6, 7, 8, 9, 10, 1, 2, 3, 4, 5, 6, 7, 8, 9, 10, 1, 2, 3, 4, 5, 6, 7, 8, 9, 10, 1, 2, 3, 4, 5, 6, 7, 8, 9, 10, 2, 6, 1, 2, 3, 4, 5, 6, 7, 8, 9, 10, 3, 5, 7, 1, 2, 3, 4, 5, 6, 7, 8, 9, 10, 2, 4, 5, 10, 7, 1, 2, 3, 4, 5, 6, 7, 8, 9, 10, 4, 8, 1, 2, 3, 4, 5, 6, 7, 8, 9, 10, 1, 2, 3, 4, 5, 6, 7, 8, 9, 10, 2, 3, 5, 6, 8, 9, 8, 1, 2, 3, 4, 5, 6, 7, 8, 9, 10, 1, 2, 3, 4, 5, 6, 7, 8, 9, 10, 3, 10, 1, 2, 3, 4, 5, 6, 7, 8, 9, 1, 2, 4, 5, 6, 7, 8, 9, 10, 1, 2, 3, 4, 5, 6, 7, 8, 9, 10, 1, 2, 3, 8, 1, 2, 3, 4, 5, 6, 7, 8, 9, 10, 3, 4, 6, 5, 3, 1, 1, 2, 3, 4, 5, 6, 7, 8, 9, 10, 5, 1, 6, 1, 2, 3, 4, 5, 6, 7, 8, 9, 10, 1, 10, 10, 1, 2, 3, 4, 5, 6, 7, 8, 9, 10, 1, 2, 3, 4, 5, 6, 7, 8, 9, 10, 1, 2, 3, 4, 5, 6, 7, 8, 9, 10, 1, 2, 3, 4, 5, 6, 7, 8, 9, 10, 1, 2, 3, 4, 5, 6, 7, 8, 9, 10, 1, 2, 3, 4, 5, 6, 7, 8, 9, 10, 9, 10, 1, 2, 3, 5, 6, 7, 8, 10, 4, 7, 4, 1, 2, 6, 8, 10, 1, 1, 6, 7, 9, 1, 5, 4, 2, 5, 6, 1, 1, 2, 3, 4, 5, 7, 9, 10, 8, 1, 2, 3, 4, 5, 6, 7, 8, 9, 10, 10, 1, 2, 4, 7, 9, 3, 2, 2, 7, 1, 2, 3, 4, 5, 6, 7, 8, 9, 10, 1, 2, 3, 4, 5, 6, 7, 8, 9, 1, 2, 3, 4, 5, 6, 7, 8, 9, 10, 5, 10, 1, 2, 3, 4, 5, 6, 7, 8, 9, 10, 3, 1, 2, 3, 4, 5, 6, 7, 8, 9, 10, 1, 2, 3, 4, 5, 6, 7, 8, 9, 10, 7, 3, 8, 10, 10, 1, 5, 2, 5, 9, 1, 2, 3, 4, 5, 6, 7, 8, 9, 10, 3, 7, 8, 2, 2, 1, 2, 3, 4, 5, 6, 7, 8, 9, 10, 6, 3, 2, 1, 2, 3, 4, 5, 6, 7, 8, 9, 10, 8, 1, 2, 3, 4, 5, 6, 7, 8, 9, 10, 1, 2, 3, 5, 6, 7, 8, 9, 10, 1, 2, 3, 4, 5, 6, 7, 8, 9, 10, 1, 2, 3, 4, 5, 6, 7, 8, 9, 10, 9, 1, 6, 8, 10, 4, 2, 5, 10, 1, 2, 3, 4, 6, 7, 8, 9, 10, 1, 2, 6, 7, 1, 2, 3, 4, 5, 6, 7, 8, 9, 10, 4, 10, 7, 2, 5, 9, 10, 8, 1, 2, 3, 4, 5, 6, 7, 8, 9, 10, 4, 5, 6, 6, 7, 10, 5, 6, 1, 2, 3, 4, 6, 7, 8, 9, 10, 1, 6, 1, 2, 3, 4, 5, 6, 7, 8, 9, 10, 3, 5, 6, 7, 9, 10, 1, 3, 5, 6, 7, 8, 9, 10, 2, 3, 5, 1, 2, 3, 4, 5, 6, 7, 8, 9, 10, 1, 2, 3, 4, 5, 6, 7, 8, 9, 10, 6, 1, 2, 3, 4, 6, 7, 8, 9, 10, 1, 2, 3, 4, 5, 6, 7, 8, 9, 10, 1, 2, 3, 4, 5, 6, 7, 8, 9, 10, 1, 2, 4, 5, 6, 7, 8, 9, 10, 1, 6, 8, 1, 5, 8, 1, 2, 3, 4, 5, 6, 7, 8, 9, 10, 1, 2, 3, 4, 5, 6, 7, 8, 9, 10, 1, 2, 3, 4, 5, 6, 7, 8, 9, 10, 4, 1, 5, 9, 3, 7, 10, 1, 2, 3, 4, 5, 6, 7, 8, 9, 10, 5, 6, 8, 9, 10, 1, 2, 3, 4, 5, 6, 8, 9, 10, 3, 1, 2, 3, 4, 5, 6, 7, 8, 9, 10, 1, 10, 3, 7, 1, 2, 3, 4, 5, 6, 7, 8, 8, 1, 2, 4, 6, 7, 9, 1, 2, 3, 4, 5, 6, 7, 8, 9, 10, 1, 2, 3, 4, 5, 6, 7, 8, 9, 10, 1, 2, 3, 4, 5, 6, 7, 8, 9, 10, 1, 2, 3, 4, 5, 6, 7, 8, 9, 10, 1, 2, 3, 4, 5, 6, 7, 8, 9, 10, 5, 2, 3, 4, 5, 6, 7, 8, 9, 10, 1, 3, 5, 6, 7, 8, 10, 1, 2, 3, 4, 5, 6, 7, 8, 9, 10, 1, 2, 3, 4, 5, 6, 7, 8, 9, 10, 8, 3, 2, 5, 7, 10, 5, 1, 2, 3, 4, 5, 6, 7, 8, 9, 10, 1, 2, 3, 4, 6, 7, 8, 10, 5, 7, 6, 1, 2, 3, 4, 5, 6, 7, 8, 9, 10, 1, 2, 9, 10, 10, 1, 2, 3, 4, 5, 6, 7, 8, 9, 10, 1, 2, 3, 4, 5, 6, 7, 8, 9, 10, 1, 5, 10, 7, 1, 2, 3, 4, 5, 6, 7, 8, 9, 10, 1, 2, 3, 4, 5, 6, 7, 8, 9, 10, 1, 2, 3, 4, 5, 6, 7, 8, 9, 10, 6, 3, 5, 1, 2, 3, 4, 5, 6, 7, 8, 9, 10, 4, 6, 1, 3, 4, 10, 2, 9, 2, 4, 5, 2, 9, 1, 2, 5, 6, 7, 8, 10, 10, 2, 1, 2, 3, 4, 5, 6, 7, 8, 9, 10, 1, 2, 3, 4, 5, 6, 7, 8, 9, 10, 2, 1, 2, 3, 4, 5, 6, 7, 8, 9, 10, 3, 6, 9, 1, 2, 3, 4, 5, 6, 7, 8, 10, 1, 2, 3, 5, 6, 7, 8, 9, 5, 7, 7, 9, 1, 2, 3, 4, 5, 6, 7, 8, 9, 10, 1, 2, 3, 4, 5, 6, 7, 8, 9, 10, 3, 4, 10, 7, 8, 10, 1, 2, 3, 4, 5, 6, 7, 8, 9, 10, 2, 5, 7, 8, 9, 7, 1, 2, 3, 4, 5, 6, 7, 8, 10, 1, 2, 3, 4, 5, 6, 7, 8, 9, 10, 1, 2, 3, 4, 5, 6, 7, 8, 9, 10, 7, 1, 2, 3, 4, 5, 6, 7, 8, 9, 10, 8, 1, 1, 4, 5, 6, 7, 9, 4, 9, 1, 2, 3, 4, 5, 6, 7, 8, 9, 10, 1, 2, 3, 4, 5, 6, 7, 8, 9, 10, 1, 3, 4, 6, 7, 10, 1, 2, 3, 4, 5, 6, 7, 8, 9, 10, 3, 1, 2, 3, 4, 5, 6, 7, 8, 9, 10, 1, 2, 3, 4, 5, 6, 7, 8, 9, 10, 1, 2, 3, 4, 5, 6, 7, 8, 9, 10, 8, 2], \"Freq\": [0.831809367693492, 0.045991034557615613, 0.04905710352812332, 0.009198206911523123, 0.03679282764609249, 0.08584993117421581, 0.06438744838066186, 0.13797310367284685, 0.13184096573183143, 0.29127655219823223, 0.14717131058436997, 0.10788874388115158, 0.8631099510492126, 0.06529199724564394, 0.1142609951798769, 0.17628839256323864, 0.019587599173693182, 0.12405479476672349, 0.2252573904974716, 0.013058399449128788, 0.09140879614390152, 0.04570439807195076, 0.12405479476672349, 0.36908699119604943, 0.6151449853267491, 0.8481950810812402, 0.026599085547073933, 0.013299542773536966, 0.013299542773536966, 0.0797972566412218, 0.053198171094147866, 0.1196958849618327, 0.10639634218829573, 0.5718803392620896, 0.062192828896862666, 0.8706996045560773, 0.062192828896862666, 0.06269297656117123, 0.02279744602224408, 0.1082878686056594, 0.028496807527805104, 0.1424840376390255, 0.10258850710009837, 0.01139872301112204, 0.4103540284003935, 0.03419616903336612, 0.07979106107785429, 0.6731439788817097, 0.07919340928020115, 0.03959670464010057, 0.19798352320050286, 0.92201582226482, 0.8631445227555876, 0.915188861128071, 0.04543246262220602, 0.15396556777525375, 0.20949413320239443, 0.0075720771037010035, 0.20949413320239443, 0.09086492524441205, 0.07319674533577637, 0.03533635981727135, 0.15144154207402008, 0.02524025701233668, 0.09191453263210204, 0.12388480485196361, 0.03396841423360293, 0.12188666283822228, 0.16584578714053194, 0.1438662249893771, 0.19182163331916946, 0.03796469826108562, 0.049953550343533715, 0.03796469826108562, 0.1706904667879038, 0.04081728553623787, 0.2597463625033319, 0.09276655803690426, 0.11874119428723744, 0.0853452333939519, 0.0742132464295234, 0.05194927250066638, 0.0742132464295234, 0.03339596089328553, 0.05312250512139347, 0.9030825870636889, 0.890564981812424, 0.31192688737942503, 0.052787627094979625, 0.04798875190452693, 0.17275950685629696, 0.08158087823769578, 0.07678200304724309, 0.11517300457086463, 0.06718425266633771, 0.0719831278567904, 0.8137245956606705, 0.06781038297172254, 0.06781038297172254, 0.021792850188017746, 0.021792850188017746, 0.06537855056405324, 0.6755783558285501, 0.04358570037603549, 0.021792850188017746, 0.021792850188017746, 0.13075710112810648, 0.041168824956537224, 0.74103884921767, 0.041168824956537224, 0.08233764991307445, 0.041168824956537224, 0.041168824956537224, 0.8296620949619748, 0.09218467721799721, 0.05313830398665314, 0.13284575996663286, 0.02656915199332657, 0.02656915199332657, 0.6376596478398378, 0.07970745597997972, 0.05313830398665314, 0.9425001061926732, 0.8047726462397118, 0.10059658077996397, 0.16247892141418643, 0.02707982023569774, 0.5957560451853503, 0.02707982023569774, 0.02707982023569774, 0.1353991011784887, 0.8493614888382818, 0.07721468080348015, 0.8664993445826287, 0.889411461645855, 0.9224026205448391, 0.18576391433120004, 0.011857271127523408, 0.10671544014771067, 0.03557181338257022, 0.13833482982110643, 0.06323877934679151, 0.24109784625964262, 0.06323877934679151, 0.0909057453110128, 0.07114362676514044, 0.09038942283132907, 0.01883112975652689, 0.25233713873746033, 0.04896093736696991, 0.19207752351657426, 0.0338960335617484, 0.07532451902610755, 0.026363581659137644, 0.07155829307480217, 0.1883112975652689, 0.04628544220263686, 0.04628544220263686, 0.8794234018501004, 0.9359352268654707, 0.06452260956599487, 0.16130652391498718, 0.06452260956599487, 0.032261304782997435, 0.6774874004429462, 0.889994593948916, 0.8240584645270609, 0.8256061999280404, 0.8552705902584532, 0.9074770375927109, 0.1027822316495922, 0.12542916404695997, 0.4163551417669921, 0.05748836685485665, 0.04703593651760999, 0.11149259026396442, 0.03135729101173999, 0.0435517930718611, 0.027873147565991106, 0.03658350618036332, 0.10671195523128647, 0.8536956418502918, 0.04662941824697445, 0.1958435566372927, 0.07460706919515912, 0.05595530189636934, 0.01865176729878978, 0.4849459497685343, 0.13056237109152846, 0.9068108778002769, 0.8949497702099937, 0.4397595330429526, 0.06718548421489555, 0.22598753781373956, 0.09161656938394847, 0.04275439904584262, 0.03664662775357939, 0.06718548421489555, 0.018323313876789694, 0.012215542584526463, 0.8610983384305646, 0.0706480609437528, 0.7771286703812808, 0.0706480609437528, 0.1035585678731195, 0.07397040562365678, 0.15533785180967924, 0.03328668253064555, 0.007397040562365679, 0.12574968956021654, 0.04438224337419407, 0.1331467301225822, 0.24780085883925024, 0.07766892590483962, 0.10073855542534212, 0.05849335476310187, 0.019497784921033958, 0.05524372394292955, 0.1624815410086163, 0.1624815410086163, 0.09098966296482514, 0.21447563413137352, 0.05849335476310187, 0.08124077050430815, 0.07565261498587242, 0.8321787648445965, 0.07565261498587242, 0.9337362694436887, 0.0638914910488504, 0.8305893836350553, 0.0638914910488504, 0.15496853277566902, 0.07748426638783451, 0.012914044397972418, 0.025828088795944837, 0.051656177591889674, 0.1420544883776966, 0.10976937738276556, 0.32930813214829663, 0.045199155392903465, 0.051656177591889674, 0.05467864377627521, 0.136696609440688, 0.10935728755255042, 0.6288044034271649, 0.05467864377627521, 0.1628360990670816, 0.14825376183719371, 0.09721558153258604, 0.07534207568775418, 0.06075973845786627, 0.03645584307471977, 0.17498804675865487, 0.029164674459775813, 0.07777246522606883, 0.1385322036839351, 0.051931827072060115, 0.05392920503637012, 0.02197115760741005, 0.1797640167879004, 0.12583481175153027, 0.023968535571720056, 0.1338243236087703, 0.08388987450102019, 0.10586103210843024, 0.2197115760741005, 0.06357118049178054, 0.02119039349726018, 0.14833275448082126, 0.02119039349726018, 0.6145214114205453, 0.06357118049178054, 0.06357118049178054, 0.06126238625336189, 0.9189357938004283, 0.9362936963801507, 0.07062161813140615, 0.04274466360585109, 0.16726172715333035, 0.11336628173725723, 0.18584636350370037, 0.12265859991244224, 0.06690469086133213, 0.07433854540148015, 0.07991393630659116, 0.07805547267155416, 0.8213517107769832, 0.8974171409268662, 0.6388495317462817, 0.33331279917197304, 0.7472883689400784, 0.13587061253455973, 0.016983826566819966, 0.08491913283409983, 0.8753189900404806, 0.07294324917004005, 0.031048437802990624, 0.05174739633831771, 0.41397917070654167, 0.01034947926766354, 0.09314531340897186, 0.09314531340897186, 0.15524218901495312, 0.07244635487364479, 0.08279583414130832, 0.1102842797508062, 0.7719899582556433, 0.1102842797508062, 0.8842097182177029, 0.08937956081317179, 0.044689780406585895, 0.849105827725132, 0.8818294302484845, 0.8775612932608287, 0.05716614384843718, 0.08765475390093701, 0.03811076256562478, 0.01905538128281239, 0.04954399133531222, 0.17149843154531152, 0.17149843154531152, 0.23628672790687366, 0.07241044887468709, 0.09908798267062444, 0.08356603410601439, 0.8356603410601439, 0.08356603410601439, 0.017289402064308127, 0.12102581445015688, 0.5273267629613978, 0.017289402064308127, 0.05186820619292438, 0.07780230928938657, 0.11238111341800282, 0.008644701032154064, 0.06051290722507844, 0.9255449436665589, 0.06530300408252344, 0.08489390530728047, 0.042446952653640235, 0.2350908146970844, 0.29712866857548165, 0.02938635183713555, 0.052242403266018755, 0.08815905551140665, 0.08489390530728047, 0.022856051428883205, 0.9195615720778593, 0.9013933163932023, 0.03983104003144266, 0.0663850667190711, 0.15932416012577064, 0.1327701334381422, 0.03983104003144266, 0.03983104003144266, 0.026554026687628438, 0.4779724803773119, 0.013277013343814219, 0.09615026377316446, 0.07344811816005618, 0.020031304952742596, 0.05208139287713075, 0.19630678853687744, 0.09748568410334729, 0.13621287367864965, 0.09214400278261593, 0.14288997532956385, 0.09214400278261593, 0.94849618481916, 0.4967463475872597, 0.10250321458149804, 0.007884862660115233, 0.13404266522195896, 0.047309175960691396, 0.015769725320230465, 0.023654587980345698, 0.03153945064046093, 0.12615780256184372, 0.015769725320230465, 0.11499640649774936, 0.8624730487331203, 0.8438106150527317, 0.8660632651338251, 0.8398951406209446, 0.05917304603640017, 0.051387118926347515, 0.31766582609014826, 0.05917304603640017, 0.05605867519237911, 0.11834609207280034, 0.040486820972273796, 0.048272748082326455, 0.15416135677904255, 0.09498831074264237, 0.37951860010955696, 0.10120496002921518, 0.15180744004382277, 0.03795186001095569, 0.012650620003651898, 0.06325310001825948, 0.13072307337106961, 0.021084366672753162, 0.05903622668370886, 0.042168733345506325, 0.04614012998483641, 0.11535032496209102, 0.023070064992418204, 0.4844713648407823, 0.011535032496209102, 0.011535032496209102, 0.06921019497725461, 0.05767516248104551, 0.12688535745830012, 0.05767516248104551, 0.9481140042966982, 0.027759275858427246, 0.22712134793258654, 0.07065997491236026, 0.10346639183595609, 0.06813640437977596, 0.0958956802382032, 0.09337210970561892, 0.21197992473708077, 0.0479478401191016, 0.05299498118427019, 0.08795817264774929, 0.12565453235392757, 0.07539271941235653, 0.025130906470785513, 0.050261812941571025, 0.050261812941571025, 0.012565453235392756, 0.03769635970617827, 0.5277490358864958, 0.08603262291617457, 0.03128459015133621, 0.0449715983425458, 0.06452446718713094, 0.1779311064857247, 0.029329303266877695, 0.11536192618305227, 0.035195163920253236, 0.2717848769397333, 0.14273594256547145, 0.8830834705603964, 0.11409485214197854, 0.06381576475737782, 0.17210918373959475, 0.09088911950293206, 0.0657495758106317, 0.25139543692300353, 0.05221289843785459, 0.06188195370412395, 0.08508768634317043, 0.04061003211833134, 0.16272798377443728, 0.7593972576140406, 0.03161996762518761, 0.06323993525037522, 0.5691594172533769, 0.06323993525037522, 0.04742995143778141, 0.04742995143778141, 0.07904991906296902, 0.015809983812593804, 0.09485990287556283, 0.037041602060114434, 0.009260400515028609, 0.08334360463525749, 0.14816640824045774, 0.018520801030057217, 0.08334360463525749, 0.6019260334768596, 0.009260400515028609, 0.009260400515028609, 0.0875165648864892, 0.039780256766586, 0.3659783622525912, 0.1432089243597096, 0.0318242054132688, 0.0079560513533172, 0.023868154059951602, 0.079560513533172, 0.20685733518624722, 0.04173559566434807, 0.055647460885797424, 0.21795255513603992, 0.03477966305362339, 0.01854915362859914, 0.17621695947169186, 0.09042712393942082, 0.25736950659681307, 0.08115254712512125, 0.027823730442898712, 0.9313458001597423, 0.926150088062918, 0.02885682920755327, 0.05771365841510654, 0.02885682920755327, 0.634850242566172, 0.05771365841510654, 0.2019978044528729, 0.9225353197643348, 0.06279516855663815, 0.293044119930978, 0.08372689140885087, 0.06279516855663815, 0.029304411993097804, 0.10465861426106358, 0.15908109367681664, 0.03349075656354035, 0.0669815131270807, 0.10465861426106358, 0.026883171700473687, 0.0430130747207579, 0.032259806040568426, 0.059142977741042116, 0.09677941812170528, 0.10753268680189475, 0.12366258982217897, 0.3441045977660632, 0.03763644038066316, 0.13441585850236845, 0.16829053334640712, 0.019888881213666297, 0.019888881213666297, 0.13004268485858733, 0.04283759030635818, 0.11321363152394662, 0.1713503612254327, 0.029068364850743048, 0.09944440606833148, 0.20653838183422693, 0.8677087574915746, 0.08677087574915747, 0.4342565148348315, 0.028321077054445535, 0.13216502625407917, 0.037761436072594044, 0.06608251312703958, 0.04720179509074256, 0.11328430821778214, 0.028321077054445535, 0.05664215410889107, 0.06608251312703958, 0.8794641118361929, 0.9333477394967391, 0.8924685627439664, 0.030673623284513844, 0.09202086985354153, 0.6441460889747908, 0.09202086985354153, 0.030673623284513844, 0.06134724656902769, 0.030673623284513844, 0.9649045418724198, 0.08362464307110372, 0.24510671244978674, 0.14418041908810986, 0.14994763585163423, 0.034603300581146364, 0.0980426849799147, 0.11246072688872569, 0.023068867054097577, 0.03748690896290856, 0.06920660116229273, 0.02926935145964483, 0.02926935145964483, 0.11707740583857933, 0.05853870291928966, 0.02926935145964483, 0.02926935145964483, 0.6731950835718311, 0.10450103700365304, 0.2520952851428331, 0.06787180753845506, 0.10450103700365304, 0.033397238630033445, 0.05063452308424426, 0.10234637644687669, 0.07110379837361959, 0.10126904616848852, 0.11258101409156436, 0.852452882355223, 0.13427301905093178, 0.6445104914444726, 0.21483683048149085, 0.03679389314008478, 0.02452926209338985, 0.285152671835657, 0.04599236642510597, 0.03372773537841105, 0.15944020360703404, 0.07665394404184328, 0.21769720107883492, 0.08585241732686448, 0.03372773537841105, 0.06038799061012258, 0.09420526535179123, 0.10628286347381574, 0.13285357934226968, 0.09420526535179123, 0.04589487286369316, 0.074881108356552, 0.08695870647857652, 0.20531916807441677, 0.09903630460060103, 0.946723906140362, 0.8779987730316666, 0.02099651491547041, 0.03359442386475265, 0.03359442386475265, 0.4031330863770318, 0.004199302983094081, 0.0671888477295053, 0.13017839247591653, 0.17217142230685734, 0.03359442386475265, 0.09658396861116388, 0.021670668834888582, 0.043341337669777165, 0.6284493962117689, 0.06501200650466575, 0.1300240130093315, 0.10835334417444291, 0.021670668834888582, 0.16410882574166719, 0.8205441287083359, 0.058026424613638494, 0.9284227938182159, 0.9039070216376173, 0.0753255851364681, 0.917000094242909, 0.1652036375936688, 0.03955580055059675, 0.16287682579657486, 0.044209424144784605, 0.053516671333160314, 0.08143841289828743, 0.04886304773897246, 0.24664205049195623, 0.14193551962272952, 0.01396087078256356, 0.015156909538046515, 0.04547072861413955, 0.03031381907609303, 0.22735364307069772, 0.015156909538046515, 0.015156909538046515, 0.0909414572282791, 0.500178014755535, 0.06062763815218606, 0.015156909538046515, 0.13722467341239505, 0.02744493468247901, 0.013722467341239506, 0.02744493468247901, 0.16466960809487408, 0.5351762263083407, 0.02744493468247901, 0.06861233670619753, 0.019901830210353834, 0.019901830210353834, 0.5572512458899073, 0.03980366042070767, 0.03980366042070767, 0.019901830210353834, 0.1791164718931845, 0.15921464168283067, 0.867467609204354, 0.1339800048975691, 0.053592001959027635, 0.1339800048975691, 0.6163080225288178, 0.053592001959027635, 0.0741157140734318, 0.8152728548077498, 0.0741157140734318, 0.882926855859135, 0.7555472790797023, 0.047221704942481395, 0.09444340988496279, 0.09444340988496279, 0.047221704942481395, 0.8972741585609972, 0.05607963491006233, 0.04943353518374937, 0.7909365629399899, 0.04943353518374937, 0.09886707036749874, 0.15734133458279012, 0.04968673723667056, 0.14077908883723325, 0.09730319375514651, 0.07245982513681123, 0.12835740452806563, 0.08695179016417348, 0.06417870226403281, 0.07245982513681123, 0.13249796596445484, 0.07107819104553348, 0.10525039827896304, 0.2651763281314134, 0.19819880195389145, 0.08338018564956812, 0.038272872101441105, 0.07517885591354503, 0.04920797841613857, 0.08884773880691685, 0.0232371009187321, 0.5483140981049552, 0.07409649974391287, 0.0592771997951303, 0.10373509964147802, 0.0592771997951303, 0.014819299948782574, 0.07409649974391287, 0.04445789984634772, 0.8420445429797015, 0.8370189416488202, 0.11160252555317603, 0.8495071624200926, 0.05775822219035942, 0.10176448671634755, 0.12376761897934162, 0.024753523795868326, 0.2117801480313179, 0.20627936496556937, 0.08801252905197626, 0.07151017985473071, 0.07976135445335349, 0.035755089927365355, 0.9306448788396674, 0.8300631169875449, 0.04882724217573794, 0.04882724217573794, 0.04882724217573794, 0.04960566744292109, 0.04960566744292109, 0.14881700232876324, 0.6944793442008952, 0.8492235942874459, 0.07425841029554889, 0.8911009235465867, 0.025977465774537176, 0.073602819694522, 0.060614086807253414, 0.07143803087997723, 0.08875634139633536, 0.08009718613815629, 0.038966198661805763, 0.07143803087997723, 0.3810028313598786, 0.10607465191269347, 0.05322925133007652, 0.11089427360432609, 0.1330731283251913, 0.05101136585799, 0.0820617624672013, 0.11089427360432609, 0.09536907529972043, 0.15303409757397, 0.13529101379727781, 0.07319022057885521, 0.07254419903645903, 0.07254419903645903, 0.7979861894010494, 0.232608535439228, 0.05572912828231504, 0.11145825656463008, 0.07753617847974267, 0.01938404461993567, 0.23745454659421192, 0.026653061352411543, 0.1453803346495175, 0.012115027887459792, 0.07753617847974267, 0.0673410142413254, 0.16260391243637107, 0.10511768076694696, 0.08376565186116085, 0.044346521573555744, 0.09033550690909503, 0.08376565186116085, 0.21680521658182808, 0.12154231838678241, 0.02627942019173674, 0.06478479615343477, 0.09069871461480868, 0.025913918461373905, 0.05182783692274781, 0.1425265515375565, 0.012956959230686953, 0.4664505323047303, 0.025913918461373905, 0.10365567384549562, 0.025913918461373905, 0.031215702662115485, 0.07803925665528871, 0.23932038707621872, 0.17688898175198775, 0.036418319772468066, 0.020810468441410324, 0.07283663954493613, 0.005202617110352581, 0.31735964373150743, 0.015607851331057743, 0.8747246983826765, 0.9572255826754718, 0.807944481370473, 0.08977160904116367, 0.8752584559882155, 0.05470365349926347, 0.05470365349926347, 0.9135209704539439, 0.9180286236925584, 0.06957890277747007, 0.09792586316829122, 0.17008176234492683, 0.13658080915577459, 0.17781275154242351, 0.010307985596662232, 0.07473289557580119, 0.04896293158414561, 0.04638593518498005, 0.16750476594576127, 0.8494910315585553, 0.9053173751611977, 0.12517713571370526, 0.8762399499959368, 0.8395950876258227, 0.9397126268939665, 0.04287617149107879, 0.23581894320093338, 0.6860187438572607, 0.021438085745539397, 0.19812007280854557, 0.13208004853903038, 0.11557004247165159, 0.49530018202136394, 0.016510006067378798, 0.04953001820213639, 0.8520505236215548, 0.06048257116707335, 0.1209651423341467, 0.06048257116707335, 0.7257908540048802, 0.07331182783809848, 0.8797419340571816, 0.8541240792922782, 0.9178490748679914, 0.8396782436662071, 0.04926770773409274, 0.09853541546818548, 0.04926770773409274, 0.7882833237454838, 0.8725112575957813, 0.8336322311632175, 0.06412555624332442, 0.06412555624332442, 0.8563009536281084, 0.8507952734854395, 0.15886151096398565, 0.05295383698799522, 0.741353717831933, 0.868694967879418, 0.8946740501852073, 0.8163827326523244, 0.018457867156844256, 0.03691573431368851, 0.11074720294106553, 0.18457867156844254, 0.11074720294106553, 0.05537360147053277, 0.47990454607795063, 0.9413807184175407, 0.8764833794669706, 0.010346914563632766, 0.16555063301812425, 0.5897741301270676, 0.05173457281816383, 0.010346914563632766, 0.10346914563632766, 0.010346914563632766, 0.05173457281816383, 0.020693829127265532, 0.8922037244520029, 0.8264493402539438, 0.0486146670737614, 0.0486146670737614, 0.0486146670737614, 0.0486146670737614, 0.8301933766227699, 0.9298500931360495, 0.04649250465680247, 0.9226627756913466, 0.9346096392277754, 0.9165159191063271, 0.04364361519553939, 0.04364361519553939, 0.15628899113087616, 0.7293486252774222, 0.052096330376958724, 0.052096330376958724, 0.11157488810510792, 0.0035991899388744487, 0.11877326798285681, 0.021595139633246694, 0.03239270944987004, 0.12237245792173126, 0.3095303347432026, 0.1979554466380947, 0.039591089327618935, 0.046789469205367834, 0.132633363877196, 0.12998069659965206, 0.01856867094280744, 0.03183200733052704, 0.026526672775439197, 0.4721747754028177, 0.01856867094280744, 0.132633363877196, 0.021221338220351358, 0.01591600366526352, 0.018385344552119005, 0.4550372776649454, 0.04596336138029752, 0.05975236979438677, 0.05975236979438677, 0.12410107572680329, 0.02298168069014876, 0.10111939503665453, 0.018385344552119005, 0.09652305889862478, 0.7701252792432622, 0.15402505584865245, 0.2148322508045034, 0.08593290032180136, 0.6444967524135102, 0.04168912393648261, 0.029001129694944422, 0.1305050836272499, 0.10150395393230548, 0.058002259389888844, 0.07794053605516314, 0.22475875513581928, 0.058002259389888844, 0.23925931998329147, 0.03806398272461455, 0.9033304498542493, 0.9132292487641479, 0.05410520757126716, 0.6492624908552059, 0.05410520757126716, 0.05410520757126716, 0.08115781135690074, 0.10821041514253432, 0.02705260378563358, 0.023624967998167698, 0.21734970558314282, 0.09922486559230434, 0.05669992319560248, 0.35437451997251546, 0.09449987199267079, 0.08032489119377018, 0.00944998719926708, 0.02834996159780124, 0.03779994879706832, 0.9536418374422193, 0.8991910328147529, 0.9493312433645933, 0.8855277089091288, 0.049651187899549414, 0.7447678184932411, 0.14895356369864823, 0.907572374405033, 0.21712871924015098, 0.011427827328428999, 0.022855654656857998, 0.09142261862743199, 0.057139136642145, 0.06856696397057399, 0.022855654656857998, 0.011427827328428999, 0.47996874779401794, 0.022855654656857998, 0.8436855024507177, 0.127933742467511, 0.8315693260388214, 0.0639668712337555, 0.8659902001422376, 0.843888317662918, 0.07499696865815293, 0.8249666552396822, 0.07499696865815293, 0.8437486804966052, 0.11249982406621403, 0.9570123820440416, 0.9259202470595315, 0.2577545135082426, 0.16797485149975358, 0.13032531581877432, 0.06371459884473411, 0.0781951894912646, 0.06371459884473411, 0.08977966200848898, 0.0724029532326524, 0.04344177193959144, 0.026065063163754867, 0.8988637246874903, 0.9348523069067725, 0.13751683850443241, 0.07265040524762467, 0.041514517284356955, 0.049298489275173885, 0.12713820918334318, 0.06486643325680774, 0.12454355185307087, 0.12713820918334318, 0.07783971990816929, 0.17903135578878937, 0.12570860670872608, 0.8171059436067195, 0.05245996697047178, 0.2413158480641702, 0.24831051032689977, 0.003497331131364785, 0.05595729810183656, 0.03847064244501264, 0.0944279405468492, 0.0944279405468492, 0.07344395375866049, 0.10491993394094357, 0.04394301065787797, 0.07190674471289123, 0.1538005373025729, 0.07190674471289123, 0.08788602131575594, 0.1897539096590185, 0.10386529791862066, 0.12184198409684346, 0.08588861174039784, 0.07390415428824931, 0.8454101801075647, 0.0650944015985192, 0.0650944015985192, 0.7811328191822304, 0.9060244182008141, 0.8378436422570413, 0.7859594254070565, 0.9344381742254492, 0.8204764203257925, 0.8891694854278828, 0.8977174875958358, 0.08800462531807798, 0.13567379736537022, 0.09533834409458448, 0.09533834409458448, 0.04400231265903899, 0.08433776592982474, 0.07333718776506498, 0.13567379736537022, 0.2456795790129677, 0.9525911853953812, 0.15345934990219762, 0.06138373996087905, 0.1227674799217581, 0.06138373996087905, 0.583145529628351, 0.2821983297680322, 0.062346142623169905, 0.15094329266662188, 0.13781778895648084, 0.15422466859415712, 0.08203439818838146, 0.01968825556521155, 0.04265788705795835, 0.022969631492746806, 0.04922063891302887, 0.09687363794901022, 0.6587407380532695, 0.019374727589802042, 0.058124182769406126, 0.038749455179604084, 0.019374727589802042, 0.11624836553881225, 0.821338432802919, 0.011417348368760362, 0.022834696737520723, 0.03425204510628108, 0.07992143858132253, 0.11417348368760362, 0.045669393475041446, 0.5137806765942162, 0.05708674184380181, 0.011417348368760362, 0.10275613531884326, 0.1958627300092708, 0.1406901300066593, 0.17931095000848735, 0.013793150000652872, 0.2041386200096625, 0.008275890000391724, 0.07172438000339494, 0.06068986000287264, 0.013793150000652872, 0.11034520000522298, 0.02103167133572533, 0.04206334267145066, 0.189285042021528, 0.7361084967503866, 0.8492320038689307, 0.03201452848217499, 0.018294016275528565, 0.009147008137764282, 0.08232307323987854, 0.19666067496193207, 0.02744102441329285, 0.16007264241087496, 0.05945555289546784, 0.1326316179975821, 0.2835572522706928, 0.8789302277110029, 0.08083921624473789, 0.03328673610077442, 0.03804198411517077, 0.004755248014396346, 0.2900701288781771, 0.0618182241871525, 0.3518883530653296, 0.0618182241871525, 0.04755248014396346, 0.02853148808637808, 0.08477659034674022, 0.04238829517337011, 0.8477659034674021, 0.9397634815653823, 0.7669413558706613, 0.16434457625799886, 0.010033592324328511, 0.20067184648657022, 0.07023514627029959, 0.015050388486492768, 0.11036951556761362, 0.030100776972985535, 0.0451511654594783, 0.42141087762179746, 0.06020155394597107, 0.040134369297314045, 0.0346251094839207, 0.3363582064152297, 0.0692502189678414, 0.20280421269153553, 0.009892888423977344, 0.05935733054386406, 0.05441088633187539, 0.21764354532750155, 0.024732221059943358, 0.8774004662923431, 0.9137543074183803, 0.1659967504818356, 0.05773800016759499, 0.02165175006284812, 0.04330350012569624, 0.15156225043993685, 0.1082587503142406, 0.03608625010474687, 0.014434500041898748, 0.08660700025139248, 0.31034175090082305, 0.05701253804188705, 0.07601671738918274, 0.41809194564050506, 0.07601671738918274, 0.03800835869459137, 0.047510448368239214, 0.1330292554310698, 0.047510448368239214, 0.009502089673647842, 0.08551880706283058, 0.10112717466797932, 0.10112717466797932, 0.0571588378558144, 0.0857382567837216, 0.10112717466797932, 0.10772242518980407, 0.05496042101520616, 0.12530975991467003, 0.10332559150858757, 0.16488126304561848, 0.08148202876528518, 0.10655342223152676, 0.2757853281286575, 0.12222304314792776, 0.06894633203216438, 0.06581240784888417, 0.07521418039872478, 0.02507139346624159, 0.10028557386496637, 0.08148202876528518, 0.8208156447403059, 0.12627932996004707, 0.8343090521025176, 0.9087820725904696, 0.8286415675956748, 0.10653539875795943, 0.8522831900636755, 0.0800742151543024, 0.03639737052468291, 0.3603339681943608, 0.021838422314809744, 0.04731658168208778, 0.05459605578702436, 0.05095631873455607, 0.0400371075771512, 0.23294317135797063, 0.07279474104936581, 0.9653841730832835, 0.10169871604507548, 0.05423931522404026, 0.07627403703380661, 0.17288781727662833, 0.17966773167963335, 0.04576442222028397, 0.040679486418030195, 0.20000747488864845, 0.049154379421786486, 0.07966399423530914, 0.1507556286688937, 0.0662411095666351, 0.041115171455152824, 0.14847145247694077, 0.17131321439647013, 0.15989233343670545, 0.06395693337468218, 0.04339934764710576, 0.0662411095666351, 0.08679869529421153, 0.9399668429254167, 0.916895452531024, 0.9302506820347018, 0.03951682752364927, 0.013172275841216422, 0.13172275841216421, 0.5137187578074405, 0.03951682752364927, 0.026344551682432844, 0.18441186177702992, 0.03951682752364927, 0.125428413955287, 0.877998897687009, 0.0552445902380845, 0.07596131157736619, 0.11739475425592956, 0.0897724591368873, 0.0552445902380845, 0.08286688535712675, 0.31765639386898586, 0.06215016401784506, 0.04143344267856337, 0.10358360669640844, 0.922358415649441, 0.827437644226114, 0.7903560645056881, 0.8933429824065738, 0.8617700803659709, 0.06629000618199776, 0.8443173591292872, 0.11573707833955996, 0.7522910092071398, 0.05786853916977998, 0.01137031904258173, 0.03411095712774519, 0.01137031904258173, 0.8186629710658846, 0.04548127617032692, 0.06822191425549037, 0.8457757830395742, 0.8869627857962435, 0.892692253039816, 0.11959806977204156, 0.05979903488602078, 0.02989951744301039, 0.05979903488602078, 0.08969855232903116, 0.05979903488602078, 0.5979903488602077, 0.8815291683590355, 0.09663304785507112, 0.04450206151220381, 0.02288677449199053, 0.06866032347597159, 0.19326609571014225, 0.012714874717772518, 0.09917602279862564, 0.07501776083485785, 0.24794005699656407, 0.13859213442372043, 0.41917699766410405, 0.13377989287152256, 0.00891865952476817, 0.05351195714860903, 0.0891865952476817, 0.01783731904953634, 0.07134927619814536, 0.03567463809907268, 0.10702391429721805, 0.062430616673377196, 0.08426400426008986, 0.1339581606186044, 0.056176002840059906, 0.1447612380878467, 0.15340370006324053, 0.20741908740945197, 0.0929064662354837, 0.02160615493848458, 0.06265784932160529, 0.04321230987696916, 0.1103871666828742, 0.7727101667801194, 0.0057672887889967705, 0.10188876860560961, 0.19801024842222245, 0.09996633900927736, 0.1288027829542612, 0.06536260627529673, 0.13649250133959023, 0.06344017667896448, 0.16725137488090636, 0.03268130313764837, 0.9142547842987976, 0.10627578008978056, 0.0708505200598537, 0.061994205052372, 0.03542526002992685, 0.09741946508229885, 0.10627578008978056, 0.05313789004489028, 0.061994205052372, 0.02656894502244514, 0.3808215453217137, 0.9382976400825432, 0.05740819769098584, 0.05740819769098584, 0.8037147676738017, 0.05740819769098584, 0.8294774835915605, 0.07540704396286914, 0.07540704396286914, 0.2832616070211534, 0.054106149655725924, 0.18778016645222528, 0.02864443217067843, 0.07638515245514248, 0.041375290913202176, 0.10184686994018997, 0.015913573428154686, 0.19414559582348714, 0.015913573428154686, 0.8948964811126423, 0.8403445560556546, 0.1923001974775582, 0.10509429397029343, 0.11180244039392918, 0.14087107489635076, 0.06708146423635751, 0.05813726900484317, 0.038012829733935924, 0.038012829733935924, 0.0827338058915076, 0.1632315629751366, 0.8272871417854898, 0.36376019909465696, 0.08800649978096539, 0.19361429951812387, 0.011734199970795386, 0.02346839994159077, 0.04106969989778385, 0.05280389986857924, 0.13494329966414695, 0.04106969989778385, 0.04106969989778385, 0.1650759382811855, 0.10179682860673106, 0.041268984570296374, 0.12243132089187925, 0.17332973519524478, 0.08253796914059275, 0.04264461738930625, 0.14306581317702743, 0.07290853940752359, 0.05364967994138529, 0.09883080056858268, 0.04941540028429134, 0.6176925035536418, 0.02470770014214567, 0.02470770014214567, 0.12353850071072836, 0.04941540028429134, 0.03492519167297447, 0.02328346111531631, 0.017462595836487235, 0.43074403063335176, 0.08149211390360708, 0.011641730557658155, 0.1338799014130688, 0.12805903613423972, 0.075671248624778, 0.06985038334594894, 0.8917520128191173, 0.08106836480173793, 0.9636872329212604, 0.918412983611103, 0.936689615386773, 0.8505713390761571, 0.21391568731838673, 0.7273133368825149, 0.8340602726071691, 0.057533353999659906, 0.057533353999659906, 0.057533353999659906, 0.8054669559952387, 0.8809275769025335, 0.0797571755466789, 0.0797571755466789, 0.7975717554667889, 0.8458537339664804, 0.1208362477094972, 0.02093050593483482, 0.4395406246315312, 0.06279151780450445, 0.02093050593483482, 0.048837847181281244, 0.08372202373933928, 0.048837847181281244, 0.18837455341351336, 0.05581468249289285, 0.03488417655805803, 0.033182908163500655, 0.13273163265400262, 0.6304752551065124, 0.06636581632700131, 0.033182908163500655, 0.09954872449050195, 0.9288872157288462, 0.8789202444316674, 0.10986503055395842, 0.9753789238008971, 0.7821123211781242, 0.21996909033134746, 0.06329970723085604, 0.7595964867702725, 0.1582492680771401, 0.7576505418553034, 0.08418339353947817, 0.08418339353947817, 0.04209169676973908, 0.04209169676973908, 0.7985321628087995, 0.09981652035109993, 0.49579279176193414, 0.08263213196032235, 0.08263213196032235, 0.013772021993387059, 0.0688601099669353, 0.26166841787435413, 0.09011918890425276, 0.02596654595546266, 0.13441506141651258, 0.09470152054345206, 0.12677784201784711, 0.09317407666371895, 0.09775640830291825, 0.16801882677064073, 0.13441506141651258, 0.03665865311359434, 0.2408236159387087, 0.076587015669554, 0.2212513786009338, 0.05361091096868781, 0.01446643629313798, 0.07488508198800836, 0.0570147783317791, 0.10892375561892126, 0.11488052350433102, 0.03744254099400418, 0.1295099268818103, 0.04316997562727009, 0.05180397075272411, 0.05755996750302679, 0.1093639382557509, 0.16116790900847502, 0.2705318472642259, 0.11511993500605358, 0.040291977252118756, 0.023023987001210715, 0.01108813746744985, 0.09979323720704864, 0.01108813746744985, 0.0221762749348997, 0.01108813746744985, 0.14414578707684803, 0.31046784908859576, 0.39917294882819454, 0.8950048431441592, 0.08513908074902816, 0.7236821863667394, 0.17027816149805633, 0.8998003132776117, 0.05623751957985073, 0.03469625333311325, 0.04047896222196546, 0.26600460888720157, 0.005782708888852208, 0.10408875999933975, 0.005782708888852208, 0.31226627999801926, 0.052044379999669876, 0.18504668444327066, 0.10698342425761193, 0.07132228283840795, 0.07132228283840795, 0.07132228283840795, 0.03566114141920398, 0.6062394041264676, 0.0418126534708579, 0.09756285809866844, 0.0836253069417158, 0.11150040925562106, 0.027875102313905265, 0.05575020462781053, 0.0418126534708579, 0.027875102313905265, 0.5156893928072475, 0.9007177394277868, 0.9169645285290486, 0.8117548847552015, 0.045097493597511196, 0.09019498719502239, 0.8811555952061896, 0.03404309326578023, 0.14103567210108953, 0.04863299037968604, 0.16535216729093255, 0.30152454035405346, 0.2431649518984302, 0.029179794227811626, 0.014589897113905813, 0.029179794227811626, 0.9066069964396455, 0.8702384592673021, 0.2199972771583796, 0.17731123830675372, 0.059103746102251234, 0.055820204652126164, 0.18059477975687876, 0.03611895595137576, 0.0525366632020011, 0.12477457510475261, 0.09193916060350192, 0.0984405087977778, 0.0984405087977778, 0.0492202543988889, 0.7383038159833335, 0.9120686625190587, 0.07582574555979808, 0.42048822537706204, 0.006893249596345279, 0.07927237035797072, 0.07927237035797072, 0.03791287277989904, 0.11029199354152447, 0.09995211914700655, 0.013786499192690559, 0.07237912076162543, 0.06663259289156885, 0.1332651857831377, 0.1332651857831377, 0.08884345718875847, 0.5552716074297405, 0.022210864297189617, 0.06023608198460885, 0.036810938990594295, 0.01673224499572468, 0.47854220687772586, 0.12716506196750757, 0.02342514299401455, 0.10373991897349302, 0.003346448999144936, 0.07696832698033353, 0.07696832698033353, 0.1227738778018087, 0.02728308395595749, 0.695718640876916, 0.09549079384585121, 0.013641541977978745, 0.02728308395595749, 0.02728308395595749, 0.013641541977978745, 0.8517901174587428, 0.9619929733951865, 0.9316370429842845, 0.0742524352232462, 0.8910292226789545, 0.07100703642610975, 0.7810774006872073, 0.07100703642610975, 0.9079054403538589, 0.17137569282371148, 0.08568784641185574, 0.05875738039670108, 0.15178989935814444, 0.10527363987742276, 0.009792896732783513, 0.09303251896144338, 0.061205604579896954, 0.08568784641185574, 0.17382391700690736, 0.7406258233178753, 0.07796061298082897, 0.07796061298082897, 0.07796061298082897, 0.1956513580114618, 0.7336925925429818, 0.04891283950286545, 0.07153335966664191, 0.0670625246874768, 0.0447083497916512, 0.12071254443745824, 0.3129584485415584, 0.14306671933328383, 0.01341250493749536, 0.1788333991666048, 0.0447083497916512, 0.0044708349791651196, 0.294668148489629, 0.06157244893813144, 0.10995080167523472, 0.158329154412338, 0.23749373161850698, 0.008796064134018778, 0.004398032067009389, 0.08796064134018777, 0.03078622446906572, 0.004398032067009389, 0.033887704216295535, 0.11860696475703437, 0.033887704216295535, 0.050831556324443306, 0.6438663801096152, 0.016943852108147767, 0.06777540843259107, 0.033887704216295535, 0.016943852108147767, 0.10022224208671802, 0.6681482805781203, 0.16703707014453006, 0.06681482805781203, 0.035564738755942606, 0.331937561722131, 0.09483930334918028, 0.09483930334918028, 0.02963728229661884, 0.12447658564579912, 0.08891184688985652, 0.02963728229661884, 0.1126216727271516, 0.05927456459323768, 0.1282699162378512, 0.060362313523694686, 0.05281702433323285, 0.3772644595230918, 0.060362313523694686, 0.06790760271415652, 0.11317933785692753, 0.022635867571385505, 0.09054347028554202, 0.022635867571385505, 0.18622012127272636, 0.008974463675794042, 0.02131435123001085, 0.35112589131544186, 0.06057762981160978, 0.13573876309638488, 0.0953536765553117, 0.047115934297918716, 0.03589785470317617, 0.057212205933187016, 0.9189167266271921, 0.07833230708758027, 0.02349969212627408, 0.07049907637882223, 0.43082768898169144, 0.13316492204888644, 0.10966522992261236, 0.09399876850509632, 0.04699938425254816, 0.007833230708758026, 0.050420505295304216, 0.1646081202287873, 0.15571038400020418, 0.13346604342874643, 0.07414780190485913, 0.12753421927635772, 0.11863648304777462, 0.0682159777524704, 0.051903461333401395, 0.05486937340959576, 0.9663732037457717, 0.05359533499046779, 0.03062590570883874, 0.10719066998093559, 0.5282968734774682, 0.08422124069930653, 0.13781657568977432, 0.007656476427209685, 0.022969429281629053, 0.022969429281629053, 0.07785415664543446, 0.032439231935597695, 0.045414924709836775, 0.05839061748407585, 0.15570831329086893, 0.3503437049044551, 0.032439231935597695, 0.09731769580679309, 0.09731769580679309, 0.045414924709836775, 0.8039512218039675, 0.04231322220020881, 0.14809627770073083, 0.8498498523792828, 0.04040503128750573, 0.026936687525003816, 0.06734171881250954, 0.06285227089167557, 0.1167256459416832, 0.2783457710917061, 0.12570454178335114, 0.1750884689125248, 0.031426135445837784, 0.07183116673334351, 0.03846917658961152, 0.05770376488441727, 0.01923458829480576, 0.01923458829480576, 0.05770376488441727, 0.2308150595376691, 0.5770376488441727, 0.8698205552892713, 0.09664672836547458, 0.05087131041503513, 0.05087131041503513, 0.7630696562255269, 0.10174262083007025, 0.8920150791606247, 0.8447363049574637, 0.12671044574361956, 0.8342648881290042, 0.10940650726901985, 0.13875947263387883, 0.08005354190416086, 0.04536367374569116, 0.09072734749138232, 0.11207495866582522, 0.09606425028499305, 0.09339579888818768, 0.050700576539301885, 0.18679159777637536, 0.043264879627089824, 0.12979463888126946, 0.735502953660527, 0.08652975925417965, 0.8270576613749833, 0.03162073004485837, 0.0948621901345751, 0.600793870852309, 0.1897243802691502, 0.06324146008971673, 0.015810365022429183, 0.015810365022429183, 0.07970887385248496, 0.24381537884289517, 0.05157633013984321, 0.05157633013984321, 0.08439763113792526, 0.2813254371264175, 0.06564260199616408, 0.02813254371264175, 0.10315266027968642, 0.028760151603502034, 0.0747763941691053, 0.20707309154521464, 0.0805284244898057, 0.13804872769680976, 0.04026421224490285, 0.04026421224490285, 0.310609637317822, 0.04026421224490285, 0.04601624256560326, 0.4526236704695012, 0.06466052435278588, 0.027711653294051092, 0.11084661317620437, 0.055423306588102184, 0.046186088823418486, 0.07389774211746958, 0.12008383094088806, 0.027711653294051092, 0.018474435529367395, 0.028435959756967062, 0.08530787927090118, 0.028435959756967062, 0.17061575854180236, 0.6540270744102424, 0.028435959756967062, 0.11410055934310907, 0.4047340595566888, 0.0699673241254914, 0.0505917574445861, 0.04843891670226329, 0.07319658523897563, 0.062432381527361566, 0.08180794820826688, 0.02368124816555094, 0.07104374449665282, 0.8284462247499506, 0.8241831914316615, 0.0915759101590735, 0.9099742816668626, 0.09367537854629293, 0.09367537854629293, 0.03903140772762205, 0.11709422318286615, 0.03903140772762205, 0.10148166009181733, 0.023418844636573233, 0.0780628154552441, 0.09367537854629293, 0.32786382491202526, 0.8915229429621744, 0.009504742879766168, 0.019009485759532336, 0.052276085838713925, 0.40870394382994524, 0.10455217167742785, 0.09979980023754477, 0.047523714398830845, 0.10930454311731094, 0.07603794303812934, 0.06653320015836318, 0.06511763333213524, 0.38478601514443556, 0.07103741818051118, 0.029598924241879657, 0.053278063635383385, 0.08287698787726304, 0.059197848483759315, 0.023679139393503724, 0.0769572030288871, 0.1539144060577742, 0.061660937543284604, 0.020553645847761533, 0.061660937543284604, 0.16442916678209227, 0.020553645847761533, 0.6577166671283691, 0.020553645847761533, 0.2111167315231532, 0.08601052025017353, 0.06515948503801025, 0.07558500264409189, 0.09382965845473476, 0.15117000528818378, 0.036489311621285735, 0.018244655810642867, 0.15117000528818378, 0.10946793486385721, 0.9345233991858546, 0.15274322003436552, 0.1603803810360838, 0.015274322003436551, 0.03818580500859138, 0.022911483005154828, 0.42004385509450515, 0.030548644006873103, 0.022911483005154828, 0.10692025402405586, 0.030548644006873103, 0.9058850108591743, 0.8601259061640804, 0.07167715884700669, 0.8121974542091819, 0.93170760476183, 0.9169362657277111, 0.8812169499953691, 0.03824915083210459, 0.1019977355522789, 0.1274971694403486, 0.5354881116494642, 0.012749716944034862, 0.0637485847201743, 0.11474745249631377, 0.8991611276574512, 0.8696045573376208, 0.11994545618449942, 0.07594684967595884, 0.025315616558652946, 0.2721428780055192, 0.044302328977642656, 0.044302328977642656, 0.044302328977642656, 0.10126246623461178, 0.10126246623461178, 0.2974584945641721, 0.008973884320605231, 0.008973884320605231, 0.1435821491296837, 0.07179107456484185, 0.45766810035086686, 0.08076495888544709, 0.017947768641210463, 0.008973884320605231, 0.06281719024423663, 0.1435821491296837, 0.04043444644730625, 0.04043444644730625, 0.06739074407884375, 0.5256478038149812, 0.053912595263075, 0.053912595263075, 0.01347814881576875, 0.18869408342076252, 0.0269562976315375, 0.843326072808242, 0.16231709728266067, 0.7304269377719731, 0.04057927432066517, 0.04057927432066517, 0.048270721198750186, 0.09654144239750037, 0.8206022603787532, 0.9333162899081956, 0.0205489228286696, 0.8836036816327927, 0.0821956913146784, 0.01387636327529359, 0.04162908982588077, 0.6244363473882115, 0.01387636327529359, 0.15263999602822947, 0.05550545310117436, 0.02775272655058718, 0.04162908982588077, 0.01387636327529359, 0.5210735910489571, 0.061302775417524366, 0.12260555083504873, 0.030651387708762183, 0.061302775417524366, 0.015325693854381092, 0.030651387708762183, 0.13793124468942983, 0.04597708156314328, 0.09962639262992071, 0.22060129796625297, 0.007116170902137193, 0.370040886911134, 0.03558085451068597, 0.14232341804274387, 0.049813196314960353, 0.04269702541282316, 0.04269702541282316, 0.020217280749633113, 0.08086912299853245, 0.12130368449779869, 0.545866580240094, 0.18195552674669802, 0.040434561499266226, 0.8806823144786439, 0.6890039248616775, 0.027560156994467098, 0.1378007849723355, 0.027560156994467098, 0.055120313988934196, 0.0826804709834013, 0.8065273151127478, 0.10081591438909347, 0.050407957194546736, 0.050407957194546736, 0.8510401264525779, 0.05889650309928063, 0.1971596353750309, 0.09947763023476058, 0.19680051035613283, 0.04524975238115463, 0.051354877702421524, 0.07254325381740663, 0.04489062736225658, 0.07649362902528521, 0.15729675827734704, 0.10113707297850072, 0.09847557105801386, 0.015081844216092212, 0.07540922108046107, 0.15791578061555375, 0.10734724412630339, 0.13573659794482992, 0.08871673068289537, 0.13484943063800095, 0.08516806145557955, 0.06487923973221764, 0.05406603311018137, 0.03243961986610882, 0.6163527774560676, 0.03243961986610882, 0.06487923973221764, 0.08650565297629019, 0.05406603311018137, 0.010813206622036274, 0.0658524985110955, 0.07408406082498244, 0.02743854104628979, 0.42529738621749175, 0.11524187239441712, 0.049389373883321624, 0.10975416418515915, 0.002743854104628979, 0.05762093619720856, 0.07408406082498244, 0.07014399269289999, 0.030863356784875992, 0.053309434446603986, 0.06453247327746799, 0.30863356784875995, 0.05892095386203598, 0.08978431064691197, 0.05611519415431999, 0.24690685427900794, 0.022446077661727994, 0.8533399008405005, 0.07757635462186369, 0.9103087503009878, 0.12980140076936203, 0.05192056030774481, 0.12071530271550669, 0.031801343188493696, 0.11552324668473221, 0.04932453229235757, 0.030503329180800075, 0.3381326490041881, 0.04932453229235757, 0.0830728964923917, 0.12868541736234193, 0.8364552128552226, 0.07262255493948801, 0.07262255493948801, 0.7988481043343681, 0.07262255493948801, 0.26634047770637553, 0.37431634704679806, 0.021595173868084502, 0.028793565157446004, 0.07198391289361501, 0.11517426062978402, 0.021595173868084502, 0.035991956446807506, 0.05758713031489201, 0.04951393649116704, 0.0309462103069794, 0.018567726184187637, 0.11140635710512584, 0.018567726184187637, 0.12997408328931348, 0.3032728610083981, 0.16092029359629287, 0.09902787298233408, 0.08046014679814643, 0.029920685447487924, 0.13962986542161032, 0.1022290086122504, 0.04986780907914654, 0.012466952269786636, 0.08976205634246377, 0.40392925354108694, 0.009973561815829307, 0.027427294993530596, 0.13214969405973834, 0.03465331799361479, 0.19925657846328504, 0.29455320294572573, 0.021658323746009244, 0.03898498274281664, 0.10829161873004622, 0.07363830073643143, 0.051979976990422186, 0.07363830073643143, 0.10395995398084437, 0.8691140686412167, 0.06846216816089094, 0.19041040519747793, 0.12194823703658698, 0.12622712254664267, 0.08771715295614152, 0.14762155009692107, 0.09841436673128072, 0.06632272540586309, 0.04706774061061252, 0.04706774061061252, 0.019909554574229053, 0.45791975520726824, 0.039819109148458105, 0.07466082965335895, 0.05972866372268716, 0.11447993880181706, 0.019909554574229053, 0.08959299558403074, 0.019909554574229053, 0.10452516151470252, 0.005468449612251493, 0.17499038759204777, 0.04648182170413769, 0.2242064341023112, 0.010936899224502986, 0.051950271316389185, 0.049216046510263435, 0.02187379844900597, 0.019139573642880225, 0.3964625968882332, 0.857180425444656, 0.9209373693728801, 0.039763959707012034, 0.019881979853506017, 0.06958692948727106, 0.019881979853506017, 0.4075805869968734, 0.039763959707012034, 0.09940989926753009, 0.06958692948727106, 0.1292328690477891, 0.09940989926753009, 0.885793497502057, 0.11040555546323678, 0.7728388882426575, 0.0994831431909248, 0.8456067171228608, 0.8501469171496548, 0.952676659041931, 0.09746830516036283, 0.02352683228008758, 0.09410732912035032, 0.07058049684026274, 0.25543417904095084, 0.09074635308033781, 0.04369268852016265, 0.08402440100031278, 0.1714097780406381, 0.06721952080025023, 0.2354239093497888, 0.10986449102990144, 0.5179326005695354, 0.031389854579971836, 0.09416956373991552, 0.83975174419716, 0.8881593876884325, 0.9561807568334841, 0.07622238530593177, 0.09008100081610118, 0.05543446204067765, 0.08315169306101648, 0.5127687738762683, 0.05543446204067765, 0.0970103085711859, 0.013858615510169413, 0.05782841518413798, 0.14719960228689666, 0.015771385959310356, 0.02102851461241381, 0.03154277191862071, 0.06308554383724142, 0.0998854444089656, 0.026285643265517262, 0.07359980114344833, 0.45737019282000035, 0.8017294608725055, 0.10021618260906319, 0.033241658746627045, 0.024931244059970287, 0.029086451403298668, 0.1495874643598217, 0.04155207343328381, 0.3739686608995543, 0.10803539092653791, 0.012465622029985144, 0.10388018358320952, 0.12465622029985143, 0.8877069366237306, 0.04631621698736072, 0.09263243397472144, 0.7410594717977715, 0.09263243397472144, 0.04631621698736072, 0.1868551010454721, 0.03737102020909442, 0.6726783637636995, 0.03737102020909442, 0.07474204041818884, 0.9454662922160461, 0.8964340052714823, 0.022356922222129014, 0.011178461111064507, 0.06707076666638705, 0.03353538333319352, 0.04471384444425803, 0.6930645888859994, 0.011178461111064507, 0.11178461111064507, 0.035216671724637154, 0.08804167931159289, 0.052825007586955734, 0.035216671724637154, 0.017608335862318577, 0.6162917551811502, 0.017608335862318577, 0.1584750227608672, 0.8065210391613158, 0.10081512989516447, 0.842131759475675, 0.854118565800022, 0.10676482072500275, 0.9143981383787468, 0.9469122441475436, 0.16105938969913558, 0.04218222111167837, 0.10353817909230145, 0.07477757378888437, 0.15147252126466323, 0.09011656328404015, 0.01725636318205024, 0.1859852476287637, 0.13613353176950746, 0.03643010005099495, 0.13747376146522908, 0.030072385320518858, 0.02577633027473045, 0.004296055045788409, 0.07732899082419135, 0.45108577980778286, 0.07732899082419135, 0.13747376146522908, 0.042960550457884085, 0.017184220183153635, 0.02114175031883418, 0.05285437579708544, 0.0951378764347538, 0.16913400255067343, 0.05285437579708544, 0.11627962675358798, 0.031712625478251266, 0.43340588153610066, 0.02114175031883418, 0.02868239106286975, 0.08604717318860924, 0.08604717318860924, 0.7457421676346134, 0.02868239106286975, 0.02868239106286975, 0.1497631896739933, 0.8236975432069632, 0.13349338686305479, 0.8454581167993469, 0.3866950545204194, 0.1379438498581613, 0.08367085975003227, 0.02713649505406452, 0.02487512046622581, 0.05653436469596775, 0.11759147856761291, 0.0678412376351613, 0.02035237129054839, 0.07462536139867743, 0.09216615812733006, 0.06254132158640255, 0.36208133550022525, 0.11849934616371008, 0.06583297009095004, 0.10204110364097257, 0.023041539531832515, 0.10862440065006758, 0.036208133550022524, 0.02962483654092752, 0.09260542202975093, 0.0296337350495203, 0.07593644606439576, 0.03333795193071033, 0.11483072331689115, 0.10742228955451108, 0.13520391616343636, 0.10186596423272602, 0.19447138626247695, 0.11112650643570111, 0.17050128843382104, 0.030561551700401885, 0.05951460067972999, 0.025736043537180536, 0.1447652448966405, 0.27666246802469074, 0.07720813061154161, 0.02412754081610675, 0.06434010884295134, 0.12546321224375512, 0.8936648156216659, 0.05957765437477772, 0.08702374470047466, 0.019338609933438815, 0.05801582980031644, 0.03867721986687763, 0.05801582980031644, 0.5608196880697256, 0.1257009645673523, 0.009669304966719408, 0.03867721986687763, 0.019338609933438815, 0.8386696997251588, 0.08386696997251589, 0.08386696997251589, 0.09877333578958464, 0.02822095308273847, 0.159918734135518, 0.004703492180456411, 0.004703492180456411, 0.02822095308273847, 0.079959367067759, 0.079959367067759, 0.21636064030099492, 0.3010234995492103, 0.06902415546834324, 0.7592657101517756, 0.06902415546834324, 0.06902415546834324, 0.9448890506360204, 0.087908403989155, 0.03223308146269017, 0.03223308146269017, 0.014651400664859166, 0.18753792851019735, 0.06446616292538034, 0.0966992443880705, 0.087908403989155, 0.3809364172863383, 0.017581680797831, 0.0640005167505229, 0.8960072345073206, 0.3538061325670179, 0.033114859698390835, 0.09760169174262562, 0.09063014233243807, 0.09063014233243807, 0.06622971939678167, 0.07494415615951609, 0.04357218381367215, 0.10631612850536004, 0.04705795851876592, 0.026401767922149624, 0.07333824422819339, 0.1144076609959817, 0.06747118468993793, 0.04987000607517151, 0.1642776670711532, 0.03520235722953283, 0.19948002430068604, 0.19361296476243056, 0.07333824422819339, 0.032427345106340315, 0.06485469021268063, 0.09728203531902095, 0.09728203531902095, 0.032427345106340315, 0.6485469021268063, 0.9389693429426832, 0.01950605091917648, 0.01950605091917648, 0.03511089165451766, 0.02340726110301177, 0.19115929900792947, 0.03901210183835296, 0.31209681470682366, 0.11703630551505886, 0.08192541386054121, 0.16385082772108242, 0.11240295878497483, 0.14987061171329977, 0.01873382646416247, 0.01873382646416247, 0.009366913232081235, 0.48707948806822426, 0.01873382646416247, 0.08430221908873112, 0.046834566160406176, 0.056201479392487416, 0.9059420864173748, 0.07549517386811457, 0.009208480288208098, 0.44200705383398864, 0.02762544086462429, 0.14733568461132956, 0.07366784230566478, 0.02762544086462429, 0.10129328317028907, 0.11971024374670526, 0.05525088172924858, 0.038641156980262305, 0.038641156980262305, 0.038641156980262305, 0.50233504074341, 0.02576077132017487, 0.09016269962061205, 0.09016269962061205, 0.1416842422609618, 0.012880385660087436, 0.15885086440989177, 0.05295028813663059, 0.015885086440989175, 0.17473595085088095, 0.06883537457761976, 0.32829178644710966, 0.07942543220494588, 0.04236023050930447, 0.021180115254652236, 0.0635403457639567, 0.2557913138353933, 0.540003884763608, 0.15631691401051812, 0.04263188563923221, 0.09780004041751691, 0.2465376018858239, 0.07487815594466139, 0.10289379252259592, 0.03361876389352144, 0.05501252273485326, 0.10747816941716704, 0.08099065847075619, 0.09780004041751691, 0.10340316773310382, 0.05144411968703361, 0.10288823937406721, 0.8231059149925377, 0.9227258371661313, 0.8451371350144699, 0.8430761659687637, 0.2891295368984194, 0.06505414580214437, 0.018070596056151213, 0.043369430534762915, 0.10480945712567705, 0.054211788168453644, 0.1698636029278214, 0.15540712608290044, 0.025298834478611698, 0.0758965034358351, 0.9185318701657295, 0.8954861696538344, 0.8751874234833819, 0.05486776086633664, 0.23285342416445307, 0.10170609331320939, 0.11107375980258394, 0.030779475607944945, 0.042823618237140794, 0.15389737803972472, 0.06691190349553248, 0.08029428419463899, 0.12579437857160108, 0.10854463302738614, 0.8683570642190891, 0.9231434087246679, 0.04242697077635047, 0.031820228082262855, 0.08485394155270094, 0.031820228082262855, 0.09546068424678857, 0.04242697077635047, 0.010606742694087618, 0.5091236493162057, 0.031820228082262855, 0.12728091232905142, 0.427975291941735, 0.014631633912537948, 0.09144771195336218, 0.054868627172017306, 0.054868627172017306, 0.08047398651895872, 0.04755281021574833, 0.09144771195336218, 0.04023699325947936, 0.10242143738776564, 0.1090822356675512, 0.03636074522251706, 0.3249741604262463, 0.08635676990347803, 0.09317440963269998, 0.01818037261125853, 0.04999602468096096, 0.12953515485521705, 0.09999204936192192, 0.05226857125736828, 0.10130465978648677, 0.2690905025578555, 0.028491935564949403, 0.11555062756896148, 0.044320788656587964, 0.03324059149244097, 0.12979659535143617, 0.044320788656587964, 0.0823100360765205, 0.1503741043705663, 0.4946352302625752, 0.007728675472852738, 0.09274410567423286, 0.023186026418558214, 0.03864337736426369, 0.13911615851134929, 0.007728675472852738, 0.06955807925567464, 0.05410072830996917, 0.06955807925567464, 0.11238353372463514, 0.024974118605474476, 0.062435296513686185, 0.024974118605474476, 0.0998964744218979, 0.024974118605474476, 0.42456001629306606, 0.14984471163284685, 0.04994823721094895, 0.04994823721094895, 0.8828954033495638, 0.09809948926106264, 0.01109291357593708, 0.13311496291124497, 0.09983622218343373, 0.04437165430374832, 0.4991811109171686, 0.0554645678796854, 0.1109291357593708, 0.04437165430374832, 0.8603139527509654, 0.08603139527509654, 0.9105841479036251, 0.06535444994696604, 0.03267722497348302, 0.6862217244431434, 0.06535444994696604, 0.1633861248674151, 0.9385823670425518, 0.9520752766424939, 0.07185258225512656, 0.8622309870615186, 0.07185258225512656, 0.9425584203098781, 0.9605205888901577, 0.9061203066095829, 0.8519377420640908, 0.9201170312538128, 0.8862483743963423, 0.838882997354519, 0.05117871559831234, 0.02558935779915617, 0.6141445871797481, 0.17912550459409318, 0.02558935779915617, 0.07676807339746851, 0.02558935779915617, 0.02558935779915617, 0.8399108105394637, 0.19100952702832785, 0.032611382663373045, 0.002329384475955218, 0.06988153427865652, 0.1863507580764174, 0.11181045484585045, 0.10249291694202958, 0.13044553065349218, 0.044258305043149135, 0.13044553065349218, 0.8974053345876581, 0.6327218848822347, 0.12654437697644694, 0.06327218848822347, 0.06327218848822347, 0.0949082827323352, 0.9026400326100972, 0.9194882951614073, 0.10577431192686164, 0.899081651378324, 0.06642835380594363, 0.0896782776380239, 0.01992850614178309, 0.28232050367526046, 0.036535594593269, 0.049821265354457724, 0.1793565552760478, 0.109606783779807, 0.1262138722312929, 0.036535594593269, 0.03363181013322638, 0.01681590506661319, 0.06726362026645276, 0.11771133546629232, 0.06726362026645276, 0.01681590506661319, 0.01681590506661319, 0.6390043925313013, 0.01681590506661319, 0.08760035403545703, 0.012514336290779577, 0.10011469032623661, 0.06257168145389788, 0.06257168145389788, 0.3504014161418281, 0.10011469032623661, 0.025028672581559153, 0.07508601774467746, 0.13140053105318555, 0.16338728545486836, 0.8169364272743418, 0.05443140058133316, 0.09630170872082021, 0.04187030813948705, 0.06280546220923057, 0.3600846499995886, 0.13398498604635856, 0.02512218488369223, 0.029309215697640934, 0.0837406162789741, 0.11304983197661503, 0.873160387831072, 0.11553910045642023, 0.03772705321025967, 0.3324696564154133, 0.021221467430771062, 0.15090821284103867, 0.035369112384618435, 0.02357940825641229, 0.08960175137436671, 0.06838028394359565, 0.12732880458462636, 0.2447805134236319, 0.05321315509209389, 0.08780170590195494, 0.00532131550920939, 0.05321315509209389, 0.06651644386511738, 0.22349525138679435, 0.08780170590195494, 0.08780170590195494, 0.09046236365655963, 0.842313975659852, 0.9731776408661604, 0.9497899872743222, 0.9275073747693904, 0.8510931473156443, 0.9241317790331717, 0.914463231726812, 0.8073797580105931, 0.05766998271504237, 0.11533996543008473, 0.09800242605593178, 0.4606114024628794, 0.05880145563355907, 0.029400727816779534, 0.019600485211186357, 0.06860169823915224, 0.11760291126711814, 0.019600485211186357, 0.029400727816779534, 0.09800242605593178, 0.11580583215101639, 0.028951458037754098, 0.8395922830948688, 0.958160966085705, 0.8345134157553606, 0.0866008950549454, 0.04566229011988031, 0.05983334567432592, 0.06613159258741286, 0.23775882096903195, 0.08187720987013021, 0.018894740739260816, 0.06613159258741286, 0.11651756789210838, 0.22043864195804286, 0.8796340835581108, 0.9328440223070564, 0.8485676339284505, 0.025700368761636467, 0.08878309208565324, 0.17756618417130648, 0.2009301557727942, 0.09345588640595079, 0.11214706368714093, 0.06308272332401678, 0.10981066652699217, 0.06308272332401678, 0.06775551764431431, 0.9224641845353647, 0.0676441295185582, 0.20293238855567458, 0.04058647771113492, 0.0676441295185582, 0.33822064759279097, 0.16234591084453967, 0.00676441295185582, 0.04735089066299074, 0.01352882590371164, 0.05411530361484656, 0.17602481219171426, 0.013970223189818592, 0.011176178551854873, 0.15926054436393194, 0.04470471420741949, 0.03352853565556462, 0.22631761567506117, 0.1536724550880045, 0.1816129014676417, 0.02393489155290431, 0.041886060217582545, 0.3470559275171125, 0.07180467465871293, 0.08975584332339116, 0.05983722888226077, 0.05983722888226077, 0.17951168664678233, 0.017951168664678233, 0.10172328909984331, 0.2181779463863578, 0.0495025592641316, 0.08800454980290062, 0.16134167463865115, 0.15217453403418232, 0.0641699842312817, 0.07517055295664428, 0.05866969986860041, 0.0935048341655819, 0.03850199053876902, 0.908629614958576, 0.06208048756715778, 0.8070463383730512, 0.06208048756715778, 0.06208048756715778, 0.9167906531408456, 0.07630844473002785, 0.8393928920303063, 0.07630844473002785, 0.038615702706452225, 0.14159090992365816, 0.3732851261623715, 0.09653925676613057, 0.11584710811935667, 0.057923554059678334, 0.012871900902150742, 0.09653925676613057, 0.07723140541290445, 0.03813844409349164, 0.7627688818698327, 0.15255377637396655, 0.03813844409349164, 0.10550747400939522, 0.14067663201252695, 0.2813532640250539, 0.14507277676291844, 0.06154602650548054, 0.06594217125587201, 0.05275373700469761, 0.10111132925900375, 0.03077301325274027, 0.013188434251174403, 0.8256921803841859, 0.12702956621295167, 0.8872123823131777, 0.13312474181673495, 0.022187456969455826, 0.7765609939309539, 0.06656237090836747, 0.930741787632939, 0.05104107547539237, 0.017013691825130788, 0.04253422956282697, 0.025520537737696185, 0.04253422956282697, 0.09357530503821934, 0.4763833711036621, 0.05104107547539237, 0.04253422956282697, 0.1531232264261771, 0.924198778663366, 0.8755770855412063, 0.8028831045613957, 0.8006221139177115, 0.08006221139177115, 0.8943089953359412, 0.9323519207987443, 0.8806278159489224, 0.12146550654169447, 0.2024425109028241, 0.06748083696760804, 0.12821359023845527, 0.013496167393521608, 0.3643965196250834, 0.04048850218056482, 0.047236585877325626, 0.02024425109028241, 0.1096514993864255, 0.877211995091404, 0.4912209082755134, 0.05132158743177006, 0.02932662138958289, 0.021994966042187168, 0.0659848981265615, 0.05132158743177006, 0.10264317486354012, 0.11730648555833156, 0.007331655347395723, 0.0659848981265615, 0.04560653103504895, 0.24323483218692774, 0.0912130620700979, 0.015202177011682983, 0.5168740183972214, 0.07601088505841491, 0.07872108062963512, 0.03148843225185405, 0.5195591321555918, 0.17318637738519724, 0.03148843225185405, 0.07872108062963512, 0.0629768645037081, 0.015744216125927024, 0.7526629224447438, 0.039613838023407566, 0.19806919011703783, 0.12997200601417858, 0.04332400200472619, 0.08861727682784903, 0.06301673018869264, 0.04135472918632955, 0.08467873119105573, 0.19889655465806116, 0.13391055165097188, 0.1398183701061618, 0.07680163991746916, 0.019408298536509657, 0.13197643004826567, 0.0621065553168309, 0.1475030688774734, 0.015526638829207726, 0.12033145092635987, 0.04269825678032124, 0.2445445615600217, 0.13973974946286952, 0.06986987473143476, 0.9723106264093875, 0.0101703319601755, 0.030510995880526498, 0.12204398352210599, 0.284769294884914, 0.020340663920351, 0.11187365156193049, 0.39664294644684445, 0.0101703319601755, 0.0101703319601755, 0.41282039169159346, 0.02381656105913039, 0.05557197580463758, 0.015877707372753597, 0.09526624423652157, 0.2699210253368111, 0.039694268431883985, 0.04763312211826078, 0.015877707372753597, 0.015877707372753597, 0.0501068369186485, 0.10674934821799027, 0.16992753389802534, 0.13942772012145668, 0.13942772012145668, 0.13071348761386564, 0.07842809256831938, 0.04357116253795521, 0.05664251129934178, 0.08496376694901267, 0.012758523622472553, 0.025517047244945107, 0.051034094489890214, 0.11482671260225298, 0.01913778543370883, 0.06379261811236277, 0.09568892716854416, 0.3317216141842864, 0.2806875196943962, 0.8439521469393744, 0.08456450010963858, 0.8456450010963857, 0.06476675353080062, 0.06476675353080062, 0.841967795900408, 0.06934117555239118, 0.13868235110478236, 0.06356274425635858, 0.028892156480162988, 0.06356274425635858, 0.06934117555239118, 0.2138019579532061, 0.03467058777619559, 0.028892156480162988, 0.2831431335055973, 0.01100745236304463, 0.02201490472608926, 0.12108197599349092, 0.12108197599349092, 0.03302235708913389, 0.02201490472608926, 0.1541043330826248, 0.46231299924787445, 0.01100745236304463, 0.05503726181522315, 0.1267565090921163, 0.03669267368455999, 0.04336406889993453, 0.07338534736911997, 0.05003546411530907, 0.05003546411530907, 0.22015604210735992, 0.233498832538109, 0.10340662583830541, 0.06337825454605815, 0.9155302352963929, 0.8891445732554091, 0.10460524391240107, 0.8913939056980076, 0.08228629596743667, 0.8777204903193245, 0.02742876532247889, 0.07395459325144256, 0.028444074327477906, 0.06826577838594697, 0.12515392704090278, 0.05688814865495581, 0.176353260830363, 0.10808748244441604, 0.3071960027367614, 0.028444074327477906, 0.028444074327477906, 0.1115276170417666, 0.0557638085208833, 0.02788190426044165, 0.6691657022505997, 0.13940952130220827, 0.04743966865380654, 0.04743966865380654, 0.1138552047691357, 0.14231900596141964, 0.13283107223065832, 0.028463801192283925, 0.01897586746152262, 0.4079811504227363, 0.04743966865380654, 0.8506292656031378, 0.06480160913229564, 0.12600312886835263, 0.28800715169909175, 0.1764043804156937, 0.09000223490596618, 0.028800715169909175, 0.08280205611348888, 0.018000446981193234, 0.1152028606796367, 0.01080026818871594, 0.878676546630342, 0.06759050358694939, 0.100722520986001, 0.805780167888008, 0.04466546242737154, 0.08933092485474307, 0.029776974951581024, 0.1191078998063241, 0.4764315992252964, 0.07444243737895256, 0.014888487475790512, 0.14888487475790513, 0.8169710617288125, 0.034702103779118386, 0.034702103779118386, 0.10410631133735516, 0.034702103779118386, 0.13880841511647354, 0.624637868024131, 0.1741820479062952, 0.03265913398243035, 0.091445575150805, 0.08273647275549023, 0.12410470913323535, 0.0696728191625181, 0.12628198473206403, 0.154586567516837, 0.11539560673792058, 0.028304582784772974, 0.12511849734676692, 0.21383888637447437, 0.04777251716876555, 0.015924172389588518, 0.23431282230394535, 0.07052133486817772, 0.08872038902770746, 0.011374408849706084, 0.06369668955835407, 0.12739337911670814, 0.05717147648850172, 0.17866086402656786, 0.02858573824425086, 0.009528579414750287, 0.07146434561062714, 0.3096788309793843, 0.11196080812331587, 0.06908220075693958, 0.08575721473275258, 0.0762286353180023, 0.11241737479962899, 0.02944264578085521, 0.15524304138996384, 0.18736229133271498, 0.1418600205804842, 0.06156189572360635, 0.06959170820929413, 0.10171095815204527, 0.07762152069498192, 0.06156189572360635, 0.08337569908106714, 0.20010167779456114, 0.11005592278700863, 0.2067717337210465, 0.06336553130161103, 0.01667513981621343, 0.026680223705941485, 0.12339603463997938, 0.13673614649295013, 0.040020335558912226, 0.8159915522123976, 0.03590568086844458, 0.13165416318429682, 0.430868170421335, 0.047874241157926115, 0.05984280144740764, 0.07181136173688916, 0.11968560289481528, 0.03590568086844458, 0.05984280144740764, 0.018809508769192282, 0.0940475438459614, 0.037619017538384564, 0.13166656138434596, 0.05642852630757684, 0.018809508769192282, 0.6583328069217298, 0.029229050598404253, 0.13153072769281912, 0.038972067464539004, 0.034100559031471626, 0.024357542165336876, 0.05358659276374113, 0.05358659276374113, 0.13153072769281912, 0.4579217927083333, 0.04384357589760638, 0.05007994350917861, 0.10015988701835722, 0.10015988701835722, 0.3755995763188396, 0.09181322976682746, 0.04173328625764885, 0.06677325801223816, 0.03338662900611908, 0.05842660076070838, 0.07511991526376792, 0.8554676329965316, 0.7925026522122257, 0.04119799632653796, 0.8239599265307591, 0.04119799632653796, 0.08239599265307591, 0.8475611760869464, 0.044542464972407554, 0.4276076637351125, 0.08908492994481511, 0.01781698598896302, 0.00890849299448151, 0.00890849299448151, 0.1870783528841117, 0.10690191593377812, 0.07126794395585208, 0.02672547898344453, 0.06973108305929637, 0.034865541529648186, 0.034865541529648186, 0.034865541529648186, 0.13946216611859275, 0.034865541529648186, 0.034865541529648186, 0.6275797475336673, 0.8722424373104997, 0.08722424373104996, 0.8617154376141306, 0.027192026224206165, 0.07477807211656695, 0.1654181595305875, 0.0679800655605154, 0.07251206993121644, 0.24472823601785548, 0.09064008741402055, 0.05438405244841233, 0.0657140633751649, 0.13822613330638134, 0.7800852503257114, 0.06500710419380928, 0.06500710419380928, 0.06500710419380928, 0.8918242233289864, 0.012033850409310836, 0.11432157888845293, 0.1323723545024192, 0.012033850409310836, 0.018050775613966254, 0.40313398871191297, 0.006016925204655418, 0.22262623257225045, 0.0661861772512096, 0.012033850409310836, 0.013065996762971207, 0.24172094011496734, 0.019598995144456812, 0.09472847653154125, 0.039197990288913624, 0.13065996762971208, 0.08492897895931284, 0.25152043768719573, 0.08819547815005564, 0.03593149109817082, 0.9627406327535815, 0.021880468926217762, 0.8604104744811194, 0.9378900511220777, 0.07357278362036335, 0.10875976709097189, 0.09596450037438696, 0.2878935011231609, 0.07037396694121711, 0.15034438391987293, 0.04798225018719348, 0.009596450037438696, 0.10556095041182566, 0.05118106686633971, 0.004541667969308885, 0.004541667969308885, 0.16804171486442873, 0.00908333593861777, 0.09991669532479547, 0.15895837892581097, 0.1226250351713399, 0.14079170704857544, 0.28612508206645976, 0.004541667969308885, 0.21909716868761678, 0.02172864482852398, 0.09415746092360391, 0.13761475058065187, 0.0950628211247924, 0.03168760704159747, 0.14304691178778287, 0.07967169770458792, 0.1077378639414314, 0.06971273549151444, 0.948839181658918, 0.8650686985832283, 0.8771383584922898, 0.022227149449256113, 0.09446538515933849, 0.03334072417388417, 0.05001108626082626, 0.0777950230723964, 0.43898620162280827, 0.18893077031867697, 0.016670362086942087, 0.016670362086942087, 0.06112466098545431, 0.8737281230791213, 0.8766947022087551, 0.0638121125747404, 0.8295574634716252, 0.0638121125747404, 0.0638121125747404, 0.930278287956296, 0.8795791818692166, 0.05728110162901328, 0.8592165244351991, 0.05728110162901328, 0.09227879543395233, 0.830509158905571, 0.6671684120417788, 0.027798683835074115, 0.027798683835074115, 0.05559736767014823, 0.027798683835074115, 0.027798683835074115, 0.13899341917537059, 0.9097076823394855, 0.950137290857052, 0.08281063568513708, 0.30018855435862196, 0.04658098257288961, 0.08281063568513708, 0.03105398838192641, 0.06728364149417389, 0.17079693610059524, 0.03105398838192641, 0.06210797676385282, 0.12421595352770563, 0.12010911193726279, 0.327570305283444, 0.0491355457925166, 0.12010911193726279, 0.15286614246560717, 0.0436760407044592, 0.032757030528344395, 0.0109190101761148, 0.081892576320861, 0.06551406105668879, 0.9527112817225377, 0.04512441396439427, 0.26510593204081634, 0.12409213840208425, 0.05076496570994355, 0.05358524158271819, 0.036663586346070344, 0.19459903522145028, 0.09306910380156318, 0.10717048316543638, 0.02820275872774642, 0.9379114523300356, 0.9571981073509797, 0.8228493451931356, 0.0481562986972479, 0.0481562986972479, 0.01805861201146796, 0.14446889609174368, 0.06019537337155987, 0.07223444804587184, 0.05417583603440388, 0.5297192856697268, 0.030097686685779935, 0.049862194563970494, 0.049862194563970494, 0.049862194563970494, 0.48615639699871227, 0.1121899377689336, 0.03739664592297787, 0.12465548640992623, 0.1121899377689336, 0.8202503135320253, 0.08202503135320253, 0.10014862457567707, 0.8011889966054165, 0.2271437400542741, 0.04904239842080918, 0.056785935013568524, 0.12905894321265574, 0.0696918293348341, 0.06711065047058098, 0.07485418706334034, 0.13422130094116197, 0.1393836586696682, 0.056785935013568524, 0.062079921648036565, 0.026991270281755027, 0.2024345271131627, 0.16464674871870566, 0.07287642976073858, 0.03778777839445704, 0.06477904867621206, 0.13225722438059964, 0.12146071626789763, 0.11066420815519562, 0.11222307621232991, 0.14963076828310654, 0.7107461493447561, 0.14293845547944717, 0.09529230365296477, 0.7146922773972358, 0.05157144690632003, 0.014734699116091437, 0.2406667522294935, 0.07735717035948005, 0.05279933849932765, 0.23207151107844015, 0.0933197610685791, 0.06262247124338861, 0.1375238584168534, 0.036836747790228594, 0.058236273856943535, 0.029118136928471768, 0.029118136928471768, 0.029118136928471768, 0.873544107854153, 0.9322147703723107, 0.08304374766267399, 0.016608749532534797, 0.008304374766267398, 0.04152187383133699, 0.016608749532534797, 0.6726543560676593, 0.016608749532534797, 0.06643499813013919, 0.08304374766267399, 0.06316121335857593, 0.013816515422188484, 0.07303015294585341, 0.027633030844376967, 0.18356227632336128, 0.29804197553578016, 0.1539554575615288, 0.04539712210147645, 0.06118742544112043, 0.0809253046156754, 0.12478775736228327, 0.36351216275099907, 0.10851109335850719, 0.016276664003776076, 0.027127773339626796, 0.03797888267547751, 0.1464899760339847, 0.08138332001888039, 0.0651066560151043, 0.021702218671701436, 0.9514154849670045, 0.18847043927247523, 0.13492770084279476, 0.05568444796686768, 0.06425128611561655, 0.16491163436341583, 0.08995180056186318, 0.03855077166936993, 0.1520613771402925, 0.05354273842968046, 0.0578261575040549, 0.9386249041391757, 0.8430346973514179, 0.029588334561598758, 0.11835333824639503, 0.029588334561598758, 0.029588334561598758, 0.6509433603551726, 0.11835333824639503, 0.8497404118462557, 0.939439874696524, 0.12005442344785042, 0.033206542655788415, 0.0970652785323046, 0.06896743474663747, 0.14559791779845688, 0.06896743474663747, 0.11494572457772913, 0.038315241525909705, 0.15581531553869948, 0.15836966497376012, 0.07933103119991802, 0.036614322092269856, 0.09458699873836379, 0.10679177276912041, 0.20748115852286253, 0.13730370784601195, 0.030511935076891546, 0.04576790261533732, 0.07322864418453971, 0.18917399747672758, 0.041887873425564146, 0.041887873425564146, 0.08377574685112829, 0.7120938482345904, 0.020943936712782073, 0.08377574685112829, 0.15379997637270462, 0.030759995274540923, 0.08458998700498754, 0.07843798795007935, 0.24454196243260035, 0.12765398038934483, 0.07228598889517117, 0.0599819907853548, 0.06613398984026299, 0.08151398747753345, 0.8493443055036178, 0.10904050843042452, 0.10904050843042452, 0.19360253537646804, 0.015577215490060647, 0.08233671044746342, 0.09568860943894397, 0.07566076095172314, 0.03560506397728148, 0.19137721887788794, 0.09123797644178379, 0.15119848554938137, 0.08213251066879976, 0.09706569442676334, 0.13066535788218142, 0.06159938300159981, 0.05413279112261802, 0.16053172539810862, 0.06719932691083616, 0.09706569442676334, 0.09706569442676334, 0.0615377120033723, 0.26538138301454306, 0.0730760330040046, 0.3076885600168615, 0.0038461070002107686, 0.015384428000843074, 0.057691605003161534, 0.019230535001053845, 0.06538381900358307, 0.1346137450073769, 0.8220361307585791, 0.9368598996919065], \"Term\": [\"accuse\", \"afghanistan\", \"afghanistan\", \"afghanistan\", \"afghanistan\", \"afghanistan\", \"afghanistan\", \"afghanistan\", \"afghanistan\", \"afghanistan\", \"afghanistan\", \"afloat\", \"afloat\", \"africa\", \"africa\", \"africa\", \"africa\", \"africa\", \"africa\", \"africa\", \"africa\", \"africa\", \"africa\", \"aig\", \"aig\", \"airplanes\", \"airport\", \"airport\", \"airport\", \"airport\", \"airport\", \"airport\", \"airport\", \"airport\", \"airways\", \"airways\", \"airways\", \"al\", \"al\", \"al\", \"al\", \"al\", \"al\", \"al\", \"al\", \"al\", \"al\", \"alert\", \"alert\", \"alert\", \"alert\", \"allege\", \"alternate\", \"alters\", \"america\", \"america\", \"america\", \"america\", \"america\", \"america\", \"america\", \"america\", \"america\", \"america\", \"american\", \"american\", \"american\", \"american\", \"american\", \"american\", \"american\", \"american\", \"american\", \"american\", \"americans\", \"americans\", \"americans\", \"americans\", \"americans\", \"americans\", \"americans\", \"americans\", \"americans\", \"americans\", \"anbar\", \"anbar\", \"angel\", \"anti\", \"anti\", \"anti\", \"anti\", \"anti\", \"anti\", \"anti\", \"anti\", \"anti\", \"aol\", \"aol\", \"aol\", \"appeals\", \"appeals\", \"appeals\", \"appeals\", \"appeals\", \"appeals\", \"appeals\", \"appeals\", \"approaches\", \"approaches\", \"approaches\", \"approaches\", \"approaches\", \"approaches\", \"arabic\", \"arabic\", \"area\", \"area\", \"area\", \"area\", \"area\", \"area\", \"area\", \"arise\", \"armor\", \"armor\", \"armstrong\", \"armstrong\", \"armstrong\", \"armstrong\", \"armstrong\", \"armstrong\", \"aside\", \"aside\", \"asserts\", \"asset\", \"astrodome\", \"attack\", \"attack\", \"attack\", \"attack\", \"attack\", \"attack\", \"attack\", \"attack\", \"attack\", \"attack\", \"attacks\", \"attacks\", \"attacks\", \"attacks\", \"attacks\", \"attacks\", \"attacks\", \"attacks\", \"attacks\", \"attacks\", \"attracts\", \"attracts\", \"attracts\", \"auctions\", \"automakers\", \"automakers\", \"automakers\", \"automakers\", \"automakers\", \"automatic\", \"autos\", \"avert\", \"aviv\", \"awaited\", \"back\", \"back\", \"back\", \"back\", \"back\", \"back\", \"back\", \"back\", \"back\", \"back\", \"backlog\", \"backlog\", \"baghdad\", \"baghdad\", \"baghdad\", \"baghdad\", \"baghdad\", \"baghdad\", \"baghdad\", \"bang\", \"bangkok\", \"bank\", \"bank\", \"bank\", \"bank\", \"bank\", \"bank\", \"bank\", \"bank\", \"bank\", \"barbaro\", \"barrel\", \"barrel\", \"barrel\", \"battle\", \"battle\", \"battle\", \"battle\", \"battle\", \"battle\", \"battle\", \"battle\", \"battle\", \"battle\", \"behind\", \"behind\", \"behind\", \"behind\", \"behind\", \"behind\", \"behind\", \"behind\", \"behind\", \"behind\", \"belt\", \"belt\", \"belt\", \"berlusconi\", \"bets\", \"bets\", \"bets\", \"better\", \"better\", \"better\", \"better\", \"better\", \"better\", \"better\", \"better\", \"better\", \"better\", \"bhutto\", \"bhutto\", \"bhutto\", \"bhutto\", \"bhutto\", \"big\", \"big\", \"big\", \"big\", \"big\", \"big\", \"big\", \"big\", \"big\", \"big\", \"bill\", \"bill\", \"bill\", \"bill\", \"bill\", \"bill\", \"bill\", \"bill\", \"bill\", \"bill\", \"bills\", \"bills\", \"bills\", \"bills\", \"bills\", \"bills\", \"bills\", \"bishops\", \"bishops\", \"bits\", \"black\", \"black\", \"black\", \"black\", \"black\", \"black\", \"black\", \"black\", \"black\", \"black\", \"blackberry\", \"blackouts\", \"blackwater\", \"blackwater\", \"blair\", \"blair\", \"blair\", \"blair\", \"blockbuster\", \"blockbuster\", \"bloggers\", \"bloggers\", \"bloggers\", \"bloggers\", \"bloggers\", \"bloggers\", \"bloggers\", \"bloggers\", \"bloggers\", \"blogs\", \"blogs\", \"blogs\", \"boil\", \"bolster\", \"bolster\", \"bolster\", \"bonus\", \"bonuses\", \"book\", \"book\", \"book\", \"book\", \"book\", \"book\", \"book\", \"book\", \"book\", \"book\", \"boon\", \"boon\", \"boon\", \"boost\", \"boost\", \"boost\", \"boost\", \"boost\", \"boost\", \"boost\", \"boost\", \"boost\", \"borat\", \"border\", \"border\", \"border\", \"border\", \"border\", \"border\", \"border\", \"border\", \"border\", \"border\", \"bosnian\", \"bounty\", \"bowl\", \"bowl\", \"bowl\", \"bowl\", \"bowl\", \"bowl\", \"bowl\", \"bowl\", \"bowl\", \"brief\", \"brief\", \"brief\", \"brief\", \"brief\", \"brief\", \"brief\", \"brief\", \"brief\", \"brief\", \"briefing\", \"britain\", \"britain\", \"britain\", \"britain\", \"britain\", \"britain\", \"britain\", \"britain\", \"britain\", \"britain\", \"britons\", \"britons\", \"broadband\", \"brotherhood\", \"brownback\", \"bush\", \"bush\", \"bush\", \"bush\", \"bush\", \"bush\", \"bush\", \"bush\", \"bush\", \"bush\", \"business\", \"business\", \"business\", \"business\", \"business\", \"business\", \"business\", \"business\", \"business\", \"business\", \"businesses\", \"businesses\", \"businesses\", \"businesses\", \"businesses\", \"businesses\", \"businesses\", \"businesses\", \"businesses\", \"businesses\", \"buyout\", \"california\", \"california\", \"california\", \"california\", \"california\", \"california\", \"california\", \"california\", \"california\", \"california\", \"capitol\", \"capitol\", \"capitol\", \"capitol\", \"capitol\", \"capitol\", \"capitol\", \"capitol\", \"capitol\", \"care\", \"care\", \"care\", \"care\", \"care\", \"care\", \"care\", \"care\", \"care\", \"care\", \"cartels\", \"case\", \"case\", \"case\", \"case\", \"case\", \"case\", \"case\", \"case\", \"case\", \"case\", \"caution\", \"caution\", \"cease\", \"cease\", \"cease\", \"cease\", \"cease\", \"cease\", \"cease\", \"cease\", \"cease\", \"cell\", \"cell\", \"cell\", \"cell\", \"cell\", \"cell\", \"cell\", \"cell\", \"cell\", \"ceo\", \"ceo\", \"ceo\", \"ceo\", \"ceo\", \"ceo\", \"ceo\", \"ceo\", \"ceo\", \"change\", \"change\", \"change\", \"change\", \"change\", \"change\", \"change\", \"change\", \"change\", \"change\", \"chapel\", \"chechen\", \"checks\", \"checks\", \"checks\", \"checks\", \"checks\", \"checks\", \"chertoff\", \"chicago\", \"chicago\", \"chicago\", \"chicago\", \"chicago\", \"chicago\", \"chicago\", \"chicago\", \"chicago\", \"chicago\", \"children\", \"children\", \"children\", \"children\", \"children\", \"children\", \"children\", \"children\", \"children\", \"children\", \"china\", \"china\", \"china\", \"china\", \"china\", \"china\", \"china\", \"china\", \"china\", \"china\", \"chooses\", \"chooses\", \"christmas\", \"christmas\", \"christmas\", \"christmas\", \"christmas\", \"christmas\", \"christmas\", \"christmas\", \"christmas\", \"christmas\", \"cinematic\", \"cisco\", \"cited\", \"cites\", \"cites\", \"cites\", \"cites\", \"cites\", \"cites\", \"cites\", \"citigroup\", \"city\", \"city\", \"city\", \"city\", \"city\", \"city\", \"city\", \"city\", \"city\", \"city\", \"clashes\", \"clashes\", \"clashes\", \"clashes\", \"clashes\", \"clashes\", \"clashes\", \"class\", \"class\", \"class\", \"class\", \"class\", \"class\", \"class\", \"class\", \"class\", \"class\", \"classified\", \"cleanup\", \"cleanup\", \"cleanup\", \"climate\", \"climate\", \"climate\", \"climate\", \"climate\", \"climate\", \"climate\", \"climate\", \"climate\", \"climate\", \"clinton\", \"clinton\", \"clinton\", \"clinton\", \"clinton\", \"clinton\", \"clinton\", \"clinton\", \"clinton\", \"clinton\", \"closings\", \"clunkers\", \"college\", \"college\", \"college\", \"college\", \"college\", \"college\", \"college\", \"college\", \"college\", \"college\", \"comeback\", \"comeback\", \"comeback\", \"comeback\", \"comeback\", \"comeback\", \"comeback\", \"committed\", \"committed\", \"commuters\", \"commuters\", \"competing\", \"competing\", \"complicity\", \"congress\", \"congress\", \"congress\", \"congress\", \"congress\", \"congress\", \"congress\", \"congress\", \"congress\", \"congress\", \"consider\", \"consider\", \"consider\", \"consider\", \"consider\", \"consider\", \"consider\", \"consider\", \"consider\", \"consider\", \"constitution\", \"constitution\", \"constitution\", \"constitution\", \"constitution\", \"constitution\", \"constitution\", \"constitution\", \"consumers\", \"consumers\", \"consumers\", \"consumers\", \"consumers\", \"consumers\", \"consumers\", \"consumers\", \"contempt\", \"cool\", \"cool\", \"cool\", \"cool\", \"cool\", \"cooperation\", \"cooperation\", \"cooperation\", \"copes\", \"core\", \"core\", \"core\", \"core\", \"core\", \"corp\", \"corp\", \"costly\", \"costly\", \"costly\", \"costly\", \"could\", \"could\", \"could\", \"could\", \"could\", \"could\", \"could\", \"could\", \"could\", \"could\", \"court\", \"court\", \"court\", \"court\", \"court\", \"court\", \"court\", \"court\", \"court\", \"court\", \"crackdown\", \"crackdown\", \"crackdown\", \"crackdown\", \"crackdown\", \"crackdown\", \"crackdown\", \"crackdown\", \"credentials\", \"crews\", \"crews\", \"cripples\", \"crisis\", \"crisis\", \"crisis\", \"crisis\", \"crisis\", \"crisis\", \"crisis\", \"crisis\", \"crisis\", \"crisis\", \"crist\", \"criticize\", \"criticize\", \"criticize\", \"criticize\", \"crown\", \"crown\", \"crown\", \"crown\", \"cyprus\", \"dalai\", \"dalai\", \"day\", \"day\", \"day\", \"day\", \"day\", \"day\", \"day\", \"day\", \"day\", \"day\", \"deal\", \"deal\", \"deal\", \"deal\", \"deal\", \"deal\", \"deal\", \"deal\", \"deal\", \"deal\", \"dealer\", \"dealer\", \"dealer\", \"death\", \"death\", \"death\", \"death\", \"death\", \"death\", \"death\", \"death\", \"death\", \"death\", \"debate\", \"debate\", \"debate\", \"debate\", \"debate\", \"debate\", \"debate\", \"debate\", \"debate\", \"debate\", \"debates\", \"debates\", \"debates\", \"debates\", \"debates\", \"debates\", \"debates\", \"debates\", \"debates\", \"debates\", \"debt\", \"debt\", \"debt\", \"debt\", \"debt\", \"debt\", \"debt\", \"debt\", \"debt\", \"debt\", \"debts\", \"decries\", \"decry\", \"decry\", \"deepens\", \"deepens\", \"deepens\", \"defensive\", \"delirium\", \"democrats\", \"democrats\", \"democrats\", \"democrats\", \"democrats\", \"democrats\", \"democrats\", \"democrats\", \"democrats\", \"democrats\", \"deniers\", \"depot\", \"dept\", \"dept\", \"desperation\", \"destructive\", \"detainee\", \"detainee\", \"detainee\", \"detainee\", \"detainees\", \"detainees\", \"detainees\", \"detainees\", \"detainees\", \"detainees\", \"detecting\", \"devastation\", \"devastation\", \"devastation\", \"devastation\", \"developing\", \"developing\", \"differs\", \"digs\", \"dire\", \"disagree\", \"disagree\", \"disagree\", \"disagree\", \"disarray\", \"disclosure\", \"disclosure\", \"disclosure\", \"discord\", \"dismissal\", \"disputed\", \"disputed\", \"disputed\", \"dissident\", \"dodge\", \"dogfighting\", \"dollar\", \"dollar\", \"dollar\", \"dollar\", \"dollar\", \"dollar\", \"dollar\", \"dominated\", \"donates\", \"draws\", \"draws\", \"draws\", \"draws\", \"draws\", \"draws\", \"draws\", \"draws\", \"draws\", \"dreamliner\", \"dropped\", \"dropped\", \"dropped\", \"dropped\", \"dropped\", \"dual\", \"dubai\", \"dubai\", \"dumping\", \"earmarks\", \"earnings\", \"earnings\", \"earnings\", \"eases\", \"eases\", \"eases\", \"eases\", \"economic\", \"economic\", \"economic\", \"economic\", \"economic\", \"economic\", \"economic\", \"economic\", \"economic\", \"economic\", \"economy\", \"economy\", \"economy\", \"economy\", \"economy\", \"economy\", \"economy\", \"economy\", \"economy\", \"economy\", \"ed\", \"ed\", \"ed\", \"ed\", \"ed\", \"ed\", \"ed\", \"ed\", \"ed\", \"ed\", \"efficiency\", \"efficiency\", \"elderly\", \"elderly\", \"elderly\", \"election\", \"election\", \"election\", \"election\", \"election\", \"election\", \"election\", \"election\", \"election\", \"election\", \"elevators\", \"elliott\", \"endangered\", \"endangered\", \"endangered\", \"endangered\", \"endangered\", \"endangered\", \"endangered\", \"energy\", \"energy\", \"energy\", \"energy\", \"energy\", \"energy\", \"energy\", \"energy\", \"energy\", \"energy\", \"enjoy\", \"envoys\", \"estimates\", \"europeans\", \"evacuation\", \"evacuation\", \"evacuation\", \"evacuee\", \"examining\", \"examining\", \"examining\", \"examining\", \"examining\", \"examining\", \"examining\", \"examining\", \"examining\", \"examining\", \"example\", \"exchanges\", \"exchanges\", \"exchanges\", \"execs\", \"explosives\", \"exports\", \"exports\", \"exports\", \"extends\", \"extends\", \"exxon\", \"fading\", \"family\", \"family\", \"family\", \"family\", \"family\", \"family\", \"family\", \"family\", \"family\", \"family\", \"fatah\", \"fiasco\", \"fight\", \"fight\", \"fight\", \"fight\", \"fight\", \"fight\", \"fight\", \"fight\", \"fight\", \"fight\", \"financing\", \"financing\", \"fire\", \"fire\", \"fire\", \"fire\", \"fire\", \"fire\", \"fire\", \"fire\", \"fire\", \"fire\", \"first\", \"first\", \"first\", \"first\", \"first\", \"first\", \"first\", \"first\", \"first\", \"first\", \"flare\", \"flaws\", \"flaws\", \"flaws\", \"flexes\", \"flotilla\", \"flowing\", \"fluorescent\", \"foe\", \"foes\", \"foil\", \"food\", \"food\", \"food\", \"food\", \"food\", \"food\", \"food\", \"food\", \"food\", \"footing\", \"foreclosure\", \"foreclosure\", \"foreclosure\", \"foreclosure\", \"foreclosure\", \"former\", \"former\", \"former\", \"former\", \"former\", \"former\", \"former\", \"former\", \"former\", \"former\", \"francisco\", \"francisco\", \"francisco\", \"francisco\", \"francisco\", \"francisco\", \"francisco\", \"frustrate\", \"fuel\", \"fuel\", \"fuel\", \"fuel\", \"fuel\", \"fuel\", \"fuel\", \"fuel\", \"fuel\", \"fuel\", \"future\", \"future\", \"future\", \"future\", \"future\", \"future\", \"future\", \"future\", \"future\", \"future\", \"gadhafi\", \"gadhafi\", \"gadhafi\", \"gadhafi\", \"galapagos\", \"game\", \"game\", \"game\", \"game\", \"game\", \"game\", \"game\", \"game\", \"game\", \"game\", \"gaps\", \"gas\", \"gas\", \"gas\", \"gas\", \"gas\", \"gas\", \"gas\", \"gas\", \"gas\", \"gas\", \"gasoline\", \"gasoline\", \"gasoline\", \"gate\", \"gauging\", \"gauging\", \"gay\", \"gay\", \"gay\", \"gay\", \"gay\", \"gay\", \"gay\", \"gay\", \"gay\", \"gay\", \"gaza\", \"gaza\", \"gaza\", \"gaza\", \"gaza\", \"gaza\", \"gaza\", \"gaza\", \"gaza\", \"ge\", \"geithner\", \"general\", \"general\", \"general\", \"general\", \"general\", \"general\", \"general\", \"general\", \"general\", \"general\", \"georgia\", \"georgia\", \"georgia\", \"georgia\", \"georgia\", \"georgia\", \"georgia\", \"georgia\", \"georgia\", \"georgia\", \"get\", \"get\", \"get\", \"get\", \"get\", \"get\", \"get\", \"get\", \"get\", \"get\", \"gets\", \"gets\", \"gets\", \"gets\", \"gets\", \"gets\", \"gets\", \"gets\", \"gets\", \"gets\", \"ghraib\", \"ghraib\", \"gi\", \"gis\", \"glitch\", \"gloomy\", \"gloomy\", \"go\", \"go\", \"go\", \"go\", \"go\", \"go\", \"go\", \"go\", \"go\", \"go\", \"goldman\", \"gop\", \"gop\", \"gop\", \"gop\", \"gop\", \"gop\", \"gop\", \"gop\", \"gop\", \"gop\", \"government\", \"government\", \"government\", \"government\", \"government\", \"government\", \"government\", \"government\", \"government\", \"government\", \"greenland\", \"greenspan\", \"gridiron\", \"guilty\", \"guilty\", \"guilty\", \"guilty\", \"guilty\", \"guilty\", \"guilty\", \"guilty\", \"guitar\", \"guitar\", \"gulf\", \"gulf\", \"gulf\", \"gulf\", \"gulf\", \"gulf\", \"gulf\", \"gulf\", \"gulf\", \"gulf\", \"gum\", \"gunfire\", \"guthrie\", \"haggard\", \"hail\", \"hail\", \"halo\", \"halt\", \"halt\", \"halt\", \"hamas\", \"hamas\", \"hamas\", \"hamas\", \"hamas\", \"hamas\", \"hamdan\", \"hammers\", \"hariri\", \"harvard\", \"harvard\", \"harvard\", \"harvard\", \"harvard\", \"harvard\", \"harvard\", \"havens\", \"health\", \"health\", \"health\", \"health\", \"health\", \"health\", \"health\", \"health\", \"health\", \"health\", \"hearing\", \"hearing\", \"hearing\", \"hearing\", \"hearing\", \"hearing\", \"hearing\", \"hearing\", \"hearing\", \"hearing\", \"help\", \"help\", \"help\", \"help\", \"help\", \"help\", \"help\", \"help\", \"help\", \"help\", \"hewlett\", \"hewlett\", \"high\", \"high\", \"high\", \"high\", \"high\", \"high\", \"high\", \"high\", \"high\", \"high\", \"hijack\", \"hill\", \"hill\", \"hill\", \"hill\", \"hill\", \"hill\", \"hill\", \"hill\", \"hill\", \"hill\", \"hinges\", \"hints\", \"hints\", \"hints\", \"hints\", \"hire\", \"hire\", \"hire\", \"history\", \"history\", \"history\", \"history\", \"history\", \"history\", \"history\", \"history\", \"history\", \"history\", \"hog\", \"holbrooke\", \"home\", \"home\", \"home\", \"home\", \"home\", \"home\", \"home\", \"home\", \"home\", \"home\", \"honest\", \"hope\", \"hope\", \"hope\", \"hope\", \"hope\", \"hope\", \"hope\", \"hope\", \"hope\", \"hope\", \"house\", \"house\", \"house\", \"house\", \"house\", \"house\", \"house\", \"house\", \"house\", \"house\", \"huge\", \"huge\", \"huge\", \"huge\", \"huge\", \"huge\", \"huge\", \"human\", \"human\", \"human\", \"human\", \"human\", \"human\", \"human\", \"human\", \"human\", \"human\", \"hussein\", \"hussein\", \"hybrid\", \"hybrids\", \"ieds\", \"ignite\", \"imf\", \"imf\", \"immunity\", \"imports\", \"imports\", \"imports\", \"imports\", \"impoverished\", \"includes\", \"includes\", \"includes\", \"increases\", \"increases\", \"inside\", \"inside\", \"inside\", \"inside\", \"inside\", \"inside\", \"inside\", \"inside\", \"inside\", \"inside\", \"insider\", \"insider\", \"insider\", \"insider\", \"insider\", \"insider\", \"instinct\", \"insurers\", \"insurers\", \"insurgent\", \"insurgents\", \"insurgents\", \"intel\", \"intel\", \"intel\", \"intelligent\", \"intelligent\", \"intelligent\", \"intelligent\", \"intelligent\", \"investigated\", \"investigated\", \"investors\", \"investors\", \"investors\", \"investors\", \"investors\", \"investors\", \"iran\", \"iran\", \"iran\", \"iran\", \"iran\", \"iran\", \"iran\", \"iran\", \"iran\", \"iran\", \"iraq\", \"iraq\", \"iraq\", \"iraq\", \"iraq\", \"iraq\", \"iraq\", \"iraq\", \"iraq\", \"iraq\", \"iraqi\", \"iraqi\", \"iraqi\", \"iraqi\", \"iraqi\", \"iraqi\", \"iraqi\", \"iraqi\", \"iraqi\", \"iraqi\", \"iraqis\", \"iraqis\", \"iraqis\", \"iraqis\", \"iraqis\", \"iraqis\", \"iraqis\", \"iraqis\", \"irrational\", \"islamist\", \"islamist\", \"islamist\", \"islamists\", \"islamists\", \"israeli\", \"israeli\", \"israeli\", \"israeli\", \"israeli\", \"israeli\", \"israeli\", \"israeli\", \"israeli\", \"ivory\", \"ivory\", \"ivory\", \"ivory\", \"ivory\", \"ivory\", \"jackson\", \"jackson\", \"jackson\", \"jackson\", \"jackson\", \"jackson\", \"jackson\", \"jackson\", \"jackson\", \"january\", \"jindal\", \"jpmorgan\", \"jpmorgan\", \"jpmorgan\", \"juggling\", \"justice\", \"justice\", \"justice\", \"justice\", \"justice\", \"justice\", \"justice\", \"justice\", \"justice\", \"karadzic\", \"karbala\", \"katrina\", \"katrina\", \"katrina\", \"katrina\", \"katrina\", \"katrina\", \"katrina\", \"katrina\", \"katrina\", \"keystone\", \"keystone\", \"keystone\", \"keystone\", \"kicking\", \"kids\", \"kids\", \"kids\", \"kids\", \"kids\", \"kids\", \"kids\", \"kids\", \"kids\", \"kids\", \"killings\", \"killings\", \"killings\", \"killings\", \"killings\", \"killings\", \"korea\", \"korea\", \"korea\", \"korea\", \"korea\", \"korea\", \"korea\", \"korea\", \"korea\", \"korea\", \"korean\", \"korean\", \"korean\", \"korean\", \"korean\", \"korean\", \"korean\", \"korean\", \"lackluster\", \"lacrosse\", \"lakers\", \"lama\", \"lama\", \"lance\", \"lance\", \"lance\", \"laptop\", \"law\", \"law\", \"law\", \"law\", \"law\", \"law\", \"law\", \"law\", \"law\", \"law\", \"layoffs\", \"layoffs\", \"layoffs\", \"layoffs\", \"lays\", \"lays\", \"lays\", \"leader\", \"leader\", \"leader\", \"leader\", \"leader\", \"leader\", \"leader\", \"leader\", \"leader\", \"leader\", \"leaders\", \"leaders\", \"leaders\", \"leaders\", \"leaders\", \"leaders\", \"leaders\", \"leaders\", \"leaders\", \"leaders\", \"leak\", \"leak\", \"leak\", \"leak\", \"leak\", \"leak\", \"leak\", \"leak\", \"leak\", \"lebanese\", \"lebanese\", \"lebanese\", \"lebanese\", \"legacy\", \"legacy\", \"legacy\", \"legacy\", \"legacy\", \"legacy\", \"legacy\", \"legacy\", \"legacy\", \"legacy\", \"legal\", \"legal\", \"legal\", \"legal\", \"legal\", \"legal\", \"legal\", \"legal\", \"legal\", \"legal\", \"letters\", \"letters\", \"letters\", \"letters\", \"letters\", \"letters\", \"letters\", \"letters\", \"letters\", \"letters\", \"letts\", \"libya\", \"libya\", \"libya\", \"libya\", \"libya\", \"libya\", \"libya\", \"libya\", \"libya\", \"life\", \"life\", \"life\", \"life\", \"life\", \"life\", \"life\", \"life\", \"life\", \"life\", \"lobbyist\", \"london\", \"london\", \"london\", \"london\", \"london\", \"london\", \"london\", \"london\", \"london\", \"looks\", \"looks\", \"looks\", \"looks\", \"looks\", \"looks\", \"looks\", \"looks\", \"looks\", \"looks\", \"losses\", \"losses\", \"losses\", \"lott\", \"love\", \"love\", \"love\", \"love\", \"love\", \"love\", \"love\", \"love\", \"love\", \"love\", \"lower\", \"lower\", \"lower\", \"lower\", \"lower\", \"lower\", \"lower\", \"lucrative\", \"lucrative\", \"lure\", \"lure\", \"lure\", \"lure\", \"maintenance\", \"maliki\", \"maliki\", \"mammogram\", \"man\", \"man\", \"man\", \"man\", \"man\", \"man\", \"man\", \"man\", \"man\", \"man\", \"mandate\", \"mandate\", \"mandate\", \"mandate\", \"marching\", \"marines\", \"marines\", \"marines\", \"marines\", \"marines\", \"marines\", \"marines\", \"market\", \"market\", \"market\", \"market\", \"market\", \"market\", \"market\", \"market\", \"market\", \"marriage\", \"marriage\", \"marriage\", \"marriage\", \"marriage\", \"marriage\", \"marriage\", \"marriage\", \"marriage\", \"marriage\", \"mass\", \"mass\", \"mass\", \"mass\", \"mass\", \"mass\", \"mass\", \"mass\", \"mass\", \"mass\", \"massachusetts\", \"massachusetts\", \"massachusetts\", \"massachusetts\", \"massachusetts\", \"massachusetts\", \"may\", \"may\", \"may\", \"may\", \"may\", \"may\", \"may\", \"may\", \"may\", \"may\", \"mayo\", \"measuring\", \"measuring\", \"mechanics\", \"men\", \"men\", \"men\", \"men\", \"men\", \"men\", \"men\", \"men\", \"men\", \"men\", \"merrill\", \"mexico\", \"mexico\", \"mexico\", \"mexico\", \"mexico\", \"mexico\", \"mexico\", \"mexico\", \"mexico\", \"mexico\", \"michigan\", \"michigan\", \"michigan\", \"michigan\", \"michigan\", \"michigan\", \"michigan\", \"michigan\", \"michigan\", \"michigan\", \"midwest\", \"midwest\", \"midwest\", \"midwest\", \"midwest\", \"midwest\", \"midwest\", \"military\", \"military\", \"military\", \"military\", \"military\", \"military\", \"military\", \"military\", \"military\", \"military\", \"milosevic\", \"minister\", \"minister\", \"minister\", \"minister\", \"minister\", \"minister\", \"minister\", \"minister\", \"minister\", \"minister\", \"ministers\", \"minneapolis\", \"minneapolis\", \"misery\", \"misleading\", \"mogadishu\", \"mormonism\", \"mortgage\", \"mortgage\", \"mortgage\", \"mortgage\", \"mortgage\", \"mortgage\", \"mortgage\", \"motorcycle\", \"moussaoui\", \"moussaoui\", \"move\", \"move\", \"move\", \"move\", \"move\", \"move\", \"move\", \"move\", \"move\", \"movie\", \"movie\", \"movie\", \"movie\", \"movie\", \"movie\", \"movie\", \"movie\", \"movie\", \"movie\", \"movies\", \"movies\", \"movies\", \"movies\", \"movies\", \"movies\", \"movies\", \"movies\", \"movies\", \"mullen\", \"mumbai\", \"mumbai\", \"mumbai\", \"mumbai\", \"murdoch\", \"murdoch\", \"murdoch\", \"muscles\", \"musharraf\", \"musharraf\", \"musharraf\", \"myanmar\", \"myanmar\", \"myanmar\", \"myanmar\", \"myanmar\", \"myanmar\", \"myanmar\", \"myanmar\", \"myanmar\", \"names\", \"names\", \"names\", \"names\", \"names\", \"names\", \"names\", \"names\", \"names\", \"nation\", \"nation\", \"nation\", \"nation\", \"nation\", \"nation\", \"nation\", \"nation\", \"nation\", \"natural\", \"natural\", \"natural\", \"natural\", \"natural\", \"natural\", \"naval\", \"nbc\", \"nbc\", \"nbc\", \"nbc\", \"nbc\", \"nbc\", \"nebraska\", \"nebraska\", \"nebraska\", \"nebraska\", \"nepalese\", \"new\", \"new\", \"new\", \"new\", \"new\", \"new\", \"new\", \"new\", \"new\", \"new\", \"news\", \"news\", \"news\", \"news\", \"news\", \"news\", \"news\", \"news\", \"news\", \"news\", \"nobel\", \"nobel\", \"nobel\", \"nobel\", \"nobel\", \"nobel\", \"nobel\", \"nobel\", \"nobel\", \"north\", \"north\", \"north\", \"north\", \"north\", \"north\", \"north\", \"north\", \"north\", \"north\", \"nuclear\", \"nuclear\", \"nuclear\", \"nuclear\", \"nuclear\", \"nuclear\", \"nuclear\", \"nuclear\", \"nuclear\", \"nuclear\", \"nukes\", \"nukes\", \"nutrition\", \"obama\", \"obama\", \"obama\", \"obama\", \"obama\", \"obama\", \"obama\", \"obama\", \"obama\", \"obama\", \"october\", \"october\", \"offenders\", \"offenders\", \"offenders\", \"offenders\", \"official\", \"official\", \"official\", \"official\", \"official\", \"official\", \"official\", \"official\", \"official\", \"ohio\", \"ohio\", \"ohio\", \"ohio\", \"ohio\", \"ohio\", \"ohio\", \"ohio\", \"ohio\", \"ohio\", \"oil\", \"oil\", \"oil\", \"oil\", \"oil\", \"oil\", \"oil\", \"oil\", \"oil\", \"oil\", \"old\", \"old\", \"old\", \"old\", \"old\", \"old\", \"old\", \"old\", \"old\", \"old\", \"olympian\", \"one\", \"one\", \"one\", \"one\", \"one\", \"one\", \"one\", \"one\", \"one\", \"one\", \"op\", \"op\", \"op\", \"op\", \"op\", \"op\", \"op\", \"op\", \"op\", \"op\", \"orleans\", \"orleans\", \"orleans\", \"orleans\", \"orleans\", \"orleans\", \"orleans\", \"orleans\", \"orleans\", \"orleans\", \"outpace\", \"overdue\", \"overhaul\", \"overhaul\", \"overhaul\", \"overhaul\", \"overhaul\", \"overhaul\", \"overhaul\", \"overhaul\", \"overhaul\", \"overhaul\", \"owen\", \"packard\", \"packard\", \"pact\", \"pact\", \"pad\", \"padilla\", \"pakistan\", \"pakistan\", \"pakistan\", \"pakistan\", \"pakistan\", \"pakistan\", \"pakistan\", \"pakistan\", \"pakistan\", \"pakistan\", \"palestinians\", \"palestinians\", \"palestinians\", \"palestinians\", \"palestinians\", \"paperwork\", \"parallels\", \"parish\", \"part\", \"part\", \"part\", \"part\", \"part\", \"part\", \"part\", \"part\", \"pay\", \"pay\", \"pay\", \"pay\", \"pay\", \"pay\", \"pay\", \"pay\", \"pay\", \"pay\", \"peacekeepers\", \"peacekeepers\", \"people\", \"people\", \"people\", \"people\", \"people\", \"people\", \"people\", \"people\", \"people\", \"people\", \"peru\", \"pet\", \"pet\", \"pet\", \"pet\", \"pet\", \"petraeus\", \"petraeus\", \"petraeus\", \"petraeus\", \"petraeus\", \"pg\", \"philharmonic\", \"phone\", \"phone\", \"phone\", \"phone\", \"phone\", \"phone\", \"phone\", \"phone\", \"picks\", \"picks\", \"picks\", \"picks\", \"picks\", \"picks\", \"picks\", \"picks\", \"pictures\", \"pictures\", \"pin\", \"pins\", \"pins\", \"pioneers\", \"pitches\", \"plan\", \"plan\", \"plan\", \"plan\", \"plan\", \"plan\", \"plan\", \"plan\", \"plan\", \"plan\", \"plans\", \"plans\", \"plans\", \"plans\", \"plans\", \"plans\", \"plans\", \"plans\", \"plans\", \"plans\", \"plant\", \"plant\", \"plant\", \"plant\", \"plant\", \"plant\", \"plant\", \"plant\", \"plant\", \"pleads\", \"pleads\", \"pleads\", \"pleads\", \"pleads\", \"pleads\", \"plight\", \"plight\", \"pm\", \"pm\", \"police\", \"police\", \"police\", \"police\", \"police\", \"police\", \"police\", \"police\", \"police\", \"police\", \"policy\", \"policy\", \"policy\", \"policy\", \"policy\", \"policy\", \"policy\", \"policy\", \"policy\", \"policy\", \"political\", \"political\", \"political\", \"political\", \"political\", \"political\", \"political\", \"political\", \"political\", \"political\", \"politics\", \"politics\", \"politics\", \"politics\", \"politics\", \"politics\", \"politics\", \"politics\", \"politics\", \"politics\", \"ponder\", \"ponder\", \"poor\", \"poor\", \"poor\", \"poor\", \"poor\", \"poor\", \"poor\", \"poor\", \"poor\", \"poor\", \"portugal\", \"portugal\", \"portugal\", \"post\", \"post\", \"post\", \"post\", \"post\", \"post\", \"post\", \"post\", \"post\", \"post\", \"postal\", \"postal\", \"postal\", \"postal\", \"pour\", \"power\", \"power\", \"power\", \"power\", \"power\", \"power\", \"power\", \"power\", \"power\", \"power\", \"premier\", \"premier\", \"president\", \"president\", \"president\", \"president\", \"president\", \"president\", \"president\", \"president\", \"president\", \"president\", \"presidential\", \"presidential\", \"presidential\", \"presidential\", \"presidential\", \"presidential\", \"presidential\", \"presidential\", \"presidential\", \"presidential\", \"presidents\", \"presidents\", \"presidents\", \"presidents\", \"presidents\", \"presidents\", \"previews\", \"prices\", \"prices\", \"prices\", \"prices\", \"prices\", \"prices\", \"prices\", \"prices\", \"prices\", \"prices\", \"prime\", \"prime\", \"prime\", \"prime\", \"prime\", \"prime\", \"prime\", \"prime\", \"prime\", \"prime\", \"print\", \"print\", \"private\", \"private\", \"private\", \"private\", \"private\", \"private\", \"private\", \"private\", \"private\", \"prize\", \"prize\", \"prize\", \"prize\", \"prize\", \"prize\", \"prize\", \"prize\", \"prize\", \"probe\", \"probe\", \"probe\", \"probe\", \"probe\", \"probe\", \"probe\", \"probe\", \"probe\", \"probe\", \"profits\", \"profits\", \"profits\", \"profits\", \"program\", \"program\", \"program\", \"program\", \"program\", \"program\", \"program\", \"program\", \"program\", \"program\", \"promotes\", \"promotes\", \"promotes\", \"promoting\", \"properties\", \"prosperity\", \"protests\", \"protests\", \"protests\", \"protests\", \"protests\", \"protests\", \"protests\", \"protests\", \"protests\", \"protests\", \"provokes\", \"psychiatric\", \"puberty\", \"public\", \"public\", \"public\", \"public\", \"public\", \"public\", \"public\", \"public\", \"public\", \"public\", \"pumps\", \"pumps\", \"punished\", \"qaida\", \"qaida\", \"qaida\", \"qaida\", \"qaida\", \"qaida\", \"qaida\", \"qaida\", \"qaida\", \"qaida\", \"questions\", \"questions\", \"questions\", \"questions\", \"questions\", \"questions\", \"questions\", \"questions\", \"questions\", \"questions\", \"race\", \"race\", \"race\", \"race\", \"race\", \"race\", \"race\", \"race\", \"race\", \"race\", \"radio\", \"radio\", \"radio\", \"radio\", \"radio\", \"radio\", \"radio\", \"radio\", \"radio\", \"radio\", \"raises\", \"raises\", \"raises\", \"raises\", \"raises\", \"raises\", \"raises\", \"raises\", \"raises\", \"raises\", \"rally\", \"rally\", \"rally\", \"rally\", \"rally\", \"rally\", \"rally\", \"rally\", \"rally\", \"rally\", \"readiness\", \"readiness\", \"rebels\", \"rebels\", \"rebels\", \"rebels\", \"rebels\", \"rebels\", \"rebels\", \"rebels\", \"recordings\", \"recordings\", \"recovers\", \"recruiting\", \"recruiting\", \"recruiting\", \"recruiting\", \"recruiting\", \"reduction\", \"reflection\", \"regional\", \"regional\", \"regional\", \"rehnquist\", \"reid\", \"rejecting\", \"relieved\", \"remedy\", \"rendition\", \"reopening\", \"repeal\", \"repeal\", \"repeal\", \"repeal\", \"repeal\", \"repeal\", \"repeal\", \"repeal\", \"replaced\", \"report\", \"report\", \"report\", \"report\", \"report\", \"report\", \"report\", \"report\", \"report\", \"report\", \"resists\", \"restore\", \"restore\", \"restore\", \"restore\", \"restore\", \"retirees\", \"revenue\", \"reviewed\", \"reviewed\", \"rights\", \"rights\", \"rights\", \"rights\", \"rights\", \"rights\", \"rights\", \"rights\", \"rights\", \"rights\", \"rises\", \"rises\", \"rises\", \"rises\", \"rises\", \"rises\", \"rises\", \"rises\", \"rises\", \"road\", \"road\", \"road\", \"road\", \"road\", \"road\", \"road\", \"road\", \"road\", \"road\", \"roger\", \"roger\", \"role\", \"role\", \"role\", \"role\", \"role\", \"role\", \"role\", \"role\", \"role\", \"role\", \"roller\", \"roundtable\", \"roundtable\", \"roundtable\", \"roundtable\", \"roundtable\", \"roundtable\", \"roundtable\", \"roundtable\", \"roundtable\", \"roundtable\", \"russia\", \"russia\", \"russia\", \"russia\", \"russia\", \"russia\", \"russia\", \"russia\", \"russia\", \"russia\", \"rwandan\", \"sadr\", \"sago\", \"saints\", \"salary\", \"samples\", \"sampling\", \"samsung\", \"samsung\", \"samsung\", \"san\", \"san\", \"san\", \"san\", \"san\", \"san\", \"san\", \"san\", \"san\", \"san\", \"santorum\", \"santorum\", \"santorum\", \"sarkozy\", \"satellites\", \"says\", \"says\", \"says\", \"says\", \"says\", \"says\", \"says\", \"says\", \"says\", \"says\", \"scattered\", \"scheduled\", \"scholarship\", \"school\", \"school\", \"school\", \"school\", \"school\", \"school\", \"school\", \"school\", \"school\", \"school\", \"scrutinizes\", \"search\", \"search\", \"search\", \"search\", \"search\", \"search\", \"search\", \"search\", \"search\", \"search\", \"security\", \"security\", \"security\", \"security\", \"security\", \"security\", \"security\", \"security\", \"security\", \"seek\", \"seek\", \"seek\", \"seek\", \"seek\", \"seek\", \"seek\", \"seek\", \"seek\", \"seek\", \"senate\", \"senate\", \"senate\", \"senate\", \"senate\", \"senate\", \"senate\", \"senate\", \"senate\", \"senate\", \"sensitive\", \"september\", \"september\", \"september\", \"september\", \"sequel\", \"serbia\", \"serbia\", \"serbia\", \"service\", \"service\", \"service\", \"service\", \"service\", \"service\", \"service\", \"service\", \"service\", \"settles\", \"settles\", \"settles\", \"settles\", \"sex\", \"sex\", \"sex\", \"sex\", \"sex\", \"sex\", \"sex\", \"sex\", \"sex\", \"sex\", \"shareholders\", \"shareholders\", \"sharply\", \"shiite\", \"shiite\", \"shiite\", \"shiite\", \"shocking\", \"short\", \"short\", \"short\", \"short\", \"short\", \"short\", \"short\", \"short\", \"short\", \"short\", \"shrine\", \"shutter\", \"sidelined\", \"signing\", \"signing\", \"skype\", \"slim\", \"slipping\", \"small\", \"small\", \"small\", \"small\", \"small\", \"small\", \"small\", \"small\", \"small\", \"solace\", \"solace\", \"soldiers\", \"soldiers\", \"soldiers\", \"soldiers\", \"soldiers\", \"soldiers\", \"soldiers\", \"soldiers\", \"soldiers\", \"soldiers\", \"somalia\", \"somalia\", \"somalia\", \"somalia\", \"somalia\", \"somalia\", \"soul\", \"soul\", \"soul\", \"soul\", \"soul\", \"soul\", \"soul\", \"soul\", \"sox\", \"sox\", \"sox\", \"state\", \"state\", \"state\", \"state\", \"state\", \"state\", \"state\", \"state\", \"state\", \"state\", \"states\", \"states\", \"states\", \"states\", \"states\", \"states\", \"states\", \"states\", \"states\", \"states\", \"stearns\", \"stem\", \"stem\", \"stem\", \"stem\", \"stem\", \"stem\", \"stem\", \"stem\", \"stem\", \"step\", \"step\", \"step\", \"step\", \"step\", \"step\", \"step\", \"step\", \"step\", \"step\", \"still\", \"still\", \"still\", \"still\", \"still\", \"still\", \"still\", \"still\", \"still\", \"still\", \"strategy\", \"strategy\", \"strategy\", \"strategy\", \"strategy\", \"strategy\", \"strategy\", \"strategy\", \"strategy\", \"streams\", \"stretch\", \"stretch\", \"stricken\", \"stricken\", \"stricken\", \"strike\", \"strike\", \"strike\", \"strike\", \"strike\", \"strike\", \"strike\", \"strike\", \"strike\", \"strike\", \"strikes\", \"strikes\", \"strikes\", \"strikes\", \"strikes\", \"strikes\", \"strikes\", \"strikes\", \"strikes\", \"strikes\", \"study\", \"study\", \"study\", \"study\", \"study\", \"study\", \"study\", \"study\", \"study\", \"study\", \"stumbling\", \"subprime\", \"subprime\", \"sued\", \"suffers\", \"suffers\", \"suffers\", \"summer\", \"summer\", \"summer\", \"summer\", \"summer\", \"summer\", \"summer\", \"summer\", \"summer\", \"summer\", \"sunni\", \"sunni\", \"sunni\", \"sunni\", \"sunni\", \"super\", \"super\", \"super\", \"super\", \"super\", \"super\", \"super\", \"super\", \"super\", \"supplements\", \"supreme\", \"supreme\", \"supreme\", \"supreme\", \"supreme\", \"supreme\", \"supreme\", \"supreme\", \"supreme\", \"supreme\", \"surveys\", \"surveys\", \"survives\", \"survives\", \"survivors\", \"survivors\", \"survivors\", \"survivors\", \"survivors\", \"survivors\", \"survivors\", \"survivors\", \"swan\", \"swine\", \"swine\", \"swine\", \"swine\", \"swine\", \"swine\", \"syria\", \"syria\", \"syria\", \"syria\", \"syria\", \"syria\", \"syria\", \"syria\", \"syria\", \"syria\", \"take\", \"take\", \"take\", \"take\", \"take\", \"take\", \"take\", \"take\", \"take\", \"take\", \"takes\", \"takes\", \"takes\", \"takes\", \"takes\", \"takes\", \"takes\", \"takes\", \"takes\", \"takes\", \"talks\", \"talks\", \"talks\", \"talks\", \"talks\", \"talks\", \"talks\", \"talks\", \"talks\", \"talks\", \"tax\", \"tax\", \"tax\", \"tax\", \"tax\", \"tax\", \"tax\", \"tax\", \"tax\", \"tax\", \"taxing\", \"tea\", \"tea\", \"tea\", \"tea\", \"tea\", \"tea\", \"tea\", \"tea\", \"tea\", \"teams\", \"teams\", \"teams\", \"teams\", \"teams\", \"teams\", \"teams\", \"tech\", \"tech\", \"tech\", \"tech\", \"tech\", \"tech\", \"tech\", \"tech\", \"tech\", \"tech\", \"teen\", \"teen\", \"teen\", \"teen\", \"teen\", \"teen\", \"teen\", \"teen\", \"teen\", \"teen\", \"tel\", \"temperature\", \"thai\", \"thai\", \"thai\", \"thai\", \"thembi\", \"thousands\", \"thousands\", \"thousands\", \"thousands\", \"thousands\", \"thousands\", \"thousands\", \"thousands\", \"thousands\", \"thousands\", \"tiger\", \"tiger\", \"tiger\", \"tiger\", \"tiger\", \"tiger\", \"tiger\", \"tiger\", \"tighter\", \"tighter\", \"tillman\", \"time\", \"time\", \"time\", \"time\", \"time\", \"time\", \"time\", \"time\", \"time\", \"time\", \"total\", \"total\", \"total\", \"total\", \"touches\", \"tough\", \"tough\", \"tough\", \"tough\", \"tough\", \"tough\", \"tough\", \"tough\", \"tough\", \"tough\", \"town\", \"town\", \"town\", \"town\", \"town\", \"town\", \"town\", \"town\", \"town\", \"town\", \"toyota\", \"toyota\", \"transformation\", \"translator\", \"trial\", \"trial\", \"trial\", \"trial\", \"trial\", \"trial\", \"trial\", \"trial\", \"trial\", \"trial\", \"troops\", \"troops\", \"troops\", \"troops\", \"troops\", \"troops\", \"troops\", \"troops\", \"troops\", \"troops\", \"trump\", \"trump\", \"trump\", \"trump\", \"trump\", \"trump\", \"trump\", \"trump\", \"trump\", \"trump\", \"tucson\", \"tunes\", \"turbulent\", \"turns\", \"turns\", \"turns\", \"turns\", \"turns\", \"turns\", \"turns\", \"turns\", \"turns\", \"turns\", \"tut\", \"ucla\", \"undecided\", \"undecided\", \"undecided\", \"undecided\", \"underdog\", \"uneven\", \"uninsured\", \"uninsured\", \"uninsured\", \"units\", \"units\", \"unity\", \"unity\", \"unity\", \"unity\", \"unity\", \"unity\", \"unity\", \"unraveling\", \"unveiled\", \"use\", \"use\", \"use\", \"use\", \"use\", \"use\", \"use\", \"use\", \"use\", \"use\", \"victims\", \"victims\", \"victims\", \"victims\", \"victims\", \"victims\", \"victims\", \"victims\", \"victims\", \"victims\", \"vintage\", \"violence\", \"violence\", \"violence\", \"violence\", \"violence\", \"violence\", \"violence\", \"violence\", \"violence\", \"violence\", \"violin\", \"vioxx\", \"virtually\", \"visit\", \"visit\", \"visit\", \"visit\", \"visit\", \"visit\", \"visit\", \"visit\", \"visit\", \"visits\", \"visits\", \"visits\", \"visits\", \"visits\", \"visits\", \"visits\", \"visits\", \"vital\", \"vital\", \"volatile\", \"volatile\", \"vote\", \"vote\", \"vote\", \"vote\", \"vote\", \"vote\", \"vote\", \"vote\", \"vote\", \"vote\", \"voters\", \"voters\", \"voters\", \"voters\", \"voters\", \"voters\", \"voters\", \"voters\", \"voters\", \"voters\", \"vow\", \"vow\", \"vow\", \"waits\", \"waits\", \"waits\", \"war\", \"war\", \"war\", \"war\", \"war\", \"war\", \"war\", \"war\", \"war\", \"war\", \"waste\", \"waste\", \"waste\", \"waste\", \"waste\", \"weaken\", \"web\", \"web\", \"web\", \"web\", \"web\", \"web\", \"web\", \"web\", \"web\", \"week\", \"week\", \"week\", \"week\", \"week\", \"week\", \"week\", \"week\", \"week\", \"week\", \"west\", \"west\", \"west\", \"west\", \"west\", \"west\", \"west\", \"west\", \"west\", \"west\", \"wetlands\", \"white\", \"white\", \"white\", \"white\", \"white\", \"white\", \"white\", \"white\", \"white\", \"white\", \"whitman\", \"winding\", \"wis\", \"wis\", \"wis\", \"wis\", \"wis\", \"wis\", \"withers\", \"wolfowitz\", \"women\", \"women\", \"women\", \"women\", \"women\", \"women\", \"women\", \"women\", \"women\", \"women\", \"work\", \"work\", \"work\", \"work\", \"work\", \"work\", \"work\", \"work\", \"work\", \"work\", \"worker\", \"worker\", \"worker\", \"worker\", \"worker\", \"worker\", \"world\", \"world\", \"world\", \"world\", \"world\", \"world\", \"world\", \"world\", \"world\", \"world\", \"xbox\", \"year\", \"year\", \"year\", \"year\", \"year\", \"year\", \"year\", \"year\", \"year\", \"year\", \"years\", \"years\", \"years\", \"years\", \"years\", \"years\", \"years\", \"years\", \"years\", \"years\", \"york\", \"york\", \"york\", \"york\", \"york\", \"york\", \"york\", \"york\", \"york\", \"york\", \"yucatan\", \"zarqawi\"]}, \"R\": 30, \"lambda.step\": 0.01, \"plot.opts\": {\"xlab\": \"PC1\", \"ylab\": \"PC2\"}, \"topic.order\": [7, 10, 5, 6, 9, 8, 4, 3, 1, 2]};\n",
       "\n",
       "function LDAvis_load_lib(url, callback){\n",
       "  var s = document.createElement('script');\n",
       "  s.src = url;\n",
       "  s.async = true;\n",
       "  s.onreadystatechange = s.onload = callback;\n",
       "  s.onerror = function(){console.warn(\"failed to load library \" + url);};\n",
       "  document.getElementsByTagName(\"head\")[0].appendChild(s);\n",
       "}\n",
       "\n",
       "if(typeof(LDAvis) !== \"undefined\"){\n",
       "   // already loaded: just create the visualization\n",
       "   !function(LDAvis){\n",
       "       new LDAvis(\"#\" + \"ldavis_el189561404276740705922892750128\", ldavis_el189561404276740705922892750128_data);\n",
       "   }(LDAvis);\n",
       "}else if(typeof define === \"function\" && define.amd){\n",
       "   // require.js is available: use it to load d3/LDAvis\n",
       "   require.config({paths: {d3: \"https://d3js.org/d3.v5\"}});\n",
       "   require([\"d3\"], function(d3){\n",
       "      window.d3 = d3;\n",
       "      LDAvis_load_lib(\"https://cdn.jsdelivr.net/gh/bmabey/pyLDAvis@3.3.1/pyLDAvis/js/ldavis.v3.0.0.js\", function(){\n",
       "        new LDAvis(\"#\" + \"ldavis_el189561404276740705922892750128\", ldavis_el189561404276740705922892750128_data);\n",
       "      });\n",
       "    });\n",
       "}else{\n",
       "    // require.js not available: dynamically load d3 & LDAvis\n",
       "    LDAvis_load_lib(\"https://d3js.org/d3.v5.js\", function(){\n",
       "         LDAvis_load_lib(\"https://cdn.jsdelivr.net/gh/bmabey/pyLDAvis@3.3.1/pyLDAvis/js/ldavis.v3.0.0.js\", function(){\n",
       "                 new LDAvis(\"#\" + \"ldavis_el189561404276740705922892750128\", ldavis_el189561404276740705922892750128_data);\n",
       "            })\n",
       "         });\n",
       "}\n",
       "</script>"
      ],
      "text/plain": [
       "PreparedData(topic_coordinates=              x         y  topics  cluster       Freq\n",
       "topic                                                \n",
       "6     -0.058443 -0.012026       1        1  10.853307\n",
       "9      0.111279  0.055357       2        1  10.618237\n",
       "4      0.003115  0.054684       3        1  10.266338\n",
       "5      0.027092 -0.001368       4        1   9.969830\n",
       "8     -0.068597 -0.055053       5        1   9.948560\n",
       "7     -0.026273  0.040584       6        1   9.877815\n",
       "3      0.021384 -0.047245       7        1   9.782249\n",
       "2     -0.064485  0.085260       8        1   9.726833\n",
       "0     -0.003993 -0.061731       9        1   9.629629\n",
       "1      0.058921 -0.058461      10        1   9.327202, topic_info=         Term         Freq        Total Category  logprob  loglift\n",
       "2067    obama  1540.000000  1540.000000  Default  30.0000  30.0000\n",
       "266       new  2784.000000  2784.000000  Default  29.0000  29.0000\n",
       "151   letters   891.000000   891.000000  Default  28.0000  28.0000\n",
       "453       may   929.000000   929.000000  Default  27.0000  27.0000\n",
       "1278  economy   376.000000   376.000000  Default  26.0000  26.0000\n",
       "...       ...          ...          ...      ...      ...      ...\n",
       "175     women    62.135460   391.489115  Topic10  -6.2868   0.5316\n",
       "773     could    64.049144   483.026283  Topic10  -6.2565   0.3518\n",
       "3       trump    77.442206  1104.532758  Topic10  -6.0666  -0.2854\n",
       "377     brief    68.984042   748.827899  Topic10  -6.1823  -0.0124\n",
       "453       may    65.905216   929.005086  Topic10  -6.2279  -0.2737\n",
       "\n",
       "[908 rows x 6 columns], token_table=       Topic      Freq         Term\n",
       "term                               \n",
       "15759     10  0.831809       accuse\n",
       "520        1  0.045991  afghanistan\n",
       "520        2  0.049057  afghanistan\n",
       "520        3  0.009198  afghanistan\n",
       "520        4  0.036793  afghanistan\n",
       "...      ...       ...          ...\n",
       "442        8  0.019231         york\n",
       "442        9  0.065384         york\n",
       "442       10  0.134614         york\n",
       "19043      8  0.822036      yucatan\n",
       "18140      2  0.936860      zarqawi\n",
       "\n",
       "[3432 rows x 3 columns], R=30, lambda_step=0.01, plot_opts={'xlab': 'PC1', 'ylab': 'PC2'}, topic_order=[7, 10, 5, 6, 9, 8, 4, 3, 1, 2])"
      ]
     },
     "execution_count": 65,
     "metadata": {},
     "output_type": "execute_result"
    }
   ],
   "source": [
    "# import pyLDAvis.gensim\n",
    "import os\n",
    "import pyLDAvis.gensim_models as gensimvis\n",
    "import pickle \n",
    "import pyLDAvis\n",
    "# Visualize the topics\n",
    "pyLDAvis.enable_notebook()\n",
    "# LDAvis_data_filepath = os.path.join('./results/ldavis_prepared_'+ str(num_topics)+str(num_topics))\n",
    "# # this is a bit time consuming - make the if statement True\n",
    "# # if you want to execute visualization prep yourself\n",
    "if 1 == 1:\n",
    "#     LDAvis_prepared = pyLDAvis.gensim.prepare(lda_model, corpus, id2word)\n",
    "    LDAvis_prepared = gensimvis.prepare(lda_model, corpus, id2word)\n",
    "#     with open(LDAvis_data_filepath, 'wb') as f:\n",
    "#         pickle.dump(LDAvis_prepared, f)\n",
    "# load the pre-prepared pyLDAvis data from disk\n",
    "# with open(LDAvis_data_filepath, 'rb') as f:\n",
    "#     LDAvis_prepared = pickle.load(f)\n",
    "# pyLDAvis.save_html(LDAvis_prepared, './results/ldavis_prepared_'+ str(num_topics) +'.html')\n",
    "LDAvis_prepared"
   ]
  },
  {
   "cell_type": "markdown",
   "id": "0bd150f3",
   "metadata": {},
   "source": [
    "## Evaluate? (be aware of which  data_words are being sent in)"
   ]
  },
  {
   "cell_type": "code",
   "execution_count": 66,
   "id": "0fa85897",
   "metadata": {},
   "outputs": [
    {
     "name": "stderr",
     "output_type": "stream",
     "text": [
      "/usr/local/anaconda3/lib/python3.8/site-packages/ipykernel/ipkernel.py:287: DeprecationWarning: `should_run_async` will not call `transform_cell` automatically in the future. Please pass the result to `transformed_cell` argument and any exception that happen during thetransform in `preprocessing_exc_tuple` in IPython 7.17 and above.\n",
      "  and should_run_async(code)\n"
     ]
    }
   ],
   "source": [
    "# # Build the bigram and trigram models\n",
    "bigram = gensim.models.Phrases(data_words, min_count=5, threshold=100) # higher threshold fewer phrases.\n",
    "trigram = gensim.models.Phrases(bigram[data_words], threshold=100)\n",
    "# Faster way to get a sentence clubbed as a trigram/bigram\n",
    "bigram_mod = gensim.models.phrases.Phraser(bigram)\n",
    "trigram_mod = gensim.models.phrases.Phraser(trigram)"
   ]
  },
  {
   "cell_type": "code",
   "execution_count": 67,
   "id": "a2efe8ed",
   "metadata": {},
   "outputs": [
    {
     "name": "stderr",
     "output_type": "stream",
     "text": [
      "/usr/local/anaconda3/lib/python3.8/site-packages/ipykernel/ipkernel.py:287: DeprecationWarning: `should_run_async` will not call `transform_cell` automatically in the future. Please pass the result to `transformed_cell` argument and any exception that happen during thetransform in `preprocessing_exc_tuple` in IPython 7.17 and above.\n",
      "  and should_run_async(code)\n"
     ]
    }
   ],
   "source": [
    "# NLTK Stop words\n",
    "# import nltk\n",
    "# nltk.download('stopwords')\n",
    "from nltk.corpus import stopwords\n",
    "stop_words = stopwords.words('english')\n",
    "stop_words.extend(['from', 'subject', 're', 'edu', 'use'])\n",
    "# Define functions for stopwords, bigrams, trigrams and lemmatization\n",
    "def remove_stopwords(texts):\n",
    "    return [[word for word in simple_preprocess(str(doc)) if word not in stop_words] for doc in texts]\n",
    "def make_bigrams(texts):\n",
    "    return [bigram_mod[doc] for doc in texts]\n",
    "def make_trigrams(texts):\n",
    "    return [trigram_mod[bigram_mod[doc]] for doc in texts]\n",
    "def lemmatization(texts, allowed_postags=['NOUN', 'ADJ', 'VERB', 'ADV']):\n",
    "    \"\"\"https://spacy.io/api/annotation\"\"\"\n",
    "    texts_out = []\n",
    "    for sent in texts:\n",
    "        doc = nlp(\" \".join(sent)) \n",
    "        texts_out.append([token.lemma_ for token in doc if token.pos_ in allowed_postags])\n",
    "    return texts_out"
   ]
  },
  {
   "cell_type": "code",
   "execution_count": 68,
   "id": "0a07e97c",
   "metadata": {},
   "outputs": [
    {
     "name": "stderr",
     "output_type": "stream",
     "text": [
      "/usr/local/anaconda3/lib/python3.8/site-packages/ipykernel/ipkernel.py:287: DeprecationWarning: `should_run_async` will not call `transform_cell` automatically in the future. Please pass the result to `transformed_cell` argument and any exception that happen during thetransform in `preprocessing_exc_tuple` in IPython 7.17 and above.\n",
      "  and should_run_async(code)\n",
      "/usr/local/anaconda3/lib/python3.8/site-packages/fsspec/registry.py:188: DeprecationWarning: distutils Version classes are deprecated. Use packaging.version instead.\n",
      "  minversions = {\"s3fs\": LooseVersion(\"0.3.0\"), \"gcsfs\": LooseVersion(\"0.3.0\")}\n",
      "/usr/local/anaconda3/lib/python3.8/site-packages/fsspec/registry.py:188: DeprecationWarning: distutils Version classes are deprecated. Use packaging.version instead.\n",
      "  minversions = {\"s3fs\": LooseVersion(\"0.3.0\"), \"gcsfs\": LooseVersion(\"0.3.0\")}\n"
     ]
    },
    {
     "name": "stdout",
     "output_type": "stream",
     "text": [
      "[['report', 'complaint']]\n"
     ]
    }
   ],
   "source": [
    "import spacy\n",
    "# Remove Stop Words\n",
    "data_words_nostops = remove_stopwords(data_words)\n",
    "# Form Bigrams\n",
    "data_words_bigrams = make_bigrams(data_words_nostops)\n",
    "# Initialize spacy 'en' model, keeping only tagger component (for efficiency)\n",
    "nlp = spacy.load(\"en_core_web_sm\", disable=['parser', 'ner']) # see https://spacy.io/models/en for info on this pipeline\n",
    "# Do lemmatization keeping only noun, adj, vb, adv\n",
    "data_lemmatized = lemmatization(data_words_bigrams, allowed_postags=['NOUN', 'ADJ', 'VERB', 'ADV'])\n",
    "print(data_lemmatized[:1])"
   ]
  },
  {
   "cell_type": "code",
   "execution_count": 69,
   "id": "01af1b4b",
   "metadata": {},
   "outputs": [
    {
     "name": "stderr",
     "output_type": "stream",
     "text": [
      "/usr/local/anaconda3/lib/python3.8/site-packages/ipykernel/ipkernel.py:287: DeprecationWarning: `should_run_async` will not call `transform_cell` automatically in the future. Please pass the result to `transformed_cell` argument and any exception that happen during thetransform in `preprocessing_exc_tuple` in IPython 7.17 and above.\n",
      "  and should_run_async(code)\n"
     ]
    },
    {
     "name": "stdout",
     "output_type": "stream",
     "text": [
      "[[(0, 1), (1, 1)]]\n"
     ]
    }
   ],
   "source": [
    "import gensim.corpora as corpora\n",
    "# Create Dictionary\n",
    "id2word = corpora.Dictionary(data_lemmatized)\n",
    "# Create Corpus\n",
    "texts = data_lemmatized\n",
    "# Term Document Frequency\n",
    "corpus = [id2word.doc2bow(text) for text in texts]\n",
    "# View\n",
    "print(corpus[:1])"
   ]
  },
  {
   "cell_type": "code",
   "execution_count": 70,
   "id": "b51eed03",
   "metadata": {},
   "outputs": [
    {
     "name": "stderr",
     "output_type": "stream",
     "text": [
      "/usr/local/anaconda3/lib/python3.8/site-packages/ipykernel/ipkernel.py:287: DeprecationWarning: `should_run_async` will not call `transform_cell` automatically in the future. Please pass the result to `transformed_cell` argument and any exception that happen during thetransform in `preprocessing_exc_tuple` in IPython 7.17 and above.\n",
      "  and should_run_async(code)\n"
     ]
    }
   ],
   "source": [
    "# Build LDA model\n",
    "lda_model = gensim.models.LdaMulticore(corpus=corpus,\n",
    "                                       id2word=id2word,\n",
    "                                       num_topics=10, \n",
    "                                       random_state=100,\n",
    "                                       chunksize=100,\n",
    "                                       passes=10,\n",
    "                                       per_word_topics=True)"
   ]
  },
  {
   "cell_type": "code",
   "execution_count": 71,
   "id": "a27b7dc6",
   "metadata": {},
   "outputs": [
    {
     "name": "stderr",
     "output_type": "stream",
     "text": [
      "/usr/local/anaconda3/lib/python3.8/site-packages/ipykernel/ipkernel.py:287: DeprecationWarning: `should_run_async` will not call `transform_cell` automatically in the future. Please pass the result to `transformed_cell` argument and any exception that happen during thetransform in `preprocessing_exc_tuple` in IPython 7.17 and above.\n",
      "  and should_run_async(code)\n"
     ]
    }
   ],
   "source": [
    "# from pprint import pprint\n",
    "# # Print the Keyword in the 10 topics\n",
    "# pprint(lda_model.print_topics())\n",
    "# doc_lda = lda_model[corpus]"
   ]
  },
  {
   "cell_type": "code",
   "execution_count": 72,
   "id": "98131d0a",
   "metadata": {},
   "outputs": [
    {
     "name": "stderr",
     "output_type": "stream",
     "text": [
      "/usr/local/anaconda3/lib/python3.8/site-packages/ipykernel/ipkernel.py:287: DeprecationWarning: `should_run_async` will not call `transform_cell` automatically in the future. Please pass the result to `transformed_cell` argument and any exception that happen during thetransform in `preprocessing_exc_tuple` in IPython 7.17 and above.\n",
      "  and should_run_async(code)\n"
     ]
    },
    {
     "name": "stdout",
     "output_type": "stream",
     "text": [
      "\n",
      "Coherence Score:  0.39371884823700865\n"
     ]
    }
   ],
   "source": [
    "from gensim.models import CoherenceModel\n",
    "# Compute Coherence Score\n",
    "coherence_model_lda = CoherenceModel(model=lda_model, texts=data_lemmatized, dictionary=id2word, coherence='c_v')\n",
    "coherence_lda = coherence_model_lda.get_coherence()\n",
    "print('\\nCoherence Score: ', coherence_lda)"
   ]
  },
  {
   "cell_type": "code",
   "execution_count": 73,
   "id": "d34636a4",
   "metadata": {},
   "outputs": [
    {
     "name": "stderr",
     "output_type": "stream",
     "text": [
      "/usr/local/anaconda3/lib/python3.8/site-packages/ipykernel/ipkernel.py:287: DeprecationWarning: `should_run_async` will not call `transform_cell` automatically in the future. Please pass the result to `transformed_cell` argument and any exception that happen during thetransform in `preprocessing_exc_tuple` in IPython 7.17 and above.\n",
      "  and should_run_async(code)\n"
     ]
    }
   ],
   "source": [
    "# supporting function\n",
    "def compute_coherence_values(corpus, dictionary, k, a, b):\n",
    "    \n",
    "    lda_model = gensim.models.LdaMulticore(corpus=corpus,\n",
    "                                           id2word=dictionary,\n",
    "                                           num_topics=k, \n",
    "                                           random_state=100,\n",
    "                                           chunksize=100,\n",
    "                                           passes=10,\n",
    "                                           alpha=a,\n",
    "                                           eta=b)\n",
    "    \n",
    "    coherence_model_lda = CoherenceModel(model=lda_model, texts=data_lemmatized, dictionary=id2word, coherence='c_v')\n",
    "    \n",
    "    return coherence_model_lda.get_coherence()"
   ]
  },
  {
   "cell_type": "markdown",
   "id": "aa81c98b",
   "metadata": {},
   "source": [
    "## The following code is commented out bc it takes ages to run, and I have the results csv from when I ran it"
   ]
  },
  {
   "cell_type": "code",
   "execution_count": 97,
   "id": "5527d58a",
   "metadata": {
    "scrolled": true
   },
   "outputs": [
    {
     "name": "stderr",
     "output_type": "stream",
     "text": [
      "/usr/local/anaconda3/lib/python3.8/site-packages/ipykernel/ipkernel.py:287: DeprecationWarning: `should_run_async` will not call `transform_cell` automatically in the future. Please pass the result to `transformed_cell` argument and any exception that happen during thetransform in `preprocessing_exc_tuple` in IPython 7.17 and above.\n",
      "  and should_run_async(code)\n"
     ]
    }
   ],
   "source": [
    "# import numpy as np\n",
    "# import tqdm\n",
    "# grid = {}\n",
    "# grid['Validation_Set'] = {}\n",
    "# # Topics range\n",
    "# min_topics = 2\n",
    "# max_topics = 11\n",
    "# step_size = 1\n",
    "# topics_range = range(min_topics, max_topics, step_size)\n",
    "# # Alpha parameter\n",
    "# alpha = list(np.arange(0.01, 1, 0.3))\n",
    "# alpha.append('symmetric')\n",
    "# alpha.append('asymmetric')\n",
    "# # Beta parameter\n",
    "# beta = list(np.arange(0.01, 1, 0.3))\n",
    "# beta.append('symmetric')\n",
    "# # Validation sets\n",
    "# num_of_docs = len(corpus)\n",
    "# corpus_sets = [# gensim.utils.ClippedCorpus(corpus, num_of_docs*0.25), \n",
    "#                # gensim.utils.ClippedCorpus(corpus, num_of_docs*0.5), \n",
    "#                gensim.utils.ClippedCorpus(corpus, int(num_of_docs*0.75)), \n",
    "#                corpus]\n",
    "# corpus_title = ['75% Corpus', '100% Corpus']\n",
    "# model_results = {'Validation_Set': [],\n",
    "#                  'Topics': [],\n",
    "#                  'Alpha': [],\n",
    "#                  'Beta': [],\n",
    "#                  'Coherence': []\n",
    "#                 }\n",
    "# # Can take a long time to run\n",
    "# if 1 == 1:\n",
    "#     pbar = tqdm.tqdm(total=540)\n",
    "    \n",
    "#     # iterate through validation corpuses\n",
    "#     for i in range(len(corpus_sets)):\n",
    "#         # iterate through number of topics\n",
    "#         for k in topics_range:\n",
    "#             # iterate through alpha values\n",
    "#             for a in alpha:\n",
    "#                 # iterare through beta values\n",
    "#                 for b in beta:\n",
    "#                     # get the coherence score for the given parameters\n",
    "#                     cv = compute_coherence_values(corpus=corpus_sets[i], dictionary=id2word, \n",
    "#                                                   k=k, a=a, b=b)\n",
    "#                     # Save the model results\n",
    "#                     model_results['Validation_Set'].append(corpus_title[i])\n",
    "#                     model_results['Topics'].append(k)\n",
    "#                     model_results['Alpha'].append(a)\n",
    "#                     model_results['Beta'].append(b)\n",
    "#                     model_results['Coherence'].append(cv)\n",
    "                    \n",
    "#                     pbar.update(1)\n",
    "#     pd.DataFrame(model_results).to_csv('lda_tuning_results_corpora.csv', index=False)\n",
    "#     pbar.close()"
   ]
  },
  {
   "cell_type": "code",
   "execution_count": 98,
   "id": "57bdcfeb",
   "metadata": {},
   "outputs": [
    {
     "name": "stderr",
     "output_type": "stream",
     "text": [
      "/usr/local/anaconda3/lib/python3.8/site-packages/ipykernel/ipkernel.py:287: DeprecationWarning: `should_run_async` will not call `transform_cell` automatically in the future. Please pass the result to `transformed_cell` argument and any exception that happen during thetransform in `preprocessing_exc_tuple` in IPython 7.17 and above.\n",
      "  and should_run_async(code)\n"
     ]
    }
   ],
   "source": [
    "# use the above-selected parameters to train the model\n",
    "\n",
    "lda_model = gensim.models.LdaMulticore(corpus=corpus,\n",
    "                                           id2word=id2word,\n",
    "                                           num_topics=4, \n",
    "                                           random_state=100,\n",
    "                                           chunksize=100,\n",
    "                                           passes=10,\n",
    "                                           alpha=0.01,\n",
    "                                           eta=0.9)"
   ]
  },
  {
   "cell_type": "code",
   "execution_count": 99,
   "id": "4418faee",
   "metadata": {},
   "outputs": [
    {
     "name": "stderr",
     "output_type": "stream",
     "text": [
      "/usr/local/anaconda3/lib/python3.8/site-packages/ipykernel/ipkernel.py:287: DeprecationWarning: `should_run_async` will not call `transform_cell` automatically in the future. Please pass the result to `transformed_cell` argument and any exception that happen during thetransform in `preprocessing_exc_tuple` in IPython 7.17 and above.\n",
      "  and should_run_async(code)\n"
     ]
    },
    {
     "data": {
      "text/html": [
       "\n",
       "<link rel=\"stylesheet\" type=\"text/css\" href=\"https://cdn.jsdelivr.net/gh/bmabey/pyLDAvis@3.3.1/pyLDAvis/js/ldavis.v1.0.0.css\">\n",
       "\n",
       "\n",
       "<div id=\"ldavis_el189561404268914384484472677564\"></div>\n",
       "<script type=\"text/javascript\">\n",
       "\n",
       "var ldavis_el189561404268914384484472677564_data = {\"mdsDat\": {\"x\": [-0.14496263618789074, 0.155282106496461, -0.07316073689453272, 0.06284126658596238], \"y\": [0.02295165745213251, -0.09397275478636037, -0.09894239812993749, 0.1699634954641653], \"topics\": [1, 2, 3, 4], \"cluster\": [1, 1, 1, 1], \"Freq\": [29.17201255231639, 27.10997291109688, 22.702492446424642, 21.015522090162094]}, \"tinfo\": {\"Term\": [\"letter\", \"plan\", \"debate\", \"die\", \"race\", \"court\", \"deal\", \"voter\", \"vote\", \"iraqi\", \"election\", \"law\", \"bill\", \"rule\", \"call\", \"get\", \"leader\", \"case\", \"home\", \"market\", \"candidate\", \"put\", \"death\", \"violence\", \"weigh\", \"student\", \"official\", \"life\", \"crisis\", \"chinese\", \"student\", \"kid\", \"tv\", \"college\", \"game\", \"well\", \"live\", \"price\", \"art\", \"love\", \"young\", \"star\", \"olympic\", \"patient\", \"baseball\", \"insurance\", \"parent\", \"road\", \"brain\", \"cancer\", \"human\", \"service\", \"heart\", \"real\", \"dog\", \"class\", \"watch\", \"baby\", \"sport\", \"poor\", \"success\", \"message\", \"save\", \"life\", \"get\", \"way\", \"risk\", \"good\", \"many\", \"study\", \"food\", \"school\", \"make\", \"find\", \"offer\", \"world\", \"health\", \"pay\", \"leave\", \"help\", \"new\", \"go\", \"time\", \"big\", \"woman\", \"story\", \"high\", \"man\", \"take\", \"deal\", \"iraqi\", \"crisis\", \"nuclear\", \"official\", \"vote\", \"kill\", \"tax\", \"president\", \"border\", \"afghan\", \"effort\", \"plan\", \"budget\", \"israeli\", \"bailout\", \"chief\", \"financial\", \"low\", \"threat\", \"debt\", \"syrian\", \"plant\", \"reach\", \"tension\", \"opposition\", \"buy\", \"pass\", \"control\", \"summit\", \"bomb\", \"accuse\", \"bombing\", \"bill\", \"leader\", \"consider\", \"aid\", \"attack\", \"government\", \"troop\", \"force\", \"challenge\", \"report\", \"military\", \"economic\", \"group\", \"cut\", \"talk\", \"security\", \"say\", \"face\", \"new\", \"war\", \"job\", \"seek\", \"letter\", \"chinese\", \"market\", \"violence\", \"town\", \"sale\", \"support\", \"miss\", \"prison\", \"shoot\", \"community\", \"protester\", \"deadly\", \"sound\", \"summer\", \"stock\", \"teen\", \"hurricane\", \"sell\", \"murder\", \"search\", \"housing\", \"terrorism\", \"link\", \"celebrate\", \"teacher\", \"answer\", \"resident\", \"flight\", \"foreclosure\", \"firm\", \"critic\", \"press\", \"death\", \"call\", \"home\", \"soldier\", \"worker\", \"police\", \"charge\", \"question\", \"company\", \"business\", \"bring\", \"post\", \"victim\", \"fire\", \"family\", \"hit\", \"protest\", \"struggle\", \"hope\", \"new\", \"take\", \"oil\", \"die\", \"race\", \"voter\", \"candidate\", \"presidential\", \"debate\", \"weigh\", \"primary\", \"put\", \"politic\", \"supreme_court\", \"view\", \"shift\", \"abortion\", \"judge\", \"republican\", \"medium\", \"justice\", \"hearing\", \"legal\", \"national\", \"tour\", \"result\", \"democratic\", \"senator\", \"free\", \"conservative\", \"expert\", \"nomination\", \"ready\", \"key\", \"court\", \"law\", \"mccain\", \"rule\", \"campaign\", \"begin\", \"trial\", \"case\", \"election\", \"right\", \"state\", \"political\", \"change\", \"drug\", \"return\", \"new\", \"take\", \"immigration\", \"issue\", \"win\"], \"Freq\": [756.0, 748.0, 549.0, 407.0, 360.0, 425.0, 406.0, 322.0, 397.0, 386.0, 548.0, 407.0, 458.0, 411.0, 429.0, 799.0, 429.0, 526.0, 426.0, 280.0, 262.0, 264.0, 374.0, 271.0, 251.0, 323.0, 301.0, 550.0, 292.0, 250.0, 319.8990168701379, 247.40569227473173, 250.66963921165276, 224.06342118976704, 210.56529368299093, 219.25908510942972, 185.1787108190108, 251.31214602024656, 192.10737464825144, 139.29998540075667, 175.63732398934724, 148.2307101797017, 130.73853995265605, 130.43067097182885, 143.5208096516606, 156.5379333049526, 129.3339200763487, 134.17178985809272, 111.70289326606135, 112.68492312618474, 110.79861837077571, 151.9659813259965, 120.86146197560416, 116.64689408003983, 111.1144054094493, 118.28178233814332, 125.2533417009462, 89.38739088412035, 85.17024417155102, 126.43277818673492, 118.16117724145117, 106.35100350889577, 170.29243517552976, 455.4538426326334, 622.7869944914962, 250.52486224570941, 210.3269528775418, 261.1613564290295, 193.3155322544164, 281.09940746054707, 216.80087320110988, 380.25967940223865, 520.5320695010578, 386.6138845025882, 248.44593620464082, 285.7819943211548, 271.29062273242016, 227.22844688565775, 260.0000352246668, 343.37126396429187, 647.018939282507, 312.39429617189035, 263.07545610997494, 243.58326801007743, 236.22957155277132, 202.66857463929844, 227.86221840566415, 205.4023204321256, 205.89972338247964, 404.1239366888814, 383.30951693102895, 290.1261115350893, 222.86065875196826, 297.80969664494677, 392.41586565792954, 254.67710085961428, 252.3520092220591, 215.08565101259398, 206.26330819477744, 192.2372676140785, 199.05055722157468, 737.3494807331355, 173.73325651654667, 171.16464685770717, 148.62406591758685, 173.4903460667341, 145.73119873965823, 181.08828047605667, 133.4326104306047, 129.26911721986392, 127.7665423392091, 130.5025548155079, 131.00085624578244, 125.18067596287264, 109.27328188133065, 148.85769402546956, 98.35204122180507, 113.6957777473934, 93.76903678678917, 104.68319755097005, 115.03113545742757, 134.08961459240243, 420.76545431667313, 391.0016755494326, 165.9349754144064, 285.45493329023213, 344.12595006539345, 327.0118093405023, 232.48533345223396, 275.2042236962439, 258.2289299296385, 386.2465849335292, 258.002997727065, 233.0156420851813, 245.68948172448967, 268.78965286709985, 289.0856116357045, 242.55525677939855, 330.6652716161662, 325.45392857893063, 474.20315421970304, 306.318296305533, 259.4142849940857, 254.93283781827546, 753.6022316831352, 247.64442582797264, 276.9607584252736, 267.7013609789848, 219.69722914102528, 198.89857152876172, 196.95367887546388, 130.89424918417416, 132.61619121103118, 114.55719046932523, 118.4259244315099, 114.30776843094631, 127.97760272915265, 120.75559947974683, 127.5123814441731, 132.25508892858662, 162.89014444831628, 103.97059020356404, 130.1651900358414, 98.62978144749609, 169.9037683610347, 126.21180550141791, 126.35381551057654, 113.60077821466979, 88.92180451417606, 104.251642257916, 77.24945236410028, 147.1755525759607, 83.61348083036637, 94.70956744367524, 149.94252884816078, 123.5968313837263, 102.6933481108408, 316.0739726098169, 351.2799894325015, 345.9539639636131, 196.80146472352934, 232.82114180071943, 206.1553564892085, 169.98544390272735, 212.44342627770556, 165.55503689327185, 176.84780058534778, 161.50936281268935, 153.61931327418026, 140.632294419095, 164.88029148550402, 186.97784319427575, 176.44928782377875, 170.8837617960525, 156.96066123947412, 156.11634615715562, 218.2097704005885, 183.41635710172721, 152.59805100688305, 404.9138323249253, 357.9135122571542, 319.5564227374197, 259.966423773393, 226.39644120085094, 543.2768232188291, 248.37468680649027, 203.0551606183152, 260.72363926130674, 163.42072950165314, 145.07690367747605, 161.51002878752396, 155.65612429895174, 124.51827684543007, 135.42695253474923, 117.35020223098185, 135.1196599990687, 125.18278648747224, 103.8411445728104, 105.87490359716656, 112.13078199406579, 102.06461614238661, 104.45120948191514, 86.96665930704677, 98.7133639206259, 165.01233685128773, 92.59626955039982, 134.87684028422575, 76.50347798841587, 96.70163659884493, 172.2451066968727, 375.9761329654458, 345.85678076951075, 203.66075769699864, 330.0543720189921, 246.4129233042667, 205.2025843884987, 250.04760474490445, 355.0069759700347, 360.2810829746255, 184.20149189072058, 252.1157588678771, 212.0201927033126, 258.70881127829637, 196.75287696664506, 197.43725962306473, 381.35521763123813, 267.0492498284707, 190.85152058660006, 175.19468591835823, 174.7085100873626], \"Total\": [756.0, 748.0, 549.0, 407.0, 360.0, 425.0, 406.0, 322.0, 397.0, 386.0, 548.0, 407.0, 458.0, 411.0, 429.0, 799.0, 429.0, 526.0, 426.0, 280.0, 262.0, 264.0, 374.0, 271.0, 251.0, 323.0, 301.0, 550.0, 292.0, 250.0, 323.0548929523657, 249.93848076897297, 253.29669075986808, 226.57441734306326, 213.0625030915765, 221.90193612089254, 187.712405750572, 254.75392105248056, 194.7662874935174, 141.6890396939878, 178.67406838919624, 150.80896475382335, 133.24068172088144, 132.99214263533116, 146.373206940031, 159.6698268712491, 131.9592850240342, 136.89687850354946, 113.983366523725, 115.08258779272994, 113.22491449662279, 155.3703741401179, 123.60333091388462, 119.30458629233007, 113.75453286949431, 121.18917400147274, 128.3622586350384, 91.7985292093697, 87.55849865812264, 130.00421720316675, 121.52149893374434, 110.11631686675574, 181.25505245309395, 550.9958568741376, 799.2541141702922, 285.0682617691001, 233.92993346020566, 299.979057351072, 216.53266513654404, 342.94199832700815, 256.84321510186305, 537.4391650630716, 809.2420462547082, 555.6456247366782, 324.12384387285306, 394.2325910512893, 370.40883001469183, 293.13237041281667, 366.89695418298083, 584.0048039991899, 1720.7870815340366, 522.0937163526429, 432.34674763271494, 400.0634040946715, 386.3862313282207, 271.5231349504372, 521.9623269705144, 316.33175445248713, 843.2218943417633, 406.81194136079364, 386.70408718866355, 292.69980063465607, 225.33827336858488, 301.33852564176584, 397.22902755538263, 257.94730303858597, 255.66915104258047, 217.95112648526336, 209.1002987516592, 195.0146640935969, 201.96701447832282, 748.56309206314, 176.4765559177943, 173.97552535950652, 151.23738938868027, 176.65674124683585, 148.5212574274531, 184.5838259781562, 136.06939609951232, 131.92473238298223, 130.3952734982784, 133.3458692354171, 133.89695739328405, 127.9573938716094, 111.99147783704538, 152.6127339470282, 100.98634772449314, 116.80975099874303, 96.3411957607084, 107.59187750199581, 118.34426032153466, 138.56064578319865, 458.804543429602, 429.5972383811122, 174.19464854279894, 312.4107342662337, 394.3243283974482, 375.6569101048755, 257.63860902155795, 316.841077937155, 299.3483215770573, 494.09474194952304, 310.3809031477843, 279.61289711676784, 303.1905934418579, 354.54508685798413, 396.2034405230814, 311.2771686201307, 661.8587505554419, 676.9635283129076, 1720.7870815340366, 593.0585359160718, 448.1536264643229, 464.7504971895494, 756.4751046461759, 250.5752032402099, 280.3067753360778, 271.1614919310052, 222.74067687988773, 201.8461351670881, 200.93273695633175, 133.63757438178288, 135.43803185563308, 117.07284783902999, 121.14952454638866, 116.97669055750198, 130.98802647739302, 123.71175074836245, 130.70990303887586, 135.70482491242936, 167.24550720410227, 106.76938646972292, 133.78385065867297, 101.3823983637763, 174.6689058893836, 129.82211070811573, 130.1534540616329, 117.11429584088505, 91.70273020901315, 107.7221114796197, 79.82289495520752, 152.2157233147506, 86.49701237611924, 98.04150089971374, 155.36466558727156, 128.08680135862014, 106.63450387888501, 374.9849193072003, 429.1401185431372, 426.8333753249804, 223.47498075633922, 310.75030360513136, 271.9915289468909, 213.51224353731965, 350.18326485770444, 226.80443312604368, 271.79228399331816, 228.8274170661662, 210.7137889385639, 171.16686017900645, 260.10539460116297, 395.3815752850815, 359.2222385057618, 328.1832709318171, 277.7827618670862, 303.2979066770609, 1720.7870815340366, 843.2218943417633, 291.92791623891566, 407.78578438882164, 360.4830934736003, 322.0166943297821, 262.51920598140185, 228.81904255771937, 549.1756641147922, 251.20725561194263, 205.5595961138676, 264.3432119374528, 165.9666678512876, 147.50808365622441, 164.33147100851386, 158.7558507641691, 127.25206680269922, 138.49863000522487, 120.01268553036478, 138.35624657738558, 128.18753086681448, 106.55184393252517, 108.67646458521477, 115.12848413558642, 104.88488541095579, 107.36075179912677, 89.41793732972384, 101.55784247998537, 169.86214103660313, 95.3324437334095, 139.0497559970703, 78.89284885092312, 99.919383287301, 179.65236181004477, 425.6325607759237, 407.9234986136481, 232.48668206714757, 411.36083994043565, 297.41038053148554, 245.50616137210275, 315.3063736496652, 526.1583810589606, 548.6325547318798, 226.1786754651726, 426.27366100208303, 336.0165389846386, 512.8333996228994, 307.62927476607075, 312.4571695732527, 1720.7870815340366, 843.2218943417633, 330.486711128325, 288.50442343797715, 362.52917184023914], \"Category\": [\"Default\", \"Default\", \"Default\", \"Default\", \"Default\", \"Default\", \"Default\", \"Default\", \"Default\", \"Default\", \"Default\", \"Default\", \"Default\", \"Default\", \"Default\", \"Default\", \"Default\", \"Default\", \"Default\", \"Default\", \"Default\", \"Default\", \"Default\", \"Default\", \"Default\", \"Default\", \"Default\", \"Default\", \"Default\", \"Default\", \"Topic1\", \"Topic1\", \"Topic1\", \"Topic1\", \"Topic1\", \"Topic1\", \"Topic1\", \"Topic1\", \"Topic1\", \"Topic1\", \"Topic1\", \"Topic1\", \"Topic1\", \"Topic1\", \"Topic1\", \"Topic1\", \"Topic1\", \"Topic1\", \"Topic1\", \"Topic1\", \"Topic1\", \"Topic1\", \"Topic1\", \"Topic1\", \"Topic1\", \"Topic1\", \"Topic1\", \"Topic1\", \"Topic1\", \"Topic1\", \"Topic1\", \"Topic1\", \"Topic1\", \"Topic1\", \"Topic1\", \"Topic1\", \"Topic1\", \"Topic1\", \"Topic1\", \"Topic1\", \"Topic1\", \"Topic1\", \"Topic1\", \"Topic1\", \"Topic1\", \"Topic1\", \"Topic1\", \"Topic1\", \"Topic1\", \"Topic1\", \"Topic1\", \"Topic1\", \"Topic1\", \"Topic1\", \"Topic1\", \"Topic1\", \"Topic1\", \"Topic1\", \"Topic1\", \"Topic2\", \"Topic2\", \"Topic2\", \"Topic2\", \"Topic2\", \"Topic2\", \"Topic2\", \"Topic2\", \"Topic2\", \"Topic2\", \"Topic2\", \"Topic2\", \"Topic2\", \"Topic2\", \"Topic2\", \"Topic2\", \"Topic2\", \"Topic2\", \"Topic2\", \"Topic2\", \"Topic2\", \"Topic2\", \"Topic2\", \"Topic2\", \"Topic2\", \"Topic2\", \"Topic2\", \"Topic2\", \"Topic2\", \"Topic2\", \"Topic2\", \"Topic2\", \"Topic2\", \"Topic2\", \"Topic2\", \"Topic2\", \"Topic2\", \"Topic2\", \"Topic2\", \"Topic2\", \"Topic2\", \"Topic2\", \"Topic2\", \"Topic2\", \"Topic2\", \"Topic2\", \"Topic2\", \"Topic2\", \"Topic2\", \"Topic2\", \"Topic2\", \"Topic2\", \"Topic2\", \"Topic2\", \"Topic2\", \"Topic3\", \"Topic3\", \"Topic3\", \"Topic3\", \"Topic3\", \"Topic3\", \"Topic3\", \"Topic3\", \"Topic3\", \"Topic3\", \"Topic3\", \"Topic3\", \"Topic3\", \"Topic3\", \"Topic3\", \"Topic3\", \"Topic3\", \"Topic3\", \"Topic3\", \"Topic3\", \"Topic3\", \"Topic3\", \"Topic3\", \"Topic3\", \"Topic3\", \"Topic3\", \"Topic3\", \"Topic3\", \"Topic3\", \"Topic3\", \"Topic3\", \"Topic3\", \"Topic3\", \"Topic3\", \"Topic3\", \"Topic3\", \"Topic3\", \"Topic3\", \"Topic3\", \"Topic3\", \"Topic3\", \"Topic3\", \"Topic3\", \"Topic3\", \"Topic3\", \"Topic3\", \"Topic3\", \"Topic3\", \"Topic3\", \"Topic3\", \"Topic3\", \"Topic3\", \"Topic3\", \"Topic3\", \"Topic3\", \"Topic4\", \"Topic4\", \"Topic4\", \"Topic4\", \"Topic4\", \"Topic4\", \"Topic4\", \"Topic4\", \"Topic4\", \"Topic4\", \"Topic4\", \"Topic4\", \"Topic4\", \"Topic4\", \"Topic4\", \"Topic4\", \"Topic4\", \"Topic4\", \"Topic4\", \"Topic4\", \"Topic4\", \"Topic4\", \"Topic4\", \"Topic4\", \"Topic4\", \"Topic4\", \"Topic4\", \"Topic4\", \"Topic4\", \"Topic4\", \"Topic4\", \"Topic4\", \"Topic4\", \"Topic4\", \"Topic4\", \"Topic4\", \"Topic4\", \"Topic4\", \"Topic4\", \"Topic4\", \"Topic4\", \"Topic4\", \"Topic4\", \"Topic4\", \"Topic4\", \"Topic4\", \"Topic4\", \"Topic4\", \"Topic4\", \"Topic4\", \"Topic4\"], \"logprob\": [30.0, 29.0, 28.0, 27.0, 26.0, 25.0, 24.0, 23.0, 22.0, 21.0, 20.0, 19.0, 18.0, 17.0, 16.0, 15.0, 14.0, 13.0, 12.0, 11.0, 10.0, 9.0, 8.0, 7.0, 6.0, 5.0, 4.0, 3.0, 2.0, 1.0, -5.4965, -5.7534, -5.7403, -5.8525, -5.9147, -5.8742, -6.0431, -5.7378, -6.0064, -6.3278, -6.096, -6.2657, -6.3913, -6.3936, -6.298, -6.2112, -6.4021, -6.3653, -6.5486, -6.5399, -6.5567, -6.2408, -6.4698, -6.5053, -6.5539, -6.4914, -6.4341, -6.7715, -6.8198, -6.4247, -6.4924, -6.5977, -6.1269, -5.1432, -4.8303, -5.7409, -5.9158, -5.6993, -6.0001, -5.6257, -5.8855, -5.3236, -5.0096, -5.307, -5.7492, -5.6092, -5.6613, -5.8385, -5.7038, -5.4256, -4.7921, -5.5202, -5.692, -5.769, -5.7997, -5.9529, -5.8357, -5.9395, -5.9371, -5.1894, -5.2423, -5.5208, -5.7846, -5.4947, -5.2188, -5.6512, -5.6603, -5.8201, -5.862, -5.9324, -5.8976, -4.5881, -6.0336, -6.0485, -6.1897, -6.035, -6.2094, -5.9922, -6.2976, -6.3293, -6.3409, -6.3198, -6.3159, -6.3614, -6.4973, -6.1882, -6.6026, -6.4576, -6.6503, -6.5402, -6.4459, -6.2926, -5.1491, -5.2224, -6.0796, -5.5371, -5.3501, -5.4012, -5.7423, -5.5736, -5.6373, -5.2347, -5.6382, -5.74, -5.6871, -5.5972, -5.5244, -5.6999, -5.39, -5.4059, -5.0295, -5.4665, -5.6327, -5.6501, -4.3889, -5.5017, -5.3898, -5.4239, -5.6215, -5.7209, -5.7308, -6.1393, -6.1263, -6.2726, -6.2394, -6.2748, -6.1619, -6.22, -6.1655, -6.129, -5.9206, -6.3696, -6.1449, -6.4223, -5.8785, -6.1758, -6.1746, -6.281, -6.526, -6.3669, -6.6667, -6.0221, -6.5875, -6.4629, -6.0035, -6.1967, -6.382, -5.2577, -5.1521, -5.1674, -5.7315, -5.5635, -5.6851, -5.878, -5.655, -5.9044, -5.8384, -5.9292, -5.9792, -6.0676, -5.9085, -5.7827, -5.8407, -5.8727, -5.9577, -5.9631, -5.6283, -5.802, -5.9859, -4.9328, -5.0562, -5.1696, -5.376, -5.5142, -4.6389, -5.4216, -5.623, -5.373, -5.8402, -5.9592, -5.8519, -5.8889, -6.1121, -6.0281, -6.1713, -6.0303, -6.1067, -6.2936, -6.2743, -6.2168, -6.3109, -6.2878, -6.471, -6.3443, -5.8305, -6.4083, -6.0321, -6.5992, -6.3649, -5.7876, -5.007, -5.0905, -5.6201, -5.1373, -5.4295, -5.6125, -5.4149, -5.0644, -5.0496, -5.7205, -5.4066, -5.5798, -5.3808, -5.6546, -5.6511, -4.9928, -5.3491, -5.685, -5.7706, -5.7734], \"loglift\": [30.0, 29.0, 28.0, 27.0, 26.0, 25.0, 24.0, 23.0, 22.0, 21.0, 20.0, 19.0, 18.0, 17.0, 16.0, 15.0, 14.0, 13.0, 12.0, 11.0, 10.0, 9.0, 8.0, 7.0, 6.0, 5.0, 4.0, 3.0, 2.0, 1.0, 1.2221, 1.2218, 1.2215, 1.2208, 1.2202, 1.22, 1.2184, 1.2184, 1.2182, 1.215, 1.2148, 1.2147, 1.213, 1.2125, 1.2123, 1.2122, 1.2119, 1.2119, 1.2118, 1.2109, 1.2103, 1.2098, 1.2095, 1.2094, 1.2085, 1.2077, 1.2074, 1.2053, 1.2043, 1.2041, 1.2039, 1.1972, 1.1696, 1.0415, 0.9825, 1.1028, 1.1256, 1.0934, 1.1185, 1.0331, 1.0625, 0.886, 0.7907, 0.8693, 0.9661, 0.9102, 0.9205, 0.9773, 0.8876, 0.7009, 0.2538, 0.7184, 0.7352, 0.7358, 0.7399, 0.9395, 0.4031, 0.8001, -0.1779, 1.2986, 1.2965, 1.2964, 1.2942, 1.2935, 1.2931, 1.2925, 1.2922, 1.292, 1.2916, 1.2909, 1.2907, 1.2902, 1.2896, 1.289, 1.2878, 1.2872, 1.2863, 1.2861, 1.2857, 1.2849, 1.2849, 1.2837, 1.2834, 1.2833, 1.2807, 1.2804, 1.2788, 1.2782, 1.2782, 1.2779, 1.2769, 1.2725, 1.2187, 1.2111, 1.2567, 1.215, 1.1691, 1.1666, 1.2025, 1.1644, 1.1575, 1.059, 1.1204, 1.123, 1.095, 1.0284, 0.9901, 1.0558, 0.6113, 0.5729, 0.0164, 0.6446, 0.7586, 0.7048, 1.4789, 1.4709, 1.4707, 1.4699, 1.4689, 1.468, 1.4627, 1.462, 1.4616, 1.461, 1.46, 1.4596, 1.4594, 1.4585, 1.4579, 1.4569, 1.4563, 1.4561, 1.4553, 1.4552, 1.455, 1.4545, 1.4531, 1.4522, 1.4519, 1.4499, 1.4499, 1.449, 1.4488, 1.4481, 1.4472, 1.447, 1.445, 1.3118, 1.2825, 1.2726, 1.3556, 1.194, 1.2056, 1.2547, 0.9829, 1.1679, 1.0529, 1.1343, 1.1667, 1.2862, 1.0268, 0.7338, 0.7718, 0.8301, 0.9119, 0.8186, -0.5824, -0.0428, 0.834, 1.5528, 1.5528, 1.5522, 1.5501, 1.5493, 1.5491, 1.5486, 1.5477, 1.5461, 1.5444, 1.5433, 1.5426, 1.5402, 1.5382, 1.5375, 1.5375, 1.5362, 1.5362, 1.5341, 1.5338, 1.5335, 1.5327, 1.5324, 1.5321, 1.5315, 1.5309, 1.5308, 1.5294, 1.5292, 1.5272, 1.5178, 1.4359, 1.3949, 1.4275, 1.3397, 1.3718, 1.3806, 1.328, 1.1664, 1.1394, 1.3546, 1.0347, 1.0994, 0.8757, 1.113, 1.1009, 0.0531, 0.4101, 1.0108, 1.0611, 0.8299]}, \"token.table\": {\"Topic\": [1, 2, 3, 4, 1, 2, 3, 4, 1, 2, 3, 4, 1, 2, 3, 4, 1, 2, 3, 4, 1, 2, 3, 4, 1, 2, 3, 4, 1, 2, 3, 4, 1, 2, 3, 4, 1, 2, 3, 4, 1, 2, 3, 4, 1, 2, 3, 4, 1, 2, 3, 4, 1, 2, 3, 4, 1, 2, 3, 4, 1, 2, 3, 4, 1, 2, 3, 4, 1, 2, 3, 4, 1, 2, 3, 4, 1, 2, 3, 4, 1, 2, 3, 4, 1, 2, 3, 4, 1, 2, 3, 4, 1, 2, 3, 4, 1, 2, 3, 4, 1, 2, 3, 4, 1, 2, 3, 4, 1, 2, 3, 4, 1, 2, 3, 4, 1, 2, 3, 4, 1, 2, 3, 4, 1, 2, 3, 4, 1, 2, 3, 4, 1, 2, 3, 4, 1, 2, 3, 4, 1, 2, 3, 4, 1, 2, 3, 4, 1, 2, 3, 4, 1, 2, 3, 4, 1, 2, 3, 4, 1, 2, 3, 4, 1, 2, 3, 4, 1, 2, 3, 4, 1, 2, 3, 4, 1, 2, 3, 4, 1, 2, 3, 4, 1, 2, 3, 4, 1, 2, 3, 4, 1, 2, 3, 4, 1, 2, 3, 4, 1, 2, 3, 4, 1, 2, 3, 4, 1, 2, 3, 4, 1, 2, 3, 4, 1, 2, 3, 4, 1, 2, 3, 4, 1, 2, 3, 4, 1, 2, 3, 4, 1, 2, 3, 4, 1, 2, 3, 4, 1, 2, 3, 4, 1, 2, 3, 4, 1, 2, 3, 4, 1, 2, 3, 4, 1, 2, 3, 4, 1, 2, 3, 4, 1, 2, 3, 4, 1, 2, 3, 4, 1, 2, 3, 4, 1, 2, 3, 4, 1, 2, 3, 4, 1, 2, 3, 4, 1, 2, 3, 4, 1, 2, 3, 4, 1, 2, 3, 4, 1, 2, 3, 4, 1, 2, 3, 4, 1, 2, 3, 4, 1, 2, 3, 4, 1, 2, 3, 4, 1, 2, 3, 4, 1, 2, 3, 4, 1, 2, 3, 4, 1, 2, 3, 4, 1, 2, 3, 4, 1, 2, 3, 4, 1, 2, 3, 4, 1, 2, 3, 4, 1, 2, 3, 4, 1, 2, 3, 4, 1, 2, 3, 4, 1, 2, 3, 4, 1, 2, 3, 4, 1, 2, 3, 4, 1, 2, 3, 4, 1, 2, 3, 4, 1, 2, 3, 4, 1, 2, 3, 4, 1, 2, 3, 4, 1, 2, 3, 4, 1, 2, 3, 4, 1, 2, 3, 4, 1, 2, 3, 4, 1, 2, 3, 4, 1, 2, 3, 4, 1, 2, 3, 4, 1, 2, 3, 4, 1, 2, 3, 4, 1, 2, 3, 4, 1, 2, 3, 4, 1, 2, 3, 4, 1, 2, 3, 4, 1, 2, 3, 4, 1, 2, 3, 4, 1, 2, 3, 4, 1, 2, 3, 4, 1, 2, 3, 4, 1, 2, 3, 4, 1, 2, 3, 4, 1, 2, 3, 4, 1, 2, 3, 4, 1, 2, 3, 4, 1, 2, 3, 4, 1, 2, 3, 4, 1, 2, 3, 4, 1, 2, 3, 4, 1, 2, 3, 4, 1, 2, 3, 4, 1, 2, 3, 4, 1, 2, 3, 4, 1, 2, 3, 4, 1, 2, 3, 4, 1, 2, 3, 4, 1, 2, 3, 4, 1, 2, 3, 4, 1, 2, 3, 4, 1, 2, 3, 4, 1, 2, 3, 4, 1, 2, 3, 4, 1, 2, 3, 4, 1, 2, 3, 4, 1, 2, 3, 4, 1, 2, 3, 4, 1, 2, 3, 4, 1, 2, 3, 4, 1, 2, 3, 4, 1, 2, 3, 4, 1, 2, 3, 4, 1, 2, 3, 4, 1, 2, 3, 4, 1, 2, 3, 4, 1, 2, 3, 4, 1, 2, 3, 4, 1, 2, 3, 4, 1, 2, 3, 4, 1, 2, 3, 4, 1, 2, 3, 4, 1, 2, 3, 4, 1, 2, 3, 4, 1, 2, 3, 4, 1, 2, 3, 4, 1, 2, 3, 4, 1, 2, 3, 4, 1, 2, 3, 4, 1, 2, 3, 4, 1, 2, 3, 4, 1, 2, 3, 4, 1, 2, 3, 4, 1, 2, 3, 4, 1, 2, 3, 4, 1, 2, 3, 4, 1, 2, 3, 4, 1, 2, 3, 4, 1, 2, 3, 4, 1, 2, 3, 4, 1, 2, 3, 4, 1, 2, 3, 4, 1, 2, 3, 4, 1, 2, 3, 4, 1, 2, 3, 4, 1, 2, 3, 4, 1, 2, 3, 4, 1, 2, 3, 4, 1, 2, 3, 4, 1, 2, 3, 4, 1, 2, 3, 4, 1, 2, 3, 4, 1, 2, 3, 4, 1, 2, 3, 4, 1, 2, 3, 4, 1, 2, 3, 4, 1, 2, 3, 4, 1, 2, 3, 4, 1, 2, 3, 4, 1, 2, 3, 4, 1, 2, 3, 4, 1, 2, 3, 4, 1, 2, 3, 4, 1, 2, 3, 4, 1, 2, 3, 4, 1, 2, 3, 4, 1, 2, 3, 4, 1, 2, 3, 4, 1, 2, 3, 4, 1, 2, 3, 4, 1, 2, 3, 4, 1, 2, 3, 4, 1, 2, 3, 4, 1, 2, 3, 4, 1, 2, 3, 4, 1, 2, 3, 4, 1, 2, 3, 4, 1, 2, 3, 4, 1, 2, 3, 4, 1, 2, 3, 4], \"Freq\": [0.007858418532018597, 0.007858418532018597, 0.007858418532018597, 0.9823023165023246, 0.008449923953076022, 0.9717412546037425, 0.008449923953076022, 0.008449923953076022, 0.005127819513716425, 0.9845413466335535, 0.005127819513716425, 0.005127819513716425, 0.08002285855739905, 0.9122605875543491, 0.003200914342295962, 0.003200914342295962, 0.012527734061275882, 0.012527734061275882, 0.9646355227182429, 0.012527734061275882, 0.9857968874946621, 0.005134358789034698, 0.005134358789034698, 0.005134358789034698, 0.0025359835241818454, 0.8723783323185548, 0.12172720916072857, 0.0025359835241818454, 0.9695144439298482, 0.010893420718312901, 0.010893420718312901, 0.010893420718312901, 0.006612121539799915, 0.9852061094301874, 0.006612121539799915, 0.006612121539799915, 0.9837866028240858, 0.006831851408500596, 0.006831851408500596, 0.006831851408500596, 0.004073217529088178, 0.004073217529088178, 0.15478226610535079, 0.8350095934630766, 0.6099033240797489, 0.004999207574424172, 0.20246790676417895, 0.18497068025369434, 0.07846478531118506, 0.9176020726669141, 0.0021795773697551404, 0.0021795773697551404, 0.009294381910766918, 0.9759101006305264, 0.009294381910766918, 0.009294381910766918, 0.007217056432925894, 0.9670855620120699, 0.02165116929877768, 0.007217056432925894, 0.004782393932338009, 0.9851731500616299, 0.004782393932338009, 0.004782393932338009, 0.9825995091721372, 0.008773209903322653, 0.008773209903322653, 0.008773209903322653, 0.00874021140317156, 0.00437010570158578, 0.7079571236568963, 0.2796867649014899, 0.005666475044230898, 0.9859666576961763, 0.005666475044230898, 0.005666475044230898, 0.007358560628046264, 0.33849378889012816, 0.6512326155820944, 0.003679280314023132, 0.013105066322278185, 0.9763274410097248, 0.006552533161139093, 0.006552533161139093, 0.17243785142069284, 0.006990723706244304, 0.8179146736305836, 0.002330241235414768, 0.0033623574207899388, 0.164755513618707, 0.0033623574207899388, 0.827139925514325, 0.9819035369930958, 0.008689411831797307, 0.008689411831797307, 0.008689411831797307, 0.0038092451036547967, 0.0038092451036547967, 0.0038092451036547967, 0.9904037269502471, 0.0019005684143762434, 0.051315347188158576, 0.2717812832558028, 0.6747017871035664, 0.010904800737347222, 0.010904800737347222, 0.9705272656239028, 0.010904800737347222, 0.00334058996800683, 0.8618722117457621, 0.12694241878425955, 0.00668117993601366, 0.1774455409240405, 0.16769578592821408, 0.15014622693572657, 0.5050373087838075, 0.004683572161636767, 0.19671003078874422, 0.7962072674782503, 0.004683572161636767, 0.005660695385537184, 0.9793003016979328, 0.005660695385537184, 0.005660695385537184, 0.003990817874509977, 0.003990817874509977, 0.9897228328784743, 0.003990817874509977, 0.9736843325507444, 0.008251562140260545, 0.008251562140260545, 0.008251562140260545, 0.9886376521530882, 0.004413560947112, 0.004413560947112, 0.004413560947112, 0.00825426268690882, 0.00825426268690882, 0.9740029970552406, 0.00825426268690882, 0.2601360087490508, 0.004409084894051708, 0.7319080924125836, 0.004409084894051708, 0.010489608372952548, 0.010489608372952548, 0.010489608372952548, 0.9755335786845869, 0.005740704484123713, 0.9529569443645363, 0.005740704484123713, 0.034444226904742276, 0.008560929130058336, 0.9759459208266503, 0.008560929130058336, 0.008560929130058336, 0.002349444314544476, 0.11277332709813484, 0.002349444314544476, 0.8833910622687229, 0.003416469699780173, 0.9907762129362503, 0.003416469699780173, 0.003416469699780173, 0.007807205655797266, 0.015614411311594531, 0.968093501318861, 0.007807205655797266, 0.2341028068829122, 0.7587187355602818, 0.0028205157455772558, 0.0028205157455772558, 0.007634285567105541, 0.007634285567105541, 0.9771885525895092, 0.007634285567105541, 0.0024581382656934333, 0.9930878593401471, 0.0024581382656934333, 0.0024581382656934333, 0.152006112953315, 0.002666773911461667, 0.8427005560218866, 0.002666773911461667, 0.0018209109859445149, 0.007283643943778059, 0.0018209109859445149, 0.9887546653678716, 0.007580079807150673, 0.9778302951224368, 0.007580079807150673, 0.007580079807150673, 0.01118343846730163, 0.01118343846730163, 0.01118343846730163, 0.9729591466552419, 0.002452267926648726, 0.002452267926648726, 0.002452267926648726, 0.993168510292734, 0.9757852913636904, 0.008790858480753967, 0.008790858480753967, 0.008790858480753967, 0.3510719195438275, 0.003250665921702107, 0.006501331843404214, 0.6403811865753151, 0.1609367824732625, 0.8332948959171148, 0.0035763729438502783, 0.0035763729438502783, 0.00495130357094688, 0.9853094106184291, 0.00495130357094688, 0.00495130357094688, 0.0018227135655278536, 0.3408474367537086, 0.0018227135655278536, 0.6561768835900272, 0.007191670296933635, 0.01438334059386727, 0.007191670296933635, 0.9708754900860407, 0.11374320296382184, 0.4800849475745727, 0.1964655323920559, 0.2082830080246608, 0.4476688117608361, 0.07587606978997222, 0.47296083502416014, 0.002529202326332407, 0.006733042914671399, 0.9830242655420243, 0.006733042914671399, 0.006733042914671399, 0.6964870823618925, 0.001799708223157345, 0.26275740058097236, 0.039593580909461586, 0.15762841083272436, 0.0038445953861640085, 0.6343582387170614, 0.20376355546669245, 0.00643646994134763, 0.019309409824042893, 0.9654704912021446, 0.00643646994134763, 0.011561092950258796, 0.011561092950258796, 0.9711318078217388, 0.011561092950258796, 0.8448733984035304, 0.00389342579909461, 0.14795018036559518, 0.00389342579909461, 0.0031561564128952647, 0.8679430135461977, 0.1262462565158106, 0.0031561564128952647, 0.010199762251935494, 0.02039952450387099, 0.9689774139338719, 0.010199762251935494, 0.0117742540379791, 0.00588712701898955, 0.0117742540379791, 0.9713759581332758, 0.9903197274900595, 0.004693458424123505, 0.004693458424123505, 0.004693458424123505, 0.7794767508287874, 0.0012511665342356138, 0.09633982313614226, 0.12386548688932576, 0.5975938614615748, 0.07086850280153291, 0.14556773548422974, 0.18579039923645113, 0.8700607379219344, 0.0033335660456779094, 0.12334194369008265, 0.0033335660456779094, 0.002662003474715322, 0.8704751362319103, 0.12511416331162015, 0.002662003474715322, 0.00329825536025994, 0.8113708186239452, 0.02308778752181958, 0.16161451265273705, 0.7316240274003487, 0.00539943931660774, 0.00269971965830387, 0.25917308719717147, 0.00938510271707037, 0.00938510271707037, 0.00938510271707037, 0.9760506825753185, 0.9789380197553221, 0.008090396857482002, 0.008090396857482002, 0.008090396857482002, 0.5873239357813156, 0.18664230029202156, 0.22260090860516335, 0.0017123146815781795, 0.43681313424154405, 0.23756503792083974, 0.003831694160013544, 0.3237781565211445, 0.2366223214731084, 0.1948654412131481, 0.48994739505020096, 0.07794617648525924, 0.01171417299828797, 0.17571259497431954, 0.8106207714815274, 0.0023428345996575938, 0.21101365552168008, 0.2703612461371526, 0.5143457853340951, 0.006594176735052503, 0.007702848109197209, 0.015405696218394419, 0.9705588617588483, 0.007702848109197209, 0.9803496032077891, 0.00883197840727738, 0.00883197840727738, 0.00883197840727738, 0.009365980577996246, 0.009365980577996246, 0.9740619801116096, 0.009365980577996246, 0.003025840272324018, 0.36310083267888216, 0.05749096517415634, 0.5779354920138875, 0.9832790770581725, 0.006262924057695366, 0.006262924057695366, 0.006262924057695366, 0.00258595663487809, 0.9904213911583085, 0.00258595663487809, 0.00258595663487809, 0.005747934934719007, 0.9828968738369501, 0.005747934934719007, 0.005747934934719007, 0.003466151361159218, 0.2946228656985336, 0.0935860867512989, 0.6065764882028633, 0.19636123597675628, 0.5779268195224987, 0.22313776815540487, 0.002231377681554049, 0.00722028802712543, 0.00722028802712543, 0.00722028802712543, 0.9747388836619331, 0.00780107076903595, 0.00780107076903595, 0.00780107076903595, 0.9751338461294937, 0.005566305891694032, 0.02783152945847016, 0.005566305891694032, 0.9574046133713734, 0.988243183842951, 0.0040009845499714616, 0.0040009845499714616, 0.0040009845499714616, 0.003876760827580397, 0.9885740110330012, 0.003876760827580397, 0.003876760827580397, 0.002451440045495193, 0.1470864027297116, 0.002451440045495193, 0.8481982557413369, 0.0023277617048200424, 0.9101548265846366, 0.08612718307834158, 0.0023277617048200424, 0.7086458392083882, 0.01090224368012905, 0.0027255609200322623, 0.27528165292325846, 0.009201624324242584, 0.009201624324242584, 0.009201624324242584, 0.9753721783697139, 0.001321920567984491, 0.001321920567984491, 0.9967281082603062, 0.001321920567984491, 0.8257775341202508, 0.0018148956793851666, 0.1470065500301985, 0.025408539511392332, 0.017077334458956737, 0.008538667229478368, 0.973408064160534, 0.008538667229478368, 0.9855502051677064, 0.005327298406311927, 0.005327298406311927, 0.005327298406311927, 0.9810215405524982, 0.007057708924838117, 0.007057708924838117, 0.007057708924838117, 0.010835185528317533, 0.9805842903127368, 0.005417592764158766, 0.005417592764158766, 0.643812320938173, 0.09638648950705853, 0.10256511062930587, 0.15817270072953193, 0.6480538141193501, 0.06322476235310732, 0.284511430588983, 0.0031612381176553666, 0.8913204845019365, 0.00923648170468328, 0.00461824085234164, 0.09236481704683279, 0.0035675199031526645, 0.0035675199031526645, 0.9882030131732881, 0.0035675199031526645, 0.004301321654679457, 0.11183436302166588, 0.004301321654679457, 0.8774696175546092, 0.00722771847847635, 0.00722771847847635, 0.00722771847847635, 0.9757419945943072, 0.9626184657834441, 0.018162612561951775, 0.009081306280975887, 0.009081306280975887, 0.0032218477034454064, 0.8312367074889149, 0.16109238517227034, 0.0032218477034454064, 0.007482925401976746, 0.007482925401976746, 0.9802632276589538, 0.007482925401976746, 0.009863645131098987, 0.009863645131098987, 0.9765008679787996, 0.009863645131098987, 0.008685947769644074, 0.008685947769644074, 0.008685947769644074, 0.9728261502001363, 0.37599073525308924, 0.27545534545589534, 0.12668621373288014, 0.22141030932214373, 0.012675420073746, 0.012675420073746, 0.012675420073746, 0.976007345678442, 0.004437772532162364, 0.9896232746722072, 0.004437772532162364, 0.004437772532162364, 0.7651396362474499, 0.006170480937479434, 0.22522255421799933, 0.003085240468739717, 0.003318526888887781, 0.9889210128885587, 0.003318526888887781, 0.003318526888887781, 0.0034255031614776905, 0.37337984460106827, 0.5241019837060866, 0.09933959168285303, 0.9831832013170323, 0.007505215277229254, 0.007505215277229254, 0.007505215277229254, 0.008929250861883105, 0.9732883439452583, 0.008929250861883105, 0.008929250861883105, 0.9775742569119316, 0.007578095014821175, 0.007578095014821175, 0.007578095014821175, 0.009902328607111918, 0.970428203496968, 0.009902328607111918, 0.009902328607111918, 0.9775013577791907, 0.007519241213686082, 0.007519241213686082, 0.007519241213686082, 0.7743941744827334, 0.0034114280814217333, 0.0034114280814217333, 0.21833139721099093, 0.001335892739840895, 0.9845529492627395, 0.00534357095936358, 0.008015356439045369, 0.0074992949217987225, 0.9824076347556328, 0.0074992949217987225, 0.0074992949217987225, 0.003676585090248381, 0.23530144577589637, 0.7573765285911664, 0.003676585090248381, 0.00602530624339604, 0.00602530624339604, 0.00602530624339604, 0.9821249176735545, 0.002976043985875696, 0.3630773662768349, 0.002976043985875696, 0.6309213250056476, 0.9691993283809472, 0.0153841163235071, 0.00769205816175355, 0.00769205816175355, 0.0047457739004046, 0.25627179062184835, 0.7308491806623083, 0.0094915478008092, 0.00458818459039997, 0.9864596869359934, 0.00458818459039997, 0.00458818459039997, 0.004370265642326298, 0.004370265642326298, 0.004370265642326298, 0.9876800351657434, 0.009377827660133304, 0.018755655320266608, 0.9659162489937303, 0.009377827660133304, 0.9852645210053225, 0.003925356657391723, 0.003925356657391723, 0.003925356657391723, 0.0048647692392140155, 0.0048647692392140155, 0.0048647692392140155, 0.9875481555604452, 0.007383450470292761, 0.007383450470292761, 0.9819989125489371, 0.007383450470292761, 0.0030470779243581816, 0.3656493509229818, 0.5210503250652491, 0.10969480527689454, 0.008548711672676635, 0.008548711672676635, 0.9745531306851365, 0.008548711672676635, 0.0075659215356482365, 0.0037829607678241182, 0.0037829607678241182, 0.9873527604020949, 0.08281378041233362, 0.005711295200850595, 0.605397291290163, 0.3055542932455068, 0.002774055200103952, 0.002774055200103952, 0.002774055200103952, 0.9931117616372148, 0.007468429600403732, 0.9783642776528889, 0.007468429600403732, 0.007468429600403732, 0.010008068175567817, 0.010008068175567817, 0.010008068175567817, 0.9707826130300783, 0.9806831709999548, 0.008381907444444059, 0.008381907444444059, 0.008381907444444059, 0.018215130087175558, 0.7812266904055295, 0.19834252761591162, 0.0020239033430195065, 0.008332452486841375, 0.008332452486841375, 0.008332452486841375, 0.974896940960441, 0.006569623546262741, 0.006569623546262741, 0.965734661300623, 0.019708870638788224, 0.00931439081081522, 0.00931439081081522, 0.00931439081081522, 0.9686966443247829, 0.006400877287378481, 0.34884781216212724, 0.016002193218446203, 0.6304864128067804, 0.004421283297124896, 0.17685133188499583, 0.004421283297124896, 0.8135161266709807, 0.8977046968455773, 0.00854956854138645, 0.08977046968455774, 0.004274784270693225, 0.9788389732825475, 0.007304768457332444, 0.007304768457332444, 0.007304768457332444, 0.0024309557519981684, 0.0024309557519981684, 0.1920455044078553, 0.8022153981593956, 0.004954268751156422, 0.004954268751156422, 0.9858994814801281, 0.004954268751156422, 0.9379048898181385, 0.011034175174331041, 0.044136700697324165, 0.005517087587165521, 0.23116714838566396, 0.5001067066382665, 0.03172882428822839, 0.23721073396437414, 0.7070567697748726, 0.13955067824504064, 0.1507147325046439, 0.0018606757099338754, 0.005725117443818488, 0.005725117443818488, 0.973269965449143, 0.017175352331455465, 0.06746399067137333, 0.78065474919732, 0.003212570984351111, 0.14777826528015112, 0.11403968434784449, 0.5486815001641575, 0.22807936869568898, 0.1097363000328315, 0.014949487476651155, 0.007474743738325578, 0.9717166859823251, 0.007474743738325578, 0.00984660539826923, 0.00984660539826923, 0.00984660539826923, 0.9748139344286537, 0.9783074852025626, 0.006436233455280017, 0.006436233455280017, 0.006436233455280017, 0.0062989804481945934, 0.0062989804481945934, 0.0062989804481945934, 0.9826409499183566, 0.008541690225003803, 0.008541690225003803, 0.9822943758754373, 0.008541690225003803, 0.004474773849920707, 0.004474773849920707, 0.8815304484343793, 0.10739457239809697, 0.008083306508482477, 0.008083306508482477, 0.9780800875263796, 0.008083306508482477, 0.970779550845059, 0.011420935892294811, 0.011420935892294811, 0.011420935892294811, 0.9813740200497455, 0.006630905540876659, 0.006630905540876659, 0.006630905540876659, 0.05161003836897278, 0.27447156768953707, 0.08210687922336578, 0.5911695304082336, 0.007368934749706227, 0.014737869499412455, 0.9726993869612219, 0.007368934749706227, 0.7476342671023404, 0.0036829274241494602, 0.24675613741801383, 0.0036829274241494602, 0.41759250725393754, 0.014399741629446123, 0.5651898589557602, 0.0035999354073615306, 0.990543734148561, 0.0030954491692142534, 0.0030954491692142534, 0.0030954491692142534, 0.8193805406477391, 0.06998267962827666, 0.03499133981413833, 0.07581456959729971, 0.9710215972923085, 0.016457993174445906, 0.008228996587222953, 0.008228996587222953, 0.015301059472174484, 0.007650529736087242, 0.979267806219167, 0.007650529736087242, 0.010379775672328099, 0.9756989131988413, 0.010379775672328099, 0.010379775672328099, 0.004976789821050055, 0.00995357964210011, 0.9804275947468608, 0.004976789821050055, 0.006779289481724637, 0.006779289481724637, 0.006779289481724637, 0.9829969748500723, 0.007668989628011347, 0.9816306723854524, 0.007668989628011347, 0.007668989628011347, 0.2443010569131485, 0.22176843515902314, 0.21702472531604938, 0.3166426320184983, 0.13124570531580396, 0.7294232468512951, 0.0025239558714577684, 0.13376966118726172, 0.003911304887281668, 0.9856488315949804, 0.003911304887281668, 0.003911304887281668, 0.01856629036071565, 0.009283145180357825, 0.9654470987572139, 0.009283145180357825, 0.017937701587038, 0.005979233862345999, 0.9746151195623979, 0.005979233862345999, 0.00781510133758574, 0.9768876671982175, 0.00781510133758574, 0.00781510133758574, 0.007683238276000417, 0.015366476552000834, 0.9680880227760525, 0.007683238276000417, 0.0073491911382384985, 0.9774424213857202, 0.0073491911382384985, 0.0073491911382384985, 0.6083080338641115, 0.10870904027229368, 0.13415158161261773, 0.14802933143461267, 0.00953426221596982, 0.00953426221596982, 0.00953426221596982, 0.9724947460289216, 0.00448952573013526, 0.00448952573013526, 0.9876956606297572, 0.00448952573013526, 0.0031715185088871476, 0.0031715185088871476, 0.1998056660598903, 0.792879627221787, 0.0038814058335345414, 0.9004861533800136, 0.08927233417129446, 0.0038814058335345414, 0.9909328039265802, 0.0039479394578748215, 0.0039479394578748215, 0.0039479394578748215, 0.005842252401862131, 0.16942531965400182, 0.8237575886625605, 0.005842252401862131, 0.006085261659637861, 0.006085261659637861, 0.006085261659637861, 0.9858123888613334, 0.0036878392756979, 0.0073756785513958, 0.9883409258870371, 0.0036878392756979, 0.0025174393879374224, 0.9868362400714696, 0.0025174393879374224, 0.007552318163812267, 0.003105429058829742, 0.003105429058829742, 0.003105429058829742, 0.9937372988255174, 0.1669312454074689, 0.515969303986722, 0.10285662595813741, 0.21414412289645002, 0.9738064858721596, 0.007790451886977277, 0.007790451886977277, 0.007790451886977277, 0.8804908636349887, 0.11576174701177143, 0.0035079317276294373, 0.0035079317276294373, 0.003980776739764116, 0.003980776739764116, 0.003980776739764116, 0.9872326314615009, 0.9869224389312603, 0.004506495154937262, 0.004506495154937262, 0.004506495154937262, 0.48271977427824686, 0.033100784521936925, 0.0027583987101614106, 0.48271977427824686, 0.6107878098780565, 0.17857779187112668, 0.059525930623708895, 0.15010886852935287, 0.2381333152099873, 0.00965405331932381, 0.7497981411341492, 0.0032180177731079363, 0.7254600621357346, 0.14458469769838067, 0.12936525583539324, 0.00253657364383124, 0.9850338193264203, 0.0055967830643546615, 0.0055967830643546615, 0.0055967830643546615], \"Term\": [\"abortion\", \"abortion\", \"abortion\", \"abortion\", \"accuse\", \"accuse\", \"accuse\", \"accuse\", \"afghan\", \"afghan\", \"afghan\", \"afghan\", \"aid\", \"aid\", \"aid\", \"aid\", \"answer\", \"answer\", \"answer\", \"answer\", \"art\", \"art\", \"art\", \"art\", \"attack\", \"attack\", \"attack\", \"attack\", \"baby\", \"baby\", \"baby\", \"baby\", \"bailout\", \"bailout\", \"bailout\", \"bailout\", \"baseball\", \"baseball\", \"baseball\", \"baseball\", \"begin\", \"begin\", \"begin\", \"begin\", \"big\", \"big\", \"big\", \"big\", \"bill\", \"bill\", \"bill\", \"bill\", \"bomb\", \"bomb\", \"bomb\", \"bomb\", \"bombing\", \"bombing\", \"bombing\", \"bombing\", \"border\", \"border\", \"border\", \"border\", \"brain\", \"brain\", \"brain\", \"brain\", \"bring\", \"bring\", \"bring\", \"bring\", \"budget\", \"budget\", \"budget\", \"budget\", \"business\", \"business\", \"business\", \"business\", \"buy\", \"buy\", \"buy\", \"buy\", \"call\", \"call\", \"call\", \"call\", \"campaign\", \"campaign\", \"campaign\", \"campaign\", \"cancer\", \"cancer\", \"cancer\", \"cancer\", \"candidate\", \"candidate\", \"candidate\", \"candidate\", \"case\", \"case\", \"case\", \"case\", \"celebrate\", \"celebrate\", \"celebrate\", \"celebrate\", \"challenge\", \"challenge\", \"challenge\", \"challenge\", \"change\", \"change\", \"change\", \"change\", \"charge\", \"charge\", \"charge\", \"charge\", \"chief\", \"chief\", \"chief\", \"chief\", \"chinese\", \"chinese\", \"chinese\", \"chinese\", \"class\", \"class\", \"class\", \"class\", \"college\", \"college\", \"college\", \"college\", \"community\", \"community\", \"community\", \"community\", \"company\", \"company\", \"company\", \"company\", \"conservative\", \"conservative\", \"conservative\", \"conservative\", \"consider\", \"consider\", \"consider\", \"consider\", \"control\", \"control\", \"control\", \"control\", \"court\", \"court\", \"court\", \"court\", \"crisis\", \"crisis\", \"crisis\", \"crisis\", \"critic\", \"critic\", \"critic\", \"critic\", \"cut\", \"cut\", \"cut\", \"cut\", \"deadly\", \"deadly\", \"deadly\", \"deadly\", \"deal\", \"deal\", \"deal\", \"deal\", \"death\", \"death\", \"death\", \"death\", \"debate\", \"debate\", \"debate\", \"debate\", \"debt\", \"debt\", \"debt\", \"debt\", \"democratic\", \"democratic\", \"democratic\", \"democratic\", \"die\", \"die\", \"die\", \"die\", \"dog\", \"dog\", \"dog\", \"dog\", \"drug\", \"drug\", \"drug\", \"drug\", \"economic\", \"economic\", \"economic\", \"economic\", \"effort\", \"effort\", \"effort\", \"effort\", \"election\", \"election\", \"election\", \"election\", \"expert\", \"expert\", \"expert\", \"expert\", \"face\", \"face\", \"face\", \"face\", \"family\", \"family\", \"family\", \"family\", \"financial\", \"financial\", \"financial\", \"financial\", \"find\", \"find\", \"find\", \"find\", \"fire\", \"fire\", \"fire\", \"fire\", \"firm\", \"firm\", \"firm\", \"firm\", \"flight\", \"flight\", \"flight\", \"flight\", \"food\", \"food\", \"food\", \"food\", \"force\", \"force\", \"force\", \"force\", \"foreclosure\", \"foreclosure\", \"foreclosure\", \"foreclosure\", \"free\", \"free\", \"free\", \"free\", \"game\", \"game\", \"game\", \"game\", \"get\", \"get\", \"get\", \"get\", \"go\", \"go\", \"go\", \"go\", \"good\", \"good\", \"good\", \"good\", \"government\", \"government\", \"government\", \"government\", \"group\", \"group\", \"group\", \"group\", \"health\", \"health\", \"health\", \"health\", \"hearing\", \"hearing\", \"hearing\", \"hearing\", \"heart\", \"heart\", \"heart\", \"heart\", \"help\", \"help\", \"help\", \"help\", \"high\", \"high\", \"high\", \"high\", \"hit\", \"hit\", \"hit\", \"hit\", \"home\", \"home\", \"home\", \"home\", \"hope\", \"hope\", \"hope\", \"hope\", \"housing\", \"housing\", \"housing\", \"housing\", \"human\", \"human\", \"human\", \"human\", \"hurricane\", \"hurricane\", \"hurricane\", \"hurricane\", \"immigration\", \"immigration\", \"immigration\", \"immigration\", \"insurance\", \"insurance\", \"insurance\", \"insurance\", \"iraqi\", \"iraqi\", \"iraqi\", \"iraqi\", \"israeli\", \"israeli\", \"israeli\", \"israeli\", \"issue\", \"issue\", \"issue\", \"issue\", \"job\", \"job\", \"job\", \"job\", \"judge\", \"judge\", \"judge\", \"judge\", \"justice\", \"justice\", \"justice\", \"justice\", \"key\", \"key\", \"key\", \"key\", \"kid\", \"kid\", \"kid\", \"kid\", \"kill\", \"kill\", \"kill\", \"kill\", \"law\", \"law\", \"law\", \"law\", \"leader\", \"leader\", \"leader\", \"leader\", \"leave\", \"leave\", \"leave\", \"leave\", \"legal\", \"legal\", \"legal\", \"legal\", \"letter\", \"letter\", \"letter\", \"letter\", \"life\", \"life\", \"life\", \"life\", \"link\", \"link\", \"link\", \"link\", \"live\", \"live\", \"live\", \"live\", \"love\", \"love\", \"love\", \"love\", \"low\", \"low\", \"low\", \"low\", \"make\", \"make\", \"make\", \"make\", \"man\", \"man\", \"man\", \"man\", \"many\", \"many\", \"many\", \"many\", \"market\", \"market\", \"market\", \"market\", \"mccain\", \"mccain\", \"mccain\", \"mccain\", \"medium\", \"medium\", \"medium\", \"medium\", \"message\", \"message\", \"message\", \"message\", \"military\", \"military\", \"military\", \"military\", \"miss\", \"miss\", \"miss\", \"miss\", \"murder\", \"murder\", \"murder\", \"murder\", \"national\", \"national\", \"national\", \"national\", \"new\", \"new\", \"new\", \"new\", \"nomination\", \"nomination\", \"nomination\", \"nomination\", \"nuclear\", \"nuclear\", \"nuclear\", \"nuclear\", \"offer\", \"offer\", \"offer\", \"offer\", \"official\", \"official\", \"official\", \"official\", \"oil\", \"oil\", \"oil\", \"oil\", \"olympic\", \"olympic\", \"olympic\", \"olympic\", \"opposition\", \"opposition\", \"opposition\", \"opposition\", \"parent\", \"parent\", \"parent\", \"parent\", \"pass\", \"pass\", \"pass\", \"pass\", \"patient\", \"patient\", \"patient\", \"patient\", \"pay\", \"pay\", \"pay\", \"pay\", \"plan\", \"plan\", \"plan\", \"plan\", \"plant\", \"plant\", \"plant\", \"plant\", \"police\", \"police\", \"police\", \"police\", \"politic\", \"politic\", \"politic\", \"politic\", \"political\", \"political\", \"political\", \"political\", \"poor\", \"poor\", \"poor\", \"poor\", \"post\", \"post\", \"post\", \"post\", \"president\", \"president\", \"president\", \"president\", \"presidential\", \"presidential\", \"presidential\", \"presidential\", \"press\", \"press\", \"press\", \"press\", \"price\", \"price\", \"price\", \"price\", \"primary\", \"primary\", \"primary\", \"primary\", \"prison\", \"prison\", \"prison\", \"prison\", \"protest\", \"protest\", \"protest\", \"protest\", \"protester\", \"protester\", \"protester\", \"protester\", \"put\", \"put\", \"put\", \"put\", \"question\", \"question\", \"question\", \"question\", \"race\", \"race\", \"race\", \"race\", \"reach\", \"reach\", \"reach\", \"reach\", \"ready\", \"ready\", \"ready\", \"ready\", \"real\", \"real\", \"real\", \"real\", \"report\", \"report\", \"report\", \"report\", \"republican\", \"republican\", \"republican\", \"republican\", \"resident\", \"resident\", \"resident\", \"resident\", \"result\", \"result\", \"result\", \"result\", \"return\", \"return\", \"return\", \"return\", \"right\", \"right\", \"right\", \"right\", \"risk\", \"risk\", \"risk\", \"risk\", \"road\", \"road\", \"road\", \"road\", \"rule\", \"rule\", \"rule\", \"rule\", \"sale\", \"sale\", \"sale\", \"sale\", \"save\", \"save\", \"save\", \"save\", \"say\", \"say\", \"say\", \"say\", \"school\", \"school\", \"school\", \"school\", \"search\", \"search\", \"search\", \"search\", \"security\", \"security\", \"security\", \"security\", \"seek\", \"seek\", \"seek\", \"seek\", \"sell\", \"sell\", \"sell\", \"sell\", \"senator\", \"senator\", \"senator\", \"senator\", \"service\", \"service\", \"service\", \"service\", \"shift\", \"shift\", \"shift\", \"shift\", \"shoot\", \"shoot\", \"shoot\", \"shoot\", \"soldier\", \"soldier\", \"soldier\", \"soldier\", \"sound\", \"sound\", \"sound\", \"sound\", \"sport\", \"sport\", \"sport\", \"sport\", \"star\", \"star\", \"star\", \"star\", \"state\", \"state\", \"state\", \"state\", \"stock\", \"stock\", \"stock\", \"stock\", \"story\", \"story\", \"story\", \"story\", \"struggle\", \"struggle\", \"struggle\", \"struggle\", \"student\", \"student\", \"student\", \"student\", \"study\", \"study\", \"study\", \"study\", \"success\", \"success\", \"success\", \"success\", \"summer\", \"summer\", \"summer\", \"summer\", \"summit\", \"summit\", \"summit\", \"summit\", \"support\", \"support\", \"support\", \"support\", \"supreme_court\", \"supreme_court\", \"supreme_court\", \"supreme_court\", \"syrian\", \"syrian\", \"syrian\", \"syrian\", \"take\", \"take\", \"take\", \"take\", \"talk\", \"talk\", \"talk\", \"talk\", \"tax\", \"tax\", \"tax\", \"tax\", \"teacher\", \"teacher\", \"teacher\", \"teacher\", \"teen\", \"teen\", \"teen\", \"teen\", \"tension\", \"tension\", \"tension\", \"tension\", \"terrorism\", \"terrorism\", \"terrorism\", \"terrorism\", \"threat\", \"threat\", \"threat\", \"threat\", \"time\", \"time\", \"time\", \"time\", \"tour\", \"tour\", \"tour\", \"tour\", \"town\", \"town\", \"town\", \"town\", \"trial\", \"trial\", \"trial\", \"trial\", \"troop\", \"troop\", \"troop\", \"troop\", \"tv\", \"tv\", \"tv\", \"tv\", \"victim\", \"victim\", \"victim\", \"victim\", \"view\", \"view\", \"view\", \"view\", \"violence\", \"violence\", \"violence\", \"violence\", \"vote\", \"vote\", \"vote\", \"vote\", \"voter\", \"voter\", \"voter\", \"voter\", \"war\", \"war\", \"war\", \"war\", \"watch\", \"watch\", \"watch\", \"watch\", \"way\", \"way\", \"way\", \"way\", \"weigh\", \"weigh\", \"weigh\", \"weigh\", \"well\", \"well\", \"well\", \"well\", \"win\", \"win\", \"win\", \"win\", \"woman\", \"woman\", \"woman\", \"woman\", \"worker\", \"worker\", \"worker\", \"worker\", \"world\", \"world\", \"world\", \"world\", \"young\", \"young\", \"young\", \"young\"]}, \"R\": 30, \"lambda.step\": 0.01, \"plot.opts\": {\"xlab\": \"PC1\", \"ylab\": \"PC2\"}, \"topic.order\": [2, 4, 1, 3]};\n",
       "\n",
       "function LDAvis_load_lib(url, callback){\n",
       "  var s = document.createElement('script');\n",
       "  s.src = url;\n",
       "  s.async = true;\n",
       "  s.onreadystatechange = s.onload = callback;\n",
       "  s.onerror = function(){console.warn(\"failed to load library \" + url);};\n",
       "  document.getElementsByTagName(\"head\")[0].appendChild(s);\n",
       "}\n",
       "\n",
       "if(typeof(LDAvis) !== \"undefined\"){\n",
       "   // already loaded: just create the visualization\n",
       "   !function(LDAvis){\n",
       "       new LDAvis(\"#\" + \"ldavis_el189561404268914384484472677564\", ldavis_el189561404268914384484472677564_data);\n",
       "   }(LDAvis);\n",
       "}else if(typeof define === \"function\" && define.amd){\n",
       "   // require.js is available: use it to load d3/LDAvis\n",
       "   require.config({paths: {d3: \"https://d3js.org/d3.v5\"}});\n",
       "   require([\"d3\"], function(d3){\n",
       "      window.d3 = d3;\n",
       "      LDAvis_load_lib(\"https://cdn.jsdelivr.net/gh/bmabey/pyLDAvis@3.3.1/pyLDAvis/js/ldavis.v3.0.0.js\", function(){\n",
       "        new LDAvis(\"#\" + \"ldavis_el189561404268914384484472677564\", ldavis_el189561404268914384484472677564_data);\n",
       "      });\n",
       "    });\n",
       "}else{\n",
       "    // require.js not available: dynamically load d3 & LDAvis\n",
       "    LDAvis_load_lib(\"https://d3js.org/d3.v5.js\", function(){\n",
       "         LDAvis_load_lib(\"https://cdn.jsdelivr.net/gh/bmabey/pyLDAvis@3.3.1/pyLDAvis/js/ldavis.v3.0.0.js\", function(){\n",
       "                 new LDAvis(\"#\" + \"ldavis_el189561404268914384484472677564\", ldavis_el189561404268914384484472677564_data);\n",
       "            })\n",
       "         });\n",
       "}\n",
       "</script>"
      ],
      "text/plain": [
       "PreparedData(topic_coordinates=              x         y  topics  cluster       Freq\n",
       "topic                                                \n",
       "1     -0.144963  0.022952       1        1  29.172013\n",
       "3      0.155282 -0.093973       2        1  27.109973\n",
       "0     -0.073161 -0.098942       3        1  22.702492\n",
       "2      0.062841  0.169963       4        1  21.015522, topic_info=             Term        Freq        Total Category  logprob  loglift\n",
       "113        letter  756.000000   756.000000  Default  30.0000  30.0000\n",
       "418          plan  748.000000   748.000000  Default  29.0000  29.0000\n",
       "1098       debate  549.000000   549.000000  Default  28.0000  28.0000\n",
       "104           die  407.000000   407.000000  Default  27.0000  27.0000\n",
       "507          race  360.000000   360.000000  Default  26.0000  26.0000\n",
       "...           ...         ...          ...      ...      ...      ...\n",
       "200           new  381.355218  1720.787082   Topic4  -4.9928   0.0531\n",
       "731          take  267.049250   843.221894   Topic4  -5.3491   0.4101\n",
       "626   immigration  190.851521   330.486711   Topic4  -5.6850   1.0108\n",
       "1064        issue  175.194686   288.504423   Topic4  -5.7706   1.0611\n",
       "80            win  174.708510   362.529172   Topic4  -5.7734   0.8299\n",
       "\n",
       "[250 rows x 6 columns], token_table=      Topic      Freq      Term\n",
       "term                           \n",
       "499       1  0.007858  abortion\n",
       "499       2  0.007858  abortion\n",
       "499       3  0.007858  abortion\n",
       "499       4  0.982302  abortion\n",
       "1850      1  0.008450    accuse\n",
       "...     ...       ...       ...\n",
       "152       4  0.002537     world\n",
       "1304      1  0.985034     young\n",
       "1304      2  0.005597     young\n",
       "1304      3  0.005597     young\n",
       "1304      4  0.005597     young\n",
       "\n",
       "[860 rows x 3 columns], R=30, lambda_step=0.01, plot_opts={'xlab': 'PC1', 'ylab': 'PC2'}, topic_order=[2, 4, 1, 3])"
      ]
     },
     "execution_count": 99,
     "metadata": {},
     "output_type": "execute_result"
    }
   ],
   "source": [
    "import pyLDAvis.gensim_models as gensimvis\n",
    "import pickle \n",
    "import pyLDAvis\n",
    "# Visualize the topics\n",
    "pyLDAvis.enable_notebook()\n",
    "LDAvis_prepared = gensimvis.prepare(lda_model, corpus, id2word)\n",
    "LDAvis_prepared"
   ]
  },
  {
   "cell_type": "code",
   "execution_count": 100,
   "id": "1032c728",
   "metadata": {
    "scrolled": true
   },
   "outputs": [
    {
     "name": "stderr",
     "output_type": "stream",
     "text": [
      "/usr/local/anaconda3/lib/python3.8/site-packages/ipykernel/ipkernel.py:287: DeprecationWarning: `should_run_async` will not call `transform_cell` automatically in the future. Please pass the result to `transformed_cell` argument and any exception that happen during thetransform in `preprocessing_exc_tuple` in IPython 7.17 and above.\n",
      "  and should_run_async(code)\n"
     ]
    }
   ],
   "source": [
    "pyLDAvis.save_html(LDAvis_prepared, \"LDAvis_prepared_titles_4topics2.html\")"
   ]
  },
  {
   "cell_type": "code",
   "execution_count": 101,
   "id": "bf36b4a1",
   "metadata": {
    "scrolled": true
   },
   "outputs": [
    {
     "name": "stderr",
     "output_type": "stream",
     "text": [
      "/usr/local/anaconda3/lib/python3.8/site-packages/ipykernel/ipkernel.py:287: DeprecationWarning: `should_run_async` will not call `transform_cell` automatically in the future. Please pass the result to `transformed_cell` argument and any exception that happen during thetransform in `preprocessing_exc_tuple` in IPython 7.17 and above.\n",
      "  and should_run_async(code)\n"
     ]
    },
    {
     "data": {
      "text/html": [
       "<div>\n",
       "<style scoped>\n",
       "    .dataframe tbody tr th:only-of-type {\n",
       "        vertical-align: middle;\n",
       "    }\n",
       "\n",
       "    .dataframe tbody tr th {\n",
       "        vertical-align: top;\n",
       "    }\n",
       "\n",
       "    .dataframe thead th {\n",
       "        text-align: right;\n",
       "    }\n",
       "</style>\n",
       "<table border=\"1\" class=\"dataframe\">\n",
       "  <thead>\n",
       "    <tr style=\"text-align: right;\">\n",
       "      <th></th>\n",
       "      <th>Validation_Set</th>\n",
       "      <th>Topics</th>\n",
       "      <th>Alpha</th>\n",
       "      <th>Beta</th>\n",
       "      <th>Coherence</th>\n",
       "    </tr>\n",
       "  </thead>\n",
       "  <tbody>\n",
       "    <tr>\n",
       "      <th>0</th>\n",
       "      <td>75% Corpus</td>\n",
       "      <td>2</td>\n",
       "      <td>0.01</td>\n",
       "      <td>0.01</td>\n",
       "      <td>0.416414</td>\n",
       "    </tr>\n",
       "    <tr>\n",
       "      <th>1</th>\n",
       "      <td>75% Corpus</td>\n",
       "      <td>2</td>\n",
       "      <td>0.01</td>\n",
       "      <td>0.31</td>\n",
       "      <td>0.418109</td>\n",
       "    </tr>\n",
       "    <tr>\n",
       "      <th>2</th>\n",
       "      <td>75% Corpus</td>\n",
       "      <td>2</td>\n",
       "      <td>0.01</td>\n",
       "      <td>0.61</td>\n",
       "      <td>0.400999</td>\n",
       "    </tr>\n",
       "    <tr>\n",
       "      <th>3</th>\n",
       "      <td>75% Corpus</td>\n",
       "      <td>2</td>\n",
       "      <td>0.01</td>\n",
       "      <td>0.9099999999999999</td>\n",
       "      <td>0.389448</td>\n",
       "    </tr>\n",
       "    <tr>\n",
       "      <th>4</th>\n",
       "      <td>75% Corpus</td>\n",
       "      <td>2</td>\n",
       "      <td>0.01</td>\n",
       "      <td>symmetric</td>\n",
       "      <td>0.426682</td>\n",
       "    </tr>\n",
       "    <tr>\n",
       "      <th>...</th>\n",
       "      <td>...</td>\n",
       "      <td>...</td>\n",
       "      <td>...</td>\n",
       "      <td>...</td>\n",
       "      <td>...</td>\n",
       "    </tr>\n",
       "    <tr>\n",
       "      <th>535</th>\n",
       "      <td>100% Corpus</td>\n",
       "      <td>10</td>\n",
       "      <td>asymmetric</td>\n",
       "      <td>0.01</td>\n",
       "      <td>0.385753</td>\n",
       "    </tr>\n",
       "    <tr>\n",
       "      <th>536</th>\n",
       "      <td>100% Corpus</td>\n",
       "      <td>10</td>\n",
       "      <td>asymmetric</td>\n",
       "      <td>0.31</td>\n",
       "      <td>0.441770</td>\n",
       "    </tr>\n",
       "    <tr>\n",
       "      <th>537</th>\n",
       "      <td>100% Corpus</td>\n",
       "      <td>10</td>\n",
       "      <td>asymmetric</td>\n",
       "      <td>0.61</td>\n",
       "      <td>0.528240</td>\n",
       "    </tr>\n",
       "    <tr>\n",
       "      <th>538</th>\n",
       "      <td>100% Corpus</td>\n",
       "      <td>10</td>\n",
       "      <td>asymmetric</td>\n",
       "      <td>0.9099999999999999</td>\n",
       "      <td>0.616877</td>\n",
       "    </tr>\n",
       "    <tr>\n",
       "      <th>539</th>\n",
       "      <td>100% Corpus</td>\n",
       "      <td>10</td>\n",
       "      <td>asymmetric</td>\n",
       "      <td>symmetric</td>\n",
       "      <td>0.386548</td>\n",
       "    </tr>\n",
       "  </tbody>\n",
       "</table>\n",
       "<p>540 rows × 5 columns</p>\n",
       "</div>"
      ],
      "text/plain": [
       "    Validation_Set  Topics       Alpha                Beta  Coherence\n",
       "0       75% Corpus       2        0.01                0.01   0.416414\n",
       "1       75% Corpus       2        0.01                0.31   0.418109\n",
       "2       75% Corpus       2        0.01                0.61   0.400999\n",
       "3       75% Corpus       2        0.01  0.9099999999999999   0.389448\n",
       "4       75% Corpus       2        0.01           symmetric   0.426682\n",
       "..             ...     ...         ...                 ...        ...\n",
       "535    100% Corpus      10  asymmetric                0.01   0.385753\n",
       "536    100% Corpus      10  asymmetric                0.31   0.441770\n",
       "537    100% Corpus      10  asymmetric                0.61   0.528240\n",
       "538    100% Corpus      10  asymmetric  0.9099999999999999   0.616877\n",
       "539    100% Corpus      10  asymmetric           symmetric   0.386548\n",
       "\n",
       "[540 rows x 5 columns]"
      ]
     },
     "execution_count": 101,
     "metadata": {},
     "output_type": "execute_result"
    }
   ],
   "source": [
    "eval_df = pd.read_csv(\"lda_tuning_results.csv\")\n",
    "eval_df"
   ]
  },
  {
   "cell_type": "code",
   "execution_count": 102,
   "id": "459b3069",
   "metadata": {},
   "outputs": [
    {
     "name": "stderr",
     "output_type": "stream",
     "text": [
      "/usr/local/anaconda3/lib/python3.8/site-packages/ipykernel/ipkernel.py:287: DeprecationWarning: `should_run_async` will not call `transform_cell` automatically in the future. Please pass the result to `transformed_cell` argument and any exception that happen during thetransform in `preprocessing_exc_tuple` in IPython 7.17 and above.\n",
      "  and should_run_async(code)\n"
     ]
    },
    {
     "data": {
      "text/plain": [
       "<AxesSubplot:xlabel='Topics', ylabel='Coherence'>"
      ]
     },
     "execution_count": 102,
     "metadata": {},
     "output_type": "execute_result"
    },
    {
     "data": {
      "image/png": "[encoded data removed]",
      "text/plain": [
       "<Figure size 432x288 with 1 Axes>"
      ]
     },
     "metadata": {
      "needs_background": "light"
     },
     "output_type": "display_data"
    }
   ],
   "source": [
    "import seaborn as sns\n",
    "sns.lineplot(data= eval_df,x=\"Topics\",y='Coherence')"
   ]
  },
  {
   "cell_type": "code",
   "execution_count": 103,
   "id": "3b34a553",
   "metadata": {},
   "outputs": [
    {
     "name": "stderr",
     "output_type": "stream",
     "text": [
      "/usr/local/anaconda3/lib/python3.8/site-packages/ipykernel/ipkernel.py:287: DeprecationWarning: `should_run_async` will not call `transform_cell` automatically in the future. Please pass the result to `transformed_cell` argument and any exception that happen during thetransform in `preprocessing_exc_tuple` in IPython 7.17 and above.\n",
      "  and should_run_async(code)\n"
     ]
    },
    {
     "data": {
      "text/plain": [
       "Alpha\n",
       "0.01                  0.416411\n",
       "0.31                  0.364649\n",
       "0.61                  0.350394\n",
       "0.9099999999999999    0.339355\n",
       "asymmetric            0.641447\n",
       "symmetric             0.399666\n",
       "Name: Coherence, dtype: float64"
      ]
     },
     "execution_count": 103,
     "metadata": {},
     "output_type": "execute_result"
    }
   ],
   "source": [
    "eval_df[eval_df.Topics == 8].groupby(by='Alpha').Coherence.max()"
   ]
  },
  {
   "cell_type": "markdown",
   "id": "7f6107cf",
   "metadata": {},
   "source": [
    "## These were the results as run on the TITLES, not on the stories themselves"
   ]
  },
  {
   "cell_type": "code",
   "execution_count": null,
   "id": "8fedcb66",
   "metadata": {},
   "outputs": [],
   "source": []
  }
 ],
 "metadata": {
  "kernelspec": {
   "display_name": "Python 3",
   "language": "python",
   "name": "python3"
  },
  "language_info": {
   "codemirror_mode": {
    "name": "ipython",
    "version": 3
   },
   "file_extension": ".py",
   "mimetype": "text/x-python",
   "name": "python",
   "nbconvert_exporter": "python",
   "pygments_lexer": "ipython3",
   "version": "3.8.8"
  }
 },
 "nbformat": 4,
 "nbformat_minor": 5
}
