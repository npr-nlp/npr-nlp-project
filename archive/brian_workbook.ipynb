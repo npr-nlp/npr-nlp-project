{
 "cells": [
  {
   "cell_type": "code",
   "execution_count": 2,
   "id": "3a62d01d",
   "metadata": {},
   "outputs": [],
   "source": [
    "import pandas as pd\n",
    "import numpy as np\n",
    "import acquire"
   ]
  },
  {
   "cell_type": "code",
   "execution_count": 4,
   "id": "a9236823",
   "metadata": {},
   "outputs": [],
   "source": [
    "df = acquire.get_df()"
   ]
  },
  {
   "cell_type": "code",
   "execution_count": 5,
   "id": "07693668",
   "metadata": {},
   "outputs": [
    {
     "data": {
      "text/html": [
       "<div>\n",
       "<style scoped>\n",
       "    .dataframe tbody tr th:only-of-type {\n",
       "        vertical-align: middle;\n",
       "    }\n",
       "\n",
       "    .dataframe tbody tr th {\n",
       "        vertical-align: top;\n",
       "    }\n",
       "\n",
       "    .dataframe thead th {\n",
       "        text-align: right;\n",
       "    }\n",
       "</style>\n",
       "<table border=\"1\" class=\"dataframe\">\n",
       "  <thead>\n",
       "    <tr style=\"text-align: right;\">\n",
       "      <th></th>\n",
       "      <th>episode_id</th>\n",
       "      <th>episode_order</th>\n",
       "      <th>speaker</th>\n",
       "      <th>utterance</th>\n",
       "      <th>program</th>\n",
       "      <th>title</th>\n",
       "      <th>episode_date</th>\n",
       "      <th>is_host</th>\n",
       "    </tr>\n",
       "  </thead>\n",
       "  <tbody>\n",
       "    <tr>\n",
       "      <th>0</th>\n",
       "      <td>57264</td>\n",
       "      <td>9</td>\n",
       "      <td>Ms. LOREN MOONEY (Editor-in-Chief, Bicycling M...</td>\n",
       "      <td>It's a 2,200-mile race. To give some sense of ...</td>\n",
       "      <td>Talk of the Nation</td>\n",
       "      <td>How To Watch The Tour De France</td>\n",
       "      <td>2010-07-12</td>\n",
       "      <td>False</td>\n",
       "    </tr>\n",
       "    <tr>\n",
       "      <th>1</th>\n",
       "      <td>57264</td>\n",
       "      <td>10</td>\n",
       "      <td>Ms. LOREN MOONEY (Editor-in-Chief, Bicycling M...</td>\n",
       "      <td>So for a top competitor like Lance to try to m...</td>\n",
       "      <td>Talk of the Nation</td>\n",
       "      <td>How To Watch The Tour De France</td>\n",
       "      <td>2010-07-12</td>\n",
       "      <td>False</td>\n",
       "    </tr>\n",
       "    <tr>\n",
       "      <th>2</th>\n",
       "      <td>57264</td>\n",
       "      <td>11</td>\n",
       "      <td>NEAL CONAN, host</td>\n",
       "      <td>So in every team, presumably there's one star,...</td>\n",
       "      <td>Talk of the Nation</td>\n",
       "      <td>How To Watch The Tour De France</td>\n",
       "      <td>2010-07-12</td>\n",
       "      <td>True</td>\n",
       "    </tr>\n",
       "    <tr>\n",
       "      <th>3</th>\n",
       "      <td>57264</td>\n",
       "      <td>12</td>\n",
       "      <td>Ms. LOREN MOONEY (Editor-in-Chief, Bicycling M...</td>\n",
       "      <td>That's right. Each team has nine riders. And w...</td>\n",
       "      <td>Talk of the Nation</td>\n",
       "      <td>How To Watch The Tour De France</td>\n",
       "      <td>2010-07-12</td>\n",
       "      <td>False</td>\n",
       "    </tr>\n",
       "    <tr>\n",
       "      <th>4</th>\n",
       "      <td>57264</td>\n",
       "      <td>13</td>\n",
       "      <td>NEAL CONAN, host</td>\n",
       "      <td>So slipstream, this is like drafting in car ra...</td>\n",
       "      <td>Talk of the Nation</td>\n",
       "      <td>How To Watch The Tour De France</td>\n",
       "      <td>2010-07-12</td>\n",
       "      <td>True</td>\n",
       "    </tr>\n",
       "  </tbody>\n",
       "</table>\n",
       "</div>"
      ],
      "text/plain": [
       "   episode_id  episode_order  \\\n",
       "0       57264              9   \n",
       "1       57264             10   \n",
       "2       57264             11   \n",
       "3       57264             12   \n",
       "4       57264             13   \n",
       "\n",
       "                                             speaker  \\\n",
       "0  Ms. LOREN MOONEY (Editor-in-Chief, Bicycling M...   \n",
       "1  Ms. LOREN MOONEY (Editor-in-Chief, Bicycling M...   \n",
       "2                                   NEAL CONAN, host   \n",
       "3  Ms. LOREN MOONEY (Editor-in-Chief, Bicycling M...   \n",
       "4                                   NEAL CONAN, host   \n",
       "\n",
       "                                           utterance             program  \\\n",
       "0  It's a 2,200-mile race. To give some sense of ...  Talk of the Nation   \n",
       "1  So for a top competitor like Lance to try to m...  Talk of the Nation   \n",
       "2  So in every team, presumably there's one star,...  Talk of the Nation   \n",
       "3  That's right. Each team has nine riders. And w...  Talk of the Nation   \n",
       "4  So slipstream, this is like drafting in car ra...  Talk of the Nation   \n",
       "\n",
       "                             title episode_date  is_host  \n",
       "0  How To Watch The Tour De France   2010-07-12    False  \n",
       "1  How To Watch The Tour De France   2010-07-12    False  \n",
       "2  How To Watch The Tour De France   2010-07-12     True  \n",
       "3  How To Watch The Tour De France   2010-07-12    False  \n",
       "4  How To Watch The Tour De France   2010-07-12     True  "
      ]
     },
     "execution_count": 5,
     "metadata": {},
     "output_type": "execute_result"
    }
   ],
   "source": [
    "df.head()"
   ]
  },
  {
   "cell_type": "code",
   "execution_count": 6,
   "id": "6b08a003",
   "metadata": {},
   "outputs": [
    {
     "data": {
      "text/plain": [
       "(3199858, 8)"
      ]
     },
     "execution_count": 6,
     "metadata": {},
     "output_type": "execute_result"
    }
   ],
   "source": [
    "df.shape"
   ]
  },
  {
   "cell_type": "code",
   "execution_count": 7,
   "id": "e5cb71ef",
   "metadata": {},
   "outputs": [],
   "source": [
    "df= df.dropna()\n",
    "df= df.drop_duplicates()"
   ]
  },
  {
   "cell_type": "code",
   "execution_count": 8,
   "id": "044b72af",
   "metadata": {},
   "outputs": [
    {
     "data": {
      "text/plain": [
       "(3186483, 8)"
      ]
     },
     "execution_count": 8,
     "metadata": {},
     "output_type": "execute_result"
    }
   ],
   "source": [
    "df.shape"
   ]
  },
  {
   "cell_type": "code",
   "execution_count": 9,
   "id": "6db3bda4",
   "metadata": {},
   "outputs": [
    {
     "data": {
      "text/plain": [
       "('1999-01-08', '2019-10-12')"
      ]
     },
     "execution_count": 9,
     "metadata": {},
     "output_type": "execute_result"
    }
   ],
   "source": [
    "df.episode_date.min(), df.episode_date.max()"
   ]
  },
  {
   "cell_type": "code",
   "execution_count": 10,
   "id": "6f2ed33c",
   "metadata": {},
   "outputs": [
    {
     "data": {
      "text/plain": [
       "episode_id        int64\n",
       "episode_order     int64\n",
       "speaker          object\n",
       "utterance        object\n",
       "program          object\n",
       "title            object\n",
       "episode_date     object\n",
       "is_host            bool\n",
       "dtype: object"
      ]
     },
     "execution_count": 10,
     "metadata": {},
     "output_type": "execute_result"
    }
   ],
   "source": [
    "df.dtypes"
   ]
  },
  {
   "cell_type": "code",
   "execution_count": 11,
   "id": "b3e6f4de",
   "metadata": {},
   "outputs": [
    {
     "data": {
      "text/plain": [
       "All Things Considered       965976\n",
       "Talk of the Nation          943016\n",
       "Morning Edition             633786\n",
       "News & Notes                183690\n",
       "Day to Day                  173702\n",
       "Weekend Edition Sunday      166596\n",
       "Weekend Edition Saturday    119717\n",
       "Name: program, dtype: int64"
      ]
     },
     "execution_count": 11,
     "metadata": {},
     "output_type": "execute_result"
    }
   ],
   "source": [
    "df.program.value_counts()"
   ]
  },
  {
   "cell_type": "code",
   "execution_count": 12,
   "id": "f41097f3",
   "metadata": {},
   "outputs": [
    {
     "data": {
      "text/plain": [
       "NEAL CONAN, host                                                                204935\n",
       "_NO_SPEAKER                                                                     183707\n",
       "IRA FLATOW, host                                                                 58172\n",
       "NEAL CONAN, HOST                                                                 43469\n",
       "FARAI CHIDEYA, host                                                              36462\n",
       "                                                                                 ...  \n",
       "Mr. PETER VAN DER LUGT                                                               1\n",
       "JASON REEVES                                                                         1\n",
       "NEALE ZINGLE                                                                         1\n",
       "And so, the health care debate is certainly about it because people will say         1\n",
       "GABRIEL HERNANDEZ                                                                    1\n",
       "Name: speaker, Length: 184963, dtype: int64"
      ]
     },
     "execution_count": 12,
     "metadata": {},
     "output_type": "execute_result"
    }
   ],
   "source": [
    "df.speaker.value_counts()"
   ]
  },
  {
   "cell_type": "code",
   "execution_count": 13,
   "id": "0ef83faf",
   "metadata": {},
   "outputs": [
    {
     "data": {
      "text/html": [
       "<div>\n",
       "<style scoped>\n",
       "    .dataframe tbody tr th:only-of-type {\n",
       "        vertical-align: middle;\n",
       "    }\n",
       "\n",
       "    .dataframe tbody tr th {\n",
       "        vertical-align: top;\n",
       "    }\n",
       "\n",
       "    .dataframe thead th {\n",
       "        text-align: right;\n",
       "    }\n",
       "</style>\n",
       "<table border=\"1\" class=\"dataframe\">\n",
       "  <thead>\n",
       "    <tr style=\"text-align: right;\">\n",
       "      <th></th>\n",
       "      <th>episode_id</th>\n",
       "      <th>episode_order</th>\n",
       "      <th>speaker</th>\n",
       "      <th>utterance</th>\n",
       "      <th>program</th>\n",
       "      <th>title</th>\n",
       "      <th>episode_date</th>\n",
       "      <th>is_host</th>\n",
       "    </tr>\n",
       "  </thead>\n",
       "  <tbody>\n",
       "    <tr>\n",
       "      <th>142</th>\n",
       "      <td>58225</td>\n",
       "      <td>63</td>\n",
       "      <td>_NO_SPEAKER</td>\n",
       "      <td>(Soundbite of music)</td>\n",
       "      <td>Talk of the Nation</td>\n",
       "      <td>SCOTUS Rules On 'Dangerous' Inmates, Juveniles</td>\n",
       "      <td>2010-05-17</td>\n",
       "      <td>False</td>\n",
       "    </tr>\n",
       "    <tr>\n",
       "      <th>253</th>\n",
       "      <td>75004</td>\n",
       "      <td>7</td>\n",
       "      <td>_NO_SPEAKER</td>\n",
       "      <td>(Soundbite of hurricane forecaster Jose Rubier...</td>\n",
       "      <td>Weekend Edition Sunday</td>\n",
       "      <td>After The Hurricanes: Damage Check</td>\n",
       "      <td>2008-11-30</td>\n",
       "      <td>False</td>\n",
       "    </tr>\n",
       "    <tr>\n",
       "      <th>281</th>\n",
       "      <td>63416</td>\n",
       "      <td>25</td>\n",
       "      <td>_NO_SPEAKER</td>\n",
       "      <td>(Soundbite of music)</td>\n",
       "      <td>Day to Day</td>\n",
       "      <td>Spotting Irate Customers with 'Emotion Detection'</td>\n",
       "      <td>2006-11-07</td>\n",
       "      <td>False</td>\n",
       "    </tr>\n",
       "    <tr>\n",
       "      <th>323</th>\n",
       "      <td>68175</td>\n",
       "      <td>23</td>\n",
       "      <td>_NO_SPEAKER</td>\n",
       "      <td>(Soundbite of laughter)</td>\n",
       "      <td>Talk of the Nation</td>\n",
       "      <td>Chile Peppers: The Science Behind The Spice</td>\n",
       "      <td>2008-09-19</td>\n",
       "      <td>False</td>\n",
       "    </tr>\n",
       "    <tr>\n",
       "      <th>349</th>\n",
       "      <td>68175</td>\n",
       "      <td>47</td>\n",
       "      <td>_NO_SPEAKER</td>\n",
       "      <td>(Soundbite of laughter)</td>\n",
       "      <td>Talk of the Nation</td>\n",
       "      <td>Chile Peppers: The Science Behind The Spice</td>\n",
       "      <td>2008-09-19</td>\n",
       "      <td>False</td>\n",
       "    </tr>\n",
       "    <tr>\n",
       "      <th>...</th>\n",
       "      <td>...</td>\n",
       "      <td>...</td>\n",
       "      <td>...</td>\n",
       "      <td>...</td>\n",
       "      <td>...</td>\n",
       "      <td>...</td>\n",
       "      <td>...</td>\n",
       "      <td>...</td>\n",
       "    </tr>\n",
       "    <tr>\n",
       "      <th>3199822</th>\n",
       "      <td>56436</td>\n",
       "      <td>16</td>\n",
       "      <td>_NO_SPEAKER</td>\n",
       "      <td>(SOUNDBITE OF THE FUNK ARK'S \"HORCHATA\")</td>\n",
       "      <td>All Things Considered</td>\n",
       "      <td>Known For Its Coverage Of Scandals, The 'Natio...</td>\n",
       "      <td>2018-08-29</td>\n",
       "      <td>False</td>\n",
       "    </tr>\n",
       "    <tr>\n",
       "      <th>3199839</th>\n",
       "      <td>69759</td>\n",
       "      <td>17</td>\n",
       "      <td>_NO_SPEAKER</td>\n",
       "      <td>(LAUGHTER)</td>\n",
       "      <td>All Things Considered</td>\n",
       "      <td>Should You Warm Up Your Car Before Driving To ...</td>\n",
       "      <td>2017-12-29</td>\n",
       "      <td>False</td>\n",
       "    </tr>\n",
       "    <tr>\n",
       "      <th>3199849</th>\n",
       "      <td>69759</td>\n",
       "      <td>27</td>\n",
       "      <td>_NO_SPEAKER</td>\n",
       "      <td>(LAUGHTER)</td>\n",
       "      <td>All Things Considered</td>\n",
       "      <td>Should You Warm Up Your Car Before Driving To ...</td>\n",
       "      <td>2017-12-29</td>\n",
       "      <td>False</td>\n",
       "    </tr>\n",
       "    <tr>\n",
       "      <th>3199854</th>\n",
       "      <td>69759</td>\n",
       "      <td>32</td>\n",
       "      <td>_NO_SPEAKER</td>\n",
       "      <td>(LAUGHTER)</td>\n",
       "      <td>All Things Considered</td>\n",
       "      <td>Should You Warm Up Your Car Before Driving To ...</td>\n",
       "      <td>2017-12-29</td>\n",
       "      <td>False</td>\n",
       "    </tr>\n",
       "    <tr>\n",
       "      <th>3199857</th>\n",
       "      <td>69759</td>\n",
       "      <td>35</td>\n",
       "      <td>_NO_SPEAKER</td>\n",
       "      <td>(SOUNDBITE OF CHICORY TIP SONG, \"SON OF MY FAT...</td>\n",
       "      <td>All Things Considered</td>\n",
       "      <td>Should You Warm Up Your Car Before Driving To ...</td>\n",
       "      <td>2017-12-29</td>\n",
       "      <td>False</td>\n",
       "    </tr>\n",
       "  </tbody>\n",
       "</table>\n",
       "<p>183707 rows × 8 columns</p>\n",
       "</div>"
      ],
      "text/plain": [
       "         episode_id  episode_order      speaker  \\\n",
       "142           58225             63  _NO_SPEAKER   \n",
       "253           75004              7  _NO_SPEAKER   \n",
       "281           63416             25  _NO_SPEAKER   \n",
       "323           68175             23  _NO_SPEAKER   \n",
       "349           68175             47  _NO_SPEAKER   \n",
       "...             ...            ...          ...   \n",
       "3199822       56436             16  _NO_SPEAKER   \n",
       "3199839       69759             17  _NO_SPEAKER   \n",
       "3199849       69759             27  _NO_SPEAKER   \n",
       "3199854       69759             32  _NO_SPEAKER   \n",
       "3199857       69759             35  _NO_SPEAKER   \n",
       "\n",
       "                                                 utterance  \\\n",
       "142                                   (Soundbite of music)   \n",
       "253      (Soundbite of hurricane forecaster Jose Rubier...   \n",
       "281                                   (Soundbite of music)   \n",
       "323                                (Soundbite of laughter)   \n",
       "349                                (Soundbite of laughter)   \n",
       "...                                                    ...   \n",
       "3199822           (SOUNDBITE OF THE FUNK ARK'S \"HORCHATA\")   \n",
       "3199839                                         (LAUGHTER)   \n",
       "3199849                                         (LAUGHTER)   \n",
       "3199854                                         (LAUGHTER)   \n",
       "3199857  (SOUNDBITE OF CHICORY TIP SONG, \"SON OF MY FAT...   \n",
       "\n",
       "                        program  \\\n",
       "142          Talk of the Nation   \n",
       "253      Weekend Edition Sunday   \n",
       "281                  Day to Day   \n",
       "323          Talk of the Nation   \n",
       "349          Talk of the Nation   \n",
       "...                         ...   \n",
       "3199822   All Things Considered   \n",
       "3199839   All Things Considered   \n",
       "3199849   All Things Considered   \n",
       "3199854   All Things Considered   \n",
       "3199857   All Things Considered   \n",
       "\n",
       "                                                     title episode_date  \\\n",
       "142         SCOTUS Rules On 'Dangerous' Inmates, Juveniles   2010-05-17   \n",
       "253                     After The Hurricanes: Damage Check   2008-11-30   \n",
       "281      Spotting Irate Customers with 'Emotion Detection'   2006-11-07   \n",
       "323            Chile Peppers: The Science Behind The Spice   2008-09-19   \n",
       "349            Chile Peppers: The Science Behind The Spice   2008-09-19   \n",
       "...                                                    ...          ...   \n",
       "3199822  Known For Its Coverage Of Scandals, The 'Natio...   2018-08-29   \n",
       "3199839  Should You Warm Up Your Car Before Driving To ...   2017-12-29   \n",
       "3199849  Should You Warm Up Your Car Before Driving To ...   2017-12-29   \n",
       "3199854  Should You Warm Up Your Car Before Driving To ...   2017-12-29   \n",
       "3199857  Should You Warm Up Your Car Before Driving To ...   2017-12-29   \n",
       "\n",
       "         is_host  \n",
       "142        False  \n",
       "253        False  \n",
       "281        False  \n",
       "323        False  \n",
       "349        False  \n",
       "...          ...  \n",
       "3199822    False  \n",
       "3199839    False  \n",
       "3199849    False  \n",
       "3199854    False  \n",
       "3199857    False  \n",
       "\n",
       "[183707 rows x 8 columns]"
      ]
     },
     "execution_count": 13,
     "metadata": {},
     "output_type": "execute_result"
    }
   ],
   "source": [
    "df[df.speaker=='_NO_SPEAKER']"
   ]
  },
  {
   "cell_type": "code",
   "execution_count": null,
   "id": "cdb8af98",
   "metadata": {},
   "outputs": [],
   "source": []
  }
 ],
 "metadata": {
  "kernelspec": {
   "display_name": "Python 3",
   "language": "python",
   "name": "python3"
  },
  "language_info": {
   "codemirror_mode": {
    "name": "ipython",
    "version": 3
   },
   "file_extension": ".py",
   "mimetype": "text/x-python",
   "name": "python",
   "nbconvert_exporter": "python",
   "pygments_lexer": "ipython3",
   "version": "3.8.8"
  }
 },
 "nbformat": 4,
 "nbformat_minor": 5
}
