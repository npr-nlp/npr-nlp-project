{
 "cells": [
  {
   "cell_type": "code",
   "execution_count": 1,
   "id": "3a62d01d",
   "metadata": {},
   "outputs": [],
   "source": [
    "import pandas as pd\n",
    "import numpy as np\n",
    "import acquire\n",
    "import matplotlib.pyplot as plt\n",
    "import nltk\n",
    "import unicodedata\n",
    "import re\n",
    "import env\n",
    "import acquire\n",
    "# import prepare\n",
    "from wordcloud import WordCloud\n",
    "import nltk.sentiment\n",
    "pd.set_option('display.max_colwidth', -1)\n",
    "from time import strftime\n",
    "sia = nltk.sentiment.SentimentIntensityAnalyzer()"
   ]
  },
  {
   "cell_type": "code",
   "execution_count": 2,
   "id": "a9236823",
   "metadata": {},
   "outputs": [],
   "source": [
    "df = acquire.get_df()"
   ]
  },
  {
   "cell_type": "code",
   "execution_count": 3,
   "id": "07693668",
   "metadata": {},
   "outputs": [
    {
     "data": {
      "text/html": [
       "<div>\n",
       "<style scoped>\n",
       "    .dataframe tbody tr th:only-of-type {\n",
       "        vertical-align: middle;\n",
       "    }\n",
       "\n",
       "    .dataframe tbody tr th {\n",
       "        vertical-align: top;\n",
       "    }\n",
       "\n",
       "    .dataframe thead th {\n",
       "        text-align: right;\n",
       "    }\n",
       "</style>\n",
       "<table border=\"1\" class=\"dataframe\">\n",
       "  <thead>\n",
       "    <tr style=\"text-align: right;\">\n",
       "      <th></th>\n",
       "      <th>episode_id</th>\n",
       "      <th>episode_order</th>\n",
       "      <th>speaker</th>\n",
       "      <th>utterance</th>\n",
       "      <th>program</th>\n",
       "      <th>title</th>\n",
       "      <th>episode_date</th>\n",
       "      <th>is_host</th>\n",
       "    </tr>\n",
       "  </thead>\n",
       "  <tbody>\n",
       "    <tr>\n",
       "      <th>0</th>\n",
       "      <td>57264</td>\n",
       "      <td>9</td>\n",
       "      <td>Ms. LOREN MOONEY (Editor-in-Chief, Bicycling Magazine)</td>\n",
       "      <td>It's a 2,200-mile race. To give some sense of perspective, that's roughly the distance between Washington, D.C. and Las Vegas. They do it over the course of three weeks at very fast speeds. But incredibly, oftentimes the distance between first and second is somewhere between and one and three minutes.</td>\n",
       "      <td>Talk of the Nation</td>\n",
       "      <td>How To Watch The Tour De France</td>\n",
       "      <td>2010-07-12</td>\n",
       "      <td>False</td>\n",
       "    </tr>\n",
       "    <tr>\n",
       "      <th>1</th>\n",
       "      <td>57264</td>\n",
       "      <td>10</td>\n",
       "      <td>Ms. LOREN MOONEY (Editor-in-Chief, Bicycling Magazine)</td>\n",
       "      <td>So for a top competitor like Lance to try to make up that much time -he's now 13 minutes, 26 seconds behind the current race leader, Cadel Evans of Australia. And even Lance said yesterday that for him, the -any chance of winning the tour has gone out the window. He still does have a teammate on his team, RadioShack team, American Levi Leipheimer currently in eighth place, two minutes, 14 seconds back. And Lance is going to do what he can to help Leipheimer do well.</td>\n",
       "      <td>Talk of the Nation</td>\n",
       "      <td>How To Watch The Tour De France</td>\n",
       "      <td>2010-07-12</td>\n",
       "      <td>False</td>\n",
       "    </tr>\n",
       "    <tr>\n",
       "      <th>2</th>\n",
       "      <td>57264</td>\n",
       "      <td>11</td>\n",
       "      <td>NEAL CONAN, host</td>\n",
       "      <td>So in every team, presumably there's one star, one equivalent to Lance Armstrong and the other team - the rest of the teammates project him, do what they can to help him succeed?</td>\n",
       "      <td>Talk of the Nation</td>\n",
       "      <td>How To Watch The Tour De France</td>\n",
       "      <td>2010-07-12</td>\n",
       "      <td>True</td>\n",
       "    </tr>\n",
       "    <tr>\n",
       "      <th>3</th>\n",
       "      <td>57264</td>\n",
       "      <td>12</td>\n",
       "      <td>Ms. LOREN MOONEY (Editor-in-Chief, Bicycling Magazine)</td>\n",
       "      <td>That's right. Each team has nine riders. And what you have is basically the team leader, sort of your queen bee, and then eight worker bees working to keep that queen safe and happy for when the decisive moments of the race come. In cycling, a lot of the energy goes toward actually battling wind resistance. So if you're riding behind another rider, you can be using up to 30 percent less energy because you're in that slipstream of the rider who's battling the wind. So team riders will ride on the front, protect their leader. You'll often see a team member drift back to the team car to fetch water bottles to keep their leader well hydrated.</td>\n",
       "      <td>Talk of the Nation</td>\n",
       "      <td>How To Watch The Tour De France</td>\n",
       "      <td>2010-07-12</td>\n",
       "      <td>False</td>\n",
       "    </tr>\n",
       "    <tr>\n",
       "      <th>4</th>\n",
       "      <td>57264</td>\n",
       "      <td>13</td>\n",
       "      <td>NEAL CONAN, host</td>\n",
       "      <td>So slipstream, this is like drafting in car racing, right?</td>\n",
       "      <td>Talk of the Nation</td>\n",
       "      <td>How To Watch The Tour De France</td>\n",
       "      <td>2010-07-12</td>\n",
       "      <td>True</td>\n",
       "    </tr>\n",
       "  </tbody>\n",
       "</table>\n",
       "</div>"
      ],
      "text/plain": [
       "   episode_id  episode_order  \\\n",
       "0  57264       9               \n",
       "1  57264       10              \n",
       "2  57264       11              \n",
       "3  57264       12              \n",
       "4  57264       13              \n",
       "\n",
       "                                                  speaker  \\\n",
       "0  Ms. LOREN MOONEY (Editor-in-Chief, Bicycling Magazine)   \n",
       "1  Ms. LOREN MOONEY (Editor-in-Chief, Bicycling Magazine)   \n",
       "2  NEAL CONAN, host                                         \n",
       "3  Ms. LOREN MOONEY (Editor-in-Chief, Bicycling Magazine)   \n",
       "4  NEAL CONAN, host                                         \n",
       "\n",
       "                                                                                                                                                                                                                                                                                                                                                                                                                                                                                                                                                                                                                                                                utterance  \\\n",
       "0  It's a 2,200-mile race. To give some sense of perspective, that's roughly the distance between Washington, D.C. and Las Vegas. They do it over the course of three weeks at very fast speeds. But incredibly, oftentimes the distance between first and second is somewhere between and one and three minutes.                                                                                                                                                                                                                                                                                                                                                           \n",
       "1  So for a top competitor like Lance to try to make up that much time -he's now 13 minutes, 26 seconds behind the current race leader, Cadel Evans of Australia. And even Lance said yesterday that for him, the -any chance of winning the tour has gone out the window. He still does have a teammate on his team, RadioShack team, American Levi Leipheimer currently in eighth place, two minutes, 14 seconds back. And Lance is going to do what he can to help Leipheimer do well.                                                                                                                                                                                   \n",
       "2  So in every team, presumably there's one star, one equivalent to Lance Armstrong and the other team - the rest of the teammates project him, do what they can to help him succeed?                                                                                                                                                                                                                                                                                                                                                                                                                                                                                       \n",
       "3  That's right. Each team has nine riders. And what you have is basically the team leader, sort of your queen bee, and then eight worker bees working to keep that queen safe and happy for when the decisive moments of the race come. In cycling, a lot of the energy goes toward actually battling wind resistance. So if you're riding behind another rider, you can be using up to 30 percent less energy because you're in that slipstream of the rider who's battling the wind. So team riders will ride on the front, protect their leader. You'll often see a team member drift back to the team car to fetch water bottles to keep their leader well hydrated.   \n",
       "4  So slipstream, this is like drafting in car racing, right?                                                                                                                                                                                                                                                                                                                                                                                                                                                                                                                                                                                                               \n",
       "\n",
       "              program                            title episode_date  is_host  \n",
       "0  Talk of the Nation  How To Watch The Tour De France  2010-07-12   False    \n",
       "1  Talk of the Nation  How To Watch The Tour De France  2010-07-12   False    \n",
       "2  Talk of the Nation  How To Watch The Tour De France  2010-07-12   True     \n",
       "3  Talk of the Nation  How To Watch The Tour De France  2010-07-12   False    \n",
       "4  Talk of the Nation  How To Watch The Tour De France  2010-07-12   True     "
      ]
     },
     "execution_count": 3,
     "metadata": {},
     "output_type": "execute_result"
    }
   ],
   "source": [
    "df.head()"
   ]
  },
  {
   "cell_type": "code",
   "execution_count": 4,
   "id": "6b08a003",
   "metadata": {},
   "outputs": [
    {
     "data": {
      "text/plain": [
       "(3199858, 8)"
      ]
     },
     "execution_count": 4,
     "metadata": {},
     "output_type": "execute_result"
    }
   ],
   "source": [
    "df.shape"
   ]
  },
  {
   "cell_type": "code",
   "execution_count": 5,
   "id": "e5cb71ef",
   "metadata": {},
   "outputs": [],
   "source": [
    "df= df.dropna()\n",
    "df= df.drop_duplicates()"
   ]
  },
  {
   "cell_type": "code",
   "execution_count": 6,
   "id": "044b72af",
   "metadata": {},
   "outputs": [
    {
     "data": {
      "text/plain": [
       "(3186483, 8)"
      ]
     },
     "execution_count": 6,
     "metadata": {},
     "output_type": "execute_result"
    }
   ],
   "source": [
    "df.shape"
   ]
  },
  {
   "cell_type": "code",
   "execution_count": 7,
   "id": "6db3bda4",
   "metadata": {},
   "outputs": [
    {
     "data": {
      "text/plain": [
       "('1999-01-08', '2019-10-12')"
      ]
     },
     "execution_count": 7,
     "metadata": {},
     "output_type": "execute_result"
    }
   ],
   "source": [
    "df.episode_date.min(), df.episode_date.max()"
   ]
  },
  {
   "cell_type": "code",
   "execution_count": 8,
   "id": "6f2ed33c",
   "metadata": {},
   "outputs": [
    {
     "data": {
      "text/plain": [
       "episode_id       int64 \n",
       "episode_order    int64 \n",
       "speaker          object\n",
       "utterance        object\n",
       "program          object\n",
       "title            object\n",
       "episode_date     object\n",
       "is_host          bool  \n",
       "dtype: object"
      ]
     },
     "execution_count": 8,
     "metadata": {},
     "output_type": "execute_result"
    }
   ],
   "source": [
    "df.dtypes"
   ]
  },
  {
   "cell_type": "code",
   "execution_count": 9,
   "id": "b3e6f4de",
   "metadata": {},
   "outputs": [
    {
     "data": {
      "text/plain": [
       "All Things Considered       965976\n",
       "Talk of the Nation          943016\n",
       "Morning Edition             633786\n",
       "News & Notes                183690\n",
       "Day to Day                  173702\n",
       "Weekend Edition Sunday      166596\n",
       "Weekend Edition Saturday    119717\n",
       "Name: program, dtype: int64"
      ]
     },
     "execution_count": 9,
     "metadata": {},
     "output_type": "execute_result"
    }
   ],
   "source": [
    "df.program.value_counts()"
   ]
  },
  {
   "cell_type": "code",
   "execution_count": 10,
   "id": "f41097f3",
   "metadata": {},
   "outputs": [
    {
     "data": {
      "text/plain": [
       "NEAL CONAN, host                                                                                                                                            204935\n",
       "_NO_SPEAKER                                                                                                                                                 183707\n",
       "IRA FLATOW, host                                                                                                                                            58172 \n",
       "NEAL CONAN, HOST                                                                                                                                            43469 \n",
       "FARAI CHIDEYA, host                                                                                                                                         36462 \n",
       "                                                                                                                                                            ...   \n",
       "President Obama has announced a series of steps he wants the government to take to speed recovery in the market that matters the most to the most people    1     \n",
       "Ms. KIANA PAIN (Student)                                                                                                                                    1     \n",
       "Prof. MATTHEW BURBANK (University of Utah)                                                                                                                  1     \n",
       "Mr. MARK MECKLER (Co-Founder, Tea Party Patriots)                                                                                                           1     \n",
       "Ms. VIRGINIA GARY (Church Member)                                                                                                                           1     \n",
       "Name: speaker, Length: 184963, dtype: int64"
      ]
     },
     "execution_count": 10,
     "metadata": {},
     "output_type": "execute_result"
    }
   ],
   "source": [
    "df.speaker.value_counts()"
   ]
  },
  {
   "cell_type": "code",
   "execution_count": 11,
   "id": "0ef83faf",
   "metadata": {},
   "outputs": [],
   "source": [
    "df = df[df.speaker!='_NO_SPEAKER']"
   ]
  },
  {
   "cell_type": "code",
   "execution_count": 12,
   "id": "cdb8af98",
   "metadata": {},
   "outputs": [
    {
     "data": {
      "text/html": [
       "<div>\n",
       "<style scoped>\n",
       "    .dataframe tbody tr th:only-of-type {\n",
       "        vertical-align: middle;\n",
       "    }\n",
       "\n",
       "    .dataframe tbody tr th {\n",
       "        vertical-align: top;\n",
       "    }\n",
       "\n",
       "    .dataframe thead th {\n",
       "        text-align: right;\n",
       "    }\n",
       "</style>\n",
       "<table border=\"1\" class=\"dataframe\">\n",
       "  <thead>\n",
       "    <tr style=\"text-align: right;\">\n",
       "      <th></th>\n",
       "      <th>episode_id</th>\n",
       "      <th>episode_order</th>\n",
       "      <th>speaker</th>\n",
       "      <th>utterance</th>\n",
       "      <th>program</th>\n",
       "      <th>title</th>\n",
       "      <th>episode_date</th>\n",
       "      <th>is_host</th>\n",
       "    </tr>\n",
       "  </thead>\n",
       "  <tbody>\n",
       "    <tr>\n",
       "      <th>0</th>\n",
       "      <td>57264</td>\n",
       "      <td>9</td>\n",
       "      <td>Ms. LOREN MOONEY (Editor-in-Chief, Bicycling Magazine)</td>\n",
       "      <td>It's a 2,200-mile race. To give some sense of perspective, that's roughly the distance between Washington, D.C. and Las Vegas. They do it over the course of three weeks at very fast speeds. But incredibly, oftentimes the distance between first and second is somewhere between and one and three minutes.</td>\n",
       "      <td>Talk of the Nation</td>\n",
       "      <td>How To Watch The Tour De France</td>\n",
       "      <td>2010-07-12</td>\n",
       "      <td>False</td>\n",
       "    </tr>\n",
       "    <tr>\n",
       "      <th>1</th>\n",
       "      <td>57264</td>\n",
       "      <td>10</td>\n",
       "      <td>Ms. LOREN MOONEY (Editor-in-Chief, Bicycling Magazine)</td>\n",
       "      <td>So for a top competitor like Lance to try to make up that much time -he's now 13 minutes, 26 seconds behind the current race leader, Cadel Evans of Australia. And even Lance said yesterday that for him, the -any chance of winning the tour has gone out the window. He still does have a teammate on his team, RadioShack team, American Levi Leipheimer currently in eighth place, two minutes, 14 seconds back. And Lance is going to do what he can to help Leipheimer do well.</td>\n",
       "      <td>Talk of the Nation</td>\n",
       "      <td>How To Watch The Tour De France</td>\n",
       "      <td>2010-07-12</td>\n",
       "      <td>False</td>\n",
       "    </tr>\n",
       "    <tr>\n",
       "      <th>2</th>\n",
       "      <td>57264</td>\n",
       "      <td>11</td>\n",
       "      <td>NEAL CONAN, host</td>\n",
       "      <td>So in every team, presumably there's one star, one equivalent to Lance Armstrong and the other team - the rest of the teammates project him, do what they can to help him succeed?</td>\n",
       "      <td>Talk of the Nation</td>\n",
       "      <td>How To Watch The Tour De France</td>\n",
       "      <td>2010-07-12</td>\n",
       "      <td>True</td>\n",
       "    </tr>\n",
       "    <tr>\n",
       "      <th>3</th>\n",
       "      <td>57264</td>\n",
       "      <td>12</td>\n",
       "      <td>Ms. LOREN MOONEY (Editor-in-Chief, Bicycling Magazine)</td>\n",
       "      <td>That's right. Each team has nine riders. And what you have is basically the team leader, sort of your queen bee, and then eight worker bees working to keep that queen safe and happy for when the decisive moments of the race come. In cycling, a lot of the energy goes toward actually battling wind resistance. So if you're riding behind another rider, you can be using up to 30 percent less energy because you're in that slipstream of the rider who's battling the wind. So team riders will ride on the front, protect their leader. You'll often see a team member drift back to the team car to fetch water bottles to keep their leader well hydrated.</td>\n",
       "      <td>Talk of the Nation</td>\n",
       "      <td>How To Watch The Tour De France</td>\n",
       "      <td>2010-07-12</td>\n",
       "      <td>False</td>\n",
       "    </tr>\n",
       "    <tr>\n",
       "      <th>4</th>\n",
       "      <td>57264</td>\n",
       "      <td>13</td>\n",
       "      <td>NEAL CONAN, host</td>\n",
       "      <td>So slipstream, this is like drafting in car racing, right?</td>\n",
       "      <td>Talk of the Nation</td>\n",
       "      <td>How To Watch The Tour De France</td>\n",
       "      <td>2010-07-12</td>\n",
       "      <td>True</td>\n",
       "    </tr>\n",
       "  </tbody>\n",
       "</table>\n",
       "</div>"
      ],
      "text/plain": [
       "   episode_id  episode_order  \\\n",
       "0  57264       9               \n",
       "1  57264       10              \n",
       "2  57264       11              \n",
       "3  57264       12              \n",
       "4  57264       13              \n",
       "\n",
       "                                                  speaker  \\\n",
       "0  Ms. LOREN MOONEY (Editor-in-Chief, Bicycling Magazine)   \n",
       "1  Ms. LOREN MOONEY (Editor-in-Chief, Bicycling Magazine)   \n",
       "2  NEAL CONAN, host                                         \n",
       "3  Ms. LOREN MOONEY (Editor-in-Chief, Bicycling Magazine)   \n",
       "4  NEAL CONAN, host                                         \n",
       "\n",
       "                                                                                                                                                                                                                                                                                                                                                                                                                                                                                                                                                                                                                                                                utterance  \\\n",
       "0  It's a 2,200-mile race. To give some sense of perspective, that's roughly the distance between Washington, D.C. and Las Vegas. They do it over the course of three weeks at very fast speeds. But incredibly, oftentimes the distance between first and second is somewhere between and one and three minutes.                                                                                                                                                                                                                                                                                                                                                           \n",
       "1  So for a top competitor like Lance to try to make up that much time -he's now 13 minutes, 26 seconds behind the current race leader, Cadel Evans of Australia. And even Lance said yesterday that for him, the -any chance of winning the tour has gone out the window. He still does have a teammate on his team, RadioShack team, American Levi Leipheimer currently in eighth place, two minutes, 14 seconds back. And Lance is going to do what he can to help Leipheimer do well.                                                                                                                                                                                   \n",
       "2  So in every team, presumably there's one star, one equivalent to Lance Armstrong and the other team - the rest of the teammates project him, do what they can to help him succeed?                                                                                                                                                                                                                                                                                                                                                                                                                                                                                       \n",
       "3  That's right. Each team has nine riders. And what you have is basically the team leader, sort of your queen bee, and then eight worker bees working to keep that queen safe and happy for when the decisive moments of the race come. In cycling, a lot of the energy goes toward actually battling wind resistance. So if you're riding behind another rider, you can be using up to 30 percent less energy because you're in that slipstream of the rider who's battling the wind. So team riders will ride on the front, protect their leader. You'll often see a team member drift back to the team car to fetch water bottles to keep their leader well hydrated.   \n",
       "4  So slipstream, this is like drafting in car racing, right?                                                                                                                                                                                                                                                                                                                                                                                                                                                                                                                                                                                                               \n",
       "\n",
       "              program                            title episode_date  is_host  \n",
       "0  Talk of the Nation  How To Watch The Tour De France  2010-07-12   False    \n",
       "1  Talk of the Nation  How To Watch The Tour De France  2010-07-12   False    \n",
       "2  Talk of the Nation  How To Watch The Tour De France  2010-07-12   True     \n",
       "3  Talk of the Nation  How To Watch The Tour De France  2010-07-12   False    \n",
       "4  Talk of the Nation  How To Watch The Tour De France  2010-07-12   True     "
      ]
     },
     "execution_count": 12,
     "metadata": {},
     "output_type": "execute_result"
    }
   ],
   "source": [
    "df.head()"
   ]
  },
  {
   "cell_type": "code",
   "execution_count": 13,
   "id": "98065c1c",
   "metadata": {},
   "outputs": [
    {
     "data": {
      "text/plain": [
       "(3002776, 8)"
      ]
     },
     "execution_count": 13,
     "metadata": {},
     "output_type": "execute_result"
    }
   ],
   "source": [
    "df.shape"
   ]
  },
  {
   "cell_type": "code",
   "execution_count": 14,
   "id": "96dae302",
   "metadata": {},
   "outputs": [
    {
     "data": {
      "text/plain": [
       "35108    512\n",
       "73336    475\n",
       "57481    459\n",
       "19633    453\n",
       "77896    419\n",
       "        ... \n",
       "33474    1  \n",
       "30384    1  \n",
       "80379    1  \n",
       "62026    1  \n",
       "88152    1  \n",
       "Name: episode_id, Length: 104896, dtype: int64"
      ]
     },
     "execution_count": 14,
     "metadata": {},
     "output_type": "execute_result"
    }
   ],
   "source": [
    "df.episode_id.value_counts()"
   ]
  },
  {
   "cell_type": "code",
   "execution_count": 15,
   "id": "43be8df2",
   "metadata": {},
   "outputs": [
    {
     "data": {
      "text/html": [
       "<div>\n",
       "<style scoped>\n",
       "    .dataframe tbody tr th:only-of-type {\n",
       "        vertical-align: middle;\n",
       "    }\n",
       "\n",
       "    .dataframe tbody tr th {\n",
       "        vertical-align: top;\n",
       "    }\n",
       "\n",
       "    .dataframe thead th {\n",
       "        text-align: right;\n",
       "    }\n",
       "</style>\n",
       "<table border=\"1\" class=\"dataframe\">\n",
       "  <thead>\n",
       "    <tr style=\"text-align: right;\">\n",
       "      <th></th>\n",
       "      <th>episode_id</th>\n",
       "      <th>episode_order</th>\n",
       "      <th>speaker</th>\n",
       "      <th>utterance</th>\n",
       "      <th>program</th>\n",
       "      <th>title</th>\n",
       "      <th>episode_date</th>\n",
       "      <th>is_host</th>\n",
       "    </tr>\n",
       "  </thead>\n",
       "  <tbody>\n",
       "    <tr>\n",
       "      <th>1281018</th>\n",
       "      <td>19633</td>\n",
       "      <td>1</td>\n",
       "      <td>IRA FLATOW, HOST</td>\n",
       "      <td>This is SCIENCE FRIDAY. I am Ira Flatow. It's back by popular request. OK, maybe that's not true: It's back because we enjoyed doing it so much last year. Ladies and gentlemen, it's time for our annual April Fools' science comedy geek-a-thon we call Two Scientists Walk Into a Bar.</td>\n",
       "      <td>Talk of the Nation</td>\n",
       "      <td>No Joke: Science Is A Laughing Matter</td>\n",
       "      <td>2012-03-30</td>\n",
       "      <td>False</td>\n",
       "    </tr>\n",
       "    <tr>\n",
       "      <th>1281019</th>\n",
       "      <td>19633</td>\n",
       "      <td>2</td>\n",
       "      <td>IRA FLATOW, HOST</td>\n",
       "      <td>The question is simple: Can jokes about chemists marooned on an island or geneticists changing a light bulb really be funny? This hour we're going to attempt to prove that science is a laughing matter, at least some of the time. We have a humorist, a comedian and our very own Flora Lichtman, not in a bar or an island but in a studio to test the hypothesis that science is to comedy what Stephen Hawking is to black holes.</td>\n",
       "      <td>Talk of the Nation</td>\n",
       "      <td>No Joke: Science Is A Laughing Matter</td>\n",
       "      <td>2012-03-30</td>\n",
       "      <td>False</td>\n",
       "    </tr>\n",
       "    <tr>\n",
       "      <th>1281020</th>\n",
       "      <td>19633</td>\n",
       "      <td>3</td>\n",
       "      <td>IRA FLATOW, HOST</td>\n",
       "      <td>And during the week, we asked for your help on our Facebook page. We asked you to tell us your favorite jokes, your science jokes, good ones, the not-so-good ones. Many of you contributed your favorite jokes, and some of them are even funny. We'll share them with you, plus some of our favorite scientists submitted their wit and humor, and we'll be sharing some of that with you this hour, too.</td>\n",
       "      <td>Talk of the Nation</td>\n",
       "      <td>No Joke: Science Is A Laughing Matter</td>\n",
       "      <td>2012-03-30</td>\n",
       "      <td>False</td>\n",
       "    </tr>\n",
       "    <tr>\n",
       "      <th>1281021</th>\n",
       "      <td>19633</td>\n",
       "      <td>4</td>\n",
       "      <td>IRA FLATOW, HOST</td>\n",
       "      <td>So it's not too late if you still have a science funny you'd like to share. Give us a call, our number 1-800-989-8255, that's 1-800-989-TALK. And if you're on Twitter, you can tweet us a joke, and write @scifri, the @ sign followed by S-C-I-F-R-I, and don't know if you can do that in 140 characters, a joke? Try to get the joke in there. See, you give it a try.</td>\n",
       "      <td>Talk of the Nation</td>\n",
       "      <td>No Joke: Science Is A Laughing Matter</td>\n",
       "      <td>2012-03-30</td>\n",
       "      <td>False</td>\n",
       "    </tr>\n",
       "    <tr>\n",
       "      <th>1281022</th>\n",
       "      <td>19633</td>\n",
       "      <td>5</td>\n",
       "      <td>IRA FLATOW, HOST</td>\n",
       "      <td>You can also go to our Facebook or facebook/scifri and join in our conversation, but just remember one thing. Here's the only rule that we have. It has to be a G-rated joke. I don't want to have to - where's the dump button? I don't want to have to push that dump button if it gets a little out of hand. So let's keep it cordial.</td>\n",
       "      <td>Talk of the Nation</td>\n",
       "      <td>No Joke: Science Is A Laughing Matter</td>\n",
       "      <td>2012-03-30</td>\n",
       "      <td>False</td>\n",
       "    </tr>\n",
       "    <tr>\n",
       "      <th>...</th>\n",
       "      <td>...</td>\n",
       "      <td>...</td>\n",
       "      <td>...</td>\n",
       "      <td>...</td>\n",
       "      <td>...</td>\n",
       "      <td>...</td>\n",
       "      <td>...</td>\n",
       "      <td>...</td>\n",
       "    </tr>\n",
       "    <tr>\n",
       "      <th>1281556</th>\n",
       "      <td>19633</td>\n",
       "      <td>564</td>\n",
       "      <td>IRA FLATOW, HOST</td>\n",
       "      <td>Are you going to be appearing anywhere, Brian? We're running out of time. Are you going to appear anywhere doing standup that we could tell people about?</td>\n",
       "      <td>Talk of the Nation</td>\n",
       "      <td>No Joke: Science Is A Laughing Matter</td>\n",
       "      <td>2012-03-30</td>\n",
       "      <td>False</td>\n",
       "    </tr>\n",
       "    <tr>\n",
       "      <th>1281557</th>\n",
       "      <td>19633</td>\n",
       "      <td>565</td>\n",
       "      <td>BRIAN MALOW</td>\n",
       "      <td>Well, right now, I'm going to be participating - I'm going to do a show at the Philadelphia Science Festival coming up on April 24 for the Chemical Heritage Foundation. And then at the end of April, the USA Science and Engineering Festival, I'm doing many events all throughout it on various stages and along with the National Academies.</td>\n",
       "      <td>Talk of the Nation</td>\n",
       "      <td>No Joke: Science Is A Laughing Matter</td>\n",
       "      <td>2012-03-30</td>\n",
       "      <td>False</td>\n",
       "    </tr>\n",
       "    <tr>\n",
       "      <th>1281558</th>\n",
       "      <td>19633</td>\n",
       "      <td>566</td>\n",
       "      <td>IRA FLATOW, HOST</td>\n",
       "      <td>Yeah. Well, that's a great venue. And, Steve, you're just going to be hanging out at...</td>\n",
       "      <td>Talk of the Nation</td>\n",
       "      <td>No Joke: Science Is A Laughing Matter</td>\n",
       "      <td>2012-03-30</td>\n",
       "      <td>False</td>\n",
       "    </tr>\n",
       "    <tr>\n",
       "      <th>1281559</th>\n",
       "      <td>19633</td>\n",
       "      <td>567</td>\n",
       "      <td>STEVE MIRSKY</td>\n",
       "      <td>I'm going home with you tonight.</td>\n",
       "      <td>Talk of the Nation</td>\n",
       "      <td>No Joke: Science Is A Laughing Matter</td>\n",
       "      <td>2012-03-30</td>\n",
       "      <td>False</td>\n",
       "    </tr>\n",
       "    <tr>\n",
       "      <th>1281561</th>\n",
       "      <td>19633</td>\n",
       "      <td>569</td>\n",
       "      <td>IRA FLATOW, HOST</td>\n",
       "      <td>I got to get extra train ticket. Thank you both, Brian Malow and Steve Mirsky, editor and podcast editor at Scientific American. He writes the humorous column for Scientific American called Antigravity.</td>\n",
       "      <td>Talk of the Nation</td>\n",
       "      <td>No Joke: Science Is A Laughing Matter</td>\n",
       "      <td>2012-03-30</td>\n",
       "      <td>False</td>\n",
       "    </tr>\n",
       "  </tbody>\n",
       "</table>\n",
       "<p>453 rows × 8 columns</p>\n",
       "</div>"
      ],
      "text/plain": [
       "         episode_id  episode_order           speaker  \\\n",
       "1281018  19633       1              IRA FLATOW, HOST   \n",
       "1281019  19633       2              IRA FLATOW, HOST   \n",
       "1281020  19633       3              IRA FLATOW, HOST   \n",
       "1281021  19633       4              IRA FLATOW, HOST   \n",
       "1281022  19633       5              IRA FLATOW, HOST   \n",
       "...        ...      ..                           ...   \n",
       "1281556  19633       564            IRA FLATOW, HOST   \n",
       "1281557  19633       565            BRIAN MALOW        \n",
       "1281558  19633       566            IRA FLATOW, HOST   \n",
       "1281559  19633       567            STEVE MIRSKY       \n",
       "1281561  19633       569            IRA FLATOW, HOST   \n",
       "\n",
       "                                                                                                                                                                                                                                                                                                                                                                                                                                       utterance  \\\n",
       "1281018  This is SCIENCE FRIDAY. I am Ira Flatow. It's back by popular request. OK, maybe that's not true: It's back because we enjoyed doing it so much last year. Ladies and gentlemen, it's time for our annual April Fools' science comedy geek-a-thon we call Two Scientists Walk Into a Bar.                                                                                                                                                 \n",
       "1281019  The question is simple: Can jokes about chemists marooned on an island or geneticists changing a light bulb really be funny? This hour we're going to attempt to prove that science is a laughing matter, at least some of the time. We have a humorist, a comedian and our very own Flora Lichtman, not in a bar or an island but in a studio to test the hypothesis that science is to comedy what Stephen Hawking is to black holes.   \n",
       "1281020  And during the week, we asked for your help on our Facebook page. We asked you to tell us your favorite jokes, your science jokes, good ones, the not-so-good ones. Many of you contributed your favorite jokes, and some of them are even funny. We'll share them with you, plus some of our favorite scientists submitted their wit and humor, and we'll be sharing some of that with you this hour, too.                               \n",
       "1281021  So it's not too late if you still have a science funny you'd like to share. Give us a call, our number 1-800-989-8255, that's 1-800-989-TALK. And if you're on Twitter, you can tweet us a joke, and write @scifri, the @ sign followed by S-C-I-F-R-I, and don't know if you can do that in 140 characters, a joke? Try to get the joke in there. See, you give it a try.                                                                \n",
       "1281022  You can also go to our Facebook or facebook/scifri and join in our conversation, but just remember one thing. Here's the only rule that we have. It has to be a G-rated joke. I don't want to have to - where's the dump button? I don't want to have to push that dump button if it gets a little out of hand. So let's keep it cordial.                                                                                                 \n",
       "...                                                                                                                                                                                                                                                                                                                                            ...                                                                                                 \n",
       "1281556  Are you going to be appearing anywhere, Brian? We're running out of time. Are you going to appear anywhere doing standup that we could tell people about?                                                                                                                                                                                                                                                                                 \n",
       "1281557  Well, right now, I'm going to be participating - I'm going to do a show at the Philadelphia Science Festival coming up on April 24 for the Chemical Heritage Foundation. And then at the end of April, the USA Science and Engineering Festival, I'm doing many events all throughout it on various stages and along with the National Academies.                                                                                         \n",
       "1281558  Yeah. Well, that's a great venue. And, Steve, you're just going to be hanging out at...                                                                                                                                                                                                                                                                                                                                                   \n",
       "1281559  I'm going home with you tonight.                                                                                                                                                                                                                                                                                                                                                                                                          \n",
       "1281561  I got to get extra train ticket. Thank you both, Brian Malow and Steve Mirsky, editor and podcast editor at Scientific American. He writes the humorous column for Scientific American called Antigravity.                                                                                                                                                                                                                                \n",
       "\n",
       "                    program                                  title  \\\n",
       "1281018  Talk of the Nation  No Joke: Science Is A Laughing Matter   \n",
       "1281019  Talk of the Nation  No Joke: Science Is A Laughing Matter   \n",
       "1281020  Talk of the Nation  No Joke: Science Is A Laughing Matter   \n",
       "1281021  Talk of the Nation  No Joke: Science Is A Laughing Matter   \n",
       "1281022  Talk of the Nation  No Joke: Science Is A Laughing Matter   \n",
       "...                     ...                                    ...   \n",
       "1281556  Talk of the Nation  No Joke: Science Is A Laughing Matter   \n",
       "1281557  Talk of the Nation  No Joke: Science Is A Laughing Matter   \n",
       "1281558  Talk of the Nation  No Joke: Science Is A Laughing Matter   \n",
       "1281559  Talk of the Nation  No Joke: Science Is A Laughing Matter   \n",
       "1281561  Talk of the Nation  No Joke: Science Is A Laughing Matter   \n",
       "\n",
       "        episode_date  is_host  \n",
       "1281018  2012-03-30   False    \n",
       "1281019  2012-03-30   False    \n",
       "1281020  2012-03-30   False    \n",
       "1281021  2012-03-30   False    \n",
       "1281022  2012-03-30   False    \n",
       "...             ...     ...    \n",
       "1281556  2012-03-30   False    \n",
       "1281557  2012-03-30   False    \n",
       "1281558  2012-03-30   False    \n",
       "1281559  2012-03-30   False    \n",
       "1281561  2012-03-30   False    \n",
       "\n",
       "[453 rows x 8 columns]"
      ]
     },
     "execution_count": 15,
     "metadata": {},
     "output_type": "execute_result"
    }
   ],
   "source": [
    "df[df.episode_id==19633].sort_values(by='episode_order')"
   ]
  },
  {
   "cell_type": "code",
   "execution_count": 16,
   "id": "fea628ed",
   "metadata": {},
   "outputs": [
    {
     "ename": "KeyboardInterrupt",
     "evalue": "",
     "output_type": "error",
     "traceback": [
      "\u001b[0;31m---------------------------------------------------------------------------\u001b[0m",
      "\u001b[0;31mKeyboardInterrupt\u001b[0m                         Traceback (most recent call last)",
      "\u001b[0;32m<ipython-input-16-f742c9f333d8>\u001b[0m in \u001b[0;36m<module>\u001b[0;34m\u001b[0m\n\u001b[0;32m----> 1\u001b[0;31m \u001b[0mdf\u001b[0m\u001b[0;34m[\u001b[0m\u001b[0;34m'sentiment'\u001b[0m\u001b[0;34m]\u001b[0m \u001b[0;34m=\u001b[0m \u001b[0mdf\u001b[0m\u001b[0;34m.\u001b[0m\u001b[0mutterance\u001b[0m\u001b[0;34m.\u001b[0m\u001b[0mapply\u001b[0m\u001b[0;34m(\u001b[0m\u001b[0;32mlambda\u001b[0m \u001b[0mdoc\u001b[0m\u001b[0;34m:\u001b[0m \u001b[0msia\u001b[0m\u001b[0;34m.\u001b[0m\u001b[0mpolarity_scores\u001b[0m\u001b[0;34m(\u001b[0m\u001b[0mdoc\u001b[0m\u001b[0;34m)\u001b[0m\u001b[0;34m[\u001b[0m\u001b[0;34m'compound'\u001b[0m\u001b[0;34m]\u001b[0m\u001b[0;34m)\u001b[0m\u001b[0;34m\u001b[0m\u001b[0;34m\u001b[0m\u001b[0m\n\u001b[0m\u001b[1;32m      2\u001b[0m \u001b[0;34m\u001b[0m\u001b[0m\n",
      "\u001b[0;32m/usr/local/anaconda3/lib/python3.8/site-packages/pandas/core/series.py\u001b[0m in \u001b[0;36mapply\u001b[0;34m(self, func, convert_dtype, args, **kwds)\u001b[0m\n\u001b[1;32m   4136\u001b[0m             \u001b[0;32melse\u001b[0m\u001b[0;34m:\u001b[0m\u001b[0;34m\u001b[0m\u001b[0;34m\u001b[0m\u001b[0m\n\u001b[1;32m   4137\u001b[0m                 \u001b[0mvalues\u001b[0m \u001b[0;34m=\u001b[0m \u001b[0mself\u001b[0m\u001b[0;34m.\u001b[0m\u001b[0mastype\u001b[0m\u001b[0;34m(\u001b[0m\u001b[0mobject\u001b[0m\u001b[0;34m)\u001b[0m\u001b[0;34m.\u001b[0m\u001b[0m_values\u001b[0m\u001b[0;34m\u001b[0m\u001b[0;34m\u001b[0m\u001b[0m\n\u001b[0;32m-> 4138\u001b[0;31m                 \u001b[0mmapped\u001b[0m \u001b[0;34m=\u001b[0m \u001b[0mlib\u001b[0m\u001b[0;34m.\u001b[0m\u001b[0mmap_infer\u001b[0m\u001b[0;34m(\u001b[0m\u001b[0mvalues\u001b[0m\u001b[0;34m,\u001b[0m \u001b[0mf\u001b[0m\u001b[0;34m,\u001b[0m \u001b[0mconvert\u001b[0m\u001b[0;34m=\u001b[0m\u001b[0mconvert_dtype\u001b[0m\u001b[0;34m)\u001b[0m\u001b[0;34m\u001b[0m\u001b[0;34m\u001b[0m\u001b[0m\n\u001b[0m\u001b[1;32m   4139\u001b[0m \u001b[0;34m\u001b[0m\u001b[0m\n\u001b[1;32m   4140\u001b[0m         \u001b[0;32mif\u001b[0m \u001b[0mlen\u001b[0m\u001b[0;34m(\u001b[0m\u001b[0mmapped\u001b[0m\u001b[0;34m)\u001b[0m \u001b[0;32mand\u001b[0m \u001b[0misinstance\u001b[0m\u001b[0;34m(\u001b[0m\u001b[0mmapped\u001b[0m\u001b[0;34m[\u001b[0m\u001b[0;36m0\u001b[0m\u001b[0;34m]\u001b[0m\u001b[0;34m,\u001b[0m \u001b[0mSeries\u001b[0m\u001b[0;34m)\u001b[0m\u001b[0;34m:\u001b[0m\u001b[0;34m\u001b[0m\u001b[0;34m\u001b[0m\u001b[0m\n",
      "\u001b[0;32mpandas/_libs/lib.pyx\u001b[0m in \u001b[0;36mpandas._libs.lib.map_infer\u001b[0;34m()\u001b[0m\n",
      "\u001b[0;32m<ipython-input-16-f742c9f333d8>\u001b[0m in \u001b[0;36m<lambda>\u001b[0;34m(doc)\u001b[0m\n\u001b[0;32m----> 1\u001b[0;31m \u001b[0mdf\u001b[0m\u001b[0;34m[\u001b[0m\u001b[0;34m'sentiment'\u001b[0m\u001b[0;34m]\u001b[0m \u001b[0;34m=\u001b[0m \u001b[0mdf\u001b[0m\u001b[0;34m.\u001b[0m\u001b[0mutterance\u001b[0m\u001b[0;34m.\u001b[0m\u001b[0mapply\u001b[0m\u001b[0;34m(\u001b[0m\u001b[0;32mlambda\u001b[0m \u001b[0mdoc\u001b[0m\u001b[0;34m:\u001b[0m \u001b[0msia\u001b[0m\u001b[0;34m.\u001b[0m\u001b[0mpolarity_scores\u001b[0m\u001b[0;34m(\u001b[0m\u001b[0mdoc\u001b[0m\u001b[0;34m)\u001b[0m\u001b[0;34m[\u001b[0m\u001b[0;34m'compound'\u001b[0m\u001b[0;34m]\u001b[0m\u001b[0;34m)\u001b[0m\u001b[0;34m\u001b[0m\u001b[0;34m\u001b[0m\u001b[0m\n\u001b[0m\u001b[1;32m      2\u001b[0m \u001b[0;34m\u001b[0m\u001b[0m\n",
      "\u001b[0;32m/usr/local/anaconda3/lib/python3.8/site-packages/nltk/sentiment/vader.py\u001b[0m in \u001b[0;36mpolarity_scores\u001b[0;34m(self, text)\u001b[0m\n\u001b[1;32m    373\u001b[0m                 \u001b[0;32mcontinue\u001b[0m\u001b[0;34m\u001b[0m\u001b[0;34m\u001b[0m\u001b[0m\n\u001b[1;32m    374\u001b[0m \u001b[0;34m\u001b[0m\u001b[0m\n\u001b[0;32m--> 375\u001b[0;31m             \u001b[0msentiments\u001b[0m \u001b[0;34m=\u001b[0m \u001b[0mself\u001b[0m\u001b[0;34m.\u001b[0m\u001b[0msentiment_valence\u001b[0m\u001b[0;34m(\u001b[0m\u001b[0mvalence\u001b[0m\u001b[0;34m,\u001b[0m \u001b[0msentitext\u001b[0m\u001b[0;34m,\u001b[0m \u001b[0mitem\u001b[0m\u001b[0;34m,\u001b[0m \u001b[0mi\u001b[0m\u001b[0;34m,\u001b[0m \u001b[0msentiments\u001b[0m\u001b[0;34m)\u001b[0m\u001b[0;34m\u001b[0m\u001b[0;34m\u001b[0m\u001b[0m\n\u001b[0m\u001b[1;32m    376\u001b[0m \u001b[0;34m\u001b[0m\u001b[0m\n\u001b[1;32m    377\u001b[0m         \u001b[0msentiments\u001b[0m \u001b[0;34m=\u001b[0m \u001b[0mself\u001b[0m\u001b[0;34m.\u001b[0m\u001b[0m_but_check\u001b[0m\u001b[0;34m(\u001b[0m\u001b[0mwords_and_emoticons\u001b[0m\u001b[0;34m,\u001b[0m \u001b[0msentiments\u001b[0m\u001b[0;34m)\u001b[0m\u001b[0;34m\u001b[0m\u001b[0;34m\u001b[0m\u001b[0m\n",
      "\u001b[0;32m/usr/local/anaconda3/lib/python3.8/site-packages/nltk/sentiment/vader.py\u001b[0m in \u001b[0;36msentiment_valence\u001b[0;34m(self, valence, sentitext, item, i, sentiments)\u001b[0m\n\u001b[1;32m    411\u001b[0m                         \u001b[0ms\u001b[0m \u001b[0;34m=\u001b[0m \u001b[0ms\u001b[0m \u001b[0;34m*\u001b[0m \u001b[0;36m0.9\u001b[0m\u001b[0;34m\u001b[0m\u001b[0;34m\u001b[0m\u001b[0m\n\u001b[1;32m    412\u001b[0m                     \u001b[0mvalence\u001b[0m \u001b[0;34m=\u001b[0m \u001b[0mvalence\u001b[0m \u001b[0;34m+\u001b[0m \u001b[0ms\u001b[0m\u001b[0;34m\u001b[0m\u001b[0;34m\u001b[0m\u001b[0m\n\u001b[0;32m--> 413\u001b[0;31m                     valence = self._never_check(\n\u001b[0m\u001b[1;32m    414\u001b[0m                         \u001b[0mvalence\u001b[0m\u001b[0;34m,\u001b[0m \u001b[0mwords_and_emoticons\u001b[0m\u001b[0;34m,\u001b[0m \u001b[0mstart_i\u001b[0m\u001b[0;34m,\u001b[0m \u001b[0mi\u001b[0m\u001b[0;34m\u001b[0m\u001b[0;34m\u001b[0m\u001b[0m\n\u001b[1;32m    415\u001b[0m                     )\n",
      "\u001b[0;32m/usr/local/anaconda3/lib/python3.8/site-packages/nltk/sentiment/vader.py\u001b[0m in \u001b[0;36m_never_check\u001b[0;34m(self, valence, words_and_emoticons, start_i, i)\u001b[0m\n\u001b[1;32m    513\u001b[0m     \u001b[0;32mdef\u001b[0m \u001b[0m_never_check\u001b[0m\u001b[0;34m(\u001b[0m\u001b[0mself\u001b[0m\u001b[0;34m,\u001b[0m \u001b[0mvalence\u001b[0m\u001b[0;34m,\u001b[0m \u001b[0mwords_and_emoticons\u001b[0m\u001b[0;34m,\u001b[0m \u001b[0mstart_i\u001b[0m\u001b[0;34m,\u001b[0m \u001b[0mi\u001b[0m\u001b[0;34m)\u001b[0m\u001b[0;34m:\u001b[0m\u001b[0;34m\u001b[0m\u001b[0;34m\u001b[0m\u001b[0m\n\u001b[1;32m    514\u001b[0m         \u001b[0;32mif\u001b[0m \u001b[0mstart_i\u001b[0m \u001b[0;34m==\u001b[0m \u001b[0;36m0\u001b[0m\u001b[0;34m:\u001b[0m\u001b[0;34m\u001b[0m\u001b[0;34m\u001b[0m\u001b[0m\n\u001b[0;32m--> 515\u001b[0;31m             \u001b[0;32mif\u001b[0m \u001b[0mself\u001b[0m\u001b[0;34m.\u001b[0m\u001b[0mconstants\u001b[0m\u001b[0;34m.\u001b[0m\u001b[0mnegated\u001b[0m\u001b[0;34m(\u001b[0m\u001b[0;34m[\u001b[0m\u001b[0mwords_and_emoticons\u001b[0m\u001b[0;34m[\u001b[0m\u001b[0mi\u001b[0m \u001b[0;34m-\u001b[0m \u001b[0;36m1\u001b[0m\u001b[0;34m]\u001b[0m\u001b[0;34m]\u001b[0m\u001b[0;34m)\u001b[0m\u001b[0;34m:\u001b[0m\u001b[0;34m\u001b[0m\u001b[0;34m\u001b[0m\u001b[0m\n\u001b[0m\u001b[1;32m    516\u001b[0m                 \u001b[0mvalence\u001b[0m \u001b[0;34m=\u001b[0m \u001b[0mvalence\u001b[0m \u001b[0;34m*\u001b[0m \u001b[0mself\u001b[0m\u001b[0;34m.\u001b[0m\u001b[0mconstants\u001b[0m\u001b[0;34m.\u001b[0m\u001b[0mN_SCALAR\u001b[0m\u001b[0;34m\u001b[0m\u001b[0;34m\u001b[0m\u001b[0m\n\u001b[1;32m    517\u001b[0m         \u001b[0;32mif\u001b[0m \u001b[0mstart_i\u001b[0m \u001b[0;34m==\u001b[0m \u001b[0;36m1\u001b[0m\u001b[0;34m:\u001b[0m\u001b[0;34m\u001b[0m\u001b[0;34m\u001b[0m\u001b[0m\n",
      "\u001b[0;32m/usr/local/anaconda3/lib/python3.8/site-packages/nltk/sentiment/vader.py\u001b[0m in \u001b[0;36mnegated\u001b[0;34m(self, input_words, include_nt)\u001b[0m\n\u001b[1;32m    227\u001b[0m             \u001b[0;32mif\u001b[0m \u001b[0many\u001b[0m\u001b[0;34m(\u001b[0m\u001b[0;34m\"n't\"\u001b[0m \u001b[0;32min\u001b[0m \u001b[0mword\u001b[0m\u001b[0;34m.\u001b[0m\u001b[0mlower\u001b[0m\u001b[0;34m(\u001b[0m\u001b[0;34m)\u001b[0m \u001b[0;32mfor\u001b[0m \u001b[0mword\u001b[0m \u001b[0;32min\u001b[0m \u001b[0minput_words\u001b[0m\u001b[0;34m)\u001b[0m\u001b[0;34m:\u001b[0m\u001b[0;34m\u001b[0m\u001b[0;34m\u001b[0m\u001b[0m\n\u001b[1;32m    228\u001b[0m                 \u001b[0;32mreturn\u001b[0m \u001b[0;32mTrue\u001b[0m\u001b[0;34m\u001b[0m\u001b[0;34m\u001b[0m\u001b[0m\n\u001b[0;32m--> 229\u001b[0;31m         \u001b[0;32mfor\u001b[0m \u001b[0mfirst\u001b[0m\u001b[0;34m,\u001b[0m \u001b[0msecond\u001b[0m \u001b[0;32min\u001b[0m \u001b[0mpairwise\u001b[0m\u001b[0;34m(\u001b[0m\u001b[0minput_words\u001b[0m\u001b[0;34m)\u001b[0m\u001b[0;34m:\u001b[0m\u001b[0;34m\u001b[0m\u001b[0;34m\u001b[0m\u001b[0m\n\u001b[0m\u001b[1;32m    230\u001b[0m             \u001b[0;32mif\u001b[0m \u001b[0msecond\u001b[0m\u001b[0;34m.\u001b[0m\u001b[0mlower\u001b[0m\u001b[0;34m(\u001b[0m\u001b[0;34m)\u001b[0m \u001b[0;34m==\u001b[0m \u001b[0;34m\"least\"\u001b[0m \u001b[0;32mand\u001b[0m \u001b[0mfirst\u001b[0m\u001b[0;34m.\u001b[0m\u001b[0mlower\u001b[0m\u001b[0;34m(\u001b[0m\u001b[0;34m)\u001b[0m \u001b[0;34m!=\u001b[0m \u001b[0;34m\"at\"\u001b[0m\u001b[0;34m:\u001b[0m\u001b[0;34m\u001b[0m\u001b[0;34m\u001b[0m\u001b[0m\n\u001b[1;32m    231\u001b[0m                 \u001b[0;32mreturn\u001b[0m \u001b[0;32mTrue\u001b[0m\u001b[0;34m\u001b[0m\u001b[0;34m\u001b[0m\u001b[0m\n",
      "\u001b[0;31mKeyboardInterrupt\u001b[0m: "
     ]
    }
   ],
   "source": [
    "df['sentiment'] = df.utterance.apply(lambda doc: sia.polarity_scores(doc)['compound'])\n",
    "\n"
   ]
  },
  {
   "cell_type": "code",
   "execution_count": null,
   "id": "925e17a0",
   "metadata": {},
   "outputs": [],
   "source": [
    "df.head()"
   ]
  },
  {
   "cell_type": "code",
   "execution_count": null,
   "id": "9394171c",
   "metadata": {},
   "outputs": [],
   "source": []
  }
 ],
 "metadata": {
  "kernelspec": {
   "display_name": "Python 3",
   "language": "python",
   "name": "python3"
  },
  "language_info": {
   "codemirror_mode": {
    "name": "ipython",
    "version": 3
   },
   "file_extension": ".py",
   "mimetype": "text/x-python",
   "name": "python",
   "nbconvert_exporter": "python",
   "pygments_lexer": "ipython3",
   "version": "3.8.8"
  }
 },
 "nbformat": 4,
 "nbformat_minor": 5
}
