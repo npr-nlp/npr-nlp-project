{
 "cells": [
  {
   "cell_type": "code",
   "execution_count": 1,
   "id": "cb0e0d55",
   "metadata": {},
   "outputs": [],
   "source": [
    "# Import all the things\n",
    "\n",
    "import json\n",
    "import pandas as pd\n",
    "import numpy as np\n",
    "import wrangle\n",
    "import acquire\n",
    "from prepare import basic_clean, tokenize, lemmatize, stem, remove_stopwords, prep_string_data#, split_data\n",
    "\n",
    "import re\n",
    "from sklearn.feature_extraction.text import TfidfVectorizer\n",
    "\n",
    "from wordcloud import WordCloud\n",
    "from matplotlib import pyplot as plt\n",
    "import seaborn as sns\n",
    "\n",
    "from sklearn.model_selection import train_test_split\n",
    "from sklearn.linear_model import LogisticRegression\n",
    "from sklearn.metrics import classification_report, accuracy_score\n",
    "\n",
    "import nltk\n",
    "\n",
    "from scipy import stats\n",
    "\n",
    "import warnings\n",
    "warnings.filterwarnings(\"ignore\")"
   ]
  },
  {
   "cell_type": "code",
   "execution_count": 2,
   "id": "365b1883",
   "metadata": {},
   "outputs": [],
   "source": [
    "# use our own wrangle to get the data\n",
    "# df = wrangle.get_npr_data()\n",
    "# df.head()"
   ]
  },
  {
   "cell_type": "markdown",
   "id": "892ef9d3",
   "metadata": {},
   "source": [
    "### I'm interested in topic modeling on a story-level basis\n",
    "### So I will need to groupby story_id_num"
   ]
  },
  {
   "cell_type": "code",
   "execution_count": 3,
   "id": "e0cf495e",
   "metadata": {
    "scrolled": true
   },
   "outputs": [],
   "source": [
    "# df = df.sort_values(by=['story_id_num','utterance_order'])\n",
    "# df.head()"
   ]
  },
  {
   "cell_type": "code",
   "execution_count": 4,
   "id": "7d215116",
   "metadata": {},
   "outputs": [],
   "source": [
    "# df = df[['story_id_num','utterance_order','title','lemmatized']]"
   ]
  },
  {
   "cell_type": "code",
   "execution_count": 5,
   "id": "ddd4d712",
   "metadata": {},
   "outputs": [],
   "source": [
    "# df_sample = df[:100]\n",
    "# df_sample"
   ]
  },
  {
   "cell_type": "code",
   "execution_count": 6,
   "id": "d5517083",
   "metadata": {
    "scrolled": true
   },
   "outputs": [],
   "source": [
    "# df_sample.shape"
   ]
  },
  {
   "cell_type": "code",
   "execution_count": 7,
   "id": "e3e1b83d",
   "metadata": {
    "scrolled": true
   },
   "outputs": [],
   "source": [
    "# pd.DataFrame(df_sample.groupby('title').apply(list).reset_index())"
   ]
  },
  {
   "cell_type": "code",
   "execution_count": 8,
   "id": "d6510834",
   "metadata": {},
   "outputs": [],
   "source": [
    "# df_sample.groupby(['story_id_num']).title.first()"
   ]
  },
  {
   "cell_type": "code",
   "execution_count": 9,
   "id": "69a9d3cf",
   "metadata": {},
   "outputs": [],
   "source": [
    "# # group every story as an aggregation of all its utterances\n",
    "# df_sample.groupby(['story_id_num']).lemmatized.agg(' '.join)#.iloc[0]"
   ]
  },
  {
   "cell_type": "code",
   "execution_count": 10,
   "id": "2ce18eb1",
   "metadata": {},
   "outputs": [],
   "source": [
    "# # group every story as an aggregation of all its utterances and store in a DF\n",
    "# stories_test = pd.DataFrame(df_sample.groupby(['story_id_num']).lemmatized.agg(' '.join))\n",
    "# stories_test"
   ]
  },
  {
   "cell_type": "code",
   "execution_count": 11,
   "id": "fe331e27",
   "metadata": {},
   "outputs": [],
   "source": [
    "# stories.iloc[0].values"
   ]
  },
  {
   "cell_type": "markdown",
   "id": "68931099",
   "metadata": {},
   "source": [
    "### Run the above on the whole df"
   ]
  },
  {
   "cell_type": "code",
   "execution_count": 12,
   "id": "ae116654",
   "metadata": {},
   "outputs": [],
   "source": [
    "# df = df.sort_values(by=['story_id_num','utterance_order'])\n",
    "# df.head()"
   ]
  },
  {
   "cell_type": "code",
   "execution_count": 13,
   "id": "d50ef53b",
   "metadata": {
    "scrolled": true
   },
   "outputs": [],
   "source": [
    "# df.dtypes"
   ]
  },
  {
   "cell_type": "code",
   "execution_count": 14,
   "id": "bc48e435",
   "metadata": {},
   "outputs": [],
   "source": [
    "# df.isna().sum()"
   ]
  },
  {
   "cell_type": "code",
   "execution_count": 15,
   "id": "c48a30ca",
   "metadata": {},
   "outputs": [],
   "source": [
    "# df = df.dropna()"
   ]
  },
  {
   "cell_type": "markdown",
   "id": "6afe59d5",
   "metadata": {},
   "source": [
    "#### well...it worked on the sample above\n",
    "#### had to drop 2 nulls that existed in the lemmatized column"
   ]
  },
  {
   "cell_type": "code",
   "execution_count": 16,
   "id": "37b7c426",
   "metadata": {},
   "outputs": [],
   "source": [
    "# # group every story as an aggregation of all its utterances and store in a DF\n",
    "# stories = pd.DataFrame(df.groupby(['story_id_num']).lemmatized.agg(' '.join))\n",
    "# stories"
   ]
  },
  {
   "cell_type": "markdown",
   "id": "3ff7768b",
   "metadata": {},
   "source": [
    "-  61,165 stories to work with here"
   ]
  },
  {
   "cell_type": "code",
   "execution_count": 17,
   "id": "b7d9290f",
   "metadata": {},
   "outputs": [],
   "source": [
    "# this attempt to get the word count for every story isn't working currently\n",
    "# stories['word_count'] = df.lemmatized.apply(str.split).apply(len)\n",
    "# stories.head()"
   ]
  },
  {
   "cell_type": "code",
   "execution_count": 18,
   "id": "99f31e49",
   "metadata": {},
   "outputs": [],
   "source": [
    "# sia = nltk.sentiment.SentimentIntensityAnalyzer()\n",
    "# stories['vader'] = stories.lemmatized.apply(lambda doc: sia.polarity_scores(doc)['compound'])\n",
    "# stories.head()"
   ]
  },
  {
   "cell_type": "code",
   "execution_count": 19,
   "id": "be6abbae",
   "metadata": {},
   "outputs": [],
   "source": [
    "# stories.to_csv('stories.csv')"
   ]
  },
  {
   "cell_type": "code",
   "execution_count": 20,
   "id": "f7c86142",
   "metadata": {},
   "outputs": [
    {
     "data": {
      "text/html": [
       "<div>\n",
       "<style scoped>\n",
       "    .dataframe tbody tr th:only-of-type {\n",
       "        vertical-align: middle;\n",
       "    }\n",
       "\n",
       "    .dataframe tbody tr th {\n",
       "        vertical-align: top;\n",
       "    }\n",
       "\n",
       "    .dataframe thead th {\n",
       "        text-align: right;\n",
       "    }\n",
       "</style>\n",
       "<table border=\"1\" class=\"dataframe\">\n",
       "  <thead>\n",
       "    <tr style=\"text-align: right;\">\n",
       "      <th></th>\n",
       "      <th>Unnamed: 0</th>\n",
       "      <th>story_id_num</th>\n",
       "      <th>lemmatized</th>\n",
       "      <th>vader</th>\n",
       "      <th>title</th>\n",
       "      <th>date</th>\n",
       "      <th>host</th>\n",
       "      <th>program</th>\n",
       "    </tr>\n",
       "  </thead>\n",
       "  <tbody>\n",
       "    <tr>\n",
       "      <th>0</th>\n",
       "      <td>0</td>\n",
       "      <td>17</td>\n",
       "      <td>he is in cahoot with a foreign government to m...</td>\n",
       "      <td>0.9964</td>\n",
       "      <td>n.j. democrat on reported whistleblower compla...</td>\n",
       "      <td>2019-09-22</td>\n",
       "      <td>melissa block</td>\n",
       "      <td>weekend edition sunday</td>\n",
       "    </tr>\n",
       "    <tr>\n",
       "      <th>1</th>\n",
       "      <td>1</td>\n",
       "      <td>18</td>\n",
       "      <td>come with concrete plan , not beautiful speech...</td>\n",
       "      <td>0.9993</td>\n",
       "      <td>ahead of climate summit, 2 views from cities i...</td>\n",
       "      <td>2019-09-22</td>\n",
       "      <td>melissa block</td>\n",
       "      <td>weekend edition sunday</td>\n",
       "    </tr>\n",
       "    <tr>\n",
       "      <th>2</th>\n",
       "      <td>2</td>\n",
       "      <td>19</td>\n",
       "      <td>if you stand outside the old dekalb county cou...</td>\n",
       "      <td>0.9974</td>\n",
       "      <td>barred from removing confederate monument, cou...</td>\n",
       "      <td>2019-09-22</td>\n",
       "      <td>melissa block</td>\n",
       "      <td>weekend edition sunday</td>\n",
       "    </tr>\n",
       "    <tr>\n",
       "      <th>3</th>\n",
       "      <td>3</td>\n",
       "      <td>20</td>\n",
       "      <td>you may have spotted pink salt in your superma...</td>\n",
       "      <td>0.4950</td>\n",
       "      <td>pakistan's pink himalayan salt has become a ma...</td>\n",
       "      <td>2019-09-22</td>\n",
       "      <td>melissa block</td>\n",
       "      <td>weekend edition sunday</td>\n",
       "    </tr>\n",
       "    <tr>\n",
       "      <th>4</th>\n",
       "      <td>4</td>\n",
       "      <td>21</td>\n",
       "      <td>singing in foreign language . the other day , ...</td>\n",
       "      <td>0.9730</td>\n",
       "      <td>10 years after haiti's earthquake, 'this music...</td>\n",
       "      <td>2019-09-22</td>\n",
       "      <td>melissa block</td>\n",
       "      <td>weekend edition sunday</td>\n",
       "    </tr>\n",
       "  </tbody>\n",
       "</table>\n",
       "</div>"
      ],
      "text/plain": [
       "   Unnamed: 0  story_id_num  \\\n",
       "0           0            17   \n",
       "1           1            18   \n",
       "2           2            19   \n",
       "3           3            20   \n",
       "4           4            21   \n",
       "\n",
       "                                          lemmatized   vader  \\\n",
       "0  he is in cahoot with a foreign government to m...  0.9964   \n",
       "1  come with concrete plan , not beautiful speech...  0.9993   \n",
       "2  if you stand outside the old dekalb county cou...  0.9974   \n",
       "3  you may have spotted pink salt in your superma...  0.4950   \n",
       "4  singing in foreign language . the other day , ...  0.9730   \n",
       "\n",
       "                                               title        date  \\\n",
       "0  n.j. democrat on reported whistleblower compla...  2019-09-22   \n",
       "1  ahead of climate summit, 2 views from cities i...  2019-09-22   \n",
       "2  barred from removing confederate monument, cou...  2019-09-22   \n",
       "3  pakistan's pink himalayan salt has become a ma...  2019-09-22   \n",
       "4  10 years after haiti's earthquake, 'this music...  2019-09-22   \n",
       "\n",
       "            host                 program  \n",
       "0  melissa block  weekend edition sunday  \n",
       "1  melissa block  weekend edition sunday  \n",
       "2  melissa block  weekend edition sunday  \n",
       "3  melissa block  weekend edition sunday  \n",
       "4  melissa block  weekend edition sunday  "
      ]
     },
     "execution_count": 20,
     "metadata": {},
     "output_type": "execute_result"
    }
   ],
   "source": [
    "stories = pd.read_csv('stories.csv')\n",
    "stories.head()"
   ]
  },
  {
   "cell_type": "code",
   "execution_count": 21,
   "id": "91333286",
   "metadata": {},
   "outputs": [],
   "source": [
    "stories = stories.drop(columns = ['Unnamed: 0'])"
   ]
  },
  {
   "cell_type": "code",
   "execution_count": 22,
   "id": "ec034411",
   "metadata": {
    "scrolled": true
   },
   "outputs": [
    {
     "data": {
      "text/plain": [
       "(61165, 7)"
      ]
     },
     "execution_count": 22,
     "metadata": {},
     "output_type": "execute_result"
    }
   ],
   "source": [
    "stories.shape"
   ]
  },
  {
   "cell_type": "code",
   "execution_count": 23,
   "id": "cd509f79",
   "metadata": {},
   "outputs": [],
   "source": [
    "# len(df.groupby(['story_id_num']).title.first())"
   ]
  },
  {
   "cell_type": "code",
   "execution_count": 24,
   "id": "9e30a1b0",
   "metadata": {},
   "outputs": [],
   "source": [
    "# stories['title'] = df.groupby(['story_id_num']).title.first().tolist()"
   ]
  },
  {
   "cell_type": "code",
   "execution_count": 25,
   "id": "6f17ac3e",
   "metadata": {
    "scrolled": false
   },
   "outputs": [
    {
     "data": {
      "text/html": [
       "<div>\n",
       "<style scoped>\n",
       "    .dataframe tbody tr th:only-of-type {\n",
       "        vertical-align: middle;\n",
       "    }\n",
       "\n",
       "    .dataframe tbody tr th {\n",
       "        vertical-align: top;\n",
       "    }\n",
       "\n",
       "    .dataframe thead th {\n",
       "        text-align: right;\n",
       "    }\n",
       "</style>\n",
       "<table border=\"1\" class=\"dataframe\">\n",
       "  <thead>\n",
       "    <tr style=\"text-align: right;\">\n",
       "      <th></th>\n",
       "      <th>story_id_num</th>\n",
       "      <th>lemmatized</th>\n",
       "      <th>vader</th>\n",
       "      <th>title</th>\n",
       "      <th>date</th>\n",
       "      <th>host</th>\n",
       "      <th>program</th>\n",
       "    </tr>\n",
       "  </thead>\n",
       "  <tbody>\n",
       "    <tr>\n",
       "      <th>0</th>\n",
       "      <td>17</td>\n",
       "      <td>he is in cahoot with a foreign government to m...</td>\n",
       "      <td>0.9964</td>\n",
       "      <td>n.j. democrat on reported whistleblower compla...</td>\n",
       "      <td>2019-09-22</td>\n",
       "      <td>melissa block</td>\n",
       "      <td>weekend edition sunday</td>\n",
       "    </tr>\n",
       "    <tr>\n",
       "      <th>1</th>\n",
       "      <td>18</td>\n",
       "      <td>come with concrete plan , not beautiful speech...</td>\n",
       "      <td>0.9993</td>\n",
       "      <td>ahead of climate summit, 2 views from cities i...</td>\n",
       "      <td>2019-09-22</td>\n",
       "      <td>melissa block</td>\n",
       "      <td>weekend edition sunday</td>\n",
       "    </tr>\n",
       "    <tr>\n",
       "      <th>2</th>\n",
       "      <td>19</td>\n",
       "      <td>if you stand outside the old dekalb county cou...</td>\n",
       "      <td>0.9974</td>\n",
       "      <td>barred from removing confederate monument, cou...</td>\n",
       "      <td>2019-09-22</td>\n",
       "      <td>melissa block</td>\n",
       "      <td>weekend edition sunday</td>\n",
       "    </tr>\n",
       "    <tr>\n",
       "      <th>3</th>\n",
       "      <td>20</td>\n",
       "      <td>you may have spotted pink salt in your superma...</td>\n",
       "      <td>0.4950</td>\n",
       "      <td>pakistan's pink himalayan salt has become a ma...</td>\n",
       "      <td>2019-09-22</td>\n",
       "      <td>melissa block</td>\n",
       "      <td>weekend edition sunday</td>\n",
       "    </tr>\n",
       "    <tr>\n",
       "      <th>4</th>\n",
       "      <td>21</td>\n",
       "      <td>singing in foreign language . the other day , ...</td>\n",
       "      <td>0.9730</td>\n",
       "      <td>10 years after haiti's earthquake, 'this music...</td>\n",
       "      <td>2019-09-22</td>\n",
       "      <td>melissa block</td>\n",
       "      <td>weekend edition sunday</td>\n",
       "    </tr>\n",
       "  </tbody>\n",
       "</table>\n",
       "</div>"
      ],
      "text/plain": [
       "   story_id_num                                         lemmatized   vader  \\\n",
       "0            17  he is in cahoot with a foreign government to m...  0.9964   \n",
       "1            18  come with concrete plan , not beautiful speech...  0.9993   \n",
       "2            19  if you stand outside the old dekalb county cou...  0.9974   \n",
       "3            20  you may have spotted pink salt in your superma...  0.4950   \n",
       "4            21  singing in foreign language . the other day , ...  0.9730   \n",
       "\n",
       "                                               title        date  \\\n",
       "0  n.j. democrat on reported whistleblower compla...  2019-09-22   \n",
       "1  ahead of climate summit, 2 views from cities i...  2019-09-22   \n",
       "2  barred from removing confederate monument, cou...  2019-09-22   \n",
       "3  pakistan's pink himalayan salt has become a ma...  2019-09-22   \n",
       "4  10 years after haiti's earthquake, 'this music...  2019-09-22   \n",
       "\n",
       "            host                 program  \n",
       "0  melissa block  weekend edition sunday  \n",
       "1  melissa block  weekend edition sunday  \n",
       "2  melissa block  weekend edition sunday  \n",
       "3  melissa block  weekend edition sunday  \n",
       "4  melissa block  weekend edition sunday  "
      ]
     },
     "execution_count": 25,
     "metadata": {},
     "output_type": "execute_result"
    }
   ],
   "source": [
    "stories.head()"
   ]
  },
  {
   "cell_type": "code",
   "execution_count": 26,
   "id": "3fff5378",
   "metadata": {},
   "outputs": [],
   "source": [
    "# stories['host'] = test[test.is_host==True].groupby('story_id_num').speaker.first().tolist()"
   ]
  },
  {
   "cell_type": "code",
   "execution_count": 27,
   "id": "2238e753",
   "metadata": {},
   "outputs": [],
   "source": [
    "# test = df.sort_values(by=['story_id_num'])"
   ]
  },
  {
   "cell_type": "code",
   "execution_count": 28,
   "id": "4f38e3ec",
   "metadata": {
    "scrolled": true
   },
   "outputs": [],
   "source": [
    "# test[test.is_host==True].groupby('story_id_num').speaker.first()"
   ]
  },
  {
   "cell_type": "code",
   "execution_count": 29,
   "id": "186d7d0d",
   "metadata": {},
   "outputs": [],
   "source": [
    "# df.head()"
   ]
  },
  {
   "cell_type": "code",
   "execution_count": 30,
   "id": "42141993",
   "metadata": {},
   "outputs": [],
   "source": [
    "# stories['program'] = df.groupby(['story_id_num']).program.first().tolist()"
   ]
  },
  {
   "cell_type": "code",
   "execution_count": 31,
   "id": "8402214b",
   "metadata": {},
   "outputs": [
    {
     "data": {
      "text/html": [
       "<div>\n",
       "<style scoped>\n",
       "    .dataframe tbody tr th:only-of-type {\n",
       "        vertical-align: middle;\n",
       "    }\n",
       "\n",
       "    .dataframe tbody tr th {\n",
       "        vertical-align: top;\n",
       "    }\n",
       "\n",
       "    .dataframe thead th {\n",
       "        text-align: right;\n",
       "    }\n",
       "</style>\n",
       "<table border=\"1\" class=\"dataframe\">\n",
       "  <thead>\n",
       "    <tr style=\"text-align: right;\">\n",
       "      <th></th>\n",
       "      <th>story_id_num</th>\n",
       "      <th>lemmatized</th>\n",
       "      <th>vader</th>\n",
       "      <th>title</th>\n",
       "      <th>date</th>\n",
       "      <th>host</th>\n",
       "      <th>program</th>\n",
       "    </tr>\n",
       "  </thead>\n",
       "  <tbody>\n",
       "    <tr>\n",
       "      <th>0</th>\n",
       "      <td>17</td>\n",
       "      <td>he is in cahoot with a foreign government to m...</td>\n",
       "      <td>0.9964</td>\n",
       "      <td>n.j. democrat on reported whistleblower compla...</td>\n",
       "      <td>2019-09-22</td>\n",
       "      <td>melissa block</td>\n",
       "      <td>weekend edition sunday</td>\n",
       "    </tr>\n",
       "    <tr>\n",
       "      <th>1</th>\n",
       "      <td>18</td>\n",
       "      <td>come with concrete plan , not beautiful speech...</td>\n",
       "      <td>0.9993</td>\n",
       "      <td>ahead of climate summit, 2 views from cities i...</td>\n",
       "      <td>2019-09-22</td>\n",
       "      <td>melissa block</td>\n",
       "      <td>weekend edition sunday</td>\n",
       "    </tr>\n",
       "    <tr>\n",
       "      <th>2</th>\n",
       "      <td>19</td>\n",
       "      <td>if you stand outside the old dekalb county cou...</td>\n",
       "      <td>0.9974</td>\n",
       "      <td>barred from removing confederate monument, cou...</td>\n",
       "      <td>2019-09-22</td>\n",
       "      <td>melissa block</td>\n",
       "      <td>weekend edition sunday</td>\n",
       "    </tr>\n",
       "    <tr>\n",
       "      <th>3</th>\n",
       "      <td>20</td>\n",
       "      <td>you may have spotted pink salt in your superma...</td>\n",
       "      <td>0.4950</td>\n",
       "      <td>pakistan's pink himalayan salt has become a ma...</td>\n",
       "      <td>2019-09-22</td>\n",
       "      <td>melissa block</td>\n",
       "      <td>weekend edition sunday</td>\n",
       "    </tr>\n",
       "    <tr>\n",
       "      <th>4</th>\n",
       "      <td>21</td>\n",
       "      <td>singing in foreign language . the other day , ...</td>\n",
       "      <td>0.9730</td>\n",
       "      <td>10 years after haiti's earthquake, 'this music...</td>\n",
       "      <td>2019-09-22</td>\n",
       "      <td>melissa block</td>\n",
       "      <td>weekend edition sunday</td>\n",
       "    </tr>\n",
       "  </tbody>\n",
       "</table>\n",
       "</div>"
      ],
      "text/plain": [
       "   story_id_num                                         lemmatized   vader  \\\n",
       "0            17  he is in cahoot with a foreign government to m...  0.9964   \n",
       "1            18  come with concrete plan , not beautiful speech...  0.9993   \n",
       "2            19  if you stand outside the old dekalb county cou...  0.9974   \n",
       "3            20  you may have spotted pink salt in your superma...  0.4950   \n",
       "4            21  singing in foreign language . the other day , ...  0.9730   \n",
       "\n",
       "                                               title        date  \\\n",
       "0  n.j. democrat on reported whistleblower compla...  2019-09-22   \n",
       "1  ahead of climate summit, 2 views from cities i...  2019-09-22   \n",
       "2  barred from removing confederate monument, cou...  2019-09-22   \n",
       "3  pakistan's pink himalayan salt has become a ma...  2019-09-22   \n",
       "4  10 years after haiti's earthquake, 'this music...  2019-09-22   \n",
       "\n",
       "            host                 program  \n",
       "0  melissa block  weekend edition sunday  \n",
       "1  melissa block  weekend edition sunday  \n",
       "2  melissa block  weekend edition sunday  \n",
       "3  melissa block  weekend edition sunday  \n",
       "4  melissa block  weekend edition sunday  "
      ]
     },
     "execution_count": 31,
     "metadata": {},
     "output_type": "execute_result"
    }
   ],
   "source": [
    "stories.head()"
   ]
  },
  {
   "cell_type": "code",
   "execution_count": 32,
   "id": "4226f1d0",
   "metadata": {},
   "outputs": [],
   "source": [
    "# stories.to_csv('stories.csv')"
   ]
  },
  {
   "cell_type": "code",
   "execution_count": 33,
   "id": "3c03b052",
   "metadata": {},
   "outputs": [
    {
     "data": {
      "text/plain": [
       "39"
      ]
     },
     "execution_count": 33,
     "metadata": {},
     "output_type": "execute_result"
    }
   ],
   "source": [
    "stories.vader.idxmax()"
   ]
  },
  {
   "cell_type": "code",
   "execution_count": 34,
   "id": "e5419d0a",
   "metadata": {},
   "outputs": [],
   "source": [
    "# stories.lemmatized[39]"
   ]
  },
  {
   "cell_type": "code",
   "execution_count": 65,
   "id": "83fbf7b6",
   "metadata": {},
   "outputs": [
    {
     "data": {
      "text/plain": [
       "array(['melissa block', 'renee montagne', 'neal conan', 'ira flatow',\n",
       "       'scott simon', 'rachel martin', 'david greene', 'steve inskeep',\n",
       "       'noel king', 'mike pesca', 'farai chideya', 'tony cox',\n",
       "       'michele norris', 'karen grigsby bates', 'flora lichtman',\n",
       "       'audie cornish', 'robert smith', 'guy raz', 'jennifer ludden',\n",
       "       'gwen thompkins', 'wade goodwyn', 'cory turner', 'tom goldman',\n",
       "       'cheryl corley', 'deborah amos', 'joe palca', 'michel martin',\n",
       "       'jackie northam', 'd', 'laura sullivan', 'ed gordon',\n",
       "       'brian naylor', 'don gonyea', 'susan stamberg', 'adam davidson',\n",
       "       'robert siegel', 'carrie kahn', 'ailsa chang', 'tamara keith',\n",
       "       'richard gonzales', 'andrea seabrook', 'mary louise kelly',\n",
       "       'lynn neary', 'ari shapiro', 'howard berkes', 'john ydstie',\n",
       "       'eric westervelt', 'kelly mcevers', 'debbie elliott',\n",
       "       'jacki lyden', 'linda wertheimer', 'daniel zwerdling',\n",
       "       'lauren frayer', 'liane hansen', 'arun rath', 'kenneth turan',\n",
       "       'alan cheuse', 'rebecca roberts', 'allison aubrey', 'alex cohen',\n",
       "       'noah adams', 'sacha pfeiffer', 'anthony brooks',\n",
       "       'madeleine brand', 'sarah mccammon', 'scott detrow',\n",
       "       'celeste headlee', 'shereen marisol meraji', 'nathan rott',\n",
       "       'steven inskeep', 'debbie elliot', 'raz', 'madeline brand',\n",
       "       'luke burbank', 'rene montagne', 'michel norris',\n",
       "       'michelle norris', 'robert seigel', 'john dankosky'], dtype=object)"
      ]
     },
     "execution_count": 65,
     "metadata": {},
     "output_type": "execute_result"
    }
   ],
   "source": [
    "stories.host.unique()"
   ]
  },
  {
   "cell_type": "code",
   "execution_count": 66,
   "id": "e03754f6",
   "metadata": {},
   "outputs": [
    {
     "data": {
      "text/plain": [
       "0.7487945063103195"
      ]
     },
     "execution_count": 66,
     "metadata": {},
     "output_type": "execute_result"
    }
   ],
   "source": [
    "stories[stories.host == 'farai chideya'].vader.mean()"
   ]
  },
  {
   "cell_type": "code",
   "execution_count": 35,
   "id": "fc8800b4",
   "metadata": {},
   "outputs": [
    {
     "data": {
      "text/plain": [
       "0.5567598698481574"
      ]
     },
     "execution_count": 35,
     "metadata": {},
     "output_type": "execute_result"
    }
   ],
   "source": [
    "stories[stories.host == 'rachel martin'].vader.mean()"
   ]
  },
  {
   "cell_type": "code",
   "execution_count": 36,
   "id": "efa5603c",
   "metadata": {},
   "outputs": [
    {
     "data": {
      "text/plain": [
       "0.5210016202076574"
      ]
     },
     "execution_count": 36,
     "metadata": {},
     "output_type": "execute_result"
    }
   ],
   "source": [
    "stories.vader.mean()"
   ]
  },
  {
   "cell_type": "code",
   "execution_count": 37,
   "id": "b8b46417",
   "metadata": {},
   "outputs": [
    {
     "data": {
      "text/plain": [
       "'so hard to say goodbye: advice for farewell notes'"
      ]
     },
     "execution_count": 37,
     "metadata": {},
     "output_type": "execute_result"
    }
   ],
   "source": [
    "stories.title[39]"
   ]
  },
  {
   "cell_type": "markdown",
   "id": "351725d9",
   "metadata": {},
   "source": [
    "The first highest-sentiment article is about hallmark greeting cards"
   ]
  },
  {
   "cell_type": "code",
   "execution_count": 38,
   "id": "86afecb8",
   "metadata": {},
   "outputs": [
    {
     "data": {
      "text/html": [
       "<div>\n",
       "<style scoped>\n",
       "    .dataframe tbody tr th:only-of-type {\n",
       "        vertical-align: middle;\n",
       "    }\n",
       "\n",
       "    .dataframe tbody tr th {\n",
       "        vertical-align: top;\n",
       "    }\n",
       "\n",
       "    .dataframe thead th {\n",
       "        text-align: right;\n",
       "    }\n",
       "</style>\n",
       "<table border=\"1\" class=\"dataframe\">\n",
       "  <thead>\n",
       "    <tr style=\"text-align: right;\">\n",
       "      <th></th>\n",
       "      <th>story_id_num</th>\n",
       "      <th>lemmatized</th>\n",
       "      <th>vader</th>\n",
       "      <th>title</th>\n",
       "      <th>date</th>\n",
       "      <th>host</th>\n",
       "      <th>program</th>\n",
       "    </tr>\n",
       "  </thead>\n",
       "  <tbody>\n",
       "    <tr>\n",
       "      <th>39</th>\n",
       "      <td>620</td>\n",
       "      <td>looking ahead to our last day , many of our fr...</td>\n",
       "      <td>1.0</td>\n",
       "      <td>so hard to say goodbye: advice for farewell notes</td>\n",
       "      <td>2013-06-27</td>\n",
       "      <td>neal conan</td>\n",
       "      <td>talk of the nation</td>\n",
       "    </tr>\n",
       "    <tr>\n",
       "      <th>42</th>\n",
       "      <td>623</td>\n",
       "      <td>this is talk of the nation. i m neal conan , i...</td>\n",
       "      <td>1.0</td>\n",
       "      <td>a look ahead and a farewell to the political j...</td>\n",
       "      <td>2013-06-26</td>\n",
       "      <td>neal conan</td>\n",
       "      <td>talk of the nation</td>\n",
       "    </tr>\n",
       "    <tr>\n",
       "      <th>43</th>\n",
       "      <td>624</td>\n",
       "      <td>this is talk of the nation. i m neal conan , i...</td>\n",
       "      <td>1.0</td>\n",
       "      <td>what changes after supreme court rulings on pr...</td>\n",
       "      <td>2013-06-26</td>\n",
       "      <td>neal conan</td>\n",
       "      <td>talk of the nation</td>\n",
       "    </tr>\n",
       "    <tr>\n",
       "      <th>44</th>\n",
       "      <td>625</td>\n",
       "      <td>from small country church , to the stage of th...</td>\n",
       "      <td>1.0</td>\n",
       "      <td>gospel legend mavis staples comes 'full circle'</td>\n",
       "      <td>2013-06-26</td>\n",
       "      <td>neal conan</td>\n",
       "      <td>talk of the nation</td>\n",
       "    </tr>\n",
       "    <tr>\n",
       "      <th>141</th>\n",
       "      <td>898</td>\n",
       "      <td>this is talk of the nation. i m neal conan in ...</td>\n",
       "      <td>1.0</td>\n",
       "      <td>'blood &amp;amp; beauty' breathes new life into th...</td>\n",
       "      <td>2013-06-20</td>\n",
       "      <td>neal conan</td>\n",
       "      <td>talk of the nation</td>\n",
       "    </tr>\n",
       "    <tr>\n",
       "      <th>...</th>\n",
       "      <td>...</td>\n",
       "      <td>...</td>\n",
       "      <td>...</td>\n",
       "      <td>...</td>\n",
       "      <td>...</td>\n",
       "      <td>...</td>\n",
       "      <td>...</td>\n",
       "    </tr>\n",
       "    <tr>\n",
       "      <th>23796</th>\n",
       "      <td>84430</td>\n",
       "      <td>this is talk of the nation. i m neal conan in ...</td>\n",
       "      <td>1.0</td>\n",
       "      <td>state legislatures: agendas and budgets</td>\n",
       "      <td>2005-01-11</td>\n",
       "      <td>neal conan</td>\n",
       "      <td>talk of the nation</td>\n",
       "    </tr>\n",
       "    <tr>\n",
       "      <th>23995</th>\n",
       "      <td>84850</td>\n",
       "      <td>time now for a story that is decidedly not a n...</td>\n",
       "      <td>1.0</td>\n",
       "      <td>encore: an elf questions santa's naughty or ni...</td>\n",
       "      <td>2016-12-23</td>\n",
       "      <td>ari shapiro</td>\n",
       "      <td>all things considered</td>\n",
       "    </tr>\n",
       "    <tr>\n",
       "      <th>27366</th>\n",
       "      <td>90916</td>\n",
       "      <td>the political campaign are taking a break. the...</td>\n",
       "      <td>1.0</td>\n",
       "      <td>santa for president in 2016</td>\n",
       "      <td>2015-12-25</td>\n",
       "      <td>robert siegel</td>\n",
       "      <td>all things considered</td>\n",
       "    </tr>\n",
       "    <tr>\n",
       "      <th>30850</th>\n",
       "      <td>96419</td>\n",
       "      <td>now we re going to take a break from news , fr...</td>\n",
       "      <td>1.0</td>\n",
       "      <td>listen: the not-so-true story of santa's naugh...</td>\n",
       "      <td>2014-12-25</td>\n",
       "      <td>robert siegel</td>\n",
       "      <td>all things considered</td>\n",
       "    </tr>\n",
       "    <tr>\n",
       "      <th>61123</th>\n",
       "      <td>140684</td>\n",
       "      <td>from npr news , this is all thing considered. ...</td>\n",
       "      <td>1.0</td>\n",
       "      <td>dear birth mother: a story of 'transracial ado...</td>\n",
       "      <td>2005-05-09</td>\n",
       "      <td>robert siegel</td>\n",
       "      <td>all things considered</td>\n",
       "    </tr>\n",
       "  </tbody>\n",
       "</table>\n",
       "<p>1345 rows × 7 columns</p>\n",
       "</div>"
      ],
      "text/plain": [
       "       story_id_num                                         lemmatized  vader  \\\n",
       "39              620  looking ahead to our last day , many of our fr...    1.0   \n",
       "42              623  this is talk of the nation. i m neal conan , i...    1.0   \n",
       "43              624  this is talk of the nation. i m neal conan , i...    1.0   \n",
       "44              625  from small country church , to the stage of th...    1.0   \n",
       "141             898  this is talk of the nation. i m neal conan in ...    1.0   \n",
       "...             ...                                                ...    ...   \n",
       "23796         84430  this is talk of the nation. i m neal conan in ...    1.0   \n",
       "23995         84850  time now for a story that is decidedly not a n...    1.0   \n",
       "27366         90916  the political campaign are taking a break. the...    1.0   \n",
       "30850         96419  now we re going to take a break from news , fr...    1.0   \n",
       "61123        140684  from npr news , this is all thing considered. ...    1.0   \n",
       "\n",
       "                                                   title        date  \\\n",
       "39     so hard to say goodbye: advice for farewell notes  2013-06-27   \n",
       "42     a look ahead and a farewell to the political j...  2013-06-26   \n",
       "43     what changes after supreme court rulings on pr...  2013-06-26   \n",
       "44       gospel legend mavis staples comes 'full circle'  2013-06-26   \n",
       "141    'blood &amp; beauty' breathes new life into th...  2013-06-20   \n",
       "...                                                  ...         ...   \n",
       "23796            state legislatures: agendas and budgets  2005-01-11   \n",
       "23995  encore: an elf questions santa's naughty or ni...  2016-12-23   \n",
       "27366                        santa for president in 2016  2015-12-25   \n",
       "30850  listen: the not-so-true story of santa's naugh...  2014-12-25   \n",
       "61123  dear birth mother: a story of 'transracial ado...  2005-05-09   \n",
       "\n",
       "                host                program  \n",
       "39        neal conan     talk of the nation  \n",
       "42        neal conan     talk of the nation  \n",
       "43        neal conan     talk of the nation  \n",
       "44        neal conan     talk of the nation  \n",
       "141       neal conan     talk of the nation  \n",
       "...              ...                    ...  \n",
       "23796     neal conan     talk of the nation  \n",
       "23995    ari shapiro  all things considered  \n",
       "27366  robert siegel  all things considered  \n",
       "30850  robert siegel  all things considered  \n",
       "61123  robert siegel  all things considered  \n",
       "\n",
       "[1345 rows x 7 columns]"
      ]
     },
     "execution_count": 38,
     "metadata": {},
     "output_type": "execute_result"
    }
   ],
   "source": [
    "stories[stories.vader == 1]"
   ]
  },
  {
   "cell_type": "markdown",
   "id": "ed32a08b",
   "metadata": {},
   "source": [
    "- Actually...there are 1345 stories with a max vader score"
   ]
  },
  {
   "cell_type": "code",
   "execution_count": 39,
   "id": "c2ddf210",
   "metadata": {},
   "outputs": [
    {
     "data": {
      "text/html": [
       "<div>\n",
       "<style scoped>\n",
       "    .dataframe tbody tr th:only-of-type {\n",
       "        vertical-align: middle;\n",
       "    }\n",
       "\n",
       "    .dataframe tbody tr th {\n",
       "        vertical-align: top;\n",
       "    }\n",
       "\n",
       "    .dataframe thead th {\n",
       "        text-align: right;\n",
       "    }\n",
       "</style>\n",
       "<table border=\"1\" class=\"dataframe\">\n",
       "  <thead>\n",
       "    <tr style=\"text-align: right;\">\n",
       "      <th></th>\n",
       "      <th>story_id_num</th>\n",
       "      <th>lemmatized</th>\n",
       "      <th>vader</th>\n",
       "      <th>title</th>\n",
       "      <th>date</th>\n",
       "      <th>host</th>\n",
       "      <th>program</th>\n",
       "    </tr>\n",
       "  </thead>\n",
       "  <tbody>\n",
       "    <tr>\n",
       "      <th>39</th>\n",
       "      <td>620</td>\n",
       "      <td>looking ahead to our last day , many of our fr...</td>\n",
       "      <td>1.0</td>\n",
       "      <td>so hard to say goodbye: advice for farewell notes</td>\n",
       "      <td>2013-06-27</td>\n",
       "      <td>neal conan</td>\n",
       "      <td>talk of the nation</td>\n",
       "    </tr>\n",
       "    <tr>\n",
       "      <th>42</th>\n",
       "      <td>623</td>\n",
       "      <td>this is talk of the nation. i m neal conan , i...</td>\n",
       "      <td>1.0</td>\n",
       "      <td>a look ahead and a farewell to the political j...</td>\n",
       "      <td>2013-06-26</td>\n",
       "      <td>neal conan</td>\n",
       "      <td>talk of the nation</td>\n",
       "    </tr>\n",
       "    <tr>\n",
       "      <th>43</th>\n",
       "      <td>624</td>\n",
       "      <td>this is talk of the nation. i m neal conan , i...</td>\n",
       "      <td>1.0</td>\n",
       "      <td>what changes after supreme court rulings on pr...</td>\n",
       "      <td>2013-06-26</td>\n",
       "      <td>neal conan</td>\n",
       "      <td>talk of the nation</td>\n",
       "    </tr>\n",
       "    <tr>\n",
       "      <th>44</th>\n",
       "      <td>625</td>\n",
       "      <td>from small country church , to the stage of th...</td>\n",
       "      <td>1.0</td>\n",
       "      <td>gospel legend mavis staples comes 'full circle'</td>\n",
       "      <td>2013-06-26</td>\n",
       "      <td>neal conan</td>\n",
       "      <td>talk of the nation</td>\n",
       "    </tr>\n",
       "    <tr>\n",
       "      <th>141</th>\n",
       "      <td>898</td>\n",
       "      <td>this is talk of the nation. i m neal conan in ...</td>\n",
       "      <td>1.0</td>\n",
       "      <td>'blood &amp;amp; beauty' breathes new life into th...</td>\n",
       "      <td>2013-06-20</td>\n",
       "      <td>neal conan</td>\n",
       "      <td>talk of the nation</td>\n",
       "    </tr>\n",
       "    <tr>\n",
       "      <th>...</th>\n",
       "      <td>...</td>\n",
       "      <td>...</td>\n",
       "      <td>...</td>\n",
       "      <td>...</td>\n",
       "      <td>...</td>\n",
       "      <td>...</td>\n",
       "      <td>...</td>\n",
       "    </tr>\n",
       "    <tr>\n",
       "      <th>23796</th>\n",
       "      <td>84430</td>\n",
       "      <td>this is talk of the nation. i m neal conan in ...</td>\n",
       "      <td>1.0</td>\n",
       "      <td>state legislatures: agendas and budgets</td>\n",
       "      <td>2005-01-11</td>\n",
       "      <td>neal conan</td>\n",
       "      <td>talk of the nation</td>\n",
       "    </tr>\n",
       "    <tr>\n",
       "      <th>23995</th>\n",
       "      <td>84850</td>\n",
       "      <td>time now for a story that is decidedly not a n...</td>\n",
       "      <td>1.0</td>\n",
       "      <td>encore: an elf questions santa's naughty or ni...</td>\n",
       "      <td>2016-12-23</td>\n",
       "      <td>ari shapiro</td>\n",
       "      <td>all things considered</td>\n",
       "    </tr>\n",
       "    <tr>\n",
       "      <th>27366</th>\n",
       "      <td>90916</td>\n",
       "      <td>the political campaign are taking a break. the...</td>\n",
       "      <td>1.0</td>\n",
       "      <td>santa for president in 2016</td>\n",
       "      <td>2015-12-25</td>\n",
       "      <td>robert siegel</td>\n",
       "      <td>all things considered</td>\n",
       "    </tr>\n",
       "    <tr>\n",
       "      <th>30850</th>\n",
       "      <td>96419</td>\n",
       "      <td>now we re going to take a break from news , fr...</td>\n",
       "      <td>1.0</td>\n",
       "      <td>listen: the not-so-true story of santa's naugh...</td>\n",
       "      <td>2014-12-25</td>\n",
       "      <td>robert siegel</td>\n",
       "      <td>all things considered</td>\n",
       "    </tr>\n",
       "    <tr>\n",
       "      <th>61123</th>\n",
       "      <td>140684</td>\n",
       "      <td>from npr news , this is all thing considered. ...</td>\n",
       "      <td>1.0</td>\n",
       "      <td>dear birth mother: a story of 'transracial ado...</td>\n",
       "      <td>2005-05-09</td>\n",
       "      <td>robert siegel</td>\n",
       "      <td>all things considered</td>\n",
       "    </tr>\n",
       "  </tbody>\n",
       "</table>\n",
       "<p>1345 rows × 7 columns</p>\n",
       "</div>"
      ],
      "text/plain": [
       "       story_id_num                                         lemmatized  vader  \\\n",
       "39              620  looking ahead to our last day , many of our fr...    1.0   \n",
       "42              623  this is talk of the nation. i m neal conan , i...    1.0   \n",
       "43              624  this is talk of the nation. i m neal conan , i...    1.0   \n",
       "44              625  from small country church , to the stage of th...    1.0   \n",
       "141             898  this is talk of the nation. i m neal conan in ...    1.0   \n",
       "...             ...                                                ...    ...   \n",
       "23796         84430  this is talk of the nation. i m neal conan in ...    1.0   \n",
       "23995         84850  time now for a story that is decidedly not a n...    1.0   \n",
       "27366         90916  the political campaign are taking a break. the...    1.0   \n",
       "30850         96419  now we re going to take a break from news , fr...    1.0   \n",
       "61123        140684  from npr news , this is all thing considered. ...    1.0   \n",
       "\n",
       "                                                   title        date  \\\n",
       "39     so hard to say goodbye: advice for farewell notes  2013-06-27   \n",
       "42     a look ahead and a farewell to the political j...  2013-06-26   \n",
       "43     what changes after supreme court rulings on pr...  2013-06-26   \n",
       "44       gospel legend mavis staples comes 'full circle'  2013-06-26   \n",
       "141    'blood &amp; beauty' breathes new life into th...  2013-06-20   \n",
       "...                                                  ...         ...   \n",
       "23796            state legislatures: agendas and budgets  2005-01-11   \n",
       "23995  encore: an elf questions santa's naughty or ni...  2016-12-23   \n",
       "27366                        santa for president in 2016  2015-12-25   \n",
       "30850  listen: the not-so-true story of santa's naugh...  2014-12-25   \n",
       "61123  dear birth mother: a story of 'transracial ado...  2005-05-09   \n",
       "\n",
       "                host                program  \n",
       "39        neal conan     talk of the nation  \n",
       "42        neal conan     talk of the nation  \n",
       "43        neal conan     talk of the nation  \n",
       "44        neal conan     talk of the nation  \n",
       "141       neal conan     talk of the nation  \n",
       "...              ...                    ...  \n",
       "23796     neal conan     talk of the nation  \n",
       "23995    ari shapiro  all things considered  \n",
       "27366  robert siegel  all things considered  \n",
       "30850  robert siegel  all things considered  \n",
       "61123  robert siegel  all things considered  \n",
       "\n",
       "[1345 rows x 7 columns]"
      ]
     },
     "execution_count": 39,
     "metadata": {},
     "output_type": "execute_result"
    }
   ],
   "source": [
    "brightest_stories = stories[stories.vader == 1]\n",
    "brightest_stories"
   ]
  },
  {
   "cell_type": "code",
   "execution_count": 40,
   "id": "4dce7f9e",
   "metadata": {},
   "outputs": [
    {
     "data": {
      "text/plain": [
       "['author explains mysteries of music and the mind',\n",
       " 'poets tell the stories of their countries',\n",
       " \"what's your major, and does it matter?\",\n",
       " 'how campaign finance ruling changes politics',\n",
       " 'blogging for beginners',\n",
       " \"the political junkie's vp debate preview\",\n",
       " 'steroids in baseball: why do we care?',\n",
       " 'what do you want from your bank?',\n",
       " \"'ask amy' memoir: the women behind the advice\",\n",
       " \"it takes guts to be 'the world's greatest stuntman'\"]"
      ]
     },
     "execution_count": 40,
     "metadata": {},
     "output_type": "execute_result"
    }
   ],
   "source": [
    "brightest_stories.title.sample(10).to_list()"
   ]
  },
  {
   "cell_type": "code",
   "execution_count": 41,
   "id": "84889a94",
   "metadata": {},
   "outputs": [
    {
     "data": {
      "text/html": [
       "<div>\n",
       "<style scoped>\n",
       "    .dataframe tbody tr th:only-of-type {\n",
       "        vertical-align: middle;\n",
       "    }\n",
       "\n",
       "    .dataframe tbody tr th {\n",
       "        vertical-align: top;\n",
       "    }\n",
       "\n",
       "    .dataframe thead th {\n",
       "        text-align: right;\n",
       "    }\n",
       "</style>\n",
       "<table border=\"1\" class=\"dataframe\">\n",
       "  <thead>\n",
       "    <tr style=\"text-align: right;\">\n",
       "      <th></th>\n",
       "      <th>story_id_num</th>\n",
       "      <th>lemmatized</th>\n",
       "      <th>vader</th>\n",
       "      <th>title</th>\n",
       "      <th>date</th>\n",
       "      <th>host</th>\n",
       "      <th>program</th>\n",
       "    </tr>\n",
       "  </thead>\n",
       "  <tbody>\n",
       "    <tr>\n",
       "      <th>749</th>\n",
       "      <td>2749</td>\n",
       "      <td>this is talk of the nation. i m neal conan in ...</td>\n",
       "      <td>-1.0</td>\n",
       "      <td>the epidemiology of gun violence: race, region...</td>\n",
       "      <td>2013-03-26</td>\n",
       "      <td>neal conan</td>\n",
       "      <td>talk of the nation</td>\n",
       "    </tr>\n",
       "    <tr>\n",
       "      <th>5731</th>\n",
       "      <td>19881</td>\n",
       "      <td>this is talk of the nation. i m neal conan in ...</td>\n",
       "      <td>-1.0</td>\n",
       "      <td>how do you define a hate crime?</td>\n",
       "      <td>2012-03-19</td>\n",
       "      <td>neal conan</td>\n",
       "      <td>talk of the nation</td>\n",
       "    </tr>\n",
       "    <tr>\n",
       "      <th>10730</th>\n",
       "      <td>55411</td>\n",
       "      <td>this is talk of the nation. i m neal conan , i...</td>\n",
       "      <td>-1.0</td>\n",
       "      <td>understanding suicide terrorism and how to sto...</td>\n",
       "      <td>2010-10-11</td>\n",
       "      <td>neal conan</td>\n",
       "      <td>talk of the nation</td>\n",
       "    </tr>\n",
       "    <tr>\n",
       "      <th>11827</th>\n",
       "      <td>58454</td>\n",
       "      <td>this is talk of the nation. im neal conan in w...</td>\n",
       "      <td>-1.0</td>\n",
       "      <td>deconstructing 'myths about suicide'</td>\n",
       "      <td>2010-04-28</td>\n",
       "      <td>neal conan</td>\n",
       "      <td>talk of the nation</td>\n",
       "    </tr>\n",
       "    <tr>\n",
       "      <th>15177</th>\n",
       "      <td>66409</td>\n",
       "      <td>this is talk of the nation. i m neal conan in ...</td>\n",
       "      <td>-1.0</td>\n",
       "      <td>the legacy of bush's 'war on terror'</td>\n",
       "      <td>2009-01-12</td>\n",
       "      <td>neal conan</td>\n",
       "      <td>talk of the nation</td>\n",
       "    </tr>\n",
       "    <tr>\n",
       "      <th>17237</th>\n",
       "      <td>71520</td>\n",
       "      <td>this is talk of the nation. i m neal conan in ...</td>\n",
       "      <td>-1.0</td>\n",
       "      <td>who carries out suicide bombings?</td>\n",
       "      <td>2008-01-22</td>\n",
       "      <td>neal conan</td>\n",
       "      <td>talk of the nation</td>\n",
       "    </tr>\n",
       "    <tr>\n",
       "      <th>18838</th>\n",
       "      <td>75087</td>\n",
       "      <td>this is talk of the nation. i m neal conan in ...</td>\n",
       "      <td>-1.0</td>\n",
       "      <td>how do we define terrorism?</td>\n",
       "      <td>2007-06-04</td>\n",
       "      <td>neal conan</td>\n",
       "      <td>talk of the nation</td>\n",
       "    </tr>\n",
       "    <tr>\n",
       "      <th>21189</th>\n",
       "      <td>79688</td>\n",
       "      <td>this is talk of the nation. i m neal conan , i...</td>\n",
       "      <td>-1.0</td>\n",
       "      <td>should the guantanamo prison be closed?</td>\n",
       "      <td>2006-05-23</td>\n",
       "      <td>neal conan</td>\n",
       "      <td>talk of the nation</td>\n",
       "    </tr>\n",
       "    <tr>\n",
       "      <th>21287</th>\n",
       "      <td>79858</td>\n",
       "      <td>from npr news in washington , dc , i m neal co...</td>\n",
       "      <td>-1.0</td>\n",
       "      <td>'war of nerves': a history of chemical weapons</td>\n",
       "      <td>2006-05-08</td>\n",
       "      <td>neal conan</td>\n",
       "      <td>talk of the nation</td>\n",
       "    </tr>\n",
       "  </tbody>\n",
       "</table>\n",
       "</div>"
      ],
      "text/plain": [
       "       story_id_num                                         lemmatized  vader  \\\n",
       "749            2749  this is talk of the nation. i m neal conan in ...   -1.0   \n",
       "5731          19881  this is talk of the nation. i m neal conan in ...   -1.0   \n",
       "10730         55411  this is talk of the nation. i m neal conan , i...   -1.0   \n",
       "11827         58454  this is talk of the nation. im neal conan in w...   -1.0   \n",
       "15177         66409  this is talk of the nation. i m neal conan in ...   -1.0   \n",
       "17237         71520  this is talk of the nation. i m neal conan in ...   -1.0   \n",
       "18838         75087  this is talk of the nation. i m neal conan in ...   -1.0   \n",
       "21189         79688  this is talk of the nation. i m neal conan , i...   -1.0   \n",
       "21287         79858  from npr news in washington , dc , i m neal co...   -1.0   \n",
       "\n",
       "                                                   title        date  \\\n",
       "749    the epidemiology of gun violence: race, region...  2013-03-26   \n",
       "5731                     how do you define a hate crime?  2012-03-19   \n",
       "10730  understanding suicide terrorism and how to sto...  2010-10-11   \n",
       "11827               deconstructing 'myths about suicide'  2010-04-28   \n",
       "15177               the legacy of bush's 'war on terror'  2009-01-12   \n",
       "17237                  who carries out suicide bombings?  2008-01-22   \n",
       "18838                        how do we define terrorism?  2007-06-04   \n",
       "21189            should the guantanamo prison be closed?  2006-05-23   \n",
       "21287     'war of nerves': a history of chemical weapons  2006-05-08   \n",
       "\n",
       "             host             program  \n",
       "749    neal conan  talk of the nation  \n",
       "5731   neal conan  talk of the nation  \n",
       "10730  neal conan  talk of the nation  \n",
       "11827  neal conan  talk of the nation  \n",
       "15177  neal conan  talk of the nation  \n",
       "17237  neal conan  talk of the nation  \n",
       "18838  neal conan  talk of the nation  \n",
       "21189  neal conan  talk of the nation  \n",
       "21287  neal conan  talk of the nation  "
      ]
     },
     "execution_count": 41,
     "metadata": {},
     "output_type": "execute_result"
    }
   ],
   "source": [
    "stories[stories.vader == -1]"
   ]
  },
  {
   "cell_type": "markdown",
   "id": "263c537b",
   "metadata": {},
   "source": [
    "- But only 9 stories with the lowest vader score, including..."
   ]
  },
  {
   "cell_type": "code",
   "execution_count": 42,
   "id": "baf086de",
   "metadata": {},
   "outputs": [],
   "source": [
    "# stories.lemmatized[749]"
   ]
  },
  {
   "cell_type": "code",
   "execution_count": 43,
   "id": "b26f0b9b",
   "metadata": {},
   "outputs": [
    {
     "data": {
      "text/plain": [
       "'the epidemiology of gun violence: race, region and policy'"
      ]
     },
     "execution_count": 43,
     "metadata": {},
     "output_type": "execute_result"
    }
   ],
   "source": [
    "stories.title[749]"
   ]
  },
  {
   "cell_type": "markdown",
   "id": "e350d14a",
   "metadata": {},
   "source": [
    "- A story aboout \"gun death , race , sex and region\""
   ]
  },
  {
   "cell_type": "code",
   "execution_count": 44,
   "id": "2e218730",
   "metadata": {},
   "outputs": [
    {
     "data": {
      "text/html": [
       "<div>\n",
       "<style scoped>\n",
       "    .dataframe tbody tr th:only-of-type {\n",
       "        vertical-align: middle;\n",
       "    }\n",
       "\n",
       "    .dataframe tbody tr th {\n",
       "        vertical-align: top;\n",
       "    }\n",
       "\n",
       "    .dataframe thead th {\n",
       "        text-align: right;\n",
       "    }\n",
       "</style>\n",
       "<table border=\"1\" class=\"dataframe\">\n",
       "  <thead>\n",
       "    <tr style=\"text-align: right;\">\n",
       "      <th></th>\n",
       "      <th>story_id_num</th>\n",
       "      <th>lemmatized</th>\n",
       "      <th>vader</th>\n",
       "      <th>title</th>\n",
       "      <th>date</th>\n",
       "      <th>host</th>\n",
       "      <th>program</th>\n",
       "    </tr>\n",
       "  </thead>\n",
       "  <tbody>\n",
       "    <tr>\n",
       "      <th>749</th>\n",
       "      <td>2749</td>\n",
       "      <td>this is talk of the nation. i m neal conan in ...</td>\n",
       "      <td>-1.0</td>\n",
       "      <td>the epidemiology of gun violence: race, region...</td>\n",
       "      <td>2013-03-26</td>\n",
       "      <td>neal conan</td>\n",
       "      <td>talk of the nation</td>\n",
       "    </tr>\n",
       "    <tr>\n",
       "      <th>5731</th>\n",
       "      <td>19881</td>\n",
       "      <td>this is talk of the nation. i m neal conan in ...</td>\n",
       "      <td>-1.0</td>\n",
       "      <td>how do you define a hate crime?</td>\n",
       "      <td>2012-03-19</td>\n",
       "      <td>neal conan</td>\n",
       "      <td>talk of the nation</td>\n",
       "    </tr>\n",
       "    <tr>\n",
       "      <th>10730</th>\n",
       "      <td>55411</td>\n",
       "      <td>this is talk of the nation. i m neal conan , i...</td>\n",
       "      <td>-1.0</td>\n",
       "      <td>understanding suicide terrorism and how to sto...</td>\n",
       "      <td>2010-10-11</td>\n",
       "      <td>neal conan</td>\n",
       "      <td>talk of the nation</td>\n",
       "    </tr>\n",
       "    <tr>\n",
       "      <th>11827</th>\n",
       "      <td>58454</td>\n",
       "      <td>this is talk of the nation. im neal conan in w...</td>\n",
       "      <td>-1.0</td>\n",
       "      <td>deconstructing 'myths about suicide'</td>\n",
       "      <td>2010-04-28</td>\n",
       "      <td>neal conan</td>\n",
       "      <td>talk of the nation</td>\n",
       "    </tr>\n",
       "    <tr>\n",
       "      <th>15177</th>\n",
       "      <td>66409</td>\n",
       "      <td>this is talk of the nation. i m neal conan in ...</td>\n",
       "      <td>-1.0</td>\n",
       "      <td>the legacy of bush's 'war on terror'</td>\n",
       "      <td>2009-01-12</td>\n",
       "      <td>neal conan</td>\n",
       "      <td>talk of the nation</td>\n",
       "    </tr>\n",
       "    <tr>\n",
       "      <th>17237</th>\n",
       "      <td>71520</td>\n",
       "      <td>this is talk of the nation. i m neal conan in ...</td>\n",
       "      <td>-1.0</td>\n",
       "      <td>who carries out suicide bombings?</td>\n",
       "      <td>2008-01-22</td>\n",
       "      <td>neal conan</td>\n",
       "      <td>talk of the nation</td>\n",
       "    </tr>\n",
       "    <tr>\n",
       "      <th>18838</th>\n",
       "      <td>75087</td>\n",
       "      <td>this is talk of the nation. i m neal conan in ...</td>\n",
       "      <td>-1.0</td>\n",
       "      <td>how do we define terrorism?</td>\n",
       "      <td>2007-06-04</td>\n",
       "      <td>neal conan</td>\n",
       "      <td>talk of the nation</td>\n",
       "    </tr>\n",
       "    <tr>\n",
       "      <th>21189</th>\n",
       "      <td>79688</td>\n",
       "      <td>this is talk of the nation. i m neal conan , i...</td>\n",
       "      <td>-1.0</td>\n",
       "      <td>should the guantanamo prison be closed?</td>\n",
       "      <td>2006-05-23</td>\n",
       "      <td>neal conan</td>\n",
       "      <td>talk of the nation</td>\n",
       "    </tr>\n",
       "    <tr>\n",
       "      <th>21287</th>\n",
       "      <td>79858</td>\n",
       "      <td>from npr news in washington , dc , i m neal co...</td>\n",
       "      <td>-1.0</td>\n",
       "      <td>'war of nerves': a history of chemical weapons</td>\n",
       "      <td>2006-05-08</td>\n",
       "      <td>neal conan</td>\n",
       "      <td>talk of the nation</td>\n",
       "    </tr>\n",
       "  </tbody>\n",
       "</table>\n",
       "</div>"
      ],
      "text/plain": [
       "       story_id_num                                         lemmatized  vader  \\\n",
       "749            2749  this is talk of the nation. i m neal conan in ...   -1.0   \n",
       "5731          19881  this is talk of the nation. i m neal conan in ...   -1.0   \n",
       "10730         55411  this is talk of the nation. i m neal conan , i...   -1.0   \n",
       "11827         58454  this is talk of the nation. im neal conan in w...   -1.0   \n",
       "15177         66409  this is talk of the nation. i m neal conan in ...   -1.0   \n",
       "17237         71520  this is talk of the nation. i m neal conan in ...   -1.0   \n",
       "18838         75087  this is talk of the nation. i m neal conan in ...   -1.0   \n",
       "21189         79688  this is talk of the nation. i m neal conan , i...   -1.0   \n",
       "21287         79858  from npr news in washington , dc , i m neal co...   -1.0   \n",
       "\n",
       "                                                   title        date  \\\n",
       "749    the epidemiology of gun violence: race, region...  2013-03-26   \n",
       "5731                     how do you define a hate crime?  2012-03-19   \n",
       "10730  understanding suicide terrorism and how to sto...  2010-10-11   \n",
       "11827               deconstructing 'myths about suicide'  2010-04-28   \n",
       "15177               the legacy of bush's 'war on terror'  2009-01-12   \n",
       "17237                  who carries out suicide bombings?  2008-01-22   \n",
       "18838                        how do we define terrorism?  2007-06-04   \n",
       "21189            should the guantanamo prison be closed?  2006-05-23   \n",
       "21287     'war of nerves': a history of chemical weapons  2006-05-08   \n",
       "\n",
       "             host             program  \n",
       "749    neal conan  talk of the nation  \n",
       "5731   neal conan  talk of the nation  \n",
       "10730  neal conan  talk of the nation  \n",
       "11827  neal conan  talk of the nation  \n",
       "15177  neal conan  talk of the nation  \n",
       "17237  neal conan  talk of the nation  \n",
       "18838  neal conan  talk of the nation  \n",
       "21189  neal conan  talk of the nation  \n",
       "21287  neal conan  talk of the nation  "
      ]
     },
     "execution_count": 44,
     "metadata": {},
     "output_type": "execute_result"
    }
   ],
   "source": [
    "darkest_stories = stories[stories.vader == -1]\n",
    "darkest_stories"
   ]
  },
  {
   "cell_type": "code",
   "execution_count": 45,
   "id": "4473b8a6",
   "metadata": {},
   "outputs": [
    {
     "name": "stdout",
     "output_type": "stream",
     "text": [
      "the epidemiology of gun violence: race, region and policy\n",
      "how do you define a hate crime?\n",
      "understanding suicide terrorism and how to stop it\n",
      "deconstructing 'myths about suicide'\n",
      "the legacy of bush's 'war on terror'\n",
      "who carries out suicide bombings?\n",
      "how do we define terrorism?\n",
      "should the guantanamo prison be closed?\n",
      "'war of nerves': a history of chemical weapons\n"
     ]
    }
   ],
   "source": [
    "for story in darkest_stories.title:\n",
    "    print(story)"
   ]
  },
  {
   "cell_type": "markdown",
   "id": "593f83f5",
   "metadata": {},
   "source": [
    "- Here's a list of the stories with the lowest possible sentiment score"
   ]
  },
  {
   "cell_type": "code",
   "execution_count": 46,
   "id": "803dc5a4",
   "metadata": {},
   "outputs": [
    {
     "data": {
      "text/html": [
       "<div>\n",
       "<style scoped>\n",
       "    .dataframe tbody tr th:only-of-type {\n",
       "        vertical-align: middle;\n",
       "    }\n",
       "\n",
       "    .dataframe tbody tr th {\n",
       "        vertical-align: top;\n",
       "    }\n",
       "\n",
       "    .dataframe thead th {\n",
       "        text-align: right;\n",
       "    }\n",
       "</style>\n",
       "<table border=\"1\" class=\"dataframe\">\n",
       "  <thead>\n",
       "    <tr style=\"text-align: right;\">\n",
       "      <th></th>\n",
       "      <th>story_id_num</th>\n",
       "      <th>lemmatized</th>\n",
       "      <th>vader</th>\n",
       "      <th>title</th>\n",
       "      <th>date</th>\n",
       "      <th>host</th>\n",
       "      <th>program</th>\n",
       "    </tr>\n",
       "  </thead>\n",
       "  <tbody>\n",
       "    <tr>\n",
       "      <th>39</th>\n",
       "      <td>620</td>\n",
       "      <td>looking ahead to our last day , many of our fr...</td>\n",
       "      <td>1.0</td>\n",
       "      <td>so hard to say goodbye: advice for farewell notes</td>\n",
       "      <td>2013-06-27</td>\n",
       "      <td>neal conan</td>\n",
       "      <td>talk of the nation</td>\n",
       "    </tr>\n",
       "  </tbody>\n",
       "</table>\n",
       "</div>"
      ],
      "text/plain": [
       "    story_id_num                                         lemmatized  vader  \\\n",
       "39           620  looking ahead to our last day , many of our fr...    1.0   \n",
       "\n",
       "                                                title        date        host  \\\n",
       "39  so hard to say goodbye: advice for farewell notes  2013-06-27  neal conan   \n",
       "\n",
       "               program  \n",
       "39  talk of the nation  "
      ]
     },
     "execution_count": 46,
     "metadata": {},
     "output_type": "execute_result"
    }
   ],
   "source": [
    "brightest_stories = stories[stories.vader == 1]\n",
    "brightest_stories.head(1)"
   ]
  },
  {
   "cell_type": "code",
   "execution_count": 47,
   "id": "5e6c7568",
   "metadata": {},
   "outputs": [],
   "source": [
    "brightest_stories_title_list = []\n",
    "for story in brightest_stories.title:\n",
    "    brightest_stories_title_list.append(story)"
   ]
  },
  {
   "cell_type": "code",
   "execution_count": 48,
   "id": "20438f54",
   "metadata": {},
   "outputs": [
    {
     "data": {
      "text/plain": [
       "['so hard to say goodbye: advice for farewell notes',\n",
       " 'a look ahead and a farewell to the political junkie',\n",
       " 'what changes after supreme court rulings on prop 8 and doma',\n",
       " \"gospel legend mavis staples comes 'full circle'\",\n",
       " \"'blood &amp; beauty' breathes new life into the borgias\",\n",
       " 'the penultimate edition of the political junkie',\n",
       " 'will work for free? the future of the unpaid internship',\n",
       " \"india.arie returns, with an eye toward a new 'songversation'\",\n",
       " \"from 'casablanca' to 'e.t. the extra-terrestrial': famous farewells in film\",\n",
       " 'inside the cel: behind the scenes with animators',\n",
       " 'a look ahead to the future of the gop',\n",
       " 'the scifri book club takes a hike',\n",
       " 'the role of the attorney general throughout history',\n",
       " 'cartoonist lynda barry helps college students tap innate creativity',\n",
       " 'looking ahead with the wonders of krulwich',\n",
       " 'the promise and limitations of telemedicine',\n",
       " \"iowa's open senate seat and rumbles about 2016\",\n",
       " 'hospital costs go public: what changes in health care?',\n",
       " 'a look ahead to the future of new orleans',\n",
       " 'michael pollan: you are what you cook',\n",
       " 'to avoid or to embrace? how actors navigate stereotypes',\n",
       " \"utah's fossil finds describe an ancient world\",\n",
       " 'when conscience conflicts with constituents',\n",
       " 'robert ballard: 50 years exploring deep waters',\n",
       " 'tackling terrible traffic: how cities try to ease commutes',\n",
       " 'second chances in american politics',\n",
       " 'coaching through crisis: how teams get through rough spots',\n",
       " 'gripping science tales need not be science fiction',\n",
       " 'personal stories and shifting opinions on same-sex marriage',\n",
       " \"amid syria's crisis, mental health care for refugees\"]"
      ]
     },
     "execution_count": 48,
     "metadata": {},
     "output_type": "execute_result"
    }
   ],
   "source": [
    "# brightest_stories_title_list = pd.DataFrame(brightest_stories_title_list)\n",
    "brightest_stories_title_list[:30]"
   ]
  },
  {
   "cell_type": "markdown",
   "id": "4198b668",
   "metadata": {},
   "source": [
    "-  At first glance, these brightest stories seem to mostly belong to a 'human interest' typee news category"
   ]
  },
  {
   "cell_type": "code",
   "execution_count": 49,
   "id": "5215407a",
   "metadata": {},
   "outputs": [],
   "source": [
    "# stories.lemmatized[stories.title == \"iowa's open senate seat and rumbles about 2016\"].values"
   ]
  },
  {
   "cell_type": "markdown",
   "id": "3a1546f5",
   "metadata": {},
   "source": [
    "- One oddball example in the bright stories, unusually about politics"
   ]
  },
  {
   "cell_type": "code",
   "execution_count": 50,
   "id": "a585dbea",
   "metadata": {},
   "outputs": [
    {
     "data": {
      "text/html": [
       "<div>\n",
       "<style scoped>\n",
       "    .dataframe tbody tr th:only-of-type {\n",
       "        vertical-align: middle;\n",
       "    }\n",
       "\n",
       "    .dataframe tbody tr th {\n",
       "        vertical-align: top;\n",
       "    }\n",
       "\n",
       "    .dataframe thead th {\n",
       "        text-align: right;\n",
       "    }\n",
       "</style>\n",
       "<table border=\"1\" class=\"dataframe\">\n",
       "  <thead>\n",
       "    <tr style=\"text-align: right;\">\n",
       "      <th></th>\n",
       "      <th>story_id_num</th>\n",
       "      <th>lemmatized</th>\n",
       "      <th>vader</th>\n",
       "      <th>title</th>\n",
       "      <th>date</th>\n",
       "      <th>host</th>\n",
       "      <th>program</th>\n",
       "    </tr>\n",
       "  </thead>\n",
       "  <tbody>\n",
       "    <tr>\n",
       "      <th>0</th>\n",
       "      <td>17</td>\n",
       "      <td>he is in cahoot with a foreign government to m...</td>\n",
       "      <td>0.9964</td>\n",
       "      <td>n.j. democrat on reported whistleblower compla...</td>\n",
       "      <td>2019-09-22</td>\n",
       "      <td>melissa block</td>\n",
       "      <td>weekend edition sunday</td>\n",
       "    </tr>\n",
       "    <tr>\n",
       "      <th>1</th>\n",
       "      <td>18</td>\n",
       "      <td>come with concrete plan , not beautiful speech...</td>\n",
       "      <td>0.9993</td>\n",
       "      <td>ahead of climate summit, 2 views from cities i...</td>\n",
       "      <td>2019-09-22</td>\n",
       "      <td>melissa block</td>\n",
       "      <td>weekend edition sunday</td>\n",
       "    </tr>\n",
       "    <tr>\n",
       "      <th>2</th>\n",
       "      <td>19</td>\n",
       "      <td>if you stand outside the old dekalb county cou...</td>\n",
       "      <td>0.9974</td>\n",
       "      <td>barred from removing confederate monument, cou...</td>\n",
       "      <td>2019-09-22</td>\n",
       "      <td>melissa block</td>\n",
       "      <td>weekend edition sunday</td>\n",
       "    </tr>\n",
       "    <tr>\n",
       "      <th>3</th>\n",
       "      <td>20</td>\n",
       "      <td>you may have spotted pink salt in your superma...</td>\n",
       "      <td>0.4950</td>\n",
       "      <td>pakistan's pink himalayan salt has become a ma...</td>\n",
       "      <td>2019-09-22</td>\n",
       "      <td>melissa block</td>\n",
       "      <td>weekend edition sunday</td>\n",
       "    </tr>\n",
       "    <tr>\n",
       "      <th>4</th>\n",
       "      <td>21</td>\n",
       "      <td>singing in foreign language . the other day , ...</td>\n",
       "      <td>0.9730</td>\n",
       "      <td>10 years after haiti's earthquake, 'this music...</td>\n",
       "      <td>2019-09-22</td>\n",
       "      <td>melissa block</td>\n",
       "      <td>weekend edition sunday</td>\n",
       "    </tr>\n",
       "  </tbody>\n",
       "</table>\n",
       "</div>"
      ],
      "text/plain": [
       "   story_id_num                                         lemmatized   vader  \\\n",
       "0            17  he is in cahoot with a foreign government to m...  0.9964   \n",
       "1            18  come with concrete plan , not beautiful speech...  0.9993   \n",
       "2            19  if you stand outside the old dekalb county cou...  0.9974   \n",
       "3            20  you may have spotted pink salt in your superma...  0.4950   \n",
       "4            21  singing in foreign language . the other day , ...  0.9730   \n",
       "\n",
       "                                               title        date  \\\n",
       "0  n.j. democrat on reported whistleblower compla...  2019-09-22   \n",
       "1  ahead of climate summit, 2 views from cities i...  2019-09-22   \n",
       "2  barred from removing confederate monument, cou...  2019-09-22   \n",
       "3  pakistan's pink himalayan salt has become a ma...  2019-09-22   \n",
       "4  10 years after haiti's earthquake, 'this music...  2019-09-22   \n",
       "\n",
       "            host                 program  \n",
       "0  melissa block  weekend edition sunday  \n",
       "1  melissa block  weekend edition sunday  \n",
       "2  melissa block  weekend edition sunday  \n",
       "3  melissa block  weekend edition sunday  \n",
       "4  melissa block  weekend edition sunday  "
      ]
     },
     "execution_count": 50,
     "metadata": {},
     "output_type": "execute_result"
    }
   ],
   "source": [
    "stories.head()"
   ]
  },
  {
   "cell_type": "code",
   "execution_count": 51,
   "id": "17b5bc9f",
   "metadata": {},
   "outputs": [],
   "source": [
    "# get dates for the stories from original df\n",
    "# stories['date'] = df.groupby(['story_id_num']).date.first().tolist()"
   ]
  },
  {
   "cell_type": "code",
   "execution_count": 52,
   "id": "3aa5b727",
   "metadata": {},
   "outputs": [],
   "source": [
    "# get new csv\n",
    "# stories.to_csv(\"stories.csv\")"
   ]
  },
  {
   "cell_type": "code",
   "execution_count": 53,
   "id": "3841d902",
   "metadata": {},
   "outputs": [],
   "source": [
    "stories.date = pd.to_datetime(stories.date)"
   ]
  },
  {
   "cell_type": "code",
   "execution_count": 54,
   "id": "81dbdd78",
   "metadata": {
    "scrolled": true
   },
   "outputs": [
    {
     "data": {
      "text/plain": [
       "story_id_num             int64\n",
       "lemmatized              object\n",
       "vader                  float64\n",
       "title                   object\n",
       "date            datetime64[ns]\n",
       "host                    object\n",
       "program                 object\n",
       "dtype: object"
      ]
     },
     "execution_count": 54,
     "metadata": {},
     "output_type": "execute_result"
    }
   ],
   "source": [
    "stories.dtypes"
   ]
  },
  {
   "cell_type": "code",
   "execution_count": 55,
   "id": "f6938346",
   "metadata": {},
   "outputs": [
    {
     "data": {
      "text/html": [
       "<div>\n",
       "<style scoped>\n",
       "    .dataframe tbody tr th:only-of-type {\n",
       "        vertical-align: middle;\n",
       "    }\n",
       "\n",
       "    .dataframe tbody tr th {\n",
       "        vertical-align: top;\n",
       "    }\n",
       "\n",
       "    .dataframe thead th {\n",
       "        text-align: right;\n",
       "    }\n",
       "</style>\n",
       "<table border=\"1\" class=\"dataframe\">\n",
       "  <thead>\n",
       "    <tr style=\"text-align: right;\">\n",
       "      <th></th>\n",
       "      <th>story_id_num</th>\n",
       "      <th>lemmatized</th>\n",
       "      <th>vader</th>\n",
       "      <th>title</th>\n",
       "      <th>date</th>\n",
       "      <th>host</th>\n",
       "      <th>program</th>\n",
       "    </tr>\n",
       "    <tr>\n",
       "      <th>date</th>\n",
       "      <th></th>\n",
       "      <th></th>\n",
       "      <th></th>\n",
       "      <th></th>\n",
       "      <th></th>\n",
       "      <th></th>\n",
       "      <th></th>\n",
       "    </tr>\n",
       "  </thead>\n",
       "  <tbody>\n",
       "    <tr>\n",
       "      <th>2005-01-11</th>\n",
       "      <td>84430</td>\n",
       "      <td>this is talk of the nation. i m neal conan in ...</td>\n",
       "      <td>1.0000</td>\n",
       "      <td>state legislatures: agendas and budgets</td>\n",
       "      <td>2005-01-11</td>\n",
       "      <td>neal conan</td>\n",
       "      <td>talk of the nation</td>\n",
       "    </tr>\n",
       "    <tr>\n",
       "      <th>2005-01-11</th>\n",
       "      <td>84432</td>\n",
       "      <td>this is talk of the nation. i m neal conan in ...</td>\n",
       "      <td>0.9999</td>\n",
       "      <td>difference between a think and a 'blink'</td>\n",
       "      <td>2005-01-11</td>\n",
       "      <td>neal conan</td>\n",
       "      <td>talk of the nation</td>\n",
       "    </tr>\n",
       "    <tr>\n",
       "      <th>2005-01-11</th>\n",
       "      <td>84433</td>\n",
       "      <td>this is talk of the nation. i m neal conan in ...</td>\n",
       "      <td>0.9999</td>\n",
       "      <td>bush picks judge to head homeland security</td>\n",
       "      <td>2005-01-11</td>\n",
       "      <td>neal conan</td>\n",
       "      <td>talk of the nation</td>\n",
       "    </tr>\n",
       "    <tr>\n",
       "      <th>2005-01-11</th>\n",
       "      <td>84434</td>\n",
       "      <td>scientist at the national oceanic and atmosphe...</td>\n",
       "      <td>0.9914</td>\n",
       "      <td>noaa aims for predicting tsunamis</td>\n",
       "      <td>2005-01-11</td>\n",
       "      <td>neal conan</td>\n",
       "      <td>talk of the nation</td>\n",
       "    </tr>\n",
       "    <tr>\n",
       "      <th>2005-01-11</th>\n",
       "      <td>84431</td>\n",
       "      <td>this is talk of the nation. i m neal conan in ...</td>\n",
       "      <td>0.9999</td>\n",
       "      <td>california rains bring rash of mudslides</td>\n",
       "      <td>2005-01-11</td>\n",
       "      <td>neal conan</td>\n",
       "      <td>talk of the nation</td>\n",
       "    </tr>\n",
       "  </tbody>\n",
       "</table>\n",
       "</div>"
      ],
      "text/plain": [
       "            story_id_num                                         lemmatized  \\\n",
       "date                                                                          \n",
       "2005-01-11         84430  this is talk of the nation. i m neal conan in ...   \n",
       "2005-01-11         84432  this is talk of the nation. i m neal conan in ...   \n",
       "2005-01-11         84433  this is talk of the nation. i m neal conan in ...   \n",
       "2005-01-11         84434  scientist at the national oceanic and atmosphe...   \n",
       "2005-01-11         84431  this is talk of the nation. i m neal conan in ...   \n",
       "\n",
       "             vader                                       title       date  \\\n",
       "date                                                                        \n",
       "2005-01-11  1.0000     state legislatures: agendas and budgets 2005-01-11   \n",
       "2005-01-11  0.9999    difference between a think and a 'blink' 2005-01-11   \n",
       "2005-01-11  0.9999  bush picks judge to head homeland security 2005-01-11   \n",
       "2005-01-11  0.9914           noaa aims for predicting tsunamis 2005-01-11   \n",
       "2005-01-11  0.9999    california rains bring rash of mudslides 2005-01-11   \n",
       "\n",
       "                  host             program  \n",
       "date                                        \n",
       "2005-01-11  neal conan  talk of the nation  \n",
       "2005-01-11  neal conan  talk of the nation  \n",
       "2005-01-11  neal conan  talk of the nation  \n",
       "2005-01-11  neal conan  talk of the nation  \n",
       "2005-01-11  neal conan  talk of the nation  "
      ]
     },
     "execution_count": 55,
     "metadata": {},
     "output_type": "execute_result"
    }
   ],
   "source": [
    "# assign new df for tsa looksy\n",
    "tsa = stories.set_index(stories.date).sort_index()\n",
    "tsa.head()"
   ]
  },
  {
   "cell_type": "code",
   "execution_count": 56,
   "id": "663a91d6",
   "metadata": {},
   "outputs": [
    {
     "data": {
      "text/plain": [
       "<AxesSubplot:xlabel='date'>"
      ]
     },
     "execution_count": 56,
     "metadata": {},
     "output_type": "execute_result"
    },
    {
     "data": {
      "image/png": "[encoded data removed]",
      "text/plain": [
       "<Figure size 432x288 with 1 Axes>"
      ]
     },
     "metadata": {
      "needs_background": "light"
     },
     "output_type": "display_data"
    }
   ],
   "source": [
    "# plot stories by sentiment, resampled weekly, averaged out\n",
    "tsa.vader.resample('w').mean().plot()"
   ]
  },
  {
   "cell_type": "code",
   "execution_count": 57,
   "id": "16d230c9",
   "metadata": {},
   "outputs": [
    {
     "data": {
      "text/html": [
       "<div>\n",
       "<style scoped>\n",
       "    .dataframe tbody tr th:only-of-type {\n",
       "        vertical-align: middle;\n",
       "    }\n",
       "\n",
       "    .dataframe tbody tr th {\n",
       "        vertical-align: top;\n",
       "    }\n",
       "\n",
       "    .dataframe thead th {\n",
       "        text-align: right;\n",
       "    }\n",
       "</style>\n",
       "<table border=\"1\" class=\"dataframe\">\n",
       "  <thead>\n",
       "    <tr style=\"text-align: right;\">\n",
       "      <th></th>\n",
       "      <th>vader</th>\n",
       "    </tr>\n",
       "    <tr>\n",
       "      <th>date</th>\n",
       "      <th></th>\n",
       "    </tr>\n",
       "  </thead>\n",
       "  <tbody>\n",
       "    <tr>\n",
       "      <th>2005-01-16</th>\n",
       "      <td>0.998220</td>\n",
       "    </tr>\n",
       "    <tr>\n",
       "      <th>2005-01-23</th>\n",
       "      <td>NaN</td>\n",
       "    </tr>\n",
       "    <tr>\n",
       "      <th>2005-01-30</th>\n",
       "      <td>0.999800</td>\n",
       "    </tr>\n",
       "    <tr>\n",
       "      <th>2005-02-06</th>\n",
       "      <td>NaN</td>\n",
       "    </tr>\n",
       "    <tr>\n",
       "      <th>2005-02-13</th>\n",
       "      <td>NaN</td>\n",
       "    </tr>\n",
       "    <tr>\n",
       "      <th>...</th>\n",
       "      <td>...</td>\n",
       "    </tr>\n",
       "    <tr>\n",
       "      <th>2019-09-15</th>\n",
       "      <td>0.712144</td>\n",
       "    </tr>\n",
       "    <tr>\n",
       "      <th>2019-09-22</th>\n",
       "      <td>0.589789</td>\n",
       "    </tr>\n",
       "    <tr>\n",
       "      <th>2019-09-29</th>\n",
       "      <td>0.839537</td>\n",
       "    </tr>\n",
       "    <tr>\n",
       "      <th>2019-10-06</th>\n",
       "      <td>0.721716</td>\n",
       "    </tr>\n",
       "    <tr>\n",
       "      <th>2019-10-13</th>\n",
       "      <td>0.465194</td>\n",
       "    </tr>\n",
       "  </tbody>\n",
       "</table>\n",
       "<p>770 rows × 1 columns</p>\n",
       "</div>"
      ],
      "text/plain": [
       "               vader\n",
       "date                \n",
       "2005-01-16  0.998220\n",
       "2005-01-23       NaN\n",
       "2005-01-30  0.999800\n",
       "2005-02-06       NaN\n",
       "2005-02-13       NaN\n",
       "...              ...\n",
       "2019-09-15  0.712144\n",
       "2019-09-22  0.589789\n",
       "2019-09-29  0.839537\n",
       "2019-10-06  0.721716\n",
       "2019-10-13  0.465194\n",
       "\n",
       "[770 rows x 1 columns]"
      ]
     },
     "execution_count": 57,
     "metadata": {},
     "output_type": "execute_result"
    }
   ],
   "source": [
    "# assign new df for the weekly sample of vader\n",
    "weekly_tsa=pd.DataFrame(tsa.vader.resample('w').mean())\n",
    "weekly_tsa"
   ]
  },
  {
   "cell_type": "code",
   "execution_count": 58,
   "id": "cf2396c3",
   "metadata": {},
   "outputs": [
    {
     "data": {
      "text/plain": [
       "vader    0\n",
       "dtype: int64"
      ]
     },
     "execution_count": 58,
     "metadata": {},
     "output_type": "execute_result"
    }
   ],
   "source": [
    "# drop 14 nulls\n",
    "weekly_tsa = weekly_tsa.dropna()\n",
    "weekly_tsa.isna().sum()"
   ]
  },
  {
   "cell_type": "code",
   "execution_count": 59,
   "id": "a6e14472",
   "metadata": {},
   "outputs": [
    {
     "data": {
      "text/html": [
       "<div>\n",
       "<style scoped>\n",
       "    .dataframe tbody tr th:only-of-type {\n",
       "        vertical-align: middle;\n",
       "    }\n",
       "\n",
       "    .dataframe tbody tr th {\n",
       "        vertical-align: top;\n",
       "    }\n",
       "\n",
       "    .dataframe thead th {\n",
       "        text-align: right;\n",
       "    }\n",
       "</style>\n",
       "<table border=\"1\" class=\"dataframe\">\n",
       "  <thead>\n",
       "    <tr style=\"text-align: right;\">\n",
       "      <th></th>\n",
       "      <th>vader</th>\n",
       "      <th>weekly_diff</th>\n",
       "    </tr>\n",
       "    <tr>\n",
       "      <th>date</th>\n",
       "      <th></th>\n",
       "      <th></th>\n",
       "    </tr>\n",
       "  </thead>\n",
       "  <tbody>\n",
       "    <tr>\n",
       "      <th>2005-01-16</th>\n",
       "      <td>0.998220</td>\n",
       "      <td>NaN</td>\n",
       "    </tr>\n",
       "    <tr>\n",
       "      <th>2005-01-30</th>\n",
       "      <td>0.999800</td>\n",
       "      <td>0.001580</td>\n",
       "    </tr>\n",
       "    <tr>\n",
       "      <th>2005-05-08</th>\n",
       "      <td>0.596417</td>\n",
       "      <td>-0.403383</td>\n",
       "    </tr>\n",
       "    <tr>\n",
       "      <th>2005-05-15</th>\n",
       "      <td>0.503421</td>\n",
       "      <td>-0.092997</td>\n",
       "    </tr>\n",
       "    <tr>\n",
       "      <th>2005-05-22</th>\n",
       "      <td>0.433512</td>\n",
       "      <td>-0.069909</td>\n",
       "    </tr>\n",
       "  </tbody>\n",
       "</table>\n",
       "</div>"
      ],
      "text/plain": [
       "               vader  weekly_diff\n",
       "date                             \n",
       "2005-01-16  0.998220          NaN\n",
       "2005-01-30  0.999800     0.001580\n",
       "2005-05-08  0.596417    -0.403383\n",
       "2005-05-15  0.503421    -0.092997\n",
       "2005-05-22  0.433512    -0.069909"
      ]
     },
     "execution_count": 59,
     "metadata": {},
     "output_type": "execute_result"
    }
   ],
   "source": [
    "# add vader difference from week to week\n",
    "weekly_tsa['weekly_diff']= weekly_tsa.vader.diff(1)\n",
    "weekly_tsa.head()"
   ]
  },
  {
   "cell_type": "markdown",
   "id": "9f114ea2",
   "metadata": {},
   "source": [
    "### What week saw the biggest drop in sentiment?  "
   ]
  },
  {
   "cell_type": "code",
   "execution_count": 60,
   "id": "927b1392",
   "metadata": {},
   "outputs": [
    {
     "data": {
      "text/plain": [
       "Timestamp('2010-08-01 00:00:00')"
      ]
     },
     "execution_count": 60,
     "metadata": {},
     "output_type": "execute_result"
    }
   ],
   "source": [
    "weekly_tsa.weekly_diff.idxmin()"
   ]
  },
  {
   "cell_type": "markdown",
   "id": "f2758830",
   "metadata": {},
   "source": [
    "- At Least 400 Killed in Pakistan Floods (July 30)\n",
    "- Plane Crash in Pakistan Kills All 152 on Board (July 28)\n",
    "- U.S. Economy Lost 131,000 Jobs in July; Unemployment Remains at 9.5% (Aug. 6)\n",
    "- CA Gay Marriage Ban Overturned (Aug. 4)\n",
    "\n",
    "### Not a lot of concrete evidence of what would cause such a drop"
   ]
  },
  {
   "cell_type": "markdown",
   "id": "4cf06978",
   "metadata": {},
   "source": [
    "### And the biggest increasee?"
   ]
  },
  {
   "cell_type": "code",
   "execution_count": 61,
   "id": "42ab1dcc",
   "metadata": {},
   "outputs": [
    {
     "data": {
      "text/plain": [
       "Timestamp('2015-11-29 00:00:00')"
      ]
     },
     "execution_count": 61,
     "metadata": {},
     "output_type": "execute_result"
    }
   ],
   "source": [
    "weekly_tsa.weekly_diff.idxmax()"
   ]
  },
  {
   "cell_type": "markdown",
   "id": "ab30c832",
   "metadata": {},
   "source": [
    "- 13November2015: Paris terrorist attacks\n",
    "- Three Killed at Planned Parenthood Shooting in Colorado Springs (Nov. 27)\n",
    "- Russian Airliner Brought Down by Bomb (Nov. 17)\n",
    "\n",
    "### Again, nothing concrete: an index of the noise in the data"
   ]
  },
  {
   "cell_type": "code",
   "execution_count": 62,
   "id": "107c1817",
   "metadata": {},
   "outputs": [
    {
     "data": {
      "text/plain": [
       "Timestamp('2005-01-30 00:00:00')"
      ]
     },
     "execution_count": 62,
     "metadata": {},
     "output_type": "execute_result"
    }
   ],
   "source": [
    "weekly_tsa.vader.idxmax()"
   ]
  },
  {
   "cell_type": "code",
   "execution_count": null,
   "id": "9686bf96",
   "metadata": {},
   "outputs": [],
   "source": []
  },
  {
   "cell_type": "code",
   "execution_count": 63,
   "id": "1cdef9c6",
   "metadata": {},
   "outputs": [
    {
     "data": {
      "text/plain": [
       "Timestamp('2015-11-22 00:00:00')"
      ]
     },
     "execution_count": 63,
     "metadata": {},
     "output_type": "execute_result"
    }
   ],
   "source": [
    "weekly_tsa.vader.idxmin()"
   ]
  },
  {
   "cell_type": "code",
   "execution_count": null,
   "id": "21a0c85e",
   "metadata": {},
   "outputs": [],
   "source": []
  },
  {
   "cell_type": "code",
   "execution_count": 64,
   "id": "0f60b60a",
   "metadata": {},
   "outputs": [
    {
     "ename": "SyntaxError",
     "evalue": "invalid syntax (<ipython-input-64-07d8789a56ee>, line 1)",
     "output_type": "error",
     "traceback": [
      "\u001b[0;36m  File \u001b[0;32m\"<ipython-input-64-07d8789a56ee>\"\u001b[0;36m, line \u001b[0;32m1\u001b[0m\n\u001b[0;31m    BREAK THE NOTEBOOK\u001b[0m\n\u001b[0m          ^\u001b[0m\n\u001b[0;31mSyntaxError\u001b[0m\u001b[0;31m:\u001b[0m invalid syntax\n"
     ]
    }
   ],
   "source": [
    "BREAK THE NOTEBOOK"
   ]
  },
  {
   "cell_type": "markdown",
   "id": "84871056",
   "metadata": {},
   "source": [
    "## Below begins my attempt to use gensim for LDA topic modeling"
   ]
  },
  {
   "cell_type": "code",
   "execution_count": null,
   "id": "9d8d3845",
   "metadata": {},
   "outputs": [],
   "source": [
    "# import gensim\n",
    "# from gensim.utils import simple_preprocess\n",
    "# import nltk\n",
    "# nltk.download('stopwords')\n",
    "# from nltk.corpus import stopwords\n",
    "# stop_words = stopwords.words('english')\n",
    "# # stop_words.extend(['from', 'subject', 're', 'edu', 'use'])\n",
    "# def sent_to_words(sentences):\n",
    "#     for sentence in sentences:\n",
    "#         # deacc=True removes punctuations\n",
    "#         yield(gensim.utils.simple_preprocess(str(sentence), deacc=False))\n",
    "# def remove_stopwords(texts):\n",
    "#     return [[word for word in simple_preprocess(str(doc)) \n",
    "#              if word not in stop_words] for doc in texts]\n",
    "# data = stories.lemmatized.values.tolist()\n",
    "# data_words = list(sent_to_words(data))\n",
    "# # remove stop words\n",
    "# data_words = remove_stopwords(data_words)\n",
    "# print(data_words[:1][0][:30])"
   ]
  },
  {
   "cell_type": "code",
   "execution_count": null,
   "id": "ce9b4e56",
   "metadata": {},
   "outputs": [],
   "source": [
    "# import gensim.corpora as corpora\n",
    "# # Create Dictionary\n",
    "# id2word = corpora.Dictionary(data_words)\n",
    "# # Create Corpus\n",
    "# texts = data_words\n",
    "# # Term Document Frequency\n",
    "# corpus = [id2word.doc2bow(text) for text in texts]\n",
    "# # View\n",
    "# print(corpus[:1][0][:30])"
   ]
  },
  {
   "cell_type": "code",
   "execution_count": null,
   "id": "7a65c06f",
   "metadata": {},
   "outputs": [],
   "source": [
    "# from pprint import pprint\n",
    "# # number of topics\n",
    "# num_topics = 10\n",
    "# # Build LDA model\n",
    "# lda_model = gensim.models.LdaMulticore(corpus=corpus,\n",
    "#                                        id2word=id2word,\n",
    "#                                        num_topics=num_topics)\n",
    "# # Print the Keyword in the 10 topics\n",
    "# pprint(lda_model.print_topics())\n",
    "# doc_lda = lda_model[corpus]"
   ]
  },
  {
   "cell_type": "code",
   "execution_count": null,
   "id": "cc08c102",
   "metadata": {},
   "outputs": [],
   "source": [
    "# # import pyLDAvis.gensim\n",
    "# import os\n",
    "# import pyLDAvis.gensim_models as gensimvis\n",
    "# import pickle \n",
    "# import pyLDAvis\n",
    "# # Visualize the topics\n",
    "# pyLDAvis.enable_notebook()\n",
    "# # LDAvis_data_filepath = os.path.join('./results/ldavis_prepared_'+ str(num_topics)+str(num_topics))\n",
    "# # # this is a bit time consuming - make the if statement True\n",
    "# # # if you want to execute visualization prep yourself\n",
    "# if 1 == 1:\n",
    "# #     LDAvis_prepared = pyLDAvis.gensim.prepare(lda_model, corpus, id2word)\n",
    "#     LDAvis_prepared = gensimvis.prepare(lda_model, corpus, id2word)\n",
    "# #     with open(LDAvis_data_filepath, 'wb') as f:\n",
    "# #         pickle.dump(LDAvis_prepared, f)\n",
    "# # load the pre-prepared pyLDAvis data from disk\n",
    "# # with open(LDAvis_data_filepath, 'rb') as f:\n",
    "# #     LDAvis_prepared = pickle.load(f)\n",
    "# # pyLDAvis.save_html(LDAvis_prepared, './results/ldavis_prepared_'+ str(num_topics) +'.html')\n",
    "# LDAvis_prepared"
   ]
  },
  {
   "cell_type": "code",
   "execution_count": null,
   "id": "094678be",
   "metadata": {},
   "outputs": [],
   "source": [
    "# type(LDAvis_prepared)"
   ]
  },
  {
   "cell_type": "code",
   "execution_count": null,
   "id": "287b5263",
   "metadata": {},
   "outputs": [],
   "source": [
    "# BREAK. THIS. NOTEBOOK. "
   ]
  },
  {
   "cell_type": "markdown",
   "id": "d6e33411",
   "metadata": {},
   "source": [
    "## The same...but running it on the titles instead of the corpi"
   ]
  },
  {
   "cell_type": "code",
   "execution_count": null,
   "id": "27ca4263",
   "metadata": {
    "scrolled": true
   },
   "outputs": [],
   "source": [
    "import gensim\n",
    "from gensim.utils import simple_preprocess\n",
    "import nltk\n",
    "nltk.download('stopwords')\n",
    "from nltk.corpus import stopwords\n",
    "stop_words = stopwords.words('english')\n",
    "# stop_words.extend(['from', 'subject', 're', 'edu', 'use'])\n",
    "def sent_to_words(sentences):\n",
    "    for sentence in sentences:\n",
    "        # deacc=True removes punctuations\n",
    "        yield(gensim.utils.simple_preprocess(str(sentence), deacc=False))\n",
    "def remove_stopwords(texts):\n",
    "    return [[word for word in simple_preprocess(str(doc)) \n",
    "             if word not in stop_words] for doc in texts]\n",
    "data = stories.title.values.tolist()\n",
    "data_words = list(sent_to_words(data))\n",
    "# remove stop words\n",
    "data_words = remove_stopwords(data_words)\n",
    "print(data_words[:1][0][:30])"
   ]
  },
  {
   "cell_type": "code",
   "execution_count": null,
   "id": "466efd3c",
   "metadata": {},
   "outputs": [],
   "source": [
    "import gensim.corpora as corpora\n",
    "# Create Dictionary\n",
    "id2word = corpora.Dictionary(data_words)\n",
    "# Create Corpus\n",
    "texts = data_words\n",
    "# Term Document Frequency\n",
    "corpus = [id2word.doc2bow(text) for text in texts]\n",
    "# View\n",
    "print(corpus[:1][0][:30])"
   ]
  },
  {
   "cell_type": "code",
   "execution_count": null,
   "id": "6da1324e",
   "metadata": {},
   "outputs": [],
   "source": [
    "from pprint import pprint\n",
    "# number of topics\n",
    "num_topics = 10\n",
    "# Build LDA model\n",
    "lda_model = gensim.models.LdaMulticore(corpus=corpus,\n",
    "                                       id2word=id2word,\n",
    "                                       num_topics=num_topics)\n",
    "# Print the Keyword in the 10 topics\n",
    "pprint(lda_model.print_topics())\n",
    "doc_lda = lda_model[corpus]"
   ]
  },
  {
   "cell_type": "code",
   "execution_count": null,
   "id": "497d64a6",
   "metadata": {},
   "outputs": [],
   "source": [
    "# import pyLDAvis.gensim\n",
    "import os\n",
    "import pyLDAvis.gensim_models as gensimvis\n",
    "import pickle \n",
    "import pyLDAvis\n",
    "# Visualize the topics\n",
    "pyLDAvis.enable_notebook()\n",
    "# LDAvis_data_filepath = os.path.join('./results/ldavis_prepared_'+ str(num_topics)+str(num_topics))\n",
    "# # this is a bit time consuming - make the if statement True\n",
    "# # if you want to execute visualization prep yourself\n",
    "if 1 == 1:\n",
    "#     LDAvis_prepared = pyLDAvis.gensim.prepare(lda_model, corpus, id2word)\n",
    "    LDAvis_prepared = gensimvis.prepare(lda_model, corpus, id2word)\n",
    "#     with open(LDAvis_data_filepath, 'wb') as f:\n",
    "#         pickle.dump(LDAvis_prepared, f)\n",
    "# load the pre-prepared pyLDAvis data from disk\n",
    "# with open(LDAvis_data_filepath, 'rb') as f:\n",
    "#     LDAvis_prepared = pickle.load(f)\n",
    "# pyLDAvis.save_html(LDAvis_prepared, './results/ldavis_prepared_'+ str(num_topics) +'.html')\n",
    "LDAvis_prepared"
   ]
  },
  {
   "cell_type": "markdown",
   "id": "0bd150f3",
   "metadata": {},
   "source": [
    "## Evaluate? (be aware of which  data_words are being sent in)"
   ]
  },
  {
   "cell_type": "code",
   "execution_count": null,
   "id": "0fa85897",
   "metadata": {},
   "outputs": [],
   "source": [
    "# # Build the bigram and trigram models\n",
    "bigram = gensim.models.Phrases(data_words, min_count=5, threshold=100) # higher threshold fewer phrases.\n",
    "trigram = gensim.models.Phrases(bigram[data_words], threshold=100)\n",
    "# Faster way to get a sentence clubbed as a trigram/bigram\n",
    "bigram_mod = gensim.models.phrases.Phraser(bigram)\n",
    "trigram_mod = gensim.models.phrases.Phraser(trigram)"
   ]
  },
  {
   "cell_type": "code",
   "execution_count": null,
   "id": "a2efe8ed",
   "metadata": {},
   "outputs": [],
   "source": [
    "# NLTK Stop words\n",
    "# import nltk\n",
    "# nltk.download('stopwords')\n",
    "from nltk.corpus import stopwords\n",
    "stop_words = stopwords.words('english')\n",
    "stop_words.extend(['from', 'subject', 're', 'edu', 'use'])\n",
    "# Define functions for stopwords, bigrams, trigrams and lemmatization\n",
    "def remove_stopwords(texts):\n",
    "    return [[word for word in simple_preprocess(str(doc)) if word not in stop_words] for doc in texts]\n",
    "def make_bigrams(texts):\n",
    "    return [bigram_mod[doc] for doc in texts]\n",
    "def make_trigrams(texts):\n",
    "    return [trigram_mod[bigram_mod[doc]] for doc in texts]\n",
    "def lemmatization(texts, allowed_postags=['NOUN', 'ADJ', 'VERB', 'ADV']):\n",
    "    \"\"\"https://spacy.io/api/annotation\"\"\"\n",
    "    texts_out = []\n",
    "    for sent in texts:\n",
    "        doc = nlp(\" \".join(sent)) \n",
    "        texts_out.append([token.lemma_ for token in doc if token.pos_ in allowed_postags])\n",
    "    return texts_out"
   ]
  },
  {
   "cell_type": "code",
   "execution_count": null,
   "id": "0a07e97c",
   "metadata": {},
   "outputs": [],
   "source": [
    "import spacy\n",
    "# Remove Stop Words\n",
    "data_words_nostops = remove_stopwords(data_words)\n",
    "# Form Bigrams\n",
    "data_words_bigrams = make_bigrams(data_words_nostops)\n",
    "# Initialize spacy 'en' model, keeping only tagger component (for efficiency)\n",
    "nlp = spacy.load(\"en_core_web_sm\", disable=['parser', 'ner']) # see https://spacy.io/models/en for info on this pipeline\n",
    "# Do lemmatization keeping only noun, adj, vb, adv\n",
    "data_lemmatized = lemmatization(data_words_bigrams, allowed_postags=['NOUN', 'ADJ', 'VERB', 'ADV'])\n",
    "print(data_lemmatized[:1])"
   ]
  },
  {
   "cell_type": "code",
   "execution_count": null,
   "id": "01af1b4b",
   "metadata": {},
   "outputs": [],
   "source": [
    "import gensim.corpora as corpora\n",
    "# Create Dictionary\n",
    "id2word = corpora.Dictionary(data_lemmatized)\n",
    "# Create Corpus\n",
    "texts = data_lemmatized\n",
    "# Term Document Frequency\n",
    "corpus = [id2word.doc2bow(text) for text in texts]\n",
    "# View\n",
    "print(corpus[:1])"
   ]
  },
  {
   "cell_type": "code",
   "execution_count": null,
   "id": "b51eed03",
   "metadata": {},
   "outputs": [],
   "source": [
    "# Build LDA model\n",
    "lda_model = gensim.models.LdaMulticore(corpus=corpus,\n",
    "                                       id2word=id2word,\n",
    "                                       num_topics=10, \n",
    "                                       random_state=100,\n",
    "                                       chunksize=100,\n",
    "                                       passes=10,\n",
    "                                       per_word_topics=True)"
   ]
  },
  {
   "cell_type": "code",
   "execution_count": null,
   "id": "a27b7dc6",
   "metadata": {},
   "outputs": [],
   "source": [
    "# from pprint import pprint\n",
    "# # Print the Keyword in the 10 topics\n",
    "# pprint(lda_model.print_topics())\n",
    "# doc_lda = lda_model[corpus]"
   ]
  },
  {
   "cell_type": "code",
   "execution_count": null,
   "id": "98131d0a",
   "metadata": {},
   "outputs": [],
   "source": [
    "from gensim.models import CoherenceModel\n",
    "# Compute Coherence Score\n",
    "coherence_model_lda = CoherenceModel(model=lda_model, texts=data_lemmatized, dictionary=id2word, coherence='c_v')\n",
    "coherence_lda = coherence_model_lda.get_coherence()\n",
    "print('\\nCoherence Score: ', coherence_lda)"
   ]
  },
  {
   "cell_type": "code",
   "execution_count": null,
   "id": "d34636a4",
   "metadata": {},
   "outputs": [],
   "source": [
    "# supporting function\n",
    "def compute_coherence_values(corpus, dictionary, k, a, b):\n",
    "    \n",
    "    lda_model = gensim.models.LdaMulticore(corpus=corpus,\n",
    "                                           id2word=dictionary,\n",
    "                                           num_topics=k, \n",
    "                                           random_state=100,\n",
    "                                           chunksize=100,\n",
    "                                           passes=10,\n",
    "                                           alpha=a,\n",
    "                                           eta=b)\n",
    "    \n",
    "    coherence_model_lda = CoherenceModel(model=lda_model, texts=data_lemmatized, dictionary=id2word, coherence='c_v')\n",
    "    \n",
    "    return coherence_model_lda.get_coherence()"
   ]
  },
  {
   "cell_type": "markdown",
   "id": "aa81c98b",
   "metadata": {},
   "source": [
    "## The following code is commented out bc it takes ages to run, and I have the results csv from when I ran it"
   ]
  },
  {
   "cell_type": "code",
   "execution_count": null,
   "id": "5527d58a",
   "metadata": {
    "scrolled": true
   },
   "outputs": [],
   "source": [
    "# import numpy as np\n",
    "# import tqdm\n",
    "# grid = {}\n",
    "# grid['Validation_Set'] = {}\n",
    "# # Topics range\n",
    "# min_topics = 2\n",
    "# max_topics = 11\n",
    "# step_size = 1\n",
    "# topics_range = range(min_topics, max_topics, step_size)\n",
    "# # Alpha parameter\n",
    "# alpha = list(np.arange(0.01, 1, 0.3))\n",
    "# alpha.append('symmetric')\n",
    "# alpha.append('asymmetric')\n",
    "# # Beta parameter\n",
    "# beta = list(np.arange(0.01, 1, 0.3))\n",
    "# beta.append('symmetric')\n",
    "# # Validation sets\n",
    "# num_of_docs = len(corpus)\n",
    "# corpus_sets = [# gensim.utils.ClippedCorpus(corpus, num_of_docs*0.25), \n",
    "#                # gensim.utils.ClippedCorpus(corpus, num_of_docs*0.5), \n",
    "#                gensim.utils.ClippedCorpus(corpus, int(num_of_docs*0.75)), \n",
    "#                corpus]\n",
    "# corpus_title = ['75% Corpus', '100% Corpus']\n",
    "# model_results = {'Validation_Set': [],\n",
    "#                  'Topics': [],\n",
    "#                  'Alpha': [],\n",
    "#                  'Beta': [],\n",
    "#                  'Coherence': []\n",
    "#                 }\n",
    "# # Can take a long time to run\n",
    "# if 1 == 1:\n",
    "#     pbar = tqdm.tqdm(total=540)\n",
    "    \n",
    "#     # iterate through validation corpuses\n",
    "#     for i in range(len(corpus_sets)):\n",
    "#         # iterate through number of topics\n",
    "#         for k in topics_range:\n",
    "#             # iterate through alpha values\n",
    "#             for a in alpha:\n",
    "#                 # iterare through beta values\n",
    "#                 for b in beta:\n",
    "#                     # get the coherence score for the given parameters\n",
    "#                     cv = compute_coherence_values(corpus=corpus_sets[i], dictionary=id2word, \n",
    "#                                                   k=k, a=a, b=b)\n",
    "#                     # Save the model results\n",
    "#                     model_results['Validation_Set'].append(corpus_title[i])\n",
    "#                     model_results['Topics'].append(k)\n",
    "#                     model_results['Alpha'].append(a)\n",
    "#                     model_results['Beta'].append(b)\n",
    "#                     model_results['Coherence'].append(cv)\n",
    "                    \n",
    "#                     pbar.update(1)\n",
    "#     pd.DataFrame(model_results).to_csv('lda_tuning_results_corpora.csv', index=False)\n",
    "#     pbar.close()"
   ]
  },
  {
   "cell_type": "code",
   "execution_count": null,
   "id": "57bdcfeb",
   "metadata": {},
   "outputs": [],
   "source": [
    "# use the above-selected parameters to train the model\n",
    "\n",
    "lda_model = gensim.models.LdaMulticore(corpus=corpus,\n",
    "                                           id2word=id2word,\n",
    "                                           num_topics=4, \n",
    "                                           random_state=100,\n",
    "                                           chunksize=100,\n",
    "                                           passes=10,\n",
    "                                           alpha=0.01,\n",
    "                                           eta=0.9)"
   ]
  },
  {
   "cell_type": "code",
   "execution_count": null,
   "id": "4418faee",
   "metadata": {},
   "outputs": [],
   "source": [
    "import pyLDAvis.gensim_models as gensimvis\n",
    "import pickle \n",
    "import pyLDAvis\n",
    "# Visualize the topics\n",
    "pyLDAvis.enable_notebook()\n",
    "LDAvis_prepared = gensimvis.prepare(lda_model, corpus, id2word)\n",
    "LDAvis_prepared"
   ]
  },
  {
   "cell_type": "code",
   "execution_count": null,
   "id": "1032c728",
   "metadata": {
    "scrolled": true
   },
   "outputs": [],
   "source": [
    "pyLDAvis.save_html(LDAvis_prepared, \"LDAvis_prepared_titles_4topics2.html\")"
   ]
  },
  {
   "cell_type": "code",
   "execution_count": null,
   "id": "bf36b4a1",
   "metadata": {
    "scrolled": true
   },
   "outputs": [],
   "source": [
    "eval_df = pd.read_csv(\"lda_tuning_results.csv\")\n",
    "eval_df"
   ]
  },
  {
   "cell_type": "code",
   "execution_count": null,
   "id": "459b3069",
   "metadata": {},
   "outputs": [],
   "source": [
    "import seaborn as sns\n",
    "sns.lineplot(data= eval_df,x=\"Topics\",y='Coherence')"
   ]
  },
  {
   "cell_type": "code",
   "execution_count": null,
   "id": "3b34a553",
   "metadata": {},
   "outputs": [],
   "source": [
    "eval_df[eval_df.Topics == 8].groupby(by='Alpha').Coherence.max()"
   ]
  },
  {
   "cell_type": "markdown",
   "id": "7f6107cf",
   "metadata": {},
   "source": [
    "## These were the results as run on the TITLES, not on the stories themselves"
   ]
  },
  {
   "cell_type": "markdown",
   "id": "d2c7aee8",
   "metadata": {},
   "source": [
    "# Topic modeling on aggregations?\n",
    "- melissa block vs the rest maybe??"
   ]
  },
  {
   "cell_type": "code",
   "execution_count": null,
   "id": "4b447e11",
   "metadata": {},
   "outputs": [],
   "source": [
    "stories.head()"
   ]
  },
  {
   "cell_type": "code",
   "execution_count": null,
   "id": "16aa3bae",
   "metadata": {},
   "outputs": [],
   "source": [
    "block = stories[stories.host=='melissa block']\n",
    "block.sample(5)"
   ]
  },
  {
   "cell_type": "code",
   "execution_count": null,
   "id": "a357214f",
   "metadata": {
    "scrolled": false
   },
   "outputs": [],
   "source": [
    "other_hosts=stories[stories.host!='melissa block']\n",
    "other_hosts.sample(5)"
   ]
  },
  {
   "cell_type": "code",
   "execution_count": null,
   "id": "522e9477",
   "metadata": {},
   "outputs": [],
   "source": [
    "stories.program.value_counts()"
   ]
  },
  {
   "cell_type": "code",
   "execution_count": null,
   "id": "6f9bd629",
   "metadata": {
    "scrolled": true
   },
   "outputs": [],
   "source": [
    "morning_edition = stories[stories.program == 'morning edition']\n",
    "morning_edition.sample(5)"
   ]
  },
  {
   "cell_type": "code",
   "execution_count": null,
   "id": "43003896",
   "metadata": {},
   "outputs": [],
   "source": [
    "news_notes = stories[stories.program == 'news & notes']\n",
    "news_notes.sample(5)"
   ]
  },
  {
   "cell_type": "code",
   "execution_count": null,
   "id": "a4580d0e",
   "metadata": {},
   "outputs": [],
   "source": [
    "tsa.head()"
   ]
  },
  {
   "cell_type": "code",
   "execution_count": null,
   "id": "71bc2e3d",
   "metadata": {},
   "outputs": [],
   "source": [
    "tsa.index = pd.to_datetime(tsa.index)\n"
   ]
  },
  {
   "cell_type": "code",
   "execution_count": null,
   "id": "14dc3521",
   "metadata": {},
   "outputs": [],
   "source": [
    "from datetime import datetime"
   ]
  },
  {
   "cell_type": "code",
   "execution_count": null,
   "id": "a990da98",
   "metadata": {},
   "outputs": [],
   "source": [
    "tsa = tsa.set_index('date').sort_index()"
   ]
  },
  {
   "cell_type": "code",
   "execution_count": null,
   "id": "7b19a01b",
   "metadata": {},
   "outputs": [],
   "source": [
    "Obama_election = tsa[datetime(2008,11,7):datetime(2008,11,30)]"
   ]
  },
  {
   "cell_type": "code",
   "execution_count": null,
   "id": "ff655e4f",
   "metadata": {
    "scrolled": true
   },
   "outputs": [],
   "source": [
    "Obama_election.shape"
   ]
  },
  {
   "cell_type": "code",
   "execution_count": null,
   "id": "f85513be",
   "metadata": {},
   "outputs": [],
   "source": [
    "Trump_election = tsa[datetime(2016,11,7):datetime(2016,11,30)]"
   ]
  },
  {
   "cell_type": "code",
   "execution_count": null,
   "id": "4c412724",
   "metadata": {},
   "outputs": [],
   "source": [
    "Trump_election.shape"
   ]
  },
  {
   "cell_type": "code",
   "execution_count": null,
   "id": "3eb42af2",
   "metadata": {
    "scrolled": true
   },
   "outputs": [],
   "source": [
    "big_increase = tsa[datetime(2010,8,1):datetime(2010,8,7)]"
   ]
  },
  {
   "cell_type": "code",
   "execution_count": null,
   "id": "92aefa2d",
   "metadata": {
    "scrolled": true
   },
   "outputs": [],
   "source": [
    "big_increase.title.shape#sample(3).to_list()"
   ]
  },
  {
   "cell_type": "code",
   "execution_count": null,
   "id": "ee4d3e4e",
   "metadata": {},
   "outputs": [],
   "source": [
    "big_decrease = tsa[datetime(2015,11,29):datetime(2015,12,5)]"
   ]
  },
  {
   "cell_type": "code",
   "execution_count": null,
   "id": "cb2222e6",
   "metadata": {},
   "outputs": [],
   "source": [
    "pd.DataFrame(big_decrease.title)#.sample(3)#.to_list()"
   ]
  },
  {
   "cell_type": "markdown",
   "id": "0283a434",
   "metadata": {},
   "source": [
    "## Topic Model for Melissa Block vs. Other Hosts\n",
    "## Also morning ed vs news and notes (bottom sentiment and top sentiment)"
   ]
  },
  {
   "cell_type": "code",
   "execution_count": null,
   "id": "1d53e1b6",
   "metadata": {
    "scrolled": true
   },
   "outputs": [],
   "source": [
    "import gensim\n",
    "from gensim.utils import simple_preprocess\n",
    "import nltk\n",
    "nltk.download('stopwords')\n",
    "from nltk.corpus import stopwords\n",
    "stop_words = stopwords.words('english')\n",
    "# stop_words.extend(['from', 'subject', 're', 'edu', 'use'])\n",
    "def sent_to_words(sentences):\n",
    "    for sentence in sentences:\n",
    "        # deacc=True removes punctuations\n",
    "        yield(gensim.utils.simple_preprocess(str(sentence), deacc=False))\n",
    "def remove_stopwords(texts):\n",
    "    return [[word for word in simple_preprocess(str(doc)) \n",
    "             if word not in stop_words] for doc in texts]\n",
    "data = Obama_election.title.values.tolist()\n",
    "data_words = list(sent_to_words(data))\n",
    "# remove stop words\n",
    "data_words = remove_stopwords(data_words)\n",
    "print(data_words[:1][0][:30])"
   ]
  },
  {
   "cell_type": "code",
   "execution_count": null,
   "id": "6824e3a9",
   "metadata": {},
   "outputs": [],
   "source": [
    "# # Build the bigram and trigram models\n",
    "bigram = gensim.models.Phrases(data_words, min_count=5, threshold=100) # higher threshold fewer phrases.\n",
    "trigram = gensim.models.Phrases(bigram[data_words], threshold=100)\n",
    "# Faster way to get a sentence clubbed as a trigram/bigram\n",
    "bigram_mod = gensim.models.phrases.Phraser(bigram)\n",
    "trigram_mod = gensim.models.phrases.Phraser(trigram)"
   ]
  },
  {
   "cell_type": "code",
   "execution_count": null,
   "id": "200cf223",
   "metadata": {},
   "outputs": [],
   "source": [
    "# NLTK Stop words\n",
    "# import nltk\n",
    "# nltk.download('stopwords')\n",
    "from nltk.corpus import stopwords\n",
    "stop_words = stopwords.words('english')\n",
    "stop_words.extend(['from', 'subject', 're', 'edu', 'use'])\n",
    "# Define functions for stopwords, bigrams, trigrams and lemmatization\n",
    "def remove_stopwords(texts):\n",
    "    return [[word for word in simple_preprocess(str(doc)) if word not in stop_words] for doc in texts]\n",
    "def make_bigrams(texts):\n",
    "    return [bigram_mod[doc] for doc in texts]\n",
    "def make_trigrams(texts):\n",
    "    return [trigram_mod[bigram_mod[doc]] for doc in texts]\n",
    "def lemmatization(texts, allowed_postags=['NOUN', 'ADJ', 'VERB', 'ADV']):\n",
    "    \"\"\"https://spacy.io/api/annotation\"\"\"\n",
    "    texts_out = []\n",
    "    for sent in texts:\n",
    "        doc = nlp(\" \".join(sent)) \n",
    "        texts_out.append([token.lemma_ for token in doc if token.pos_ in allowed_postags])\n",
    "    return texts_out"
   ]
  },
  {
   "cell_type": "code",
   "execution_count": null,
   "id": "d165eac6",
   "metadata": {},
   "outputs": [],
   "source": [
    "import spacy\n",
    "# Remove Stop Words\n",
    "data_words_nostops = remove_stopwords(data_words)\n",
    "# Form Bigrams\n",
    "data_words_bigrams = make_bigrams(data_words_nostops)\n",
    "# Initialize spacy 'en' model, keeping only tagger component (for efficiency)\n",
    "nlp = spacy.load(\"en_core_web_sm\", disable=['parser', 'ner']) # see https://spacy.io/models/en for info on this pipeline\n",
    "# Do lemmatization keeping only noun, adj, vb, adv\n",
    "data_lemmatized = lemmatization(data_words_bigrams, allowed_postags=['NOUN', 'ADJ', 'VERB', 'ADV'])\n",
    "print(data_lemmatized[:1])"
   ]
  },
  {
   "cell_type": "code",
   "execution_count": null,
   "id": "d64b6aa9",
   "metadata": {},
   "outputs": [],
   "source": [
    "import gensim.corpora as corpora\n",
    "# Create Dictionary\n",
    "id2word = corpora.Dictionary(data_lemmatized)\n",
    "# Create Corpus\n",
    "texts = data_lemmatized\n",
    "# Term Document Frequency\n",
    "corpus = [id2word.doc2bow(text) for text in texts]\n",
    "# View\n",
    "print(corpus[:1])"
   ]
  },
  {
   "cell_type": "code",
   "execution_count": null,
   "id": "fb84a869",
   "metadata": {},
   "outputs": [],
   "source": [
    "# Build LDA model\n",
    "lda_model = gensim.models.LdaMulticore(corpus=corpus,\n",
    "                                       id2word=id2word,\n",
    "                                       num_topics=3, \n",
    "                                       random_state=100,\n",
    "                                       chunksize=100,\n",
    "                                       passes=10,\n",
    "                                       per_word_topics=True)"
   ]
  },
  {
   "cell_type": "code",
   "execution_count": null,
   "id": "523250fc",
   "metadata": {},
   "outputs": [],
   "source": [
    "from gensim.models import CoherenceModel\n",
    "# Compute Coherence Score\n",
    "coherence_model_lda = CoherenceModel(model=lda_model, texts=data_lemmatized, dictionary=id2word, coherence='c_v')\n",
    "coherence_lda = coherence_model_lda.get_coherence()\n",
    "print('\\nCoherence Score: ', coherence_lda)"
   ]
  },
  {
   "cell_type": "code",
   "execution_count": null,
   "id": "7acc9cbe",
   "metadata": {
    "scrolled": true
   },
   "outputs": [],
   "source": [
    "import pyLDAvis.gensim_models as gensimvis\n",
    "import pickle \n",
    "import pyLDAvis\n",
    "# Visualize the topics\n",
    "pyLDAvis.enable_notebook()\n",
    "LDAvis_prepared = gensimvis.prepare(lda_model, corpus, id2word)\n",
    "LDAvis_prepared"
   ]
  },
  {
   "cell_type": "code",
   "execution_count": null,
   "id": "8d6afb07",
   "metadata": {
    "scrolled": true
   },
   "outputs": [],
   "source": [
    "pyLDAvis.save_html(LDAvis_prepared, \"Obama_election_titles_3topics.html\")"
   ]
  },
  {
   "cell_type": "code",
   "execution_count": null,
   "id": "9e878a36",
   "metadata": {},
   "outputs": [],
   "source": []
  }
 ],
 "metadata": {
  "kernelspec": {
   "display_name": "Python 3",
   "language": "python",
   "name": "python3"
  },
  "language_info": {
   "codemirror_mode": {
    "name": "ipython",
    "version": 3
   },
   "file_extension": ".py",
   "mimetype": "text/x-python",
   "name": "python",
   "nbconvert_exporter": "python",
   "pygments_lexer": "ipython3",
   "version": "3.8.8"
  }
 },
 "nbformat": 4,
 "nbformat_minor": 5
}
