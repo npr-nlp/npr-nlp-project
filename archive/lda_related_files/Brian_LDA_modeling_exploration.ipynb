{
 "cells": [
  {
   "cell_type": "code",
   "execution_count": 1,
   "id": "cb0e0d55",
   "metadata": {},
   "outputs": [],
   "source": [
    "# Import all the things\n",
    "\n",
    "import json\n",
    "import pandas as pd\n",
    "import numpy as np\n",
    "import wrangle\n",
    "import acquire\n",
    "from prepare import basic_clean, tokenize, lemmatize, stem, remove_stopwords, prep_string_data#, split_data\n",
    "\n",
    "import re\n",
    "from sklearn.feature_extraction.text import TfidfVectorizer\n",
    "\n",
    "from wordcloud import WordCloud\n",
    "from matplotlib import pyplot as plt\n",
    "import seaborn as sns\n",
    "\n",
    "from sklearn.model_selection import train_test_split\n",
    "from sklearn.linear_model import LogisticRegression\n",
    "from sklearn.metrics import classification_report, accuracy_score\n",
    "\n",
    "import nltk\n",
    "\n",
    "from scipy import stats\n",
    "\n",
    "import warnings\n",
    "warnings.filterwarnings(\"ignore\")"
   ]
  },
  {
   "cell_type": "code",
   "execution_count": 2,
   "id": "365b1883",
   "metadata": {},
   "outputs": [],
   "source": [
    "# use our own wrangle to get the data\n",
    "# df = wrangle.get_npr_data()\n",
    "# df.head()"
   ]
  },
  {
   "cell_type": "markdown",
   "id": "892ef9d3",
   "metadata": {},
   "source": [
    "### I'm interested in topic modeling on a story-level basis\n",
    "### So I will need to groupby story_id_num"
   ]
  },
  {
   "cell_type": "code",
   "execution_count": 3,
   "id": "e0cf495e",
   "metadata": {
    "scrolled": true
   },
   "outputs": [],
   "source": [
    "# df = df.sort_values(by=['story_id_num','utterance_order'])\n",
    "# df.head()"
   ]
  },
  {
   "cell_type": "code",
   "execution_count": 4,
   "id": "7d215116",
   "metadata": {},
   "outputs": [],
   "source": [
    "# df = df[['story_id_num','utterance_order','title','lemmatized']]"
   ]
  },
  {
   "cell_type": "code",
   "execution_count": 5,
   "id": "ddd4d712",
   "metadata": {},
   "outputs": [],
   "source": [
    "# df_sample = df[:100]\n",
    "# df_sample"
   ]
  },
  {
   "cell_type": "code",
   "execution_count": 6,
   "id": "d5517083",
   "metadata": {
    "scrolled": true
   },
   "outputs": [],
   "source": [
    "# df_sample.shape"
   ]
  },
  {
   "cell_type": "code",
   "execution_count": 7,
   "id": "e3e1b83d",
   "metadata": {
    "scrolled": true
   },
   "outputs": [],
   "source": [
    "# pd.DataFrame(df_sample.groupby('title').apply(list).reset_index())"
   ]
  },
  {
   "cell_type": "code",
   "execution_count": 8,
   "id": "d6510834",
   "metadata": {},
   "outputs": [],
   "source": [
    "# df_sample.groupby(['story_id_num']).title.first()"
   ]
  },
  {
   "cell_type": "code",
   "execution_count": 9,
   "id": "69a9d3cf",
   "metadata": {},
   "outputs": [],
   "source": [
    "# # group every story as an aggregation of all its utterances\n",
    "# df_sample.groupby(['story_id_num']).lemmatized.agg(' '.join)#.iloc[0]"
   ]
  },
  {
   "cell_type": "code",
   "execution_count": 10,
   "id": "2ce18eb1",
   "metadata": {},
   "outputs": [],
   "source": [
    "# # group every story as an aggregation of all its utterances and store in a DF\n",
    "# stories_test = pd.DataFrame(df_sample.groupby(['story_id_num']).lemmatized.agg(' '.join))\n",
    "# stories_test"
   ]
  },
  {
   "cell_type": "code",
   "execution_count": 11,
   "id": "fe331e27",
   "metadata": {},
   "outputs": [],
   "source": [
    "# stories.iloc[0].values"
   ]
  },
  {
   "cell_type": "markdown",
   "id": "68931099",
   "metadata": {},
   "source": [
    "### Run the above on the whole df"
   ]
  },
  {
   "cell_type": "code",
   "execution_count": 12,
   "id": "ae116654",
   "metadata": {},
   "outputs": [],
   "source": [
    "# df = df.sort_values(by=['story_id_num','utterance_order'])\n",
    "# df.head()"
   ]
  },
  {
   "cell_type": "code",
   "execution_count": 13,
   "id": "d50ef53b",
   "metadata": {
    "scrolled": true
   },
   "outputs": [],
   "source": [
    "# df.dtypes"
   ]
  },
  {
   "cell_type": "code",
   "execution_count": 14,
   "id": "bc48e435",
   "metadata": {},
   "outputs": [],
   "source": [
    "# df.isna().sum()"
   ]
  },
  {
   "cell_type": "code",
   "execution_count": 15,
   "id": "c48a30ca",
   "metadata": {},
   "outputs": [],
   "source": [
    "# df = df.dropna()"
   ]
  },
  {
   "cell_type": "markdown",
   "id": "6afe59d5",
   "metadata": {},
   "source": [
    "#### well...it worked on the sample above\n",
    "#### had to drop 2 nulls that existed in the lemmatized column"
   ]
  },
  {
   "cell_type": "code",
   "execution_count": 16,
   "id": "37b7c426",
   "metadata": {},
   "outputs": [],
   "source": [
    "# # group every story as an aggregation of all its utterances and store in a DF\n",
    "# stories = pd.DataFrame(df.groupby(['story_id_num']).lemmatized.agg(' '.join))\n",
    "# stories"
   ]
  },
  {
   "cell_type": "markdown",
   "id": "3ff7768b",
   "metadata": {},
   "source": [
    "-  61,165 stories to work with here"
   ]
  },
  {
   "cell_type": "code",
   "execution_count": 17,
   "id": "b7d9290f",
   "metadata": {},
   "outputs": [],
   "source": [
    "# this attempt to get the word count for every story isn't working currently\n",
    "# stories['word_count'] = df.lemmatized.apply(str.split).apply(len)\n",
    "# stories.head()"
   ]
  },
  {
   "cell_type": "code",
   "execution_count": 18,
   "id": "99f31e49",
   "metadata": {},
   "outputs": [],
   "source": [
    "# sia = nltk.sentiment.SentimentIntensityAnalyzer()\n",
    "# stories['vader'] = stories.lemmatized.apply(lambda doc: sia.polarity_scores(doc)['compound'])\n",
    "# stories.head()"
   ]
  },
  {
   "cell_type": "code",
   "execution_count": 19,
   "id": "be6abbae",
   "metadata": {},
   "outputs": [],
   "source": [
    "# stories.to_csv('stories.csv')"
   ]
  },
  {
   "cell_type": "code",
   "execution_count": 20,
   "id": "f7c86142",
   "metadata": {},
   "outputs": [
    {
     "data": {
      "text/html": [
       "<div>\n",
       "<style scoped>\n",
       "    .dataframe tbody tr th:only-of-type {\n",
       "        vertical-align: middle;\n",
       "    }\n",
       "\n",
       "    .dataframe tbody tr th {\n",
       "        vertical-align: top;\n",
       "    }\n",
       "\n",
       "    .dataframe thead th {\n",
       "        text-align: right;\n",
       "    }\n",
       "</style>\n",
       "<table border=\"1\" class=\"dataframe\">\n",
       "  <thead>\n",
       "    <tr style=\"text-align: right;\">\n",
       "      <th></th>\n",
       "      <th>Unnamed: 0</th>\n",
       "      <th>story_id_num</th>\n",
       "      <th>lemmatized</th>\n",
       "      <th>vader</th>\n",
       "      <th>title</th>\n",
       "      <th>date</th>\n",
       "      <th>host</th>\n",
       "      <th>program</th>\n",
       "    </tr>\n",
       "  </thead>\n",
       "  <tbody>\n",
       "    <tr>\n",
       "      <th>0</th>\n",
       "      <td>0</td>\n",
       "      <td>17</td>\n",
       "      <td>he is in cahoot with a foreign government to m...</td>\n",
       "      <td>0.9964</td>\n",
       "      <td>n.j. democrat on reported whistleblower compla...</td>\n",
       "      <td>2019-09-22</td>\n",
       "      <td>melissa block</td>\n",
       "      <td>weekend edition sunday</td>\n",
       "    </tr>\n",
       "    <tr>\n",
       "      <th>1</th>\n",
       "      <td>1</td>\n",
       "      <td>18</td>\n",
       "      <td>come with concrete plan , not beautiful speech...</td>\n",
       "      <td>0.9993</td>\n",
       "      <td>ahead of climate summit, 2 views from cities i...</td>\n",
       "      <td>2019-09-22</td>\n",
       "      <td>melissa block</td>\n",
       "      <td>weekend edition sunday</td>\n",
       "    </tr>\n",
       "    <tr>\n",
       "      <th>2</th>\n",
       "      <td>2</td>\n",
       "      <td>19</td>\n",
       "      <td>if you stand outside the old dekalb county cou...</td>\n",
       "      <td>0.9974</td>\n",
       "      <td>barred from removing confederate monument, cou...</td>\n",
       "      <td>2019-09-22</td>\n",
       "      <td>melissa block</td>\n",
       "      <td>weekend edition sunday</td>\n",
       "    </tr>\n",
       "    <tr>\n",
       "      <th>3</th>\n",
       "      <td>3</td>\n",
       "      <td>20</td>\n",
       "      <td>you may have spotted pink salt in your superma...</td>\n",
       "      <td>0.4950</td>\n",
       "      <td>pakistan's pink himalayan salt has become a ma...</td>\n",
       "      <td>2019-09-22</td>\n",
       "      <td>melissa block</td>\n",
       "      <td>weekend edition sunday</td>\n",
       "    </tr>\n",
       "    <tr>\n",
       "      <th>4</th>\n",
       "      <td>4</td>\n",
       "      <td>21</td>\n",
       "      <td>singing in foreign language . the other day , ...</td>\n",
       "      <td>0.9730</td>\n",
       "      <td>10 years after haiti's earthquake, 'this music...</td>\n",
       "      <td>2019-09-22</td>\n",
       "      <td>melissa block</td>\n",
       "      <td>weekend edition sunday</td>\n",
       "    </tr>\n",
       "  </tbody>\n",
       "</table>\n",
       "</div>"
      ],
      "text/plain": [
       "   Unnamed: 0  story_id_num  \\\n",
       "0           0            17   \n",
       "1           1            18   \n",
       "2           2            19   \n",
       "3           3            20   \n",
       "4           4            21   \n",
       "\n",
       "                                          lemmatized   vader  \\\n",
       "0  he is in cahoot with a foreign government to m...  0.9964   \n",
       "1  come with concrete plan , not beautiful speech...  0.9993   \n",
       "2  if you stand outside the old dekalb county cou...  0.9974   \n",
       "3  you may have spotted pink salt in your superma...  0.4950   \n",
       "4  singing in foreign language . the other day , ...  0.9730   \n",
       "\n",
       "                                               title        date  \\\n",
       "0  n.j. democrat on reported whistleblower compla...  2019-09-22   \n",
       "1  ahead of climate summit, 2 views from cities i...  2019-09-22   \n",
       "2  barred from removing confederate monument, cou...  2019-09-22   \n",
       "3  pakistan's pink himalayan salt has become a ma...  2019-09-22   \n",
       "4  10 years after haiti's earthquake, 'this music...  2019-09-22   \n",
       "\n",
       "            host                 program  \n",
       "0  melissa block  weekend edition sunday  \n",
       "1  melissa block  weekend edition sunday  \n",
       "2  melissa block  weekend edition sunday  \n",
       "3  melissa block  weekend edition sunday  \n",
       "4  melissa block  weekend edition sunday  "
      ]
     },
     "execution_count": 20,
     "metadata": {},
     "output_type": "execute_result"
    }
   ],
   "source": [
    "stories = pd.read_csv('stories.csv')\n",
    "stories.head()"
   ]
  },
  {
   "cell_type": "code",
   "execution_count": 21,
   "id": "91333286",
   "metadata": {},
   "outputs": [],
   "source": [
    "stories = stories.drop(columns = ['Unnamed: 0'])"
   ]
  },
  {
   "cell_type": "code",
   "execution_count": 22,
   "id": "ec034411",
   "metadata": {
    "scrolled": true
   },
   "outputs": [
    {
     "data": {
      "text/plain": [
       "(61165, 7)"
      ]
     },
     "execution_count": 22,
     "metadata": {},
     "output_type": "execute_result"
    }
   ],
   "source": [
    "stories.shape"
   ]
  },
  {
   "cell_type": "code",
   "execution_count": 23,
   "id": "cd509f79",
   "metadata": {},
   "outputs": [],
   "source": [
    "# len(df.groupby(['story_id_num']).title.first())"
   ]
  },
  {
   "cell_type": "code",
   "execution_count": 24,
   "id": "9e30a1b0",
   "metadata": {},
   "outputs": [],
   "source": [
    "# stories['title'] = df.groupby(['story_id_num']).title.first().tolist()"
   ]
  },
  {
   "cell_type": "code",
   "execution_count": 25,
   "id": "6f17ac3e",
   "metadata": {
    "scrolled": false
   },
   "outputs": [
    {
     "data": {
      "text/html": [
       "<div>\n",
       "<style scoped>\n",
       "    .dataframe tbody tr th:only-of-type {\n",
       "        vertical-align: middle;\n",
       "    }\n",
       "\n",
       "    .dataframe tbody tr th {\n",
       "        vertical-align: top;\n",
       "    }\n",
       "\n",
       "    .dataframe thead th {\n",
       "        text-align: right;\n",
       "    }\n",
       "</style>\n",
       "<table border=\"1\" class=\"dataframe\">\n",
       "  <thead>\n",
       "    <tr style=\"text-align: right;\">\n",
       "      <th></th>\n",
       "      <th>story_id_num</th>\n",
       "      <th>lemmatized</th>\n",
       "      <th>vader</th>\n",
       "      <th>title</th>\n",
       "      <th>date</th>\n",
       "      <th>host</th>\n",
       "      <th>program</th>\n",
       "    </tr>\n",
       "  </thead>\n",
       "  <tbody>\n",
       "    <tr>\n",
       "      <th>0</th>\n",
       "      <td>17</td>\n",
       "      <td>he is in cahoot with a foreign government to m...</td>\n",
       "      <td>0.9964</td>\n",
       "      <td>n.j. democrat on reported whistleblower compla...</td>\n",
       "      <td>2019-09-22</td>\n",
       "      <td>melissa block</td>\n",
       "      <td>weekend edition sunday</td>\n",
       "    </tr>\n",
       "    <tr>\n",
       "      <th>1</th>\n",
       "      <td>18</td>\n",
       "      <td>come with concrete plan , not beautiful speech...</td>\n",
       "      <td>0.9993</td>\n",
       "      <td>ahead of climate summit, 2 views from cities i...</td>\n",
       "      <td>2019-09-22</td>\n",
       "      <td>melissa block</td>\n",
       "      <td>weekend edition sunday</td>\n",
       "    </tr>\n",
       "    <tr>\n",
       "      <th>2</th>\n",
       "      <td>19</td>\n",
       "      <td>if you stand outside the old dekalb county cou...</td>\n",
       "      <td>0.9974</td>\n",
       "      <td>barred from removing confederate monument, cou...</td>\n",
       "      <td>2019-09-22</td>\n",
       "      <td>melissa block</td>\n",
       "      <td>weekend edition sunday</td>\n",
       "    </tr>\n",
       "    <tr>\n",
       "      <th>3</th>\n",
       "      <td>20</td>\n",
       "      <td>you may have spotted pink salt in your superma...</td>\n",
       "      <td>0.4950</td>\n",
       "      <td>pakistan's pink himalayan salt has become a ma...</td>\n",
       "      <td>2019-09-22</td>\n",
       "      <td>melissa block</td>\n",
       "      <td>weekend edition sunday</td>\n",
       "    </tr>\n",
       "    <tr>\n",
       "      <th>4</th>\n",
       "      <td>21</td>\n",
       "      <td>singing in foreign language . the other day , ...</td>\n",
       "      <td>0.9730</td>\n",
       "      <td>10 years after haiti's earthquake, 'this music...</td>\n",
       "      <td>2019-09-22</td>\n",
       "      <td>melissa block</td>\n",
       "      <td>weekend edition sunday</td>\n",
       "    </tr>\n",
       "  </tbody>\n",
       "</table>\n",
       "</div>"
      ],
      "text/plain": [
       "   story_id_num                                         lemmatized   vader  \\\n",
       "0            17  he is in cahoot with a foreign government to m...  0.9964   \n",
       "1            18  come with concrete plan , not beautiful speech...  0.9993   \n",
       "2            19  if you stand outside the old dekalb county cou...  0.9974   \n",
       "3            20  you may have spotted pink salt in your superma...  0.4950   \n",
       "4            21  singing in foreign language . the other day , ...  0.9730   \n",
       "\n",
       "                                               title        date  \\\n",
       "0  n.j. democrat on reported whistleblower compla...  2019-09-22   \n",
       "1  ahead of climate summit, 2 views from cities i...  2019-09-22   \n",
       "2  barred from removing confederate monument, cou...  2019-09-22   \n",
       "3  pakistan's pink himalayan salt has become a ma...  2019-09-22   \n",
       "4  10 years after haiti's earthquake, 'this music...  2019-09-22   \n",
       "\n",
       "            host                 program  \n",
       "0  melissa block  weekend edition sunday  \n",
       "1  melissa block  weekend edition sunday  \n",
       "2  melissa block  weekend edition sunday  \n",
       "3  melissa block  weekend edition sunday  \n",
       "4  melissa block  weekend edition sunday  "
      ]
     },
     "execution_count": 25,
     "metadata": {},
     "output_type": "execute_result"
    }
   ],
   "source": [
    "stories.head()"
   ]
  },
  {
   "cell_type": "code",
   "execution_count": 26,
   "id": "3fff5378",
   "metadata": {},
   "outputs": [],
   "source": [
    "# stories['host'] = test[test.is_host==True].groupby('story_id_num').speaker.first().tolist()"
   ]
  },
  {
   "cell_type": "code",
   "execution_count": 27,
   "id": "2238e753",
   "metadata": {},
   "outputs": [],
   "source": [
    "# test = df.sort_values(by=['story_id_num'])"
   ]
  },
  {
   "cell_type": "code",
   "execution_count": 28,
   "id": "4f38e3ec",
   "metadata": {
    "scrolled": true
   },
   "outputs": [],
   "source": [
    "# test[test.is_host==True].groupby('story_id_num').speaker.first()"
   ]
  },
  {
   "cell_type": "code",
   "execution_count": 29,
   "id": "186d7d0d",
   "metadata": {},
   "outputs": [],
   "source": [
    "# df.head()"
   ]
  },
  {
   "cell_type": "code",
   "execution_count": 30,
   "id": "42141993",
   "metadata": {},
   "outputs": [],
   "source": [
    "# stories['program'] = df.groupby(['story_id_num']).program.first().tolist()"
   ]
  },
  {
   "cell_type": "code",
   "execution_count": 31,
   "id": "8402214b",
   "metadata": {},
   "outputs": [
    {
     "data": {
      "text/html": [
       "<div>\n",
       "<style scoped>\n",
       "    .dataframe tbody tr th:only-of-type {\n",
       "        vertical-align: middle;\n",
       "    }\n",
       "\n",
       "    .dataframe tbody tr th {\n",
       "        vertical-align: top;\n",
       "    }\n",
       "\n",
       "    .dataframe thead th {\n",
       "        text-align: right;\n",
       "    }\n",
       "</style>\n",
       "<table border=\"1\" class=\"dataframe\">\n",
       "  <thead>\n",
       "    <tr style=\"text-align: right;\">\n",
       "      <th></th>\n",
       "      <th>story_id_num</th>\n",
       "      <th>lemmatized</th>\n",
       "      <th>vader</th>\n",
       "      <th>title</th>\n",
       "      <th>date</th>\n",
       "      <th>host</th>\n",
       "      <th>program</th>\n",
       "    </tr>\n",
       "  </thead>\n",
       "  <tbody>\n",
       "    <tr>\n",
       "      <th>0</th>\n",
       "      <td>17</td>\n",
       "      <td>he is in cahoot with a foreign government to m...</td>\n",
       "      <td>0.9964</td>\n",
       "      <td>n.j. democrat on reported whistleblower compla...</td>\n",
       "      <td>2019-09-22</td>\n",
       "      <td>melissa block</td>\n",
       "      <td>weekend edition sunday</td>\n",
       "    </tr>\n",
       "    <tr>\n",
       "      <th>1</th>\n",
       "      <td>18</td>\n",
       "      <td>come with concrete plan , not beautiful speech...</td>\n",
       "      <td>0.9993</td>\n",
       "      <td>ahead of climate summit, 2 views from cities i...</td>\n",
       "      <td>2019-09-22</td>\n",
       "      <td>melissa block</td>\n",
       "      <td>weekend edition sunday</td>\n",
       "    </tr>\n",
       "    <tr>\n",
       "      <th>2</th>\n",
       "      <td>19</td>\n",
       "      <td>if you stand outside the old dekalb county cou...</td>\n",
       "      <td>0.9974</td>\n",
       "      <td>barred from removing confederate monument, cou...</td>\n",
       "      <td>2019-09-22</td>\n",
       "      <td>melissa block</td>\n",
       "      <td>weekend edition sunday</td>\n",
       "    </tr>\n",
       "    <tr>\n",
       "      <th>3</th>\n",
       "      <td>20</td>\n",
       "      <td>you may have spotted pink salt in your superma...</td>\n",
       "      <td>0.4950</td>\n",
       "      <td>pakistan's pink himalayan salt has become a ma...</td>\n",
       "      <td>2019-09-22</td>\n",
       "      <td>melissa block</td>\n",
       "      <td>weekend edition sunday</td>\n",
       "    </tr>\n",
       "    <tr>\n",
       "      <th>4</th>\n",
       "      <td>21</td>\n",
       "      <td>singing in foreign language . the other day , ...</td>\n",
       "      <td>0.9730</td>\n",
       "      <td>10 years after haiti's earthquake, 'this music...</td>\n",
       "      <td>2019-09-22</td>\n",
       "      <td>melissa block</td>\n",
       "      <td>weekend edition sunday</td>\n",
       "    </tr>\n",
       "  </tbody>\n",
       "</table>\n",
       "</div>"
      ],
      "text/plain": [
       "   story_id_num                                         lemmatized   vader  \\\n",
       "0            17  he is in cahoot with a foreign government to m...  0.9964   \n",
       "1            18  come with concrete plan , not beautiful speech...  0.9993   \n",
       "2            19  if you stand outside the old dekalb county cou...  0.9974   \n",
       "3            20  you may have spotted pink salt in your superma...  0.4950   \n",
       "4            21  singing in foreign language . the other day , ...  0.9730   \n",
       "\n",
       "                                               title        date  \\\n",
       "0  n.j. democrat on reported whistleblower compla...  2019-09-22   \n",
       "1  ahead of climate summit, 2 views from cities i...  2019-09-22   \n",
       "2  barred from removing confederate monument, cou...  2019-09-22   \n",
       "3  pakistan's pink himalayan salt has become a ma...  2019-09-22   \n",
       "4  10 years after haiti's earthquake, 'this music...  2019-09-22   \n",
       "\n",
       "            host                 program  \n",
       "0  melissa block  weekend edition sunday  \n",
       "1  melissa block  weekend edition sunday  \n",
       "2  melissa block  weekend edition sunday  \n",
       "3  melissa block  weekend edition sunday  \n",
       "4  melissa block  weekend edition sunday  "
      ]
     },
     "execution_count": 31,
     "metadata": {},
     "output_type": "execute_result"
    }
   ],
   "source": [
    "stories.head()"
   ]
  },
  {
   "cell_type": "code",
   "execution_count": 32,
   "id": "4226f1d0",
   "metadata": {},
   "outputs": [],
   "source": [
    "# stories.to_csv('stories.csv')"
   ]
  },
  {
   "cell_type": "code",
   "execution_count": 33,
   "id": "3c03b052",
   "metadata": {},
   "outputs": [
    {
     "data": {
      "text/plain": [
       "39"
      ]
     },
     "execution_count": 33,
     "metadata": {},
     "output_type": "execute_result"
    }
   ],
   "source": [
    "stories.vader.idxmax()"
   ]
  },
  {
   "cell_type": "code",
   "execution_count": 34,
   "id": "e5419d0a",
   "metadata": {},
   "outputs": [],
   "source": [
    "# stories.lemmatized[39]"
   ]
  },
  {
   "cell_type": "code",
   "execution_count": 35,
   "id": "b8b46417",
   "metadata": {},
   "outputs": [
    {
     "data": {
      "text/plain": [
       "'so hard to say goodbye: advice for farewell notes'"
      ]
     },
     "execution_count": 35,
     "metadata": {},
     "output_type": "execute_result"
    }
   ],
   "source": [
    "stories.title[39]"
   ]
  },
  {
   "cell_type": "markdown",
   "id": "351725d9",
   "metadata": {},
   "source": [
    "The first highest-sentiment article is about hallmark greeting cards"
   ]
  },
  {
   "cell_type": "code",
   "execution_count": 36,
   "id": "86afecb8",
   "metadata": {},
   "outputs": [
    {
     "data": {
      "text/html": [
       "<div>\n",
       "<style scoped>\n",
       "    .dataframe tbody tr th:only-of-type {\n",
       "        vertical-align: middle;\n",
       "    }\n",
       "\n",
       "    .dataframe tbody tr th {\n",
       "        vertical-align: top;\n",
       "    }\n",
       "\n",
       "    .dataframe thead th {\n",
       "        text-align: right;\n",
       "    }\n",
       "</style>\n",
       "<table border=\"1\" class=\"dataframe\">\n",
       "  <thead>\n",
       "    <tr style=\"text-align: right;\">\n",
       "      <th></th>\n",
       "      <th>story_id_num</th>\n",
       "      <th>lemmatized</th>\n",
       "      <th>vader</th>\n",
       "      <th>title</th>\n",
       "      <th>date</th>\n",
       "      <th>host</th>\n",
       "      <th>program</th>\n",
       "    </tr>\n",
       "  </thead>\n",
       "  <tbody>\n",
       "    <tr>\n",
       "      <th>39</th>\n",
       "      <td>620</td>\n",
       "      <td>looking ahead to our last day , many of our fr...</td>\n",
       "      <td>1.0</td>\n",
       "      <td>so hard to say goodbye: advice for farewell notes</td>\n",
       "      <td>2013-06-27</td>\n",
       "      <td>neal conan</td>\n",
       "      <td>talk of the nation</td>\n",
       "    </tr>\n",
       "    <tr>\n",
       "      <th>42</th>\n",
       "      <td>623</td>\n",
       "      <td>this is talk of the nation. i m neal conan , i...</td>\n",
       "      <td>1.0</td>\n",
       "      <td>a look ahead and a farewell to the political j...</td>\n",
       "      <td>2013-06-26</td>\n",
       "      <td>neal conan</td>\n",
       "      <td>talk of the nation</td>\n",
       "    </tr>\n",
       "    <tr>\n",
       "      <th>43</th>\n",
       "      <td>624</td>\n",
       "      <td>this is talk of the nation. i m neal conan , i...</td>\n",
       "      <td>1.0</td>\n",
       "      <td>what changes after supreme court rulings on pr...</td>\n",
       "      <td>2013-06-26</td>\n",
       "      <td>neal conan</td>\n",
       "      <td>talk of the nation</td>\n",
       "    </tr>\n",
       "    <tr>\n",
       "      <th>44</th>\n",
       "      <td>625</td>\n",
       "      <td>from small country church , to the stage of th...</td>\n",
       "      <td>1.0</td>\n",
       "      <td>gospel legend mavis staples comes 'full circle'</td>\n",
       "      <td>2013-06-26</td>\n",
       "      <td>neal conan</td>\n",
       "      <td>talk of the nation</td>\n",
       "    </tr>\n",
       "    <tr>\n",
       "      <th>141</th>\n",
       "      <td>898</td>\n",
       "      <td>this is talk of the nation. i m neal conan in ...</td>\n",
       "      <td>1.0</td>\n",
       "      <td>'blood &amp;amp; beauty' breathes new life into th...</td>\n",
       "      <td>2013-06-20</td>\n",
       "      <td>neal conan</td>\n",
       "      <td>talk of the nation</td>\n",
       "    </tr>\n",
       "    <tr>\n",
       "      <th>...</th>\n",
       "      <td>...</td>\n",
       "      <td>...</td>\n",
       "      <td>...</td>\n",
       "      <td>...</td>\n",
       "      <td>...</td>\n",
       "      <td>...</td>\n",
       "      <td>...</td>\n",
       "    </tr>\n",
       "    <tr>\n",
       "      <th>23796</th>\n",
       "      <td>84430</td>\n",
       "      <td>this is talk of the nation. i m neal conan in ...</td>\n",
       "      <td>1.0</td>\n",
       "      <td>state legislatures: agendas and budgets</td>\n",
       "      <td>2005-01-11</td>\n",
       "      <td>neal conan</td>\n",
       "      <td>talk of the nation</td>\n",
       "    </tr>\n",
       "    <tr>\n",
       "      <th>23995</th>\n",
       "      <td>84850</td>\n",
       "      <td>time now for a story that is decidedly not a n...</td>\n",
       "      <td>1.0</td>\n",
       "      <td>encore: an elf questions santa's naughty or ni...</td>\n",
       "      <td>2016-12-23</td>\n",
       "      <td>ari shapiro</td>\n",
       "      <td>all things considered</td>\n",
       "    </tr>\n",
       "    <tr>\n",
       "      <th>27366</th>\n",
       "      <td>90916</td>\n",
       "      <td>the political campaign are taking a break. the...</td>\n",
       "      <td>1.0</td>\n",
       "      <td>santa for president in 2016</td>\n",
       "      <td>2015-12-25</td>\n",
       "      <td>robert siegel</td>\n",
       "      <td>all things considered</td>\n",
       "    </tr>\n",
       "    <tr>\n",
       "      <th>30850</th>\n",
       "      <td>96419</td>\n",
       "      <td>now we re going to take a break from news , fr...</td>\n",
       "      <td>1.0</td>\n",
       "      <td>listen: the not-so-true story of santa's naugh...</td>\n",
       "      <td>2014-12-25</td>\n",
       "      <td>robert siegel</td>\n",
       "      <td>all things considered</td>\n",
       "    </tr>\n",
       "    <tr>\n",
       "      <th>61123</th>\n",
       "      <td>140684</td>\n",
       "      <td>from npr news , this is all thing considered. ...</td>\n",
       "      <td>1.0</td>\n",
       "      <td>dear birth mother: a story of 'transracial ado...</td>\n",
       "      <td>2005-05-09</td>\n",
       "      <td>robert siegel</td>\n",
       "      <td>all things considered</td>\n",
       "    </tr>\n",
       "  </tbody>\n",
       "</table>\n",
       "<p>1345 rows × 7 columns</p>\n",
       "</div>"
      ],
      "text/plain": [
       "       story_id_num                                         lemmatized  vader  \\\n",
       "39              620  looking ahead to our last day , many of our fr...    1.0   \n",
       "42              623  this is talk of the nation. i m neal conan , i...    1.0   \n",
       "43              624  this is talk of the nation. i m neal conan , i...    1.0   \n",
       "44              625  from small country church , to the stage of th...    1.0   \n",
       "141             898  this is talk of the nation. i m neal conan in ...    1.0   \n",
       "...             ...                                                ...    ...   \n",
       "23796         84430  this is talk of the nation. i m neal conan in ...    1.0   \n",
       "23995         84850  time now for a story that is decidedly not a n...    1.0   \n",
       "27366         90916  the political campaign are taking a break. the...    1.0   \n",
       "30850         96419  now we re going to take a break from news , fr...    1.0   \n",
       "61123        140684  from npr news , this is all thing considered. ...    1.0   \n",
       "\n",
       "                                                   title        date  \\\n",
       "39     so hard to say goodbye: advice for farewell notes  2013-06-27   \n",
       "42     a look ahead and a farewell to the political j...  2013-06-26   \n",
       "43     what changes after supreme court rulings on pr...  2013-06-26   \n",
       "44       gospel legend mavis staples comes 'full circle'  2013-06-26   \n",
       "141    'blood &amp; beauty' breathes new life into th...  2013-06-20   \n",
       "...                                                  ...         ...   \n",
       "23796            state legislatures: agendas and budgets  2005-01-11   \n",
       "23995  encore: an elf questions santa's naughty or ni...  2016-12-23   \n",
       "27366                        santa for president in 2016  2015-12-25   \n",
       "30850  listen: the not-so-true story of santa's naugh...  2014-12-25   \n",
       "61123  dear birth mother: a story of 'transracial ado...  2005-05-09   \n",
       "\n",
       "                host                program  \n",
       "39        neal conan     talk of the nation  \n",
       "42        neal conan     talk of the nation  \n",
       "43        neal conan     talk of the nation  \n",
       "44        neal conan     talk of the nation  \n",
       "141       neal conan     talk of the nation  \n",
       "...              ...                    ...  \n",
       "23796     neal conan     talk of the nation  \n",
       "23995    ari shapiro  all things considered  \n",
       "27366  robert siegel  all things considered  \n",
       "30850  robert siegel  all things considered  \n",
       "61123  robert siegel  all things considered  \n",
       "\n",
       "[1345 rows x 7 columns]"
      ]
     },
     "execution_count": 36,
     "metadata": {},
     "output_type": "execute_result"
    }
   ],
   "source": [
    "stories[stories.vader == 1]"
   ]
  },
  {
   "cell_type": "markdown",
   "id": "ed32a08b",
   "metadata": {},
   "source": [
    "- Actually...there are 1345 stories with a max vader score"
   ]
  },
  {
   "cell_type": "code",
   "execution_count": 37,
   "id": "c2ddf210",
   "metadata": {},
   "outputs": [
    {
     "data": {
      "text/html": [
       "<div>\n",
       "<style scoped>\n",
       "    .dataframe tbody tr th:only-of-type {\n",
       "        vertical-align: middle;\n",
       "    }\n",
       "\n",
       "    .dataframe tbody tr th {\n",
       "        vertical-align: top;\n",
       "    }\n",
       "\n",
       "    .dataframe thead th {\n",
       "        text-align: right;\n",
       "    }\n",
       "</style>\n",
       "<table border=\"1\" class=\"dataframe\">\n",
       "  <thead>\n",
       "    <tr style=\"text-align: right;\">\n",
       "      <th></th>\n",
       "      <th>story_id_num</th>\n",
       "      <th>lemmatized</th>\n",
       "      <th>vader</th>\n",
       "      <th>title</th>\n",
       "      <th>date</th>\n",
       "      <th>host</th>\n",
       "      <th>program</th>\n",
       "    </tr>\n",
       "  </thead>\n",
       "  <tbody>\n",
       "    <tr>\n",
       "      <th>39</th>\n",
       "      <td>620</td>\n",
       "      <td>looking ahead to our last day , many of our fr...</td>\n",
       "      <td>1.0</td>\n",
       "      <td>so hard to say goodbye: advice for farewell notes</td>\n",
       "      <td>2013-06-27</td>\n",
       "      <td>neal conan</td>\n",
       "      <td>talk of the nation</td>\n",
       "    </tr>\n",
       "    <tr>\n",
       "      <th>42</th>\n",
       "      <td>623</td>\n",
       "      <td>this is talk of the nation. i m neal conan , i...</td>\n",
       "      <td>1.0</td>\n",
       "      <td>a look ahead and a farewell to the political j...</td>\n",
       "      <td>2013-06-26</td>\n",
       "      <td>neal conan</td>\n",
       "      <td>talk of the nation</td>\n",
       "    </tr>\n",
       "    <tr>\n",
       "      <th>43</th>\n",
       "      <td>624</td>\n",
       "      <td>this is talk of the nation. i m neal conan , i...</td>\n",
       "      <td>1.0</td>\n",
       "      <td>what changes after supreme court rulings on pr...</td>\n",
       "      <td>2013-06-26</td>\n",
       "      <td>neal conan</td>\n",
       "      <td>talk of the nation</td>\n",
       "    </tr>\n",
       "    <tr>\n",
       "      <th>44</th>\n",
       "      <td>625</td>\n",
       "      <td>from small country church , to the stage of th...</td>\n",
       "      <td>1.0</td>\n",
       "      <td>gospel legend mavis staples comes 'full circle'</td>\n",
       "      <td>2013-06-26</td>\n",
       "      <td>neal conan</td>\n",
       "      <td>talk of the nation</td>\n",
       "    </tr>\n",
       "    <tr>\n",
       "      <th>141</th>\n",
       "      <td>898</td>\n",
       "      <td>this is talk of the nation. i m neal conan in ...</td>\n",
       "      <td>1.0</td>\n",
       "      <td>'blood &amp;amp; beauty' breathes new life into th...</td>\n",
       "      <td>2013-06-20</td>\n",
       "      <td>neal conan</td>\n",
       "      <td>talk of the nation</td>\n",
       "    </tr>\n",
       "    <tr>\n",
       "      <th>...</th>\n",
       "      <td>...</td>\n",
       "      <td>...</td>\n",
       "      <td>...</td>\n",
       "      <td>...</td>\n",
       "      <td>...</td>\n",
       "      <td>...</td>\n",
       "      <td>...</td>\n",
       "    </tr>\n",
       "    <tr>\n",
       "      <th>23796</th>\n",
       "      <td>84430</td>\n",
       "      <td>this is talk of the nation. i m neal conan in ...</td>\n",
       "      <td>1.0</td>\n",
       "      <td>state legislatures: agendas and budgets</td>\n",
       "      <td>2005-01-11</td>\n",
       "      <td>neal conan</td>\n",
       "      <td>talk of the nation</td>\n",
       "    </tr>\n",
       "    <tr>\n",
       "      <th>23995</th>\n",
       "      <td>84850</td>\n",
       "      <td>time now for a story that is decidedly not a n...</td>\n",
       "      <td>1.0</td>\n",
       "      <td>encore: an elf questions santa's naughty or ni...</td>\n",
       "      <td>2016-12-23</td>\n",
       "      <td>ari shapiro</td>\n",
       "      <td>all things considered</td>\n",
       "    </tr>\n",
       "    <tr>\n",
       "      <th>27366</th>\n",
       "      <td>90916</td>\n",
       "      <td>the political campaign are taking a break. the...</td>\n",
       "      <td>1.0</td>\n",
       "      <td>santa for president in 2016</td>\n",
       "      <td>2015-12-25</td>\n",
       "      <td>robert siegel</td>\n",
       "      <td>all things considered</td>\n",
       "    </tr>\n",
       "    <tr>\n",
       "      <th>30850</th>\n",
       "      <td>96419</td>\n",
       "      <td>now we re going to take a break from news , fr...</td>\n",
       "      <td>1.0</td>\n",
       "      <td>listen: the not-so-true story of santa's naugh...</td>\n",
       "      <td>2014-12-25</td>\n",
       "      <td>robert siegel</td>\n",
       "      <td>all things considered</td>\n",
       "    </tr>\n",
       "    <tr>\n",
       "      <th>61123</th>\n",
       "      <td>140684</td>\n",
       "      <td>from npr news , this is all thing considered. ...</td>\n",
       "      <td>1.0</td>\n",
       "      <td>dear birth mother: a story of 'transracial ado...</td>\n",
       "      <td>2005-05-09</td>\n",
       "      <td>robert siegel</td>\n",
       "      <td>all things considered</td>\n",
       "    </tr>\n",
       "  </tbody>\n",
       "</table>\n",
       "<p>1345 rows × 7 columns</p>\n",
       "</div>"
      ],
      "text/plain": [
       "       story_id_num                                         lemmatized  vader  \\\n",
       "39              620  looking ahead to our last day , many of our fr...    1.0   \n",
       "42              623  this is talk of the nation. i m neal conan , i...    1.0   \n",
       "43              624  this is talk of the nation. i m neal conan , i...    1.0   \n",
       "44              625  from small country church , to the stage of th...    1.0   \n",
       "141             898  this is talk of the nation. i m neal conan in ...    1.0   \n",
       "...             ...                                                ...    ...   \n",
       "23796         84430  this is talk of the nation. i m neal conan in ...    1.0   \n",
       "23995         84850  time now for a story that is decidedly not a n...    1.0   \n",
       "27366         90916  the political campaign are taking a break. the...    1.0   \n",
       "30850         96419  now we re going to take a break from news , fr...    1.0   \n",
       "61123        140684  from npr news , this is all thing considered. ...    1.0   \n",
       "\n",
       "                                                   title        date  \\\n",
       "39     so hard to say goodbye: advice for farewell notes  2013-06-27   \n",
       "42     a look ahead and a farewell to the political j...  2013-06-26   \n",
       "43     what changes after supreme court rulings on pr...  2013-06-26   \n",
       "44       gospel legend mavis staples comes 'full circle'  2013-06-26   \n",
       "141    'blood &amp; beauty' breathes new life into th...  2013-06-20   \n",
       "...                                                  ...         ...   \n",
       "23796            state legislatures: agendas and budgets  2005-01-11   \n",
       "23995  encore: an elf questions santa's naughty or ni...  2016-12-23   \n",
       "27366                        santa for president in 2016  2015-12-25   \n",
       "30850  listen: the not-so-true story of santa's naugh...  2014-12-25   \n",
       "61123  dear birth mother: a story of 'transracial ado...  2005-05-09   \n",
       "\n",
       "                host                program  \n",
       "39        neal conan     talk of the nation  \n",
       "42        neal conan     talk of the nation  \n",
       "43        neal conan     talk of the nation  \n",
       "44        neal conan     talk of the nation  \n",
       "141       neal conan     talk of the nation  \n",
       "...              ...                    ...  \n",
       "23796     neal conan     talk of the nation  \n",
       "23995    ari shapiro  all things considered  \n",
       "27366  robert siegel  all things considered  \n",
       "30850  robert siegel  all things considered  \n",
       "61123  robert siegel  all things considered  \n",
       "\n",
       "[1345 rows x 7 columns]"
      ]
     },
     "execution_count": 37,
     "metadata": {},
     "output_type": "execute_result"
    }
   ],
   "source": [
    "brightest_stories = stories[stories.vader == 1]\n",
    "brightest_stories"
   ]
  },
  {
   "cell_type": "code",
   "execution_count": 38,
   "id": "4dce7f9e",
   "metadata": {},
   "outputs": [
    {
     "data": {
      "text/plain": [
       "['taking 3-d to tv',\n",
       " 'a chat with computing pioneer steve wozniak',\n",
       " 'and the award for best picture goes to....',\n",
       " 'switching the energy economy of san antonio',\n",
       " 'tribute to the music of new orleans',\n",
       " 'as gingrich fades, eyes turn to vp picks',\n",
       " 'coaching through crisis: how teams get through rough spots',\n",
       " \"intelligence failures in 'top secret america'\",\n",
       " \"carl sagan's scientific 'search for god'\",\n",
       " 'social conservatives vie for role in 2012 gop debate']"
      ]
     },
     "execution_count": 38,
     "metadata": {},
     "output_type": "execute_result"
    }
   ],
   "source": [
    "brightest_stories.title.sample(10).to_list()"
   ]
  },
  {
   "cell_type": "code",
   "execution_count": 39,
   "id": "84889a94",
   "metadata": {},
   "outputs": [
    {
     "data": {
      "text/html": [
       "<div>\n",
       "<style scoped>\n",
       "    .dataframe tbody tr th:only-of-type {\n",
       "        vertical-align: middle;\n",
       "    }\n",
       "\n",
       "    .dataframe tbody tr th {\n",
       "        vertical-align: top;\n",
       "    }\n",
       "\n",
       "    .dataframe thead th {\n",
       "        text-align: right;\n",
       "    }\n",
       "</style>\n",
       "<table border=\"1\" class=\"dataframe\">\n",
       "  <thead>\n",
       "    <tr style=\"text-align: right;\">\n",
       "      <th></th>\n",
       "      <th>story_id_num</th>\n",
       "      <th>lemmatized</th>\n",
       "      <th>vader</th>\n",
       "      <th>title</th>\n",
       "      <th>date</th>\n",
       "      <th>host</th>\n",
       "      <th>program</th>\n",
       "    </tr>\n",
       "  </thead>\n",
       "  <tbody>\n",
       "    <tr>\n",
       "      <th>749</th>\n",
       "      <td>2749</td>\n",
       "      <td>this is talk of the nation. i m neal conan in ...</td>\n",
       "      <td>-1.0</td>\n",
       "      <td>the epidemiology of gun violence: race, region...</td>\n",
       "      <td>2013-03-26</td>\n",
       "      <td>neal conan</td>\n",
       "      <td>talk of the nation</td>\n",
       "    </tr>\n",
       "    <tr>\n",
       "      <th>5731</th>\n",
       "      <td>19881</td>\n",
       "      <td>this is talk of the nation. i m neal conan in ...</td>\n",
       "      <td>-1.0</td>\n",
       "      <td>how do you define a hate crime?</td>\n",
       "      <td>2012-03-19</td>\n",
       "      <td>neal conan</td>\n",
       "      <td>talk of the nation</td>\n",
       "    </tr>\n",
       "    <tr>\n",
       "      <th>10730</th>\n",
       "      <td>55411</td>\n",
       "      <td>this is talk of the nation. i m neal conan , i...</td>\n",
       "      <td>-1.0</td>\n",
       "      <td>understanding suicide terrorism and how to sto...</td>\n",
       "      <td>2010-10-11</td>\n",
       "      <td>neal conan</td>\n",
       "      <td>talk of the nation</td>\n",
       "    </tr>\n",
       "    <tr>\n",
       "      <th>11827</th>\n",
       "      <td>58454</td>\n",
       "      <td>this is talk of the nation. im neal conan in w...</td>\n",
       "      <td>-1.0</td>\n",
       "      <td>deconstructing 'myths about suicide'</td>\n",
       "      <td>2010-04-28</td>\n",
       "      <td>neal conan</td>\n",
       "      <td>talk of the nation</td>\n",
       "    </tr>\n",
       "    <tr>\n",
       "      <th>15177</th>\n",
       "      <td>66409</td>\n",
       "      <td>this is talk of the nation. i m neal conan in ...</td>\n",
       "      <td>-1.0</td>\n",
       "      <td>the legacy of bush's 'war on terror'</td>\n",
       "      <td>2009-01-12</td>\n",
       "      <td>neal conan</td>\n",
       "      <td>talk of the nation</td>\n",
       "    </tr>\n",
       "    <tr>\n",
       "      <th>17237</th>\n",
       "      <td>71520</td>\n",
       "      <td>this is talk of the nation. i m neal conan in ...</td>\n",
       "      <td>-1.0</td>\n",
       "      <td>who carries out suicide bombings?</td>\n",
       "      <td>2008-01-22</td>\n",
       "      <td>neal conan</td>\n",
       "      <td>talk of the nation</td>\n",
       "    </tr>\n",
       "    <tr>\n",
       "      <th>18838</th>\n",
       "      <td>75087</td>\n",
       "      <td>this is talk of the nation. i m neal conan in ...</td>\n",
       "      <td>-1.0</td>\n",
       "      <td>how do we define terrorism?</td>\n",
       "      <td>2007-06-04</td>\n",
       "      <td>neal conan</td>\n",
       "      <td>talk of the nation</td>\n",
       "    </tr>\n",
       "    <tr>\n",
       "      <th>21189</th>\n",
       "      <td>79688</td>\n",
       "      <td>this is talk of the nation. i m neal conan , i...</td>\n",
       "      <td>-1.0</td>\n",
       "      <td>should the guantanamo prison be closed?</td>\n",
       "      <td>2006-05-23</td>\n",
       "      <td>neal conan</td>\n",
       "      <td>talk of the nation</td>\n",
       "    </tr>\n",
       "    <tr>\n",
       "      <th>21287</th>\n",
       "      <td>79858</td>\n",
       "      <td>from npr news in washington , dc , i m neal co...</td>\n",
       "      <td>-1.0</td>\n",
       "      <td>'war of nerves': a history of chemical weapons</td>\n",
       "      <td>2006-05-08</td>\n",
       "      <td>neal conan</td>\n",
       "      <td>talk of the nation</td>\n",
       "    </tr>\n",
       "  </tbody>\n",
       "</table>\n",
       "</div>"
      ],
      "text/plain": [
       "       story_id_num                                         lemmatized  vader  \\\n",
       "749            2749  this is talk of the nation. i m neal conan in ...   -1.0   \n",
       "5731          19881  this is talk of the nation. i m neal conan in ...   -1.0   \n",
       "10730         55411  this is talk of the nation. i m neal conan , i...   -1.0   \n",
       "11827         58454  this is talk of the nation. im neal conan in w...   -1.0   \n",
       "15177         66409  this is talk of the nation. i m neal conan in ...   -1.0   \n",
       "17237         71520  this is talk of the nation. i m neal conan in ...   -1.0   \n",
       "18838         75087  this is talk of the nation. i m neal conan in ...   -1.0   \n",
       "21189         79688  this is talk of the nation. i m neal conan , i...   -1.0   \n",
       "21287         79858  from npr news in washington , dc , i m neal co...   -1.0   \n",
       "\n",
       "                                                   title        date  \\\n",
       "749    the epidemiology of gun violence: race, region...  2013-03-26   \n",
       "5731                     how do you define a hate crime?  2012-03-19   \n",
       "10730  understanding suicide terrorism and how to sto...  2010-10-11   \n",
       "11827               deconstructing 'myths about suicide'  2010-04-28   \n",
       "15177               the legacy of bush's 'war on terror'  2009-01-12   \n",
       "17237                  who carries out suicide bombings?  2008-01-22   \n",
       "18838                        how do we define terrorism?  2007-06-04   \n",
       "21189            should the guantanamo prison be closed?  2006-05-23   \n",
       "21287     'war of nerves': a history of chemical weapons  2006-05-08   \n",
       "\n",
       "             host             program  \n",
       "749    neal conan  talk of the nation  \n",
       "5731   neal conan  talk of the nation  \n",
       "10730  neal conan  talk of the nation  \n",
       "11827  neal conan  talk of the nation  \n",
       "15177  neal conan  talk of the nation  \n",
       "17237  neal conan  talk of the nation  \n",
       "18838  neal conan  talk of the nation  \n",
       "21189  neal conan  talk of the nation  \n",
       "21287  neal conan  talk of the nation  "
      ]
     },
     "execution_count": 39,
     "metadata": {},
     "output_type": "execute_result"
    }
   ],
   "source": [
    "stories[stories.vader == -1]"
   ]
  },
  {
   "cell_type": "markdown",
   "id": "263c537b",
   "metadata": {},
   "source": [
    "- But only 9 stories with the lowest vader score, including..."
   ]
  },
  {
   "cell_type": "code",
   "execution_count": 40,
   "id": "baf086de",
   "metadata": {},
   "outputs": [],
   "source": [
    "# stories.lemmatized[749]"
   ]
  },
  {
   "cell_type": "code",
   "execution_count": 41,
   "id": "b26f0b9b",
   "metadata": {},
   "outputs": [
    {
     "data": {
      "text/plain": [
       "'the epidemiology of gun violence: race, region and policy'"
      ]
     },
     "execution_count": 41,
     "metadata": {},
     "output_type": "execute_result"
    }
   ],
   "source": [
    "stories.title[749]"
   ]
  },
  {
   "cell_type": "markdown",
   "id": "e350d14a",
   "metadata": {},
   "source": [
    "- A story aboout \"gun death , race , sex and region\""
   ]
  },
  {
   "cell_type": "code",
   "execution_count": 42,
   "id": "2e218730",
   "metadata": {},
   "outputs": [
    {
     "data": {
      "text/html": [
       "<div>\n",
       "<style scoped>\n",
       "    .dataframe tbody tr th:only-of-type {\n",
       "        vertical-align: middle;\n",
       "    }\n",
       "\n",
       "    .dataframe tbody tr th {\n",
       "        vertical-align: top;\n",
       "    }\n",
       "\n",
       "    .dataframe thead th {\n",
       "        text-align: right;\n",
       "    }\n",
       "</style>\n",
       "<table border=\"1\" class=\"dataframe\">\n",
       "  <thead>\n",
       "    <tr style=\"text-align: right;\">\n",
       "      <th></th>\n",
       "      <th>story_id_num</th>\n",
       "      <th>lemmatized</th>\n",
       "      <th>vader</th>\n",
       "      <th>title</th>\n",
       "      <th>date</th>\n",
       "      <th>host</th>\n",
       "      <th>program</th>\n",
       "    </tr>\n",
       "  </thead>\n",
       "  <tbody>\n",
       "    <tr>\n",
       "      <th>749</th>\n",
       "      <td>2749</td>\n",
       "      <td>this is talk of the nation. i m neal conan in ...</td>\n",
       "      <td>-1.0</td>\n",
       "      <td>the epidemiology of gun violence: race, region...</td>\n",
       "      <td>2013-03-26</td>\n",
       "      <td>neal conan</td>\n",
       "      <td>talk of the nation</td>\n",
       "    </tr>\n",
       "    <tr>\n",
       "      <th>5731</th>\n",
       "      <td>19881</td>\n",
       "      <td>this is talk of the nation. i m neal conan in ...</td>\n",
       "      <td>-1.0</td>\n",
       "      <td>how do you define a hate crime?</td>\n",
       "      <td>2012-03-19</td>\n",
       "      <td>neal conan</td>\n",
       "      <td>talk of the nation</td>\n",
       "    </tr>\n",
       "    <tr>\n",
       "      <th>10730</th>\n",
       "      <td>55411</td>\n",
       "      <td>this is talk of the nation. i m neal conan , i...</td>\n",
       "      <td>-1.0</td>\n",
       "      <td>understanding suicide terrorism and how to sto...</td>\n",
       "      <td>2010-10-11</td>\n",
       "      <td>neal conan</td>\n",
       "      <td>talk of the nation</td>\n",
       "    </tr>\n",
       "    <tr>\n",
       "      <th>11827</th>\n",
       "      <td>58454</td>\n",
       "      <td>this is talk of the nation. im neal conan in w...</td>\n",
       "      <td>-1.0</td>\n",
       "      <td>deconstructing 'myths about suicide'</td>\n",
       "      <td>2010-04-28</td>\n",
       "      <td>neal conan</td>\n",
       "      <td>talk of the nation</td>\n",
       "    </tr>\n",
       "    <tr>\n",
       "      <th>15177</th>\n",
       "      <td>66409</td>\n",
       "      <td>this is talk of the nation. i m neal conan in ...</td>\n",
       "      <td>-1.0</td>\n",
       "      <td>the legacy of bush's 'war on terror'</td>\n",
       "      <td>2009-01-12</td>\n",
       "      <td>neal conan</td>\n",
       "      <td>talk of the nation</td>\n",
       "    </tr>\n",
       "    <tr>\n",
       "      <th>17237</th>\n",
       "      <td>71520</td>\n",
       "      <td>this is talk of the nation. i m neal conan in ...</td>\n",
       "      <td>-1.0</td>\n",
       "      <td>who carries out suicide bombings?</td>\n",
       "      <td>2008-01-22</td>\n",
       "      <td>neal conan</td>\n",
       "      <td>talk of the nation</td>\n",
       "    </tr>\n",
       "    <tr>\n",
       "      <th>18838</th>\n",
       "      <td>75087</td>\n",
       "      <td>this is talk of the nation. i m neal conan in ...</td>\n",
       "      <td>-1.0</td>\n",
       "      <td>how do we define terrorism?</td>\n",
       "      <td>2007-06-04</td>\n",
       "      <td>neal conan</td>\n",
       "      <td>talk of the nation</td>\n",
       "    </tr>\n",
       "    <tr>\n",
       "      <th>21189</th>\n",
       "      <td>79688</td>\n",
       "      <td>this is talk of the nation. i m neal conan , i...</td>\n",
       "      <td>-1.0</td>\n",
       "      <td>should the guantanamo prison be closed?</td>\n",
       "      <td>2006-05-23</td>\n",
       "      <td>neal conan</td>\n",
       "      <td>talk of the nation</td>\n",
       "    </tr>\n",
       "    <tr>\n",
       "      <th>21287</th>\n",
       "      <td>79858</td>\n",
       "      <td>from npr news in washington , dc , i m neal co...</td>\n",
       "      <td>-1.0</td>\n",
       "      <td>'war of nerves': a history of chemical weapons</td>\n",
       "      <td>2006-05-08</td>\n",
       "      <td>neal conan</td>\n",
       "      <td>talk of the nation</td>\n",
       "    </tr>\n",
       "  </tbody>\n",
       "</table>\n",
       "</div>"
      ],
      "text/plain": [
       "       story_id_num                                         lemmatized  vader  \\\n",
       "749            2749  this is talk of the nation. i m neal conan in ...   -1.0   \n",
       "5731          19881  this is talk of the nation. i m neal conan in ...   -1.0   \n",
       "10730         55411  this is talk of the nation. i m neal conan , i...   -1.0   \n",
       "11827         58454  this is talk of the nation. im neal conan in w...   -1.0   \n",
       "15177         66409  this is talk of the nation. i m neal conan in ...   -1.0   \n",
       "17237         71520  this is talk of the nation. i m neal conan in ...   -1.0   \n",
       "18838         75087  this is talk of the nation. i m neal conan in ...   -1.0   \n",
       "21189         79688  this is talk of the nation. i m neal conan , i...   -1.0   \n",
       "21287         79858  from npr news in washington , dc , i m neal co...   -1.0   \n",
       "\n",
       "                                                   title        date  \\\n",
       "749    the epidemiology of gun violence: race, region...  2013-03-26   \n",
       "5731                     how do you define a hate crime?  2012-03-19   \n",
       "10730  understanding suicide terrorism and how to sto...  2010-10-11   \n",
       "11827               deconstructing 'myths about suicide'  2010-04-28   \n",
       "15177               the legacy of bush's 'war on terror'  2009-01-12   \n",
       "17237                  who carries out suicide bombings?  2008-01-22   \n",
       "18838                        how do we define terrorism?  2007-06-04   \n",
       "21189            should the guantanamo prison be closed?  2006-05-23   \n",
       "21287     'war of nerves': a history of chemical weapons  2006-05-08   \n",
       "\n",
       "             host             program  \n",
       "749    neal conan  talk of the nation  \n",
       "5731   neal conan  talk of the nation  \n",
       "10730  neal conan  talk of the nation  \n",
       "11827  neal conan  talk of the nation  \n",
       "15177  neal conan  talk of the nation  \n",
       "17237  neal conan  talk of the nation  \n",
       "18838  neal conan  talk of the nation  \n",
       "21189  neal conan  talk of the nation  \n",
       "21287  neal conan  talk of the nation  "
      ]
     },
     "execution_count": 42,
     "metadata": {},
     "output_type": "execute_result"
    }
   ],
   "source": [
    "darkest_stories = stories[stories.vader == -1]\n",
    "darkest_stories"
   ]
  },
  {
   "cell_type": "code",
   "execution_count": 43,
   "id": "4473b8a6",
   "metadata": {},
   "outputs": [
    {
     "name": "stdout",
     "output_type": "stream",
     "text": [
      "the epidemiology of gun violence: race, region and policy\n",
      "how do you define a hate crime?\n",
      "understanding suicide terrorism and how to stop it\n",
      "deconstructing 'myths about suicide'\n",
      "the legacy of bush's 'war on terror'\n",
      "who carries out suicide bombings?\n",
      "how do we define terrorism?\n",
      "should the guantanamo prison be closed?\n",
      "'war of nerves': a history of chemical weapons\n"
     ]
    }
   ],
   "source": [
    "for story in darkest_stories.title:\n",
    "    print(story)"
   ]
  },
  {
   "cell_type": "markdown",
   "id": "593f83f5",
   "metadata": {},
   "source": [
    "- Here's a list of the stories with the lowest possible sentiment score"
   ]
  },
  {
   "cell_type": "code",
   "execution_count": 44,
   "id": "803dc5a4",
   "metadata": {},
   "outputs": [
    {
     "data": {
      "text/html": [
       "<div>\n",
       "<style scoped>\n",
       "    .dataframe tbody tr th:only-of-type {\n",
       "        vertical-align: middle;\n",
       "    }\n",
       "\n",
       "    .dataframe tbody tr th {\n",
       "        vertical-align: top;\n",
       "    }\n",
       "\n",
       "    .dataframe thead th {\n",
       "        text-align: right;\n",
       "    }\n",
       "</style>\n",
       "<table border=\"1\" class=\"dataframe\">\n",
       "  <thead>\n",
       "    <tr style=\"text-align: right;\">\n",
       "      <th></th>\n",
       "      <th>story_id_num</th>\n",
       "      <th>lemmatized</th>\n",
       "      <th>vader</th>\n",
       "      <th>title</th>\n",
       "      <th>date</th>\n",
       "      <th>host</th>\n",
       "      <th>program</th>\n",
       "    </tr>\n",
       "  </thead>\n",
       "  <tbody>\n",
       "    <tr>\n",
       "      <th>39</th>\n",
       "      <td>620</td>\n",
       "      <td>looking ahead to our last day , many of our fr...</td>\n",
       "      <td>1.0</td>\n",
       "      <td>so hard to say goodbye: advice for farewell notes</td>\n",
       "      <td>2013-06-27</td>\n",
       "      <td>neal conan</td>\n",
       "      <td>talk of the nation</td>\n",
       "    </tr>\n",
       "  </tbody>\n",
       "</table>\n",
       "</div>"
      ],
      "text/plain": [
       "    story_id_num                                         lemmatized  vader  \\\n",
       "39           620  looking ahead to our last day , many of our fr...    1.0   \n",
       "\n",
       "                                                title        date        host  \\\n",
       "39  so hard to say goodbye: advice for farewell notes  2013-06-27  neal conan   \n",
       "\n",
       "               program  \n",
       "39  talk of the nation  "
      ]
     },
     "execution_count": 44,
     "metadata": {},
     "output_type": "execute_result"
    }
   ],
   "source": [
    "brightest_stories = stories[stories.vader == 1]\n",
    "brightest_stories.head(1)"
   ]
  },
  {
   "cell_type": "code",
   "execution_count": 45,
   "id": "5e6c7568",
   "metadata": {},
   "outputs": [],
   "source": [
    "brightest_stories_title_list = []\n",
    "for story in brightest_stories.title:\n",
    "    brightest_stories_title_list.append(story)"
   ]
  },
  {
   "cell_type": "code",
   "execution_count": 46,
   "id": "20438f54",
   "metadata": {},
   "outputs": [
    {
     "data": {
      "text/plain": [
       "['so hard to say goodbye: advice for farewell notes',\n",
       " 'a look ahead and a farewell to the political junkie',\n",
       " 'what changes after supreme court rulings on prop 8 and doma',\n",
       " \"gospel legend mavis staples comes 'full circle'\",\n",
       " \"'blood &amp; beauty' breathes new life into the borgias\",\n",
       " 'the penultimate edition of the political junkie',\n",
       " 'will work for free? the future of the unpaid internship',\n",
       " \"india.arie returns, with an eye toward a new 'songversation'\",\n",
       " \"from 'casablanca' to 'e.t. the extra-terrestrial': famous farewells in film\",\n",
       " 'inside the cel: behind the scenes with animators',\n",
       " 'a look ahead to the future of the gop',\n",
       " 'the scifri book club takes a hike',\n",
       " 'the role of the attorney general throughout history',\n",
       " 'cartoonist lynda barry helps college students tap innate creativity',\n",
       " 'looking ahead with the wonders of krulwich',\n",
       " 'the promise and limitations of telemedicine',\n",
       " \"iowa's open senate seat and rumbles about 2016\",\n",
       " 'hospital costs go public: what changes in health care?',\n",
       " 'a look ahead to the future of new orleans',\n",
       " 'michael pollan: you are what you cook',\n",
       " 'to avoid or to embrace? how actors navigate stereotypes',\n",
       " \"utah's fossil finds describe an ancient world\",\n",
       " 'when conscience conflicts with constituents',\n",
       " 'robert ballard: 50 years exploring deep waters',\n",
       " 'tackling terrible traffic: how cities try to ease commutes',\n",
       " 'second chances in american politics',\n",
       " 'coaching through crisis: how teams get through rough spots',\n",
       " 'gripping science tales need not be science fiction',\n",
       " 'personal stories and shifting opinions on same-sex marriage',\n",
       " \"amid syria's crisis, mental health care for refugees\"]"
      ]
     },
     "execution_count": 46,
     "metadata": {},
     "output_type": "execute_result"
    }
   ],
   "source": [
    "# brightest_stories_title_list = pd.DataFrame(brightest_stories_title_list)\n",
    "brightest_stories_title_list[:30]"
   ]
  },
  {
   "cell_type": "markdown",
   "id": "4198b668",
   "metadata": {},
   "source": [
    "-  At first glance, these brightest stories seem to mostly belong to a 'human interest' typee news category"
   ]
  },
  {
   "cell_type": "code",
   "execution_count": 47,
   "id": "5215407a",
   "metadata": {},
   "outputs": [],
   "source": [
    "# stories.lemmatized[stories.title == \"iowa's open senate seat and rumbles about 2016\"].values"
   ]
  },
  {
   "cell_type": "markdown",
   "id": "3a1546f5",
   "metadata": {},
   "source": [
    "- One oddball example in the bright stories, unusually about politics"
   ]
  },
  {
   "cell_type": "code",
   "execution_count": 48,
   "id": "a585dbea",
   "metadata": {},
   "outputs": [
    {
     "data": {
      "text/html": [
       "<div>\n",
       "<style scoped>\n",
       "    .dataframe tbody tr th:only-of-type {\n",
       "        vertical-align: middle;\n",
       "    }\n",
       "\n",
       "    .dataframe tbody tr th {\n",
       "        vertical-align: top;\n",
       "    }\n",
       "\n",
       "    .dataframe thead th {\n",
       "        text-align: right;\n",
       "    }\n",
       "</style>\n",
       "<table border=\"1\" class=\"dataframe\">\n",
       "  <thead>\n",
       "    <tr style=\"text-align: right;\">\n",
       "      <th></th>\n",
       "      <th>story_id_num</th>\n",
       "      <th>lemmatized</th>\n",
       "      <th>vader</th>\n",
       "      <th>title</th>\n",
       "      <th>date</th>\n",
       "      <th>host</th>\n",
       "      <th>program</th>\n",
       "    </tr>\n",
       "  </thead>\n",
       "  <tbody>\n",
       "    <tr>\n",
       "      <th>0</th>\n",
       "      <td>17</td>\n",
       "      <td>he is in cahoot with a foreign government to m...</td>\n",
       "      <td>0.9964</td>\n",
       "      <td>n.j. democrat on reported whistleblower compla...</td>\n",
       "      <td>2019-09-22</td>\n",
       "      <td>melissa block</td>\n",
       "      <td>weekend edition sunday</td>\n",
       "    </tr>\n",
       "    <tr>\n",
       "      <th>1</th>\n",
       "      <td>18</td>\n",
       "      <td>come with concrete plan , not beautiful speech...</td>\n",
       "      <td>0.9993</td>\n",
       "      <td>ahead of climate summit, 2 views from cities i...</td>\n",
       "      <td>2019-09-22</td>\n",
       "      <td>melissa block</td>\n",
       "      <td>weekend edition sunday</td>\n",
       "    </tr>\n",
       "    <tr>\n",
       "      <th>2</th>\n",
       "      <td>19</td>\n",
       "      <td>if you stand outside the old dekalb county cou...</td>\n",
       "      <td>0.9974</td>\n",
       "      <td>barred from removing confederate monument, cou...</td>\n",
       "      <td>2019-09-22</td>\n",
       "      <td>melissa block</td>\n",
       "      <td>weekend edition sunday</td>\n",
       "    </tr>\n",
       "    <tr>\n",
       "      <th>3</th>\n",
       "      <td>20</td>\n",
       "      <td>you may have spotted pink salt in your superma...</td>\n",
       "      <td>0.4950</td>\n",
       "      <td>pakistan's pink himalayan salt has become a ma...</td>\n",
       "      <td>2019-09-22</td>\n",
       "      <td>melissa block</td>\n",
       "      <td>weekend edition sunday</td>\n",
       "    </tr>\n",
       "    <tr>\n",
       "      <th>4</th>\n",
       "      <td>21</td>\n",
       "      <td>singing in foreign language . the other day , ...</td>\n",
       "      <td>0.9730</td>\n",
       "      <td>10 years after haiti's earthquake, 'this music...</td>\n",
       "      <td>2019-09-22</td>\n",
       "      <td>melissa block</td>\n",
       "      <td>weekend edition sunday</td>\n",
       "    </tr>\n",
       "  </tbody>\n",
       "</table>\n",
       "</div>"
      ],
      "text/plain": [
       "   story_id_num                                         lemmatized   vader  \\\n",
       "0            17  he is in cahoot with a foreign government to m...  0.9964   \n",
       "1            18  come with concrete plan , not beautiful speech...  0.9993   \n",
       "2            19  if you stand outside the old dekalb county cou...  0.9974   \n",
       "3            20  you may have spotted pink salt in your superma...  0.4950   \n",
       "4            21  singing in foreign language . the other day , ...  0.9730   \n",
       "\n",
       "                                               title        date  \\\n",
       "0  n.j. democrat on reported whistleblower compla...  2019-09-22   \n",
       "1  ahead of climate summit, 2 views from cities i...  2019-09-22   \n",
       "2  barred from removing confederate monument, cou...  2019-09-22   \n",
       "3  pakistan's pink himalayan salt has become a ma...  2019-09-22   \n",
       "4  10 years after haiti's earthquake, 'this music...  2019-09-22   \n",
       "\n",
       "            host                 program  \n",
       "0  melissa block  weekend edition sunday  \n",
       "1  melissa block  weekend edition sunday  \n",
       "2  melissa block  weekend edition sunday  \n",
       "3  melissa block  weekend edition sunday  \n",
       "4  melissa block  weekend edition sunday  "
      ]
     },
     "execution_count": 48,
     "metadata": {},
     "output_type": "execute_result"
    }
   ],
   "source": [
    "stories.head()"
   ]
  },
  {
   "cell_type": "code",
   "execution_count": 49,
   "id": "17b5bc9f",
   "metadata": {},
   "outputs": [],
   "source": [
    "# get dates for the stories from original df\n",
    "# stories['date'] = df.groupby(['story_id_num']).date.first().tolist()"
   ]
  },
  {
   "cell_type": "code",
   "execution_count": 50,
   "id": "3aa5b727",
   "metadata": {},
   "outputs": [],
   "source": [
    "# get new csv\n",
    "# stories.to_csv(\"stories.csv\")"
   ]
  },
  {
   "cell_type": "code",
   "execution_count": 51,
   "id": "3841d902",
   "metadata": {},
   "outputs": [],
   "source": [
    "stories.date = pd.to_datetime(stories.date)"
   ]
  },
  {
   "cell_type": "code",
   "execution_count": 52,
   "id": "81dbdd78",
   "metadata": {
    "scrolled": true
   },
   "outputs": [
    {
     "data": {
      "text/plain": [
       "story_id_num             int64\n",
       "lemmatized              object\n",
       "vader                  float64\n",
       "title                   object\n",
       "date            datetime64[ns]\n",
       "host                    object\n",
       "program                 object\n",
       "dtype: object"
      ]
     },
     "execution_count": 52,
     "metadata": {},
     "output_type": "execute_result"
    }
   ],
   "source": [
    "stories.dtypes"
   ]
  },
  {
   "cell_type": "code",
   "execution_count": 53,
   "id": "f6938346",
   "metadata": {},
   "outputs": [
    {
     "data": {
      "text/html": [
       "<div>\n",
       "<style scoped>\n",
       "    .dataframe tbody tr th:only-of-type {\n",
       "        vertical-align: middle;\n",
       "    }\n",
       "\n",
       "    .dataframe tbody tr th {\n",
       "        vertical-align: top;\n",
       "    }\n",
       "\n",
       "    .dataframe thead th {\n",
       "        text-align: right;\n",
       "    }\n",
       "</style>\n",
       "<table border=\"1\" class=\"dataframe\">\n",
       "  <thead>\n",
       "    <tr style=\"text-align: right;\">\n",
       "      <th></th>\n",
       "      <th>story_id_num</th>\n",
       "      <th>lemmatized</th>\n",
       "      <th>vader</th>\n",
       "      <th>title</th>\n",
       "      <th>date</th>\n",
       "      <th>host</th>\n",
       "      <th>program</th>\n",
       "    </tr>\n",
       "    <tr>\n",
       "      <th>date</th>\n",
       "      <th></th>\n",
       "      <th></th>\n",
       "      <th></th>\n",
       "      <th></th>\n",
       "      <th></th>\n",
       "      <th></th>\n",
       "      <th></th>\n",
       "    </tr>\n",
       "  </thead>\n",
       "  <tbody>\n",
       "    <tr>\n",
       "      <th>2005-01-11</th>\n",
       "      <td>84430</td>\n",
       "      <td>this is talk of the nation. i m neal conan in ...</td>\n",
       "      <td>1.0000</td>\n",
       "      <td>state legislatures: agendas and budgets</td>\n",
       "      <td>2005-01-11</td>\n",
       "      <td>neal conan</td>\n",
       "      <td>talk of the nation</td>\n",
       "    </tr>\n",
       "    <tr>\n",
       "      <th>2005-01-11</th>\n",
       "      <td>84432</td>\n",
       "      <td>this is talk of the nation. i m neal conan in ...</td>\n",
       "      <td>0.9999</td>\n",
       "      <td>difference between a think and a 'blink'</td>\n",
       "      <td>2005-01-11</td>\n",
       "      <td>neal conan</td>\n",
       "      <td>talk of the nation</td>\n",
       "    </tr>\n",
       "    <tr>\n",
       "      <th>2005-01-11</th>\n",
       "      <td>84433</td>\n",
       "      <td>this is talk of the nation. i m neal conan in ...</td>\n",
       "      <td>0.9999</td>\n",
       "      <td>bush picks judge to head homeland security</td>\n",
       "      <td>2005-01-11</td>\n",
       "      <td>neal conan</td>\n",
       "      <td>talk of the nation</td>\n",
       "    </tr>\n",
       "    <tr>\n",
       "      <th>2005-01-11</th>\n",
       "      <td>84434</td>\n",
       "      <td>scientist at the national oceanic and atmosphe...</td>\n",
       "      <td>0.9914</td>\n",
       "      <td>noaa aims for predicting tsunamis</td>\n",
       "      <td>2005-01-11</td>\n",
       "      <td>neal conan</td>\n",
       "      <td>talk of the nation</td>\n",
       "    </tr>\n",
       "    <tr>\n",
       "      <th>2005-01-11</th>\n",
       "      <td>84431</td>\n",
       "      <td>this is talk of the nation. i m neal conan in ...</td>\n",
       "      <td>0.9999</td>\n",
       "      <td>california rains bring rash of mudslides</td>\n",
       "      <td>2005-01-11</td>\n",
       "      <td>neal conan</td>\n",
       "      <td>talk of the nation</td>\n",
       "    </tr>\n",
       "  </tbody>\n",
       "</table>\n",
       "</div>"
      ],
      "text/plain": [
       "            story_id_num                                         lemmatized  \\\n",
       "date                                                                          \n",
       "2005-01-11         84430  this is talk of the nation. i m neal conan in ...   \n",
       "2005-01-11         84432  this is talk of the nation. i m neal conan in ...   \n",
       "2005-01-11         84433  this is talk of the nation. i m neal conan in ...   \n",
       "2005-01-11         84434  scientist at the national oceanic and atmosphe...   \n",
       "2005-01-11         84431  this is talk of the nation. i m neal conan in ...   \n",
       "\n",
       "             vader                                       title       date  \\\n",
       "date                                                                        \n",
       "2005-01-11  1.0000     state legislatures: agendas and budgets 2005-01-11   \n",
       "2005-01-11  0.9999    difference between a think and a 'blink' 2005-01-11   \n",
       "2005-01-11  0.9999  bush picks judge to head homeland security 2005-01-11   \n",
       "2005-01-11  0.9914           noaa aims for predicting tsunamis 2005-01-11   \n",
       "2005-01-11  0.9999    california rains bring rash of mudslides 2005-01-11   \n",
       "\n",
       "                  host             program  \n",
       "date                                        \n",
       "2005-01-11  neal conan  talk of the nation  \n",
       "2005-01-11  neal conan  talk of the nation  \n",
       "2005-01-11  neal conan  talk of the nation  \n",
       "2005-01-11  neal conan  talk of the nation  \n",
       "2005-01-11  neal conan  talk of the nation  "
      ]
     },
     "execution_count": 53,
     "metadata": {},
     "output_type": "execute_result"
    }
   ],
   "source": [
    "# assign new df for tsa looksy\n",
    "tsa = stories.set_index(stories.date).sort_index()\n",
    "tsa.head()"
   ]
  },
  {
   "cell_type": "code",
   "execution_count": 54,
   "id": "663a91d6",
   "metadata": {},
   "outputs": [
    {
     "data": {
      "text/plain": [
       "<AxesSubplot:xlabel='date'>"
      ]
     },
     "execution_count": 54,
     "metadata": {},
     "output_type": "execute_result"
    },
    {
     "data": {
      "image/png": "[encoded data removed]",
      "text/plain": [
       "<Figure size 432x288 with 1 Axes>"
      ]
     },
     "metadata": {
      "needs_background": "light"
     },
     "output_type": "display_data"
    }
   ],
   "source": [
    "# plot stories by sentiment, resampled weekly, averaged out\n",
    "tsa.vader.resample('w').mean().plot()"
   ]
  },
  {
   "cell_type": "code",
   "execution_count": 55,
   "id": "16d230c9",
   "metadata": {},
   "outputs": [
    {
     "data": {
      "text/html": [
       "<div>\n",
       "<style scoped>\n",
       "    .dataframe tbody tr th:only-of-type {\n",
       "        vertical-align: middle;\n",
       "    }\n",
       "\n",
       "    .dataframe tbody tr th {\n",
       "        vertical-align: top;\n",
       "    }\n",
       "\n",
       "    .dataframe thead th {\n",
       "        text-align: right;\n",
       "    }\n",
       "</style>\n",
       "<table border=\"1\" class=\"dataframe\">\n",
       "  <thead>\n",
       "    <tr style=\"text-align: right;\">\n",
       "      <th></th>\n",
       "      <th>vader</th>\n",
       "    </tr>\n",
       "    <tr>\n",
       "      <th>date</th>\n",
       "      <th></th>\n",
       "    </tr>\n",
       "  </thead>\n",
       "  <tbody>\n",
       "    <tr>\n",
       "      <th>2005-01-16</th>\n",
       "      <td>0.998220</td>\n",
       "    </tr>\n",
       "    <tr>\n",
       "      <th>2005-01-23</th>\n",
       "      <td>NaN</td>\n",
       "    </tr>\n",
       "    <tr>\n",
       "      <th>2005-01-30</th>\n",
       "      <td>0.999800</td>\n",
       "    </tr>\n",
       "    <tr>\n",
       "      <th>2005-02-06</th>\n",
       "      <td>NaN</td>\n",
       "    </tr>\n",
       "    <tr>\n",
       "      <th>2005-02-13</th>\n",
       "      <td>NaN</td>\n",
       "    </tr>\n",
       "    <tr>\n",
       "      <th>...</th>\n",
       "      <td>...</td>\n",
       "    </tr>\n",
       "    <tr>\n",
       "      <th>2019-09-15</th>\n",
       "      <td>0.712144</td>\n",
       "    </tr>\n",
       "    <tr>\n",
       "      <th>2019-09-22</th>\n",
       "      <td>0.589789</td>\n",
       "    </tr>\n",
       "    <tr>\n",
       "      <th>2019-09-29</th>\n",
       "      <td>0.839537</td>\n",
       "    </tr>\n",
       "    <tr>\n",
       "      <th>2019-10-06</th>\n",
       "      <td>0.721716</td>\n",
       "    </tr>\n",
       "    <tr>\n",
       "      <th>2019-10-13</th>\n",
       "      <td>0.465194</td>\n",
       "    </tr>\n",
       "  </tbody>\n",
       "</table>\n",
       "<p>770 rows × 1 columns</p>\n",
       "</div>"
      ],
      "text/plain": [
       "               vader\n",
       "date                \n",
       "2005-01-16  0.998220\n",
       "2005-01-23       NaN\n",
       "2005-01-30  0.999800\n",
       "2005-02-06       NaN\n",
       "2005-02-13       NaN\n",
       "...              ...\n",
       "2019-09-15  0.712144\n",
       "2019-09-22  0.589789\n",
       "2019-09-29  0.839537\n",
       "2019-10-06  0.721716\n",
       "2019-10-13  0.465194\n",
       "\n",
       "[770 rows x 1 columns]"
      ]
     },
     "execution_count": 55,
     "metadata": {},
     "output_type": "execute_result"
    }
   ],
   "source": [
    "# assign new df for the weekly sample of vader\n",
    "weekly_tsa=pd.DataFrame(tsa.vader.resample('w').mean())\n",
    "weekly_tsa"
   ]
  },
  {
   "cell_type": "code",
   "execution_count": 56,
   "id": "cf2396c3",
   "metadata": {},
   "outputs": [
    {
     "data": {
      "text/plain": [
       "vader    0\n",
       "dtype: int64"
      ]
     },
     "execution_count": 56,
     "metadata": {},
     "output_type": "execute_result"
    }
   ],
   "source": [
    "# drop 14 nulls\n",
    "weekly_tsa = weekly_tsa.dropna()\n",
    "weekly_tsa.isna().sum()"
   ]
  },
  {
   "cell_type": "code",
   "execution_count": 57,
   "id": "a6e14472",
   "metadata": {},
   "outputs": [
    {
     "data": {
      "text/html": [
       "<div>\n",
       "<style scoped>\n",
       "    .dataframe tbody tr th:only-of-type {\n",
       "        vertical-align: middle;\n",
       "    }\n",
       "\n",
       "    .dataframe tbody tr th {\n",
       "        vertical-align: top;\n",
       "    }\n",
       "\n",
       "    .dataframe thead th {\n",
       "        text-align: right;\n",
       "    }\n",
       "</style>\n",
       "<table border=\"1\" class=\"dataframe\">\n",
       "  <thead>\n",
       "    <tr style=\"text-align: right;\">\n",
       "      <th></th>\n",
       "      <th>vader</th>\n",
       "      <th>weekly_diff</th>\n",
       "    </tr>\n",
       "    <tr>\n",
       "      <th>date</th>\n",
       "      <th></th>\n",
       "      <th></th>\n",
       "    </tr>\n",
       "  </thead>\n",
       "  <tbody>\n",
       "    <tr>\n",
       "      <th>2005-01-16</th>\n",
       "      <td>0.998220</td>\n",
       "      <td>NaN</td>\n",
       "    </tr>\n",
       "    <tr>\n",
       "      <th>2005-01-30</th>\n",
       "      <td>0.999800</td>\n",
       "      <td>0.001580</td>\n",
       "    </tr>\n",
       "    <tr>\n",
       "      <th>2005-05-08</th>\n",
       "      <td>0.596417</td>\n",
       "      <td>-0.403383</td>\n",
       "    </tr>\n",
       "    <tr>\n",
       "      <th>2005-05-15</th>\n",
       "      <td>0.503421</td>\n",
       "      <td>-0.092997</td>\n",
       "    </tr>\n",
       "    <tr>\n",
       "      <th>2005-05-22</th>\n",
       "      <td>0.433512</td>\n",
       "      <td>-0.069909</td>\n",
       "    </tr>\n",
       "  </tbody>\n",
       "</table>\n",
       "</div>"
      ],
      "text/plain": [
       "               vader  weekly_diff\n",
       "date                             \n",
       "2005-01-16  0.998220          NaN\n",
       "2005-01-30  0.999800     0.001580\n",
       "2005-05-08  0.596417    -0.403383\n",
       "2005-05-15  0.503421    -0.092997\n",
       "2005-05-22  0.433512    -0.069909"
      ]
     },
     "execution_count": 57,
     "metadata": {},
     "output_type": "execute_result"
    }
   ],
   "source": [
    "# add vader difference from week to week\n",
    "weekly_tsa['weekly_diff']= weekly_tsa.vader.diff(1)\n",
    "weekly_tsa.head()"
   ]
  },
  {
   "cell_type": "markdown",
   "id": "9f114ea2",
   "metadata": {},
   "source": [
    "### What week saw the biggest drop in sentiment?  "
   ]
  },
  {
   "cell_type": "code",
   "execution_count": 58,
   "id": "927b1392",
   "metadata": {},
   "outputs": [
    {
     "data": {
      "text/plain": [
       "Timestamp('2010-08-01 00:00:00')"
      ]
     },
     "execution_count": 58,
     "metadata": {},
     "output_type": "execute_result"
    }
   ],
   "source": [
    "weekly_tsa.weekly_diff.idxmin()"
   ]
  },
  {
   "cell_type": "markdown",
   "id": "f2758830",
   "metadata": {},
   "source": [
    "- At Least 400 Killed in Pakistan Floods (July 30)\n",
    "- Plane Crash in Pakistan Kills All 152 on Board (July 28)\n",
    "- U.S. Economy Lost 131,000 Jobs in July; Unemployment Remains at 9.5% (Aug. 6)\n",
    "- CA Gay Marriage Ban Overturned (Aug. 4)\n",
    "\n",
    "### Not a lot of concrete evidence of what would cause such a drop"
   ]
  },
  {
   "cell_type": "markdown",
   "id": "4cf06978",
   "metadata": {},
   "source": [
    "### And the biggest increasee?"
   ]
  },
  {
   "cell_type": "code",
   "execution_count": 59,
   "id": "42ab1dcc",
   "metadata": {},
   "outputs": [
    {
     "data": {
      "text/plain": [
       "Timestamp('2015-11-29 00:00:00')"
      ]
     },
     "execution_count": 59,
     "metadata": {},
     "output_type": "execute_result"
    }
   ],
   "source": [
    "weekly_tsa.weekly_diff.idxmax()"
   ]
  },
  {
   "cell_type": "markdown",
   "id": "ab30c832",
   "metadata": {},
   "source": [
    "- 13November2015: Paris terrorist attacks\n",
    "- Three Killed at Planned Parenthood Shooting in Colorado Springs (Nov. 27)\n",
    "- Russian Airliner Brought Down by Bomb (Nov. 17)\n",
    "\n",
    "### Again, nothing concrete: an index of the noise in the data"
   ]
  },
  {
   "cell_type": "code",
   "execution_count": 60,
   "id": "107c1817",
   "metadata": {},
   "outputs": [
    {
     "data": {
      "text/plain": [
       "Timestamp('2005-01-30 00:00:00')"
      ]
     },
     "execution_count": 60,
     "metadata": {},
     "output_type": "execute_result"
    }
   ],
   "source": [
    "weekly_tsa.vader.idxmax()"
   ]
  },
  {
   "cell_type": "code",
   "execution_count": null,
   "id": "9686bf96",
   "metadata": {},
   "outputs": [],
   "source": []
  },
  {
   "cell_type": "code",
   "execution_count": 61,
   "id": "1cdef9c6",
   "metadata": {},
   "outputs": [
    {
     "data": {
      "text/plain": [
       "Timestamp('2015-11-22 00:00:00')"
      ]
     },
     "execution_count": 61,
     "metadata": {},
     "output_type": "execute_result"
    }
   ],
   "source": [
    "weekly_tsa.vader.idxmin()"
   ]
  },
  {
   "cell_type": "code",
   "execution_count": null,
   "id": "21a0c85e",
   "metadata": {},
   "outputs": [],
   "source": []
  },
  {
   "cell_type": "code",
   "execution_count": 62,
   "id": "0f60b60a",
   "metadata": {},
   "outputs": [
    {
     "ename": "SyntaxError",
     "evalue": "invalid syntax (<ipython-input-62-07d8789a56ee>, line 1)",
     "output_type": "error",
     "traceback": [
      "\u001b[0;36m  File \u001b[0;32m\"<ipython-input-62-07d8789a56ee>\"\u001b[0;36m, line \u001b[0;32m1\u001b[0m\n\u001b[0;31m    BREAK THE NOTEBOOK\u001b[0m\n\u001b[0m          ^\u001b[0m\n\u001b[0;31mSyntaxError\u001b[0m\u001b[0;31m:\u001b[0m invalid syntax\n"
     ]
    }
   ],
   "source": [
    "BREAK THE NOTEBOOK"
   ]
  },
  {
   "cell_type": "markdown",
   "id": "84871056",
   "metadata": {},
   "source": [
    "## Below begins my attempt to use gensim for LDA topic modeling"
   ]
  },
  {
   "cell_type": "code",
   "execution_count": null,
   "id": "9d8d3845",
   "metadata": {},
   "outputs": [],
   "source": [
    "# import gensim\n",
    "# from gensim.utils import simple_preprocess\n",
    "# import nltk\n",
    "# nltk.download('stopwords')\n",
    "# from nltk.corpus import stopwords\n",
    "# stop_words = stopwords.words('english')\n",
    "# # stop_words.extend(['from', 'subject', 're', 'edu', 'use'])\n",
    "# def sent_to_words(sentences):\n",
    "#     for sentence in sentences:\n",
    "#         # deacc=True removes punctuations\n",
    "#         yield(gensim.utils.simple_preprocess(str(sentence), deacc=False))\n",
    "# def remove_stopwords(texts):\n",
    "#     return [[word for word in simple_preprocess(str(doc)) \n",
    "#              if word not in stop_words] for doc in texts]\n",
    "# data = stories.lemmatized.values.tolist()\n",
    "# data_words = list(sent_to_words(data))\n",
    "# # remove stop words\n",
    "# data_words = remove_stopwords(data_words)\n",
    "# print(data_words[:1][0][:30])"
   ]
  },
  {
   "cell_type": "code",
   "execution_count": null,
   "id": "ce9b4e56",
   "metadata": {},
   "outputs": [],
   "source": [
    "# import gensim.corpora as corpora\n",
    "# # Create Dictionary\n",
    "# id2word = corpora.Dictionary(data_words)\n",
    "# # Create Corpus\n",
    "# texts = data_words\n",
    "# # Term Document Frequency\n",
    "# corpus = [id2word.doc2bow(text) for text in texts]\n",
    "# # View\n",
    "# print(corpus[:1][0][:30])"
   ]
  },
  {
   "cell_type": "code",
   "execution_count": null,
   "id": "7a65c06f",
   "metadata": {},
   "outputs": [],
   "source": [
    "# from pprint import pprint\n",
    "# # number of topics\n",
    "# num_topics = 10\n",
    "# # Build LDA model\n",
    "# lda_model = gensim.models.LdaMulticore(corpus=corpus,\n",
    "#                                        id2word=id2word,\n",
    "#                                        num_topics=num_topics)\n",
    "# # Print the Keyword in the 10 topics\n",
    "# pprint(lda_model.print_topics())\n",
    "# doc_lda = lda_model[corpus]"
   ]
  },
  {
   "cell_type": "code",
   "execution_count": null,
   "id": "cc08c102",
   "metadata": {},
   "outputs": [],
   "source": [
    "# # import pyLDAvis.gensim\n",
    "# import os\n",
    "# import pyLDAvis.gensim_models as gensimvis\n",
    "# import pickle \n",
    "# import pyLDAvis\n",
    "# # Visualize the topics\n",
    "# pyLDAvis.enable_notebook()\n",
    "# # LDAvis_data_filepath = os.path.join('./results/ldavis_prepared_'+ str(num_topics)+str(num_topics))\n",
    "# # # this is a bit time consuming - make the if statement True\n",
    "# # # if you want to execute visualization prep yourself\n",
    "# if 1 == 1:\n",
    "# #     LDAvis_prepared = pyLDAvis.gensim.prepare(lda_model, corpus, id2word)\n",
    "#     LDAvis_prepared = gensimvis.prepare(lda_model, corpus, id2word)\n",
    "# #     with open(LDAvis_data_filepath, 'wb') as f:\n",
    "# #         pickle.dump(LDAvis_prepared, f)\n",
    "# # load the pre-prepared pyLDAvis data from disk\n",
    "# # with open(LDAvis_data_filepath, 'rb') as f:\n",
    "# #     LDAvis_prepared = pickle.load(f)\n",
    "# # pyLDAvis.save_html(LDAvis_prepared, './results/ldavis_prepared_'+ str(num_topics) +'.html')\n",
    "# LDAvis_prepared"
   ]
  },
  {
   "cell_type": "code",
   "execution_count": null,
   "id": "094678be",
   "metadata": {},
   "outputs": [],
   "source": [
    "# type(LDAvis_prepared)"
   ]
  },
  {
   "cell_type": "code",
   "execution_count": null,
   "id": "287b5263",
   "metadata": {},
   "outputs": [],
   "source": [
    "# BREAK. THIS. NOTEBOOK. "
   ]
  },
  {
   "cell_type": "markdown",
   "id": "d6e33411",
   "metadata": {},
   "source": [
    "## The same...but running it on the titles instead of the corpi"
   ]
  },
  {
   "cell_type": "code",
   "execution_count": null,
   "id": "27ca4263",
   "metadata": {
    "scrolled": true
   },
   "outputs": [],
   "source": [
    "import gensim\n",
    "from gensim.utils import simple_preprocess\n",
    "import nltk\n",
    "nltk.download('stopwords')\n",
    "from nltk.corpus import stopwords\n",
    "stop_words = stopwords.words('english')\n",
    "# stop_words.extend(['from', 'subject', 're', 'edu', 'use'])\n",
    "def sent_to_words(sentences):\n",
    "    for sentence in sentences:\n",
    "        # deacc=True removes punctuations\n",
    "        yield(gensim.utils.simple_preprocess(str(sentence), deacc=False))\n",
    "def remove_stopwords(texts):\n",
    "    return [[word for word in simple_preprocess(str(doc)) \n",
    "             if word not in stop_words] for doc in texts]\n",
    "data = stories.title.values.tolist()\n",
    "data_words = list(sent_to_words(data))\n",
    "# remove stop words\n",
    "data_words = remove_stopwords(data_words)\n",
    "print(data_words[:1][0][:30])"
   ]
  },
  {
   "cell_type": "code",
   "execution_count": null,
   "id": "466efd3c",
   "metadata": {},
   "outputs": [],
   "source": [
    "import gensim.corpora as corpora\n",
    "# Create Dictionary\n",
    "id2word = corpora.Dictionary(data_words)\n",
    "# Create Corpus\n",
    "texts = data_words\n",
    "# Term Document Frequency\n",
    "corpus = [id2word.doc2bow(text) for text in texts]\n",
    "# View\n",
    "print(corpus[:1][0][:30])"
   ]
  },
  {
   "cell_type": "code",
   "execution_count": null,
   "id": "6da1324e",
   "metadata": {},
   "outputs": [],
   "source": [
    "from pprint import pprint\n",
    "# number of topics\n",
    "num_topics = 10\n",
    "# Build LDA model\n",
    "lda_model = gensim.models.LdaMulticore(corpus=corpus,\n",
    "                                       id2word=id2word,\n",
    "                                       num_topics=num_topics)\n",
    "# Print the Keyword in the 10 topics\n",
    "pprint(lda_model.print_topics())\n",
    "doc_lda = lda_model[corpus]"
   ]
  },
  {
   "cell_type": "code",
   "execution_count": null,
   "id": "497d64a6",
   "metadata": {},
   "outputs": [],
   "source": [
    "# import pyLDAvis.gensim\n",
    "import os\n",
    "import pyLDAvis.gensim_models as gensimvis\n",
    "import pickle \n",
    "import pyLDAvis\n",
    "# Visualize the topics\n",
    "pyLDAvis.enable_notebook()\n",
    "# LDAvis_data_filepath = os.path.join('./results/ldavis_prepared_'+ str(num_topics)+str(num_topics))\n",
    "# # this is a bit time consuming - make the if statement True\n",
    "# # if you want to execute visualization prep yourself\n",
    "if 1 == 1:\n",
    "#     LDAvis_prepared = pyLDAvis.gensim.prepare(lda_model, corpus, id2word)\n",
    "    LDAvis_prepared = gensimvis.prepare(lda_model, corpus, id2word)\n",
    "#     with open(LDAvis_data_filepath, 'wb') as f:\n",
    "#         pickle.dump(LDAvis_prepared, f)\n",
    "# load the pre-prepared pyLDAvis data from disk\n",
    "# with open(LDAvis_data_filepath, 'rb') as f:\n",
    "#     LDAvis_prepared = pickle.load(f)\n",
    "# pyLDAvis.save_html(LDAvis_prepared, './results/ldavis_prepared_'+ str(num_topics) +'.html')\n",
    "LDAvis_prepared"
   ]
  },
  {
   "cell_type": "markdown",
   "id": "0bd150f3",
   "metadata": {},
   "source": [
    "## Evaluate? (be aware of which  data_words are being sent in)"
   ]
  },
  {
   "cell_type": "code",
   "execution_count": null,
   "id": "0fa85897",
   "metadata": {},
   "outputs": [],
   "source": [
    "# # Build the bigram and trigram models\n",
    "bigram = gensim.models.Phrases(data_words, min_count=5, threshold=100) # higher threshold fewer phrases.\n",
    "trigram = gensim.models.Phrases(bigram[data_words], threshold=100)\n",
    "# Faster way to get a sentence clubbed as a trigram/bigram\n",
    "bigram_mod = gensim.models.phrases.Phraser(bigram)\n",
    "trigram_mod = gensim.models.phrases.Phraser(trigram)"
   ]
  },
  {
   "cell_type": "code",
   "execution_count": null,
   "id": "a2efe8ed",
   "metadata": {},
   "outputs": [],
   "source": [
    "# NLTK Stop words\n",
    "# import nltk\n",
    "# nltk.download('stopwords')\n",
    "from nltk.corpus import stopwords\n",
    "stop_words = stopwords.words('english')\n",
    "stop_words.extend(['from', 'subject', 're', 'edu', 'use'])\n",
    "# Define functions for stopwords, bigrams, trigrams and lemmatization\n",
    "def remove_stopwords(texts):\n",
    "    return [[word for word in simple_preprocess(str(doc)) if word not in stop_words] for doc in texts]\n",
    "def make_bigrams(texts):\n",
    "    return [bigram_mod[doc] for doc in texts]\n",
    "def make_trigrams(texts):\n",
    "    return [trigram_mod[bigram_mod[doc]] for doc in texts]\n",
    "def lemmatization(texts, allowed_postags=['NOUN', 'ADJ', 'VERB', 'ADV']):\n",
    "    \"\"\"https://spacy.io/api/annotation\"\"\"\n",
    "    texts_out = []\n",
    "    for sent in texts:\n",
    "        doc = nlp(\" \".join(sent)) \n",
    "        texts_out.append([token.lemma_ for token in doc if token.pos_ in allowed_postags])\n",
    "    return texts_out"
   ]
  },
  {
   "cell_type": "code",
   "execution_count": null,
   "id": "0a07e97c",
   "metadata": {},
   "outputs": [],
   "source": [
    "import spacy\n",
    "# Remove Stop Words\n",
    "data_words_nostops = remove_stopwords(data_words)\n",
    "# Form Bigrams\n",
    "data_words_bigrams = make_bigrams(data_words_nostops)\n",
    "# Initialize spacy 'en' model, keeping only tagger component (for efficiency)\n",
    "nlp = spacy.load(\"en_core_web_sm\", disable=['parser', 'ner']) # see https://spacy.io/models/en for info on this pipeline\n",
    "# Do lemmatization keeping only noun, adj, vb, adv\n",
    "data_lemmatized = lemmatization(data_words_bigrams, allowed_postags=['NOUN', 'ADJ', 'VERB', 'ADV'])\n",
    "print(data_lemmatized[:1])"
   ]
  },
  {
   "cell_type": "code",
   "execution_count": null,
   "id": "01af1b4b",
   "metadata": {},
   "outputs": [],
   "source": [
    "import gensim.corpora as corpora\n",
    "# Create Dictionary\n",
    "id2word = corpora.Dictionary(data_lemmatized)\n",
    "# Create Corpus\n",
    "texts = data_lemmatized\n",
    "# Term Document Frequency\n",
    "corpus = [id2word.doc2bow(text) for text in texts]\n",
    "# View\n",
    "print(corpus[:1])"
   ]
  },
  {
   "cell_type": "code",
   "execution_count": null,
   "id": "b51eed03",
   "metadata": {},
   "outputs": [],
   "source": [
    "# Build LDA model\n",
    "lda_model = gensim.models.LdaMulticore(corpus=corpus,\n",
    "                                       id2word=id2word,\n",
    "                                       num_topics=10, \n",
    "                                       random_state=100,\n",
    "                                       chunksize=100,\n",
    "                                       passes=10,\n",
    "                                       per_word_topics=True)"
   ]
  },
  {
   "cell_type": "code",
   "execution_count": null,
   "id": "a27b7dc6",
   "metadata": {},
   "outputs": [],
   "source": [
    "# from pprint import pprint\n",
    "# # Print the Keyword in the 10 topics\n",
    "# pprint(lda_model.print_topics())\n",
    "# doc_lda = lda_model[corpus]"
   ]
  },
  {
   "cell_type": "code",
   "execution_count": null,
   "id": "98131d0a",
   "metadata": {},
   "outputs": [],
   "source": [
    "from gensim.models import CoherenceModel\n",
    "# Compute Coherence Score\n",
    "coherence_model_lda = CoherenceModel(model=lda_model, texts=data_lemmatized, dictionary=id2word, coherence='c_v')\n",
    "coherence_lda = coherence_model_lda.get_coherence()\n",
    "print('\\nCoherence Score: ', coherence_lda)"
   ]
  },
  {
   "cell_type": "code",
   "execution_count": null,
   "id": "d34636a4",
   "metadata": {},
   "outputs": [],
   "source": [
    "# supporting function\n",
    "def compute_coherence_values(corpus, dictionary, k, a, b):\n",
    "    \n",
    "    lda_model = gensim.models.LdaMulticore(corpus=corpus,\n",
    "                                           id2word=dictionary,\n",
    "                                           num_topics=k, \n",
    "                                           random_state=100,\n",
    "                                           chunksize=100,\n",
    "                                           passes=10,\n",
    "                                           alpha=a,\n",
    "                                           eta=b)\n",
    "    \n",
    "    coherence_model_lda = CoherenceModel(model=lda_model, texts=data_lemmatized, dictionary=id2word, coherence='c_v')\n",
    "    \n",
    "    return coherence_model_lda.get_coherence()"
   ]
  },
  {
   "cell_type": "markdown",
   "id": "aa81c98b",
   "metadata": {},
   "source": [
    "## The following code is commented out bc it takes ages to run, and I have the results csv from when I ran it"
   ]
  },
  {
   "cell_type": "code",
   "execution_count": null,
   "id": "5527d58a",
   "metadata": {
    "scrolled": true
   },
   "outputs": [],
   "source": [
    "# import numpy as np\n",
    "# import tqdm\n",
    "# grid = {}\n",
    "# grid['Validation_Set'] = {}\n",
    "# # Topics range\n",
    "# min_topics = 2\n",
    "# max_topics = 11\n",
    "# step_size = 1\n",
    "# topics_range = range(min_topics, max_topics, step_size)\n",
    "# # Alpha parameter\n",
    "# alpha = list(np.arange(0.01, 1, 0.3))\n",
    "# alpha.append('symmetric')\n",
    "# alpha.append('asymmetric')\n",
    "# # Beta parameter\n",
    "# beta = list(np.arange(0.01, 1, 0.3))\n",
    "# beta.append('symmetric')\n",
    "# # Validation sets\n",
    "# num_of_docs = len(corpus)\n",
    "# corpus_sets = [# gensim.utils.ClippedCorpus(corpus, num_of_docs*0.25), \n",
    "#                # gensim.utils.ClippedCorpus(corpus, num_of_docs*0.5), \n",
    "#                gensim.utils.ClippedCorpus(corpus, int(num_of_docs*0.75)), \n",
    "#                corpus]\n",
    "# corpus_title = ['75% Corpus', '100% Corpus']\n",
    "# model_results = {'Validation_Set': [],\n",
    "#                  'Topics': [],\n",
    "#                  'Alpha': [],\n",
    "#                  'Beta': [],\n",
    "#                  'Coherence': []\n",
    "#                 }\n",
    "# # Can take a long time to run\n",
    "# if 1 == 1:\n",
    "#     pbar = tqdm.tqdm(total=540)\n",
    "    \n",
    "#     # iterate through validation corpuses\n",
    "#     for i in range(len(corpus_sets)):\n",
    "#         # iterate through number of topics\n",
    "#         for k in topics_range:\n",
    "#             # iterate through alpha values\n",
    "#             for a in alpha:\n",
    "#                 # iterare through beta values\n",
    "#                 for b in beta:\n",
    "#                     # get the coherence score for the given parameters\n",
    "#                     cv = compute_coherence_values(corpus=corpus_sets[i], dictionary=id2word, \n",
    "#                                                   k=k, a=a, b=b)\n",
    "#                     # Save the model results\n",
    "#                     model_results['Validation_Set'].append(corpus_title[i])\n",
    "#                     model_results['Topics'].append(k)\n",
    "#                     model_results['Alpha'].append(a)\n",
    "#                     model_results['Beta'].append(b)\n",
    "#                     model_results['Coherence'].append(cv)\n",
    "                    \n",
    "#                     pbar.update(1)\n",
    "#     pd.DataFrame(model_results).to_csv('lda_tuning_results_corpora.csv', index=False)\n",
    "#     pbar.close()"
   ]
  },
  {
   "cell_type": "code",
   "execution_count": null,
   "id": "57bdcfeb",
   "metadata": {},
   "outputs": [],
   "source": [
    "# use the above-selected parameters to train the model\n",
    "\n",
    "lda_model = gensim.models.LdaMulticore(corpus=corpus,\n",
    "                                           id2word=id2word,\n",
    "                                           num_topics=4, \n",
    "                                           random_state=100,\n",
    "                                           chunksize=100,\n",
    "                                           passes=10,\n",
    "                                           alpha=0.01,\n",
    "                                           eta=0.9)"
   ]
  },
  {
   "cell_type": "code",
   "execution_count": null,
   "id": "4418faee",
   "metadata": {},
   "outputs": [],
   "source": [
    "import pyLDAvis.gensim_models as gensimvis\n",
    "import pickle \n",
    "import pyLDAvis\n",
    "# Visualize the topics\n",
    "pyLDAvis.enable_notebook()\n",
    "LDAvis_prepared = gensimvis.prepare(lda_model, corpus, id2word)\n",
    "LDAvis_prepared"
   ]
  },
  {
   "cell_type": "code",
   "execution_count": null,
   "id": "1032c728",
   "metadata": {
    "scrolled": true
   },
   "outputs": [],
   "source": [
    "pyLDAvis.save_html(LDAvis_prepared, \"LDAvis_prepared_titles_4topics2.html\")"
   ]
  },
  {
   "cell_type": "code",
   "execution_count": null,
   "id": "bf36b4a1",
   "metadata": {
    "scrolled": true
   },
   "outputs": [],
   "source": [
    "eval_df = pd.read_csv(\"lda_tuning_results.csv\")\n",
    "eval_df"
   ]
  },
  {
   "cell_type": "code",
   "execution_count": null,
   "id": "459b3069",
   "metadata": {},
   "outputs": [],
   "source": [
    "import seaborn as sns\n",
    "sns.lineplot(data= eval_df,x=\"Topics\",y='Coherence')"
   ]
  },
  {
   "cell_type": "code",
   "execution_count": null,
   "id": "3b34a553",
   "metadata": {},
   "outputs": [],
   "source": [
    "eval_df[eval_df.Topics == 8].groupby(by='Alpha').Coherence.max()"
   ]
  },
  {
   "cell_type": "markdown",
   "id": "7f6107cf",
   "metadata": {},
   "source": [
    "## These were the results as run on the TITLES, not on the stories themselves"
   ]
  },
  {
   "cell_type": "markdown",
   "id": "d2c7aee8",
   "metadata": {},
   "source": [
    "# Topic modeling on aggregations?\n",
    "- melissa block vs the rest maybe??"
   ]
  },
  {
   "cell_type": "code",
   "execution_count": 63,
   "id": "4b447e11",
   "metadata": {},
   "outputs": [
    {
     "data": {
      "text/html": [
       "<div>\n",
       "<style scoped>\n",
       "    .dataframe tbody tr th:only-of-type {\n",
       "        vertical-align: middle;\n",
       "    }\n",
       "\n",
       "    .dataframe tbody tr th {\n",
       "        vertical-align: top;\n",
       "    }\n",
       "\n",
       "    .dataframe thead th {\n",
       "        text-align: right;\n",
       "    }\n",
       "</style>\n",
       "<table border=\"1\" class=\"dataframe\">\n",
       "  <thead>\n",
       "    <tr style=\"text-align: right;\">\n",
       "      <th></th>\n",
       "      <th>story_id_num</th>\n",
       "      <th>lemmatized</th>\n",
       "      <th>vader</th>\n",
       "      <th>title</th>\n",
       "      <th>date</th>\n",
       "      <th>host</th>\n",
       "      <th>program</th>\n",
       "    </tr>\n",
       "  </thead>\n",
       "  <tbody>\n",
       "    <tr>\n",
       "      <th>0</th>\n",
       "      <td>17</td>\n",
       "      <td>he is in cahoot with a foreign government to m...</td>\n",
       "      <td>0.9964</td>\n",
       "      <td>n.j. democrat on reported whistleblower compla...</td>\n",
       "      <td>2019-09-22</td>\n",
       "      <td>melissa block</td>\n",
       "      <td>weekend edition sunday</td>\n",
       "    </tr>\n",
       "    <tr>\n",
       "      <th>1</th>\n",
       "      <td>18</td>\n",
       "      <td>come with concrete plan , not beautiful speech...</td>\n",
       "      <td>0.9993</td>\n",
       "      <td>ahead of climate summit, 2 views from cities i...</td>\n",
       "      <td>2019-09-22</td>\n",
       "      <td>melissa block</td>\n",
       "      <td>weekend edition sunday</td>\n",
       "    </tr>\n",
       "    <tr>\n",
       "      <th>2</th>\n",
       "      <td>19</td>\n",
       "      <td>if you stand outside the old dekalb county cou...</td>\n",
       "      <td>0.9974</td>\n",
       "      <td>barred from removing confederate monument, cou...</td>\n",
       "      <td>2019-09-22</td>\n",
       "      <td>melissa block</td>\n",
       "      <td>weekend edition sunday</td>\n",
       "    </tr>\n",
       "    <tr>\n",
       "      <th>3</th>\n",
       "      <td>20</td>\n",
       "      <td>you may have spotted pink salt in your superma...</td>\n",
       "      <td>0.4950</td>\n",
       "      <td>pakistan's pink himalayan salt has become a ma...</td>\n",
       "      <td>2019-09-22</td>\n",
       "      <td>melissa block</td>\n",
       "      <td>weekend edition sunday</td>\n",
       "    </tr>\n",
       "    <tr>\n",
       "      <th>4</th>\n",
       "      <td>21</td>\n",
       "      <td>singing in foreign language . the other day , ...</td>\n",
       "      <td>0.9730</td>\n",
       "      <td>10 years after haiti's earthquake, 'this music...</td>\n",
       "      <td>2019-09-22</td>\n",
       "      <td>melissa block</td>\n",
       "      <td>weekend edition sunday</td>\n",
       "    </tr>\n",
       "  </tbody>\n",
       "</table>\n",
       "</div>"
      ],
      "text/plain": [
       "   story_id_num                                         lemmatized   vader  \\\n",
       "0            17  he is in cahoot with a foreign government to m...  0.9964   \n",
       "1            18  come with concrete plan , not beautiful speech...  0.9993   \n",
       "2            19  if you stand outside the old dekalb county cou...  0.9974   \n",
       "3            20  you may have spotted pink salt in your superma...  0.4950   \n",
       "4            21  singing in foreign language . the other day , ...  0.9730   \n",
       "\n",
       "                                               title       date  \\\n",
       "0  n.j. democrat on reported whistleblower compla... 2019-09-22   \n",
       "1  ahead of climate summit, 2 views from cities i... 2019-09-22   \n",
       "2  barred from removing confederate monument, cou... 2019-09-22   \n",
       "3  pakistan's pink himalayan salt has become a ma... 2019-09-22   \n",
       "4  10 years after haiti's earthquake, 'this music... 2019-09-22   \n",
       "\n",
       "            host                 program  \n",
       "0  melissa block  weekend edition sunday  \n",
       "1  melissa block  weekend edition sunday  \n",
       "2  melissa block  weekend edition sunday  \n",
       "3  melissa block  weekend edition sunday  \n",
       "4  melissa block  weekend edition sunday  "
      ]
     },
     "execution_count": 63,
     "metadata": {},
     "output_type": "execute_result"
    }
   ],
   "source": [
    "stories.head()"
   ]
  },
  {
   "cell_type": "code",
   "execution_count": 64,
   "id": "16aa3bae",
   "metadata": {},
   "outputs": [
    {
     "data": {
      "text/html": [
       "<div>\n",
       "<style scoped>\n",
       "    .dataframe tbody tr th:only-of-type {\n",
       "        vertical-align: middle;\n",
       "    }\n",
       "\n",
       "    .dataframe tbody tr th {\n",
       "        vertical-align: top;\n",
       "    }\n",
       "\n",
       "    .dataframe thead th {\n",
       "        text-align: right;\n",
       "    }\n",
       "</style>\n",
       "<table border=\"1\" class=\"dataframe\">\n",
       "  <thead>\n",
       "    <tr style=\"text-align: right;\">\n",
       "      <th></th>\n",
       "      <th>story_id_num</th>\n",
       "      <th>lemmatized</th>\n",
       "      <th>vader</th>\n",
       "      <th>title</th>\n",
       "      <th>date</th>\n",
       "      <th>host</th>\n",
       "      <th>program</th>\n",
       "    </tr>\n",
       "  </thead>\n",
       "  <tbody>\n",
       "    <tr>\n",
       "      <th>47791</th>\n",
       "      <td>120158</td>\n",
       "      <td>we all have our obsession , big and small. and...</td>\n",
       "      <td>0.9894</td>\n",
       "      <td>'windy,' a plastic bag caught in a tree, is ka...</td>\n",
       "      <td>2010-06-14</td>\n",
       "      <td>melissa block</td>\n",
       "      <td>all things considered</td>\n",
       "    </tr>\n",
       "    <tr>\n",
       "      <th>61160</th>\n",
       "      <td>140737</td>\n",
       "      <td>this is all thing considered from npr news. i ...</td>\n",
       "      <td>0.1476</td>\n",
       "      <td>educator kenneth clark and his fight for integ...</td>\n",
       "      <td>2005-05-02</td>\n",
       "      <td>melissa block</td>\n",
       "      <td>all things considered</td>\n",
       "    </tr>\n",
       "    <tr>\n",
       "      <th>60652</th>\n",
       "      <td>139893</td>\n",
       "      <td>the number of death from hurricane katrina is ...</td>\n",
       "      <td>-0.9589</td>\n",
       "      <td>mississippi coroner describes effort to recove...</td>\n",
       "      <td>2005-09-06</td>\n",
       "      <td>melissa block</td>\n",
       "      <td>all things considered</td>\n",
       "    </tr>\n",
       "    <tr>\n",
       "      <th>38531</th>\n",
       "      <td>106996</td>\n",
       "      <td>finally , moment hear the music of the inaugur...</td>\n",
       "      <td>0.9919</td>\n",
       "      <td>beyonce, kelly clarkson among inauguration per...</td>\n",
       "      <td>2013-01-21</td>\n",
       "      <td>melissa block</td>\n",
       "      <td>all things considered</td>\n",
       "    </tr>\n",
       "    <tr>\n",
       "      <th>41327</th>\n",
       "      <td>111134</td>\n",
       "      <td>from npr news , this is all thing considered. ...</td>\n",
       "      <td>0.9401</td>\n",
       "      <td>how oil taxes will make a mark on campaigning</td>\n",
       "      <td>2012-03-28</td>\n",
       "      <td>melissa block</td>\n",
       "      <td>all things considered</td>\n",
       "    </tr>\n",
       "  </tbody>\n",
       "</table>\n",
       "</div>"
      ],
      "text/plain": [
       "       story_id_num                                         lemmatized  \\\n",
       "47791        120158  we all have our obsession , big and small. and...   \n",
       "61160        140737  this is all thing considered from npr news. i ...   \n",
       "60652        139893  the number of death from hurricane katrina is ...   \n",
       "38531        106996  finally , moment hear the music of the inaugur...   \n",
       "41327        111134  from npr news , this is all thing considered. ...   \n",
       "\n",
       "        vader                                              title       date  \\\n",
       "47791  0.9894  'windy,' a plastic bag caught in a tree, is ka... 2010-06-14   \n",
       "61160  0.1476  educator kenneth clark and his fight for integ... 2005-05-02   \n",
       "60652 -0.9589  mississippi coroner describes effort to recove... 2005-09-06   \n",
       "38531  0.9919  beyonce, kelly clarkson among inauguration per... 2013-01-21   \n",
       "41327  0.9401      how oil taxes will make a mark on campaigning 2012-03-28   \n",
       "\n",
       "                host                program  \n",
       "47791  melissa block  all things considered  \n",
       "61160  melissa block  all things considered  \n",
       "60652  melissa block  all things considered  \n",
       "38531  melissa block  all things considered  \n",
       "41327  melissa block  all things considered  "
      ]
     },
     "execution_count": 64,
     "metadata": {},
     "output_type": "execute_result"
    }
   ],
   "source": [
    "block = stories[stories.host=='melissa block']\n",
    "block.sample(5)"
   ]
  },
  {
   "cell_type": "code",
   "execution_count": 65,
   "id": "a357214f",
   "metadata": {
    "scrolled": false
   },
   "outputs": [
    {
     "data": {
      "text/html": [
       "<div>\n",
       "<style scoped>\n",
       "    .dataframe tbody tr th:only-of-type {\n",
       "        vertical-align: middle;\n",
       "    }\n",
       "\n",
       "    .dataframe tbody tr th {\n",
       "        vertical-align: top;\n",
       "    }\n",
       "\n",
       "    .dataframe thead th {\n",
       "        text-align: right;\n",
       "    }\n",
       "</style>\n",
       "<table border=\"1\" class=\"dataframe\">\n",
       "  <thead>\n",
       "    <tr style=\"text-align: right;\">\n",
       "      <th></th>\n",
       "      <th>story_id_num</th>\n",
       "      <th>lemmatized</th>\n",
       "      <th>vader</th>\n",
       "      <th>title</th>\n",
       "      <th>date</th>\n",
       "      <th>host</th>\n",
       "      <th>program</th>\n",
       "    </tr>\n",
       "  </thead>\n",
       "  <tbody>\n",
       "    <tr>\n",
       "      <th>56598</th>\n",
       "      <td>132511</td>\n",
       "      <td>this is morning edition from npr news. i m ren...</td>\n",
       "      <td>-0.7691</td>\n",
       "      <td>london on alert as commuters return to work</td>\n",
       "      <td>2005-07-11</td>\n",
       "      <td>renee montagne</td>\n",
       "      <td>morning edition</td>\n",
       "    </tr>\n",
       "    <tr>\n",
       "      <th>6948</th>\n",
       "      <td>32255</td>\n",
       "      <td>i m farai chideya , and this is news note . ma...</td>\n",
       "      <td>0.9856</td>\n",
       "      <td>racism's physical impact</td>\n",
       "      <td>2007-09-27</td>\n",
       "      <td>farai chideya</td>\n",
       "      <td>news &amp; notes</td>\n",
       "    </tr>\n",
       "    <tr>\n",
       "      <th>42973</th>\n",
       "      <td>113386</td>\n",
       "      <td>the tour company called elderhostel want to be...</td>\n",
       "      <td>0.9849</td>\n",
       "      <td>senior tourism program seeks facelift</td>\n",
       "      <td>2009-10-02</td>\n",
       "      <td>steve inskeep</td>\n",
       "      <td>morning edition</td>\n",
       "    </tr>\n",
       "    <tr>\n",
       "      <th>15400</th>\n",
       "      <td>67013</td>\n",
       "      <td>it s tuesday , the day we read from your email...</td>\n",
       "      <td>-0.9335</td>\n",
       "      <td>letters: layoffs, and alaskans celebrate solstice</td>\n",
       "      <td>2008-12-16</td>\n",
       "      <td>neal conan</td>\n",
       "      <td>talk of the nation</td>\n",
       "    </tr>\n",
       "    <tr>\n",
       "      <th>28901</th>\n",
       "      <td>93596</td>\n",
       "      <td>ok. now , think for a moment about the million...</td>\n",
       "      <td>0.9521</td>\n",
       "      <td>turning food waste into fuel takes gumption an...</td>\n",
       "      <td>2014-03-11</td>\n",
       "      <td>renee montagne</td>\n",
       "      <td>morning edition</td>\n",
       "    </tr>\n",
       "  </tbody>\n",
       "</table>\n",
       "</div>"
      ],
      "text/plain": [
       "       story_id_num                                         lemmatized  \\\n",
       "56598        132511  this is morning edition from npr news. i m ren...   \n",
       "6948          32255  i m farai chideya , and this is news note . ma...   \n",
       "42973        113386  the tour company called elderhostel want to be...   \n",
       "15400         67013  it s tuesday , the day we read from your email...   \n",
       "28901         93596  ok. now , think for a moment about the million...   \n",
       "\n",
       "        vader                                              title       date  \\\n",
       "56598 -0.7691        london on alert as commuters return to work 2005-07-11   \n",
       "6948   0.9856                           racism's physical impact 2007-09-27   \n",
       "42973  0.9849              senior tourism program seeks facelift 2009-10-02   \n",
       "15400 -0.9335  letters: layoffs, and alaskans celebrate solstice 2008-12-16   \n",
       "28901  0.9521  turning food waste into fuel takes gumption an... 2014-03-11   \n",
       "\n",
       "                 host             program  \n",
       "56598  renee montagne     morning edition  \n",
       "6948    farai chideya        news & notes  \n",
       "42973   steve inskeep     morning edition  \n",
       "15400      neal conan  talk of the nation  \n",
       "28901  renee montagne     morning edition  "
      ]
     },
     "execution_count": 65,
     "metadata": {},
     "output_type": "execute_result"
    }
   ],
   "source": [
    "other_hosts=stories[stories.host!='melissa block']\n",
    "other_hosts.sample(5)"
   ]
  },
  {
   "cell_type": "code",
   "execution_count": 66,
   "id": "522e9477",
   "metadata": {},
   "outputs": [
    {
     "data": {
      "text/plain": [
       "morning edition             26688\n",
       "all things considered       17761\n",
       "talk of the nation           7248\n",
       "weekend edition saturday     4944\n",
       "news & notes                 2801\n",
       "weekend edition sunday       1682\n",
       "day to day                     41\n",
       "Name: program, dtype: int64"
      ]
     },
     "execution_count": 66,
     "metadata": {},
     "output_type": "execute_result"
    }
   ],
   "source": [
    "stories.program.value_counts()"
   ]
  },
  {
   "cell_type": "code",
   "execution_count": 67,
   "id": "6f9bd629",
   "metadata": {
    "scrolled": true
   },
   "outputs": [
    {
     "data": {
      "text/html": [
       "<div>\n",
       "<style scoped>\n",
       "    .dataframe tbody tr th:only-of-type {\n",
       "        vertical-align: middle;\n",
       "    }\n",
       "\n",
       "    .dataframe tbody tr th {\n",
       "        vertical-align: top;\n",
       "    }\n",
       "\n",
       "    .dataframe thead th {\n",
       "        text-align: right;\n",
       "    }\n",
       "</style>\n",
       "<table border=\"1\" class=\"dataframe\">\n",
       "  <thead>\n",
       "    <tr style=\"text-align: right;\">\n",
       "      <th></th>\n",
       "      <th>story_id_num</th>\n",
       "      <th>lemmatized</th>\n",
       "      <th>vader</th>\n",
       "      <th>title</th>\n",
       "      <th>date</th>\n",
       "      <th>host</th>\n",
       "      <th>program</th>\n",
       "    </tr>\n",
       "  </thead>\n",
       "  <tbody>\n",
       "    <tr>\n",
       "      <th>30296</th>\n",
       "      <td>95636</td>\n",
       "      <td>it s morning edition from npr news. i m steve ...</td>\n",
       "      <td>0.9905</td>\n",
       "      <td>how a pregnant woman's choices could shape a c...</td>\n",
       "      <td>2013-09-23</td>\n",
       "      <td>steve inskeep</td>\n",
       "      <td>morning edition</td>\n",
       "    </tr>\n",
       "    <tr>\n",
       "      <th>38686</th>\n",
       "      <td>107231</td>\n",
       "      <td>joining u from the ivory coast city of abidjan...</td>\n",
       "      <td>0.9716</td>\n",
       "      <td>cocoa plays role in ivory coast's political cr...</td>\n",
       "      <td>2011-01-27</td>\n",
       "      <td>renee montagne</td>\n",
       "      <td>morning edition</td>\n",
       "    </tr>\n",
       "    <tr>\n",
       "      <th>45883</th>\n",
       "      <td>117477</td>\n",
       "      <td>here s another nation celebrating a new leader...</td>\n",
       "      <td>0.9428</td>\n",
       "      <td>making happiness and well-being a national pri...</td>\n",
       "      <td>2008-11-06</td>\n",
       "      <td>renee montagne</td>\n",
       "      <td>morning edition</td>\n",
       "    </tr>\n",
       "    <tr>\n",
       "      <th>52629</th>\n",
       "      <td>126855</td>\n",
       "      <td>each monday , we bring you our series this i b...</td>\n",
       "      <td>0.9977</td>\n",
       "      <td>living what you do every day</td>\n",
       "      <td>2006-11-06</td>\n",
       "      <td>renee montagne</td>\n",
       "      <td>morning edition</td>\n",
       "    </tr>\n",
       "    <tr>\n",
       "      <th>39182</th>\n",
       "      <td>107928</td>\n",
       "      <td>when we talk about austerity in ireland , what...</td>\n",
       "      <td>0.9862</td>\n",
       "      <td>irish brace for strict austerity budget</td>\n",
       "      <td>2010-12-02</td>\n",
       "      <td>steve inskeep</td>\n",
       "      <td>morning edition</td>\n",
       "    </tr>\n",
       "  </tbody>\n",
       "</table>\n",
       "</div>"
      ],
      "text/plain": [
       "       story_id_num                                         lemmatized  \\\n",
       "30296         95636  it s morning edition from npr news. i m steve ...   \n",
       "38686        107231  joining u from the ivory coast city of abidjan...   \n",
       "45883        117477  here s another nation celebrating a new leader...   \n",
       "52629        126855  each monday , we bring you our series this i b...   \n",
       "39182        107928  when we talk about austerity in ireland , what...   \n",
       "\n",
       "        vader                                              title       date  \\\n",
       "30296  0.9905  how a pregnant woman's choices could shape a c... 2013-09-23   \n",
       "38686  0.9716  cocoa plays role in ivory coast's political cr... 2011-01-27   \n",
       "45883  0.9428  making happiness and well-being a national pri... 2008-11-06   \n",
       "52629  0.9977                       living what you do every day 2006-11-06   \n",
       "39182  0.9862            irish brace for strict austerity budget 2010-12-02   \n",
       "\n",
       "                 host          program  \n",
       "30296   steve inskeep  morning edition  \n",
       "38686  renee montagne  morning edition  \n",
       "45883  renee montagne  morning edition  \n",
       "52629  renee montagne  morning edition  \n",
       "39182   steve inskeep  morning edition  "
      ]
     },
     "execution_count": 67,
     "metadata": {},
     "output_type": "execute_result"
    }
   ],
   "source": [
    "morning_edition = stories[stories.program == 'morning edition']\n",
    "morning_edition.sample(5)"
   ]
  },
  {
   "cell_type": "code",
   "execution_count": 68,
   "id": "43003896",
   "metadata": {},
   "outputs": [
    {
     "data": {
      "text/html": [
       "<div>\n",
       "<style scoped>\n",
       "    .dataframe tbody tr th:only-of-type {\n",
       "        vertical-align: middle;\n",
       "    }\n",
       "\n",
       "    .dataframe tbody tr th {\n",
       "        vertical-align: top;\n",
       "    }\n",
       "\n",
       "    .dataframe thead th {\n",
       "        text-align: right;\n",
       "    }\n",
       "</style>\n",
       "<table border=\"1\" class=\"dataframe\">\n",
       "  <thead>\n",
       "    <tr style=\"text-align: right;\">\n",
       "      <th></th>\n",
       "      <th>story_id_num</th>\n",
       "      <th>lemmatized</th>\n",
       "      <th>vader</th>\n",
       "      <th>title</th>\n",
       "      <th>date</th>\n",
       "      <th>host</th>\n",
       "      <th>program</th>\n",
       "    </tr>\n",
       "  </thead>\n",
       "  <tbody>\n",
       "    <tr>\n",
       "      <th>765</th>\n",
       "      <td>2775</td>\n",
       "      <td>from npr news , this is news notes. i m farai ...</td>\n",
       "      <td>0.9995</td>\n",
       "      <td>how healthcare fares during a recession</td>\n",
       "      <td>2008-12-18</td>\n",
       "      <td>farai chideya</td>\n",
       "      <td>news &amp; notes</td>\n",
       "    </tr>\n",
       "    <tr>\n",
       "      <th>5863</th>\n",
       "      <td>20209</td>\n",
       "      <td>from npr news , this is news notes. i m farai ...</td>\n",
       "      <td>0.9918</td>\n",
       "      <td>romney wins michigan; dems debate in nevada</td>\n",
       "      <td>2008-01-16</td>\n",
       "      <td>farai chideya</td>\n",
       "      <td>news &amp; notes</td>\n",
       "    </tr>\n",
       "    <tr>\n",
       "      <th>6760</th>\n",
       "      <td>31879</td>\n",
       "      <td>i m farai chideya. and this is news note . a s...</td>\n",
       "      <td>0.9984</td>\n",
       "      <td>african-american fine art on the rise</td>\n",
       "      <td>2007-10-16</td>\n",
       "      <td>farai chideya</td>\n",
       "      <td>news &amp; notes</td>\n",
       "    </tr>\n",
       "    <tr>\n",
       "      <th>1859</th>\n",
       "      <td>5354</td>\n",
       "      <td>i m farai chideya and this is news notes. here...</td>\n",
       "      <td>-0.9262</td>\n",
       "      <td>dealing with addiction from the judge's bench</td>\n",
       "      <td>2008-08-13</td>\n",
       "      <td>farai chideya</td>\n",
       "      <td>news &amp; notes</td>\n",
       "    </tr>\n",
       "    <tr>\n",
       "      <th>2413</th>\n",
       "      <td>6643</td>\n",
       "      <td>from npr news , this is news notes. i m farai ...</td>\n",
       "      <td>0.9989</td>\n",
       "      <td>maxine waters switches to obama</td>\n",
       "      <td>2008-06-04</td>\n",
       "      <td>farai chideya</td>\n",
       "      <td>news &amp; notes</td>\n",
       "    </tr>\n",
       "  </tbody>\n",
       "</table>\n",
       "</div>"
      ],
      "text/plain": [
       "      story_id_num                                         lemmatized   vader  \\\n",
       "765           2775  from npr news , this is news notes. i m farai ...  0.9995   \n",
       "5863         20209  from npr news , this is news notes. i m farai ...  0.9918   \n",
       "6760         31879  i m farai chideya. and this is news note . a s...  0.9984   \n",
       "1859          5354  i m farai chideya and this is news notes. here... -0.9262   \n",
       "2413          6643  from npr news , this is news notes. i m farai ...  0.9989   \n",
       "\n",
       "                                              title       date           host  \\\n",
       "765         how healthcare fares during a recession 2008-12-18  farai chideya   \n",
       "5863    romney wins michigan; dems debate in nevada 2008-01-16  farai chideya   \n",
       "6760          african-american fine art on the rise 2007-10-16  farai chideya   \n",
       "1859  dealing with addiction from the judge's bench 2008-08-13  farai chideya   \n",
       "2413                maxine waters switches to obama 2008-06-04  farai chideya   \n",
       "\n",
       "           program  \n",
       "765   news & notes  \n",
       "5863  news & notes  \n",
       "6760  news & notes  \n",
       "1859  news & notes  \n",
       "2413  news & notes  "
      ]
     },
     "execution_count": 68,
     "metadata": {},
     "output_type": "execute_result"
    }
   ],
   "source": [
    "news_notes = stories[stories.program == 'news & notes']\n",
    "news_notes.sample(5)"
   ]
  },
  {
   "cell_type": "code",
   "execution_count": 69,
   "id": "a4580d0e",
   "metadata": {},
   "outputs": [
    {
     "data": {
      "text/html": [
       "<div>\n",
       "<style scoped>\n",
       "    .dataframe tbody tr th:only-of-type {\n",
       "        vertical-align: middle;\n",
       "    }\n",
       "\n",
       "    .dataframe tbody tr th {\n",
       "        vertical-align: top;\n",
       "    }\n",
       "\n",
       "    .dataframe thead th {\n",
       "        text-align: right;\n",
       "    }\n",
       "</style>\n",
       "<table border=\"1\" class=\"dataframe\">\n",
       "  <thead>\n",
       "    <tr style=\"text-align: right;\">\n",
       "      <th></th>\n",
       "      <th>story_id_num</th>\n",
       "      <th>lemmatized</th>\n",
       "      <th>vader</th>\n",
       "      <th>title</th>\n",
       "      <th>date</th>\n",
       "      <th>host</th>\n",
       "      <th>program</th>\n",
       "    </tr>\n",
       "    <tr>\n",
       "      <th>date</th>\n",
       "      <th></th>\n",
       "      <th></th>\n",
       "      <th></th>\n",
       "      <th></th>\n",
       "      <th></th>\n",
       "      <th></th>\n",
       "      <th></th>\n",
       "    </tr>\n",
       "  </thead>\n",
       "  <tbody>\n",
       "    <tr>\n",
       "      <th>2005-01-11</th>\n",
       "      <td>84430</td>\n",
       "      <td>this is talk of the nation. i m neal conan in ...</td>\n",
       "      <td>1.0000</td>\n",
       "      <td>state legislatures: agendas and budgets</td>\n",
       "      <td>2005-01-11</td>\n",
       "      <td>neal conan</td>\n",
       "      <td>talk of the nation</td>\n",
       "    </tr>\n",
       "    <tr>\n",
       "      <th>2005-01-11</th>\n",
       "      <td>84432</td>\n",
       "      <td>this is talk of the nation. i m neal conan in ...</td>\n",
       "      <td>0.9999</td>\n",
       "      <td>difference between a think and a 'blink'</td>\n",
       "      <td>2005-01-11</td>\n",
       "      <td>neal conan</td>\n",
       "      <td>talk of the nation</td>\n",
       "    </tr>\n",
       "    <tr>\n",
       "      <th>2005-01-11</th>\n",
       "      <td>84433</td>\n",
       "      <td>this is talk of the nation. i m neal conan in ...</td>\n",
       "      <td>0.9999</td>\n",
       "      <td>bush picks judge to head homeland security</td>\n",
       "      <td>2005-01-11</td>\n",
       "      <td>neal conan</td>\n",
       "      <td>talk of the nation</td>\n",
       "    </tr>\n",
       "    <tr>\n",
       "      <th>2005-01-11</th>\n",
       "      <td>84434</td>\n",
       "      <td>scientist at the national oceanic and atmosphe...</td>\n",
       "      <td>0.9914</td>\n",
       "      <td>noaa aims for predicting tsunamis</td>\n",
       "      <td>2005-01-11</td>\n",
       "      <td>neal conan</td>\n",
       "      <td>talk of the nation</td>\n",
       "    </tr>\n",
       "    <tr>\n",
       "      <th>2005-01-11</th>\n",
       "      <td>84431</td>\n",
       "      <td>this is talk of the nation. i m neal conan in ...</td>\n",
       "      <td>0.9999</td>\n",
       "      <td>california rains bring rash of mudslides</td>\n",
       "      <td>2005-01-11</td>\n",
       "      <td>neal conan</td>\n",
       "      <td>talk of the nation</td>\n",
       "    </tr>\n",
       "  </tbody>\n",
       "</table>\n",
       "</div>"
      ],
      "text/plain": [
       "            story_id_num                                         lemmatized  \\\n",
       "date                                                                          \n",
       "2005-01-11         84430  this is talk of the nation. i m neal conan in ...   \n",
       "2005-01-11         84432  this is talk of the nation. i m neal conan in ...   \n",
       "2005-01-11         84433  this is talk of the nation. i m neal conan in ...   \n",
       "2005-01-11         84434  scientist at the national oceanic and atmosphe...   \n",
       "2005-01-11         84431  this is talk of the nation. i m neal conan in ...   \n",
       "\n",
       "             vader                                       title       date  \\\n",
       "date                                                                        \n",
       "2005-01-11  1.0000     state legislatures: agendas and budgets 2005-01-11   \n",
       "2005-01-11  0.9999    difference between a think and a 'blink' 2005-01-11   \n",
       "2005-01-11  0.9999  bush picks judge to head homeland security 2005-01-11   \n",
       "2005-01-11  0.9914           noaa aims for predicting tsunamis 2005-01-11   \n",
       "2005-01-11  0.9999    california rains bring rash of mudslides 2005-01-11   \n",
       "\n",
       "                  host             program  \n",
       "date                                        \n",
       "2005-01-11  neal conan  talk of the nation  \n",
       "2005-01-11  neal conan  talk of the nation  \n",
       "2005-01-11  neal conan  talk of the nation  \n",
       "2005-01-11  neal conan  talk of the nation  \n",
       "2005-01-11  neal conan  talk of the nation  "
      ]
     },
     "execution_count": 69,
     "metadata": {},
     "output_type": "execute_result"
    }
   ],
   "source": [
    "tsa.head()"
   ]
  },
  {
   "cell_type": "code",
   "execution_count": 70,
   "id": "71bc2e3d",
   "metadata": {},
   "outputs": [],
   "source": [
    "tsa.index = pd.to_datetime(tsa.index)\n"
   ]
  },
  {
   "cell_type": "code",
   "execution_count": 71,
   "id": "14dc3521",
   "metadata": {},
   "outputs": [],
   "source": [
    "from datetime import datetime"
   ]
  },
  {
   "cell_type": "code",
   "execution_count": 72,
   "id": "a990da98",
   "metadata": {},
   "outputs": [],
   "source": [
    "tsa = tsa.set_index('date').sort_index()"
   ]
  },
  {
   "cell_type": "code",
   "execution_count": 73,
   "id": "7b19a01b",
   "metadata": {},
   "outputs": [],
   "source": [
    "Obama_election = tsa[datetime(2008,11,7):datetime(2008,11,30)]"
   ]
  },
  {
   "cell_type": "code",
   "execution_count": 78,
   "id": "ff655e4f",
   "metadata": {
    "scrolled": true
   },
   "outputs": [
    {
     "data": {
      "text/plain": [
       "(340, 6)"
      ]
     },
     "execution_count": 78,
     "metadata": {},
     "output_type": "execute_result"
    }
   ],
   "source": [
    "Obama_election.shape"
   ]
  },
  {
   "cell_type": "code",
   "execution_count": 75,
   "id": "f85513be",
   "metadata": {},
   "outputs": [],
   "source": [
    "Trump_election = tsa[datetime(2016,11,7):datetime(2016,11,30)]"
   ]
  },
  {
   "cell_type": "code",
   "execution_count": 79,
   "id": "4c412724",
   "metadata": {},
   "outputs": [
    {
     "data": {
      "text/plain": [
       "(208, 6)"
      ]
     },
     "execution_count": 79,
     "metadata": {},
     "output_type": "execute_result"
    }
   ],
   "source": [
    "Trump_election.shape"
   ]
  },
  {
   "cell_type": "code",
   "execution_count": 125,
   "id": "3eb42af2",
   "metadata": {
    "scrolled": true
   },
   "outputs": [
    {
     "name": "stderr",
     "output_type": "stream",
     "text": [
      "/usr/local/anaconda3/lib/python3.8/site-packages/ipykernel/ipkernel.py:287: DeprecationWarning: `should_run_async` will not call `transform_cell` automatically in the future. Please pass the result to `transformed_cell` argument and any exception that happen during thetransform in `preprocessing_exc_tuple` in IPython 7.17 and above.\n",
      "  and should_run_async(code)\n"
     ]
    }
   ],
   "source": [
    "big_increase = tsa[datetime(2010,8,1):datetime(2010,8,7)]"
   ]
  },
  {
   "cell_type": "code",
   "execution_count": 134,
   "id": "92aefa2d",
   "metadata": {
    "scrolled": true
   },
   "outputs": [
    {
     "name": "stderr",
     "output_type": "stream",
     "text": [
      "/usr/local/anaconda3/lib/python3.8/site-packages/ipykernel/ipkernel.py:287: DeprecationWarning: `should_run_async` will not call `transform_cell` automatically in the future. Please pass the result to `transformed_cell` argument and any exception that happen during thetransform in `preprocessing_exc_tuple` in IPython 7.17 and above.\n",
      "  and should_run_async(code)\n"
     ]
    },
    {
     "data": {
      "text/plain": [
       "(65,)"
      ]
     },
     "execution_count": 134,
     "metadata": {},
     "output_type": "execute_result"
    }
   ],
   "source": [
    "big_increase.title.shape#sample(3).to_list()"
   ]
  },
  {
   "cell_type": "code",
   "execution_count": 129,
   "id": "ee4d3e4e",
   "metadata": {},
   "outputs": [
    {
     "name": "stderr",
     "output_type": "stream",
     "text": [
      "/usr/local/anaconda3/lib/python3.8/site-packages/ipykernel/ipkernel.py:287: DeprecationWarning: `should_run_async` will not call `transform_cell` automatically in the future. Please pass the result to `transformed_cell` argument and any exception that happen during thetransform in `preprocessing_exc_tuple` in IPython 7.17 and above.\n",
      "  and should_run_async(code)\n"
     ]
    }
   ],
   "source": [
    "big_decrease = tsa[datetime(2015,11,29):datetime(2015,12,5)]"
   ]
  },
  {
   "cell_type": "code",
   "execution_count": 136,
   "id": "cb2222e6",
   "metadata": {},
   "outputs": [
    {
     "name": "stderr",
     "output_type": "stream",
     "text": [
      "/usr/local/anaconda3/lib/python3.8/site-packages/ipykernel/ipkernel.py:287: DeprecationWarning: `should_run_async` will not call `transform_cell` automatically in the future. Please pass the result to `transformed_cell` argument and any exception that happen during thetransform in `preprocessing_exc_tuple` in IPython 7.17 and above.\n",
      "  and should_run_async(code)\n"
     ]
    },
    {
     "data": {
      "text/html": [
       "<div>\n",
       "<style scoped>\n",
       "    .dataframe tbody tr th:only-of-type {\n",
       "        vertical-align: middle;\n",
       "    }\n",
       "\n",
       "    .dataframe tbody tr th {\n",
       "        vertical-align: top;\n",
       "    }\n",
       "\n",
       "    .dataframe thead th {\n",
       "        text-align: right;\n",
       "    }\n",
       "</style>\n",
       "<table border=\"1\" class=\"dataframe\">\n",
       "  <thead>\n",
       "    <tr style=\"text-align: right;\">\n",
       "      <th></th>\n",
       "      <th>title</th>\n",
       "    </tr>\n",
       "    <tr>\n",
       "      <th>date</th>\n",
       "      <th></th>\n",
       "    </tr>\n",
       "  </thead>\n",
       "  <tbody>\n",
       "    <tr>\n",
       "      <th>2015-11-29</th>\n",
       "      <td>young american muslims face pressure, are opti...</td>\n",
       "    </tr>\n",
       "    <tr>\n",
       "      <th>2015-11-29</th>\n",
       "      <td>'selfies' are more than meets the eye</td>\n",
       "    </tr>\n",
       "    <tr>\n",
       "      <th>2015-11-29</th>\n",
       "      <td>what we know: colorado springs shooting</td>\n",
       "    </tr>\n",
       "    <tr>\n",
       "      <th>2015-11-29</th>\n",
       "      <td>climate summit to proceed in paris</td>\n",
       "    </tr>\n",
       "    <tr>\n",
       "      <th>2015-11-29</th>\n",
       "      <td>internet food culture gives rise to new 'eatym...</td>\n",
       "    </tr>\n",
       "    <tr>\n",
       "      <th>2015-11-29</th>\n",
       "      <td>proposed climate change rules at odds with u.s...</td>\n",
       "    </tr>\n",
       "    <tr>\n",
       "      <th>2015-11-29</th>\n",
       "      <td>between alphabetizing and best guesses, can yo...</td>\n",
       "    </tr>\n",
       "    <tr>\n",
       "      <th>2015-11-29</th>\n",
       "      <td>oklahoma's yearly bison health check-up</td>\n",
       "    </tr>\n",
       "    <tr>\n",
       "      <th>2015-11-30</th>\n",
       "      <td>planned parenthood shooting revives gun debate...</td>\n",
       "    </tr>\n",
       "    <tr>\n",
       "      <th>2015-11-30</th>\n",
       "      <td>greenbuild conference showcases energy saving ...</td>\n",
       "    </tr>\n",
       "    <tr>\n",
       "      <th>2015-11-30</th>\n",
       "      <td>big data predicts centuries of harm if climate...</td>\n",
       "    </tr>\n",
       "    <tr>\n",
       "      <th>2015-11-30</th>\n",
       "      <td>doping scandal jeopardizes olympic dreams of r...</td>\n",
       "    </tr>\n",
       "    <tr>\n",
       "      <th>2015-11-30</th>\n",
       "      <td>patients want to price-shop for care, but onli...</td>\n",
       "    </tr>\n",
       "    <tr>\n",
       "      <th>2015-11-30</th>\n",
       "      <td>what gets made in la is way more than movies</td>\n",
       "    </tr>\n",
       "    <tr>\n",
       "      <th>2015-11-30</th>\n",
       "      <td>nasa uses lessons from space to design an effi...</td>\n",
       "    </tr>\n",
       "    <tr>\n",
       "      <th>2015-11-30</th>\n",
       "      <td>pope francis brings message of peace to centra...</td>\n",
       "    </tr>\n",
       "    <tr>\n",
       "      <th>2015-12-01</th>\n",
       "      <td>world leaders to debate role of nuclear power ...</td>\n",
       "    </tr>\n",
       "    <tr>\n",
       "      <th>2015-12-01</th>\n",
       "      <td>u.s. authorities have arrested 56 isis sympath...</td>\n",
       "    </tr>\n",
       "    <tr>\n",
       "      <th>2015-12-01</th>\n",
       "      <td>stanford researchers find a flaw in self-drivi...</td>\n",
       "    </tr>\n",
       "    <tr>\n",
       "      <th>2015-12-01</th>\n",
       "      <td>obama urges other nations to take action on cl...</td>\n",
       "    </tr>\n",
       "    <tr>\n",
       "      <th>2015-12-01</th>\n",
       "      <td>in syria, health care workers are the heroes —...</td>\n",
       "    </tr>\n",
       "    <tr>\n",
       "      <th>2015-12-01</th>\n",
       "      <td>syrian broadcaster dodges syria's regime, isis...</td>\n",
       "    </tr>\n",
       "    <tr>\n",
       "      <th>2015-12-01</th>\n",
       "      <td>'hollywood reporter' to end annual index of po...</td>\n",
       "    </tr>\n",
       "    <tr>\n",
       "      <th>2015-12-01</th>\n",
       "      <td>on world aids day, remembering npr's early rep...</td>\n",
       "    </tr>\n",
       "    <tr>\n",
       "      <th>2015-12-02</th>\n",
       "      <td>head of chicago pd dismissed amid tension over...</td>\n",
       "    </tr>\n",
       "    <tr>\n",
       "      <th>2015-12-02</th>\n",
       "      <td>mark zuckerberg and priscilla chan have baby, ...</td>\n",
       "    </tr>\n",
       "    <tr>\n",
       "      <th>2015-12-02</th>\n",
       "      <td>exxonmobil, columbia university clash over stu...</td>\n",
       "    </tr>\n",
       "    <tr>\n",
       "      <th>2015-12-02</th>\n",
       "      <td>campaign-finance provisions may be attached to...</td>\n",
       "    </tr>\n",
       "    <tr>\n",
       "      <th>2015-12-02</th>\n",
       "      <td>watchdog pulls back curtain on iran's nuclear ...</td>\n",
       "    </tr>\n",
       "    <tr>\n",
       "      <th>2015-12-02</th>\n",
       "      <td>opening statements begin in trial of police of...</td>\n",
       "    </tr>\n",
       "    <tr>\n",
       "      <th>2015-12-02</th>\n",
       "      <td>how obama hopes to achieve u.s. climate goals</td>\n",
       "    </tr>\n",
       "    <tr>\n",
       "      <th>2015-12-02</th>\n",
       "      <td>as trump solidifies lead, gop establishment st...</td>\n",
       "    </tr>\n",
       "    <tr>\n",
       "      <th>2015-12-03</th>\n",
       "      <td>maggie smith is deft, daft and driven in 'the ...</td>\n",
       "    </tr>\n",
       "    <tr>\n",
       "      <th>2015-12-03</th>\n",
       "      <td>scientists debate how far to go in editing hum...</td>\n",
       "    </tr>\n",
       "    <tr>\n",
       "      <th>2015-12-03</th>\n",
       "      <td>pentagon opens all combat positions to women</td>\n",
       "    </tr>\n",
       "    <tr>\n",
       "      <th>2015-12-03</th>\n",
       "      <td>politicians react to san bernardino shooting</td>\n",
       "    </tr>\n",
       "    <tr>\n",
       "      <th>2015-12-03</th>\n",
       "      <td>suspect's brother-in-law 'shocked'; motivation...</td>\n",
       "    </tr>\n",
       "    <tr>\n",
       "      <th>2015-12-03</th>\n",
       "      <td>san bernardino authorities identify suspects i...</td>\n",
       "    </tr>\n",
       "    <tr>\n",
       "      <th>2015-12-03</th>\n",
       "      <td>'triumph of william mckinley' speaks to the ag...</td>\n",
       "    </tr>\n",
       "    <tr>\n",
       "      <th>2015-12-04</th>\n",
       "      <td>week in politics: san bernardino, calif., shoo...</td>\n",
       "    </tr>\n",
       "    <tr>\n",
       "      <th>2015-12-04</th>\n",
       "      <td>putting names to the victims of the san bernar...</td>\n",
       "    </tr>\n",
       "    <tr>\n",
       "      <th>2015-12-04</th>\n",
       "      <td>u.n. delegates confront the cost of stopping c...</td>\n",
       "    </tr>\n",
       "    <tr>\n",
       "      <th>2015-12-04</th>\n",
       "      <td>bill murray stars in netflix holiday special: ...</td>\n",
       "    </tr>\n",
       "    <tr>\n",
       "      <th>2015-12-04</th>\n",
       "      <td>san bernardino highlights how police respond t...</td>\n",
       "    </tr>\n",
       "    <tr>\n",
       "      <th>2015-12-04</th>\n",
       "      <td>growing puerto rican community transforms poli...</td>\n",
       "    </tr>\n",
       "    <tr>\n",
       "      <th>2015-12-04</th>\n",
       "      <td>calif. mosque gets negative attention after sh...</td>\n",
       "    </tr>\n",
       "    <tr>\n",
       "      <th>2015-12-04</th>\n",
       "      <td>fake climate change ads aim to point out corpo...</td>\n",
       "    </tr>\n",
       "    <tr>\n",
       "      <th>2015-12-05</th>\n",
       "      <td>post attacks, more french voters lean right pr...</td>\n",
       "    </tr>\n",
       "    <tr>\n",
       "      <th>2015-12-05</th>\n",
       "      <td>free enterprise lens opens climate change conv...</td>\n",
       "    </tr>\n",
       "    <tr>\n",
       "      <th>2015-12-05</th>\n",
       "      <td>after mass shootings, people turn to prayer — ...</td>\n",
       "    </tr>\n",
       "    <tr>\n",
       "      <th>2015-12-05</th>\n",
       "      <td>parsing gun control after the latest mass shoo...</td>\n",
       "    </tr>\n",
       "    <tr>\n",
       "      <th>2015-12-05</th>\n",
       "      <td>u.s. reliance on kurdish forces in fight again...</td>\n",
       "    </tr>\n",
       "    <tr>\n",
       "      <th>2015-12-05</th>\n",
       "      <td>new exhibit remembers shakespeare's silent soirée</td>\n",
       "    </tr>\n",
       "    <tr>\n",
       "      <th>2015-12-05</th>\n",
       "      <td>archaeologists dig to complete revolutionary w...</td>\n",
       "    </tr>\n",
       "    <tr>\n",
       "      <th>2015-12-05</th>\n",
       "      <td>many questions remain in san bernardino shooting</td>\n",
       "    </tr>\n",
       "  </tbody>\n",
       "</table>\n",
       "</div>"
      ],
      "text/plain": [
       "                                                        title\n",
       "date                                                         \n",
       "2015-11-29  young american muslims face pressure, are opti...\n",
       "2015-11-29              'selfies' are more than meets the eye\n",
       "2015-11-29            what we know: colorado springs shooting\n",
       "2015-11-29                 climate summit to proceed in paris\n",
       "2015-11-29  internet food culture gives rise to new 'eatym...\n",
       "2015-11-29  proposed climate change rules at odds with u.s...\n",
       "2015-11-29  between alphabetizing and best guesses, can yo...\n",
       "2015-11-29            oklahoma's yearly bison health check-up\n",
       "2015-11-30  planned parenthood shooting revives gun debate...\n",
       "2015-11-30  greenbuild conference showcases energy saving ...\n",
       "2015-11-30  big data predicts centuries of harm if climate...\n",
       "2015-11-30  doping scandal jeopardizes olympic dreams of r...\n",
       "2015-11-30  patients want to price-shop for care, but onli...\n",
       "2015-11-30       what gets made in la is way more than movies\n",
       "2015-11-30  nasa uses lessons from space to design an effi...\n",
       "2015-11-30  pope francis brings message of peace to centra...\n",
       "2015-12-01  world leaders to debate role of nuclear power ...\n",
       "2015-12-01  u.s. authorities have arrested 56 isis sympath...\n",
       "2015-12-01  stanford researchers find a flaw in self-drivi...\n",
       "2015-12-01  obama urges other nations to take action on cl...\n",
       "2015-12-01  in syria, health care workers are the heroes —...\n",
       "2015-12-01  syrian broadcaster dodges syria's regime, isis...\n",
       "2015-12-01  'hollywood reporter' to end annual index of po...\n",
       "2015-12-01  on world aids day, remembering npr's early rep...\n",
       "2015-12-02  head of chicago pd dismissed amid tension over...\n",
       "2015-12-02  mark zuckerberg and priscilla chan have baby, ...\n",
       "2015-12-02  exxonmobil, columbia university clash over stu...\n",
       "2015-12-02  campaign-finance provisions may be attached to...\n",
       "2015-12-02  watchdog pulls back curtain on iran's nuclear ...\n",
       "2015-12-02  opening statements begin in trial of police of...\n",
       "2015-12-02      how obama hopes to achieve u.s. climate goals\n",
       "2015-12-02  as trump solidifies lead, gop establishment st...\n",
       "2015-12-03  maggie smith is deft, daft and driven in 'the ...\n",
       "2015-12-03  scientists debate how far to go in editing hum...\n",
       "2015-12-03       pentagon opens all combat positions to women\n",
       "2015-12-03       politicians react to san bernardino shooting\n",
       "2015-12-03  suspect's brother-in-law 'shocked'; motivation...\n",
       "2015-12-03  san bernardino authorities identify suspects i...\n",
       "2015-12-03  'triumph of william mckinley' speaks to the ag...\n",
       "2015-12-04  week in politics: san bernardino, calif., shoo...\n",
       "2015-12-04  putting names to the victims of the san bernar...\n",
       "2015-12-04  u.n. delegates confront the cost of stopping c...\n",
       "2015-12-04  bill murray stars in netflix holiday special: ...\n",
       "2015-12-04  san bernardino highlights how police respond t...\n",
       "2015-12-04  growing puerto rican community transforms poli...\n",
       "2015-12-04  calif. mosque gets negative attention after sh...\n",
       "2015-12-04  fake climate change ads aim to point out corpo...\n",
       "2015-12-05  post attacks, more french voters lean right pr...\n",
       "2015-12-05  free enterprise lens opens climate change conv...\n",
       "2015-12-05  after mass shootings, people turn to prayer — ...\n",
       "2015-12-05  parsing gun control after the latest mass shoo...\n",
       "2015-12-05  u.s. reliance on kurdish forces in fight again...\n",
       "2015-12-05  new exhibit remembers shakespeare's silent soirée\n",
       "2015-12-05  archaeologists dig to complete revolutionary w...\n",
       "2015-12-05   many questions remain in san bernardino shooting"
      ]
     },
     "execution_count": 136,
     "metadata": {},
     "output_type": "execute_result"
    }
   ],
   "source": [
    "pd.DataFrame(big_decrease.title)#.sample(3)#.to_list()"
   ]
  },
  {
   "cell_type": "markdown",
   "id": "0283a434",
   "metadata": {},
   "source": [
    "## Topic Model for Melissa Block vs. Other Hosts\n",
    "## Also morning ed vs news and notes (bottom sentiment and top sentiment)"
   ]
  },
  {
   "cell_type": "code",
   "execution_count": 116,
   "id": "1d53e1b6",
   "metadata": {
    "scrolled": true
   },
   "outputs": [
    {
     "name": "stdout",
     "output_type": "stream",
     "text": [
      "['stranded', 'survival', 'team', 'effort']\n"
     ]
    },
    {
     "name": "stderr",
     "output_type": "stream",
     "text": [
      "/usr/local/anaconda3/lib/python3.8/site-packages/ipykernel/ipkernel.py:287: DeprecationWarning: `should_run_async` will not call `transform_cell` automatically in the future. Please pass the result to `transformed_cell` argument and any exception that happen during thetransform in `preprocessing_exc_tuple` in IPython 7.17 and above.\n",
      "  and should_run_async(code)\n",
      "[nltk_data] Downloading package stopwords to\n",
      "[nltk_data]     /Users/brianclements/nltk_data...\n",
      "[nltk_data]   Package stopwords is already up-to-date!\n"
     ]
    }
   ],
   "source": [
    "import gensim\n",
    "from gensim.utils import simple_preprocess\n",
    "import nltk\n",
    "nltk.download('stopwords')\n",
    "from nltk.corpus import stopwords\n",
    "stop_words = stopwords.words('english')\n",
    "# stop_words.extend(['from', 'subject', 're', 'edu', 'use'])\n",
    "def sent_to_words(sentences):\n",
    "    for sentence in sentences:\n",
    "        # deacc=True removes punctuations\n",
    "        yield(gensim.utils.simple_preprocess(str(sentence), deacc=False))\n",
    "def remove_stopwords(texts):\n",
    "    return [[word for word in simple_preprocess(str(doc)) \n",
    "             if word not in stop_words] for doc in texts]\n",
    "data = Obama_election.title.values.tolist()\n",
    "data_words = list(sent_to_words(data))\n",
    "# remove stop words\n",
    "data_words = remove_stopwords(data_words)\n",
    "print(data_words[:1][0][:30])"
   ]
  },
  {
   "cell_type": "code",
   "execution_count": 117,
   "id": "6824e3a9",
   "metadata": {},
   "outputs": [
    {
     "name": "stderr",
     "output_type": "stream",
     "text": [
      "/usr/local/anaconda3/lib/python3.8/site-packages/ipykernel/ipkernel.py:287: DeprecationWarning: `should_run_async` will not call `transform_cell` automatically in the future. Please pass the result to `transformed_cell` argument and any exception that happen during thetransform in `preprocessing_exc_tuple` in IPython 7.17 and above.\n",
      "  and should_run_async(code)\n"
     ]
    }
   ],
   "source": [
    "# # Build the bigram and trigram models\n",
    "bigram = gensim.models.Phrases(data_words, min_count=5, threshold=100) # higher threshold fewer phrases.\n",
    "trigram = gensim.models.Phrases(bigram[data_words], threshold=100)\n",
    "# Faster way to get a sentence clubbed as a trigram/bigram\n",
    "bigram_mod = gensim.models.phrases.Phraser(bigram)\n",
    "trigram_mod = gensim.models.phrases.Phraser(trigram)"
   ]
  },
  {
   "cell_type": "code",
   "execution_count": 118,
   "id": "200cf223",
   "metadata": {},
   "outputs": [
    {
     "name": "stderr",
     "output_type": "stream",
     "text": [
      "/usr/local/anaconda3/lib/python3.8/site-packages/ipykernel/ipkernel.py:287: DeprecationWarning: `should_run_async` will not call `transform_cell` automatically in the future. Please pass the result to `transformed_cell` argument and any exception that happen during thetransform in `preprocessing_exc_tuple` in IPython 7.17 and above.\n",
      "  and should_run_async(code)\n"
     ]
    }
   ],
   "source": [
    "# NLTK Stop words\n",
    "# import nltk\n",
    "# nltk.download('stopwords')\n",
    "from nltk.corpus import stopwords\n",
    "stop_words = stopwords.words('english')\n",
    "stop_words.extend(['from', 'subject', 're', 'edu', 'use'])\n",
    "# Define functions for stopwords, bigrams, trigrams and lemmatization\n",
    "def remove_stopwords(texts):\n",
    "    return [[word for word in simple_preprocess(str(doc)) if word not in stop_words] for doc in texts]\n",
    "def make_bigrams(texts):\n",
    "    return [bigram_mod[doc] for doc in texts]\n",
    "def make_trigrams(texts):\n",
    "    return [trigram_mod[bigram_mod[doc]] for doc in texts]\n",
    "def lemmatization(texts, allowed_postags=['NOUN', 'ADJ', 'VERB', 'ADV']):\n",
    "    \"\"\"https://spacy.io/api/annotation\"\"\"\n",
    "    texts_out = []\n",
    "    for sent in texts:\n",
    "        doc = nlp(\" \".join(sent)) \n",
    "        texts_out.append([token.lemma_ for token in doc if token.pos_ in allowed_postags])\n",
    "    return texts_out"
   ]
  },
  {
   "cell_type": "code",
   "execution_count": 119,
   "id": "d165eac6",
   "metadata": {},
   "outputs": [
    {
     "name": "stderr",
     "output_type": "stream",
     "text": [
      "/usr/local/anaconda3/lib/python3.8/site-packages/ipykernel/ipkernel.py:287: DeprecationWarning: `should_run_async` will not call `transform_cell` automatically in the future. Please pass the result to `transformed_cell` argument and any exception that happen during thetransform in `preprocessing_exc_tuple` in IPython 7.17 and above.\n",
      "  and should_run_async(code)\n"
     ]
    },
    {
     "name": "stdout",
     "output_type": "stream",
     "text": [
      "[['strand', 'survival', 'team', 'effort']]\n"
     ]
    }
   ],
   "source": [
    "import spacy\n",
    "# Remove Stop Words\n",
    "data_words_nostops = remove_stopwords(data_words)\n",
    "# Form Bigrams\n",
    "data_words_bigrams = make_bigrams(data_words_nostops)\n",
    "# Initialize spacy 'en' model, keeping only tagger component (for efficiency)\n",
    "nlp = spacy.load(\"en_core_web_sm\", disable=['parser', 'ner']) # see https://spacy.io/models/en for info on this pipeline\n",
    "# Do lemmatization keeping only noun, adj, vb, adv\n",
    "data_lemmatized = lemmatization(data_words_bigrams, allowed_postags=['NOUN', 'ADJ', 'VERB', 'ADV'])\n",
    "print(data_lemmatized[:1])"
   ]
  },
  {
   "cell_type": "code",
   "execution_count": 120,
   "id": "d64b6aa9",
   "metadata": {},
   "outputs": [
    {
     "name": "stdout",
     "output_type": "stream",
     "text": [
      "[[(0, 1), (1, 1), (2, 1), (3, 1)]]\n"
     ]
    },
    {
     "name": "stderr",
     "output_type": "stream",
     "text": [
      "/usr/local/anaconda3/lib/python3.8/site-packages/ipykernel/ipkernel.py:287: DeprecationWarning: `should_run_async` will not call `transform_cell` automatically in the future. Please pass the result to `transformed_cell` argument and any exception that happen during thetransform in `preprocessing_exc_tuple` in IPython 7.17 and above.\n",
      "  and should_run_async(code)\n"
     ]
    }
   ],
   "source": [
    "import gensim.corpora as corpora\n",
    "# Create Dictionary\n",
    "id2word = corpora.Dictionary(data_lemmatized)\n",
    "# Create Corpus\n",
    "texts = data_lemmatized\n",
    "# Term Document Frequency\n",
    "corpus = [id2word.doc2bow(text) for text in texts]\n",
    "# View\n",
    "print(corpus[:1])"
   ]
  },
  {
   "cell_type": "code",
   "execution_count": 121,
   "id": "fb84a869",
   "metadata": {},
   "outputs": [
    {
     "name": "stderr",
     "output_type": "stream",
     "text": [
      "/usr/local/anaconda3/lib/python3.8/site-packages/ipykernel/ipkernel.py:287: DeprecationWarning: `should_run_async` will not call `transform_cell` automatically in the future. Please pass the result to `transformed_cell` argument and any exception that happen during thetransform in `preprocessing_exc_tuple` in IPython 7.17 and above.\n",
      "  and should_run_async(code)\n"
     ]
    }
   ],
   "source": [
    "# Build LDA model\n",
    "lda_model = gensim.models.LdaMulticore(corpus=corpus,\n",
    "                                       id2word=id2word,\n",
    "                                       num_topics=3, \n",
    "                                       random_state=100,\n",
    "                                       chunksize=100,\n",
    "                                       passes=10,\n",
    "                                       per_word_topics=True)"
   ]
  },
  {
   "cell_type": "code",
   "execution_count": 122,
   "id": "523250fc",
   "metadata": {},
   "outputs": [
    {
     "name": "stderr",
     "output_type": "stream",
     "text": [
      "/usr/local/anaconda3/lib/python3.8/site-packages/ipykernel/ipkernel.py:287: DeprecationWarning: `should_run_async` will not call `transform_cell` automatically in the future. Please pass the result to `transformed_cell` argument and any exception that happen during thetransform in `preprocessing_exc_tuple` in IPython 7.17 and above.\n",
      "  and should_run_async(code)\n"
     ]
    },
    {
     "name": "stdout",
     "output_type": "stream",
     "text": [
      "\n",
      "Coherence Score:  0.7423721765896601\n"
     ]
    }
   ],
   "source": [
    "from gensim.models import CoherenceModel\n",
    "# Compute Coherence Score\n",
    "coherence_model_lda = CoherenceModel(model=lda_model, texts=data_lemmatized, dictionary=id2word, coherence='c_v')\n",
    "coherence_lda = coherence_model_lda.get_coherence()\n",
    "print('\\nCoherence Score: ', coherence_lda)"
   ]
  },
  {
   "cell_type": "code",
   "execution_count": 123,
   "id": "7acc9cbe",
   "metadata": {
    "scrolled": true
   },
   "outputs": [
    {
     "name": "stderr",
     "output_type": "stream",
     "text": [
      "/usr/local/anaconda3/lib/python3.8/site-packages/ipykernel/ipkernel.py:287: DeprecationWarning: `should_run_async` will not call `transform_cell` automatically in the future. Please pass the result to `transformed_cell` argument and any exception that happen during thetransform in `preprocessing_exc_tuple` in IPython 7.17 and above.\n",
      "  and should_run_async(code)\n"
     ]
    },
    {
     "data": {
      "text/html": [
       "\n",
       "<link rel=\"stylesheet\" type=\"text/css\" href=\"https://cdn.jsdelivr.net/gh/bmabey/pyLDAvis@3.3.1/pyLDAvis/js/ldavis.v1.0.0.css\">\n",
       "\n",
       "\n",
       "<div id=\"ldavis_el20197140381800054448413230454\"></div>\n",
       "<script type=\"text/javascript\">\n",
       "\n",
       "var ldavis_el20197140381800054448413230454_data = {\"mdsDat\": {\"x\": [-0.09863273773746309, 0.02110047420901167, 0.07753226352845147], \"y\": [0.032227341823244035, -0.10060516920616623, 0.06837782738292221], \"topics\": [1, 2, 3], \"cluster\": [1, 1, 1], \"Freq\": [33.968815190667975, 33.17243036487965, 32.85875444445237]}, \"tinfo\": {\"Term\": [\"economic\", \"keep\", \"race\", \"car\", \"black\", \"change\", \"bailout\", \"say\", \"still\", \"share\", \"market\", \"citigroup\", \"need\", \"make\", \"force\", \"press\", \"return\", \"secretary\", \"industry\", \"lieberman\", \"weigh\", \"political\", \"road\", \"star\", \"state\", \"gay\", \"auto\", \"part\", \"transition\", \"face\", \"change\", \"need\", \"race\", \"official\", \"sound\", \"fall\", \"price\", \"study\", \"chitty\", \"see\", \"investor\", \"online\", \"use\", \"kid\", \"judge\", \"alzheimer\", \"stay\", \"turnout\", \"record\", \"training\", \"order\", \"tale\", \"challenge\", \"journalist\", \"recession\", \"respond\", \"relation\", \"bring\", \"child\", \"way\", \"transition\", \"new\", \"credit\", \"problem\", \"stimulus\", \"plan\", \"voter\", \"letter\", \"go\", \"remember\", \"fight\", \"take\", \"election\", \"struggle\", \"chinese\", \"bond\", \"business\", \"high\", \"call\", \"congo\", \"twilight\", \"big\", \"expect\", \"share\", \"weigh\", \"political\", \"road\", \"star\", \"still\", \"package\", \"party\", \"market\", \"layoff\", \"search\", \"stop\", \"die\", \"fund\", \"author\", \"come\", \"favorite\", \"bank\", \"book\", \"brain\", \"sport\", \"rise\", \"update\", \"many\", \"odd\", \"trip\", \"federal\", \"right\", \"worker\", \"miriam\", \"talk\", \"bailout\", \"make\", \"attack\", \"black\", \"face\", \"pirate\", \"holiday\", \"new\", \"election\", \"roundtable\", \"automaker\", \"big\", \"stall\", \"meal\", \"win\", \"remember\", \"lead\", \"mumbai\", \"social\", \"somali\", \"take\", \"economic\", \"keep\", \"car\", \"force\", \"press\", \"return\", \"secretary\", \"industry\", \"lieberman\", \"gay\", \"part\", \"reflect\", \"ask\", \"citigroup\", \"electric\", \"football\", \"medical\", \"grow\", \"center\", \"traveler\", \"firm\", \"family\", \"depth\", \"cut\", \"midnight\", \"roll\", \"racial\", \"say\", \"city\", \"get\", \"auto\", \"college\", \"state\", \"team\", \"low\", \"vote\", \"go\", \"black\", \"letter\", \"job\", \"seek\", \"show\", \"mumbai\", \"economy\", \"roundtable\", \"new\"], \"Freq\": [6.0, 4.0, 4.0, 3.0, 7.0, 3.0, 6.0, 4.0, 3.0, 3.0, 3.0, 3.0, 3.0, 3.0, 2.0, 2.0, 2.0, 2.0, 2.0, 2.0, 2.0, 2.0, 2.0, 2.0, 4.0, 2.0, 3.0, 2.0, 3.0, 4.0, 3.2027893692557687, 2.5543538816440488, 4.073143465195398, 2.0123867112482605, 2.004041151864938, 2.001721953251567, 1.9547379692968925, 1.4096860827311934, 1.409642272354029, 1.409637404534344, 1.4095118994442064, 1.4094672424897055, 1.4093061811514342, 1.4092439577172007, 1.409022471921536, 1.4089698783045055, 1.408949242981928, 1.4088053248347212, 1.4087767528496138, 1.4087243708769173, 1.408526695068842, 1.4083214000647382, 1.4076226562956156, 1.4073637094528104, 1.4072457177365343, 1.406277233263566, 1.4062147981849984, 1.4036945374542058, 1.4031118806023524, 1.4028568491797284, 2.616323765965302, 5.724325680449979, 2.046904843922815, 2.0252811423049897, 2.015129198529887, 2.0147056982172975, 2.0473385031634423, 2.613716519413183, 2.684375250227714, 1.965190236382122, 1.575664977105815, 2.0219030870879777, 2.0285281896791765, 1.489033130928167, 1.4299584352756134, 1.4244602329414775, 1.4206244968519144, 1.4178598927373716, 1.4175203094032638, 1.4154733912257478, 1.414722688772597, 1.4149904188552684, 1.4133804404055592, 2.587604790114405, 2.022526785907249, 2.02213305589671, 2.0212269601664192, 2.021015110685683, 2.998530571334381, 1.9897434404575387, 1.9502220414258917, 2.908737807230055, 1.415708336863641, 1.4157001729080418, 1.4156095426667707, 1.4155316233943438, 1.415494110535072, 1.4153429223446734, 1.4151348964887114, 1.4148436809586065, 1.4148017244272997, 1.4148042046163425, 1.41468546556592, 1.4146688276310915, 1.4144422003573087, 1.4143877395395779, 1.414327904978921, 1.414169999609865, 1.4141610089245849, 1.4141299032203403, 1.4140445433807851, 1.4140244951860226, 1.4138893248831919, 1.8838257272916654, 4.675286555539976, 2.65382046381335, 2.1439190185582047, 4.446546987422412, 2.6533897376495896, 2.043857651769564, 1.9042595914501796, 2.6181121487525365, 2.058299999248015, 1.681913227296398, 1.5518523205761323, 1.5216165426381838, 1.4558372788695557, 1.4485945068174162, 1.4463186233470475, 1.4611566643190295, 1.434594459718259, 1.4562806126609502, 1.4256809703221858, 1.4212804949130569, 1.4233228272485652, 5.520488521050818, 3.7987444778467334, 3.2251343638704744, 2.0152612115884936, 2.014825345575693, 2.0147493914701275, 2.0143604081801687, 2.0139630310402694, 2.013640993821793, 1.9964585782640925, 1.9853823814465497, 1.961332363540609, 1.932056252770053, 2.8712942810634527, 1.4108745349826761, 1.410472960917806, 1.4104713230934272, 1.4103962902640745, 1.4103891247824176, 1.4103172652377989, 1.410184089643, 1.4101676090351885, 1.410112639554476, 1.409640229585224, 1.4096295837267618, 1.4085235404509722, 1.4033359364592581, 3.269975948080788, 1.361082319495452, 2.200133299807039, 2.5365569628982425, 2.0857251251083695, 2.6716105280754796, 2.586854549570342, 1.7191366267930785, 1.994495236290039, 3.0822323442701602, 3.192242346327684, 2.7108835093979673, 2.0315209178368034, 2.0170190066030114, 1.987352274718118, 1.9701565518373398, 2.056101386113419, 1.94857002652512, 1.9502803246326532], \"Total\": [6.0, 4.0, 4.0, 3.0, 7.0, 3.0, 6.0, 4.0, 3.0, 3.0, 3.0, 3.0, 3.0, 3.0, 2.0, 2.0, 2.0, 2.0, 2.0, 2.0, 2.0, 2.0, 2.0, 2.0, 4.0, 2.0, 3.0, 2.0, 3.0, 4.0, 3.6292947267888995, 3.0245693449836812, 4.838900240233898, 2.419813938055419, 2.4198207538345597, 2.4198418627298146, 2.419799165868241, 1.8151040461808963, 1.8151038505092776, 1.815104905784108, 1.8151042544388203, 1.815104917000422, 1.81510376216571, 1.8151035697794513, 1.815102784406408, 1.8151026880678398, 1.8151017454867022, 1.8151047768032875, 1.815104122784526, 1.8151026012697788, 1.8151028118708654, 1.8150988225652362, 1.8150997103847228, 1.8151041909263896, 1.8151006991892564, 1.8150962750511075, 1.8151025798699159, 1.8151061036077325, 1.8151050611717126, 1.8151075924685172, 3.6317601913319355, 10.29271815383517, 3.02691431139349, 3.024947359688324, 3.0250044301891763, 3.0270642129399175, 3.6314805528738647, 6.052241558791004, 6.657953330527678, 3.634545984135427, 2.4216358283783936, 4.844745924721309, 5.452150119191119, 2.420170023126501, 2.4202269768528986, 2.422286895719551, 2.420248829708895, 2.4223185586083775, 2.420232789380776, 2.4202388551329035, 2.420238745290388, 3.635180874743533, 3.029634143257252, 3.0347875223028953, 2.4276341410490305, 2.427631736593131, 2.42762505455054, 2.427622122109246, 3.6413303704282467, 2.4274698043334078, 2.4273473356014237, 3.640806152009614, 1.8203160802283895, 1.8203161991595824, 1.8203160531013416, 1.8203139831881685, 1.8203146731962083, 1.8203136141296927, 1.82031100367299, 1.8203092111805363, 1.8203085006752766, 1.820312094725388, 1.8203082629327516, 1.8203090272918707, 1.820306889847107, 1.8203040569015547, 1.8203045841268906, 1.8203060017640336, 1.8203035379458161, 1.8203092130774914, 1.8203029566082929, 1.8203073130656355, 1.8203009248527202, 2.426988872915915, 6.672222581330132, 3.6401732887855025, 3.0331976333166595, 7.88280831964737, 4.244407369387887, 3.032847148564424, 3.637025800509292, 10.29271815383517, 5.452150119191119, 4.846304396357761, 3.635342326035655, 3.635180874743533, 2.4255859874312646, 2.4250918962392727, 2.425081756848851, 3.634545984135427, 2.425034519507034, 3.6359876880006747, 2.424998098453355, 2.4249813813103773, 4.844745924721309, 6.052509452285687, 4.236889395542719, 3.63171337351986, 2.4213021046764536, 2.421301614294874, 2.4212990671406476, 2.4212995859616844, 2.4213012816644714, 2.4213012302512342, 2.421286172666361, 2.4213463088386353, 2.4212723004076073, 2.42149414493692, 3.6328921538823096, 1.8160962849010729, 1.8160950126915831, 1.8160953141577962, 1.8160935306605535, 1.8160947033872856, 1.8160943372295022, 1.816094874171966, 1.8160925681351452, 1.8160932325239247, 1.8160970473157558, 1.8160924773835916, 1.8160884008490463, 1.8160848419640643, 4.23640021446392, 1.8161893343018691, 3.0278503970941264, 3.6310920104575364, 3.0261289350802096, 4.240820257088969, 4.240970984609707, 2.4210131652981675, 3.0259365267990317, 6.657953330527678, 7.88280831964737, 6.052241558791004, 3.6306698873198933, 3.6358631589123287, 3.635732710774775, 3.6359876880006747, 4.2378291022490275, 4.846304396357761, 10.29271815383517], \"Category\": [\"Default\", \"Default\", \"Default\", \"Default\", \"Default\", \"Default\", \"Default\", \"Default\", \"Default\", \"Default\", \"Default\", \"Default\", \"Default\", \"Default\", \"Default\", \"Default\", \"Default\", \"Default\", \"Default\", \"Default\", \"Default\", \"Default\", \"Default\", \"Default\", \"Default\", \"Default\", \"Default\", \"Default\", \"Default\", \"Default\", \"Topic1\", \"Topic1\", \"Topic1\", \"Topic1\", \"Topic1\", \"Topic1\", \"Topic1\", \"Topic1\", \"Topic1\", \"Topic1\", \"Topic1\", \"Topic1\", \"Topic1\", \"Topic1\", \"Topic1\", \"Topic1\", \"Topic1\", \"Topic1\", \"Topic1\", \"Topic1\", \"Topic1\", \"Topic1\", \"Topic1\", \"Topic1\", \"Topic1\", \"Topic1\", \"Topic1\", \"Topic1\", \"Topic1\", \"Topic1\", \"Topic1\", \"Topic1\", \"Topic1\", \"Topic1\", \"Topic1\", \"Topic1\", \"Topic1\", \"Topic1\", \"Topic1\", \"Topic1\", \"Topic1\", \"Topic1\", \"Topic1\", \"Topic1\", \"Topic1\", \"Topic1\", \"Topic1\", \"Topic1\", \"Topic1\", \"Topic1\", \"Topic1\", \"Topic1\", \"Topic1\", \"Topic2\", \"Topic2\", \"Topic2\", \"Topic2\", \"Topic2\", \"Topic2\", \"Topic2\", \"Topic2\", \"Topic2\", \"Topic2\", \"Topic2\", \"Topic2\", \"Topic2\", \"Topic2\", \"Topic2\", \"Topic2\", \"Topic2\", \"Topic2\", \"Topic2\", \"Topic2\", \"Topic2\", \"Topic2\", \"Topic2\", \"Topic2\", \"Topic2\", \"Topic2\", \"Topic2\", \"Topic2\", \"Topic2\", \"Topic2\", \"Topic2\", \"Topic2\", \"Topic2\", \"Topic2\", \"Topic2\", \"Topic2\", \"Topic2\", \"Topic2\", \"Topic2\", \"Topic2\", \"Topic2\", \"Topic2\", \"Topic2\", \"Topic2\", \"Topic2\", \"Topic2\", \"Topic2\", \"Topic2\", \"Topic2\", \"Topic2\", \"Topic2\", \"Topic2\", \"Topic3\", \"Topic3\", \"Topic3\", \"Topic3\", \"Topic3\", \"Topic3\", \"Topic3\", \"Topic3\", \"Topic3\", \"Topic3\", \"Topic3\", \"Topic3\", \"Topic3\", \"Topic3\", \"Topic3\", \"Topic3\", \"Topic3\", \"Topic3\", \"Topic3\", \"Topic3\", \"Topic3\", \"Topic3\", \"Topic3\", \"Topic3\", \"Topic3\", \"Topic3\", \"Topic3\", \"Topic3\", \"Topic3\", \"Topic3\", \"Topic3\", \"Topic3\", \"Topic3\", \"Topic3\", \"Topic3\", \"Topic3\", \"Topic3\", \"Topic3\", \"Topic3\", \"Topic3\", \"Topic3\", \"Topic3\", \"Topic3\", \"Topic3\", \"Topic3\", \"Topic3\"], \"logprob\": [30.0, 29.0, 28.0, 27.0, 26.0, 25.0, 24.0, 23.0, 22.0, 21.0, 20.0, 19.0, 18.0, 17.0, 16.0, 15.0, 14.0, 13.0, 12.0, 11.0, 10.0, 9.0, 8.0, 7.0, 6.0, 5.0, 4.0, 3.0, 2.0, 1.0, -4.9552, -5.1814, -4.7148, -5.4199, -5.424, -5.4252, -5.4489, -5.7758, -5.7759, -5.7759, -5.776, -5.776, -5.7761, -5.7762, -5.7763, -5.7763, -5.7764, -5.7765, -5.7765, -5.7765, -5.7767, -5.7768, -5.7773, -5.7775, -5.7776, -5.7783, -5.7783, -5.7801, -5.7805, -5.7807, -5.1574, -4.3745, -5.4029, -5.4135, -5.4185, -5.4187, -5.4027, -5.1584, -5.1318, -5.4436, -5.6645, -5.4152, -5.4119, -5.7211, -5.7616, -5.7654, -5.7681, -5.7701, -5.7703, -5.7717, -5.7723, -5.7721, -5.7732, -5.1447, -5.3911, -5.3913, -5.3918, -5.3919, -4.9974, -5.4075, -5.4275, -5.0278, -5.7479, -5.7479, -5.7479, -5.748, -5.748, -5.7481, -5.7483, -5.7485, -5.7485, -5.7485, -5.7486, -5.7486, -5.7487, -5.7488, -5.7488, -5.7489, -5.7489, -5.749, -5.749, -5.749, -5.7491, -5.4622, -4.5532, -5.1195, -5.3328, -4.6034, -5.1196, -5.3806, -5.4514, -5.133, -5.3736, -5.5755, -5.656, -5.6757, -5.7199, -5.7249, -5.7265, -5.7163, -5.7346, -5.7196, -5.7408, -5.7439, -5.7425, -4.3775, -4.7513, -4.915, -5.3852, -5.3854, -5.3855, -5.3857, -5.3859, -5.386, -5.3946, -5.4002, -5.4124, -5.4274, -5.0312, -5.7418, -5.7421, -5.7421, -5.7421, -5.7421, -5.7422, -5.7423, -5.7423, -5.7423, -5.7426, -5.7427, -5.7434, -5.7471, -4.9012, -5.7777, -5.2975, -5.1552, -5.3509, -5.1033, -5.1355, -5.5442, -5.3956, -4.9603, -4.9253, -5.0887, -5.3772, -5.3844, -5.3992, -5.4079, -5.3652, -5.4189, -5.418], \"loglift\": [30.0, 29.0, 28.0, 27.0, 26.0, 25.0, 24.0, 23.0, 22.0, 21.0, 20.0, 19.0, 18.0, 17.0, 16.0, 15.0, 14.0, 13.0, 12.0, 11.0, 10.0, 9.0, 8.0, 7.0, 6.0, 5.0, 4.0, 3.0, 2.0, 1.0, 0.9547, 0.9108, 0.9075, 0.8954, 0.8912, 0.89, 0.8663, 0.827, 0.8269, 0.8269, 0.8268, 0.8268, 0.8267, 0.8266, 0.8265, 0.8264, 0.8264, 0.8263, 0.8263, 0.8263, 0.8261, 0.826, 0.8255, 0.8253, 0.8252, 0.8245, 0.8245, 0.8227, 0.8223, 0.8221, 0.7518, 0.493, 0.6885, 0.6785, 0.6735, 0.6726, 0.5066, 0.2401, 0.1714, 0.4648, 0.65, 0.2059, 0.091, 0.594, 0.5535, 0.5488, 0.547, 0.5442, 0.5448, 0.5433, 0.5428, 0.1362, 0.3173, 0.944, 0.9209, 0.9207, 0.9202, 0.9201, 0.9092, 0.9046, 0.8846, 0.879, 0.8521, 0.8521, 0.852, 0.8519, 0.8519, 0.8518, 0.8517, 0.8515, 0.8514, 0.8514, 0.8514, 0.8513, 0.8512, 0.8511, 0.8511, 0.851, 0.851, 0.851, 0.8509, 0.8509, 0.8508, 0.8501, 0.7478, 0.7874, 0.7565, 0.5309, 0.6337, 0.7088, 0.4564, -0.2655, 0.1293, 0.0452, 0.2522, 0.2326, 0.593, 0.5882, 0.5866, 0.1922, 0.5785, 0.1885, 0.5723, 0.5692, -0.1214, 1.0209, 1.0038, 0.9942, 0.9294, 0.9292, 0.9291, 0.9289, 0.9288, 0.9286, 0.92, 0.9144, 0.9023, 0.8872, 0.8777, 0.8605, 0.8602, 0.8602, 0.8601, 0.8601, 0.8601, 0.86, 0.86, 0.8599, 0.8596, 0.8596, 0.8588, 0.8551, 0.854, 0.8245, 0.7936, 0.7542, 0.7408, 0.6509, 0.6186, 0.7706, 0.6961, 0.3428, 0.209, 0.3098, 0.5323, 0.5237, 0.5089, 0.5002, 0.3897, 0.2018, -0.5505]}, \"token.table\": {\"Topic\": [1, 3, 2, 3, 2, 1, 3, 1, 2, 3, 1, 2, 3, 2, 1, 2, 3, 2, 3, 1, 2, 2, 2, 1, 1, 3, 1, 3, 3, 3, 1, 1, 1, 1, 3, 1, 2, 3, 3, 1, 3, 2, 1, 3, 1, 2, 3, 3, 2, 3, 1, 2, 3, 1, 2, 3, 3, 1, 2, 1, 2, 1, 3, 2, 2, 1, 2, 3, 3, 3, 2, 3, 2, 3, 1, 2, 3, 3, 1, 2, 1, 2, 3, 3, 1, 1, 3, 1, 1, 3, 1, 2, 1, 2, 1, 2, 3, 3, 3, 2, 3, 2, 1, 2, 1, 2, 3, 3, 2, 2, 3, 1, 1, 2, 3, 2, 1, 1, 1, 2, 3, 2, 2, 3, 1, 2, 2, 3, 1, 1, 3, 1, 3, 3, 1, 1, 3, 1, 1, 2, 1, 3, 2, 2, 2, 3, 1, 2, 3, 1, 3, 2, 3, 1, 2, 3, 2, 2, 3, 1, 2, 1, 2, 1, 2, 2, 3, 2, 2, 3, 1, 2, 1, 3, 2, 1, 3, 1, 1, 2, 3, 1, 2, 2, 3, 1, 1, 2, 3, 2, 1, 1, 3, 2, 1, 1, 3, 1, 2, 3, 1, 2, 1, 2, 2], \"Freq\": [0.5509330169437912, 0.8259363352919031, 0.6593701571015317, 0.32968507855076584, 0.5493558869404537, 0.2753992454941936, 0.8261977364825808, 0.27507725829234386, 0.5501545165846877, 0.27507725829234386, 0.14987509601345558, 0.7493754800672779, 0.14987509601345558, 0.549357430143864, 0.2750894754502557, 0.5501789509005114, 0.2750894754502557, 0.5074333711794398, 0.38057502838457985, 0.41283301402782246, 0.41283301402782246, 0.549356345484734, 0.5493575018930426, 0.5509319802365188, 0.41318065635436296, 0.41318065635436296, 0.41318339474933446, 0.41318339474933446, 0.8260563793040742, 0.5506320777957514, 0.5509339207530605, 0.8266068825593335, 0.5509322966431848, 0.413184387069486, 0.413184387069486, 0.5509326641114349, 0.27526278172924695, 0.8257883451877408, 0.5506033876057274, 0.33045518596632245, 0.6609103719326449, 0.5493566747562468, 0.41318235920358637, 0.41318235920358637, 0.660738889261542, 0.330369444630771, 0.5506313671276704, 0.5506325237555371, 0.5493557755616211, 0.9913243502220626, 0.2359698741672469, 0.2359698741672469, 0.4719397483344938, 0.3668277571742137, 0.3668277571742137, 0.18341387858710684, 0.5506315982880128, 0.33007285788140395, 0.33007285788140395, 0.2356041522339116, 0.7068124567017348, 0.8265002894626376, 0.5506327251957482, 0.5493572157180174, 0.5493572151455289, 0.8258880119639067, 0.41294400598195335, 0.5506320260145782, 0.5506319840160391, 0.8260018426189945, 0.5493555673229537, 0.8260072776930644, 0.3302673081073342, 0.6605346162146684, 0.45058891990794925, 0.1501963066359831, 0.45058891990794925, 0.550632433361666, 0.41282761775746796, 0.41282761775746796, 0.27494993295345066, 0.5498998659069013, 0.27494993295345066, 0.8260021233810041, 0.5509325415080205, 0.27543126503803, 0.55086253007606, 0.5509325607857375, 0.5509329877024178, 0.9440888412636094, 0.5509327493204741, 0.549355142692874, 0.4123652640636563, 0.4123652640636563, 0.49568411486194547, 0.16522803828731517, 0.49568411486194547, 0.8260021409201035, 0.8261004230242109, 0.8241365896624421, 0.27471219655414736, 0.5493586121355895, 0.27466444469943296, 0.8239933340982989, 0.41235550766169177, 0.41235550766169177, 0.5506318926128303, 0.5506327527112937, 0.5493597164880359, 0.2750284340346244, 0.5500568680692488, 0.9918767460152864, 0.582936393508875, 0.2914681967544375, 0.194312131169625, 0.5493581843002845, 0.8265098272833387, 0.5509323404029803, 0.5509329793662093, 0.8239031424529738, 0.8259867631075342, 0.8239447114413315, 0.6594463558596039, 0.32972317792980194, 0.6607061691821788, 0.3303530845910894, 0.8238481849832557, 0.826002009907566, 0.8265148728912739, 0.6611685302867784, 0.3305842651433892, 0.8266341113506096, 0.2066585278376524, 0.5506350677529566, 0.5509336206231786, 0.5509325814686123, 0.8260120101581765, 0.5509330497848048, 0.5502750573881521, 0.27513752869407604, 0.5509349634756113, 0.8260028788438073, 0.5493591033128162, 0.5493579162819039, 0.8238504526269556, 0.5506339887047823, 0.2063427961214219, 0.4126855922428438, 0.4126855922428438, 0.23604946402037263, 0.7081483920611179, 0.549355106800504, 0.8260027018530407, 0.5509323438074283, 0.27503785381712514, 0.5500757076342503, 0.9885370814110579, 0.27504772202764594, 0.5500954440552919, 0.41237145737878816, 0.41237145737878816, 0.4123743001522074, 0.4123743001522074, 0.8265074992975028, 0.5493572712143995, 0.4122715109593028, 0.4122715109593028, 0.8238514477954644, 0.23580343881078117, 0.7074103164323435, 0.550933303042943, 0.8238747091896467, 0.661156056513585, 0.3305780282567925, 0.549355150879575, 0.41319411051466054, 0.41319411051466054, 0.5509326047198609, 0.41281834611689133, 0.20640917305844567, 0.20640917305844567, 0.5509341902314298, 0.8240664068628764, 0.23579505816685734, 0.707385174500572, 0.5509330432893639, 0.8260457304312707, 0.2753485768104236, 0.5506321888132338, 0.5493589278678677, 0.5509323829565214, 0.4131823779558644, 0.4131823779558644, 0.549358771249545, 0.5509326909260767, 0.33047619840785086, 0.6609523968157017, 0.5507395594937853, 0.27536977974689264, 0.27536977974689264, 0.5509315283288613, 0.8238473690008985, 0.4123572317410853, 0.4123572317410853, 0.5493577885570702], \"Term\": [\"alzheimer\", \"ask\", \"attack\", \"attack\", \"author\", \"auto\", \"auto\", \"automaker\", \"automaker\", \"automaker\", \"bailout\", \"bailout\", \"bailout\", \"bank\", \"big\", \"big\", \"big\", \"black\", \"black\", \"bond\", \"bond\", \"book\", \"brain\", \"bring\", \"business\", \"business\", \"call\", \"call\", \"car\", \"center\", \"challenge\", \"change\", \"child\", \"chinese\", \"chinese\", \"chitty\", \"citigroup\", \"citigroup\", \"city\", \"college\", \"college\", \"come\", \"congo\", \"congo\", \"credit\", \"credit\", \"cut\", \"depth\", \"die\", \"economic\", \"economy\", \"economy\", \"economy\", \"election\", \"election\", \"election\", \"electric\", \"expect\", \"expect\", \"face\", \"face\", \"fall\", \"family\", \"favorite\", \"federal\", \"fight\", \"fight\", \"firm\", \"football\", \"force\", \"fund\", \"gay\", \"get\", \"get\", \"go\", \"go\", \"go\", \"grow\", \"high\", \"high\", \"holiday\", \"holiday\", \"holiday\", \"industry\", \"investor\", \"job\", \"job\", \"journalist\", \"judge\", \"keep\", \"kid\", \"layoff\", \"lead\", \"lead\", \"letter\", \"letter\", \"letter\", \"lieberman\", \"low\", \"make\", \"make\", \"many\", \"market\", \"market\", \"meal\", \"meal\", \"medical\", \"midnight\", \"miriam\", \"mumbai\", \"mumbai\", \"need\", \"new\", \"new\", \"new\", \"odd\", \"official\", \"online\", \"order\", \"package\", \"part\", \"party\", \"pirate\", \"pirate\", \"plan\", \"plan\", \"political\", \"press\", \"price\", \"problem\", \"problem\", \"race\", \"race\", \"racial\", \"recession\", \"record\", \"reflect\", \"relation\", \"remember\", \"remember\", \"respond\", \"return\", \"right\", \"rise\", \"road\", \"roll\", \"roundtable\", \"roundtable\", \"roundtable\", \"say\", \"say\", \"search\", \"secretary\", \"see\", \"seek\", \"seek\", \"share\", \"show\", \"show\", \"social\", \"social\", \"somali\", \"somali\", \"sound\", \"sport\", \"stall\", \"stall\", \"star\", \"state\", \"state\", \"stay\", \"still\", \"stimulus\", \"stimulus\", \"stop\", \"struggle\", \"struggle\", \"study\", \"take\", \"take\", \"take\", \"tale\", \"talk\", \"team\", \"team\", \"training\", \"transition\", \"transition\", \"traveler\", \"trip\", \"turnout\", \"twilight\", \"twilight\", \"update\", \"use\", \"vote\", \"vote\", \"voter\", \"voter\", \"voter\", \"way\", \"weigh\", \"win\", \"win\", \"worker\"]}, \"R\": 30, \"lambda.step\": 0.01, \"plot.opts\": {\"xlab\": \"PC1\", \"ylab\": \"PC2\"}, \"topic.order\": [3, 1, 2]};\n",
       "\n",
       "function LDAvis_load_lib(url, callback){\n",
       "  var s = document.createElement('script');\n",
       "  s.src = url;\n",
       "  s.async = true;\n",
       "  s.onreadystatechange = s.onload = callback;\n",
       "  s.onerror = function(){console.warn(\"failed to load library \" + url);};\n",
       "  document.getElementsByTagName(\"head\")[0].appendChild(s);\n",
       "}\n",
       "\n",
       "if(typeof(LDAvis) !== \"undefined\"){\n",
       "   // already loaded: just create the visualization\n",
       "   !function(LDAvis){\n",
       "       new LDAvis(\"#\" + \"ldavis_el20197140381800054448413230454\", ldavis_el20197140381800054448413230454_data);\n",
       "   }(LDAvis);\n",
       "}else if(typeof define === \"function\" && define.amd){\n",
       "   // require.js is available: use it to load d3/LDAvis\n",
       "   require.config({paths: {d3: \"https://d3js.org/d3.v5\"}});\n",
       "   require([\"d3\"], function(d3){\n",
       "      window.d3 = d3;\n",
       "      LDAvis_load_lib(\"https://cdn.jsdelivr.net/gh/bmabey/pyLDAvis@3.3.1/pyLDAvis/js/ldavis.v3.0.0.js\", function(){\n",
       "        new LDAvis(\"#\" + \"ldavis_el20197140381800054448413230454\", ldavis_el20197140381800054448413230454_data);\n",
       "      });\n",
       "    });\n",
       "}else{\n",
       "    // require.js not available: dynamically load d3 & LDAvis\n",
       "    LDAvis_load_lib(\"https://d3js.org/d3.v5.js\", function(){\n",
       "         LDAvis_load_lib(\"https://cdn.jsdelivr.net/gh/bmabey/pyLDAvis@3.3.1/pyLDAvis/js/ldavis.v3.0.0.js\", function(){\n",
       "                 new LDAvis(\"#\" + \"ldavis_el20197140381800054448413230454\", ldavis_el20197140381800054448413230454_data);\n",
       "            })\n",
       "         });\n",
       "}\n",
       "</script>"
      ],
      "text/plain": [
       "PreparedData(topic_coordinates=              x         y  topics  cluster       Freq\n",
       "topic                                                \n",
       "2     -0.098633  0.032227       1        1  33.968815\n",
       "0      0.021100 -0.100605       2        1  33.172430\n",
       "1      0.077532  0.068378       3        1  32.858754, topic_info=           Term      Freq      Total Category  logprob  loglift\n",
       "193    economic  6.000000   6.000000  Default  30.0000  30.0000\n",
       "88         keep  4.000000   4.000000  Default  29.0000  29.0000\n",
       "70         race  4.000000   4.000000  Default  28.0000  28.0000\n",
       "570         car  3.000000   3.000000  Default  27.0000  27.0000\n",
       "85        black  7.000000   7.000000  Default  26.0000  26.0000\n",
       "..          ...       ...        ...      ...      ...      ...\n",
       "215        show  1.987352   3.635733   Topic3  -5.3992   0.5089\n",
       "792      mumbai  1.970157   3.635988   Topic3  -5.4079   0.5002\n",
       "58      economy  2.056101   4.237829   Topic3  -5.3652   0.3897\n",
       "181  roundtable  1.948570   4.846304   Topic3  -5.4189   0.2018\n",
       "45          new  1.950280  10.292718   Topic3  -5.4180  -0.5505\n",
       "\n",
       "[181 rows x 6 columns], token_table=      Topic      Freq       Term\n",
       "term                            \n",
       "53        1  0.550933  alzheimer\n",
       "645       3  0.825936        ask\n",
       "796       2  0.659370     attack\n",
       "796       3  0.329685     attack\n",
       "682       2  0.549356     author\n",
       "...     ...       ...        ...\n",
       "224       1  0.550932        way\n",
       "330       2  0.823847      weigh\n",
       "172       1  0.412357        win\n",
       "172       2  0.412357        win\n",
       "144       2  0.549358     worker\n",
       "\n",
       "[205 rows x 3 columns], R=30, lambda_step=0.01, plot_opts={'xlab': 'PC1', 'ylab': 'PC2'}, topic_order=[3, 1, 2])"
      ]
     },
     "execution_count": 123,
     "metadata": {},
     "output_type": "execute_result"
    }
   ],
   "source": [
    "import pyLDAvis.gensim_models as gensimvis\n",
    "import pickle \n",
    "import pyLDAvis\n",
    "# Visualize the topics\n",
    "pyLDAvis.enable_notebook()\n",
    "LDAvis_prepared = gensimvis.prepare(lda_model, corpus, id2word)\n",
    "LDAvis_prepared"
   ]
  },
  {
   "cell_type": "code",
   "execution_count": 124,
   "id": "8d6afb07",
   "metadata": {
    "scrolled": true
   },
   "outputs": [
    {
     "name": "stderr",
     "output_type": "stream",
     "text": [
      "/usr/local/anaconda3/lib/python3.8/site-packages/ipykernel/ipkernel.py:287: DeprecationWarning: `should_run_async` will not call `transform_cell` automatically in the future. Please pass the result to `transformed_cell` argument and any exception that happen during thetransform in `preprocessing_exc_tuple` in IPython 7.17 and above.\n",
      "  and should_run_async(code)\n"
     ]
    }
   ],
   "source": [
    "pyLDAvis.save_html(LDAvis_prepared, \"Obama_election_titles_3topics.html\")"
   ]
  },
  {
   "cell_type": "code",
   "execution_count": null,
   "id": "9e878a36",
   "metadata": {},
   "outputs": [],
   "source": []
  }
 ],
 "metadata": {
  "kernelspec": {
   "display_name": "Python 3",
   "language": "python",
   "name": "python3"
  },
  "language_info": {
   "codemirror_mode": {
    "name": "ipython",
    "version": 3
   },
   "file_extension": ".py",
   "mimetype": "text/x-python",
   "name": "python",
   "nbconvert_exporter": "python",
   "pygments_lexer": "ipython3",
   "version": "3.8.8"
  }
 },
 "nbformat": 4,
 "nbformat_minor": 5
}
