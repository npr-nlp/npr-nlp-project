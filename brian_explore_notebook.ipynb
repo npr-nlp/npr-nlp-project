{
 "cells": [
  {
   "cell_type": "code",
   "execution_count": 1,
   "id": "4fe1ec41",
   "metadata": {},
   "outputs": [],
   "source": [
    "# Import all the things\n",
    "\n",
    "import json\n",
    "import pandas as pd\n",
    "import numpy as np\n",
    "import wrangle\n",
    "import acquire\n",
    "from prepare import basic_clean, tokenize, lemmatize, stem, remove_stopwords, split_data, prep_string_data\n",
    "\n",
    "import re\n",
    "from sklearn.feature_extraction.text import TfidfVectorizer\n",
    "\n",
    "from wordcloud import WordCloud\n",
    "from matplotlib import pyplot as plt\n",
    "import seaborn as sns\n",
    "\n",
    "import nltk\n",
    "\n",
    "from scipy import stats\n",
    "\n",
    "import warnings\n",
    "warnings.filterwarnings(\"ignore\")"
   ]
  },
  {
   "cell_type": "markdown",
   "id": "12909da6",
   "metadata": {},
   "source": [
    "# ALL OF THE BELOW EXPLORATION NEEDS TO BE DONE ON TRAIN ONLY.  LET'S SPLIT UP HERE BASED ON A TSA APPROACH\n",
    "### Other of our explorations might work slightly differently, if we do a prediction model or topic modeling"
   ]
  },
  {
   "cell_type": "code",
   "execution_count": 2,
   "id": "45972e72",
   "metadata": {
    "scrolled": true
   },
   "outputs": [
    {
     "name": "stdout",
     "output_type": "stream",
     "text": [
      "The df has 2998347 rows and 10 columns.\n"
     ]
    },
    {
     "data": {
      "text/html": [
       "<div>\n",
       "<style scoped>\n",
       "    .dataframe tbody tr th:only-of-type {\n",
       "        vertical-align: middle;\n",
       "    }\n",
       "\n",
       "    .dataframe tbody tr th {\n",
       "        vertical-align: top;\n",
       "    }\n",
       "\n",
       "    .dataframe thead th {\n",
       "        text-align: right;\n",
       "    }\n",
       "</style>\n",
       "<table border=\"1\" class=\"dataframe\">\n",
       "  <thead>\n",
       "    <tr style=\"text-align: right;\">\n",
       "      <th></th>\n",
       "      <th>episode_order</th>\n",
       "      <th>speaker</th>\n",
       "      <th>utterance</th>\n",
       "      <th>program</th>\n",
       "      <th>title</th>\n",
       "      <th>is_host</th>\n",
       "      <th>clean</th>\n",
       "      <th>lemmatized_stopped</th>\n",
       "      <th>vader_stopped</th>\n",
       "      <th>date</th>\n",
       "    </tr>\n",
       "    <tr>\n",
       "      <th>episode_id</th>\n",
       "      <th></th>\n",
       "      <th></th>\n",
       "      <th></th>\n",
       "      <th></th>\n",
       "      <th></th>\n",
       "      <th></th>\n",
       "      <th></th>\n",
       "      <th></th>\n",
       "      <th></th>\n",
       "      <th></th>\n",
       "    </tr>\n",
       "  </thead>\n",
       "  <tbody>\n",
       "    <tr>\n",
       "      <th>57264</th>\n",
       "      <td>9</td>\n",
       "      <td>Ms. LOREN MOONEY (Editor-in-Chief, Bicycling M...</td>\n",
       "      <td>It's a 2,200-mile race. To give some sense of ...</td>\n",
       "      <td>Talk of the Nation</td>\n",
       "      <td>How To Watch The Tour De France</td>\n",
       "      <td>False</td>\n",
       "      <td>it s a 2200 mile race. to give some sense of p...</td>\n",
       "      <td>2200 mile race. give sense perspective roughly...</td>\n",
       "      <td>0.0000</td>\n",
       "      <td>2010-07-12</td>\n",
       "    </tr>\n",
       "    <tr>\n",
       "      <th>57264</th>\n",
       "      <td>10</td>\n",
       "      <td>Ms. LOREN MOONEY (Editor-in-Chief, Bicycling M...</td>\n",
       "      <td>So for a top competitor like Lance to try to m...</td>\n",
       "      <td>Talk of the Nation</td>\n",
       "      <td>How To Watch The Tour De France</td>\n",
       "      <td>False</td>\n",
       "      <td>so for a top competitor like lance to try to m...</td>\n",
       "      <td>top competitor like lance try make much time 1...</td>\n",
       "      <td>0.9313</td>\n",
       "      <td>2010-07-12</td>\n",
       "    </tr>\n",
       "    <tr>\n",
       "      <th>57264</th>\n",
       "      <td>11</td>\n",
       "      <td>NEAL CONAN, host</td>\n",
       "      <td>So in every team, presumably there's one star,...</td>\n",
       "      <td>Talk of the Nation</td>\n",
       "      <td>How To Watch The Tour De France</td>\n",
       "      <td>True</td>\n",
       "      <td>so in every team presumably there s one star o...</td>\n",
       "      <td>every team presumably one star one equivalent ...</td>\n",
       "      <td>0.7096</td>\n",
       "      <td>2010-07-12</td>\n",
       "    </tr>\n",
       "    <tr>\n",
       "      <th>57264</th>\n",
       "      <td>12</td>\n",
       "      <td>Ms. LOREN MOONEY (Editor-in-Chief, Bicycling M...</td>\n",
       "      <td>That's right. Each team has nine riders. And w...</td>\n",
       "      <td>Talk of the Nation</td>\n",
       "      <td>How To Watch The Tour De France</td>\n",
       "      <td>False</td>\n",
       "      <td>that s right. each team has nine riders. and w...</td>\n",
       "      <td>right. team ha nine riders. basically team lea...</td>\n",
       "      <td>0.9274</td>\n",
       "      <td>2010-07-12</td>\n",
       "    </tr>\n",
       "    <tr>\n",
       "      <th>57264</th>\n",
       "      <td>13</td>\n",
       "      <td>NEAL CONAN, host</td>\n",
       "      <td>So slipstream, this is like drafting in car ra...</td>\n",
       "      <td>Talk of the Nation</td>\n",
       "      <td>How To Watch The Tour De France</td>\n",
       "      <td>True</td>\n",
       "      <td>so slipstream this is like drafting in car rac...</td>\n",
       "      <td>slipstream like drafting car racing right ?</td>\n",
       "      <td>0.3612</td>\n",
       "      <td>2010-07-12</td>\n",
       "    </tr>\n",
       "  </tbody>\n",
       "</table>\n",
       "</div>"
      ],
      "text/plain": [
       "            episode_order                                            speaker  \\\n",
       "episode_id                                                                     \n",
       "57264                   9  Ms. LOREN MOONEY (Editor-in-Chief, Bicycling M...   \n",
       "57264                  10  Ms. LOREN MOONEY (Editor-in-Chief, Bicycling M...   \n",
       "57264                  11                                   NEAL CONAN, host   \n",
       "57264                  12  Ms. LOREN MOONEY (Editor-in-Chief, Bicycling M...   \n",
       "57264                  13                                   NEAL CONAN, host   \n",
       "\n",
       "                                                    utterance  \\\n",
       "episode_id                                                      \n",
       "57264       It's a 2,200-mile race. To give some sense of ...   \n",
       "57264       So for a top competitor like Lance to try to m...   \n",
       "57264       So in every team, presumably there's one star,...   \n",
       "57264       That's right. Each team has nine riders. And w...   \n",
       "57264       So slipstream, this is like drafting in car ra...   \n",
       "\n",
       "                       program                            title  is_host  \\\n",
       "episode_id                                                                 \n",
       "57264       Talk of the Nation  How To Watch The Tour De France    False   \n",
       "57264       Talk of the Nation  How To Watch The Tour De France    False   \n",
       "57264       Talk of the Nation  How To Watch The Tour De France     True   \n",
       "57264       Talk of the Nation  How To Watch The Tour De France    False   \n",
       "57264       Talk of the Nation  How To Watch The Tour De France     True   \n",
       "\n",
       "                                                        clean  \\\n",
       "episode_id                                                      \n",
       "57264       it s a 2200 mile race. to give some sense of p...   \n",
       "57264       so for a top competitor like lance to try to m...   \n",
       "57264       so in every team presumably there s one star o...   \n",
       "57264       that s right. each team has nine riders. and w...   \n",
       "57264       so slipstream this is like drafting in car rac...   \n",
       "\n",
       "                                           lemmatized_stopped  vader_stopped  \\\n",
       "episode_id                                                                     \n",
       "57264       2200 mile race. give sense perspective roughly...         0.0000   \n",
       "57264       top competitor like lance try make much time 1...         0.9313   \n",
       "57264       every team presumably one star one equivalent ...         0.7096   \n",
       "57264       right. team ha nine riders. basically team lea...         0.9274   \n",
       "57264             slipstream like drafting car racing right ?         0.3612   \n",
       "\n",
       "                  date  \n",
       "episode_id              \n",
       "57264       2010-07-12  \n",
       "57264       2010-07-12  \n",
       "57264       2010-07-12  \n",
       "57264       2010-07-12  \n",
       "57264       2010-07-12  "
      ]
     },
     "execution_count": 2,
     "metadata": {},
     "output_type": "execute_result"
    }
   ],
   "source": [
    "df = wrangle.get_npr_data()\n",
    "df.head()"
   ]
  },
  {
   "cell_type": "markdown",
   "id": "868c9016",
   "metadata": {},
   "source": [
    "## Is there a difference in the mean sentiment by speaker? Program? etc\n",
    "- Applied statistics-> i.e. stats testing. Is there a difference in the mean sentiment by speaker? Program? etc "
   ]
  },
  {
   "cell_type": "code",
   "execution_count": 3,
   "id": "a01ead45",
   "metadata": {},
   "outputs": [
    {
     "data": {
      "text/plain": [
       "Index(['episode_order', 'speaker', 'utterance', 'program', 'title', 'is_host',\n",
       "       'clean', 'lemmatized_stopped', 'vader_stopped', 'date'],\n",
       "      dtype='object')"
      ]
     },
     "execution_count": 3,
     "metadata": {},
     "output_type": "execute_result"
    }
   ],
   "source": [
    "df.columns"
   ]
  },
  {
   "cell_type": "code",
   "execution_count": 4,
   "id": "e8e2e69e",
   "metadata": {},
   "outputs": [
    {
     "data": {
      "text/plain": [
       "(2998347, 10)"
      ]
     },
     "execution_count": 4,
     "metadata": {},
     "output_type": "execute_result"
    }
   ],
   "source": [
    "df.shape"
   ]
  },
  {
   "cell_type": "code",
   "execution_count": 5,
   "id": "ba6c4d43",
   "metadata": {},
   "outputs": [
    {
     "data": {
      "text/plain": [
       "episode_order           int64\n",
       "speaker                object\n",
       "utterance              object\n",
       "program                object\n",
       "title                  object\n",
       "is_host                  bool\n",
       "clean                  object\n",
       "lemmatized_stopped     object\n",
       "vader_stopped         float64\n",
       "date                   object\n",
       "dtype: object"
      ]
     },
     "execution_count": 5,
     "metadata": {},
     "output_type": "execute_result"
    }
   ],
   "source": [
    "df.dtypes"
   ]
  },
  {
   "cell_type": "code",
   "execution_count": 6,
   "id": "499385cd",
   "metadata": {},
   "outputs": [],
   "source": [
    "df.date = pd.to_datetime(df.date)"
   ]
  },
  {
   "cell_type": "code",
   "execution_count": 7,
   "id": "a7418211",
   "metadata": {},
   "outputs": [
    {
     "data": {
      "text/plain": [
       "episode_order                  int64\n",
       "speaker                       object\n",
       "utterance                     object\n",
       "program                       object\n",
       "title                         object\n",
       "is_host                         bool\n",
       "clean                         object\n",
       "lemmatized_stopped            object\n",
       "vader_stopped                float64\n",
       "date                  datetime64[ns]\n",
       "dtype: object"
      ]
     },
     "execution_count": 7,
     "metadata": {},
     "output_type": "execute_result"
    }
   ],
   "source": [
    "df.dtypes"
   ]
  },
  {
   "cell_type": "code",
   "execution_count": 8,
   "id": "278b1fb3",
   "metadata": {},
   "outputs": [],
   "source": [
    "\n",
    "# df['Date'].dt.strftime('%b-%Y')\n",
    "\n",
    "# df['episode_date'].dt.strftime('%b')"
   ]
  },
  {
   "cell_type": "code",
   "execution_count": 9,
   "id": "fd4e4798",
   "metadata": {
    "scrolled": true
   },
   "outputs": [
    {
     "data": {
      "text/html": [
       "<div>\n",
       "<style scoped>\n",
       "    .dataframe tbody tr th:only-of-type {\n",
       "        vertical-align: middle;\n",
       "    }\n",
       "\n",
       "    .dataframe tbody tr th {\n",
       "        vertical-align: top;\n",
       "    }\n",
       "\n",
       "    .dataframe thead th {\n",
       "        text-align: right;\n",
       "    }\n",
       "</style>\n",
       "<table border=\"1\" class=\"dataframe\">\n",
       "  <thead>\n",
       "    <tr style=\"text-align: right;\">\n",
       "      <th></th>\n",
       "      <th>episode_id</th>\n",
       "      <th>episode_order</th>\n",
       "      <th>speaker</th>\n",
       "      <th>utterance</th>\n",
       "      <th>program</th>\n",
       "      <th>title</th>\n",
       "      <th>is_host</th>\n",
       "      <th>clean</th>\n",
       "      <th>lemmatized_stopped</th>\n",
       "      <th>vader_stopped</th>\n",
       "      <th>date</th>\n",
       "      <th>month</th>\n",
       "      <th>year</th>\n",
       "    </tr>\n",
       "  </thead>\n",
       "  <tbody>\n",
       "    <tr>\n",
       "      <th>0</th>\n",
       "      <td>57264</td>\n",
       "      <td>9</td>\n",
       "      <td>Ms. LOREN MOONEY (Editor-in-Chief, Bicycling M...</td>\n",
       "      <td>It's a 2,200-mile race. To give some sense of ...</td>\n",
       "      <td>Talk of the Nation</td>\n",
       "      <td>How To Watch The Tour De France</td>\n",
       "      <td>False</td>\n",
       "      <td>it s a 2200 mile race. to give some sense of p...</td>\n",
       "      <td>2200 mile race. give sense perspective roughly...</td>\n",
       "      <td>0.0000</td>\n",
       "      <td>2010-07-12</td>\n",
       "      <td>Jul</td>\n",
       "      <td>2010</td>\n",
       "    </tr>\n",
       "    <tr>\n",
       "      <th>1</th>\n",
       "      <td>57264</td>\n",
       "      <td>10</td>\n",
       "      <td>Ms. LOREN MOONEY (Editor-in-Chief, Bicycling M...</td>\n",
       "      <td>So for a top competitor like Lance to try to m...</td>\n",
       "      <td>Talk of the Nation</td>\n",
       "      <td>How To Watch The Tour De France</td>\n",
       "      <td>False</td>\n",
       "      <td>so for a top competitor like lance to try to m...</td>\n",
       "      <td>top competitor like lance try make much time 1...</td>\n",
       "      <td>0.9313</td>\n",
       "      <td>2010-07-12</td>\n",
       "      <td>Jul</td>\n",
       "      <td>2010</td>\n",
       "    </tr>\n",
       "    <tr>\n",
       "      <th>2</th>\n",
       "      <td>57264</td>\n",
       "      <td>11</td>\n",
       "      <td>NEAL CONAN, host</td>\n",
       "      <td>So in every team, presumably there's one star,...</td>\n",
       "      <td>Talk of the Nation</td>\n",
       "      <td>How To Watch The Tour De France</td>\n",
       "      <td>True</td>\n",
       "      <td>so in every team presumably there s one star o...</td>\n",
       "      <td>every team presumably one star one equivalent ...</td>\n",
       "      <td>0.7096</td>\n",
       "      <td>2010-07-12</td>\n",
       "      <td>Jul</td>\n",
       "      <td>2010</td>\n",
       "    </tr>\n",
       "    <tr>\n",
       "      <th>3</th>\n",
       "      <td>57264</td>\n",
       "      <td>12</td>\n",
       "      <td>Ms. LOREN MOONEY (Editor-in-Chief, Bicycling M...</td>\n",
       "      <td>That's right. Each team has nine riders. And w...</td>\n",
       "      <td>Talk of the Nation</td>\n",
       "      <td>How To Watch The Tour De France</td>\n",
       "      <td>False</td>\n",
       "      <td>that s right. each team has nine riders. and w...</td>\n",
       "      <td>right. team ha nine riders. basically team lea...</td>\n",
       "      <td>0.9274</td>\n",
       "      <td>2010-07-12</td>\n",
       "      <td>Jul</td>\n",
       "      <td>2010</td>\n",
       "    </tr>\n",
       "    <tr>\n",
       "      <th>4</th>\n",
       "      <td>57264</td>\n",
       "      <td>13</td>\n",
       "      <td>NEAL CONAN, host</td>\n",
       "      <td>So slipstream, this is like drafting in car ra...</td>\n",
       "      <td>Talk of the Nation</td>\n",
       "      <td>How To Watch The Tour De France</td>\n",
       "      <td>True</td>\n",
       "      <td>so slipstream this is like drafting in car rac...</td>\n",
       "      <td>slipstream like drafting car racing right ?</td>\n",
       "      <td>0.3612</td>\n",
       "      <td>2010-07-12</td>\n",
       "      <td>Jul</td>\n",
       "      <td>2010</td>\n",
       "    </tr>\n",
       "  </tbody>\n",
       "</table>\n",
       "</div>"
      ],
      "text/plain": [
       "   episode_id  episode_order  \\\n",
       "0       57264              9   \n",
       "1       57264             10   \n",
       "2       57264             11   \n",
       "3       57264             12   \n",
       "4       57264             13   \n",
       "\n",
       "                                             speaker  \\\n",
       "0  Ms. LOREN MOONEY (Editor-in-Chief, Bicycling M...   \n",
       "1  Ms. LOREN MOONEY (Editor-in-Chief, Bicycling M...   \n",
       "2                                   NEAL CONAN, host   \n",
       "3  Ms. LOREN MOONEY (Editor-in-Chief, Bicycling M...   \n",
       "4                                   NEAL CONAN, host   \n",
       "\n",
       "                                           utterance             program  \\\n",
       "0  It's a 2,200-mile race. To give some sense of ...  Talk of the Nation   \n",
       "1  So for a top competitor like Lance to try to m...  Talk of the Nation   \n",
       "2  So in every team, presumably there's one star,...  Talk of the Nation   \n",
       "3  That's right. Each team has nine riders. And w...  Talk of the Nation   \n",
       "4  So slipstream, this is like drafting in car ra...  Talk of the Nation   \n",
       "\n",
       "                             title  is_host  \\\n",
       "0  How To Watch The Tour De France    False   \n",
       "1  How To Watch The Tour De France    False   \n",
       "2  How To Watch The Tour De France     True   \n",
       "3  How To Watch The Tour De France    False   \n",
       "4  How To Watch The Tour De France     True   \n",
       "\n",
       "                                               clean  \\\n",
       "0  it s a 2200 mile race. to give some sense of p...   \n",
       "1  so for a top competitor like lance to try to m...   \n",
       "2  so in every team presumably there s one star o...   \n",
       "3  that s right. each team has nine riders. and w...   \n",
       "4  so slipstream this is like drafting in car rac...   \n",
       "\n",
       "                                  lemmatized_stopped  vader_stopped  \\\n",
       "0  2200 mile race. give sense perspective roughly...         0.0000   \n",
       "1  top competitor like lance try make much time 1...         0.9313   \n",
       "2  every team presumably one star one equivalent ...         0.7096   \n",
       "3  right. team ha nine riders. basically team lea...         0.9274   \n",
       "4        slipstream like drafting car racing right ?         0.3612   \n",
       "\n",
       "        date month  year  \n",
       "0 2010-07-12   Jul  2010  \n",
       "1 2010-07-12   Jul  2010  \n",
       "2 2010-07-12   Jul  2010  \n",
       "3 2010-07-12   Jul  2010  \n",
       "4 2010-07-12   Jul  2010  "
      ]
     },
     "execution_count": 9,
     "metadata": {},
     "output_type": "execute_result"
    }
   ],
   "source": [
    "df['month']=df['date'].dt.strftime('%b')\n",
    "df['year']=pd.DatetimeIndex(df['date']).year\n",
    "df=df.reset_index()\n",
    "df.head()"
   ]
  },
  {
   "cell_type": "code",
   "execution_count": 10,
   "id": "087c164f",
   "metadata": {},
   "outputs": [],
   "source": [
    "import matplotlib.pyplot as plt\n",
    "import seaborn as sns"
   ]
  },
  {
   "cell_type": "code",
   "execution_count": 11,
   "id": "8728c560",
   "metadata": {},
   "outputs": [],
   "source": [
    "df=df.set_index('date').sort_index()"
   ]
  },
  {
   "cell_type": "code",
   "execution_count": 12,
   "id": "8e117909",
   "metadata": {},
   "outputs": [
    {
     "data": {
      "text/html": [
       "<div>\n",
       "<style scoped>\n",
       "    .dataframe tbody tr th:only-of-type {\n",
       "        vertical-align: middle;\n",
       "    }\n",
       "\n",
       "    .dataframe tbody tr th {\n",
       "        vertical-align: top;\n",
       "    }\n",
       "\n",
       "    .dataframe thead th {\n",
       "        text-align: right;\n",
       "    }\n",
       "</style>\n",
       "<table border=\"1\" class=\"dataframe\">\n",
       "  <thead>\n",
       "    <tr style=\"text-align: right;\">\n",
       "      <th></th>\n",
       "      <th>episode_id</th>\n",
       "      <th>episode_order</th>\n",
       "      <th>speaker</th>\n",
       "      <th>utterance</th>\n",
       "      <th>program</th>\n",
       "      <th>title</th>\n",
       "      <th>is_host</th>\n",
       "      <th>clean</th>\n",
       "      <th>lemmatized_stopped</th>\n",
       "      <th>vader_stopped</th>\n",
       "      <th>month</th>\n",
       "      <th>year</th>\n",
       "    </tr>\n",
       "    <tr>\n",
       "      <th>date</th>\n",
       "      <th></th>\n",
       "      <th></th>\n",
       "      <th></th>\n",
       "      <th></th>\n",
       "      <th></th>\n",
       "      <th></th>\n",
       "      <th></th>\n",
       "      <th></th>\n",
       "      <th></th>\n",
       "      <th></th>\n",
       "      <th></th>\n",
       "      <th></th>\n",
       "    </tr>\n",
       "  </thead>\n",
       "  <tbody>\n",
       "    <tr>\n",
       "      <th>1999-01-08</th>\n",
       "      <td>141179</td>\n",
       "      <td>9</td>\n",
       "      <td>ISABELLE DELUCA</td>\n",
       "      <td>Yes. It's like my soul sings, I see Rio de Jan...</td>\n",
       "      <td>All Things Considered</td>\n",
       "      <td>Airport Samba</td>\n",
       "      <td>False</td>\n",
       "      <td>yes. it s like my soul sings i see rio de jani...</td>\n",
       "      <td>yes. like soul sings see rio de janiero miss m...</td>\n",
       "      <td>0.5994</td>\n",
       "      <td>Jan</td>\n",
       "      <td>1999</td>\n",
       "    </tr>\n",
       "  </tbody>\n",
       "</table>\n",
       "</div>"
      ],
      "text/plain": [
       "            episode_id  episode_order          speaker  \\\n",
       "date                                                     \n",
       "1999-01-08      141179              9  ISABELLE DELUCA   \n",
       "\n",
       "                                                    utterance  \\\n",
       "date                                                            \n",
       "1999-01-08  Yes. It's like my soul sings, I see Rio de Jan...   \n",
       "\n",
       "                          program          title  is_host  \\\n",
       "date                                                        \n",
       "1999-01-08  All Things Considered  Airport Samba    False   \n",
       "\n",
       "                                                        clean  \\\n",
       "date                                                            \n",
       "1999-01-08  yes. it s like my soul sings i see rio de jani...   \n",
       "\n",
       "                                           lemmatized_stopped  vader_stopped  \\\n",
       "date                                                                           \n",
       "1999-01-08  yes. like soul sings see rio de janiero miss m...         0.5994   \n",
       "\n",
       "           month  year  \n",
       "date                    \n",
       "1999-01-08   Jan  1999  "
      ]
     },
     "execution_count": 12,
     "metadata": {},
     "output_type": "execute_result"
    }
   ],
   "source": [
    "df.head(1)"
   ]
  },
  {
   "cell_type": "code",
   "execution_count": 13,
   "id": "de3d7d45",
   "metadata": {},
   "outputs": [],
   "source": [
    "host_df = df[df.is_host==True]"
   ]
  },
  {
   "cell_type": "code",
   "execution_count": 14,
   "id": "59dcc470",
   "metadata": {},
   "outputs": [
    {
     "data": {
      "text/plain": [
       "(632305, 12)"
      ]
     },
     "execution_count": 14,
     "metadata": {},
     "output_type": "execute_result"
    }
   ],
   "source": [
    "host_df.shape"
   ]
  },
  {
   "cell_type": "code",
   "execution_count": null,
   "id": "3f2724d0",
   "metadata": {},
   "outputs": [],
   "source": []
  },
  {
   "cell_type": "code",
   "execution_count": 15,
   "id": "be666b5a",
   "metadata": {},
   "outputs": [
    {
     "data": {
      "text/plain": [
       "NEAL CONAN, host                    204935\n",
       "IRA FLATOW, host                     58172\n",
       "FARAI CHIDEYA, host                  36462\n",
       "MADELEINE BRAND, host                26313\n",
       "ROBERT SIEGEL, host                  23846\n",
       "                                     ...  \n",
       "Ms. MIKA BRZEZINSKI (MSNBC host)         1\n",
       "STEVE INSKEEEP, host                     1\n",
       "MELISA BLOCK, host                       1\n",
       "RENEEE MONTAGNE, host                    1\n",
       "Mr. DON IMUS (Radio host)                1\n",
       "Name: speaker, Length: 236, dtype: int64"
      ]
     },
     "execution_count": 15,
     "metadata": {},
     "output_type": "execute_result"
    }
   ],
   "source": [
    "# are there repeats in the host_df? \n",
    "host_df.speaker.value_counts()"
   ]
  },
  {
   "cell_type": "markdown",
   "id": "5f95b16d",
   "metadata": {},
   "source": [
    "- I can see two different duplicates for steve inskeep bc of typos\n",
    "- I think this is going to fall into the arena of significantly diminishing returns, and I will not address it at this time"
   ]
  },
  {
   "cell_type": "code",
   "execution_count": 16,
   "id": "9b0faef3",
   "metadata": {},
   "outputs": [],
   "source": [
    "hosts_with_the_most = host_df.speaker.value_counts().head(12).index.to_list()"
   ]
  },
  {
   "cell_type": "markdown",
   "id": "50d6d0d1",
   "metadata": {},
   "source": [
    "- This is a list of the 12 hosts with the most observations"
   ]
  },
  {
   "cell_type": "code",
   "execution_count": 17,
   "id": "0f11f2bb",
   "metadata": {},
   "outputs": [
    {
     "data": {
      "text/plain": [
       "['NEAL CONAN, host',\n",
       " 'IRA FLATOW, host',\n",
       " 'FARAI CHIDEYA, host',\n",
       " 'MADELEINE BRAND, host',\n",
       " 'ROBERT SIEGEL, host',\n",
       " 'STEVE INSKEEP, host',\n",
       " 'ALEX CHADWICK, host',\n",
       " 'MELISSA BLOCK, host',\n",
       " 'RENEE MONTAGNE, host',\n",
       " 'GUY RAZ, host',\n",
       " 'ED GORDON, host',\n",
       " 'MICHELE NORRIS, host']"
      ]
     },
     "execution_count": 17,
     "metadata": {},
     "output_type": "execute_result"
    }
   ],
   "source": [
    "hosts_with_the_most"
   ]
  },
  {
   "cell_type": "code",
   "execution_count": 18,
   "id": "ebf91d1e",
   "metadata": {},
   "outputs": [],
   "source": [
    "top_hosts_df = df[df.speaker.isin(hosts_with_the_most)]"
   ]
  },
  {
   "cell_type": "code",
   "execution_count": 19,
   "id": "93123b62",
   "metadata": {},
   "outputs": [
    {
     "data": {
      "text/html": [
       "<div>\n",
       "<style scoped>\n",
       "    .dataframe tbody tr th:only-of-type {\n",
       "        vertical-align: middle;\n",
       "    }\n",
       "\n",
       "    .dataframe tbody tr th {\n",
       "        vertical-align: top;\n",
       "    }\n",
       "\n",
       "    .dataframe thead th {\n",
       "        text-align: right;\n",
       "    }\n",
       "</style>\n",
       "<table border=\"1\" class=\"dataframe\">\n",
       "  <thead>\n",
       "    <tr style=\"text-align: right;\">\n",
       "      <th></th>\n",
       "      <th>episode_id</th>\n",
       "      <th>episode_order</th>\n",
       "      <th>speaker</th>\n",
       "      <th>utterance</th>\n",
       "      <th>program</th>\n",
       "      <th>title</th>\n",
       "      <th>is_host</th>\n",
       "      <th>clean</th>\n",
       "      <th>lemmatized_stopped</th>\n",
       "      <th>vader_stopped</th>\n",
       "      <th>month</th>\n",
       "      <th>year</th>\n",
       "    </tr>\n",
       "    <tr>\n",
       "      <th>date</th>\n",
       "      <th></th>\n",
       "      <th></th>\n",
       "      <th></th>\n",
       "      <th></th>\n",
       "      <th></th>\n",
       "      <th></th>\n",
       "      <th></th>\n",
       "      <th></th>\n",
       "      <th></th>\n",
       "      <th></th>\n",
       "      <th></th>\n",
       "      <th></th>\n",
       "    </tr>\n",
       "  </thead>\n",
       "  <tbody>\n",
       "    <tr>\n",
       "      <th>2004-06-07</th>\n",
       "      <td>135286</td>\n",
       "      <td>35</td>\n",
       "      <td>STEVE INSKEEP, host</td>\n",
       "      <td>The time is 29 minutes past the hour.</td>\n",
       "      <td>Morning Edition</td>\n",
       "      <td>Study Sheds Light on Compulsive Hoarding</td>\n",
       "      <td>True</td>\n",
       "      <td>the time is 29 minutes past the hour .</td>\n",
       "      <td>time 29 minute past hour .</td>\n",
       "      <td>0.0</td>\n",
       "      <td>Jun</td>\n",
       "      <td>2004</td>\n",
       "    </tr>\n",
       "  </tbody>\n",
       "</table>\n",
       "</div>"
      ],
      "text/plain": [
       "            episode_id  episode_order              speaker  \\\n",
       "date                                                         \n",
       "2004-06-07      135286             35  STEVE INSKEEP, host   \n",
       "\n",
       "                                        utterance          program  \\\n",
       "date                                                                 \n",
       "2004-06-07  The time is 29 minutes past the hour.  Morning Edition   \n",
       "\n",
       "                                               title  is_host  \\\n",
       "date                                                            \n",
       "2004-06-07  Study Sheds Light on Compulsive Hoarding     True   \n",
       "\n",
       "                                             clean  \\\n",
       "date                                                 \n",
       "2004-06-07  the time is 29 minutes past the hour .   \n",
       "\n",
       "                    lemmatized_stopped  vader_stopped month  year  \n",
       "date                                                               \n",
       "2004-06-07  time 29 minute past hour .            0.0   Jun  2004  "
      ]
     },
     "execution_count": 19,
     "metadata": {},
     "output_type": "execute_result"
    }
   ],
   "source": [
    "top_hosts_df.head(1)"
   ]
  },
  {
   "cell_type": "code",
   "execution_count": 20,
   "id": "1c251620",
   "metadata": {},
   "outputs": [
    {
     "data": {
      "text/plain": [
       "(Timestamp('2004-06-07 00:00:00'), Timestamp('2011-11-10 00:00:00'))"
      ]
     },
     "execution_count": 20,
     "metadata": {},
     "output_type": "execute_result"
    }
   ],
   "source": [
    "top_hosts_df.index.min(), top_hosts_df.index.max()"
   ]
  },
  {
   "cell_type": "code",
   "execution_count": 21,
   "id": "558d216d",
   "metadata": {
    "scrolled": true
   },
   "outputs": [
    {
     "data": {
      "text/plain": [
       "0.16464489271365054"
      ]
     },
     "execution_count": 21,
     "metadata": {},
     "output_type": "execute_result"
    }
   ],
   "source": [
    "top_hosts_df.vader_stopped.mean()"
   ]
  },
  {
   "cell_type": "markdown",
   "id": "466301ed",
   "metadata": {},
   "source": [
    "- Here, we have the average sentiment score for all the top hosts; as you can see, it is relatively neutral in sentiment"
   ]
  },
  {
   "cell_type": "code",
   "execution_count": 22,
   "id": "ac7a1c3d",
   "metadata": {},
   "outputs": [
    {
     "data": {
      "image/png": "[encoded data removed]",
      "text/plain": [
       "<Figure size 1440x720 with 1 Axes>"
      ]
     },
     "metadata": {
      "needs_background": "light"
     },
     "output_type": "display_data"
    }
   ],
   "source": [
    "plt.figure(figsize=(20,10))\n",
    "sns.boxplot(data=top_hosts_df, x='speaker',y='vader_stopped')\n",
    "plt.xticks(rotation=90);"
   ]
  },
  {
   "cell_type": "markdown",
   "id": "2f9fb376",
   "metadata": {},
   "source": [
    "- The mean sentiment value is awfully close for everyone here, so i'm going to stats test it with an ANOVA test"
   ]
  },
  {
   "cell_type": "code",
   "execution_count": 23,
   "id": "6a6fb1b9",
   "metadata": {},
   "outputs": [],
   "source": [
    "null_hypothesis = \"Average sentiment score is the same across hosts\"\n",
    "alternative_hypothesis = \"Average sentiment score is different in at least one host of the group\"\n",
    "alpha = 0.01 # Let's be 99% certain the result we see isn't due to chance/randomness"
   ]
  },
  {
   "cell_type": "code",
   "execution_count": 24,
   "id": "ecd3fb47",
   "metadata": {},
   "outputs": [
    {
     "name": "stdout",
     "output_type": "stream",
     "text": [
      "['NEAL_df', 'IRA_df', 'FARAI_df', 'MADELEINE_df', 'ROBERT_df', 'STEVE_df', 'ALEX_df', 'MELISSA_df', 'RENEE_df', 'GUY_df', 'ED_df', 'MICHELE_df']\n"
     ]
    }
   ],
   "source": [
    "host_df_list=[]\n",
    "for host in hosts_with_the_most:\n",
    "    x = host.split()\n",
    "    host_df_list.append(f'{x[0]}_df')\n",
    "print(host_df_list)"
   ]
  },
  {
   "cell_type": "code",
   "execution_count": 25,
   "id": "dd77b6ab",
   "metadata": {
    "scrolled": true
   },
   "outputs": [],
   "source": [
    "# Let's isolate our hosts\n",
    "NEAL_df = df[df.speaker == 'NEAL CONAN, host'].vader_stopped\n",
    "IRA_df = df[df.speaker == 'IRA FLATOW, host'].vader_stopped\n",
    "FARAI_df = df[df.speaker == 'FARAI CHIDEYA, host'].vader_stopped\n",
    "MADELEINE_df = df[df.speaker == 'MADELEINE BRAND, host'].vader_stopped\n",
    "ROBERT_df = df[df.speaker == 'ROBERT SIEGEL, host'].vader_stopped\n",
    "STEVE_df = df[df.speaker == 'STEVE INSKEEP, host'].vader_stopped\n",
    "ALEX_df = df[df.speaker == 'ALEX CHADWICK, host'].vader_stopped\n",
    "MELISSA_df = df[df.speaker == 'MELISSA BLOCK, host'].vader_stopped\n",
    "RENEE_df = df[df.speaker == 'RENEE MONTAGNE, host'].vader_stopped\n",
    "GUY_df = df[df.speaker == 'GUY RAZ, host'].vader_stopped\n",
    "ED_df = df[df.speaker == 'ED GORDON, host'].vader_stopped\n",
    "MICHELE_df = df[df.speaker == 'MICHELE NORRIS, host'].vader_stopped"
   ]
  },
  {
   "cell_type": "code",
   "execution_count": 26,
   "id": "29b94960",
   "metadata": {},
   "outputs": [
    {
     "data": {
      "text/plain": [
       "(517.9704631307725, 0.0)"
      ]
     },
     "execution_count": 26,
     "metadata": {},
     "output_type": "execute_result"
    }
   ],
   "source": [
    "# f_oneway is our ANOVA test\n",
    "# See https://docs.scipy.org/doc/scipy/reference/generated/scipy.stats.f_oneway.html for more info\n",
    "from scipy.stats import f_oneway\n",
    "\n",
    "f, p = f_oneway(NEAL_df, IRA_df, FARAI_df, MADELEINE_df, ROBERT_df, STEVE_df, ALEX_df, MELISSA_df, RENEE_df, GUY_df, ED_df, MICHELE_df)\n",
    "f, p"
   ]
  },
  {
   "cell_type": "code",
   "execution_count": 27,
   "id": "310c03f1",
   "metadata": {},
   "outputs": [
    {
     "name": "stdout",
     "output_type": "stream",
     "text": [
      "We reject the null hypothesis that Average sentiment score is the same across hosts\n",
      "We move forward with the alternative hypothesis that Average sentiment score is different in at least one host of the group\n"
     ]
    }
   ],
   "source": [
    "if p < alpha:\n",
    "    print(\"We reject the null hypothesis that\", null_hypothesis)\n",
    "    print(\"We move forward with the alternative hypothesis that\", alternative_hypothesis)\n",
    "else:\n",
    "    print(\"We fail to reject the null hypothesis\")\n",
    "    print(\"Evidence does not support the claim that sentiment differs from host to host\")"
   ]
  },
  {
   "cell_type": "code",
   "execution_count": 28,
   "id": "d48b1ff4",
   "metadata": {},
   "outputs": [
    {
     "data": {
      "image/png": "[encoded data removed]",
      "text/plain": [
       "<Figure size 360x360 with 1 Axes>"
      ]
     },
     "metadata": {
      "needs_background": "light"
     },
     "output_type": "display_data"
    }
   ],
   "source": [
    "sns.catplot(x=\"speaker\", y=\"vader_stopped\", kind=\"bar\", data=top_hosts_df)\n",
    "plt.xticks(rotation=90);"
   ]
  },
  {
   "cell_type": "markdown",
   "id": "29d537d0",
   "metadata": {},
   "source": [
    "- Another view of the same...it looks more clear here that there is a difference, however note the small scale on the y axis"
   ]
  },
  {
   "cell_type": "code",
   "execution_count": null,
   "id": "0f5a54e1",
   "metadata": {},
   "outputs": [],
   "source": []
  },
  {
   "cell_type": "code",
   "execution_count": 29,
   "id": "156fdee3",
   "metadata": {
    "scrolled": false
   },
   "outputs": [
    {
     "data": {
      "text/html": [
       "<div>\n",
       "<style scoped>\n",
       "    .dataframe tbody tr th:only-of-type {\n",
       "        vertical-align: middle;\n",
       "    }\n",
       "\n",
       "    .dataframe tbody tr th {\n",
       "        vertical-align: top;\n",
       "    }\n",
       "\n",
       "    .dataframe thead th {\n",
       "        text-align: right;\n",
       "    }\n",
       "</style>\n",
       "<table border=\"1\" class=\"dataframe\">\n",
       "  <thead>\n",
       "    <tr style=\"text-align: right;\">\n",
       "      <th></th>\n",
       "      <th>episode_id</th>\n",
       "      <th>episode_order</th>\n",
       "      <th>speaker</th>\n",
       "      <th>utterance</th>\n",
       "      <th>program</th>\n",
       "      <th>title</th>\n",
       "      <th>is_host</th>\n",
       "      <th>clean</th>\n",
       "      <th>lemmatized_stopped</th>\n",
       "      <th>vader_stopped</th>\n",
       "      <th>month</th>\n",
       "      <th>year</th>\n",
       "    </tr>\n",
       "    <tr>\n",
       "      <th>date</th>\n",
       "      <th></th>\n",
       "      <th></th>\n",
       "      <th></th>\n",
       "      <th></th>\n",
       "      <th></th>\n",
       "      <th></th>\n",
       "      <th></th>\n",
       "      <th></th>\n",
       "      <th></th>\n",
       "      <th></th>\n",
       "      <th></th>\n",
       "      <th></th>\n",
       "    </tr>\n",
       "  </thead>\n",
       "  <tbody>\n",
       "    <tr>\n",
       "      <th>2004-06-07</th>\n",
       "      <td>135286</td>\n",
       "      <td>35</td>\n",
       "      <td>STEVE INSKEEP, host</td>\n",
       "      <td>The time is 29 minutes past the hour.</td>\n",
       "      <td>Morning Edition</td>\n",
       "      <td>Study Sheds Light on Compulsive Hoarding</td>\n",
       "      <td>True</td>\n",
       "      <td>the time is 29 minutes past the hour .</td>\n",
       "      <td>time 29 minute past hour .</td>\n",
       "      <td>0.0</td>\n",
       "      <td>Jun</td>\n",
       "      <td>2004</td>\n",
       "    </tr>\n",
       "  </tbody>\n",
       "</table>\n",
       "</div>"
      ],
      "text/plain": [
       "            episode_id  episode_order              speaker  \\\n",
       "date                                                         \n",
       "2004-06-07      135286             35  STEVE INSKEEP, host   \n",
       "\n",
       "                                        utterance          program  \\\n",
       "date                                                                 \n",
       "2004-06-07  The time is 29 minutes past the hour.  Morning Edition   \n",
       "\n",
       "                                               title  is_host  \\\n",
       "date                                                            \n",
       "2004-06-07  Study Sheds Light on Compulsive Hoarding     True   \n",
       "\n",
       "                                             clean  \\\n",
       "date                                                 \n",
       "2004-06-07  the time is 29 minutes past the hour .   \n",
       "\n",
       "                    lemmatized_stopped  vader_stopped month  year  \n",
       "date                                                               \n",
       "2004-06-07  time 29 minute past hour .            0.0   Jun  2004  "
      ]
     },
     "execution_count": 29,
     "metadata": {},
     "output_type": "execute_result"
    }
   ],
   "source": [
    "top_hosts_df.head(1)"
   ]
  },
  {
   "cell_type": "markdown",
   "id": "cffe564e",
   "metadata": {},
   "source": [
    "### The conclusion to the above is that there is a statistically significant difference in sentiment in the top hosts group, even if it is small."
   ]
  },
  {
   "cell_type": "markdown",
   "id": "bbdf62f3",
   "metadata": {},
   "source": [
    "## What's the difference in sentiment score between hosts and non-hosts?"
   ]
  },
  {
   "cell_type": "code",
   "execution_count": 30,
   "id": "6b0104c5",
   "metadata": {},
   "outputs": [],
   "source": [
    "non_host_df = df[df.is_host==False]"
   ]
  },
  {
   "cell_type": "code",
   "execution_count": 31,
   "id": "1503565b",
   "metadata": {},
   "outputs": [
    {
     "data": {
      "text/plain": [
       "Text(0, 0.5, 'Mean Sentiment Score')"
      ]
     },
     "execution_count": 31,
     "metadata": {},
     "output_type": "execute_result"
    },
    {
     "data": {
      "image/png": "[encoded data removed]",
      "text/plain": [
       "<Figure size 432x288 with 1 Axes>"
      ]
     },
     "metadata": {
      "needs_background": "light"
     },
     "output_type": "display_data"
    }
   ],
   "source": [
    "plt.figure\n",
    "sns.boxplot(data=df, x='is_host',y='vader_stopped')\n",
    "plt.title(\"The mean sentiment score for Hosts versus Non-Hosts\")\n",
    "plt.ylabel(\"Mean Sentiment Score\")\n"
   ]
  },
  {
   "cell_type": "code",
   "execution_count": 32,
   "id": "f04c2b7b",
   "metadata": {},
   "outputs": [
    {
     "data": {
      "text/plain": [
       "(0.21032103432649124, 0.169954442080901)"
      ]
     },
     "execution_count": 32,
     "metadata": {},
     "output_type": "execute_result"
    }
   ],
   "source": [
    "df[df.is_host==False].vader_stopped.mean(), df[df.is_host==True].vader_stopped.mean()"
   ]
  },
  {
   "cell_type": "code",
   "execution_count": 33,
   "id": "ddc98134",
   "metadata": {},
   "outputs": [],
   "source": [
    "null_hypothesis = \"Hosts and Non-hosts have the same sentiment score\"\n",
    "alternative_hypothesis = \"Hosts and Non-hosts have different sentiment scores\"\n",
    "alpha = 0.01 # we want to be 99% sure our results aren't the result of chance/randomness"
   ]
  },
  {
   "cell_type": "code",
   "execution_count": 34,
   "id": "9a718c76",
   "metadata": {},
   "outputs": [
    {
     "data": {
      "text/plain": [
       "(-61.10950921647146, 0.0)"
      ]
     },
     "execution_count": 34,
     "metadata": {},
     "output_type": "execute_result"
    }
   ],
   "source": [
    "#stats testing on the same\n",
    "# anova is the wrong test!\n",
    "from scipy import stats\n",
    "\n",
    "t, p = stats.ttest_ind(host_df.vader_stopped,non_host_df.vader_stopped)\n",
    "t, p"
   ]
  },
  {
   "cell_type": "code",
   "execution_count": 35,
   "id": "12bbf2df",
   "metadata": {},
   "outputs": [
    {
     "name": "stdout",
     "output_type": "stream",
     "text": [
      "We reject the null hypothesis that Hosts and Non-hosts have the same sentiment score\n",
      "We move forward with the hypothesis that Hosts and Non-hosts have different sentiment scores\n"
     ]
    }
   ],
   "source": [
    "if p < alpha:\n",
    "    print(\"We reject the null hypothesis that\", null_hypothesis)\n",
    "    print(\"We move forward with the hypothesis that\", alternative_hypothesis)\n",
    "else:\n",
    "    print(\"We fail to reject the null hypothesis\")\n",
    "    print(f\"Evidence does not support the claim that\", alternate_hypothesis)"
   ]
  },
  {
   "cell_type": "markdown",
   "id": "e903d8b7",
   "metadata": {},
   "source": [
    "### The average sentiment score for non-hosts is somewhat higher than for the hosts.  To be expected for a relatively neutral news outlet?"
   ]
  },
  {
   "cell_type": "markdown",
   "id": "0d8c70ca",
   "metadata": {},
   "source": [
    "## How about sentiment score by year?"
   ]
  },
  {
   "cell_type": "code",
   "execution_count": 36,
   "id": "e9cbc56d",
   "metadata": {},
   "outputs": [
    {
     "data": {
      "text/plain": [
       "date\n",
       "1999-12-31    0.422604\n",
       "2000-12-31         NaN\n",
       "2001-12-31         NaN\n",
       "2002-12-31         NaN\n",
       "2003-12-31         NaN\n",
       "2004-12-31    0.225032\n",
       "2005-12-31    0.195450\n",
       "2006-12-31    0.186313\n",
       "2007-12-31    0.199343\n",
       "2008-12-31    0.231347\n",
       "2009-12-31    0.222994\n",
       "2010-12-31    0.212010\n",
       "2011-12-31    0.201472\n",
       "2012-12-31    0.220675\n",
       "2013-12-31    0.191282\n",
       "2014-12-31    0.161404\n",
       "2015-12-31    0.168365\n",
       "2016-12-31    0.190552\n",
       "2017-12-31    0.199584\n",
       "2018-12-31    0.191288\n",
       "2019-12-31    0.186786\n",
       "Freq: A-DEC, Name: vader_stopped, dtype: float64"
      ]
     },
     "execution_count": 36,
     "metadata": {},
     "output_type": "execute_result"
    }
   ],
   "source": [
    "df.resample('Y').vader_stopped.mean()"
   ]
  },
  {
   "cell_type": "markdown",
   "id": "1e6b4dc6",
   "metadata": {},
   "source": [
    "- why don't we have vader scores in 2000-2003 on yearly resampling?"
   ]
  },
  {
   "cell_type": "code",
   "execution_count": 37,
   "id": "ca28bea4",
   "metadata": {},
   "outputs": [],
   "source": [
    "vader_yearly = pd.DataFrame(df.resample('Y').vader_stopped.mean())"
   ]
  },
  {
   "cell_type": "code",
   "execution_count": 38,
   "id": "35868a4a",
   "metadata": {},
   "outputs": [
    {
     "data": {
      "text/plain": [
       "<AxesSubplot:xlabel='date'>"
      ]
     },
     "execution_count": 38,
     "metadata": {},
     "output_type": "execute_result"
    },
    {
     "data": {
      "image/png": "[encoded data removed]",
      "text/plain": [
       "<Figure size 432x288 with 1 Axes>"
      ]
     },
     "metadata": {
      "needs_background": "light"
     },
     "output_type": "display_data"
    }
   ],
   "source": [
    "vader_yearly.plot()"
   ]
  },
  {
   "cell_type": "code",
   "execution_count": 39,
   "id": "d23a5567",
   "metadata": {},
   "outputs": [],
   "source": [
    "vader_monthly = pd.DataFrame(df.resample('M').vader_stopped.mean())"
   ]
  },
  {
   "cell_type": "code",
   "execution_count": 40,
   "id": "708cba48",
   "metadata": {},
   "outputs": [
    {
     "data": {
      "text/html": [
       "<div>\n",
       "<style scoped>\n",
       "    .dataframe tbody tr th:only-of-type {\n",
       "        vertical-align: middle;\n",
       "    }\n",
       "\n",
       "    .dataframe tbody tr th {\n",
       "        vertical-align: top;\n",
       "    }\n",
       "\n",
       "    .dataframe thead th {\n",
       "        text-align: right;\n",
       "    }\n",
       "</style>\n",
       "<table border=\"1\" class=\"dataframe\">\n",
       "  <thead>\n",
       "    <tr style=\"text-align: right;\">\n",
       "      <th></th>\n",
       "      <th>vader_stopped</th>\n",
       "    </tr>\n",
       "    <tr>\n",
       "      <th>date</th>\n",
       "      <th></th>\n",
       "    </tr>\n",
       "  </thead>\n",
       "  <tbody>\n",
       "    <tr>\n",
       "      <th>1999-01-31</th>\n",
       "      <td>0.422604</td>\n",
       "    </tr>\n",
       "    <tr>\n",
       "      <th>1999-02-28</th>\n",
       "      <td>NaN</td>\n",
       "    </tr>\n",
       "    <tr>\n",
       "      <th>1999-03-31</th>\n",
       "      <td>NaN</td>\n",
       "    </tr>\n",
       "    <tr>\n",
       "      <th>1999-04-30</th>\n",
       "      <td>NaN</td>\n",
       "    </tr>\n",
       "    <tr>\n",
       "      <th>1999-05-31</th>\n",
       "      <td>NaN</td>\n",
       "    </tr>\n",
       "  </tbody>\n",
       "</table>\n",
       "</div>"
      ],
      "text/plain": [
       "            vader_stopped\n",
       "date                     \n",
       "1999-01-31       0.422604\n",
       "1999-02-28            NaN\n",
       "1999-03-31            NaN\n",
       "1999-04-30            NaN\n",
       "1999-05-31            NaN"
      ]
     },
     "execution_count": 40,
     "metadata": {},
     "output_type": "execute_result"
    }
   ],
   "source": [
    "vader_monthly.head()"
   ]
  },
  {
   "cell_type": "code",
   "execution_count": 41,
   "id": "f8118429",
   "metadata": {},
   "outputs": [
    {
     "data": {
      "text/plain": [
       "<AxesSubplot:xlabel='date'>"
      ]
     },
     "execution_count": 41,
     "metadata": {},
     "output_type": "execute_result"
    },
    {
     "data": {
      "image/png": "[encoded data removed]",
      "text/plain": [
       "<Figure size 432x288 with 1 Axes>"
      ]
     },
     "metadata": {
      "needs_background": "light"
     },
     "output_type": "display_data"
    }
   ],
   "source": [
    "vader_monthly.plot()"
   ]
  },
  {
   "cell_type": "markdown",
   "id": "6da33322",
   "metadata": {},
   "source": [
    "- What's with all those missing sentiment scores in the early aughts?"
   ]
  },
  {
   "cell_type": "code",
   "execution_count": 42,
   "id": "e30bdf1a",
   "metadata": {},
   "outputs": [
    {
     "data": {
      "text/html": [
       "<div>\n",
       "<style scoped>\n",
       "    .dataframe tbody tr th:only-of-type {\n",
       "        vertical-align: middle;\n",
       "    }\n",
       "\n",
       "    .dataframe tbody tr th {\n",
       "        vertical-align: top;\n",
       "    }\n",
       "\n",
       "    .dataframe thead th {\n",
       "        text-align: right;\n",
       "    }\n",
       "</style>\n",
       "<table border=\"1\" class=\"dataframe\">\n",
       "  <thead>\n",
       "    <tr style=\"text-align: right;\">\n",
       "      <th></th>\n",
       "      <th>episode_id</th>\n",
       "      <th>episode_order</th>\n",
       "      <th>speaker</th>\n",
       "      <th>utterance</th>\n",
       "      <th>program</th>\n",
       "      <th>title</th>\n",
       "      <th>is_host</th>\n",
       "      <th>clean</th>\n",
       "      <th>lemmatized_stopped</th>\n",
       "      <th>vader_stopped</th>\n",
       "      <th>month</th>\n",
       "      <th>year</th>\n",
       "    </tr>\n",
       "    <tr>\n",
       "      <th>date</th>\n",
       "      <th></th>\n",
       "      <th></th>\n",
       "      <th></th>\n",
       "      <th></th>\n",
       "      <th></th>\n",
       "      <th></th>\n",
       "      <th></th>\n",
       "      <th></th>\n",
       "      <th></th>\n",
       "      <th></th>\n",
       "      <th></th>\n",
       "      <th></th>\n",
       "    </tr>\n",
       "  </thead>\n",
       "  <tbody>\n",
       "    <tr>\n",
       "      <th>1999-01-08</th>\n",
       "      <td>141179</td>\n",
       "      <td>9</td>\n",
       "      <td>ISABELLE DELUCA</td>\n",
       "      <td>Yes. It's like my soul sings, I see Rio de Jan...</td>\n",
       "      <td>All Things Considered</td>\n",
       "      <td>Airport Samba</td>\n",
       "      <td>False</td>\n",
       "      <td>yes. it s like my soul sings i see rio de jani...</td>\n",
       "      <td>yes. like soul sings see rio de janiero miss m...</td>\n",
       "      <td>0.5994</td>\n",
       "      <td>Jan</td>\n",
       "      <td>1999</td>\n",
       "    </tr>\n",
       "    <tr>\n",
       "      <th>1999-01-08</th>\n",
       "      <td>141179</td>\n",
       "      <td>2</td>\n",
       "      <td>NOAH ADAMS</td>\n",
       "      <td>You mentioned the Airport Samba?</td>\n",
       "      <td>All Things Considered</td>\n",
       "      <td>Airport Samba</td>\n",
       "      <td>False</td>\n",
       "      <td>you mentioned the airport samba ?</td>\n",
       "      <td>mentioned airport samba ?</td>\n",
       "      <td>0.0000</td>\n",
       "      <td>Jan</td>\n",
       "      <td>1999</td>\n",
       "    </tr>\n",
       "    <tr>\n",
       "      <th>1999-01-08</th>\n",
       "      <td>141179</td>\n",
       "      <td>3</td>\n",
       "      <td>ISABELLE DELUCA</td>\n",
       "      <td>Yes.</td>\n",
       "      <td>All Things Considered</td>\n",
       "      <td>Airport Samba</td>\n",
       "      <td>False</td>\n",
       "      <td>yes .</td>\n",
       "      <td>yes .</td>\n",
       "      <td>0.4019</td>\n",
       "      <td>Jan</td>\n",
       "      <td>1999</td>\n",
       "    </tr>\n",
       "    <tr>\n",
       "      <th>1999-01-08</th>\n",
       "      <td>141179</td>\n",
       "      <td>4</td>\n",
       "      <td>NOAH ADAMS</td>\n",
       "      <td>Written by Mr. Jobim.</td>\n",
       "      <td>All Things Considered</td>\n",
       "      <td>Airport Samba</td>\n",
       "      <td>False</td>\n",
       "      <td>written by mr. jobim .</td>\n",
       "      <td>written mr. jobim .</td>\n",
       "      <td>0.0000</td>\n",
       "      <td>Jan</td>\n",
       "      <td>1999</td>\n",
       "    </tr>\n",
       "    <tr>\n",
       "      <th>1999-01-08</th>\n",
       "      <td>141179</td>\n",
       "      <td>5</td>\n",
       "      <td>ISABELLE DELUCA</td>\n",
       "      <td>Yes.</td>\n",
       "      <td>All Things Considered</td>\n",
       "      <td>Airport Samba</td>\n",
       "      <td>False</td>\n",
       "      <td>yes .</td>\n",
       "      <td>yes .</td>\n",
       "      <td>0.4019</td>\n",
       "      <td>Jan</td>\n",
       "      <td>1999</td>\n",
       "    </tr>\n",
       "  </tbody>\n",
       "</table>\n",
       "</div>"
      ],
      "text/plain": [
       "            episode_id  episode_order          speaker  \\\n",
       "date                                                     \n",
       "1999-01-08      141179              9  ISABELLE DELUCA   \n",
       "1999-01-08      141179              2       NOAH ADAMS   \n",
       "1999-01-08      141179              3  ISABELLE DELUCA   \n",
       "1999-01-08      141179              4       NOAH ADAMS   \n",
       "1999-01-08      141179              5  ISABELLE DELUCA   \n",
       "\n",
       "                                                    utterance  \\\n",
       "date                                                            \n",
       "1999-01-08  Yes. It's like my soul sings, I see Rio de Jan...   \n",
       "1999-01-08                   You mentioned the Airport Samba?   \n",
       "1999-01-08                                               Yes.   \n",
       "1999-01-08                              Written by Mr. Jobim.   \n",
       "1999-01-08                                               Yes.   \n",
       "\n",
       "                          program          title  is_host  \\\n",
       "date                                                        \n",
       "1999-01-08  All Things Considered  Airport Samba    False   \n",
       "1999-01-08  All Things Considered  Airport Samba    False   \n",
       "1999-01-08  All Things Considered  Airport Samba    False   \n",
       "1999-01-08  All Things Considered  Airport Samba    False   \n",
       "1999-01-08  All Things Considered  Airport Samba    False   \n",
       "\n",
       "                                                        clean  \\\n",
       "date                                                            \n",
       "1999-01-08  yes. it s like my soul sings i see rio de jani...   \n",
       "1999-01-08                  you mentioned the airport samba ?   \n",
       "1999-01-08                                              yes .   \n",
       "1999-01-08                             written by mr. jobim .   \n",
       "1999-01-08                                              yes .   \n",
       "\n",
       "                                           lemmatized_stopped  vader_stopped  \\\n",
       "date                                                                           \n",
       "1999-01-08  yes. like soul sings see rio de janiero miss m...         0.5994   \n",
       "1999-01-08                          mentioned airport samba ?         0.0000   \n",
       "1999-01-08                                              yes .         0.4019   \n",
       "1999-01-08                                written mr. jobim .         0.0000   \n",
       "1999-01-08                                              yes .         0.4019   \n",
       "\n",
       "           month  year  \n",
       "date                    \n",
       "1999-01-08   Jan  1999  \n",
       "1999-01-08   Jan  1999  \n",
       "1999-01-08   Jan  1999  \n",
       "1999-01-08   Jan  1999  \n",
       "1999-01-08   Jan  1999  "
      ]
     },
     "execution_count": 42,
     "metadata": {},
     "output_type": "execute_result"
    }
   ],
   "source": [
    "# df[df.year==2001]#.vader_stopped\n",
    "df.head()"
   ]
  },
  {
   "cell_type": "code",
   "execution_count": 43,
   "id": "e326194a",
   "metadata": {},
   "outputs": [
    {
     "data": {
      "text/html": [
       "<div>\n",
       "<style scoped>\n",
       "    .dataframe tbody tr th:only-of-type {\n",
       "        vertical-align: middle;\n",
       "    }\n",
       "\n",
       "    .dataframe tbody tr th {\n",
       "        vertical-align: top;\n",
       "    }\n",
       "\n",
       "    .dataframe thead th {\n",
       "        text-align: right;\n",
       "    }\n",
       "</style>\n",
       "<table border=\"1\" class=\"dataframe\">\n",
       "  <thead>\n",
       "    <tr style=\"text-align: right;\">\n",
       "      <th></th>\n",
       "      <th>vader_stopped</th>\n",
       "    </tr>\n",
       "    <tr>\n",
       "      <th>date</th>\n",
       "      <th></th>\n",
       "    </tr>\n",
       "  </thead>\n",
       "  <tbody>\n",
       "    <tr>\n",
       "      <th>1999-01-31</th>\n",
       "      <td>0.422604</td>\n",
       "    </tr>\n",
       "  </tbody>\n",
       "</table>\n",
       "</div>"
      ],
      "text/plain": [
       "            vader_stopped\n",
       "date                     \n",
       "1999-01-31       0.422604"
      ]
     },
     "execution_count": 43,
     "metadata": {},
     "output_type": "execute_result"
    }
   ],
   "source": [
    "vader_monthly.head(1)"
   ]
  },
  {
   "cell_type": "code",
   "execution_count": 44,
   "id": "bd2997fd",
   "metadata": {},
   "outputs": [],
   "source": [
    "# pd.DataFrame(df.resample(\"d\").vader_stopped.mean()).plot()"
   ]
  },
  {
   "cell_type": "markdown",
   "id": "1933f4dd",
   "metadata": {},
   "source": [
    "## By day of week?"
   ]
  },
  {
   "cell_type": "code",
   "execution_count": 45,
   "id": "38f0b47d",
   "metadata": {
    "scrolled": false
   },
   "outputs": [
    {
     "data": {
      "text/plain": [
       "date\n",
       "0    0.194389\n",
       "1    0.192796\n",
       "2    0.199717\n",
       "3    0.199694\n",
       "4    0.216848\n",
       "5    0.204907\n",
       "6    0.207269\n",
       "Name: vader_stopped, dtype: float64"
      ]
     },
     "execution_count": 45,
     "metadata": {},
     "output_type": "execute_result"
    }
   ],
   "source": [
    "df.groupby(df.index.weekday).vader_stopped.mean()\n",
    "# sentiment by day, 0 is monday, 6 is sunday"
   ]
  },
  {
   "cell_type": "code",
   "execution_count": 46,
   "id": "5991b87f",
   "metadata": {
    "scrolled": true
   },
   "outputs": [
    {
     "data": {
      "text/plain": [
       "<AxesSubplot:xlabel='date', ylabel='vader_stopped'>"
      ]
     },
     "execution_count": 46,
     "metadata": {},
     "output_type": "execute_result"
    },
    {
     "data": {
      "image/png": "[encoded data removed]",
      "text/plain": [
       "<Figure size 432x288 with 1 Axes>"
      ]
     },
     "metadata": {
      "needs_background": "light"
     },
     "output_type": "display_data"
    }
   ],
   "source": [
    "sns.boxplot(data=df, x=df.index.weekday,y='vader_stopped')"
   ]
  },
  {
   "cell_type": "code",
   "execution_count": 47,
   "id": "d96090d6",
   "metadata": {},
   "outputs": [],
   "source": [
    "Monday_df = df[df.index.weekday == 0]\n",
    "Tuesday_df = df[df.index.weekday == 1]\n",
    "Wednesday_df = df[df.index.weekday == 2]\n",
    "Thursday_df = df[df.index.weekday == 3]\n",
    "Friday_df = df[df.index.weekday == 4]\n",
    "Saturday_df = df[df.index.weekday == 5]\n",
    "Sunday_df = df[df.index.weekday == 6]"
   ]
  },
  {
   "cell_type": "code",
   "execution_count": 48,
   "id": "9b91cc64",
   "metadata": {},
   "outputs": [],
   "source": [
    "null_hypothesis = \"Different days of the week have the same sentiment score\"\n",
    "alternative_hypothesis = \"At least one day of the week has a different sentiment score from the rest\"\n",
    "alpha = 0.01 # we want to be 99% sure our results aren't the result of chance/randomness"
   ]
  },
  {
   "cell_type": "code",
   "execution_count": 49,
   "id": "153c7d5e",
   "metadata": {},
   "outputs": [
    {
     "data": {
      "text/plain": [
       "(149.97417802238573, 4.338679452334275e-191)"
      ]
     },
     "execution_count": 49,
     "metadata": {},
     "output_type": "execute_result"
    }
   ],
   "source": [
    "from scipy.stats import f_oneway\n",
    "\n",
    "f, p = f_oneway(Monday_df.vader_stopped,\\\n",
    "Tuesday_df.vader_stopped,\\\n",
    "Wednesday_df.vader_stopped,\\\n",
    "Thursday_df.vader_stopped,\\\n",
    "Friday_df.vader_stopped,\\\n",
    "Saturday_df.vader_stopped,\\\n",
    "Sunday_df.vader_stopped)\n",
    "\n",
    "f, p"
   ]
  },
  {
   "cell_type": "code",
   "execution_count": 50,
   "id": "bc141055",
   "metadata": {},
   "outputs": [
    {
     "name": "stdout",
     "output_type": "stream",
     "text": [
      "We reject the null hypothesis that Different days of the week have the same sentiment score\n",
      "We move forward with the alternative hypothesis that At least one day of the week has a different sentiment score from the rest\n"
     ]
    }
   ],
   "source": [
    "if p < alpha:\n",
    "    print(\"We reject the null hypothesis that\", null_hypothesis)\n",
    "    print(\"We move forward with the alternative hypothesis that\", alternative_hypothesis)\n",
    "else:\n",
    "    print(\"We fail to reject the null hypothesis\")\n",
    "    print(\"Evidence does not support the claim that sentiment differs from one weekday to the next\")"
   ]
  },
  {
   "cell_type": "markdown",
   "id": "9ab70029",
   "metadata": {},
   "source": [
    "## And by program?"
   ]
  },
  {
   "cell_type": "code",
   "execution_count": 51,
   "id": "4db0271a",
   "metadata": {
    "scrolled": true
   },
   "outputs": [
    {
     "data": {
      "text/html": [
       "<div>\n",
       "<style scoped>\n",
       "    .dataframe tbody tr th:only-of-type {\n",
       "        vertical-align: middle;\n",
       "    }\n",
       "\n",
       "    .dataframe tbody tr th {\n",
       "        vertical-align: top;\n",
       "    }\n",
       "\n",
       "    .dataframe thead th {\n",
       "        text-align: right;\n",
       "    }\n",
       "</style>\n",
       "<table border=\"1\" class=\"dataframe\">\n",
       "  <thead>\n",
       "    <tr style=\"text-align: right;\">\n",
       "      <th></th>\n",
       "      <th>episode_id</th>\n",
       "      <th>episode_order</th>\n",
       "      <th>speaker</th>\n",
       "      <th>utterance</th>\n",
       "      <th>program</th>\n",
       "      <th>title</th>\n",
       "      <th>is_host</th>\n",
       "      <th>clean</th>\n",
       "      <th>lemmatized_stopped</th>\n",
       "      <th>vader_stopped</th>\n",
       "      <th>month</th>\n",
       "      <th>year</th>\n",
       "    </tr>\n",
       "    <tr>\n",
       "      <th>date</th>\n",
       "      <th></th>\n",
       "      <th></th>\n",
       "      <th></th>\n",
       "      <th></th>\n",
       "      <th></th>\n",
       "      <th></th>\n",
       "      <th></th>\n",
       "      <th></th>\n",
       "      <th></th>\n",
       "      <th></th>\n",
       "      <th></th>\n",
       "      <th></th>\n",
       "    </tr>\n",
       "  </thead>\n",
       "  <tbody>\n",
       "    <tr>\n",
       "      <th>1999-01-08</th>\n",
       "      <td>141179</td>\n",
       "      <td>9</td>\n",
       "      <td>ISABELLE DELUCA</td>\n",
       "      <td>Yes. It's like my soul sings, I see Rio de Jan...</td>\n",
       "      <td>All Things Considered</td>\n",
       "      <td>Airport Samba</td>\n",
       "      <td>False</td>\n",
       "      <td>yes. it s like my soul sings i see rio de jani...</td>\n",
       "      <td>yes. like soul sings see rio de janiero miss m...</td>\n",
       "      <td>0.5994</td>\n",
       "      <td>Jan</td>\n",
       "      <td>1999</td>\n",
       "    </tr>\n",
       "  </tbody>\n",
       "</table>\n",
       "</div>"
      ],
      "text/plain": [
       "            episode_id  episode_order          speaker  \\\n",
       "date                                                     \n",
       "1999-01-08      141179              9  ISABELLE DELUCA   \n",
       "\n",
       "                                                    utterance  \\\n",
       "date                                                            \n",
       "1999-01-08  Yes. It's like my soul sings, I see Rio de Jan...   \n",
       "\n",
       "                          program          title  is_host  \\\n",
       "date                                                        \n",
       "1999-01-08  All Things Considered  Airport Samba    False   \n",
       "\n",
       "                                                        clean  \\\n",
       "date                                                            \n",
       "1999-01-08  yes. it s like my soul sings i see rio de jani...   \n",
       "\n",
       "                                           lemmatized_stopped  vader_stopped  \\\n",
       "date                                                                           \n",
       "1999-01-08  yes. like soul sings see rio de janiero miss m...         0.5994   \n",
       "\n",
       "           month  year  \n",
       "date                    \n",
       "1999-01-08   Jan  1999  "
      ]
     },
     "execution_count": 51,
     "metadata": {},
     "output_type": "execute_result"
    }
   ],
   "source": [
    "df.head(1)"
   ]
  },
  {
   "cell_type": "code",
   "execution_count": 52,
   "id": "07ac0898",
   "metadata": {
    "scrolled": true
   },
   "outputs": [
    {
     "data": {
      "text/plain": [
       "['Talk of the Nation',\n",
       " 'All Things Considered',\n",
       " 'Morning Edition',\n",
       " 'News & Notes',\n",
       " 'Day to Day',\n",
       " 'Weekend Edition Sunday',\n",
       " 'Weekend Edition Saturday']"
      ]
     },
     "execution_count": 52,
     "metadata": {},
     "output_type": "execute_result"
    }
   ],
   "source": [
    "df.program.value_counts().index.to_list()"
   ]
  },
  {
   "cell_type": "code",
   "execution_count": 53,
   "id": "57fa6aff",
   "metadata": {},
   "outputs": [],
   "source": [
    "Talk_of_the_Nation_df = df[df.program == 'Talk of the Nation']\n",
    "All_Things_Considered_df = df[df.program == 'All Things Considered']\n",
    "Morning_Edition_df = df[df.program == 'Morning Edition']\n",
    "News_and_Notes_df = df[df.program == 'News & Notes']\n",
    "Day_to_Day_df = df[df.program == 'Day to Day']\n",
    "Weekend_Edition_Sunday_df = df[df.program == 'Weekend Edition Sunday']\n",
    "Weekend_Edition_Saturday_df = df[df.program == 'Weekend Edition Saturday']"
   ]
  },
  {
   "cell_type": "code",
   "execution_count": 54,
   "id": "ff760737",
   "metadata": {},
   "outputs": [
    {
     "data": {
      "text/plain": [
       "<matplotlib.legend.Legend at 0x7fe82bbaadc0>"
      ]
     },
     "execution_count": 54,
     "metadata": {},
     "output_type": "execute_result"
    },
    {
     "data": {
      "image/png": "[encoded data removed]",
      "text/plain": [
       "<Figure size 2160x720 with 1 Axes>"
      ]
     },
     "metadata": {
      "needs_background": "light"
     },
     "output_type": "display_data"
    }
   ],
   "source": [
    "plt.figure(figsize=(30,10))\n",
    "Talk_of_the_Nation_df.resample(\"y\").vader_stopped.mean().plot(alpha=.5)\n",
    "All_Things_Considered_df.resample(\"y\").vader_stopped.mean().plot(alpha=.5)\n",
    "Morning_Edition_df.resample(\"y\").vader_stopped.mean().plot(alpha=.5)\n",
    "News_and_Notes_df.resample(\"y\").vader_stopped.mean().plot(alpha=.5)\n",
    "Day_to_Day_df.resample(\"y\").vader_stopped.mean().plot(alpha=.5)\n",
    "Weekend_Edition_Sunday_df.resample(\"y\").vader_stopped.mean().plot(alpha=.5)\n",
    "Weekend_Edition_Saturday_df.resample(\"y\").vader_stopped.mean().plot(alpha=.5)\n",
    "plt.legend(['Talk of the Nation',\n",
    " 'All Things Considered',\n",
    " 'Morning Edition',\n",
    " 'News & Notes',\n",
    " 'Day to Day',\n",
    " 'Weekend Edition Sunday',\n",
    " 'Weekend Edition Saturday'], prop={'size': 20})"
   ]
  },
  {
   "cell_type": "markdown",
   "id": "9abf1a1c",
   "metadata": {},
   "source": [
    "- What I am mostly seeing is a lot of missing data :( \n",
    "- Also, though, there is some difference in sentiment from program to program\n",
    "- Weekend Edition (Sat and Sun) have higher sentiment scores--these programs try to be a little on the lighter side for the weekend"
   ]
  },
  {
   "cell_type": "code",
   "execution_count": 55,
   "id": "c225602d",
   "metadata": {},
   "outputs": [],
   "source": [
    "null_hypothesis = \"The different programs have the same sentiment score\"\n",
    "alternative_hypothesis = \"At least one program has a different sentiment score\"\n",
    "alpha = 0.01 # we want to be 99% sure our results aren't the result of chance/randomness"
   ]
  },
  {
   "cell_type": "code",
   "execution_count": 56,
   "id": "25d49a88",
   "metadata": {},
   "outputs": [
    {
     "data": {
      "text/plain": [
       "(4875.602377789401, 0.0)"
      ]
     },
     "execution_count": 56,
     "metadata": {},
     "output_type": "execute_result"
    }
   ],
   "source": [
    "# f_oneway is our ANOVA test\n",
    "# See https://docs.scipy.org/doc/scipy/reference/generated/scipy.stats.f_oneway.html for more info\n",
    "from scipy.stats import f_oneway\n",
    "\n",
    "f, p = f_oneway(Talk_of_the_Nation_df.vader_stopped,\n",
    "All_Things_Considered_df.vader_stopped,\n",
    "Morning_Edition_df.vader_stopped,\n",
    "News_and_Notes_df.vader_stopped,\n",
    "Day_to_Day_df.vader_stopped,\n",
    "Weekend_Edition_Sunday_df.vader_stopped,\n",
    "Weekend_Edition_Saturday_df.vader_stopped,)\n",
    "f, p"
   ]
  },
  {
   "cell_type": "code",
   "execution_count": 57,
   "id": "10b81100",
   "metadata": {},
   "outputs": [
    {
     "name": "stdout",
     "output_type": "stream",
     "text": [
      "We reject the null hypothesis that The different programs have the same sentiment score\n",
      "We move forward with the alternative hypothesis that At least one program has a different sentiment score\n"
     ]
    }
   ],
   "source": [
    "if p < alpha:\n",
    "    print(\"We reject the null hypothesis that\", null_hypothesis)\n",
    "    print(\"We move forward with the alternative hypothesis that\", alternative_hypothesis)\n",
    "else:\n",
    "    print(\"We fail to reject the null hypothesis\")\n",
    "    print(\"Evidence does not support the claim that sentiment differs from host to host\")"
   ]
  },
  {
   "cell_type": "code",
   "execution_count": 58,
   "id": "383c3f39",
   "metadata": {},
   "outputs": [
    {
     "data": {
      "text/html": [
       "<div>\n",
       "<style scoped>\n",
       "    .dataframe tbody tr th:only-of-type {\n",
       "        vertical-align: middle;\n",
       "    }\n",
       "\n",
       "    .dataframe tbody tr th {\n",
       "        vertical-align: top;\n",
       "    }\n",
       "\n",
       "    .dataframe thead th {\n",
       "        text-align: right;\n",
       "    }\n",
       "</style>\n",
       "<table border=\"1\" class=\"dataframe\">\n",
       "  <thead>\n",
       "    <tr style=\"text-align: right;\">\n",
       "      <th></th>\n",
       "      <th>episode_id</th>\n",
       "      <th>episode_order</th>\n",
       "      <th>speaker</th>\n",
       "      <th>utterance</th>\n",
       "      <th>program</th>\n",
       "      <th>title</th>\n",
       "      <th>is_host</th>\n",
       "      <th>clean</th>\n",
       "      <th>lemmatized_stopped</th>\n",
       "      <th>vader_stopped</th>\n",
       "      <th>month</th>\n",
       "      <th>year</th>\n",
       "    </tr>\n",
       "    <tr>\n",
       "      <th>date</th>\n",
       "      <th></th>\n",
       "      <th></th>\n",
       "      <th></th>\n",
       "      <th></th>\n",
       "      <th></th>\n",
       "      <th></th>\n",
       "      <th></th>\n",
       "      <th></th>\n",
       "      <th></th>\n",
       "      <th></th>\n",
       "      <th></th>\n",
       "      <th></th>\n",
       "    </tr>\n",
       "  </thead>\n",
       "  <tbody>\n",
       "    <tr>\n",
       "      <th>1999-01-08</th>\n",
       "      <td>141179</td>\n",
       "      <td>9</td>\n",
       "      <td>ISABELLE DELUCA</td>\n",
       "      <td>Yes. It's like my soul sings, I see Rio de Jan...</td>\n",
       "      <td>All Things Considered</td>\n",
       "      <td>Airport Samba</td>\n",
       "      <td>False</td>\n",
       "      <td>yes. it s like my soul sings i see rio de jani...</td>\n",
       "      <td>yes. like soul sings see rio de janiero miss m...</td>\n",
       "      <td>0.5994</td>\n",
       "      <td>Jan</td>\n",
       "      <td>1999</td>\n",
       "    </tr>\n",
       "    <tr>\n",
       "      <th>1999-01-08</th>\n",
       "      <td>141179</td>\n",
       "      <td>2</td>\n",
       "      <td>NOAH ADAMS</td>\n",
       "      <td>You mentioned the Airport Samba?</td>\n",
       "      <td>All Things Considered</td>\n",
       "      <td>Airport Samba</td>\n",
       "      <td>False</td>\n",
       "      <td>you mentioned the airport samba ?</td>\n",
       "      <td>mentioned airport samba ?</td>\n",
       "      <td>0.0000</td>\n",
       "      <td>Jan</td>\n",
       "      <td>1999</td>\n",
       "    </tr>\n",
       "    <tr>\n",
       "      <th>1999-01-08</th>\n",
       "      <td>141179</td>\n",
       "      <td>3</td>\n",
       "      <td>ISABELLE DELUCA</td>\n",
       "      <td>Yes.</td>\n",
       "      <td>All Things Considered</td>\n",
       "      <td>Airport Samba</td>\n",
       "      <td>False</td>\n",
       "      <td>yes .</td>\n",
       "      <td>yes .</td>\n",
       "      <td>0.4019</td>\n",
       "      <td>Jan</td>\n",
       "      <td>1999</td>\n",
       "    </tr>\n",
       "    <tr>\n",
       "      <th>1999-01-08</th>\n",
       "      <td>141179</td>\n",
       "      <td>4</td>\n",
       "      <td>NOAH ADAMS</td>\n",
       "      <td>Written by Mr. Jobim.</td>\n",
       "      <td>All Things Considered</td>\n",
       "      <td>Airport Samba</td>\n",
       "      <td>False</td>\n",
       "      <td>written by mr. jobim .</td>\n",
       "      <td>written mr. jobim .</td>\n",
       "      <td>0.0000</td>\n",
       "      <td>Jan</td>\n",
       "      <td>1999</td>\n",
       "    </tr>\n",
       "    <tr>\n",
       "      <th>1999-01-08</th>\n",
       "      <td>141179</td>\n",
       "      <td>5</td>\n",
       "      <td>ISABELLE DELUCA</td>\n",
       "      <td>Yes.</td>\n",
       "      <td>All Things Considered</td>\n",
       "      <td>Airport Samba</td>\n",
       "      <td>False</td>\n",
       "      <td>yes .</td>\n",
       "      <td>yes .</td>\n",
       "      <td>0.4019</td>\n",
       "      <td>Jan</td>\n",
       "      <td>1999</td>\n",
       "    </tr>\n",
       "  </tbody>\n",
       "</table>\n",
       "</div>"
      ],
      "text/plain": [
       "            episode_id  episode_order          speaker  \\\n",
       "date                                                     \n",
       "1999-01-08      141179              9  ISABELLE DELUCA   \n",
       "1999-01-08      141179              2       NOAH ADAMS   \n",
       "1999-01-08      141179              3  ISABELLE DELUCA   \n",
       "1999-01-08      141179              4       NOAH ADAMS   \n",
       "1999-01-08      141179              5  ISABELLE DELUCA   \n",
       "\n",
       "                                                    utterance  \\\n",
       "date                                                            \n",
       "1999-01-08  Yes. It's like my soul sings, I see Rio de Jan...   \n",
       "1999-01-08                   You mentioned the Airport Samba?   \n",
       "1999-01-08                                               Yes.   \n",
       "1999-01-08                              Written by Mr. Jobim.   \n",
       "1999-01-08                                               Yes.   \n",
       "\n",
       "                          program          title  is_host  \\\n",
       "date                                                        \n",
       "1999-01-08  All Things Considered  Airport Samba    False   \n",
       "1999-01-08  All Things Considered  Airport Samba    False   \n",
       "1999-01-08  All Things Considered  Airport Samba    False   \n",
       "1999-01-08  All Things Considered  Airport Samba    False   \n",
       "1999-01-08  All Things Considered  Airport Samba    False   \n",
       "\n",
       "                                                        clean  \\\n",
       "date                                                            \n",
       "1999-01-08  yes. it s like my soul sings i see rio de jani...   \n",
       "1999-01-08                  you mentioned the airport samba ?   \n",
       "1999-01-08                                              yes .   \n",
       "1999-01-08                             written by mr. jobim .   \n",
       "1999-01-08                                              yes .   \n",
       "\n",
       "                                           lemmatized_stopped  vader_stopped  \\\n",
       "date                                                                           \n",
       "1999-01-08  yes. like soul sings see rio de janiero miss m...         0.5994   \n",
       "1999-01-08                          mentioned airport samba ?         0.0000   \n",
       "1999-01-08                                              yes .         0.4019   \n",
       "1999-01-08                                written mr. jobim .         0.0000   \n",
       "1999-01-08                                              yes .         0.4019   \n",
       "\n",
       "           month  year  \n",
       "date                    \n",
       "1999-01-08   Jan  1999  \n",
       "1999-01-08   Jan  1999  \n",
       "1999-01-08   Jan  1999  \n",
       "1999-01-08   Jan  1999  \n",
       "1999-01-08   Jan  1999  "
      ]
     },
     "execution_count": 58,
     "metadata": {},
     "output_type": "execute_result"
    }
   ],
   "source": [
    "df.head()"
   ]
  },
  {
   "cell_type": "markdown",
   "id": "9b3b9f5e",
   "metadata": {},
   "source": [
    "## what about clustering?\n",
    "- There is very little continuous data here, clusering might not be possible.\n",
    "- datetime...but how usefull can that be? \n",
    "- utterance order? is that available?"
   ]
  },
  {
   "cell_type": "code",
   "execution_count": 59,
   "id": "f901b42e",
   "metadata": {},
   "outputs": [
    {
     "data": {
      "text/html": [
       "<div>\n",
       "<style scoped>\n",
       "    .dataframe tbody tr th:only-of-type {\n",
       "        vertical-align: middle;\n",
       "    }\n",
       "\n",
       "    .dataframe tbody tr th {\n",
       "        vertical-align: top;\n",
       "    }\n",
       "\n",
       "    .dataframe thead th {\n",
       "        text-align: right;\n",
       "    }\n",
       "</style>\n",
       "<table border=\"1\" class=\"dataframe\">\n",
       "  <thead>\n",
       "    <tr style=\"text-align: right;\">\n",
       "      <th></th>\n",
       "      <th>episode_id</th>\n",
       "      <th>episode_order</th>\n",
       "      <th>speaker</th>\n",
       "      <th>utterance</th>\n",
       "      <th>program</th>\n",
       "      <th>title</th>\n",
       "      <th>is_host</th>\n",
       "      <th>clean</th>\n",
       "      <th>lemmatized_stopped</th>\n",
       "      <th>vader_stopped</th>\n",
       "      <th>month</th>\n",
       "      <th>year</th>\n",
       "    </tr>\n",
       "    <tr>\n",
       "      <th>date</th>\n",
       "      <th></th>\n",
       "      <th></th>\n",
       "      <th></th>\n",
       "      <th></th>\n",
       "      <th></th>\n",
       "      <th></th>\n",
       "      <th></th>\n",
       "      <th></th>\n",
       "      <th></th>\n",
       "      <th></th>\n",
       "      <th></th>\n",
       "      <th></th>\n",
       "    </tr>\n",
       "  </thead>\n",
       "  <tbody>\n",
       "    <tr>\n",
       "      <th>2019-10-06</th>\n",
       "      <td>1</td>\n",
       "      <td>1</td>\n",
       "      <td>LULU GARCIA-NAVARRO, HOST</td>\n",
       "      <td>The impeachment inquiry picks up tomorrow wher...</td>\n",
       "      <td>Weekend Edition Sunday</td>\n",
       "      <td>Sunday Politics</td>\n",
       "      <td>False</td>\n",
       "      <td>the impeachment inquiry picks up tomorrow wher...</td>\n",
       "      <td>impeachment inquiry pick tomorrow left friday ...</td>\n",
       "      <td>-0.5267</td>\n",
       "      <td>Oct</td>\n",
       "      <td>2019</td>\n",
       "    </tr>\n",
       "    <tr>\n",
       "      <th>2019-10-06</th>\n",
       "      <td>1</td>\n",
       "      <td>2</td>\n",
       "      <td>LULU GARCIA-NAVARRO, HOST</td>\n",
       "      <td>Good morning.</td>\n",
       "      <td>Weekend Edition Sunday</td>\n",
       "      <td>Sunday Politics</td>\n",
       "      <td>False</td>\n",
       "      <td>good morning .</td>\n",
       "      <td>good morning .</td>\n",
       "      <td>0.4404</td>\n",
       "      <td>Oct</td>\n",
       "      <td>2019</td>\n",
       "    </tr>\n",
       "    <tr>\n",
       "      <th>2019-10-06</th>\n",
       "      <td>1</td>\n",
       "      <td>3</td>\n",
       "      <td>MARA LIASSON, BYLINE</td>\n",
       "      <td>Good morning, Lulu.</td>\n",
       "      <td>Weekend Edition Sunday</td>\n",
       "      <td>Sunday Politics</td>\n",
       "      <td>False</td>\n",
       "      <td>good morning lulu .</td>\n",
       "      <td>good morning lulu .</td>\n",
       "      <td>0.4404</td>\n",
       "      <td>Oct</td>\n",
       "      <td>2019</td>\n",
       "    </tr>\n",
       "    <tr>\n",
       "      <th>2019-10-06</th>\n",
       "      <td>1</td>\n",
       "      <td>4</td>\n",
       "      <td>LULU GARCIA-NAVARRO, HOST</td>\n",
       "      <td>All right. What's the latest?</td>\n",
       "      <td>Weekend Edition Sunday</td>\n",
       "      <td>Sunday Politics</td>\n",
       "      <td>False</td>\n",
       "      <td>all right. what s the latest ?</td>\n",
       "      <td>right. latest ?</td>\n",
       "      <td>0.0000</td>\n",
       "      <td>Oct</td>\n",
       "      <td>2019</td>\n",
       "    </tr>\n",
       "    <tr>\n",
       "      <th>2019-10-06</th>\n",
       "      <td>1</td>\n",
       "      <td>5</td>\n",
       "      <td>MARA LIASSON, BYLINE</td>\n",
       "      <td>Well, the latest is that the lawyer for the fi...</td>\n",
       "      <td>Weekend Edition Sunday</td>\n",
       "      <td>Sunday Politics</td>\n",
       "      <td>False</td>\n",
       "      <td>well the latest is that the lawyer for the fir...</td>\n",
       "      <td>well latest lawyer first whistleblower tweetin...</td>\n",
       "      <td>0.8402</td>\n",
       "      <td>Oct</td>\n",
       "      <td>2019</td>\n",
       "    </tr>\n",
       "    <tr>\n",
       "      <th>2019-10-06</th>\n",
       "      <td>1</td>\n",
       "      <td>6</td>\n",
       "      <td>LULU GARCIA-NAVARRO, HOST</td>\n",
       "      <td>I mean, another whistleblower has got to be ba...</td>\n",
       "      <td>Weekend Edition Sunday</td>\n",
       "      <td>Sunday Politics</td>\n",
       "      <td>False</td>\n",
       "      <td>i mean another whistleblower has got to be bad...</td>\n",
       "      <td>mean another whistleblower ha got bad news pre...</td>\n",
       "      <td>0.1027</td>\n",
       "      <td>Oct</td>\n",
       "      <td>2019</td>\n",
       "    </tr>\n",
       "    <tr>\n",
       "      <th>2019-10-06</th>\n",
       "      <td>1</td>\n",
       "      <td>7</td>\n",
       "      <td>MARA LIASSON, BYLINE</td>\n",
       "      <td>No. This is kind of like a trail of bread crum...</td>\n",
       "      <td>Weekend Edition Sunday</td>\n",
       "      <td>Sunday Politics</td>\n",
       "      <td>False</td>\n",
       "      <td>no. this is kind of like a trail of bread crum...</td>\n",
       "      <td>no. kind like trail bread crumbs. revelation l...</td>\n",
       "      <td>0.9153</td>\n",
       "      <td>Oct</td>\n",
       "      <td>2019</td>\n",
       "    </tr>\n",
       "    <tr>\n",
       "      <th>2019-10-06</th>\n",
       "      <td>1</td>\n",
       "      <td>8</td>\n",
       "      <td>LULU GARCIA-NAVARRO, HOST</td>\n",
       "      <td>What his happening to his support among Republ...</td>\n",
       "      <td>Weekend Edition Sunday</td>\n",
       "      <td>Sunday Politics</td>\n",
       "      <td>False</td>\n",
       "      <td>what his happening to his support among republ...</td>\n",
       "      <td>happening support among republican lawmaker ma...</td>\n",
       "      <td>0.6662</td>\n",
       "      <td>Oct</td>\n",
       "      <td>2019</td>\n",
       "    </tr>\n",
       "    <tr>\n",
       "      <th>2019-10-06</th>\n",
       "      <td>1</td>\n",
       "      <td>9</td>\n",
       "      <td>MARA LIASSON, BYLINE</td>\n",
       "      <td>So far, most Republican lawmakers are shelteri...</td>\n",
       "      <td>Weekend Edition Sunday</td>\n",
       "      <td>Sunday Politics</td>\n",
       "      <td>False</td>\n",
       "      <td>so far most republican lawmakers are shelterin...</td>\n",
       "      <td>far republican lawmaker sheltering place usual...</td>\n",
       "      <td>-0.6705</td>\n",
       "      <td>Oct</td>\n",
       "      <td>2019</td>\n",
       "    </tr>\n",
       "    <tr>\n",
       "      <th>2019-10-06</th>\n",
       "      <td>1</td>\n",
       "      <td>10</td>\n",
       "      <td>LULU GARCIA-NAVARRO, HOST</td>\n",
       "      <td>That's NPR political correspondent Mara Liasso...</td>\n",
       "      <td>Weekend Edition Sunday</td>\n",
       "      <td>Sunday Politics</td>\n",
       "      <td>False</td>\n",
       "      <td>that s npr political correspondent mara liasso...</td>\n",
       "      <td>npr political correspondent mara liasson. thank .</td>\n",
       "      <td>0.3612</td>\n",
       "      <td>Oct</td>\n",
       "      <td>2019</td>\n",
       "    </tr>\n",
       "    <tr>\n",
       "      <th>2019-10-06</th>\n",
       "      <td>1</td>\n",
       "      <td>11</td>\n",
       "      <td>MARA LIASSON, BYLINE</td>\n",
       "      <td>Thank you.</td>\n",
       "      <td>Weekend Edition Sunday</td>\n",
       "      <td>Sunday Politics</td>\n",
       "      <td>False</td>\n",
       "      <td>thank you .</td>\n",
       "      <td>thank .</td>\n",
       "      <td>0.3612</td>\n",
       "      <td>Oct</td>\n",
       "      <td>2019</td>\n",
       "    </tr>\n",
       "    <tr>\n",
       "      <th>2019-10-06</th>\n",
       "      <td>2</td>\n",
       "      <td>1</td>\n",
       "      <td>LULU GARCIA-NAVARRO, HOST</td>\n",
       "      <td>President Trump has announced another new immi...</td>\n",
       "      <td>Weekend Edition Sunday</td>\n",
       "      <td>How Immigrants Use Health Care</td>\n",
       "      <td>False</td>\n",
       "      <td>president trump has announced another new immi...</td>\n",
       "      <td>president trump ha announced another new immig...</td>\n",
       "      <td>0.9451</td>\n",
       "      <td>Oct</td>\n",
       "      <td>2019</td>\n",
       "    </tr>\n",
       "    <tr>\n",
       "      <th>2019-10-06</th>\n",
       "      <td>2</td>\n",
       "      <td>2</td>\n",
       "      <td>LULU GARCIA-NAVARRO, HOST</td>\n",
       "      <td>We wanted to get a better understanding of how...</td>\n",
       "      <td>Weekend Edition Sunday</td>\n",
       "      <td>How Immigrants Use Health Care</td>\n",
       "      <td>False</td>\n",
       "      <td>we wanted to get a better understanding of how...</td>\n",
       "      <td>wanted get better understanding immigrant use ...</td>\n",
       "      <td>0.9169</td>\n",
       "      <td>Oct</td>\n",
       "      <td>2019</td>\n",
       "    </tr>\n",
       "    <tr>\n",
       "      <th>2019-10-06</th>\n",
       "      <td>2</td>\n",
       "      <td>3</td>\n",
       "      <td>LULU GARCIA-NAVARRO, HOST</td>\n",
       "      <td>Welcome.</td>\n",
       "      <td>Weekend Edition Sunday</td>\n",
       "      <td>How Immigrants Use Health Care</td>\n",
       "      <td>False</td>\n",
       "      <td>welcome .</td>\n",
       "      <td>welcome .</td>\n",
       "      <td>0.4588</td>\n",
       "      <td>Oct</td>\n",
       "      <td>2019</td>\n",
       "    </tr>\n",
       "    <tr>\n",
       "      <th>2019-10-06</th>\n",
       "      <td>2</td>\n",
       "      <td>4</td>\n",
       "      <td>ANNE DUNKELBERG</td>\n",
       "      <td>Good morning.</td>\n",
       "      <td>Weekend Edition Sunday</td>\n",
       "      <td>How Immigrants Use Health Care</td>\n",
       "      <td>False</td>\n",
       "      <td>good morning .</td>\n",
       "      <td>good morning .</td>\n",
       "      <td>0.4404</td>\n",
       "      <td>Oct</td>\n",
       "      <td>2019</td>\n",
       "    </tr>\n",
       "    <tr>\n",
       "      <th>2019-10-06</th>\n",
       "      <td>2</td>\n",
       "      <td>5</td>\n",
       "      <td>LULU GARCIA-NAVARRO, HOST</td>\n",
       "      <td>How would this work? I mean, if you're a visit...</td>\n",
       "      <td>Weekend Edition Sunday</td>\n",
       "      <td>How Immigrants Use Health Care</td>\n",
       "      <td>False</td>\n",
       "      <td>how would this work ? i mean if you re a visit...</td>\n",
       "      <td>would work ? mean visitor traveling would obvi...</td>\n",
       "      <td>-0.6072</td>\n",
       "      <td>Oct</td>\n",
       "      <td>2019</td>\n",
       "    </tr>\n",
       "    <tr>\n",
       "      <th>2019-10-06</th>\n",
       "      <td>2</td>\n",
       "      <td>6</td>\n",
       "      <td>ANNE DUNKELBERG</td>\n",
       "      <td>It's a great question that we probably can't a...</td>\n",
       "      <td>Weekend Edition Sunday</td>\n",
       "      <td>How Immigrants Use Health Care</td>\n",
       "      <td>False</td>\n",
       "      <td>it s a great question that we probably can t a...</td>\n",
       "      <td>great question probably answer. sound like kno...</td>\n",
       "      <td>0.8885</td>\n",
       "      <td>Oct</td>\n",
       "      <td>2019</td>\n",
       "    </tr>\n",
       "    <tr>\n",
       "      <th>2019-10-06</th>\n",
       "      <td>2</td>\n",
       "      <td>7</td>\n",
       "      <td>LULU GARCIA-NAVARRO, HOST</td>\n",
       "      <td>The other thing that confuses me a little bit ...</td>\n",
       "      <td>Weekend Edition Sunday</td>\n",
       "      <td>How Immigrants Use Health Care</td>\n",
       "      <td>False</td>\n",
       "      <td>the other thing that confuses me a little bit ...</td>\n",
       "      <td>thing confuses little bit seems like additiona...</td>\n",
       "      <td>0.4091</td>\n",
       "      <td>Oct</td>\n",
       "      <td>2019</td>\n",
       "    </tr>\n",
       "    <tr>\n",
       "      <th>2019-10-06</th>\n",
       "      <td>2</td>\n",
       "      <td>8</td>\n",
       "      <td>ANNE DUNKELBERG</td>\n",
       "      <td>You're absolutely right. Even for these short-...</td>\n",
       "      <td>Weekend Edition Sunday</td>\n",
       "      <td>How Immigrants Use Health Care</td>\n",
       "      <td>False</td>\n",
       "      <td>you re absolutely right. even for these short ...</td>\n",
       "      <td>absolutely right. even short term visitor type...</td>\n",
       "      <td>0.0000</td>\n",
       "      <td>Oct</td>\n",
       "      <td>2019</td>\n",
       "    </tr>\n",
       "    <tr>\n",
       "      <th>2019-10-06</th>\n",
       "      <td>2</td>\n",
       "      <td>9</td>\n",
       "      <td>LULU GARCIA-NAVARRO, HOST</td>\n",
       "      <td>Getting insurance in this country is complicat...</td>\n",
       "      <td>Weekend Edition Sunday</td>\n",
       "      <td>How Immigrants Use Health Care</td>\n",
       "      <td>False</td>\n",
       "      <td>getting insurance in this country is complicat...</td>\n",
       "      <td>getting insurance country complicated american...</td>\n",
       "      <td>-0.2500</td>\n",
       "      <td>Oct</td>\n",
       "      <td>2019</td>\n",
       "    </tr>\n",
       "    <tr>\n",
       "      <th>2019-10-06</th>\n",
       "      <td>2</td>\n",
       "      <td>10</td>\n",
       "      <td>ANNE DUNKELBERG</td>\n",
       "      <td>It sounds, frankly, more like the intention is...</td>\n",
       "      <td>Weekend Edition Sunday</td>\n",
       "      <td>How Immigrants Use Health Care</td>\n",
       "      <td>False</td>\n",
       "      <td>it sounds frankly more like the intention is f...</td>\n",
       "      <td>sound frankly like intention optic policy much...</td>\n",
       "      <td>0.5994</td>\n",
       "      <td>Oct</td>\n",
       "      <td>2019</td>\n",
       "    </tr>\n",
       "    <tr>\n",
       "      <th>2019-10-06</th>\n",
       "      <td>2</td>\n",
       "      <td>11</td>\n",
       "      <td>LULU GARCIA-NAVARRO, HOST</td>\n",
       "      <td>Your state, Texas, has one of the highest numb...</td>\n",
       "      <td>Weekend Edition Sunday</td>\n",
       "      <td>How Immigrants Use Health Care</td>\n",
       "      <td>False</td>\n",
       "      <td>your state texas has one of the highest number...</td>\n",
       "      <td>state texas ha one highest number uninsured pe...</td>\n",
       "      <td>0.4019</td>\n",
       "      <td>Oct</td>\n",
       "      <td>2019</td>\n",
       "    </tr>\n",
       "    <tr>\n",
       "      <th>2019-10-06</th>\n",
       "      <td>2</td>\n",
       "      <td>12</td>\n",
       "      <td>ANNE DUNKELBERG</td>\n",
       "      <td>Seventy-five percent, at least, of our uninsur...</td>\n",
       "      <td>Weekend Edition Sunday</td>\n",
       "      <td>How Immigrants Use Health Care</td>\n",
       "      <td>False</td>\n",
       "      <td>seventy five percent at least of our uninsured...</td>\n",
       "      <td>seventy five percent least uninsured u.s. citi...</td>\n",
       "      <td>0.6249</td>\n",
       "      <td>Oct</td>\n",
       "      <td>2019</td>\n",
       "    </tr>\n",
       "    <tr>\n",
       "      <th>2019-10-06</th>\n",
       "      <td>2</td>\n",
       "      <td>13</td>\n",
       "      <td>LULU GARCIA-NAVARRO, HOST</td>\n",
       "      <td>So when the president says that uninsured indi...</td>\n",
       "      <td>Weekend Edition Sunday</td>\n",
       "      <td>How Immigrants Use Health Care</td>\n",
       "      <td>False</td>\n",
       "      <td>so when the president says that uninsured indi...</td>\n",
       "      <td>president say uninsured individual immigrant b...</td>\n",
       "      <td>-0.3818</td>\n",
       "      <td>Oct</td>\n",
       "      <td>2019</td>\n",
       "    </tr>\n",
       "    <tr>\n",
       "      <th>2019-10-06</th>\n",
       "      <td>2</td>\n",
       "      <td>14</td>\n",
       "      <td>ANNE DUNKELBERG</td>\n",
       "      <td>Absolutely. The vast majority of uninsured Ame...</td>\n",
       "      <td>Weekend Edition Sunday</td>\n",
       "      <td>How Immigrants Use Health Care</td>\n",
       "      <td>False</td>\n",
       "      <td>absolutely. the vast majority of uninsured ame...</td>\n",
       "      <td>absolutely. vast majority uninsured american u...</td>\n",
       "      <td>0.4767</td>\n",
       "      <td>Oct</td>\n",
       "      <td>2019</td>\n",
       "    </tr>\n",
       "    <tr>\n",
       "      <th>2019-10-06</th>\n",
       "      <td>2</td>\n",
       "      <td>15</td>\n",
       "      <td>LULU GARCIA-NAVARRO, HOST</td>\n",
       "      <td>That was Anne Dunkelberg of the Center for Pub...</td>\n",
       "      <td>Weekend Edition Sunday</td>\n",
       "      <td>How Immigrants Use Health Care</td>\n",
       "      <td>False</td>\n",
       "      <td>that was anne dunkelberg of the center for pub...</td>\n",
       "      <td>wa anne dunkelberg center public policy priori...</td>\n",
       "      <td>0.3612</td>\n",
       "      <td>Oct</td>\n",
       "      <td>2019</td>\n",
       "    </tr>\n",
       "    <tr>\n",
       "      <th>2019-10-06</th>\n",
       "      <td>2</td>\n",
       "      <td>16</td>\n",
       "      <td>ANNE DUNKELBERG</td>\n",
       "      <td>Thank you, Lulu.</td>\n",
       "      <td>Weekend Edition Sunday</td>\n",
       "      <td>How Immigrants Use Health Care</td>\n",
       "      <td>False</td>\n",
       "      <td>thank you lulu .</td>\n",
       "      <td>thank lulu .</td>\n",
       "      <td>0.3612</td>\n",
       "      <td>Oct</td>\n",
       "      <td>2019</td>\n",
       "    </tr>\n",
       "    <tr>\n",
       "      <th>2019-10-06</th>\n",
       "      <td>3</td>\n",
       "      <td>1</td>\n",
       "      <td>LULU GARCIA-NAVARRO, HOST</td>\n",
       "      <td>Now to Hong Kong, where anti-government protes...</td>\n",
       "      <td>Weekend Edition Sunday</td>\n",
       "      <td>Hong Kong Protesters Defy Face Mask Ban</td>\n",
       "      <td>False</td>\n",
       "      <td>now to hong kong where anti government protest...</td>\n",
       "      <td>hong kong anti government protest 18th week. t...</td>\n",
       "      <td>-0.9042</td>\n",
       "      <td>Oct</td>\n",
       "      <td>2019</td>\n",
       "    </tr>\n",
       "    <tr>\n",
       "      <th>2019-10-06</th>\n",
       "      <td>3</td>\n",
       "      <td>2</td>\n",
       "      <td>LULU GARCIA-NAVARRO, HOST</td>\n",
       "      <td>NPR's Beijing correspondent Emily Feng is in H...</td>\n",
       "      <td>Weekend Edition Sunday</td>\n",
       "      <td>Hong Kong Protesters Defy Face Mask Ban</td>\n",
       "      <td>False</td>\n",
       "      <td>npr s beijing correspondent emily feng is in h...</td>\n",
       "      <td>npr beijing correspondent emily feng hong kong...</td>\n",
       "      <td>0.0000</td>\n",
       "      <td>Oct</td>\n",
       "      <td>2019</td>\n",
       "    </tr>\n",
       "    <tr>\n",
       "      <th>2019-10-06</th>\n",
       "      <td>3</td>\n",
       "      <td>3</td>\n",
       "      <td>EMILY FENG, BYLINE</td>\n",
       "      <td>I'm on this major road in downtown Hong Kong, ...</td>\n",
       "      <td>Weekend Edition Sunday</td>\n",
       "      <td>Hong Kong Protesters Defy Face Mask Ban</td>\n",
       "      <td>False</td>\n",
       "      <td>i m on this major road in downtown hong kong a...</td>\n",
       "      <td>major road downtown hong kong overpass couple ...</td>\n",
       "      <td>-0.8610</td>\n",
       "      <td>Oct</td>\n",
       "      <td>2019</td>\n",
       "    </tr>\n",
       "    <tr>\n",
       "      <th>2019-10-06</th>\n",
       "      <td>3</td>\n",
       "      <td>4</td>\n",
       "      <td>LULU GARCIA-NAVARRO, HOST</td>\n",
       "      <td>What did you see earlier today at these protes...</td>\n",
       "      <td>Weekend Edition Sunday</td>\n",
       "      <td>Hong Kong Protesters Defy Face Mask Ban</td>\n",
       "      <td>False</td>\n",
       "      <td>what did you see earlier today at these protes...</td>\n",
       "      <td>see earlier today protest ? mean scene describ...</td>\n",
       "      <td>0.2263</td>\n",
       "      <td>Oct</td>\n",
       "      <td>2019</td>\n",
       "    </tr>\n",
       "    <tr>\n",
       "      <th>2019-10-06</th>\n",
       "      <td>3</td>\n",
       "      <td>5</td>\n",
       "      <td>EMILY FENG, BYLINE</td>\n",
       "      <td>Yeah. This is a pattern that we've seen over a...</td>\n",
       "      <td>Weekend Edition Sunday</td>\n",
       "      <td>Hong Kong Protesters Defy Face Mask Ban</td>\n",
       "      <td>False</td>\n",
       "      <td>yeah. this is a pattern that we ve seen over a...</td>\n",
       "      <td>yeah. pattern seen peaceful march happen day q...</td>\n",
       "      <td>-0.9601</td>\n",
       "      <td>Oct</td>\n",
       "      <td>2019</td>\n",
       "    </tr>\n",
       "    <tr>\n",
       "      <th>2019-10-06</th>\n",
       "      <td>3</td>\n",
       "      <td>6</td>\n",
       "      <td>EMILY FENG, BYLINE</td>\n",
       "      <td>But today, again, the protest we saw at the ve...</td>\n",
       "      <td>Weekend Edition Sunday</td>\n",
       "      <td>Hong Kong Protesters Defy Face Mask Ban</td>\n",
       "      <td>False</td>\n",
       "      <td>but today again the protest we saw at the very...</td>\n",
       "      <td>today protest saw beginning day saw ten thousa...</td>\n",
       "      <td>-0.9509</td>\n",
       "      <td>Oct</td>\n",
       "      <td>2019</td>\n",
       "    </tr>\n",
       "    <tr>\n",
       "      <th>2019-10-06</th>\n",
       "      <td>3</td>\n",
       "      <td>7</td>\n",
       "      <td>LULU GARCIA-NAVARRO, HOST</td>\n",
       "      <td>Tell us about the attitude of the protesters. ...</td>\n",
       "      <td>Weekend Edition Sunday</td>\n",
       "      <td>Hong Kong Protesters Defy Face Mask Ban</td>\n",
       "      <td>False</td>\n",
       "      <td>tell us about the attitude of the protesters. ...</td>\n",
       "      <td>tell u attitude protesters. mean hear thing go...</td>\n",
       "      <td>-0.2263</td>\n",
       "      <td>Oct</td>\n",
       "      <td>2019</td>\n",
       "    </tr>\n",
       "    <tr>\n",
       "      <th>2019-10-06</th>\n",
       "      <td>3</td>\n",
       "      <td>8</td>\n",
       "      <td>EMILY FENG, BYLINE</td>\n",
       "      <td>They're obviously angry. I mean, this is the 1...</td>\n",
       "      <td>Weekend Edition Sunday</td>\n",
       "      <td>Hong Kong Protesters Defy Face Mask Ban</td>\n",
       "      <td>False</td>\n",
       "      <td>they re obviously angry. i mean this is the 18...</td>\n",
       "      <td>obviously angry. mean 18th week protest far. f...</td>\n",
       "      <td>-0.9693</td>\n",
       "      <td>Oct</td>\n",
       "      <td>2019</td>\n",
       "    </tr>\n",
       "    <tr>\n",
       "      <th>2019-10-06</th>\n",
       "      <td>3</td>\n",
       "      <td>9</td>\n",
       "      <td>EMILY FENG, BYLINE</td>\n",
       "      <td>One person I talked to today, an 18-year-old p...</td>\n",
       "      <td>Weekend Edition Sunday</td>\n",
       "      <td>Hong Kong Protesters Defy Face Mask Ban</td>\n",
       "      <td>False</td>\n",
       "      <td>one person i talked to today an 18 year old pr...</td>\n",
       "      <td>one person talked today 18 year old protester ...</td>\n",
       "      <td>0.0000</td>\n",
       "      <td>Oct</td>\n",
       "      <td>2019</td>\n",
       "    </tr>\n",
       "    <tr>\n",
       "      <th>2019-10-06</th>\n",
       "      <td>3</td>\n",
       "      <td>10</td>\n",
       "      <td>HO</td>\n",
       "      <td>(Foreign language spoken).</td>\n",
       "      <td>Weekend Edition Sunday</td>\n",
       "      <td>Hong Kong Protesters Defy Face Mask Ban</td>\n",
       "      <td>False</td>\n",
       "      <td>foreign language spoken .</td>\n",
       "      <td>foreign language spoken .</td>\n",
       "      <td>0.0000</td>\n",
       "      <td>Oct</td>\n",
       "      <td>2019</td>\n",
       "    </tr>\n",
       "    <tr>\n",
       "      <th>2019-10-06</th>\n",
       "      <td>3</td>\n",
       "      <td>11</td>\n",
       "      <td>EMILY FENG, BYLINE</td>\n",
       "      <td>He's saying that if the Hong Kong government c...</td>\n",
       "      <td>Weekend Edition Sunday</td>\n",
       "      <td>Hong Kong Protesters Defy Face Mask Ban</td>\n",
       "      <td>False</td>\n",
       "      <td>he s saying that if the hong kong government c...</td>\n",
       "      <td>saying hong kong government use emergency powe...</td>\n",
       "      <td>0.5106</td>\n",
       "      <td>Oct</td>\n",
       "      <td>2019</td>\n",
       "    </tr>\n",
       "    <tr>\n",
       "      <th>2019-10-06</th>\n",
       "      <td>3</td>\n",
       "      <td>12</td>\n",
       "      <td>LULU GARCIA-NAVARRO, HOST</td>\n",
       "      <td>That's NPR's Emily Feng, speaking to us from H...</td>\n",
       "      <td>Weekend Edition Sunday</td>\n",
       "      <td>Hong Kong Protesters Defy Face Mask Ban</td>\n",
       "      <td>False</td>\n",
       "      <td>that s npr s emily feng speaking to us from ho...</td>\n",
       "      <td>npr emily feng speaking u hong kong .</td>\n",
       "      <td>0.0000</td>\n",
       "      <td>Oct</td>\n",
       "      <td>2019</td>\n",
       "    </tr>\n",
       "    <tr>\n",
       "      <th>2019-10-06</th>\n",
       "      <td>3</td>\n",
       "      <td>13</td>\n",
       "      <td>LULU GARCIA-NAVARRO, HOST</td>\n",
       "      <td>Emily, thanks so much. Stay safe.</td>\n",
       "      <td>Weekend Edition Sunday</td>\n",
       "      <td>Hong Kong Protesters Defy Face Mask Ban</td>\n",
       "      <td>False</td>\n",
       "      <td>emily thanks so much. stay safe .</td>\n",
       "      <td>emily thanks much. stay safe .</td>\n",
       "      <td>0.7003</td>\n",
       "      <td>Oct</td>\n",
       "      <td>2019</td>\n",
       "    </tr>\n",
       "    <tr>\n",
       "      <th>2019-10-06</th>\n",
       "      <td>3</td>\n",
       "      <td>14</td>\n",
       "      <td>EMILY FENG, BYLINE</td>\n",
       "      <td>Thank you.</td>\n",
       "      <td>Weekend Edition Sunday</td>\n",
       "      <td>Hong Kong Protesters Defy Face Mask Ban</td>\n",
       "      <td>False</td>\n",
       "      <td>thank you .</td>\n",
       "      <td>thank .</td>\n",
       "      <td>0.3612</td>\n",
       "      <td>Oct</td>\n",
       "      <td>2019</td>\n",
       "    </tr>\n",
       "    <tr>\n",
       "      <th>2019-10-06</th>\n",
       "      <td>4</td>\n",
       "      <td>1</td>\n",
       "      <td>LULU GARCIA-NAVARRO, HOST</td>\n",
       "      <td>After Hurricane Dorian hit the Bahamas last mo...</td>\n",
       "      <td>Weekend Edition Sunday</td>\n",
       "      <td>Aid Group Of Veterans Assists In Bahamas</td>\n",
       "      <td>False</td>\n",
       "      <td>after hurricane dorian hit the bahamas last mo...</td>\n",
       "      <td>hurricane dorian hit bahamas last month dozen ...</td>\n",
       "      <td>0.4588</td>\n",
       "      <td>Oct</td>\n",
       "      <td>2019</td>\n",
       "    </tr>\n",
       "    <tr>\n",
       "      <th>2019-10-06</th>\n",
       "      <td>4</td>\n",
       "      <td>2</td>\n",
       "      <td>JASON BEAUBIEN, BYLINE</td>\n",
       "      <td>Hurricane Dorian turned large swaths of Marsh ...</td>\n",
       "      <td>Weekend Edition Sunday</td>\n",
       "      <td>Aid Group Of Veterans Assists In Bahamas</td>\n",
       "      <td>False</td>\n",
       "      <td>hurricane dorian turned large swaths of marsh ...</td>\n",
       "      <td>hurricane dorian turned large swath marsh harb...</td>\n",
       "      <td>-0.8979</td>\n",
       "      <td>Oct</td>\n",
       "      <td>2019</td>\n",
       "    </tr>\n",
       "    <tr>\n",
       "      <th>2019-10-06</th>\n",
       "      <td>4</td>\n",
       "      <td>3</td>\n",
       "      <td>JASON ROBERTS</td>\n",
       "      <td>I didn't know this was a driveway when I walke...</td>\n",
       "      <td>Weekend Edition Sunday</td>\n",
       "      <td>Aid Group Of Veterans Assists In Bahamas</td>\n",
       "      <td>False</td>\n",
       "      <td>i didn t know this was a driveway when i walke...</td>\n",
       "      <td>know wa driveway walked .</td>\n",
       "      <td>0.0000</td>\n",
       "      <td>Oct</td>\n",
       "      <td>2019</td>\n",
       "    </tr>\n",
       "    <tr>\n",
       "      <th>2019-10-06</th>\n",
       "      <td>4</td>\n",
       "      <td>4</td>\n",
       "      <td>JASON BEAUBIEN, BYLINE</td>\n",
       "      <td>Team Rubicon brings its own tools - including ...</td>\n",
       "      <td>Weekend Edition Sunday</td>\n",
       "      <td>Aid Group Of Veterans Assists In Bahamas</td>\n",
       "      <td>False</td>\n",
       "      <td>team rubicon brings its own tools including ch...</td>\n",
       "      <td>team rubicon brings tool including chainsaw tr...</td>\n",
       "      <td>0.3400</td>\n",
       "      <td>Oct</td>\n",
       "      <td>2019</td>\n",
       "    </tr>\n",
       "    <tr>\n",
       "      <th>2019-10-06</th>\n",
       "      <td>4</td>\n",
       "      <td>5</td>\n",
       "      <td>JASON ROBERTS</td>\n",
       "      <td>There wasn't a ton of water damage in this sec...</td>\n",
       "      <td>Weekend Edition Sunday</td>\n",
       "      <td>Aid Group Of Veterans Assists In Bahamas</td>\n",
       "      <td>False</td>\n",
       "      <td>there wasn t a ton of water damage in this sec...</td>\n",
       "      <td>ton water damage section house wind blew ceili...</td>\n",
       "      <td>-0.4939</td>\n",
       "      <td>Oct</td>\n",
       "      <td>2019</td>\n",
       "    </tr>\n",
       "    <tr>\n",
       "      <th>2019-10-06</th>\n",
       "      <td>4</td>\n",
       "      <td>6</td>\n",
       "      <td>JASON BEAUBIEN, BYLINE</td>\n",
       "      <td>Roberts, like many of the Team Rubicon volunte...</td>\n",
       "      <td>Weekend Edition Sunday</td>\n",
       "      <td>Aid Group Of Veterans Assists In Bahamas</td>\n",
       "      <td>False</td>\n",
       "      <td>roberts like many of the team rubicon voluntee...</td>\n",
       "      <td>robert like many team rubicon volunteer served...</td>\n",
       "      <td>0.6369</td>\n",
       "      <td>Oct</td>\n",
       "      <td>2019</td>\n",
       "    </tr>\n",
       "    <tr>\n",
       "      <th>2019-10-06</th>\n",
       "      <td>4</td>\n",
       "      <td>7</td>\n",
       "      <td>JASON BEAUBIEN, BYLINE</td>\n",
       "      <td>Here on Abaco, roughly 50 Team Rubicon volunte...</td>\n",
       "      <td>Weekend Edition Sunday</td>\n",
       "      <td>Aid Group Of Veterans Assists In Bahamas</td>\n",
       "      <td>False</td>\n",
       "      <td>here on abaco roughly 50 team rubicon voluntee...</td>\n",
       "      <td>abaco roughly 50 team rubicon volunteer workin...</td>\n",
       "      <td>0.3818</td>\n",
       "      <td>Oct</td>\n",
       "      <td>2019</td>\n",
       "    </tr>\n",
       "    <tr>\n",
       "      <th>2019-10-06</th>\n",
       "      <td>4</td>\n",
       "      <td>8</td>\n",
       "      <td>JASON BEAUBIEN, BYLINE</td>\n",
       "      <td>A city official has stopped by their base at a...</td>\n",
       "      <td>Weekend Edition Sunday</td>\n",
       "      <td>Aid Group Of Veterans Assists In Bahamas</td>\n",
       "      <td>False</td>\n",
       "      <td>a city official has stopped by their base at a...</td>\n",
       "      <td>city official ha stopped base church school gu...</td>\n",
       "      <td>0.1280</td>\n",
       "      <td>Oct</td>\n",
       "      <td>2019</td>\n",
       "    </tr>\n",
       "    <tr>\n",
       "      <th>2019-10-06</th>\n",
       "      <td>4</td>\n",
       "      <td>9</td>\n",
       "      <td>BOB BLEDSOE</td>\n",
       "      <td>How can we help you?</td>\n",
       "      <td>Weekend Edition Sunday</td>\n",
       "      <td>Aid Group Of Veterans Assists In Bahamas</td>\n",
       "      <td>False</td>\n",
       "      <td>how can we help you ?</td>\n",
       "      <td>help ?</td>\n",
       "      <td>0.4019</td>\n",
       "      <td>Oct</td>\n",
       "      <td>2019</td>\n",
       "    </tr>\n",
       "  </tbody>\n",
       "</table>\n",
       "</div>"
      ],
      "text/plain": [
       "            episode_id  episode_order                    speaker  \\\n",
       "date                                                               \n",
       "2019-10-06           1              1  LULU GARCIA-NAVARRO, HOST   \n",
       "2019-10-06           1              2  LULU GARCIA-NAVARRO, HOST   \n",
       "2019-10-06           1              3       MARA LIASSON, BYLINE   \n",
       "2019-10-06           1              4  LULU GARCIA-NAVARRO, HOST   \n",
       "2019-10-06           1              5       MARA LIASSON, BYLINE   \n",
       "2019-10-06           1              6  LULU GARCIA-NAVARRO, HOST   \n",
       "2019-10-06           1              7       MARA LIASSON, BYLINE   \n",
       "2019-10-06           1              8  LULU GARCIA-NAVARRO, HOST   \n",
       "2019-10-06           1              9       MARA LIASSON, BYLINE   \n",
       "2019-10-06           1             10  LULU GARCIA-NAVARRO, HOST   \n",
       "2019-10-06           1             11       MARA LIASSON, BYLINE   \n",
       "2019-10-06           2              1  LULU GARCIA-NAVARRO, HOST   \n",
       "2019-10-06           2              2  LULU GARCIA-NAVARRO, HOST   \n",
       "2019-10-06           2              3  LULU GARCIA-NAVARRO, HOST   \n",
       "2019-10-06           2              4            ANNE DUNKELBERG   \n",
       "2019-10-06           2              5  LULU GARCIA-NAVARRO, HOST   \n",
       "2019-10-06           2              6            ANNE DUNKELBERG   \n",
       "2019-10-06           2              7  LULU GARCIA-NAVARRO, HOST   \n",
       "2019-10-06           2              8            ANNE DUNKELBERG   \n",
       "2019-10-06           2              9  LULU GARCIA-NAVARRO, HOST   \n",
       "2019-10-06           2             10            ANNE DUNKELBERG   \n",
       "2019-10-06           2             11  LULU GARCIA-NAVARRO, HOST   \n",
       "2019-10-06           2             12            ANNE DUNKELBERG   \n",
       "2019-10-06           2             13  LULU GARCIA-NAVARRO, HOST   \n",
       "2019-10-06           2             14            ANNE DUNKELBERG   \n",
       "2019-10-06           2             15  LULU GARCIA-NAVARRO, HOST   \n",
       "2019-10-06           2             16            ANNE DUNKELBERG   \n",
       "2019-10-06           3              1  LULU GARCIA-NAVARRO, HOST   \n",
       "2019-10-06           3              2  LULU GARCIA-NAVARRO, HOST   \n",
       "2019-10-06           3              3         EMILY FENG, BYLINE   \n",
       "2019-10-06           3              4  LULU GARCIA-NAVARRO, HOST   \n",
       "2019-10-06           3              5         EMILY FENG, BYLINE   \n",
       "2019-10-06           3              6         EMILY FENG, BYLINE   \n",
       "2019-10-06           3              7  LULU GARCIA-NAVARRO, HOST   \n",
       "2019-10-06           3              8         EMILY FENG, BYLINE   \n",
       "2019-10-06           3              9         EMILY FENG, BYLINE   \n",
       "2019-10-06           3             10                         HO   \n",
       "2019-10-06           3             11         EMILY FENG, BYLINE   \n",
       "2019-10-06           3             12  LULU GARCIA-NAVARRO, HOST   \n",
       "2019-10-06           3             13  LULU GARCIA-NAVARRO, HOST   \n",
       "2019-10-06           3             14         EMILY FENG, BYLINE   \n",
       "2019-10-06           4              1  LULU GARCIA-NAVARRO, HOST   \n",
       "2019-10-06           4              2     JASON BEAUBIEN, BYLINE   \n",
       "2019-10-06           4              3              JASON ROBERTS   \n",
       "2019-10-06           4              4     JASON BEAUBIEN, BYLINE   \n",
       "2019-10-06           4              5              JASON ROBERTS   \n",
       "2019-10-06           4              6     JASON BEAUBIEN, BYLINE   \n",
       "2019-10-06           4              7     JASON BEAUBIEN, BYLINE   \n",
       "2019-10-06           4              8     JASON BEAUBIEN, BYLINE   \n",
       "2019-10-06           4              9                BOB BLEDSOE   \n",
       "\n",
       "                                                    utterance  \\\n",
       "date                                                            \n",
       "2019-10-06  The impeachment inquiry picks up tomorrow wher...   \n",
       "2019-10-06                                      Good morning.   \n",
       "2019-10-06                                Good morning, Lulu.   \n",
       "2019-10-06                      All right. What's the latest?   \n",
       "2019-10-06  Well, the latest is that the lawyer for the fi...   \n",
       "2019-10-06  I mean, another whistleblower has got to be ba...   \n",
       "2019-10-06  No. This is kind of like a trail of bread crum...   \n",
       "2019-10-06  What his happening to his support among Republ...   \n",
       "2019-10-06  So far, most Republican lawmakers are shelteri...   \n",
       "2019-10-06  That's NPR political correspondent Mara Liasso...   \n",
       "2019-10-06                                         Thank you.   \n",
       "2019-10-06  President Trump has announced another new immi...   \n",
       "2019-10-06  We wanted to get a better understanding of how...   \n",
       "2019-10-06                                           Welcome.   \n",
       "2019-10-06                                      Good morning.   \n",
       "2019-10-06  How would this work? I mean, if you're a visit...   \n",
       "2019-10-06  It's a great question that we probably can't a...   \n",
       "2019-10-06  The other thing that confuses me a little bit ...   \n",
       "2019-10-06  You're absolutely right. Even for these short-...   \n",
       "2019-10-06  Getting insurance in this country is complicat...   \n",
       "2019-10-06  It sounds, frankly, more like the intention is...   \n",
       "2019-10-06  Your state, Texas, has one of the highest numb...   \n",
       "2019-10-06  Seventy-five percent, at least, of our uninsur...   \n",
       "2019-10-06  So when the president says that uninsured indi...   \n",
       "2019-10-06  Absolutely. The vast majority of uninsured Ame...   \n",
       "2019-10-06  That was Anne Dunkelberg of the Center for Pub...   \n",
       "2019-10-06                                   Thank you, Lulu.   \n",
       "2019-10-06  Now to Hong Kong, where anti-government protes...   \n",
       "2019-10-06  NPR's Beijing correspondent Emily Feng is in H...   \n",
       "2019-10-06  I'm on this major road in downtown Hong Kong, ...   \n",
       "2019-10-06  What did you see earlier today at these protes...   \n",
       "2019-10-06  Yeah. This is a pattern that we've seen over a...   \n",
       "2019-10-06  But today, again, the protest we saw at the ve...   \n",
       "2019-10-06  Tell us about the attitude of the protesters. ...   \n",
       "2019-10-06  They're obviously angry. I mean, this is the 1...   \n",
       "2019-10-06  One person I talked to today, an 18-year-old p...   \n",
       "2019-10-06                         (Foreign language spoken).   \n",
       "2019-10-06  He's saying that if the Hong Kong government c...   \n",
       "2019-10-06  That's NPR's Emily Feng, speaking to us from H...   \n",
       "2019-10-06                  Emily, thanks so much. Stay safe.   \n",
       "2019-10-06                                         Thank you.   \n",
       "2019-10-06  After Hurricane Dorian hit the Bahamas last mo...   \n",
       "2019-10-06  Hurricane Dorian turned large swaths of Marsh ...   \n",
       "2019-10-06  I didn't know this was a driveway when I walke...   \n",
       "2019-10-06  Team Rubicon brings its own tools - including ...   \n",
       "2019-10-06  There wasn't a ton of water damage in this sec...   \n",
       "2019-10-06  Roberts, like many of the Team Rubicon volunte...   \n",
       "2019-10-06  Here on Abaco, roughly 50 Team Rubicon volunte...   \n",
       "2019-10-06  A city official has stopped by their base at a...   \n",
       "2019-10-06                               How can we help you?   \n",
       "\n",
       "                           program                                     title  \\\n",
       "date                                                                           \n",
       "2019-10-06  Weekend Edition Sunday                           Sunday Politics   \n",
       "2019-10-06  Weekend Edition Sunday                           Sunday Politics   \n",
       "2019-10-06  Weekend Edition Sunday                           Sunday Politics   \n",
       "2019-10-06  Weekend Edition Sunday                           Sunday Politics   \n",
       "2019-10-06  Weekend Edition Sunday                           Sunday Politics   \n",
       "2019-10-06  Weekend Edition Sunday                           Sunday Politics   \n",
       "2019-10-06  Weekend Edition Sunday                           Sunday Politics   \n",
       "2019-10-06  Weekend Edition Sunday                           Sunday Politics   \n",
       "2019-10-06  Weekend Edition Sunday                           Sunday Politics   \n",
       "2019-10-06  Weekend Edition Sunday                           Sunday Politics   \n",
       "2019-10-06  Weekend Edition Sunday                           Sunday Politics   \n",
       "2019-10-06  Weekend Edition Sunday            How Immigrants Use Health Care   \n",
       "2019-10-06  Weekend Edition Sunday            How Immigrants Use Health Care   \n",
       "2019-10-06  Weekend Edition Sunday            How Immigrants Use Health Care   \n",
       "2019-10-06  Weekend Edition Sunday            How Immigrants Use Health Care   \n",
       "2019-10-06  Weekend Edition Sunday            How Immigrants Use Health Care   \n",
       "2019-10-06  Weekend Edition Sunday            How Immigrants Use Health Care   \n",
       "2019-10-06  Weekend Edition Sunday            How Immigrants Use Health Care   \n",
       "2019-10-06  Weekend Edition Sunday            How Immigrants Use Health Care   \n",
       "2019-10-06  Weekend Edition Sunday            How Immigrants Use Health Care   \n",
       "2019-10-06  Weekend Edition Sunday            How Immigrants Use Health Care   \n",
       "2019-10-06  Weekend Edition Sunday            How Immigrants Use Health Care   \n",
       "2019-10-06  Weekend Edition Sunday            How Immigrants Use Health Care   \n",
       "2019-10-06  Weekend Edition Sunday            How Immigrants Use Health Care   \n",
       "2019-10-06  Weekend Edition Sunday            How Immigrants Use Health Care   \n",
       "2019-10-06  Weekend Edition Sunday            How Immigrants Use Health Care   \n",
       "2019-10-06  Weekend Edition Sunday            How Immigrants Use Health Care   \n",
       "2019-10-06  Weekend Edition Sunday   Hong Kong Protesters Defy Face Mask Ban   \n",
       "2019-10-06  Weekend Edition Sunday   Hong Kong Protesters Defy Face Mask Ban   \n",
       "2019-10-06  Weekend Edition Sunday   Hong Kong Protesters Defy Face Mask Ban   \n",
       "2019-10-06  Weekend Edition Sunday   Hong Kong Protesters Defy Face Mask Ban   \n",
       "2019-10-06  Weekend Edition Sunday   Hong Kong Protesters Defy Face Mask Ban   \n",
       "2019-10-06  Weekend Edition Sunday   Hong Kong Protesters Defy Face Mask Ban   \n",
       "2019-10-06  Weekend Edition Sunday   Hong Kong Protesters Defy Face Mask Ban   \n",
       "2019-10-06  Weekend Edition Sunday   Hong Kong Protesters Defy Face Mask Ban   \n",
       "2019-10-06  Weekend Edition Sunday   Hong Kong Protesters Defy Face Mask Ban   \n",
       "2019-10-06  Weekend Edition Sunday   Hong Kong Protesters Defy Face Mask Ban   \n",
       "2019-10-06  Weekend Edition Sunday   Hong Kong Protesters Defy Face Mask Ban   \n",
       "2019-10-06  Weekend Edition Sunday   Hong Kong Protesters Defy Face Mask Ban   \n",
       "2019-10-06  Weekend Edition Sunday   Hong Kong Protesters Defy Face Mask Ban   \n",
       "2019-10-06  Weekend Edition Sunday   Hong Kong Protesters Defy Face Mask Ban   \n",
       "2019-10-06  Weekend Edition Sunday  Aid Group Of Veterans Assists In Bahamas   \n",
       "2019-10-06  Weekend Edition Sunday  Aid Group Of Veterans Assists In Bahamas   \n",
       "2019-10-06  Weekend Edition Sunday  Aid Group Of Veterans Assists In Bahamas   \n",
       "2019-10-06  Weekend Edition Sunday  Aid Group Of Veterans Assists In Bahamas   \n",
       "2019-10-06  Weekend Edition Sunday  Aid Group Of Veterans Assists In Bahamas   \n",
       "2019-10-06  Weekend Edition Sunday  Aid Group Of Veterans Assists In Bahamas   \n",
       "2019-10-06  Weekend Edition Sunday  Aid Group Of Veterans Assists In Bahamas   \n",
       "2019-10-06  Weekend Edition Sunday  Aid Group Of Veterans Assists In Bahamas   \n",
       "2019-10-06  Weekend Edition Sunday  Aid Group Of Veterans Assists In Bahamas   \n",
       "\n",
       "            is_host                                              clean  \\\n",
       "date                                                                     \n",
       "2019-10-06    False  the impeachment inquiry picks up tomorrow wher...   \n",
       "2019-10-06    False                                     good morning .   \n",
       "2019-10-06    False                                good morning lulu .   \n",
       "2019-10-06    False                     all right. what s the latest ?   \n",
       "2019-10-06    False  well the latest is that the lawyer for the fir...   \n",
       "2019-10-06    False  i mean another whistleblower has got to be bad...   \n",
       "2019-10-06    False  no. this is kind of like a trail of bread crum...   \n",
       "2019-10-06    False  what his happening to his support among republ...   \n",
       "2019-10-06    False  so far most republican lawmakers are shelterin...   \n",
       "2019-10-06    False  that s npr political correspondent mara liasso...   \n",
       "2019-10-06    False                                        thank you .   \n",
       "2019-10-06    False  president trump has announced another new immi...   \n",
       "2019-10-06    False  we wanted to get a better understanding of how...   \n",
       "2019-10-06    False                                          welcome .   \n",
       "2019-10-06    False                                     good morning .   \n",
       "2019-10-06    False  how would this work ? i mean if you re a visit...   \n",
       "2019-10-06    False  it s a great question that we probably can t a...   \n",
       "2019-10-06    False  the other thing that confuses me a little bit ...   \n",
       "2019-10-06    False  you re absolutely right. even for these short ...   \n",
       "2019-10-06    False  getting insurance in this country is complicat...   \n",
       "2019-10-06    False  it sounds frankly more like the intention is f...   \n",
       "2019-10-06    False  your state texas has one of the highest number...   \n",
       "2019-10-06    False  seventy five percent at least of our uninsured...   \n",
       "2019-10-06    False  so when the president says that uninsured indi...   \n",
       "2019-10-06    False  absolutely. the vast majority of uninsured ame...   \n",
       "2019-10-06    False  that was anne dunkelberg of the center for pub...   \n",
       "2019-10-06    False                                   thank you lulu .   \n",
       "2019-10-06    False  now to hong kong where anti government protest...   \n",
       "2019-10-06    False  npr s beijing correspondent emily feng is in h...   \n",
       "2019-10-06    False  i m on this major road in downtown hong kong a...   \n",
       "2019-10-06    False  what did you see earlier today at these protes...   \n",
       "2019-10-06    False  yeah. this is a pattern that we ve seen over a...   \n",
       "2019-10-06    False  but today again the protest we saw at the very...   \n",
       "2019-10-06    False  tell us about the attitude of the protesters. ...   \n",
       "2019-10-06    False  they re obviously angry. i mean this is the 18...   \n",
       "2019-10-06    False  one person i talked to today an 18 year old pr...   \n",
       "2019-10-06    False                          foreign language spoken .   \n",
       "2019-10-06    False  he s saying that if the hong kong government c...   \n",
       "2019-10-06    False  that s npr s emily feng speaking to us from ho...   \n",
       "2019-10-06    False                  emily thanks so much. stay safe .   \n",
       "2019-10-06    False                                        thank you .   \n",
       "2019-10-06    False  after hurricane dorian hit the bahamas last mo...   \n",
       "2019-10-06    False  hurricane dorian turned large swaths of marsh ...   \n",
       "2019-10-06    False  i didn t know this was a driveway when i walke...   \n",
       "2019-10-06    False  team rubicon brings its own tools including ch...   \n",
       "2019-10-06    False  there wasn t a ton of water damage in this sec...   \n",
       "2019-10-06    False  roberts like many of the team rubicon voluntee...   \n",
       "2019-10-06    False  here on abaco roughly 50 team rubicon voluntee...   \n",
       "2019-10-06    False  a city official has stopped by their base at a...   \n",
       "2019-10-06    False                              how can we help you ?   \n",
       "\n",
       "                                           lemmatized_stopped  vader_stopped  \\\n",
       "date                                                                           \n",
       "2019-10-06  impeachment inquiry pick tomorrow left friday ...        -0.5267   \n",
       "2019-10-06                                     good morning .         0.4404   \n",
       "2019-10-06                                good morning lulu .         0.4404   \n",
       "2019-10-06                                    right. latest ?         0.0000   \n",
       "2019-10-06  well latest lawyer first whistleblower tweetin...         0.8402   \n",
       "2019-10-06  mean another whistleblower ha got bad news pre...         0.1027   \n",
       "2019-10-06  no. kind like trail bread crumbs. revelation l...         0.9153   \n",
       "2019-10-06  happening support among republican lawmaker ma...         0.6662   \n",
       "2019-10-06  far republican lawmaker sheltering place usual...        -0.6705   \n",
       "2019-10-06  npr political correspondent mara liasson. thank .         0.3612   \n",
       "2019-10-06                                            thank .         0.3612   \n",
       "2019-10-06  president trump ha announced another new immig...         0.9451   \n",
       "2019-10-06  wanted get better understanding immigrant use ...         0.9169   \n",
       "2019-10-06                                          welcome .         0.4588   \n",
       "2019-10-06                                     good morning .         0.4404   \n",
       "2019-10-06  would work ? mean visitor traveling would obvi...        -0.6072   \n",
       "2019-10-06  great question probably answer. sound like kno...         0.8885   \n",
       "2019-10-06  thing confuses little bit seems like additiona...         0.4091   \n",
       "2019-10-06  absolutely right. even short term visitor type...         0.0000   \n",
       "2019-10-06  getting insurance country complicated american...        -0.2500   \n",
       "2019-10-06  sound frankly like intention optic policy much...         0.5994   \n",
       "2019-10-06  state texas ha one highest number uninsured pe...         0.4019   \n",
       "2019-10-06  seventy five percent least uninsured u.s. citi...         0.6249   \n",
       "2019-10-06  president say uninsured individual immigrant b...        -0.3818   \n",
       "2019-10-06  absolutely. vast majority uninsured american u...         0.4767   \n",
       "2019-10-06  wa anne dunkelberg center public policy priori...         0.3612   \n",
       "2019-10-06                                       thank lulu .         0.3612   \n",
       "2019-10-06  hong kong anti government protest 18th week. t...        -0.9042   \n",
       "2019-10-06  npr beijing correspondent emily feng hong kong...         0.0000   \n",
       "2019-10-06  major road downtown hong kong overpass couple ...        -0.8610   \n",
       "2019-10-06  see earlier today protest ? mean scene describ...         0.2263   \n",
       "2019-10-06  yeah. pattern seen peaceful march happen day q...        -0.9601   \n",
       "2019-10-06  today protest saw beginning day saw ten thousa...        -0.9509   \n",
       "2019-10-06  tell u attitude protesters. mean hear thing go...        -0.2263   \n",
       "2019-10-06  obviously angry. mean 18th week protest far. f...        -0.9693   \n",
       "2019-10-06  one person talked today 18 year old protester ...         0.0000   \n",
       "2019-10-06                          foreign language spoken .         0.0000   \n",
       "2019-10-06  saying hong kong government use emergency powe...         0.5106   \n",
       "2019-10-06              npr emily feng speaking u hong kong .         0.0000   \n",
       "2019-10-06                     emily thanks much. stay safe .         0.7003   \n",
       "2019-10-06                                            thank .         0.3612   \n",
       "2019-10-06  hurricane dorian hit bahamas last month dozen ...         0.4588   \n",
       "2019-10-06  hurricane dorian turned large swath marsh harb...        -0.8979   \n",
       "2019-10-06                          know wa driveway walked .         0.0000   \n",
       "2019-10-06  team rubicon brings tool including chainsaw tr...         0.3400   \n",
       "2019-10-06  ton water damage section house wind blew ceili...        -0.4939   \n",
       "2019-10-06  robert like many team rubicon volunteer served...         0.6369   \n",
       "2019-10-06  abaco roughly 50 team rubicon volunteer workin...         0.3818   \n",
       "2019-10-06  city official ha stopped base church school gu...         0.1280   \n",
       "2019-10-06                                             help ?         0.4019   \n",
       "\n",
       "           month  year  \n",
       "date                    \n",
       "2019-10-06   Oct  2019  \n",
       "2019-10-06   Oct  2019  \n",
       "2019-10-06   Oct  2019  \n",
       "2019-10-06   Oct  2019  \n",
       "2019-10-06   Oct  2019  \n",
       "2019-10-06   Oct  2019  \n",
       "2019-10-06   Oct  2019  \n",
       "2019-10-06   Oct  2019  \n",
       "2019-10-06   Oct  2019  \n",
       "2019-10-06   Oct  2019  \n",
       "2019-10-06   Oct  2019  \n",
       "2019-10-06   Oct  2019  \n",
       "2019-10-06   Oct  2019  \n",
       "2019-10-06   Oct  2019  \n",
       "2019-10-06   Oct  2019  \n",
       "2019-10-06   Oct  2019  \n",
       "2019-10-06   Oct  2019  \n",
       "2019-10-06   Oct  2019  \n",
       "2019-10-06   Oct  2019  \n",
       "2019-10-06   Oct  2019  \n",
       "2019-10-06   Oct  2019  \n",
       "2019-10-06   Oct  2019  \n",
       "2019-10-06   Oct  2019  \n",
       "2019-10-06   Oct  2019  \n",
       "2019-10-06   Oct  2019  \n",
       "2019-10-06   Oct  2019  \n",
       "2019-10-06   Oct  2019  \n",
       "2019-10-06   Oct  2019  \n",
       "2019-10-06   Oct  2019  \n",
       "2019-10-06   Oct  2019  \n",
       "2019-10-06   Oct  2019  \n",
       "2019-10-06   Oct  2019  \n",
       "2019-10-06   Oct  2019  \n",
       "2019-10-06   Oct  2019  \n",
       "2019-10-06   Oct  2019  \n",
       "2019-10-06   Oct  2019  \n",
       "2019-10-06   Oct  2019  \n",
       "2019-10-06   Oct  2019  \n",
       "2019-10-06   Oct  2019  \n",
       "2019-10-06   Oct  2019  \n",
       "2019-10-06   Oct  2019  \n",
       "2019-10-06   Oct  2019  \n",
       "2019-10-06   Oct  2019  \n",
       "2019-10-06   Oct  2019  \n",
       "2019-10-06   Oct  2019  \n",
       "2019-10-06   Oct  2019  \n",
       "2019-10-06   Oct  2019  \n",
       "2019-10-06   Oct  2019  \n",
       "2019-10-06   Oct  2019  \n",
       "2019-10-06   Oct  2019  "
      ]
     },
     "execution_count": 59,
     "metadata": {},
     "output_type": "execute_result"
    }
   ],
   "source": [
    "df.sort_values(by=['episode_id','episode_order'])[0:50]"
   ]
  },
  {
   "cell_type": "markdown",
   "id": "22a36cff",
   "metadata": {},
   "source": [
    "### Ok, for the first time I'm seeing clearly how the episodes are in fact ordered by 'story' (episode_id) and then ordered by utterance within the story\n",
    "\n",
    "### This is great, bc it's what is going to make topic modeling possible down the line"
   ]
  },
  {
   "cell_type": "markdown",
   "id": "e83e217e",
   "metadata": {},
   "source": [
    "# First...\n",
    "- Let's do a tsa model of sentiment using Prophet : )"
   ]
  },
  {
   "cell_type": "code",
   "execution_count": 60,
   "id": "3242c49c",
   "metadata": {},
   "outputs": [
    {
     "data": {
      "text/plain": [
       "Index(['episode_id', 'episode_order', 'speaker', 'utterance', 'program',\n",
       "       'title', 'is_host', 'clean', 'lemmatized_stopped', 'vader_stopped',\n",
       "       'month', 'year'],\n",
       "      dtype='object')"
      ]
     },
     "execution_count": 60,
     "metadata": {},
     "output_type": "execute_result"
    }
   ],
   "source": [
    "df.columns"
   ]
  },
  {
   "cell_type": "code",
   "execution_count": 61,
   "id": "6d6f23d2",
   "metadata": {},
   "outputs": [],
   "source": [
    "for_prophet_df= pd.DataFrame(df['vader_stopped'])"
   ]
  },
  {
   "cell_type": "code",
   "execution_count": 62,
   "id": "d3acbaa1",
   "metadata": {},
   "outputs": [
    {
     "data": {
      "text/html": [
       "<div>\n",
       "<style scoped>\n",
       "    .dataframe tbody tr th:only-of-type {\n",
       "        vertical-align: middle;\n",
       "    }\n",
       "\n",
       "    .dataframe tbody tr th {\n",
       "        vertical-align: top;\n",
       "    }\n",
       "\n",
       "    .dataframe thead th {\n",
       "        text-align: right;\n",
       "    }\n",
       "</style>\n",
       "<table border=\"1\" class=\"dataframe\">\n",
       "  <thead>\n",
       "    <tr style=\"text-align: right;\">\n",
       "      <th></th>\n",
       "      <th>vader_stopped</th>\n",
       "    </tr>\n",
       "    <tr>\n",
       "      <th>date</th>\n",
       "      <th></th>\n",
       "    </tr>\n",
       "  </thead>\n",
       "  <tbody>\n",
       "    <tr>\n",
       "      <th>1999-01-08</th>\n",
       "      <td>0.5994</td>\n",
       "    </tr>\n",
       "    <tr>\n",
       "      <th>1999-01-08</th>\n",
       "      <td>0.0000</td>\n",
       "    </tr>\n",
       "    <tr>\n",
       "      <th>1999-01-08</th>\n",
       "      <td>0.4019</td>\n",
       "    </tr>\n",
       "    <tr>\n",
       "      <th>1999-01-08</th>\n",
       "      <td>0.0000</td>\n",
       "    </tr>\n",
       "    <tr>\n",
       "      <th>1999-01-08</th>\n",
       "      <td>0.4019</td>\n",
       "    </tr>\n",
       "  </tbody>\n",
       "</table>\n",
       "</div>"
      ],
      "text/plain": [
       "            vader_stopped\n",
       "date                     \n",
       "1999-01-08         0.5994\n",
       "1999-01-08         0.0000\n",
       "1999-01-08         0.4019\n",
       "1999-01-08         0.0000\n",
       "1999-01-08         0.4019"
      ]
     },
     "execution_count": 62,
     "metadata": {},
     "output_type": "execute_result"
    }
   ],
   "source": [
    "for_prophet_df.head()"
   ]
  },
  {
   "cell_type": "code",
   "execution_count": 63,
   "id": "7b655403",
   "metadata": {},
   "outputs": [
    {
     "data": {
      "text/plain": [
       "2007    338513\n",
       "2006    311943\n",
       "2008    308217\n",
       "2009    260834\n",
       "2010    252092\n",
       "2011    229859\n",
       "2012    229095\n",
       "2005    188440\n",
       "2013    177268\n",
       "2018    129040\n",
       "2017    127144\n",
       "2016    120968\n",
       "2014    112212\n",
       "2015    108735\n",
       "2019    103607\n",
       "2004       355\n",
       "1999        25\n",
       "Name: date, dtype: int64"
      ]
     },
     "execution_count": 63,
     "metadata": {},
     "output_type": "execute_result"
    }
   ],
   "source": [
    "# for_prophet_df.resample('Y').mean()\n",
    "for_prophet_df.index.year.value_counts()"
   ]
  },
  {
   "cell_type": "markdown",
   "id": "79a8a423",
   "metadata": {},
   "source": [
    "- there is NOTHING in there fro 2000 to 2003\n",
    "- 2004 barely a thing"
   ]
  },
  {
   "cell_type": "code",
   "execution_count": 64,
   "id": "5856d510",
   "metadata": {},
   "outputs": [
    {
     "data": {
      "text/plain": [
       "((2517208, 1), (248112, 1), (232647, 1))"
      ]
     },
     "execution_count": 64,
     "metadata": {},
     "output_type": "execute_result"
    }
   ],
   "source": [
    "train = for_prophet_df['2005':'2015']\n",
    "validate = for_prophet_df['2016':'2017']\n",
    "test = for_prophet_df['2018':]\n",
    "train.shape, validate.shape, test.shape"
   ]
  },
  {
   "cell_type": "markdown",
   "id": "0e9e3e14",
   "metadata": {},
   "source": [
    "- I've dropped all observations prior to 2005 in this split due to the problem with the data"
   ]
  },
  {
   "cell_type": "code",
   "execution_count": 65,
   "id": "9612ab15",
   "metadata": {},
   "outputs": [
    {
     "data": {
      "text/plain": [
       "(            vader_stopped\n",
       " date                     \n",
       " 2015-12-31         0.6705,\n",
       "             vader_stopped\n",
       " date                     \n",
       " 2016-01-01         0.3612,\n",
       "             vader_stopped\n",
       " date                     \n",
       " 2017-12-31         0.2023,\n",
       "             vader_stopped\n",
       " date                     \n",
       " 2018-01-01         0.2732)"
      ]
     },
     "execution_count": 65,
     "metadata": {},
     "output_type": "execute_result"
    }
   ],
   "source": [
    "train[-1:], validate[:1], validate[-1:], test[:1]"
   ]
  },
  {
   "cell_type": "markdown",
   "id": "36ed85c6",
   "metadata": {},
   "source": [
    "- the splits look good"
   ]
  },
  {
   "cell_type": "code",
   "execution_count": 66,
   "id": "0817d6a1",
   "metadata": {},
   "outputs": [
    {
     "data": {
      "image/png": "[encoded data removed]",
      "text/plain": [
       "<Figure size 864x288 with 1 Axes>"
      ]
     },
     "metadata": {
      "needs_background": "light"
     },
     "output_type": "display_data"
    }
   ],
   "source": [
    "# for col in prophet_train.columns:\n",
    "plt.figure(figsize=(12,4))\n",
    "plt.plot(train.resample('M').vader_stopped.mean())\n",
    "plt.plot(validate.resample('M').vader_stopped.mean())\n",
    "plt.plot(test.resample('M').vader_stopped.mean())\n",
    "plt.ylabel('Sentiment Score')\n",
    "plt.title('Time Series Plot of Sentiment, by Train/Validate/Test')\n",
    "plt.legend(labels = [\"Train\",\"Validate\",\"Test\"])\n",
    "plt.show()"
   ]
  },
  {
   "cell_type": "code",
   "execution_count": 67,
   "id": "802dc990",
   "metadata": {},
   "outputs": [
    {
     "data": {
      "text/plain": [
       "<AxesSubplot:xlabel='Lag', ylabel='Autocorrelation'>"
      ]
     },
     "execution_count": 67,
     "metadata": {},
     "output_type": "execute_result"
    },
    {
     "data": {
      "image/png": "[encoded data removed]",
      "text/plain": [
       "<Figure size 432x288 with 1 Axes>"
      ]
     },
     "metadata": {
      "needs_background": "light"
     },
     "output_type": "display_data"
    }
   ],
   "source": [
    "pd.plotting.autocorrelation_plot(train.resample('y').mean())"
   ]
  },
  {
   "cell_type": "markdown",
   "id": "6f711f6c",
   "metadata": {},
   "source": [
    "- There doesn't look to be any seasonality to speak of--try running the autocorrelation_plot with different resmample lengths\n",
    "- from the curriculum:\n",
    "    - \"The dashed lines are a way measure whether the observed autocorrelation is a meaningful signal or just white noise. If the majority of the peaks and valleys fall within the dashed lines, the time series is probably white noise.\""
   ]
  },
  {
   "cell_type": "code",
   "execution_count": 68,
   "id": "6aa7ce15",
   "metadata": {},
   "outputs": [],
   "source": [
    "import statsmodels.api as sm\n",
    "from statsmodels.tsa.api import Holt"
   ]
  },
  {
   "cell_type": "code",
   "execution_count": 69,
   "id": "40028ada",
   "metadata": {},
   "outputs": [
    {
     "data": {
      "text/plain": [
       "<AxesSubplot:xlabel='date'>"
      ]
     },
     "execution_count": 69,
     "metadata": {},
     "output_type": "execute_result"
    },
    {
     "data": {
      "image/png": "[encoded data removed]",
      "text/plain": [
       "<Figure size 432x288 with 1 Axes>"
      ]
     },
     "metadata": {
      "needs_background": "light"
     },
     "output_type": "display_data"
    }
   ],
   "source": [
    "# prophet_train.dropna(axis=0, how='any')\n",
    "train.dropna(axis=0, how='any').resample('M').mean().plot()"
   ]
  },
  {
   "cell_type": "code",
   "execution_count": 70,
   "id": "42da1713",
   "metadata": {
    "scrolled": true
   },
   "outputs": [],
   "source": [
    "# sm.tsa.seasonal_decompose(prophet_train.dropna(axis=0, how='any').resample('M').mean()).plot()\n",
    "\n",
    "## No way to draw a decomposition graph due to null values or something\n"
   ]
  },
  {
   "cell_type": "markdown",
   "id": "65015803",
   "metadata": {},
   "source": [
    "### Simple Average Model"
   ]
  },
  {
   "cell_type": "code",
   "execution_count": 71,
   "id": "907caee9",
   "metadata": {},
   "outputs": [],
   "source": [
    "from sklearn.metrics import mean_squared_error\n",
    "from math import sqrt"
   ]
  },
  {
   "cell_type": "code",
   "execution_count": 72,
   "id": "e5e3d3f9",
   "metadata": {},
   "outputs": [],
   "source": [
    "# Create the empty dataframe\n",
    "eval_df = pd.DataFrame(columns=['model_type', 'target_var', 'rmse'])\n",
    "\n",
    "# function to store rmse for comparison purposes\n",
    "def append_eval_df(model_type, target_var):\n",
    "    rmse = evaluate(target_var)\n",
    "    d = {'model_type': [model_type], 'target_var': [target_var], 'rmse': [rmse]}\n",
    "    d = pd.DataFrame(d)\n",
    "    return eval_df.append(d, ignore_index = True)"
   ]
  },
  {
   "cell_type": "code",
   "execution_count": 73,
   "id": "b2b4c58f",
   "metadata": {},
   "outputs": [],
   "source": [
    "# evaluation function to compute rmse\n",
    "def evaluate(target_var):\n",
    "    rmse = round(sqrt(mean_squared_error(validate[target_var], yhat_df[target_var])), 4)\n",
    "    return rmse"
   ]
  },
  {
   "cell_type": "code",
   "execution_count": 74,
   "id": "4b3340ab",
   "metadata": {},
   "outputs": [],
   "source": [
    "score = round(train['vader_stopped'].mean(), 4)\n",
    "\n",
    "def make_predictions():\n",
    "    yhat_df = pd.DataFrame({'vader_stopped': score}, index = validate.index)\n",
    "\n",
    "    return yhat_df\n",
    "\n",
    "yhat_df = make_predictions()"
   ]
  },
  {
   "cell_type": "code",
   "execution_count": 84,
   "id": "8c15e59f",
   "metadata": {},
   "outputs": [],
   "source": [
    "# plot and evaluate \n",
    "def plot_and_eval(target_var):\n",
    "    plt.figure(figsize = (12,4))\n",
    "    plt.plot(train[target_var].resample('M').mean(), label = 'Train', linewidth = 1)\n",
    "    plt.plot(validate[target_var].resample('M').mean(), label = 'Validate', linewidth = 1)\n",
    "    plt.plot(yhat_df[target_var])\n",
    "    plt.title(target_var)\n",
    "    rmse = evaluate(target_var)\n",
    "    print(target_var, '-- RMSE: {:.4f}'.format(rmse))\n",
    "    plt.show()"
   ]
  },
  {
   "cell_type": "code",
   "execution_count": 99,
   "id": "c762f5d6",
   "metadata": {},
   "outputs": [],
   "source": [
    "# plot and evaluate \n",
    "def plot_and_eval_2(target_var,model_type):\n",
    "    plt.figure(figsize = (12,4))\n",
    "    plt.plot(train[target_var].resample('M').mean(), label = 'Train', linewidth = 1)\n",
    "    plt.plot(validate[target_var].resample('M').mean(), label = 'Validate', linewidth = 1)\n",
    "    plt.plot(yhat_df[target_var])\n",
    "    plt.title(f\"{target_var}, {model_type}\")\n",
    "    rmse = evaluate(target_var)\n",
    "    print(target_var, '-- RMSE: {:.4f}'.format(rmse))\n",
    "    plt.show()"
   ]
  },
  {
   "cell_type": "code",
   "execution_count": 85,
   "id": "c6f207f3",
   "metadata": {},
   "outputs": [
    {
     "data": {
      "text/html": [
       "<div>\n",
       "<style scoped>\n",
       "    .dataframe tbody tr th:only-of-type {\n",
       "        vertical-align: middle;\n",
       "    }\n",
       "\n",
       "    .dataframe tbody tr th {\n",
       "        vertical-align: top;\n",
       "    }\n",
       "\n",
       "    .dataframe thead th {\n",
       "        text-align: right;\n",
       "    }\n",
       "</style>\n",
       "<table border=\"1\" class=\"dataframe\">\n",
       "  <thead>\n",
       "    <tr style=\"text-align: right;\">\n",
       "      <th></th>\n",
       "      <th>vader_stopped</th>\n",
       "    </tr>\n",
       "    <tr>\n",
       "      <th>date</th>\n",
       "      <th></th>\n",
       "    </tr>\n",
       "  </thead>\n",
       "  <tbody>\n",
       "    <tr>\n",
       "      <th>2016-01-01</th>\n",
       "      <td>0.1599</td>\n",
       "    </tr>\n",
       "    <tr>\n",
       "      <th>2016-01-01</th>\n",
       "      <td>0.1599</td>\n",
       "    </tr>\n",
       "    <tr>\n",
       "      <th>2016-01-01</th>\n",
       "      <td>0.1599</td>\n",
       "    </tr>\n",
       "    <tr>\n",
       "      <th>2016-01-01</th>\n",
       "      <td>0.1599</td>\n",
       "    </tr>\n",
       "    <tr>\n",
       "      <th>2016-01-01</th>\n",
       "      <td>0.1599</td>\n",
       "    </tr>\n",
       "  </tbody>\n",
       "</table>\n",
       "</div>"
      ],
      "text/plain": [
       "            vader_stopped\n",
       "date                     \n",
       "2016-01-01         0.1599\n",
       "2016-01-01         0.1599\n",
       "2016-01-01         0.1599\n",
       "2016-01-01         0.1599\n",
       "2016-01-01         0.1599"
      ]
     },
     "execution_count": 85,
     "metadata": {},
     "output_type": "execute_result"
    }
   ],
   "source": [
    "yhat_df.head()"
   ]
  },
  {
   "cell_type": "code",
   "execution_count": 86,
   "id": "85069f2d",
   "metadata": {},
   "outputs": [
    {
     "name": "stdout",
     "output_type": "stream",
     "text": [
      "vader_stopped -- RMSE: 0.4741\n"
     ]
    },
    {
     "data": {
      "image/png": "[encoded data removed]",
      "text/plain": [
       "<Figure size 864x288 with 1 Axes>"
      ]
     },
     "metadata": {
      "needs_background": "light"
     },
     "output_type": "display_data"
    }
   ],
   "source": [
    "plot_and_eval('vader_stopped')"
   ]
  },
  {
   "cell_type": "code",
   "execution_count": 87,
   "id": "430baa73",
   "metadata": {},
   "outputs": [],
   "source": [
    "eval_df = append_eval_df(model_type='simple_average', \n",
    "                             target_var = 'vader_stopped')"
   ]
  },
  {
   "cell_type": "code",
   "execution_count": 88,
   "id": "17dab016",
   "metadata": {},
   "outputs": [
    {
     "data": {
      "text/html": [
       "<div>\n",
       "<style scoped>\n",
       "    .dataframe tbody tr th:only-of-type {\n",
       "        vertical-align: middle;\n",
       "    }\n",
       "\n",
       "    .dataframe tbody tr th {\n",
       "        vertical-align: top;\n",
       "    }\n",
       "\n",
       "    .dataframe thead th {\n",
       "        text-align: right;\n",
       "    }\n",
       "</style>\n",
       "<table border=\"1\" class=\"dataframe\">\n",
       "  <thead>\n",
       "    <tr style=\"text-align: right;\">\n",
       "      <th></th>\n",
       "      <th>model_type</th>\n",
       "      <th>target_var</th>\n",
       "      <th>rmse</th>\n",
       "    </tr>\n",
       "  </thead>\n",
       "  <tbody>\n",
       "    <tr>\n",
       "      <th>0</th>\n",
       "      <td>simple_average</td>\n",
       "      <td>vader_stopped</td>\n",
       "      <td>0.4729</td>\n",
       "    </tr>\n",
       "    <tr>\n",
       "      <th>1</th>\n",
       "      <td>3_month moving average</td>\n",
       "      <td>vader_stopped</td>\n",
       "      <td>0.6108</td>\n",
       "    </tr>\n",
       "    <tr>\n",
       "      <th>2</th>\n",
       "      <td>6_month moving average</td>\n",
       "      <td>vader_stopped</td>\n",
       "      <td>0.4815</td>\n",
       "    </tr>\n",
       "    <tr>\n",
       "      <th>3</th>\n",
       "      <td>9_month moving average</td>\n",
       "      <td>vader_stopped</td>\n",
       "      <td>0.5675</td>\n",
       "    </tr>\n",
       "    <tr>\n",
       "      <th>4</th>\n",
       "      <td>12_month moving average</td>\n",
       "      <td>vader_stopped</td>\n",
       "      <td>0.5417</td>\n",
       "    </tr>\n",
       "    <tr>\n",
       "      <th>5</th>\n",
       "      <td>30 month moving average</td>\n",
       "      <td>vader_stopped</td>\n",
       "      <td>0.5025</td>\n",
       "    </tr>\n",
       "    <tr>\n",
       "      <th>6</th>\n",
       "      <td>60 month moving average</td>\n",
       "      <td>vader_stopped</td>\n",
       "      <td>0.4816</td>\n",
       "    </tr>\n",
       "    <tr>\n",
       "      <th>7</th>\n",
       "      <td>90 month moving average</td>\n",
       "      <td>vader_stopped</td>\n",
       "      <td>0.4801</td>\n",
       "    </tr>\n",
       "    <tr>\n",
       "      <th>8</th>\n",
       "      <td>365 month moving average</td>\n",
       "      <td>vader_stopped</td>\n",
       "      <td>0.4741</td>\n",
       "    </tr>\n",
       "    <tr>\n",
       "      <th>9</th>\n",
       "      <td>simple_average</td>\n",
       "      <td>vader_stopped</td>\n",
       "      <td>0.4741</td>\n",
       "    </tr>\n",
       "  </tbody>\n",
       "</table>\n",
       "</div>"
      ],
      "text/plain": [
       "                 model_type     target_var    rmse\n",
       "0            simple_average  vader_stopped  0.4729\n",
       "1    3_month moving average  vader_stopped  0.6108\n",
       "2    6_month moving average  vader_stopped  0.4815\n",
       "3    9_month moving average  vader_stopped  0.5675\n",
       "4   12_month moving average  vader_stopped  0.5417\n",
       "5   30 month moving average  vader_stopped  0.5025\n",
       "6   60 month moving average  vader_stopped  0.4816\n",
       "7   90 month moving average  vader_stopped  0.4801\n",
       "8  365 month moving average  vader_stopped  0.4741\n",
       "9            simple_average  vader_stopped  0.4741"
      ]
     },
     "execution_count": 88,
     "metadata": {},
     "output_type": "execute_result"
    }
   ],
   "source": [
    "eval_df"
   ]
  },
  {
   "cell_type": "markdown",
   "id": "fe1d6304",
   "metadata": {},
   "source": [
    "### Moving Average"
   ]
  },
  {
   "cell_type": "code",
   "execution_count": 89,
   "id": "e17f3a99",
   "metadata": {},
   "outputs": [
    {
     "data": {
      "text/plain": [
       "date\n",
       "2005-01-11         NaN\n",
       "2005-01-11         NaN\n",
       "2005-01-11    0.370500\n",
       "2005-01-11    0.685833\n",
       "2005-01-11    0.716500\n",
       "                ...   \n",
       "2015-12-31   -0.090567\n",
       "2015-12-31    0.400100\n",
       "2015-12-31    0.085200\n",
       "2015-12-31   -0.157800\n",
       "2015-12-31   -0.191533\n",
       "Name: vader_stopped, Length: 2517208, dtype: float64"
      ]
     },
     "execution_count": 89,
     "metadata": {},
     "output_type": "execute_result"
    }
   ],
   "source": [
    "train['vader_stopped'].rolling(3).mean()"
   ]
  },
  {
   "cell_type": "code",
   "execution_count": null,
   "id": "bdd9aeb1",
   "metadata": {},
   "outputs": [],
   "source": []
  },
  {
   "cell_type": "code",
   "execution_count": 100,
   "id": "2e9358be",
   "metadata": {},
   "outputs": [
    {
     "name": "stdout",
     "output_type": "stream",
     "text": [
      "vader_stopped -- RMSE: 0.5025\n"
     ]
    },
    {
     "data": {
      "image/png": "[encoded data removed]",
      "text/plain": [
       "<Figure size 864x288 with 1 Axes>"
      ]
     },
     "metadata": {
      "needs_background": "light"
     },
     "output_type": "display_data"
    },
    {
     "name": "stdout",
     "output_type": "stream",
     "text": [
      "vader_stopped -- RMSE: 0.4816\n"
     ]
    },
    {
     "data": {
      "image/png": "[encoded data removed]",
      "text/plain": [
       "<Figure size 864x288 with 1 Axes>"
      ]
     },
     "metadata": {
      "needs_background": "light"
     },
     "output_type": "display_data"
    },
    {
     "name": "stdout",
     "output_type": "stream",
     "text": [
      "vader_stopped -- RMSE: 0.4801\n"
     ]
    },
    {
     "data": {
      "image/png": "[encoded data removed]",
      "text/plain": [
       "<Figure size 864x288 with 1 Axes>"
      ]
     },
     "metadata": {
      "needs_background": "light"
     },
     "output_type": "display_data"
    },
    {
     "name": "stdout",
     "output_type": "stream",
     "text": [
      "vader_stopped -- RMSE: 0.4741\n"
     ]
    },
    {
     "data": {
      "image/png": "[encoded data removed]",
      "text/plain": [
       "<Figure size 864x288 with 1 Axes>"
      ]
     },
     "metadata": {
      "needs_background": "light"
     },
     "output_type": "display_data"
    },
    {
     "data": {
      "text/html": [
       "<div>\n",
       "<style scoped>\n",
       "    .dataframe tbody tr th:only-of-type {\n",
       "        vertical-align: middle;\n",
       "    }\n",
       "\n",
       "    .dataframe tbody tr th {\n",
       "        vertical-align: top;\n",
       "    }\n",
       "\n",
       "    .dataframe thead th {\n",
       "        text-align: right;\n",
       "    }\n",
       "</style>\n",
       "<table border=\"1\" class=\"dataframe\">\n",
       "  <thead>\n",
       "    <tr style=\"text-align: right;\">\n",
       "      <th></th>\n",
       "      <th>model_type</th>\n",
       "      <th>target_var</th>\n",
       "      <th>rmse</th>\n",
       "    </tr>\n",
       "  </thead>\n",
       "  <tbody>\n",
       "    <tr>\n",
       "      <th>0</th>\n",
       "      <td>simple_average</td>\n",
       "      <td>vader_stopped</td>\n",
       "      <td>0.4729</td>\n",
       "    </tr>\n",
       "    <tr>\n",
       "      <th>1</th>\n",
       "      <td>3_month moving average</td>\n",
       "      <td>vader_stopped</td>\n",
       "      <td>0.6108</td>\n",
       "    </tr>\n",
       "    <tr>\n",
       "      <th>2</th>\n",
       "      <td>6_month moving average</td>\n",
       "      <td>vader_stopped</td>\n",
       "      <td>0.4815</td>\n",
       "    </tr>\n",
       "    <tr>\n",
       "      <th>3</th>\n",
       "      <td>9_month moving average</td>\n",
       "      <td>vader_stopped</td>\n",
       "      <td>0.5675</td>\n",
       "    </tr>\n",
       "    <tr>\n",
       "      <th>4</th>\n",
       "      <td>12_month moving average</td>\n",
       "      <td>vader_stopped</td>\n",
       "      <td>0.5417</td>\n",
       "    </tr>\n",
       "    <tr>\n",
       "      <th>5</th>\n",
       "      <td>30 month moving average</td>\n",
       "      <td>vader_stopped</td>\n",
       "      <td>0.5025</td>\n",
       "    </tr>\n",
       "    <tr>\n",
       "      <th>6</th>\n",
       "      <td>60 month moving average</td>\n",
       "      <td>vader_stopped</td>\n",
       "      <td>0.4816</td>\n",
       "    </tr>\n",
       "    <tr>\n",
       "      <th>7</th>\n",
       "      <td>90 month moving average</td>\n",
       "      <td>vader_stopped</td>\n",
       "      <td>0.4801</td>\n",
       "    </tr>\n",
       "    <tr>\n",
       "      <th>8</th>\n",
       "      <td>365 month moving average</td>\n",
       "      <td>vader_stopped</td>\n",
       "      <td>0.4741</td>\n",
       "    </tr>\n",
       "    <tr>\n",
       "      <th>9</th>\n",
       "      <td>simple_average</td>\n",
       "      <td>vader_stopped</td>\n",
       "      <td>0.4741</td>\n",
       "    </tr>\n",
       "    <tr>\n",
       "      <th>10</th>\n",
       "      <td>30 month moving average</td>\n",
       "      <td>vader_stopped</td>\n",
       "      <td>0.5025</td>\n",
       "    </tr>\n",
       "    <tr>\n",
       "      <th>11</th>\n",
       "      <td>60 month moving average</td>\n",
       "      <td>vader_stopped</td>\n",
       "      <td>0.4816</td>\n",
       "    </tr>\n",
       "    <tr>\n",
       "      <th>12</th>\n",
       "      <td>90 month moving average</td>\n",
       "      <td>vader_stopped</td>\n",
       "      <td>0.4801</td>\n",
       "    </tr>\n",
       "    <tr>\n",
       "      <th>13</th>\n",
       "      <td>365 month moving average</td>\n",
       "      <td>vader_stopped</td>\n",
       "      <td>0.4741</td>\n",
       "    </tr>\n",
       "    <tr>\n",
       "      <th>14</th>\n",
       "      <td>30 month moving average</td>\n",
       "      <td>vader_stopped</td>\n",
       "      <td>0.5025</td>\n",
       "    </tr>\n",
       "    <tr>\n",
       "      <th>15</th>\n",
       "      <td>60 month moving average</td>\n",
       "      <td>vader_stopped</td>\n",
       "      <td>0.4816</td>\n",
       "    </tr>\n",
       "    <tr>\n",
       "      <th>16</th>\n",
       "      <td>90 month moving average</td>\n",
       "      <td>vader_stopped</td>\n",
       "      <td>0.4801</td>\n",
       "    </tr>\n",
       "    <tr>\n",
       "      <th>17</th>\n",
       "      <td>365 month moving average</td>\n",
       "      <td>vader_stopped</td>\n",
       "      <td>0.4741</td>\n",
       "    </tr>\n",
       "    <tr>\n",
       "      <th>18</th>\n",
       "      <td>30 day moving average</td>\n",
       "      <td>vader_stopped</td>\n",
       "      <td>0.5025</td>\n",
       "    </tr>\n",
       "    <tr>\n",
       "      <th>19</th>\n",
       "      <td>60 day moving average</td>\n",
       "      <td>vader_stopped</td>\n",
       "      <td>0.4816</td>\n",
       "    </tr>\n",
       "    <tr>\n",
       "      <th>20</th>\n",
       "      <td>90 day moving average</td>\n",
       "      <td>vader_stopped</td>\n",
       "      <td>0.4801</td>\n",
       "    </tr>\n",
       "    <tr>\n",
       "      <th>21</th>\n",
       "      <td>365 day moving average</td>\n",
       "      <td>vader_stopped</td>\n",
       "      <td>0.4741</td>\n",
       "    </tr>\n",
       "    <tr>\n",
       "      <th>22</th>\n",
       "      <td>30 day moving average</td>\n",
       "      <td>vader_stopped</td>\n",
       "      <td>0.5025</td>\n",
       "    </tr>\n",
       "    <tr>\n",
       "      <th>23</th>\n",
       "      <td>60 day moving average</td>\n",
       "      <td>vader_stopped</td>\n",
       "      <td>0.4816</td>\n",
       "    </tr>\n",
       "    <tr>\n",
       "      <th>24</th>\n",
       "      <td>90 day moving average</td>\n",
       "      <td>vader_stopped</td>\n",
       "      <td>0.4801</td>\n",
       "    </tr>\n",
       "    <tr>\n",
       "      <th>25</th>\n",
       "      <td>365 day moving average</td>\n",
       "      <td>vader_stopped</td>\n",
       "      <td>0.4741</td>\n",
       "    </tr>\n",
       "    <tr>\n",
       "      <th>26</th>\n",
       "      <td>30 day moving average</td>\n",
       "      <td>vader_stopped</td>\n",
       "      <td>0.5025</td>\n",
       "    </tr>\n",
       "    <tr>\n",
       "      <th>27</th>\n",
       "      <td>60 day moving average</td>\n",
       "      <td>vader_stopped</td>\n",
       "      <td>0.4816</td>\n",
       "    </tr>\n",
       "    <tr>\n",
       "      <th>28</th>\n",
       "      <td>90 day moving average</td>\n",
       "      <td>vader_stopped</td>\n",
       "      <td>0.4801</td>\n",
       "    </tr>\n",
       "    <tr>\n",
       "      <th>29</th>\n",
       "      <td>365 day moving average</td>\n",
       "      <td>vader_stopped</td>\n",
       "      <td>0.4741</td>\n",
       "    </tr>\n",
       "    <tr>\n",
       "      <th>30</th>\n",
       "      <td>30 day moving average</td>\n",
       "      <td>vader_stopped</td>\n",
       "      <td>0.5025</td>\n",
       "    </tr>\n",
       "    <tr>\n",
       "      <th>31</th>\n",
       "      <td>60 day moving average</td>\n",
       "      <td>vader_stopped</td>\n",
       "      <td>0.4816</td>\n",
       "    </tr>\n",
       "    <tr>\n",
       "      <th>32</th>\n",
       "      <td>90 day moving average</td>\n",
       "      <td>vader_stopped</td>\n",
       "      <td>0.4801</td>\n",
       "    </tr>\n",
       "    <tr>\n",
       "      <th>33</th>\n",
       "      <td>365 day moving average</td>\n",
       "      <td>vader_stopped</td>\n",
       "      <td>0.4741</td>\n",
       "    </tr>\n",
       "  </tbody>\n",
       "</table>\n",
       "</div>"
      ],
      "text/plain": [
       "                  model_type     target_var    rmse\n",
       "0             simple_average  vader_stopped  0.4729\n",
       "1     3_month moving average  vader_stopped  0.6108\n",
       "2     6_month moving average  vader_stopped  0.4815\n",
       "3     9_month moving average  vader_stopped  0.5675\n",
       "4    12_month moving average  vader_stopped  0.5417\n",
       "5    30 month moving average  vader_stopped  0.5025\n",
       "6    60 month moving average  vader_stopped  0.4816\n",
       "7    90 month moving average  vader_stopped  0.4801\n",
       "8   365 month moving average  vader_stopped  0.4741\n",
       "9             simple_average  vader_stopped  0.4741\n",
       "10   30 month moving average  vader_stopped  0.5025\n",
       "11   60 month moving average  vader_stopped  0.4816\n",
       "12   90 month moving average  vader_stopped  0.4801\n",
       "13  365 month moving average  vader_stopped  0.4741\n",
       "14   30 month moving average  vader_stopped  0.5025\n",
       "15   60 month moving average  vader_stopped  0.4816\n",
       "16   90 month moving average  vader_stopped  0.4801\n",
       "17  365 month moving average  vader_stopped  0.4741\n",
       "18     30 day moving average  vader_stopped  0.5025\n",
       "19     60 day moving average  vader_stopped  0.4816\n",
       "20     90 day moving average  vader_stopped  0.4801\n",
       "21    365 day moving average  vader_stopped  0.4741\n",
       "22     30 day moving average  vader_stopped  0.5025\n",
       "23     60 day moving average  vader_stopped  0.4816\n",
       "24     90 day moving average  vader_stopped  0.4801\n",
       "25    365 day moving average  vader_stopped  0.4741\n",
       "26     30 day moving average  vader_stopped  0.5025\n",
       "27     60 day moving average  vader_stopped  0.4816\n",
       "28     90 day moving average  vader_stopped  0.4801\n",
       "29    365 day moving average  vader_stopped  0.4741\n",
       "30     30 day moving average  vader_stopped  0.5025\n",
       "31     60 day moving average  vader_stopped  0.4816\n",
       "32     90 day moving average  vader_stopped  0.4801\n",
       "33    365 day moving average  vader_stopped  0.4741"
      ]
     },
     "execution_count": 100,
     "metadata": {},
     "output_type": "execute_result"
    }
   ],
   "source": [
    "# Trying with different periods\n",
    "\n",
    "periods = [30, 60, 90, 365]\n",
    "\n",
    "for p in periods:\n",
    "    score = round(train['vader_stopped'].rolling(p).mean().iloc[-1], 4)\n",
    "    yhat_df = make_predictions()\n",
    "    model_type = str(p) + ' day moving average'\n",
    "    eval_df = append_eval_df(model_type = model_type,\n",
    "                             target_var = 'vader_stopped'\n",
    "                            )\n",
    "    plot_and_eval_2('vader_stopped', model_type)\n",
    "eval_df"
   ]
  },
  {
   "cell_type": "code",
   "execution_count": 91,
   "id": "9ec20231",
   "metadata": {},
   "outputs": [
    {
     "data": {
      "text/html": [
       "<div>\n",
       "<style scoped>\n",
       "    .dataframe tbody tr th:only-of-type {\n",
       "        vertical-align: middle;\n",
       "    }\n",
       "\n",
       "    .dataframe tbody tr th {\n",
       "        vertical-align: top;\n",
       "    }\n",
       "\n",
       "    .dataframe thead th {\n",
       "        text-align: right;\n",
       "    }\n",
       "</style>\n",
       "<table border=\"1\" class=\"dataframe\">\n",
       "  <thead>\n",
       "    <tr style=\"text-align: right;\">\n",
       "      <th></th>\n",
       "      <th>vader_stopped</th>\n",
       "    </tr>\n",
       "    <tr>\n",
       "      <th>date</th>\n",
       "      <th></th>\n",
       "    </tr>\n",
       "  </thead>\n",
       "  <tbody>\n",
       "    <tr>\n",
       "      <th>2016-01-01</th>\n",
       "      <td>0.1599</td>\n",
       "    </tr>\n",
       "    <tr>\n",
       "      <th>2016-01-01</th>\n",
       "      <td>0.1599</td>\n",
       "    </tr>\n",
       "    <tr>\n",
       "      <th>2016-01-01</th>\n",
       "      <td>0.1599</td>\n",
       "    </tr>\n",
       "    <tr>\n",
       "      <th>2016-01-01</th>\n",
       "      <td>0.1599</td>\n",
       "    </tr>\n",
       "    <tr>\n",
       "      <th>2016-01-01</th>\n",
       "      <td>0.1599</td>\n",
       "    </tr>\n",
       "    <tr>\n",
       "      <th>...</th>\n",
       "      <td>...</td>\n",
       "    </tr>\n",
       "    <tr>\n",
       "      <th>2017-12-31</th>\n",
       "      <td>0.1599</td>\n",
       "    </tr>\n",
       "    <tr>\n",
       "      <th>2017-12-31</th>\n",
       "      <td>0.1599</td>\n",
       "    </tr>\n",
       "    <tr>\n",
       "      <th>2017-12-31</th>\n",
       "      <td>0.1599</td>\n",
       "    </tr>\n",
       "    <tr>\n",
       "      <th>2017-12-31</th>\n",
       "      <td>0.1599</td>\n",
       "    </tr>\n",
       "    <tr>\n",
       "      <th>2017-12-31</th>\n",
       "      <td>0.1599</td>\n",
       "    </tr>\n",
       "  </tbody>\n",
       "</table>\n",
       "<p>248112 rows × 1 columns</p>\n",
       "</div>"
      ],
      "text/plain": [
       "            vader_stopped\n",
       "date                     \n",
       "2016-01-01         0.1599\n",
       "2016-01-01         0.1599\n",
       "2016-01-01         0.1599\n",
       "2016-01-01         0.1599\n",
       "2016-01-01         0.1599\n",
       "...                   ...\n",
       "2017-12-31         0.1599\n",
       "2017-12-31         0.1599\n",
       "2017-12-31         0.1599\n",
       "2017-12-31         0.1599\n",
       "2017-12-31         0.1599\n",
       "\n",
       "[248112 rows x 1 columns]"
      ]
     },
     "execution_count": 91,
     "metadata": {},
     "output_type": "execute_result"
    }
   ],
   "source": [
    "yhat_df"
   ]
  },
  {
   "cell_type": "code",
   "execution_count": null,
   "id": "9d6f49eb",
   "metadata": {},
   "outputs": [],
   "source": []
  },
  {
   "cell_type": "code",
   "execution_count": null,
   "id": "cf41c5e2",
   "metadata": {},
   "outputs": [],
   "source": []
  },
  {
   "cell_type": "code",
   "execution_count": null,
   "id": "0f3e0867",
   "metadata": {},
   "outputs": [],
   "source": []
  },
  {
   "cell_type": "code",
   "execution_count": null,
   "id": "42f35355",
   "metadata": {},
   "outputs": [],
   "source": []
  },
  {
   "cell_type": "code",
   "execution_count": null,
   "id": "6be8f40c",
   "metadata": {},
   "outputs": [],
   "source": []
  },
  {
   "cell_type": "code",
   "execution_count": null,
   "id": "61d6a66b",
   "metadata": {},
   "outputs": [],
   "source": []
  }
 ],
 "metadata": {
  "kernelspec": {
   "display_name": "Python 3",
   "language": "python",
   "name": "python3"
  },
  "language_info": {
   "codemirror_mode": {
    "name": "ipython",
    "version": 3
   },
   "file_extension": ".py",
   "mimetype": "text/x-python",
   "name": "python",
   "nbconvert_exporter": "python",
   "pygments_lexer": "ipython3",
   "version": "3.8.8"
  }
 },
 "nbformat": 4,
 "nbformat_minor": 5
}
