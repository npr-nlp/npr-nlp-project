{
 "cells": [
  {
   "cell_type": "code",
   "execution_count": 1,
   "id": "4fe1ec41",
   "metadata": {},
   "outputs": [],
   "source": [
    "# Import all the things\n",
    "\n",
    "import json\n",
    "import pandas as pd\n",
    "import numpy as np\n",
    "import wrangle\n",
    "import acquire\n",
    "from prepare import basic_clean, tokenize, lemmatize, stem, remove_stopwords, split_data, prep_string_data\n",
    "\n",
    "import re\n",
    "from sklearn.feature_extraction.text import TfidfVectorizer\n",
    "\n",
    "from wordcloud import WordCloud\n",
    "from matplotlib import pyplot as plt\n",
    "import seaborn as sns\n",
    "\n",
    "import nltk\n",
    "\n",
    "from scipy import stats\n",
    "\n",
    "import warnings\n",
    "warnings.filterwarnings(\"ignore\")"
   ]
  },
  {
   "cell_type": "code",
   "execution_count": 2,
   "id": "45972e72",
   "metadata": {},
   "outputs": [
    {
     "name": "stdout",
     "output_type": "stream",
     "text": [
      "The df has 2998347 rows and 10 columns.\n"
     ]
    },
    {
     "data": {
      "text/html": [
       "<div>\n",
       "<style scoped>\n",
       "    .dataframe tbody tr th:only-of-type {\n",
       "        vertical-align: middle;\n",
       "    }\n",
       "\n",
       "    .dataframe tbody tr th {\n",
       "        vertical-align: top;\n",
       "    }\n",
       "\n",
       "    .dataframe thead th {\n",
       "        text-align: right;\n",
       "    }\n",
       "</style>\n",
       "<table border=\"1\" class=\"dataframe\">\n",
       "  <thead>\n",
       "    <tr style=\"text-align: right;\">\n",
       "      <th></th>\n",
       "      <th>episode_order</th>\n",
       "      <th>speaker</th>\n",
       "      <th>utterance</th>\n",
       "      <th>program</th>\n",
       "      <th>title</th>\n",
       "      <th>is_host</th>\n",
       "      <th>clean</th>\n",
       "      <th>lemmatized_stopped</th>\n",
       "      <th>vader_stopped</th>\n",
       "      <th>date</th>\n",
       "    </tr>\n",
       "    <tr>\n",
       "      <th>episode_id</th>\n",
       "      <th></th>\n",
       "      <th></th>\n",
       "      <th></th>\n",
       "      <th></th>\n",
       "      <th></th>\n",
       "      <th></th>\n",
       "      <th></th>\n",
       "      <th></th>\n",
       "      <th></th>\n",
       "      <th></th>\n",
       "    </tr>\n",
       "  </thead>\n",
       "  <tbody>\n",
       "    <tr>\n",
       "      <th>57264</th>\n",
       "      <td>9</td>\n",
       "      <td>Ms. LOREN MOONEY (Editor-in-Chief, Bicycling M...</td>\n",
       "      <td>It's a 2,200-mile race. To give some sense of ...</td>\n",
       "      <td>Talk of the Nation</td>\n",
       "      <td>How To Watch The Tour De France</td>\n",
       "      <td>False</td>\n",
       "      <td>it s a 2200 mile race. to give some sense of p...</td>\n",
       "      <td>2200 mile race. give sense perspective roughly...</td>\n",
       "      <td>0.0000</td>\n",
       "      <td>2010-07-12</td>\n",
       "    </tr>\n",
       "    <tr>\n",
       "      <th>57264</th>\n",
       "      <td>10</td>\n",
       "      <td>Ms. LOREN MOONEY (Editor-in-Chief, Bicycling M...</td>\n",
       "      <td>So for a top competitor like Lance to try to m...</td>\n",
       "      <td>Talk of the Nation</td>\n",
       "      <td>How To Watch The Tour De France</td>\n",
       "      <td>False</td>\n",
       "      <td>so for a top competitor like lance to try to m...</td>\n",
       "      <td>top competitor like lance try make much time 1...</td>\n",
       "      <td>0.9313</td>\n",
       "      <td>2010-07-12</td>\n",
       "    </tr>\n",
       "    <tr>\n",
       "      <th>57264</th>\n",
       "      <td>11</td>\n",
       "      <td>NEAL CONAN, host</td>\n",
       "      <td>So in every team, presumably there's one star,...</td>\n",
       "      <td>Talk of the Nation</td>\n",
       "      <td>How To Watch The Tour De France</td>\n",
       "      <td>True</td>\n",
       "      <td>so in every team presumably there s one star o...</td>\n",
       "      <td>every team presumably one star one equivalent ...</td>\n",
       "      <td>0.7096</td>\n",
       "      <td>2010-07-12</td>\n",
       "    </tr>\n",
       "    <tr>\n",
       "      <th>57264</th>\n",
       "      <td>12</td>\n",
       "      <td>Ms. LOREN MOONEY (Editor-in-Chief, Bicycling M...</td>\n",
       "      <td>That's right. Each team has nine riders. And w...</td>\n",
       "      <td>Talk of the Nation</td>\n",
       "      <td>How To Watch The Tour De France</td>\n",
       "      <td>False</td>\n",
       "      <td>that s right. each team has nine riders. and w...</td>\n",
       "      <td>right. team ha nine riders. basically team lea...</td>\n",
       "      <td>0.9274</td>\n",
       "      <td>2010-07-12</td>\n",
       "    </tr>\n",
       "    <tr>\n",
       "      <th>57264</th>\n",
       "      <td>13</td>\n",
       "      <td>NEAL CONAN, host</td>\n",
       "      <td>So slipstream, this is like drafting in car ra...</td>\n",
       "      <td>Talk of the Nation</td>\n",
       "      <td>How To Watch The Tour De France</td>\n",
       "      <td>True</td>\n",
       "      <td>so slipstream this is like drafting in car rac...</td>\n",
       "      <td>slipstream like drafting car racing right ?</td>\n",
       "      <td>0.3612</td>\n",
       "      <td>2010-07-12</td>\n",
       "    </tr>\n",
       "  </tbody>\n",
       "</table>\n",
       "</div>"
      ],
      "text/plain": [
       "            episode_order                                            speaker  \\\n",
       "episode_id                                                                     \n",
       "57264                   9  Ms. LOREN MOONEY (Editor-in-Chief, Bicycling M...   \n",
       "57264                  10  Ms. LOREN MOONEY (Editor-in-Chief, Bicycling M...   \n",
       "57264                  11                                   NEAL CONAN, host   \n",
       "57264                  12  Ms. LOREN MOONEY (Editor-in-Chief, Bicycling M...   \n",
       "57264                  13                                   NEAL CONAN, host   \n",
       "\n",
       "                                                    utterance  \\\n",
       "episode_id                                                      \n",
       "57264       It's a 2,200-mile race. To give some sense of ...   \n",
       "57264       So for a top competitor like Lance to try to m...   \n",
       "57264       So in every team, presumably there's one star,...   \n",
       "57264       That's right. Each team has nine riders. And w...   \n",
       "57264       So slipstream, this is like drafting in car ra...   \n",
       "\n",
       "                       program                            title  is_host  \\\n",
       "episode_id                                                                 \n",
       "57264       Talk of the Nation  How To Watch The Tour De France    False   \n",
       "57264       Talk of the Nation  How To Watch The Tour De France    False   \n",
       "57264       Talk of the Nation  How To Watch The Tour De France     True   \n",
       "57264       Talk of the Nation  How To Watch The Tour De France    False   \n",
       "57264       Talk of the Nation  How To Watch The Tour De France     True   \n",
       "\n",
       "                                                        clean  \\\n",
       "episode_id                                                      \n",
       "57264       it s a 2200 mile race. to give some sense of p...   \n",
       "57264       so for a top competitor like lance to try to m...   \n",
       "57264       so in every team presumably there s one star o...   \n",
       "57264       that s right. each team has nine riders. and w...   \n",
       "57264       so slipstream this is like drafting in car rac...   \n",
       "\n",
       "                                           lemmatized_stopped  vader_stopped  \\\n",
       "episode_id                                                                     \n",
       "57264       2200 mile race. give sense perspective roughly...         0.0000   \n",
       "57264       top competitor like lance try make much time 1...         0.9313   \n",
       "57264       every team presumably one star one equivalent ...         0.7096   \n",
       "57264       right. team ha nine riders. basically team lea...         0.9274   \n",
       "57264             slipstream like drafting car racing right ?         0.3612   \n",
       "\n",
       "                  date  \n",
       "episode_id              \n",
       "57264       2010-07-12  \n",
       "57264       2010-07-12  \n",
       "57264       2010-07-12  \n",
       "57264       2010-07-12  \n",
       "57264       2010-07-12  "
      ]
     },
     "execution_count": 2,
     "metadata": {},
     "output_type": "execute_result"
    }
   ],
   "source": [
    "df = wrangle.get_npr_data()\n",
    "df.head()"
   ]
  },
  {
   "cell_type": "markdown",
   "id": "868c9016",
   "metadata": {},
   "source": [
    "## Is there a difference in the mean sentiment by speaker? Program? etc\n",
    "- Applied statistics-> i.e. stats testing. Is there a difference in the mean sentiment by speaker? Program? etc "
   ]
  },
  {
   "cell_type": "code",
   "execution_count": 3,
   "id": "a01ead45",
   "metadata": {},
   "outputs": [
    {
     "data": {
      "text/plain": [
       "Index(['episode_order', 'speaker', 'utterance', 'program', 'title', 'is_host',\n",
       "       'clean', 'lemmatized_stopped', 'vader_stopped', 'date'],\n",
       "      dtype='object')"
      ]
     },
     "execution_count": 3,
     "metadata": {},
     "output_type": "execute_result"
    }
   ],
   "source": [
    "df.columns"
   ]
  },
  {
   "cell_type": "code",
   "execution_count": 4,
   "id": "e8e2e69e",
   "metadata": {},
   "outputs": [
    {
     "data": {
      "text/plain": [
       "(2998347, 10)"
      ]
     },
     "execution_count": 4,
     "metadata": {},
     "output_type": "execute_result"
    }
   ],
   "source": [
    "df.shape"
   ]
  },
  {
   "cell_type": "code",
   "execution_count": 5,
   "id": "ba6c4d43",
   "metadata": {},
   "outputs": [
    {
     "data": {
      "text/plain": [
       "episode_order           int64\n",
       "speaker                object\n",
       "utterance              object\n",
       "program                object\n",
       "title                  object\n",
       "is_host                  bool\n",
       "clean                  object\n",
       "lemmatized_stopped     object\n",
       "vader_stopped         float64\n",
       "date                   object\n",
       "dtype: object"
      ]
     },
     "execution_count": 5,
     "metadata": {},
     "output_type": "execute_result"
    }
   ],
   "source": [
    "df.dtypes"
   ]
  },
  {
   "cell_type": "code",
   "execution_count": 9,
   "id": "499385cd",
   "metadata": {},
   "outputs": [],
   "source": [
    "df.date = pd.to_datetime(df.date)"
   ]
  },
  {
   "cell_type": "code",
   "execution_count": 10,
   "id": "a7418211",
   "metadata": {},
   "outputs": [
    {
     "data": {
      "text/plain": [
       "episode_order                  int64\n",
       "speaker                       object\n",
       "utterance                     object\n",
       "program                       object\n",
       "title                         object\n",
       "is_host                         bool\n",
       "clean                         object\n",
       "lemmatized_stopped            object\n",
       "vader_stopped                float64\n",
       "date                  datetime64[ns]\n",
       "dtype: object"
      ]
     },
     "execution_count": 10,
     "metadata": {},
     "output_type": "execute_result"
    }
   ],
   "source": [
    "df.dtypes"
   ]
  },
  {
   "cell_type": "code",
   "execution_count": 12,
   "id": "933976f6",
   "metadata": {},
   "outputs": [
    {
     "data": {
      "text/plain": [
       "35108    512\n",
       "73336    475\n",
       "57481    459\n",
       "19633    453\n",
       "77896    419\n",
       "        ... \n",
       "85857      1\n",
       "54086      1\n",
       "77677      1\n",
       "7000       1\n",
       "31142      1\n",
       "Name: episode_id, Length: 104896, dtype: int64"
      ]
     },
     "execution_count": 12,
     "metadata": {},
     "output_type": "execute_result"
    }
   ],
   "source": [
    "df.index.value_counts()"
   ]
  },
  {
   "cell_type": "code",
   "execution_count": 14,
   "id": "048d20d1",
   "metadata": {},
   "outputs": [
    {
     "data": {
      "text/plain": [
       "episode_id\n",
       "1         0.266400\n",
       "2         0.352819\n",
       "3        -0.219529\n",
       "4         0.059670\n",
       "5         0.216645\n",
       "            ...   \n",
       "140746    0.265561\n",
       "140747    0.068450\n",
       "140748    0.330058\n",
       "140749    0.163007\n",
       "141179    0.422604\n",
       "Name: vader_stopped, Length: 104896, dtype: float64"
      ]
     },
     "execution_count": 14,
     "metadata": {},
     "output_type": "execute_result"
    }
   ],
   "source": [
    "df.groupby(by=df.index).vader_stopped.mean()"
   ]
  },
  {
   "cell_type": "code",
   "execution_count": null,
   "id": "eaca6a21",
   "metadata": {},
   "outputs": [],
   "source": [
    "\n",
    "# df['Date'].dt.strftime('%b-%Y')\n",
    "\n",
    "# df['episode_date'].dt.strftime('%b')"
   ]
  },
  {
   "cell_type": "code",
   "execution_count": 15,
   "id": "63ee5a30",
   "metadata": {
    "scrolled": true
   },
   "outputs": [
    {
     "data": {
      "text/html": [
       "<div>\n",
       "<style scoped>\n",
       "    .dataframe tbody tr th:only-of-type {\n",
       "        vertical-align: middle;\n",
       "    }\n",
       "\n",
       "    .dataframe tbody tr th {\n",
       "        vertical-align: top;\n",
       "    }\n",
       "\n",
       "    .dataframe thead th {\n",
       "        text-align: right;\n",
       "    }\n",
       "</style>\n",
       "<table border=\"1\" class=\"dataframe\">\n",
       "  <thead>\n",
       "    <tr style=\"text-align: right;\">\n",
       "      <th></th>\n",
       "      <th>episode_order</th>\n",
       "      <th>speaker</th>\n",
       "      <th>utterance</th>\n",
       "      <th>program</th>\n",
       "      <th>title</th>\n",
       "      <th>is_host</th>\n",
       "      <th>clean</th>\n",
       "      <th>lemmatized_stopped</th>\n",
       "      <th>vader_stopped</th>\n",
       "      <th>date</th>\n",
       "      <th>month</th>\n",
       "      <th>year</th>\n",
       "    </tr>\n",
       "    <tr>\n",
       "      <th>episode_id</th>\n",
       "      <th></th>\n",
       "      <th></th>\n",
       "      <th></th>\n",
       "      <th></th>\n",
       "      <th></th>\n",
       "      <th></th>\n",
       "      <th></th>\n",
       "      <th></th>\n",
       "      <th></th>\n",
       "      <th></th>\n",
       "      <th></th>\n",
       "      <th></th>\n",
       "    </tr>\n",
       "  </thead>\n",
       "  <tbody>\n",
       "    <tr>\n",
       "      <th>57264</th>\n",
       "      <td>9</td>\n",
       "      <td>Ms. LOREN MOONEY (Editor-in-Chief, Bicycling M...</td>\n",
       "      <td>It's a 2,200-mile race. To give some sense of ...</td>\n",
       "      <td>Talk of the Nation</td>\n",
       "      <td>How To Watch The Tour De France</td>\n",
       "      <td>False</td>\n",
       "      <td>it s a 2200 mile race. to give some sense of p...</td>\n",
       "      <td>2200 mile race. give sense perspective roughly...</td>\n",
       "      <td>0.0000</td>\n",
       "      <td>2010-07-12</td>\n",
       "      <td>Jul</td>\n",
       "      <td>2010</td>\n",
       "    </tr>\n",
       "    <tr>\n",
       "      <th>57264</th>\n",
       "      <td>10</td>\n",
       "      <td>Ms. LOREN MOONEY (Editor-in-Chief, Bicycling M...</td>\n",
       "      <td>So for a top competitor like Lance to try to m...</td>\n",
       "      <td>Talk of the Nation</td>\n",
       "      <td>How To Watch The Tour De France</td>\n",
       "      <td>False</td>\n",
       "      <td>so for a top competitor like lance to try to m...</td>\n",
       "      <td>top competitor like lance try make much time 1...</td>\n",
       "      <td>0.9313</td>\n",
       "      <td>2010-07-12</td>\n",
       "      <td>Jul</td>\n",
       "      <td>2010</td>\n",
       "    </tr>\n",
       "    <tr>\n",
       "      <th>57264</th>\n",
       "      <td>11</td>\n",
       "      <td>NEAL CONAN, host</td>\n",
       "      <td>So in every team, presumably there's one star,...</td>\n",
       "      <td>Talk of the Nation</td>\n",
       "      <td>How To Watch The Tour De France</td>\n",
       "      <td>True</td>\n",
       "      <td>so in every team presumably there s one star o...</td>\n",
       "      <td>every team presumably one star one equivalent ...</td>\n",
       "      <td>0.7096</td>\n",
       "      <td>2010-07-12</td>\n",
       "      <td>Jul</td>\n",
       "      <td>2010</td>\n",
       "    </tr>\n",
       "    <tr>\n",
       "      <th>57264</th>\n",
       "      <td>12</td>\n",
       "      <td>Ms. LOREN MOONEY (Editor-in-Chief, Bicycling M...</td>\n",
       "      <td>That's right. Each team has nine riders. And w...</td>\n",
       "      <td>Talk of the Nation</td>\n",
       "      <td>How To Watch The Tour De France</td>\n",
       "      <td>False</td>\n",
       "      <td>that s right. each team has nine riders. and w...</td>\n",
       "      <td>right. team ha nine riders. basically team lea...</td>\n",
       "      <td>0.9274</td>\n",
       "      <td>2010-07-12</td>\n",
       "      <td>Jul</td>\n",
       "      <td>2010</td>\n",
       "    </tr>\n",
       "    <tr>\n",
       "      <th>57264</th>\n",
       "      <td>13</td>\n",
       "      <td>NEAL CONAN, host</td>\n",
       "      <td>So slipstream, this is like drafting in car ra...</td>\n",
       "      <td>Talk of the Nation</td>\n",
       "      <td>How To Watch The Tour De France</td>\n",
       "      <td>True</td>\n",
       "      <td>so slipstream this is like drafting in car rac...</td>\n",
       "      <td>slipstream like drafting car racing right ?</td>\n",
       "      <td>0.3612</td>\n",
       "      <td>2010-07-12</td>\n",
       "      <td>Jul</td>\n",
       "      <td>2010</td>\n",
       "    </tr>\n",
       "  </tbody>\n",
       "</table>\n",
       "</div>"
      ],
      "text/plain": [
       "            episode_order                                            speaker  \\\n",
       "episode_id                                                                     \n",
       "57264                   9  Ms. LOREN MOONEY (Editor-in-Chief, Bicycling M...   \n",
       "57264                  10  Ms. LOREN MOONEY (Editor-in-Chief, Bicycling M...   \n",
       "57264                  11                                   NEAL CONAN, host   \n",
       "57264                  12  Ms. LOREN MOONEY (Editor-in-Chief, Bicycling M...   \n",
       "57264                  13                                   NEAL CONAN, host   \n",
       "\n",
       "                                                    utterance  \\\n",
       "episode_id                                                      \n",
       "57264       It's a 2,200-mile race. To give some sense of ...   \n",
       "57264       So for a top competitor like Lance to try to m...   \n",
       "57264       So in every team, presumably there's one star,...   \n",
       "57264       That's right. Each team has nine riders. And w...   \n",
       "57264       So slipstream, this is like drafting in car ra...   \n",
       "\n",
       "                       program                            title  is_host  \\\n",
       "episode_id                                                                 \n",
       "57264       Talk of the Nation  How To Watch The Tour De France    False   \n",
       "57264       Talk of the Nation  How To Watch The Tour De France    False   \n",
       "57264       Talk of the Nation  How To Watch The Tour De France     True   \n",
       "57264       Talk of the Nation  How To Watch The Tour De France    False   \n",
       "57264       Talk of the Nation  How To Watch The Tour De France     True   \n",
       "\n",
       "                                                        clean  \\\n",
       "episode_id                                                      \n",
       "57264       it s a 2200 mile race. to give some sense of p...   \n",
       "57264       so for a top competitor like lance to try to m...   \n",
       "57264       so in every team presumably there s one star o...   \n",
       "57264       that s right. each team has nine riders. and w...   \n",
       "57264       so slipstream this is like drafting in car rac...   \n",
       "\n",
       "                                           lemmatized_stopped  vader_stopped  \\\n",
       "episode_id                                                                     \n",
       "57264       2200 mile race. give sense perspective roughly...         0.0000   \n",
       "57264       top competitor like lance try make much time 1...         0.9313   \n",
       "57264       every team presumably one star one equivalent ...         0.7096   \n",
       "57264       right. team ha nine riders. basically team lea...         0.9274   \n",
       "57264             slipstream like drafting car racing right ?         0.3612   \n",
       "\n",
       "                 date month  year  \n",
       "episode_id                         \n",
       "57264      2010-07-12   Jul  2010  \n",
       "57264      2010-07-12   Jul  2010  \n",
       "57264      2010-07-12   Jul  2010  \n",
       "57264      2010-07-12   Jul  2010  \n",
       "57264      2010-07-12   Jul  2010  "
      ]
     },
     "execution_count": 15,
     "metadata": {},
     "output_type": "execute_result"
    }
   ],
   "source": [
    "df['month']=df['date'].dt.strftime('%b')\n",
    "df['year']=pd.DatetimeIndex(df['date']).year\n",
    "df.head()\n"
   ]
  },
  {
   "cell_type": "code",
   "execution_count": 16,
   "id": "087c164f",
   "metadata": {},
   "outputs": [],
   "source": [
    "import matplotlib.pyplot as plt\n",
    "import seaborn as sns"
   ]
  },
  {
   "cell_type": "markdown",
   "id": "2f2a36f1",
   "metadata": {},
   "source": [
    "### Looking to do a lineplot of mean sentiment by day (or maybe resampled by month or whatever), and hue on program (and later, on year...or etc)"
   ]
  },
  {
   "cell_type": "code",
   "execution_count": 18,
   "id": "bc7e8623",
   "metadata": {},
   "outputs": [],
   "source": [
    "smaller_df = df.set_index('date').sample(500000).dropna().sort_index()\n",
    "even_smaller_df= df.set_index('date').sample(50000).dropna().sort_index()"
   ]
  },
  {
   "cell_type": "code",
   "execution_count": 19,
   "id": "ae269ce7",
   "metadata": {},
   "outputs": [
    {
     "data": {
      "text/html": [
       "<div>\n",
       "<style scoped>\n",
       "    .dataframe tbody tr th:only-of-type {\n",
       "        vertical-align: middle;\n",
       "    }\n",
       "\n",
       "    .dataframe tbody tr th {\n",
       "        vertical-align: top;\n",
       "    }\n",
       "\n",
       "    .dataframe thead th {\n",
       "        text-align: right;\n",
       "    }\n",
       "</style>\n",
       "<table border=\"1\" class=\"dataframe\">\n",
       "  <thead>\n",
       "    <tr style=\"text-align: right;\">\n",
       "      <th></th>\n",
       "      <th>episode_order</th>\n",
       "      <th>speaker</th>\n",
       "      <th>utterance</th>\n",
       "      <th>program</th>\n",
       "      <th>title</th>\n",
       "      <th>is_host</th>\n",
       "      <th>clean</th>\n",
       "      <th>lemmatized_stopped</th>\n",
       "      <th>vader_stopped</th>\n",
       "      <th>month</th>\n",
       "      <th>year</th>\n",
       "    </tr>\n",
       "    <tr>\n",
       "      <th>date</th>\n",
       "      <th></th>\n",
       "      <th></th>\n",
       "      <th></th>\n",
       "      <th></th>\n",
       "      <th></th>\n",
       "      <th></th>\n",
       "      <th></th>\n",
       "      <th></th>\n",
       "      <th></th>\n",
       "      <th></th>\n",
       "      <th></th>\n",
       "    </tr>\n",
       "  </thead>\n",
       "  <tbody>\n",
       "    <tr>\n",
       "      <th>1999-01-08</th>\n",
       "      <td>12</td>\n",
       "      <td>NOAH ADAMS</td>\n",
       "      <td>Is Jobim's music still being played much in Br...</td>\n",
       "      <td>All Things Considered</td>\n",
       "      <td>Airport Samba</td>\n",
       "      <td>False</td>\n",
       "      <td>is jobim s music still being played much in br...</td>\n",
       "      <td>jobim music still played much brazil ? hear mu...</td>\n",
       "      <td>0.4137</td>\n",
       "      <td>Jan</td>\n",
       "      <td>1999</td>\n",
       "    </tr>\n",
       "    <tr>\n",
       "      <th>1999-01-08</th>\n",
       "      <td>2</td>\n",
       "      <td>NOAH ADAMS</td>\n",
       "      <td>You mentioned the Airport Samba?</td>\n",
       "      <td>All Things Considered</td>\n",
       "      <td>Airport Samba</td>\n",
       "      <td>False</td>\n",
       "      <td>you mentioned the airport samba ?</td>\n",
       "      <td>mentioned airport samba ?</td>\n",
       "      <td>0.0000</td>\n",
       "      <td>Jan</td>\n",
       "      <td>1999</td>\n",
       "    </tr>\n",
       "    <tr>\n",
       "      <th>2004-01-25</th>\n",
       "      <td>30</td>\n",
       "      <td>LIANE HANSEN</td>\n",
       "      <td>Maybe we should define imminent. Was it, you k...</td>\n",
       "      <td>Weekend Edition Sunday</td>\n",
       "      <td>Iraq WMD Questioned</td>\n",
       "      <td>False</td>\n",
       "      <td>maybe we should define imminent. was it you kn...</td>\n",
       "      <td>maybe define imminent. wa know 45 minute year ...</td>\n",
       "      <td>0.0000</td>\n",
       "      <td>Jan</td>\n",
       "      <td>2004</td>\n",
       "    </tr>\n",
       "    <tr>\n",
       "      <th>2004-01-25</th>\n",
       "      <td>36</td>\n",
       "      <td>DAVID KAY</td>\n",
       "      <td>Thank you. Happy to do it.</td>\n",
       "      <td>Weekend Edition Sunday</td>\n",
       "      <td>Iraq WMD Questioned</td>\n",
       "      <td>False</td>\n",
       "      <td>thank you. happy to do it .</td>\n",
       "      <td>thank you. happy .</td>\n",
       "      <td>0.7351</td>\n",
       "      <td>Jan</td>\n",
       "      <td>2004</td>\n",
       "    </tr>\n",
       "    <tr>\n",
       "      <th>2004-01-25</th>\n",
       "      <td>7</td>\n",
       "      <td>DAVID KAY</td>\n",
       "      <td>No. Program activities meaning that there were...</td>\n",
       "      <td>Weekend Edition Sunday</td>\n",
       "      <td>Iraq WMD Questioned</td>\n",
       "      <td>False</td>\n",
       "      <td>no. program activities meaning that there were...</td>\n",
       "      <td>no. program activity meaning scientist enginee...</td>\n",
       "      <td>-0.1027</td>\n",
       "      <td>Jan</td>\n",
       "      <td>2004</td>\n",
       "    </tr>\n",
       "  </tbody>\n",
       "</table>\n",
       "</div>"
      ],
      "text/plain": [
       "            episode_order       speaker  \\\n",
       "date                                      \n",
       "1999-01-08             12    NOAH ADAMS   \n",
       "1999-01-08              2    NOAH ADAMS   \n",
       "2004-01-25             30  LIANE HANSEN   \n",
       "2004-01-25             36     DAVID KAY   \n",
       "2004-01-25              7     DAVID KAY   \n",
       "\n",
       "                                                    utterance  \\\n",
       "date                                                            \n",
       "1999-01-08  Is Jobim's music still being played much in Br...   \n",
       "1999-01-08                   You mentioned the Airport Samba?   \n",
       "2004-01-25  Maybe we should define imminent. Was it, you k...   \n",
       "2004-01-25                         Thank you. Happy to do it.   \n",
       "2004-01-25  No. Program activities meaning that there were...   \n",
       "\n",
       "                           program                title  is_host  \\\n",
       "date                                                               \n",
       "1999-01-08   All Things Considered        Airport Samba    False   \n",
       "1999-01-08   All Things Considered        Airport Samba    False   \n",
       "2004-01-25  Weekend Edition Sunday  Iraq WMD Questioned    False   \n",
       "2004-01-25  Weekend Edition Sunday  Iraq WMD Questioned    False   \n",
       "2004-01-25  Weekend Edition Sunday  Iraq WMD Questioned    False   \n",
       "\n",
       "                                                        clean  \\\n",
       "date                                                            \n",
       "1999-01-08  is jobim s music still being played much in br...   \n",
       "1999-01-08                  you mentioned the airport samba ?   \n",
       "2004-01-25  maybe we should define imminent. was it you kn...   \n",
       "2004-01-25                        thank you. happy to do it .   \n",
       "2004-01-25  no. program activities meaning that there were...   \n",
       "\n",
       "                                           lemmatized_stopped  vader_stopped  \\\n",
       "date                                                                           \n",
       "1999-01-08  jobim music still played much brazil ? hear mu...         0.4137   \n",
       "1999-01-08                          mentioned airport samba ?         0.0000   \n",
       "2004-01-25  maybe define imminent. wa know 45 minute year ...         0.0000   \n",
       "2004-01-25                                 thank you. happy .         0.7351   \n",
       "2004-01-25  no. program activity meaning scientist enginee...        -0.1027   \n",
       "\n",
       "           month  year  \n",
       "date                    \n",
       "1999-01-08   Jan  1999  \n",
       "1999-01-08   Jan  1999  \n",
       "2004-01-25   Jan  2004  \n",
       "2004-01-25   Jan  2004  \n",
       "2004-01-25   Jan  2004  "
      ]
     },
     "execution_count": 19,
     "metadata": {},
     "output_type": "execute_result"
    }
   ],
   "source": [
    "smaller_df.head()"
   ]
  },
  {
   "cell_type": "code",
   "execution_count": 27,
   "id": "de3d7d45",
   "metadata": {},
   "outputs": [],
   "source": [
    "host_df = df[df.is_host==True]"
   ]
  },
  {
   "cell_type": "code",
   "execution_count": 34,
   "id": "8eff3686",
   "metadata": {},
   "outputs": [
    {
     "data": {
      "text/plain": [
       "(632305, 12)"
      ]
     },
     "execution_count": 34,
     "metadata": {},
     "output_type": "execute_result"
    }
   ],
   "source": [
    "host_df.shape"
   ]
  },
  {
   "cell_type": "code",
   "execution_count": null,
   "id": "a208f19c",
   "metadata": {},
   "outputs": [],
   "source": []
  },
  {
   "cell_type": "code",
   "execution_count": 56,
   "id": "ae01c3cc",
   "metadata": {},
   "outputs": [
    {
     "data": {
      "text/plain": [
       "NEAL CONAN, host                       204935\n",
       "IRA FLATOW, host                        58172\n",
       "FARAI CHIDEYA, host                     36462\n",
       "MADELEINE BRAND, host                   26313\n",
       "ROBERT SIEGEL, host                     23846\n",
       "                                        ...  \n",
       "STEVE INSKEEEP, host                        1\n",
       "MARY LOUIS KELLY, host                      1\n",
       "MICHELE BLOCK, host                         1\n",
       "STEVE INSKEEP and, host                     1\n",
       "Onyx (New Orleans Ghost Tour guide)         1\n",
       "Name: speaker, Length: 236, dtype: int64"
      ]
     },
     "execution_count": 56,
     "metadata": {},
     "output_type": "execute_result"
    }
   ],
   "source": [
    "# are there repeats in the host_df? \n",
    "host_df.speaker.value_counts()"
   ]
  },
  {
   "cell_type": "markdown",
   "id": "127f034f",
   "metadata": {},
   "source": [
    "- I can see two different duplicates for steve inskeep bc of typos\n",
    "- I think this is going to fall into the arena of significantly diminishing returns, and I will not address it at this time"
   ]
  },
  {
   "cell_type": "code",
   "execution_count": 57,
   "id": "cd2e172e",
   "metadata": {},
   "outputs": [],
   "source": [
    "hosts_with_the_most = host_df.speaker.value_counts().head(12).index.to_list()"
   ]
  },
  {
   "cell_type": "markdown",
   "id": "46b9f42a",
   "metadata": {},
   "source": [
    "- This is a list of the 12 hosts with the most observations"
   ]
  },
  {
   "cell_type": "code",
   "execution_count": 58,
   "id": "8e9554eb",
   "metadata": {},
   "outputs": [
    {
     "data": {
      "text/plain": [
       "['NEAL CONAN, host',\n",
       " 'IRA FLATOW, host',\n",
       " 'FARAI CHIDEYA, host',\n",
       " 'MADELEINE BRAND, host',\n",
       " 'ROBERT SIEGEL, host',\n",
       " 'STEVE INSKEEP, host',\n",
       " 'ALEX CHADWICK, host',\n",
       " 'MELISSA BLOCK, host',\n",
       " 'RENEE MONTAGNE, host',\n",
       " 'GUY RAZ, host',\n",
       " 'ED GORDON, host',\n",
       " 'MICHELE NORRIS, host']"
      ]
     },
     "execution_count": 58,
     "metadata": {},
     "output_type": "execute_result"
    }
   ],
   "source": [
    "hosts_with_the_most"
   ]
  },
  {
   "cell_type": "code",
   "execution_count": 61,
   "id": "3774c0c9",
   "metadata": {},
   "outputs": [],
   "source": [
    "top_hosts_df = df[df.speaker.isin(hosts_with_the_most)]"
   ]
  },
  {
   "cell_type": "code",
   "execution_count": 62,
   "id": "e2d649d2",
   "metadata": {},
   "outputs": [
    {
     "data": {
      "text/html": [
       "<div>\n",
       "<style scoped>\n",
       "    .dataframe tbody tr th:only-of-type {\n",
       "        vertical-align: middle;\n",
       "    }\n",
       "\n",
       "    .dataframe tbody tr th {\n",
       "        vertical-align: top;\n",
       "    }\n",
       "\n",
       "    .dataframe thead th {\n",
       "        text-align: right;\n",
       "    }\n",
       "</style>\n",
       "<table border=\"1\" class=\"dataframe\">\n",
       "  <thead>\n",
       "    <tr style=\"text-align: right;\">\n",
       "      <th></th>\n",
       "      <th>episode_order</th>\n",
       "      <th>speaker</th>\n",
       "      <th>utterance</th>\n",
       "      <th>program</th>\n",
       "      <th>title</th>\n",
       "      <th>is_host</th>\n",
       "      <th>clean</th>\n",
       "      <th>lemmatized_stopped</th>\n",
       "      <th>vader_stopped</th>\n",
       "      <th>date</th>\n",
       "      <th>month</th>\n",
       "      <th>year</th>\n",
       "    </tr>\n",
       "    <tr>\n",
       "      <th>episode_id</th>\n",
       "      <th></th>\n",
       "      <th></th>\n",
       "      <th></th>\n",
       "      <th></th>\n",
       "      <th></th>\n",
       "      <th></th>\n",
       "      <th></th>\n",
       "      <th></th>\n",
       "      <th></th>\n",
       "      <th></th>\n",
       "      <th></th>\n",
       "      <th></th>\n",
       "    </tr>\n",
       "  </thead>\n",
       "  <tbody>\n",
       "    <tr>\n",
       "      <th>57264</th>\n",
       "      <td>11</td>\n",
       "      <td>NEAL CONAN, host</td>\n",
       "      <td>So in every team, presumably there's one star,...</td>\n",
       "      <td>Talk of the Nation</td>\n",
       "      <td>How To Watch The Tour De France</td>\n",
       "      <td>True</td>\n",
       "      <td>so in every team presumably there s one star o...</td>\n",
       "      <td>every team presumably one star one equivalent ...</td>\n",
       "      <td>0.7096</td>\n",
       "      <td>2010-07-12</td>\n",
       "      <td>Jul</td>\n",
       "      <td>2010</td>\n",
       "    </tr>\n",
       "  </tbody>\n",
       "</table>\n",
       "</div>"
      ],
      "text/plain": [
       "            episode_order           speaker  \\\n",
       "episode_id                                    \n",
       "57264                  11  NEAL CONAN, host   \n",
       "\n",
       "                                                    utterance  \\\n",
       "episode_id                                                      \n",
       "57264       So in every team, presumably there's one star,...   \n",
       "\n",
       "                       program                            title  is_host  \\\n",
       "episode_id                                                                 \n",
       "57264       Talk of the Nation  How To Watch The Tour De France     True   \n",
       "\n",
       "                                                        clean  \\\n",
       "episode_id                                                      \n",
       "57264       so in every team presumably there s one star o...   \n",
       "\n",
       "                                           lemmatized_stopped  vader_stopped  \\\n",
       "episode_id                                                                     \n",
       "57264       every team presumably one star one equivalent ...         0.7096   \n",
       "\n",
       "                 date month  year  \n",
       "episode_id                         \n",
       "57264      2010-07-12   Jul  2010  "
      ]
     },
     "execution_count": 62,
     "metadata": {},
     "output_type": "execute_result"
    }
   ],
   "source": [
    "top_hosts_df.head(1)"
   ]
  },
  {
   "cell_type": "code",
   "execution_count": 63,
   "id": "9eb5438d",
   "metadata": {},
   "outputs": [
    {
     "data": {
      "text/plain": [
       "0.16464489271365668"
      ]
     },
     "execution_count": 63,
     "metadata": {},
     "output_type": "execute_result"
    }
   ],
   "source": [
    "top_hosts_df.vader_stopped.mean()"
   ]
  },
  {
   "cell_type": "markdown",
   "id": "b688201e",
   "metadata": {},
   "source": [
    "- Here, we have the average sentiment score for all the top hosts; as you can see, it is relatively neutral in sentiment"
   ]
  },
  {
   "cell_type": "code",
   "execution_count": 67,
   "id": "f5cd0832",
   "metadata": {},
   "outputs": [
    {
     "data": {
      "image/png": "[encoded data removed]",
      "text/plain": [
       "<Figure size 1440x720 with 1 Axes>"
      ]
     },
     "metadata": {
      "needs_background": "light"
     },
     "output_type": "display_data"
    }
   ],
   "source": [
    "plt.figure(figsize=(20,10))\n",
    "sns.boxplot(data=top_hosts_df, x='speaker',y='vader_stopped')\n",
    "plt.xticks(rotation=90);"
   ]
  },
  {
   "cell_type": "markdown",
   "id": "e7227631",
   "metadata": {},
   "source": [
    "- The mean sentiment value is awfully close for everyone here, so i'm going to stats test it with an ANOVA test"
   ]
  },
  {
   "cell_type": "code",
   "execution_count": 68,
   "id": "4f81ebfe",
   "metadata": {},
   "outputs": [],
   "source": [
    "null_hypothesis = \"Average sentiment score is the same across hosts\"\n",
    "alternative_hypothesis = \"Average sentiment score is different from one host to the next\"\n",
    "alpha = 0.01 # Let's be 99% certain the result we see isn't due to chance/randomness"
   ]
  },
  {
   "cell_type": "code",
   "execution_count": 102,
   "id": "f444fa09",
   "metadata": {},
   "outputs": [
    {
     "name": "stdout",
     "output_type": "stream",
     "text": [
      "['NEAL_df', 'IRA_df', 'FARAI_df', 'MADELEINE_df', 'ROBERT_df', 'STEVE_df', 'ALEX_df', 'MELISSA_df', 'RENEE_df', 'GUY_df', 'ED_df', 'MICHELE_df']\n"
     ]
    }
   ],
   "source": [
    "host_df_list=[]\n",
    "for host in hosts_with_the_most:\n",
    "    x = host.split()\n",
    "    host_df_list.append(f'{x[0]}_df')\n",
    "print(host_df_list)"
   ]
  },
  {
   "cell_type": "code",
   "execution_count": 109,
   "id": "c45583e8",
   "metadata": {
    "scrolled": true
   },
   "outputs": [],
   "source": [
    "# Let's isolate our hosts\n",
    "NEAL_df = df[df.speaker == 'NEAL CONAN, host'].vader_stopped\n",
    "IRA_df = df[df.speaker == 'IRA FLATOW, host'].vader_stopped\n",
    "FARAI_df = df[df.speaker == 'FARAI CHIDEYA, host'].vader_stopped\n",
    "MADELEINE_df = df[df.speaker == 'MADELEINE BRAND, host'].vader_stopped\n",
    "ROBERT_df = df[df.speaker == 'ROBERT SIEGEL, host'].vader_stopped\n",
    "STEVE_df = df[df.speaker == 'STEVE INSKEEP, host'].vader_stopped\n",
    "ALEX_df = df[df.speaker == 'ALEX CHADWICK, host'].vader_stopped\n",
    "MELISSA_df = df[df.speaker == 'MELISSA BLOCK, host'].vader_stopped\n",
    "RENEE_df = df[df.speaker == 'RENEE MONTAGNE, host'].vader_stopped\n",
    "GUY_df = df[df.speaker == 'GUY RAZ, host'].vader_stopped\n",
    "ED_df = df[df.speaker == 'ED GORDON, host'].vader_stopped\n",
    "MICHELE_df = df[df.speaker == 'MICHELE NORRIS, host'].vader_stopped"
   ]
  },
  {
   "cell_type": "code",
   "execution_count": 110,
   "id": "1cbe6491",
   "metadata": {},
   "outputs": [
    {
     "data": {
      "text/plain": [
       "0.0"
      ]
     },
     "execution_count": 110,
     "metadata": {},
     "output_type": "execute_result"
    }
   ],
   "source": [
    "# f_oneway is our ANOVA test\n",
    "# See https://docs.scipy.org/doc/scipy/reference/generated/scipy.stats.f_oneway.html for more info\n",
    "from scipy.stats import f_oneway\n",
    "\n",
    "f, p = f_oneway(NEAL_df, IRA_df, FARAI_df, MADELEINE_df, ROBERT_df, STEVE_df, ALEX_df, MELISSA_df, RENEE_df, GUY_df, ED_df, MICHELE_df)\n",
    "p"
   ]
  },
  {
   "cell_type": "code",
   "execution_count": 112,
   "id": "59377e17",
   "metadata": {},
   "outputs": [
    {
     "name": "stdout",
     "output_type": "stream",
     "text": [
      "We reject the null hypothesis that Average sentiment score is the same across hosts\n",
      "We move forward with the alternative hypothesis that Average sentiment score is different from one host to the next\n"
     ]
    }
   ],
   "source": [
    "if p < alpha:\n",
    "    print(\"We reject the null hypothesis that\", null_hypothesis)\n",
    "    print(\"We move forward with the alternative hypothesis that\", alternative_hypothesis)\n",
    "else:\n",
    "    print(\"We fail to reject the null hypothesis\")\n",
    "    print(\"Evidence does not support the claim that sentiment differs from host to host\")"
   ]
  },
  {
   "cell_type": "code",
   "execution_count": 114,
   "id": "a79060ec",
   "metadata": {},
   "outputs": [
    {
     "data": {
      "text/plain": [
       "(array([ 0,  1,  2,  3,  4,  5,  6,  7,  8,  9, 10, 11]),\n",
       " [Text(0, 0, 'NEAL CONAN, host'),\n",
       "  Text(1, 0, 'MADELEINE BRAND, host'),\n",
       "  Text(2, 0, 'ALEX CHADWICK, host'),\n",
       "  Text(3, 0, 'IRA FLATOW, host'),\n",
       "  Text(4, 0, 'MELISSA BLOCK, host'),\n",
       "  Text(5, 0, 'STEVE INSKEEP, host'),\n",
       "  Text(6, 0, 'MICHELE NORRIS, host'),\n",
       "  Text(7, 0, 'ROBERT SIEGEL, host'),\n",
       "  Text(8, 0, 'RENEE MONTAGNE, host'),\n",
       "  Text(9, 0, 'GUY RAZ, host'),\n",
       "  Text(10, 0, 'FARAI CHIDEYA, host'),\n",
       "  Text(11, 0, 'ED GORDON, host')])"
      ]
     },
     "execution_count": 114,
     "metadata": {},
     "output_type": "execute_result"
    },
    {
     "data": {
      "image/png": "[encoded data removed]",
      "text/plain": [
       "<Figure size 360x360 with 1 Axes>"
      ]
     },
     "metadata": {
      "needs_background": "light"
     },
     "output_type": "display_data"
    }
   ],
   "source": [
    "sns.catplot(x=\"speaker\", y=\"vader_stopped\", kind=\"bar\", data=top_hosts_df)\n",
    "plt.xticks(rotation=90)"
   ]
  },
  {
   "cell_type": "markdown",
   "id": "a94a1e40",
   "metadata": {},
   "source": [
    "- Another view of the same...it looks more clear here that there is a difference, however note the small scale on the y axis"
   ]
  },
  {
   "cell_type": "code",
   "execution_count": null,
   "id": "75a47b88",
   "metadata": {},
   "outputs": [],
   "source": []
  }
 ],
 "metadata": {
  "kernelspec": {
   "display_name": "Python 3",
   "language": "python",
   "name": "python3"
  },
  "language_info": {
   "codemirror_mode": {
    "name": "ipython",
    "version": 3
   },
   "file_extension": ".py",
   "mimetype": "text/x-python",
   "name": "python",
   "nbconvert_exporter": "python",
   "pygments_lexer": "ipython3",
   "version": "3.8.8"
  }
 },
 "nbformat": 4,
 "nbformat_minor": 5
}
