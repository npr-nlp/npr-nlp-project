{
 "cells": [
  {
   "cell_type": "code",
   "execution_count": 1,
   "id": "4fe1ec41",
   "metadata": {},
   "outputs": [],
   "source": [
    "# Import all the things\n",
    "\n",
    "import json\n",
    "import pandas as pd\n",
    "import numpy as np\n",
    "import wrangle\n",
    "import acquire\n",
    "from prepare import basic_clean, tokenize, lemmatize, stem, remove_stopwords, split_data, prep_string_data\n",
    "\n",
    "import re\n",
    "from sklearn.feature_extraction.text import TfidfVectorizer\n",
    "\n",
    "from wordcloud import WordCloud\n",
    "from matplotlib import pyplot as plt\n",
    "import seaborn as sns\n",
    "\n",
    "import nltk\n",
    "\n",
    "from scipy import stats\n",
    "\n",
    "import warnings\n",
    "warnings.filterwarnings(\"ignore\")"
   ]
  },
  {
   "cell_type": "code",
   "execution_count": 2,
   "id": "45972e72",
   "metadata": {},
   "outputs": [
    {
     "name": "stdout",
     "output_type": "stream",
     "text": [
      "The df has 2998347 rows and 11 columns.\n"
     ]
    },
    {
     "data": {
      "text/html": [
       "<div>\n",
       "<style scoped>\n",
       "    .dataframe tbody tr th:only-of-type {\n",
       "        vertical-align: middle;\n",
       "    }\n",
       "\n",
       "    .dataframe tbody tr th {\n",
       "        vertical-align: top;\n",
       "    }\n",
       "\n",
       "    .dataframe thead th {\n",
       "        text-align: right;\n",
       "    }\n",
       "</style>\n",
       "<table border=\"1\" class=\"dataframe\">\n",
       "  <thead>\n",
       "    <tr style=\"text-align: right;\">\n",
       "      <th></th>\n",
       "      <th>episode_id</th>\n",
       "      <th>episode_order</th>\n",
       "      <th>speaker</th>\n",
       "      <th>utterance</th>\n",
       "      <th>program</th>\n",
       "      <th>title</th>\n",
       "      <th>episode_date</th>\n",
       "      <th>is_host</th>\n",
       "      <th>clean</th>\n",
       "      <th>lemmatized_stopped</th>\n",
       "      <th>vader_stopped</th>\n",
       "    </tr>\n",
       "  </thead>\n",
       "  <tbody>\n",
       "    <tr>\n",
       "      <th>0</th>\n",
       "      <td>57264</td>\n",
       "      <td>9</td>\n",
       "      <td>Ms. LOREN MOONEY (Editor-in-Chief, Bicycling M...</td>\n",
       "      <td>It's a 2,200-mile race. To give some sense of ...</td>\n",
       "      <td>Talk of the Nation</td>\n",
       "      <td>How To Watch The Tour De France</td>\n",
       "      <td>2010-07-12</td>\n",
       "      <td>False</td>\n",
       "      <td>it s a 2200 mile race. to give some sense of p...</td>\n",
       "      <td>2200 mile race. give sense perspective roughly...</td>\n",
       "      <td>0.0000</td>\n",
       "    </tr>\n",
       "    <tr>\n",
       "      <th>1</th>\n",
       "      <td>57264</td>\n",
       "      <td>10</td>\n",
       "      <td>Ms. LOREN MOONEY (Editor-in-Chief, Bicycling M...</td>\n",
       "      <td>So for a top competitor like Lance to try to m...</td>\n",
       "      <td>Talk of the Nation</td>\n",
       "      <td>How To Watch The Tour De France</td>\n",
       "      <td>2010-07-12</td>\n",
       "      <td>False</td>\n",
       "      <td>so for a top competitor like lance to try to m...</td>\n",
       "      <td>top competitor like lance try make much time 1...</td>\n",
       "      <td>0.9313</td>\n",
       "    </tr>\n",
       "    <tr>\n",
       "      <th>2</th>\n",
       "      <td>57264</td>\n",
       "      <td>11</td>\n",
       "      <td>NEAL CONAN, host</td>\n",
       "      <td>So in every team, presumably there's one star,...</td>\n",
       "      <td>Talk of the Nation</td>\n",
       "      <td>How To Watch The Tour De France</td>\n",
       "      <td>2010-07-12</td>\n",
       "      <td>True</td>\n",
       "      <td>so in every team presumably there s one star o...</td>\n",
       "      <td>every team presumably one star one equivalent ...</td>\n",
       "      <td>0.7096</td>\n",
       "    </tr>\n",
       "    <tr>\n",
       "      <th>3</th>\n",
       "      <td>57264</td>\n",
       "      <td>12</td>\n",
       "      <td>Ms. LOREN MOONEY (Editor-in-Chief, Bicycling M...</td>\n",
       "      <td>That's right. Each team has nine riders. And w...</td>\n",
       "      <td>Talk of the Nation</td>\n",
       "      <td>How To Watch The Tour De France</td>\n",
       "      <td>2010-07-12</td>\n",
       "      <td>False</td>\n",
       "      <td>that s right. each team has nine riders. and w...</td>\n",
       "      <td>right. team ha nine riders. basically team lea...</td>\n",
       "      <td>0.9274</td>\n",
       "    </tr>\n",
       "    <tr>\n",
       "      <th>4</th>\n",
       "      <td>57264</td>\n",
       "      <td>13</td>\n",
       "      <td>NEAL CONAN, host</td>\n",
       "      <td>So slipstream, this is like drafting in car ra...</td>\n",
       "      <td>Talk of the Nation</td>\n",
       "      <td>How To Watch The Tour De France</td>\n",
       "      <td>2010-07-12</td>\n",
       "      <td>True</td>\n",
       "      <td>so slipstream this is like drafting in car rac...</td>\n",
       "      <td>slipstream like drafting car racing right ?</td>\n",
       "      <td>0.3612</td>\n",
       "    </tr>\n",
       "  </tbody>\n",
       "</table>\n",
       "</div>"
      ],
      "text/plain": [
       "   episode_id  episode_order  \\\n",
       "0       57264              9   \n",
       "1       57264             10   \n",
       "2       57264             11   \n",
       "3       57264             12   \n",
       "4       57264             13   \n",
       "\n",
       "                                             speaker  \\\n",
       "0  Ms. LOREN MOONEY (Editor-in-Chief, Bicycling M...   \n",
       "1  Ms. LOREN MOONEY (Editor-in-Chief, Bicycling M...   \n",
       "2                                   NEAL CONAN, host   \n",
       "3  Ms. LOREN MOONEY (Editor-in-Chief, Bicycling M...   \n",
       "4                                   NEAL CONAN, host   \n",
       "\n",
       "                                           utterance             program  \\\n",
       "0  It's a 2,200-mile race. To give some sense of ...  Talk of the Nation   \n",
       "1  So for a top competitor like Lance to try to m...  Talk of the Nation   \n",
       "2  So in every team, presumably there's one star,...  Talk of the Nation   \n",
       "3  That's right. Each team has nine riders. And w...  Talk of the Nation   \n",
       "4  So slipstream, this is like drafting in car ra...  Talk of the Nation   \n",
       "\n",
       "                             title episode_date  is_host  \\\n",
       "0  How To Watch The Tour De France   2010-07-12    False   \n",
       "1  How To Watch The Tour De France   2010-07-12    False   \n",
       "2  How To Watch The Tour De France   2010-07-12     True   \n",
       "3  How To Watch The Tour De France   2010-07-12    False   \n",
       "4  How To Watch The Tour De France   2010-07-12     True   \n",
       "\n",
       "                                               clean  \\\n",
       "0  it s a 2200 mile race. to give some sense of p...   \n",
       "1  so for a top competitor like lance to try to m...   \n",
       "2  so in every team presumably there s one star o...   \n",
       "3  that s right. each team has nine riders. and w...   \n",
       "4  so slipstream this is like drafting in car rac...   \n",
       "\n",
       "                                  lemmatized_stopped  vader_stopped  \n",
       "0  2200 mile race. give sense perspective roughly...         0.0000  \n",
       "1  top competitor like lance try make much time 1...         0.9313  \n",
       "2  every team presumably one star one equivalent ...         0.7096  \n",
       "3  right. team ha nine riders. basically team lea...         0.9274  \n",
       "4        slipstream like drafting car racing right ?         0.3612  "
      ]
     },
     "execution_count": 2,
     "metadata": {},
     "output_type": "execute_result"
    }
   ],
   "source": [
    "df = wrangle.get_npr_data()\n",
    "df.head()"
   ]
  },
  {
   "cell_type": "markdown",
   "id": "868c9016",
   "metadata": {},
   "source": [
    "## Is there a difference in the mean sentiment by speaker? Program? etc\n",
    "- Applied statistics-> i.e. stats testing. Is there a difference in the mean sentiment by speaker? Program? etc "
   ]
  },
  {
   "cell_type": "code",
   "execution_count": 4,
   "id": "a01ead45",
   "metadata": {},
   "outputs": [
    {
     "data": {
      "text/plain": [
       "Index(['episode_id', 'episode_order', 'speaker', 'utterance', 'program',\n",
       "       'title', 'episode_date', 'is_host', 'clean', 'lemmatized_stopped',\n",
       "       'vader_stopped'],\n",
       "      dtype='object')"
      ]
     },
     "execution_count": 4,
     "metadata": {},
     "output_type": "execute_result"
    }
   ],
   "source": [
    "df.columns"
   ]
  },
  {
   "cell_type": "code",
   "execution_count": 7,
   "id": "e8e2e69e",
   "metadata": {},
   "outputs": [
    {
     "data": {
      "text/plain": [
       "(2998347, 11)"
      ]
     },
     "execution_count": 7,
     "metadata": {},
     "output_type": "execute_result"
    }
   ],
   "source": [
    "df.shape"
   ]
  },
  {
   "cell_type": "code",
   "execution_count": 8,
   "id": "ba6c4d43",
   "metadata": {},
   "outputs": [
    {
     "data": {
      "text/plain": [
       "episode_id              int64\n",
       "episode_order           int64\n",
       "speaker                object\n",
       "utterance              object\n",
       "program                object\n",
       "title                  object\n",
       "episode_date           object\n",
       "is_host                  bool\n",
       "clean                  object\n",
       "lemmatized_stopped     object\n",
       "vader_stopped         float64\n",
       "dtype: object"
      ]
     },
     "execution_count": 8,
     "metadata": {},
     "output_type": "execute_result"
    }
   ],
   "source": [
    "df.dtypes"
   ]
  },
  {
   "cell_type": "code",
   "execution_count": 9,
   "id": "499385cd",
   "metadata": {},
   "outputs": [],
   "source": [
    "df.episode_date = pd.to_datetime(df.episode_date)"
   ]
  },
  {
   "cell_type": "code",
   "execution_count": 10,
   "id": "a7418211",
   "metadata": {},
   "outputs": [
    {
     "data": {
      "text/plain": [
       "episode_id                     int64\n",
       "episode_order                  int64\n",
       "speaker                       object\n",
       "utterance                     object\n",
       "program                       object\n",
       "title                         object\n",
       "episode_date          datetime64[ns]\n",
       "is_host                         bool\n",
       "clean                         object\n",
       "lemmatized_stopped            object\n",
       "vader_stopped                float64\n",
       "dtype: object"
      ]
     },
     "execution_count": 10,
     "metadata": {},
     "output_type": "execute_result"
    }
   ],
   "source": [
    "df.dtypes"
   ]
  },
  {
   "cell_type": "code",
   "execution_count": 5,
   "id": "933976f6",
   "metadata": {},
   "outputs": [
    {
     "data": {
      "text/plain": [
       "35108    512\n",
       "73336    475\n",
       "57481    459\n",
       "19633    453\n",
       "77896    419\n",
       "        ... \n",
       "85857      1\n",
       "54086      1\n",
       "77677      1\n",
       "7000       1\n",
       "31142      1\n",
       "Name: episode_id, Length: 104896, dtype: int64"
      ]
     },
     "execution_count": 5,
     "metadata": {},
     "output_type": "execute_result"
    }
   ],
   "source": [
    "df.episode_id.value_counts()"
   ]
  },
  {
   "cell_type": "code",
   "execution_count": 6,
   "id": "048d20d1",
   "metadata": {},
   "outputs": [
    {
     "data": {
      "text/plain": [
       "episode_id\n",
       "1         0.266400\n",
       "2         0.352819\n",
       "3        -0.219529\n",
       "4         0.059670\n",
       "5         0.216645\n",
       "            ...   \n",
       "140746    0.265561\n",
       "140747    0.068450\n",
       "140748    0.330058\n",
       "140749    0.163007\n",
       "141179    0.422604\n",
       "Name: vader_stopped, Length: 104896, dtype: float64"
      ]
     },
     "execution_count": 6,
     "metadata": {},
     "output_type": "execute_result"
    }
   ],
   "source": [
    "df.groupby(by='episode_id').vader_stopped.mean()"
   ]
  },
  {
   "cell_type": "code",
   "execution_count": 11,
   "id": "087c164f",
   "metadata": {},
   "outputs": [],
   "source": [
    "import matplotlib.pyplot as plt\n",
    "import seaborn as sns"
   ]
  },
  {
   "cell_type": "markdown",
   "id": "2f2a36f1",
   "metadata": {},
   "source": [
    "### Looking to do a lineplot of mean sentiment by day (or maybe resampled by month or whatever), and hue on program (and later, on year...or etc)"
   ]
  },
  {
   "cell_type": "code",
   "execution_count": 27,
   "id": "c01977bc",
   "metadata": {
    "scrolled": true
   },
   "outputs": [],
   "source": [
    "sample = df.set_index('episode_date').sample(100000)\n",
    "sample=sample.dropna()"
   ]
  },
  {
   "cell_type": "code",
   "execution_count": 28,
   "id": "3f0bef13",
   "metadata": {},
   "outputs": [
    {
     "data": {
      "text/plain": [
       "episode_id            0\n",
       "episode_order         0\n",
       "speaker               0\n",
       "utterance             0\n",
       "program               0\n",
       "title                 0\n",
       "is_host               0\n",
       "clean                 0\n",
       "lemmatized_stopped    0\n",
       "vader_stopped         0\n",
       "dtype: int64"
      ]
     },
     "execution_count": 28,
     "metadata": {},
     "output_type": "execute_result"
    }
   ],
   "source": [
    "sample.isna().sum()"
   ]
  },
  {
   "cell_type": "code",
   "execution_count": 38,
   "id": "d0b216fb",
   "metadata": {},
   "outputs": [
    {
     "data": {
      "text/plain": [
       "episode_date\n",
       "2004-01-31   -0.242350\n",
       "2004-02-29         NaN\n",
       "2004-03-31         NaN\n",
       "2004-04-30         NaN\n",
       "2004-05-31         NaN\n",
       "                ...   \n",
       "2019-06-30    0.183676\n",
       "2019-07-31    0.191577\n",
       "2019-08-31    0.168183\n",
       "2019-09-30    0.207131\n",
       "2019-10-31    0.156653\n",
       "Freq: M, Name: vader_stopped, Length: 190, dtype: float64"
      ]
     },
     "execution_count": 38,
     "metadata": {},
     "output_type": "execute_result"
    }
   ],
   "source": [
    "sample.resample('M').vader_stopped.mean()"
   ]
  },
  {
   "cell_type": "code",
   "execution_count": 33,
   "id": "cac311fc",
   "metadata": {
    "scrolled": true
   },
   "outputs": [
    {
     "ename": "ValueError",
     "evalue": "Could not interpret value `vader_stopped` for parameter `y`",
     "output_type": "error",
     "traceback": [
      "\u001b[0;31m---------------------------------------------------------------------------\u001b[0m",
      "\u001b[0;31mValueError\u001b[0m                                Traceback (most recent call last)",
      "\u001b[0;32m<ipython-input-33-73de92a4cce1>\u001b[0m in \u001b[0;36m<module>\u001b[0;34m\u001b[0m\n\u001b[1;32m      1\u001b[0m \u001b[0mplt\u001b[0m\u001b[0;34m.\u001b[0m\u001b[0mfigure\u001b[0m\u001b[0;34m(\u001b[0m\u001b[0mfigsize\u001b[0m\u001b[0;34m=\u001b[0m\u001b[0;34m(\u001b[0m\u001b[0;36m20\u001b[0m\u001b[0;34m,\u001b[0m\u001b[0;36m10\u001b[0m\u001b[0;34m)\u001b[0m\u001b[0;34m)\u001b[0m\u001b[0;34m\u001b[0m\u001b[0;34m\u001b[0m\u001b[0m\n\u001b[0;32m----> 2\u001b[0;31m \u001b[0msns\u001b[0m\u001b[0;34m.\u001b[0m\u001b[0mlineplot\u001b[0m\u001b[0;34m(\u001b[0m\u001b[0mdata\u001b[0m\u001b[0;34m=\u001b[0m\u001b[0mdrawing\u001b[0m\u001b[0;34m,\u001b[0m \u001b[0mx\u001b[0m\u001b[0;34m=\u001b[0m\u001b[0mdrawing\u001b[0m\u001b[0;34m.\u001b[0m\u001b[0mindex\u001b[0m\u001b[0;34m,\u001b[0m\u001b[0my\u001b[0m\u001b[0;34m=\u001b[0m\u001b[0;34m'vader_stopped'\u001b[0m\u001b[0;34m,\u001b[0m \u001b[0mhue\u001b[0m\u001b[0;34m=\u001b[0m\u001b[0;34m'program'\u001b[0m\u001b[0;34m)\u001b[0m\u001b[0;34m\u001b[0m\u001b[0;34m\u001b[0m\u001b[0m\n\u001b[0m",
      "\u001b[0;32m/usr/local/anaconda3/lib/python3.8/site-packages/seaborn/_decorators.py\u001b[0m in \u001b[0;36minner_f\u001b[0;34m(*args, **kwargs)\u001b[0m\n\u001b[1;32m     44\u001b[0m             )\n\u001b[1;32m     45\u001b[0m         \u001b[0mkwargs\u001b[0m\u001b[0;34m.\u001b[0m\u001b[0mupdate\u001b[0m\u001b[0;34m(\u001b[0m\u001b[0;34m{\u001b[0m\u001b[0mk\u001b[0m\u001b[0;34m:\u001b[0m \u001b[0marg\u001b[0m \u001b[0;32mfor\u001b[0m \u001b[0mk\u001b[0m\u001b[0;34m,\u001b[0m \u001b[0marg\u001b[0m \u001b[0;32min\u001b[0m \u001b[0mzip\u001b[0m\u001b[0;34m(\u001b[0m\u001b[0msig\u001b[0m\u001b[0;34m.\u001b[0m\u001b[0mparameters\u001b[0m\u001b[0;34m,\u001b[0m \u001b[0margs\u001b[0m\u001b[0;34m)\u001b[0m\u001b[0;34m}\u001b[0m\u001b[0;34m)\u001b[0m\u001b[0;34m\u001b[0m\u001b[0;34m\u001b[0m\u001b[0m\n\u001b[0;32m---> 46\u001b[0;31m         \u001b[0;32mreturn\u001b[0m \u001b[0mf\u001b[0m\u001b[0;34m(\u001b[0m\u001b[0;34m**\u001b[0m\u001b[0mkwargs\u001b[0m\u001b[0;34m)\u001b[0m\u001b[0;34m\u001b[0m\u001b[0;34m\u001b[0m\u001b[0m\n\u001b[0m\u001b[1;32m     47\u001b[0m     \u001b[0;32mreturn\u001b[0m \u001b[0minner_f\u001b[0m\u001b[0;34m\u001b[0m\u001b[0;34m\u001b[0m\u001b[0m\n\u001b[1;32m     48\u001b[0m \u001b[0;34m\u001b[0m\u001b[0m\n",
      "\u001b[0;32m/usr/local/anaconda3/lib/python3.8/site-packages/seaborn/relational.py\u001b[0m in \u001b[0;36mlineplot\u001b[0;34m(x, y, hue, size, style, data, palette, hue_order, hue_norm, sizes, size_order, size_norm, dashes, markers, style_order, units, estimator, ci, n_boot, seed, sort, err_style, err_kws, legend, ax, **kwargs)\u001b[0m\n\u001b[1;32m    683\u001b[0m \u001b[0;34m\u001b[0m\u001b[0m\n\u001b[1;32m    684\u001b[0m     \u001b[0mvariables\u001b[0m \u001b[0;34m=\u001b[0m \u001b[0m_LinePlotter\u001b[0m\u001b[0;34m.\u001b[0m\u001b[0mget_semantics\u001b[0m\u001b[0;34m(\u001b[0m\u001b[0mlocals\u001b[0m\u001b[0;34m(\u001b[0m\u001b[0;34m)\u001b[0m\u001b[0;34m)\u001b[0m\u001b[0;34m\u001b[0m\u001b[0;34m\u001b[0m\u001b[0m\n\u001b[0;32m--> 685\u001b[0;31m     p = _LinePlotter(\n\u001b[0m\u001b[1;32m    686\u001b[0m         \u001b[0mdata\u001b[0m\u001b[0;34m=\u001b[0m\u001b[0mdata\u001b[0m\u001b[0;34m,\u001b[0m \u001b[0mvariables\u001b[0m\u001b[0;34m=\u001b[0m\u001b[0mvariables\u001b[0m\u001b[0;34m,\u001b[0m\u001b[0;34m\u001b[0m\u001b[0;34m\u001b[0m\u001b[0m\n\u001b[1;32m    687\u001b[0m         \u001b[0mestimator\u001b[0m\u001b[0;34m=\u001b[0m\u001b[0mestimator\u001b[0m\u001b[0;34m,\u001b[0m \u001b[0mci\u001b[0m\u001b[0;34m=\u001b[0m\u001b[0mci\u001b[0m\u001b[0;34m,\u001b[0m \u001b[0mn_boot\u001b[0m\u001b[0;34m=\u001b[0m\u001b[0mn_boot\u001b[0m\u001b[0;34m,\u001b[0m \u001b[0mseed\u001b[0m\u001b[0;34m=\u001b[0m\u001b[0mseed\u001b[0m\u001b[0;34m,\u001b[0m\u001b[0;34m\u001b[0m\u001b[0;34m\u001b[0m\u001b[0m\n",
      "\u001b[0;32m/usr/local/anaconda3/lib/python3.8/site-packages/seaborn/relational.py\u001b[0m in \u001b[0;36m__init__\u001b[0;34m(self, data, variables, estimator, ci, n_boot, seed, sort, err_style, err_kws, legend)\u001b[0m\n\u001b[1;32m    365\u001b[0m         )\n\u001b[1;32m    366\u001b[0m \u001b[0;34m\u001b[0m\u001b[0m\n\u001b[0;32m--> 367\u001b[0;31m         \u001b[0msuper\u001b[0m\u001b[0;34m(\u001b[0m\u001b[0;34m)\u001b[0m\u001b[0;34m.\u001b[0m\u001b[0m__init__\u001b[0m\u001b[0;34m(\u001b[0m\u001b[0mdata\u001b[0m\u001b[0;34m=\u001b[0m\u001b[0mdata\u001b[0m\u001b[0;34m,\u001b[0m \u001b[0mvariables\u001b[0m\u001b[0;34m=\u001b[0m\u001b[0mvariables\u001b[0m\u001b[0;34m)\u001b[0m\u001b[0;34m\u001b[0m\u001b[0;34m\u001b[0m\u001b[0m\n\u001b[0m\u001b[1;32m    368\u001b[0m \u001b[0;34m\u001b[0m\u001b[0m\n\u001b[1;32m    369\u001b[0m         \u001b[0mself\u001b[0m\u001b[0;34m.\u001b[0m\u001b[0mestimator\u001b[0m \u001b[0;34m=\u001b[0m \u001b[0mestimator\u001b[0m\u001b[0;34m\u001b[0m\u001b[0;34m\u001b[0m\u001b[0m\n",
      "\u001b[0;32m/usr/local/anaconda3/lib/python3.8/site-packages/seaborn/_core.py\u001b[0m in \u001b[0;36m__init__\u001b[0;34m(self, data, variables)\u001b[0m\n\u001b[1;32m    602\u001b[0m     \u001b[0;32mdef\u001b[0m \u001b[0m__init__\u001b[0m\u001b[0;34m(\u001b[0m\u001b[0mself\u001b[0m\u001b[0;34m,\u001b[0m \u001b[0mdata\u001b[0m\u001b[0;34m=\u001b[0m\u001b[0;32mNone\u001b[0m\u001b[0;34m,\u001b[0m \u001b[0mvariables\u001b[0m\u001b[0;34m=\u001b[0m\u001b[0;34m{\u001b[0m\u001b[0;34m}\u001b[0m\u001b[0;34m)\u001b[0m\u001b[0;34m:\u001b[0m\u001b[0;34m\u001b[0m\u001b[0;34m\u001b[0m\u001b[0m\n\u001b[1;32m    603\u001b[0m \u001b[0;34m\u001b[0m\u001b[0m\n\u001b[0;32m--> 604\u001b[0;31m         \u001b[0mself\u001b[0m\u001b[0;34m.\u001b[0m\u001b[0massign_variables\u001b[0m\u001b[0;34m(\u001b[0m\u001b[0mdata\u001b[0m\u001b[0;34m,\u001b[0m \u001b[0mvariables\u001b[0m\u001b[0;34m)\u001b[0m\u001b[0;34m\u001b[0m\u001b[0;34m\u001b[0m\u001b[0m\n\u001b[0m\u001b[1;32m    605\u001b[0m \u001b[0;34m\u001b[0m\u001b[0m\n\u001b[1;32m    606\u001b[0m         \u001b[0;32mfor\u001b[0m \u001b[0mvar\u001b[0m\u001b[0;34m,\u001b[0m \u001b[0mcls\u001b[0m \u001b[0;32min\u001b[0m \u001b[0mself\u001b[0m\u001b[0;34m.\u001b[0m\u001b[0m_semantic_mappings\u001b[0m\u001b[0;34m.\u001b[0m\u001b[0mitems\u001b[0m\u001b[0;34m(\u001b[0m\u001b[0;34m)\u001b[0m\u001b[0;34m:\u001b[0m\u001b[0;34m\u001b[0m\u001b[0;34m\u001b[0m\u001b[0m\n",
      "\u001b[0;32m/usr/local/anaconda3/lib/python3.8/site-packages/seaborn/_core.py\u001b[0m in \u001b[0;36massign_variables\u001b[0;34m(self, data, variables)\u001b[0m\n\u001b[1;32m    665\u001b[0m         \u001b[0;32melse\u001b[0m\u001b[0;34m:\u001b[0m\u001b[0;34m\u001b[0m\u001b[0;34m\u001b[0m\u001b[0m\n\u001b[1;32m    666\u001b[0m             \u001b[0mself\u001b[0m\u001b[0;34m.\u001b[0m\u001b[0minput_format\u001b[0m \u001b[0;34m=\u001b[0m \u001b[0;34m\"long\"\u001b[0m\u001b[0;34m\u001b[0m\u001b[0;34m\u001b[0m\u001b[0m\n\u001b[0;32m--> 667\u001b[0;31m             plot_data, variables = self._assign_variables_longform(\n\u001b[0m\u001b[1;32m    668\u001b[0m                 \u001b[0mdata\u001b[0m\u001b[0;34m,\u001b[0m \u001b[0;34m**\u001b[0m\u001b[0mvariables\u001b[0m\u001b[0;34m,\u001b[0m\u001b[0;34m\u001b[0m\u001b[0;34m\u001b[0m\u001b[0m\n\u001b[1;32m    669\u001b[0m             )\n",
      "\u001b[0;32m/usr/local/anaconda3/lib/python3.8/site-packages/seaborn/_core.py\u001b[0m in \u001b[0;36m_assign_variables_longform\u001b[0;34m(self, data, **kwargs)\u001b[0m\n\u001b[1;32m    900\u001b[0m \u001b[0;34m\u001b[0m\u001b[0m\n\u001b[1;32m    901\u001b[0m                 \u001b[0merr\u001b[0m \u001b[0;34m=\u001b[0m \u001b[0;34mf\"Could not interpret value `{val}` for parameter `{key}`\"\u001b[0m\u001b[0;34m\u001b[0m\u001b[0;34m\u001b[0m\u001b[0m\n\u001b[0;32m--> 902\u001b[0;31m                 \u001b[0;32mraise\u001b[0m \u001b[0mValueError\u001b[0m\u001b[0;34m(\u001b[0m\u001b[0merr\u001b[0m\u001b[0;34m)\u001b[0m\u001b[0;34m\u001b[0m\u001b[0;34m\u001b[0m\u001b[0m\n\u001b[0m\u001b[1;32m    903\u001b[0m \u001b[0;34m\u001b[0m\u001b[0m\n\u001b[1;32m    904\u001b[0m             \u001b[0;32melse\u001b[0m\u001b[0;34m:\u001b[0m\u001b[0;34m\u001b[0m\u001b[0;34m\u001b[0m\u001b[0m\n",
      "\u001b[0;31mValueError\u001b[0m: Could not interpret value `vader_stopped` for parameter `y`"
     ]
    },
    {
     "data": {
      "text/plain": [
       "<Figure size 1440x720 with 0 Axes>"
      ]
     },
     "metadata": {},
     "output_type": "display_data"
    }
   ],
   "source": [
    "plt.figure(figsize=(20,10))\n",
    "sns.lineplot(data=drawing, x=drawing.index,y='vader_stopped', hue='program')\n"
   ]
  },
  {
   "cell_type": "code",
   "execution_count": null,
   "id": "de3d7d45",
   "metadata": {},
   "outputs": [],
   "source": []
  }
 ],
 "metadata": {
  "kernelspec": {
   "display_name": "Python 3",
   "language": "python",
   "name": "python3"
  },
  "language_info": {
   "codemirror_mode": {
    "name": "ipython",
    "version": 3
   },
   "file_extension": ".py",
   "mimetype": "text/x-python",
   "name": "python",
   "nbconvert_exporter": "python",
   "pygments_lexer": "ipython3",
   "version": "3.8.8"
  }
 },
 "nbformat": 4,
 "nbformat_minor": 5
}
