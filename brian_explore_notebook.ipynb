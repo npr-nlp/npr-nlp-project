{
 "cells": [
  {
   "cell_type": "code",
   "execution_count": 1,
   "id": "4fe1ec41",
   "metadata": {},
   "outputs": [],
   "source": [
    "# Import all the things\n",
    "\n",
    "import json\n",
    "import pandas as pd\n",
    "import numpy as np\n",
    "import wrangle\n",
    "import acquire\n",
    "from prepare import basic_clean, tokenize, lemmatize, stem, remove_stopwords, prep_string_data#, split_data\n",
    "\n",
    "import re\n",
    "from sklearn.feature_extraction.text import TfidfVectorizer\n",
    "\n",
    "from wordcloud import WordCloud\n",
    "from matplotlib import pyplot as plt\n",
    "import seaborn as sns\n",
    "\n",
    "import nltk\n",
    "\n",
    "from scipy import stats\n",
    "\n",
    "import warnings\n",
    "warnings.filterwarnings(\"ignore\")"
   ]
  },
  {
   "cell_type": "markdown",
   "id": "07320e93",
   "metadata": {},
   "source": [
    "# ALL OF THE BELOW EXPLORATION NEEDS TO BE DONE ON TRAIN ONLY.  LET'S SPLIT UP HERE BASED ON A TSA APPROACH\n",
    "### Other of our explorations might work slightly differently, if we do a prediction model or topic modeling"
   ]
  },
  {
   "cell_type": "code",
   "execution_count": 2,
   "id": "45972e72",
   "metadata": {
    "scrolled": true
   },
   "outputs": [
    {
     "name": "stdout",
     "output_type": "stream",
     "text": [
      "The df has 2998347 rows and 10 columns.\n"
     ]
    },
    {
     "data": {
      "text/html": [
       "<div>\n",
       "<style scoped>\n",
       "    .dataframe tbody tr th:only-of-type {\n",
       "        vertical-align: middle;\n",
       "    }\n",
       "\n",
       "    .dataframe tbody tr th {\n",
       "        vertical-align: top;\n",
       "    }\n",
       "\n",
       "    .dataframe thead th {\n",
       "        text-align: right;\n",
       "    }\n",
       "</style>\n",
       "<table border=\"1\" class=\"dataframe\">\n",
       "  <thead>\n",
       "    <tr style=\"text-align: right;\">\n",
       "      <th></th>\n",
       "      <th>episode_order</th>\n",
       "      <th>speaker</th>\n",
       "      <th>utterance</th>\n",
       "      <th>program</th>\n",
       "      <th>title</th>\n",
       "      <th>is_host</th>\n",
       "      <th>clean</th>\n",
       "      <th>lemmatized_stopped</th>\n",
       "      <th>vader_stopped</th>\n",
       "      <th>date</th>\n",
       "    </tr>\n",
       "    <tr>\n",
       "      <th>episode_id</th>\n",
       "      <th></th>\n",
       "      <th></th>\n",
       "      <th></th>\n",
       "      <th></th>\n",
       "      <th></th>\n",
       "      <th></th>\n",
       "      <th></th>\n",
       "      <th></th>\n",
       "      <th></th>\n",
       "      <th></th>\n",
       "    </tr>\n",
       "  </thead>\n",
       "  <tbody>\n",
       "    <tr>\n",
       "      <th>57264</th>\n",
       "      <td>9</td>\n",
       "      <td>ms. loren mooney (editor-in-chief, bicycling m...</td>\n",
       "      <td>It's a 2,200-mile race. To give some sense of ...</td>\n",
       "      <td>Talk of the Nation</td>\n",
       "      <td>How To Watch The Tour De France</td>\n",
       "      <td>False</td>\n",
       "      <td>it s a 2200 mile race. to give some sense of p...</td>\n",
       "      <td>2200 mile race. give sense perspective roughly...</td>\n",
       "      <td>0.0000</td>\n",
       "      <td>2010-07-12</td>\n",
       "    </tr>\n",
       "    <tr>\n",
       "      <th>57264</th>\n",
       "      <td>10</td>\n",
       "      <td>ms. loren mooney (editor-in-chief, bicycling m...</td>\n",
       "      <td>So for a top competitor like Lance to try to m...</td>\n",
       "      <td>Talk of the Nation</td>\n",
       "      <td>How To Watch The Tour De France</td>\n",
       "      <td>False</td>\n",
       "      <td>so for a top competitor like lance to try to m...</td>\n",
       "      <td>top competitor like lance try make much time 1...</td>\n",
       "      <td>0.9313</td>\n",
       "      <td>2010-07-12</td>\n",
       "    </tr>\n",
       "    <tr>\n",
       "      <th>57264</th>\n",
       "      <td>11</td>\n",
       "      <td>neal conan, host</td>\n",
       "      <td>So in every team, presumably there's one star,...</td>\n",
       "      <td>Talk of the Nation</td>\n",
       "      <td>How To Watch The Tour De France</td>\n",
       "      <td>True</td>\n",
       "      <td>so in every team presumably there s one star o...</td>\n",
       "      <td>every team presumably one star one equivalent ...</td>\n",
       "      <td>0.7096</td>\n",
       "      <td>2010-07-12</td>\n",
       "    </tr>\n",
       "    <tr>\n",
       "      <th>57264</th>\n",
       "      <td>12</td>\n",
       "      <td>ms. loren mooney (editor-in-chief, bicycling m...</td>\n",
       "      <td>That's right. Each team has nine riders. And w...</td>\n",
       "      <td>Talk of the Nation</td>\n",
       "      <td>How To Watch The Tour De France</td>\n",
       "      <td>False</td>\n",
       "      <td>that s right. each team has nine riders. and w...</td>\n",
       "      <td>right. team ha nine riders. basically team lea...</td>\n",
       "      <td>0.9274</td>\n",
       "      <td>2010-07-12</td>\n",
       "    </tr>\n",
       "    <tr>\n",
       "      <th>57264</th>\n",
       "      <td>13</td>\n",
       "      <td>neal conan, host</td>\n",
       "      <td>So slipstream, this is like drafting in car ra...</td>\n",
       "      <td>Talk of the Nation</td>\n",
       "      <td>How To Watch The Tour De France</td>\n",
       "      <td>True</td>\n",
       "      <td>so slipstream this is like drafting in car rac...</td>\n",
       "      <td>slipstream like drafting car racing right ?</td>\n",
       "      <td>0.3612</td>\n",
       "      <td>2010-07-12</td>\n",
       "    </tr>\n",
       "  </tbody>\n",
       "</table>\n",
       "</div>"
      ],
      "text/plain": [
       "            episode_order                                            speaker  \\\n",
       "episode_id                                                                     \n",
       "57264                   9  ms. loren mooney (editor-in-chief, bicycling m...   \n",
       "57264                  10  ms. loren mooney (editor-in-chief, bicycling m...   \n",
       "57264                  11                                   neal conan, host   \n",
       "57264                  12  ms. loren mooney (editor-in-chief, bicycling m...   \n",
       "57264                  13                                   neal conan, host   \n",
       "\n",
       "                                                    utterance  \\\n",
       "episode_id                                                      \n",
       "57264       It's a 2,200-mile race. To give some sense of ...   \n",
       "57264       So for a top competitor like Lance to try to m...   \n",
       "57264       So in every team, presumably there's one star,...   \n",
       "57264       That's right. Each team has nine riders. And w...   \n",
       "57264       So slipstream, this is like drafting in car ra...   \n",
       "\n",
       "                       program                            title  is_host  \\\n",
       "episode_id                                                                 \n",
       "57264       Talk of the Nation  How To Watch The Tour De France    False   \n",
       "57264       Talk of the Nation  How To Watch The Tour De France    False   \n",
       "57264       Talk of the Nation  How To Watch The Tour De France     True   \n",
       "57264       Talk of the Nation  How To Watch The Tour De France    False   \n",
       "57264       Talk of the Nation  How To Watch The Tour De France     True   \n",
       "\n",
       "                                                        clean  \\\n",
       "episode_id                                                      \n",
       "57264       it s a 2200 mile race. to give some sense of p...   \n",
       "57264       so for a top competitor like lance to try to m...   \n",
       "57264       so in every team presumably there s one star o...   \n",
       "57264       that s right. each team has nine riders. and w...   \n",
       "57264       so slipstream this is like drafting in car rac...   \n",
       "\n",
       "                                           lemmatized_stopped  vader_stopped  \\\n",
       "episode_id                                                                     \n",
       "57264       2200 mile race. give sense perspective roughly...         0.0000   \n",
       "57264       top competitor like lance try make much time 1...         0.9313   \n",
       "57264       every team presumably one star one equivalent ...         0.7096   \n",
       "57264       right. team ha nine riders. basically team lea...         0.9274   \n",
       "57264             slipstream like drafting car racing right ?         0.3612   \n",
       "\n",
       "                  date  \n",
       "episode_id              \n",
       "57264       2010-07-12  \n",
       "57264       2010-07-12  \n",
       "57264       2010-07-12  \n",
       "57264       2010-07-12  \n",
       "57264       2010-07-12  "
      ]
     },
     "execution_count": 2,
     "metadata": {},
     "output_type": "execute_result"
    }
   ],
   "source": [
    "df = wrangle.get_npr_data()\n",
    "df.head()"
   ]
  },
  {
   "cell_type": "code",
   "execution_count": 3,
   "id": "7bc130ce",
   "metadata": {},
   "outputs": [],
   "source": [
    "# This should be in wrangle now\n",
    "\n",
    "# df['speaker'] = df.speaker.str.lower()\n",
    "# df['is_host'] = df.speaker.str.contains(r'\\W*(host)\\W*')"
   ]
  },
  {
   "cell_type": "code",
   "execution_count": 4,
   "id": "0be99cf7",
   "metadata": {},
   "outputs": [
    {
     "data": {
      "text/html": [
       "<div>\n",
       "<style scoped>\n",
       "    .dataframe tbody tr th:only-of-type {\n",
       "        vertical-align: middle;\n",
       "    }\n",
       "\n",
       "    .dataframe tbody tr th {\n",
       "        vertical-align: top;\n",
       "    }\n",
       "\n",
       "    .dataframe thead th {\n",
       "        text-align: right;\n",
       "    }\n",
       "</style>\n",
       "<table border=\"1\" class=\"dataframe\">\n",
       "  <thead>\n",
       "    <tr style=\"text-align: right;\">\n",
       "      <th></th>\n",
       "      <th>episode_order</th>\n",
       "      <th>speaker</th>\n",
       "      <th>utterance</th>\n",
       "      <th>program</th>\n",
       "      <th>title</th>\n",
       "      <th>is_host</th>\n",
       "      <th>clean</th>\n",
       "      <th>lemmatized_stopped</th>\n",
       "      <th>vader_stopped</th>\n",
       "      <th>date</th>\n",
       "    </tr>\n",
       "    <tr>\n",
       "      <th>episode_id</th>\n",
       "      <th></th>\n",
       "      <th></th>\n",
       "      <th></th>\n",
       "      <th></th>\n",
       "      <th></th>\n",
       "      <th></th>\n",
       "      <th></th>\n",
       "      <th></th>\n",
       "      <th></th>\n",
       "      <th></th>\n",
       "    </tr>\n",
       "  </thead>\n",
       "  <tbody>\n",
       "    <tr>\n",
       "      <th>1</th>\n",
       "      <td>1</td>\n",
       "      <td>lulu garcia-navarro, host</td>\n",
       "      <td>The impeachment inquiry picks up tomorrow wher...</td>\n",
       "      <td>Weekend Edition Sunday</td>\n",
       "      <td>Sunday Politics</td>\n",
       "      <td>True</td>\n",
       "      <td>the impeachment inquiry picks up tomorrow wher...</td>\n",
       "      <td>impeachment inquiry pick tomorrow left friday ...</td>\n",
       "      <td>-0.5267</td>\n",
       "      <td>2019-10-06</td>\n",
       "    </tr>\n",
       "    <tr>\n",
       "      <th>1</th>\n",
       "      <td>2</td>\n",
       "      <td>lulu garcia-navarro, host</td>\n",
       "      <td>Good morning.</td>\n",
       "      <td>Weekend Edition Sunday</td>\n",
       "      <td>Sunday Politics</td>\n",
       "      <td>True</td>\n",
       "      <td>good morning .</td>\n",
       "      <td>good morning .</td>\n",
       "      <td>0.4404</td>\n",
       "      <td>2019-10-06</td>\n",
       "    </tr>\n",
       "    <tr>\n",
       "      <th>1</th>\n",
       "      <td>3</td>\n",
       "      <td>mara liasson, byline</td>\n",
       "      <td>Good morning, Lulu.</td>\n",
       "      <td>Weekend Edition Sunday</td>\n",
       "      <td>Sunday Politics</td>\n",
       "      <td>False</td>\n",
       "      <td>good morning lulu .</td>\n",
       "      <td>good morning lulu .</td>\n",
       "      <td>0.4404</td>\n",
       "      <td>2019-10-06</td>\n",
       "    </tr>\n",
       "    <tr>\n",
       "      <th>1</th>\n",
       "      <td>4</td>\n",
       "      <td>lulu garcia-navarro, host</td>\n",
       "      <td>All right. What's the latest?</td>\n",
       "      <td>Weekend Edition Sunday</td>\n",
       "      <td>Sunday Politics</td>\n",
       "      <td>True</td>\n",
       "      <td>all right. what s the latest ?</td>\n",
       "      <td>right. latest ?</td>\n",
       "      <td>0.0000</td>\n",
       "      <td>2019-10-06</td>\n",
       "    </tr>\n",
       "    <tr>\n",
       "      <th>1</th>\n",
       "      <td>5</td>\n",
       "      <td>mara liasson, byline</td>\n",
       "      <td>Well, the latest is that the lawyer for the fi...</td>\n",
       "      <td>Weekend Edition Sunday</td>\n",
       "      <td>Sunday Politics</td>\n",
       "      <td>False</td>\n",
       "      <td>well the latest is that the lawyer for the fir...</td>\n",
       "      <td>well latest lawyer first whistleblower tweetin...</td>\n",
       "      <td>0.8402</td>\n",
       "      <td>2019-10-06</td>\n",
       "    </tr>\n",
       "    <tr>\n",
       "      <th>1</th>\n",
       "      <td>6</td>\n",
       "      <td>lulu garcia-navarro, host</td>\n",
       "      <td>I mean, another whistleblower has got to be ba...</td>\n",
       "      <td>Weekend Edition Sunday</td>\n",
       "      <td>Sunday Politics</td>\n",
       "      <td>True</td>\n",
       "      <td>i mean another whistleblower has got to be bad...</td>\n",
       "      <td>mean another whistleblower ha got bad news pre...</td>\n",
       "      <td>0.1027</td>\n",
       "      <td>2019-10-06</td>\n",
       "    </tr>\n",
       "    <tr>\n",
       "      <th>1</th>\n",
       "      <td>7</td>\n",
       "      <td>mara liasson, byline</td>\n",
       "      <td>No. This is kind of like a trail of bread crum...</td>\n",
       "      <td>Weekend Edition Sunday</td>\n",
       "      <td>Sunday Politics</td>\n",
       "      <td>False</td>\n",
       "      <td>no. this is kind of like a trail of bread crum...</td>\n",
       "      <td>no. kind like trail bread crumbs. revelation l...</td>\n",
       "      <td>0.9153</td>\n",
       "      <td>2019-10-06</td>\n",
       "    </tr>\n",
       "    <tr>\n",
       "      <th>1</th>\n",
       "      <td>8</td>\n",
       "      <td>lulu garcia-navarro, host</td>\n",
       "      <td>What his happening to his support among Republ...</td>\n",
       "      <td>Weekend Edition Sunday</td>\n",
       "      <td>Sunday Politics</td>\n",
       "      <td>True</td>\n",
       "      <td>what his happening to his support among republ...</td>\n",
       "      <td>happening support among republican lawmaker ma...</td>\n",
       "      <td>0.6662</td>\n",
       "      <td>2019-10-06</td>\n",
       "    </tr>\n",
       "    <tr>\n",
       "      <th>1</th>\n",
       "      <td>9</td>\n",
       "      <td>mara liasson, byline</td>\n",
       "      <td>So far, most Republican lawmakers are shelteri...</td>\n",
       "      <td>Weekend Edition Sunday</td>\n",
       "      <td>Sunday Politics</td>\n",
       "      <td>False</td>\n",
       "      <td>so far most republican lawmakers are shelterin...</td>\n",
       "      <td>far republican lawmaker sheltering place usual...</td>\n",
       "      <td>-0.6705</td>\n",
       "      <td>2019-10-06</td>\n",
       "    </tr>\n",
       "    <tr>\n",
       "      <th>1</th>\n",
       "      <td>10</td>\n",
       "      <td>lulu garcia-navarro, host</td>\n",
       "      <td>That's NPR political correspondent Mara Liasso...</td>\n",
       "      <td>Weekend Edition Sunday</td>\n",
       "      <td>Sunday Politics</td>\n",
       "      <td>True</td>\n",
       "      <td>that s npr political correspondent mara liasso...</td>\n",
       "      <td>npr political correspondent mara liasson. thank .</td>\n",
       "      <td>0.3612</td>\n",
       "      <td>2019-10-06</td>\n",
       "    </tr>\n",
       "    <tr>\n",
       "      <th>1</th>\n",
       "      <td>11</td>\n",
       "      <td>mara liasson, byline</td>\n",
       "      <td>Thank you.</td>\n",
       "      <td>Weekend Edition Sunday</td>\n",
       "      <td>Sunday Politics</td>\n",
       "      <td>False</td>\n",
       "      <td>thank you .</td>\n",
       "      <td>thank .</td>\n",
       "      <td>0.3612</td>\n",
       "      <td>2019-10-06</td>\n",
       "    </tr>\n",
       "    <tr>\n",
       "      <th>2</th>\n",
       "      <td>1</td>\n",
       "      <td>lulu garcia-navarro, host</td>\n",
       "      <td>President Trump has announced another new immi...</td>\n",
       "      <td>Weekend Edition Sunday</td>\n",
       "      <td>How Immigrants Use Health Care</td>\n",
       "      <td>True</td>\n",
       "      <td>president trump has announced another new immi...</td>\n",
       "      <td>president trump ha announced another new immig...</td>\n",
       "      <td>0.9451</td>\n",
       "      <td>2019-10-06</td>\n",
       "    </tr>\n",
       "    <tr>\n",
       "      <th>2</th>\n",
       "      <td>2</td>\n",
       "      <td>lulu garcia-navarro, host</td>\n",
       "      <td>We wanted to get a better understanding of how...</td>\n",
       "      <td>Weekend Edition Sunday</td>\n",
       "      <td>How Immigrants Use Health Care</td>\n",
       "      <td>True</td>\n",
       "      <td>we wanted to get a better understanding of how...</td>\n",
       "      <td>wanted get better understanding immigrant use ...</td>\n",
       "      <td>0.9169</td>\n",
       "      <td>2019-10-06</td>\n",
       "    </tr>\n",
       "    <tr>\n",
       "      <th>2</th>\n",
       "      <td>3</td>\n",
       "      <td>lulu garcia-navarro, host</td>\n",
       "      <td>Welcome.</td>\n",
       "      <td>Weekend Edition Sunday</td>\n",
       "      <td>How Immigrants Use Health Care</td>\n",
       "      <td>True</td>\n",
       "      <td>welcome .</td>\n",
       "      <td>welcome .</td>\n",
       "      <td>0.4588</td>\n",
       "      <td>2019-10-06</td>\n",
       "    </tr>\n",
       "    <tr>\n",
       "      <th>2</th>\n",
       "      <td>4</td>\n",
       "      <td>anne dunkelberg</td>\n",
       "      <td>Good morning.</td>\n",
       "      <td>Weekend Edition Sunday</td>\n",
       "      <td>How Immigrants Use Health Care</td>\n",
       "      <td>False</td>\n",
       "      <td>good morning .</td>\n",
       "      <td>good morning .</td>\n",
       "      <td>0.4404</td>\n",
       "      <td>2019-10-06</td>\n",
       "    </tr>\n",
       "    <tr>\n",
       "      <th>2</th>\n",
       "      <td>5</td>\n",
       "      <td>lulu garcia-navarro, host</td>\n",
       "      <td>How would this work? I mean, if you're a visit...</td>\n",
       "      <td>Weekend Edition Sunday</td>\n",
       "      <td>How Immigrants Use Health Care</td>\n",
       "      <td>True</td>\n",
       "      <td>how would this work ? i mean if you re a visit...</td>\n",
       "      <td>would work ? mean visitor traveling would obvi...</td>\n",
       "      <td>-0.6072</td>\n",
       "      <td>2019-10-06</td>\n",
       "    </tr>\n",
       "    <tr>\n",
       "      <th>2</th>\n",
       "      <td>6</td>\n",
       "      <td>anne dunkelberg</td>\n",
       "      <td>It's a great question that we probably can't a...</td>\n",
       "      <td>Weekend Edition Sunday</td>\n",
       "      <td>How Immigrants Use Health Care</td>\n",
       "      <td>False</td>\n",
       "      <td>it s a great question that we probably can t a...</td>\n",
       "      <td>great question probably answer. sound like kno...</td>\n",
       "      <td>0.8885</td>\n",
       "      <td>2019-10-06</td>\n",
       "    </tr>\n",
       "    <tr>\n",
       "      <th>2</th>\n",
       "      <td>7</td>\n",
       "      <td>lulu garcia-navarro, host</td>\n",
       "      <td>The other thing that confuses me a little bit ...</td>\n",
       "      <td>Weekend Edition Sunday</td>\n",
       "      <td>How Immigrants Use Health Care</td>\n",
       "      <td>True</td>\n",
       "      <td>the other thing that confuses me a little bit ...</td>\n",
       "      <td>thing confuses little bit seems like additiona...</td>\n",
       "      <td>0.4091</td>\n",
       "      <td>2019-10-06</td>\n",
       "    </tr>\n",
       "    <tr>\n",
       "      <th>2</th>\n",
       "      <td>8</td>\n",
       "      <td>anne dunkelberg</td>\n",
       "      <td>You're absolutely right. Even for these short-...</td>\n",
       "      <td>Weekend Edition Sunday</td>\n",
       "      <td>How Immigrants Use Health Care</td>\n",
       "      <td>False</td>\n",
       "      <td>you re absolutely right. even for these short ...</td>\n",
       "      <td>absolutely right. even short term visitor type...</td>\n",
       "      <td>0.0000</td>\n",
       "      <td>2019-10-06</td>\n",
       "    </tr>\n",
       "    <tr>\n",
       "      <th>2</th>\n",
       "      <td>9</td>\n",
       "      <td>lulu garcia-navarro, host</td>\n",
       "      <td>Getting insurance in this country is complicat...</td>\n",
       "      <td>Weekend Edition Sunday</td>\n",
       "      <td>How Immigrants Use Health Care</td>\n",
       "      <td>True</td>\n",
       "      <td>getting insurance in this country is complicat...</td>\n",
       "      <td>getting insurance country complicated american...</td>\n",
       "      <td>-0.2500</td>\n",
       "      <td>2019-10-06</td>\n",
       "    </tr>\n",
       "    <tr>\n",
       "      <th>2</th>\n",
       "      <td>10</td>\n",
       "      <td>anne dunkelberg</td>\n",
       "      <td>It sounds, frankly, more like the intention is...</td>\n",
       "      <td>Weekend Edition Sunday</td>\n",
       "      <td>How Immigrants Use Health Care</td>\n",
       "      <td>False</td>\n",
       "      <td>it sounds frankly more like the intention is f...</td>\n",
       "      <td>sound frankly like intention optic policy much...</td>\n",
       "      <td>0.5994</td>\n",
       "      <td>2019-10-06</td>\n",
       "    </tr>\n",
       "    <tr>\n",
       "      <th>2</th>\n",
       "      <td>11</td>\n",
       "      <td>lulu garcia-navarro, host</td>\n",
       "      <td>Your state, Texas, has one of the highest numb...</td>\n",
       "      <td>Weekend Edition Sunday</td>\n",
       "      <td>How Immigrants Use Health Care</td>\n",
       "      <td>True</td>\n",
       "      <td>your state texas has one of the highest number...</td>\n",
       "      <td>state texas ha one highest number uninsured pe...</td>\n",
       "      <td>0.4019</td>\n",
       "      <td>2019-10-06</td>\n",
       "    </tr>\n",
       "    <tr>\n",
       "      <th>2</th>\n",
       "      <td>12</td>\n",
       "      <td>anne dunkelberg</td>\n",
       "      <td>Seventy-five percent, at least, of our uninsur...</td>\n",
       "      <td>Weekend Edition Sunday</td>\n",
       "      <td>How Immigrants Use Health Care</td>\n",
       "      <td>False</td>\n",
       "      <td>seventy five percent at least of our uninsured...</td>\n",
       "      <td>seventy five percent least uninsured u.s. citi...</td>\n",
       "      <td>0.6249</td>\n",
       "      <td>2019-10-06</td>\n",
       "    </tr>\n",
       "    <tr>\n",
       "      <th>2</th>\n",
       "      <td>13</td>\n",
       "      <td>lulu garcia-navarro, host</td>\n",
       "      <td>So when the president says that uninsured indi...</td>\n",
       "      <td>Weekend Edition Sunday</td>\n",
       "      <td>How Immigrants Use Health Care</td>\n",
       "      <td>True</td>\n",
       "      <td>so when the president says that uninsured indi...</td>\n",
       "      <td>president say uninsured individual immigrant b...</td>\n",
       "      <td>-0.3818</td>\n",
       "      <td>2019-10-06</td>\n",
       "    </tr>\n",
       "    <tr>\n",
       "      <th>2</th>\n",
       "      <td>14</td>\n",
       "      <td>anne dunkelberg</td>\n",
       "      <td>Absolutely. The vast majority of uninsured Ame...</td>\n",
       "      <td>Weekend Edition Sunday</td>\n",
       "      <td>How Immigrants Use Health Care</td>\n",
       "      <td>False</td>\n",
       "      <td>absolutely. the vast majority of uninsured ame...</td>\n",
       "      <td>absolutely. vast majority uninsured american u...</td>\n",
       "      <td>0.4767</td>\n",
       "      <td>2019-10-06</td>\n",
       "    </tr>\n",
       "    <tr>\n",
       "      <th>2</th>\n",
       "      <td>15</td>\n",
       "      <td>lulu garcia-navarro, host</td>\n",
       "      <td>That was Anne Dunkelberg of the Center for Pub...</td>\n",
       "      <td>Weekend Edition Sunday</td>\n",
       "      <td>How Immigrants Use Health Care</td>\n",
       "      <td>True</td>\n",
       "      <td>that was anne dunkelberg of the center for pub...</td>\n",
       "      <td>wa anne dunkelberg center public policy priori...</td>\n",
       "      <td>0.3612</td>\n",
       "      <td>2019-10-06</td>\n",
       "    </tr>\n",
       "    <tr>\n",
       "      <th>2</th>\n",
       "      <td>16</td>\n",
       "      <td>anne dunkelberg</td>\n",
       "      <td>Thank you, Lulu.</td>\n",
       "      <td>Weekend Edition Sunday</td>\n",
       "      <td>How Immigrants Use Health Care</td>\n",
       "      <td>False</td>\n",
       "      <td>thank you lulu .</td>\n",
       "      <td>thank lulu .</td>\n",
       "      <td>0.3612</td>\n",
       "      <td>2019-10-06</td>\n",
       "    </tr>\n",
       "    <tr>\n",
       "      <th>3</th>\n",
       "      <td>1</td>\n",
       "      <td>lulu garcia-navarro, host</td>\n",
       "      <td>Now to Hong Kong, where anti-government protes...</td>\n",
       "      <td>Weekend Edition Sunday</td>\n",
       "      <td>Hong Kong Protesters Defy Face Mask Ban</td>\n",
       "      <td>True</td>\n",
       "      <td>now to hong kong where anti government protest...</td>\n",
       "      <td>hong kong anti government protest 18th week. t...</td>\n",
       "      <td>-0.9042</td>\n",
       "      <td>2019-10-06</td>\n",
       "    </tr>\n",
       "    <tr>\n",
       "      <th>3</th>\n",
       "      <td>2</td>\n",
       "      <td>lulu garcia-navarro, host</td>\n",
       "      <td>NPR's Beijing correspondent Emily Feng is in H...</td>\n",
       "      <td>Weekend Edition Sunday</td>\n",
       "      <td>Hong Kong Protesters Defy Face Mask Ban</td>\n",
       "      <td>True</td>\n",
       "      <td>npr s beijing correspondent emily feng is in h...</td>\n",
       "      <td>npr beijing correspondent emily feng hong kong...</td>\n",
       "      <td>0.0000</td>\n",
       "      <td>2019-10-06</td>\n",
       "    </tr>\n",
       "    <tr>\n",
       "      <th>3</th>\n",
       "      <td>3</td>\n",
       "      <td>emily feng, byline</td>\n",
       "      <td>I'm on this major road in downtown Hong Kong, ...</td>\n",
       "      <td>Weekend Edition Sunday</td>\n",
       "      <td>Hong Kong Protesters Defy Face Mask Ban</td>\n",
       "      <td>False</td>\n",
       "      <td>i m on this major road in downtown hong kong a...</td>\n",
       "      <td>major road downtown hong kong overpass couple ...</td>\n",
       "      <td>-0.8610</td>\n",
       "      <td>2019-10-06</td>\n",
       "    </tr>\n",
       "    <tr>\n",
       "      <th>3</th>\n",
       "      <td>4</td>\n",
       "      <td>lulu garcia-navarro, host</td>\n",
       "      <td>What did you see earlier today at these protes...</td>\n",
       "      <td>Weekend Edition Sunday</td>\n",
       "      <td>Hong Kong Protesters Defy Face Mask Ban</td>\n",
       "      <td>True</td>\n",
       "      <td>what did you see earlier today at these protes...</td>\n",
       "      <td>see earlier today protest ? mean scene describ...</td>\n",
       "      <td>0.2263</td>\n",
       "      <td>2019-10-06</td>\n",
       "    </tr>\n",
       "    <tr>\n",
       "      <th>3</th>\n",
       "      <td>5</td>\n",
       "      <td>emily feng, byline</td>\n",
       "      <td>Yeah. This is a pattern that we've seen over a...</td>\n",
       "      <td>Weekend Edition Sunday</td>\n",
       "      <td>Hong Kong Protesters Defy Face Mask Ban</td>\n",
       "      <td>False</td>\n",
       "      <td>yeah. this is a pattern that we ve seen over a...</td>\n",
       "      <td>yeah. pattern seen peaceful march happen day q...</td>\n",
       "      <td>-0.9601</td>\n",
       "      <td>2019-10-06</td>\n",
       "    </tr>\n",
       "    <tr>\n",
       "      <th>3</th>\n",
       "      <td>6</td>\n",
       "      <td>emily feng, byline</td>\n",
       "      <td>But today, again, the protest we saw at the ve...</td>\n",
       "      <td>Weekend Edition Sunday</td>\n",
       "      <td>Hong Kong Protesters Defy Face Mask Ban</td>\n",
       "      <td>False</td>\n",
       "      <td>but today again the protest we saw at the very...</td>\n",
       "      <td>today protest saw beginning day saw ten thousa...</td>\n",
       "      <td>-0.9509</td>\n",
       "      <td>2019-10-06</td>\n",
       "    </tr>\n",
       "    <tr>\n",
       "      <th>3</th>\n",
       "      <td>7</td>\n",
       "      <td>lulu garcia-navarro, host</td>\n",
       "      <td>Tell us about the attitude of the protesters. ...</td>\n",
       "      <td>Weekend Edition Sunday</td>\n",
       "      <td>Hong Kong Protesters Defy Face Mask Ban</td>\n",
       "      <td>True</td>\n",
       "      <td>tell us about the attitude of the protesters. ...</td>\n",
       "      <td>tell u attitude protesters. mean hear thing go...</td>\n",
       "      <td>-0.2263</td>\n",
       "      <td>2019-10-06</td>\n",
       "    </tr>\n",
       "    <tr>\n",
       "      <th>3</th>\n",
       "      <td>8</td>\n",
       "      <td>emily feng, byline</td>\n",
       "      <td>They're obviously angry. I mean, this is the 1...</td>\n",
       "      <td>Weekend Edition Sunday</td>\n",
       "      <td>Hong Kong Protesters Defy Face Mask Ban</td>\n",
       "      <td>False</td>\n",
       "      <td>they re obviously angry. i mean this is the 18...</td>\n",
       "      <td>obviously angry. mean 18th week protest far. f...</td>\n",
       "      <td>-0.9693</td>\n",
       "      <td>2019-10-06</td>\n",
       "    </tr>\n",
       "    <tr>\n",
       "      <th>3</th>\n",
       "      <td>9</td>\n",
       "      <td>emily feng, byline</td>\n",
       "      <td>One person I talked to today, an 18-year-old p...</td>\n",
       "      <td>Weekend Edition Sunday</td>\n",
       "      <td>Hong Kong Protesters Defy Face Mask Ban</td>\n",
       "      <td>False</td>\n",
       "      <td>one person i talked to today an 18 year old pr...</td>\n",
       "      <td>one person talked today 18 year old protester ...</td>\n",
       "      <td>0.0000</td>\n",
       "      <td>2019-10-06</td>\n",
       "    </tr>\n",
       "    <tr>\n",
       "      <th>3</th>\n",
       "      <td>10</td>\n",
       "      <td>ho</td>\n",
       "      <td>(Foreign language spoken).</td>\n",
       "      <td>Weekend Edition Sunday</td>\n",
       "      <td>Hong Kong Protesters Defy Face Mask Ban</td>\n",
       "      <td>False</td>\n",
       "      <td>foreign language spoken .</td>\n",
       "      <td>foreign language spoken .</td>\n",
       "      <td>0.0000</td>\n",
       "      <td>2019-10-06</td>\n",
       "    </tr>\n",
       "    <tr>\n",
       "      <th>3</th>\n",
       "      <td>11</td>\n",
       "      <td>emily feng, byline</td>\n",
       "      <td>He's saying that if the Hong Kong government c...</td>\n",
       "      <td>Weekend Edition Sunday</td>\n",
       "      <td>Hong Kong Protesters Defy Face Mask Ban</td>\n",
       "      <td>False</td>\n",
       "      <td>he s saying that if the hong kong government c...</td>\n",
       "      <td>saying hong kong government use emergency powe...</td>\n",
       "      <td>0.5106</td>\n",
       "      <td>2019-10-06</td>\n",
       "    </tr>\n",
       "    <tr>\n",
       "      <th>3</th>\n",
       "      <td>12</td>\n",
       "      <td>lulu garcia-navarro, host</td>\n",
       "      <td>That's NPR's Emily Feng, speaking to us from H...</td>\n",
       "      <td>Weekend Edition Sunday</td>\n",
       "      <td>Hong Kong Protesters Defy Face Mask Ban</td>\n",
       "      <td>True</td>\n",
       "      <td>that s npr s emily feng speaking to us from ho...</td>\n",
       "      <td>npr emily feng speaking u hong kong .</td>\n",
       "      <td>0.0000</td>\n",
       "      <td>2019-10-06</td>\n",
       "    </tr>\n",
       "    <tr>\n",
       "      <th>3</th>\n",
       "      <td>13</td>\n",
       "      <td>lulu garcia-navarro, host</td>\n",
       "      <td>Emily, thanks so much. Stay safe.</td>\n",
       "      <td>Weekend Edition Sunday</td>\n",
       "      <td>Hong Kong Protesters Defy Face Mask Ban</td>\n",
       "      <td>True</td>\n",
       "      <td>emily thanks so much. stay safe .</td>\n",
       "      <td>emily thanks much. stay safe .</td>\n",
       "      <td>0.7003</td>\n",
       "      <td>2019-10-06</td>\n",
       "    </tr>\n",
       "    <tr>\n",
       "      <th>3</th>\n",
       "      <td>14</td>\n",
       "      <td>emily feng, byline</td>\n",
       "      <td>Thank you.</td>\n",
       "      <td>Weekend Edition Sunday</td>\n",
       "      <td>Hong Kong Protesters Defy Face Mask Ban</td>\n",
       "      <td>False</td>\n",
       "      <td>thank you .</td>\n",
       "      <td>thank .</td>\n",
       "      <td>0.3612</td>\n",
       "      <td>2019-10-06</td>\n",
       "    </tr>\n",
       "    <tr>\n",
       "      <th>4</th>\n",
       "      <td>1</td>\n",
       "      <td>lulu garcia-navarro, host</td>\n",
       "      <td>After Hurricane Dorian hit the Bahamas last mo...</td>\n",
       "      <td>Weekend Edition Sunday</td>\n",
       "      <td>Aid Group Of Veterans Assists In Bahamas</td>\n",
       "      <td>True</td>\n",
       "      <td>after hurricane dorian hit the bahamas last mo...</td>\n",
       "      <td>hurricane dorian hit bahamas last month dozen ...</td>\n",
       "      <td>0.4588</td>\n",
       "      <td>2019-10-06</td>\n",
       "    </tr>\n",
       "    <tr>\n",
       "      <th>4</th>\n",
       "      <td>2</td>\n",
       "      <td>jason beaubien, byline</td>\n",
       "      <td>Hurricane Dorian turned large swaths of Marsh ...</td>\n",
       "      <td>Weekend Edition Sunday</td>\n",
       "      <td>Aid Group Of Veterans Assists In Bahamas</td>\n",
       "      <td>False</td>\n",
       "      <td>hurricane dorian turned large swaths of marsh ...</td>\n",
       "      <td>hurricane dorian turned large swath marsh harb...</td>\n",
       "      <td>-0.8979</td>\n",
       "      <td>2019-10-06</td>\n",
       "    </tr>\n",
       "    <tr>\n",
       "      <th>4</th>\n",
       "      <td>3</td>\n",
       "      <td>jason roberts</td>\n",
       "      <td>I didn't know this was a driveway when I walke...</td>\n",
       "      <td>Weekend Edition Sunday</td>\n",
       "      <td>Aid Group Of Veterans Assists In Bahamas</td>\n",
       "      <td>False</td>\n",
       "      <td>i didn t know this was a driveway when i walke...</td>\n",
       "      <td>know wa driveway walked .</td>\n",
       "      <td>0.0000</td>\n",
       "      <td>2019-10-06</td>\n",
       "    </tr>\n",
       "    <tr>\n",
       "      <th>4</th>\n",
       "      <td>4</td>\n",
       "      <td>jason beaubien, byline</td>\n",
       "      <td>Team Rubicon brings its own tools - including ...</td>\n",
       "      <td>Weekend Edition Sunday</td>\n",
       "      <td>Aid Group Of Veterans Assists In Bahamas</td>\n",
       "      <td>False</td>\n",
       "      <td>team rubicon brings its own tools including ch...</td>\n",
       "      <td>team rubicon brings tool including chainsaw tr...</td>\n",
       "      <td>0.3400</td>\n",
       "      <td>2019-10-06</td>\n",
       "    </tr>\n",
       "    <tr>\n",
       "      <th>4</th>\n",
       "      <td>5</td>\n",
       "      <td>jason roberts</td>\n",
       "      <td>There wasn't a ton of water damage in this sec...</td>\n",
       "      <td>Weekend Edition Sunday</td>\n",
       "      <td>Aid Group Of Veterans Assists In Bahamas</td>\n",
       "      <td>False</td>\n",
       "      <td>there wasn t a ton of water damage in this sec...</td>\n",
       "      <td>ton water damage section house wind blew ceili...</td>\n",
       "      <td>-0.4939</td>\n",
       "      <td>2019-10-06</td>\n",
       "    </tr>\n",
       "    <tr>\n",
       "      <th>4</th>\n",
       "      <td>6</td>\n",
       "      <td>jason beaubien, byline</td>\n",
       "      <td>Roberts, like many of the Team Rubicon volunte...</td>\n",
       "      <td>Weekend Edition Sunday</td>\n",
       "      <td>Aid Group Of Veterans Assists In Bahamas</td>\n",
       "      <td>False</td>\n",
       "      <td>roberts like many of the team rubicon voluntee...</td>\n",
       "      <td>robert like many team rubicon volunteer served...</td>\n",
       "      <td>0.6369</td>\n",
       "      <td>2019-10-06</td>\n",
       "    </tr>\n",
       "    <tr>\n",
       "      <th>4</th>\n",
       "      <td>7</td>\n",
       "      <td>jason beaubien, byline</td>\n",
       "      <td>Here on Abaco, roughly 50 Team Rubicon volunte...</td>\n",
       "      <td>Weekend Edition Sunday</td>\n",
       "      <td>Aid Group Of Veterans Assists In Bahamas</td>\n",
       "      <td>False</td>\n",
       "      <td>here on abaco roughly 50 team rubicon voluntee...</td>\n",
       "      <td>abaco roughly 50 team rubicon volunteer workin...</td>\n",
       "      <td>0.3818</td>\n",
       "      <td>2019-10-06</td>\n",
       "    </tr>\n",
       "    <tr>\n",
       "      <th>4</th>\n",
       "      <td>8</td>\n",
       "      <td>jason beaubien, byline</td>\n",
       "      <td>A city official has stopped by their base at a...</td>\n",
       "      <td>Weekend Edition Sunday</td>\n",
       "      <td>Aid Group Of Veterans Assists In Bahamas</td>\n",
       "      <td>False</td>\n",
       "      <td>a city official has stopped by their base at a...</td>\n",
       "      <td>city official ha stopped base church school gu...</td>\n",
       "      <td>0.1280</td>\n",
       "      <td>2019-10-06</td>\n",
       "    </tr>\n",
       "    <tr>\n",
       "      <th>4</th>\n",
       "      <td>9</td>\n",
       "      <td>bob bledsoe</td>\n",
       "      <td>How can we help you?</td>\n",
       "      <td>Weekend Edition Sunday</td>\n",
       "      <td>Aid Group Of Veterans Assists In Bahamas</td>\n",
       "      <td>False</td>\n",
       "      <td>how can we help you ?</td>\n",
       "      <td>help ?</td>\n",
       "      <td>0.4019</td>\n",
       "      <td>2019-10-06</td>\n",
       "    </tr>\n",
       "  </tbody>\n",
       "</table>\n",
       "</div>"
      ],
      "text/plain": [
       "            episode_order                    speaker  \\\n",
       "episode_id                                             \n",
       "1                       1  lulu garcia-navarro, host   \n",
       "1                       2  lulu garcia-navarro, host   \n",
       "1                       3       mara liasson, byline   \n",
       "1                       4  lulu garcia-navarro, host   \n",
       "1                       5       mara liasson, byline   \n",
       "1                       6  lulu garcia-navarro, host   \n",
       "1                       7       mara liasson, byline   \n",
       "1                       8  lulu garcia-navarro, host   \n",
       "1                       9       mara liasson, byline   \n",
       "1                      10  lulu garcia-navarro, host   \n",
       "1                      11       mara liasson, byline   \n",
       "2                       1  lulu garcia-navarro, host   \n",
       "2                       2  lulu garcia-navarro, host   \n",
       "2                       3  lulu garcia-navarro, host   \n",
       "2                       4            anne dunkelberg   \n",
       "2                       5  lulu garcia-navarro, host   \n",
       "2                       6            anne dunkelberg   \n",
       "2                       7  lulu garcia-navarro, host   \n",
       "2                       8            anne dunkelberg   \n",
       "2                       9  lulu garcia-navarro, host   \n",
       "2                      10            anne dunkelberg   \n",
       "2                      11  lulu garcia-navarro, host   \n",
       "2                      12            anne dunkelberg   \n",
       "2                      13  lulu garcia-navarro, host   \n",
       "2                      14            anne dunkelberg   \n",
       "2                      15  lulu garcia-navarro, host   \n",
       "2                      16            anne dunkelberg   \n",
       "3                       1  lulu garcia-navarro, host   \n",
       "3                       2  lulu garcia-navarro, host   \n",
       "3                       3         emily feng, byline   \n",
       "3                       4  lulu garcia-navarro, host   \n",
       "3                       5         emily feng, byline   \n",
       "3                       6         emily feng, byline   \n",
       "3                       7  lulu garcia-navarro, host   \n",
       "3                       8         emily feng, byline   \n",
       "3                       9         emily feng, byline   \n",
       "3                      10                         ho   \n",
       "3                      11         emily feng, byline   \n",
       "3                      12  lulu garcia-navarro, host   \n",
       "3                      13  lulu garcia-navarro, host   \n",
       "3                      14         emily feng, byline   \n",
       "4                       1  lulu garcia-navarro, host   \n",
       "4                       2     jason beaubien, byline   \n",
       "4                       3              jason roberts   \n",
       "4                       4     jason beaubien, byline   \n",
       "4                       5              jason roberts   \n",
       "4                       6     jason beaubien, byline   \n",
       "4                       7     jason beaubien, byline   \n",
       "4                       8     jason beaubien, byline   \n",
       "4                       9                bob bledsoe   \n",
       "\n",
       "                                                    utterance  \\\n",
       "episode_id                                                      \n",
       "1           The impeachment inquiry picks up tomorrow wher...   \n",
       "1                                               Good morning.   \n",
       "1                                         Good morning, Lulu.   \n",
       "1                               All right. What's the latest?   \n",
       "1           Well, the latest is that the lawyer for the fi...   \n",
       "1           I mean, another whistleblower has got to be ba...   \n",
       "1           No. This is kind of like a trail of bread crum...   \n",
       "1           What his happening to his support among Republ...   \n",
       "1           So far, most Republican lawmakers are shelteri...   \n",
       "1           That's NPR political correspondent Mara Liasso...   \n",
       "1                                                  Thank you.   \n",
       "2           President Trump has announced another new immi...   \n",
       "2           We wanted to get a better understanding of how...   \n",
       "2                                                    Welcome.   \n",
       "2                                               Good morning.   \n",
       "2           How would this work? I mean, if you're a visit...   \n",
       "2           It's a great question that we probably can't a...   \n",
       "2           The other thing that confuses me a little bit ...   \n",
       "2           You're absolutely right. Even for these short-...   \n",
       "2           Getting insurance in this country is complicat...   \n",
       "2           It sounds, frankly, more like the intention is...   \n",
       "2           Your state, Texas, has one of the highest numb...   \n",
       "2           Seventy-five percent, at least, of our uninsur...   \n",
       "2           So when the president says that uninsured indi...   \n",
       "2           Absolutely. The vast majority of uninsured Ame...   \n",
       "2           That was Anne Dunkelberg of the Center for Pub...   \n",
       "2                                            Thank you, Lulu.   \n",
       "3           Now to Hong Kong, where anti-government protes...   \n",
       "3           NPR's Beijing correspondent Emily Feng is in H...   \n",
       "3           I'm on this major road in downtown Hong Kong, ...   \n",
       "3           What did you see earlier today at these protes...   \n",
       "3           Yeah. This is a pattern that we've seen over a...   \n",
       "3           But today, again, the protest we saw at the ve...   \n",
       "3           Tell us about the attitude of the protesters. ...   \n",
       "3           They're obviously angry. I mean, this is the 1...   \n",
       "3           One person I talked to today, an 18-year-old p...   \n",
       "3                                  (Foreign language spoken).   \n",
       "3           He's saying that if the Hong Kong government c...   \n",
       "3           That's NPR's Emily Feng, speaking to us from H...   \n",
       "3                           Emily, thanks so much. Stay safe.   \n",
       "3                                                  Thank you.   \n",
       "4           After Hurricane Dorian hit the Bahamas last mo...   \n",
       "4           Hurricane Dorian turned large swaths of Marsh ...   \n",
       "4           I didn't know this was a driveway when I walke...   \n",
       "4           Team Rubicon brings its own tools - including ...   \n",
       "4           There wasn't a ton of water damage in this sec...   \n",
       "4           Roberts, like many of the Team Rubicon volunte...   \n",
       "4           Here on Abaco, roughly 50 Team Rubicon volunte...   \n",
       "4           A city official has stopped by their base at a...   \n",
       "4                                        How can we help you?   \n",
       "\n",
       "                           program                                     title  \\\n",
       "episode_id                                                                     \n",
       "1           Weekend Edition Sunday                           Sunday Politics   \n",
       "1           Weekend Edition Sunday                           Sunday Politics   \n",
       "1           Weekend Edition Sunday                           Sunday Politics   \n",
       "1           Weekend Edition Sunday                           Sunday Politics   \n",
       "1           Weekend Edition Sunday                           Sunday Politics   \n",
       "1           Weekend Edition Sunday                           Sunday Politics   \n",
       "1           Weekend Edition Sunday                           Sunday Politics   \n",
       "1           Weekend Edition Sunday                           Sunday Politics   \n",
       "1           Weekend Edition Sunday                           Sunday Politics   \n",
       "1           Weekend Edition Sunday                           Sunday Politics   \n",
       "1           Weekend Edition Sunday                           Sunday Politics   \n",
       "2           Weekend Edition Sunday            How Immigrants Use Health Care   \n",
       "2           Weekend Edition Sunday            How Immigrants Use Health Care   \n",
       "2           Weekend Edition Sunday            How Immigrants Use Health Care   \n",
       "2           Weekend Edition Sunday            How Immigrants Use Health Care   \n",
       "2           Weekend Edition Sunday            How Immigrants Use Health Care   \n",
       "2           Weekend Edition Sunday            How Immigrants Use Health Care   \n",
       "2           Weekend Edition Sunday            How Immigrants Use Health Care   \n",
       "2           Weekend Edition Sunday            How Immigrants Use Health Care   \n",
       "2           Weekend Edition Sunday            How Immigrants Use Health Care   \n",
       "2           Weekend Edition Sunday            How Immigrants Use Health Care   \n",
       "2           Weekend Edition Sunday            How Immigrants Use Health Care   \n",
       "2           Weekend Edition Sunday            How Immigrants Use Health Care   \n",
       "2           Weekend Edition Sunday            How Immigrants Use Health Care   \n",
       "2           Weekend Edition Sunday            How Immigrants Use Health Care   \n",
       "2           Weekend Edition Sunday            How Immigrants Use Health Care   \n",
       "2           Weekend Edition Sunday            How Immigrants Use Health Care   \n",
       "3           Weekend Edition Sunday   Hong Kong Protesters Defy Face Mask Ban   \n",
       "3           Weekend Edition Sunday   Hong Kong Protesters Defy Face Mask Ban   \n",
       "3           Weekend Edition Sunday   Hong Kong Protesters Defy Face Mask Ban   \n",
       "3           Weekend Edition Sunday   Hong Kong Protesters Defy Face Mask Ban   \n",
       "3           Weekend Edition Sunday   Hong Kong Protesters Defy Face Mask Ban   \n",
       "3           Weekend Edition Sunday   Hong Kong Protesters Defy Face Mask Ban   \n",
       "3           Weekend Edition Sunday   Hong Kong Protesters Defy Face Mask Ban   \n",
       "3           Weekend Edition Sunday   Hong Kong Protesters Defy Face Mask Ban   \n",
       "3           Weekend Edition Sunday   Hong Kong Protesters Defy Face Mask Ban   \n",
       "3           Weekend Edition Sunday   Hong Kong Protesters Defy Face Mask Ban   \n",
       "3           Weekend Edition Sunday   Hong Kong Protesters Defy Face Mask Ban   \n",
       "3           Weekend Edition Sunday   Hong Kong Protesters Defy Face Mask Ban   \n",
       "3           Weekend Edition Sunday   Hong Kong Protesters Defy Face Mask Ban   \n",
       "3           Weekend Edition Sunday   Hong Kong Protesters Defy Face Mask Ban   \n",
       "4           Weekend Edition Sunday  Aid Group Of Veterans Assists In Bahamas   \n",
       "4           Weekend Edition Sunday  Aid Group Of Veterans Assists In Bahamas   \n",
       "4           Weekend Edition Sunday  Aid Group Of Veterans Assists In Bahamas   \n",
       "4           Weekend Edition Sunday  Aid Group Of Veterans Assists In Bahamas   \n",
       "4           Weekend Edition Sunday  Aid Group Of Veterans Assists In Bahamas   \n",
       "4           Weekend Edition Sunday  Aid Group Of Veterans Assists In Bahamas   \n",
       "4           Weekend Edition Sunday  Aid Group Of Veterans Assists In Bahamas   \n",
       "4           Weekend Edition Sunday  Aid Group Of Veterans Assists In Bahamas   \n",
       "4           Weekend Edition Sunday  Aid Group Of Veterans Assists In Bahamas   \n",
       "\n",
       "            is_host                                              clean  \\\n",
       "episode_id                                                               \n",
       "1              True  the impeachment inquiry picks up tomorrow wher...   \n",
       "1              True                                     good morning .   \n",
       "1             False                                good morning lulu .   \n",
       "1              True                     all right. what s the latest ?   \n",
       "1             False  well the latest is that the lawyer for the fir...   \n",
       "1              True  i mean another whistleblower has got to be bad...   \n",
       "1             False  no. this is kind of like a trail of bread crum...   \n",
       "1              True  what his happening to his support among republ...   \n",
       "1             False  so far most republican lawmakers are shelterin...   \n",
       "1              True  that s npr political correspondent mara liasso...   \n",
       "1             False                                        thank you .   \n",
       "2              True  president trump has announced another new immi...   \n",
       "2              True  we wanted to get a better understanding of how...   \n",
       "2              True                                          welcome .   \n",
       "2             False                                     good morning .   \n",
       "2              True  how would this work ? i mean if you re a visit...   \n",
       "2             False  it s a great question that we probably can t a...   \n",
       "2              True  the other thing that confuses me a little bit ...   \n",
       "2             False  you re absolutely right. even for these short ...   \n",
       "2              True  getting insurance in this country is complicat...   \n",
       "2             False  it sounds frankly more like the intention is f...   \n",
       "2              True  your state texas has one of the highest number...   \n",
       "2             False  seventy five percent at least of our uninsured...   \n",
       "2              True  so when the president says that uninsured indi...   \n",
       "2             False  absolutely. the vast majority of uninsured ame...   \n",
       "2              True  that was anne dunkelberg of the center for pub...   \n",
       "2             False                                   thank you lulu .   \n",
       "3              True  now to hong kong where anti government protest...   \n",
       "3              True  npr s beijing correspondent emily feng is in h...   \n",
       "3             False  i m on this major road in downtown hong kong a...   \n",
       "3              True  what did you see earlier today at these protes...   \n",
       "3             False  yeah. this is a pattern that we ve seen over a...   \n",
       "3             False  but today again the protest we saw at the very...   \n",
       "3              True  tell us about the attitude of the protesters. ...   \n",
       "3             False  they re obviously angry. i mean this is the 18...   \n",
       "3             False  one person i talked to today an 18 year old pr...   \n",
       "3             False                          foreign language spoken .   \n",
       "3             False  he s saying that if the hong kong government c...   \n",
       "3              True  that s npr s emily feng speaking to us from ho...   \n",
       "3              True                  emily thanks so much. stay safe .   \n",
       "3             False                                        thank you .   \n",
       "4              True  after hurricane dorian hit the bahamas last mo...   \n",
       "4             False  hurricane dorian turned large swaths of marsh ...   \n",
       "4             False  i didn t know this was a driveway when i walke...   \n",
       "4             False  team rubicon brings its own tools including ch...   \n",
       "4             False  there wasn t a ton of water damage in this sec...   \n",
       "4             False  roberts like many of the team rubicon voluntee...   \n",
       "4             False  here on abaco roughly 50 team rubicon voluntee...   \n",
       "4             False  a city official has stopped by their base at a...   \n",
       "4             False                              how can we help you ?   \n",
       "\n",
       "                                           lemmatized_stopped  vader_stopped  \\\n",
       "episode_id                                                                     \n",
       "1           impeachment inquiry pick tomorrow left friday ...        -0.5267   \n",
       "1                                              good morning .         0.4404   \n",
       "1                                         good morning lulu .         0.4404   \n",
       "1                                             right. latest ?         0.0000   \n",
       "1           well latest lawyer first whistleblower tweetin...         0.8402   \n",
       "1           mean another whistleblower ha got bad news pre...         0.1027   \n",
       "1           no. kind like trail bread crumbs. revelation l...         0.9153   \n",
       "1           happening support among republican lawmaker ma...         0.6662   \n",
       "1           far republican lawmaker sheltering place usual...        -0.6705   \n",
       "1           npr political correspondent mara liasson. thank .         0.3612   \n",
       "1                                                     thank .         0.3612   \n",
       "2           president trump ha announced another new immig...         0.9451   \n",
       "2           wanted get better understanding immigrant use ...         0.9169   \n",
       "2                                                   welcome .         0.4588   \n",
       "2                                              good morning .         0.4404   \n",
       "2           would work ? mean visitor traveling would obvi...        -0.6072   \n",
       "2           great question probably answer. sound like kno...         0.8885   \n",
       "2           thing confuses little bit seems like additiona...         0.4091   \n",
       "2           absolutely right. even short term visitor type...         0.0000   \n",
       "2           getting insurance country complicated american...        -0.2500   \n",
       "2           sound frankly like intention optic policy much...         0.5994   \n",
       "2           state texas ha one highest number uninsured pe...         0.4019   \n",
       "2           seventy five percent least uninsured u.s. citi...         0.6249   \n",
       "2           president say uninsured individual immigrant b...        -0.3818   \n",
       "2           absolutely. vast majority uninsured american u...         0.4767   \n",
       "2           wa anne dunkelberg center public policy priori...         0.3612   \n",
       "2                                                thank lulu .         0.3612   \n",
       "3           hong kong anti government protest 18th week. t...        -0.9042   \n",
       "3           npr beijing correspondent emily feng hong kong...         0.0000   \n",
       "3           major road downtown hong kong overpass couple ...        -0.8610   \n",
       "3           see earlier today protest ? mean scene describ...         0.2263   \n",
       "3           yeah. pattern seen peaceful march happen day q...        -0.9601   \n",
       "3           today protest saw beginning day saw ten thousa...        -0.9509   \n",
       "3           tell u attitude protesters. mean hear thing go...        -0.2263   \n",
       "3           obviously angry. mean 18th week protest far. f...        -0.9693   \n",
       "3           one person talked today 18 year old protester ...         0.0000   \n",
       "3                                   foreign language spoken .         0.0000   \n",
       "3           saying hong kong government use emergency powe...         0.5106   \n",
       "3                       npr emily feng speaking u hong kong .         0.0000   \n",
       "3                              emily thanks much. stay safe .         0.7003   \n",
       "3                                                     thank .         0.3612   \n",
       "4           hurricane dorian hit bahamas last month dozen ...         0.4588   \n",
       "4           hurricane dorian turned large swath marsh harb...        -0.8979   \n",
       "4                                   know wa driveway walked .         0.0000   \n",
       "4           team rubicon brings tool including chainsaw tr...         0.3400   \n",
       "4           ton water damage section house wind blew ceili...        -0.4939   \n",
       "4           robert like many team rubicon volunteer served...         0.6369   \n",
       "4           abaco roughly 50 team rubicon volunteer workin...         0.3818   \n",
       "4           city official ha stopped base church school gu...         0.1280   \n",
       "4                                                      help ?         0.4019   \n",
       "\n",
       "                  date  \n",
       "episode_id              \n",
       "1           2019-10-06  \n",
       "1           2019-10-06  \n",
       "1           2019-10-06  \n",
       "1           2019-10-06  \n",
       "1           2019-10-06  \n",
       "1           2019-10-06  \n",
       "1           2019-10-06  \n",
       "1           2019-10-06  \n",
       "1           2019-10-06  \n",
       "1           2019-10-06  \n",
       "1           2019-10-06  \n",
       "2           2019-10-06  \n",
       "2           2019-10-06  \n",
       "2           2019-10-06  \n",
       "2           2019-10-06  \n",
       "2           2019-10-06  \n",
       "2           2019-10-06  \n",
       "2           2019-10-06  \n",
       "2           2019-10-06  \n",
       "2           2019-10-06  \n",
       "2           2019-10-06  \n",
       "2           2019-10-06  \n",
       "2           2019-10-06  \n",
       "2           2019-10-06  \n",
       "2           2019-10-06  \n",
       "2           2019-10-06  \n",
       "2           2019-10-06  \n",
       "3           2019-10-06  \n",
       "3           2019-10-06  \n",
       "3           2019-10-06  \n",
       "3           2019-10-06  \n",
       "3           2019-10-06  \n",
       "3           2019-10-06  \n",
       "3           2019-10-06  \n",
       "3           2019-10-06  \n",
       "3           2019-10-06  \n",
       "3           2019-10-06  \n",
       "3           2019-10-06  \n",
       "3           2019-10-06  \n",
       "3           2019-10-06  \n",
       "3           2019-10-06  \n",
       "4           2019-10-06  \n",
       "4           2019-10-06  \n",
       "4           2019-10-06  \n",
       "4           2019-10-06  \n",
       "4           2019-10-06  \n",
       "4           2019-10-06  \n",
       "4           2019-10-06  \n",
       "4           2019-10-06  \n",
       "4           2019-10-06  "
      ]
     },
     "execution_count": 4,
     "metadata": {},
     "output_type": "execute_result"
    }
   ],
   "source": [
    "df.sort_values(by=['episode_id','episode_order'])[0:50]"
   ]
  },
  {
   "cell_type": "markdown",
   "id": "868c9016",
   "metadata": {},
   "source": [
    "## Is there a difference in the mean sentiment by speaker? Program? etc\n",
    "- Applied statistics-> i.e. stats testing. Is there a difference in the mean sentiment by speaker? Program? etc "
   ]
  },
  {
   "cell_type": "code",
   "execution_count": 5,
   "id": "a01ead45",
   "metadata": {},
   "outputs": [
    {
     "data": {
      "text/plain": [
       "Index(['episode_order', 'speaker', 'utterance', 'program', 'title', 'is_host',\n",
       "       'clean', 'lemmatized_stopped', 'vader_stopped', 'date'],\n",
       "      dtype='object')"
      ]
     },
     "execution_count": 5,
     "metadata": {},
     "output_type": "execute_result"
    }
   ],
   "source": [
    "df.columns"
   ]
  },
  {
   "cell_type": "code",
   "execution_count": 6,
   "id": "e8e2e69e",
   "metadata": {},
   "outputs": [
    {
     "data": {
      "text/plain": [
       "(2997833, 10)"
      ]
     },
     "execution_count": 6,
     "metadata": {},
     "output_type": "execute_result"
    }
   ],
   "source": [
    "df.shape"
   ]
  },
  {
   "cell_type": "code",
   "execution_count": 7,
   "id": "ba6c4d43",
   "metadata": {},
   "outputs": [
    {
     "data": {
      "text/plain": [
       "episode_order           int64\n",
       "speaker                object\n",
       "utterance              object\n",
       "program                object\n",
       "title                  object\n",
       "is_host                  bool\n",
       "clean                  object\n",
       "lemmatized_stopped     object\n",
       "vader_stopped         float64\n",
       "date                   object\n",
       "dtype: object"
      ]
     },
     "execution_count": 7,
     "metadata": {},
     "output_type": "execute_result"
    }
   ],
   "source": [
    "df.dtypes"
   ]
  },
  {
   "cell_type": "code",
   "execution_count": 8,
   "id": "499385cd",
   "metadata": {},
   "outputs": [],
   "source": [
    "df.date = pd.to_datetime(df.date)"
   ]
  },
  {
   "cell_type": "code",
   "execution_count": 9,
   "id": "a7418211",
   "metadata": {},
   "outputs": [
    {
     "data": {
      "text/plain": [
       "episode_order                  int64\n",
       "speaker                       object\n",
       "utterance                     object\n",
       "program                       object\n",
       "title                         object\n",
       "is_host                         bool\n",
       "clean                         object\n",
       "lemmatized_stopped            object\n",
       "vader_stopped                float64\n",
       "date                  datetime64[ns]\n",
       "dtype: object"
      ]
     },
     "execution_count": 9,
     "metadata": {},
     "output_type": "execute_result"
    }
   ],
   "source": [
    "df.dtypes"
   ]
  },
  {
   "cell_type": "code",
   "execution_count": 10,
   "id": "095f271e",
   "metadata": {},
   "outputs": [],
   "source": [
    "\n",
    "# df['Date'].dt.strftime('%b-%Y')\n",
    "\n",
    "# df['episode_date'].dt.strftime('%b')"
   ]
  },
  {
   "cell_type": "code",
   "execution_count": 11,
   "id": "f4e7c890",
   "metadata": {
    "scrolled": true
   },
   "outputs": [
    {
     "data": {
      "text/html": [
       "<div>\n",
       "<style scoped>\n",
       "    .dataframe tbody tr th:only-of-type {\n",
       "        vertical-align: middle;\n",
       "    }\n",
       "\n",
       "    .dataframe tbody tr th {\n",
       "        vertical-align: top;\n",
       "    }\n",
       "\n",
       "    .dataframe thead th {\n",
       "        text-align: right;\n",
       "    }\n",
       "</style>\n",
       "<table border=\"1\" class=\"dataframe\">\n",
       "  <thead>\n",
       "    <tr style=\"text-align: right;\">\n",
       "      <th></th>\n",
       "      <th>episode_id</th>\n",
       "      <th>episode_order</th>\n",
       "      <th>speaker</th>\n",
       "      <th>utterance</th>\n",
       "      <th>program</th>\n",
       "      <th>title</th>\n",
       "      <th>is_host</th>\n",
       "      <th>clean</th>\n",
       "      <th>lemmatized_stopped</th>\n",
       "      <th>vader_stopped</th>\n",
       "      <th>date</th>\n",
       "      <th>month</th>\n",
       "      <th>year</th>\n",
       "    </tr>\n",
       "  </thead>\n",
       "  <tbody>\n",
       "    <tr>\n",
       "      <th>0</th>\n",
       "      <td>57264</td>\n",
       "      <td>9</td>\n",
       "      <td>ms. loren mooney (editor-in-chief, bicycling m...</td>\n",
       "      <td>It's a 2,200-mile race. To give some sense of ...</td>\n",
       "      <td>Talk of the Nation</td>\n",
       "      <td>How To Watch The Tour De France</td>\n",
       "      <td>False</td>\n",
       "      <td>it s a 2200 mile race. to give some sense of p...</td>\n",
       "      <td>2200 mile race. give sense perspective roughly...</td>\n",
       "      <td>0.0000</td>\n",
       "      <td>2010-07-12</td>\n",
       "      <td>Jul</td>\n",
       "      <td>2010</td>\n",
       "    </tr>\n",
       "    <tr>\n",
       "      <th>1</th>\n",
       "      <td>57264</td>\n",
       "      <td>10</td>\n",
       "      <td>ms. loren mooney (editor-in-chief, bicycling m...</td>\n",
       "      <td>So for a top competitor like Lance to try to m...</td>\n",
       "      <td>Talk of the Nation</td>\n",
       "      <td>How To Watch The Tour De France</td>\n",
       "      <td>False</td>\n",
       "      <td>so for a top competitor like lance to try to m...</td>\n",
       "      <td>top competitor like lance try make much time 1...</td>\n",
       "      <td>0.9313</td>\n",
       "      <td>2010-07-12</td>\n",
       "      <td>Jul</td>\n",
       "      <td>2010</td>\n",
       "    </tr>\n",
       "    <tr>\n",
       "      <th>2</th>\n",
       "      <td>57264</td>\n",
       "      <td>11</td>\n",
       "      <td>neal conan, host</td>\n",
       "      <td>So in every team, presumably there's one star,...</td>\n",
       "      <td>Talk of the Nation</td>\n",
       "      <td>How To Watch The Tour De France</td>\n",
       "      <td>True</td>\n",
       "      <td>so in every team presumably there s one star o...</td>\n",
       "      <td>every team presumably one star one equivalent ...</td>\n",
       "      <td>0.7096</td>\n",
       "      <td>2010-07-12</td>\n",
       "      <td>Jul</td>\n",
       "      <td>2010</td>\n",
       "    </tr>\n",
       "    <tr>\n",
       "      <th>3</th>\n",
       "      <td>57264</td>\n",
       "      <td>12</td>\n",
       "      <td>ms. loren mooney (editor-in-chief, bicycling m...</td>\n",
       "      <td>That's right. Each team has nine riders. And w...</td>\n",
       "      <td>Talk of the Nation</td>\n",
       "      <td>How To Watch The Tour De France</td>\n",
       "      <td>False</td>\n",
       "      <td>that s right. each team has nine riders. and w...</td>\n",
       "      <td>right. team ha nine riders. basically team lea...</td>\n",
       "      <td>0.9274</td>\n",
       "      <td>2010-07-12</td>\n",
       "      <td>Jul</td>\n",
       "      <td>2010</td>\n",
       "    </tr>\n",
       "    <tr>\n",
       "      <th>4</th>\n",
       "      <td>57264</td>\n",
       "      <td>13</td>\n",
       "      <td>neal conan, host</td>\n",
       "      <td>So slipstream, this is like drafting in car ra...</td>\n",
       "      <td>Talk of the Nation</td>\n",
       "      <td>How To Watch The Tour De France</td>\n",
       "      <td>True</td>\n",
       "      <td>so slipstream this is like drafting in car rac...</td>\n",
       "      <td>slipstream like drafting car racing right ?</td>\n",
       "      <td>0.3612</td>\n",
       "      <td>2010-07-12</td>\n",
       "      <td>Jul</td>\n",
       "      <td>2010</td>\n",
       "    </tr>\n",
       "  </tbody>\n",
       "</table>\n",
       "</div>"
      ],
      "text/plain": [
       "   episode_id  episode_order  \\\n",
       "0       57264              9   \n",
       "1       57264             10   \n",
       "2       57264             11   \n",
       "3       57264             12   \n",
       "4       57264             13   \n",
       "\n",
       "                                             speaker  \\\n",
       "0  ms. loren mooney (editor-in-chief, bicycling m...   \n",
       "1  ms. loren mooney (editor-in-chief, bicycling m...   \n",
       "2                                   neal conan, host   \n",
       "3  ms. loren mooney (editor-in-chief, bicycling m...   \n",
       "4                                   neal conan, host   \n",
       "\n",
       "                                           utterance             program  \\\n",
       "0  It's a 2,200-mile race. To give some sense of ...  Talk of the Nation   \n",
       "1  So for a top competitor like Lance to try to m...  Talk of the Nation   \n",
       "2  So in every team, presumably there's one star,...  Talk of the Nation   \n",
       "3  That's right. Each team has nine riders. And w...  Talk of the Nation   \n",
       "4  So slipstream, this is like drafting in car ra...  Talk of the Nation   \n",
       "\n",
       "                             title  is_host  \\\n",
       "0  How To Watch The Tour De France    False   \n",
       "1  How To Watch The Tour De France    False   \n",
       "2  How To Watch The Tour De France     True   \n",
       "3  How To Watch The Tour De France    False   \n",
       "4  How To Watch The Tour De France     True   \n",
       "\n",
       "                                               clean  \\\n",
       "0  it s a 2200 mile race. to give some sense of p...   \n",
       "1  so for a top competitor like lance to try to m...   \n",
       "2  so in every team presumably there s one star o...   \n",
       "3  that s right. each team has nine riders. and w...   \n",
       "4  so slipstream this is like drafting in car rac...   \n",
       "\n",
       "                                  lemmatized_stopped  vader_stopped  \\\n",
       "0  2200 mile race. give sense perspective roughly...         0.0000   \n",
       "1  top competitor like lance try make much time 1...         0.9313   \n",
       "2  every team presumably one star one equivalent ...         0.7096   \n",
       "3  right. team ha nine riders. basically team lea...         0.9274   \n",
       "4        slipstream like drafting car racing right ?         0.3612   \n",
       "\n",
       "        date month  year  \n",
       "0 2010-07-12   Jul  2010  \n",
       "1 2010-07-12   Jul  2010  \n",
       "2 2010-07-12   Jul  2010  \n",
       "3 2010-07-12   Jul  2010  \n",
       "4 2010-07-12   Jul  2010  "
      ]
     },
     "execution_count": 11,
     "metadata": {},
     "output_type": "execute_result"
    }
   ],
   "source": [
    "df['month']=df['date'].dt.strftime('%b')\n",
    "df['year']=pd.DatetimeIndex(df['date']).year\n",
    "df=df.reset_index()\n",
    "df.head()"
   ]
  },
  {
   "cell_type": "code",
   "execution_count": 12,
   "id": "087c164f",
   "metadata": {},
   "outputs": [],
   "source": [
    "import matplotlib.pyplot as plt\n",
    "import seaborn as sns"
   ]
  },
  {
   "cell_type": "code",
   "execution_count": 13,
   "id": "c3c1c4fe",
   "metadata": {},
   "outputs": [],
   "source": [
    "df=df.set_index('date').sort_index()"
   ]
  },
  {
   "cell_type": "code",
   "execution_count": 14,
   "id": "31cdc0c0",
   "metadata": {},
   "outputs": [],
   "source": [
    "df = df[df.index.year >= 2005]"
   ]
  },
  {
   "cell_type": "code",
   "execution_count": 15,
   "id": "09aeff46",
   "metadata": {
    "scrolled": true
   },
   "outputs": [
    {
     "data": {
      "text/html": [
       "<div>\n",
       "<style scoped>\n",
       "    .dataframe tbody tr th:only-of-type {\n",
       "        vertical-align: middle;\n",
       "    }\n",
       "\n",
       "    .dataframe tbody tr th {\n",
       "        vertical-align: top;\n",
       "    }\n",
       "\n",
       "    .dataframe thead th {\n",
       "        text-align: right;\n",
       "    }\n",
       "</style>\n",
       "<table border=\"1\" class=\"dataframe\">\n",
       "  <thead>\n",
       "    <tr style=\"text-align: right;\">\n",
       "      <th></th>\n",
       "      <th>episode_id</th>\n",
       "      <th>episode_order</th>\n",
       "      <th>speaker</th>\n",
       "      <th>utterance</th>\n",
       "      <th>program</th>\n",
       "      <th>title</th>\n",
       "      <th>is_host</th>\n",
       "      <th>clean</th>\n",
       "      <th>lemmatized_stopped</th>\n",
       "      <th>vader_stopped</th>\n",
       "      <th>month</th>\n",
       "      <th>year</th>\n",
       "    </tr>\n",
       "    <tr>\n",
       "      <th>date</th>\n",
       "      <th></th>\n",
       "      <th></th>\n",
       "      <th></th>\n",
       "      <th></th>\n",
       "      <th></th>\n",
       "      <th></th>\n",
       "      <th></th>\n",
       "      <th></th>\n",
       "      <th></th>\n",
       "      <th></th>\n",
       "      <th></th>\n",
       "      <th></th>\n",
       "    </tr>\n",
       "  </thead>\n",
       "  <tbody>\n",
       "    <tr>\n",
       "      <th>2005-01-11</th>\n",
       "      <td>84434</td>\n",
       "      <td>1</td>\n",
       "      <td>neal conan, host</td>\n",
       "      <td>Scientists at the National Oceanic and Atmosph...</td>\n",
       "      <td>Talk of the Nation</td>\n",
       "      <td>NOAA Aims for Predicting Tsunamis</td>\n",
       "      <td>True</td>\n",
       "      <td>scientists at the national oceanic and atmosph...</td>\n",
       "      <td>scientist national oceanic atmospheric adminis...</td>\n",
       "      <td>0.2023</td>\n",
       "      <td>Jan</td>\n",
       "      <td>2005</td>\n",
       "    </tr>\n",
       "  </tbody>\n",
       "</table>\n",
       "</div>"
      ],
      "text/plain": [
       "            episode_id  episode_order           speaker  \\\n",
       "date                                                      \n",
       "2005-01-11       84434              1  neal conan, host   \n",
       "\n",
       "                                                    utterance  \\\n",
       "date                                                            \n",
       "2005-01-11  Scientists at the National Oceanic and Atmosph...   \n",
       "\n",
       "                       program                              title  is_host  \\\n",
       "date                                                                         \n",
       "2005-01-11  Talk of the Nation  NOAA Aims for Predicting Tsunamis     True   \n",
       "\n",
       "                                                        clean  \\\n",
       "date                                                            \n",
       "2005-01-11  scientists at the national oceanic and atmosph...   \n",
       "\n",
       "                                           lemmatized_stopped  vader_stopped  \\\n",
       "date                                                                           \n",
       "2005-01-11  scientist national oceanic atmospheric adminis...         0.2023   \n",
       "\n",
       "           month  year  \n",
       "date                    \n",
       "2005-01-11   Jan  2005  "
      ]
     },
     "execution_count": 15,
     "metadata": {},
     "output_type": "execute_result"
    }
   ],
   "source": [
    "df.head(1)"
   ]
  },
  {
   "cell_type": "code",
   "execution_count": 16,
   "id": "8a0d56cb",
   "metadata": {},
   "outputs": [
    {
     "data": {
      "text/plain": [
       "((2517076, 12), (248111, 12), (232646, 12))"
      ]
     },
     "execution_count": 16,
     "metadata": {},
     "output_type": "execute_result"
    }
   ],
   "source": [
    "train = df[:'2015']\n",
    "validate = df['2016':'2017']\n",
    "test = df['2018':]\n",
    "train.shape, validate.shape, test.shape"
   ]
  },
  {
   "cell_type": "code",
   "execution_count": 17,
   "id": "8f56a024",
   "metadata": {
    "scrolled": true
   },
   "outputs": [
    {
     "data": {
      "text/plain": [
       "(DatetimeIndex(['2015-12-31'], dtype='datetime64[ns]', name='date', freq=None),\n",
       " DatetimeIndex(['2016-01-01'], dtype='datetime64[ns]', name='date', freq=None),\n",
       " DatetimeIndex(['2017-12-31'], dtype='datetime64[ns]', name='date', freq=None),\n",
       " DatetimeIndex(['2018-01-01'], dtype='datetime64[ns]', name='date', freq=None))"
      ]
     },
     "execution_count": 17,
     "metadata": {},
     "output_type": "execute_result"
    }
   ],
   "source": [
    "train.index[-1:], validate.index[:1], validate.index[-1:], test.index[:1]"
   ]
  },
  {
   "cell_type": "code",
   "execution_count": 18,
   "id": "64a5ac70",
   "metadata": {},
   "outputs": [
    {
     "data": {
      "text/plain": [
       "<AxesSubplot:>"
      ]
     },
     "execution_count": 18,
     "metadata": {},
     "output_type": "execute_result"
    },
    {
     "data": {
      "image/png": "[encoded data removed]",
      "text/plain": [
       "<Figure size 432x288 with 1 Axes>"
      ]
     },
     "metadata": {
      "needs_background": "light"
     },
     "output_type": "display_data"
    }
   ],
   "source": [
    "df.vader_stopped.hist()"
   ]
  },
  {
   "cell_type": "markdown",
   "id": "81c3135f",
   "metadata": {},
   "source": [
    "## Using train split from here"
   ]
  },
  {
   "cell_type": "code",
   "execution_count": 19,
   "id": "de3d7d45",
   "metadata": {},
   "outputs": [],
   "source": [
    "host_df = train[train.is_host==True]"
   ]
  },
  {
   "cell_type": "code",
   "execution_count": 20,
   "id": "0fc32516",
   "metadata": {},
   "outputs": [],
   "source": [
    "guest_df = train[train.is_host!=True]"
   ]
  },
  {
   "cell_type": "code",
   "execution_count": 21,
   "id": "67dd9b02",
   "metadata": {},
   "outputs": [
    {
     "data": {
      "text/plain": [
       "((898380, 12), (1618696, 12))"
      ]
     },
     "execution_count": 21,
     "metadata": {},
     "output_type": "execute_result"
    }
   ],
   "source": [
    "host_df.shape, guest_df.shape"
   ]
  },
  {
   "cell_type": "code",
   "execution_count": 22,
   "id": "523998e5",
   "metadata": {},
   "outputs": [
    {
     "data": {
      "text/plain": [
       "(898380, 12)"
      ]
     },
     "execution_count": 22,
     "metadata": {},
     "output_type": "execute_result"
    }
   ],
   "source": [
    "host_df.shape"
   ]
  },
  {
   "cell_type": "code",
   "execution_count": null,
   "id": "9ffd4b4d",
   "metadata": {},
   "outputs": [],
   "source": []
  },
  {
   "cell_type": "code",
   "execution_count": 23,
   "id": "8f6fdd1b",
   "metadata": {},
   "outputs": [
    {
     "data": {
      "text/plain": [
       "neal conan, host                                           255111\n",
       "ira flatow, host                                            73179\n",
       "robert siegel, host                                         43703\n",
       "steve inskeep, host                                         41410\n",
       "melissa block, host                                         38658\n",
       "                                                            ...  \n",
       "mr. howard stern (radio talk show host)                         1\n",
       "mr. tim russert (talk show host)                                1\n",
       "mr. dagen mcdowell (host, \"your questions, your money\")         1\n",
       "mary louise k, host                                             1\n",
       "mr. mark fuhrman (co-host, \"the mark fuhrman show\")             1\n",
       "Name: speaker, Length: 835, dtype: int64"
      ]
     },
     "execution_count": 23,
     "metadata": {},
     "output_type": "execute_result"
    }
   ],
   "source": [
    "# are there repeats in the host_df? \n",
    "host_df.speaker.value_counts()"
   ]
  },
  {
   "cell_type": "markdown",
   "id": "175b431e",
   "metadata": {},
   "source": [
    "- I can see two different duplicates for steve inskeep bc of typos\n",
    "- I think this is going to fall into the arena of significantly diminishing returns, and I will not address it at this time"
   ]
  },
  {
   "cell_type": "code",
   "execution_count": 24,
   "id": "b191c970",
   "metadata": {},
   "outputs": [],
   "source": [
    "hosts_with_the_most = host_df.speaker.value_counts().head(12).index.to_list()"
   ]
  },
  {
   "cell_type": "markdown",
   "id": "d7ccd683",
   "metadata": {},
   "source": [
    "- This is a list of the 12 hosts with the most observations"
   ]
  },
  {
   "cell_type": "code",
   "execution_count": 25,
   "id": "a014d740",
   "metadata": {},
   "outputs": [
    {
     "data": {
      "text/plain": [
       "['neal conan, host',\n",
       " 'ira flatow, host',\n",
       " 'robert siegel, host',\n",
       " 'steve inskeep, host',\n",
       " 'melissa block, host',\n",
       " 'farai chideya, host',\n",
       " 'renee montagne, host',\n",
       " 'guy raz, host',\n",
       " 'madeleine brand, host',\n",
       " 'scott simon, host',\n",
       " 'michele norris, host',\n",
       " 'alex chadwick, host']"
      ]
     },
     "execution_count": 25,
     "metadata": {},
     "output_type": "execute_result"
    }
   ],
   "source": [
    "hosts_with_the_most"
   ]
  },
  {
   "cell_type": "code",
   "execution_count": 26,
   "id": "76eba46a",
   "metadata": {},
   "outputs": [],
   "source": [
    "top_hosts_df = train[train.speaker.isin(hosts_with_the_most)]\n"
   ]
  },
  {
   "cell_type": "code",
   "execution_count": 27,
   "id": "6b083c3d",
   "metadata": {},
   "outputs": [
    {
     "data": {
      "text/html": [
       "<div>\n",
       "<style scoped>\n",
       "    .dataframe tbody tr th:only-of-type {\n",
       "        vertical-align: middle;\n",
       "    }\n",
       "\n",
       "    .dataframe tbody tr th {\n",
       "        vertical-align: top;\n",
       "    }\n",
       "\n",
       "    .dataframe thead th {\n",
       "        text-align: right;\n",
       "    }\n",
       "</style>\n",
       "<table border=\"1\" class=\"dataframe\">\n",
       "  <thead>\n",
       "    <tr style=\"text-align: right;\">\n",
       "      <th></th>\n",
       "      <th>episode_id</th>\n",
       "      <th>episode_order</th>\n",
       "      <th>speaker</th>\n",
       "      <th>utterance</th>\n",
       "      <th>program</th>\n",
       "      <th>title</th>\n",
       "      <th>is_host</th>\n",
       "      <th>clean</th>\n",
       "      <th>lemmatized_stopped</th>\n",
       "      <th>vader_stopped</th>\n",
       "      <th>month</th>\n",
       "      <th>year</th>\n",
       "    </tr>\n",
       "    <tr>\n",
       "      <th>date</th>\n",
       "      <th></th>\n",
       "      <th></th>\n",
       "      <th></th>\n",
       "      <th></th>\n",
       "      <th></th>\n",
       "      <th></th>\n",
       "      <th></th>\n",
       "      <th></th>\n",
       "      <th></th>\n",
       "      <th></th>\n",
       "      <th></th>\n",
       "      <th></th>\n",
       "    </tr>\n",
       "  </thead>\n",
       "  <tbody>\n",
       "    <tr>\n",
       "      <th>2005-01-11</th>\n",
       "      <td>84434</td>\n",
       "      <td>1</td>\n",
       "      <td>neal conan, host</td>\n",
       "      <td>Scientists at the National Oceanic and Atmosph...</td>\n",
       "      <td>Talk of the Nation</td>\n",
       "      <td>NOAA Aims for Predicting Tsunamis</td>\n",
       "      <td>True</td>\n",
       "      <td>scientists at the national oceanic and atmosph...</td>\n",
       "      <td>scientist national oceanic atmospheric adminis...</td>\n",
       "      <td>0.2023</td>\n",
       "      <td>Jan</td>\n",
       "      <td>2005</td>\n",
       "    </tr>\n",
       "  </tbody>\n",
       "</table>\n",
       "</div>"
      ],
      "text/plain": [
       "            episode_id  episode_order           speaker  \\\n",
       "date                                                      \n",
       "2005-01-11       84434              1  neal conan, host   \n",
       "\n",
       "                                                    utterance  \\\n",
       "date                                                            \n",
       "2005-01-11  Scientists at the National Oceanic and Atmosph...   \n",
       "\n",
       "                       program                              title  is_host  \\\n",
       "date                                                                         \n",
       "2005-01-11  Talk of the Nation  NOAA Aims for Predicting Tsunamis     True   \n",
       "\n",
       "                                                        clean  \\\n",
       "date                                                            \n",
       "2005-01-11  scientists at the national oceanic and atmosph...   \n",
       "\n",
       "                                           lemmatized_stopped  vader_stopped  \\\n",
       "date                                                                           \n",
       "2005-01-11  scientist national oceanic atmospheric adminis...         0.2023   \n",
       "\n",
       "           month  year  \n",
       "date                    \n",
       "2005-01-11   Jan  2005  "
      ]
     },
     "execution_count": 27,
     "metadata": {},
     "output_type": "execute_result"
    }
   ],
   "source": [
    "top_hosts_df.head(1)"
   ]
  },
  {
   "cell_type": "code",
   "execution_count": 28,
   "id": "7ce48924",
   "metadata": {},
   "outputs": [
    {
     "data": {
      "text/plain": [
       "(Timestamp('2005-01-11 00:00:00'), Timestamp('2015-12-31 00:00:00'))"
      ]
     },
     "execution_count": 28,
     "metadata": {},
     "output_type": "execute_result"
    }
   ],
   "source": [
    "top_hosts_df.index.min(), top_hosts_df.index.max()"
   ]
  },
  {
   "cell_type": "code",
   "execution_count": 29,
   "id": "bfc442f2",
   "metadata": {
    "scrolled": true
   },
   "outputs": [
    {
     "data": {
      "text/plain": [
       "0.16270470873406365"
      ]
     },
     "execution_count": 29,
     "metadata": {},
     "output_type": "execute_result"
    }
   ],
   "source": [
    "top_hosts_df.vader_stopped.mean()"
   ]
  },
  {
   "cell_type": "markdown",
   "id": "117a5226",
   "metadata": {},
   "source": [
    "- Here, we have the average sentiment score for all the top hosts; as you can see, it is relatively neutral in sentiment"
   ]
  },
  {
   "cell_type": "code",
   "execution_count": 30,
   "id": "2b198ec2",
   "metadata": {},
   "outputs": [
    {
     "data": {
      "image/png": "[encoded data removed]",
      "text/plain": [
       "<Figure size 1440x720 with 1 Axes>"
      ]
     },
     "metadata": {
      "needs_background": "light"
     },
     "output_type": "display_data"
    }
   ],
   "source": [
    "plt.figure(figsize=(20,10))\n",
    "sns.boxplot(data=top_hosts_df, x='speaker',y='vader_stopped')\n",
    "plt.xticks(rotation=90);"
   ]
  },
  {
   "cell_type": "markdown",
   "id": "8e09041e",
   "metadata": {},
   "source": [
    "- The mean sentiment value is awfully close for everyone here, so i'm going to stats test it with an ANOVA test"
   ]
  },
  {
   "cell_type": "code",
   "execution_count": 31,
   "id": "5a953622",
   "metadata": {},
   "outputs": [],
   "source": [
    "null_hypothesis = \"Average sentiment score is the same across hosts\"\n",
    "alternative_hypothesis = \"Average sentiment score is different in at least one host of the group\"\n",
    "alpha = 0.01 # Let's be 99% certain the result we see isn't due to chance/randomness"
   ]
  },
  {
   "cell_type": "code",
   "execution_count": 32,
   "id": "ab9dc284",
   "metadata": {},
   "outputs": [
    {
     "name": "stdout",
     "output_type": "stream",
     "text": [
      "['neal_df', 'ira_df', 'robert_df', 'steve_df', 'melissa_df', 'farai_df', 'renee_df', 'guy_df', 'madeleine_df', 'scott_df', 'michele_df', 'alex_df']\n"
     ]
    }
   ],
   "source": [
    "host_df_list=[]\n",
    "for host in hosts_with_the_most:\n",
    "    x = host.split()\n",
    "    host_df_list.append(f'{x[0]}_df')\n",
    "print(host_df_list)"
   ]
  },
  {
   "cell_type": "code",
   "execution_count": 33,
   "id": "185ac6a9",
   "metadata": {},
   "outputs": [
    {
     "data": {
      "text/plain": [
       "['neal conan, host',\n",
       " 'ira flatow, host',\n",
       " 'robert siegel, host',\n",
       " 'steve inskeep, host',\n",
       " 'melissa block, host',\n",
       " 'farai chideya, host',\n",
       " 'renee montagne, host',\n",
       " 'guy raz, host',\n",
       " 'madeleine brand, host',\n",
       " 'scott simon, host',\n",
       " 'michele norris, host',\n",
       " 'alex chadwick, host']"
      ]
     },
     "execution_count": 33,
     "metadata": {},
     "output_type": "execute_result"
    }
   ],
   "source": [
    "hosts_with_the_most"
   ]
  },
  {
   "cell_type": "code",
   "execution_count": 34,
   "id": "51a3e1bc",
   "metadata": {
    "scrolled": true
   },
   "outputs": [],
   "source": [
    "# Let's isolate our hosts\n",
    "NEAL_df = train[train.speaker == 'neal conan, host'].vader_stopped\n",
    "IRA_df = train[train.speaker ==  'ira flatow, host'].vader_stopped\n",
    "ROBERT_df = train[train.speaker == 'robert siegel, host'].vader_stopped\n",
    "STEVE_df = train[train.speaker == 'steve inskeep, host'].vader_stopped\n",
    "MELISSA_df = train[train.speaker == 'melissa block, host'].vader_stopped\n",
    "FARAI_df = train[train.speaker ==  'farai chideya, host'].vader_stopped\n",
    "RENEE_df = train[train.speaker == 'renee montagne, host'].vader_stopped\n",
    "GUY_df = train[train.speaker == 'guy raz, host'].vader_stopped\n",
    "MADELEINE_df = train[train.speaker == 'madeleine brand, host'].vader_stopped\n",
    "SCOTT_df = train[train.speaker == 'scott simon, host'].vader_stopped\n",
    "MICHELE_df = train[train.speaker == 'michelle norris, host'].vader_stopped\n",
    "ALEX_df = train[train.speaker == 'alex chadwick, host'].vader_stopped\n"
   ]
  },
  {
   "cell_type": "code",
   "execution_count": 35,
   "id": "93229f9e",
   "metadata": {},
   "outputs": [
    {
     "data": {
      "text/plain": [
       "(645.7673188930597, 0.0)"
      ]
     },
     "execution_count": 35,
     "metadata": {},
     "output_type": "execute_result"
    }
   ],
   "source": [
    "# f_oneway is our ANOVA test\n",
    "# See https://docs.scipy.org/doc/scipy/reference/generated/scipy.stats.f_oneway.html for more info\n",
    "from scipy.stats import f_oneway\n",
    "\n",
    "f, p = f_oneway(NEAL_df, IRA_df, ROBERT_df, STEVE_df, MELISSA_df, FARAI_df, RENEE_df, GUY_df, MADELEINE_df, SCOTT_df, MICHELE_df, ALEX_df)\n",
    "f, p"
   ]
  },
  {
   "cell_type": "code",
   "execution_count": 36,
   "id": "ce47908e",
   "metadata": {},
   "outputs": [
    {
     "name": "stdout",
     "output_type": "stream",
     "text": [
      "We reject the null hypothesis that Average sentiment score is the same across hosts\n",
      "We move forward with the alternative hypothesis that Average sentiment score is different in at least one host of the group\n"
     ]
    }
   ],
   "source": [
    "if p < alpha:\n",
    "    print(\"We reject the null hypothesis that\", null_hypothesis)\n",
    "    print(\"We move forward with the alternative hypothesis that\", alternative_hypothesis)\n",
    "else:\n",
    "    print(\"We fail to reject the null hypothesis\")\n",
    "    print(\"Evidence does not support the claim that sentiment differs from host to host\")"
   ]
  },
  {
   "cell_type": "code",
   "execution_count": 37,
   "id": "59be5657",
   "metadata": {},
   "outputs": [
    {
     "data": {
      "image/png": "[encoded data removed]",
      "text/plain": [
       "<Figure size 360x360 with 1 Axes>"
      ]
     },
     "metadata": {
      "needs_background": "light"
     },
     "output_type": "display_data"
    }
   ],
   "source": [
    "sns.catplot(x=\"speaker\", y=\"vader_stopped\", kind=\"bar\", data=top_hosts_df)\n",
    "plt.xticks(rotation=90);"
   ]
  },
  {
   "cell_type": "markdown",
   "id": "41185a68",
   "metadata": {},
   "source": [
    "- Another view of the same...it looks more clear here that there is a difference, however note the small scale on the y axis"
   ]
  },
  {
   "cell_type": "code",
   "execution_count": null,
   "id": "59dbdfdb",
   "metadata": {},
   "outputs": [],
   "source": []
  },
  {
   "cell_type": "code",
   "execution_count": 38,
   "id": "b693fd81",
   "metadata": {
    "scrolled": false
   },
   "outputs": [
    {
     "data": {
      "text/html": [
       "<div>\n",
       "<style scoped>\n",
       "    .dataframe tbody tr th:only-of-type {\n",
       "        vertical-align: middle;\n",
       "    }\n",
       "\n",
       "    .dataframe tbody tr th {\n",
       "        vertical-align: top;\n",
       "    }\n",
       "\n",
       "    .dataframe thead th {\n",
       "        text-align: right;\n",
       "    }\n",
       "</style>\n",
       "<table border=\"1\" class=\"dataframe\">\n",
       "  <thead>\n",
       "    <tr style=\"text-align: right;\">\n",
       "      <th></th>\n",
       "      <th>episode_id</th>\n",
       "      <th>episode_order</th>\n",
       "      <th>speaker</th>\n",
       "      <th>utterance</th>\n",
       "      <th>program</th>\n",
       "      <th>title</th>\n",
       "      <th>is_host</th>\n",
       "      <th>clean</th>\n",
       "      <th>lemmatized_stopped</th>\n",
       "      <th>vader_stopped</th>\n",
       "      <th>month</th>\n",
       "      <th>year</th>\n",
       "    </tr>\n",
       "    <tr>\n",
       "      <th>date</th>\n",
       "      <th></th>\n",
       "      <th></th>\n",
       "      <th></th>\n",
       "      <th></th>\n",
       "      <th></th>\n",
       "      <th></th>\n",
       "      <th></th>\n",
       "      <th></th>\n",
       "      <th></th>\n",
       "      <th></th>\n",
       "      <th></th>\n",
       "      <th></th>\n",
       "    </tr>\n",
       "  </thead>\n",
       "  <tbody>\n",
       "    <tr>\n",
       "      <th>2005-01-11</th>\n",
       "      <td>84434</td>\n",
       "      <td>1</td>\n",
       "      <td>neal conan, host</td>\n",
       "      <td>Scientists at the National Oceanic and Atmosph...</td>\n",
       "      <td>Talk of the Nation</td>\n",
       "      <td>NOAA Aims for Predicting Tsunamis</td>\n",
       "      <td>True</td>\n",
       "      <td>scientists at the national oceanic and atmosph...</td>\n",
       "      <td>scientist national oceanic atmospheric adminis...</td>\n",
       "      <td>0.2023</td>\n",
       "      <td>Jan</td>\n",
       "      <td>2005</td>\n",
       "    </tr>\n",
       "  </tbody>\n",
       "</table>\n",
       "</div>"
      ],
      "text/plain": [
       "            episode_id  episode_order           speaker  \\\n",
       "date                                                      \n",
       "2005-01-11       84434              1  neal conan, host   \n",
       "\n",
       "                                                    utterance  \\\n",
       "date                                                            \n",
       "2005-01-11  Scientists at the National Oceanic and Atmosph...   \n",
       "\n",
       "                       program                              title  is_host  \\\n",
       "date                                                                         \n",
       "2005-01-11  Talk of the Nation  NOAA Aims for Predicting Tsunamis     True   \n",
       "\n",
       "                                                        clean  \\\n",
       "date                                                            \n",
       "2005-01-11  scientists at the national oceanic and atmosph...   \n",
       "\n",
       "                                           lemmatized_stopped  vader_stopped  \\\n",
       "date                                                                           \n",
       "2005-01-11  scientist national oceanic atmospheric adminis...         0.2023   \n",
       "\n",
       "           month  year  \n",
       "date                    \n",
       "2005-01-11   Jan  2005  "
      ]
     },
     "execution_count": 38,
     "metadata": {},
     "output_type": "execute_result"
    }
   ],
   "source": [
    "top_hosts_df.head(1)"
   ]
  },
  {
   "cell_type": "markdown",
   "id": "1bb07f53",
   "metadata": {},
   "source": [
    "### The conclusion to the above is that there is a statistically significant difference in sentiment in the top hosts group, even if it is small."
   ]
  },
  {
   "cell_type": "markdown",
   "id": "ebe7e1bd",
   "metadata": {},
   "source": [
    "## What's the difference in sentiment score between hosts and non-hosts?"
   ]
  },
  {
   "cell_type": "code",
   "execution_count": 39,
   "id": "31fc1764",
   "metadata": {},
   "outputs": [],
   "source": [
    "non_host_df = train[train.is_host==False]"
   ]
  },
  {
   "cell_type": "code",
   "execution_count": 40,
   "id": "35fccf6b",
   "metadata": {},
   "outputs": [
    {
     "data": {
      "text/plain": [
       "Text(0, 0.5, 'Mean Sentiment Score')"
      ]
     },
     "execution_count": 40,
     "metadata": {},
     "output_type": "execute_result"
    },
    {
     "data": {
      "image/png": "[encoded data removed]",
      "text/plain": [
       "<Figure size 432x288 with 1 Axes>"
      ]
     },
     "metadata": {
      "needs_background": "light"
     },
     "output_type": "display_data"
    }
   ],
   "source": [
    "plt.figure\n",
    "sns.boxplot(data=train, x='is_host',y='vader_stopped')\n",
    "plt.title(\"The mean sentiment score for Hosts versus Non-Hosts\")\n",
    "plt.ylabel(\"Mean Sentiment Score\")\n"
   ]
  },
  {
   "cell_type": "code",
   "execution_count": 41,
   "id": "5b528982",
   "metadata": {},
   "outputs": [
    {
     "data": {
      "text/plain": [
       "(0.22239610136806212, 0.16980180502682723)"
      ]
     },
     "execution_count": 41,
     "metadata": {},
     "output_type": "execute_result"
    }
   ],
   "source": [
    "train[train.is_host==False].vader_stopped.mean(), train[train.is_host==True].vader_stopped.mean()"
   ]
  },
  {
   "cell_type": "code",
   "execution_count": 42,
   "id": "c2cdd3b2",
   "metadata": {},
   "outputs": [],
   "source": [
    "null_hypothesis = \"Hosts and Non-hosts have the same sentiment score\"\n",
    "alternative_hypothesis = \"Hosts and Non-hosts have different sentiment scores\"\n",
    "alpha = 0.01 # we want to be 99% sure our results aren't the result of chance/randomness"
   ]
  },
  {
   "cell_type": "code",
   "execution_count": 43,
   "id": "96853419",
   "metadata": {},
   "outputs": [
    {
     "data": {
      "text/plain": [
       "(-85.9511011830052, 0.0)"
      ]
     },
     "execution_count": 43,
     "metadata": {},
     "output_type": "execute_result"
    }
   ],
   "source": [
    "#stats testing on the same\n",
    "# anova is the wrong test!\n",
    "from scipy import stats\n",
    "\n",
    "t, p = stats.ttest_ind(host_df.vader_stopped,non_host_df.vader_stopped)\n",
    "t, p"
   ]
  },
  {
   "cell_type": "code",
   "execution_count": 44,
   "id": "e460de7c",
   "metadata": {},
   "outputs": [
    {
     "name": "stdout",
     "output_type": "stream",
     "text": [
      "We reject the null hypothesis that Hosts and Non-hosts have the same sentiment score\n",
      "We move forward with the hypothesis that Hosts and Non-hosts have different sentiment scores\n"
     ]
    }
   ],
   "source": [
    "if p < alpha:\n",
    "    print(\"We reject the null hypothesis that\", null_hypothesis)\n",
    "    print(\"We move forward with the hypothesis that\", alternative_hypothesis)\n",
    "else:\n",
    "    print(\"We fail to reject the null hypothesis\")\n",
    "    print(f\"Evidence does not support the claim that\", alternate_hypothesis)"
   ]
  },
  {
   "cell_type": "markdown",
   "id": "a52c9128",
   "metadata": {},
   "source": [
    "### The average sentiment score for non-hosts is somewhat higher than for the hosts.  To be expected for a relatively neutral news outlet?"
   ]
  },
  {
   "cell_type": "markdown",
   "id": "6d51fdca",
   "metadata": {},
   "source": [
    "## How about sentiment score by year?"
   ]
  },
  {
   "cell_type": "code",
   "execution_count": 45,
   "id": "2423e432",
   "metadata": {},
   "outputs": [
    {
     "data": {
      "text/plain": [
       "date\n",
       "2005-12-31    0.195450\n",
       "2006-12-31    0.186328\n",
       "2007-12-31    0.199354\n",
       "2008-12-31    0.231357\n",
       "2009-12-31    0.223045\n",
       "2010-12-31    0.212016\n",
       "2011-12-31    0.201475\n",
       "2012-12-31    0.220676\n",
       "2013-12-31    0.191282\n",
       "2014-12-31    0.161411\n",
       "2015-12-31    0.168368\n",
       "Freq: A-DEC, Name: vader_stopped, dtype: float64"
      ]
     },
     "execution_count": 45,
     "metadata": {},
     "output_type": "execute_result"
    }
   ],
   "source": [
    "train.resample('Y').vader_stopped.mean()"
   ]
  },
  {
   "cell_type": "markdown",
   "id": "4c0f91bf",
   "metadata": {},
   "source": [
    "- why don't we have vader scores in 2000-2003 on yearly resampling?"
   ]
  },
  {
   "cell_type": "code",
   "execution_count": 46,
   "id": "48e12c63",
   "metadata": {},
   "outputs": [],
   "source": [
    "vader_yearly = pd.DataFrame(train.resample('Y').vader_stopped.mean())"
   ]
  },
  {
   "cell_type": "code",
   "execution_count": 47,
   "id": "df03bc49",
   "metadata": {},
   "outputs": [
    {
     "data": {
      "text/plain": [
       "<AxesSubplot:xlabel='date'>"
      ]
     },
     "execution_count": 47,
     "metadata": {},
     "output_type": "execute_result"
    },
    {
     "data": {
      "image/png": "[encoded data removed]",
      "text/plain": [
       "<Figure size 432x288 with 1 Axes>"
      ]
     },
     "metadata": {
      "needs_background": "light"
     },
     "output_type": "display_data"
    }
   ],
   "source": [
    "vader_yearly.plot()"
   ]
  },
  {
   "cell_type": "code",
   "execution_count": 48,
   "id": "2dd3f24a",
   "metadata": {},
   "outputs": [],
   "source": [
    "vader_monthly = pd.DataFrame(train.resample('M').vader_stopped.mean())"
   ]
  },
  {
   "cell_type": "code",
   "execution_count": 49,
   "id": "7db450cd",
   "metadata": {},
   "outputs": [
    {
     "data": {
      "text/html": [
       "<div>\n",
       "<style scoped>\n",
       "    .dataframe tbody tr th:only-of-type {\n",
       "        vertical-align: middle;\n",
       "    }\n",
       "\n",
       "    .dataframe tbody tr th {\n",
       "        vertical-align: top;\n",
       "    }\n",
       "\n",
       "    .dataframe thead th {\n",
       "        text-align: right;\n",
       "    }\n",
       "</style>\n",
       "<table border=\"1\" class=\"dataframe\">\n",
       "  <thead>\n",
       "    <tr style=\"text-align: right;\">\n",
       "      <th></th>\n",
       "      <th>vader_stopped</th>\n",
       "    </tr>\n",
       "    <tr>\n",
       "      <th>date</th>\n",
       "      <th></th>\n",
       "    </tr>\n",
       "  </thead>\n",
       "  <tbody>\n",
       "    <tr>\n",
       "      <th>2005-01-31</th>\n",
       "      <td>0.310612</td>\n",
       "    </tr>\n",
       "    <tr>\n",
       "      <th>2005-02-28</th>\n",
       "      <td>NaN</td>\n",
       "    </tr>\n",
       "    <tr>\n",
       "      <th>2005-03-31</th>\n",
       "      <td>NaN</td>\n",
       "    </tr>\n",
       "    <tr>\n",
       "      <th>2005-04-30</th>\n",
       "      <td>NaN</td>\n",
       "    </tr>\n",
       "    <tr>\n",
       "      <th>2005-05-31</th>\n",
       "      <td>0.198613</td>\n",
       "    </tr>\n",
       "  </tbody>\n",
       "</table>\n",
       "</div>"
      ],
      "text/plain": [
       "            vader_stopped\n",
       "date                     \n",
       "2005-01-31       0.310612\n",
       "2005-02-28            NaN\n",
       "2005-03-31            NaN\n",
       "2005-04-30            NaN\n",
       "2005-05-31       0.198613"
      ]
     },
     "execution_count": 49,
     "metadata": {},
     "output_type": "execute_result"
    }
   ],
   "source": [
    "vader_monthly.head()"
   ]
  },
  {
   "cell_type": "code",
   "execution_count": 50,
   "id": "ac045d36",
   "metadata": {},
   "outputs": [
    {
     "data": {
      "text/plain": [
       "<AxesSubplot:xlabel='date'>"
      ]
     },
     "execution_count": 50,
     "metadata": {},
     "output_type": "execute_result"
    },
    {
     "data": {
      "image/png": "[encoded data removed]",
      "text/plain": [
       "<Figure size 432x288 with 1 Axes>"
      ]
     },
     "metadata": {
      "needs_background": "light"
     },
     "output_type": "display_data"
    }
   ],
   "source": [
    "vader_monthly.plot()"
   ]
  },
  {
   "cell_type": "markdown",
   "id": "544fb872",
   "metadata": {},
   "source": [
    "- What's with all those missing sentiment scores in the early aughts?"
   ]
  },
  {
   "cell_type": "code",
   "execution_count": 51,
   "id": "a87588e4",
   "metadata": {},
   "outputs": [],
   "source": [
    "# pd.DataFrame(df.resample(\"d\").vader_stopped.mean()).plot()"
   ]
  },
  {
   "cell_type": "markdown",
   "id": "2da850e8",
   "metadata": {},
   "source": [
    "## By day of week?"
   ]
  },
  {
   "cell_type": "code",
   "execution_count": 52,
   "id": "f8708ca1",
   "metadata": {
    "scrolled": false
   },
   "outputs": [
    {
     "data": {
      "text/plain": [
       "date\n",
       "0    0.198363\n",
       "1    0.195291\n",
       "2    0.202380\n",
       "3    0.203413\n",
       "4    0.221355\n",
       "5    0.198306\n",
       "6    0.201505\n",
       "Name: vader_stopped, dtype: float64"
      ]
     },
     "execution_count": 52,
     "metadata": {},
     "output_type": "execute_result"
    }
   ],
   "source": [
    "train.groupby(train.index.weekday).vader_stopped.mean()\n",
    "# sentiment by day, 0 is monday, 6 is sunday"
   ]
  },
  {
   "cell_type": "code",
   "execution_count": 53,
   "id": "175e5cdf",
   "metadata": {
    "scrolled": true
   },
   "outputs": [
    {
     "data": {
      "text/plain": [
       "<AxesSubplot:xlabel='date', ylabel='vader_stopped'>"
      ]
     },
     "execution_count": 53,
     "metadata": {},
     "output_type": "execute_result"
    },
    {
     "data": {
      "image/png": "[encoded data removed]",
      "text/plain": [
       "<Figure size 432x288 with 1 Axes>"
      ]
     },
     "metadata": {
      "needs_background": "light"
     },
     "output_type": "display_data"
    }
   ],
   "source": [
    "sns.boxplot(data=train, x=train.index.weekday,y='vader_stopped')"
   ]
  },
  {
   "cell_type": "code",
   "execution_count": 54,
   "id": "c25e8e4c",
   "metadata": {},
   "outputs": [],
   "source": [
    "Monday_df = train[train.index.weekday == 0]\n",
    "Tuesday_df = train[train.index.weekday == 1]\n",
    "Wednesday_df = train[train.index.weekday == 2]\n",
    "Thursday_df = train[train.index.weekday == 3]\n",
    "Friday_df = train[train.index.weekday == 4]\n",
    "Saturday_df = train[train.index.weekday == 5]\n",
    "Sunday_df = train[train.index.weekday == 6]"
   ]
  },
  {
   "cell_type": "code",
   "execution_count": 55,
   "id": "5eddd740",
   "metadata": {},
   "outputs": [],
   "source": [
    "null_hypothesis = \"Different days of the week have the same sentiment score\"\n",
    "alternative_hypothesis = \"At least one day of the week has a different sentiment score from the rest\"\n",
    "alpha = 0.01 # we want to be 99% sure our results aren't the result of chance/randomness"
   ]
  },
  {
   "cell_type": "code",
   "execution_count": 56,
   "id": "87466b38",
   "metadata": {},
   "outputs": [
    {
     "data": {
      "text/plain": [
       "(141.0048563979687, 1.8681748678743254e-179)"
      ]
     },
     "execution_count": 56,
     "metadata": {},
     "output_type": "execute_result"
    }
   ],
   "source": [
    "from scipy.stats import f_oneway\n",
    "\n",
    "f, p = f_oneway(Monday_df.vader_stopped,\\\n",
    "Tuesday_df.vader_stopped,\\\n",
    "Wednesday_df.vader_stopped,\\\n",
    "Thursday_df.vader_stopped,\\\n",
    "Friday_df.vader_stopped,\\\n",
    "Saturday_df.vader_stopped,\\\n",
    "Sunday_df.vader_stopped)\n",
    "\n",
    "f, p"
   ]
  },
  {
   "cell_type": "code",
   "execution_count": 57,
   "id": "38b40570",
   "metadata": {},
   "outputs": [
    {
     "name": "stdout",
     "output_type": "stream",
     "text": [
      "We reject the null hypothesis that Different days of the week have the same sentiment score\n",
      "We move forward with the alternative hypothesis that At least one day of the week has a different sentiment score from the rest\n"
     ]
    }
   ],
   "source": [
    "if p < alpha:\n",
    "    print(\"We reject the null hypothesis that\", null_hypothesis)\n",
    "    print(\"We move forward with the alternative hypothesis that\", alternative_hypothesis)\n",
    "else:\n",
    "    print(\"We fail to reject the null hypothesis\")\n",
    "    print(\"Evidence does not support the claim that sentiment differs from one weekday to the next\")"
   ]
  },
  {
   "cell_type": "markdown",
   "id": "a3fdcd7b",
   "metadata": {},
   "source": [
    "## And by program?"
   ]
  },
  {
   "cell_type": "code",
   "execution_count": 58,
   "id": "0c308fbf",
   "metadata": {
    "scrolled": true
   },
   "outputs": [
    {
     "data": {
      "text/plain": [
       "['Talk of the Nation',\n",
       " 'All Things Considered',\n",
       " 'Morning Edition',\n",
       " 'News & Notes',\n",
       " 'Day to Day',\n",
       " 'Weekend Edition Sunday',\n",
       " 'Weekend Edition Saturday']"
      ]
     },
     "execution_count": 58,
     "metadata": {},
     "output_type": "execute_result"
    }
   ],
   "source": [
    "train.program.value_counts().index.to_list()"
   ]
  },
  {
   "cell_type": "code",
   "execution_count": 59,
   "id": "8f9406a9",
   "metadata": {},
   "outputs": [],
   "source": [
    "Talk_of_the_Nation_df = train[train.program == 'Talk of the Nation']\n",
    "All_Things_Considered_df = train[train.program == 'All Things Considered']\n",
    "Morning_Edition_df = train[train.program == 'Morning Edition']\n",
    "News_and_Notes_df = train[train.program == 'News & Notes']\n",
    "Day_to_Day_df = train[train.program == 'Day to Day']\n",
    "Weekend_Edition_Sunday_df = train[train.program == 'Weekend Edition Sunday']\n",
    "Weekend_Edition_Saturday_df = train[train.program == 'Weekend Edition Saturday']"
   ]
  },
  {
   "cell_type": "code",
   "execution_count": 60,
   "id": "ebda05fb",
   "metadata": {},
   "outputs": [
    {
     "data": {
      "text/plain": [
       "<matplotlib.legend.Legend at 0x7ff12ac6e550>"
      ]
     },
     "execution_count": 60,
     "metadata": {},
     "output_type": "execute_result"
    },
    {
     "data": {
      "image/png": "[encoded data removed]",
      "text/plain": [
       "<Figure size 2160x720 with 1 Axes>"
      ]
     },
     "metadata": {
      "needs_background": "light"
     },
     "output_type": "display_data"
    }
   ],
   "source": [
    "plt.figure(figsize=(30,10))\n",
    "Talk_of_the_Nation_df.resample(\"y\").vader_stopped.mean().plot(alpha=.5)\n",
    "All_Things_Considered_df.resample(\"y\").vader_stopped.mean().plot(alpha=.5)\n",
    "Morning_Edition_df.resample(\"y\").vader_stopped.mean().plot(alpha=.5)\n",
    "News_and_Notes_df.resample(\"y\").vader_stopped.mean().plot(alpha=.5)\n",
    "Day_to_Day_df.resample(\"y\").vader_stopped.mean().plot(alpha=.5)\n",
    "Weekend_Edition_Sunday_df.resample(\"y\").vader_stopped.mean().plot(alpha=.5)\n",
    "Weekend_Edition_Saturday_df.resample(\"y\").vader_stopped.mean().plot(alpha=.5)\n",
    "plt.title(\"Average Sentiment over Time, by Program\")\n",
    "plt.legend(['Talk of the Nation',\n",
    " 'All Things Considered',\n",
    " 'Morning Edition',\n",
    " 'News & Notes',\n",
    " 'Day to Day',\n",
    " 'Weekend Edition Sunday',\n",
    " 'Weekend Edition Saturday'], prop={'size': 20})"
   ]
  },
  {
   "cell_type": "markdown",
   "id": "8cd8348a",
   "metadata": {},
   "source": [
    "- Note the programs that have gone off air\n",
    "- Also, there is some difference in sentiment from program to program\n",
    "- Weekend Edition (Sat and Sun) have higher sentiment scores--these programs try to be a little on the lighter side for the weekend\n",
    "- We're definitely starting off the day on the most pessimistic note"
   ]
  },
  {
   "cell_type": "code",
   "execution_count": 61,
   "id": "bfaee2f3",
   "metadata": {},
   "outputs": [],
   "source": [
    "null_hypothesis = \"The different programs have the same sentiment score\"\n",
    "alternative_hypothesis = \"At least one program has a different sentiment score\"\n",
    "alpha = 0.01 # we want to be 99% sure our results aren't the result of chance/randomness"
   ]
  },
  {
   "cell_type": "code",
   "execution_count": 62,
   "id": "9b14e0a3",
   "metadata": {},
   "outputs": [
    {
     "data": {
      "text/plain": [
       "(5209.293041848401, 0.0)"
      ]
     },
     "execution_count": 62,
     "metadata": {},
     "output_type": "execute_result"
    }
   ],
   "source": [
    "# f_oneway is our ANOVA test\n",
    "# See https://docs.scipy.org/doc/scipy/reference/generated/scipy.stats.f_oneway.html for more info\n",
    "from scipy.stats import f_oneway\n",
    "\n",
    "f, p = f_oneway(Talk_of_the_Nation_df.vader_stopped,\n",
    "All_Things_Considered_df.vader_stopped,\n",
    "Morning_Edition_df.vader_stopped,\n",
    "News_and_Notes_df.vader_stopped,\n",
    "Day_to_Day_df.vader_stopped,\n",
    "Weekend_Edition_Sunday_df.vader_stopped,\n",
    "Weekend_Edition_Saturday_df.vader_stopped,)\n",
    "f, p"
   ]
  },
  {
   "cell_type": "code",
   "execution_count": 63,
   "id": "54c0959f",
   "metadata": {},
   "outputs": [
    {
     "name": "stdout",
     "output_type": "stream",
     "text": [
      "We reject the null hypothesis that The different programs have the same sentiment score\n",
      "We move forward with the alternative hypothesis that At least one program has a different sentiment score\n"
     ]
    }
   ],
   "source": [
    "if p < alpha:\n",
    "    print(\"We reject the null hypothesis that\", null_hypothesis)\n",
    "    print(\"We move forward with the alternative hypothesis that\", alternative_hypothesis)\n",
    "else:\n",
    "    print(\"We fail to reject the null hypothesis\")\n",
    "    print(\"Evidence does not support the claim that sentiment differs from host to host\")"
   ]
  },
  {
   "cell_type": "code",
   "execution_count": 64,
   "id": "ee3bee65",
   "metadata": {},
   "outputs": [
    {
     "data": {
      "text/html": [
       "<div>\n",
       "<style scoped>\n",
       "    .dataframe tbody tr th:only-of-type {\n",
       "        vertical-align: middle;\n",
       "    }\n",
       "\n",
       "    .dataframe tbody tr th {\n",
       "        vertical-align: top;\n",
       "    }\n",
       "\n",
       "    .dataframe thead th {\n",
       "        text-align: right;\n",
       "    }\n",
       "</style>\n",
       "<table border=\"1\" class=\"dataframe\">\n",
       "  <thead>\n",
       "    <tr style=\"text-align: right;\">\n",
       "      <th></th>\n",
       "      <th>episode_id</th>\n",
       "      <th>episode_order</th>\n",
       "      <th>speaker</th>\n",
       "      <th>utterance</th>\n",
       "      <th>program</th>\n",
       "      <th>title</th>\n",
       "      <th>is_host</th>\n",
       "      <th>clean</th>\n",
       "      <th>lemmatized_stopped</th>\n",
       "      <th>vader_stopped</th>\n",
       "      <th>month</th>\n",
       "      <th>year</th>\n",
       "    </tr>\n",
       "    <tr>\n",
       "      <th>date</th>\n",
       "      <th></th>\n",
       "      <th></th>\n",
       "      <th></th>\n",
       "      <th></th>\n",
       "      <th></th>\n",
       "      <th></th>\n",
       "      <th></th>\n",
       "      <th></th>\n",
       "      <th></th>\n",
       "      <th></th>\n",
       "      <th></th>\n",
       "      <th></th>\n",
       "    </tr>\n",
       "  </thead>\n",
       "  <tbody>\n",
       "    <tr>\n",
       "      <th>2005-01-11</th>\n",
       "      <td>84434</td>\n",
       "      <td>1</td>\n",
       "      <td>neal conan, host</td>\n",
       "      <td>Scientists at the National Oceanic and Atmosph...</td>\n",
       "      <td>Talk of the Nation</td>\n",
       "      <td>NOAA Aims for Predicting Tsunamis</td>\n",
       "      <td>True</td>\n",
       "      <td>scientists at the national oceanic and atmosph...</td>\n",
       "      <td>scientist national oceanic atmospheric adminis...</td>\n",
       "      <td>0.2023</td>\n",
       "      <td>Jan</td>\n",
       "      <td>2005</td>\n",
       "    </tr>\n",
       "    <tr>\n",
       "      <th>2005-01-11</th>\n",
       "      <td>84430</td>\n",
       "      <td>22</td>\n",
       "      <td>norma (caller)</td>\n",
       "      <td>Yes.  Our governor gave his State of the State...</td>\n",
       "      <td>Talk of the Nation</td>\n",
       "      <td>State Legislatures: Agendas and Budgets</td>\n",
       "      <td>False</td>\n",
       "      <td>yes. our governor gave his state of the state ...</td>\n",
       "      <td>yes. governor gave state state address morning...</td>\n",
       "      <td>0.7778</td>\n",
       "      <td>Jan</td>\n",
       "      <td>2005</td>\n",
       "    </tr>\n",
       "    <tr>\n",
       "      <th>2005-01-11</th>\n",
       "      <td>84430</td>\n",
       "      <td>19</td>\n",
       "      <td>mr. bill pound (executive director, national c...</td>\n",
       "      <td>A good example of what you just described on t...</td>\n",
       "      <td>Talk of the Nation</td>\n",
       "      <td>State Legislatures: Agendas and Budgets</td>\n",
       "      <td>False</td>\n",
       "      <td>a good example of what you just described on t...</td>\n",
       "      <td>good example described tension federal state g...</td>\n",
       "      <td>0.2960</td>\n",
       "      <td>Jan</td>\n",
       "      <td>2005</td>\n",
       "    </tr>\n",
       "    <tr>\n",
       "      <th>2005-01-11</th>\n",
       "      <td>84430</td>\n",
       "      <td>18</td>\n",
       "      <td>mr. bill pound (executive director, national c...</td>\n",
       "      <td>Absolutely.  The different--the way immigrants...</td>\n",
       "      <td>Talk of the Nation</td>\n",
       "      <td>State Legislatures: Agendas and Budgets</td>\n",
       "      <td>False</td>\n",
       "      <td>absolutely. the different the way immigrants o...</td>\n",
       "      <td>absolutely. different way immigrant alien whet...</td>\n",
       "      <td>0.4767</td>\n",
       "      <td>Jan</td>\n",
       "      <td>2005</td>\n",
       "    </tr>\n",
       "    <tr>\n",
       "      <th>2005-01-11</th>\n",
       "      <td>84430</td>\n",
       "      <td>17</td>\n",
       "      <td>neal conan, host</td>\n",
       "      <td>Now there are issues, of course, that involve ...</td>\n",
       "      <td>Talk of the Nation</td>\n",
       "      <td>State Legislatures: Agendas and Budgets</td>\n",
       "      <td>True</td>\n",
       "      <td>now there are issues of course that involve a ...</td>\n",
       "      <td>issue course involve lot tension state governm...</td>\n",
       "      <td>-0.3182</td>\n",
       "      <td>Jan</td>\n",
       "      <td>2005</td>\n",
       "    </tr>\n",
       "  </tbody>\n",
       "</table>\n",
       "</div>"
      ],
      "text/plain": [
       "            episode_id  episode_order  \\\n",
       "date                                    \n",
       "2005-01-11       84434              1   \n",
       "2005-01-11       84430             22   \n",
       "2005-01-11       84430             19   \n",
       "2005-01-11       84430             18   \n",
       "2005-01-11       84430             17   \n",
       "\n",
       "                                                      speaker  \\\n",
       "date                                                            \n",
       "2005-01-11                                   neal conan, host   \n",
       "2005-01-11                                     norma (caller)   \n",
       "2005-01-11  mr. bill pound (executive director, national c...   \n",
       "2005-01-11  mr. bill pound (executive director, national c...   \n",
       "2005-01-11                                   neal conan, host   \n",
       "\n",
       "                                                    utterance  \\\n",
       "date                                                            \n",
       "2005-01-11  Scientists at the National Oceanic and Atmosph...   \n",
       "2005-01-11  Yes.  Our governor gave his State of the State...   \n",
       "2005-01-11  A good example of what you just described on t...   \n",
       "2005-01-11  Absolutely.  The different--the way immigrants...   \n",
       "2005-01-11  Now there are issues, of course, that involve ...   \n",
       "\n",
       "                       program                                    title  \\\n",
       "date                                                                      \n",
       "2005-01-11  Talk of the Nation        NOAA Aims for Predicting Tsunamis   \n",
       "2005-01-11  Talk of the Nation  State Legislatures: Agendas and Budgets   \n",
       "2005-01-11  Talk of the Nation  State Legislatures: Agendas and Budgets   \n",
       "2005-01-11  Talk of the Nation  State Legislatures: Agendas and Budgets   \n",
       "2005-01-11  Talk of the Nation  State Legislatures: Agendas and Budgets   \n",
       "\n",
       "            is_host                                              clean  \\\n",
       "date                                                                     \n",
       "2005-01-11     True  scientists at the national oceanic and atmosph...   \n",
       "2005-01-11    False  yes. our governor gave his state of the state ...   \n",
       "2005-01-11    False  a good example of what you just described on t...   \n",
       "2005-01-11    False  absolutely. the different the way immigrants o...   \n",
       "2005-01-11     True  now there are issues of course that involve a ...   \n",
       "\n",
       "                                           lemmatized_stopped  vader_stopped  \\\n",
       "date                                                                           \n",
       "2005-01-11  scientist national oceanic atmospheric adminis...         0.2023   \n",
       "2005-01-11  yes. governor gave state state address morning...         0.7778   \n",
       "2005-01-11  good example described tension federal state g...         0.2960   \n",
       "2005-01-11  absolutely. different way immigrant alien whet...         0.4767   \n",
       "2005-01-11  issue course involve lot tension state governm...        -0.3182   \n",
       "\n",
       "           month  year  \n",
       "date                    \n",
       "2005-01-11   Jan  2005  \n",
       "2005-01-11   Jan  2005  \n",
       "2005-01-11   Jan  2005  \n",
       "2005-01-11   Jan  2005  \n",
       "2005-01-11   Jan  2005  "
      ]
     },
     "execution_count": 64,
     "metadata": {},
     "output_type": "execute_result"
    }
   ],
   "source": [
    "df.head()"
   ]
  },
  {
   "cell_type": "markdown",
   "id": "b4b7e96a",
   "metadata": {},
   "source": [
    "## what about clustering?\n",
    "- There is very little continuous data here, clusering might not be possible.\n",
    "- datetime...but how usefull can that be? \n",
    "- utterance order? is that available?"
   ]
  },
  {
   "cell_type": "code",
   "execution_count": 65,
   "id": "bc8540c4",
   "metadata": {},
   "outputs": [
    {
     "data": {
      "text/html": [
       "<div>\n",
       "<style scoped>\n",
       "    .dataframe tbody tr th:only-of-type {\n",
       "        vertical-align: middle;\n",
       "    }\n",
       "\n",
       "    .dataframe tbody tr th {\n",
       "        vertical-align: top;\n",
       "    }\n",
       "\n",
       "    .dataframe thead th {\n",
       "        text-align: right;\n",
       "    }\n",
       "</style>\n",
       "<table border=\"1\" class=\"dataframe\">\n",
       "  <thead>\n",
       "    <tr style=\"text-align: right;\">\n",
       "      <th></th>\n",
       "      <th>episode_id</th>\n",
       "      <th>episode_order</th>\n",
       "      <th>speaker</th>\n",
       "      <th>utterance</th>\n",
       "      <th>program</th>\n",
       "      <th>title</th>\n",
       "      <th>is_host</th>\n",
       "      <th>clean</th>\n",
       "      <th>lemmatized_stopped</th>\n",
       "      <th>vader_stopped</th>\n",
       "      <th>month</th>\n",
       "      <th>year</th>\n",
       "    </tr>\n",
       "    <tr>\n",
       "      <th>date</th>\n",
       "      <th></th>\n",
       "      <th></th>\n",
       "      <th></th>\n",
       "      <th></th>\n",
       "      <th></th>\n",
       "      <th></th>\n",
       "      <th></th>\n",
       "      <th></th>\n",
       "      <th></th>\n",
       "      <th></th>\n",
       "      <th></th>\n",
       "      <th></th>\n",
       "    </tr>\n",
       "  </thead>\n",
       "  <tbody>\n",
       "    <tr>\n",
       "      <th>2013-06-27</th>\n",
       "      <td>619</td>\n",
       "      <td>1</td>\n",
       "      <td>neal conan, host</td>\n",
       "      <td>This is TALK OF THE NATION. I'm Neal Conan, in...</td>\n",
       "      <td>Talk of the Nation</td>\n",
       "      <td>What's The Talk Of Your Nation?</td>\n",
       "      <td>True</td>\n",
       "      <td>this is talk of the nation. i m neal conan in ...</td>\n",
       "      <td>talk nation. neal conan washington. every day ...</td>\n",
       "      <td>0.5719</td>\n",
       "      <td>Jun</td>\n",
       "      <td>2013</td>\n",
       "    </tr>\n",
       "    <tr>\n",
       "      <th>2013-06-27</th>\n",
       "      <td>619</td>\n",
       "      <td>2</td>\n",
       "      <td>neal conan, host</td>\n",
       "      <td>On our last day, we think it's appropriate for...</td>\n",
       "      <td>Talk of the Nation</td>\n",
       "      <td>What's The Talk Of Your Nation?</td>\n",
       "      <td>True</td>\n",
       "      <td>on our last day we think it s appropriate for ...</td>\n",
       "      <td>last day think appropriate set agenda. call te...</td>\n",
       "      <td>0.9034</td>\n",
       "      <td>Jun</td>\n",
       "      <td>2013</td>\n",
       "    </tr>\n",
       "    <tr>\n",
       "      <th>2013-06-27</th>\n",
       "      <td>619</td>\n",
       "      <td>3</td>\n",
       "      <td>neal conan, host</td>\n",
       "      <td>And if you want to tell us what's the talk of ...</td>\n",
       "      <td>Talk of the Nation</td>\n",
       "      <td>What's The Talk Of Your Nation?</td>\n",
       "      <td>True</td>\n",
       "      <td>and if you want to tell us what s the talk of ...</td>\n",
       "      <td>want tell u talk nation phone number 800 989 8...</td>\n",
       "      <td>0.4215</td>\n",
       "      <td>Jun</td>\n",
       "      <td>2013</td>\n",
       "    </tr>\n",
       "    <tr>\n",
       "      <th>2013-06-27</th>\n",
       "      <td>619</td>\n",
       "      <td>4</td>\n",
       "      <td>neal conan, host</td>\n",
       "      <td>And let's see if we can get Heather on the lin...</td>\n",
       "      <td>Talk of the Nation</td>\n",
       "      <td>What's The Talk Of Your Nation?</td>\n",
       "      <td>True</td>\n",
       "      <td>and let s see if we can get heather on the lin...</td>\n",
       "      <td>let see get heather line. heather u tampa .</td>\n",
       "      <td>0.0000</td>\n",
       "      <td>Jun</td>\n",
       "      <td>2013</td>\n",
       "    </tr>\n",
       "    <tr>\n",
       "      <th>2013-06-27</th>\n",
       "      <td>619</td>\n",
       "      <td>5</td>\n",
       "      <td>heather</td>\n",
       "      <td>Hi, yes. I think one of the most important thi...</td>\n",
       "      <td>Talk of the Nation</td>\n",
       "      <td>What's The Talk Of Your Nation?</td>\n",
       "      <td>False</td>\n",
       "      <td>hi yes. i think one of the most important thin...</td>\n",
       "      <td>hi yes. think one important thing going right ...</td>\n",
       "      <td>0.6249</td>\n",
       "      <td>Jun</td>\n",
       "      <td>2013</td>\n",
       "    </tr>\n",
       "    <tr>\n",
       "      <th>2013-06-27</th>\n",
       "      <td>619</td>\n",
       "      <td>6</td>\n",
       "      <td>neal conan, host</td>\n",
       "      <td>And the filibuster the other day by State Sena...</td>\n",
       "      <td>Talk of the Nation</td>\n",
       "      <td>What's The Talk Of Your Nation?</td>\n",
       "      <td>True</td>\n",
       "      <td>and the filibuster the other day by state sena...</td>\n",
       "      <td>filibuster day state senator wendy davis .</td>\n",
       "      <td>0.0000</td>\n",
       "      <td>Jun</td>\n",
       "      <td>2013</td>\n",
       "    </tr>\n",
       "    <tr>\n",
       "      <th>2013-06-27</th>\n",
       "      <td>619</td>\n",
       "      <td>7</td>\n",
       "      <td>heather</td>\n",
       "      <td>Right, which is absolutely incredible. She des...</td>\n",
       "      <td>Talk of the Nation</td>\n",
       "      <td>What's The Talk Of Your Nation?</td>\n",
       "      <td>False</td>\n",
       "      <td>right which is absolutely incredible. she dese...</td>\n",
       "      <td>right absolutely incredible. deserves incredib...</td>\n",
       "      <td>0.7713</td>\n",
       "      <td>Jun</td>\n",
       "      <td>2013</td>\n",
       "    </tr>\n",
       "    <tr>\n",
       "      <th>2013-06-27</th>\n",
       "      <td>619</td>\n",
       "      <td>8</td>\n",
       "      <td>neal conan, host</td>\n",
       "      <td>And you know that the governor plans to call a...</td>\n",
       "      <td>Talk of the Nation</td>\n",
       "      <td>What's The Talk Of Your Nation?</td>\n",
       "      <td>True</td>\n",
       "      <td>and you know that the governor plans to call a...</td>\n",
       "      <td>know governor plan call another session think ...</td>\n",
       "      <td>0.7778</td>\n",
       "      <td>Jun</td>\n",
       "      <td>2013</td>\n",
       "    </tr>\n",
       "    <tr>\n",
       "      <th>2013-06-27</th>\n",
       "      <td>619</td>\n",
       "      <td>9</td>\n",
       "      <td>heather</td>\n",
       "      <td>I do know that, and I'm incredibly disappointe...</td>\n",
       "      <td>Talk of the Nation</td>\n",
       "      <td>What's The Talk Of Your Nation?</td>\n",
       "      <td>False</td>\n",
       "      <td>i do know that and i m incredibly disappointed...</td>\n",
       "      <td>know incredibly disappointed governor perry de...</td>\n",
       "      <td>-0.5256</td>\n",
       "      <td>Jun</td>\n",
       "      <td>2013</td>\n",
       "    </tr>\n",
       "    <tr>\n",
       "      <th>2013-06-27</th>\n",
       "      <td>619</td>\n",
       "      <td>10</td>\n",
       "      <td>neal conan, host</td>\n",
       "      <td>I wonder also, there's been some allegations o...</td>\n",
       "      <td>Talk of the Nation</td>\n",
       "      <td>What's The Talk Of Your Nation?</td>\n",
       "      <td>True</td>\n",
       "      <td>i wonder also there s been some allegations of...</td>\n",
       "      <td>wonder also allegation hypocrisy. democrat peo...</td>\n",
       "      <td>0.2247</td>\n",
       "      <td>Jun</td>\n",
       "      <td>2013</td>\n",
       "    </tr>\n",
       "    <tr>\n",
       "      <th>2013-06-27</th>\n",
       "      <td>619</td>\n",
       "      <td>11</td>\n",
       "      <td>heather</td>\n",
       "      <td>Right, and I can understand that, but I think ...</td>\n",
       "      <td>Talk of the Nation</td>\n",
       "      <td>What's The Talk Of Your Nation?</td>\n",
       "      <td>False</td>\n",
       "      <td>right and i can understand that but i think th...</td>\n",
       "      <td>right understand think distinction made. one t...</td>\n",
       "      <td>0.4939</td>\n",
       "      <td>Jun</td>\n",
       "      <td>2013</td>\n",
       "    </tr>\n",
       "    <tr>\n",
       "      <th>2013-06-27</th>\n",
       "      <td>619</td>\n",
       "      <td>12</td>\n",
       "      <td>neal conan, host</td>\n",
       "      <td>Heather, thanks very much for the call.</td>\n",
       "      <td>Talk of the Nation</td>\n",
       "      <td>What's The Talk Of Your Nation?</td>\n",
       "      <td>True</td>\n",
       "      <td>heather thanks very much for the call .</td>\n",
       "      <td>heather thanks much call .</td>\n",
       "      <td>0.4404</td>\n",
       "      <td>Jun</td>\n",
       "      <td>2013</td>\n",
       "    </tr>\n",
       "    <tr>\n",
       "      <th>2013-06-27</th>\n",
       "      <td>619</td>\n",
       "      <td>13</td>\n",
       "      <td>heather</td>\n",
       "      <td>Thank you.</td>\n",
       "      <td>Talk of the Nation</td>\n",
       "      <td>What's The Talk Of Your Nation?</td>\n",
       "      <td>False</td>\n",
       "      <td>thank you .</td>\n",
       "      <td>thank .</td>\n",
       "      <td>0.3612</td>\n",
       "      <td>Jun</td>\n",
       "      <td>2013</td>\n",
       "    </tr>\n",
       "    <tr>\n",
       "      <th>2013-06-27</th>\n",
       "      <td>619</td>\n",
       "      <td>14</td>\n",
       "      <td>neal conan, host</td>\n",
       "      <td>And as it happens, we have NPR senior Washingt...</td>\n",
       "      <td>Talk of the Nation</td>\n",
       "      <td>What's The Talk Of Your Nation?</td>\n",
       "      <td>True</td>\n",
       "      <td>and as it happens we have npr senior washingto...</td>\n",
       "      <td>happens npr senior washington editor ron elvin...</td>\n",
       "      <td>0.4215</td>\n",
       "      <td>Jun</td>\n",
       "      <td>2013</td>\n",
       "    </tr>\n",
       "    <tr>\n",
       "      <th>2013-06-27</th>\n",
       "      <td>619</td>\n",
       "      <td>15</td>\n",
       "      <td>ron elving, byline</td>\n",
       "      <td>Good to be with you, Neal. You're one of my fa...</td>\n",
       "      <td>Talk of the Nation</td>\n",
       "      <td>What's The Talk Of Your Nation?</td>\n",
       "      <td>False</td>\n",
       "      <td>good to be with you neal. you re one of my fav...</td>\n",
       "      <td>good neal. one favorite .</td>\n",
       "      <td>0.7096</td>\n",
       "      <td>Jun</td>\n",
       "      <td>2013</td>\n",
       "    </tr>\n",
       "    <tr>\n",
       "      <th>2013-06-27</th>\n",
       "      <td>619</td>\n",
       "      <td>17</td>\n",
       "      <td>neal conan, host</td>\n",
       "      <td>Oh, well, thank you very much for that. And He...</td>\n",
       "      <td>Talk of the Nation</td>\n",
       "      <td>What's The Talk Of Your Nation?</td>\n",
       "      <td>True</td>\n",
       "      <td>oh well thank you very much for that. and heat...</td>\n",
       "      <td>oh well thank much that. heather point procedu...</td>\n",
       "      <td>0.8225</td>\n",
       "      <td>Jun</td>\n",
       "      <td>2013</td>\n",
       "    </tr>\n",
       "    <tr>\n",
       "      <th>2013-06-27</th>\n",
       "      <td>619</td>\n",
       "      <td>18</td>\n",
       "      <td>ron elving, byline</td>\n",
       "      <td>Heather makes a sophisticated distinction here...</td>\n",
       "      <td>Talk of the Nation</td>\n",
       "      <td>What's The Talk Of Your Nation?</td>\n",
       "      <td>False</td>\n",
       "      <td>heather makes a sophisticated distinction here...</td>\n",
       "      <td>heather make sophisticated distinction differe...</td>\n",
       "      <td>0.1078</td>\n",
       "      <td>Jun</td>\n",
       "      <td>2013</td>\n",
       "    </tr>\n",
       "    <tr>\n",
       "      <th>2013-06-27</th>\n",
       "      <td>619</td>\n",
       "      <td>19</td>\n",
       "      <td>ron elving, byline</td>\n",
       "      <td>And that kind of physical courage I think peop...</td>\n",
       "      <td>Talk of the Nation</td>\n",
       "      <td>What's The Talk Of Your Nation?</td>\n",
       "      <td>False</td>\n",
       "      <td>and that kind of physical courage i think peop...</td>\n",
       "      <td>kind physical courage think people respect. al...</td>\n",
       "      <td>0.9501</td>\n",
       "      <td>Jun</td>\n",
       "      <td>2013</td>\n",
       "    </tr>\n",
       "    <tr>\n",
       "      <th>2013-06-27</th>\n",
       "      <td>619</td>\n",
       "      <td>20</td>\n",
       "      <td>neal conan, host</td>\n",
       "      <td>Do we think Rand Paul is going to wear pink sn...</td>\n",
       "      <td>Talk of the Nation</td>\n",
       "      <td>What's The Talk Of Your Nation?</td>\n",
       "      <td>True</td>\n",
       "      <td>do we think rand paul is going to wear pink sn...</td>\n",
       "      <td>think rand paul going wear pink sneaker next t...</td>\n",
       "      <td>0.0000</td>\n",
       "      <td>Jun</td>\n",
       "      <td>2013</td>\n",
       "    </tr>\n",
       "    <tr>\n",
       "      <th>2013-06-27</th>\n",
       "      <td>619</td>\n",
       "      <td>21</td>\n",
       "      <td>ron elving, byline</td>\n",
       "      <td>And I should say Rand Paul is the last guy we'...</td>\n",
       "      <td>Talk of the Nation</td>\n",
       "      <td>What's The Talk Of Your Nation?</td>\n",
       "      <td>False</td>\n",
       "      <td>and i should say rand paul is the last guy we ...</td>\n",
       "      <td>say rand paul last guy seen get multi hour fil...</td>\n",
       "      <td>0.3962</td>\n",
       "      <td>Jun</td>\n",
       "      <td>2013</td>\n",
       "    </tr>\n",
       "    <tr>\n",
       "      <th>2013-06-27</th>\n",
       "      <td>619</td>\n",
       "      <td>22</td>\n",
       "      <td>neal conan, host</td>\n",
       "      <td>And I have to ask you, the talk of the nation ...</td>\n",
       "      <td>Talk of the Nation</td>\n",
       "      <td>What's The Talk Of Your Nation?</td>\n",
       "      <td>True</td>\n",
       "      <td>and i have to ask you the talk of the nation t...</td>\n",
       "      <td>ask talk nation today washington d.c. seems un...</td>\n",
       "      <td>0.4215</td>\n",
       "      <td>Jun</td>\n",
       "      <td>2013</td>\n",
       "    </tr>\n",
       "    <tr>\n",
       "      <th>2013-06-27</th>\n",
       "      <td>619</td>\n",
       "      <td>23</td>\n",
       "      <td>ron elving, byline</td>\n",
       "      <td>This is a week of historic days. And the histo...</td>\n",
       "      <td>Talk of the Nation</td>\n",
       "      <td>What's The Talk Of Your Nation?</td>\n",
       "      <td>False</td>\n",
       "      <td>this is a week of historic days. and the histo...</td>\n",
       "      <td>week historic days. historic day senate respec...</td>\n",
       "      <td>0.7697</td>\n",
       "      <td>Jun</td>\n",
       "      <td>2013</td>\n",
       "    </tr>\n",
       "    <tr>\n",
       "      <th>2013-06-27</th>\n",
       "      <td>619</td>\n",
       "      <td>24</td>\n",
       "      <td>ron elving, byline</td>\n",
       "      <td>And later on today, the Senate will have its f...</td>\n",
       "      <td>Talk of the Nation</td>\n",
       "      <td>What's The Talk Of Your Nation?</td>\n",
       "      <td>False</td>\n",
       "      <td>and later on today the senate will have its fi...</td>\n",
       "      <td>later today senate final vote immigration over...</td>\n",
       "      <td>0.9349</td>\n",
       "      <td>Jun</td>\n",
       "      <td>2013</td>\n",
       "    </tr>\n",
       "    <tr>\n",
       "      <th>2013-06-27</th>\n",
       "      <td>619</td>\n",
       "      <td>25</td>\n",
       "      <td>neal conan, host</td>\n",
       "      <td>Where one of the House members of the leadersh...</td>\n",
       "      <td>Talk of the Nation</td>\n",
       "      <td>What's The Talk Of Your Nation?</td>\n",
       "      <td>True</td>\n",
       "      <td>where one of the house members of the leadersh...</td>\n",
       "      <td>one house member leadership republican leaders...</td>\n",
       "      <td>-0.6486</td>\n",
       "      <td>Jun</td>\n",
       "      <td>2013</td>\n",
       "    </tr>\n",
       "    <tr>\n",
       "      <th>2013-06-27</th>\n",
       "      <td>619</td>\n",
       "      <td>26</td>\n",
       "      <td>ron elving, byline</td>\n",
       "      <td>As written by the Senate it is, at this stage ...</td>\n",
       "      <td>Talk of the Nation</td>\n",
       "      <td>What's The Talk Of Your Nation?</td>\n",
       "      <td>False</td>\n",
       "      <td>as written by the senate it is at this stage o...</td>\n",
       "      <td>written senate stage process. question house p...</td>\n",
       "      <td>0.9308</td>\n",
       "      <td>Jun</td>\n",
       "      <td>2013</td>\n",
       "    </tr>\n",
       "    <tr>\n",
       "      <th>2013-06-27</th>\n",
       "      <td>619</td>\n",
       "      <td>27</td>\n",
       "      <td>neal conan, host</td>\n",
       "      <td>In the meantime, there is no way to avoid thos...</td>\n",
       "      <td>Talk of the Nation</td>\n",
       "      <td>What's The Talk Of Your Nation?</td>\n",
       "      <td>True</td>\n",
       "      <td>in the meantime there is no way to avoid those...</td>\n",
       "      <td>meantime way avoid historic day voting right a...</td>\n",
       "      <td>0.6369</td>\n",
       "      <td>Jun</td>\n",
       "      <td>2013</td>\n",
       "    </tr>\n",
       "    <tr>\n",
       "      <th>2013-06-27</th>\n",
       "      <td>619</td>\n",
       "      <td>28</td>\n",
       "      <td>ron elving, byline</td>\n",
       "      <td>That's correct. And interestingly, for all tho...</td>\n",
       "      <td>Talk of the Nation</td>\n",
       "      <td>What's The Talk Of Your Nation?</td>\n",
       "      <td>False</td>\n",
       "      <td>that s correct. and interestingly for all thos...</td>\n",
       "      <td>correct. interestingly people watch supreme co...</td>\n",
       "      <td>0.7430</td>\n",
       "      <td>Jun</td>\n",
       "      <td>2013</td>\n",
       "    </tr>\n",
       "    <tr>\n",
       "      <th>2013-06-27</th>\n",
       "      <td>619</td>\n",
       "      <td>29</td>\n",
       "      <td>ron elving, byline</td>\n",
       "      <td>We saw the conservative bloc of justices - tha...</td>\n",
       "      <td>Talk of the Nation</td>\n",
       "      <td>What's The Talk Of Your Nation?</td>\n",
       "      <td>False</td>\n",
       "      <td>we saw the conservative bloc of justices that ...</td>\n",
       "      <td>saw conservative bloc justice say justice thom...</td>\n",
       "      <td>0.9468</td>\n",
       "      <td>Jun</td>\n",
       "      <td>2013</td>\n",
       "    </tr>\n",
       "    <tr>\n",
       "      <th>2013-06-27</th>\n",
       "      <td>619</td>\n",
       "      <td>30</td>\n",
       "      <td>ron elving, byline</td>\n",
       "      <td>That was a big, watershed moment, and at that ...</td>\n",
       "      <td>Talk of the Nation</td>\n",
       "      <td>What's The Talk Of Your Nation?</td>\n",
       "      <td>False</td>\n",
       "      <td>that was a big watershed moment and at that ti...</td>\n",
       "      <td>wa big watershed moment time justice scalia sa...</td>\n",
       "      <td>0.5267</td>\n",
       "      <td>Jun</td>\n",
       "      <td>2013</td>\n",
       "    </tr>\n",
       "    <tr>\n",
       "      <th>2013-06-27</th>\n",
       "      <td>619</td>\n",
       "      <td>31</td>\n",
       "      <td>neal conan, host</td>\n",
       "      <td>And it's interesting: He also predicted in yes...</td>\n",
       "      <td>Talk of the Nation</td>\n",
       "      <td>What's The Talk Of Your Nation?</td>\n",
       "      <td>True</td>\n",
       "      <td>and it s interesting he also predicted in yest...</td>\n",
       "      <td>interesting also predicted yesterday dissent d...</td>\n",
       "      <td>-0.8658</td>\n",
       "      <td>Jun</td>\n",
       "      <td>2013</td>\n",
       "    </tr>\n",
       "    <tr>\n",
       "      <th>2013-06-27</th>\n",
       "      <td>619</td>\n",
       "      <td>32</td>\n",
       "      <td>ron elving, byline</td>\n",
       "      <td>Well, David Boies - who was one of the attorne...</td>\n",
       "      <td>Talk of the Nation</td>\n",
       "      <td>What's The Talk Of Your Nation?</td>\n",
       "      <td>False</td>\n",
       "      <td>well david boies who was one of the attorneys ...</td>\n",
       "      <td>well david boy wa one attorney plaintiff case ...</td>\n",
       "      <td>0.4522</td>\n",
       "      <td>Jun</td>\n",
       "      <td>2013</td>\n",
       "    </tr>\n",
       "    <tr>\n",
       "      <th>2013-06-27</th>\n",
       "      <td>619</td>\n",
       "      <td>33</td>\n",
       "      <td>neal conan, host</td>\n",
       "      <td>Thirty-eight, I think.</td>\n",
       "      <td>Talk of the Nation</td>\n",
       "      <td>What's The Talk Of Your Nation?</td>\n",
       "      <td>True</td>\n",
       "      <td>thirty eight i think .</td>\n",
       "      <td>thirty eight think .</td>\n",
       "      <td>0.0000</td>\n",
       "      <td>Jun</td>\n",
       "      <td>2013</td>\n",
       "    </tr>\n",
       "    <tr>\n",
       "      <th>2013-06-27</th>\n",
       "      <td>619</td>\n",
       "      <td>34</td>\n",
       "      <td>ron elving, byline</td>\n",
       "      <td>Well, the different...</td>\n",
       "      <td>Talk of the Nation</td>\n",
       "      <td>What's The Talk Of Your Nation?</td>\n",
       "      <td>False</td>\n",
       "      <td>well the different ...</td>\n",
       "      <td>well different ...</td>\n",
       "      <td>0.2732</td>\n",
       "      <td>Jun</td>\n",
       "      <td>2013</td>\n",
       "    </tr>\n",
       "    <tr>\n",
       "      <th>2013-06-27</th>\n",
       "      <td>619</td>\n",
       "      <td>35</td>\n",
       "      <td>neal conan, host</td>\n",
       "      <td>Different levels of ban.</td>\n",
       "      <td>Talk of the Nation</td>\n",
       "      <td>What's The Talk Of Your Nation?</td>\n",
       "      <td>True</td>\n",
       "      <td>different levels of ban .</td>\n",
       "      <td>different level ban .</td>\n",
       "      <td>-0.5574</td>\n",
       "      <td>Jun</td>\n",
       "      <td>2013</td>\n",
       "    </tr>\n",
       "    <tr>\n",
       "      <th>2013-06-27</th>\n",
       "      <td>619</td>\n",
       "      <td>36</td>\n",
       "      <td>ron elving, byline</td>\n",
       "      <td>...different definitions of what's a ban, but ...</td>\n",
       "      <td>Talk of the Nation</td>\n",
       "      <td>What's The Talk Of Your Nation?</td>\n",
       "      <td>False</td>\n",
       "      <td>... different definitions of what s a ban but ...</td>\n",
       "      <td>... different definition ban outright ban 31. ...</td>\n",
       "      <td>-0.5859</td>\n",
       "      <td>Jun</td>\n",
       "      <td>2013</td>\n",
       "    </tr>\n",
       "    <tr>\n",
       "      <th>2013-06-27</th>\n",
       "      <td>619</td>\n",
       "      <td>37</td>\n",
       "      <td>neal conan, host</td>\n",
       "      <td>And let's get Bambi(ph) on the line, Bambi wit...</td>\n",
       "      <td>Talk of the Nation</td>\n",
       "      <td>What's The Talk Of Your Nation?</td>\n",
       "      <td>True</td>\n",
       "      <td>and let s get bambiph on the line bambi with u...</td>\n",
       "      <td>let get bambiph line bambi u charleston .</td>\n",
       "      <td>0.0000</td>\n",
       "      <td>Jun</td>\n",
       "      <td>2013</td>\n",
       "    </tr>\n",
       "    <tr>\n",
       "      <th>2013-06-27</th>\n",
       "      <td>619</td>\n",
       "      <td>38</td>\n",
       "      <td>bambi</td>\n",
       "      <td>Hi. Thanks so much for taking my call on the a...</td>\n",
       "      <td>Talk of the Nation</td>\n",
       "      <td>What's The Talk Of Your Nation?</td>\n",
       "      <td>False</td>\n",
       "      <td>hi. thanks so much for taking my call on the a...</td>\n",
       "      <td>hi. thanks much taking call air. many thing ne...</td>\n",
       "      <td>0.9421</td>\n",
       "      <td>Jun</td>\n",
       "      <td>2013</td>\n",
       "    </tr>\n",
       "    <tr>\n",
       "      <th>2013-06-27</th>\n",
       "      <td>619</td>\n",
       "      <td>39</td>\n",
       "      <td>bambi</td>\n",
       "      <td>I have to say that until these justices stand ...</td>\n",
       "      <td>Talk of the Nation</td>\n",
       "      <td>What's The Talk Of Your Nation?</td>\n",
       "      <td>False</td>\n",
       "      <td>i have to say that until these justices stand ...</td>\n",
       "      <td>say justice stand voting line state south caro...</td>\n",
       "      <td>-0.2500</td>\n",
       "      <td>Jun</td>\n",
       "      <td>2013</td>\n",
       "    </tr>\n",
       "    <tr>\n",
       "      <th>2013-06-27</th>\n",
       "      <td>619</td>\n",
       "      <td>40</td>\n",
       "      <td>bambi</td>\n",
       "      <td>And I have stood forward many times, given ins...</td>\n",
       "      <td>Talk of the Nation</td>\n",
       "      <td>What's The Talk Of Your Nation?</td>\n",
       "      <td>False</td>\n",
       "      <td>and i have stood forward many times given inst...</td>\n",
       "      <td>stood forward many time given instruction repr...</td>\n",
       "      <td>-0.3612</td>\n",
       "      <td>Jun</td>\n",
       "      <td>2013</td>\n",
       "    </tr>\n",
       "    <tr>\n",
       "      <th>2013-06-27</th>\n",
       "      <td>619</td>\n",
       "      <td>41</td>\n",
       "      <td>neal conan, host</td>\n",
       "      <td>Ron, it's interesting: To go back to the opini...</td>\n",
       "      <td>Talk of the Nation</td>\n",
       "      <td>What's The Talk Of Your Nation?</td>\n",
       "      <td>True</td>\n",
       "      <td>ron it s interesting to go back to the opinion...</td>\n",
       "      <td>ron interesting go back opinion wa chief justi...</td>\n",
       "      <td>0.7506</td>\n",
       "      <td>Jun</td>\n",
       "      <td>2013</td>\n",
       "    </tr>\n",
       "    <tr>\n",
       "      <th>2013-06-27</th>\n",
       "      <td>619</td>\n",
       "      <td>42</td>\n",
       "      <td>ron elving, byline</td>\n",
       "      <td>That's right. There has been change. No questi...</td>\n",
       "      <td>Talk of the Nation</td>\n",
       "      <td>What's The Talk Of Your Nation?</td>\n",
       "      <td>False</td>\n",
       "      <td>that s right. there has been change. no questi...</td>\n",
       "      <td>right. ha change. question ha change. question...</td>\n",
       "      <td>0.9030</td>\n",
       "      <td>Jun</td>\n",
       "      <td>2013</td>\n",
       "    </tr>\n",
       "    <tr>\n",
       "      <th>2013-06-27</th>\n",
       "      <td>619</td>\n",
       "      <td>43</td>\n",
       "      <td>neal conan, host</td>\n",
       "      <td>In the House, you mean.</td>\n",
       "      <td>Talk of the Nation</td>\n",
       "      <td>What's The Talk Of Your Nation?</td>\n",
       "      <td>True</td>\n",
       "      <td>in the house you mean .</td>\n",
       "      <td>house mean .</td>\n",
       "      <td>0.0000</td>\n",
       "      <td>Jun</td>\n",
       "      <td>2013</td>\n",
       "    </tr>\n",
       "    <tr>\n",
       "      <th>2013-06-27</th>\n",
       "      <td>619</td>\n",
       "      <td>44</td>\n",
       "      <td>ron elving, byline</td>\n",
       "      <td>In the House, they voted 90 percent for this. ...</td>\n",
       "      <td>Talk of the Nation</td>\n",
       "      <td>What's The Talk Of Your Nation?</td>\n",
       "      <td>False</td>\n",
       "      <td>in the house they voted 90 percent for this. s...</td>\n",
       "      <td>house voted 90 percent this. doe seem approval...</td>\n",
       "      <td>0.5574</td>\n",
       "      <td>Jun</td>\n",
       "      <td>2013</td>\n",
       "    </tr>\n",
       "    <tr>\n",
       "      <th>2013-06-27</th>\n",
       "      <td>619</td>\n",
       "      <td>45</td>\n",
       "      <td>ron elving, byline</td>\n",
       "      <td>The other question is: Is it fair to just look...</td>\n",
       "      <td>Talk of the Nation</td>\n",
       "      <td>What's The Talk Of Your Nation?</td>\n",
       "      <td>False</td>\n",
       "      <td>the other question is is it fair to just look ...</td>\n",
       "      <td>question fair look nine state entirely particu...</td>\n",
       "      <td>0.8900</td>\n",
       "      <td>Jun</td>\n",
       "      <td>2013</td>\n",
       "    </tr>\n",
       "    <tr>\n",
       "      <th>2013-06-27</th>\n",
       "      <td>619</td>\n",
       "      <td>46</td>\n",
       "      <td>neal conan, host</td>\n",
       "      <td>It was interesting, also, to hear John Lewis -...</td>\n",
       "      <td>Talk of the Nation</td>\n",
       "      <td>What's The Talk Of Your Nation?</td>\n",
       "      <td>True</td>\n",
       "      <td>it was interesting also to hear john lewis of ...</td>\n",
       "      <td>wa interesting also hear john lewis course mem...</td>\n",
       "      <td>0.6808</td>\n",
       "      <td>Jun</td>\n",
       "      <td>2013</td>\n",
       "    </tr>\n",
       "    <tr>\n",
       "      <th>2013-06-27</th>\n",
       "      <td>619</td>\n",
       "      <td>47</td>\n",
       "      <td>bambi</td>\n",
       "      <td>Thank you. I appreciate you addressing it.</td>\n",
       "      <td>Talk of the Nation</td>\n",
       "      <td>What's The Talk Of Your Nation?</td>\n",
       "      <td>False</td>\n",
       "      <td>thank you. i appreciate you addressing it .</td>\n",
       "      <td>thank you. appreciate addressing .</td>\n",
       "      <td>0.6369</td>\n",
       "      <td>Jun</td>\n",
       "      <td>2013</td>\n",
       "    </tr>\n",
       "    <tr>\n",
       "      <th>2013-06-27</th>\n",
       "      <td>619</td>\n",
       "      <td>48</td>\n",
       "      <td>neal conan, host</td>\n",
       "      <td>And a couple of emails on that subject. This i...</td>\n",
       "      <td>Talk of the Nation</td>\n",
       "      <td>What's The Talk Of Your Nation?</td>\n",
       "      <td>True</td>\n",
       "      <td>and a couple of emails on that subject. this i...</td>\n",
       "      <td>couple email subject. scott today help thinkin...</td>\n",
       "      <td>0.9136</td>\n",
       "      <td>Jun</td>\n",
       "      <td>2013</td>\n",
       "    </tr>\n",
       "    <tr>\n",
       "      <th>2013-06-27</th>\n",
       "      <td>619</td>\n",
       "      <td>49</td>\n",
       "      <td>neal conan, host</td>\n",
       "      <td>We get the point. It's not quite what the cour...</td>\n",
       "      <td>Talk of the Nation</td>\n",
       "      <td>What's The Talk Of Your Nation?</td>\n",
       "      <td>True</td>\n",
       "      <td>we get the point. it s not quite what the cour...</td>\n",
       "      <td>get point. quite court ruled get point. intere...</td>\n",
       "      <td>0.6249</td>\n",
       "      <td>Jun</td>\n",
       "      <td>2013</td>\n",
       "    </tr>\n",
       "    <tr>\n",
       "      <th>2013-06-27</th>\n",
       "      <td>619</td>\n",
       "      <td>50</td>\n",
       "      <td>ron elving, byline</td>\n",
       "      <td>Not next year, although we will be looking at ...</td>\n",
       "      <td>Talk of the Nation</td>\n",
       "      <td>What's The Talk Of Your Nation?</td>\n",
       "      <td>False</td>\n",
       "      <td>not next year although we will be looking at a...</td>\n",
       "      <td>next year although looking affirmative action ...</td>\n",
       "      <td>0.4215</td>\n",
       "      <td>Jun</td>\n",
       "      <td>2013</td>\n",
       "    </tr>\n",
       "    <tr>\n",
       "      <th>2013-06-27</th>\n",
       "      <td>619</td>\n",
       "      <td>51</td>\n",
       "      <td>ron elving, byline</td>\n",
       "      <td>There's still some roiling on the court with r...</td>\n",
       "      <td>Talk of the Nation</td>\n",
       "      <td>What's The Talk Of Your Nation?</td>\n",
       "      <td>False</td>\n",
       "      <td>there s still some roiling on the court with r...</td>\n",
       "      <td>still roiling court respect attitude towards a...</td>\n",
       "      <td>0.4767</td>\n",
       "      <td>Jun</td>\n",
       "      <td>2013</td>\n",
       "    </tr>\n",
       "  </tbody>\n",
       "</table>\n",
       "</div>"
      ],
      "text/plain": [
       "            episode_id  episode_order             speaker  \\\n",
       "date                                                        \n",
       "2013-06-27         619              1    neal conan, host   \n",
       "2013-06-27         619              2    neal conan, host   \n",
       "2013-06-27         619              3    neal conan, host   \n",
       "2013-06-27         619              4    neal conan, host   \n",
       "2013-06-27         619              5             heather   \n",
       "2013-06-27         619              6    neal conan, host   \n",
       "2013-06-27         619              7             heather   \n",
       "2013-06-27         619              8    neal conan, host   \n",
       "2013-06-27         619              9             heather   \n",
       "2013-06-27         619             10    neal conan, host   \n",
       "2013-06-27         619             11             heather   \n",
       "2013-06-27         619             12    neal conan, host   \n",
       "2013-06-27         619             13             heather   \n",
       "2013-06-27         619             14    neal conan, host   \n",
       "2013-06-27         619             15  ron elving, byline   \n",
       "2013-06-27         619             17    neal conan, host   \n",
       "2013-06-27         619             18  ron elving, byline   \n",
       "2013-06-27         619             19  ron elving, byline   \n",
       "2013-06-27         619             20    neal conan, host   \n",
       "2013-06-27         619             21  ron elving, byline   \n",
       "2013-06-27         619             22    neal conan, host   \n",
       "2013-06-27         619             23  ron elving, byline   \n",
       "2013-06-27         619             24  ron elving, byline   \n",
       "2013-06-27         619             25    neal conan, host   \n",
       "2013-06-27         619             26  ron elving, byline   \n",
       "2013-06-27         619             27    neal conan, host   \n",
       "2013-06-27         619             28  ron elving, byline   \n",
       "2013-06-27         619             29  ron elving, byline   \n",
       "2013-06-27         619             30  ron elving, byline   \n",
       "2013-06-27         619             31    neal conan, host   \n",
       "2013-06-27         619             32  ron elving, byline   \n",
       "2013-06-27         619             33    neal conan, host   \n",
       "2013-06-27         619             34  ron elving, byline   \n",
       "2013-06-27         619             35    neal conan, host   \n",
       "2013-06-27         619             36  ron elving, byline   \n",
       "2013-06-27         619             37    neal conan, host   \n",
       "2013-06-27         619             38               bambi   \n",
       "2013-06-27         619             39               bambi   \n",
       "2013-06-27         619             40               bambi   \n",
       "2013-06-27         619             41    neal conan, host   \n",
       "2013-06-27         619             42  ron elving, byline   \n",
       "2013-06-27         619             43    neal conan, host   \n",
       "2013-06-27         619             44  ron elving, byline   \n",
       "2013-06-27         619             45  ron elving, byline   \n",
       "2013-06-27         619             46    neal conan, host   \n",
       "2013-06-27         619             47               bambi   \n",
       "2013-06-27         619             48    neal conan, host   \n",
       "2013-06-27         619             49    neal conan, host   \n",
       "2013-06-27         619             50  ron elving, byline   \n",
       "2013-06-27         619             51  ron elving, byline   \n",
       "\n",
       "                                                    utterance  \\\n",
       "date                                                            \n",
       "2013-06-27  This is TALK OF THE NATION. I'm Neal Conan, in...   \n",
       "2013-06-27  On our last day, we think it's appropriate for...   \n",
       "2013-06-27  And if you want to tell us what's the talk of ...   \n",
       "2013-06-27  And let's see if we can get Heather on the lin...   \n",
       "2013-06-27  Hi, yes. I think one of the most important thi...   \n",
       "2013-06-27  And the filibuster the other day by State Sena...   \n",
       "2013-06-27  Right, which is absolutely incredible. She des...   \n",
       "2013-06-27  And you know that the governor plans to call a...   \n",
       "2013-06-27  I do know that, and I'm incredibly disappointe...   \n",
       "2013-06-27  I wonder also, there's been some allegations o...   \n",
       "2013-06-27  Right, and I can understand that, but I think ...   \n",
       "2013-06-27            Heather, thanks very much for the call.   \n",
       "2013-06-27                                         Thank you.   \n",
       "2013-06-27  And as it happens, we have NPR senior Washingt...   \n",
       "2013-06-27  Good to be with you, Neal. You're one of my fa...   \n",
       "2013-06-27  Oh, well, thank you very much for that. And He...   \n",
       "2013-06-27  Heather makes a sophisticated distinction here...   \n",
       "2013-06-27  And that kind of physical courage I think peop...   \n",
       "2013-06-27  Do we think Rand Paul is going to wear pink sn...   \n",
       "2013-06-27  And I should say Rand Paul is the last guy we'...   \n",
       "2013-06-27  And I have to ask you, the talk of the nation ...   \n",
       "2013-06-27  This is a week of historic days. And the histo...   \n",
       "2013-06-27  And later on today, the Senate will have its f...   \n",
       "2013-06-27  Where one of the House members of the leadersh...   \n",
       "2013-06-27  As written by the Senate it is, at this stage ...   \n",
       "2013-06-27  In the meantime, there is no way to avoid thos...   \n",
       "2013-06-27  That's correct. And interestingly, for all tho...   \n",
       "2013-06-27  We saw the conservative bloc of justices - tha...   \n",
       "2013-06-27  That was a big, watershed moment, and at that ...   \n",
       "2013-06-27  And it's interesting: He also predicted in yes...   \n",
       "2013-06-27  Well, David Boies - who was one of the attorne...   \n",
       "2013-06-27                             Thirty-eight, I think.   \n",
       "2013-06-27                             Well, the different...   \n",
       "2013-06-27                           Different levels of ban.   \n",
       "2013-06-27  ...different definitions of what's a ban, but ...   \n",
       "2013-06-27  And let's get Bambi(ph) on the line, Bambi wit...   \n",
       "2013-06-27  Hi. Thanks so much for taking my call on the a...   \n",
       "2013-06-27  I have to say that until these justices stand ...   \n",
       "2013-06-27  And I have stood forward many times, given ins...   \n",
       "2013-06-27  Ron, it's interesting: To go back to the opini...   \n",
       "2013-06-27  That's right. There has been change. No questi...   \n",
       "2013-06-27                            In the House, you mean.   \n",
       "2013-06-27  In the House, they voted 90 percent for this. ...   \n",
       "2013-06-27  The other question is: Is it fair to just look...   \n",
       "2013-06-27  It was interesting, also, to hear John Lewis -...   \n",
       "2013-06-27         Thank you. I appreciate you addressing it.   \n",
       "2013-06-27  And a couple of emails on that subject. This i...   \n",
       "2013-06-27  We get the point. It's not quite what the cour...   \n",
       "2013-06-27  Not next year, although we will be looking at ...   \n",
       "2013-06-27  There's still some roiling on the court with r...   \n",
       "\n",
       "                       program                            title  is_host  \\\n",
       "date                                                                       \n",
       "2013-06-27  Talk of the Nation  What's The Talk Of Your Nation?     True   \n",
       "2013-06-27  Talk of the Nation  What's The Talk Of Your Nation?     True   \n",
       "2013-06-27  Talk of the Nation  What's The Talk Of Your Nation?     True   \n",
       "2013-06-27  Talk of the Nation  What's The Talk Of Your Nation?     True   \n",
       "2013-06-27  Talk of the Nation  What's The Talk Of Your Nation?    False   \n",
       "2013-06-27  Talk of the Nation  What's The Talk Of Your Nation?     True   \n",
       "2013-06-27  Talk of the Nation  What's The Talk Of Your Nation?    False   \n",
       "2013-06-27  Talk of the Nation  What's The Talk Of Your Nation?     True   \n",
       "2013-06-27  Talk of the Nation  What's The Talk Of Your Nation?    False   \n",
       "2013-06-27  Talk of the Nation  What's The Talk Of Your Nation?     True   \n",
       "2013-06-27  Talk of the Nation  What's The Talk Of Your Nation?    False   \n",
       "2013-06-27  Talk of the Nation  What's The Talk Of Your Nation?     True   \n",
       "2013-06-27  Talk of the Nation  What's The Talk Of Your Nation?    False   \n",
       "2013-06-27  Talk of the Nation  What's The Talk Of Your Nation?     True   \n",
       "2013-06-27  Talk of the Nation  What's The Talk Of Your Nation?    False   \n",
       "2013-06-27  Talk of the Nation  What's The Talk Of Your Nation?     True   \n",
       "2013-06-27  Talk of the Nation  What's The Talk Of Your Nation?    False   \n",
       "2013-06-27  Talk of the Nation  What's The Talk Of Your Nation?    False   \n",
       "2013-06-27  Talk of the Nation  What's The Talk Of Your Nation?     True   \n",
       "2013-06-27  Talk of the Nation  What's The Talk Of Your Nation?    False   \n",
       "2013-06-27  Talk of the Nation  What's The Talk Of Your Nation?     True   \n",
       "2013-06-27  Talk of the Nation  What's The Talk Of Your Nation?    False   \n",
       "2013-06-27  Talk of the Nation  What's The Talk Of Your Nation?    False   \n",
       "2013-06-27  Talk of the Nation  What's The Talk Of Your Nation?     True   \n",
       "2013-06-27  Talk of the Nation  What's The Talk Of Your Nation?    False   \n",
       "2013-06-27  Talk of the Nation  What's The Talk Of Your Nation?     True   \n",
       "2013-06-27  Talk of the Nation  What's The Talk Of Your Nation?    False   \n",
       "2013-06-27  Talk of the Nation  What's The Talk Of Your Nation?    False   \n",
       "2013-06-27  Talk of the Nation  What's The Talk Of Your Nation?    False   \n",
       "2013-06-27  Talk of the Nation  What's The Talk Of Your Nation?     True   \n",
       "2013-06-27  Talk of the Nation  What's The Talk Of Your Nation?    False   \n",
       "2013-06-27  Talk of the Nation  What's The Talk Of Your Nation?     True   \n",
       "2013-06-27  Talk of the Nation  What's The Talk Of Your Nation?    False   \n",
       "2013-06-27  Talk of the Nation  What's The Talk Of Your Nation?     True   \n",
       "2013-06-27  Talk of the Nation  What's The Talk Of Your Nation?    False   \n",
       "2013-06-27  Talk of the Nation  What's The Talk Of Your Nation?     True   \n",
       "2013-06-27  Talk of the Nation  What's The Talk Of Your Nation?    False   \n",
       "2013-06-27  Talk of the Nation  What's The Talk Of Your Nation?    False   \n",
       "2013-06-27  Talk of the Nation  What's The Talk Of Your Nation?    False   \n",
       "2013-06-27  Talk of the Nation  What's The Talk Of Your Nation?     True   \n",
       "2013-06-27  Talk of the Nation  What's The Talk Of Your Nation?    False   \n",
       "2013-06-27  Talk of the Nation  What's The Talk Of Your Nation?     True   \n",
       "2013-06-27  Talk of the Nation  What's The Talk Of Your Nation?    False   \n",
       "2013-06-27  Talk of the Nation  What's The Talk Of Your Nation?    False   \n",
       "2013-06-27  Talk of the Nation  What's The Talk Of Your Nation?     True   \n",
       "2013-06-27  Talk of the Nation  What's The Talk Of Your Nation?    False   \n",
       "2013-06-27  Talk of the Nation  What's The Talk Of Your Nation?     True   \n",
       "2013-06-27  Talk of the Nation  What's The Talk Of Your Nation?     True   \n",
       "2013-06-27  Talk of the Nation  What's The Talk Of Your Nation?    False   \n",
       "2013-06-27  Talk of the Nation  What's The Talk Of Your Nation?    False   \n",
       "\n",
       "                                                        clean  \\\n",
       "date                                                            \n",
       "2013-06-27  this is talk of the nation. i m neal conan in ...   \n",
       "2013-06-27  on our last day we think it s appropriate for ...   \n",
       "2013-06-27  and if you want to tell us what s the talk of ...   \n",
       "2013-06-27  and let s see if we can get heather on the lin...   \n",
       "2013-06-27  hi yes. i think one of the most important thin...   \n",
       "2013-06-27  and the filibuster the other day by state sena...   \n",
       "2013-06-27  right which is absolutely incredible. she dese...   \n",
       "2013-06-27  and you know that the governor plans to call a...   \n",
       "2013-06-27  i do know that and i m incredibly disappointed...   \n",
       "2013-06-27  i wonder also there s been some allegations of...   \n",
       "2013-06-27  right and i can understand that but i think th...   \n",
       "2013-06-27            heather thanks very much for the call .   \n",
       "2013-06-27                                        thank you .   \n",
       "2013-06-27  and as it happens we have npr senior washingto...   \n",
       "2013-06-27  good to be with you neal. you re one of my fav...   \n",
       "2013-06-27  oh well thank you very much for that. and heat...   \n",
       "2013-06-27  heather makes a sophisticated distinction here...   \n",
       "2013-06-27  and that kind of physical courage i think peop...   \n",
       "2013-06-27  do we think rand paul is going to wear pink sn...   \n",
       "2013-06-27  and i should say rand paul is the last guy we ...   \n",
       "2013-06-27  and i have to ask you the talk of the nation t...   \n",
       "2013-06-27  this is a week of historic days. and the histo...   \n",
       "2013-06-27  and later on today the senate will have its fi...   \n",
       "2013-06-27  where one of the house members of the leadersh...   \n",
       "2013-06-27  as written by the senate it is at this stage o...   \n",
       "2013-06-27  in the meantime there is no way to avoid those...   \n",
       "2013-06-27  that s correct. and interestingly for all thos...   \n",
       "2013-06-27  we saw the conservative bloc of justices that ...   \n",
       "2013-06-27  that was a big watershed moment and at that ti...   \n",
       "2013-06-27  and it s interesting he also predicted in yest...   \n",
       "2013-06-27  well david boies who was one of the attorneys ...   \n",
       "2013-06-27                             thirty eight i think .   \n",
       "2013-06-27                             well the different ...   \n",
       "2013-06-27                          different levels of ban .   \n",
       "2013-06-27  ... different definitions of what s a ban but ...   \n",
       "2013-06-27  and let s get bambiph on the line bambi with u...   \n",
       "2013-06-27  hi. thanks so much for taking my call on the a...   \n",
       "2013-06-27  i have to say that until these justices stand ...   \n",
       "2013-06-27  and i have stood forward many times given inst...   \n",
       "2013-06-27  ron it s interesting to go back to the opinion...   \n",
       "2013-06-27  that s right. there has been change. no questi...   \n",
       "2013-06-27                            in the house you mean .   \n",
       "2013-06-27  in the house they voted 90 percent for this. s...   \n",
       "2013-06-27  the other question is is it fair to just look ...   \n",
       "2013-06-27  it was interesting also to hear john lewis of ...   \n",
       "2013-06-27        thank you. i appreciate you addressing it .   \n",
       "2013-06-27  and a couple of emails on that subject. this i...   \n",
       "2013-06-27  we get the point. it s not quite what the cour...   \n",
       "2013-06-27  not next year although we will be looking at a...   \n",
       "2013-06-27  there s still some roiling on the court with r...   \n",
       "\n",
       "                                           lemmatized_stopped  vader_stopped  \\\n",
       "date                                                                           \n",
       "2013-06-27  talk nation. neal conan washington. every day ...         0.5719   \n",
       "2013-06-27  last day think appropriate set agenda. call te...         0.9034   \n",
       "2013-06-27  want tell u talk nation phone number 800 989 8...         0.4215   \n",
       "2013-06-27        let see get heather line. heather u tampa .         0.0000   \n",
       "2013-06-27  hi yes. think one important thing going right ...         0.6249   \n",
       "2013-06-27         filibuster day state senator wendy davis .         0.0000   \n",
       "2013-06-27  right absolutely incredible. deserves incredib...         0.7713   \n",
       "2013-06-27  know governor plan call another session think ...         0.7778   \n",
       "2013-06-27  know incredibly disappointed governor perry de...        -0.5256   \n",
       "2013-06-27  wonder also allegation hypocrisy. democrat peo...         0.2247   \n",
       "2013-06-27  right understand think distinction made. one t...         0.4939   \n",
       "2013-06-27                         heather thanks much call .         0.4404   \n",
       "2013-06-27                                            thank .         0.3612   \n",
       "2013-06-27  happens npr senior washington editor ron elvin...         0.4215   \n",
       "2013-06-27                          good neal. one favorite .         0.7096   \n",
       "2013-06-27  oh well thank much that. heather point procedu...         0.8225   \n",
       "2013-06-27  heather make sophisticated distinction differe...         0.1078   \n",
       "2013-06-27  kind physical courage think people respect. al...         0.9501   \n",
       "2013-06-27  think rand paul going wear pink sneaker next t...         0.0000   \n",
       "2013-06-27  say rand paul last guy seen get multi hour fil...         0.3962   \n",
       "2013-06-27  ask talk nation today washington d.c. seems un...         0.4215   \n",
       "2013-06-27  week historic days. historic day senate respec...         0.7697   \n",
       "2013-06-27  later today senate final vote immigration over...         0.9349   \n",
       "2013-06-27  one house member leadership republican leaders...        -0.6486   \n",
       "2013-06-27  written senate stage process. question house p...         0.9308   \n",
       "2013-06-27  meantime way avoid historic day voting right a...         0.6369   \n",
       "2013-06-27  correct. interestingly people watch supreme co...         0.7430   \n",
       "2013-06-27  saw conservative bloc justice say justice thom...         0.9468   \n",
       "2013-06-27  wa big watershed moment time justice scalia sa...         0.5267   \n",
       "2013-06-27  interesting also predicted yesterday dissent d...        -0.8658   \n",
       "2013-06-27  well david boy wa one attorney plaintiff case ...         0.4522   \n",
       "2013-06-27                               thirty eight think .         0.0000   \n",
       "2013-06-27                                 well different ...         0.2732   \n",
       "2013-06-27                              different level ban .        -0.5574   \n",
       "2013-06-27  ... different definition ban outright ban 31. ...        -0.5859   \n",
       "2013-06-27          let get bambiph line bambi u charleston .         0.0000   \n",
       "2013-06-27  hi. thanks much taking call air. many thing ne...         0.9421   \n",
       "2013-06-27  say justice stand voting line state south caro...        -0.2500   \n",
       "2013-06-27  stood forward many time given instruction repr...        -0.3612   \n",
       "2013-06-27  ron interesting go back opinion wa chief justi...         0.7506   \n",
       "2013-06-27  right. ha change. question ha change. question...         0.9030   \n",
       "2013-06-27                                       house mean .         0.0000   \n",
       "2013-06-27  house voted 90 percent this. doe seem approval...         0.5574   \n",
       "2013-06-27  question fair look nine state entirely particu...         0.8900   \n",
       "2013-06-27  wa interesting also hear john lewis course mem...         0.6808   \n",
       "2013-06-27                 thank you. appreciate addressing .         0.6369   \n",
       "2013-06-27  couple email subject. scott today help thinkin...         0.9136   \n",
       "2013-06-27  get point. quite court ruled get point. intere...         0.6249   \n",
       "2013-06-27  next year although looking affirmative action ...         0.4215   \n",
       "2013-06-27  still roiling court respect attitude towards a...         0.4767   \n",
       "\n",
       "           month  year  \n",
       "date                    \n",
       "2013-06-27   Jun  2013  \n",
       "2013-06-27   Jun  2013  \n",
       "2013-06-27   Jun  2013  \n",
       "2013-06-27   Jun  2013  \n",
       "2013-06-27   Jun  2013  \n",
       "2013-06-27   Jun  2013  \n",
       "2013-06-27   Jun  2013  \n",
       "2013-06-27   Jun  2013  \n",
       "2013-06-27   Jun  2013  \n",
       "2013-06-27   Jun  2013  \n",
       "2013-06-27   Jun  2013  \n",
       "2013-06-27   Jun  2013  \n",
       "2013-06-27   Jun  2013  \n",
       "2013-06-27   Jun  2013  \n",
       "2013-06-27   Jun  2013  \n",
       "2013-06-27   Jun  2013  \n",
       "2013-06-27   Jun  2013  \n",
       "2013-06-27   Jun  2013  \n",
       "2013-06-27   Jun  2013  \n",
       "2013-06-27   Jun  2013  \n",
       "2013-06-27   Jun  2013  \n",
       "2013-06-27   Jun  2013  \n",
       "2013-06-27   Jun  2013  \n",
       "2013-06-27   Jun  2013  \n",
       "2013-06-27   Jun  2013  \n",
       "2013-06-27   Jun  2013  \n",
       "2013-06-27   Jun  2013  \n",
       "2013-06-27   Jun  2013  \n",
       "2013-06-27   Jun  2013  \n",
       "2013-06-27   Jun  2013  \n",
       "2013-06-27   Jun  2013  \n",
       "2013-06-27   Jun  2013  \n",
       "2013-06-27   Jun  2013  \n",
       "2013-06-27   Jun  2013  \n",
       "2013-06-27   Jun  2013  \n",
       "2013-06-27   Jun  2013  \n",
       "2013-06-27   Jun  2013  \n",
       "2013-06-27   Jun  2013  \n",
       "2013-06-27   Jun  2013  \n",
       "2013-06-27   Jun  2013  \n",
       "2013-06-27   Jun  2013  \n",
       "2013-06-27   Jun  2013  \n",
       "2013-06-27   Jun  2013  \n",
       "2013-06-27   Jun  2013  \n",
       "2013-06-27   Jun  2013  \n",
       "2013-06-27   Jun  2013  \n",
       "2013-06-27   Jun  2013  \n",
       "2013-06-27   Jun  2013  \n",
       "2013-06-27   Jun  2013  \n",
       "2013-06-27   Jun  2013  "
      ]
     },
     "execution_count": 65,
     "metadata": {},
     "output_type": "execute_result"
    }
   ],
   "source": [
    "train.sort_values(by=['episode_id','episode_order'])[0:50]"
   ]
  },
  {
   "cell_type": "markdown",
   "id": "424fe631",
   "metadata": {},
   "source": [
    "### Ok, for the first time I'm seeing clearly how the episodes are in fact ordered by 'story' (episode_id) and then ordered by utterance within the story\n",
    "\n",
    "### This is great, bc it's what is going to make topic modeling possible down the line"
   ]
  },
  {
   "cell_type": "markdown",
   "id": "fac73904",
   "metadata": {},
   "source": [
    "# First...\n",
    "- Let's do a tsa model of sentiment using Prophet : )"
   ]
  },
  {
   "cell_type": "code",
   "execution_count": 66,
   "id": "b34edfc0",
   "metadata": {},
   "outputs": [
    {
     "data": {
      "text/plain": [
       "Index(['episode_id', 'episode_order', 'speaker', 'utterance', 'program',\n",
       "       'title', 'is_host', 'clean', 'lemmatized_stopped', 'vader_stopped',\n",
       "       'month', 'year'],\n",
       "      dtype='object')"
      ]
     },
     "execution_count": 66,
     "metadata": {},
     "output_type": "execute_result"
    }
   ],
   "source": [
    "train.columns"
   ]
  },
  {
   "cell_type": "code",
   "execution_count": 67,
   "id": "4d6076b5",
   "metadata": {},
   "outputs": [],
   "source": [
    "for_tsa_modeling_df = pd.DataFrame(df['vader_stopped'])"
   ]
  },
  {
   "cell_type": "code",
   "execution_count": 68,
   "id": "60ffefc7",
   "metadata": {},
   "outputs": [
    {
     "data": {
      "text/html": [
       "<div>\n",
       "<style scoped>\n",
       "    .dataframe tbody tr th:only-of-type {\n",
       "        vertical-align: middle;\n",
       "    }\n",
       "\n",
       "    .dataframe tbody tr th {\n",
       "        vertical-align: top;\n",
       "    }\n",
       "\n",
       "    .dataframe thead th {\n",
       "        text-align: right;\n",
       "    }\n",
       "</style>\n",
       "<table border=\"1\" class=\"dataframe\">\n",
       "  <thead>\n",
       "    <tr style=\"text-align: right;\">\n",
       "      <th></th>\n",
       "      <th>vader_stopped</th>\n",
       "    </tr>\n",
       "    <tr>\n",
       "      <th>date</th>\n",
       "      <th></th>\n",
       "    </tr>\n",
       "  </thead>\n",
       "  <tbody>\n",
       "    <tr>\n",
       "      <th>2005-01-11</th>\n",
       "      <td>0.2023</td>\n",
       "    </tr>\n",
       "    <tr>\n",
       "      <th>2005-01-11</th>\n",
       "      <td>0.7778</td>\n",
       "    </tr>\n",
       "    <tr>\n",
       "      <th>2005-01-11</th>\n",
       "      <td>0.2960</td>\n",
       "    </tr>\n",
       "    <tr>\n",
       "      <th>2005-01-11</th>\n",
       "      <td>0.4767</td>\n",
       "    </tr>\n",
       "    <tr>\n",
       "      <th>2005-01-11</th>\n",
       "      <td>-0.3182</td>\n",
       "    </tr>\n",
       "  </tbody>\n",
       "</table>\n",
       "</div>"
      ],
      "text/plain": [
       "            vader_stopped\n",
       "date                     \n",
       "2005-01-11         0.2023\n",
       "2005-01-11         0.7778\n",
       "2005-01-11         0.2960\n",
       "2005-01-11         0.4767\n",
       "2005-01-11        -0.3182"
      ]
     },
     "execution_count": 68,
     "metadata": {},
     "output_type": "execute_result"
    }
   ],
   "source": [
    "for_tsa_modeling_df.head()"
   ]
  },
  {
   "cell_type": "code",
   "execution_count": 69,
   "id": "e92b5231",
   "metadata": {},
   "outputs": [
    {
     "data": {
      "text/plain": [
       "2007    338494\n",
       "2006    311919\n",
       "2008    308204\n",
       "2009    260775\n",
       "2010    252086\n",
       "2011    229856\n",
       "2012    229094\n",
       "2005    188440\n",
       "2013    177268\n",
       "2018    129040\n",
       "2017    127144\n",
       "2016    120967\n",
       "2014    112207\n",
       "2015    108733\n",
       "2019    103606\n",
       "Name: date, dtype: int64"
      ]
     },
     "execution_count": 69,
     "metadata": {},
     "output_type": "execute_result"
    }
   ],
   "source": [
    "# for_prophet_df.resample('Y').mean()\n",
    "for_tsa_modeling_df.index.year.value_counts()"
   ]
  },
  {
   "cell_type": "markdown",
   "id": "5dbe4542",
   "metadata": {},
   "source": [
    "- there is NOTHING in there fro 2000 to 2003\n",
    "- 2004 barely a thing"
   ]
  },
  {
   "cell_type": "code",
   "execution_count": 70,
   "id": "c5bb9de1",
   "metadata": {},
   "outputs": [
    {
     "data": {
      "text/plain": [
       "((2517076, 1), (248111, 1), (232646, 1))"
      ]
     },
     "execution_count": 70,
     "metadata": {},
     "output_type": "execute_result"
    }
   ],
   "source": [
    "\n",
    "tsa_train = for_tsa_modeling_df['2005':'2015']\n",
    "tsa_validate = for_tsa_modeling_df['2016':'2017']\n",
    "tsa_test = for_tsa_modeling_df['2018':]\n",
    "tsa_train.shape, tsa_validate.shape, tsa_test.shape"
   ]
  },
  {
   "cell_type": "markdown",
   "id": "f285f9b7",
   "metadata": {},
   "source": [
    "- I've dropped all observations prior to 2005 in this split due to the problem with the data"
   ]
  },
  {
   "cell_type": "code",
   "execution_count": 71,
   "id": "1aaea6a3",
   "metadata": {},
   "outputs": [
    {
     "data": {
      "text/plain": [
       "(            vader_stopped\n",
       " date                     \n",
       " 2015-12-31        -0.0516,\n",
       "             vader_stopped\n",
       " date                     \n",
       " 2016-01-01         0.6369,\n",
       "             vader_stopped\n",
       " date                     \n",
       " 2017-12-31         0.7579,\n",
       "             vader_stopped\n",
       " date                     \n",
       " 2018-01-01         0.1531)"
      ]
     },
     "execution_count": 71,
     "metadata": {},
     "output_type": "execute_result"
    }
   ],
   "source": [
    "tsa_train[-1:], tsa_validate[:1], tsa_validate[-1:], tsa_test[:1]"
   ]
  },
  {
   "cell_type": "markdown",
   "id": "53d80e8d",
   "metadata": {},
   "source": [
    "- the splits look good"
   ]
  },
  {
   "cell_type": "code",
   "execution_count": 72,
   "id": "069ff495",
   "metadata": {},
   "outputs": [
    {
     "data": {
      "image/png": "[encoded data removed]",
      "text/plain": [
       "<Figure size 864x288 with 1 Axes>"
      ]
     },
     "metadata": {
      "needs_background": "light"
     },
     "output_type": "display_data"
    }
   ],
   "source": [
    "# for col in prophet_train.columns:\n",
    "plt.figure(figsize=(12,4))\n",
    "plt.plot(tsa_train.resample('M').vader_stopped.mean())\n",
    "plt.plot(tsa_validate.resample('M').vader_stopped.mean())\n",
    "plt.plot(tsa_test.resample('M').vader_stopped.mean())\n",
    "plt.ylabel('Sentiment Score')\n",
    "plt.title('Time Series Plot of Sentiment, by Train/Validate/Test')\n",
    "plt.legend(labels = [\"Train\",\"Validate\",\"Test\"])\n",
    "plt.show()"
   ]
  },
  {
   "cell_type": "code",
   "execution_count": 73,
   "id": "dc522546",
   "metadata": {},
   "outputs": [
    {
     "data": {
      "text/plain": [
       "<AxesSubplot:xlabel='Lag', ylabel='Autocorrelation'>"
      ]
     },
     "execution_count": 73,
     "metadata": {},
     "output_type": "execute_result"
    },
    {
     "data": {
      "image/png": "[encoded data removed]",
      "text/plain": [
       "<Figure size 432x288 with 1 Axes>"
      ]
     },
     "metadata": {
      "needs_background": "light"
     },
     "output_type": "display_data"
    }
   ],
   "source": [
    "pd.plotting.autocorrelation_plot(tsa_train.resample('y').mean())"
   ]
  },
  {
   "cell_type": "markdown",
   "id": "217652e3",
   "metadata": {},
   "source": [
    "- There doesn't look to be any seasonality to speak of--try running the autocorrelation_plot with different resmample lengths\n",
    "- from the curriculum:\n",
    "    - \"The dashed lines are a way measure whether the observed autocorrelation is a meaningful signal or just white noise. If the majority of the peaks and valleys fall within the dashed lines, the time series is probably white noise.\""
   ]
  },
  {
   "cell_type": "code",
   "execution_count": 74,
   "id": "933649a9",
   "metadata": {},
   "outputs": [],
   "source": [
    "import statsmodels.api as sm\n",
    "from statsmodels.tsa.api import Holt"
   ]
  },
  {
   "cell_type": "code",
   "execution_count": 75,
   "id": "8b41d17f",
   "metadata": {},
   "outputs": [
    {
     "data": {
      "text/plain": [
       "<AxesSubplot:xlabel='date'>"
      ]
     },
     "execution_count": 75,
     "metadata": {},
     "output_type": "execute_result"
    },
    {
     "data": {
      "image/png": "[encoded data removed]",
      "text/plain": [
       "<Figure size 432x288 with 1 Axes>"
      ]
     },
     "metadata": {
      "needs_background": "light"
     },
     "output_type": "display_data"
    }
   ],
   "source": [
    "# prophet_train.dropna(axis=0, how='any')\n",
    "tsa_train.dropna(axis=0, how='any').resample('M').mean().plot()"
   ]
  },
  {
   "cell_type": "code",
   "execution_count": 76,
   "id": "df11b2d0",
   "metadata": {
    "scrolled": true
   },
   "outputs": [
    {
     "data": {
      "text/html": [
       "<div>\n",
       "<style scoped>\n",
       "    .dataframe tbody tr th:only-of-type {\n",
       "        vertical-align: middle;\n",
       "    }\n",
       "\n",
       "    .dataframe tbody tr th {\n",
       "        vertical-align: top;\n",
       "    }\n",
       "\n",
       "    .dataframe thead th {\n",
       "        text-align: right;\n",
       "    }\n",
       "</style>\n",
       "<table border=\"1\" class=\"dataframe\">\n",
       "  <thead>\n",
       "    <tr style=\"text-align: right;\">\n",
       "      <th></th>\n",
       "      <th>vader_stopped</th>\n",
       "    </tr>\n",
       "    <tr>\n",
       "      <th>date</th>\n",
       "      <th></th>\n",
       "    </tr>\n",
       "  </thead>\n",
       "  <tbody>\n",
       "  </tbody>\n",
       "</table>\n",
       "</div>"
      ],
      "text/plain": [
       "Empty DataFrame\n",
       "Columns: [vader_stopped]\n",
       "Index: []"
      ]
     },
     "execution_count": 76,
     "metadata": {},
     "output_type": "execute_result"
    }
   ],
   "source": [
    "tsa_train[tsa_train.vader_stopped.isnull() == True]"
   ]
  },
  {
   "cell_type": "code",
   "execution_count": 77,
   "id": "662077bf",
   "metadata": {},
   "outputs": [],
   "source": [
    "# tsa_train['vader_stopped'] = tsa_train['vader_stopped'].fillna(0)"
   ]
  },
  {
   "cell_type": "code",
   "execution_count": 78,
   "id": "ffd5b000",
   "metadata": {
    "scrolled": true
   },
   "outputs": [],
   "source": [
    "# sm.tsa.seasonal_decompose(tsa_train.resample('M').mean()).plot()\n",
    "\n",
    "\n",
    "# _ = sm.tsa.seasonal_decompose(tsa_train['vader_stopped'].resample('W').mean()).plot()\n",
    "\n",
    "\n",
    "# ValueError: This function does not handle missing values\n"
   ]
  },
  {
   "cell_type": "markdown",
   "id": "df4452b9",
   "metadata": {},
   "source": [
    "### Simple Average Model"
   ]
  },
  {
   "cell_type": "code",
   "execution_count": 79,
   "id": "773f3c52",
   "metadata": {},
   "outputs": [],
   "source": [
    "from sklearn.metrics import mean_squared_error\n",
    "from math import sqrt"
   ]
  },
  {
   "cell_type": "code",
   "execution_count": 80,
   "id": "05fc50f7",
   "metadata": {},
   "outputs": [],
   "source": [
    "# Create the empty dataframe\n",
    "eval_df = pd.DataFrame(columns=['model_type', 'target_var', 'rmse'])\n",
    "\n",
    "# function to store rmse for comparison purposes\n",
    "def append_eval_df(model_type, target_var):\n",
    "    rmse = evaluate(target_var)\n",
    "    d = {'model_type': [model_type], 'target_var': [target_var], 'rmse': [rmse]}\n",
    "    d = pd.DataFrame(d)\n",
    "    return eval_df.append(d, ignore_index = True)"
   ]
  },
  {
   "cell_type": "code",
   "execution_count": 81,
   "id": "04c3113b",
   "metadata": {},
   "outputs": [],
   "source": [
    "# evaluation function to compute rmse\n",
    "def evaluate(target_var):\n",
    "    rmse = round(sqrt(mean_squared_error(validate[target_var], yhat_df[target_var])), 4)\n",
    "    return rmse"
   ]
  },
  {
   "cell_type": "code",
   "execution_count": 82,
   "id": "8179505f",
   "metadata": {},
   "outputs": [],
   "source": [
    "score = round(tsa_train['vader_stopped'].mean(), 4)\n",
    "\n",
    "def make_predictions():\n",
    "    yhat_df = pd.DataFrame({'vader_stopped': score}, index = validate.index)\n",
    "\n",
    "    return yhat_df\n",
    "\n",
    "yhat_df = make_predictions()"
   ]
  },
  {
   "cell_type": "code",
   "execution_count": 83,
   "id": "229c3bb8",
   "metadata": {},
   "outputs": [],
   "source": [
    "# plot and evaluate \n",
    "def plot_and_eval(target_var):\n",
    "    plt.figure(figsize = (12,4))\n",
    "    plt.plot(tsa_train[target_var].resample('M').mean(), label = 'Train', linewidth = 1)\n",
    "    plt.plot(tsa_validate[target_var].resample('M').mean(), label = 'Validate', linewidth = 1)\n",
    "    plt.plot(yhat_df[target_var])\n",
    "    plt.title(target_var)\n",
    "    rmse = evaluate(target_var)\n",
    "    print(target_var, '-- RMSE: {:.4f}'.format(rmse))\n",
    "    plt.show()"
   ]
  },
  {
   "cell_type": "code",
   "execution_count": 84,
   "id": "2b025641",
   "metadata": {},
   "outputs": [],
   "source": [
    "# plot and evaluate \n",
    "def plot_and_eval_2(target_var,model_type):\n",
    "    plt.figure(figsize = (12,4))\n",
    "    plt.plot(tsa_train[target_var].resample('M').mean(), label = 'Train', linewidth = 1)\n",
    "    plt.plot(tsa_validate[target_var].resample('M').mean(), label = 'Validate', linewidth = 1)\n",
    "    plt.plot(yhat_df[target_var])\n",
    "    plt.title(f\"{target_var}, {model_type}\")\n",
    "    rmse = evaluate(target_var)\n",
    "    print(target_var, '-- RMSE: {:.4f}'.format(rmse))\n",
    "    plt.show()"
   ]
  },
  {
   "cell_type": "code",
   "execution_count": 85,
   "id": "6de2d3e7",
   "metadata": {},
   "outputs": [
    {
     "data": {
      "text/html": [
       "<div>\n",
       "<style scoped>\n",
       "    .dataframe tbody tr th:only-of-type {\n",
       "        vertical-align: middle;\n",
       "    }\n",
       "\n",
       "    .dataframe tbody tr th {\n",
       "        vertical-align: top;\n",
       "    }\n",
       "\n",
       "    .dataframe thead th {\n",
       "        text-align: right;\n",
       "    }\n",
       "</style>\n",
       "<table border=\"1\" class=\"dataframe\">\n",
       "  <thead>\n",
       "    <tr style=\"text-align: right;\">\n",
       "      <th></th>\n",
       "      <th>vader_stopped</th>\n",
       "    </tr>\n",
       "    <tr>\n",
       "      <th>date</th>\n",
       "      <th></th>\n",
       "    </tr>\n",
       "  </thead>\n",
       "  <tbody>\n",
       "    <tr>\n",
       "      <th>2016-01-01</th>\n",
       "      <td>0.2036</td>\n",
       "    </tr>\n",
       "    <tr>\n",
       "      <th>2016-01-01</th>\n",
       "      <td>0.2036</td>\n",
       "    </tr>\n",
       "    <tr>\n",
       "      <th>2016-01-01</th>\n",
       "      <td>0.2036</td>\n",
       "    </tr>\n",
       "    <tr>\n",
       "      <th>2016-01-01</th>\n",
       "      <td>0.2036</td>\n",
       "    </tr>\n",
       "    <tr>\n",
       "      <th>2016-01-01</th>\n",
       "      <td>0.2036</td>\n",
       "    </tr>\n",
       "  </tbody>\n",
       "</table>\n",
       "</div>"
      ],
      "text/plain": [
       "            vader_stopped\n",
       "date                     \n",
       "2016-01-01         0.2036\n",
       "2016-01-01         0.2036\n",
       "2016-01-01         0.2036\n",
       "2016-01-01         0.2036\n",
       "2016-01-01         0.2036"
      ]
     },
     "execution_count": 85,
     "metadata": {},
     "output_type": "execute_result"
    }
   ],
   "source": [
    "yhat_df.head()"
   ]
  },
  {
   "cell_type": "code",
   "execution_count": 86,
   "id": "7957e757",
   "metadata": {},
   "outputs": [
    {
     "name": "stdout",
     "output_type": "stream",
     "text": [
      "vader_stopped -- RMSE: 0.4729\n"
     ]
    },
    {
     "data": {
      "image/png": "[encoded data removed]",
      "text/plain": [
       "<Figure size 864x288 with 1 Axes>"
      ]
     },
     "metadata": {
      "needs_background": "light"
     },
     "output_type": "display_data"
    }
   ],
   "source": [
    "plot_and_eval('vader_stopped')"
   ]
  },
  {
   "cell_type": "code",
   "execution_count": 87,
   "id": "994c5295",
   "metadata": {},
   "outputs": [],
   "source": [
    "eval_df = append_eval_df(model_type='simple_average', \n",
    "                             target_var = 'vader_stopped')"
   ]
  },
  {
   "cell_type": "code",
   "execution_count": 88,
   "id": "03ebfe40",
   "metadata": {},
   "outputs": [
    {
     "data": {
      "text/html": [
       "<div>\n",
       "<style scoped>\n",
       "    .dataframe tbody tr th:only-of-type {\n",
       "        vertical-align: middle;\n",
       "    }\n",
       "\n",
       "    .dataframe tbody tr th {\n",
       "        vertical-align: top;\n",
       "    }\n",
       "\n",
       "    .dataframe thead th {\n",
       "        text-align: right;\n",
       "    }\n",
       "</style>\n",
       "<table border=\"1\" class=\"dataframe\">\n",
       "  <thead>\n",
       "    <tr style=\"text-align: right;\">\n",
       "      <th></th>\n",
       "      <th>model_type</th>\n",
       "      <th>target_var</th>\n",
       "      <th>rmse</th>\n",
       "    </tr>\n",
       "  </thead>\n",
       "  <tbody>\n",
       "    <tr>\n",
       "      <th>0</th>\n",
       "      <td>simple_average</td>\n",
       "      <td>vader_stopped</td>\n",
       "      <td>0.4729</td>\n",
       "    </tr>\n",
       "  </tbody>\n",
       "</table>\n",
       "</div>"
      ],
      "text/plain": [
       "       model_type     target_var    rmse\n",
       "0  simple_average  vader_stopped  0.4729"
      ]
     },
     "execution_count": 88,
     "metadata": {},
     "output_type": "execute_result"
    }
   ],
   "source": [
    "eval_df"
   ]
  },
  {
   "cell_type": "markdown",
   "id": "353bb4ad",
   "metadata": {},
   "source": [
    "### Moving Average"
   ]
  },
  {
   "cell_type": "code",
   "execution_count": 89,
   "id": "d666c1e5",
   "metadata": {},
   "outputs": [
    {
     "data": {
      "text/plain": [
       "date\n",
       "2005-01-11         NaN\n",
       "2005-01-11         NaN\n",
       "2005-01-11    0.425367\n",
       "2005-01-11    0.516833\n",
       "2005-01-11    0.151500\n",
       "                ...   \n",
       "2015-12-31    0.292567\n",
       "2015-12-31    0.233200\n",
       "2015-12-31    0.219533\n",
       "2015-12-31    0.232533\n",
       "2015-12-31    0.427633\n",
       "Name: vader_stopped, Length: 2517076, dtype: float64"
      ]
     },
     "execution_count": 89,
     "metadata": {},
     "output_type": "execute_result"
    }
   ],
   "source": [
    "train['vader_stopped'].rolling(3).mean()"
   ]
  },
  {
   "cell_type": "code",
   "execution_count": 90,
   "id": "1e3c7db4",
   "metadata": {},
   "outputs": [
    {
     "name": "stdout",
     "output_type": "stream",
     "text": [
      "vader_stopped -- RMSE: 0.4738\n"
     ]
    },
    {
     "data": {
      "image/png": "[encoded data removed]",
      "text/plain": [
       "<Figure size 864x288 with 1 Axes>"
      ]
     },
     "metadata": {
      "needs_background": "light"
     },
     "output_type": "display_data"
    },
    {
     "name": "stdout",
     "output_type": "stream",
     "text": [
      "vader_stopped -- RMSE: 0.4756\n"
     ]
    },
    {
     "data": {
      "image/png": "[encoded data removed]",
      "text/plain": [
       "<Figure size 864x288 with 1 Axes>"
      ]
     },
     "metadata": {
      "needs_background": "light"
     },
     "output_type": "display_data"
    },
    {
     "name": "stdout",
     "output_type": "stream",
     "text": [
      "vader_stopped -- RMSE: 0.4733\n"
     ]
    },
    {
     "data": {
      "image/png": "[encoded data removed]",
      "text/plain": [
       "<Figure size 864x288 with 1 Axes>"
      ]
     },
     "metadata": {
      "needs_background": "light"
     },
     "output_type": "display_data"
    },
    {
     "name": "stdout",
     "output_type": "stream",
     "text": [
      "vader_stopped -- RMSE: 0.4742\n"
     ]
    },
    {
     "data": {
      "image/png": "[encoded data removed]",
      "text/plain": [
       "<Figure size 864x288 with 1 Axes>"
      ]
     },
     "metadata": {
      "needs_background": "light"
     },
     "output_type": "display_data"
    },
    {
     "data": {
      "text/html": [
       "<div>\n",
       "<style scoped>\n",
       "    .dataframe tbody tr th:only-of-type {\n",
       "        vertical-align: middle;\n",
       "    }\n",
       "\n",
       "    .dataframe tbody tr th {\n",
       "        vertical-align: top;\n",
       "    }\n",
       "\n",
       "    .dataframe thead th {\n",
       "        text-align: right;\n",
       "    }\n",
       "</style>\n",
       "<table border=\"1\" class=\"dataframe\">\n",
       "  <thead>\n",
       "    <tr style=\"text-align: right;\">\n",
       "      <th></th>\n",
       "      <th>model_type</th>\n",
       "      <th>target_var</th>\n",
       "      <th>rmse</th>\n",
       "    </tr>\n",
       "  </thead>\n",
       "  <tbody>\n",
       "    <tr>\n",
       "      <th>0</th>\n",
       "      <td>simple_average</td>\n",
       "      <td>vader_stopped</td>\n",
       "      <td>0.4729</td>\n",
       "    </tr>\n",
       "    <tr>\n",
       "      <th>1</th>\n",
       "      <td>30 day moving average</td>\n",
       "      <td>vader_stopped</td>\n",
       "      <td>0.4738</td>\n",
       "    </tr>\n",
       "    <tr>\n",
       "      <th>2</th>\n",
       "      <td>60 day moving average</td>\n",
       "      <td>vader_stopped</td>\n",
       "      <td>0.4756</td>\n",
       "    </tr>\n",
       "    <tr>\n",
       "      <th>3</th>\n",
       "      <td>90 day moving average</td>\n",
       "      <td>vader_stopped</td>\n",
       "      <td>0.4733</td>\n",
       "    </tr>\n",
       "    <tr>\n",
       "      <th>4</th>\n",
       "      <td>365 day moving average</td>\n",
       "      <td>vader_stopped</td>\n",
       "      <td>0.4742</td>\n",
       "    </tr>\n",
       "  </tbody>\n",
       "</table>\n",
       "</div>"
      ],
      "text/plain": [
       "               model_type     target_var    rmse\n",
       "0          simple_average  vader_stopped  0.4729\n",
       "1   30 day moving average  vader_stopped  0.4738\n",
       "2   60 day moving average  vader_stopped  0.4756\n",
       "3   90 day moving average  vader_stopped  0.4733\n",
       "4  365 day moving average  vader_stopped  0.4742"
      ]
     },
     "execution_count": 90,
     "metadata": {},
     "output_type": "execute_result"
    }
   ],
   "source": [
    "# Trying with different periods\n",
    "\n",
    "periods = [30, 60, 90, 365]\n",
    "\n",
    "for p in periods:\n",
    "    score = round(tsa_train['vader_stopped'].rolling(p).mean().iloc[-1], 4)\n",
    "    yhat_df = make_predictions()\n",
    "    model_type = str(p) + ' day moving average'\n",
    "    eval_df = append_eval_df(model_type = model_type,\n",
    "                             target_var = 'vader_stopped'\n",
    "                            )\n",
    "    plot_and_eval_2('vader_stopped', model_type)\n",
    "eval_df"
   ]
  },
  {
   "cell_type": "code",
   "execution_count": 91,
   "id": "9dadcfc3",
   "metadata": {},
   "outputs": [
    {
     "data": {
      "text/html": [
       "<div>\n",
       "<style scoped>\n",
       "    .dataframe tbody tr th:only-of-type {\n",
       "        vertical-align: middle;\n",
       "    }\n",
       "\n",
       "    .dataframe tbody tr th {\n",
       "        vertical-align: top;\n",
       "    }\n",
       "\n",
       "    .dataframe thead th {\n",
       "        text-align: right;\n",
       "    }\n",
       "</style>\n",
       "<table border=\"1\" class=\"dataframe\">\n",
       "  <thead>\n",
       "    <tr style=\"text-align: right;\">\n",
       "      <th></th>\n",
       "      <th>vader_stopped</th>\n",
       "    </tr>\n",
       "    <tr>\n",
       "      <th>date</th>\n",
       "      <th></th>\n",
       "    </tr>\n",
       "  </thead>\n",
       "  <tbody>\n",
       "    <tr>\n",
       "      <th>2016-01-01</th>\n",
       "      <td>0.1589</td>\n",
       "    </tr>\n",
       "    <tr>\n",
       "      <th>2016-01-01</th>\n",
       "      <td>0.1589</td>\n",
       "    </tr>\n",
       "    <tr>\n",
       "      <th>2016-01-01</th>\n",
       "      <td>0.1589</td>\n",
       "    </tr>\n",
       "    <tr>\n",
       "      <th>2016-01-01</th>\n",
       "      <td>0.1589</td>\n",
       "    </tr>\n",
       "    <tr>\n",
       "      <th>2016-01-01</th>\n",
       "      <td>0.1589</td>\n",
       "    </tr>\n",
       "    <tr>\n",
       "      <th>...</th>\n",
       "      <td>...</td>\n",
       "    </tr>\n",
       "    <tr>\n",
       "      <th>2017-12-31</th>\n",
       "      <td>0.1589</td>\n",
       "    </tr>\n",
       "    <tr>\n",
       "      <th>2017-12-31</th>\n",
       "      <td>0.1589</td>\n",
       "    </tr>\n",
       "    <tr>\n",
       "      <th>2017-12-31</th>\n",
       "      <td>0.1589</td>\n",
       "    </tr>\n",
       "    <tr>\n",
       "      <th>2017-12-31</th>\n",
       "      <td>0.1589</td>\n",
       "    </tr>\n",
       "    <tr>\n",
       "      <th>2017-12-31</th>\n",
       "      <td>0.1589</td>\n",
       "    </tr>\n",
       "  </tbody>\n",
       "</table>\n",
       "<p>248111 rows × 1 columns</p>\n",
       "</div>"
      ],
      "text/plain": [
       "            vader_stopped\n",
       "date                     \n",
       "2016-01-01         0.1589\n",
       "2016-01-01         0.1589\n",
       "2016-01-01         0.1589\n",
       "2016-01-01         0.1589\n",
       "2016-01-01         0.1589\n",
       "...                   ...\n",
       "2017-12-31         0.1589\n",
       "2017-12-31         0.1589\n",
       "2017-12-31         0.1589\n",
       "2017-12-31         0.1589\n",
       "2017-12-31         0.1589\n",
       "\n",
       "[248111 rows x 1 columns]"
      ]
     },
     "execution_count": 91,
     "metadata": {},
     "output_type": "execute_result"
    }
   ],
   "source": [
    "yhat_df"
   ]
  },
  {
   "cell_type": "markdown",
   "id": "62538afd",
   "metadata": {},
   "source": [
    "# In case you missed it: there's something wrong with the moving average models, which shouldn't be so low.  Or am I wrong?\n"
   ]
  },
  {
   "cell_type": "code",
   "execution_count": 92,
   "id": "84727c67",
   "metadata": {},
   "outputs": [],
   "source": [
    "# _ = sm.tsa.seasonal_decompose(train[col].resample('W').mean()).plot()\n",
    "# plt.show()\n",
    "\n",
    "# Still having problems loooking at seasonl decomposition due to missing valuese"
   ]
  },
  {
   "cell_type": "code",
   "execution_count": 93,
   "id": "aa606a3c",
   "metadata": {},
   "outputs": [
    {
     "data": {
      "text/plain": [
       "Timestamp('2017-12-31 00:00:00')"
      ]
     },
     "execution_count": 93,
     "metadata": {},
     "output_type": "execute_result"
    }
   ],
   "source": [
    "tsa_validate.index[-1]"
   ]
  },
  {
   "cell_type": "code",
   "execution_count": 94,
   "id": "2ff791bf",
   "metadata": {},
   "outputs": [
    {
     "data": {
      "text/plain": [
       "date\n",
       "2005-01-31    0.310612\n",
       "2005-02-28         NaN\n",
       "2005-03-31         NaN\n",
       "2005-04-30         NaN\n",
       "2005-05-31    0.198613\n",
       "                ...   \n",
       "2015-08-31    0.159453\n",
       "2015-09-30    0.195930\n",
       "2015-10-31    0.175029\n",
       "2015-11-30    0.155952\n",
       "2015-12-31    0.183937\n",
       "Freq: M, Name: vader_stopped, Length: 132, dtype: float64"
      ]
     },
     "execution_count": 94,
     "metadata": {},
     "output_type": "execute_result"
    }
   ],
   "source": [
    "tsa_train['vader_stopped'].resample('M').mean()"
   ]
  },
  {
   "cell_type": "code",
   "execution_count": 95,
   "id": "bd85d9ad",
   "metadata": {},
   "outputs": [],
   "source": [
    "# model = Holt(tsa_train['vader_stopped'], exponential = False)\n",
    "# model = model.fit(smoothing_level = .1, \n",
    "#                   smoothing_slope = .1, \n",
    "#                   optimized = False)\n",
    "# yhat_items = model.predict(start = validate.index[0], \n",
    "#                            end = validate.index[-1])\n",
    "# yhat_df['vader_stopped'] = round(yhat_items, 4)\n",
    "\n",
    "#HOLTS IS BROKEN : (\n",
    "\n",
    "# KeyError: 'The `start` argument could not be matched to a location related to the index of the data.'\n"
   ]
  },
  {
   "cell_type": "code",
   "execution_count": 96,
   "id": "124e9d0b",
   "metadata": {},
   "outputs": [
    {
     "data": {
      "text/html": [
       "<div>\n",
       "<style scoped>\n",
       "    .dataframe tbody tr th:only-of-type {\n",
       "        vertical-align: middle;\n",
       "    }\n",
       "\n",
       "    .dataframe tbody tr th {\n",
       "        vertical-align: top;\n",
       "    }\n",
       "\n",
       "    .dataframe thead th {\n",
       "        text-align: right;\n",
       "    }\n",
       "</style>\n",
       "<table border=\"1\" class=\"dataframe\">\n",
       "  <thead>\n",
       "    <tr style=\"text-align: right;\">\n",
       "      <th></th>\n",
       "      <th>vader_stopped</th>\n",
       "    </tr>\n",
       "    <tr>\n",
       "      <th>date</th>\n",
       "      <th></th>\n",
       "    </tr>\n",
       "  </thead>\n",
       "  <tbody>\n",
       "    <tr>\n",
       "      <th>2016-01-01</th>\n",
       "      <td>0.1589</td>\n",
       "    </tr>\n",
       "    <tr>\n",
       "      <th>2016-01-01</th>\n",
       "      <td>0.1589</td>\n",
       "    </tr>\n",
       "    <tr>\n",
       "      <th>2016-01-01</th>\n",
       "      <td>0.1589</td>\n",
       "    </tr>\n",
       "    <tr>\n",
       "      <th>2016-01-01</th>\n",
       "      <td>0.1589</td>\n",
       "    </tr>\n",
       "    <tr>\n",
       "      <th>2016-01-01</th>\n",
       "      <td>0.1589</td>\n",
       "    </tr>\n",
       "  </tbody>\n",
       "</table>\n",
       "</div>"
      ],
      "text/plain": [
       "            vader_stopped\n",
       "date                     \n",
       "2016-01-01         0.1589\n",
       "2016-01-01         0.1589\n",
       "2016-01-01         0.1589\n",
       "2016-01-01         0.1589\n",
       "2016-01-01         0.1589"
      ]
     },
     "execution_count": 96,
     "metadata": {},
     "output_type": "execute_result"
    }
   ],
   "source": [
    "yhat_df.head()\n",
    "# the above is returning NaNs only"
   ]
  },
  {
   "cell_type": "code",
   "execution_count": 97,
   "id": "26cc40fb",
   "metadata": {},
   "outputs": [],
   "source": [
    "# plot_and_eval('vader_stopped')"
   ]
  },
  {
   "cell_type": "markdown",
   "id": "f2c33438",
   "metadata": {},
   "source": [
    "### Moving prophet model to its own notebook bc of the size of it (not pushing to github)"
   ]
  },
  {
   "cell_type": "markdown",
   "id": "c36e1406",
   "metadata": {},
   "source": [
    "## The confidence intervals on the Prophet model were massive.  The sentiment observations in this data are very close together and yield rather little predictive power"
   ]
  },
  {
   "cell_type": "code",
   "execution_count": 98,
   "id": "c8cb2846",
   "metadata": {},
   "outputs": [
    {
     "data": {
      "text/plain": [
       "<matplotlib.legend.Legend at 0x7ff117234f10>"
      ]
     },
     "execution_count": 98,
     "metadata": {},
     "output_type": "execute_result"
    },
    {
     "data": {
      "image/png": "[encoded data removed]",
      "text/plain": [
       "<Figure size 432x288 with 1 Axes>"
      ]
     },
     "metadata": {
      "needs_background": "light"
     },
     "output_type": "display_data"
    }
   ],
   "source": [
    "tsa_train.groupby([tsa_train.index.year, tsa_train.index.month]).mean().unstack(0).plot()\n",
    "plt.legend(loc=(1.3,.5), bbox_to_anchor=(0.5, 0., 0.5, 0.5))"
   ]
  },
  {
   "cell_type": "markdown",
   "id": "1f3c6f66",
   "metadata": {},
   "source": [
    "- Is there a trend of dipping sentiment in the summer?"
   ]
  },
  {
   "cell_type": "code",
   "execution_count": 99,
   "id": "1c63a2fe",
   "metadata": {},
   "outputs": [
    {
     "data": {
      "text/html": [
       "<div>\n",
       "<style scoped>\n",
       "    .dataframe tbody tr th:only-of-type {\n",
       "        vertical-align: middle;\n",
       "    }\n",
       "\n",
       "    .dataframe tbody tr th {\n",
       "        vertical-align: top;\n",
       "    }\n",
       "\n",
       "    .dataframe thead th {\n",
       "        text-align: right;\n",
       "    }\n",
       "</style>\n",
       "<table border=\"1\" class=\"dataframe\">\n",
       "  <thead>\n",
       "    <tr style=\"text-align: right;\">\n",
       "      <th></th>\n",
       "      <th>episode_id</th>\n",
       "      <th>episode_order</th>\n",
       "      <th>speaker</th>\n",
       "      <th>utterance</th>\n",
       "      <th>program</th>\n",
       "      <th>title</th>\n",
       "      <th>is_host</th>\n",
       "      <th>clean</th>\n",
       "      <th>lemmatized_stopped</th>\n",
       "      <th>vader_stopped</th>\n",
       "      <th>month</th>\n",
       "      <th>year</th>\n",
       "    </tr>\n",
       "    <tr>\n",
       "      <th>date</th>\n",
       "      <th></th>\n",
       "      <th></th>\n",
       "      <th></th>\n",
       "      <th></th>\n",
       "      <th></th>\n",
       "      <th></th>\n",
       "      <th></th>\n",
       "      <th></th>\n",
       "      <th></th>\n",
       "      <th></th>\n",
       "      <th></th>\n",
       "      <th></th>\n",
       "    </tr>\n",
       "  </thead>\n",
       "  <tbody>\n",
       "    <tr>\n",
       "      <th>2005-01-11</th>\n",
       "      <td>84434</td>\n",
       "      <td>1</td>\n",
       "      <td>neal conan, host</td>\n",
       "      <td>Scientists at the National Oceanic and Atmosph...</td>\n",
       "      <td>Talk of the Nation</td>\n",
       "      <td>NOAA Aims for Predicting Tsunamis</td>\n",
       "      <td>True</td>\n",
       "      <td>scientists at the national oceanic and atmosph...</td>\n",
       "      <td>scientist national oceanic atmospheric adminis...</td>\n",
       "      <td>0.2023</td>\n",
       "      <td>Jan</td>\n",
       "      <td>2005</td>\n",
       "    </tr>\n",
       "    <tr>\n",
       "      <th>2005-01-11</th>\n",
       "      <td>84430</td>\n",
       "      <td>22</td>\n",
       "      <td>norma (caller)</td>\n",
       "      <td>Yes.  Our governor gave his State of the State...</td>\n",
       "      <td>Talk of the Nation</td>\n",
       "      <td>State Legislatures: Agendas and Budgets</td>\n",
       "      <td>False</td>\n",
       "      <td>yes. our governor gave his state of the state ...</td>\n",
       "      <td>yes. governor gave state state address morning...</td>\n",
       "      <td>0.7778</td>\n",
       "      <td>Jan</td>\n",
       "      <td>2005</td>\n",
       "    </tr>\n",
       "  </tbody>\n",
       "</table>\n",
       "</div>"
      ],
      "text/plain": [
       "            episode_id  episode_order           speaker  \\\n",
       "date                                                      \n",
       "2005-01-11       84434              1  neal conan, host   \n",
       "2005-01-11       84430             22    norma (caller)   \n",
       "\n",
       "                                                    utterance  \\\n",
       "date                                                            \n",
       "2005-01-11  Scientists at the National Oceanic and Atmosph...   \n",
       "2005-01-11  Yes.  Our governor gave his State of the State...   \n",
       "\n",
       "                       program                                    title  \\\n",
       "date                                                                      \n",
       "2005-01-11  Talk of the Nation        NOAA Aims for Predicting Tsunamis   \n",
       "2005-01-11  Talk of the Nation  State Legislatures: Agendas and Budgets   \n",
       "\n",
       "            is_host                                              clean  \\\n",
       "date                                                                     \n",
       "2005-01-11     True  scientists at the national oceanic and atmosph...   \n",
       "2005-01-11    False  yes. our governor gave his state of the state ...   \n",
       "\n",
       "                                           lemmatized_stopped  vader_stopped  \\\n",
       "date                                                                           \n",
       "2005-01-11  scientist national oceanic atmospheric adminis...         0.2023   \n",
       "2005-01-11  yes. governor gave state state address morning...         0.7778   \n",
       "\n",
       "           month  year  \n",
       "date                    \n",
       "2005-01-11   Jan  2005  \n",
       "2005-01-11   Jan  2005  "
      ]
     },
     "execution_count": 99,
     "metadata": {},
     "output_type": "execute_result"
    }
   ],
   "source": [
    "df.head(2)"
   ]
  },
  {
   "cell_type": "code",
   "execution_count": 100,
   "id": "4aec3de6",
   "metadata": {},
   "outputs": [
    {
     "data": {
      "text/plain": [
       "'scientist national oceanic atmospheric administration announced satellite captured picture devastating indian ocean tsunami picture allow measure height wave. point scientist receive data real time satellite trained specific area image used forecast hazardous effect tsunami however may lead improvement forecasting. noaa geophysicist walter smith join u office silver spring maryland tell u satellite saw learn image .'"
      ]
     },
     "execution_count": 100,
     "metadata": {},
     "output_type": "execute_result"
    }
   ],
   "source": [
    "df.lemmatized_stopped[0]"
   ]
  },
  {
   "cell_type": "code",
   "execution_count": 101,
   "id": "a2f6b985",
   "metadata": {},
   "outputs": [],
   "source": [
    "from sklearn.feature_extraction.text import CountVectorizer\n",
    "\n",
    "cv = CountVectorizer()\n",
    "X_bag_of_wrds= cv.fit_transform(train.lemmatized_stopped)\n",
    "y = train.speaker"
   ]
  },
  {
   "cell_type": "code",
   "execution_count": 102,
   "id": "a0976aec",
   "metadata": {},
   "outputs": [],
   "source": [
    "# cv.vocabulary_"
   ]
  },
  {
   "cell_type": "code",
   "execution_count": 103,
   "id": "620a26a9",
   "metadata": {},
   "outputs": [],
   "source": [
    "from sklearn.feature_extraction.text import TfidfVectorizer\n",
    "\n",
    "tfidf = TfidfVectorizer()\n",
    "X_train = tfidf.fit_transform(train.lemmatized_stopped)\n",
    "y_train = train.speaker\n"
   ]
  },
  {
   "cell_type": "code",
   "execution_count": 104,
   "id": "632479e9",
   "metadata": {},
   "outputs": [],
   "source": [
    "X_validate = tfidf.transform(validate.lemmatized_stopped)\n",
    "y_validate = validate.speaker\n",
    "\n",
    "X_test = tfidf.transform(test.lemmatized_stopped)\n",
    "y_test = test.speaker"
   ]
  },
  {
   "cell_type": "code",
   "execution_count": 105,
   "id": "faf986aa",
   "metadata": {},
   "outputs": [],
   "source": [
    "from sklearn.model_selection import train_test_split\n",
    "from sklearn.linear_model import LogisticRegression\n",
    "from sklearn.metrics import classification_report, accuracy_score"
   ]
  },
  {
   "cell_type": "code",
   "execution_count": null,
   "id": "16f35355",
   "metadata": {},
   "outputs": [],
   "source": []
  },
  {
   "cell_type": "code",
   "execution_count": null,
   "id": "a763bb6a",
   "metadata": {},
   "outputs": [],
   "source": []
  },
  {
   "cell_type": "code",
   "execution_count": null,
   "id": "11ca7945",
   "metadata": {},
   "outputs": [],
   "source": [
    "lm = LogisticRegression().fit(X_train, y_train)\n",
    "\n",
    "train = pd.DataFrame(dict(actual=y_train))\n",
    "test = pd.DataFrame(dict(actual=y_test))\n",
    "\n",
    "train['predicted'] = lm.predict(X_train)\n",
    "validate['predicted'] = lm.predict(X_validate)\n"
   ]
  },
  {
   "cell_type": "code",
   "execution_count": null,
   "id": "a4d4e1d7",
   "metadata": {},
   "outputs": [],
   "source": [
    "print('Accuracy: {:.2%}'.format(accuracy_score(train.actual, train.predicted)))\n",
    "print('---')\n",
    "print('Confusion Matrix')\n",
    "print(pd.crosstab(train.predicted, train.actual))\n",
    "print('---')\n",
    "print(classification_report(train.actual, train.predicted))"
   ]
  },
  {
   "cell_type": "code",
   "execution_count": null,
   "id": "2d28623d",
   "metadata": {},
   "outputs": [],
   "source": []
  },
  {
   "cell_type": "code",
   "execution_count": null,
   "id": "08821a11",
   "metadata": {},
   "outputs": [],
   "source": [
    "print('Accuracy: {:.2%}'.format(accuracy_score(lr_train.actual, lr_train.predicted)))\n",
    "print('---')\n",
    "print('Confusion Matrix')\n",
    "print(pd.crosstab(train.predicted, train.actual))\n",
    "print('---')\n",
    "print(classification_report(train.actual, train.predicted))"
   ]
  },
  {
   "cell_type": "code",
   "execution_count": null,
   "id": "83944a07",
   "metadata": {},
   "outputs": [],
   "source": []
  }
 ],
 "metadata": {
  "kernelspec": {
   "display_name": "Python 3",
   "language": "python",
   "name": "python3"
  },
  "language_info": {
   "codemirror_mode": {
    "name": "ipython",
    "version": 3
   },
   "file_extension": ".py",
   "mimetype": "text/x-python",
   "name": "python",
   "nbconvert_exporter": "python",
   "pygments_lexer": "ipython3",
   "version": "3.8.8"
  }
 },
 "nbformat": 4,
 "nbformat_minor": 5
}
