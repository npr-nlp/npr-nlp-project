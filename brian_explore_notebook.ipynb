{
 "cells": [
  {
   "cell_type": "code",
   "execution_count": 1,
   "id": "4fe1ec41",
   "metadata": {},
   "outputs": [],
   "source": [
    "# Import all the things\n",
    "\n",
    "import json\n",
    "import pandas as pd\n",
    "import numpy as np\n",
    "import wrangle\n",
    "import acquire\n",
    "from prepare import basic_clean, tokenize, lemmatize, stem, remove_stopwords, split_data, prep_string_data\n",
    "\n",
    "import re\n",
    "from sklearn.feature_extraction.text import TfidfVectorizer\n",
    "\n",
    "from wordcloud import WordCloud\n",
    "from matplotlib import pyplot as plt\n",
    "import seaborn as sns\n",
    "\n",
    "import nltk\n",
    "\n",
    "from scipy import stats\n",
    "\n",
    "import warnings\n",
    "warnings.filterwarnings(\"ignore\")"
   ]
  },
  {
   "cell_type": "code",
   "execution_count": 2,
   "id": "45972e72",
   "metadata": {},
   "outputs": [
    {
     "name": "stdout",
     "output_type": "stream",
     "text": [
      "The df has 2998347 rows and 10 columns.\n"
     ]
    },
    {
     "data": {
      "text/html": [
       "<div>\n",
       "<style scoped>\n",
       "    .dataframe tbody tr th:only-of-type {\n",
       "        vertical-align: middle;\n",
       "    }\n",
       "\n",
       "    .dataframe tbody tr th {\n",
       "        vertical-align: top;\n",
       "    }\n",
       "\n",
       "    .dataframe thead th {\n",
       "        text-align: right;\n",
       "    }\n",
       "</style>\n",
       "<table border=\"1\" class=\"dataframe\">\n",
       "  <thead>\n",
       "    <tr style=\"text-align: right;\">\n",
       "      <th></th>\n",
       "      <th>episode_order</th>\n",
       "      <th>speaker</th>\n",
       "      <th>utterance</th>\n",
       "      <th>program</th>\n",
       "      <th>title</th>\n",
       "      <th>is_host</th>\n",
       "      <th>clean</th>\n",
       "      <th>lemmatized_stopped</th>\n",
       "      <th>vader_stopped</th>\n",
       "      <th>date</th>\n",
       "    </tr>\n",
       "    <tr>\n",
       "      <th>episode_id</th>\n",
       "      <th></th>\n",
       "      <th></th>\n",
       "      <th></th>\n",
       "      <th></th>\n",
       "      <th></th>\n",
       "      <th></th>\n",
       "      <th></th>\n",
       "      <th></th>\n",
       "      <th></th>\n",
       "      <th></th>\n",
       "    </tr>\n",
       "  </thead>\n",
       "  <tbody>\n",
       "    <tr>\n",
       "      <th>57264</th>\n",
       "      <td>9</td>\n",
       "      <td>Ms. LOREN MOONEY (Editor-in-Chief, Bicycling M...</td>\n",
       "      <td>It's a 2,200-mile race. To give some sense of ...</td>\n",
       "      <td>Talk of the Nation</td>\n",
       "      <td>How To Watch The Tour De France</td>\n",
       "      <td>False</td>\n",
       "      <td>it s a 2200 mile race. to give some sense of p...</td>\n",
       "      <td>2200 mile race. give sense perspective roughly...</td>\n",
       "      <td>0.0000</td>\n",
       "      <td>2010-07-12</td>\n",
       "    </tr>\n",
       "    <tr>\n",
       "      <th>57264</th>\n",
       "      <td>10</td>\n",
       "      <td>Ms. LOREN MOONEY (Editor-in-Chief, Bicycling M...</td>\n",
       "      <td>So for a top competitor like Lance to try to m...</td>\n",
       "      <td>Talk of the Nation</td>\n",
       "      <td>How To Watch The Tour De France</td>\n",
       "      <td>False</td>\n",
       "      <td>so for a top competitor like lance to try to m...</td>\n",
       "      <td>top competitor like lance try make much time 1...</td>\n",
       "      <td>0.9313</td>\n",
       "      <td>2010-07-12</td>\n",
       "    </tr>\n",
       "    <tr>\n",
       "      <th>57264</th>\n",
       "      <td>11</td>\n",
       "      <td>NEAL CONAN, host</td>\n",
       "      <td>So in every team, presumably there's one star,...</td>\n",
       "      <td>Talk of the Nation</td>\n",
       "      <td>How To Watch The Tour De France</td>\n",
       "      <td>True</td>\n",
       "      <td>so in every team presumably there s one star o...</td>\n",
       "      <td>every team presumably one star one equivalent ...</td>\n",
       "      <td>0.7096</td>\n",
       "      <td>2010-07-12</td>\n",
       "    </tr>\n",
       "    <tr>\n",
       "      <th>57264</th>\n",
       "      <td>12</td>\n",
       "      <td>Ms. LOREN MOONEY (Editor-in-Chief, Bicycling M...</td>\n",
       "      <td>That's right. Each team has nine riders. And w...</td>\n",
       "      <td>Talk of the Nation</td>\n",
       "      <td>How To Watch The Tour De France</td>\n",
       "      <td>False</td>\n",
       "      <td>that s right. each team has nine riders. and w...</td>\n",
       "      <td>right. team ha nine riders. basically team lea...</td>\n",
       "      <td>0.9274</td>\n",
       "      <td>2010-07-12</td>\n",
       "    </tr>\n",
       "    <tr>\n",
       "      <th>57264</th>\n",
       "      <td>13</td>\n",
       "      <td>NEAL CONAN, host</td>\n",
       "      <td>So slipstream, this is like drafting in car ra...</td>\n",
       "      <td>Talk of the Nation</td>\n",
       "      <td>How To Watch The Tour De France</td>\n",
       "      <td>True</td>\n",
       "      <td>so slipstream this is like drafting in car rac...</td>\n",
       "      <td>slipstream like drafting car racing right ?</td>\n",
       "      <td>0.3612</td>\n",
       "      <td>2010-07-12</td>\n",
       "    </tr>\n",
       "  </tbody>\n",
       "</table>\n",
       "</div>"
      ],
      "text/plain": [
       "            episode_order                                            speaker  \\\n",
       "episode_id                                                                     \n",
       "57264                   9  Ms. LOREN MOONEY (Editor-in-Chief, Bicycling M...   \n",
       "57264                  10  Ms. LOREN MOONEY (Editor-in-Chief, Bicycling M...   \n",
       "57264                  11                                   NEAL CONAN, host   \n",
       "57264                  12  Ms. LOREN MOONEY (Editor-in-Chief, Bicycling M...   \n",
       "57264                  13                                   NEAL CONAN, host   \n",
       "\n",
       "                                                    utterance  \\\n",
       "episode_id                                                      \n",
       "57264       It's a 2,200-mile race. To give some sense of ...   \n",
       "57264       So for a top competitor like Lance to try to m...   \n",
       "57264       So in every team, presumably there's one star,...   \n",
       "57264       That's right. Each team has nine riders. And w...   \n",
       "57264       So slipstream, this is like drafting in car ra...   \n",
       "\n",
       "                       program                            title  is_host  \\\n",
       "episode_id                                                                 \n",
       "57264       Talk of the Nation  How To Watch The Tour De France    False   \n",
       "57264       Talk of the Nation  How To Watch The Tour De France    False   \n",
       "57264       Talk of the Nation  How To Watch The Tour De France     True   \n",
       "57264       Talk of the Nation  How To Watch The Tour De France    False   \n",
       "57264       Talk of the Nation  How To Watch The Tour De France     True   \n",
       "\n",
       "                                                        clean  \\\n",
       "episode_id                                                      \n",
       "57264       it s a 2200 mile race. to give some sense of p...   \n",
       "57264       so for a top competitor like lance to try to m...   \n",
       "57264       so in every team presumably there s one star o...   \n",
       "57264       that s right. each team has nine riders. and w...   \n",
       "57264       so slipstream this is like drafting in car rac...   \n",
       "\n",
       "                                           lemmatized_stopped  vader_stopped  \\\n",
       "episode_id                                                                     \n",
       "57264       2200 mile race. give sense perspective roughly...         0.0000   \n",
       "57264       top competitor like lance try make much time 1...         0.9313   \n",
       "57264       every team presumably one star one equivalent ...         0.7096   \n",
       "57264       right. team ha nine riders. basically team lea...         0.9274   \n",
       "57264             slipstream like drafting car racing right ?         0.3612   \n",
       "\n",
       "                  date  \n",
       "episode_id              \n",
       "57264       2010-07-12  \n",
       "57264       2010-07-12  \n",
       "57264       2010-07-12  \n",
       "57264       2010-07-12  \n",
       "57264       2010-07-12  "
      ]
     },
     "execution_count": 2,
     "metadata": {},
     "output_type": "execute_result"
    }
   ],
   "source": [
    "df = wrangle.get_npr_data()\n",
    "df.head()"
   ]
  },
  {
   "cell_type": "markdown",
   "id": "868c9016",
   "metadata": {},
   "source": [
    "## Is there a difference in the mean sentiment by speaker? Program? etc\n",
    "- Applied statistics-> i.e. stats testing. Is there a difference in the mean sentiment by speaker? Program? etc "
   ]
  },
  {
   "cell_type": "code",
   "execution_count": 3,
   "id": "a01ead45",
   "metadata": {},
   "outputs": [
    {
     "data": {
      "text/plain": [
       "Index(['episode_order', 'speaker', 'utterance', 'program', 'title', 'is_host',\n",
       "       'clean', 'lemmatized_stopped', 'vader_stopped', 'date'],\n",
       "      dtype='object')"
      ]
     },
     "execution_count": 3,
     "metadata": {},
     "output_type": "execute_result"
    }
   ],
   "source": [
    "df.columns"
   ]
  },
  {
   "cell_type": "code",
   "execution_count": 4,
   "id": "e8e2e69e",
   "metadata": {},
   "outputs": [
    {
     "data": {
      "text/plain": [
       "(2998347, 10)"
      ]
     },
     "execution_count": 4,
     "metadata": {},
     "output_type": "execute_result"
    }
   ],
   "source": [
    "df.shape"
   ]
  },
  {
   "cell_type": "code",
   "execution_count": 5,
   "id": "ba6c4d43",
   "metadata": {},
   "outputs": [
    {
     "data": {
      "text/plain": [
       "episode_order           int64\n",
       "speaker                object\n",
       "utterance              object\n",
       "program                object\n",
       "title                  object\n",
       "is_host                  bool\n",
       "clean                  object\n",
       "lemmatized_stopped     object\n",
       "vader_stopped         float64\n",
       "date                   object\n",
       "dtype: object"
      ]
     },
     "execution_count": 5,
     "metadata": {},
     "output_type": "execute_result"
    }
   ],
   "source": [
    "df.dtypes"
   ]
  },
  {
   "cell_type": "code",
   "execution_count": 6,
   "id": "499385cd",
   "metadata": {},
   "outputs": [],
   "source": [
    "df.date = pd.to_datetime(df.date)"
   ]
  },
  {
   "cell_type": "code",
   "execution_count": 7,
   "id": "a7418211",
   "metadata": {},
   "outputs": [
    {
     "data": {
      "text/plain": [
       "episode_order                  int64\n",
       "speaker                       object\n",
       "utterance                     object\n",
       "program                       object\n",
       "title                         object\n",
       "is_host                         bool\n",
       "clean                         object\n",
       "lemmatized_stopped            object\n",
       "vader_stopped                float64\n",
       "date                  datetime64[ns]\n",
       "dtype: object"
      ]
     },
     "execution_count": 7,
     "metadata": {},
     "output_type": "execute_result"
    }
   ],
   "source": [
    "df.dtypes"
   ]
  },
  {
   "cell_type": "code",
   "execution_count": 8,
   "id": "ddbf94bc",
   "metadata": {},
   "outputs": [],
   "source": [
    "\n",
    "# df['Date'].dt.strftime('%b-%Y')\n",
    "\n",
    "# df['episode_date'].dt.strftime('%b')"
   ]
  },
  {
   "cell_type": "code",
   "execution_count": 9,
   "id": "81fb40c7",
   "metadata": {
    "scrolled": true
   },
   "outputs": [
    {
     "data": {
      "text/html": [
       "<div>\n",
       "<style scoped>\n",
       "    .dataframe tbody tr th:only-of-type {\n",
       "        vertical-align: middle;\n",
       "    }\n",
       "\n",
       "    .dataframe tbody tr th {\n",
       "        vertical-align: top;\n",
       "    }\n",
       "\n",
       "    .dataframe thead th {\n",
       "        text-align: right;\n",
       "    }\n",
       "</style>\n",
       "<table border=\"1\" class=\"dataframe\">\n",
       "  <thead>\n",
       "    <tr style=\"text-align: right;\">\n",
       "      <th></th>\n",
       "      <th>episode_id</th>\n",
       "      <th>episode_order</th>\n",
       "      <th>speaker</th>\n",
       "      <th>utterance</th>\n",
       "      <th>program</th>\n",
       "      <th>title</th>\n",
       "      <th>is_host</th>\n",
       "      <th>clean</th>\n",
       "      <th>lemmatized_stopped</th>\n",
       "      <th>vader_stopped</th>\n",
       "      <th>date</th>\n",
       "      <th>month</th>\n",
       "      <th>year</th>\n",
       "    </tr>\n",
       "  </thead>\n",
       "  <tbody>\n",
       "    <tr>\n",
       "      <th>0</th>\n",
       "      <td>57264</td>\n",
       "      <td>9</td>\n",
       "      <td>Ms. LOREN MOONEY (Editor-in-Chief, Bicycling M...</td>\n",
       "      <td>It's a 2,200-mile race. To give some sense of ...</td>\n",
       "      <td>Talk of the Nation</td>\n",
       "      <td>How To Watch The Tour De France</td>\n",
       "      <td>False</td>\n",
       "      <td>it s a 2200 mile race. to give some sense of p...</td>\n",
       "      <td>2200 mile race. give sense perspective roughly...</td>\n",
       "      <td>0.0000</td>\n",
       "      <td>2010-07-12</td>\n",
       "      <td>Jul</td>\n",
       "      <td>2010</td>\n",
       "    </tr>\n",
       "    <tr>\n",
       "      <th>1</th>\n",
       "      <td>57264</td>\n",
       "      <td>10</td>\n",
       "      <td>Ms. LOREN MOONEY (Editor-in-Chief, Bicycling M...</td>\n",
       "      <td>So for a top competitor like Lance to try to m...</td>\n",
       "      <td>Talk of the Nation</td>\n",
       "      <td>How To Watch The Tour De France</td>\n",
       "      <td>False</td>\n",
       "      <td>so for a top competitor like lance to try to m...</td>\n",
       "      <td>top competitor like lance try make much time 1...</td>\n",
       "      <td>0.9313</td>\n",
       "      <td>2010-07-12</td>\n",
       "      <td>Jul</td>\n",
       "      <td>2010</td>\n",
       "    </tr>\n",
       "    <tr>\n",
       "      <th>2</th>\n",
       "      <td>57264</td>\n",
       "      <td>11</td>\n",
       "      <td>NEAL CONAN, host</td>\n",
       "      <td>So in every team, presumably there's one star,...</td>\n",
       "      <td>Talk of the Nation</td>\n",
       "      <td>How To Watch The Tour De France</td>\n",
       "      <td>True</td>\n",
       "      <td>so in every team presumably there s one star o...</td>\n",
       "      <td>every team presumably one star one equivalent ...</td>\n",
       "      <td>0.7096</td>\n",
       "      <td>2010-07-12</td>\n",
       "      <td>Jul</td>\n",
       "      <td>2010</td>\n",
       "    </tr>\n",
       "    <tr>\n",
       "      <th>3</th>\n",
       "      <td>57264</td>\n",
       "      <td>12</td>\n",
       "      <td>Ms. LOREN MOONEY (Editor-in-Chief, Bicycling M...</td>\n",
       "      <td>That's right. Each team has nine riders. And w...</td>\n",
       "      <td>Talk of the Nation</td>\n",
       "      <td>How To Watch The Tour De France</td>\n",
       "      <td>False</td>\n",
       "      <td>that s right. each team has nine riders. and w...</td>\n",
       "      <td>right. team ha nine riders. basically team lea...</td>\n",
       "      <td>0.9274</td>\n",
       "      <td>2010-07-12</td>\n",
       "      <td>Jul</td>\n",
       "      <td>2010</td>\n",
       "    </tr>\n",
       "    <tr>\n",
       "      <th>4</th>\n",
       "      <td>57264</td>\n",
       "      <td>13</td>\n",
       "      <td>NEAL CONAN, host</td>\n",
       "      <td>So slipstream, this is like drafting in car ra...</td>\n",
       "      <td>Talk of the Nation</td>\n",
       "      <td>How To Watch The Tour De France</td>\n",
       "      <td>True</td>\n",
       "      <td>so slipstream this is like drafting in car rac...</td>\n",
       "      <td>slipstream like drafting car racing right ?</td>\n",
       "      <td>0.3612</td>\n",
       "      <td>2010-07-12</td>\n",
       "      <td>Jul</td>\n",
       "      <td>2010</td>\n",
       "    </tr>\n",
       "  </tbody>\n",
       "</table>\n",
       "</div>"
      ],
      "text/plain": [
       "   episode_id  episode_order  \\\n",
       "0       57264              9   \n",
       "1       57264             10   \n",
       "2       57264             11   \n",
       "3       57264             12   \n",
       "4       57264             13   \n",
       "\n",
       "                                             speaker  \\\n",
       "0  Ms. LOREN MOONEY (Editor-in-Chief, Bicycling M...   \n",
       "1  Ms. LOREN MOONEY (Editor-in-Chief, Bicycling M...   \n",
       "2                                   NEAL CONAN, host   \n",
       "3  Ms. LOREN MOONEY (Editor-in-Chief, Bicycling M...   \n",
       "4                                   NEAL CONAN, host   \n",
       "\n",
       "                                           utterance             program  \\\n",
       "0  It's a 2,200-mile race. To give some sense of ...  Talk of the Nation   \n",
       "1  So for a top competitor like Lance to try to m...  Talk of the Nation   \n",
       "2  So in every team, presumably there's one star,...  Talk of the Nation   \n",
       "3  That's right. Each team has nine riders. And w...  Talk of the Nation   \n",
       "4  So slipstream, this is like drafting in car ra...  Talk of the Nation   \n",
       "\n",
       "                             title  is_host  \\\n",
       "0  How To Watch The Tour De France    False   \n",
       "1  How To Watch The Tour De France    False   \n",
       "2  How To Watch The Tour De France     True   \n",
       "3  How To Watch The Tour De France    False   \n",
       "4  How To Watch The Tour De France     True   \n",
       "\n",
       "                                               clean  \\\n",
       "0  it s a 2200 mile race. to give some sense of p...   \n",
       "1  so for a top competitor like lance to try to m...   \n",
       "2  so in every team presumably there s one star o...   \n",
       "3  that s right. each team has nine riders. and w...   \n",
       "4  so slipstream this is like drafting in car rac...   \n",
       "\n",
       "                                  lemmatized_stopped  vader_stopped  \\\n",
       "0  2200 mile race. give sense perspective roughly...         0.0000   \n",
       "1  top competitor like lance try make much time 1...         0.9313   \n",
       "2  every team presumably one star one equivalent ...         0.7096   \n",
       "3  right. team ha nine riders. basically team lea...         0.9274   \n",
       "4        slipstream like drafting car racing right ?         0.3612   \n",
       "\n",
       "        date month  year  \n",
       "0 2010-07-12   Jul  2010  \n",
       "1 2010-07-12   Jul  2010  \n",
       "2 2010-07-12   Jul  2010  \n",
       "3 2010-07-12   Jul  2010  \n",
       "4 2010-07-12   Jul  2010  "
      ]
     },
     "execution_count": 9,
     "metadata": {},
     "output_type": "execute_result"
    }
   ],
   "source": [
    "df['month']=df['date'].dt.strftime('%b')\n",
    "df['year']=pd.DatetimeIndex(df['date']).year\n",
    "df=df.reset_index()\n",
    "df.head()"
   ]
  },
  {
   "cell_type": "code",
   "execution_count": 10,
   "id": "087c164f",
   "metadata": {},
   "outputs": [],
   "source": [
    "import matplotlib.pyplot as plt\n",
    "import seaborn as sns"
   ]
  },
  {
   "cell_type": "code",
   "execution_count": 11,
   "id": "70c71b83",
   "metadata": {},
   "outputs": [],
   "source": [
    "df=df.set_index('date').sort_index()"
   ]
  },
  {
   "cell_type": "code",
   "execution_count": 12,
   "id": "10548b8a",
   "metadata": {},
   "outputs": [
    {
     "data": {
      "text/html": [
       "<div>\n",
       "<style scoped>\n",
       "    .dataframe tbody tr th:only-of-type {\n",
       "        vertical-align: middle;\n",
       "    }\n",
       "\n",
       "    .dataframe tbody tr th {\n",
       "        vertical-align: top;\n",
       "    }\n",
       "\n",
       "    .dataframe thead th {\n",
       "        text-align: right;\n",
       "    }\n",
       "</style>\n",
       "<table border=\"1\" class=\"dataframe\">\n",
       "  <thead>\n",
       "    <tr style=\"text-align: right;\">\n",
       "      <th></th>\n",
       "      <th>episode_id</th>\n",
       "      <th>episode_order</th>\n",
       "      <th>speaker</th>\n",
       "      <th>utterance</th>\n",
       "      <th>program</th>\n",
       "      <th>title</th>\n",
       "      <th>is_host</th>\n",
       "      <th>clean</th>\n",
       "      <th>lemmatized_stopped</th>\n",
       "      <th>vader_stopped</th>\n",
       "      <th>month</th>\n",
       "      <th>year</th>\n",
       "    </tr>\n",
       "    <tr>\n",
       "      <th>date</th>\n",
       "      <th></th>\n",
       "      <th></th>\n",
       "      <th></th>\n",
       "      <th></th>\n",
       "      <th></th>\n",
       "      <th></th>\n",
       "      <th></th>\n",
       "      <th></th>\n",
       "      <th></th>\n",
       "      <th></th>\n",
       "      <th></th>\n",
       "      <th></th>\n",
       "    </tr>\n",
       "  </thead>\n",
       "  <tbody>\n",
       "    <tr>\n",
       "      <th>1999-01-08</th>\n",
       "      <td>141179</td>\n",
       "      <td>9</td>\n",
       "      <td>ISABELLE DELUCA</td>\n",
       "      <td>Yes. It's like my soul sings, I see Rio de Jan...</td>\n",
       "      <td>All Things Considered</td>\n",
       "      <td>Airport Samba</td>\n",
       "      <td>False</td>\n",
       "      <td>yes. it s like my soul sings i see rio de jani...</td>\n",
       "      <td>yes. like soul sings see rio de janiero miss m...</td>\n",
       "      <td>0.5994</td>\n",
       "      <td>Jan</td>\n",
       "      <td>1999</td>\n",
       "    </tr>\n",
       "  </tbody>\n",
       "</table>\n",
       "</div>"
      ],
      "text/plain": [
       "            episode_id  episode_order          speaker  \\\n",
       "date                                                     \n",
       "1999-01-08      141179              9  ISABELLE DELUCA   \n",
       "\n",
       "                                                    utterance  \\\n",
       "date                                                            \n",
       "1999-01-08  Yes. It's like my soul sings, I see Rio de Jan...   \n",
       "\n",
       "                          program          title  is_host  \\\n",
       "date                                                        \n",
       "1999-01-08  All Things Considered  Airport Samba    False   \n",
       "\n",
       "                                                        clean  \\\n",
       "date                                                            \n",
       "1999-01-08  yes. it s like my soul sings i see rio de jani...   \n",
       "\n",
       "                                           lemmatized_stopped  vader_stopped  \\\n",
       "date                                                                           \n",
       "1999-01-08  yes. like soul sings see rio de janiero miss m...         0.5994   \n",
       "\n",
       "           month  year  \n",
       "date                    \n",
       "1999-01-08   Jan  1999  "
      ]
     },
     "execution_count": 12,
     "metadata": {},
     "output_type": "execute_result"
    }
   ],
   "source": [
    "df.head(1)"
   ]
  },
  {
   "cell_type": "code",
   "execution_count": 13,
   "id": "de3d7d45",
   "metadata": {},
   "outputs": [],
   "source": [
    "host_df = df[df.is_host==True]"
   ]
  },
  {
   "cell_type": "code",
   "execution_count": 14,
   "id": "4e1f9353",
   "metadata": {},
   "outputs": [
    {
     "data": {
      "text/plain": [
       "(632305, 12)"
      ]
     },
     "execution_count": 14,
     "metadata": {},
     "output_type": "execute_result"
    }
   ],
   "source": [
    "host_df.shape"
   ]
  },
  {
   "cell_type": "code",
   "execution_count": null,
   "id": "04e9838a",
   "metadata": {},
   "outputs": [],
   "source": []
  },
  {
   "cell_type": "code",
   "execution_count": 15,
   "id": "9bb4af29",
   "metadata": {},
   "outputs": [
    {
     "data": {
      "text/plain": [
       "NEAL CONAN, host         204935\n",
       "IRA FLATOW, host          58172\n",
       "FARAI CHIDEYA, host       36462\n",
       "MADELEINE BRAND, host     26313\n",
       "ROBERT SIEGEL, host       23846\n",
       "                          ...  \n",
       "RENEEE MONTAGNE, host         1\n",
       "Melissa Block, host           1\n",
       "AN, host                      1\n",
       "RENEE INSKEEP, host           1\n",
       "ALEXCHADWICK, host            1\n",
       "Name: speaker, Length: 236, dtype: int64"
      ]
     },
     "execution_count": 15,
     "metadata": {},
     "output_type": "execute_result"
    }
   ],
   "source": [
    "# are there repeats in the host_df? \n",
    "host_df.speaker.value_counts()"
   ]
  },
  {
   "cell_type": "markdown",
   "id": "010f2c63",
   "metadata": {},
   "source": [
    "- I can see two different duplicates for steve inskeep bc of typos\n",
    "- I think this is going to fall into the arena of significantly diminishing returns, and I will not address it at this time"
   ]
  },
  {
   "cell_type": "code",
   "execution_count": 16,
   "id": "a1edfcd2",
   "metadata": {},
   "outputs": [],
   "source": [
    "hosts_with_the_most = host_df.speaker.value_counts().head(12).index.to_list()"
   ]
  },
  {
   "cell_type": "markdown",
   "id": "b335271e",
   "metadata": {},
   "source": [
    "- This is a list of the 12 hosts with the most observations"
   ]
  },
  {
   "cell_type": "code",
   "execution_count": 17,
   "id": "00e9ca50",
   "metadata": {},
   "outputs": [
    {
     "data": {
      "text/plain": [
       "['NEAL CONAN, host',\n",
       " 'IRA FLATOW, host',\n",
       " 'FARAI CHIDEYA, host',\n",
       " 'MADELEINE BRAND, host',\n",
       " 'ROBERT SIEGEL, host',\n",
       " 'STEVE INSKEEP, host',\n",
       " 'ALEX CHADWICK, host',\n",
       " 'MELISSA BLOCK, host',\n",
       " 'RENEE MONTAGNE, host',\n",
       " 'GUY RAZ, host',\n",
       " 'ED GORDON, host',\n",
       " 'MICHELE NORRIS, host']"
      ]
     },
     "execution_count": 17,
     "metadata": {},
     "output_type": "execute_result"
    }
   ],
   "source": [
    "hosts_with_the_most"
   ]
  },
  {
   "cell_type": "code",
   "execution_count": 18,
   "id": "904a1b42",
   "metadata": {},
   "outputs": [],
   "source": [
    "top_hosts_df = df[df.speaker.isin(hosts_with_the_most)]"
   ]
  },
  {
   "cell_type": "code",
   "execution_count": 19,
   "id": "02024c4b",
   "metadata": {},
   "outputs": [
    {
     "data": {
      "text/html": [
       "<div>\n",
       "<style scoped>\n",
       "    .dataframe tbody tr th:only-of-type {\n",
       "        vertical-align: middle;\n",
       "    }\n",
       "\n",
       "    .dataframe tbody tr th {\n",
       "        vertical-align: top;\n",
       "    }\n",
       "\n",
       "    .dataframe thead th {\n",
       "        text-align: right;\n",
       "    }\n",
       "</style>\n",
       "<table border=\"1\" class=\"dataframe\">\n",
       "  <thead>\n",
       "    <tr style=\"text-align: right;\">\n",
       "      <th></th>\n",
       "      <th>episode_id</th>\n",
       "      <th>episode_order</th>\n",
       "      <th>speaker</th>\n",
       "      <th>utterance</th>\n",
       "      <th>program</th>\n",
       "      <th>title</th>\n",
       "      <th>is_host</th>\n",
       "      <th>clean</th>\n",
       "      <th>lemmatized_stopped</th>\n",
       "      <th>vader_stopped</th>\n",
       "      <th>month</th>\n",
       "      <th>year</th>\n",
       "    </tr>\n",
       "    <tr>\n",
       "      <th>date</th>\n",
       "      <th></th>\n",
       "      <th></th>\n",
       "      <th></th>\n",
       "      <th></th>\n",
       "      <th></th>\n",
       "      <th></th>\n",
       "      <th></th>\n",
       "      <th></th>\n",
       "      <th></th>\n",
       "      <th></th>\n",
       "      <th></th>\n",
       "      <th></th>\n",
       "    </tr>\n",
       "  </thead>\n",
       "  <tbody>\n",
       "    <tr>\n",
       "      <th>2004-06-07</th>\n",
       "      <td>135286</td>\n",
       "      <td>35</td>\n",
       "      <td>STEVE INSKEEP, host</td>\n",
       "      <td>The time is 29 minutes past the hour.</td>\n",
       "      <td>Morning Edition</td>\n",
       "      <td>Study Sheds Light on Compulsive Hoarding</td>\n",
       "      <td>True</td>\n",
       "      <td>the time is 29 minutes past the hour .</td>\n",
       "      <td>time 29 minute past hour .</td>\n",
       "      <td>0.0</td>\n",
       "      <td>Jun</td>\n",
       "      <td>2004</td>\n",
       "    </tr>\n",
       "  </tbody>\n",
       "</table>\n",
       "</div>"
      ],
      "text/plain": [
       "            episode_id  episode_order              speaker  \\\n",
       "date                                                         \n",
       "2004-06-07      135286             35  STEVE INSKEEP, host   \n",
       "\n",
       "                                        utterance          program  \\\n",
       "date                                                                 \n",
       "2004-06-07  The time is 29 minutes past the hour.  Morning Edition   \n",
       "\n",
       "                                               title  is_host  \\\n",
       "date                                                            \n",
       "2004-06-07  Study Sheds Light on Compulsive Hoarding     True   \n",
       "\n",
       "                                             clean  \\\n",
       "date                                                 \n",
       "2004-06-07  the time is 29 minutes past the hour .   \n",
       "\n",
       "                    lemmatized_stopped  vader_stopped month  year  \n",
       "date                                                               \n",
       "2004-06-07  time 29 minute past hour .            0.0   Jun  2004  "
      ]
     },
     "execution_count": 19,
     "metadata": {},
     "output_type": "execute_result"
    }
   ],
   "source": [
    "top_hosts_df.head(1)"
   ]
  },
  {
   "cell_type": "code",
   "execution_count": 21,
   "id": "16c36d3f",
   "metadata": {},
   "outputs": [
    {
     "data": {
      "text/plain": [
       "(Timestamp('2004-06-07 00:00:00'), Timestamp('2011-11-10 00:00:00'))"
      ]
     },
     "execution_count": 21,
     "metadata": {},
     "output_type": "execute_result"
    }
   ],
   "source": [
    "top_hosts_df.index.min(), top_hosts_df.index.max()"
   ]
  },
  {
   "cell_type": "code",
   "execution_count": 22,
   "id": "89133500",
   "metadata": {
    "scrolled": true
   },
   "outputs": [
    {
     "data": {
      "text/plain": [
       "0.16464489271365054"
      ]
     },
     "execution_count": 22,
     "metadata": {},
     "output_type": "execute_result"
    }
   ],
   "source": [
    "top_hosts_df.vader_stopped.mean()"
   ]
  },
  {
   "cell_type": "markdown",
   "id": "a5134bea",
   "metadata": {},
   "source": [
    "- Here, we have the average sentiment score for all the top hosts; as you can see, it is relatively neutral in sentiment"
   ]
  },
  {
   "cell_type": "code",
   "execution_count": 23,
   "id": "8e9c48cc",
   "metadata": {},
   "outputs": [
    {
     "data": {
      "image/png": "[encoded data removed]",
      "text/plain": [
       "<Figure size 1440x720 with 1 Axes>"
      ]
     },
     "metadata": {
      "needs_background": "light"
     },
     "output_type": "display_data"
    }
   ],
   "source": [
    "plt.figure(figsize=(20,10))\n",
    "sns.boxplot(data=top_hosts_df, x='speaker',y='vader_stopped')\n",
    "plt.xticks(rotation=90);"
   ]
  },
  {
   "cell_type": "markdown",
   "id": "10fd3d05",
   "metadata": {},
   "source": [
    "- The mean sentiment value is awfully close for everyone here, so i'm going to stats test it with an ANOVA test"
   ]
  },
  {
   "cell_type": "code",
   "execution_count": 24,
   "id": "8452bf31",
   "metadata": {},
   "outputs": [],
   "source": [
    "null_hypothesis = \"Average sentiment score is the same across hosts\"\n",
    "alternative_hypothesis = \"Average sentiment score is different in at least one host of the group\"\n",
    "alpha = 0.01 # Let's be 99% certain the result we see isn't due to chance/randomness"
   ]
  },
  {
   "cell_type": "code",
   "execution_count": 25,
   "id": "3bb22ecc",
   "metadata": {},
   "outputs": [
    {
     "name": "stdout",
     "output_type": "stream",
     "text": [
      "['NEAL_df', 'IRA_df', 'FARAI_df', 'MADELEINE_df', 'ROBERT_df', 'STEVE_df', 'ALEX_df', 'MELISSA_df', 'RENEE_df', 'GUY_df', 'ED_df', 'MICHELE_df']\n"
     ]
    }
   ],
   "source": [
    "host_df_list=[]\n",
    "for host in hosts_with_the_most:\n",
    "    x = host.split()\n",
    "    host_df_list.append(f'{x[0]}_df')\n",
    "print(host_df_list)"
   ]
  },
  {
   "cell_type": "code",
   "execution_count": 26,
   "id": "e67658f9",
   "metadata": {
    "scrolled": true
   },
   "outputs": [],
   "source": [
    "# Let's isolate our hosts\n",
    "NEAL_df = df[df.speaker == 'NEAL CONAN, host'].vader_stopped\n",
    "IRA_df = df[df.speaker == 'IRA FLATOW, host'].vader_stopped\n",
    "FARAI_df = df[df.speaker == 'FARAI CHIDEYA, host'].vader_stopped\n",
    "MADELEINE_df = df[df.speaker == 'MADELEINE BRAND, host'].vader_stopped\n",
    "ROBERT_df = df[df.speaker == 'ROBERT SIEGEL, host'].vader_stopped\n",
    "STEVE_df = df[df.speaker == 'STEVE INSKEEP, host'].vader_stopped\n",
    "ALEX_df = df[df.speaker == 'ALEX CHADWICK, host'].vader_stopped\n",
    "MELISSA_df = df[df.speaker == 'MELISSA BLOCK, host'].vader_stopped\n",
    "RENEE_df = df[df.speaker == 'RENEE MONTAGNE, host'].vader_stopped\n",
    "GUY_df = df[df.speaker == 'GUY RAZ, host'].vader_stopped\n",
    "ED_df = df[df.speaker == 'ED GORDON, host'].vader_stopped\n",
    "MICHELE_df = df[df.speaker == 'MICHELE NORRIS, host'].vader_stopped"
   ]
  },
  {
   "cell_type": "code",
   "execution_count": 29,
   "id": "3c46334a",
   "metadata": {},
   "outputs": [
    {
     "data": {
      "text/plain": [
       "(517.9704631307725, 0.0)"
      ]
     },
     "execution_count": 29,
     "metadata": {},
     "output_type": "execute_result"
    }
   ],
   "source": [
    "# f_oneway is our ANOVA test\n",
    "# See https://docs.scipy.org/doc/scipy/reference/generated/scipy.stats.f_oneway.html for more info\n",
    "from scipy.stats import f_oneway\n",
    "\n",
    "f, p = f_oneway(NEAL_df, IRA_df, FARAI_df, MADELEINE_df, ROBERT_df, STEVE_df, ALEX_df, MELISSA_df, RENEE_df, GUY_df, ED_df, MICHELE_df)\n",
    "f, p"
   ]
  },
  {
   "cell_type": "code",
   "execution_count": 28,
   "id": "659f4473",
   "metadata": {},
   "outputs": [
    {
     "name": "stdout",
     "output_type": "stream",
     "text": [
      "We reject the null hypothesis that Average sentiment score is the same across hosts\n",
      "We move forward with the alternative hypothesis that Average sentiment score is different in at least one host of the group\n"
     ]
    }
   ],
   "source": [
    "if p < alpha:\n",
    "    print(\"We reject the null hypothesis that\", null_hypothesis)\n",
    "    print(\"We move forward with the alternative hypothesis that\", alternative_hypothesis)\n",
    "else:\n",
    "    print(\"We fail to reject the null hypothesis\")\n",
    "    print(\"Evidence does not support the claim that sentiment differs from host to host\")"
   ]
  },
  {
   "cell_type": "code",
   "execution_count": 30,
   "id": "5db3f740",
   "metadata": {},
   "outputs": [
    {
     "data": {
      "image/png": "[encoded data removed]",
      "text/plain": [
       "<Figure size 360x360 with 1 Axes>"
      ]
     },
     "metadata": {
      "needs_background": "light"
     },
     "output_type": "display_data"
    }
   ],
   "source": [
    "sns.catplot(x=\"speaker\", y=\"vader_stopped\", kind=\"bar\", data=top_hosts_df)\n",
    "plt.xticks(rotation=90);"
   ]
  },
  {
   "cell_type": "markdown",
   "id": "92833d12",
   "metadata": {},
   "source": [
    "- Another view of the same...it looks more clear here that there is a difference, however note the small scale on the y axis"
   ]
  },
  {
   "cell_type": "code",
   "execution_count": null,
   "id": "44eaf700",
   "metadata": {},
   "outputs": [],
   "source": []
  },
  {
   "cell_type": "code",
   "execution_count": 32,
   "id": "899e2ee8",
   "metadata": {
    "scrolled": false
   },
   "outputs": [
    {
     "data": {
      "text/html": [
       "<div>\n",
       "<style scoped>\n",
       "    .dataframe tbody tr th:only-of-type {\n",
       "        vertical-align: middle;\n",
       "    }\n",
       "\n",
       "    .dataframe tbody tr th {\n",
       "        vertical-align: top;\n",
       "    }\n",
       "\n",
       "    .dataframe thead th {\n",
       "        text-align: right;\n",
       "    }\n",
       "</style>\n",
       "<table border=\"1\" class=\"dataframe\">\n",
       "  <thead>\n",
       "    <tr style=\"text-align: right;\">\n",
       "      <th></th>\n",
       "      <th>episode_id</th>\n",
       "      <th>episode_order</th>\n",
       "      <th>speaker</th>\n",
       "      <th>utterance</th>\n",
       "      <th>program</th>\n",
       "      <th>title</th>\n",
       "      <th>is_host</th>\n",
       "      <th>clean</th>\n",
       "      <th>lemmatized_stopped</th>\n",
       "      <th>vader_stopped</th>\n",
       "      <th>month</th>\n",
       "      <th>year</th>\n",
       "    </tr>\n",
       "    <tr>\n",
       "      <th>date</th>\n",
       "      <th></th>\n",
       "      <th></th>\n",
       "      <th></th>\n",
       "      <th></th>\n",
       "      <th></th>\n",
       "      <th></th>\n",
       "      <th></th>\n",
       "      <th></th>\n",
       "      <th></th>\n",
       "      <th></th>\n",
       "      <th></th>\n",
       "      <th></th>\n",
       "    </tr>\n",
       "  </thead>\n",
       "  <tbody>\n",
       "    <tr>\n",
       "      <th>2004-06-07</th>\n",
       "      <td>135286</td>\n",
       "      <td>35</td>\n",
       "      <td>STEVE INSKEEP, host</td>\n",
       "      <td>The time is 29 minutes past the hour.</td>\n",
       "      <td>Morning Edition</td>\n",
       "      <td>Study Sheds Light on Compulsive Hoarding</td>\n",
       "      <td>True</td>\n",
       "      <td>the time is 29 minutes past the hour .</td>\n",
       "      <td>time 29 minute past hour .</td>\n",
       "      <td>0.0</td>\n",
       "      <td>Jun</td>\n",
       "      <td>2004</td>\n",
       "    </tr>\n",
       "  </tbody>\n",
       "</table>\n",
       "</div>"
      ],
      "text/plain": [
       "            episode_id  episode_order              speaker  \\\n",
       "date                                                         \n",
       "2004-06-07      135286             35  STEVE INSKEEP, host   \n",
       "\n",
       "                                        utterance          program  \\\n",
       "date                                                                 \n",
       "2004-06-07  The time is 29 minutes past the hour.  Morning Edition   \n",
       "\n",
       "                                               title  is_host  \\\n",
       "date                                                            \n",
       "2004-06-07  Study Sheds Light on Compulsive Hoarding     True   \n",
       "\n",
       "                                             clean  \\\n",
       "date                                                 \n",
       "2004-06-07  the time is 29 minutes past the hour .   \n",
       "\n",
       "                    lemmatized_stopped  vader_stopped month  year  \n",
       "date                                                               \n",
       "2004-06-07  time 29 minute past hour .            0.0   Jun  2004  "
      ]
     },
     "execution_count": 32,
     "metadata": {},
     "output_type": "execute_result"
    }
   ],
   "source": [
    "top_hosts_df.head(1)"
   ]
  },
  {
   "cell_type": "markdown",
   "id": "054ac1c9",
   "metadata": {},
   "source": [
    "### The conclusion to the above is that there is a statistically significant difference in sentiment in the top hosts group, even if it is small."
   ]
  },
  {
   "cell_type": "markdown",
   "id": "bc3902e7",
   "metadata": {},
   "source": [
    "## What's the difference in sentiment score between hosts and non-hosts?"
   ]
  },
  {
   "cell_type": "code",
   "execution_count": 34,
   "id": "2d0675d5",
   "metadata": {},
   "outputs": [],
   "source": [
    "non_host_df = df[df.is_host==False]"
   ]
  },
  {
   "cell_type": "code",
   "execution_count": null,
   "id": "99c01c73",
   "metadata": {},
   "outputs": [],
   "source": [
    "plt.figure\n",
    "plt.boxplot(data=df, x=)"
   ]
  }
 ],
 "metadata": {
  "kernelspec": {
   "display_name": "Python 3",
   "language": "python",
   "name": "python3"
  },
  "language_info": {
   "codemirror_mode": {
    "name": "ipython",
    "version": 3
   },
   "file_extension": ".py",
   "mimetype": "text/x-python",
   "name": "python",
   "nbconvert_exporter": "python",
   "pygments_lexer": "ipython3",
   "version": "3.8.8"
  }
 },
 "nbformat": 4,
 "nbformat_minor": 5
}
