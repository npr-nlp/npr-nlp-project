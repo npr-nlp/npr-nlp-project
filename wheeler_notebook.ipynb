{
 "cells": [
  {
   "cell_type": "code",
   "execution_count": 1,
   "metadata": {},
   "outputs": [],
   "source": [
    "# Import all the things\n",
    "\n",
    "import json\n",
    "import pandas as pd\n",
    "import numpy as np\n",
    "\n",
    "import acquire\n",
    "from prepare import basic_clean, tokenize, lemmatize, stem, remove_stopwords, split_data, prep_string_data\n",
    "\n",
    "import re\n",
    "from sklearn.feature_extraction.text import TfidfVectorizer\n",
    "\n",
    "from wordcloud import WordCloud\n",
    "from matplotlib import pyplot as plt\n",
    "import seaborn as sns\n",
    "\n",
    "import nltk\n",
    "\n",
    "from scipy import stats\n",
    "\n",
    "import warnings\n",
    "warnings.filterwarnings(\"ignore\")"
   ]
  },
  {
   "cell_type": "markdown",
   "metadata": {},
   "source": [
    "### Acquire"
   ]
  },
  {
   "cell_type": "code",
   "execution_count": 2,
   "metadata": {},
   "outputs": [],
   "source": [
    "# df = pd.read_csv('./utterances.csv')\n",
    "# ep_df = pd.read_csv('./episodes.csv')\n"
   ]
  },
  {
   "cell_type": "code",
   "execution_count": 3,
   "metadata": {},
   "outputs": [],
   "source": [
    "# df.head()"
   ]
  },
  {
   "cell_type": "code",
   "execution_count": 4,
   "metadata": {},
   "outputs": [],
   "source": [
    "# ep_df.head()"
   ]
  },
  {
   "cell_type": "code",
   "execution_count": 5,
   "metadata": {},
   "outputs": [],
   "source": [
    "# # joining utterances df ('df') and episodes on 'id'\n",
    "# joined_df = pd.merge(df, ep_df, left_on = 'episode', right_on='id', how = 'inner')\n",
    "# joined_df.drop(columns = ['id'], inplace=True)\n",
    "# joined_df.rename(columns={'episode':'episode_id'}, inplace = True)"
   ]
  },
  {
   "cell_type": "code",
   "execution_count": 6,
   "metadata": {},
   "outputs": [],
   "source": [
    "# joined_df['is_host'] = joined_df.speaker.str.contains(r'\\W*(host)\\W*')"
   ]
  },
  {
   "cell_type": "code",
   "execution_count": 7,
   "metadata": {},
   "outputs": [],
   "source": [
    "# host_map = pd.read_json('host-map.json')\n",
    "# host_map.head()"
   ]
  },
  {
   "cell_type": "code",
   "execution_count": 8,
   "metadata": {},
   "outputs": [],
   "source": [
    "# host_id = pd.read_json('host_id.json',typ='series')\n",
    "# host_id.head()"
   ]
  },
  {
   "cell_type": "code",
   "execution_count": 9,
   "metadata": {},
   "outputs": [],
   "source": [
    "# inv_hosts = {v: k for k, v in host_id.items()}"
   ]
  },
  {
   "cell_type": "code",
   "execution_count": 10,
   "metadata": {},
   "outputs": [],
   "source": [
    "df = acquire.get_df()"
   ]
  },
  {
   "cell_type": "code",
   "execution_count": 11,
   "metadata": {},
   "outputs": [
    {
     "data": {
      "text/html": [
       "<div>\n",
       "<style scoped>\n",
       "    .dataframe tbody tr th:only-of-type {\n",
       "        vertical-align: middle;\n",
       "    }\n",
       "\n",
       "    .dataframe tbody tr th {\n",
       "        vertical-align: top;\n",
       "    }\n",
       "\n",
       "    .dataframe thead th {\n",
       "        text-align: right;\n",
       "    }\n",
       "</style>\n",
       "<table border=\"1\" class=\"dataframe\">\n",
       "  <thead>\n",
       "    <tr style=\"text-align: right;\">\n",
       "      <th></th>\n",
       "      <th>episode_id</th>\n",
       "      <th>episode_order</th>\n",
       "      <th>speaker</th>\n",
       "      <th>utterance</th>\n",
       "      <th>program</th>\n",
       "      <th>title</th>\n",
       "      <th>episode_date</th>\n",
       "      <th>is_host</th>\n",
       "    </tr>\n",
       "  </thead>\n",
       "  <tbody>\n",
       "    <tr>\n",
       "      <th>0</th>\n",
       "      <td>57264</td>\n",
       "      <td>9</td>\n",
       "      <td>Ms. LOREN MOONEY (Editor-in-Chief, Bicycling M...</td>\n",
       "      <td>It's a 2,200-mile race. To give some sense of ...</td>\n",
       "      <td>Talk of the Nation</td>\n",
       "      <td>How To Watch The Tour De France</td>\n",
       "      <td>2010-07-12</td>\n",
       "      <td>False</td>\n",
       "    </tr>\n",
       "    <tr>\n",
       "      <th>1</th>\n",
       "      <td>57264</td>\n",
       "      <td>10</td>\n",
       "      <td>Ms. LOREN MOONEY (Editor-in-Chief, Bicycling M...</td>\n",
       "      <td>So for a top competitor like Lance to try to m...</td>\n",
       "      <td>Talk of the Nation</td>\n",
       "      <td>How To Watch The Tour De France</td>\n",
       "      <td>2010-07-12</td>\n",
       "      <td>False</td>\n",
       "    </tr>\n",
       "    <tr>\n",
       "      <th>2</th>\n",
       "      <td>57264</td>\n",
       "      <td>11</td>\n",
       "      <td>NEAL CONAN, host</td>\n",
       "      <td>So in every team, presumably there's one star,...</td>\n",
       "      <td>Talk of the Nation</td>\n",
       "      <td>How To Watch The Tour De France</td>\n",
       "      <td>2010-07-12</td>\n",
       "      <td>True</td>\n",
       "    </tr>\n",
       "    <tr>\n",
       "      <th>3</th>\n",
       "      <td>57264</td>\n",
       "      <td>12</td>\n",
       "      <td>Ms. LOREN MOONEY (Editor-in-Chief, Bicycling M...</td>\n",
       "      <td>That's right. Each team has nine riders. And w...</td>\n",
       "      <td>Talk of the Nation</td>\n",
       "      <td>How To Watch The Tour De France</td>\n",
       "      <td>2010-07-12</td>\n",
       "      <td>False</td>\n",
       "    </tr>\n",
       "    <tr>\n",
       "      <th>4</th>\n",
       "      <td>57264</td>\n",
       "      <td>13</td>\n",
       "      <td>NEAL CONAN, host</td>\n",
       "      <td>So slipstream, this is like drafting in car ra...</td>\n",
       "      <td>Talk of the Nation</td>\n",
       "      <td>How To Watch The Tour De France</td>\n",
       "      <td>2010-07-12</td>\n",
       "      <td>True</td>\n",
       "    </tr>\n",
       "  </tbody>\n",
       "</table>\n",
       "</div>"
      ],
      "text/plain": [
       "   episode_id  episode_order  \\\n",
       "0       57264              9   \n",
       "1       57264             10   \n",
       "2       57264             11   \n",
       "3       57264             12   \n",
       "4       57264             13   \n",
       "\n",
       "                                             speaker  \\\n",
       "0  Ms. LOREN MOONEY (Editor-in-Chief, Bicycling M...   \n",
       "1  Ms. LOREN MOONEY (Editor-in-Chief, Bicycling M...   \n",
       "2                                   NEAL CONAN, host   \n",
       "3  Ms. LOREN MOONEY (Editor-in-Chief, Bicycling M...   \n",
       "4                                   NEAL CONAN, host   \n",
       "\n",
       "                                           utterance             program  \\\n",
       "0  It's a 2,200-mile race. To give some sense of ...  Talk of the Nation   \n",
       "1  So for a top competitor like Lance to try to m...  Talk of the Nation   \n",
       "2  So in every team, presumably there's one star,...  Talk of the Nation   \n",
       "3  That's right. Each team has nine riders. And w...  Talk of the Nation   \n",
       "4  So slipstream, this is like drafting in car ra...  Talk of the Nation   \n",
       "\n",
       "                             title episode_date  is_host  \n",
       "0  How To Watch The Tour De France   2010-07-12    False  \n",
       "1  How To Watch The Tour De France   2010-07-12    False  \n",
       "2  How To Watch The Tour De France   2010-07-12     True  \n",
       "3  How To Watch The Tour De France   2010-07-12    False  \n",
       "4  How To Watch The Tour De France   2010-07-12     True  "
      ]
     },
     "execution_count": 11,
     "metadata": {},
     "output_type": "execute_result"
    }
   ],
   "source": [
    "df.head()"
   ]
  },
  {
   "cell_type": "code",
   "execution_count": 12,
   "metadata": {},
   "outputs": [
    {
     "data": {
      "text/plain": [
       "0          It's a 2,200-mile race. To give some sense of ...\n",
       "1          So for a top competitor like Lance to try to m...\n",
       "2          So in every team, presumably there's one star,...\n",
       "3          That's right. Each team has nine riders. And w...\n",
       "4          So slipstream, this is like drafting in car ra...\n",
       "                                 ...                        \n",
       "3199853                         Oh, I don't know about that.\n",
       "3199854                                           (LAUGHTER)\n",
       "3199855    Ray Magliozzi, co-host of the longtime NPR pro...\n",
       "3199856      Nice to talk to you, too, Robert - my pleasure.\n",
       "3199857    (SOUNDBITE OF CHICORY TIP SONG, \"SON OF MY FAT...\n",
       "Name: utterance, Length: 3199858, dtype: object"
      ]
     },
     "execution_count": 12,
     "metadata": {},
     "output_type": "execute_result"
    }
   ],
   "source": [
    "df.utterance.astype(str)"
   ]
  },
  {
   "cell_type": "markdown",
   "metadata": {},
   "source": [
    "## Preparation"
   ]
  },
  {
   "cell_type": "markdown",
   "metadata": {},
   "source": [
    "- nulls\n",
    "- duplicates\n",
    "- create sentiment score\n",
    "- use prep functions\n",
    "- keep some punctuation\n",
    "- split\n",
    "- date to datetime"
   ]
  },
  {
   "cell_type": "code",
   "execution_count": 31,
   "metadata": {},
   "outputs": [],
   "source": [
    "# drop nulls\n",
    "df.dropna(inplace=True)"
   ]
  },
  {
   "cell_type": "code",
   "execution_count": 32,
   "metadata": {},
   "outputs": [],
   "source": [
    "# drop duplicates\n",
    "df.drop_duplicates(inplace = True)"
   ]
  },
  {
   "cell_type": "code",
   "execution_count": 33,
   "metadata": {},
   "outputs": [],
   "source": [
    "# remove rows without speaker (sounde effects)\n",
    "df = df[df.speaker!='_NO_SPEAKER']"
   ]
  },
  {
   "cell_type": "code",
   "execution_count": 34,
   "metadata": {},
   "outputs": [],
   "source": [
    "# remove rows with foreign languages spoken\n",
    "df = df[df.utterance!='(Foreign language spoken)']\n"
   ]
  },
  {
   "cell_type": "code",
   "execution_count": 39,
   "metadata": {},
   "outputs": [],
   "source": [
    "df['utterance'] = df.utterance.astype(str)"
   ]
  },
  {
   "cell_type": "code",
   "execution_count": 40,
   "metadata": {},
   "outputs": [
    {
     "ename": "KeyError",
     "evalue": "\"None of [Index(['It's a 2,200-mile race. To give some sense of perspective, that's roughly the distance between Washington, D.C. and Las Vegas. They do it over the course of three weeks at very fast speeds. But incredibly, oftentimes the distance between first and second is somewhere between and one and three minutes.',\\n       'So for a top competitor like Lance to try to make up that much time -he's now 13 minutes, 26 seconds behind the current race leader, Cadel Evans of Australia. And even Lance said yesterday that for him, the -any chance of winning the tour has gone out the window. He still does have a teammate on his team, RadioShack team, American Levi Leipheimer currently in eighth place, two minutes, 14 seconds back. And Lance is going to do what he can to help Leipheimer do well.',\\n       'So in every team, presumably there's one star, one equivalent to Lance Armstrong and the other team - the rest of the teammates project him, do what they can to help him succeed?',\\n       'That's right. Each team has nine riders. And what you have is basically the team leader, sort of your queen bee, and then eight worker bees working to keep that queen safe and happy for when the decisive moments of the race come. In cycling, a lot of the energy goes toward actually battling wind resistance. So if you're riding behind another rider, you can be using up to 30 percent less energy because you're in that slipstream of the rider who's battling the wind. So team riders will ride on the front, protect their leader. You'll often see a team member drift back to the team car to fetch water bottles to keep their leader well hydrated.',\\n       'So slipstream, this is like drafting in car racing, right?',\\n       'That's exactly right.',\\n       'And so the guy who's in back has an easier time. And even when there are people in front on a breakaway, for example, who are from different teams, three or four riders, you will see them switch back and forth rather congenially so the same person isn't in front all the time.',\\n       'That's right. There's a lot of deal making that can go on in those breakaways. And oftentimes, they'll share the work until a time when they've determined it's every man for himself. But up until then, they form a sort of de facto team. And then sometimes you can see they've actually decided who might be able to win the stage that day. And these wagers can be for anything, for future favors, for money, for other things that they determine are valuable.',\\n       'We're talking with Loren Mooney, the editor-in-chief of Bicycling Magazine. She's at our bureau in New York. Why do you watch the Tour de France? So we want to hear from our bicycling audience today. 800-989-8255. Email us: talk@npr.org. And we'll start with John(ph), John with us from San Francisco.',\\n       'Hello.',\\n       ...\\n       'Let's work backwards. On February 8 in the Bronx, a shot was fired inside a high school. No one was injured.',\\n       'On February 5, two shootings - one, a student was shot in the parking lot at Oxon Hill High School in Maryland.',\\n       'UNIDENTIFIED MAN #1: That victim, said to be a male in 11th grade, then ran into the school for help before collapsing.',\\n       'He survived.',\\n       'That same day at a special education center in Minnesota, a third grader pulled the trigger on a police officer's gun. No one was injured.',\\n       'On February 1 in Los Angeles...',\\n       'UNIDENTIFIED MAN #2: Terrifying moments inside a California middle school - students under lockdown, a 12-year-old girl with a gun.',\\n       'That girl brought a gun to school, and it accidentally went off when she dropped her backpack. Two students were shot.',\\n       'On January 31 - gunshots outside a high school in Philadelphia. A 32-year-old man died.',\\n       'January 26, shots were fired in a high school parking lot in Dearborn, Mich. No one was injured.'],\\n      dtype='object', length=2998283)] are in the [columns]\"",
     "output_type": "error",
     "traceback": [
      "\u001b[0;31m---------------------------------------------------------------------------\u001b[0m",
      "\u001b[0;31mKeyError\u001b[0m                                  Traceback (most recent call last)",
      "\u001b[0;32m<ipython-input-40-ba93b7fa1af1>\u001b[0m in \u001b[0;36m<module>\u001b[0;34m\u001b[0m\n\u001b[0;32m----> 1\u001b[0;31m \u001b[0mdf\u001b[0m \u001b[0;34m=\u001b[0m \u001b[0mprep_string_data\u001b[0m\u001b[0;34m(\u001b[0m\u001b[0mdf\u001b[0m\u001b[0;34m,\u001b[0m \u001b[0mdf\u001b[0m\u001b[0;34m.\u001b[0m\u001b[0mutterance\u001b[0m\u001b[0;34m)\u001b[0m\u001b[0;34m\u001b[0m\u001b[0;34m\u001b[0m\u001b[0m\n\u001b[0m",
      "\u001b[0;32m~/codeup-data-science/npr-nlp-project/prepare.py\u001b[0m in \u001b[0;36mprep_string_data\u001b[0;34m(df, column, extra_words, exclude_words)\u001b[0m\n\u001b[1;32m     93\u001b[0m     \u001b[0moriginal\u001b[0m \u001b[0mcolumn\u001b[0m\u001b[0;34m,\u001b[0m \u001b[0;32mand\u001b[0m \u001b[0mclean\u001b[0m\u001b[0;34m,\u001b[0m \u001b[0mstemmed\u001b[0m\u001b[0;34m,\u001b[0m \u001b[0;32mand\u001b[0m \u001b[0mlemmatized\u001b[0m \u001b[0mversions\u001b[0m \u001b[0mof\u001b[0m \u001b[0mthe\u001b[0m \u001b[0mcolumn\u001b[0m\u001b[0;34m.\u001b[0m\u001b[0;34m\u001b[0m\u001b[0;34m\u001b[0m\u001b[0m\n\u001b[1;32m     94\u001b[0m     '''\n\u001b[0;32m---> 95\u001b[0;31m     \u001b[0mdf\u001b[0m\u001b[0;34m[\u001b[0m\u001b[0;34m'clean'\u001b[0m\u001b[0;34m]\u001b[0m \u001b[0;34m=\u001b[0m \u001b[0mdf\u001b[0m\u001b[0;34m[\u001b[0m\u001b[0mcolumn\u001b[0m\u001b[0;34m]\u001b[0m\u001b[0;34m.\u001b[0m\u001b[0mapply\u001b[0m\u001b[0;34m(\u001b[0m\u001b[0mbasic_clean\u001b[0m\u001b[0;34m)\u001b[0m\u001b[0;34m.\u001b[0m\u001b[0mapply\u001b[0m\u001b[0;34m(\u001b[0m\u001b[0mtokenize\u001b[0m\u001b[0;34m)\u001b[0m\u001b[0;34m.\u001b[0m\u001b[0mapply\u001b[0m\u001b[0;34m(\u001b[0m\u001b[0mremove_stopwords\u001b[0m\u001b[0;34m,\u001b[0m \u001b[0mextra_words\u001b[0m\u001b[0;34m=\u001b[0m\u001b[0mextra_words\u001b[0m\u001b[0;34m,\u001b[0m \u001b[0mexclude_words\u001b[0m\u001b[0;34m=\u001b[0m\u001b[0mexclude_words\u001b[0m\u001b[0;34m)\u001b[0m\u001b[0;34m\u001b[0m\u001b[0;34m\u001b[0m\u001b[0m\n\u001b[0m\u001b[1;32m     96\u001b[0m \u001b[0;34m\u001b[0m\u001b[0m\n\u001b[1;32m     97\u001b[0m     \u001b[0mdf\u001b[0m\u001b[0;34m[\u001b[0m\u001b[0;34m'stemmed'\u001b[0m\u001b[0;34m]\u001b[0m \u001b[0;34m=\u001b[0m \u001b[0mdf\u001b[0m\u001b[0;34m[\u001b[0m\u001b[0;34m'clean'\u001b[0m\u001b[0;34m]\u001b[0m\u001b[0;34m.\u001b[0m\u001b[0mapply\u001b[0m\u001b[0;34m(\u001b[0m\u001b[0mtokenize\u001b[0m\u001b[0;34m)\u001b[0m\u001b[0;34m.\u001b[0m\u001b[0mapply\u001b[0m\u001b[0;34m(\u001b[0m\u001b[0mstem\u001b[0m\u001b[0;34m)\u001b[0m\u001b[0;34m\u001b[0m\u001b[0;34m\u001b[0m\u001b[0m\n",
      "\u001b[0;32m/opt/homebrew/anaconda3/lib/python3.8/site-packages/pandas/core/frame.py\u001b[0m in \u001b[0;36m__getitem__\u001b[0;34m(self, key)\u001b[0m\n\u001b[1;32m   3028\u001b[0m             \u001b[0;32mif\u001b[0m \u001b[0mis_iterator\u001b[0m\u001b[0;34m(\u001b[0m\u001b[0mkey\u001b[0m\u001b[0;34m)\u001b[0m\u001b[0;34m:\u001b[0m\u001b[0;34m\u001b[0m\u001b[0;34m\u001b[0m\u001b[0m\n\u001b[1;32m   3029\u001b[0m                 \u001b[0mkey\u001b[0m \u001b[0;34m=\u001b[0m \u001b[0mlist\u001b[0m\u001b[0;34m(\u001b[0m\u001b[0mkey\u001b[0m\u001b[0;34m)\u001b[0m\u001b[0;34m\u001b[0m\u001b[0;34m\u001b[0m\u001b[0m\n\u001b[0;32m-> 3030\u001b[0;31m             \u001b[0mindexer\u001b[0m \u001b[0;34m=\u001b[0m \u001b[0mself\u001b[0m\u001b[0;34m.\u001b[0m\u001b[0mloc\u001b[0m\u001b[0;34m.\u001b[0m\u001b[0m_get_listlike_indexer\u001b[0m\u001b[0;34m(\u001b[0m\u001b[0mkey\u001b[0m\u001b[0;34m,\u001b[0m \u001b[0maxis\u001b[0m\u001b[0;34m=\u001b[0m\u001b[0;36m1\u001b[0m\u001b[0;34m,\u001b[0m \u001b[0mraise_missing\u001b[0m\u001b[0;34m=\u001b[0m\u001b[0;32mTrue\u001b[0m\u001b[0;34m)\u001b[0m\u001b[0;34m[\u001b[0m\u001b[0;36m1\u001b[0m\u001b[0;34m]\u001b[0m\u001b[0;34m\u001b[0m\u001b[0;34m\u001b[0m\u001b[0m\n\u001b[0m\u001b[1;32m   3031\u001b[0m \u001b[0;34m\u001b[0m\u001b[0m\n\u001b[1;32m   3032\u001b[0m         \u001b[0;31m# take() does not accept boolean indexers\u001b[0m\u001b[0;34m\u001b[0m\u001b[0;34m\u001b[0m\u001b[0;34m\u001b[0m\u001b[0m\n",
      "\u001b[0;32m/opt/homebrew/anaconda3/lib/python3.8/site-packages/pandas/core/indexing.py\u001b[0m in \u001b[0;36m_get_listlike_indexer\u001b[0;34m(self, key, axis, raise_missing)\u001b[0m\n\u001b[1;32m   1264\u001b[0m             \u001b[0mkeyarr\u001b[0m\u001b[0;34m,\u001b[0m \u001b[0mindexer\u001b[0m\u001b[0;34m,\u001b[0m \u001b[0mnew_indexer\u001b[0m \u001b[0;34m=\u001b[0m \u001b[0max\u001b[0m\u001b[0;34m.\u001b[0m\u001b[0m_reindex_non_unique\u001b[0m\u001b[0;34m(\u001b[0m\u001b[0mkeyarr\u001b[0m\u001b[0;34m)\u001b[0m\u001b[0;34m\u001b[0m\u001b[0;34m\u001b[0m\u001b[0m\n\u001b[1;32m   1265\u001b[0m \u001b[0;34m\u001b[0m\u001b[0m\n\u001b[0;32m-> 1266\u001b[0;31m         \u001b[0mself\u001b[0m\u001b[0;34m.\u001b[0m\u001b[0m_validate_read_indexer\u001b[0m\u001b[0;34m(\u001b[0m\u001b[0mkeyarr\u001b[0m\u001b[0;34m,\u001b[0m \u001b[0mindexer\u001b[0m\u001b[0;34m,\u001b[0m \u001b[0maxis\u001b[0m\u001b[0;34m,\u001b[0m \u001b[0mraise_missing\u001b[0m\u001b[0;34m=\u001b[0m\u001b[0mraise_missing\u001b[0m\u001b[0;34m)\u001b[0m\u001b[0;34m\u001b[0m\u001b[0;34m\u001b[0m\u001b[0m\n\u001b[0m\u001b[1;32m   1267\u001b[0m         \u001b[0;32mreturn\u001b[0m \u001b[0mkeyarr\u001b[0m\u001b[0;34m,\u001b[0m \u001b[0mindexer\u001b[0m\u001b[0;34m\u001b[0m\u001b[0;34m\u001b[0m\u001b[0m\n\u001b[1;32m   1268\u001b[0m \u001b[0;34m\u001b[0m\u001b[0m\n",
      "\u001b[0;32m/opt/homebrew/anaconda3/lib/python3.8/site-packages/pandas/core/indexing.py\u001b[0m in \u001b[0;36m_validate_read_indexer\u001b[0;34m(self, key, indexer, axis, raise_missing)\u001b[0m\n\u001b[1;32m   1306\u001b[0m             \u001b[0;32mif\u001b[0m \u001b[0mmissing\u001b[0m \u001b[0;34m==\u001b[0m \u001b[0mlen\u001b[0m\u001b[0;34m(\u001b[0m\u001b[0mindexer\u001b[0m\u001b[0;34m)\u001b[0m\u001b[0;34m:\u001b[0m\u001b[0;34m\u001b[0m\u001b[0;34m\u001b[0m\u001b[0m\n\u001b[1;32m   1307\u001b[0m                 \u001b[0maxis_name\u001b[0m \u001b[0;34m=\u001b[0m \u001b[0mself\u001b[0m\u001b[0;34m.\u001b[0m\u001b[0mobj\u001b[0m\u001b[0;34m.\u001b[0m\u001b[0m_get_axis_name\u001b[0m\u001b[0;34m(\u001b[0m\u001b[0maxis\u001b[0m\u001b[0;34m)\u001b[0m\u001b[0;34m\u001b[0m\u001b[0;34m\u001b[0m\u001b[0m\n\u001b[0;32m-> 1308\u001b[0;31m                 \u001b[0;32mraise\u001b[0m \u001b[0mKeyError\u001b[0m\u001b[0;34m(\u001b[0m\u001b[0;34mf\"None of [{key}] are in the [{axis_name}]\"\u001b[0m\u001b[0;34m)\u001b[0m\u001b[0;34m\u001b[0m\u001b[0;34m\u001b[0m\u001b[0m\n\u001b[0m\u001b[1;32m   1309\u001b[0m \u001b[0;34m\u001b[0m\u001b[0m\n\u001b[1;32m   1310\u001b[0m             \u001b[0max\u001b[0m \u001b[0;34m=\u001b[0m \u001b[0mself\u001b[0m\u001b[0;34m.\u001b[0m\u001b[0mobj\u001b[0m\u001b[0;34m.\u001b[0m\u001b[0m_get_axis\u001b[0m\u001b[0;34m(\u001b[0m\u001b[0maxis\u001b[0m\u001b[0;34m)\u001b[0m\u001b[0;34m\u001b[0m\u001b[0;34m\u001b[0m\u001b[0m\n",
      "\u001b[0;31mKeyError\u001b[0m: \"None of [Index(['It's a 2,200-mile race. To give some sense of perspective, that's roughly the distance between Washington, D.C. and Las Vegas. They do it over the course of three weeks at very fast speeds. But incredibly, oftentimes the distance between first and second is somewhere between and one and three minutes.',\\n       'So for a top competitor like Lance to try to make up that much time -he's now 13 minutes, 26 seconds behind the current race leader, Cadel Evans of Australia. And even Lance said yesterday that for him, the -any chance of winning the tour has gone out the window. He still does have a teammate on his team, RadioShack team, American Levi Leipheimer currently in eighth place, two minutes, 14 seconds back. And Lance is going to do what he can to help Leipheimer do well.',\\n       'So in every team, presumably there's one star, one equivalent to Lance Armstrong and the other team - the rest of the teammates project him, do what they can to help him succeed?',\\n       'That's right. Each team has nine riders. And what you have is basically the team leader, sort of your queen bee, and then eight worker bees working to keep that queen safe and happy for when the decisive moments of the race come. In cycling, a lot of the energy goes toward actually battling wind resistance. So if you're riding behind another rider, you can be using up to 30 percent less energy because you're in that slipstream of the rider who's battling the wind. So team riders will ride on the front, protect their leader. You'll often see a team member drift back to the team car to fetch water bottles to keep their leader well hydrated.',\\n       'So slipstream, this is like drafting in car racing, right?',\\n       'That's exactly right.',\\n       'And so the guy who's in back has an easier time. And even when there are people in front on a breakaway, for example, who are from different teams, three or four riders, you will see them switch back and forth rather congenially so the same person isn't in front all the time.',\\n       'That's right. There's a lot of deal making that can go on in those breakaways. And oftentimes, they'll share the work until a time when they've determined it's every man for himself. But up until then, they form a sort of de facto team. And then sometimes you can see they've actually decided who might be able to win the stage that day. And these wagers can be for anything, for future favors, for money, for other things that they determine are valuable.',\\n       'We're talking with Loren Mooney, the editor-in-chief of Bicycling Magazine. She's at our bureau in New York. Why do you watch the Tour de France? So we want to hear from our bicycling audience today. 800-989-8255. Email us: talk@npr.org. And we'll start with John(ph), John with us from San Francisco.',\\n       'Hello.',\\n       ...\\n       'Let's work backwards. On February 8 in the Bronx, a shot was fired inside a high school. No one was injured.',\\n       'On February 5, two shootings - one, a student was shot in the parking lot at Oxon Hill High School in Maryland.',\\n       'UNIDENTIFIED MAN #1: That victim, said to be a male in 11th grade, then ran into the school for help before collapsing.',\\n       'He survived.',\\n       'That same day at a special education center in Minnesota, a third grader pulled the trigger on a police officer's gun. No one was injured.',\\n       'On February 1 in Los Angeles...',\\n       'UNIDENTIFIED MAN #2: Terrifying moments inside a California middle school - students under lockdown, a 12-year-old girl with a gun.',\\n       'That girl brought a gun to school, and it accidentally went off when she dropped her backpack. Two students were shot.',\\n       'On January 31 - gunshots outside a high school in Philadelphia. A 32-year-old man died.',\\n       'January 26, shots were fired in a high school parking lot in Dearborn, Mich. No one was injured.'],\\n      dtype='object', length=2998283)] are in the [columns]\""
     ]
    }
   ],
   "source": [
    "df = prep_string_data(df, df.utterance)"
   ]
  },
  {
   "cell_type": "code",
   "execution_count": 35,
   "metadata": {},
   "outputs": [
    {
     "data": {
      "image/png": "[encoded data removed]",
      "text/plain": [
       "<Figure size 864x576 with 1 Axes>"
      ]
     },
     "metadata": {
      "needs_background": "light"
     },
     "output_type": "display_data"
    }
   ],
   "source": [
    "# Calculate bigrams\n",
    "bigrams = (pd.Series(nltk.ngrams(df.utterance, 2))\n",
    "                      .value_counts()\n",
    "                      .head(20))\n",
    "# Vizualize Bigrams\n",
    "bigrams.sort_values().plot.barh(color = 'mediumorchid', width=.9, figsize=(12, 8))\n",
    "\n",
    "plt.title('20 Top Bigrams')\n",
    "plt.ylabel('Bigram')\n",
    "plt.xlabel('# Occurances')\n",
    "\n",
    "# make the labels pretty\n",
    "ticks, _ = plt.yticks()\n",
    "labels = bigrams.reset_index()['index'].apply(lambda t: t[0] + ' ' + t[1])\n",
    "_ = plt.yticks(ticks, labels)"
   ]
  },
  {
   "cell_type": "code",
   "execution_count": null,
   "metadata": {},
   "outputs": [],
   "source": []
  },
  {
   "cell_type": "code",
   "execution_count": null,
   "metadata": {},
   "outputs": [],
   "source": []
  },
  {
   "cell_type": "code",
   "execution_count": null,
   "metadata": {},
   "outputs": [],
   "source": []
  },
  {
   "cell_type": "markdown",
   "metadata": {},
   "source": [
    "## Initial Planning Analysis"
   ]
  },
  {
   "cell_type": "code",
   "execution_count": 19,
   "metadata": {},
   "outputs": [
    {
     "data": {
      "text/html": [
       "<div>\n",
       "<style scoped>\n",
       "    .dataframe tbody tr th:only-of-type {\n",
       "        vertical-align: middle;\n",
       "    }\n",
       "\n",
       "    .dataframe tbody tr th {\n",
       "        vertical-align: top;\n",
       "    }\n",
       "\n",
       "    .dataframe thead th {\n",
       "        text-align: right;\n",
       "    }\n",
       "</style>\n",
       "<table border=\"1\" class=\"dataframe\">\n",
       "  <thead>\n",
       "    <tr style=\"text-align: right;\">\n",
       "      <th></th>\n",
       "      <th>episode</th>\n",
       "      <th>episode_order</th>\n",
       "      <th>speaker</th>\n",
       "      <th>utterance</th>\n",
       "    </tr>\n",
       "  </thead>\n",
       "  <tbody>\n",
       "    <tr>\n",
       "      <th>0</th>\n",
       "      <td>57264</td>\n",
       "      <td>9</td>\n",
       "      <td>Ms. LOREN MOONEY (Editor-in-Chief, Bicycling M...</td>\n",
       "      <td>It's a 2,200-mile race. To give some sense of ...</td>\n",
       "    </tr>\n",
       "    <tr>\n",
       "      <th>1</th>\n",
       "      <td>57264</td>\n",
       "      <td>10</td>\n",
       "      <td>Ms. LOREN MOONEY (Editor-in-Chief, Bicycling M...</td>\n",
       "      <td>So for a top competitor like Lance to try to m...</td>\n",
       "    </tr>\n",
       "    <tr>\n",
       "      <th>2</th>\n",
       "      <td>57264</td>\n",
       "      <td>11</td>\n",
       "      <td>NEAL CONAN, host</td>\n",
       "      <td>So in every team, presumably there's one star,...</td>\n",
       "    </tr>\n",
       "    <tr>\n",
       "      <th>3</th>\n",
       "      <td>57264</td>\n",
       "      <td>12</td>\n",
       "      <td>Ms. LOREN MOONEY (Editor-in-Chief, Bicycling M...</td>\n",
       "      <td>That's right. Each team has nine riders. And w...</td>\n",
       "    </tr>\n",
       "    <tr>\n",
       "      <th>4</th>\n",
       "      <td>57264</td>\n",
       "      <td>13</td>\n",
       "      <td>NEAL CONAN, host</td>\n",
       "      <td>So slipstream, this is like drafting in car ra...</td>\n",
       "    </tr>\n",
       "  </tbody>\n",
       "</table>\n",
       "</div>"
      ],
      "text/plain": [
       "   episode  episode_order                                            speaker  \\\n",
       "0    57264              9  Ms. LOREN MOONEY (Editor-in-Chief, Bicycling M...   \n",
       "1    57264             10  Ms. LOREN MOONEY (Editor-in-Chief, Bicycling M...   \n",
       "2    57264             11                                   NEAL CONAN, host   \n",
       "3    57264             12  Ms. LOREN MOONEY (Editor-in-Chief, Bicycling M...   \n",
       "4    57264             13                                   NEAL CONAN, host   \n",
       "\n",
       "                                           utterance  \n",
       "0  It's a 2,200-mile race. To give some sense of ...  \n",
       "1  So for a top competitor like Lance to try to m...  \n",
       "2  So in every team, presumably there's one star,...  \n",
       "3  That's right. Each team has nine riders. And w...  \n",
       "4  So slipstream, this is like drafting in car ra...  "
      ]
     },
     "execution_count": 19,
     "metadata": {},
     "output_type": "execute_result"
    }
   ],
   "source": [
    "# read in primary utterances csv for dataframe\n",
    "df = pd.read_csv('./utterances.csv')\n",
    "df.head()"
   ]
  },
  {
   "cell_type": "code",
   "execution_count": 20,
   "metadata": {},
   "outputs": [
    {
     "data": {
      "text/plain": [
       "19633    569\n",
       "35108    552\n",
       "57481    539\n",
       "73336    492\n",
       "66523    480\n",
       "        ... \n",
       "80400      1\n",
       "61102      1\n",
       "88047      1\n",
       "73497      1\n",
       "92554      1\n",
       "Name: episode, Length: 104920, dtype: int64"
      ]
     },
     "execution_count": 20,
     "metadata": {},
     "output_type": "execute_result"
    }
   ],
   "source": [
    "# find utterance count per episode\n",
    "df.episode.value_counts()"
   ]
  },
  {
   "cell_type": "code",
   "execution_count": 21,
   "metadata": {},
   "outputs": [
    {
     "data": {
      "text/plain": [
       "1357"
      ]
     },
     "execution_count": 21,
     "metadata": {},
     "output_type": "execute_result"
    }
   ],
   "source": [
    "# find utterance count per episode\n",
    "test = df.episode.value_counts() < 2\n",
    "test.sum()"
   ]
  },
  {
   "cell_type": "code",
   "execution_count": 22,
   "metadata": {},
   "outputs": [
    {
     "data": {
      "text/html": [
       "<div>\n",
       "<style scoped>\n",
       "    .dataframe tbody tr th:only-of-type {\n",
       "        vertical-align: middle;\n",
       "    }\n",
       "\n",
       "    .dataframe tbody tr th {\n",
       "        vertical-align: top;\n",
       "    }\n",
       "\n",
       "    .dataframe thead th {\n",
       "        text-align: right;\n",
       "    }\n",
       "</style>\n",
       "<table border=\"1\" class=\"dataframe\">\n",
       "  <thead>\n",
       "    <tr style=\"text-align: right;\">\n",
       "      <th></th>\n",
       "      <th>id</th>\n",
       "      <th>program</th>\n",
       "      <th>title</th>\n",
       "      <th>episode_date</th>\n",
       "    </tr>\n",
       "  </thead>\n",
       "  <tbody>\n",
       "    <tr>\n",
       "      <th>0</th>\n",
       "      <td>98814</td>\n",
       "      <td>Morning Edition</td>\n",
       "      <td>Senate Ushers In New Year With 'Fiscal Cliff' ...</td>\n",
       "      <td>2013-01-01</td>\n",
       "    </tr>\n",
       "    <tr>\n",
       "      <th>1</th>\n",
       "      <td>98824</td>\n",
       "      <td>Morning Edition</td>\n",
       "      <td>Cheap Bubbly Or Expensive Sparkling Wine? Look...</td>\n",
       "      <td>2012-12-31</td>\n",
       "    </tr>\n",
       "    <tr>\n",
       "      <th>2</th>\n",
       "      <td>98821</td>\n",
       "      <td>Morning Edition</td>\n",
       "      <td>U.S. Gas Prices Reach Record Level In 2012</td>\n",
       "      <td>2013-01-01</td>\n",
       "    </tr>\n",
       "    <tr>\n",
       "      <th>3</th>\n",
       "      <td>98806</td>\n",
       "      <td>Morning Edition</td>\n",
       "      <td>House Approves 'Fiscal Cliff' Measure</td>\n",
       "      <td>2013-01-02</td>\n",
       "    </tr>\n",
       "    <tr>\n",
       "      <th>4</th>\n",
       "      <td>98823</td>\n",
       "      <td>Morning Edition</td>\n",
       "      <td>The Fiscal Cliff: A Love Story</td>\n",
       "      <td>2012-12-31</td>\n",
       "    </tr>\n",
       "  </tbody>\n",
       "</table>\n",
       "</div>"
      ],
      "text/plain": [
       "      id          program                                              title  \\\n",
       "0  98814  Morning Edition  Senate Ushers In New Year With 'Fiscal Cliff' ...   \n",
       "1  98824  Morning Edition  Cheap Bubbly Or Expensive Sparkling Wine? Look...   \n",
       "2  98821  Morning Edition         U.S. Gas Prices Reach Record Level In 2012   \n",
       "3  98806  Morning Edition              House Approves 'Fiscal Cliff' Measure   \n",
       "4  98823  Morning Edition                     The Fiscal Cliff: A Love Story   \n",
       "\n",
       "  episode_date  \n",
       "0   2013-01-01  \n",
       "1   2012-12-31  \n",
       "2   2013-01-01  \n",
       "3   2013-01-02  \n",
       "4   2012-12-31  "
      ]
     },
     "execution_count": 22,
     "metadata": {},
     "output_type": "execute_result"
    }
   ],
   "source": [
    "# pull in episodes df\n",
    "ep_df = pd.read_csv('./episodes.csv')\n",
    "ep_df.head()"
   ]
  },
  {
   "cell_type": "code",
   "execution_count": 23,
   "metadata": {},
   "outputs": [
    {
     "data": {
      "text/plain": [
       "[\"Good morning. I'm David Greene. Here's the weather forecast for Albuquerque, New Mexico today - cloudy with a chance of grasshoppers. Yes, that's right. The animals are swarming the city so densely, local radar is mistaking them for rain crowds. These insects are hovering in masses as high as a thousand feet up. Officials say this is the worst infestation in 20 years, but it should pass soon. With any luck, it will go back to raining rain - helping to clean up the mess left behind by these grasshoppers. You're listening to MORNING EDITION.\"]"
      ]
     },
     "execution_count": 23,
     "metadata": {},
     "output_type": "execute_result"
    }
   ],
   "source": [
    "# check episode content to see if it matches episode id\n",
    "df[df.episode == 92554].utterance.to_list()"
   ]
  },
  {
   "cell_type": "code",
   "execution_count": 24,
   "metadata": {},
   "outputs": [
    {
     "data": {
      "text/plain": [
       "[\"Albuquerque's Weather? Cloudy With A Chance of Grasshoppers\"]"
      ]
     },
     "execution_count": 24,
     "metadata": {},
     "output_type": "execute_result"
    }
   ],
   "source": [
    "# check ep_df.id = df.episode\n",
    "ep_df[ep_df.id == 92554].title.to_list()"
   ]
  },
  {
   "cell_type": "markdown",
   "metadata": {},
   "source": [
    "### Initial takeaways\n",
    "There are episodes with one utterance, showing less interview setting and more reporting.\n",
    "\n",
    "ep_df.id == df.episode"
   ]
  },
  {
   "cell_type": "code",
   "execution_count": null,
   "metadata": {},
   "outputs": [],
   "source": []
  }
 ],
 "metadata": {
  "interpreter": {
   "hash": "38cca0c38332a56087b24af0bc80247f4fced29cb4f7f437d91dc159adec9c4e"
  },
  "kernelspec": {
   "display_name": "Python 3.8.8 ('base')",
   "language": "python",
   "name": "python3"
  },
  "language_info": {
   "codemirror_mode": {
    "name": "ipython",
    "version": 3
   },
   "file_extension": ".py",
   "mimetype": "text/x-python",
   "name": "python",
   "nbconvert_exporter": "python",
   "pygments_lexer": "ipython3",
   "version": "3.8.8"
  },
  "orig_nbformat": 4
 },
 "nbformat": 4,
 "nbformat_minor": 2
}
